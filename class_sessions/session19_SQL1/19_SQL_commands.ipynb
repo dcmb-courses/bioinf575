{
 "cells": [
  {
   "cell_type": "markdown",
   "metadata": {},
   "source": [
    "## SQL - Major SQL commands\n",
    "### BIOINF 575 - Fall 2023"
   ]
  },
  {
   "cell_type": "markdown",
   "metadata": {},
   "source": [
    "##### RESOURCES\n",
    "https://sqlite.org/index.html    \n",
    "https://www.sqlite.org/fullsql.html  \n",
    "https://docs.python.org/3/library/sqlite3.html  \n",
    "https://www.sqlite.org/lang_aggfunc.html  \n",
    "https://www.sqlitetutorial.net/sqlite-create-table/    \n",
    "https://www.sqlite.org/syntaxdiagrams.html    \n",
    "https://www.tutorialspoint.com/python_network_programming/python_databases_and_sql.htm  \n",
    "https://www.tutorialspoint.com/python/python_database_access.htm  \n",
    "https://www.python-course.eu/sql_python.php  \n",
    "https://www.sqlalchemy.org/library.html#reference    \n",
    "https://docs.sqlalchemy.org/en/13/orm/  \n",
    "https://docs.sqlalchemy.org/en/14/orm/tutorial.html#version-check  \n",
    "https://towardsdatascience.com/sql-in-python-for-beginners-b9a4f9293ecf  \n",
    "https://database.guide/2-sample-databases-sqlite/\n",
    "https://www.sqlitetutorial.net/sqlite-sample-database/"
   ]
  },
  {
   "cell_type": "markdown",
   "metadata": {
    "jp-MarkdownHeadingCollapsed": true,
    "tags": []
   },
   "source": [
    "#### What is a database? \n",
    "\n",
    "* Is an organized collection of data (files)\n",
    "* A way to store and retrieve that information\n",
    "* A relational database is structured to recognize relations between the data elements\n",
    "\n",
    "\n",
    "*  A collection of data\n",
    "\n",
    "        * Dictionary\n",
    "            {\"EGFR\":6.8, \"MYC\": 4.5, \"WNT1\":11.7}\n",
    "\n",
    "        * Tab-separated text file, or pd.DataFrame\n",
    "\n",
    "\n",
    "| GeneID  | GeneSymbol  | ExpressionValue  |\n",
    "|---------|-------------|------------------|\n",
    "| 7471    | WNT1        |             11.7 |\n",
    "| 4609    | MYC         |              4.5 |\n",
    "| 1956    | EGFR        |              6.8 |\n",
    "\n",
    "\n",
    "Entity-Relationship Diagram - shows the relations between tables in a relational database\n",
    "- tables are connected by fields (columns) that are common - called keys\n",
    "\n",
    "https://www.howtoexcel.org/how-to-create-table-relationships/\n",
    "\n",
    "<img src = https://cdn-5a6cb102f911c811e474f1cd.closte.com/wp-content/uploads/2017/10/Orders-and-Customer-Table.png width = 450 />\n",
    "\n",
    "Relationship diagram as shown by the Relational Database Management Systems (RDBM)\n",
    "\n",
    "http://dcm.uhcl.edu/yue/courses/itec3335/Fall2017/notes/model/ERModel.html\n",
    "\n",
    "<img src = http://dcm.uhcl.edu/yue/courses/itec3335/Fall2017/notes/model/toyu_relationship.jpg width = 600 />\n",
    "\n",
    "\n",
    "\n",
    "More examples:\n",
    "\n",
    "https://www.sqlitetutorial.net/wp-content/uploads/2015/11/sqlite-sample-database-color.jpg      \n",
    "https://upload.wikimedia.org/wikipedia/commons/b/b8/Sql_hospital.png      \n",
    "https://www.researchgate.net/profile/Adam_Richards3/publication/282134102/figure/fig3/AS:289128232046602@1445944950296/Database-entity-diagram-Data-collected-from-NCBI-the-Gene-Ontology-and-UniProt-are.png      \n",
    "\n",
    "\n",
    "\n",
    "\n",
    "#### Relational Database Management Systems (RDBMS)\n",
    "* Software programs such as Oracle, MySQL, SQLServer, DB2, postgreSQL, SQLite \n",
    "* They handle the data storage, indexing, logging, tracking and security (access)  \n",
    "* They have a very fine-grained way of granting permissions to users at the level of commands that may be used\n",
    "    * Create a database\n",
    "    * Create a table\n",
    "    * Update or insert data\n",
    "    * View certain tables ... and many more   \n",
    "* An important part of learning databases is to understand the type of data which is stored in columns and rows.  \n",
    "* Likewise when we get to the database design section, it is critically important to know what type of data you will be modeling and storing (and roughly how much, in traditional systems) \n",
    "* Exactly which types are available depends on the database system\n",
    "\n",
    "\n",
    "\n",
    "#### Why use databases and Relational Database Management Systems?\n",
    "* Easy, efficient, secure, collaborative management of data that maintains data integrity\n",
    "\n",
    "#### What is the Structured Query Language (SQL) ?\n",
    "* SQL is the standard language for relational database management systems\n",
    "* SQL is used to communicate with a database\n",
    "\n",
    "#### Why SQLite?\n",
    "SQLite is a C library that provides a lightweight disk-based database that doesn’t require a separate server process and allows accessing the database using a nonstandard variant of the SQL query language. Some applications can use SQLite for internal data storage. \n",
    "* SQLite is often the technology of choice for small applications, particularly those of embedded systems and devices like phones and tablets, smart appliances, and instruments.\n",
    "* It’s also possible to prototype an application using SQLite and then port the code to a larger database such as PostgreSQL or Oracle.\n",
    "\n",
    "#### Integrated Development Environment (IDE)\n",
    "\n",
    "There are many tools:      \n",
    "##### https://dbeaver.io - recommended, please install it for the next session\n",
    "\n",
    "<img src = https://github.com/dbeaver/dbeaver/wiki/images/ug/SQL-Editor.png width = 600/>\n",
    "\n",
    "https://github.com/dbeaver/dbeaver/wiki/SQL-Editor\n",
    "\n",
    "Other IDE tools:    \n",
    "https://www.adminer.org    \n",
    "https://razorsql.com\n",
    "https://sqlitebrowser.org    \n",
    "https://towardsdatascience.com/10-best-sql-editor-tools-in-the-market-126acd64ba06    \n",
    "https://learnsql.com/blog/best-sql-editor/     \n",
    "\n",
    "\n",
    "#### sqlite3\n",
    "The sqlite3 module in the Python standard library provides a SQL interface to communicate with databases.<br>\n",
    "https://docs.python.org/3/library/sqlite3.html\n",
    "\n",
    "Once you have a `Connection`, you can create a `Cursor` object and call its execute() method to perform SQL commands.\n",
    "\n",
    "`Cursor` objects represent a database cursor, which is used to manage the context of a fetch/retrieval operation.  \n",
    "A call to the `Cursor`'s execute() method is used to perform SQL commands.\n",
    "\n",
    "#### SQLite uses a greatly simplified set of data types:\n",
    "* INTEGER - numeric\n",
    "* REAL - numeric\n",
    "* TEXT – text of any length\n",
    "    * Dates are held as text\n",
    "* BLOB – binary large objects\n",
    "    * Such as images"
   ]
  },
  {
   "cell_type": "markdown",
   "metadata": {},
   "source": [
    "#### The data\n",
    "\n",
    "https://datacarpentry.org/python-ecology-lesson/\n",
    "\n",
    "Download the database file `portal_mammals.sqlite` from:   \n",
    "https://datacarpentry.org/python-ecology-lesson/setup.html      \n",
    "\"     \n",
    "The data we will be using is a time-series for a small mammal community in southern Arizona.    \n",
    "This is part of a project studying the effects of rodents and ants on the plant community that has been running for almost 40 years.    \n",
    "The rodents are sampled on a series of 24 plots, with different experimental manipulations controlling which rodents are allowed to access which plots.    \n",
    "\"   \n",
    "https://datacarpentry.org/sql-ecology-lesson/00-sql-introduction/index.html\n"
   ]
  },
  {
   "cell_type": "code",
   "execution_count": null,
   "metadata": {},
   "outputs": [],
   "source": [
    "# bring into the environment the  functionality that \n",
    "# can be used to connect to a database\n",
    "\n",
    "from sqlite3 import connect\n",
    "\n",
    "'''    \n",
    "    Establish a connection to the database.\n",
    "    This statement creates the file at the given path if it does not exist and that will be an empty database.\n",
    "    The file was provided in this case so the statement should just establish the connection.\n",
    "'''\n",
    "\n",
    "# create a connection object to be able to acceess the database\n",
    "\n",
    "connection = connect('portal_mammals.sqlite')\n",
    "\n",
    "# create a cursor to interact with the database and \n",
    "# send commands to the database \n",
    "\n",
    "cursor = connection.cursor()\n"
   ]
  },
  {
   "cell_type": "markdown",
   "metadata": {},
   "source": [
    "#### The cursor and the connection should be closed when we no loger run queries.\n",
    "```python\n",
    "cursor.close()\n",
    "connection.close()\n",
    "```\n",
    "\n",
    "We are still using them so we keep them open for now.     \n",
    "After we close them, we should run the above cell again to reestablish the access to the database."
   ]
  },
  {
   "cell_type": "code",
   "execution_count": null,
   "metadata": {},
   "outputs": [],
   "source": [
    "# what is the type of the connection object?\n",
    "\n",
    "type(connection)\n"
   ]
  },
  {
   "cell_type": "code",
   "execution_count": null,
   "metadata": {},
   "outputs": [],
   "source": [
    "# what can the connection object do? \n",
    "# look at only for non __ methods and attributes\n",
    "\n",
    "[elem for elem in dir(connection) if not elem.startswith(\"__\")]"
   ]
  },
  {
   "cell_type": "code",
   "execution_count": null,
   "metadata": {},
   "outputs": [],
   "source": [
    "# what is the type of the cursor object?\n",
    "\n"
   ]
  },
  {
   "cell_type": "code",
   "execution_count": null,
   "metadata": {},
   "outputs": [],
   "source": [
    "# what can the cursor object do? \n",
    "# look at only for non __ methods and attributes\n",
    "\n"
   ]
  },
  {
   "cell_type": "code",
   "execution_count": null,
   "metadata": {},
   "outputs": [],
   "source": []
  },
  {
   "cell_type": "markdown",
   "metadata": {},
   "source": [
    "____\n",
    "\n",
    "#### Major SQL commands: SELECT, INSERT, DELETE, UPDATE\n",
    "\n",
    "____ \n",
    "\n",
    "#### SELECT - Retrieves data from one or more tables and doesn’t change the data at all \n",
    "\n",
    "<img src = http://www.tutorialscan.com/wp-content/uploads/2018/04/sql_select.jpg width = 300 />\n",
    "\n",
    "http://www.tutorialscan.com/wp-content/uploads/2018/04/sql_select.jpg\n",
    "\n",
    "#### A more complex diagram with all the options is available at:\n",
    "#### https://www.sqlite.org/syntaxdiagrams.html#select-stmt\n",
    "\n",
    "#### Description of each of the options:\n",
    "* **SELECT**  * (means all columns), or the comma separated names of the columns of data you wish to return\n",
    "    * Returns columns (left to right) in the order received. \n",
    "    * '*' selects ALL rows and ALL columns and returns them by column order and row_id\n",
    "* **FROM** is the table source or sources (comma separated)\n",
    "* **WHERE** (optional)** is the predicate clause: conditions for the query\n",
    "    * Evaluates to True or False for each row\n",
    "    * This clause almost always includes Column-Value pairs.\n",
    "    * Omitting the Where clause returns ALL the records in that table.\n",
    "    * Note: the match is case sensitive\n",
    "* **ORDER BY (optional)** indicates a sort order for the output data \n",
    "    * default is row_id, which can be very non-intuitive  \n",
    "    * ASCending or DESCending can be appended to change the sort order.  (ASC is default)\n",
    "* **GROUP BY (optional)** groups by a column and creates summary data for a different column\n",
    "* **HAVING (optional)** allows restrictions on the rows selected\n",
    "    * a GROUP BY clause is required before HAVING\n",
    "* **LIMIT (optional)** reduces the number of rows retrieved to the number provided after this clause\n",
    "* In most SQL clients, the \";\" indicates the end of a statement and requests execution\n"
   ]
  },
  {
   "cell_type": "code",
   "execution_count": null,
   "metadata": {},
   "outputs": [],
   "source": [
    "# In every SQLite database, there is a special table: sqlite_master\n",
    "# sqlite_master -  describes the contents of the database\n",
    "\n",
    "# the SQL command can be ran as is when using a Integrated Development Environment \n",
    "# e.g. DBeaver\n",
    "\n",
    "sql = '''\n",
    "SELECT type, name \n",
    "FROM sqlite_master LIMIT 5;'''\n",
    "cursor.execute(sql)"
   ]
  },
  {
   "cell_type": "code",
   "execution_count": null,
   "metadata": {},
   "outputs": [],
   "source": [
    "list(cursor)"
   ]
  },
  {
   "cell_type": "code",
   "execution_count": null,
   "metadata": {},
   "outputs": [],
   "source": [
    "# look at the help of the fetchall method for the cursor \n",
    "help(cursor.fetchall)"
   ]
  },
  {
   "cell_type": "code",
   "execution_count": null,
   "metadata": {},
   "outputs": [],
   "source": []
  },
  {
   "cell_type": "code",
   "execution_count": null,
   "metadata": {},
   "outputs": [],
   "source": [
    "sql = '''\n",
    "SELECT name,type \n",
    "FROM sqlite_master;\n",
    "'''\n",
    "cursor.execute(sql)\n",
    "cursor.fetchall()"
   ]
  },
  {
   "cell_type": "code",
   "execution_count": null,
   "metadata": {
    "tags": []
   },
   "outputs": [],
   "source": [
    "sql = '''\n",
    "SELECT name,type \n",
    "FROM sqlite_master;\n",
    "'''\n",
    "cursor.execute(sql)\n",
    "\n",
    "# use a for loop to get the rows in the result one by one\n",
    "for row in cursor: \n",
    "    print(row)"
   ]
  },
  {
   "cell_type": "code",
   "execution_count": null,
   "metadata": {},
   "outputs": [],
   "source": [
    "sql = '''\n",
    "SELECT name,type \n",
    "FROM sqlite_master;\n",
    "'''\n",
    "cursor.execute(sql)\n",
    "\n",
    "# use fetchone retrieve just one row from the results\n",
    "cursor.fetchone()"
   ]
  },
  {
   "cell_type": "code",
   "execution_count": null,
   "metadata": {},
   "outputs": [],
   "source": [
    "# See the result header\n",
    "\n",
    "cursor.description"
   ]
  },
  {
   "cell_type": "code",
   "execution_count": null,
   "metadata": {},
   "outputs": [],
   "source": [
    "def get_header(cursor):\n",
    "    '''\n",
    "    Makes a tab delimited header row from the cursor description.\n",
    "    Arguments:\n",
    "        cursor: a cursor after a select query\n",
    "    Returns:\n",
    "        string: A string consisting of the column names separated by tabs, no new line\n",
    "    '''\n",
    "    return '\\t'.join([row[0] for row in cursor.description])\n"
   ]
  },
  {
   "cell_type": "code",
   "execution_count": null,
   "metadata": {},
   "outputs": [],
   "source": [
    "get_header(cursor)"
   ]
  },
  {
   "cell_type": "code",
   "execution_count": null,
   "metadata": {},
   "outputs": [],
   "source": [
    "print(get_header(cursor))"
   ]
  },
  {
   "cell_type": "code",
   "execution_count": null,
   "metadata": {},
   "outputs": [],
   "source": []
  },
  {
   "cell_type": "code",
   "execution_count": null,
   "metadata": {},
   "outputs": [],
   "source": []
  },
  {
   "cell_type": "markdown",
   "metadata": {},
   "source": [
    "#### Different ways to retrieve results - observe the different data structures displayed"
   ]
  },
  {
   "cell_type": "code",
   "execution_count": null,
   "metadata": {},
   "outputs": [],
   "source": [
    "# we already have the query in the sql variable\n",
    "\n",
    "sql"
   ]
  },
  {
   "cell_type": "code",
   "execution_count": null,
   "metadata": {},
   "outputs": [],
   "source": [
    "# See the result\n",
    "\n",
    "cursor.execute(sql)\n",
    "print(\"Iterate through the cursor:\")\n",
    "for row in cursor: \n",
    "    print(row)\n",
    "    \n",
    "print()\n",
    "\n",
    "cursor.execute(sql)\n",
    "print(\"Use the Cursor fetchall() method:\")\n",
    "cursor.fetchall()"
   ]
  },
  {
   "cell_type": "code",
   "execution_count": null,
   "metadata": {},
   "outputs": [],
   "source": [
    "# note that if you have a large result \n",
    "# this function will try to make a very large string from it\n",
    "# so it is recommended for results with less than 10 rows and 10 columns\n",
    "# for other cases use the for loop to go through the rows in the result \n",
    "\n",
    "def get_results(cursor):\n",
    "    '''\n",
    "    Makes a tab delimited table from the cursor results.\n",
    "    Arguments:\n",
    "        cursor: a cursor after a select query\n",
    "    Returns:\n",
    "        string: A string consisting of the column names separated by tabs, no new line\n",
    "    ''' \n",
    "    res = list()\n",
    "    for row in cursor.fetchall():        \n",
    "        res.append('\\t'.join(list(map(str,row))))\n",
    "    return \"\\n\".join(res)"
   ]
  },
  {
   "cell_type": "code",
   "execution_count": null,
   "metadata": {},
   "outputs": [],
   "source": [
    "# use the functions we created for a nice display of the results\n",
    "\n",
    "cursor.execute(sql)\n",
    "\n",
    "print(get_header(cursor))\n",
    "print(get_results(cursor))"
   ]
  },
  {
   "cell_type": "markdown",
   "metadata": {},
   "source": [
    "##### WHERE clause example (-- denotes comment)"
   ]
  },
  {
   "cell_type": "code",
   "execution_count": null,
   "metadata": {},
   "outputs": [],
   "source": [
    "# more examples with comments later\n",
    "# in the WHERE clause we put conditions to filter the data\n",
    "\n",
    "sql = '''\n",
    "SELECT name\n",
    "FROM sqlite_master \n",
    "WHERE type = \"table\"; -- condition that allows the selection of specific rows\n",
    "'''\n",
    "cursor.execute(sql)\n",
    "print(get_header(cursor))\n",
    "print(get_results(cursor))"
   ]
  },
  {
   "cell_type": "code",
   "execution_count": null,
   "metadata": {},
   "outputs": [],
   "source": [
    "# Selects all columns (*) of the species table \n",
    "# retrieves only 10 rows due to the LIMIT clause\n",
    "# The first column is the species id\n",
    "\n",
    "sql = '''\n",
    "SELECT *\n",
    "FROM species LIMIT 20;\n",
    "'''\n",
    "cursor.execute(sql)\n",
    "print(get_header(cursor))\n",
    "print(get_results(cursor))"
   ]
  },
  {
   "cell_type": "markdown",
   "metadata": {},
   "source": [
    "##### Aliasing column names to make them easier to understand \n",
    "- add a new name for a column next to the column name using quotes if the alias contains spaces, the AS keyword can also be used\n",
    "    - e.g.: column_name AS \"Alias name\"\n",
    "    - e.g.: column_name \"Alias name\"\n",
    "    - e.g.: column_name Alias_name"
   ]
  },
  {
   "cell_type": "code",
   "execution_count": null,
   "metadata": {},
   "outputs": [],
   "source": [
    "# example of aliasing columns\n",
    "\n",
    "sql = '''\n",
    "SELECT species_id ID, species as \"Species Name\"\n",
    "FROM species LIMIT 5;\n",
    "'''\n",
    "cursor.execute(sql)\n",
    "print(get_header(cursor))\n",
    "print(get_results(cursor))"
   ]
  },
  {
   "cell_type": "code",
   "execution_count": null,
   "metadata": {},
   "outputs": [],
   "source": [
    "# we can use aggregate functions to summarize data\n",
    "# COUNT returns a single number, which is the count of all rows in the table\n",
    "\n",
    "sql = '''\n",
    "SELECT count(*) FROM species;\n",
    "'''\n",
    "cursor.execute(sql)\n",
    "print(get_header(cursor))\n",
    "print(get_results(cursor))"
   ]
  },
  {
   "cell_type": "code",
   "execution_count": null,
   "metadata": {},
   "outputs": [],
   "source": [
    "sql = '''\n",
    "SELECT count(species_id) AS 'Number of species' \n",
    "FROM species;\n",
    "'''\n",
    "cursor.execute(sql)\n",
    "print(get_header(cursor))\n",
    "print(get_results(cursor))"
   ]
  },
  {
   "cell_type": "code",
   "execution_count": null,
   "metadata": {},
   "outputs": [],
   "source": [
    "# select first 50 rows from the surveys table - all columns\n",
    "\n"
   ]
  },
  {
   "cell_type": "code",
   "execution_count": null,
   "metadata": {},
   "outputs": [],
   "source": [
    "sql = '''\n",
    "SELECT * \n",
    "FROM surveys\n",
    "LIMIT 20;\n",
    "'''\n",
    "cursor.execute(sql)\n",
    "print(get_header(cursor))\n",
    "print(get_results(cursor))"
   ]
  },
  {
   "cell_type": "code",
   "execution_count": null,
   "metadata": {},
   "outputs": [],
   "source": [
    "# DISTINCT selects  non-duplicated elements (rows)\n",
    "\n",
    "sql = '''\n",
    "SELECT month, year FROM surveys LIMIT 5;\n",
    "'''\n",
    "cursor.execute(sql)\n",
    "print(get_header(cursor))\n",
    "print(get_results(cursor))\n",
    "\n",
    "print()\n",
    "\n",
    "sql = '''\n",
    "SELECT DISTINCT month, year FROM surveys LIMIT 5;\n",
    "'''\n",
    "cursor.execute(sql)\n",
    "print(get_header(cursor))\n",
    "print(get_results(cursor))"
   ]
  },
  {
   "cell_type": "code",
   "execution_count": null,
   "metadata": {},
   "outputs": [],
   "source": [
    "# Other aggregate functions are available for numerical columns\n",
    "# https://www.sqlite.org/lang_aggfunc.html\n",
    "# comments are added using -- in front of the test to comment or using /* comment */ \n",
    "\n",
    "sql = '''\n",
    "SELECT MAX(DISTINCT plot_id) MIN_PID FROM surveys; -- comment LIMIT 5; /* comment */\n",
    "'''\n",
    "cursor.execute(sql)\n",
    "print(get_header(cursor))\n",
    "print(get_results(cursor))\n",
    "\n"
   ]
  },
  {
   "cell_type": "code",
   "execution_count": null,
   "metadata": {},
   "outputs": [],
   "source": [
    "# count the number of rows in surveys\n",
    "\n"
   ]
  },
  {
   "cell_type": "code",
   "execution_count": null,
   "metadata": {},
   "outputs": [],
   "source": []
  },
  {
   "cell_type": "code",
   "execution_count": null,
   "metadata": {},
   "outputs": [],
   "source": [
    "# count the number of distinct years in surveys\n",
    "\n"
   ]
  },
  {
   "cell_type": "code",
   "execution_count": null,
   "metadata": {},
   "outputs": [],
   "source": []
  },
  {
   "cell_type": "markdown",
   "metadata": {},
   "source": [
    "#### WHERE clause operators\n",
    "https://www.sqlite.org/lang_expr.html\n",
    "\n",
    "<> ,  != \tinequality <br>\n",
    "<\t\t\tless than <br>\n",
    "<= \t\t\tless than or equal <br>\n",
    "=\t\t\tequal <br>\n",
    "'>\t\t\tgreater than <br>\n",
    "'>= \t\tgreater than or equal <br>\n",
    "BETWEEN v1 AND v2\ttests that a value to lies in a given range <br>\n",
    "EXISTS\t\ttest for existence of rows matching query <br>\n",
    "IN\t\t\ttests if a value falls within a given set or query <br>\n",
    "IS [ NOT ] NULL\tis or is not null <br>\n",
    "[ NOT ] LIKE\t\ttests value to see if like or not like another <br>\n",
    "\n",
    "% is the wildcard in SQL, used in conjunction with LIKE\n",
    "\n"
   ]
  },
  {
   "cell_type": "markdown",
   "metadata": {},
   "source": [
    "........................................................................\n",
    "\n",
    "Merriam's kangaroo rat (Dipodomys merriami - DM)\n",
    "\n",
    "<img src = https://upload.wikimedia.org/wikipedia/commons/thumb/a/a4/Merriam%27s_Kangaroo_Rat.jpg/440px-Merriam%27s_Kangaroo_Rat.jpg width = 120 />\n",
    "\n",
    "https://en.wikipedia.org/wiki/Merriam%27s_kangaroo_rat      \n",
    "........................................................................"
   ]
  },
  {
   "cell_type": "code",
   "execution_count": null,
   "metadata": {},
   "outputs": [],
   "source": [
    "# we can put multiple conditions in the  where clause \n",
    "# combine conditions with AND, OR\n",
    "# let's see the DM rats that have a weight < 40 and were seen on a specific plot in 1990\n",
    "\n",
    "sql = '''\n",
    "SELECT * FROM surveys \n",
    "WHERE plot_id = '11' AND species_id = \"DM\" AND weight < 40 AND year = 1990;\n",
    "'''\n",
    "cursor.execute(sql)\n",
    "print(get_header(cursor))\n",
    "print(get_results(cursor))"
   ]
  },
  {
   "cell_type": "code",
   "execution_count": null,
   "metadata": {},
   "outputs": [],
   "source": [
    "sql = '''\n",
    "SELECT * FROM surveys \n",
    "WHERE species_id IN (\"DS\", \"DM\", \"PF\") AND\n",
    "      plot_id IN (10, 11) AND\n",
    "      year IN (1980, 1983) AND \n",
    "      month IN (1,3) AND\n",
    "      sex = \"M\";\n",
    "'''\n",
    "cursor.execute(sql)\n",
    "print(get_header(cursor))\n",
    "print(get_results(cursor))"
   ]
  },
  {
   "cell_type": "code",
   "execution_count": null,
   "metadata": {},
   "outputs": [],
   "source": [
    "sql = '''\n",
    "SELECT * FROM surveys \n",
    "WHERE species_id = 'DM' AND \n",
    "      weight BETWEEN 30 AND 40 AND\n",
    "      plot_id BETWEEN 6 AND 8 AND\n",
    "      year BETWEEN 1989 AND 1990;\n",
    "'''\n",
    "cursor.execute(sql)\n",
    "print(get_header(cursor))\n",
    "print(get_results(cursor))"
   ]
  },
  {
   "cell_type": "code",
   "execution_count": null,
   "metadata": {},
   "outputs": [],
   "source": [
    "# LIKE allows you to look for patterns\n",
    "\n",
    "sql = '''\n",
    "SELECT * \n",
    "FROM species \n",
    "WHERE genus LIKE '%per%'; -- not case sensitive\n",
    "'''\n",
    "cursor.execute(sql)\n",
    "print(get_header(cursor))\n",
    "print(get_results(cursor))"
   ]
  },
  {
   "cell_type": "code",
   "execution_count": null,
   "metadata": {},
   "outputs": [],
   "source": [
    "# Retrieve rows from surveys where the species_id is DM \n",
    "# and has been seen in 1990 or 1995 in June-August on plot 1\n",
    "\n",
    "\n"
   ]
  },
  {
   "cell_type": "code",
   "execution_count": null,
   "metadata": {},
   "outputs": [],
   "source": []
  },
  {
   "cell_type": "code",
   "execution_count": null,
   "metadata": {},
   "outputs": [],
   "source": [
    "# ORDER BY (optional) - indicates a sort order given by a column in the the output data and the sort order: ASC or DESC\n",
    "\n",
    "sql = '''\n",
    "SELECT *\n",
    "FROM surveys \n",
    "WHERE month = 6 AND year = 1983 AND sex = \"F\" AND plot_id BETWEEN 10 AND 20\n",
    "ORDER BY plot_id  ASC, species_id DESC\n",
    "--LIMIT 20;\n",
    "'''\n",
    "cursor.execute(sql)\n",
    "print(get_header(cursor))\n",
    "print(get_results(cursor))"
   ]
  },
  {
   "cell_type": "markdown",
   "metadata": {},
   "source": [
    "The PRAGMA statement is an SQL extension specific to SQLite and used to modify the operation of the SQLite library or to query the SQLite library for internal (non-table) data.\n",
    "https://www.sqlite.org/pragma.html"
   ]
  },
  {
   "cell_type": "markdown",
   "metadata": {},
   "source": [
    "____\n",
    "Sqlite3 also has some PRAGMA methods <br>\n",
    "This is an SQL extension specific to SQLite that is used to modify the operation of the SQLite library or to query the SQLite library for internal (non-table) data <br>\n",
    "https://www.sqlite.org/pragma.html <br>\n",
    "The code below shows how to get the schema (columns and columns information)"
   ]
  },
  {
   "cell_type": "code",
   "execution_count": null,
   "metadata": {},
   "outputs": [],
   "source": [
    "# get the information about the data table\n",
    "# other PRAGMA methods can provide other types of information\n",
    "\n",
    "sql = 'PRAGMA table_info(\"species\")'\n",
    "cursor.execute(sql)\n",
    "print(get_header(cursor))\n",
    "print(get_results(cursor))"
   ]
  },
  {
   "cell_type": "code",
   "execution_count": null,
   "metadata": {},
   "outputs": [],
   "source": [
    "sql = '''SELECT * FROM pragma_table_info(\"surveys\")  '''\n",
    "cursor.execute(sql)\n",
    "print(get_header(cursor))\n",
    "print(get_results(cursor))"
   ]
  },
  {
   "cell_type": "markdown",
   "metadata": {},
   "source": [
    "___"
   ]
  },
  {
   "cell_type": "code",
   "execution_count": null,
   "metadata": {},
   "outputs": [],
   "source": [
    "# SUB-QUERY - we can have a query in a query\n",
    "\n",
    "sql = '''\n",
    "SELECT *\n",
    "FROM species\n",
    "WHERE species_id IN\n",
    "    (SELECT DISTINCT species_id \n",
    "    FROM surveys\n",
    "    WHERE year = 1997 AND month = 4); \n",
    "'''\n",
    "cursor.execute(sql)\n",
    "print(get_header(cursor))\n",
    "print(get_results(cursor))"
   ]
  },
  {
   "cell_type": "code",
   "execution_count": null,
   "metadata": {},
   "outputs": [],
   "source": [
    "# GROUP BY groups by a column and creates summary data for a different column\n",
    "# count entries for each species \n",
    "\n",
    "sql = '''\n",
    "SELECT species_id ID, count(*) AS record_no\n",
    "FROM surveys \n",
    "GROUP BY species_id \n",
    "ORDER BY record_no DESC;\n",
    "'''\n",
    "cursor.execute(sql)\n",
    "print(get_header(cursor))\n",
    "print(get_results(cursor))"
   ]
  },
  {
   "cell_type": "code",
   "execution_count": null,
   "metadata": {},
   "outputs": [],
   "source": [
    "# specify column in aggregate function and alias the name of the columns\n",
    "\n",
    "sql = '''\n",
    "SELECT plot_id as \"Plot No\", count(record_id) as \"Record Number\" \n",
    "FROM surveys \n",
    "GROUP BY plot_id;\n",
    "'''\n",
    "cursor.execute(sql)\n",
    "print(get_header(cursor))\n",
    "print(get_results(cursor))"
   ]
  },
  {
   "cell_type": "code",
   "execution_count": null,
   "metadata": {},
   "outputs": [],
   "source": [
    "# HAVING allows restrictions on the rows used or selected\n",
    "# a GROUP BY clause is required before HAVING\n",
    "\n",
    "sql = '''\n",
    "SELECT plot_id as \"Plot No\", count(record_id) counts \n",
    "FROM surveys \n",
    "GROUP BY plot_id\n",
    "HAVING counts < 1000;\n",
    "'''\n",
    "cursor.execute(sql)\n",
    "print(get_header(cursor))\n",
    "print(get_results(cursor))"
   ]
  },
  {
   "cell_type": "code",
   "execution_count": null,
   "metadata": {},
   "outputs": [],
   "source": [
    "# Select month, year combinations with more than 300 records\n",
    "\n",
    "\n"
   ]
  },
  {
   "cell_type": "markdown",
   "metadata": {},
   "source": [
    "#### A `PRIMARY KEY` is a very important concept to understand.  \n",
    "* It is the designation for a column or a set of columns from a table.\n",
    "* It is recommended to be a serial value and not something related to the business needs of the data in the table.\n",
    "\n",
    "* A primary key is used to uniquely identify a row of data; combined with a column name, uniquely locates a data entry\n",
    "* A primary key by definition must be `UNIQUE` and `NOT NULL` \n",
    "* The primary key of a table, should be a (sequential) non-repeating and not null value  \n",
    "* Primary keys are generally identified at time of table creation  \n",
    "* A common method for generating a primary key, is to set the datatype to `INTEGER` and declare `AUTOINCREMENT` which will function when data is inserted into the table\n",
    "* Primary keys can be a composite of 2 or more columns that uniquely identify the data in the table\n",
    "\n"
   ]
  },
  {
   "cell_type": "markdown",
   "metadata": {},
   "source": [
    "#### A `FOREIGN KEY` is a column(s) that points to the `PRIMARY KEY` of another table \n",
    "\n",
    "* The purpose of the foreign key is to ensure referential integrity of the data. \n",
    "In other words, only values that are supposed to appear in the database are permitted.<br>\n",
    "Only the values that exist in the `PRIMARY KEY` column are allowed to be present in the FOREIGN KEY column.\n",
    "Example: A `gene` table has the `PRIMARY KEY` `gene_id`. The GO2_gene GO term is associated with a gene\n",
    "\n",
    "They are also the underpinning of how tables are joined and relationships portrayed in the database\n"
   ]
  },
  {
   "cell_type": "markdown",
   "metadata": {},
   "source": [
    "#### JOIN tables\n",
    "\n",
    "* Multiple tables contain different data that we want to retrieve from a single query\n",
    "* In order to assemble data as part of a query, a JOIN between tables is needed\n",
    "* This is a very common practice, since it’s rare for all the data you want to be in a single table\n",
    "\n",
    "\n",
    "* INNER JOIN - return only those rows where there is matching content in BOTH tables (is the default when JOIN is used)\n",
    "* OUTER JOIN - returns all rows from both tables even if one of the tables is blank\n",
    "* SELF JOIN - can be used to join a table to itself (through aliasing), to compare data internal to the table\n",
    "\n",
    "```sql\n",
    "SELECT ... FROM table1 [INNER] JOIN table2 ON conditional_expression\n",
    "```\n"
   ]
  },
  {
   "cell_type": "code",
   "execution_count": null,
   "metadata": {},
   "outputs": [],
   "source": [
    "sql = '''\n",
    "SELECT *\n",
    "FROM surveys AS sv\n",
    "INNER JOIN species AS sp\n",
    "      ON sv.species_id = sp.species_id\n",
    "WHERE plot_id = \"6\" AND \n",
    "      year = 2001 AND \n",
    "      sex = \"F\" AND \n",
    "      genus LIKE \"%on%\";\n",
    "'''\n",
    "cursor.execute(sql)\n",
    "print(get_header(cursor))\n",
    "print(get_results(cursor))"
   ]
  },
  {
   "cell_type": "markdown",
   "metadata": {},
   "source": [
    "#### See the create table statement"
   ]
  },
  {
   "cell_type": "code",
   "execution_count": null,
   "metadata": {},
   "outputs": [],
   "source": [
    "# sql column in the sqlite_master table\n",
    "\n",
    "sql = '''\n",
    "SELECT sql\n",
    "FROM sqlite_master \n",
    "WHERE type= \"table\" and name == \"species\"\n",
    "LIMIT 2;\n",
    "'''\n",
    "cursor.execute(sql)\n",
    "print(get_header(cursor))\n",
    "print(get_results(cursor))"
   ]
  },
  {
   "cell_type": "code",
   "execution_count": null,
   "metadata": {},
   "outputs": [],
   "source": []
  },
  {
   "cell_type": "markdown",
   "metadata": {},
   "source": [
    "___\n",
    "\n",
    "### CREATE TABLE  - statement\n",
    "##### <font color=\"red\"> This statement makes changes to the database</font>\n",
    "\n",
    "\n",
    "https://www.sqlitetutorial.net/sqlite-create-table/\n",
    "\n",
    "```sql\n",
    "CREATE TABLE [IF NOT EXISTS] [schema_name].table_name (\n",
    "    column_1 data_type PRIMARY KEY,\n",
    "    column_2 data_type NOT NULL,\n",
    "    column_3 data_type DEFAULT 0,\n",
    "    table_constraints\n",
    ") [WITHOUT ROWID];\n",
    "```\n",
    "\n",
    "In this syntax:\n",
    "\n",
    "* First, specify the name of the table that you want to create after the CREATE TABLE keywords. The name of the table cannot start with sqlite_ because it is reserved for the internal use of SQLite.\n",
    "* Second, use `IF NOT EXISTS` option to create a new table if it does not exist. Attempting to create a table that already exists without using the IF NOT EXISTS option will result in an error.\n",
    "* Third, optionally specify the schema_name to which the new table belongs. The schema can be the main database, temp database or any attached database.\n",
    "* Fourth, specify the column list of the table. Each column has a name, data type, and the column constraint. SQLite supports `PRIMARY KEY, UNIQUE, NOT NULL`, and `CHECK` column constraints.\n",
    "* Fifth, specify the table constraints such as PRIMARY KEY, FOREIGN KEY, UNIQUE, and CHECK constraints.\n",
    "* Finally, optionally use the `WITHOUT ROWID` option. By default, a row in a table has an implicit column, which is referred to as the rowid, oid or _rowid_ column. The rowid column stores a 64-bit signed integer key that uniquely identifies the row inside the table. If you don’t want SQLite creates the rowid column, you specify the WITHOUT ROWID option. A table that contains the rowid column is known as a rowid table. Note that the WITHOUT ROWID option is only available in SQLite 3.8.2 or later."
   ]
  },
  {
   "cell_type": "markdown",
   "metadata": {},
   "source": [
    "https://www.sqlite.org/syntaxdiagrams.html#create-table-stmt\n",
    "\n",
    "<img src = \"https://www.sqlite.org/images/syntax/create-table-stmt.gif\" width=\"800\"/>"
   ]
  },
  {
   "cell_type": "markdown",
   "metadata": {},
   "source": [
    "Each value stored in an SQLite database (or manipulated by the database engine) has one of the following storage classes:\n",
    "https://www.sqlite.org/datatype3.html\n",
    "* `NULL`. The value is a NULL value.\n",
    "* `INTEGER`. The value is a signed integer, stored in 1, 2, 3, 4, 6, or 8 bytes depending on the magnitude of the value.\n",
    "* `REAL`. The value is a floating point value, stored as an 8-byte IEEE floating point number.\n",
    "* `TEXT`. The value is a text string, stored using the database encoding (UTF-8, UTF-16BE or UTF-16LE).\n",
    "* `BLOB`. The value is a blob of data, stored exactly as it was input."
   ]
  },
  {
   "cell_type": "markdown",
   "metadata": {},
   "source": [
    "#### A `PRIMARY KEY` is a very important concept to understand.  \n",
    "* It is the designation for a column or a set of columns from a table.\n",
    "* It is recommended to be a serial value and not something related to the business needs of the data in the table.\n",
    "\n",
    "* A primary key is used to uniquely identify a row of data; combined with a column name, uniquely locates a data entry\n",
    "* A primary key by definition must be `UNIQUE` and `NOT NULL` \n",
    "* The primary key of a table, should be a (sequential) non-repeating and not null value  \n",
    "* Primary keys are generally identified at time of table creation  \n",
    "* A common method for generating a primary key, is to set the datatype to `INTEGER` and declare `AUTOINCREMENT` which will function when data is inserted into the table\n",
    "* Primary keys can be a composite of 2 or more columns that uniquely identify the data in the table\n",
    "\n"
   ]
  },
  {
   "cell_type": "markdown",
   "metadata": {},
   "source": [
    "#### A `FOREIGN KEY` is a column(s) that points to the `PRIMARY KEY` of another table \n",
    "\n",
    "* The purpose of the foreign key is to ensure referential integrity of the data. \n",
    "In other words, only values that are supposed to appear in the database are permitted.<br>\n",
    "Only the values that exist in the `PRIMARY KEY` column are allowed to be present in the FOREIGN KEY column.\n",
    "Example: A `gene` table has the `PRIMARY KEY` `gene_id`. The GO2_gene GO term is associated with a gene\n",
    "\n",
    "They are also the underpinning of how tables are joined and relationships portrayed in the database\n"
   ]
  },
  {
   "cell_type": "markdown",
   "metadata": {},
   "source": [
    "The `sqlite_master` has the following create statement: \n",
    "```sql\n",
    "CREATE TABLE sqlite_master ( type TEXT, name TEXT, tbl_name TEXT, rootpage INTEGER, sql TEXT );\n",
    "```"
   ]
  },
  {
   "cell_type": "markdown",
   "metadata": {},
   "source": [
    "##### The `connection` object methods can be used to save or revert/reset the changes after a command that makes changes to the database\n",
    "##### `COMMIT` - save the changes \n",
    "##### `ROLLBACK` - revert the changes \n"
   ]
  },
  {
   "cell_type": "code",
   "execution_count": null,
   "metadata": {},
   "outputs": [],
   "source": [
    "# select the sql statement for the survey table\n",
    "\n",
    "sql = '''\n",
    "SELECT sql\n",
    "FROM sqlite_master \n",
    "WHERE name = \"surveys\";\n",
    "'''\n",
    "cursor.execute(sql)\n",
    "\n",
    "# fetchall returns a list of tuples, \n",
    "# we want the first element in the list \n",
    "# and then the first element in the tuple\n",
    "\n",
    "print(cursor.fetchall()[0][0])"
   ]
  },
  {
   "cell_type": "markdown",
   "metadata": {},
   "source": [
    "#### We create the table `survey_summary` with the columns: `id`, `species_id`, `year`, and `count`"
   ]
  },
  {
   "cell_type": "code",
   "execution_count": null,
   "metadata": {},
   "outputs": [],
   "source": [
    "# Write and run a create table statement for the survey_summary table\n",
    "\n",
    "sql='''\n",
    "CREATE TABLE IF NOT EXISTS survey_summary (\n",
    "      id INTEGER PRIMARY KEY AUTOINCREMENT,\n",
    "      species_id TEXT NOT NULL,                     -- REFERENCES  species_id in species table\n",
    "      year BIGINT NOT NULL,                      -- year of sighting\n",
    "      count BIGINT NOT NULL,                   -- count of individuals\n",
    "      FOREIGN KEY (species_id) REFERENCES  species  (species_id)\n",
    "    );\n",
    "'''\n",
    "try:\n",
    "    cursor.execute(sql)\n",
    "except connection.DatabaseError:\n",
    "    print(\"Creating the survey_summary table resulted in a database error!\")\n",
    "    connection.rollback()\n",
    "    raise\n",
    "else:\n",
    "    connection.commit()\n",
    "finally:\n",
    "    print(\"done!\")\n",
    "    \n",
    "    "
   ]
  },
  {
   "cell_type": "markdown",
   "metadata": {},
   "source": [
    "##### Similar error handling, as seen above, can be when executing any statement that changes the database."
   ]
  },
  {
   "cell_type": "markdown",
   "metadata": {},
   "source": [
    "##### Check if the new table appears in the `sqlite_master` table "
   ]
  },
  {
   "cell_type": "code",
   "execution_count": null,
   "metadata": {},
   "outputs": [],
   "source": [
    "sql = '''\n",
    "SELECT name\n",
    "FROM sqlite_master \n",
    "WHERE name LIKE \"su%\"\n",
    "LIMIT 4;\n",
    "'''\n",
    "cursor.execute(sql)\n",
    "print(cursor.fetchall())"
   ]
  },
  {
   "cell_type": "markdown",
   "metadata": {},
   "source": [
    "  \n",
    "<br><br> \n",
    "The `sqlite_sequence` table is created and initialized automatically whenever a regular table is created if it has a column with the `AUTOINCREMENT` option set.<br>\n",
    "https://www.sqlite.org/autoinc.html\n"
   ]
  },
  {
   "cell_type": "markdown",
   "metadata": {},
   "source": [
    "##### Check if the new table appears in the `sqlite_master` table "
   ]
  },
  {
   "cell_type": "code",
   "execution_count": null,
   "metadata": {},
   "outputs": [],
   "source": [
    "sql = '''\n",
    "SELECT name\n",
    "FROM sqlite_master;\n",
    "'''\n",
    "cursor.execute(sql)\n",
    "print(cursor.fetchall())"
   ]
  },
  {
   "cell_type": "code",
   "execution_count": null,
   "metadata": {},
   "outputs": [],
   "source": [
    "# the sqlite_sequence records keep track of the autoincrement column form different tables\n",
    "# by storing the value where the autoincrement is currently\n",
    "# if there was no data added in the table, no record exists in the sqlite_sequence table\n",
    "\n",
    "sql = '''\n",
    "SELECT *\n",
    "FROM sqlite_sequence;\n",
    "'''\n",
    "cursor.execute(sql)\n",
    "print(cursor.fetchall())"
   ]
  },
  {
   "cell_type": "code",
   "execution_count": null,
   "metadata": {},
   "outputs": [],
   "source": []
  },
  {
   "cell_type": "markdown",
   "metadata": {},
   "source": [
    "____\n",
    "### INDEXING\n",
    "\n",
    "Indexes are lookup table, like the index of a book.\n",
    "They are usually created for columns that have unique/ or less redundant values and provide a way to quicky search \n",
    "the values.<br>\n",
    "Indexing creates a copy of the indexed columns together with a link to the location of the additional information.<br> \n",
    "The index data is stored in a data structure that allows for fast sorting. <br>\n",
    "E.g.: balanced-tree - every leaf is at most n nodes away from the root) that allows for fast sorting. <br>\n",
    "All queries (statements) regarding an indexed table are applied to the index\n",
    "\n",
    "\n",
    "* One important function in Relational Databases is to be able to create indexes on columns in tables  \n",
    "* These indexes are pre-calculated and stored in the database \n",
    "* Indexes should be created on columns that are used in queries and joins   \n",
    "* They will rapidly speed up query return rate and improve query performance\n",
    "\n",
    "To create an index use the following command:\n",
    "\n",
    "```sql\n",
    "CREATE INDEX indexName ON tableName (columnName)\n",
    "```"
   ]
  },
  {
   "cell_type": "code",
   "execution_count": null,
   "metadata": {},
   "outputs": [],
   "source": [
    "sql = '''\n",
    "CREATE INDEX survey_summary_idx \n",
    "ON survey_summary (species_id)\n",
    "'''\n",
    "cursor.execute(sql)\n",
    "connection.commit()\n"
   ]
  },
  {
   "cell_type": "markdown",
   "metadata": {},
   "source": [
    "##### Check if the new index appears in the `sqlite_master` table "
   ]
  },
  {
   "cell_type": "code",
   "execution_count": null,
   "metadata": {},
   "outputs": [],
   "source": [
    "sql = '''\n",
    "SELECT name, sql\n",
    "FROM sqlite_master \n",
    "WHERE type= \"index\";\n",
    "'''\n",
    "cursor.execute(sql)\n",
    "print(get_header(cursor))\n",
    "print(get_results(cursor))"
   ]
  },
  {
   "cell_type": "markdown",
   "metadata": {},
   "source": [
    "#### Remove the index"
   ]
  },
  {
   "cell_type": "code",
   "execution_count": null,
   "metadata": {},
   "outputs": [],
   "source": [
    "sql = '''\n",
    "DROP INDEX survey_summary_idx \n",
    "'''\n",
    "cursor.execute(sql)\n",
    "connection.commit()\n"
   ]
  },
  {
   "cell_type": "markdown",
   "metadata": {},
   "source": [
    "##### Check if the index was removed from the `sqlite_master` table "
   ]
  },
  {
   "cell_type": "code",
   "execution_count": null,
   "metadata": {},
   "outputs": [],
   "source": [
    "sql = '''\n",
    "SELECT name, sql\n",
    "FROM sqlite_master \n",
    "WHERE type= \"index\";\n",
    "'''\n",
    "cursor.execute(sql)\n",
    "print(get_header(cursor))\n",
    "print(get_results(cursor))"
   ]
  },
  {
   "cell_type": "markdown",
   "metadata": {
    "tags": []
   },
   "source": [
    "____ \n",
    "\n",
    "### INSERT - statement\n",
    "\n",
    "##### <font color=\"red\"> This statement makes changes to the database</font>\n",
    "Adds new data to a table (if the constraints are met)    \n",
    "Constraint examples: \n",
    "* For one designated column or a group of columns that are designated as Primary Key the values are unique\n",
    "* The value inserted in a column that has a Foreign Key constraint should exist in the column that it refers to\n",
    "\n",
    "```sql\n",
    "INSERT INTO <tablename> (<column1>, <column2>, <column3>) VALUES (value1, value2, value3);\n",
    "```\n",
    "\n",
    "##### One simple INSERT command adds 1 row of data at a time into an existing table  \n",
    "\n",
    "##### Connection object allows us to:\n",
    "* ##### COMMIT - save the changes \n",
    "* ##### ROLLBACK - reverts/discards the changes"
   ]
  },
  {
   "cell_type": "markdown",
   "metadata": {},
   "source": [
    "<br>\n",
    "\n",
    "##### Let's see what is in the table (it should be nothing):"
   ]
  },
  {
   "cell_type": "code",
   "execution_count": null,
   "metadata": {},
   "outputs": [],
   "source": [
    "sql = '''\n",
    "SELECT *\n",
    "FROM survey_summary;\n",
    "'''\n",
    "cursor.execute(sql)\n",
    "print(get_header(cursor))\n",
    "print(get_results(cursor))"
   ]
  },
  {
   "cell_type": "markdown",
   "metadata": {},
   "source": [
    "<br>\n",
    "\n",
    "##### Let's try an insert:\n",
    "```sql\n",
    "INSERT INTO <tablename> (<column1>, <column2>, <column3>) VALUES (value1, value2, value3);\n",
    "```"
   ]
  },
  {
   "cell_type": "code",
   "execution_count": null,
   "metadata": {},
   "outputs": [],
   "source": [
    "values_list = [\"DM\",1960, 0]\n",
    "\n",
    "sql = '''\n",
    "INSERT INTO survey_summary (species_id, year, count) \n",
    "VALUES (?,?,?);\n",
    "'''\n",
    "cursor.execute(sql,values_list)\n",
    "connection.commit()"
   ]
  },
  {
   "cell_type": "code",
   "execution_count": null,
   "metadata": {},
   "outputs": [],
   "source": [
    "# This command retrieves the identifier of the last row from the most current query\n",
    "# The species_id\n",
    "\n",
    "id_value = cursor.lastrowid\n",
    "id_value"
   ]
  },
  {
   "cell_type": "code",
   "execution_count": null,
   "metadata": {},
   "outputs": [],
   "source": [
    "# the record in sqlite_sequence keep track of the autoincrement\n",
    "sql = '''\n",
    "SELECT *\n",
    "FROM sqlite_sequence;\n",
    "'''\n",
    "cursor.execute(sql)\n",
    "print(cursor.fetchall())"
   ]
  },
  {
   "cell_type": "markdown",
   "metadata": {},
   "source": [
    "<br>\n",
    "\n",
    "\n",
    "##### We have a row in the table!!! And the species_id was automatically generated."
   ]
  },
  {
   "cell_type": "code",
   "execution_count": null,
   "metadata": {},
   "outputs": [],
   "source": [
    "sql = '''\n",
    "SELECT *\n",
    "FROM survey_summary ;\n",
    "'''\n",
    "cursor.execute(sql)\n",
    "print(get_header(cursor))\n",
    "print(get_results(cursor))"
   ]
  },
  {
   "cell_type": "markdown",
   "metadata": {},
   "source": [
    "#### You can have a Python \"table\" structure (list of lists) of insert values and get them all inserted in one command, each sublist having the correct number of values.\n"
   ]
  },
  {
   "cell_type": "code",
   "execution_count": null,
   "metadata": {},
   "outputs": [],
   "source": [
    "values_tbl = [[\"TEST\",1950,2], [\"TEST\",1955,1], [\"TEST\",1974,2]]\n",
    "\n",
    "sql = '''\n",
    "INSERT INTO survey_summary (species_id, year, count) \n",
    "VALUES (?,?,?);\n",
    "'''\n",
    "cursor.executemany(sql,values_tbl)\n",
    "connection.commit()\n"
   ]
  },
  {
   "cell_type": "code",
   "execution_count": null,
   "metadata": {},
   "outputs": [],
   "source": [
    "sql = '''\n",
    "SELECT *\n",
    "FROM survey_summary ;\n",
    "'''\n",
    "cursor.execute(sql)\n",
    "print(get_header(cursor))\n",
    "print(get_results(cursor))"
   ]
  },
  {
   "cell_type": "markdown",
   "metadata": {},
   "source": [
    "____\n",
    "\n",
    "#### UPDATE - statement - changes the table rows\n",
    "\n"
   ]
  },
  {
   "cell_type": "markdown",
   "metadata": {},
   "source": [
    "##### <font color=\"red\"> This statement makes changes to the database</font>\n",
    "\n",
    "MODIFIES DATA (already in a table)  in all rows matching the WHERE clause \n",
    "\n",
    "```sql\n",
    "UPDATE table_name \n",
    "SET column1 = value1, column2 = value2...., columnN = valueN\n",
    "WHERE [condition];\n",
    "```\n",
    "\n",
    "Update is generally a single row command, but use of the where clause can cause data to be updated in multiple rows <br>\n",
    "(whether you intended to or not !!!!)\n",
    "\n",
    "The following statement updates the evidence for all entries for all genes associated with the 2 biological processses "
   ]
  },
  {
   "cell_type": "code",
   "execution_count": null,
   "metadata": {},
   "outputs": [],
   "source": [
    "# the following statement updates multiple rows\n",
    "# before an update a select on the same table and \n",
    "# with the same where clause should be ran \n",
    "# to see the records that will be updated\n",
    "\n",
    "sql = '''\n",
    "UPDATE survey_summary\n",
    "SET count = 20 \n",
    "WHERE species_id = \"TEST\";\n",
    "'''\n",
    "cursor.execute(sql)\n",
    "connection.commit()"
   ]
  },
  {
   "cell_type": "code",
   "execution_count": null,
   "metadata": {},
   "outputs": [],
   "source": [
    "sql = '''\n",
    "SELECT *\n",
    "FROM survey_summary ;\n",
    "'''\n",
    "cursor.execute(sql)\n",
    "print(get_header(cursor))\n",
    "print(get_results(cursor))"
   ]
  },
  {
   "cell_type": "code",
   "execution_count": null,
   "metadata": {},
   "outputs": [],
   "source": []
  },
  {
   "cell_type": "markdown",
   "metadata": {},
   "source": [
    "___\n",
    "\n",
    "#### DELETE - statement - deletes table rows\n",
    "\n",
    "* MAKES CHANGES TO THE DATA\n",
    "* Row level deletion – can’t delete less than this. \n",
    "\n",
    "```sql\n",
    "DELETE FROM <tablename> WHERE <column> = <value>\n",
    "```\n",
    "\n",
    "* The WHERE predicate is the same as for the SELECT statement, that is, it determines which rows will be deleted  \n",
    "\n"
   ]
  },
  {
   "cell_type": "code",
   "execution_count": null,
   "metadata": {},
   "outputs": [],
   "source": [
    "# before a delete statement a select on the same table and \n",
    "# with the same where clause should be ran to see the records \n",
    "# that will be removed\n",
    "\n",
    "sql = '''\n",
    "DELETE FROM survey_summary \n",
    "WHERE year < 1960;\n",
    "'''\n",
    "cursor.execute(sql)\n",
    "connection.commit()\n"
   ]
  },
  {
   "cell_type": "code",
   "execution_count": null,
   "metadata": {},
   "outputs": [],
   "source": [
    "sql = '''\n",
    "SELECT *\n",
    "FROM survey_summary ;\n",
    "'''\n",
    "cursor.execute(sql)\n",
    "print(get_header(cursor))\n",
    "print(get_results(cursor))"
   ]
  },
  {
   "cell_type": "markdown",
   "metadata": {},
   "source": [
    "```sql\n",
    "DELETE FROM <tablename>; \n",
    "```\n",
    "\n",
    "* This would delete all rows of data from a table.\n",
    "* Preserves table structure (table still exists)\n",
    "* Optimized for speed in SQLite, no row-by-row execution.\n",
    "* EXISTS <table_name> still evaluates to True\n"
   ]
  },
  {
   "cell_type": "code",
   "execution_count": null,
   "metadata": {},
   "outputs": [],
   "source": [
    "# Delete all data from the table - but keep the table \n",
    "\n",
    "sql = '''\n",
    "DELETE FROM survey_summary;\n",
    "'''\n",
    "cursor.execute(sql)\n",
    "connection.commit()\n"
   ]
  },
  {
   "cell_type": "code",
   "execution_count": null,
   "metadata": {},
   "outputs": [],
   "source": [
    "sql = '''\n",
    "SELECT *\n",
    "FROM survey_summary ;\n",
    "'''\n",
    "cursor.execute(sql)\n",
    "print(get_header(cursor))\n",
    "print(get_results(cursor))"
   ]
  },
  {
   "cell_type": "markdown",
   "metadata": {},
   "source": [
    "<br>\n",
    "\n",
    "#### `DROP TABLE` - statement - removes a table (permanently)"
   ]
  },
  {
   "cell_type": "code",
   "execution_count": null,
   "metadata": {},
   "outputs": [],
   "source": [
    "sql = '''\n",
    "DROP TABLE IF EXISTS survey_summary;\n",
    "'''\n",
    "cursor.execute(sql)\n",
    "connection.commit()"
   ]
  },
  {
   "cell_type": "code",
   "execution_count": null,
   "metadata": {},
   "outputs": [],
   "source": [
    "sql = '''\n",
    "SELECT name AS \"TABLE NAME\"\n",
    "FROM sqlite_master;\n",
    "'''\n",
    "cursor.execute(sql)\n",
    "print(get_header(cursor))\n",
    "print(get_results(cursor))"
   ]
  },
  {
   "cell_type": "code",
   "execution_count": null,
   "metadata": {},
   "outputs": [],
   "source": [
    "# we can create the summary with a select\n",
    "\n",
    "sql = '''\n",
    "\n",
    "SELECT species_id, year, count(record_id)\n",
    "FROM surveys \n",
    "WHERE species_id <> \"None\"\n",
    "GROUP BY species_id, year;'''\n",
    "cursor.execute(sql)\n",
    "#cursor.fetchall()"
   ]
  },
  {
   "cell_type": "markdown",
   "metadata": {},
   "source": [
    "#### VIEW in a database\n",
    "\n",
    "* A view is a virtual table which can be created from a query on existing tables\n",
    "* Views are created to give a more human readable version of the normalized data / tables\n",
    "* http://www.sqlitetutorial.net/sqlite-create-view/\n",
    "* An SQLite view is read only"
   ]
  },
  {
   "cell_type": "markdown",
   "metadata": {},
   "source": [
    "```sql\n",
    "CREATE [TEMP] VIEW [IF NOT EXISTS] view_name(column-name-list) AS    \n",
    "select-statement;\n",
    "```"
   ]
  },
  {
   "cell_type": "code",
   "execution_count": null,
   "metadata": {},
   "outputs": [],
   "source": [
    "# survey summary for years > 80 information for easy access\n",
    "sql = '''\n",
    "CREATE VIEW IF NOT EXISTS species_survey(species_id, species, year, counts) AS\n",
    "SELECT sv.species_id, species, year, count(record_id)\n",
    "FROM surveys AS sv\n",
    "INNER JOIN species AS sp\n",
    "ON sv.species_id = sp.species_id\n",
    "WHERE sv.species_id <> \"None\"\n",
    "GROUP BY sv.species_id,species, year\n",
    "\n",
    "\n",
    "'''\n",
    "cursor.execute(sql)\n",
    "connection.commit()"
   ]
  },
  {
   "cell_type": "code",
   "execution_count": null,
   "metadata": {},
   "outputs": [],
   "source": [
    "# survey summary information \n",
    "sql = '''\n",
    "SELECT *\n",
    "FROM species_survey\n",
    "LIMIT 10;\n",
    "'''\n",
    "cursor.execute(sql)\n",
    "print(get_header(cursor))\n",
    "print(get_results(cursor))"
   ]
  },
  {
   "cell_type": "markdown",
   "metadata": {},
   "source": [
    "```sql\n",
    "DROP VIEW [IF EXISTS] view_name;\n",
    "```"
   ]
  },
  {
   "cell_type": "code",
   "execution_count": null,
   "metadata": {},
   "outputs": [],
   "source": [
    "# remove view from the database\n",
    "\n",
    "sql = '''\n",
    "DROP VIEW IF EXISTS species_survey;\n",
    "'''\n",
    "cursor.execute(sql)\n",
    "connection.commit()"
   ]
  },
  {
   "cell_type": "code",
   "execution_count": null,
   "metadata": {},
   "outputs": [],
   "source": [
    "# And close()\n",
    "\n",
    "cursor.close()\n",
    "connection.close()"
   ]
  },
  {
   "cell_type": "markdown",
   "metadata": {},
   "source": [
    "#### To remove the database, delete the .sqlite file."
   ]
  },
  {
   "cell_type": "code",
   "execution_count": null,
   "metadata": {},
   "outputs": [],
   "source": []
  }
 ],
 "metadata": {
  "kernelspec": {
   "display_name": "Python 3 (ipykernel)",
   "language": "python",
   "name": "python3"
  },
  "language_info": {
   "codemirror_mode": {
    "name": "ipython",
    "version": 3
   },
   "file_extension": ".py",
   "mimetype": "text/x-python",
   "name": "python",
   "nbconvert_exporter": "python",
   "pygments_lexer": "ipython3",
   "version": "3.9.12"
  }
 },
 "nbformat": 4,
 "nbformat_minor": 4
}
