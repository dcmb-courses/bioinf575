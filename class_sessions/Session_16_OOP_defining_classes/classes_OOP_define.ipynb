{
 "cells": [
  {
   "cell_type": "markdown",
   "metadata": {},
   "source": [
    "## Object oriented programming \n",
    "### Creating your own object types\n",
    "\n",
    "### BIOINF 575 - Fall 2022\n",
    "\n",
    "---\n",
    "##### Adapted from material created by Marcus Sherman\n",
    "---"
   ]
  },
  {
   "cell_type": "markdown",
   "metadata": {},
   "source": [
    "\n",
    "You can do perfectly good data science _without_ ever writing a `class`. \n",
    "\n",
    "However, using `Object-Oriented Programming` can make your data science <u>easier to write</u>, <u>easier to read</u>, and <u>more intuitive</u> while also making it **more shareable/extensible**."
   ]
  },
  {
   "cell_type": "markdown",
   "metadata": {
    "slideshow": {
     "slide_type": "slide"
    }
   },
   "source": [
    "---\n",
    "#### Object-Oriented Programming"
   ]
  },
  {
   "cell_type": "markdown",
   "metadata": {
    "slideshow": {
     "slide_type": "fragment"
    }
   },
   "source": [
    "Whenever you code in Python, you should always have a similar questions that you ask yourself during your workflow: \"What do I have?\" and \"What do I need?\". While working on subcomponents of a function, you should always ask yourself \"What ***kind*** of object am I working with, and what does it do?\""
   ]
  },
  {
   "cell_type": "markdown",
   "metadata": {
    "slideshow": {
     "slide_type": "slide"
    }
   },
   "source": [
    "In Python, ***EVERYTHING*** is an object!"
   ]
  },
  {
   "cell_type": "code",
   "execution_count": null,
   "metadata": {
    "hidePrompt": true,
    "slideshow": {
     "slide_type": "fragment"
    }
   },
   "outputs": [],
   "source": [
    "# Different types\n",
    "\n",
    "type(list)"
   ]
  },
  {
   "cell_type": "code",
   "execution_count": null,
   "metadata": {},
   "outputs": [],
   "source": [
    "{1:\"d\"}"
   ]
  },
  {
   "cell_type": "code",
   "execution_count": null,
   "metadata": {},
   "outputs": [],
   "source": [
    "# dir(list)"
   ]
  },
  {
   "cell_type": "markdown",
   "metadata": {
    "slideshow": {
     "slide_type": "slide"
    }
   },
   "source": [
    "### So what _are_ objects?"
   ]
  },
  {
   "cell_type": "markdown",
   "metadata": {},
   "source": [
    "<img width = 450 src='https://ih1.redbubble.net/image.9426655.9925/fc,550x550,silver.jpg'/>"
   ]
  },
  {
   "cell_type": "markdown",
   "metadata": {},
   "source": [
    "---\n",
    "### A New Frontier"
   ]
  },
  {
   "cell_type": "markdown",
   "metadata": {
    "slideshow": {
     "slide_type": "slide"
    }
   },
   "source": [
    "Up to this point, we have used objects already defined for us. However, we are not limited by those boundaries, we can *make* our own objects. This is done through the `class` keyword."
   ]
  },
  {
   "cell_type": "markdown",
   "metadata": {
    "slideshow": {
     "slide_type": "subslide"
    }
   },
   "source": [
    "<img src='https://ds055uzetaobb.cloudfront.net/image_optimizer/9996aa83f77a2837f41a4de7f2ab517168716532.png' width = 500/>"
   ]
  },
  {
   "cell_type": "markdown",
   "metadata": {
    "slideshow": {
     "slide_type": "subslide"
    }
   },
   "source": [
    "Using `class` is much like `def` functions. However, later on we get to play around with some of those 'dunder' (\\_\\_) methods we have been steering you away from."
   ]
  },
  {
   "cell_type": "markdown",
   "metadata": {},
   "source": [
    "### First, the syntax"
   ]
  },
  {
   "cell_type": "markdown",
   "metadata": {
    "slideshow": {
     "slide_type": "fragment"
    }
   },
   "source": [
    "<img src='class_def.png' width=700 align='left'/>"
   ]
  },
  {
   "cell_type": "markdown",
   "metadata": {},
   "source": [
    "### The Big Idea \n",
    "> The idea behind objects is to **bundle** coherent <u>methods</u> (things the object can _do_) and <u>attributes</u> (things the object _has_) that logically go together into a well-defined _interface_."
   ]
  },
  {
   "cell_type": "markdown",
   "metadata": {
    "slideshow": {
     "slide_type": "slide"
    }
   },
   "source": [
    "They are a data abstraction that has 2 main jobs:\n",
    "1. Captures internal *representation* of the data it is abstracting\n",
    "2. Creates an *interface* for the abstracted data"
   ]
  },
  {
   "cell_type": "markdown",
   "metadata": {},
   "source": [
    "#### Let's think about a gene and basic information we want to store about it.\n",
    "We could make a dictionary:\n",
    "\n",
    "```python\n",
    "\n",
    "{\"symbol\": \"Gene1\", seq = \"AACGT\"}\n",
    "\n",
    "```\n",
    "\n",
    "\n",
    "While this structure works perfectly fine, if we want to add new elements or add a function specific to the gene it will be hard to keep track of it all.\n",
    "It makes sense that all of these things could be wrapped up into a single object (_mainly because it is hard to manage and add new funtionality to it_)."
   ]
  },
  {
   "cell_type": "markdown",
   "metadata": {
    "slideshow": {
     "slide_type": "subslide"
    }
   },
   "source": [
    "#### Let's make a `Gene` object \n",
    "\n",
    "- <font color = \"red\">Use the `__init__` method to define class variables/ attributes</font>\n",
    "- Write functions in the class for extra functionality\n",
    "- Use `self` to refer to the object you are creating\n",
    "\n"
   ]
  },
  {
   "cell_type": "code",
   "execution_count": null,
   "metadata": {},
   "outputs": [],
   "source": [
    "class Gene:\n",
    "    def __init__(self, psymbol = \"Gene1\", pseq = \"AACGT\"):\n",
    "        self.symbol = psymbol\n",
    "        self.sequence = pseq\n",
    "        \n",
    "    def __str__(self):\n",
    "        return self.symbol\n",
    "    \n",
    "    def get_startseq(n):\n",
    "        return self.sequence[:n]\n",
    "  "
   ]
  },
  {
   "cell_type": "markdown",
   "metadata": {
    "slideshow": {
     "slide_type": "subslide"
    }
   },
   "source": [
    "---\n",
    "We need to take a second to talk about 3 things real quick:\n",
    "1. Functions within `class`es (like `self.update_status`) are called ***methods*** or procedural attributes\n",
    "2. `self.symbol` and `self.sequence` are called ***attributes*** since they only contain data\n",
    "3. What in the world is `self`?"
   ]
  },
  {
   "cell_type": "markdown",
   "metadata": {
    "slideshow": {
     "slide_type": "subslide"
    }
   },
   "source": [
    "**PS**: `self` is a parameter that allows an object to look back at its self. Specifically the current *instance* of itself. However, outside of writing the class, you will never actually have to pass the word `self` into the methods.\n",
    "\n",
    "Let's use our new class."
   ]
  },
  {
   "cell_type": "code",
   "execution_count": null,
   "metadata": {},
   "outputs": [],
   "source": [
    "dir(Gene)"
   ]
  },
  {
   "cell_type": "code",
   "execution_count": null,
   "metadata": {},
   "outputs": [],
   "source": [
    "type(Gene)"
   ]
  },
  {
   "cell_type": "code",
   "execution_count": null,
   "metadata": {},
   "outputs": [],
   "source": [
    "g = Gene()"
   ]
  },
  {
   "cell_type": "code",
   "execution_count": null,
   "metadata": {},
   "outputs": [],
   "source": [
    "g"
   ]
  },
  {
   "cell_type": "code",
   "execution_count": null,
   "metadata": {},
   "outputs": [],
   "source": [
    "str(g)"
   ]
  },
  {
   "cell_type": "code",
   "execution_count": null,
   "metadata": {},
   "outputs": [],
   "source": [
    "g.sequence"
   ]
  },
  {
   "cell_type": "code",
   "execution_count": null,
   "metadata": {},
   "outputs": [],
   "source": []
  },
  {
   "cell_type": "code",
   "execution_count": null,
   "metadata": {},
   "outputs": [],
   "source": []
  },
  {
   "cell_type": "code",
   "execution_count": null,
   "metadata": {},
   "outputs": [],
   "source": []
  },
  {
   "cell_type": "code",
   "execution_count": null,
   "metadata": {},
   "outputs": [],
   "source": []
  },
  {
   "cell_type": "markdown",
   "metadata": {},
   "source": [
    "____\n",
    "\n",
    "#### Let's add more functionality to the `Gene` class\n",
    "- Implement specific dunder methods for added functionality \n",
    "    - the dunder method name is representative for the function/ operation it is used for\n",
    "- Use @property to set up read-only attributes\n",
    "- Add documentation using docstrings"
   ]
  },
  {
   "cell_type": "code",
   "execution_count": null,
   "metadata": {},
   "outputs": [],
   "source": [
    "# Gene object\n",
    "class Gene:\n",
    "    \"\"\"\n",
    "    Contains the information about a Gene such as the symbol, description,\n",
    "    exon number, and sequence \n",
    "    \n",
    "    Attributes:\n",
    "    symbol (str):  gene symbol\n",
    "    description (str):  gene description\n",
    "    exon_no (int): total number of exons for the gene\n",
    "    sequence (str): the gene sequence\n",
    "    status (str): the gene status, one of 'new', 'current', 'deprecated', 'in process' \n",
    "    \"\"\"\n",
    "    def __init__(self, psymbol = \"Gene1\", pdesc = \"Gene for testing\", \n",
    "                 pexon_no = 1, pseq = \"AACGT\"):\n",
    "        self.symbol = psymbol\n",
    "        self.description = pdesc\n",
    "        self.exon_no = pexon_no\n",
    "        self.sequence = pseq\n",
    "        self.__status = \"current\"\n",
    "        \n",
    "    def __str__(self):\n",
    "        return f\"Gene('{self.symbol}','{self.description}',{self.exon_no},'{self.sequence}')\"\n",
    "    \n",
    "    def __repr__(self):\n",
    "        return f\"Gene('{self.symbol}','{self.description}',{self.exon_no},'{self.sequence}')\"\n",
    "\n",
    "    def __len__(self):\n",
    "        return len(self.seq)\n",
    "    \n",
    "    def __add__(self, gene):\n",
    "        new_gene = Gene(self.symbol + gene.symbol,\n",
    "                    self.description + gene.description,\n",
    "                    self.exon_no + gene.exon_no,\n",
    "                    self.sequence + gene.sequence)\n",
    "        new_gene.update_status(\"new\")\n",
    "        return new_gene\n",
    "\n",
    "        \n",
    "    @property # getter\n",
    "    def status(self):\n",
    "        \"\"\"\n",
    "        Get the status for the gene\n",
    "        \"\"\"\n",
    "        return self.__status\n",
    "    \n",
    "    # @status.setter # property setter - same name as the property\n",
    "    # def status(self, pstatus):\n",
    "    #    self.__status = pstatus\n",
    "             \n",
    "    def update_status(self, pstatus):\n",
    "        \"\"\"\n",
    "        Updates the status of a gene\n",
    "        \"\"\"\n",
    "        self.__status = pstatus\n",
    "        \n",
    "        "
   ]
  },
  {
   "cell_type": "code",
   "execution_count": null,
   "metadata": {
    "hidePrompt": true
   },
   "outputs": [],
   "source": [
    "# Use Gene - explore\n",
    "# create/init Gene objects, we need the __init__ method\n",
    "# The constructor without arguments works if we have default values\n",
    "# The cell will use the __repr__ method to display the representation of the object\n",
    "\n",
    "g = Gene()\n",
    "g"
   ]
  },
  {
   "cell_type": "code",
   "execution_count": null,
   "metadata": {},
   "outputs": [],
   "source": [
    "g.update_status(\"deprecated\")\n",
    "print(g.status)\n",
    "g.status = \"current\"\n",
    "g.status\n"
   ]
  },
  {
   "cell_type": "markdown",
   "metadata": {
    "slideshow": {
     "slide_type": "fragment"
    }
   },
   "source": [
    "_____\n",
    "\n",
    "See, I didn't need to use `self` on the outside.\n",
    "_____"
   ]
  },
  {
   "cell_type": "markdown",
   "metadata": {
    "slideshow": {
     "slide_type": "subslide"
    }
   },
   "source": [
    "Wait, with just that, we made a new object? I don't believe you..."
   ]
  },
  {
   "cell_type": "code",
   "execution_count": null,
   "metadata": {},
   "outputs": [],
   "source": [
    "# what did we create? type()\n",
    "\n",
    "\n"
   ]
  },
  {
   "cell_type": "code",
   "execution_count": null,
   "metadata": {},
   "outputs": [],
   "source": [
    "# we need the __str__ method to print the object value\n",
    "\n",
    "\n",
    "\n"
   ]
  },
  {
   "cell_type": "code",
   "execution_count": null,
   "metadata": {},
   "outputs": [],
   "source": [
    "# dir\n",
    "\n"
   ]
  },
  {
   "cell_type": "code",
   "execution_count": null,
   "metadata": {},
   "outputs": [],
   "source": [
    "# check attributes\n",
    "\n"
   ]
  },
  {
   "cell_type": "code",
   "execution_count": null,
   "metadata": {},
   "outputs": [],
   "source": []
  },
  {
   "cell_type": "code",
   "execution_count": null,
   "metadata": {},
   "outputs": [],
   "source": [
    "# check the status\n",
    "\n"
   ]
  },
  {
   "cell_type": "code",
   "execution_count": null,
   "metadata": {},
   "outputs": [],
   "source": [
    "# try to change the status\n",
    "\n"
   ]
  },
  {
   "cell_type": "code",
   "execution_count": null,
   "metadata": {},
   "outputs": [],
   "source": [
    "# Use the update_status method to change the status of the gene\n",
    "\n"
   ]
  },
  {
   "cell_type": "code",
   "execution_count": null,
   "metadata": {},
   "outputs": [],
   "source": []
  },
  {
   "cell_type": "code",
   "execution_count": null,
   "metadata": {},
   "outputs": [],
   "source": [
    "# get the gene length - works only if __len__ is implemented"
   ]
  },
  {
   "cell_type": "code",
   "execution_count": null,
   "metadata": {},
   "outputs": [],
   "source": []
  },
  {
   "cell_type": "code",
   "execution_count": null,
   "metadata": {},
   "outputs": [],
   "source": [
    "# add two genes - works only if __add__ is implemented\n",
    "\n"
   ]
  },
  {
   "cell_type": "code",
   "execution_count": null,
   "metadata": {},
   "outputs": [],
   "source": [
    "# multiply two genes - works only if __mul__ is implemented\n",
    "\n"
   ]
  },
  {
   "cell_type": "code",
   "execution_count": null,
   "metadata": {},
   "outputs": [],
   "source": []
  },
  {
   "cell_type": "code",
   "execution_count": null,
   "metadata": {},
   "outputs": [],
   "source": []
  },
  {
   "cell_type": "markdown",
   "metadata": {},
   "source": [
    "#### Resources\n",
    "https://docs.python.org/3/tutorial/classes.html     \n",
    "https://docs.python.org/3/reference/datamodel.html      \n",
    "https://python-textbok.readthedocs.io/en/1.0/Classes.html      \n",
    "https://www.w3schools.com/python/python_classes.asp          \n",
    "https://www.geeksforgeeks.org/python-classes-and-objects/          \n",
    "https://www.tutorialspoint.com/python/python_classes_objects.htm   \n",
    "https://python-course.eu/oop/inheritance.php     \n",
    "https://www.geeksforgeeks.org/python-oops-concepts/      \n",
    "https://gist.github.com/rurtubia/f5c506f414bb85efc4d8\n"
   ]
  },
  {
   "cell_type": "code",
   "execution_count": null,
   "metadata": {},
   "outputs": [],
   "source": []
  }
 ],
 "metadata": {
  "kernelspec": {
   "display_name": "Python 3 (ipykernel)",
   "language": "python",
   "name": "python3"
  },
  "language_info": {
   "codemirror_mode": {
    "name": "ipython",
    "version": 3
   },
   "file_extension": ".py",
   "mimetype": "text/x-python",
   "name": "python",
   "nbconvert_exporter": "python",
   "pygments_lexer": "ipython3",
   "version": "3.9.12"
  }
 },
 "nbformat": 4,
 "nbformat_minor": 4
}
