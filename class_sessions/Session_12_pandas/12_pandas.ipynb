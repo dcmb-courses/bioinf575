{
 "cells": [
  {
   "cell_type": "markdown",
   "metadata": {},
   "source": [
    "## Pandas\n",
    "### BIOINF 575 - Fall 2022\n",
    "\n"
   ]
  },
  {
   "cell_type": "markdown",
   "metadata": {},
   "source": [
    "_____\n",
    "\n",
    "\n",
    "### NumPy - Numeric python <img src=\"https://upload.wikimedia.org/wikipedia/commons/thumb/1/1a/NumPy_logo.svg/1200px-NumPy_logo.svg.png\" alt=\"NumPy logo\" width = \"100\">"
   ]
  },
  {
   "cell_type": "markdown",
   "metadata": {},
   "source": [
    "____\n",
    "#### A list contains refences to each of the values.\n",
    "#### An array refers to a block of memory containg all values one after the other.\n",
    "- <b>that is why we need to know the size of the array and the array size cannot change <br>\n",
    "\n",
    "\n",
    "<img src = \"https://www.python-course.eu/images/list_structure.png\" width = 350 /> &nbsp;&nbsp;&nbsp;&nbsp;&nbsp;&nbsp;&nbsp;&nbsp;&nbsp;&nbsp;<img src = \"https://www.python-course.eu/images/array_structure.png\" width = 350 />\n",
    "____"
   ]
  },
  {
   "cell_type": "markdown",
   "metadata": {},
   "source": [
    "#### Arrays of different dimensions (`shape` gives the number of elements on each dimension):\n",
    "<img src=\"https://raw.githubusercontent.com/elegant-scipy/elegant-scipy/master/figures/NumPy_ndarrays_v2.svg\" alt=\"data structures\" width=\"600\">  \n",
    "\n",
    "https://github.com/elegant-scipy/elegant-scipy\n",
    "_____\n"
   ]
  },
  {
   "cell_type": "markdown",
   "metadata": {},
   "source": [
    "#### <b>NumPy basics</b>"
   ]
  },
  {
   "cell_type": "markdown",
   "metadata": {},
   "source": [
    "Arrays are designed to:\n",
    "* <b>handle vectorized operations (lists cannot do that)</b>\n",
    "    - if you apply a function it is performed on every item in the array, rather than on the whole array object\n",
    "    - both arrays and lists have 0-based indexing\n",
    "* <b>store multiple items of the same data type</b>\n",
    "* <b>handle missing values </b>\n",
    "    - missing numerical values are represented using the `np.nan` object (not a number)\n",
    "    - the object `np.inf` represents infinite  \n",
    "* <b>have an unchangeable size</b>\n",
    "    - array size cannot be changed, should create a new array if you want to change the size\n",
    "    - you know when you create the array how much space you need for it and that will not change  \n",
    "* <b>have efficient memory usage</b>\n",
    "    - an equivalent numpy array occupies much less space than a python list of lists"
   ]
  },
  {
   "cell_type": "markdown",
   "metadata": {},
   "source": [
    "#### <b>Basic array attributes:</b>\n",
    "* shape: array dimension\n",
    "* size: Number of elements in array\n",
    "* ndim: Number of array dimension (len(arr.shape))\n",
    "* dtype: Data-type of the array"
   ]
  },
  {
   "cell_type": "markdown",
   "metadata": {},
   "source": [
    "#### <b>Importing NumPy\n",
    "The recommended convention to import numpy is to use the <b>np</b> alias:"
   ]
  },
  {
   "cell_type": "code",
   "execution_count": null,
   "metadata": {},
   "outputs": [],
   "source": [
    "import numpy as np"
   ]
  },
  {
   "cell_type": "markdown",
   "metadata": {},
   "source": [
    "#### <b>Documentation and help\n",
    "https://numpy.org/doc/"
   ]
  },
  {
   "cell_type": "code",
   "execution_count": null,
   "metadata": {},
   "outputs": [],
   "source": [
    "# np.lookfor('sum') "
   ]
  },
  {
   "cell_type": "code",
   "execution_count": null,
   "metadata": {},
   "outputs": [],
   "source": [
    "np.me*?"
   ]
  },
  {
   "cell_type": "code",
   "execution_count": null,
   "metadata": {},
   "outputs": [],
   "source": [
    "# np.mean?"
   ]
  },
  {
   "cell_type": "code",
   "execution_count": null,
   "metadata": {},
   "outputs": [],
   "source": [
    "# help(np.mean)"
   ]
  },
  {
   "cell_type": "markdown",
   "metadata": {},
   "source": [
    "_____\n",
    "\n",
    "### Pandas\n",
    "<img src = \"https://upload.wikimedia.org/wikipedia/commons/e/ed/Pandas_logo.svg\" width = 200/>\n",
    "\n",
    "https://commons.wikimedia.org/wiki/File:Pandas_logo.svg"
   ]
  },
  {
   "cell_type": "markdown",
   "metadata": {},
   "source": [
    "[Pandas](https://pandas.pydata.org/) is a high-performance library that makes familiar data structures, like `data.frame` from R, and appropriate data analysis tools available to Python users."
   ]
  },
  {
   "cell_type": "markdown",
   "metadata": {},
   "source": [
    "<img src = \"https://media.geeksforgeeks.org/wp-content/uploads/finallpandas.png\" width = 550/>\n",
    "\n",
    "https://www.geeksforgeeks.org/python-pandas-dataframe/"
   ]
  },
  {
   "cell_type": "markdown",
   "metadata": {},
   "source": [
    "#### How does pandas work?"
   ]
  },
  {
   "cell_type": "markdown",
   "metadata": {},
   "source": [
    "Pandas is built off of [Numpy](http://www.numpy.org/), and therefore leverages Numpy's C-level speed for its data analysis."
   ]
  },
  {
   "cell_type": "markdown",
   "metadata": {},
   "source": [
    "* Numpy can only make data structures of a single type.\n",
    "* Pandas can use many types. \n",
    "* Think of a table, where each column can be whatever type you want it to be, so long as every item in the column is that same type."
   ]
  },
  {
   "cell_type": "markdown",
   "metadata": {},
   "source": [
    "#### Why use pandas?"
   ]
  },
  {
   "cell_type": "markdown",
   "metadata": {},
   "source": [
    "1. Data munging/wrangling: the cleaning and preprocessing of data\n",
    "2. Loading data into memory from disparate data formats (SQL, CSV, TSV, JSON)"
   ]
  },
  {
   "cell_type": "markdown",
   "metadata": {},
   "source": [
    "#### Importing"
   ]
  },
  {
   "cell_type": "markdown",
   "metadata": {},
   "source": [
    "Pandas is built off of numpy, it is usefull to import numpy at the same time, but not necessary."
   ]
  },
  {
   "cell_type": "markdown",
   "metadata": {},
   "source": [
    "```python\n",
    "import numpy as np\n",
    "import pandas as pd\n",
    "\n",
    "\n",
    "```"
   ]
  },
  {
   "cell_type": "markdown",
   "metadata": {},
   "source": [
    "#### 1. `pd.Series`"
   ]
  },
  {
   "cell_type": "markdown",
   "metadata": {},
   "source": [
    "**One-dimensional** labeled array (or vector) "
   ]
  },
  {
   "cell_type": "markdown",
   "metadata": {},
   "source": [
    "```python\n",
    "# Initialization Syntax\n",
    "series = pd.Series(data, index, dtype) \n",
    "```"
   ]
  },
  {
   "cell_type": "markdown",
   "metadata": {},
   "source": [
    "* **`data`** : what is going inside the Series (array-like, dict, or scalar value)\n",
    "* **`index`**: row identifiers (doesn't have to be unique--think foreign key. Defaults to row number)\n",
    "* **`dytpe`**: numpy/python based data types"
   ]
  },
  {
   "cell_type": "markdown",
   "metadata": {},
   "source": [
    "Attributes \n",
    "\n",
    "['T',\n",
    " 'array',\n",
    " 'at',\n",
    " 'axes',\n",
    " 'base',\n",
    " 'data',\n",
    " 'dtype',\n",
    " 'dtypes',\n",
    " 'empty',\n",
    " 'flags',\n",
    " 'ftype',\n",
    " 'ftypes',\n",
    " 'hasnans',\n",
    " 'iat',\n",
    " 'iloc',\n",
    " 'imag',\n",
    " 'index',\n",
    " 'is_monotonic',\n",
    " 'is_monotonic_decreasing',\n",
    " 'is_monotonic_increasing',\n",
    " 'is_unique',\n",
    " 'itemsize',\n",
    " 'ix',\n",
    " 'loc',\n",
    " 'name',\n",
    " 'nbytes',\n",
    " 'ndim',\n",
    " 'plot',\n",
    " 'real',\n",
    " 'shape',\n",
    " 'size',\n",
    " 'strides',\n",
    " 'timetuple',\n",
    " 'values']\n",
    " \n",
    " \n",
    " Methods\n",
    " \n",
    " ['abs',\n",
    " 'add',\n",
    " 'add_prefix',\n",
    " 'add_suffix',\n",
    " 'agg',\n",
    " 'aggregate',\n",
    " 'align',\n",
    " 'all',\n",
    " 'any',\n",
    " 'append',\n",
    " 'apply',\n",
    " 'argmax',\n",
    " 'argmin',\n",
    " 'argsort',\n",
    " 'asfreq',\n",
    " 'asof',\n",
    " 'astype',\n",
    " 'at_time',\n",
    " 'autocorr',\n",
    " 'between',\n",
    " 'between_time',\n",
    " 'bfill',\n",
    " 'bool',\n",
    " 'clip',\n",
    " 'combine',\n",
    " 'combine_first',\n",
    " 'convert_dtypes',\n",
    " 'copy',\n",
    " 'corr',\n",
    " 'count',\n",
    " 'cov',\n",
    " 'cummax',\n",
    " 'cummin',\n",
    " 'cumprod',\n",
    " 'cumsum',\n",
    " 'describe',\n",
    " 'diff',\n",
    " 'div',\n",
    " 'divide',\n",
    " 'divmod',\n",
    " 'dot',\n",
    " 'drop',\n",
    " 'drop_duplicates',\n",
    " 'droplevel',\n",
    " 'dropna',\n",
    " 'duplicated',\n",
    " 'eq',\n",
    " 'equals',\n",
    " 'ewm',\n",
    " 'expanding',\n",
    " 'explode',\n",
    " 'factorize',\n",
    " 'ffill',\n",
    " 'fillna',\n",
    " 'filter',\n",
    " 'first',\n",
    " 'first_valid_index',\n",
    " 'floordiv',\n",
    " 'ge',\n",
    " 'get',\n",
    " 'groupby',\n",
    " 'gt',\n",
    " 'head',\n",
    " 'hist',\n",
    " 'idxmax',\n",
    " 'idxmin',\n",
    " 'infer_objects',\n",
    " 'interpolate',\n",
    " 'isin',\n",
    " 'isna',\n",
    " 'isnull',\n",
    " 'item',\n",
    " 'items',\n",
    " 'iteritems',\n",
    " 'keys',\n",
    " 'kurt',\n",
    " 'kurtosis',\n",
    " 'last',\n",
    " 'last_valid_index',\n",
    " 'le',\n",
    " 'lt',\n",
    " 'mad',\n",
    " 'map',\n",
    " 'mask',\n",
    " 'max',\n",
    " 'mean',\n",
    " 'median',\n",
    " 'memory_usage',\n",
    " 'min',\n",
    " 'mod',\n",
    " 'mode',\n",
    " 'mul',\n",
    " 'multiply',\n",
    " 'ne',\n",
    " 'nlargest',\n",
    " 'notna',\n",
    " 'notnull',\n",
    " 'nsmallest',\n",
    " 'nunique',\n",
    " 'pct_change',\n",
    " 'pipe',\n",
    " 'pop',\n",
    " 'pow',\n",
    " 'prod',\n",
    " 'product',\n",
    " 'quantile',\n",
    " 'radd',\n",
    " 'rank',\n",
    " 'ravel',\n",
    " 'rdiv',\n",
    " 'rdivmod',\n",
    " 'reindex',\n",
    " 'reindex_like',\n",
    " 'rename',\n",
    " 'rename_axis',\n",
    " 'reorder_levels',\n",
    " 'repeat',\n",
    " 'replace',\n",
    " 'resample',\n",
    " 'reset_index',\n",
    " 'rfloordiv',\n",
    " 'rmod',\n",
    " 'rmul',\n",
    " 'rolling',\n",
    " 'round',\n",
    " 'rpow',\n",
    " 'rsub',\n",
    " 'rtruediv',\n",
    " 'sample',\n",
    " 'searchsorted',\n",
    " 'sem',\n",
    " 'set_axis',\n",
    " 'shift',\n",
    " 'skew',\n",
    " 'slice_shift',\n",
    " 'sort_index',\n",
    " 'sort_values',\n",
    " 'squeeze',\n",
    " 'std',\n",
    " 'sub',\n",
    " 'subtract',\n",
    " 'sum',\n",
    " 'swapaxes',\n",
    " 'swaplevel',\n",
    " 'tail',\n",
    " 'take',\n",
    " 'to_clipboard',\n",
    " 'to_csv',\n",
    " 'to_dict',\n",
    " 'to_excel',\n",
    " 'to_frame',\n",
    " 'to_hdf',\n",
    " 'to_json',\n",
    " 'to_latex',\n",
    " 'to_list',\n",
    " 'to_markdown',\n",
    " 'to_numpy',\n",
    " 'to_period',\n",
    " 'to_pickle',\n",
    " 'to_sql',\n",
    " 'to_string',\n",
    " 'to_timestamp',\n",
    " 'to_xarray',\n",
    " 'transform',\n",
    " 'transpose',\n",
    " 'truediv',\n",
    " 'truncate',\n",
    " 'tshift',\n",
    " 'tz_convert',\n",
    " 'tz_localize',\n",
    " 'unique',\n",
    " 'unstack',\n",
    " 'update',\n",
    " 'value_counts',\n",
    " 'var',\n",
    " 'view',\n",
    " 'where',\n",
    " 'xs']"
   ]
  },
  {
   "cell_type": "markdown",
   "metadata": {},
   "source": [
    "#### Create a Series from a Python list"
   ]
  },
  {
   "cell_type": "code",
   "execution_count": null,
   "metadata": {},
   "outputs": [],
   "source": [
    "import numpy as np\n",
    "import pandas as pd"
   ]
  },
  {
   "cell_type": "code",
   "execution_count": null,
   "metadata": {},
   "outputs": [],
   "source": [
    "\n",
    "labels = [\"EGFR\",\"IL6\",\"BRAF\",\"ABL\"]\n",
    "values = [3,4,3,6]\n",
    "gene_snp_no = pd.Series(data = values, index=labels)\n"
   ]
  },
  {
   "cell_type": "code",
   "execution_count": null,
   "metadata": {},
   "outputs": [],
   "source": [
    "# Get the data, name, labels, value counts for the series\n",
    "\n"
   ]
  },
  {
   "cell_type": "code",
   "execution_count": null,
   "metadata": {},
   "outputs": [],
   "source": []
  },
  {
   "cell_type": "code",
   "execution_count": null,
   "metadata": {},
   "outputs": [],
   "source": []
  },
  {
   "cell_type": "markdown",
   "metadata": {},
   "source": [
    "#### Create a Series from a dictionary"
   ]
  },
  {
   "cell_type": "code",
   "execution_count": null,
   "metadata": {},
   "outputs": [],
   "source": [
    "gene_expr_map = {\"EGFR\":2.5, \"IL6\":10.2, \"BRAF\":6.7, \"ABL\":5.3}\n",
    "# Create new series\n",
    "gene_expr_vals = pd.Series(data = gene_expr_map)\n"
   ]
  },
  {
   "cell_type": "code",
   "execution_count": null,
   "metadata": {},
   "outputs": [],
   "source": []
  },
  {
   "cell_type": "code",
   "execution_count": null,
   "metadata": {},
   "outputs": [],
   "source": [
    "## Which genes have an expression greater then 5.5?\n",
    "\n"
   ]
  },
  {
   "cell_type": "code",
   "execution_count": null,
   "metadata": {},
   "outputs": [],
   "source": []
  },
  {
   "cell_type": "code",
   "execution_count": null,
   "metadata": {},
   "outputs": [],
   "source": [
    "## Which gene has the highest expression value?\n",
    "\n",
    "## .idmax() - Return the index of the row with the max value\n",
    "\n"
   ]
  },
  {
   "cell_type": "code",
   "execution_count": null,
   "metadata": {},
   "outputs": [],
   "source": []
  },
  {
   "cell_type": "markdown",
   "metadata": {},
   "source": [
    "#### Random data\n",
    "https://docs.scipy.org/doc/numpy-1.13.0/reference/routines.random.html"
   ]
  },
  {
   "cell_type": "code",
   "execution_count": null,
   "metadata": {},
   "outputs": [],
   "source": [
    "# Create an array filled with random values \n",
    "# Results are from the “continuous uniform” distribution over the [0,1] interval.\n",
    "\n",
    "# help(np.random.random)"
   ]
  },
  {
   "cell_type": "code",
   "execution_count": null,
   "metadata": {},
   "outputs": [],
   "source": []
  },
  {
   "cell_type": "code",
   "execution_count": null,
   "metadata": {},
   "outputs": [],
   "source": [
    "# Generate the same random numbers every time\n",
    "# Set seed\n",
    "\n",
    "np.random.seed(42) \n",
    "\n"
   ]
  },
  {
   "cell_type": "code",
   "execution_count": null,
   "metadata": {},
   "outputs": [],
   "source": []
  },
  {
   "cell_type": "code",
   "execution_count": null,
   "metadata": {
    "tags": []
   },
   "outputs": [],
   "source": [
    "# Create an array filled with random values from the standard normal distribution\n",
    "help(np.random.randn) "
   ]
  },
  {
   "cell_type": "code",
   "execution_count": null,
   "metadata": {},
   "outputs": [],
   "source": []
  },
  {
   "cell_type": "code",
   "execution_count": null,
   "metadata": {},
   "outputs": [],
   "source": []
  },
  {
   "cell_type": "code",
   "execution_count": null,
   "metadata": {},
   "outputs": [],
   "source": []
  },
  {
   "cell_type": "markdown",
   "metadata": {},
   "source": [
    "#### 2. `pd.DataFrame`"
   ]
  },
  {
   "cell_type": "markdown",
   "metadata": {},
   "source": [
    "**Multi-dimensional** labeled data structure with columns of *potentially* different types"
   ]
  },
  {
   "cell_type": "markdown",
   "metadata": {},
   "source": [
    "```python\n",
    "# Initialization Syntax\n",
    "df = pd.DataFrame(data, index, columns, dtype)\n",
    "```"
   ]
  },
  {
   "cell_type": "markdown",
   "metadata": {},
   "source": [
    "* **`data`** : what is going inside the DataFrame (numpy ndarray (structured or homogeneous), dict, or DataFrame)\n",
    "* **`index`** : row identifiers (doesn't have to be unique--think foreign key. Defaults to row number)\n",
    "* **`columns`** : column identifiers\n",
    "* **`dtype`** : numpy/python based data types"
   ]
  },
  {
   "cell_type": "markdown",
   "metadata": {},
   "source": [
    "Attributes\n",
    "\n",
    "['T',\n",
    " 'at',\n",
    " 'axes',\n",
    " 'columns',\n",
    " 'dtypes',\n",
    " 'empty',\n",
    " 'ftypes',\n",
    " 'iat',\n",
    " 'iloc',\n",
    " 'index',\n",
    " 'ix',\n",
    " 'loc',\n",
    " 'ndim',\n",
    " 'plot',\n",
    " 'shape',\n",
    " 'size',\n",
    " 'style',\n",
    " 'timetuple',\n",
    " 'values']"
   ]
  },
  {
   "cell_type": "code",
   "execution_count": null,
   "metadata": {},
   "outputs": [],
   "source": [
    "np.random.seed(42)\n",
    "expression_array = np.random.random(20).reshape(4,5) * 100\n",
    "genes = [\"HER2\",\"PIK3CA\", \"BRAF\", \"IL6\"]\n",
    "samples = [\"Sample1\",\"Sample2\", \"Sample3\", \"Sample4\", \"Sample5\"]\n",
    "gene_expr = pd.DataFrame(data = expression_array, \n",
    "                         index = genes, \n",
    "                         columns = samples)\n"
   ]
  },
  {
   "cell_type": "code",
   "execution_count": null,
   "metadata": {},
   "outputs": [],
   "source": []
  },
  {
   "cell_type": "code",
   "execution_count": null,
   "metadata": {},
   "outputs": [],
   "source": [
    "# .describe() -  generate descriptive statistics \n"
   ]
  },
  {
   "cell_type": "code",
   "execution_count": null,
   "metadata": {},
   "outputs": [],
   "source": [
    "# Explore DataFrame attributes and methods .T, .shape, .size., .index, .columns \n",
    "# Get individual columns .<column_name>\n",
    "# '.' operator selected columns are just a pd.Series and can be '[]' sliced on further\n",
    "\n",
    "\n"
   ]
  },
  {
   "cell_type": "code",
   "execution_count": null,
   "metadata": {},
   "outputs": [],
   "source": []
  },
  {
   "cell_type": "code",
   "execution_count": null,
   "metadata": {},
   "outputs": [],
   "source": []
  },
  {
   "cell_type": "code",
   "execution_count": null,
   "metadata": {},
   "outputs": [],
   "source": [
    "###"
   ]
  },
  {
   "cell_type": "code",
   "execution_count": null,
   "metadata": {},
   "outputs": [],
   "source": [
    "gene_expr"
   ]
  },
  {
   "cell_type": "code",
   "execution_count": null,
   "metadata": {},
   "outputs": [],
   "source": [
    "# we can sort the data by column - get the samples ranked by HER2 expression\n",
    "\n",
    "gene_expr.T.sort_values(by='HER2', ascending=False)"
   ]
  },
  {
   "cell_type": "code",
   "execution_count": null,
   "metadata": {},
   "outputs": [],
   "source": []
  },
  {
   "cell_type": "code",
   "execution_count": null,
   "metadata": {},
   "outputs": [],
   "source": [
    "# We can aggregate data - get lowest gene value accross samples\n",
    "\n",
    "gene_expr.aggregate(np.min, 1)"
   ]
  },
  {
   "cell_type": "code",
   "execution_count": null,
   "metadata": {},
   "outputs": [],
   "source": []
  },
  {
   "cell_type": "code",
   "execution_count": null,
   "metadata": {},
   "outputs": [],
   "source": [
    "######"
   ]
  },
  {
   "cell_type": "code",
   "execution_count": null,
   "metadata": {},
   "outputs": [],
   "source": [
    "gene_expr"
   ]
  },
  {
   "cell_type": "markdown",
   "metadata": {},
   "source": [
    "#### Append, join, and concat methods are used to add new rows/columns"
   ]
  },
  {
   "cell_type": "code",
   "execution_count": null,
   "metadata": {},
   "outputs": [],
   "source": [
    "# Add a new sample with the values 54.11, 20.65, 30.52, 96.86\n",
    "\n",
    "# help(pd.DataFrame.join)\n",
    "\n",
    "\n",
    "\n",
    "               "
   ]
  },
  {
   "cell_type": "code",
   "execution_count": null,
   "metadata": {},
   "outputs": [],
   "source": []
  },
  {
   "cell_type": "markdown",
   "metadata": {},
   "source": [
    "#### <b> I/O in Pandas"
   ]
  },
  {
   "cell_type": "markdown",
   "metadata": {},
   "source": [
    "One of the the most common reasons people use pandas is to bring data in without having to deal with file I/O, delimiters, and type conversion. Pandas deals with a lot of this."
   ]
  },
  {
   "cell_type": "markdown",
   "metadata": {},
   "source": [
    "#### CSV Files"
   ]
  },
  {
   "cell_type": "markdown",
   "metadata": {},
   "source": [
    "#### Output"
   ]
  },
  {
   "cell_type": "markdown",
   "metadata": {},
   "source": [
    "You can easily save your `DataFrames`"
   ]
  },
  {
   "cell_type": "code",
   "execution_count": null,
   "metadata": {},
   "outputs": [],
   "source": [
    "gene_expr.to_csv('dataframe_data.csv')"
   ]
  },
  {
   "cell_type": "code",
   "execution_count": null,
   "metadata": {},
   "outputs": [],
   "source": [
    "# help(gene_expr.to_csv)"
   ]
  },
  {
   "cell_type": "code",
   "execution_count": null,
   "metadata": {},
   "outputs": [],
   "source": [
    "gene_expr.to_csv('dataframe_data.csv', index = True)"
   ]
  },
  {
   "cell_type": "markdown",
   "metadata": {},
   "source": [
    "#### Input"
   ]
  },
  {
   "cell_type": "markdown",
   "metadata": {},
   "source": [
    "You can easily bring data from a file into a `DataFrames`"
   ]
  },
  {
   "cell_type": "code",
   "execution_count": null,
   "metadata": {},
   "outputs": [],
   "source": [
    "pd.read_csv('dataframe_data.csv', index_col = 0)"
   ]
  },
  {
   "cell_type": "code",
   "execution_count": null,
   "metadata": {},
   "outputs": [],
   "source": []
  },
  {
   "cell_type": "markdown",
   "metadata": {
    "tags": []
   },
   "source": [
    "##### ------\n",
    "\n",
    "##### Excel Files (.to_excel(), .read_excel())\n",
    "##### TSV Files (.csv( , sep = \"\\t\"), .read_csv( , sep = \"\\t\"))\n",
    "##### Clipboard (.to_clipboard(), .read_clipboard() )"
   ]
  },
  {
   "cell_type": "markdown",
   "metadata": {},
   "source": [
    "#____________________"
   ]
  },
  {
   "cell_type": "markdown",
   "metadata": {},
   "source": [
    "#### <b>Indexing/Exploring/Manipulating in Pandas"
   ]
  },
  {
   "cell_type": "markdown",
   "metadata": {},
   "source": [
    "Standard `'[]'` indexing/slicing can be used, as well as `'.'` methods,"
   ]
  },
  {
   "cell_type": "markdown",
   "metadata": {},
   "source": [
    "There are 2 pandas-specific methods for indexing:\n",
    "1. `.loc` -> primarily label/name-based\n",
    "2. `.iloc` -> primarily integer-based"
   ]
  },
  {
   "cell_type": "code",
   "execution_count": null,
   "metadata": {},
   "outputs": [],
   "source": [
    "df_iris = pd.read_csv('https://raw.githubusercontent.com/uiuc-cse/data-fa14/gh-pages/data/iris.csv')\n"
   ]
  },
  {
   "cell_type": "code",
   "execution_count": null,
   "metadata": {},
   "outputs": [],
   "source": []
  },
  {
   "cell_type": "markdown",
   "metadata": {},
   "source": [
    "Pandas allows you to do random sampling from the dataframe"
   ]
  },
  {
   "cell_type": "code",
   "execution_count": null,
   "metadata": {},
   "outputs": [],
   "source": [
    "df_small = df_iris.sample(n=5)\n",
    "df_small"
   ]
  },
  {
   "cell_type": "code",
   "execution_count": null,
   "metadata": {},
   "outputs": [],
   "source": [
    "# or see the first 5 rows: .head()\n",
    "\n",
    "df_iris.head()"
   ]
  },
  {
   "cell_type": "code",
   "execution_count": null,
   "metadata": {},
   "outputs": [],
   "source": [
    "### \n",
    "\n",
    "df_iris"
   ]
  },
  {
   "cell_type": "markdown",
   "metadata": {},
   "source": [
    "#### `'[]'` slicing on a `pd.DataFrame` gives us a slice of **rows**\n",
    "Named rows can be selected by a range of the names"
   ]
  },
  {
   "cell_type": "code",
   "execution_count": null,
   "metadata": {},
   "outputs": [],
   "source": []
  },
  {
   "cell_type": "markdown",
   "metadata": {},
   "source": []
  },
  {
   "cell_type": "markdown",
   "metadata": {},
   "source": [
    "#### Selection <b>BY NAME</b>: the `.loc` method"
   ]
  },
  {
   "cell_type": "markdown",
   "metadata": {},
   "source": [
    "```python\n",
    "# .loc syntax\n",
    "df.loc[row indexer, column indexer]\n",
    "```"
   ]
  },
  {
   "cell_type": "markdown",
   "metadata": {},
   "source": [
    "<b>A slice of specific items (based on label) - start and stop included</b>"
   ]
  },
  {
   "cell_type": "code",
   "execution_count": null,
   "metadata": {},
   "outputs": [],
   "source": [
    "df_iris.head()"
   ]
  },
  {
   "cell_type": "code",
   "execution_count": null,
   "metadata": {},
   "outputs": [],
   "source": []
  },
  {
   "cell_type": "code",
   "execution_count": null,
   "metadata": {},
   "outputs": [],
   "source": []
  },
  {
   "cell_type": "markdown",
   "metadata": {},
   "source": [
    "#### Boolean indexing - returns rows that meet the condition"
   ]
  },
  {
   "cell_type": "code",
   "execution_count": null,
   "metadata": {},
   "outputs": [],
   "source": []
  },
  {
   "cell_type": "code",
   "execution_count": null,
   "metadata": {},
   "outputs": [],
   "source": []
  },
  {
   "cell_type": "markdown",
   "metadata": {},
   "source": [
    "#### Selection <b>BY POSITION</b>: the `.iloc` method"
   ]
  },
  {
   "cell_type": "markdown",
   "metadata": {},
   "source": [
    "<b>A slice of specific items (based on position)</b>"
   ]
  },
  {
   "cell_type": "code",
   "execution_count": null,
   "metadata": {},
   "outputs": [],
   "source": []
  },
  {
   "cell_type": "code",
   "execution_count": null,
   "metadata": {},
   "outputs": [],
   "source": []
  },
  {
   "cell_type": "code",
   "execution_count": null,
   "metadata": {},
   "outputs": [],
   "source": [
    "# we can use a list of indices\n",
    "\n"
   ]
  },
  {
   "cell_type": "markdown",
   "metadata": {},
   "source": [
    "#### Quick Exploration of the data"
   ]
  },
  {
   "cell_type": "code",
   "execution_count": null,
   "metadata": {
    "tags": []
   },
   "outputs": [],
   "source": [
    "# help(df_iris.groupby)"
   ]
  },
  {
   "cell_type": "code",
   "execution_count": null,
   "metadata": {},
   "outputs": [],
   "source": [
    "# get the mean of the four characteristics grouped by species\n",
    "\n",
    "\n"
   ]
  },
  {
   "cell_type": "markdown",
   "metadata": {},
   "source": [
    "#### Plots - using the `.` (`dot`) notation\n",
    "##### `.hist`, `.plot`, `.boxplot`\n",
    "##### <b>`plot`</b> `.scatter`, `.line`, `.bar`, `.box`, ..."
   ]
  },
  {
   "cell_type": "code",
   "execution_count": null,
   "metadata": {},
   "outputs": [],
   "source": [
    "# dir(df_iris)"
   ]
  },
  {
   "cell_type": "code",
   "execution_count": null,
   "metadata": {},
   "outputs": [],
   "source": [
    "for elem in dir(df_iris):\n",
    "    if \"plot\" in elem:\n",
    "        print(elem)"
   ]
  },
  {
   "cell_type": "code",
   "execution_count": null,
   "metadata": {},
   "outputs": [],
   "source": [
    "for elem in dir(df_iris.plot):\n",
    "    if \"_\" not in elem:\n",
    "        print(elem)"
   ]
  },
  {
   "cell_type": "code",
   "execution_count": null,
   "metadata": {},
   "outputs": [],
   "source": [
    "# Series objects have the plot method as well\n",
    "\n",
    "for elem in dir(df_iris.petal_length):\n",
    "    if \"plot\" in elem:\n",
    "        print(elem)"
   ]
  },
  {
   "cell_type": "code",
   "execution_count": null,
   "metadata": {},
   "outputs": [],
   "source": [
    "for elem in dir(df_iris.petal_length.plot):\n",
    "    if \"_\" not in elem:\n",
    "        print(elem)"
   ]
  },
  {
   "cell_type": "code",
   "execution_count": null,
   "metadata": {},
   "outputs": [],
   "source": [
    "## boxplot of the 4 characteristics \n",
    "## which one varies the most and the least betweeen species?\n",
    "\n",
    "df_iris.boxplot()"
   ]
  },
  {
   "cell_type": "code",
   "execution_count": null,
   "metadata": {},
   "outputs": [],
   "source": []
  },
  {
   "cell_type": "code",
   "execution_count": null,
   "metadata": {},
   "outputs": [],
   "source": [
    "# bar plot of petal length mean per species\n",
    "\n"
   ]
  },
  {
   "cell_type": "code",
   "execution_count": null,
   "metadata": {},
   "outputs": [],
   "source": []
  },
  {
   "cell_type": "code",
   "execution_count": null,
   "metadata": {},
   "outputs": [],
   "source": [
    "## check the dataframe for nas\n",
    "\n",
    "bool(sum(df_iris.isnull().any()))\n"
   ]
  },
  {
   "cell_type": "markdown",
   "metadata": {},
   "source": [
    "#### <font color = \"red\"> Exercise <font/>"
   ]
  },
  {
   "cell_type": "code",
   "execution_count": null,
   "metadata": {},
   "outputs": [],
   "source": [
    "## boxplot of the mean of the 4 characteristics for the species setosa\n",
    "\n"
   ]
  },
  {
   "cell_type": "code",
   "execution_count": null,
   "metadata": {},
   "outputs": [],
   "source": [
    "## histogram of the sepal length for the versicolor species\n",
    "\n",
    "\n"
   ]
  },
  {
   "cell_type": "code",
   "execution_count": null,
   "metadata": {},
   "outputs": [],
   "source": [
    "## Replace all values for the species \"virginica\" where sepal_length >7.5 or <  5.5 with np.nan\n",
    "\n",
    "\n"
   ]
  },
  {
   "cell_type": "code",
   "execution_count": null,
   "metadata": {},
   "outputs": [],
   "source": [
    "## check the dataframe for missing values .isna().any()\n",
    "\n"
   ]
  },
  {
   "cell_type": "code",
   "execution_count": null,
   "metadata": {},
   "outputs": [],
   "source": []
  },
  {
   "cell_type": "markdown",
   "metadata": {},
   "source": [
    "#### RESOURCES\n",
    "\n",
    "https://www.python-course.eu/pandas.phphttps://www.python-course.eu/numpy.php    \n",
    "https://scipy-lectures.org/packages/statistics/index.html?highlight=pandas  \n",
    "https://www.geeksforgeeks.org/pandas-tutorial/"
   ]
  },
  {
   "cell_type": "markdown",
   "metadata": {},
   "source": [
    "https://pandas.pydata.org/Pandas_Cheat_Sheet.pdf"
   ]
  },
  {
   "cell_type": "markdown",
   "metadata": {},
   "source": [
    "<img src=\"https://pandas.pydata.org/Pandas_Cheat_Sheet.pdf\" width=1000/>"
   ]
  }
 ],
 "metadata": {
  "kernelspec": {
   "display_name": "Python 3 (ipykernel)",
   "language": "python",
   "name": "python3"
  },
  "language_info": {
   "codemirror_mode": {
    "name": "ipython",
    "version": 3
   },
   "file_extension": ".py",
   "mimetype": "text/x-python",
   "name": "python",
   "nbconvert_exporter": "python",
   "pygments_lexer": "ipython3",
   "version": "3.9.12"
  }
 },
 "nbformat": 4,
 "nbformat_minor": 4
}
