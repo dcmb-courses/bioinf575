{
 "cells": [
  {
   "cell_type": "markdown",
   "metadata": {},
   "source": [
    "## Building modules\n",
    "### BIOINF 575 - Fall 2023\n"
   ]
  },
  {
   "cell_type": "markdown",
   "metadata": {},
   "source": [
    "### Python notebooks"
   ]
  },
  {
   "cell_type": "markdown",
   "metadata": {},
   "source": [
    "Pros:  \n",
    "* interactive\n",
    "* contain code and presentation\n",
    "* facilitate collaboration\n",
    "* easy to write and test code\n",
    "* provide quick results\n",
    "* easy to display graphs\n",
    "\n",
    "Cons:\n",
    "* not really scallable to large/complex projects\n",
    "    * if you have a very complex project you may not want to have all that code in one single notebook"
   ]
  },
  {
   "cell_type": "markdown",
   "metadata": {},
   "source": [
    "#### Start coding"
   ]
  },
  {
   "cell_type": "code",
   "execution_count": null,
   "metadata": {},
   "outputs": [],
   "source": [
    "\"\"\"\n",
    "    Gene - A class for demonstration purposes.\n",
    "    The class has 2 attributes:\n",
    "    - symbol - text (str) - the gene symbol\n",
    "    - snp_no - numeric (int) - the number of SNPs known for the gene\n",
    "    \n",
    "    The class allows for the update of the numeric attribute.\n",
    "    - update_snp_no updates snp_no by a given additional number of SNPs\n",
    "\"\"\"\n",
    "class Gene:\n",
    "    def __init__(self, gene_symbol = \"Gene Symbol\", snp_number = 0):\n",
    "        self.symbol = gene_symbol\n",
    "        self.snp_no = snp_number\n",
    "        \n",
    "    def __str__(self):\n",
    "        return f\"Gene object: Gene symbol = '{self.symbol}', Number of SNPs = {self.snp_no}\"\n",
    "        \n",
    "    def __repr__(self):\n",
    "        return f\"Gene('{self.symbol}',{self.snp_no})\"\n",
    "    \n",
    "    def update_snp_no(self, additional_snps = 0):\n",
    "        \"\"\"\n",
    "        Add parameter value to snp_no.\n",
    "\n",
    "        Keyword arguments:\n",
    "        int: additional_snps - the number to add (0)\n",
    "        \n",
    "        Returns:\n",
    "        int: updated snp_no\n",
    "        \"\"\"         \n",
    "        old_value = self.snp_no\n",
    "        try:\n",
    "            self.snp_no = self.snp_no + additional_snps\n",
    "        except TypeError: \n",
    "            self.snp_no = self.snp_no + 1\n",
    "            print(f\"'{additional_snps}' is not a numeric value, we added 1 because at least one new SNP was found.\")\n",
    "        finally:\n",
    "            print(f\"Old value was {old_value}, new value is {self.snp_no}\")\n",
    "        return self.snp_no"
   ]
  },
  {
   "cell_type": "code",
   "execution_count": null,
   "metadata": {},
   "outputs": [],
   "source": [
    "# Explore Gene\n"
   ]
  },
  {
   "cell_type": "code",
   "execution_count": null,
   "metadata": {},
   "outputs": [],
   "source": []
  },
  {
   "cell_type": "code",
   "execution_count": null,
   "metadata": {},
   "outputs": [],
   "source": []
  },
  {
   "cell_type": "code",
   "execution_count": null,
   "metadata": {},
   "outputs": [],
   "source": []
  },
  {
   "cell_type": "code",
   "execution_count": null,
   "metadata": {},
   "outputs": [],
   "source": []
  },
  {
   "cell_type": "code",
   "execution_count": null,
   "metadata": {},
   "outputs": [],
   "source": []
  },
  {
   "cell_type": "markdown",
   "metadata": {
    "tags": []
   },
   "source": [
    "#### Do more coding"
   ]
  },
  {
   "cell_type": "code",
   "execution_count": null,
   "metadata": {},
   "outputs": [],
   "source": [
    "\"\"\"\n",
    "    EnhancedGene - A class for demonstration purposes.\n",
    "    The class extends the class Gene with the methods:\n",
    "    - update_symbol - updates symbol\n",
    "    - update_snps - updates the snp number given a list of new SNPs\n",
    "    \n",
    "\"\"\"\n",
    "class EnhancedGene(Gene):\n",
    "    \n",
    "    def update_symbol(self, new_symbol = \"\"):\n",
    "        \"\"\"\n",
    "        Change symbol to new_symbol\n",
    "\n",
    "        Keyword arguments:\n",
    "        str: new_symbol - the string to replace the gene symbol, should contain test (\"\")\n",
    "        \n",
    "        Returns:\n",
    "        str: updated gene symbol\n",
    "        \"\"\"        \n",
    "        old_value = self.symbol\n",
    "        try:\n",
    "            self.symbol = new_symbol\n",
    "            index = self.symbol.index(\"test\")\n",
    "        except TypeError: \n",
    "            self.symbol = self.symbol + \" \" + str(new_symbol)\n",
    "            print(f\"'{new_symbol}' is not a string, we made the conversion and added it\")\n",
    "        except ValueError: \n",
    "            self.symbol = self.symbol + \" test\"\n",
    "            print(f\"'{self.symbol}' does not contain 'test', we added 'test' to it\")\n",
    "\n",
    "        finally:\n",
    "            print(f\"Old value was '{old_value}', new value is '{self.symbol}'\")\n",
    "        return self.symbol\n",
    "    \n",
    "\n",
    "    def update_snps(self, snp_list = []):\n",
    "        \"\"\"\n",
    "        Add parameter snp_list length to snp_no.\n",
    "        \n",
    "        Keyword arguments:\n",
    "            list: snp_list -  the list of snps to add \n",
    "        \n",
    "        Returns:\n",
    "            int: updated gene snp_no\n",
    "        \"\"\"\n",
    "        old_snp_no = self.snp_no\n",
    "        try:\n",
    "            self.snp_no += len(snp_list)\n",
    "        except TypeError:\n",
    "            print(\"We did not change the SNP no, no collection of SNPs was provided!\")\n",
    "        else:\n",
    "            print(\"SNP no updated!\")        \n",
    "        finally:\n",
    "            print(f\"Old value for the SNP no was {old_snp_no}, new value is {self.snp_no}.\")\n",
    "        return self.snp_no"
   ]
  },
  {
   "cell_type": "code",
   "execution_count": null,
   "metadata": {},
   "outputs": [],
   "source": [
    "# Explore EnhancedGene\n",
    "\n"
   ]
  },
  {
   "cell_type": "code",
   "execution_count": null,
   "metadata": {},
   "outputs": [],
   "source": []
  },
  {
   "cell_type": "code",
   "execution_count": null,
   "metadata": {},
   "outputs": [],
   "source": []
  },
  {
   "cell_type": "code",
   "execution_count": null,
   "metadata": {},
   "outputs": [],
   "source": []
  },
  {
   "cell_type": "code",
   "execution_count": null,
   "metadata": {},
   "outputs": [],
   "source": []
  },
  {
   "cell_type": "code",
   "execution_count": null,
   "metadata": {},
   "outputs": [],
   "source": []
  },
  {
   "cell_type": "markdown",
   "metadata": {},
   "source": [
    "### From exploration work to production\n",
    "\n",
    "https://docs.python.org/3/tutorial/modules.html"
   ]
  },
  {
   "cell_type": "markdown",
   "metadata": {},
   "source": [
    "### Python Modules and Scripts"
   ]
  },
  {
   "cell_type": "code",
   "execution_count": null,
   "metadata": {},
   "outputs": [],
   "source": [
    "# All commands with ! can be run without ! in the terminal (mobaxterm or git bash)\n",
    "# if you use the terminal navigate to the same folder as the notebook\n",
    "# Create a module/script file test.py\n",
    "# A module/script is a .py file with python code\n",
    "# The first line is a comment line that tells the bash interpreter that this is a python script and what to use to run it\n",
    "#   #!/usr/bin/python\n",
    "# In Windows the quotes will be added and need to be removed\n",
    "\n",
    "# !echo 'print(\"This is a python script\")' > test.py\n",
    "\n"
   ]
  },
  {
   "cell_type": "markdown",
   "metadata": {},
   "source": [
    "Create a file `test.py` in the same folder with the notebook and add the print statement to it:\n",
    "\n",
    "```python\n",
    "    print(\"This is a python script\")\n",
    "```"
   ]
  },
  {
   "cell_type": "code",
   "execution_count": null,
   "metadata": {},
   "outputs": [],
   "source": [
    "# Check python version\n",
    "\n",
    "#!which python\n",
    "!type python"
   ]
  },
  {
   "cell_type": "code",
   "execution_count": null,
   "metadata": {},
   "outputs": [],
   "source": [
    "!python --version"
   ]
  },
  {
   "cell_type": "code",
   "execution_count": null,
   "metadata": {},
   "outputs": [],
   "source": [
    "#!which python3\n",
    "!type python3"
   ]
  },
  {
   "cell_type": "code",
   "execution_count": null,
   "metadata": {},
   "outputs": [],
   "source": [
    "!python3 --version"
   ]
  },
  {
   "cell_type": "code",
   "execution_count": null,
   "metadata": {},
   "outputs": [],
   "source": [
    "# run/execute script\n",
    "\n",
    "!python test.py\n"
   ]
  },
  {
   "cell_type": "code",
   "execution_count": null,
   "metadata": {},
   "outputs": [],
   "source": [
    "!python3 test.py"
   ]
  },
  {
   "cell_type": "code",
   "execution_count": null,
   "metadata": {},
   "outputs": [],
   "source": [
    "!ls -la test.py"
   ]
  },
  {
   "cell_type": "markdown",
   "metadata": {},
   "source": [
    "We add the header line in the .py file to tell the shell interpreter what program to use to run the script.   \n",
    "The path is the result of: `python --version`\n",
    "\n",
    "```\n",
    "#!/usr/bin/python3\n",
    "```"
   ]
  },
  {
   "cell_type": "code",
   "execution_count": null,
   "metadata": {},
   "outputs": [],
   "source": [
    "# change permissions to add execute (x) permission for the user (u)\n",
    "# in mobaxterm and gitbash this may already be done automatically\n",
    "# in mobaxterm this will work with no problems\n",
    "\n",
    "!chmod u+x test.py"
   ]
  },
  {
   "cell_type": "code",
   "execution_count": null,
   "metadata": {},
   "outputs": [],
   "source": [
    "!./test.py"
   ]
  },
  {
   "cell_type": "code",
   "execution_count": null,
   "metadata": {},
   "outputs": [],
   "source": [
    "# check the environment\n",
    "\n",
    "%whos"
   ]
  },
  {
   "cell_type": "code",
   "execution_count": null,
   "metadata": {},
   "outputs": [],
   "source": [
    "#import a module\n",
    "\n",
    "import test"
   ]
  },
  {
   "cell_type": "markdown",
   "metadata": {},
   "source": [
    "#### Adding more code - adding a function"
   ]
  },
  {
   "cell_type": "code",
   "execution_count": null,
   "metadata": {},
   "outputs": [],
   "source": [
    "def test_function(no = 0):\n",
    "    print(\"This is a function in a python script\")\n",
    "    return no + 1"
   ]
  },
  {
   "cell_type": "code",
   "execution_count": null,
   "metadata": {},
   "outputs": [],
   "source": [
    "test_function()"
   ]
  },
  {
   "cell_type": "code",
   "execution_count": null,
   "metadata": {},
   "outputs": [],
   "source": [
    "test_function(5)"
   ]
  },
  {
   "cell_type": "code",
   "execution_count": null,
   "metadata": {},
   "outputs": [],
   "source": [
    "# add the test_function to the test.py file\n",
    "# restart the kernel (the button with the round arrow icon)\n",
    "# then import (run this cell)\n",
    "\n",
    "import test as t"
   ]
  },
  {
   "cell_type": "code",
   "execution_count": null,
   "metadata": {},
   "outputs": [],
   "source": [
    "dir(t)"
   ]
  },
  {
   "cell_type": "code",
   "execution_count": null,
   "metadata": {},
   "outputs": [],
   "source": [
    "# test the function\n"
   ]
  },
  {
   "cell_type": "code",
   "execution_count": null,
   "metadata": {},
   "outputs": [],
   "source": []
  },
  {
   "cell_type": "code",
   "execution_count": null,
   "metadata": {},
   "outputs": [],
   "source": []
  },
  {
   "cell_type": "code",
   "execution_count": null,
   "metadata": {},
   "outputs": [],
   "source": [
    "# add a test_variable and set a value, restart kernel, import\n",
    "import test as t\n",
    "\n",
    "# the variable is now available to use\n",
    "dir(t)"
   ]
  },
  {
   "cell_type": "code",
   "execution_count": null,
   "metadata": {},
   "outputs": [],
   "source": [
    "# check the environment\n",
    "\n",
    "%whos"
   ]
  },
  {
   "cell_type": "code",
   "execution_count": null,
   "metadata": {},
   "outputs": [],
   "source": [
    "# check the variable \n",
    "\n",
    "t.test_variable"
   ]
  },
  {
   "cell_type": "code",
   "execution_count": null,
   "metadata": {},
   "outputs": [],
   "source": []
  },
  {
   "cell_type": "code",
   "execution_count": null,
   "metadata": {},
   "outputs": [],
   "source": []
  },
  {
   "cell_type": "code",
   "execution_count": null,
   "metadata": {},
   "outputs": [],
   "source": [
    "# add another variable\n"
   ]
  },
  {
   "cell_type": "code",
   "execution_count": null,
   "metadata": {},
   "outputs": [],
   "source": []
  },
  {
   "cell_type": "code",
   "execution_count": null,
   "metadata": {},
   "outputs": [],
   "source": []
  },
  {
   "cell_type": "code",
   "execution_count": null,
   "metadata": {},
   "outputs": [],
   "source": [
    "# add a function called say_hi to the test.py file\n",
    "# the function prints \"Hi name\" using a parameter name\n",
    "# restart kernel, import\n",
    "# test the function\n",
    "\n"
   ]
  },
  {
   "cell_type": "code",
   "execution_count": null,
   "metadata": {},
   "outputs": [],
   "source": []
  },
  {
   "cell_type": "code",
   "execution_count": null,
   "metadata": {},
   "outputs": [],
   "source": []
  },
  {
   "cell_type": "code",
   "execution_count": null,
   "metadata": {},
   "outputs": [],
   "source": []
  },
  {
   "cell_type": "markdown",
   "metadata": {},
   "source": [
    "#### We have created a module - has functionality ready to import\n",
    "#### We could also use it as a script - to actually compute results\n"
   ]
  },
  {
   "cell_type": "markdown",
   "metadata": {},
   "source": [
    "### __main__ — Top-level script environment\n",
    "\n",
    "'__main__' is the name of the scope in which top-level code executes. A module’s __name__ is set equal to '__main__' when read from standard input, a script, or from an interactive prompt.\n",
    "\n",
    "A module can discover whether or not it is running in the main scope by checking its own __name__, which allows a common idiom for conditionally executing code in a module when it is run as a script or with python -m but not when it is imported.\n",
    "\n",
    "```python\n",
    "if __name__ == \"__main__\":\n",
    "    # execute only if run as a script\n",
    "    main() # function that contais the code to execute\n",
    "```\n",
    "\n",
    "https://docs.python.org/3/library/__main__.html"
   ]
  },
  {
   "cell_type": "code",
   "execution_count": null,
   "metadata": {},
   "outputs": [],
   "source": [
    "list.__name__"
   ]
  },
  {
   "cell_type": "code",
   "execution_count": null,
   "metadata": {},
   "outputs": [],
   "source": [
    "t.__name__"
   ]
  },
  {
   "cell_type": "code",
   "execution_count": null,
   "metadata": {},
   "outputs": [],
   "source": [
    "def main():\n",
    "    test_variable = 10\n",
    "    print(f'The test variable value is {test_variable}')"
   ]
  },
  {
   "cell_type": "code",
   "execution_count": null,
   "metadata": {},
   "outputs": [],
   "source": [
    "main()"
   ]
  },
  {
   "cell_type": "code",
   "execution_count": null,
   "metadata": {},
   "outputs": [],
   "source": [
    "# add main, the if statement, restart kernel, import\n",
    "import test as t"
   ]
  },
  {
   "cell_type": "code",
   "execution_count": null,
   "metadata": {},
   "outputs": [],
   "source": [
    "dir(t)"
   ]
  },
  {
   "cell_type": "code",
   "execution_count": null,
   "metadata": {},
   "outputs": [],
   "source": [
    "!python test.py"
   ]
  },
  {
   "cell_type": "code",
   "execution_count": null,
   "metadata": {},
   "outputs": [],
   "source": []
  },
  {
   "cell_type": "code",
   "execution_count": null,
   "metadata": {},
   "outputs": [],
   "source": []
  },
  {
   "cell_type": "code",
   "execution_count": null,
   "metadata": {},
   "outputs": [],
   "source": []
  },
  {
   "cell_type": "code",
   "execution_count": null,
   "metadata": {},
   "outputs": [],
   "source": [
    "# we can still use the script as a module \n",
    "#restart kernel, import\n",
    "import test as t"
   ]
  },
  {
   "cell_type": "code",
   "execution_count": null,
   "metadata": {},
   "outputs": [],
   "source": [
    "t.test_variable\n"
   ]
  },
  {
   "cell_type": "code",
   "execution_count": null,
   "metadata": {},
   "outputs": [],
   "source": []
  },
  {
   "cell_type": "code",
   "execution_count": null,
   "metadata": {},
   "outputs": [],
   "source": []
  },
  {
   "cell_type": "markdown",
   "metadata": {},
   "source": [
    "#### `sys.argv`\n",
    "\n",
    "The list of command line arguments passed to a Python script. argv[0] is the script name (it is operating system dependent whether this is a full pathname or not). <br>\n",
    "If the command was executed using the -c command line option to the interpreter, argv[0] is set to the string '-c'. <br>\n",
    "If no script name was passed to the Python interpreter, argv[0] is the empty string."
   ]
  },
  {
   "cell_type": "markdown",
   "metadata": {},
   "source": [
    "The Python sys module provides access to any command-line arguments using the sys.argv object. \n",
    "\n",
    "The sys.argv is the list of all the command-line arguments.<br>\n",
    "len(sys.argv) is the total number of length of command-line arguments."
   ]
  },
  {
   "cell_type": "markdown",
   "metadata": {},
   "source": [
    "Add to the script\n",
    "\n",
    "```python\n",
    "import sys\n",
    "\n",
    "print('Number of arguments:', len(sys.argv))\n",
    "print ('Argument List:', str(sys.argv))\n",
    "```"
   ]
  },
  {
   "cell_type": "code",
   "execution_count": null,
   "metadata": {},
   "outputs": [],
   "source": [
    "!python test.py"
   ]
  },
  {
   "cell_type": "markdown",
   "metadata": {},
   "source": [
    "#### Give some arguments"
   ]
  },
  {
   "cell_type": "code",
   "execution_count": null,
   "metadata": {},
   "outputs": [],
   "source": [
    "# all arguments will be retrieved as strings\n",
    "!python test.py [1,2,4] message 1"
   ]
  },
  {
   "cell_type": "code",
   "execution_count": null,
   "metadata": {},
   "outputs": [],
   "source": [
    "# no space is allowed within the arguments\n"
   ]
  },
  {
   "cell_type": "code",
   "execution_count": null,
   "metadata": {},
   "outputs": [],
   "source": []
  },
  {
   "cell_type": "code",
   "execution_count": null,
   "metadata": {},
   "outputs": [],
   "source": []
  },
  {
   "cell_type": "markdown",
   "metadata": {},
   "source": [
    "```import numpy as np```"
   ]
  },
  {
   "cell_type": "code",
   "execution_count": null,
   "metadata": {},
   "outputs": [],
   "source": [
    "# Making an array outof a string containing a list\n",
    "\n",
    "import numpy as np\n",
    "np.array(\"[1, 2 , 3]\".strip('][').split(','), dtype = int)"
   ]
  },
  {
   "cell_type": "markdown",
   "metadata": {},
   "source": [
    " "
   ]
  },
  {
   "cell_type": "markdown",
   "metadata": {},
   "source": [
    "#### Argument parsing"
   ]
  },
  {
   "cell_type": "markdown",
   "metadata": {},
   "source": [
    "`import getopt`\n",
    "    \n",
    "`opts, args = getopt.getopt(argv, 'a:b:', ['foperand', 'soperand'])`\n",
    "\n",
    "The signature of the getopt() method looks like:\n",
    "\n",
    "`getopt.getopt(args, shortopts, longopts=[])`\n",
    "\n",
    "* `args` is the list of arguments taken from the command-line.\n",
    "* `shortopts` is where you specify the option letters. If you supply a:, then it means that your script should be supplied with the option a followed by a value as its argument. Technically, you can use any number of options here. When you pass these options from the command-line, they must be prepended with '-'.\n",
    "* `longopts` is where you can specify the extended versions of the shortopts. They must be prepended with '--'.\n",
    "\n",
    "https://www.datacamp.com/community/tutorials/argument-parsing-in-python\n",
    "https://docs.python.org/2/library/getopt.html\n",
    "https://www.tutorialspoint.com/python/python_command_line_arguments.htm"
   ]
  },
  {
   "cell_type": "code",
   "execution_count": null,
   "metadata": {},
   "outputs": [],
   "source": [
    "# create the test_getopt.py file and copy the following content to the file\n",
    "!touch test_getopt.py"
   ]
  },
  {
   "cell_type": "markdown",
   "metadata": {},
   "source": [
    "Change the file test_getopt.py\n",
    "\n",
    "\n",
    "```python\n",
    "    import getopt\n",
    "    import numpy as np\n",
    "    \n",
    "    try:\n",
    "        # Define the getopt parameters\n",
    "        opts, args = getopt.getopt(sys.argv[1:], \"l:s:n:\", [\"list\",\"string\",\"number\"])\n",
    "        print(\"no of arguments:\", len(opts))\n",
    "        if len(opts) != 3:\n",
    "            print (\"Provide 3 arguments.\")\n",
    "            print(\"usage: test.py -l <list_operand> -s <string_operand> -n <number_operand>\")\n",
    "        else:\n",
    "            print(\"options:\", opts)\n",
    "            test_array = np.array(opts[0][1].strip('][').split(','), dtype = int)\n",
    "            string_text = opts[1][1]\n",
    "            number_text = int(opts[2][1])\n",
    "            test_array = test_array * number_text \n",
    "            print(f'\\nInfo \"{string_text}\", the updated list is: {test_array}\\n')\n",
    "    except getopt.GetoptError:\n",
    "        print (\"usage: test.py -l <list_operand> -s <string_operand> -n <number_operand>\")\n",
    "```"
   ]
  },
  {
   "cell_type": "code",
   "execution_count": null,
   "metadata": {},
   "outputs": [],
   "source": [
    "!python test_getopt.py"
   ]
  },
  {
   "cell_type": "code",
   "execution_count": null,
   "metadata": {},
   "outputs": [],
   "source": [
    "!python test_getopt.py -l [1,2,4] -s message"
   ]
  },
  {
   "cell_type": "code",
   "execution_count": null,
   "metadata": {},
   "outputs": [],
   "source": [
    "!python test_getopt.py -l [1,2,4] -s message -n 3"
   ]
  },
  {
   "cell_type": "code",
   "execution_count": null,
   "metadata": {},
   "outputs": [],
   "source": []
  },
  {
   "cell_type": "code",
   "execution_count": null,
   "metadata": {},
   "outputs": [],
   "source": []
  },
  {
   "cell_type": "markdown",
   "metadata": {},
   "source": [
    " "
   ]
  },
  {
   "cell_type": "markdown",
   "metadata": {},
   "source": [
    "#### `argparse` -increased readability\n",
    "`import argparse`\n",
    "\n",
    "`class argparse.ArgumentParser(prog=None, usage=None, description=None, epilog=None, parents=[], formatter_class=argparse.HelpFormatter, prefix_chars='-', fromfile_prefix_chars=None, argument_default=None, conflict_handler='error', add_help=True, allow_abbrev=True)`<br>\n",
    "https://docs.python.org/3/library/argparse.html#argumentparser-objects\n",
    "\n",
    "Argument definition<br>\n",
    "`ArgumentParser.add_argument(name or flags...[, action][, nargs][, const][, default][, type][, choices][, required][, help][, metavar][, dest])`<br>\n",
    "https://docs.python.org/3/library/argparse.html#the-add-argument-method\n",
    "\n",
    "`ap.add_argument(\"-i\", \"--ioperand\", required=True, help=\"important operand\")`\n",
    "\n",
    "* -i - letter version of the argument\n",
    "* --ioperand - extended version of the argument\n",
    "* required - whether the argument or not\n",
    "* help - maningful description\n",
    "\n",
    "https://www.datacamp.com/community/tutorials/argument-parsing-in-python\n",
    "https://docs.python.org/3/library/argparse.html\n",
    "https://realpython.com/command-line-interfaces-python-argparse/"
   ]
  },
  {
   "cell_type": "code",
   "execution_count": null,
   "metadata": {},
   "outputs": [],
   "source": [
    "# create the test_argparse.py file and copy the following content to the file\n",
    "!touch test_argparse.py"
   ]
  },
  {
   "cell_type": "markdown",
   "metadata": {},
   "source": [
    "Change the file test_argparse.py\n",
    "\n",
    "\n",
    "\n",
    "```python\n",
    "    import argparse\n",
    "    import numpy as np \n",
    "\n",
    "\n",
    "    ap = argparse.ArgumentParser()\n",
    "\n",
    "    # Add the arguments to the parser\n",
    "    ap.add_argument(\"-l\", \"--list_operand\", required=True, help=\"list operand\")\n",
    "    ap.add_argument(\"-s\", \"--string_operand\", required=True, help=\"string operand\")\n",
    "    ap.add_argument(\"-n\", \"--number_operand\", required=True, help=\"number operand\")\n",
    "\n",
    "    args = vars(ap.parse_args())\n",
    "    print(\"arguments:\", args)\n",
    "    test_array = np.array(args[\"list_operand\"].strip(\"][\").split(\",\"), dtype = int)\n",
    "    string_text = args[\"string_operand\"]\n",
    "    number_text = int(args[\"number_operand\"])\n",
    "    test_array = test_array * number_text \n",
    "\n",
    "    print(f\"\\nResult with argparse.\\nInfo '{string_text}', for updated list {test_array}\\n\")\n",
    "```\n"
   ]
  },
  {
   "cell_type": "code",
   "execution_count": null,
   "metadata": {},
   "outputs": [],
   "source": [
    "!python test_argparse.py -h"
   ]
  },
  {
   "cell_type": "code",
   "execution_count": null,
   "metadata": {},
   "outputs": [],
   "source": [
    "!python test_argparse.py -l [1,2,4] --string_operand message -n 5"
   ]
  },
  {
   "cell_type": "code",
   "execution_count": null,
   "metadata": {},
   "outputs": [],
   "source": []
  },
  {
   "cell_type": "code",
   "execution_count": null,
   "metadata": {},
   "outputs": [],
   "source": []
  },
  {
   "cell_type": "markdown",
   "metadata": {},
   "source": [
    " "
   ]
  },
  {
   "cell_type": "markdown",
   "metadata": {},
   "source": [
    "##### `action` parameter - count example\n",
    "https://docs.python.org/3/library/argparse.html#action"
   ]
  },
  {
   "cell_type": "markdown",
   "metadata": {},
   "source": [
    "'count' - This counts the number of times a keyword argument occurs. For example, this is useful for increasing verbosity levels:\n",
    "\n",
    "    `ap.add_argument(\"-v\", \"--verbose\", action='count', default=0)`\n"
   ]
  },
  {
   "cell_type": "code",
   "execution_count": null,
   "metadata": {},
   "outputs": [],
   "source": [
    "# check the long and short form of the operands\n",
    "\n",
    "!python test_argparse.py -l [1,2,4] --string_operand message -n 5 -vv"
   ]
  },
  {
   "cell_type": "code",
   "execution_count": null,
   "metadata": {},
   "outputs": [],
   "source": []
  },
  {
   "cell_type": "code",
   "execution_count": null,
   "metadata": {},
   "outputs": [],
   "source": []
  },
  {
   "cell_type": "code",
   "execution_count": null,
   "metadata": {},
   "outputs": [],
   "source": []
  },
  {
   "cell_type": "code",
   "execution_count": null,
   "metadata": {},
   "outputs": [],
   "source": []
  },
  {
   "cell_type": "code",
   "execution_count": null,
   "metadata": {},
   "outputs": [],
   "source": []
  },
  {
   "cell_type": "markdown",
   "metadata": {},
   "source": [
    "### More Modules\n",
    "\n",
    "https://docs.python.org/3/tutorial/modules.html\n",
    "https://www.python.org/dev/peps/pep-0008/#package-and-module-names"
   ]
  },
  {
   "cell_type": "markdown",
   "metadata": {},
   "source": [
    "If you want to write a somewhat longer program, you are better off <b>using a text editor to prepare the input for the interpreter and running it with that file as input instead. This is known as creating a script.</b> \n",
    "    \n",
    "As your program gets longer, you may want to split it into several files for easier maintenance. You may also want to use a handy function that you’ve written in several programs without copying its definition into each program.\n",
    "\n",
    "A module is a file containing Python definitions and statements. <b>The file name is the module name with the suffix .py appended</b>. Within a module, the module’s name (as a string) is available as the value of the global variable `__name__`."
   ]
  },
  {
   "cell_type": "code",
   "execution_count": null,
   "metadata": {},
   "outputs": [],
   "source": [
    "#Let's create a module for our classes\n",
    "!touch gene_module.py\n",
    "# add Gene class to the file"
   ]
  },
  {
   "cell_type": "code",
   "execution_count": null,
   "metadata": {},
   "outputs": [],
   "source": [
    "import gene_module as gm"
   ]
  },
  {
   "cell_type": "code",
   "execution_count": null,
   "metadata": {},
   "outputs": [],
   "source": [
    "gm.Gene()"
   ]
  },
  {
   "cell_type": "code",
   "execution_count": null,
   "metadata": {},
   "outputs": [],
   "source": []
  },
  {
   "cell_type": "code",
   "execution_count": null,
   "metadata": {},
   "outputs": [],
   "source": []
  },
  {
   "cell_type": "code",
   "execution_count": null,
   "metadata": {},
   "outputs": [],
   "source": []
  },
  {
   "cell_type": "code",
   "execution_count": null,
   "metadata": {},
   "outputs": [],
   "source": [
    "!touch enhanced_gene_module.py\n",
    "# add EnhancedGene class to the file"
   ]
  },
  {
   "cell_type": "code",
   "execution_count": null,
   "metadata": {},
   "outputs": [],
   "source": [
    "import enhanced_gene_module as egm"
   ]
  },
  {
   "cell_type": "code",
   "execution_count": null,
   "metadata": {},
   "outputs": [],
   "source": [
    "eg1 = egm.EnhancedGene()"
   ]
  },
  {
   "cell_type": "code",
   "execution_count": null,
   "metadata": {},
   "outputs": [],
   "source": [
    "#dir(eg1)"
   ]
  },
  {
   "cell_type": "code",
   "execution_count": null,
   "metadata": {},
   "outputs": [],
   "source": []
  },
  {
   "cell_type": "code",
   "execution_count": null,
   "metadata": {},
   "outputs": [],
   "source": []
  },
  {
   "cell_type": "code",
   "execution_count": null,
   "metadata": {},
   "outputs": [],
   "source": []
  }
 ],
 "metadata": {
  "kernelspec": {
   "display_name": "Python 3 (ipykernel)",
   "language": "python",
   "name": "python3"
  },
  "language_info": {
   "codemirror_mode": {
    "name": "ipython",
    "version": 3
   },
   "file_extension": ".py",
   "mimetype": "text/x-python",
   "name": "python",
   "nbconvert_exporter": "python",
   "pygments_lexer": "ipython3",
   "version": "3.9.12"
  }
 },
 "nbformat": 4,
 "nbformat_minor": 4
}
