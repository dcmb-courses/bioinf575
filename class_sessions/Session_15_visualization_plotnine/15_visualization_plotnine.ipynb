{
 "cells": [
  {
   "cell_type": "markdown",
   "metadata": {},
   "source": [
    "## Data Visualization - plotnine, plotly\n",
    "### BIOINF 575 - Fall 2022\n"
   ]
  },
  {
   "cell_type": "markdown",
   "metadata": {},
   "source": [
    "____\n",
    "\n",
    "### `plotnine` - grammar of graphics - R ggplot2 in python"
   ]
  },
  {
   "cell_type": "markdown",
   "metadata": {},
   "source": [
    "plotnine is an implementation of a grammar of graphics in Python, it is based on ggplot2. The grammar allows users to compose plots by explicitly mapping data to the visual objects that make up the plot.\n",
    "\n",
    "Plotting with a grammar is powerful, it makes custom (and otherwise complex) plots are easy to think about and then create, while the simple plots remain simple.\n",
    "\n"
   ]
  },
  {
   "cell_type": "markdown",
   "metadata": {},
   "source": [
    "https://plotnine.readthedocs.io/en/stable/api.html   \n",
    "https://plotnine.readthedocs.io/en/stable/   \n",
    "http://cmdlinetips.com/2018/05/plotnine-a-python-library-to-use-ggplot2-in-python/  \n",
    "https://plotnine.readthedocs.io/en/stable/tutorials/miscellaneous-altering-colors.html   \n",
    "https://datascienceworkshops.com/blog/plotnine-grammar-of-graphics-for-python/   \n",
    "https://realpython.com/ggplot-python/"
   ]
  },
  {
   "cell_type": "markdown",
   "metadata": {},
   "source": [
    "\n",
    "\n",
    "### Run the following line in a terminal window to install the library\n",
    "#### This should have been done during the first session of the class so try the second cell first to see if the import gives any error"
   ]
  },
  {
   "cell_type": "code",
   "execution_count": null,
   "metadata": {},
   "outputs": [],
   "source": [
    "# pip install plotnine"
   ]
  },
  {
   "cell_type": "code",
   "execution_count": null,
   "metadata": {},
   "outputs": [],
   "source": [
    "from plotnine import *"
   ]
  },
  {
   "cell_type": "code",
   "execution_count": null,
   "metadata": {},
   "outputs": [],
   "source": [
    "import pandas as pd"
   ]
  },
  {
   "cell_type": "code",
   "execution_count": null,
   "metadata": {},
   "outputs": [],
   "source": [
    "# load the iris dataset \n",
    "# data for 150 iris flowers => 150 rows\n",
    "# petal - length and width and sepal length and width and the species => 5 columns\n",
    "\n",
    "df_iris = pd.read_csv('https://raw.githubusercontent.com/uiuc-cse/data-fa14/gh-pages/data/iris.csv')\n",
    "df_iris"
   ]
  },
  {
   "cell_type": "markdown",
   "metadata": {},
   "source": [
    "#### We can construct the plot starting with the ggplot method that creates an empty plot\n",
    "- That is the subject of our sentence\n",
    "- ggplot was created to primarily work woth dataframes so the data argument will be a dataframe"
   ]
  },
  {
   "cell_type": "code",
   "execution_count": null,
   "metadata": {},
   "outputs": [],
   "source": [
    "ggplot(data=df_iris)"
   ]
  },
  {
   "cell_type": "code",
   "execution_count": null,
   "metadata": {},
   "outputs": [],
   "source": []
  },
  {
   "cell_type": "markdown",
   "metadata": {},
   "source": [
    "#### We can add the type of plot we want to build using a geom\n",
    "-  It is like adding a predicate to our sentence"
   ]
  },
  {
   "cell_type": "code",
   "execution_count": null,
   "metadata": {},
   "outputs": [],
   "source": [
    "for elem in dir():\n",
    "    if elem.startswith(\"geom\"):\n",
    "        print(elem)"
   ]
  },
  {
   "cell_type": "markdown",
   "metadata": {},
   "source": [
    "#### Aesthetics - properties/characteristics for the plot\n",
    "https://plotnine.readthedocs.io/en/dev/_modules/plotnine/mapping/aes.html\n",
    "https://plotnine.readthedocs.io/en/stable/generated/plotnine.mapping.aes.html"
   ]
  },
  {
   "cell_type": "code",
   "execution_count": null,
   "metadata": {},
   "outputs": [],
   "source": [
    "# aes?"
   ]
  },
  {
   "cell_type": "code",
   "execution_count": null,
   "metadata": {},
   "outputs": [],
   "source": [
    "# map a data frame column to the x axis and another to the y axis using the aesthetics\n",
    "ggplot(data=df_iris) + geom_point(aes(x=\"petal_length\", y = \"petal_width\"))"
   ]
  },
  {
   "cell_type": "code",
   "execution_count": null,
   "metadata": {},
   "outputs": [],
   "source": [
    "# add transparency - to avoid over plotting - alpha argument\n",
    "ggplot(data=df_iris) + aes(x=\"petal_length\", y = \"petal_width\") + geom_point(alpha=0.2)"
   ]
  },
  {
   "cell_type": "code",
   "execution_count": null,
   "metadata": {},
   "outputs": [],
   "source": [
    "# change point size \n",
    "ggplot(data=df_iris) + aes(x=\"petal_length\", y = \"petal_width\") + geom_point(size = 0.7, alpha=0.3, color = \"red\")"
   ]
  },
  {
   "cell_type": "code",
   "execution_count": null,
   "metadata": {},
   "outputs": [],
   "source": []
  },
  {
   "cell_type": "markdown",
   "metadata": {},
   "source": [
    "#### More functionality \n",
    "- more sentence parts     \n",
    "https://plotnine.readthedocs.io/en/stable/api.html#related-to-geoms"
   ]
  },
  {
   "cell_type": "code",
   "execution_count": null,
   "metadata": {},
   "outputs": [],
   "source": [
    "# more parameters - scale_x_log10 - transform x axis values to log scale, xlab - add label to x axis\n",
    "ggplot(data=df_iris) + aes(x=\"petal_length\", y = \"petal_width\", color = \"species\") \\\n",
    "    + geom_point() + scale_x_log10() + xlab(\"Petal Length\")"
   ]
  },
  {
   "cell_type": "markdown",
   "metadata": {},
   "source": [
    "#### Break down the plot in subplots\n",
    "- facet wrap"
   ]
  },
  {
   "cell_type": "code",
   "execution_count": null,
   "metadata": {},
   "outputs": [],
   "source": [
    "# facet_wrap?"
   ]
  },
  {
   "cell_type": "code",
   "execution_count": null,
   "metadata": {},
   "outputs": [],
   "source": [
    "# customize the display/style of the figure\n",
    "# theme?"
   ]
  },
  {
   "cell_type": "code",
   "execution_count": null,
   "metadata": {},
   "outputs": [],
   "source": [
    "# theme and title to customize the figure\n",
    "# and facet wrap to break it down in subfigures by category\n",
    "\n",
    "title = '3 species : petal length and width'\n",
    "\n",
    "ggplot(data=df_iris) +aes(x='petal_length',y='petal_width',color=\"species\") + \\\n",
    "    geom_point(size=0.7,alpha=0.7) + facet_wrap('~species',nrow=3) + \\\n",
    "    theme(figure_size=(9,5)) + ggtitle(title)\n"
   ]
  },
  {
   "cell_type": "code",
   "execution_count": null,
   "metadata": {},
   "outputs": [],
   "source": [
    "# Set width of bar for histogram and color for the bar line and bar fill color\n",
    "\n",
    "p = ggplot(data=df_iris) + aes(x='petal_length') + geom_histogram(binwidth=1,color='black',fill='grey')\n",
    "p"
   ]
  },
  {
   "cell_type": "code",
   "execution_count": null,
   "metadata": {},
   "outputs": [],
   "source": [
    "# Save the plot to a file\n",
    "\n",
    "ggsave(plot=p, filename='hist_plot_with_plotnine.png')\n"
   ]
  },
  {
   "cell_type": "markdown",
   "metadata": {},
   "source": [
    "#### Quick analysis on the cars dataset:\n",
    "\n",
    "| variable | description                              |\n",
    "|----------|------------------------------------------|\n",
    "| mpg      | Miles/(US) gallon                        |\n",
    "| cyl      | Number of cylinders                      |\n",
    "| disp     | Displacement (cu.in.)                    |\n",
    "| hp       | Gross horsepower                         |\n",
    "| drat     | Rear axle ratio                          |\n",
    "| wt       | Weight (lb/1000)                         |\n",
    "| qsec     | 1/4 mile time                            |\n",
    "| vs       | V/S                                      |\n",
    "| am       | Transmission (0 = automatic, 1 = manual) |\n",
    "| gear     | Number of forward gears                  |\n",
    "| carb     | Number of carburetors                    |"
   ]
  },
  {
   "cell_type": "code",
   "execution_count": null,
   "metadata": {},
   "outputs": [],
   "source": [
    "# Create a linear regression line that uses the weight of the car to explain/predict the miles per gallon\n",
    "# These are broken down in 3 categories by gear\n",
    "# The grey area is the 95% confidence level interval for predictions from a linear model (\"lm\")\n",
    "\n",
    "from plotnine.data import mtcars\n",
    "\n",
    "(ggplot(mtcars, aes('wt', 'mpg', color='factor(gear)'))\n",
    " + geom_point()\n",
    " + stat_smooth(method='lm')\n",
    " + facet_wrap('~gear'))"
   ]
  },
  {
   "cell_type": "code",
   "execution_count": null,
   "metadata": {},
   "outputs": [],
   "source": []
  },
  {
   "cell_type": "markdown",
   "metadata": {
    "tags": []
   },
   "source": [
    "#### <font color = \"red\">Exercise</font>\n",
    "\n",
    "* Use ggplot and the df_iris dataset to plot the sepal_length in boxplots separated by species, add new axes labels and make the y axis values log10.\n",
    "\n"
   ]
  },
  {
   "cell_type": "code",
   "execution_count": null,
   "metadata": {},
   "outputs": [],
   "source": []
  },
  {
   "cell_type": "code",
   "execution_count": null,
   "metadata": {},
   "outputs": [],
   "source": []
  },
  {
   "cell_type": "code",
   "execution_count": null,
   "metadata": {},
   "outputs": [],
   "source": []
  },
  {
   "cell_type": "code",
   "execution_count": null,
   "metadata": {},
   "outputs": [],
   "source": []
  },
  {
   "cell_type": "markdown",
   "metadata": {},
   "source": [
    "\n",
    "https://raw.githubusercontent.com/rstudio/cheatsheets/master/pngs/data-visualization.png"
   ]
  },
  {
   "cell_type": "markdown",
   "metadata": {},
   "source": [
    "<img src = \"https://raw.githubusercontent.com/rstudio/cheatsheets/master/pngs/data-visualization.png\" width = \"1000\"/>"
   ]
  },
  {
   "cell_type": "code",
   "execution_count": null,
   "metadata": {},
   "outputs": [],
   "source": []
  },
  {
   "cell_type": "code",
   "execution_count": null,
   "metadata": {},
   "outputs": [],
   "source": []
  },
  {
   "cell_type": "markdown",
   "metadata": {
    "tags": []
   },
   "source": [
    "#### `plotly` - makes interactive graphs\n",
    "#### This is more of a demo\n"
   ]
  },
  {
   "cell_type": "markdown",
   "metadata": {},
   "source": [
    "https://plot.ly/python/getting-started/"
   ]
  },
  {
   "cell_type": "markdown",
   "metadata": {},
   "source": [
    "Run in jupyter notebook or in a termina window without the !"
   ]
  },
  {
   "cell_type": "code",
   "execution_count": null,
   "metadata": {},
   "outputs": [],
   "source": [
    "#!pip install plotly"
   ]
  },
  {
   "cell_type": "code",
   "execution_count": null,
   "metadata": {},
   "outputs": [],
   "source": [
    "#!pip install ipywidgets"
   ]
  },
  {
   "cell_type": "code",
   "execution_count": null,
   "metadata": {},
   "outputs": [],
   "source": [
    "import plotly.graph_objects as go\n",
    "#from plotly.offline import iplot"
   ]
  },
  {
   "cell_type": "code",
   "execution_count": null,
   "metadata": {},
   "outputs": [],
   "source": [
    "# jupyter labextension install @jupyterlab/plotly-extension"
   ]
  },
  {
   "cell_type": "code",
   "execution_count": null,
   "metadata": {},
   "outputs": [],
   "source": [
    "fig = go.Figure(\n",
    "    data=[go.Bar(y=[2, 1, 3])],\n",
    "    layout_title_text=\"Title\"\n",
    ")\n",
    "fig"
   ]
  },
  {
   "cell_type": "code",
   "execution_count": null,
   "metadata": {},
   "outputs": [],
   "source": [
    "import plotly.express as px\n",
    "iris = px.data.iris()\n",
    "fig = px.scatter(iris, x=\"sepal_width\", y=\"sepal_length\", color=\"species\")\n",
    "\n",
    "fig"
   ]
  },
  {
   "cell_type": "markdown",
   "metadata": {},
   "source": [
    "#### Examples of what can be done with plotly:\n",
    "https://dash.gallery/Portal/"
   ]
  },
  {
   "cell_type": "code",
   "execution_count": null,
   "metadata": {},
   "outputs": [],
   "source": []
  }
 ],
 "metadata": {
  "kernelspec": {
   "display_name": "Python 3 (ipykernel)",
   "language": "python",
   "name": "python3"
  },
  "language_info": {
   "codemirror_mode": {
    "name": "ipython",
    "version": 3
   },
   "file_extension": ".py",
   "mimetype": "text/x-python",
   "name": "python",
   "nbconvert_exporter": "python",
   "pygments_lexer": "ipython3",
   "version": "3.9.12"
  }
 },
 "nbformat": 4,
 "nbformat_minor": 4
}
