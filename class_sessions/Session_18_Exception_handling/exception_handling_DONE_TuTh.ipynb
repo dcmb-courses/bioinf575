{
 "cells": [
  {
   "cell_type": "markdown",
   "metadata": {},
   "source": [
    "## Exception Handling  - considering and managing exceptional cases\n",
    "### BIOINF 575 - Fall 2022"
   ]
  },
  {
   "cell_type": "markdown",
   "metadata": {},
   "source": [
    "https://docs.python.org/3/tutorial/errors.html\n",
    "\n",
    "https://docs.python.org/3/library/exceptions.html#exception-hierarchy\n",
    "\n",
    "https://docs.python.org/3/library/warnings.html\n",
    "\n",
    "https://www.pythonforbeginners.com/error-handling/exception-handling-in-python\n",
    "\n",
    "Accompanying slides (by Ashley Carroll - GSI for the class in Fall 2021) can be found on the course canvas page under Files -> Class sessions -> Session_18_Exception_handling.   \n",
    "The notebook sections correspond to the topics in the slides.\n",
    "\n",
    "#### We will intentionally try to write code that does not run properly in this session !!!"
   ]
  },
  {
   "cell_type": "markdown",
   "metadata": {},
   "source": [
    "____\n",
    "\n",
    "#### Errors and Exceptions\n",
    "\n",
    "- We encountered errors and exceptions very early once we started writing code\n",
    "- They typically happen when code cannot be run or a result/operation cannot be computed \n",
    "- They allow us to uderstand the problem and try to fix it"
   ]
  },
  {
   "cell_type": "code",
   "execution_count": 1,
   "metadata": {},
   "outputs": [
    {
     "ename": "SyntaxError",
     "evalue": "unexpected EOF while parsing (891704268.py, line 1)",
     "output_type": "error",
     "traceback": [
      "\u001b[0;36m  Input \u001b[0;32mIn [1]\u001b[0;36m\u001b[0m\n\u001b[0;31m    print(2\u001b[0m\n\u001b[0m           ^\u001b[0m\n\u001b[0;31mSyntaxError\u001b[0m\u001b[0;31m:\u001b[0m unexpected EOF while parsing\n"
     ]
    }
   ],
   "source": [
    "print(2"
   ]
  },
  {
   "cell_type": "code",
   "execution_count": 2,
   "metadata": {},
   "outputs": [
    {
     "ename": "NameError",
     "evalue": "name 'x' is not defined",
     "output_type": "error",
     "traceback": [
      "\u001b[0;31m---------------------------------------------------------------------------\u001b[0m",
      "\u001b[0;31mNameError\u001b[0m                                 Traceback (most recent call last)",
      "Input \u001b[0;32mIn [2]\u001b[0m, in \u001b[0;36m<cell line: 1>\u001b[0;34m()\u001b[0m\n\u001b[0;32m----> 1\u001b[0m \u001b[43mx\u001b[49m \u001b[38;5;241m+\u001b[39m \u001b[38;5;241m1\u001b[39m\n",
      "\u001b[0;31mNameError\u001b[0m: name 'x' is not defined"
     ]
    }
   ],
   "source": [
    "x + 1"
   ]
  },
  {
   "cell_type": "code",
   "execution_count": null,
   "metadata": {},
   "outputs": [],
   "source": []
  },
  {
   "cell_type": "code",
   "execution_count": null,
   "metadata": {},
   "outputs": [],
   "source": []
  },
  {
   "cell_type": "code",
   "execution_count": null,
   "metadata": {},
   "outputs": [],
   "source": []
  },
  {
   "cell_type": "markdown",
   "metadata": {},
   "source": [
    "#### Exception Hierarchy\n",
    "https://docs.python.org/3/library/exceptions.html#exception-hierarchy\n",
    "\n",
    "- Python built-in exceptions follow a hierarchical structure:\n",
    "    - An IndentationError IS A SyntaxError\n",
    "    - A ZeroDivisionError IS AN ArithmeticError\n",
    "        - an ArithmeticError IS AN Exception\n",
    "        - an Exception IS A BaseException\n",
    "- In Python, all exceptions must be instances of a class that derives from BaseException"
   ]
  },
  {
   "cell_type": "code",
   "execution_count": 3,
   "metadata": {},
   "outputs": [
    {
     "data": {
      "text/plain": [
       "['ArithmeticError',\n",
       " 'AssertionError',\n",
       " 'AttributeError',\n",
       " 'BlockingIOError',\n",
       " 'BrokenPipeError',\n",
       " 'BufferError',\n",
       " 'ChildProcessError',\n",
       " 'ConnectionAbortedError',\n",
       " 'ConnectionError',\n",
       " 'ConnectionRefusedError',\n",
       " 'ConnectionResetError',\n",
       " 'EOFError',\n",
       " 'EnvironmentError',\n",
       " 'FileExistsError',\n",
       " 'FileNotFoundError',\n",
       " 'FloatingPointError',\n",
       " 'IOError',\n",
       " 'ImportError',\n",
       " 'IndentationError',\n",
       " 'IndexError',\n",
       " 'InterruptedError',\n",
       " 'IsADirectoryError',\n",
       " 'KeyError',\n",
       " 'LookupError',\n",
       " 'MemoryError',\n",
       " 'ModuleNotFoundError',\n",
       " 'NameError',\n",
       " 'NotADirectoryError',\n",
       " 'NotImplementedError',\n",
       " 'OSError',\n",
       " 'OverflowError',\n",
       " 'PermissionError',\n",
       " 'ProcessLookupError',\n",
       " 'RecursionError',\n",
       " 'ReferenceError',\n",
       " 'RuntimeError',\n",
       " 'SyntaxError',\n",
       " 'SystemError',\n",
       " 'TabError',\n",
       " 'TimeoutError',\n",
       " 'TypeError',\n",
       " 'UnboundLocalError',\n",
       " 'UnicodeDecodeError',\n",
       " 'UnicodeEncodeError',\n",
       " 'UnicodeError',\n",
       " 'UnicodeTranslateError',\n",
       " 'ValueError',\n",
       " 'ZeroDivisionError']"
      ]
     },
     "execution_count": 3,
     "metadata": {},
     "output_type": "execute_result"
    }
   ],
   "source": [
    "# The list of Error Types from the builtin module\n",
    "\n",
    "[e for e in dir(__builtin__) if \"Error\" in e]"
   ]
  },
  {
   "cell_type": "code",
   "execution_count": 4,
   "metadata": {},
   "outputs": [
    {
     "data": {
      "text/plain": [
       "True"
      ]
     },
     "execution_count": 4,
     "metadata": {},
     "output_type": "execute_result"
    }
   ],
   "source": [
    "# Check the hierarchy - ValueError is an Exception\n",
    "\n",
    "isinstance(IndentationError(), SyntaxError)"
   ]
  },
  {
   "cell_type": "code",
   "execution_count": 5,
   "metadata": {},
   "outputs": [
    {
     "data": {
      "text/plain": [
       "True"
      ]
     },
     "execution_count": 5,
     "metadata": {},
     "output_type": "execute_result"
    }
   ],
   "source": [
    "isinstance(SyntaxError(), Exception)"
   ]
  },
  {
   "cell_type": "markdown",
   "metadata": {
    "tags": []
   },
   "source": [
    "#### <font color = \"red\">Syntax errors</font> - instructions in the code are not correctly written \n",
    "- The code cannot be executed\n",
    "- Also known as parsing errors, are perhaps the most common kind of complaint you get while you are learning Python.\n",
    "- The parser repeats the offending line and displays a little ‘arrow’ pointing at the earliest point in the line where the error was detected\n",
    "    - The error is caused by (or at least detected at) the token preceding the arrow\n",
    "    - File name and line number are printed so you know where to look in case the input came from a script\n",
    " "
   ]
  },
  {
   "cell_type": "code",
   "execution_count": 8,
   "metadata": {},
   "outputs": [
    {
     "ename": "SyntaxError",
     "evalue": "invalid syntax (2453738787.py, line 2)",
     "output_type": "error",
     "traceback": [
      "\u001b[0;36m  Input \u001b[0;32mIn [8]\u001b[0;36m\u001b[0m\n\u001b[0;31m    print(3)\u001b[0m\n\u001b[0m    ^\u001b[0m\n\u001b[0;31mSyntaxError\u001b[0m\u001b[0;31m:\u001b[0m invalid syntax\n"
     ]
    }
   ],
   "source": [
    "print(1\n",
    "print(3)"
   ]
  },
  {
   "cell_type": "code",
   "execution_count": null,
   "metadata": {},
   "outputs": [],
   "source": []
  },
  {
   "cell_type": "code",
   "execution_count": 9,
   "metadata": {},
   "outputs": [
    {
     "ename": "SyntaxError",
     "evalue": "invalid syntax (814923641.py, line 2)",
     "output_type": "error",
     "traceback": [
      "\u001b[0;36m  Input \u001b[0;32mIn [9]\u001b[0;36m\u001b[0m\n\u001b[0;31m    if i>4\u001b[0m\n\u001b[0m          ^\u001b[0m\n\u001b[0;31mSyntaxError\u001b[0m\u001b[0;31m:\u001b[0m invalid syntax\n"
     ]
    }
   ],
   "source": [
    "i=2\n",
    "if i>4\n",
    "    print(i)"
   ]
  },
  {
   "cell_type": "code",
   "execution_count": 11,
   "metadata": {},
   "outputs": [
    {
     "name": "stdout",
     "output_type": "stream",
     "text": [
      "20\n"
     ]
    }
   ],
   "source": [
    "i=20\n",
    "if i>4:\n",
    "    print(i)"
   ]
  },
  {
   "cell_type": "markdown",
   "metadata": {},
   "source": [
    "##### Generate a syntax error - free to intentionally break code!"
   ]
  },
  {
   "cell_type": "code",
   "execution_count": 12,
   "metadata": {},
   "outputs": [
    {
     "ename": "SyntaxError",
     "evalue": "Missing parentheses in call to 'print'. Did you mean print(1)? (2410466686.py, line 4)",
     "output_type": "error",
     "traceback": [
      "\u001b[0;36m  Input \u001b[0;32mIn [12]\u001b[0;36m\u001b[0m\n\u001b[0;31m    print 1\u001b[0m\n\u001b[0m          ^\u001b[0m\n\u001b[0;31mSyntaxError\u001b[0m\u001b[0;31m:\u001b[0m Missing parentheses in call to 'print'. Did you mean print(1)?\n"
     ]
    }
   ],
   "source": [
    "# SyntaxError: invalid syntax\n",
    "# Sometimes the error message can be clear and helpful\n",
    "\n",
    "print 1"
   ]
  },
  {
   "cell_type": "code",
   "execution_count": 14,
   "metadata": {},
   "outputs": [
    {
     "ename": "SyntaxError",
     "evalue": "unmatched ')' (1636085935.py, line 3)",
     "output_type": "error",
     "traceback": [
      "\u001b[0;36m  Input \u001b[0;32mIn [14]\u001b[0;36m\u001b[0m\n\u001b[0;31m    list)\u001b[0m\n\u001b[0m        ^\u001b[0m\n\u001b[0;31mSyntaxError\u001b[0m\u001b[0;31m:\u001b[0m unmatched ')'\n"
     ]
    }
   ],
   "source": [
    "# Missing closing paratheses on a function like dict(), list(), tuple(), input()\n",
    "\n",
    "list)"
   ]
  },
  {
   "cell_type": "code",
   "execution_count": 15,
   "metadata": {},
   "outputs": [
    {
     "ename": "SyntaxError",
     "evalue": "invalid syntax (4080750972.py, line 2)",
     "output_type": "error",
     "traceback": [
      "\u001b[0;36m  Input \u001b[0;32mIn [15]\u001b[0;36m\u001b[0m\n\u001b[0;31m    for in [1,2,3]\u001b[0m\n\u001b[0m        ^\u001b[0m\n\u001b[0;31mSyntaxError\u001b[0m\u001b[0;31m:\u001b[0m invalid syntax\n"
     ]
    }
   ],
   "source": [
    "# Missing the variable in the for loop: for in [1,2,3]\n",
    "for in [1,2,3]\n"
   ]
  },
  {
   "cell_type": "code",
   "execution_count": 18,
   "metadata": {},
   "outputs": [],
   "source": [
    "for i in [1,2,3]:\n",
    "    pass"
   ]
  },
  {
   "cell_type": "code",
   "execution_count": null,
   "metadata": {},
   "outputs": [],
   "source": []
  },
  {
   "cell_type": "code",
   "execution_count": null,
   "metadata": {},
   "outputs": [],
   "source": []
  },
  {
   "cell_type": "code",
   "execution_count": 19,
   "metadata": {},
   "outputs": [
    {
     "ename": "SyntaxError",
     "evalue": "invalid syntax (839534527.py, line 3)",
     "output_type": "error",
     "traceback": [
      "\u001b[0;36m  Input \u001b[0;32mIn [19]\u001b[0;36m\u001b[0m\n\u001b[0;31m    for in [1,2,3]\u001b[0m\n\u001b[0m        ^\u001b[0m\n\u001b[0;31mSyntaxError\u001b[0m\u001b[0;31m:\u001b[0m invalid syntax\n"
     ]
    }
   ],
   "source": [
    "# Missing the colon, :, in the control structure syntax\n",
    "\n",
    "for in [1,2,3]"
   ]
  },
  {
   "cell_type": "markdown",
   "metadata": {},
   "source": [
    "##### YOU CAN HAVE FUN FILLING IN THE REST WHEN YOU STUDY"
   ]
  },
  {
   "cell_type": "code",
   "execution_count": 23,
   "metadata": {},
   "outputs": [
    {
     "ename": "SyntaxError",
     "evalue": "invalid decimal literal (1311929331.py, line 5)",
     "output_type": "error",
     "traceback": [
      "\u001b[0;36m  Input \u001b[0;32mIn [23]\u001b[0;36m\u001b[0m\n\u001b[0;31m    222_r\u001b[0m\n\u001b[0m       ^\u001b[0m\n\u001b[0;31mSyntaxError\u001b[0m\u001b[0;31m:\u001b[0m invalid decimal literal\n"
     ]
    }
   ],
   "source": [
    "# Invalid variable name: 2_data \n",
    "\n",
    "# 2_data\n",
    "\n",
    "222_r"
   ]
  },
  {
   "cell_type": "code",
   "execution_count": 25,
   "metadata": {},
   "outputs": [
    {
     "ename": "SyntaxError",
     "evalue": "'return' outside function (4082634005.py, line 2)",
     "output_type": "error",
     "traceback": [
      "\u001b[0;36m  Input \u001b[0;32mIn [25]\u001b[0;36m\u001b[0m\n\u001b[0;31m    return 1\u001b[0m\n\u001b[0m    ^\u001b[0m\n\u001b[0;31mSyntaxError\u001b[0m\u001b[0;31m:\u001b[0m 'return' outside function\n"
     ]
    }
   ],
   "source": [
    "# Return outside the function\n",
    "return 1\n"
   ]
  },
  {
   "cell_type": "code",
   "execution_count": 26,
   "metadata": {},
   "outputs": [
    {
     "ename": "SyntaxError",
     "evalue": "cannot assign to literal (1814000448.py, line 4)",
     "output_type": "error",
     "traceback": [
      "\u001b[0;36m  Input \u001b[0;32mIn [26]\u001b[0;36m\u001b[0m\n\u001b[0;31m    \"AAA\" = 5\u001b[0m\n\u001b[0m    ^\u001b[0m\n\u001b[0;31mSyntaxError\u001b[0m\u001b[0;31m:\u001b[0m cannot assign to literal\n"
     ]
    }
   ],
   "source": [
    "# Having a value in the left side of the assignment \n",
    "# operator instead of a variable: 4 = 5\n",
    "\n",
    "\"AAA\" = 5"
   ]
  },
  {
   "cell_type": "code",
   "execution_count": 29,
   "metadata": {},
   "outputs": [
    {
     "ename": "SyntaxError",
     "evalue": "invalid syntax (3781786051.py, line 3)",
     "output_type": "error",
     "traceback": [
      "\u001b[0;36m  Input \u001b[0;32mIn [29]\u001b[0;36m\u001b[0m\n\u001b[0;31m    if y = \"ABCD\":\u001b[0m\n\u001b[0m         ^\u001b[0m\n\u001b[0;31mSyntaxError\u001b[0m\u001b[0;31m:\u001b[0m invalid syntax\n"
     ]
    }
   ],
   "source": [
    "# Invalid condition in an if statement: if a = 2:\n",
    "\n",
    "if y = \"ABCD\":\n",
    "    print(\"A\")\n"
   ]
  },
  {
   "cell_type": "code",
   "execution_count": 30,
   "metadata": {},
   "outputs": [
    {
     "ename": "SyntaxError",
     "evalue": "invalid syntax (3024320562.py, line 3)",
     "output_type": "error",
     "traceback": [
      "\u001b[0;36m  Input \u001b[0;32mIn [30]\u001b[0;36m\u001b[0m\n\u001b[0;31m    {3, 6: \"A\"}\u001b[0m\n\u001b[0m         ^\u001b[0m\n\u001b[0;31mSyntaxError\u001b[0m\u001b[0;31m:\u001b[0m invalid syntax\n"
     ]
    }
   ],
   "source": [
    "# Incorrect data structure: (1,2,,,)\n",
    "\n",
    "{3, 6: \"A\"}\n"
   ]
  },
  {
   "cell_type": "code",
   "execution_count": 32,
   "metadata": {},
   "outputs": [
    {
     "ename": "IndentationError",
     "evalue": "unexpected indent (3126984011.py, line 3)",
     "output_type": "error",
     "traceback": [
      "\u001b[0;36m  Input \u001b[0;32mIn [32]\u001b[0;36m\u001b[0m\n\u001b[0;31m    e = 2\u001b[0m\n\u001b[0m    ^\u001b[0m\n\u001b[0;31mIndentationError\u001b[0m\u001b[0;31m:\u001b[0m unexpected indent\n"
     ]
    }
   ],
   "source": [
    "# Wrong indentation\n",
    "\n",
    "    e = 2\n",
    "        d = 5\n"
   ]
  },
  {
   "cell_type": "code",
   "execution_count": null,
   "metadata": {},
   "outputs": [],
   "source": [
    "# Indentation using a mix of spaces and tabs can give an error\n",
    "# because tabs are assigned a different number of spaces in different editors\n",
    "# I cannot reproduce it in a notebook cell because tabs are = 4 spaces here\n",
    "\n",
    "\n"
   ]
  },
  {
   "cell_type": "code",
   "execution_count": null,
   "metadata": {},
   "outputs": [],
   "source": [
    "# Any other examples you encountered? \n",
    "\n"
   ]
  },
  {
   "cell_type": "code",
   "execution_count": null,
   "metadata": {},
   "outputs": [],
   "source": []
  },
  {
   "cell_type": "markdown",
   "metadata": {},
   "source": [
    "#### <font color = \"red\">Exceptions</font> - code executes but cannot compute result\n",
    "\n",
    "- Even if a statement or expression is syntactically correct, it may cause an error when an attempt is made to execute it.\n",
    "    - Errors detected during execution are called exceptions and are not unconditionally fatal (they can be handled).\n",
    "    - Most exceptions are not handled by programs, however, and result in error messages.\n",
    "    - Errors detected during execution are called <font color = \"red\">exceptions</font>. "
   ]
  },
  {
   "cell_type": "code",
   "execution_count": null,
   "metadata": {},
   "outputs": [],
   "source": [
    "int(\"2a\")"
   ]
  },
  {
   "cell_type": "markdown",
   "metadata": {},
   "source": [
    "##### Generate a non-syntactic error - intentionally break code!"
   ]
  },
  {
   "cell_type": "code",
   "execution_count": 33,
   "metadata": {},
   "outputs": [
    {
     "ename": "TypeError",
     "evalue": "unsupported operand type(s) for +: 'int' and 'str'",
     "output_type": "error",
     "traceback": [
      "\u001b[0;31m---------------------------------------------------------------------------\u001b[0m",
      "\u001b[0;31mTypeError\u001b[0m                                 Traceback (most recent call last)",
      "Input \u001b[0;32mIn [33]\u001b[0m, in \u001b[0;36m<cell line: 2>\u001b[0;34m()\u001b[0m\n\u001b[1;32m      1\u001b[0m \u001b[38;5;66;03m# operators applied between incompatible types: 1 + \"2\"\u001b[39;00m\n\u001b[0;32m----> 2\u001b[0m \u001b[38;5;241;43m1\u001b[39;49m\u001b[43m \u001b[49m\u001b[38;5;241;43m+\u001b[39;49m\u001b[43m \u001b[49m\u001b[38;5;124;43m\"\u001b[39;49m\u001b[38;5;124;43m2\u001b[39;49m\u001b[38;5;124;43m\"\u001b[39;49m\n",
      "\u001b[0;31mTypeError\u001b[0m: unsupported operand type(s) for +: 'int' and 'str'"
     ]
    }
   ],
   "source": [
    "# operators applied between incompatible types: 1 + \"2\"\n",
    "1 + \"2\"\n"
   ]
  },
  {
   "cell_type": "code",
   "execution_count": 34,
   "metadata": {},
   "outputs": [
    {
     "ename": "ZeroDivisionError",
     "evalue": "division by zero",
     "output_type": "error",
     "traceback": [
      "\u001b[0;31m---------------------------------------------------------------------------\u001b[0m",
      "\u001b[0;31mZeroDivisionError\u001b[0m                         Traceback (most recent call last)",
      "Input \u001b[0;32mIn [34]\u001b[0m, in \u001b[0;36m<cell line: 3>\u001b[0;34m()\u001b[0m\n\u001b[1;32m      1\u001b[0m \u001b[38;5;66;03m# division by 0:  3/0\u001b[39;00m\n\u001b[0;32m----> 3\u001b[0m \u001b[38;5;241;43m3\u001b[39;49m\u001b[38;5;241;43m/\u001b[39;49m\u001b[38;5;241;43m0\u001b[39;49m\n",
      "\u001b[0;31mZeroDivisionError\u001b[0m: division by zero"
     ]
    }
   ],
   "source": [
    "# division by 0:  3/0\n",
    "\n",
    "3/0"
   ]
  },
  {
   "cell_type": "code",
   "execution_count": 35,
   "metadata": {},
   "outputs": [
    {
     "ename": "AttributeError",
     "evalue": "'list' object has no attribute 'split'",
     "output_type": "error",
     "traceback": [
      "\u001b[0;31m---------------------------------------------------------------------------\u001b[0m",
      "\u001b[0;31mAttributeError\u001b[0m                            Traceback (most recent call last)",
      "Input \u001b[0;32mIn [35]\u001b[0m, in \u001b[0;36m<cell line: 3>\u001b[0;34m()\u001b[0m\n\u001b[1;32m      1\u001b[0m \u001b[38;5;66;03m# using an unavilable attribute or method: [].split()\u001b[39;00m\n\u001b[0;32m----> 3\u001b[0m \u001b[43m[\u001b[49m\u001b[38;5;241;43m1\u001b[39;49m\u001b[43m,\u001b[49m\u001b[38;5;241;43m2\u001b[39;49m\u001b[43m,\u001b[49m\u001b[38;5;241;43m3\u001b[39;49m\u001b[43m]\u001b[49m\u001b[38;5;241;43m.\u001b[39;49m\u001b[43msplit\u001b[49m()\n",
      "\u001b[0;31mAttributeError\u001b[0m: 'list' object has no attribute 'split'"
     ]
    }
   ],
   "source": [
    "# using an unavilable attribute or method: [].split()\n",
    "\n",
    "[1,2,3].split()\n",
    "\n"
   ]
  },
  {
   "cell_type": "code",
   "execution_count": 36,
   "metadata": {},
   "outputs": [
    {
     "ename": "TypeError",
     "evalue": "unhashable type: 'set'",
     "output_type": "error",
     "traceback": [
      "\u001b[0;31m---------------------------------------------------------------------------\u001b[0m",
      "\u001b[0;31mTypeError\u001b[0m                                 Traceback (most recent call last)",
      "Input \u001b[0;32mIn [36]\u001b[0m, in \u001b[0;36m<cell line: 4>\u001b[0;34m()\u001b[0m\n\u001b[1;32m      1\u001b[0m \u001b[38;5;66;03m# adding a mutable value to a set: {1}.add([2])\u001b[39;00m\n\u001b[0;32m----> 4\u001b[0m \u001b[43m{\u001b[49m\u001b[38;5;124;43m\"\u001b[39;49m\u001b[38;5;124;43mA\u001b[39;49m\u001b[38;5;124;43m\"\u001b[39;49m\u001b[43m,\u001b[49m\u001b[43m \u001b[49m\u001b[38;5;124;43m\"\u001b[39;49m\u001b[38;5;124;43mB\u001b[39;49m\u001b[38;5;124;43m\"\u001b[39;49m\u001b[43m,\u001b[49m\u001b[43m \u001b[49m\u001b[38;5;124;43m\"\u001b[39;49m\u001b[38;5;124;43mC\u001b[39;49m\u001b[38;5;124;43m\"\u001b[39;49m\u001b[43m}\u001b[49m\u001b[38;5;241;43m.\u001b[39;49m\u001b[43madd\u001b[49m\u001b[43m(\u001b[49m\u001b[43m{\u001b[49m\u001b[38;5;241;43m1\u001b[39;49m\u001b[43m,\u001b[49m\u001b[38;5;241;43m2\u001b[39;49m\u001b[43m,\u001b[49m\u001b[38;5;241;43m3\u001b[39;49m\u001b[43m}\u001b[49m\u001b[43m)\u001b[49m\n",
      "\u001b[0;31mTypeError\u001b[0m: unhashable type: 'set'"
     ]
    }
   ],
   "source": [
    "# adding a mutable value to a set: {1}.add([2])\n",
    "\n",
    "\n",
    "{\"A\", \"B\", \"C\"}.add({1,2,3})"
   ]
  },
  {
   "cell_type": "code",
   "execution_count": 37,
   "metadata": {},
   "outputs": [
    {
     "ename": "IndexError",
     "evalue": "list index out of range",
     "output_type": "error",
     "traceback": [
      "\u001b[0;31m---------------------------------------------------------------------------\u001b[0m",
      "\u001b[0;31mIndexError\u001b[0m                                Traceback (most recent call last)",
      "Input \u001b[0;32mIn [37]\u001b[0m, in \u001b[0;36m<cell line: 5>\u001b[0;34m()\u001b[0m\n\u001b[1;32m      1\u001b[0m \u001b[38;5;66;03m# using an index outside of the range of an ordered iterrable: [\"A\"][3]\u001b[39;00m\n\u001b[1;32m      2\u001b[0m \u001b[38;5;66;03m# or indexing a dictionary on a key that does not exist in a dictionary\u001b[39;00m\n\u001b[1;32m      4\u001b[0m l \u001b[38;5;241m=\u001b[39m [\u001b[38;5;241m1\u001b[39m,\u001b[38;5;241m2\u001b[39m,\u001b[38;5;241m3\u001b[39m]\n\u001b[0;32m----> 5\u001b[0m \u001b[43ml\u001b[49m\u001b[43m[\u001b[49m\u001b[38;5;241;43m100\u001b[39;49m\u001b[43m]\u001b[49m\n",
      "\u001b[0;31mIndexError\u001b[0m: list index out of range"
     ]
    }
   ],
   "source": [
    "# using an index outside of the range of an ordered iterrable: [\"A\"][3]\n",
    "# or indexing a dictionary on a key that does not exist in a dictionary\n",
    "\n",
    "l = [1,2,3]\n",
    "l[100]"
   ]
  },
  {
   "cell_type": "code",
   "execution_count": 39,
   "metadata": {},
   "outputs": [
    {
     "name": "stderr",
     "output_type": "stream",
     "text": [
      "<>:3: SyntaxWarning: 'float' object is not subscriptable; perhaps you missed a comma?\n",
      "<>:3: SyntaxWarning: 'float' object is not subscriptable; perhaps you missed a comma?\n",
      "/var/folders/cl/dt65jxps2kv3w090fzrjdz6c0000gs/T/ipykernel_35131/1417520814.py:3: SyntaxWarning: 'float' object is not subscriptable; perhaps you missed a comma?\n",
      "  3.567[3]\n",
      "/var/folders/cl/dt65jxps2kv3w090fzrjdz6c0000gs/T/ipykernel_35131/1417520814.py:3: SyntaxWarning: 'float' object is not subscriptable; perhaps you missed a comma?\n",
      "  3.567[3]\n",
      "/var/folders/cl/dt65jxps2kv3w090fzrjdz6c0000gs/T/ipykernel_35131/1417520814.py:3: SyntaxWarning: 'float' object is not subscriptable; perhaps you missed a comma?\n",
      "  3.567[3]\n"
     ]
    },
    {
     "ename": "TypeError",
     "evalue": "'float' object is not subscriptable",
     "output_type": "error",
     "traceback": [
      "\u001b[0;31m---------------------------------------------------------------------------\u001b[0m",
      "\u001b[0;31mTypeError\u001b[0m                                 Traceback (most recent call last)",
      "Input \u001b[0;32mIn [39]\u001b[0m, in \u001b[0;36m<cell line: 3>\u001b[0;34m()\u001b[0m\n\u001b[1;32m      1\u001b[0m \u001b[38;5;66;03m# index a not subscriptable object 1[0]\u001b[39;00m\n\u001b[0;32m----> 3\u001b[0m \u001b[38;5;241;43m3.567\u001b[39;49m\u001b[43m[\u001b[49m\u001b[38;5;241;43m3\u001b[39;49m\u001b[43m]\u001b[49m\n",
      "\u001b[0;31mTypeError\u001b[0m: 'float' object is not subscriptable"
     ]
    }
   ],
   "source": [
    "# index a not subscriptable object 1[0]\n",
    "\n",
    "3.567[3]\n"
   ]
  },
  {
   "cell_type": "code",
   "execution_count": 40,
   "metadata": {},
   "outputs": [
    {
     "ename": "StopIteration",
     "evalue": "",
     "output_type": "error",
     "traceback": [
      "\u001b[0;31m---------------------------------------------------------------------------\u001b[0m",
      "\u001b[0;31mStopIteration\u001b[0m                             Traceback (most recent call last)",
      "Input \u001b[0;32mIn [40]\u001b[0m, in \u001b[0;36m<cell line: 3>\u001b[0;34m()\u001b[0m\n\u001b[1;32m      1\u001b[0m \u001b[38;5;66;03m# going over an iterator's last element: next(iter(range(0)))\u001b[39;00m\n\u001b[0;32m----> 3\u001b[0m \u001b[38;5;28;43mnext\u001b[39;49m\u001b[43m(\u001b[49m\u001b[38;5;28;43miter\u001b[39;49m\u001b[43m(\u001b[49m\u001b[38;5;28;43mrange\u001b[39;49m\u001b[43m(\u001b[49m\u001b[38;5;241;43m0\u001b[39;49m\u001b[43m)\u001b[49m\u001b[43m)\u001b[49m\u001b[43m)\u001b[49m\n",
      "\u001b[0;31mStopIteration\u001b[0m: "
     ]
    }
   ],
   "source": [
    "# going over an iterator's last element: next(iter(range(0)))\n",
    "\n",
    "next(iter(range(0)))\n"
   ]
  },
  {
   "cell_type": "code",
   "execution_count": 41,
   "metadata": {},
   "outputs": [
    {
     "ename": "FileNotFoundError",
     "evalue": "[Errno 2] No such file or directory: 'This_does_not_exist.txt'",
     "output_type": "error",
     "traceback": [
      "\u001b[0;31m---------------------------------------------------------------------------\u001b[0m",
      "\u001b[0;31mFileNotFoundError\u001b[0m                         Traceback (most recent call last)",
      "Input \u001b[0;32mIn [41]\u001b[0m, in \u001b[0;36m<cell line: 3>\u001b[0;34m()\u001b[0m\n\u001b[1;32m      1\u001b[0m \u001b[38;5;66;03m# opening a file that does not exist: open(\"not_here.txt\")\u001b[39;00m\n\u001b[0;32m----> 3\u001b[0m \u001b[38;5;28;43mopen\u001b[39;49m\u001b[43m(\u001b[49m\u001b[38;5;124;43m\"\u001b[39;49m\u001b[38;5;124;43mThis_does_not_exist.txt\u001b[39;49m\u001b[38;5;124;43m\"\u001b[39;49m\u001b[43m)\u001b[49m\n",
      "\u001b[0;31mFileNotFoundError\u001b[0m: [Errno 2] No such file or directory: 'This_does_not_exist.txt'"
     ]
    }
   ],
   "source": [
    "# opening a file that does not exist: open(\"not_here.txt\")\n",
    "\n",
    "open(\"This_does_not_exist.txt\")\n"
   ]
  },
  {
   "cell_type": "code",
   "execution_count": 42,
   "metadata": {},
   "outputs": [
    {
     "data": {
      "text/plain": [
       "['ArithmeticError',\n",
       " 'AssertionError',\n",
       " 'AttributeError',\n",
       " 'BlockingIOError',\n",
       " 'BrokenPipeError',\n",
       " 'BufferError',\n",
       " 'ChildProcessError',\n",
       " 'ConnectionAbortedError',\n",
       " 'ConnectionError',\n",
       " 'ConnectionRefusedError',\n",
       " 'ConnectionResetError',\n",
       " 'EOFError',\n",
       " 'EnvironmentError',\n",
       " 'FileExistsError',\n",
       " 'FileNotFoundError',\n",
       " 'FloatingPointError',\n",
       " 'IOError',\n",
       " 'ImportError',\n",
       " 'IndentationError',\n",
       " 'IndexError',\n",
       " 'InterruptedError',\n",
       " 'IsADirectoryError',\n",
       " 'KeyError',\n",
       " 'LookupError',\n",
       " 'MemoryError',\n",
       " 'ModuleNotFoundError',\n",
       " 'NameError',\n",
       " 'NotADirectoryError',\n",
       " 'NotImplementedError',\n",
       " 'OSError',\n",
       " 'OverflowError',\n",
       " 'PermissionError',\n",
       " 'ProcessLookupError',\n",
       " 'RecursionError',\n",
       " 'ReferenceError',\n",
       " 'RuntimeError',\n",
       " 'SyntaxError',\n",
       " 'SystemError',\n",
       " 'TabError',\n",
       " 'TimeoutError',\n",
       " 'TypeError',\n",
       " 'UnboundLocalError',\n",
       " 'UnicodeDecodeError',\n",
       " 'UnicodeEncodeError',\n",
       " 'UnicodeError',\n",
       " 'UnicodeTranslateError',\n",
       " 'ValueError',\n",
       " 'ZeroDivisionError']"
      ]
     },
     "execution_count": 42,
     "metadata": {},
     "output_type": "execute_result"
    }
   ],
   "source": [
    "# and many more ...\n",
    "# you can go through the whole list and try to generate each of the errors\n",
    "\n",
    "[e for e in dir(__builtin__) if \"Error\" in e]"
   ]
  },
  {
   "cell_type": "code",
   "execution_count": 43,
   "metadata": {},
   "outputs": [
    {
     "ename": "KeyError",
     "evalue": "0",
     "output_type": "error",
     "traceback": [
      "\u001b[0;31m---------------------------------------------------------------------------\u001b[0m",
      "\u001b[0;31mKeyError\u001b[0m                                  Traceback (most recent call last)",
      "Input \u001b[0;32mIn [43]\u001b[0m, in \u001b[0;36m<cell line: 1>\u001b[0;34m()\u001b[0m\n\u001b[0;32m----> 1\u001b[0m \u001b[43m{\u001b[49m\u001b[38;5;124;43m\"\u001b[39;49m\u001b[38;5;124;43ma\u001b[39;49m\u001b[38;5;124;43m\"\u001b[39;49m\u001b[43m:\u001b[49m\u001b[38;5;241;43m1\u001b[39;49m\u001b[43m}\u001b[49m\u001b[43m[\u001b[49m\u001b[38;5;241;43m0\u001b[39;49m\u001b[43m]\u001b[49m\n",
      "\u001b[0;31mKeyError\u001b[0m: 0"
     ]
    }
   ],
   "source": [
    "{\"a\":1}[0]"
   ]
  },
  {
   "cell_type": "code",
   "execution_count": null,
   "metadata": {},
   "outputs": [],
   "source": []
  },
  {
   "cell_type": "code",
   "execution_count": null,
   "metadata": {},
   "outputs": [],
   "source": []
  },
  {
   "cell_type": "code",
   "execution_count": null,
   "metadata": {},
   "outputs": [],
   "source": []
  },
  {
   "cell_type": "markdown",
   "metadata": {},
   "source": [
    "____\n",
    "\n",
    "#### Warnings\n",
    "\n",
    "- Typically issued in situations where it is useful to alert the user of some\n",
    "condition in a program, where that condition (normally) doesn’t warrant raising\n",
    "an exception and terminating the program\n",
    "    - i.e. one might want to issue a warning when a program uses an obsolete module\n",
    "- Python programmers issue warnings by calling the warn() function defined in\n",
    "the warnings module\n",
    "     - https://docs.python.org/3/library/warnings.html\n",
    "- Warnings do not stop the code\n",
    " "
   ]
  },
  {
   "cell_type": "code",
   "execution_count": 44,
   "metadata": {},
   "outputs": [
    {
     "data": {
      "text/plain": [
       "['BytesWarning',\n",
       " 'DeprecationWarning',\n",
       " 'FutureWarning',\n",
       " 'ImportWarning',\n",
       " 'PendingDeprecationWarning',\n",
       " 'ResourceWarning',\n",
       " 'RuntimeWarning',\n",
       " 'SyntaxWarning',\n",
       " 'UnicodeWarning',\n",
       " 'UserWarning',\n",
       " 'Warning']"
      ]
     },
     "execution_count": 44,
     "metadata": {},
     "output_type": "execute_result"
    }
   ],
   "source": [
    "[w for w in dir(__builtin__) if \"Warning\" in w]    "
   ]
  },
  {
   "cell_type": "code",
   "execution_count": 45,
   "metadata": {},
   "outputs": [
    {
     "name": "stdout",
     "output_type": "stream",
     "text": [
      "Help on built-in function warn in module _warnings:\n",
      "\n",
      "warn(message, category=None, stacklevel=1, source=None)\n",
      "    Issue a warning, or maybe ignore it or raise an exception.\n",
      "\n"
     ]
    }
   ],
   "source": [
    "import warnings\n",
    "help(warnings.warn)"
   ]
  },
  {
   "cell_type": "code",
   "execution_count": 46,
   "metadata": {},
   "outputs": [
    {
     "name": "stdout",
     "output_type": "stream",
     "text": [
      "This runs\n"
     ]
    },
    {
     "name": "stderr",
     "output_type": "stream",
     "text": [
      "/var/folders/cl/dt65jxps2kv3w090fzrjdz6c0000gs/T/ipykernel_35131/3227490873.py:3: UserWarning: Pay attention to this, you might not be doing things right!\n",
      "  warnings.warn(\"Pay attention to this, you might not be doing things right!\")\n"
     ]
    }
   ],
   "source": [
    "# Warnings do not stop the code\n",
    "\n",
    "warnings.warn(\"Pay attention to this, you might not be doing things right!\")\n",
    "print(\"This runs\")\n"
   ]
  },
  {
   "cell_type": "code",
   "execution_count": 48,
   "metadata": {},
   "outputs": [
    {
     "name": "stdout",
     "output_type": "stream",
     "text": [
      "This runs\n",
      "2\n"
     ]
    },
    {
     "name": "stderr",
     "output_type": "stream",
     "text": [
      "/var/folders/cl/dt65jxps2kv3w090fzrjdz6c0000gs/T/ipykernel_35131/1406544997.py:2: SyntaxWarning: You do not need the parantheses\n",
      "  warnings.warn(\"You do not need the parantheses\", SyntaxWarning)\n"
     ]
    }
   ],
   "source": [
    "x = (2)\n",
    "warnings.warn(\"You do not need the parantheses\", SyntaxWarning)\n",
    "print(\"This runs\")\n",
    "print(x)\n"
   ]
  },
  {
   "cell_type": "markdown",
   "metadata": {},
   "source": [
    "___ \n",
    "#### Handling Exceptions\n",
    "It is possible to <b>handle selected exceptions</b>.\n",
    "\n",
    "Easier to ask for forgiveness than for permission.\n",
    "\n",
    "<b>`try except else finally`</b>\n"
   ]
  },
  {
   "cell_type": "markdown",
   "metadata": {},
   "source": [
    "<img src=\"https://files.realpython.com/media/try_except_else_finally.a7fac6c36c55.png\" width=\"600\"/>"
   ]
  },
  {
   "cell_type": "code",
   "execution_count": 49,
   "metadata": {},
   "outputs": [],
   "source": [
    "def divide(numerator, denominator):\n",
    "    \"\"\"Divide the numerator by the denominator.\"\"\"\n",
    "    result = numerator/denominator\n",
    "    return result"
   ]
  },
  {
   "cell_type": "code",
   "execution_count": 50,
   "metadata": {},
   "outputs": [
    {
     "data": {
      "text/plain": [
       "3.0"
      ]
     },
     "execution_count": 50,
     "metadata": {},
     "output_type": "execute_result"
    }
   ],
   "source": [
    "# we could assume that whoever uses this function will never pass in 0 as the denominator\n",
    "divide(3, 1)"
   ]
  },
  {
   "cell_type": "code",
   "execution_count": 51,
   "metadata": {},
   "outputs": [
    {
     "ename": "ZeroDivisionError",
     "evalue": "division by zero",
     "output_type": "error",
     "traceback": [
      "\u001b[0;31m---------------------------------------------------------------------------\u001b[0m",
      "\u001b[0;31mZeroDivisionError\u001b[0m                         Traceback (most recent call last)",
      "Input \u001b[0;32mIn [51]\u001b[0m, in \u001b[0;36m<cell line: 2>\u001b[0;34m()\u001b[0m\n\u001b[1;32m      1\u001b[0m \u001b[38;5;66;03m# but if someone does pass in 0, our function will fail\u001b[39;00m\n\u001b[0;32m----> 2\u001b[0m \u001b[43mdivide\u001b[49m\u001b[43m(\u001b[49m\u001b[38;5;241;43m3\u001b[39;49m\u001b[43m,\u001b[49m\u001b[43m \u001b[49m\u001b[38;5;241;43m0\u001b[39;49m\u001b[43m)\u001b[49m\n",
      "Input \u001b[0;32mIn [49]\u001b[0m, in \u001b[0;36mdivide\u001b[0;34m(numerator, denominator)\u001b[0m\n\u001b[1;32m      1\u001b[0m \u001b[38;5;28;01mdef\u001b[39;00m \u001b[38;5;21mdivide\u001b[39m(numerator, denominator):\n\u001b[1;32m      2\u001b[0m     \u001b[38;5;124;03m\"\"\"Divide the numerator by the denominator.\"\"\"\u001b[39;00m\n\u001b[0;32m----> 3\u001b[0m     result \u001b[38;5;241m=\u001b[39m \u001b[43mnumerator\u001b[49m\u001b[38;5;241;43m/\u001b[39;49m\u001b[43mdenominator\u001b[49m\n\u001b[1;32m      4\u001b[0m     \u001b[38;5;28;01mreturn\u001b[39;00m result\n",
      "\u001b[0;31mZeroDivisionError\u001b[0m: division by zero"
     ]
    }
   ],
   "source": [
    "# but if someone does pass in 0, our function will fail\n",
    "divide(3, 0)"
   ]
  },
  {
   "cell_type": "code",
   "execution_count": 52,
   "metadata": {},
   "outputs": [],
   "source": [
    "# we should make our function more robust to account for this scenario!\n",
    "def divide(numerator, denominator):\n",
    "    \"\"\"Divide the numerator by the denominator.\"\"\"\n",
    "    result = None\n",
    "    try:  # let's TRY to do the division and if we get an exception, we can handle it in the except statement\n",
    "        result = numerator/denominator\n",
    "    except ZeroDivisionError:  # only catch ZeroDivisionError exceptions\n",
    "        pass  # do nothing\n",
    "    \n",
    "    return result\n"
   ]
  },
  {
   "cell_type": "code",
   "execution_count": 54,
   "metadata": {},
   "outputs": [
    {
     "name": "stdout",
     "output_type": "stream",
     "text": [
      "None\n"
     ]
    }
   ],
   "source": [
    "# now we can run our more robust code\n",
    "res = divide(3, 0)\n",
    "print(res)"
   ]
  },
  {
   "cell_type": "code",
   "execution_count": 56,
   "metadata": {},
   "outputs": [
    {
     "data": {
      "text/plain": [
       "1.5"
      ]
     },
     "execution_count": 56,
     "metadata": {},
     "output_type": "execute_result"
    }
   ],
   "source": [
    "res = divide(3, 2)\n",
    "res"
   ]
  },
  {
   "cell_type": "code",
   "execution_count": null,
   "metadata": {},
   "outputs": [],
   "source": []
  },
  {
   "cell_type": "code",
   "execution_count": null,
   "metadata": {},
   "outputs": [],
   "source": []
  },
  {
   "cell_type": "code",
   "execution_count": 57,
   "metadata": {},
   "outputs": [],
   "source": [
    "def divide(numerator, denominator):\n",
    "    \"\"\"Divide the numerator by the denominator.\"\"\"\n",
    "    result = None\n",
    "    try:  # let's TRY to do the division and if we get an exception, we can handle it in the except statement\n",
    "        result = numerator/denominator\n",
    "    except ZeroDivisionError:  # only catch ZeroDivisionError exceptions\n",
    "        # add in a helpful error message\n",
    "        print(\"Zero division error handled\")\n",
    "        print(\"Should not divide by 0 ... it does not make sense ...\")\n",
    "    \n",
    "    return result"
   ]
  },
  {
   "cell_type": "code",
   "execution_count": 59,
   "metadata": {},
   "outputs": [
    {
     "name": "stdout",
     "output_type": "stream",
     "text": [
      "Zero division error handled\n",
      "Should not divide by 0 ... it does not make sense ...\n",
      "None\n"
     ]
    }
   ],
   "source": [
    "res = divide(3, 0)\n",
    "print(res)"
   ]
  },
  {
   "cell_type": "markdown",
   "metadata": {
    "tags": []
   },
   "source": [
    "\n",
    "#### - A try statement may have more than one except clause, that is how you can specify handlers for different exceptions.\n",
    "#### - At most one handler (except clause) will be executed.\n",
    "#### - Only exceptions that occur in the corresponding try clause and listed in the except clause are handled"
   ]
  },
  {
   "cell_type": "code",
   "execution_count": 60,
   "metadata": {},
   "outputs": [
    {
     "ename": "ZeroDivisionError",
     "evalue": "division by zero",
     "output_type": "error",
     "traceback": [
      "\u001b[0;31m---------------------------------------------------------------------------\u001b[0m",
      "\u001b[0;31mZeroDivisionError\u001b[0m                         Traceback (most recent call last)",
      "Input \u001b[0;32mIn [60]\u001b[0m, in \u001b[0;36m<cell line: 3>\u001b[0;34m()\u001b[0m\n\u001b[1;32m      1\u001b[0m \u001b[38;5;66;03m# Multiple issues here - code stops at the first one\u001b[39;00m\n\u001b[0;32m----> 3\u001b[0m \u001b[38;5;241;43m3\u001b[39;49m\u001b[38;5;241;43m/\u001b[39;49m\u001b[38;5;241;43m0\u001b[39;49m\n\u001b[1;32m      4\u001b[0m \u001b[38;5;241m3\u001b[39m \u001b[38;5;241m+\u001b[39m \u001b[38;5;124m\"\u001b[39m\u001b[38;5;124mA\u001b[39m\u001b[38;5;124m\"\u001b[39m\n\u001b[1;32m      5\u001b[0m var\n",
      "\u001b[0;31mZeroDivisionError\u001b[0m: division by zero"
     ]
    }
   ],
   "source": [
    "# Multiple issues here - code stops at the first one\n",
    "\n",
    "3/0\n",
    "3 + \"A\"\n",
    "var"
   ]
  },
  {
   "cell_type": "markdown",
   "metadata": {
    "tags": []
   },
   "source": [
    "#### Try to use as few try blocks as possible and try to distinguish the failure conditions by the kinds of exceptions they throw."
   ]
  },
  {
   "cell_type": "code",
   "execution_count": 62,
   "metadata": {},
   "outputs": [
    {
     "name": "stdout",
     "output_type": "stream",
     "text": [
      "Errors (known and unknown) error handled\n"
     ]
    }
   ],
   "source": [
    "# The code after the line with the error does not get executed\n",
    "# The code in the except does\n",
    "try:\n",
    "    3/0\n",
    "    print(\"This doesn't execute due to the error above\")\n",
    "    3+\"A\"\n",
    "    var\n",
    "except: # never ever do this\n",
    "    print(\"Errors (known and unknown) error handled\")\n",
    "\n"
   ]
  },
  {
   "cell_type": "code",
   "execution_count": 63,
   "metadata": {},
   "outputs": [
    {
     "name": "stdout",
     "output_type": "stream",
     "text": [
      "Zero division error handled\n",
      "Type error handled\n",
      "Name error handled\n"
     ]
    }
   ],
   "source": [
    "# each statement that can raise an error should be handled separatelly\n",
    "\n",
    "try:\n",
    "    3/0\n",
    "except ZeroDivisionError:\n",
    "    print(\"Zero division error handled\")\n",
    "try:\n",
    "    3+\"A\"\n",
    "except TypeError:\n",
    "    print(\"Type error handled\")\n",
    "try:\n",
    "    var\n",
    "except NameError:\n",
    "    print(\"Name error handled\")\n"
   ]
  },
  {
   "cell_type": "code",
   "execution_count": 64,
   "metadata": {},
   "outputs": [
    {
     "ename": "TypeError",
     "evalue": "unsupported operand type(s) for +: 'int' and 'str'",
     "output_type": "error",
     "traceback": [
      "\u001b[0;31m---------------------------------------------------------------------------\u001b[0m",
      "\u001b[0;31mTypeError\u001b[0m                                 Traceback (most recent call last)",
      "Input \u001b[0;32mIn [64]\u001b[0m, in \u001b[0;36m<cell line: 1>\u001b[0;34m()\u001b[0m\n\u001b[0;32m----> 1\u001b[0m \u001b[38;5;241;43m5\u001b[39;49m\u001b[43m \u001b[49m\u001b[38;5;241;43m+\u001b[39;49m\u001b[43m \u001b[49m\u001b[38;5;124;43m\"\u001b[39;49m\u001b[38;5;124;43mA\u001b[39;49m\u001b[38;5;124;43m\"\u001b[39;49m\n",
      "\u001b[0;31mTypeError\u001b[0m: unsupported operand type(s) for +: 'int' and 'str'"
     ]
    }
   ],
   "source": [
    "5 + \"A\""
   ]
  },
  {
   "cell_type": "code",
   "execution_count": 65,
   "metadata": {},
   "outputs": [
    {
     "ename": "NameError",
     "evalue": "name 'tt' is not defined",
     "output_type": "error",
     "traceback": [
      "\u001b[0;31m---------------------------------------------------------------------------\u001b[0m",
      "\u001b[0;31mNameError\u001b[0m                                 Traceback (most recent call last)",
      "Input \u001b[0;32mIn [65]\u001b[0m, in \u001b[0;36m<cell line: 1>\u001b[0;34m()\u001b[0m\n\u001b[0;32m----> 1\u001b[0m \u001b[43mtt\u001b[49m\n",
      "\u001b[0;31mNameError\u001b[0m: name 'tt' is not defined"
     ]
    }
   ],
   "source": [
    "tt"
   ]
  },
  {
   "cell_type": "code",
   "execution_count": 66,
   "metadata": {},
   "outputs": [
    {
     "name": "stdout",
     "output_type": "stream",
     "text": [
      "Zero division error handled\n",
      "no_of_elements was 0 so we do not divide\n",
      "Type error handled\n",
      "y cannot be calculated it is set to 0\n",
      "Name error handled\n",
      "var was not initialized, it is now set to 2\n"
     ]
    }
   ],
   "source": [
    "# truly handling errors, doing something in case of error:\n",
    "\n",
    "no_of_elements = 0\n",
    "z = \"5\"\n",
    "# del var # if you run this cell multiple times the var variable will be initialized\n",
    "\n",
    "\n",
    "try:\n",
    "    x = 3/no_of_elements\n",
    "except ZeroDivisionError:\n",
    "    print(\"Zero division error handled\")\n",
    "    print(\"no_of_elements was 0 so we do not divide\")\n",
    "    x = 3\n",
    "    \n",
    "try:\n",
    "    y = 3+z\n",
    "except TypeError:\n",
    "    print(\"Type error handled\")\n",
    "    print(\"y cannot be calculated it is set to 0\")\n",
    "    y = 0\n",
    "    \n",
    "try:\n",
    "    var = var + 2\n",
    "except NameError:\n",
    "    print(\"Name error handled\")\n",
    "    print(\"var was not initialized, it is now set to 2\")\n",
    "    var = 2\n",
    "    "
   ]
  },
  {
   "cell_type": "code",
   "execution_count": 67,
   "metadata": {},
   "outputs": [
    {
     "data": {
      "text/plain": [
       "3"
      ]
     },
     "execution_count": 67,
     "metadata": {},
     "output_type": "execute_result"
    }
   ],
   "source": [
    "x"
   ]
  },
  {
   "cell_type": "code",
   "execution_count": 70,
   "metadata": {},
   "outputs": [
    {
     "data": {
      "text/plain": [
       "2"
      ]
     },
     "execution_count": 70,
     "metadata": {},
     "output_type": "execute_result"
    }
   ],
   "source": [
    "var"
   ]
  },
  {
   "cell_type": "code",
   "execution_count": 68,
   "metadata": {},
   "outputs": [
    {
     "data": {
      "text/plain": [
       "0"
      ]
     },
     "execution_count": 68,
     "metadata": {},
     "output_type": "execute_result"
    }
   ],
   "source": [
    "y"
   ]
  },
  {
   "cell_type": "code",
   "execution_count": 71,
   "metadata": {},
   "outputs": [
    {
     "name": "stdout",
     "output_type": "stream",
     "text": [
      "Handling any kind of arithmetic error - could be a ZeroDivisionError but might not be...\n"
     ]
    }
   ],
   "source": [
    "# remember that if you are using multiple except statements, always put the more specific one first!\n",
    "# here we are seeing what happens when the more general exception type is put first\n",
    "\n",
    "def divide(numerator, denominator):\n",
    "    \"\"\"Divide the numerator by the denominator.\"\"\"\n",
    "    result = None\n",
    "    try:  # if we get an exception, we can handle it in the except statement\n",
    "        result = numerator/denominator\n",
    "    except ArithmeticError: # only catch ArithmeticErrors exceptions (OverflowError, ZeroDivisionError, etc.)\n",
    "        print(\"Handling any kind of arithmetic error - could be a ZeroDivisionError but might not be...\")\n",
    "    # we will NOT execute this statement\n",
    "    except ZeroDivisionError:  # only catch ZeroDivisionError exceptions\n",
    "        print(\"Zero division error handled\")\n",
    "        print(\"Should not divide by 0 ... it does not make sense ...\")\n",
    "    \n",
    "    return result\n",
    "\n",
    "divide(3, 0)"
   ]
  },
  {
   "cell_type": "markdown",
   "metadata": {},
   "source": [
    "#### An except clause may name multiple exceptions as a parenthesized tuple"
   ]
  },
  {
   "cell_type": "code",
   "execution_count": 72,
   "metadata": {},
   "outputs": [
    {
     "name": "stdout",
     "output_type": "stream",
     "text": [
      "Handled error\n",
      "y =  3\n"
     ]
    }
   ],
   "source": [
    "# useful if they are handled the same\n",
    "\n",
    "x = 0 \n",
    "# x = '2' # to generate TypeError\n",
    "\n",
    "try:\n",
    "    y = 3/x\n",
    "except (ZeroDivisionError,TypeError) as err:\n",
    "    print(\"Handled error\")\n",
    "    y = 3\n",
    "    \n",
    "    \n",
    "print(\"y = \", y)"
   ]
  },
  {
   "cell_type": "code",
   "execution_count": 73,
   "metadata": {},
   "outputs": [
    {
     "name": "stdout",
     "output_type": "stream",
     "text": [
      "Zero division error handled\n",
      "y =  3\n"
     ]
    }
   ],
   "source": [
    "# not so much if they need to be handled differently\n",
    "\n",
    "x = 0 \n",
    "# x = '2' # to generate TypeError\n",
    "\n",
    "try:\n",
    "    y = 3/x\n",
    "except (ZeroDivisionError,TypeError) as err:\n",
    "    if (isinstance(err,ZeroDivisionError)):\n",
    "        print(\"Zero division error handled\")\n",
    "        y = 3\n",
    "    else:\n",
    "        print(\"Type error handled\")\n",
    "        y = 3/int(x)\n",
    "    \n",
    "print(\"y = \", y)\n",
    "    "
   ]
  },
  {
   "cell_type": "code",
   "execution_count": 75,
   "metadata": {},
   "outputs": [
    {
     "name": "stdout",
     "output_type": "stream",
     "text": [
      "y =  1.5\n"
     ]
    }
   ],
   "source": [
    "# look at the error information\n",
    "\n",
    "x = 0 \n",
    "x = '2' # to generate TypeError\n",
    "\n",
    "try:\n",
    "    y = 3/x\n",
    "except ZeroDivisionError as err:\n",
    "    print(\"Error: \", err)\n",
    "    print(\"Error arguments\", err.args)\n",
    "    y = 3\n",
    "except TypeError:\n",
    "    y = 3/int(x)\n",
    "    \n",
    "print(\"y = \", y)\n",
    " "
   ]
  },
  {
   "cell_type": "code",
   "execution_count": 76,
   "metadata": {},
   "outputs": [
    {
     "name": "stdout",
     "output_type": "stream",
     "text": [
      "Error:  division by zero\n",
      "Error arguments ('division by zero',)\n",
      "y =  3\n"
     ]
    }
   ],
   "source": [
    "x = 0 \n",
    "# x = '2' # to generate TypeError\n",
    "\n",
    "try:\n",
    "    y = 3/x\n",
    "except ZeroDivisionError as err:\n",
    "    print(\"Error: \", err)\n",
    "    print(\"Error arguments\", err.args)\n",
    "    y = 3\n",
    "except TypeError:\n",
    "    y = 3/int(x)\n",
    "    \n",
    "print(\"y = \", y)"
   ]
  },
  {
   "cell_type": "markdown",
   "metadata": {},
   "source": [
    "    "
   ]
  },
  {
   "cell_type": "markdown",
   "metadata": {},
   "source": [
    "#### The `else` clause\n",
    "#### - The try except statement has an optional <b>else</b> clause, which, when present, must follow all except clauses. \n",
    "#### - It is useful for code that must be executed if the try clause does not raise an exception."
   ]
  },
  {
   "cell_type": "code",
   "execution_count": 77,
   "metadata": {},
   "outputs": [
    {
     "name": "stdout",
     "output_type": "stream",
     "text": [
      "y =  3\n",
      "z =  0\n"
     ]
    }
   ],
   "source": [
    "x = 0\n",
    "# x = '2' # to generate TypeError\n",
    "z = 0\n",
    "\n",
    "try:\n",
    "    y = 3/x\n",
    "except ZeroDivisionError as err:\n",
    "    y = 3\n",
    "except TypeError:\n",
    "    y = 3/int(x)\n",
    "else: \n",
    "    z = y + 4\n",
    "    \n",
    "print(\"y = \", y)\n",
    "print(\"z = \", z)\n",
    "\n"
   ]
  },
  {
   "cell_type": "code",
   "execution_count": 78,
   "metadata": {},
   "outputs": [
    {
     "name": "stdout",
     "output_type": "stream",
     "text": [
      "y =  1.5\n",
      "z =  0\n"
     ]
    }
   ],
   "source": [
    "x = 0\n",
    "x = '2' # to generate TypeError\n",
    "z = 0\n",
    "\n",
    "try:\n",
    "    y = 3/x\n",
    "except ZeroDivisionError as err:\n",
    "    y = 3\n",
    "except TypeError:\n",
    "    y = 3/int(x)\n",
    "else: \n",
    "    z = y + 4\n",
    "    \n",
    "print(\"y = \", y)\n",
    "print(\"z = \", z)"
   ]
  },
  {
   "cell_type": "code",
   "execution_count": 79,
   "metadata": {},
   "outputs": [
    {
     "name": "stdout",
     "output_type": "stream",
     "text": [
      "y =  0.15\n",
      "z =  4.15\n"
     ]
    }
   ],
   "source": [
    "x = 0\n",
    "x = '2' # to generate TypeError\n",
    "\n",
    "x = 20\n",
    "\n",
    "z = 0\n",
    "\n",
    "try:\n",
    "    y = 3/x\n",
    "except ZeroDivisionError as err:\n",
    "    y = 3\n",
    "except TypeError:\n",
    "    y = 3/int(x)\n",
    "else: \n",
    "    z = y + 4\n",
    "    \n",
    "print(\"y = \", y)\n",
    "print(\"z = \", z)"
   ]
  },
  {
   "cell_type": "markdown",
   "metadata": {},
   "source": [
    "#### The `finally` clause - Clean-up options"
   ]
  },
  {
   "cell_type": "markdown",
   "metadata": {},
   "source": [
    "#### The try except statement has another optional clause, <b>finally</b>, which is intended to define clean-up actions that must be executed under all circumstances."
   ]
  },
  {
   "cell_type": "code",
   "execution_count": 80,
   "metadata": {},
   "outputs": [
    {
     "name": "stdout",
     "output_type": "stream",
     "text": [
      "executed anyway (error or no error)\n",
      "y =  3\n",
      "z =  0\n",
      "m =  DONE\n"
     ]
    }
   ],
   "source": [
    "x = 0 # set to 0 for error, set to 1 for no error\n",
    "z = 0\n",
    "m = \"STARTING\"\n",
    "\n",
    "try:\n",
    "    y = 3/x\n",
    "except ZeroDivisionError:\n",
    "    y = 3\n",
    "else: \n",
    "    z = y + 4\n",
    "    print(\"executed when there is no error\")\n",
    "finally:\n",
    "    m = \"DONE\"\n",
    "    print(\"executed anyway (error or no error)\")\n",
    "    \n",
    "print(\"y = \", y)\n",
    "print(\"z = \", z)\n",
    "print(\"m = \", m)\n"
   ]
  },
  {
   "cell_type": "markdown",
   "metadata": {},
   "source": [
    "#### - If a finally clause is present, the finally clause will execute as the last task before the try statement completes. \n",
    "#### - The finally clause runs whether or not the try statement produces an exception."
   ]
  },
  {
   "cell_type": "code",
   "execution_count": 81,
   "metadata": {},
   "outputs": [
    {
     "name": "stdout",
     "output_type": "stream",
     "text": [
      "printed anyway\n"
     ]
    },
    {
     "ename": "ZeroDivisionError",
     "evalue": "division by zero",
     "output_type": "error",
     "traceback": [
      "\u001b[0;31m---------------------------------------------------------------------------\u001b[0m",
      "\u001b[0;31mZeroDivisionError\u001b[0m                         Traceback (most recent call last)",
      "Input \u001b[0;32mIn [81]\u001b[0m, in \u001b[0;36m<cell line: 9>\u001b[0;34m()\u001b[0m\n\u001b[1;32m      8\u001b[0m x \u001b[38;5;241m=\u001b[39m \u001b[38;5;241m0\u001b[39m\n\u001b[1;32m      9\u001b[0m \u001b[38;5;28;01mtry\u001b[39;00m:\n\u001b[0;32m---> 10\u001b[0m     y \u001b[38;5;241m=\u001b[39m \u001b[38;5;241;43m3\u001b[39;49m\u001b[38;5;241;43m/\u001b[39;49m\u001b[43mx\u001b[49m\n\u001b[1;32m     11\u001b[0m \u001b[38;5;28;01mexcept\u001b[39;00m \u001b[38;5;167;01mTypeError\u001b[39;00m:\n\u001b[1;32m     12\u001b[0m     \u001b[38;5;28mprint\u001b[39m(\u001b[38;5;124m\"\u001b[39m\u001b[38;5;124mHandling Type error\u001b[39m\u001b[38;5;124m\"\u001b[39m)\n",
      "\u001b[0;31mZeroDivisionError\u001b[0m: division by zero"
     ]
    }
   ],
   "source": [
    "# If an exception occurs during execution of the try clause, \n",
    "# the exception may be handled by an except clause. \n",
    "# If the exception is not handled by an except clause, \n",
    "# the exception is re-raised after the finally clause has been executed.\n",
    "\n",
    "# Let's handle the exception\n",
    "\n",
    "x = 0\n",
    "try:\n",
    "    y = 3/x\n",
    "except TypeError:\n",
    "    print(\"Handling Type error\")\n",
    "finally:\n",
    "    print(\"printed anyway\")\n"
   ]
  },
  {
   "cell_type": "code",
   "execution_count": 82,
   "metadata": {},
   "outputs": [
    {
     "name": "stdout",
     "output_type": "stream",
     "text": [
      "printed anyway\n"
     ]
    },
    {
     "ename": "TypeError",
     "evalue": "unsupported operand type(s) for /: 'int' and 'str'",
     "output_type": "error",
     "traceback": [
      "\u001b[0;31m---------------------------------------------------------------------------\u001b[0m",
      "\u001b[0;31mZeroDivisionError\u001b[0m                         Traceback (most recent call last)",
      "Input \u001b[0;32mIn [82]\u001b[0m, in \u001b[0;36m<cell line: 6>\u001b[0;34m()\u001b[0m\n\u001b[1;32m      6\u001b[0m \u001b[38;5;28;01mtry\u001b[39;00m:\n\u001b[0;32m----> 7\u001b[0m     x \u001b[38;5;241m=\u001b[39m \u001b[38;5;241;43m3\u001b[39;49m\u001b[38;5;241;43m/\u001b[39;49m\u001b[43mx\u001b[49m\n\u001b[1;32m      8\u001b[0m \u001b[38;5;28;01mexcept\u001b[39;00m: \u001b[38;5;66;03m# Not recommanded, avoid using general exept clause\u001b[39;00m\n",
      "\u001b[0;31mZeroDivisionError\u001b[0m: division by zero",
      "\nDuring handling of the above exception, another exception occurred:\n",
      "\u001b[0;31mTypeError\u001b[0m                                 Traceback (most recent call last)",
      "Input \u001b[0;32mIn [82]\u001b[0m, in \u001b[0;36m<cell line: 6>\u001b[0;34m()\u001b[0m\n\u001b[1;32m      7\u001b[0m     x \u001b[38;5;241m=\u001b[39m \u001b[38;5;241m3\u001b[39m\u001b[38;5;241m/\u001b[39mx\n\u001b[1;32m      8\u001b[0m \u001b[38;5;28;01mexcept\u001b[39;00m: \u001b[38;5;66;03m# Not recommanded, avoid using general exept clause\u001b[39;00m\n\u001b[0;32m----> 9\u001b[0m     \u001b[38;5;241;43m3\u001b[39;49m\u001b[38;5;241;43m/\u001b[39;49m\u001b[43mz\u001b[49m\n\u001b[1;32m     10\u001b[0m \u001b[38;5;28;01mfinally\u001b[39;00m:\n\u001b[1;32m     11\u001b[0m     \u001b[38;5;28mprint\u001b[39m(\u001b[38;5;124m\"\u001b[39m\u001b[38;5;124mprinted anyway\u001b[39m\u001b[38;5;124m\"\u001b[39m)\n",
      "\u001b[0;31mTypeError\u001b[0m: unsupported operand type(s) for /: 'int' and 'str'"
     ]
    }
   ],
   "source": [
    "# An exception could occur during execution of an except or else clause. \n",
    "# Again, the exception is re-raised after the finally clause has been executed.\n",
    "\n",
    "x = 0\n",
    "z = \"2\"\n",
    "try:\n",
    "    x = 3/x\n",
    "except: # Not recommanded, avoid using general exept clause\n",
    "    3/z\n",
    "finally:\n",
    "    print(\"printed anyway\")\n"
   ]
  },
  {
   "cell_type": "code",
   "execution_count": 83,
   "metadata": {},
   "outputs": [],
   "source": [
    "# If the try statement reaches a break, continue or return statement, \n",
    "# the finally clause will execute just prior to the break, continue or return statement’s execution.\n",
    "\n",
    "def test_return():\n",
    "    try:\n",
    "        return True\n",
    "    finally:\n",
    "        print(\"printed anyway\")\n"
   ]
  },
  {
   "cell_type": "code",
   "execution_count": 84,
   "metadata": {},
   "outputs": [
    {
     "name": "stdout",
     "output_type": "stream",
     "text": [
      "printed anyway\n"
     ]
    }
   ],
   "source": [
    "res = test_return()"
   ]
  },
  {
   "cell_type": "code",
   "execution_count": 85,
   "metadata": {},
   "outputs": [
    {
     "data": {
      "text/plain": [
       "True"
      ]
     },
     "execution_count": 85,
     "metadata": {},
     "output_type": "execute_result"
    }
   ],
   "source": [
    "res"
   ]
  },
  {
   "cell_type": "code",
   "execution_count": 86,
   "metadata": {},
   "outputs": [],
   "source": [
    "# If a finally clause includes a return statement, \n",
    "# the finally clause’s return statement will execute before, \n",
    "# and instead of, the return statement in a try clause.\n",
    "\n",
    "def test_return():\n",
    "    try:    \n",
    "        return \"This is in try\"\n",
    "    finally:\n",
    "        return \"This is in finally\"\n",
    "        print(\"test\")\n"
   ]
  },
  {
   "cell_type": "code",
   "execution_count": 87,
   "metadata": {},
   "outputs": [],
   "source": [
    "res = test_return()"
   ]
  },
  {
   "cell_type": "code",
   "execution_count": 88,
   "metadata": {},
   "outputs": [
    {
     "data": {
      "text/plain": [
       "'This is in finally'"
      ]
     },
     "execution_count": 88,
     "metadata": {},
     "output_type": "execute_result"
    }
   ],
   "source": [
    "res"
   ]
  },
  {
   "cell_type": "markdown",
   "metadata": {},
   "source": [
    "____\n",
    "\n",
    "#### Raising Exceptions"
   ]
  },
  {
   "cell_type": "markdown",
   "metadata": {},
   "source": [
    "The <b>raise</b> statement allows the programmer to force a specified exception to occur. "
   ]
  },
  {
   "cell_type": "code",
   "execution_count": 89,
   "metadata": {},
   "outputs": [
    {
     "ename": "NameError",
     "evalue": "name 'rr' is not defined",
     "output_type": "error",
     "traceback": [
      "\u001b[0;31m---------------------------------------------------------------------------\u001b[0m",
      "\u001b[0;31mNameError\u001b[0m                                 Traceback (most recent call last)",
      "Input \u001b[0;32mIn [89]\u001b[0m, in \u001b[0;36m<cell line: 1>\u001b[0;34m()\u001b[0m\n\u001b[0;32m----> 1\u001b[0m \u001b[43mrr\u001b[49m\n",
      "\u001b[0;31mNameError\u001b[0m: name 'rr' is not defined"
     ]
    }
   ],
   "source": [
    "rr"
   ]
  },
  {
   "cell_type": "code",
   "execution_count": 91,
   "metadata": {},
   "outputs": [
    {
     "ename": "ValueError",
     "evalue": "",
     "output_type": "error",
     "traceback": [
      "\u001b[0;31m---------------------------------------------------------------------------\u001b[0m",
      "\u001b[0;31mValueError\u001b[0m                                Traceback (most recent call last)",
      "Input \u001b[0;32mIn [91]\u001b[0m, in \u001b[0;36m<cell line: 1>\u001b[0;34m()\u001b[0m\n\u001b[0;32m----> 1\u001b[0m \u001b[38;5;28;01mraise\u001b[39;00m \u001b[38;5;167;01mValueError\u001b[39;00m\n",
      "\u001b[0;31mValueError\u001b[0m: "
     ]
    }
   ],
   "source": [
    "raise ValueError"
   ]
  },
  {
   "cell_type": "code",
   "execution_count": 90,
   "metadata": {},
   "outputs": [
    {
     "ename": "NameError",
     "evalue": "",
     "output_type": "error",
     "traceback": [
      "\u001b[0;31m---------------------------------------------------------------------------\u001b[0m",
      "\u001b[0;31mNameError\u001b[0m                                 Traceback (most recent call last)",
      "Input \u001b[0;32mIn [90]\u001b[0m, in \u001b[0;36m<cell line: 1>\u001b[0;34m()\u001b[0m\n\u001b[0;32m----> 1\u001b[0m \u001b[38;5;28;01mraise\u001b[39;00m \u001b[38;5;167;01mNameError\u001b[39;00m\n",
      "\u001b[0;31mNameError\u001b[0m: "
     ]
    }
   ],
   "source": [
    "raise NameError"
   ]
  },
  {
   "cell_type": "code",
   "execution_count": 92,
   "metadata": {},
   "outputs": [
    {
     "ename": "NameError",
     "evalue": "This is where the relevant message should be",
     "output_type": "error",
     "traceback": [
      "\u001b[0;31m---------------------------------------------------------------------------\u001b[0m",
      "\u001b[0;31mNameError\u001b[0m                                 Traceback (most recent call last)",
      "Input \u001b[0;32mIn [92]\u001b[0m, in \u001b[0;36m<cell line: 3>\u001b[0;34m()\u001b[0m\n\u001b[1;32m      1\u001b[0m \u001b[38;5;66;03m# provide a relevant message\u001b[39;00m\n\u001b[0;32m----> 3\u001b[0m \u001b[38;5;28;01mraise\u001b[39;00m \u001b[38;5;167;01mNameError\u001b[39;00m(\u001b[38;5;124m\"\u001b[39m\u001b[38;5;124mThis is where the relevant message should be\u001b[39m\u001b[38;5;124m\"\u001b[39m)\n",
      "\u001b[0;31mNameError\u001b[0m: This is where the relevant message should be"
     ]
    }
   ],
   "source": [
    "# provide a relevant message\n",
    "\n",
    "raise NameError(\"This is where the relevant message should be\")"
   ]
  },
  {
   "cell_type": "code",
   "execution_count": 93,
   "metadata": {},
   "outputs": [
    {
     "ename": "ValueError",
     "evalue": "Error message to the user, something went wrong here and here is how to fix it",
     "output_type": "error",
     "traceback": [
      "\u001b[0;31m---------------------------------------------------------------------------\u001b[0m",
      "\u001b[0;31mValueError\u001b[0m                                Traceback (most recent call last)",
      "Input \u001b[0;32mIn [93]\u001b[0m, in \u001b[0;36m<cell line: 1>\u001b[0;34m()\u001b[0m\n\u001b[0;32m----> 1\u001b[0m \u001b[38;5;28;01mraise\u001b[39;00m \u001b[38;5;167;01mValueError\u001b[39;00m(\u001b[38;5;124m\"\u001b[39m\u001b[38;5;124mError message to the user, something went wrong here and here is how to fix it\u001b[39m\u001b[38;5;124m\"\u001b[39m)\n\u001b[1;32m      2\u001b[0m \u001b[38;5;28mprint\u001b[39m(\u001b[38;5;124m\"\u001b[39m\u001b[38;5;124mtest\u001b[39m\u001b[38;5;124m\"\u001b[39m)\n",
      "\u001b[0;31mValueError\u001b[0m: Error message to the user, something went wrong here and here is how to fix it"
     ]
    }
   ],
   "source": [
    "raise ValueError(\"Error message to the user, something went wrong here and here is how to fix it\")\n",
    "print(\"test\")"
   ]
  },
  {
   "cell_type": "code",
   "execution_count": null,
   "metadata": {},
   "outputs": [],
   "source": []
  },
  {
   "cell_type": "code",
   "execution_count": null,
   "metadata": {},
   "outputs": [],
   "source": []
  },
  {
   "cell_type": "markdown",
   "metadata": {},
   "source": [
    "#### Handling the error by raising it"
   ]
  },
  {
   "cell_type": "code",
   "execution_count": 94,
   "metadata": {},
   "outputs": [
    {
     "name": "stdout",
     "output_type": "stream",
     "text": [
      "Handled the error by raising it\n"
     ]
    },
    {
     "ename": "NameError",
     "evalue": "name 'unknown_variable' is not defined",
     "output_type": "error",
     "traceback": [
      "\u001b[0;31m---------------------------------------------------------------------------\u001b[0m",
      "\u001b[0;31mNameError\u001b[0m                                 Traceback (most recent call last)",
      "Input \u001b[0;32mIn [94]\u001b[0m, in \u001b[0;36m<cell line: 1>\u001b[0;34m()\u001b[0m\n\u001b[1;32m      1\u001b[0m \u001b[38;5;28;01mtry\u001b[39;00m:\n\u001b[0;32m----> 2\u001b[0m     unknown_variable \u001b[38;5;241m+\u001b[39m\u001b[38;5;241m=\u001b[39m \u001b[38;5;124m\"\u001b[39m\u001b[38;5;124mtest\u001b[39m\u001b[38;5;124m\"\u001b[39m\n\u001b[1;32m      3\u001b[0m \u001b[38;5;28;01mexcept\u001b[39;00m \u001b[38;5;167;01mNameError\u001b[39;00m:\n\u001b[1;32m      4\u001b[0m     \u001b[38;5;28mprint\u001b[39m(\u001b[38;5;124m\"\u001b[39m\u001b[38;5;124mHandled the error by raising it\u001b[39m\u001b[38;5;124m\"\u001b[39m)\n",
      "\u001b[0;31mNameError\u001b[0m: name 'unknown_variable' is not defined"
     ]
    }
   ],
   "source": [
    "try:\n",
    "    unknown_variable += \"test\"\n",
    "except NameError:\n",
    "    print(\"Handled the error by raising it\")\n",
    "    raise # raise the error"
   ]
  },
  {
   "cell_type": "code",
   "execution_count": 95,
   "metadata": {},
   "outputs": [],
   "source": [
    "def test_raising_error():\n",
    "    try:\n",
    "        unknown_variable += 20\n",
    "    except TypeError:\n",
    "        print(\"We had a TypeError\")\n",
    "    except NameError:\n",
    "        print(\"Raise it to the next level\")\n",
    "        raise UserWarning(\"Deal with this at the upper level\")"
   ]
  },
  {
   "cell_type": "code",
   "execution_count": 96,
   "metadata": {},
   "outputs": [
    {
     "name": "stdout",
     "output_type": "stream",
     "text": [
      "Raise it to the next level\n"
     ]
    },
    {
     "ename": "UserWarning",
     "evalue": "Deal with this at the upper level",
     "output_type": "error",
     "traceback": [
      "\u001b[0;31m---------------------------------------------------------------------------\u001b[0m",
      "\u001b[0;31mUnboundLocalError\u001b[0m                         Traceback (most recent call last)",
      "Input \u001b[0;32mIn [95]\u001b[0m, in \u001b[0;36mtest_raising_error\u001b[0;34m()\u001b[0m\n\u001b[1;32m      2\u001b[0m \u001b[38;5;28;01mtry\u001b[39;00m:\n\u001b[0;32m----> 3\u001b[0m     unknown_variable \u001b[38;5;241m+\u001b[39m\u001b[38;5;241m=\u001b[39m \u001b[38;5;241m20\u001b[39m\n\u001b[1;32m      4\u001b[0m \u001b[38;5;28;01mexcept\u001b[39;00m \u001b[38;5;167;01mTypeError\u001b[39;00m:\n",
      "\u001b[0;31mUnboundLocalError\u001b[0m: local variable 'unknown_variable' referenced before assignment",
      "\nDuring handling of the above exception, another exception occurred:\n",
      "\u001b[0;31mUserWarning\u001b[0m                               Traceback (most recent call last)",
      "Input \u001b[0;32mIn [96]\u001b[0m, in \u001b[0;36m<cell line: 1>\u001b[0;34m()\u001b[0m\n\u001b[0;32m----> 1\u001b[0m \u001b[43mtest_raising_error\u001b[49m\u001b[43m(\u001b[49m\u001b[43m)\u001b[49m\n",
      "Input \u001b[0;32mIn [95]\u001b[0m, in \u001b[0;36mtest_raising_error\u001b[0;34m()\u001b[0m\n\u001b[1;32m      6\u001b[0m \u001b[38;5;28;01mexcept\u001b[39;00m \u001b[38;5;167;01mNameError\u001b[39;00m:\n\u001b[1;32m      7\u001b[0m     \u001b[38;5;28mprint\u001b[39m(\u001b[38;5;124m\"\u001b[39m\u001b[38;5;124mRaise it to the next level\u001b[39m\u001b[38;5;124m\"\u001b[39m)\n\u001b[0;32m----> 8\u001b[0m     \u001b[38;5;28;01mraise\u001b[39;00m \u001b[38;5;167;01mUserWarning\u001b[39;00m(\u001b[38;5;124m\"\u001b[39m\u001b[38;5;124mDeal with this at the upper level\u001b[39m\u001b[38;5;124m\"\u001b[39m)\n",
      "\u001b[0;31mUserWarning\u001b[0m: Deal with this at the upper level"
     ]
    }
   ],
   "source": [
    "test_raising_error()"
   ]
  },
  {
   "cell_type": "code",
   "execution_count": 97,
   "metadata": {},
   "outputs": [
    {
     "name": "stdout",
     "output_type": "stream",
     "text": [
      "Raise it to the next level\n",
      "Got a user warning\n"
     ]
    }
   ],
   "source": [
    "try:\n",
    "    test_raising_error()\n",
    "except NameError:\n",
    "    print(\"This function has un uninitialized variable\")\n",
    "except UserWarning:\n",
    "    print(\"Got a user warning\")"
   ]
  },
  {
   "cell_type": "code",
   "execution_count": null,
   "metadata": {},
   "outputs": [],
   "source": []
  },
  {
   "cell_type": "markdown",
   "metadata": {},
   "source": [
    "____\n",
    "\n",
    "<b><font color = \"red\">Exercise</font></b>\n",
    "\n",
    "#### Putting it all together\n",
    "#### A more realistic example where exceptions are handled\n",
    "\n",
    "TASK: You are given a file, temperatures.txt, where each line contains a temperature in Fahrenheit. Modify the existing function so that it:\n",
    "* Handles a `FileNotFoundError`\n",
    "    * If a `FileNotFoundError` is raised, print: \"File {filename} does not exist.\\nPlease provide a file that contains Fahrenheit temperatures one per line.\", where `{filename}` is the `filename` parameter. The function should return an empty `Celsius_temperatures` list.\n",
    "* Handles a ValueError if `line` does not contain a numeric value\n",
    "    * If a `ValueError` is raised, print a helpful message displaying both the line number and the contents of the `line`. Set `number` to `None`.\n",
    "    * If a `ValueError` is NOT raised, proceed with the temperature converstion calculation, `number = (number - 32)/1.8`.\n",
    "    * ALWAYS append `number` to `Celsius temperatures`."
   ]
  },
  {
   "cell_type": "code",
   "execution_count": 108,
   "metadata": {},
   "outputs": [],
   "source": [
    "def fahrenheit_to_celsius(filename):\n",
    "    # creates an empty list to store the converted temperatures\n",
    "    Celsius_temperatures = []\n",
    "    # opens the file\n",
    "    try:\n",
    "        with open(filename) as Fahrenheit_datafile:\n",
    "            # iterates through each line in the file\n",
    "            for line in Fahrenheit_datafile:\n",
    "                # casts the line of type string into a float type number\n",
    "                try:\n",
    "                    number = float(line)\n",
    "                except ValueError:\n",
    "                    print(\"The value: '\", line.strip(), \"', is not a number.\")\n",
    "                else:\n",
    "                    # converts the fahrenheit temperature to celsius\n",
    "                    number = (number - 32)/1.8\n",
    "                    # appends the calculated temperature in celsius to the end of the list\n",
    "                    Celsius_temperatures.append(number)\n",
    "                \n",
    "    except FileNotFoundError:\n",
    "        print(\"Provide a file name of a file with temperatures in Celsiul one per line.\\nFile should be in the same folder as the notebook.\")\n",
    "    # returns the list of converted temperatures in celsius\n",
    "    return Celsius_temperatures"
   ]
  },
  {
   "cell_type": "code",
   "execution_count": 109,
   "metadata": {},
   "outputs": [
    {
     "name": "stdout",
     "output_type": "stream",
     "text": [
      "Provide a file name of a file with temperatures in Celsiul one per line.\n",
      "File should be in the same folder as the notebook.\n"
     ]
    },
    {
     "data": {
      "text/plain": [
       "[]"
      ]
     },
     "execution_count": 109,
     "metadata": {},
     "output_type": "execute_result"
    }
   ],
   "source": [
    "fahrenheit_to_celsius(\"file_does_not_exist.txt\")"
   ]
  },
  {
   "cell_type": "code",
   "execution_count": 110,
   "metadata": {},
   "outputs": [
    {
     "name": "stdout",
     "output_type": "stream",
     "text": [
      "The value: ' not a temperature ', is not a number.\n"
     ]
    },
    {
     "data": {
      "text/plain": [
       "[16.11111111111111, -1.1111111111111112, 21.666666666666668]"
      ]
     },
     "execution_count": 110,
     "metadata": {},
     "output_type": "execute_result"
    }
   ],
   "source": [
    "fahrenheit_to_celsius(\"temperatures.txt\")"
   ]
  },
  {
   "cell_type": "code",
   "execution_count": null,
   "metadata": {},
   "outputs": [],
   "source": []
  },
  {
   "cell_type": "code",
   "execution_count": null,
   "metadata": {},
   "outputs": [],
   "source": []
  },
  {
   "cell_type": "code",
   "execution_count": null,
   "metadata": {},
   "outputs": [],
   "source": []
  },
  {
   "cell_type": "code",
   "execution_count": 111,
   "metadata": {},
   "outputs": [
    {
     "name": "stdout",
     "output_type": "stream",
     "text": [
      "Element skipped: 2.1, Reason : invalid literal for int() with base 10: '2.1'\n",
      "Element skipped: a, Reason : could not convert string to float: 'a'\n",
      "Total value:  193.0\n"
     ]
    }
   ],
   "source": [
    "# create a log as you are processing data\n",
    "\n",
    "numbers_list = [4.5,5,\"2.1\",7,\"a\",\"10\",1]\n",
    "total_value = 0\n",
    "for number in numbers_list: \n",
    "    try:\n",
    "        x = float(number)\n",
    "        y = int(number)\n",
    "    except Exception as err: # process ValueError only \n",
    "        print('Element skipped: {}, Reason : {}'.format(number, err)) \n",
    "    else:\n",
    "        total_value += x*y\n",
    "print(\"Total value: \", total_value)"
   ]
  },
  {
   "cell_type": "code",
   "execution_count": null,
   "metadata": {},
   "outputs": [],
   "source": []
  },
  {
   "cell_type": "code",
   "execution_count": 120,
   "metadata": {},
   "outputs": [
    {
     "name": "stdout",
     "output_type": "stream",
     "text": [
      "Line 3 does not contain a numeric value.\n",
      "The content of the line is 'not a temperature'\n",
      "Temperatures in Celsius are: \n",
      "[16.11111111111111, -1.1111111111111112, None, 21.666666666666668]\n"
     ]
    }
   ],
   "source": [
    "# another solution - contains a log of errors and \n",
    "# adds None to the list for temps that are not numeric\n",
    "\n",
    "file_name = \"temperatures.txt\"\n",
    "Celsius_temperatures = []\n",
    "try:\n",
    "    with open(file_name) as Fahrenheit_datafile:\n",
    "        for i,line in enumerate(Fahrenheit_datafile):\n",
    "            try:\n",
    "                #print(line)\n",
    "                number = float(line)\n",
    "            except ValueError:\n",
    "                print(f\"Line {i + 1} does not contain a numeric value.\")\n",
    "                print(f\"The content of the line is '{line.strip()}'\")\n",
    "                number = None\n",
    "            else:\n",
    "                number = (number - 32)/1.8\n",
    "            finally:\n",
    "                Celsius_temperatures.append(number)\n",
    "except FileNotFoundError:\n",
    "    print(f\"File '{file_name}' does not exist.\\nPlease provide a file that contains Fahrenheit temperatures one per line.\")\n",
    "else:   \n",
    "    print(f\"Temperatures in Celsius are: \\n{Celsius_temperatures}\")\n",
    "    \n",
    "            \n",
    "                "
   ]
  },
  {
   "cell_type": "code",
   "execution_count": null,
   "metadata": {},
   "outputs": [],
   "source": []
  },
  {
   "cell_type": "markdown",
   "metadata": {},
   "source": [
    "____ \n",
    "\n",
    "\n",
    "### EXTRA MATERIAL"
   ]
  },
  {
   "cell_type": "markdown",
   "metadata": {},
   "source": [
    "#### User-defined Exceptions"
   ]
  },
  {
   "cell_type": "code",
   "execution_count": null,
   "metadata": {},
   "outputs": [],
   "source": [
    "# Creating your own error class\n",
    "\n",
    "class OhNoError(Exception):\n",
    "    \n",
    "    def __init__(self,level=10,*args,**kwargs):\n",
    "        self.level = level\n",
    "        Exception.__init__(self,\"This is a showstopper! level = \" + str(self.level))\n",
    "        # super().__init__(self,\"This is a showstopper! level = \" + str(level))\n",
    "        # super().__init__(*args,**kwargs)\n",
    "\n"
   ]
  },
  {
   "cell_type": "code",
   "execution_count": null,
   "metadata": {},
   "outputs": [],
   "source": [
    "exc = Exception(\"Test\")"
   ]
  },
  {
   "cell_type": "code",
   "execution_count": null,
   "metadata": {},
   "outputs": [],
   "source": [
    "exc.level"
   ]
  },
  {
   "cell_type": "code",
   "execution_count": null,
   "metadata": {},
   "outputs": [],
   "source": [
    "ohno_err =  OhNoError(5)"
   ]
  },
  {
   "cell_type": "code",
   "execution_count": null,
   "metadata": {},
   "outputs": [],
   "source": [
    "ohno_err.level"
   ]
  },
  {
   "cell_type": "code",
   "execution_count": null,
   "metadata": {},
   "outputs": [],
   "source": [
    "raise ohno_err"
   ]
  },
  {
   "cell_type": "code",
   "execution_count": null,
   "metadata": {},
   "outputs": [],
   "source": [
    "# Creating hierarchical error classes\n",
    "\n",
    "class GrandParentError(Exception):\n",
    "    pass\n",
    "\n",
    "class ParentError(GrandParentError):\n",
    "    pass\n",
    "\n",
    "class ChildError(ParentError):\n",
    "    pass\n",
    "\n",
    "# The more specific exception shoud go first in the list of except clauses\n",
    "# check the hierarchy:\n",
    "# https://docs.python.org/3/library/exceptions.html#exception-hierarchy\n",
    "\n",
    "for cls in [GrandParentError, ParentError, ChildError]:\n",
    "    try:\n",
    "        raise cls\n",
    "    # except Exception: # Never ever do this!!!!\n",
    "    #     print(\"done\")\n",
    "    except ChildError:\n",
    "        print(\"ChildError\")\n",
    "    except ParentError:\n",
    "        print(\"ParentError\")\n",
    "    except GrandParentError:\n",
    "        print(\"GrandParentError\")"
   ]
  },
  {
   "cell_type": "markdown",
   "metadata": {},
   "source": [
    "  "
   ]
  },
  {
   "cell_type": "markdown",
   "metadata": {},
   "source": [
    "Pass messages among parts of the code:<br>\n",
    "https://scipy-lectures.org/intro/language/exceptions.html\n",
    "    "
   ]
  },
  {
   "cell_type": "code",
   "execution_count": null,
   "metadata": {},
   "outputs": [],
   "source": [
    "def pass_message():\n",
    "    raise StopIteration"
   ]
  },
  {
   "cell_type": "code",
   "execution_count": null,
   "metadata": {},
   "outputs": [],
   "source": [
    "while True:\n",
    "    pass_message()"
   ]
  },
  {
   "cell_type": "code",
   "execution_count": null,
   "metadata": {},
   "outputs": [],
   "source": [
    "# nested try statements\n",
    "try:\n",
    "    2 + \"3\"\n",
    "except TypeError:\n",
    "    try:\n",
    "        4/0\n",
    "    except ZeroDivisionError:\n",
    "        print(\"Handled errors\")"
   ]
  },
  {
   "cell_type": "markdown",
   "metadata": {},
   "source": [
    " "
   ]
  },
  {
   "cell_type": "markdown",
   "metadata": {},
   "source": [
    "More resources: \n",
    "\n",
    "https://www.tutorialspoint.com/python/python_exceptions.htm"
   ]
  },
  {
   "cell_type": "markdown",
   "metadata": {},
   "source": [
    "https://buildmedia.readthedocs.org/media/pdf/pythonguide/latest/pythonguide.pdf"
   ]
  },
  {
   "cell_type": "markdown",
   "metadata": {},
   "source": [
    "https://www.w3schools.com/python/python_try_except.asp"
   ]
  },
  {
   "cell_type": "markdown",
   "metadata": {},
   "source": [
    "#### For fun \n",
    "##### Try to write code that raises as many of the following errors:\n"
   ]
  },
  {
   "cell_type": "code",
   "execution_count": 112,
   "metadata": {},
   "outputs": [
    {
     "data": {
      "text/plain": [
       "['ArithmeticError',\n",
       " 'AssertionError',\n",
       " 'AttributeError',\n",
       " 'BlockingIOError',\n",
       " 'BrokenPipeError',\n",
       " 'BufferError',\n",
       " 'ChildProcessError',\n",
       " 'ConnectionAbortedError',\n",
       " 'ConnectionError',\n",
       " 'ConnectionRefusedError',\n",
       " 'ConnectionResetError',\n",
       " 'EOFError',\n",
       " 'EnvironmentError',\n",
       " 'FileExistsError',\n",
       " 'FileNotFoundError',\n",
       " 'FloatingPointError',\n",
       " 'IOError',\n",
       " 'ImportError',\n",
       " 'IndentationError',\n",
       " 'IndexError',\n",
       " 'InterruptedError',\n",
       " 'IsADirectoryError',\n",
       " 'KeyError',\n",
       " 'LookupError',\n",
       " 'MemoryError',\n",
       " 'ModuleNotFoundError',\n",
       " 'NameError',\n",
       " 'NotADirectoryError',\n",
       " 'NotImplementedError',\n",
       " 'OSError',\n",
       " 'OverflowError',\n",
       " 'PermissionError',\n",
       " 'ProcessLookupError',\n",
       " 'RecursionError',\n",
       " 'ReferenceError',\n",
       " 'RuntimeError',\n",
       " 'SyntaxError',\n",
       " 'SystemError',\n",
       " 'TabError',\n",
       " 'TimeoutError',\n",
       " 'TypeError',\n",
       " 'UnboundLocalError',\n",
       " 'UnicodeDecodeError',\n",
       " 'UnicodeEncodeError',\n",
       " 'UnicodeError',\n",
       " 'UnicodeTranslateError',\n",
       " 'ValueError',\n",
       " 'ZeroDivisionError']"
      ]
     },
     "execution_count": 112,
     "metadata": {},
     "output_type": "execute_result"
    }
   ],
   "source": [
    "[e for e in dir(__builtin__) if \"Error\" in e]"
   ]
  },
  {
   "cell_type": "code",
   "execution_count": 114,
   "metadata": {},
   "outputs": [],
   "source": [
    "# to get you started - RecursionError\n",
    "\n",
    "def recursive_function():\n",
    "    return recursive_function()"
   ]
  },
  {
   "cell_type": "code",
   "execution_count": 115,
   "metadata": {},
   "outputs": [
    {
     "ename": "RecursionError",
     "evalue": "maximum recursion depth exceeded",
     "output_type": "error",
     "traceback": [
      "\u001b[0;31m---------------------------------------------------------------------------\u001b[0m",
      "\u001b[0;31mRecursionError\u001b[0m                            Traceback (most recent call last)",
      "Input \u001b[0;32mIn [115]\u001b[0m, in \u001b[0;36m<cell line: 1>\u001b[0;34m()\u001b[0m\n\u001b[0;32m----> 1\u001b[0m \u001b[43mrecursive_function\u001b[49m\u001b[43m(\u001b[49m\u001b[43m)\u001b[49m\n",
      "Input \u001b[0;32mIn [114]\u001b[0m, in \u001b[0;36mrecursive_function\u001b[0;34m()\u001b[0m\n\u001b[1;32m      3\u001b[0m \u001b[38;5;28;01mdef\u001b[39;00m \u001b[38;5;21mrecursive_function\u001b[39m():\n\u001b[0;32m----> 4\u001b[0m     \u001b[38;5;28;01mreturn\u001b[39;00m \u001b[43mrecursive_function\u001b[49m\u001b[43m(\u001b[49m\u001b[43m)\u001b[49m\n",
      "Input \u001b[0;32mIn [114]\u001b[0m, in \u001b[0;36mrecursive_function\u001b[0;34m()\u001b[0m\n\u001b[1;32m      3\u001b[0m \u001b[38;5;28;01mdef\u001b[39;00m \u001b[38;5;21mrecursive_function\u001b[39m():\n\u001b[0;32m----> 4\u001b[0m     \u001b[38;5;28;01mreturn\u001b[39;00m \u001b[43mrecursive_function\u001b[49m\u001b[43m(\u001b[49m\u001b[43m)\u001b[49m\n",
      "    \u001b[0;31m[... skipping similar frames: recursive_function at line 4 (2970 times)]\u001b[0m\n",
      "Input \u001b[0;32mIn [114]\u001b[0m, in \u001b[0;36mrecursive_function\u001b[0;34m()\u001b[0m\n\u001b[1;32m      3\u001b[0m \u001b[38;5;28;01mdef\u001b[39;00m \u001b[38;5;21mrecursive_function\u001b[39m():\n\u001b[0;32m----> 4\u001b[0m     \u001b[38;5;28;01mreturn\u001b[39;00m \u001b[43mrecursive_function\u001b[49m\u001b[43m(\u001b[49m\u001b[43m)\u001b[49m\n",
      "\u001b[0;31mRecursionError\u001b[0m: maximum recursion depth exceeded"
     ]
    }
   ],
   "source": [
    "recursive_function()"
   ]
  },
  {
   "cell_type": "code",
   "execution_count": 116,
   "metadata": {},
   "outputs": [
    {
     "ename": "OverflowError",
     "evalue": "int too large to convert to float",
     "output_type": "error",
     "traceback": [
      "\u001b[0;31m---------------------------------------------------------------------------\u001b[0m",
      "\u001b[0;31mOverflowError\u001b[0m                             Traceback (most recent call last)",
      "Input \u001b[0;32mIn [116]\u001b[0m, in \u001b[0;36m<cell line: 3>\u001b[0;34m()\u001b[0m\n\u001b[1;32m      1\u001b[0m \u001b[38;5;66;03m# OverflowError\u001b[39;00m\n\u001b[0;32m----> 3\u001b[0m \u001b[38;5;241;43m10\u001b[39;49m\u001b[38;5;241;43m*\u001b[39;49m\u001b[38;5;241;43m*\u001b[39;49m\u001b[43m(\u001b[49m\u001b[38;5;241;43m-\u001b[39;49m\u001b[38;5;241;43m500\u001b[39;49m\u001b[43m)\u001b[49m\u001b[38;5;241;43m/\u001b[39;49m\u001b[38;5;241;43m10\u001b[39;49m\u001b[38;5;241;43m*\u001b[39;49m\u001b[38;5;241;43m*\u001b[39;49m\u001b[38;5;241;43m500\u001b[39;49m\n",
      "\u001b[0;31mOverflowError\u001b[0m: int too large to convert to float"
     ]
    }
   ],
   "source": [
    "# OverflowError\n",
    "\n",
    "10**(-500)/10**500"
   ]
  },
  {
   "cell_type": "code",
   "execution_count": null,
   "metadata": {},
   "outputs": [],
   "source": []
  },
  {
   "cell_type": "code",
   "execution_count": null,
   "metadata": {},
   "outputs": [],
   "source": []
  }
 ],
 "metadata": {
  "kernelspec": {
   "display_name": "Python 3 (ipykernel)",
   "language": "python",
   "name": "python3"
  },
  "language_info": {
   "codemirror_mode": {
    "name": "ipython",
    "version": 3
   },
   "file_extension": ".py",
   "mimetype": "text/x-python",
   "name": "python",
   "nbconvert_exporter": "python",
   "pygments_lexer": "ipython3",
   "version": "3.9.12"
  }
 },
 "nbformat": 4,
 "nbformat_minor": 4
}
