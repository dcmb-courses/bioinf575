{
 "cells": [
  {
   "cell_type": "markdown",
   "metadata": {},
   "source": [
    "## NumPy, Pandas - exercises\n",
    "### BIOINF 575 - Fall 2022\n",
    "\n"
   ]
  },
  {
   "cell_type": "markdown",
   "metadata": {},
   "source": [
    "___\n",
    "\n",
    "#### Processing the worm genome file - using pandas\n",
    "You will do a quick exploration of the data in the the GFF3 file for the C. elegans genome. The GFF3 file is `Caenorhabditis_elegans.WBcel235.91.gff3` and is also available in the github repository (you should have it in the study session if you updated the repo). The GFF3 format is described on:\n",
    "https://github.com/The-Sequence-Ontology/Specifications/blob/master/gff3.md.<br> \n",
    "\n",
    "After the comment and header lines (marked by \"#\"), a line in a GFF3 file (row of a table) is composed of 9 tab-delimited fields (columns). The first 8 are called features. These are all atomic (consist of only one element), so they get put into a dictionary features with no problems. You will need to define a key and you will have to generate those integers as you read the file in and add data to the dictionary.\n",
    "\n",
    "The ninth field will pose more of a problem. It consists of tag-value pairs. **The tag-value pairs are separated by a semi-colon, \";\". The the tag and value in a pair are  separated by equal signs, \"=\", and the values may consist of mulitiple, comma, \",\", separated entries.** Also, any value may be encoded as html-safe encoding. Caution: the encoded characters may be the same as those used to separate the components of the attributes field. To get rid of the encoding (these are  pairs of characters or digits preceded by the % sign), use the unquote() function from urllib.parse (`from urllib.parse import unquote`). Just be careful of when you use it - do it at the wrong time and you will mess up the parsing of attributes.\n",
    "\n",
    "From the definition of the GFF3 we have these fields\n",
    "\n",
    "Each line contains the following information for a genomic features:  `seqid, source, type, start, end, score, strand, phase, attributes`.\n",
    "\n",
    "\n",
    "The attributes column contains the following information: ;-separated pairs of tag=value, where the values may consist of mulitiple, comma, \",\", separated entries.\n",
    "\n",
    "\n"
   ]
  },
  {
   "cell_type": "markdown",
   "metadata": {},
   "source": [
    "____\n",
    "\n",
    "### <font color = \"red\">Exercise</font>\n",
    "\n",
    "#### - Load data from the file and get it ready for analysis:\n",
    "- Open the `Caenorhabditis_elegans.WBcel235.91.gff3` and check the format.\n",
    "- Read the data from the `Caenorhabditis_elegans.WBcel235.91.gff3` into a dataframe.\n",
    "- Set the column names to: ` seqid, source, type, start, end, score, strand, phase, attributes`. \n",
    "- Set the row names to: `Feature0, ..., FeatureX, ... FeatureN-1`, where X is the row index and N the number of rows.\n",
    "\n",
    "\n"
   ]
  },
  {
   "cell_type": "code",
   "execution_count": 1,
   "metadata": {},
   "outputs": [],
   "source": [
    "import numpy as np\n",
    "import pandas as pd\n",
    "\n",
    "\n",
    "# help(pd.read_csv)\n",
    "\n",
    "# Also you can use the: contextual help \n",
    "# right click the notebook select > show contextual help\n",
    "# select the tab of the contextual help from the tabs of the opened files\n",
    "# drag and drop it to the right of your notebook window\n",
    "# you should have something that looks like a split screen \n",
    "# with your notebook to the left anf the contextual help window on the right\n",
    "# now on a cell in the notebook write a function name like abs, or print \n",
    "# - the help for the function should show in the right window  (contextual help window)\n",
    "\n",
    "# pd.read_csv?"
   ]
  },
  {
   "cell_type": "code",
   "execution_count": 2,
   "metadata": {},
   "outputs": [],
   "source": [
    "col_names = (\"seqid\", \"source\", \"type\", \"start\", \"end\", \"score\", \"strand\", \"phase\", \"attributes\")"
   ]
  },
  {
   "cell_type": "code",
   "execution_count": 3,
   "metadata": {},
   "outputs": [
    {
     "data": {
      "text/html": [
       "<div>\n",
       "<style scoped>\n",
       "    .dataframe tbody tr th:only-of-type {\n",
       "        vertical-align: middle;\n",
       "    }\n",
       "\n",
       "    .dataframe tbody tr th {\n",
       "        vertical-align: top;\n",
       "    }\n",
       "\n",
       "    .dataframe thead th {\n",
       "        text-align: right;\n",
       "    }\n",
       "</style>\n",
       "<table border=\"1\" class=\"dataframe\">\n",
       "  <thead>\n",
       "    <tr style=\"text-align: right;\">\n",
       "      <th></th>\n",
       "      <th>seqid</th>\n",
       "      <th>source</th>\n",
       "      <th>type</th>\n",
       "      <th>start</th>\n",
       "      <th>end</th>\n",
       "      <th>score</th>\n",
       "      <th>strand</th>\n",
       "      <th>phase</th>\n",
       "      <th>attributes</th>\n",
       "    </tr>\n",
       "  </thead>\n",
       "  <tbody>\n",
       "    <tr>\n",
       "      <th>Feature0</th>\n",
       "      <td>I</td>\n",
       "      <td>WormBase</td>\n",
       "      <td>chromosome</td>\n",
       "      <td>1</td>\n",
       "      <td>15072434</td>\n",
       "      <td>.</td>\n",
       "      <td>.</td>\n",
       "      <td>.</td>\n",
       "      <td>ID=chromosome:I;Alias=BX284601.5,NC_003279.8</td>\n",
       "    </tr>\n",
       "    <tr>\n",
       "      <th>Feature1</th>\n",
       "      <td>I</td>\n",
       "      <td>WormBase</td>\n",
       "      <td>ncRNA_gene</td>\n",
       "      <td>3747</td>\n",
       "      <td>3909</td>\n",
       "      <td>.</td>\n",
       "      <td>-</td>\n",
       "      <td>.</td>\n",
       "      <td>ID=gene:WBGene00023193;Name=Y74C9A.6;biotype=s...</td>\n",
       "    </tr>\n",
       "    <tr>\n",
       "      <th>Feature2</th>\n",
       "      <td>I</td>\n",
       "      <td>WormBase</td>\n",
       "      <td>snoRNA</td>\n",
       "      <td>3747</td>\n",
       "      <td>3909</td>\n",
       "      <td>.</td>\n",
       "      <td>-</td>\n",
       "      <td>.</td>\n",
       "      <td>ID=transcript:Y74C9A.6;Parent=gene:WBGene00023...</td>\n",
       "    </tr>\n",
       "    <tr>\n",
       "      <th>Feature3</th>\n",
       "      <td>I</td>\n",
       "      <td>WormBase</td>\n",
       "      <td>exon</td>\n",
       "      <td>3747</td>\n",
       "      <td>3909</td>\n",
       "      <td>.</td>\n",
       "      <td>-</td>\n",
       "      <td>.</td>\n",
       "      <td>Parent=transcript:Y74C9A.6;Name=Y74C9A.6.e1;co...</td>\n",
       "    </tr>\n",
       "    <tr>\n",
       "      <th>Feature4</th>\n",
       "      <td>I</td>\n",
       "      <td>WormBase</td>\n",
       "      <td>gene</td>\n",
       "      <td>4116</td>\n",
       "      <td>10230</td>\n",
       "      <td>.</td>\n",
       "      <td>-</td>\n",
       "      <td>.</td>\n",
       "      <td>ID=gene:WBGene00022277;Name=homt-1;biotype=pro...</td>\n",
       "    </tr>\n",
       "    <tr>\n",
       "      <th>...</th>\n",
       "      <td>...</td>\n",
       "      <td>...</td>\n",
       "      <td>...</td>\n",
       "      <td>...</td>\n",
       "      <td>...</td>\n",
       "      <td>...</td>\n",
       "      <td>...</td>\n",
       "      <td>...</td>\n",
       "      <td>...</td>\n",
       "    </tr>\n",
       "    <tr>\n",
       "      <th>Feature659616</th>\n",
       "      <td>X</td>\n",
       "      <td>WormBase</td>\n",
       "      <td>exon</td>\n",
       "      <td>17717328</td>\n",
       "      <td>17717443</td>\n",
       "      <td>.</td>\n",
       "      <td>+</td>\n",
       "      <td>.</td>\n",
       "      <td>Parent=transcript:cTel55X.1a;Name=cTel55X.1a.e...</td>\n",
       "    </tr>\n",
       "    <tr>\n",
       "      <th>Feature659617</th>\n",
       "      <td>X</td>\n",
       "      <td>WormBase</td>\n",
       "      <td>CDS</td>\n",
       "      <td>17717328</td>\n",
       "      <td>17717443</td>\n",
       "      <td>.</td>\n",
       "      <td>+</td>\n",
       "      <td>0</td>\n",
       "      <td>ID=CDS:cTel55X.1a;Parent=transcript:cTel55X.1a...</td>\n",
       "    </tr>\n",
       "    <tr>\n",
       "      <th>Feature659618</th>\n",
       "      <td>X</td>\n",
       "      <td>WormBase</td>\n",
       "      <td>CDS</td>\n",
       "      <td>17718435</td>\n",
       "      <td>17718621</td>\n",
       "      <td>.</td>\n",
       "      <td>+</td>\n",
       "      <td>1</td>\n",
       "      <td>ID=CDS:cTel55X.1a;Parent=transcript:cTel55X.1a...</td>\n",
       "    </tr>\n",
       "    <tr>\n",
       "      <th>Feature659619</th>\n",
       "      <td>X</td>\n",
       "      <td>WormBase</td>\n",
       "      <td>exon</td>\n",
       "      <td>17718435</td>\n",
       "      <td>17718720</td>\n",
       "      <td>.</td>\n",
       "      <td>+</td>\n",
       "      <td>.</td>\n",
       "      <td>Parent=transcript:cTel55X.1a;Name=cTel55X.1a.e...</td>\n",
       "    </tr>\n",
       "    <tr>\n",
       "      <th>Feature659620</th>\n",
       "      <td>X</td>\n",
       "      <td>WormBase</td>\n",
       "      <td>three_prime_UTR</td>\n",
       "      <td>17718622</td>\n",
       "      <td>17718720</td>\n",
       "      <td>.</td>\n",
       "      <td>+</td>\n",
       "      <td>.</td>\n",
       "      <td>Parent=transcript:cTel55X.1a</td>\n",
       "    </tr>\n",
       "  </tbody>\n",
       "</table>\n",
       "<p>659621 rows × 9 columns</p>\n",
       "</div>"
      ],
      "text/plain": [
       "              seqid    source             type     start       end score  \\\n",
       "Feature0          I  WormBase       chromosome         1  15072434     .   \n",
       "Feature1          I  WormBase       ncRNA_gene      3747      3909     .   \n",
       "Feature2          I  WormBase           snoRNA      3747      3909     .   \n",
       "Feature3          I  WormBase             exon      3747      3909     .   \n",
       "Feature4          I  WormBase             gene      4116     10230     .   \n",
       "...             ...       ...              ...       ...       ...   ...   \n",
       "Feature659616     X  WormBase             exon  17717328  17717443     .   \n",
       "Feature659617     X  WormBase              CDS  17717328  17717443     .   \n",
       "Feature659618     X  WormBase              CDS  17718435  17718621     .   \n",
       "Feature659619     X  WormBase             exon  17718435  17718720     .   \n",
       "Feature659620     X  WormBase  three_prime_UTR  17718622  17718720     .   \n",
       "\n",
       "              strand phase                                         attributes  \n",
       "Feature0           .     .       ID=chromosome:I;Alias=BX284601.5,NC_003279.8  \n",
       "Feature1           -     .  ID=gene:WBGene00023193;Name=Y74C9A.6;biotype=s...  \n",
       "Feature2           -     .  ID=transcript:Y74C9A.6;Parent=gene:WBGene00023...  \n",
       "Feature3           -     .  Parent=transcript:Y74C9A.6;Name=Y74C9A.6.e1;co...  \n",
       "Feature4           -     .  ID=gene:WBGene00022277;Name=homt-1;biotype=pro...  \n",
       "...              ...   ...                                                ...  \n",
       "Feature659616      +     .  Parent=transcript:cTel55X.1a;Name=cTel55X.1a.e...  \n",
       "Feature659617      +     0  ID=CDS:cTel55X.1a;Parent=transcript:cTel55X.1a...  \n",
       "Feature659618      +     1  ID=CDS:cTel55X.1a;Parent=transcript:cTel55X.1a...  \n",
       "Feature659619      +     .  Parent=transcript:cTel55X.1a;Name=cTel55X.1a.e...  \n",
       "Feature659620      +     .                       Parent=transcript:cTel55X.1a  \n",
       "\n",
       "[659621 rows x 9 columns]"
      ]
     },
     "execution_count": 3,
     "metadata": {},
     "output_type": "execute_result"
    }
   ],
   "source": [
    "file_name = \"Caenorhabditis_elegans.WBcel235.91.gff3\"\n",
    "worm_df = pd.read_csv(file_name, comment = \"#\", sep = \"\\t\", header = None)\n",
    "worm_df.columns = col_names\n",
    "worm_df\n",
    "nrows = worm_df.shape[0]\n",
    "nrows\n",
    "row_names = [\"Feature\" + str(i) for i in range(nrows)]\n",
    "worm_df.index = row_names\n",
    "worm_df"
   ]
  },
  {
   "cell_type": "markdown",
   "metadata": {
    "tags": []
   },
   "source": [
    "___\n",
    "\n",
    "### - Compute how many types of genomic features there are in our dataset and how many features of each kind. (e.g.: gene, exon, mRNA in the third column in the file are feature types)\n"
   ]
  },
  {
   "cell_type": "markdown",
   "metadata": {},
   "source": [
    "#### If you are trying to do a common operation on a dataframe or Series (dataframe column) it may have already been implemented - look for a function that does what you need in the documentation.\n",
    "\n",
    "Useful links to see the attributes (variables, properties) and methods (functions) a column of a pandas dataframe (Series) and a pandas dataframe has:    \n",
    "https://pandas.pydata.org/pandas-docs/stable/reference/api/pandas.Series.html  \n",
    "https://pandas.pydata.org/pandas-docs/stable/reference/api/pandas.DataFrame.html"
   ]
  },
  {
   "cell_type": "code",
   "execution_count": 4,
   "metadata": {},
   "outputs": [
    {
     "data": {
      "text/plain": [
       "Feature0              chromosome\n",
       "Feature1              ncRNA_gene\n",
       "Feature2                  snoRNA\n",
       "Feature3                    exon\n",
       "Feature4                    gene\n",
       "                      ...       \n",
       "Feature659616               exon\n",
       "Feature659617                CDS\n",
       "Feature659618                CDS\n",
       "Feature659619               exon\n",
       "Feature659620    three_prime_UTR\n",
       "Name: type, Length: 659621, dtype: object"
      ]
     },
     "execution_count": 4,
     "metadata": {},
     "output_type": "execute_result"
    }
   ],
   "source": [
    "worm_df.type"
   ]
  },
  {
   "cell_type": "code",
   "execution_count": 7,
   "metadata": {},
   "outputs": [
    {
     "data": {
      "text/plain": [
       "19"
      ]
     },
     "execution_count": 7,
     "metadata": {},
     "output_type": "execute_result"
    }
   ],
   "source": [
    "worm_df.nunique()[\"type\"]"
   ]
  },
  {
   "cell_type": "code",
   "execution_count": 31,
   "metadata": {},
   "outputs": [
    {
     "data": {
      "text/plain": [
       "19"
      ]
     },
     "execution_count": 31,
     "metadata": {},
     "output_type": "execute_result"
    }
   ],
   "source": [
    "worm_df.type.nunique()"
   ]
  },
  {
   "cell_type": "code",
   "execution_count": 32,
   "metadata": {},
   "outputs": [
    {
     "data": {
      "text/plain": [
       "19"
      ]
     },
     "execution_count": 32,
     "metadata": {},
     "output_type": "execute_result"
    }
   ],
   "source": [
    "# pandas.core.series.Series.nunique(dropna: bool = True) -> int\n",
    "# Returns the number of unique elements in the object.\n",
    "# Excludes NA values by default.\n",
    "\n",
    "worm_df.type.nunique()\n"
   ]
  },
  {
   "cell_type": "code",
   "execution_count": 8,
   "metadata": {},
   "outputs": [
    {
     "data": {
      "text/plain": [
       "exon                      269904\n",
       "CDS                       222859\n",
       "mRNA                       33391\n",
       "five_prime_UTR             30960\n",
       "three_prime_UTR            28004\n",
       "ncRNA_gene                 24765\n",
       "gene                       20222\n",
       "piRNA                      15364\n",
       "ncRNA                       8402\n",
       "pseudogenic_transcript      1827\n",
       "pseudogene                  1791\n",
       "tRNA                         634\n",
       "miRNA                        454\n",
       "snoRNA                       345\n",
       "lnc_RNA                      283\n",
       "pre_miRNA                    257\n",
       "snRNA                        130\n",
       "rRNA                          22\n",
       "chromosome                     7\n",
       "Name: type, dtype: int64"
      ]
     },
     "execution_count": 8,
     "metadata": {},
     "output_type": "execute_result"
    }
   ],
   "source": [
    "#pandas.core.series.Series.value_counts(\n",
    "#    normalize=False,\n",
    "#    sort=True,\n",
    "#    ascending=False,\n",
    "#    bins=None,\n",
    "#    dropna=True,\n",
    "#)\n",
    "\n",
    "#Returns a Series containing counts of unique values.\n",
    "# The resulting object will be in descending order so that the\n",
    "# first element is the most frequently-occurring element.\n",
    "# Excludes NA values by default.\n",
    "\n",
    "worm_df.type.value_counts()\n"
   ]
  },
  {
   "cell_type": "code",
   "execution_count": null,
   "metadata": {},
   "outputs": [],
   "source": []
  },
  {
   "cell_type": "code",
   "execution_count": null,
   "metadata": {},
   "outputs": [],
   "source": []
  },
  {
   "cell_type": "code",
   "execution_count": null,
   "metadata": {},
   "outputs": [],
   "source": []
  },
  {
   "cell_type": "markdown",
   "metadata": {
    "tags": []
   },
   "source": [
    "___\n",
    "\n",
    "### - Plot the distribution (histogram) of the length of the genomic features in the file"
   ]
  },
  {
   "cell_type": "code",
   "execution_count": 9,
   "metadata": {},
   "outputs": [
    {
     "data": {
      "text/html": [
       "<div>\n",
       "<style scoped>\n",
       "    .dataframe tbody tr th:only-of-type {\n",
       "        vertical-align: middle;\n",
       "    }\n",
       "\n",
       "    .dataframe tbody tr th {\n",
       "        vertical-align: top;\n",
       "    }\n",
       "\n",
       "    .dataframe thead th {\n",
       "        text-align: right;\n",
       "    }\n",
       "</style>\n",
       "<table border=\"1\" class=\"dataframe\">\n",
       "  <thead>\n",
       "    <tr style=\"text-align: right;\">\n",
       "      <th></th>\n",
       "      <th>seqid</th>\n",
       "      <th>source</th>\n",
       "      <th>type</th>\n",
       "      <th>start</th>\n",
       "      <th>end</th>\n",
       "      <th>score</th>\n",
       "      <th>strand</th>\n",
       "      <th>phase</th>\n",
       "      <th>attributes</th>\n",
       "    </tr>\n",
       "  </thead>\n",
       "  <tbody>\n",
       "    <tr>\n",
       "      <th>Feature0</th>\n",
       "      <td>I</td>\n",
       "      <td>WormBase</td>\n",
       "      <td>chromosome</td>\n",
       "      <td>1</td>\n",
       "      <td>15072434</td>\n",
       "      <td>.</td>\n",
       "      <td>.</td>\n",
       "      <td>.</td>\n",
       "      <td>ID=chromosome:I;Alias=BX284601.5,NC_003279.8</td>\n",
       "    </tr>\n",
       "    <tr>\n",
       "      <th>Feature1</th>\n",
       "      <td>I</td>\n",
       "      <td>WormBase</td>\n",
       "      <td>ncRNA_gene</td>\n",
       "      <td>3747</td>\n",
       "      <td>3909</td>\n",
       "      <td>.</td>\n",
       "      <td>-</td>\n",
       "      <td>.</td>\n",
       "      <td>ID=gene:WBGene00023193;Name=Y74C9A.6;biotype=s...</td>\n",
       "    </tr>\n",
       "    <tr>\n",
       "      <th>Feature2</th>\n",
       "      <td>I</td>\n",
       "      <td>WormBase</td>\n",
       "      <td>snoRNA</td>\n",
       "      <td>3747</td>\n",
       "      <td>3909</td>\n",
       "      <td>.</td>\n",
       "      <td>-</td>\n",
       "      <td>.</td>\n",
       "      <td>ID=transcript:Y74C9A.6;Parent=gene:WBGene00023...</td>\n",
       "    </tr>\n",
       "    <tr>\n",
       "      <th>Feature3</th>\n",
       "      <td>I</td>\n",
       "      <td>WormBase</td>\n",
       "      <td>exon</td>\n",
       "      <td>3747</td>\n",
       "      <td>3909</td>\n",
       "      <td>.</td>\n",
       "      <td>-</td>\n",
       "      <td>.</td>\n",
       "      <td>Parent=transcript:Y74C9A.6;Name=Y74C9A.6.e1;co...</td>\n",
       "    </tr>\n",
       "    <tr>\n",
       "      <th>Feature4</th>\n",
       "      <td>I</td>\n",
       "      <td>WormBase</td>\n",
       "      <td>gene</td>\n",
       "      <td>4116</td>\n",
       "      <td>10230</td>\n",
       "      <td>.</td>\n",
       "      <td>-</td>\n",
       "      <td>.</td>\n",
       "      <td>ID=gene:WBGene00022277;Name=homt-1;biotype=pro...</td>\n",
       "    </tr>\n",
       "    <tr>\n",
       "      <th>...</th>\n",
       "      <td>...</td>\n",
       "      <td>...</td>\n",
       "      <td>...</td>\n",
       "      <td>...</td>\n",
       "      <td>...</td>\n",
       "      <td>...</td>\n",
       "      <td>...</td>\n",
       "      <td>...</td>\n",
       "      <td>...</td>\n",
       "    </tr>\n",
       "    <tr>\n",
       "      <th>Feature659616</th>\n",
       "      <td>X</td>\n",
       "      <td>WormBase</td>\n",
       "      <td>exon</td>\n",
       "      <td>17717328</td>\n",
       "      <td>17717443</td>\n",
       "      <td>.</td>\n",
       "      <td>+</td>\n",
       "      <td>.</td>\n",
       "      <td>Parent=transcript:cTel55X.1a;Name=cTel55X.1a.e...</td>\n",
       "    </tr>\n",
       "    <tr>\n",
       "      <th>Feature659617</th>\n",
       "      <td>X</td>\n",
       "      <td>WormBase</td>\n",
       "      <td>CDS</td>\n",
       "      <td>17717328</td>\n",
       "      <td>17717443</td>\n",
       "      <td>.</td>\n",
       "      <td>+</td>\n",
       "      <td>0</td>\n",
       "      <td>ID=CDS:cTel55X.1a;Parent=transcript:cTel55X.1a...</td>\n",
       "    </tr>\n",
       "    <tr>\n",
       "      <th>Feature659618</th>\n",
       "      <td>X</td>\n",
       "      <td>WormBase</td>\n",
       "      <td>CDS</td>\n",
       "      <td>17718435</td>\n",
       "      <td>17718621</td>\n",
       "      <td>.</td>\n",
       "      <td>+</td>\n",
       "      <td>1</td>\n",
       "      <td>ID=CDS:cTel55X.1a;Parent=transcript:cTel55X.1a...</td>\n",
       "    </tr>\n",
       "    <tr>\n",
       "      <th>Feature659619</th>\n",
       "      <td>X</td>\n",
       "      <td>WormBase</td>\n",
       "      <td>exon</td>\n",
       "      <td>17718435</td>\n",
       "      <td>17718720</td>\n",
       "      <td>.</td>\n",
       "      <td>+</td>\n",
       "      <td>.</td>\n",
       "      <td>Parent=transcript:cTel55X.1a;Name=cTel55X.1a.e...</td>\n",
       "    </tr>\n",
       "    <tr>\n",
       "      <th>Feature659620</th>\n",
       "      <td>X</td>\n",
       "      <td>WormBase</td>\n",
       "      <td>three_prime_UTR</td>\n",
       "      <td>17718622</td>\n",
       "      <td>17718720</td>\n",
       "      <td>.</td>\n",
       "      <td>+</td>\n",
       "      <td>.</td>\n",
       "      <td>Parent=transcript:cTel55X.1a</td>\n",
       "    </tr>\n",
       "  </tbody>\n",
       "</table>\n",
       "<p>659621 rows × 9 columns</p>\n",
       "</div>"
      ],
      "text/plain": [
       "              seqid    source             type     start       end score  \\\n",
       "Feature0          I  WormBase       chromosome         1  15072434     .   \n",
       "Feature1          I  WormBase       ncRNA_gene      3747      3909     .   \n",
       "Feature2          I  WormBase           snoRNA      3747      3909     .   \n",
       "Feature3          I  WormBase             exon      3747      3909     .   \n",
       "Feature4          I  WormBase             gene      4116     10230     .   \n",
       "...             ...       ...              ...       ...       ...   ...   \n",
       "Feature659616     X  WormBase             exon  17717328  17717443     .   \n",
       "Feature659617     X  WormBase              CDS  17717328  17717443     .   \n",
       "Feature659618     X  WormBase              CDS  17718435  17718621     .   \n",
       "Feature659619     X  WormBase             exon  17718435  17718720     .   \n",
       "Feature659620     X  WormBase  three_prime_UTR  17718622  17718720     .   \n",
       "\n",
       "              strand phase                                         attributes  \n",
       "Feature0           .     .       ID=chromosome:I;Alias=BX284601.5,NC_003279.8  \n",
       "Feature1           -     .  ID=gene:WBGene00023193;Name=Y74C9A.6;biotype=s...  \n",
       "Feature2           -     .  ID=transcript:Y74C9A.6;Parent=gene:WBGene00023...  \n",
       "Feature3           -     .  Parent=transcript:Y74C9A.6;Name=Y74C9A.6.e1;co...  \n",
       "Feature4           -     .  ID=gene:WBGene00022277;Name=homt-1;biotype=pro...  \n",
       "...              ...   ...                                                ...  \n",
       "Feature659616      +     .  Parent=transcript:cTel55X.1a;Name=cTel55X.1a.e...  \n",
       "Feature659617      +     0  ID=CDS:cTel55X.1a;Parent=transcript:cTel55X.1a...  \n",
       "Feature659618      +     1  ID=CDS:cTel55X.1a;Parent=transcript:cTel55X.1a...  \n",
       "Feature659619      +     .  Parent=transcript:cTel55X.1a;Name=cTel55X.1a.e...  \n",
       "Feature659620      +     .                       Parent=transcript:cTel55X.1a  \n",
       "\n",
       "[659621 rows x 9 columns]"
      ]
     },
     "execution_count": 9,
     "metadata": {},
     "output_type": "execute_result"
    }
   ],
   "source": [
    "worm_df"
   ]
  },
  {
   "cell_type": "code",
   "execution_count": 37,
   "metadata": {},
   "outputs": [
    {
     "data": {
      "text/plain": [
       "Feature0         15072434\n",
       "Feature1             3909\n",
       "Feature2             3909\n",
       "Feature3             3909\n",
       "Feature4            10230\n",
       "                   ...   \n",
       "Feature659616    17717443\n",
       "Feature659617    17717443\n",
       "Feature659618    17718621\n",
       "Feature659619    17718720\n",
       "Feature659620    17718720\n",
       "Name: end, Length: 659621, dtype: int64"
      ]
     },
     "execution_count": 37,
     "metadata": {},
     "output_type": "execute_result"
    }
   ],
   "source": [
    "worm_df.end"
   ]
  },
  {
   "cell_type": "code",
   "execution_count": 38,
   "metadata": {},
   "outputs": [
    {
     "data": {
      "text/plain": [
       "Feature0                1\n",
       "Feature1             3747\n",
       "Feature2             3747\n",
       "Feature3             3747\n",
       "Feature4             4116\n",
       "                   ...   \n",
       "Feature659616    17717328\n",
       "Feature659617    17717328\n",
       "Feature659618    17718435\n",
       "Feature659619    17718435\n",
       "Feature659620    17718622\n",
       "Name: start, Length: 659621, dtype: int64"
      ]
     },
     "execution_count": 38,
     "metadata": {},
     "output_type": "execute_result"
    }
   ],
   "source": [
    "worm_df.start"
   ]
  },
  {
   "cell_type": "code",
   "execution_count": 45,
   "metadata": {},
   "outputs": [
    {
     "data": {
      "text/plain": [
       "<AxesSubplot:>"
      ]
     },
     "execution_count": 45,
     "metadata": {},
     "output_type": "execute_result"
    },
    {
     "data": {
      "image/png": "[encoded data removed]",
      "text/plain": [
       "<Figure size 432x288 with 1 Axes>"
      ]
     },
     "metadata": {
      "needs_background": "light"
     },
     "output_type": "display_data"
    }
   ],
   "source": [
    "(worm_df.end - worm_df.start).hist(bins = 100)"
   ]
  },
  {
   "cell_type": "code",
   "execution_count": 47,
   "metadata": {},
   "outputs": [
    {
     "data": {
      "text/plain": [
       "Feature215214           0\n",
       "Feature250876           0\n",
       "Feature364867           0\n",
       "Feature182895           0\n",
       "Feature364846           0\n",
       "                   ...   \n",
       "Feature0         15072433\n",
       "Feature93661     15279420\n",
       "Feature274860    17493828\n",
       "Feature558160    17718941\n",
       "Feature434266    20924179\n",
       "Length: 659621, dtype: int64"
      ]
     },
     "execution_count": 47,
     "metadata": {},
     "output_type": "execute_result"
    }
   ],
   "source": [
    "feat_len = worm_df.end - worm_df.start\n",
    "feat_len.sort_values()"
   ]
  },
  {
   "cell_type": "code",
   "execution_count": 50,
   "metadata": {},
   "outputs": [
    {
     "data": {
      "text/plain": [
       "606160"
      ]
     },
     "execution_count": 50,
     "metadata": {},
     "output_type": "execute_result"
    }
   ],
   "source": [
    "sum(feat_len <1000)"
   ]
  },
  {
   "cell_type": "code",
   "execution_count": 51,
   "metadata": {},
   "outputs": [
    {
     "data": {
      "text/plain": [
       "<AxesSubplot:>"
      ]
     },
     "execution_count": 51,
     "metadata": {},
     "output_type": "execute_result"
    },
    {
     "data": {
      "image/png": "[encoded data removed]",
      "text/plain": [
       "<Figure size 432x288 with 1 Axes>"
      ]
     },
     "metadata": {
      "needs_background": "light"
     },
     "output_type": "display_data"
    }
   ],
   "source": [
    "feat_len[feat_len <1000].hist()"
   ]
  },
  {
   "cell_type": "code",
   "execution_count": 53,
   "metadata": {},
   "outputs": [
    {
     "data": {
      "text/plain": [
       "<AxesSubplot:>"
      ]
     },
     "execution_count": 53,
     "metadata": {},
     "output_type": "execute_result"
    },
    {
     "data": {
      "image/png": "[encoded data removed]",
      "text/plain": [
       "<Figure size 432x288 with 1 Axes>"
      ]
     },
     "metadata": {
      "needs_background": "light"
     },
     "output_type": "display_data"
    }
   ],
   "source": [
    "feat_len.plot.box()"
   ]
  },
  {
   "cell_type": "markdown",
   "metadata": {},
   "source": [
    "_____ \n",
    "\n",
    "### - Find the genes between positions: 4000 and 10000.\n",
    "    - Hint: start and end (4th and 5th columns in the file) need to be between these numbers."
   ]
  },
  {
   "cell_type": "code",
   "execution_count": null,
   "metadata": {},
   "outputs": [],
   "source": [
    "# conditional subsetting to select rows that meet the condition\n",
    "# combine condition using & (bit-wise and operator) \n",
    "# use parantheses to evaluate the condition first \n",
    "# parantheses are needed because & has higher precedence than comparison operators (>, < , ==, ...)\n",
    "\n"
   ]
  },
  {
   "cell_type": "code",
   "execution_count": null,
   "metadata": {},
   "outputs": [],
   "source": [
    "# Conditional subsetting to retrieve rows that meet the condition\n",
    "# we use .loc attribute when we want to also subset the columns\n",
    "\n"
   ]
  },
  {
   "cell_type": "code",
   "execution_count": 54,
   "metadata": {},
   "outputs": [
    {
     "data": {
      "text/html": [
       "<div>\n",
       "<style scoped>\n",
       "    .dataframe tbody tr th:only-of-type {\n",
       "        vertical-align: middle;\n",
       "    }\n",
       "\n",
       "    .dataframe tbody tr th {\n",
       "        vertical-align: top;\n",
       "    }\n",
       "\n",
       "    .dataframe thead th {\n",
       "        text-align: right;\n",
       "    }\n",
       "</style>\n",
       "<table border=\"1\" class=\"dataframe\">\n",
       "  <thead>\n",
       "    <tr style=\"text-align: right;\">\n",
       "      <th></th>\n",
       "      <th>seqid</th>\n",
       "      <th>source</th>\n",
       "      <th>type</th>\n",
       "      <th>start</th>\n",
       "      <th>end</th>\n",
       "      <th>score</th>\n",
       "      <th>strand</th>\n",
       "      <th>phase</th>\n",
       "      <th>attributes</th>\n",
       "    </tr>\n",
       "  </thead>\n",
       "  <tbody>\n",
       "    <tr>\n",
       "      <th>Feature0</th>\n",
       "      <td>I</td>\n",
       "      <td>WormBase</td>\n",
       "      <td>chromosome</td>\n",
       "      <td>1</td>\n",
       "      <td>15072434</td>\n",
       "      <td>.</td>\n",
       "      <td>.</td>\n",
       "      <td>.</td>\n",
       "      <td>ID=chromosome:I;Alias=BX284601.5,NC_003279.8</td>\n",
       "    </tr>\n",
       "    <tr>\n",
       "      <th>Feature1</th>\n",
       "      <td>I</td>\n",
       "      <td>WormBase</td>\n",
       "      <td>ncRNA_gene</td>\n",
       "      <td>3747</td>\n",
       "      <td>3909</td>\n",
       "      <td>.</td>\n",
       "      <td>-</td>\n",
       "      <td>.</td>\n",
       "      <td>ID=gene:WBGene00023193;Name=Y74C9A.6;biotype=s...</td>\n",
       "    </tr>\n",
       "    <tr>\n",
       "      <th>Feature2</th>\n",
       "      <td>I</td>\n",
       "      <td>WormBase</td>\n",
       "      <td>snoRNA</td>\n",
       "      <td>3747</td>\n",
       "      <td>3909</td>\n",
       "      <td>.</td>\n",
       "      <td>-</td>\n",
       "      <td>.</td>\n",
       "      <td>ID=transcript:Y74C9A.6;Parent=gene:WBGene00023...</td>\n",
       "    </tr>\n",
       "    <tr>\n",
       "      <th>Feature3</th>\n",
       "      <td>I</td>\n",
       "      <td>WormBase</td>\n",
       "      <td>exon</td>\n",
       "      <td>3747</td>\n",
       "      <td>3909</td>\n",
       "      <td>.</td>\n",
       "      <td>-</td>\n",
       "      <td>.</td>\n",
       "      <td>Parent=transcript:Y74C9A.6;Name=Y74C9A.6.e1;co...</td>\n",
       "    </tr>\n",
       "    <tr>\n",
       "      <th>Feature4</th>\n",
       "      <td>I</td>\n",
       "      <td>WormBase</td>\n",
       "      <td>gene</td>\n",
       "      <td>4116</td>\n",
       "      <td>10230</td>\n",
       "      <td>.</td>\n",
       "      <td>-</td>\n",
       "      <td>.</td>\n",
       "      <td>ID=gene:WBGene00022277;Name=homt-1;biotype=pro...</td>\n",
       "    </tr>\n",
       "    <tr>\n",
       "      <th>...</th>\n",
       "      <td>...</td>\n",
       "      <td>...</td>\n",
       "      <td>...</td>\n",
       "      <td>...</td>\n",
       "      <td>...</td>\n",
       "      <td>...</td>\n",
       "      <td>...</td>\n",
       "      <td>...</td>\n",
       "      <td>...</td>\n",
       "    </tr>\n",
       "    <tr>\n",
       "      <th>Feature659616</th>\n",
       "      <td>X</td>\n",
       "      <td>WormBase</td>\n",
       "      <td>exon</td>\n",
       "      <td>17717328</td>\n",
       "      <td>17717443</td>\n",
       "      <td>.</td>\n",
       "      <td>+</td>\n",
       "      <td>.</td>\n",
       "      <td>Parent=transcript:cTel55X.1a;Name=cTel55X.1a.e...</td>\n",
       "    </tr>\n",
       "    <tr>\n",
       "      <th>Feature659617</th>\n",
       "      <td>X</td>\n",
       "      <td>WormBase</td>\n",
       "      <td>CDS</td>\n",
       "      <td>17717328</td>\n",
       "      <td>17717443</td>\n",
       "      <td>.</td>\n",
       "      <td>+</td>\n",
       "      <td>0</td>\n",
       "      <td>ID=CDS:cTel55X.1a;Parent=transcript:cTel55X.1a...</td>\n",
       "    </tr>\n",
       "    <tr>\n",
       "      <th>Feature659618</th>\n",
       "      <td>X</td>\n",
       "      <td>WormBase</td>\n",
       "      <td>CDS</td>\n",
       "      <td>17718435</td>\n",
       "      <td>17718621</td>\n",
       "      <td>.</td>\n",
       "      <td>+</td>\n",
       "      <td>1</td>\n",
       "      <td>ID=CDS:cTel55X.1a;Parent=transcript:cTel55X.1a...</td>\n",
       "    </tr>\n",
       "    <tr>\n",
       "      <th>Feature659619</th>\n",
       "      <td>X</td>\n",
       "      <td>WormBase</td>\n",
       "      <td>exon</td>\n",
       "      <td>17718435</td>\n",
       "      <td>17718720</td>\n",
       "      <td>.</td>\n",
       "      <td>+</td>\n",
       "      <td>.</td>\n",
       "      <td>Parent=transcript:cTel55X.1a;Name=cTel55X.1a.e...</td>\n",
       "    </tr>\n",
       "    <tr>\n",
       "      <th>Feature659620</th>\n",
       "      <td>X</td>\n",
       "      <td>WormBase</td>\n",
       "      <td>three_prime_UTR</td>\n",
       "      <td>17718622</td>\n",
       "      <td>17718720</td>\n",
       "      <td>.</td>\n",
       "      <td>+</td>\n",
       "      <td>.</td>\n",
       "      <td>Parent=transcript:cTel55X.1a</td>\n",
       "    </tr>\n",
       "  </tbody>\n",
       "</table>\n",
       "<p>659621 rows × 9 columns</p>\n",
       "</div>"
      ],
      "text/plain": [
       "              seqid    source             type     start       end score  \\\n",
       "Feature0          I  WormBase       chromosome         1  15072434     .   \n",
       "Feature1          I  WormBase       ncRNA_gene      3747      3909     .   \n",
       "Feature2          I  WormBase           snoRNA      3747      3909     .   \n",
       "Feature3          I  WormBase             exon      3747      3909     .   \n",
       "Feature4          I  WormBase             gene      4116     10230     .   \n",
       "...             ...       ...              ...       ...       ...   ...   \n",
       "Feature659616     X  WormBase             exon  17717328  17717443     .   \n",
       "Feature659617     X  WormBase              CDS  17717328  17717443     .   \n",
       "Feature659618     X  WormBase              CDS  17718435  17718621     .   \n",
       "Feature659619     X  WormBase             exon  17718435  17718720     .   \n",
       "Feature659620     X  WormBase  three_prime_UTR  17718622  17718720     .   \n",
       "\n",
       "              strand phase                                         attributes  \n",
       "Feature0           .     .       ID=chromosome:I;Alias=BX284601.5,NC_003279.8  \n",
       "Feature1           -     .  ID=gene:WBGene00023193;Name=Y74C9A.6;biotype=s...  \n",
       "Feature2           -     .  ID=transcript:Y74C9A.6;Parent=gene:WBGene00023...  \n",
       "Feature3           -     .  Parent=transcript:Y74C9A.6;Name=Y74C9A.6.e1;co...  \n",
       "Feature4           -     .  ID=gene:WBGene00022277;Name=homt-1;biotype=pro...  \n",
       "...              ...   ...                                                ...  \n",
       "Feature659616      +     .  Parent=transcript:cTel55X.1a;Name=cTel55X.1a.e...  \n",
       "Feature659617      +     0  ID=CDS:cTel55X.1a;Parent=transcript:cTel55X.1a...  \n",
       "Feature659618      +     1  ID=CDS:cTel55X.1a;Parent=transcript:cTel55X.1a...  \n",
       "Feature659619      +     .  Parent=transcript:cTel55X.1a;Name=cTel55X.1a.e...  \n",
       "Feature659620      +     .                       Parent=transcript:cTel55X.1a  \n",
       "\n",
       "[659621 rows x 9 columns]"
      ]
     },
     "execution_count": 54,
     "metadata": {},
     "output_type": "execute_result"
    }
   ],
   "source": [
    "worm_df"
   ]
  },
  {
   "cell_type": "code",
   "execution_count": 10,
   "metadata": {},
   "outputs": [
    {
     "data": {
      "text/plain": [
       "Feature0         False\n",
       "Feature1         False\n",
       "Feature2         False\n",
       "Feature3         False\n",
       "Feature4          True\n",
       "                 ...  \n",
       "Feature659616    False\n",
       "Feature659617    False\n",
       "Feature659618    False\n",
       "Feature659619    False\n",
       "Feature659620    False\n",
       "Name: type, Length: 659621, dtype: bool"
      ]
     },
     "execution_count": 10,
     "metadata": {},
     "output_type": "execute_result"
    }
   ],
   "source": [
    "c1 = worm_df.type == \"gene\"\n",
    "c1"
   ]
  },
  {
   "cell_type": "code",
   "execution_count": 11,
   "metadata": {},
   "outputs": [
    {
     "data": {
      "text/plain": [
       "Feature0              chromosome\n",
       "Feature1              ncRNA_gene\n",
       "Feature2                  snoRNA\n",
       "Feature3                    exon\n",
       "Feature4                    gene\n",
       "                      ...       \n",
       "Feature659616               exon\n",
       "Feature659617                CDS\n",
       "Feature659618                CDS\n",
       "Feature659619               exon\n",
       "Feature659620    three_prime_UTR\n",
       "Name: type, Length: 659621, dtype: object"
      ]
     },
     "execution_count": 11,
     "metadata": {},
     "output_type": "execute_result"
    }
   ],
   "source": [
    "worm_df.type"
   ]
  },
  {
   "cell_type": "code",
   "execution_count": 12,
   "metadata": {},
   "outputs": [
    {
     "data": {
      "text/plain": [
       "7"
      ]
     },
     "execution_count": 12,
     "metadata": {},
     "output_type": "execute_result"
    }
   ],
   "source": [
    "c1 = worm_df.type == \"gene\"\n",
    "c2 = worm_df.start > 4000\n",
    "c3 = worm_df.end < 10000\n",
    "\n",
    "sum(c1 & c2 & c3)"
   ]
  },
  {
   "cell_type": "code",
   "execution_count": 13,
   "metadata": {},
   "outputs": [
    {
     "data": {
      "text/html": [
       "<div>\n",
       "<style scoped>\n",
       "    .dataframe tbody tr th:only-of-type {\n",
       "        vertical-align: middle;\n",
       "    }\n",
       "\n",
       "    .dataframe tbody tr th {\n",
       "        vertical-align: top;\n",
       "    }\n",
       "\n",
       "    .dataframe thead th {\n",
       "        text-align: right;\n",
       "    }\n",
       "</style>\n",
       "<table border=\"1\" class=\"dataframe\">\n",
       "  <thead>\n",
       "    <tr style=\"text-align: right;\">\n",
       "      <th></th>\n",
       "      <th>seqid</th>\n",
       "      <th>source</th>\n",
       "      <th>type</th>\n",
       "      <th>start</th>\n",
       "      <th>end</th>\n",
       "      <th>score</th>\n",
       "      <th>strand</th>\n",
       "      <th>phase</th>\n",
       "      <th>attributes</th>\n",
       "    </tr>\n",
       "  </thead>\n",
       "  <tbody>\n",
       "    <tr>\n",
       "      <th>Feature93697</th>\n",
       "      <td>II</td>\n",
       "      <td>WormBase</td>\n",
       "      <td>gene</td>\n",
       "      <td>6664</td>\n",
       "      <td>9486</td>\n",
       "      <td>.</td>\n",
       "      <td>+</td>\n",
       "      <td>.</td>\n",
       "      <td>ID=gene:WBGene00015287;Name=osta-1;biotype=pro...</td>\n",
       "    </tr>\n",
       "    <tr>\n",
       "      <th>Feature434203</th>\n",
       "      <td>MtDNA</td>\n",
       "      <td>WormBase</td>\n",
       "      <td>gene</td>\n",
       "      <td>4504</td>\n",
       "      <td>5621</td>\n",
       "      <td>.</td>\n",
       "      <td>+</td>\n",
       "      <td>.</td>\n",
       "      <td>ID=gene:WBGene00000829;Name=ctb-1;biotype=prot...</td>\n",
       "    </tr>\n",
       "    <tr>\n",
       "      <th>Feature434211</th>\n",
       "      <td>MtDNA</td>\n",
       "      <td>WormBase</td>\n",
       "      <td>gene</td>\n",
       "      <td>5678</td>\n",
       "      <td>6449</td>\n",
       "      <td>.</td>\n",
       "      <td>+</td>\n",
       "      <td>.</td>\n",
       "      <td>ID=gene:WBGene00010962;Name=ctc-3;biotype=prot...</td>\n",
       "    </tr>\n",
       "    <tr>\n",
       "      <th>Feature434219</th>\n",
       "      <td>MtDNA</td>\n",
       "      <td>WormBase</td>\n",
       "      <td>gene</td>\n",
       "      <td>6506</td>\n",
       "      <td>7808</td>\n",
       "      <td>.</td>\n",
       "      <td>+</td>\n",
       "      <td>.</td>\n",
       "      <td>ID=gene:WBGene00010963;Name=nduo-4;biotype=pro...</td>\n",
       "    </tr>\n",
       "    <tr>\n",
       "      <th>Feature434224</th>\n",
       "      <td>MtDNA</td>\n",
       "      <td>WormBase</td>\n",
       "      <td>gene</td>\n",
       "      <td>7827</td>\n",
       "      <td>9428</td>\n",
       "      <td>.</td>\n",
       "      <td>+</td>\n",
       "      <td>.</td>\n",
       "      <td>ID=gene:WBGene00010964;Name=ctc-1;biotype=prot...</td>\n",
       "    </tr>\n",
       "    <tr>\n",
       "      <th>Feature434291</th>\n",
       "      <td>V</td>\n",
       "      <td>WormBase</td>\n",
       "      <td>gene</td>\n",
       "      <td>6588</td>\n",
       "      <td>7822</td>\n",
       "      <td>.</td>\n",
       "      <td>-</td>\n",
       "      <td>.</td>\n",
       "      <td>ID=gene:WBGene00002061;Name=ife-3;biotype=prot...</td>\n",
       "    </tr>\n",
       "    <tr>\n",
       "      <th>Feature434364</th>\n",
       "      <td>V</td>\n",
       "      <td>WormBase</td>\n",
       "      <td>gene</td>\n",
       "      <td>8575</td>\n",
       "      <td>8739</td>\n",
       "      <td>.</td>\n",
       "      <td>-</td>\n",
       "      <td>.</td>\n",
       "      <td>ID=gene:WBGene00255704;Name=B0348.10;biotype=p...</td>\n",
       "    </tr>\n",
       "  </tbody>\n",
       "</table>\n",
       "</div>"
      ],
      "text/plain": [
       "               seqid    source  type  start   end score strand phase  \\\n",
       "Feature93697      II  WormBase  gene   6664  9486     .      +     .   \n",
       "Feature434203  MtDNA  WormBase  gene   4504  5621     .      +     .   \n",
       "Feature434211  MtDNA  WormBase  gene   5678  6449     .      +     .   \n",
       "Feature434219  MtDNA  WormBase  gene   6506  7808     .      +     .   \n",
       "Feature434224  MtDNA  WormBase  gene   7827  9428     .      +     .   \n",
       "Feature434291      V  WormBase  gene   6588  7822     .      -     .   \n",
       "Feature434364      V  WormBase  gene   8575  8739     .      -     .   \n",
       "\n",
       "                                                      attributes  \n",
       "Feature93697   ID=gene:WBGene00015287;Name=osta-1;biotype=pro...  \n",
       "Feature434203  ID=gene:WBGene00000829;Name=ctb-1;biotype=prot...  \n",
       "Feature434211  ID=gene:WBGene00010962;Name=ctc-3;biotype=prot...  \n",
       "Feature434219  ID=gene:WBGene00010963;Name=nduo-4;biotype=pro...  \n",
       "Feature434224  ID=gene:WBGene00010964;Name=ctc-1;biotype=prot...  \n",
       "Feature434291  ID=gene:WBGene00002061;Name=ife-3;biotype=prot...  \n",
       "Feature434364  ID=gene:WBGene00255704;Name=B0348.10;biotype=p...  "
      ]
     },
     "execution_count": 13,
     "metadata": {},
     "output_type": "execute_result"
    }
   ],
   "source": [
    "worm_df[c1 & c2 & c3]"
   ]
  },
  {
   "cell_type": "markdown",
   "metadata": {
    "tags": []
   },
   "source": [
    "____\n",
    "\n",
    "We have a file with the gene expression for 45h every three hours for breast cancer cells treated with a HER2 inhibitor, `GSE22955_small_gene_table.txt`.\n",
    "This is in the class_notebooks folder.\n",
    "https://www.ncbi.nlm.nih.gov/geo/query/acc.cgi?acc=GSE22955"
   ]
  },
  {
   "cell_type": "markdown",
   "metadata": {
    "tags": []
   },
   "source": [
    "____\n",
    "\n",
    "### <font color = \"red\">Exercise</font>"
   ]
  },
  {
   "cell_type": "markdown",
   "metadata": {
    "tags": []
   },
   "source": [
    "______\n",
    "\n",
    "### - Select only 5 genes of interest from the expression data frame TP53, BARD1, BRCA1, MAPK1, CHEK2"
   ]
  },
  {
   "cell_type": "code",
   "execution_count": 14,
   "metadata": {},
   "outputs": [],
   "source": [
    "important_genes = (\"TP53\", \"BARD1\", \"BRCA1\", \"MAPK1\", \"CHEK2\")"
   ]
  },
  {
   "cell_type": "code",
   "execution_count": 15,
   "metadata": {},
   "outputs": [
    {
     "data": {
      "text/html": [
       "<div>\n",
       "<style scoped>\n",
       "    .dataframe tbody tr th:only-of-type {\n",
       "        vertical-align: middle;\n",
       "    }\n",
       "\n",
       "    .dataframe tbody tr th {\n",
       "        vertical-align: top;\n",
       "    }\n",
       "\n",
       "    .dataframe thead th {\n",
       "        text-align: right;\n",
       "    }\n",
       "</style>\n",
       "<table border=\"1\" class=\"dataframe\">\n",
       "  <thead>\n",
       "    <tr style=\"text-align: right;\">\n",
       "      <th></th>\n",
       "      <th>0</th>\n",
       "      <th>3</th>\n",
       "      <th>6</th>\n",
       "      <th>9</th>\n",
       "      <th>12</th>\n",
       "      <th>15</th>\n",
       "      <th>18</th>\n",
       "      <th>21</th>\n",
       "      <th>24</th>\n",
       "      <th>27</th>\n",
       "      <th>30</th>\n",
       "      <th>33</th>\n",
       "      <th>36</th>\n",
       "      <th>39</th>\n",
       "      <th>42</th>\n",
       "      <th>45</th>\n",
       "    </tr>\n",
       "    <tr>\n",
       "      <th>Symbol</th>\n",
       "      <th></th>\n",
       "      <th></th>\n",
       "      <th></th>\n",
       "      <th></th>\n",
       "      <th></th>\n",
       "      <th></th>\n",
       "      <th></th>\n",
       "      <th></th>\n",
       "      <th></th>\n",
       "      <th></th>\n",
       "      <th></th>\n",
       "      <th></th>\n",
       "      <th></th>\n",
       "      <th></th>\n",
       "      <th></th>\n",
       "      <th></th>\n",
       "    </tr>\n",
       "  </thead>\n",
       "  <tbody>\n",
       "    <tr>\n",
       "      <th>ABCA1</th>\n",
       "      <td>7.497117</td>\n",
       "      <td>8.184737</td>\n",
       "      <td>8.384009</td>\n",
       "      <td>8.654385</td>\n",
       "      <td>8.705771</td>\n",
       "      <td>9.266485</td>\n",
       "      <td>9.097249</td>\n",
       "      <td>8.980061</td>\n",
       "      <td>8.911098</td>\n",
       "      <td>9.377178</td>\n",
       "      <td>9.142381</td>\n",
       "      <td>9.314741</td>\n",
       "      <td>9.622010</td>\n",
       "      <td>9.543455</td>\n",
       "      <td>9.559486</td>\n",
       "      <td>10.094392</td>\n",
       "    </tr>\n",
       "    <tr>\n",
       "      <th>ABCC11</th>\n",
       "      <td>9.681143</td>\n",
       "      <td>9.687135</td>\n",
       "      <td>9.498255</td>\n",
       "      <td>9.357438</td>\n",
       "      <td>9.189169</td>\n",
       "      <td>9.049327</td>\n",
       "      <td>8.976153</td>\n",
       "      <td>8.978854</td>\n",
       "      <td>8.967797</td>\n",
       "      <td>8.912375</td>\n",
       "      <td>8.851690</td>\n",
       "      <td>8.787110</td>\n",
       "      <td>8.679719</td>\n",
       "      <td>8.771382</td>\n",
       "      <td>8.633315</td>\n",
       "      <td>8.703377</td>\n",
       "    </tr>\n",
       "    <tr>\n",
       "      <th>ABCC3</th>\n",
       "      <td>12.834826</td>\n",
       "      <td>12.841947</td>\n",
       "      <td>12.924113</td>\n",
       "      <td>12.810950</td>\n",
       "      <td>12.990568</td>\n",
       "      <td>12.791429</td>\n",
       "      <td>12.410250</td>\n",
       "      <td>12.343846</td>\n",
       "      <td>11.682339</td>\n",
       "      <td>11.369507</td>\n",
       "      <td>11.188391</td>\n",
       "      <td>11.105528</td>\n",
       "      <td>11.343285</td>\n",
       "      <td>11.151681</td>\n",
       "      <td>11.214401</td>\n",
       "      <td>10.928790</td>\n",
       "    </tr>\n",
       "    <tr>\n",
       "      <th>ABLIM1</th>\n",
       "      <td>10.786000</td>\n",
       "      <td>10.912505</td>\n",
       "      <td>11.060394</td>\n",
       "      <td>11.091041</td>\n",
       "      <td>11.166662</td>\n",
       "      <td>11.293522</td>\n",
       "      <td>11.355008</td>\n",
       "      <td>11.331177</td>\n",
       "      <td>11.649917</td>\n",
       "      <td>11.622126</td>\n",
       "      <td>11.733842</td>\n",
       "      <td>11.772563</td>\n",
       "      <td>11.909730</td>\n",
       "      <td>11.724674</td>\n",
       "      <td>11.835192</td>\n",
       "      <td>11.720621</td>\n",
       "    </tr>\n",
       "    <tr>\n",
       "      <th>ABP1</th>\n",
       "      <td>7.943247</td>\n",
       "      <td>8.121638</td>\n",
       "      <td>8.293621</td>\n",
       "      <td>8.314716</td>\n",
       "      <td>8.345499</td>\n",
       "      <td>8.414776</td>\n",
       "      <td>8.368459</td>\n",
       "      <td>8.539609</td>\n",
       "      <td>8.649921</td>\n",
       "      <td>8.698824</td>\n",
       "      <td>8.688555</td>\n",
       "      <td>8.762338</td>\n",
       "      <td>9.098345</td>\n",
       "      <td>9.294049</td>\n",
       "      <td>9.323449</td>\n",
       "      <td>9.729671</td>\n",
       "    </tr>\n",
       "    <tr>\n",
       "      <th>...</th>\n",
       "      <td>...</td>\n",
       "      <td>...</td>\n",
       "      <td>...</td>\n",
       "      <td>...</td>\n",
       "      <td>...</td>\n",
       "      <td>...</td>\n",
       "      <td>...</td>\n",
       "      <td>...</td>\n",
       "      <td>...</td>\n",
       "      <td>...</td>\n",
       "      <td>...</td>\n",
       "      <td>...</td>\n",
       "      <td>...</td>\n",
       "      <td>...</td>\n",
       "      <td>...</td>\n",
       "      <td>...</td>\n",
       "    </tr>\n",
       "    <tr>\n",
       "      <th>ZNF606</th>\n",
       "      <td>8.528510</td>\n",
       "      <td>8.394945</td>\n",
       "      <td>8.560340</td>\n",
       "      <td>8.955600</td>\n",
       "      <td>8.972039</td>\n",
       "      <td>8.858380</td>\n",
       "      <td>8.986870</td>\n",
       "      <td>9.040801</td>\n",
       "      <td>9.199987</td>\n",
       "      <td>9.201530</td>\n",
       "      <td>9.096592</td>\n",
       "      <td>9.201962</td>\n",
       "      <td>9.113082</td>\n",
       "      <td>9.238377</td>\n",
       "      <td>8.999179</td>\n",
       "      <td>9.076324</td>\n",
       "    </tr>\n",
       "    <tr>\n",
       "      <th>ZNF616</th>\n",
       "      <td>9.533892</td>\n",
       "      <td>9.671308</td>\n",
       "      <td>9.998892</td>\n",
       "      <td>10.189743</td>\n",
       "      <td>10.348529</td>\n",
       "      <td>10.293577</td>\n",
       "      <td>10.457835</td>\n",
       "      <td>10.426120</td>\n",
       "      <td>10.290234</td>\n",
       "      <td>10.279000</td>\n",
       "      <td>10.247908</td>\n",
       "      <td>10.289320</td>\n",
       "      <td>10.175219</td>\n",
       "      <td>10.316580</td>\n",
       "      <td>10.406839</td>\n",
       "      <td>10.225305</td>\n",
       "    </tr>\n",
       "    <tr>\n",
       "      <th>ZNF83</th>\n",
       "      <td>9.363751</td>\n",
       "      <td>9.162289</td>\n",
       "      <td>9.199572</td>\n",
       "      <td>9.589662</td>\n",
       "      <td>10.164692</td>\n",
       "      <td>10.039752</td>\n",
       "      <td>10.300014</td>\n",
       "      <td>10.099996</td>\n",
       "      <td>10.102037</td>\n",
       "      <td>9.971016</td>\n",
       "      <td>9.992117</td>\n",
       "      <td>10.033500</td>\n",
       "      <td>10.252678</td>\n",
       "      <td>10.170821</td>\n",
       "      <td>10.269105</td>\n",
       "      <td>9.959197</td>\n",
       "    </tr>\n",
       "    <tr>\n",
       "      <th>ZNFX1</th>\n",
       "      <td>10.854597</td>\n",
       "      <td>10.662256</td>\n",
       "      <td>11.023671</td>\n",
       "      <td>11.415034</td>\n",
       "      <td>11.720743</td>\n",
       "      <td>11.718005</td>\n",
       "      <td>11.795806</td>\n",
       "      <td>11.914836</td>\n",
       "      <td>11.799599</td>\n",
       "      <td>11.675592</td>\n",
       "      <td>11.704008</td>\n",
       "      <td>11.648020</td>\n",
       "      <td>11.661703</td>\n",
       "      <td>11.655686</td>\n",
       "      <td>11.850343</td>\n",
       "      <td>11.629349</td>\n",
       "    </tr>\n",
       "    <tr>\n",
       "      <th>ZWINT</th>\n",
       "      <td>10.024858</td>\n",
       "      <td>9.905496</td>\n",
       "      <td>9.976799</td>\n",
       "      <td>10.133369</td>\n",
       "      <td>9.311503</td>\n",
       "      <td>9.016406</td>\n",
       "      <td>9.000771</td>\n",
       "      <td>8.974313</td>\n",
       "      <td>9.177513</td>\n",
       "      <td>9.123757</td>\n",
       "      <td>8.815139</td>\n",
       "      <td>8.723943</td>\n",
       "      <td>8.396475</td>\n",
       "      <td>8.371781</td>\n",
       "      <td>8.194524</td>\n",
       "      <td>8.141444</td>\n",
       "    </tr>\n",
       "  </tbody>\n",
       "</table>\n",
       "<p>1175 rows × 16 columns</p>\n",
       "</div>"
      ],
      "text/plain": [
       "                0          3          6          9         12         15  \\\n",
       "Symbol                                                                     \n",
       "ABCA1    7.497117   8.184737   8.384009   8.654385   8.705771   9.266485   \n",
       "ABCC11   9.681143   9.687135   9.498255   9.357438   9.189169   9.049327   \n",
       "ABCC3   12.834826  12.841947  12.924113  12.810950  12.990568  12.791429   \n",
       "ABLIM1  10.786000  10.912505  11.060394  11.091041  11.166662  11.293522   \n",
       "ABP1     7.943247   8.121638   8.293621   8.314716   8.345499   8.414776   \n",
       "...           ...        ...        ...        ...        ...        ...   \n",
       "ZNF606   8.528510   8.394945   8.560340   8.955600   8.972039   8.858380   \n",
       "ZNF616   9.533892   9.671308   9.998892  10.189743  10.348529  10.293577   \n",
       "ZNF83    9.363751   9.162289   9.199572   9.589662  10.164692  10.039752   \n",
       "ZNFX1   10.854597  10.662256  11.023671  11.415034  11.720743  11.718005   \n",
       "ZWINT   10.024858   9.905496   9.976799  10.133369   9.311503   9.016406   \n",
       "\n",
       "               18         21         24         27         30         33  \\\n",
       "Symbol                                                                     \n",
       "ABCA1    9.097249   8.980061   8.911098   9.377178   9.142381   9.314741   \n",
       "ABCC11   8.976153   8.978854   8.967797   8.912375   8.851690   8.787110   \n",
       "ABCC3   12.410250  12.343846  11.682339  11.369507  11.188391  11.105528   \n",
       "ABLIM1  11.355008  11.331177  11.649917  11.622126  11.733842  11.772563   \n",
       "ABP1     8.368459   8.539609   8.649921   8.698824   8.688555   8.762338   \n",
       "...           ...        ...        ...        ...        ...        ...   \n",
       "ZNF606   8.986870   9.040801   9.199987   9.201530   9.096592   9.201962   \n",
       "ZNF616  10.457835  10.426120  10.290234  10.279000  10.247908  10.289320   \n",
       "ZNF83   10.300014  10.099996  10.102037   9.971016   9.992117  10.033500   \n",
       "ZNFX1   11.795806  11.914836  11.799599  11.675592  11.704008  11.648020   \n",
       "ZWINT    9.000771   8.974313   9.177513   9.123757   8.815139   8.723943   \n",
       "\n",
       "               36         39         42         45  \n",
       "Symbol                                              \n",
       "ABCA1    9.622010   9.543455   9.559486  10.094392  \n",
       "ABCC11   8.679719   8.771382   8.633315   8.703377  \n",
       "ABCC3   11.343285  11.151681  11.214401  10.928790  \n",
       "ABLIM1  11.909730  11.724674  11.835192  11.720621  \n",
       "ABP1     9.098345   9.294049   9.323449   9.729671  \n",
       "...           ...        ...        ...        ...  \n",
       "ZNF606   9.113082   9.238377   8.999179   9.076324  \n",
       "ZNF616  10.175219  10.316580  10.406839  10.225305  \n",
       "ZNF83   10.252678  10.170821  10.269105   9.959197  \n",
       "ZNFX1   11.661703  11.655686  11.850343  11.629349  \n",
       "ZWINT    8.396475   8.371781   8.194524   8.141444  \n",
       "\n",
       "[1175 rows x 16 columns]"
      ]
     },
     "execution_count": 15,
     "metadata": {},
     "output_type": "execute_result"
    }
   ],
   "source": [
    "# import numpy as np\n",
    "# import pandas as pd\n",
    "\n",
    "gene_file_name = \"GSE22955_small_gene_table.txt\"\n",
    "genes_df = pd.read_csv(gene_file_name, comment = \"#\", sep = \"\\t\", index_col = 0 )\n",
    "genes_df"
   ]
  },
  {
   "cell_type": "code",
   "execution_count": 18,
   "metadata": {},
   "outputs": [
    {
     "data": {
      "text/plain": [
       "('TP53', 'BARD1', 'BRCA1', 'MAPK1', 'CHEK2')"
      ]
     },
     "execution_count": 18,
     "metadata": {},
     "output_type": "execute_result"
    }
   ],
   "source": [
    "important_genes"
   ]
  },
  {
   "cell_type": "code",
   "execution_count": 19,
   "metadata": {},
   "outputs": [
    {
     "data": {
      "text/html": [
       "<div>\n",
       "<style scoped>\n",
       "    .dataframe tbody tr th:only-of-type {\n",
       "        vertical-align: middle;\n",
       "    }\n",
       "\n",
       "    .dataframe tbody tr th {\n",
       "        vertical-align: top;\n",
       "    }\n",
       "\n",
       "    .dataframe thead th {\n",
       "        text-align: right;\n",
       "    }\n",
       "</style>\n",
       "<table border=\"1\" class=\"dataframe\">\n",
       "  <thead>\n",
       "    <tr style=\"text-align: right;\">\n",
       "      <th></th>\n",
       "      <th>0</th>\n",
       "      <th>3</th>\n",
       "      <th>6</th>\n",
       "      <th>9</th>\n",
       "      <th>12</th>\n",
       "      <th>15</th>\n",
       "      <th>18</th>\n",
       "      <th>21</th>\n",
       "      <th>24</th>\n",
       "      <th>27</th>\n",
       "      <th>30</th>\n",
       "      <th>33</th>\n",
       "      <th>36</th>\n",
       "      <th>39</th>\n",
       "      <th>42</th>\n",
       "      <th>45</th>\n",
       "    </tr>\n",
       "    <tr>\n",
       "      <th>Symbol</th>\n",
       "      <th></th>\n",
       "      <th></th>\n",
       "      <th></th>\n",
       "      <th></th>\n",
       "      <th></th>\n",
       "      <th></th>\n",
       "      <th></th>\n",
       "      <th></th>\n",
       "      <th></th>\n",
       "      <th></th>\n",
       "      <th></th>\n",
       "      <th></th>\n",
       "      <th></th>\n",
       "      <th></th>\n",
       "      <th></th>\n",
       "      <th></th>\n",
       "    </tr>\n",
       "  </thead>\n",
       "  <tbody>\n",
       "    <tr>\n",
       "      <th>TP53</th>\n",
       "      <td>9.200789</td>\n",
       "      <td>9.216372</td>\n",
       "      <td>9.050205</td>\n",
       "      <td>8.810025</td>\n",
       "      <td>9.228241</td>\n",
       "      <td>9.129489</td>\n",
       "      <td>9.071350</td>\n",
       "      <td>8.876624</td>\n",
       "      <td>8.701105</td>\n",
       "      <td>8.716909</td>\n",
       "      <td>8.430416</td>\n",
       "      <td>8.595401</td>\n",
       "      <td>8.520036</td>\n",
       "      <td>8.257401</td>\n",
       "      <td>8.218460</td>\n",
       "      <td>7.982049</td>\n",
       "    </tr>\n",
       "    <tr>\n",
       "      <th>BARD1</th>\n",
       "      <td>10.221535</td>\n",
       "      <td>10.701018</td>\n",
       "      <td>10.413019</td>\n",
       "      <td>10.139816</td>\n",
       "      <td>9.597768</td>\n",
       "      <td>9.822128</td>\n",
       "      <td>9.577566</td>\n",
       "      <td>9.318428</td>\n",
       "      <td>9.632759</td>\n",
       "      <td>9.462205</td>\n",
       "      <td>9.476985</td>\n",
       "      <td>9.339228</td>\n",
       "      <td>9.134728</td>\n",
       "      <td>9.157332</td>\n",
       "      <td>9.273025</td>\n",
       "      <td>9.558056</td>\n",
       "    </tr>\n",
       "    <tr>\n",
       "      <th>BRCA1</th>\n",
       "      <td>9.940983</td>\n",
       "      <td>10.037104</td>\n",
       "      <td>10.061594</td>\n",
       "      <td>9.833829</td>\n",
       "      <td>9.139316</td>\n",
       "      <td>8.980142</td>\n",
       "      <td>8.951006</td>\n",
       "      <td>8.806894</td>\n",
       "      <td>9.003011</td>\n",
       "      <td>8.885428</td>\n",
       "      <td>8.816547</td>\n",
       "      <td>8.724686</td>\n",
       "      <td>8.402657</td>\n",
       "      <td>8.386593</td>\n",
       "      <td>8.396024</td>\n",
       "      <td>8.605764</td>\n",
       "    </tr>\n",
       "    <tr>\n",
       "      <th>MAPK1</th>\n",
       "      <td>10.219226</td>\n",
       "      <td>10.129187</td>\n",
       "      <td>10.040317</td>\n",
       "      <td>9.765913</td>\n",
       "      <td>9.617056</td>\n",
       "      <td>9.417145</td>\n",
       "      <td>9.727285</td>\n",
       "      <td>9.632413</td>\n",
       "      <td>9.604481</td>\n",
       "      <td>9.375869</td>\n",
       "      <td>9.533505</td>\n",
       "      <td>9.526265</td>\n",
       "      <td>9.521666</td>\n",
       "      <td>9.490718</td>\n",
       "      <td>9.360262</td>\n",
       "      <td>9.597784</td>\n",
       "    </tr>\n",
       "    <tr>\n",
       "      <th>CHEK2</th>\n",
       "      <td>10.281308</td>\n",
       "      <td>10.158531</td>\n",
       "      <td>10.153390</td>\n",
       "      <td>10.126042</td>\n",
       "      <td>10.300719</td>\n",
       "      <td>10.281632</td>\n",
       "      <td>10.089970</td>\n",
       "      <td>10.184045</td>\n",
       "      <td>9.777084</td>\n",
       "      <td>9.990490</td>\n",
       "      <td>9.657020</td>\n",
       "      <td>9.736517</td>\n",
       "      <td>9.368978</td>\n",
       "      <td>9.328541</td>\n",
       "      <td>9.175359</td>\n",
       "      <td>9.412664</td>\n",
       "    </tr>\n",
       "  </tbody>\n",
       "</table>\n",
       "</div>"
      ],
      "text/plain": [
       "                0          3          6          9         12         15  \\\n",
       "Symbol                                                                     \n",
       "TP53     9.200789   9.216372   9.050205   8.810025   9.228241   9.129489   \n",
       "BARD1   10.221535  10.701018  10.413019  10.139816   9.597768   9.822128   \n",
       "BRCA1    9.940983  10.037104  10.061594   9.833829   9.139316   8.980142   \n",
       "MAPK1   10.219226  10.129187  10.040317   9.765913   9.617056   9.417145   \n",
       "CHEK2   10.281308  10.158531  10.153390  10.126042  10.300719  10.281632   \n",
       "\n",
       "               18         21        24        27        30        33  \\\n",
       "Symbol                                                                 \n",
       "TP53     9.071350   8.876624  8.701105  8.716909  8.430416  8.595401   \n",
       "BARD1    9.577566   9.318428  9.632759  9.462205  9.476985  9.339228   \n",
       "BRCA1    8.951006   8.806894  9.003011  8.885428  8.816547  8.724686   \n",
       "MAPK1    9.727285   9.632413  9.604481  9.375869  9.533505  9.526265   \n",
       "CHEK2   10.089970  10.184045  9.777084  9.990490  9.657020  9.736517   \n",
       "\n",
       "              36        39        42        45  \n",
       "Symbol                                          \n",
       "TP53    8.520036  8.257401  8.218460  7.982049  \n",
       "BARD1   9.134728  9.157332  9.273025  9.558056  \n",
       "BRCA1   8.402657  8.386593  8.396024  8.605764  \n",
       "MAPK1   9.521666  9.490718  9.360262  9.597784  \n",
       "CHEK2   9.368978  9.328541  9.175359  9.412664  "
      ]
     },
     "execution_count": 19,
     "metadata": {},
     "output_type": "execute_result"
    }
   ],
   "source": [
    "selected_data = genes_df.loc[important_genes,]\n",
    "selected_data"
   ]
  },
  {
   "cell_type": "markdown",
   "metadata": {},
   "source": [
    "### - Plot the expression of these genes "
   ]
  },
  {
   "cell_type": "code",
   "execution_count": 20,
   "metadata": {},
   "outputs": [
    {
     "data": {
      "text/plain": [
       "<AxesSubplot:>"
      ]
     },
     "execution_count": 20,
     "metadata": {},
     "output_type": "execute_result"
    },
    {
     "data": {
      "image/png": "[encoded data removed]",
      "text/plain": [
       "<Figure size 432x288 with 1 Axes>"
      ]
     },
     "metadata": {
      "needs_background": "light"
     },
     "output_type": "display_data"
    }
   ],
   "source": [
    "selected_data.T.plot()"
   ]
  },
  {
   "cell_type": "code",
   "execution_count": 22,
   "metadata": {},
   "outputs": [],
   "source": [
    "# selected_data.plot?"
   ]
  },
  {
   "cell_type": "code",
   "execution_count": 23,
   "metadata": {},
   "outputs": [
    {
     "data": {
      "text/html": [
       "<div>\n",
       "<style scoped>\n",
       "    .dataframe tbody tr th:only-of-type {\n",
       "        vertical-align: middle;\n",
       "    }\n",
       "\n",
       "    .dataframe tbody tr th {\n",
       "        vertical-align: top;\n",
       "    }\n",
       "\n",
       "    .dataframe thead th {\n",
       "        text-align: right;\n",
       "    }\n",
       "</style>\n",
       "<table border=\"1\" class=\"dataframe\">\n",
       "  <thead>\n",
       "    <tr style=\"text-align: right;\">\n",
       "      <th></th>\n",
       "      <th>0</th>\n",
       "      <th>3</th>\n",
       "      <th>6</th>\n",
       "      <th>9</th>\n",
       "      <th>12</th>\n",
       "      <th>15</th>\n",
       "      <th>18</th>\n",
       "      <th>21</th>\n",
       "      <th>24</th>\n",
       "      <th>27</th>\n",
       "      <th>30</th>\n",
       "      <th>33</th>\n",
       "      <th>36</th>\n",
       "      <th>39</th>\n",
       "      <th>42</th>\n",
       "      <th>45</th>\n",
       "    </tr>\n",
       "    <tr>\n",
       "      <th>Symbol</th>\n",
       "      <th></th>\n",
       "      <th></th>\n",
       "      <th></th>\n",
       "      <th></th>\n",
       "      <th></th>\n",
       "      <th></th>\n",
       "      <th></th>\n",
       "      <th></th>\n",
       "      <th></th>\n",
       "      <th></th>\n",
       "      <th></th>\n",
       "      <th></th>\n",
       "      <th></th>\n",
       "      <th></th>\n",
       "      <th></th>\n",
       "      <th></th>\n",
       "    </tr>\n",
       "  </thead>\n",
       "  <tbody>\n",
       "    <tr>\n",
       "      <th>TP53</th>\n",
       "      <td>9.200789</td>\n",
       "      <td>9.216372</td>\n",
       "      <td>9.050205</td>\n",
       "      <td>8.810025</td>\n",
       "      <td>9.228241</td>\n",
       "      <td>9.129489</td>\n",
       "      <td>9.071350</td>\n",
       "      <td>8.876624</td>\n",
       "      <td>8.701105</td>\n",
       "      <td>8.716909</td>\n",
       "      <td>8.430416</td>\n",
       "      <td>8.595401</td>\n",
       "      <td>8.520036</td>\n",
       "      <td>8.257401</td>\n",
       "      <td>8.218460</td>\n",
       "      <td>7.982049</td>\n",
       "    </tr>\n",
       "    <tr>\n",
       "      <th>BARD1</th>\n",
       "      <td>10.221535</td>\n",
       "      <td>10.701018</td>\n",
       "      <td>10.413019</td>\n",
       "      <td>10.139816</td>\n",
       "      <td>9.597768</td>\n",
       "      <td>9.822128</td>\n",
       "      <td>9.577566</td>\n",
       "      <td>9.318428</td>\n",
       "      <td>9.632759</td>\n",
       "      <td>9.462205</td>\n",
       "      <td>9.476985</td>\n",
       "      <td>9.339228</td>\n",
       "      <td>9.134728</td>\n",
       "      <td>9.157332</td>\n",
       "      <td>9.273025</td>\n",
       "      <td>9.558056</td>\n",
       "    </tr>\n",
       "    <tr>\n",
       "      <th>BRCA1</th>\n",
       "      <td>9.940983</td>\n",
       "      <td>10.037104</td>\n",
       "      <td>10.061594</td>\n",
       "      <td>9.833829</td>\n",
       "      <td>9.139316</td>\n",
       "      <td>8.980142</td>\n",
       "      <td>8.951006</td>\n",
       "      <td>8.806894</td>\n",
       "      <td>9.003011</td>\n",
       "      <td>8.885428</td>\n",
       "      <td>8.816547</td>\n",
       "      <td>8.724686</td>\n",
       "      <td>8.402657</td>\n",
       "      <td>8.386593</td>\n",
       "      <td>8.396024</td>\n",
       "      <td>8.605764</td>\n",
       "    </tr>\n",
       "    <tr>\n",
       "      <th>MAPK1</th>\n",
       "      <td>10.219226</td>\n",
       "      <td>10.129187</td>\n",
       "      <td>10.040317</td>\n",
       "      <td>9.765913</td>\n",
       "      <td>9.617056</td>\n",
       "      <td>9.417145</td>\n",
       "      <td>9.727285</td>\n",
       "      <td>9.632413</td>\n",
       "      <td>9.604481</td>\n",
       "      <td>9.375869</td>\n",
       "      <td>9.533505</td>\n",
       "      <td>9.526265</td>\n",
       "      <td>9.521666</td>\n",
       "      <td>9.490718</td>\n",
       "      <td>9.360262</td>\n",
       "      <td>9.597784</td>\n",
       "    </tr>\n",
       "    <tr>\n",
       "      <th>CHEK2</th>\n",
       "      <td>10.281308</td>\n",
       "      <td>10.158531</td>\n",
       "      <td>10.153390</td>\n",
       "      <td>10.126042</td>\n",
       "      <td>10.300719</td>\n",
       "      <td>10.281632</td>\n",
       "      <td>10.089970</td>\n",
       "      <td>10.184045</td>\n",
       "      <td>9.777084</td>\n",
       "      <td>9.990490</td>\n",
       "      <td>9.657020</td>\n",
       "      <td>9.736517</td>\n",
       "      <td>9.368978</td>\n",
       "      <td>9.328541</td>\n",
       "      <td>9.175359</td>\n",
       "      <td>9.412664</td>\n",
       "    </tr>\n",
       "  </tbody>\n",
       "</table>\n",
       "</div>"
      ],
      "text/plain": [
       "                0          3          6          9         12         15  \\\n",
       "Symbol                                                                     \n",
       "TP53     9.200789   9.216372   9.050205   8.810025   9.228241   9.129489   \n",
       "BARD1   10.221535  10.701018  10.413019  10.139816   9.597768   9.822128   \n",
       "BRCA1    9.940983  10.037104  10.061594   9.833829   9.139316   8.980142   \n",
       "MAPK1   10.219226  10.129187  10.040317   9.765913   9.617056   9.417145   \n",
       "CHEK2   10.281308  10.158531  10.153390  10.126042  10.300719  10.281632   \n",
       "\n",
       "               18         21        24        27        30        33  \\\n",
       "Symbol                                                                 \n",
       "TP53     9.071350   8.876624  8.701105  8.716909  8.430416  8.595401   \n",
       "BARD1    9.577566   9.318428  9.632759  9.462205  9.476985  9.339228   \n",
       "BRCA1    8.951006   8.806894  9.003011  8.885428  8.816547  8.724686   \n",
       "MAPK1    9.727285   9.632413  9.604481  9.375869  9.533505  9.526265   \n",
       "CHEK2   10.089970  10.184045  9.777084  9.990490  9.657020  9.736517   \n",
       "\n",
       "              36        39        42        45  \n",
       "Symbol                                          \n",
       "TP53    8.520036  8.257401  8.218460  7.982049  \n",
       "BARD1   9.134728  9.157332  9.273025  9.558056  \n",
       "BRCA1   8.402657  8.386593  8.396024  8.605764  \n",
       "MAPK1   9.521666  9.490718  9.360262  9.597784  \n",
       "CHEK2   9.368978  9.328541  9.175359  9.412664  "
      ]
     },
     "execution_count": 23,
     "metadata": {},
     "output_type": "execute_result"
    }
   ],
   "source": [
    "selected_data"
   ]
  },
  {
   "cell_type": "markdown",
   "metadata": {},
   "source": [
    "\n",
    "### - Select only genes that have a standard dev > 0.7 and a change between hour 0 and hour 45 > 1.4 fold.\n"
   ]
  },
  {
   "cell_type": "code",
   "execution_count": 38,
   "metadata": {},
   "outputs": [
    {
     "data": {
      "text/plain": [
       "0.39190184839938047"
      ]
     },
     "execution_count": 38,
     "metadata": {},
     "output_type": "execute_result"
    }
   ],
   "source": [
    "selected_data.T.TP53.std()"
   ]
  },
  {
   "cell_type": "code",
   "execution_count": 39,
   "metadata": {},
   "outputs": [
    {
     "data": {
      "text/plain": [
       "Symbol\n",
       "ABCA1     0.634829\n",
       "ABCC11    0.343696\n",
       "ABCC3     0.803495\n",
       "ABLIM1    0.355669\n",
       "ABP1      0.483524\n",
       "            ...   \n",
       "ZNF606    0.257139\n",
       "ZNF616    0.257465\n",
       "ZNF83     0.375355\n",
       "ZNFX1     0.369599\n",
       "ZWINT     0.653463\n",
       "Length: 1175, dtype: float64"
      ]
     },
     "execution_count": 39,
     "metadata": {},
     "output_type": "execute_result"
    }
   ],
   "source": [
    "genes_df.T.std()"
   ]
  },
  {
   "cell_type": "code",
   "execution_count": 24,
   "metadata": {},
   "outputs": [
    {
     "data": {
      "text/plain": [
       "Symbol\n",
       "ABCA1     0.634829\n",
       "ABCC11    0.343696\n",
       "ABCC3     0.803495\n",
       "ABLIM1    0.355669\n",
       "ABP1      0.483524\n",
       "            ...   \n",
       "ZNF606    0.257139\n",
       "ZNF616    0.257465\n",
       "ZNF83     0.375355\n",
       "ZNFX1     0.369599\n",
       "ZWINT     0.653463\n",
       "Length: 1175, dtype: float64"
      ]
     },
     "execution_count": 24,
     "metadata": {},
     "output_type": "execute_result"
    }
   ],
   "source": [
    "genes_df.std(axis = 1)"
   ]
  },
  {
   "cell_type": "code",
   "execution_count": 25,
   "metadata": {},
   "outputs": [],
   "source": [
    "genes_sd = genes_df.std(axis = 1)"
   ]
  },
  {
   "cell_type": "code",
   "execution_count": 35,
   "metadata": {},
   "outputs": [
    {
     "data": {
      "text/plain": [
       "Index(['0', '3', '6', '9', '12', '15', '18', '21', '24', '27', '30', '33',\n",
       "       '36', '39', '42', '45'],\n",
       "      dtype='object')"
      ]
     },
     "execution_count": 35,
     "metadata": {},
     "output_type": "execute_result"
    }
   ],
   "source": [
    "genes_df.columns "
   ]
  },
  {
   "cell_type": "code",
   "execution_count": 34,
   "metadata": {},
   "outputs": [
    {
     "data": {
      "text/plain": [
       "array([ True, False, False, False,  True,  True,  True, False, False,\n",
       "       False, False, False, False, False, False, False])"
      ]
     },
     "execution_count": 34,
     "metadata": {},
     "output_type": "execute_result"
    }
   ],
   "source": [
    "genes_df.columns < \"2\" "
   ]
  },
  {
   "cell_type": "code",
   "execution_count": 36,
   "metadata": {},
   "outputs": [
    {
     "data": {
      "text/plain": [
       "(array([0, 4, 5, 6]),)"
      ]
     },
     "execution_count": 36,
     "metadata": {},
     "output_type": "execute_result"
    }
   ],
   "source": [
    "np.where(genes_df.columns < \"2\" )"
   ]
  },
  {
   "cell_type": "code",
   "execution_count": 26,
   "metadata": {},
   "outputs": [
    {
     "data": {
      "text/plain": [
       "(array([0]),)"
      ]
     },
     "execution_count": 26,
     "metadata": {},
     "output_type": "execute_result"
    }
   ],
   "source": [
    "np.where(genes_df.columns == \"0\")"
   ]
  },
  {
   "cell_type": "code",
   "execution_count": 27,
   "metadata": {},
   "outputs": [
    {
     "data": {
      "text/plain": [
       "(array([15]),)"
      ]
     },
     "execution_count": 27,
     "metadata": {},
     "output_type": "execute_result"
    }
   ],
   "source": [
    "np.where(genes_df.columns == \"45\")"
   ]
  },
  {
   "cell_type": "code",
   "execution_count": 28,
   "metadata": {},
   "outputs": [
    {
     "data": {
      "text/plain": [
       "array([15])"
      ]
     },
     "execution_count": 28,
     "metadata": {},
     "output_type": "execute_result"
    }
   ],
   "source": [
    "np.where(genes_df.columns == \"45\")[0]"
   ]
  },
  {
   "cell_type": "code",
   "execution_count": 29,
   "metadata": {},
   "outputs": [
    {
     "data": {
      "text/plain": [
       "15"
      ]
     },
     "execution_count": 29,
     "metadata": {},
     "output_type": "execute_result"
    }
   ],
   "source": [
    "np.where(genes_df.columns == \"45\")[0][0]"
   ]
  },
  {
   "cell_type": "code",
   "execution_count": 38,
   "metadata": {},
   "outputs": [
    {
     "data": {
      "text/plain": [
       "15"
      ]
     },
     "execution_count": 38,
     "metadata": {},
     "output_type": "execute_result"
    }
   ],
   "source": [
    "pos45 = np.where(genes_df.columns == \"45\")[0][0]\n",
    "pos45"
   ]
  },
  {
   "cell_type": "code",
   "execution_count": 41,
   "metadata": {},
   "outputs": [
    {
     "data": {
      "text/plain": [
       "Symbol\n",
       "ABCA1     10.094392\n",
       "ABCC11     8.703377\n",
       "ABCC3     10.928790\n",
       "ABLIM1    11.720621\n",
       "ABP1       9.729671\n",
       "            ...    \n",
       "ZNF606     9.076324\n",
       "ZNF616    10.225305\n",
       "ZNF83      9.959197\n",
       "ZNFX1     11.629349\n",
       "ZWINT      8.141444\n",
       "Name: 45, Length: 1175, dtype: float64"
      ]
     },
     "execution_count": 41,
     "metadata": {},
     "output_type": "execute_result"
    }
   ],
   "source": [
    "genes_df.loc[:,\"45\"]"
   ]
  },
  {
   "cell_type": "code",
   "execution_count": 50,
   "metadata": {},
   "outputs": [],
   "source": [
    "genes_fc0_45 = genes_df.iloc[:,-1]/genes_df.iloc[:,0]\n",
    "genes_fc45_0 = genes_df.iloc[:,0]/genes_df.iloc[:,pos45]"
   ]
  },
  {
   "cell_type": "code",
   "execution_count": 54,
   "metadata": {},
   "outputs": [
    {
     "data": {
      "text/html": [
       "<div>\n",
       "<style scoped>\n",
       "    .dataframe tbody tr th:only-of-type {\n",
       "        vertical-align: middle;\n",
       "    }\n",
       "\n",
       "    .dataframe tbody tr th {\n",
       "        vertical-align: top;\n",
       "    }\n",
       "\n",
       "    .dataframe thead th {\n",
       "        text-align: right;\n",
       "    }\n",
       "</style>\n",
       "<table border=\"1\" class=\"dataframe\">\n",
       "  <thead>\n",
       "    <tr style=\"text-align: right;\">\n",
       "      <th></th>\n",
       "      <th>0</th>\n",
       "      <th>3</th>\n",
       "      <th>6</th>\n",
       "      <th>9</th>\n",
       "      <th>12</th>\n",
       "      <th>15</th>\n",
       "      <th>18</th>\n",
       "      <th>21</th>\n",
       "      <th>24</th>\n",
       "      <th>27</th>\n",
       "      <th>30</th>\n",
       "      <th>33</th>\n",
       "      <th>36</th>\n",
       "      <th>39</th>\n",
       "      <th>42</th>\n",
       "      <th>45</th>\n",
       "    </tr>\n",
       "    <tr>\n",
       "      <th>Symbol</th>\n",
       "      <th></th>\n",
       "      <th></th>\n",
       "      <th></th>\n",
       "      <th></th>\n",
       "      <th></th>\n",
       "      <th></th>\n",
       "      <th></th>\n",
       "      <th></th>\n",
       "      <th></th>\n",
       "      <th></th>\n",
       "      <th></th>\n",
       "      <th></th>\n",
       "      <th></th>\n",
       "      <th></th>\n",
       "      <th></th>\n",
       "      <th></th>\n",
       "    </tr>\n",
       "  </thead>\n",
       "  <tbody>\n",
       "    <tr>\n",
       "      <th>ADH1A</th>\n",
       "      <td>8.361994</td>\n",
       "      <td>8.827013</td>\n",
       "      <td>9.378511</td>\n",
       "      <td>10.566180</td>\n",
       "      <td>10.256555</td>\n",
       "      <td>10.407172</td>\n",
       "      <td>10.765887</td>\n",
       "      <td>11.121747</td>\n",
       "      <td>11.493566</td>\n",
       "      <td>11.771011</td>\n",
       "      <td>11.687379</td>\n",
       "      <td>12.114453</td>\n",
       "      <td>12.009896</td>\n",
       "      <td>12.204300</td>\n",
       "      <td>12.262426</td>\n",
       "      <td>12.550255</td>\n",
       "    </tr>\n",
       "    <tr>\n",
       "      <th>ADH1C</th>\n",
       "      <td>8.209849</td>\n",
       "      <td>8.367908</td>\n",
       "      <td>9.104123</td>\n",
       "      <td>10.062300</td>\n",
       "      <td>9.829055</td>\n",
       "      <td>10.213800</td>\n",
       "      <td>10.530419</td>\n",
       "      <td>10.707635</td>\n",
       "      <td>11.252292</td>\n",
       "      <td>11.370705</td>\n",
       "      <td>11.445012</td>\n",
       "      <td>11.786950</td>\n",
       "      <td>11.793588</td>\n",
       "      <td>11.939639</td>\n",
       "      <td>11.775485</td>\n",
       "      <td>11.926255</td>\n",
       "    </tr>\n",
       "    <tr>\n",
       "      <th>CCL2</th>\n",
       "      <td>12.619085</td>\n",
       "      <td>10.091347</td>\n",
       "      <td>9.562717</td>\n",
       "      <td>8.840072</td>\n",
       "      <td>9.008635</td>\n",
       "      <td>8.701372</td>\n",
       "      <td>8.561566</td>\n",
       "      <td>8.548134</td>\n",
       "      <td>8.454427</td>\n",
       "      <td>8.483174</td>\n",
       "      <td>8.257832</td>\n",
       "      <td>8.184132</td>\n",
       "      <td>8.188751</td>\n",
       "      <td>8.304568</td>\n",
       "      <td>8.349592</td>\n",
       "      <td>7.823147</td>\n",
       "    </tr>\n",
       "    <tr>\n",
       "      <th>CYP1A1</th>\n",
       "      <td>8.852036</td>\n",
       "      <td>10.607981</td>\n",
       "      <td>10.871058</td>\n",
       "      <td>11.003644</td>\n",
       "      <td>11.880618</td>\n",
       "      <td>11.771992</td>\n",
       "      <td>12.114453</td>\n",
       "      <td>12.089954</td>\n",
       "      <td>11.968187</td>\n",
       "      <td>11.716474</td>\n",
       "      <td>12.266210</td>\n",
       "      <td>12.208526</td>\n",
       "      <td>12.635865</td>\n",
       "      <td>12.350391</td>\n",
       "      <td>12.503475</td>\n",
       "      <td>12.692957</td>\n",
       "    </tr>\n",
       "    <tr>\n",
       "      <th>IL8</th>\n",
       "      <td>13.985411</td>\n",
       "      <td>11.492268</td>\n",
       "      <td>11.320368</td>\n",
       "      <td>10.591507</td>\n",
       "      <td>11.323523</td>\n",
       "      <td>10.572259</td>\n",
       "      <td>10.376082</td>\n",
       "      <td>10.481849</td>\n",
       "      <td>10.061828</td>\n",
       "      <td>10.021562</td>\n",
       "      <td>10.040720</td>\n",
       "      <td>10.002081</td>\n",
       "      <td>9.865461</td>\n",
       "      <td>9.820557</td>\n",
       "      <td>9.671547</td>\n",
       "      <td>9.690952</td>\n",
       "    </tr>\n",
       "  </tbody>\n",
       "</table>\n",
       "</div>"
      ],
      "text/plain": [
       "                0          3          6          9         12         15  \\\n",
       "Symbol                                                                     \n",
       "ADH1A    8.361994   8.827013   9.378511  10.566180  10.256555  10.407172   \n",
       "ADH1C    8.209849   8.367908   9.104123  10.062300   9.829055  10.213800   \n",
       "CCL2    12.619085  10.091347   9.562717   8.840072   9.008635   8.701372   \n",
       "CYP1A1   8.852036  10.607981  10.871058  11.003644  11.880618  11.771992   \n",
       "IL8     13.985411  11.492268  11.320368  10.591507  11.323523  10.572259   \n",
       "\n",
       "               18         21         24         27         30         33  \\\n",
       "Symbol                                                                     \n",
       "ADH1A   10.765887  11.121747  11.493566  11.771011  11.687379  12.114453   \n",
       "ADH1C   10.530419  10.707635  11.252292  11.370705  11.445012  11.786950   \n",
       "CCL2     8.561566   8.548134   8.454427   8.483174   8.257832   8.184132   \n",
       "CYP1A1  12.114453  12.089954  11.968187  11.716474  12.266210  12.208526   \n",
       "IL8     10.376082  10.481849  10.061828  10.021562  10.040720  10.002081   \n",
       "\n",
       "               36         39         42         45  \n",
       "Symbol                                              \n",
       "ADH1A   12.009896  12.204300  12.262426  12.550255  \n",
       "ADH1C   11.793588  11.939639  11.775485  11.926255  \n",
       "CCL2     8.188751   8.304568   8.349592   7.823147  \n",
       "CYP1A1  12.635865  12.350391  12.503475  12.692957  \n",
       "IL8      9.865461   9.820557   9.671547   9.690952  "
      ]
     },
     "execution_count": 54,
     "metadata": {},
     "output_type": "execute_result"
    }
   ],
   "source": [
    "c1 = genes_sd > 0.7\n",
    "c2 = genes_fc0_45 > 1.4\n",
    "c3 = genes_fc45_0 > 1.4\n",
    "\n",
    "rel_genes = genes_df[c1 & (c2 | c3)]\n",
    "rel_genes"
   ]
  },
  {
   "cell_type": "code",
   "execution_count": 55,
   "metadata": {},
   "outputs": [
    {
     "data": {
      "text/plain": [
       "Symbol\n",
       "ADH1A     1.277729\n",
       "ADH1C     1.250391\n",
       "CCL2      1.142870\n",
       "CYP1A1    0.980201\n",
       "IL8       1.079800\n",
       "dtype: float64"
      ]
     },
     "execution_count": 55,
     "metadata": {},
     "output_type": "execute_result"
    }
   ],
   "source": [
    "rel_genes.std(axis = 1)"
   ]
  },
  {
   "cell_type": "code",
   "execution_count": 56,
   "metadata": {},
   "outputs": [
    {
     "data": {
      "text/plain": [
       "Symbol\n",
       "ADH1A     0.666281\n",
       "ADH1C     0.688384\n",
       "CCL2      1.613045\n",
       "CYP1A1    0.697397\n",
       "IL8       1.443141\n",
       "dtype: float64"
      ]
     },
     "execution_count": 56,
     "metadata": {},
     "output_type": "execute_result"
    }
   ],
   "source": [
    "rel_genes.iloc[:,0]/rel_genes.iloc[:,pos45]"
   ]
  },
  {
   "cell_type": "code",
   "execution_count": 57,
   "metadata": {},
   "outputs": [
    {
     "data": {
      "text/plain": [
       "Symbol\n",
       "ADH1A     1.500869\n",
       "ADH1C     1.452677\n",
       "CCL2      0.619946\n",
       "CYP1A1    1.433903\n",
       "IL8       0.692933\n",
       "dtype: float64"
      ]
     },
     "execution_count": 57,
     "metadata": {},
     "output_type": "execute_result"
    }
   ],
   "source": [
    "rel_genes.iloc[:,pos45]/rel_genes.iloc[:,0]"
   ]
  },
  {
   "cell_type": "code",
   "execution_count": null,
   "metadata": {},
   "outputs": [],
   "source": []
  },
  {
   "cell_type": "markdown",
   "metadata": {},
   "source": [
    "____\n",
    "\n",
    "[ClinVar][1] is a freely accessible, public archive of reports of the relationships among human variations and phenotypes, with supporting evidence.\n",
    "\n",
    "\n",
    "The data you will be working with (`clinvar.vcf`).  More information about the database can be found [here][3].\n",
    "\n",
    "From: https://ftp.ncbi.nlm.nih.gov/pub/clinvar/vcf_GRCh38/\n",
    "\n",
    "Download the file clinvar.vcf.gz\n",
    "\n",
    "\n",
    "### The file format\n",
    "The beginning of every VCF file contains various sets of information:\n",
    "* Meta-information (details about the experiment or configuration) lines start with **`##`**\n",
    "    * These lines are helpful in understanding specialized keys found in the `INFO` column. It is in these sections that one can find:\n",
    "        * The description of the key\n",
    "        * The data type of the values\n",
    "        * The default value of the values\n",
    "* Header lines (column names) start with **`#`**\n",
    "\n",
    "From there on, each line is made up of tab (`\\t`) separated values that make up eight (8) columns. Those columns are:\n",
    "1. CHROM (chromosome)\n",
    "2. POS (base pair position of the variant)\n",
    "3. ID (identifier if applicable; `.` if not applicable/missing)\n",
    "4. REF (reference base)\n",
    "5. ALT (alternate base(s): comma (`,`) separated if applicable)\n",
    "6. QUAL (Phred-scaled quality score; `.` if not applicable/missing)\n",
    "7. FILTER (filter status; `.` if not applicable/missing)\n",
    "8. INFO (any additional information about the variant)\n",
    "    * Semi-colon (`;`) separated key-value pairs\n",
    "    * Key-value pairs are equal sign (`=`) separated (key on the left, value on the right)\n",
    "    * If a key has multiple values, the values are pipe (`|`) separated\n",
    "\n",
    "---\n",
    "[1] https://www.ncbi.nlm.nih.gov/clinvar/intro/  \n",
    "[2] https://samtools.github.io/hts-specs/VCFv4.3.pdf  \n",
    "[3] http://exac.broadinstitute.org  \n",
    "\n"
   ]
  },
  {
   "cell_type": "markdown",
   "metadata": {
    "tags": []
   },
   "source": [
    "____\n",
    "\n",
    "### <font color = \"red\">Exercise</font>\n",
    "\n",
    "___"
   ]
  },
  {
   "cell_type": "markdown",
   "metadata": {
    "tags": []
   },
   "source": [
    "### - From the VCF file extract the variant position information and plot the distribution (histogram)\n"
   ]
  },
  {
   "cell_type": "code",
   "execution_count": 42,
   "metadata": {},
   "outputs": [
    {
     "data": {
      "text/html": [
       "<div>\n",
       "<style scoped>\n",
       "    .dataframe tbody tr th:only-of-type {\n",
       "        vertical-align: middle;\n",
       "    }\n",
       "\n",
       "    .dataframe tbody tr th {\n",
       "        vertical-align: top;\n",
       "    }\n",
       "\n",
       "    .dataframe thead th {\n",
       "        text-align: right;\n",
       "    }\n",
       "</style>\n",
       "<table border=\"1\" class=\"dataframe\">\n",
       "  <thead>\n",
       "    <tr style=\"text-align: right;\">\n",
       "      <th></th>\n",
       "      <th>0</th>\n",
       "      <th>1</th>\n",
       "      <th>2</th>\n",
       "      <th>3</th>\n",
       "      <th>4</th>\n",
       "      <th>5</th>\n",
       "      <th>6</th>\n",
       "      <th>7</th>\n",
       "    </tr>\n",
       "  </thead>\n",
       "  <tbody>\n",
       "    <tr>\n",
       "      <th>0</th>\n",
       "      <td>1</td>\n",
       "      <td>1014012</td>\n",
       "      <td>661610</td>\n",
       "      <td>C</td>\n",
       "      <td>T</td>\n",
       "      <td>.</td>\n",
       "      <td>.</td>\n",
       "      <td>ALLELEID=626468;CLNDISDB=MedGen:C4015293,OMIM:...</td>\n",
       "    </tr>\n",
       "    <tr>\n",
       "      <th>1</th>\n",
       "      <td>1</td>\n",
       "      <td>1014042</td>\n",
       "      <td>475283</td>\n",
       "      <td>G</td>\n",
       "      <td>A</td>\n",
       "      <td>.</td>\n",
       "      <td>.</td>\n",
       "      <td>AF_ESP=0.00546;AF_EXAC=0.00165;AF_TGP=0.00619;...</td>\n",
       "    </tr>\n",
       "    <tr>\n",
       "      <th>2</th>\n",
       "      <td>1</td>\n",
       "      <td>1014047</td>\n",
       "      <td>639487</td>\n",
       "      <td>A</td>\n",
       "      <td>G</td>\n",
       "      <td>.</td>\n",
       "      <td>.</td>\n",
       "      <td>ALLELEID=626469;CLNDISDB=MedGen:C4015293,OMIM:...</td>\n",
       "    </tr>\n",
       "    <tr>\n",
       "      <th>3</th>\n",
       "      <td>1</td>\n",
       "      <td>1014111</td>\n",
       "      <td>659187</td>\n",
       "      <td>G</td>\n",
       "      <td>A</td>\n",
       "      <td>.</td>\n",
       "      <td>.</td>\n",
       "      <td>ALLELEID=626470;CLNDISDB=MedGen:C4015293,OMIM:...</td>\n",
       "    </tr>\n",
       "    <tr>\n",
       "      <th>4</th>\n",
       "      <td>1</td>\n",
       "      <td>1014122</td>\n",
       "      <td>542074</td>\n",
       "      <td>C</td>\n",
       "      <td>T</td>\n",
       "      <td>.</td>\n",
       "      <td>.</td>\n",
       "      <td>AF_ESP=0.00015;AF_EXAC=0.00010;ALLELEID=514926...</td>\n",
       "    </tr>\n",
       "    <tr>\n",
       "      <th>...</th>\n",
       "      <td>...</td>\n",
       "      <td>...</td>\n",
       "      <td>...</td>\n",
       "      <td>...</td>\n",
       "      <td>...</td>\n",
       "      <td>...</td>\n",
       "      <td>...</td>\n",
       "      <td>...</td>\n",
       "    </tr>\n",
       "    <tr>\n",
       "      <th>967</th>\n",
       "      <td>1</td>\n",
       "      <td>2306313</td>\n",
       "      <td>676028</td>\n",
       "      <td>T</td>\n",
       "      <td>C</td>\n",
       "      <td>.</td>\n",
       "      <td>.</td>\n",
       "      <td>ALLELEID=657445;CLNDISDB=MedGen:CN517202;CLNDN...</td>\n",
       "    </tr>\n",
       "    <tr>\n",
       "      <th>968</th>\n",
       "      <td>1</td>\n",
       "      <td>2306534</td>\n",
       "      <td>674447</td>\n",
       "      <td>A</td>\n",
       "      <td>G</td>\n",
       "      <td>.</td>\n",
       "      <td>.</td>\n",
       "      <td>ALLELEID=657350;CLNDISDB=MedGen:CN517202;CLNDN...</td>\n",
       "    </tr>\n",
       "    <tr>\n",
       "      <th>969</th>\n",
       "      <td>1</td>\n",
       "      <td>2306561</td>\n",
       "      <td>388616</td>\n",
       "      <td>C</td>\n",
       "      <td>T</td>\n",
       "      <td>.</td>\n",
       "      <td>.</td>\n",
       "      <td>ALLELEID=364745;CLNDISDB=MedGen:CN169374;CLNDN...</td>\n",
       "    </tr>\n",
       "    <tr>\n",
       "      <th>970</th>\n",
       "      <td>1</td>\n",
       "      <td>2306568</td>\n",
       "      <td>463403</td>\n",
       "      <td>C</td>\n",
       "      <td>G</td>\n",
       "      <td>.</td>\n",
       "      <td>.</td>\n",
       "      <td>ALLELEID=447533;CLNDISDB=MedGen:C1321551,OMIM:...</td>\n",
       "    </tr>\n",
       "    <tr>\n",
       "      <th>971</th>\n",
       "      <td>1</td>\n",
       "      <td>2306585</td>\n",
       "      <td>213699</td>\n",
       "      <td>C</td>\n",
       "      <td>G</td>\n",
       "      <td>.</td>\n",
       "      <td>.</td>\n",
       "      <td>AF_EXAC=0.00367;ALLELEID=209486;CLNDISDB=MedGe...</td>\n",
       "    </tr>\n",
       "  </tbody>\n",
       "</table>\n",
       "<p>972 rows × 8 columns</p>\n",
       "</div>"
      ],
      "text/plain": [
       "     0        1       2  3  4  5  6  \\\n",
       "0    1  1014012  661610  C  T  .  .   \n",
       "1    1  1014042  475283  G  A  .  .   \n",
       "2    1  1014047  639487  A  G  .  .   \n",
       "3    1  1014111  659187  G  A  .  .   \n",
       "4    1  1014122  542074  C  T  .  .   \n",
       "..  ..      ...     ... .. .. .. ..   \n",
       "967  1  2306313  676028  T  C  .  .   \n",
       "968  1  2306534  674447  A  G  .  .   \n",
       "969  1  2306561  388616  C  T  .  .   \n",
       "970  1  2306568  463403  C  G  .  .   \n",
       "971  1  2306585  213699  C  G  .  .   \n",
       "\n",
       "                                                     7  \n",
       "0    ALLELEID=626468;CLNDISDB=MedGen:C4015293,OMIM:...  \n",
       "1    AF_ESP=0.00546;AF_EXAC=0.00165;AF_TGP=0.00619;...  \n",
       "2    ALLELEID=626469;CLNDISDB=MedGen:C4015293,OMIM:...  \n",
       "3    ALLELEID=626470;CLNDISDB=MedGen:C4015293,OMIM:...  \n",
       "4    AF_ESP=0.00015;AF_EXAC=0.00010;ALLELEID=514926...  \n",
       "..                                                 ...  \n",
       "967  ALLELEID=657445;CLNDISDB=MedGen:CN517202;CLNDN...  \n",
       "968  ALLELEID=657350;CLNDISDB=MedGen:CN517202;CLNDN...  \n",
       "969  ALLELEID=364745;CLNDISDB=MedGen:CN169374;CLNDN...  \n",
       "970  ALLELEID=447533;CLNDISDB=MedGen:C1321551,OMIM:...  \n",
       "971  AF_EXAC=0.00367;ALLELEID=209486;CLNDISDB=MedGe...  \n",
       "\n",
       "[972 rows x 8 columns]"
      ]
     },
     "execution_count": 42,
     "metadata": {},
     "output_type": "execute_result"
    }
   ],
   "source": [
    "# import pandas as pd\n",
    "vcf_data = pd.read_csv(\"clinvar_short.vcf\", comment = \"#\", sep = \"\\t\", header = None)\n",
    "vcf_data"
   ]
  },
  {
   "cell_type": "code",
   "execution_count": 43,
   "metadata": {},
   "outputs": [],
   "source": [
    "vcf_data.columns = (\"CHROM\", \"POS\", \"ID\", \"REF\", \"ALT\", \"QUAL\", \"FILTER\",\"INFO\")\n"
   ]
  },
  {
   "cell_type": "code",
   "execution_count": 44,
   "metadata": {},
   "outputs": [
    {
     "data": {
      "text/html": [
       "<div>\n",
       "<style scoped>\n",
       "    .dataframe tbody tr th:only-of-type {\n",
       "        vertical-align: middle;\n",
       "    }\n",
       "\n",
       "    .dataframe tbody tr th {\n",
       "        vertical-align: top;\n",
       "    }\n",
       "\n",
       "    .dataframe thead th {\n",
       "        text-align: right;\n",
       "    }\n",
       "</style>\n",
       "<table border=\"1\" class=\"dataframe\">\n",
       "  <thead>\n",
       "    <tr style=\"text-align: right;\">\n",
       "      <th></th>\n",
       "      <th>CHROM</th>\n",
       "      <th>POS</th>\n",
       "      <th>ID</th>\n",
       "      <th>REF</th>\n",
       "      <th>ALT</th>\n",
       "      <th>QUAL</th>\n",
       "      <th>FILTER</th>\n",
       "      <th>INFO</th>\n",
       "    </tr>\n",
       "  </thead>\n",
       "  <tbody>\n",
       "    <tr>\n",
       "      <th>0</th>\n",
       "      <td>1</td>\n",
       "      <td>1014012</td>\n",
       "      <td>661610</td>\n",
       "      <td>C</td>\n",
       "      <td>T</td>\n",
       "      <td>.</td>\n",
       "      <td>.</td>\n",
       "      <td>ALLELEID=626468;CLNDISDB=MedGen:C4015293,OMIM:...</td>\n",
       "    </tr>\n",
       "    <tr>\n",
       "      <th>1</th>\n",
       "      <td>1</td>\n",
       "      <td>1014042</td>\n",
       "      <td>475283</td>\n",
       "      <td>G</td>\n",
       "      <td>A</td>\n",
       "      <td>.</td>\n",
       "      <td>.</td>\n",
       "      <td>AF_ESP=0.00546;AF_EXAC=0.00165;AF_TGP=0.00619;...</td>\n",
       "    </tr>\n",
       "    <tr>\n",
       "      <th>2</th>\n",
       "      <td>1</td>\n",
       "      <td>1014047</td>\n",
       "      <td>639487</td>\n",
       "      <td>A</td>\n",
       "      <td>G</td>\n",
       "      <td>.</td>\n",
       "      <td>.</td>\n",
       "      <td>ALLELEID=626469;CLNDISDB=MedGen:C4015293,OMIM:...</td>\n",
       "    </tr>\n",
       "    <tr>\n",
       "      <th>3</th>\n",
       "      <td>1</td>\n",
       "      <td>1014111</td>\n",
       "      <td>659187</td>\n",
       "      <td>G</td>\n",
       "      <td>A</td>\n",
       "      <td>.</td>\n",
       "      <td>.</td>\n",
       "      <td>ALLELEID=626470;CLNDISDB=MedGen:C4015293,OMIM:...</td>\n",
       "    </tr>\n",
       "    <tr>\n",
       "      <th>4</th>\n",
       "      <td>1</td>\n",
       "      <td>1014122</td>\n",
       "      <td>542074</td>\n",
       "      <td>C</td>\n",
       "      <td>T</td>\n",
       "      <td>.</td>\n",
       "      <td>.</td>\n",
       "      <td>AF_ESP=0.00015;AF_EXAC=0.00010;ALLELEID=514926...</td>\n",
       "    </tr>\n",
       "    <tr>\n",
       "      <th>...</th>\n",
       "      <td>...</td>\n",
       "      <td>...</td>\n",
       "      <td>...</td>\n",
       "      <td>...</td>\n",
       "      <td>...</td>\n",
       "      <td>...</td>\n",
       "      <td>...</td>\n",
       "      <td>...</td>\n",
       "    </tr>\n",
       "    <tr>\n",
       "      <th>967</th>\n",
       "      <td>1</td>\n",
       "      <td>2306313</td>\n",
       "      <td>676028</td>\n",
       "      <td>T</td>\n",
       "      <td>C</td>\n",
       "      <td>.</td>\n",
       "      <td>.</td>\n",
       "      <td>ALLELEID=657445;CLNDISDB=MedGen:CN517202;CLNDN...</td>\n",
       "    </tr>\n",
       "    <tr>\n",
       "      <th>968</th>\n",
       "      <td>1</td>\n",
       "      <td>2306534</td>\n",
       "      <td>674447</td>\n",
       "      <td>A</td>\n",
       "      <td>G</td>\n",
       "      <td>.</td>\n",
       "      <td>.</td>\n",
       "      <td>ALLELEID=657350;CLNDISDB=MedGen:CN517202;CLNDN...</td>\n",
       "    </tr>\n",
       "    <tr>\n",
       "      <th>969</th>\n",
       "      <td>1</td>\n",
       "      <td>2306561</td>\n",
       "      <td>388616</td>\n",
       "      <td>C</td>\n",
       "      <td>T</td>\n",
       "      <td>.</td>\n",
       "      <td>.</td>\n",
       "      <td>ALLELEID=364745;CLNDISDB=MedGen:CN169374;CLNDN...</td>\n",
       "    </tr>\n",
       "    <tr>\n",
       "      <th>970</th>\n",
       "      <td>1</td>\n",
       "      <td>2306568</td>\n",
       "      <td>463403</td>\n",
       "      <td>C</td>\n",
       "      <td>G</td>\n",
       "      <td>.</td>\n",
       "      <td>.</td>\n",
       "      <td>ALLELEID=447533;CLNDISDB=MedGen:C1321551,OMIM:...</td>\n",
       "    </tr>\n",
       "    <tr>\n",
       "      <th>971</th>\n",
       "      <td>1</td>\n",
       "      <td>2306585</td>\n",
       "      <td>213699</td>\n",
       "      <td>C</td>\n",
       "      <td>G</td>\n",
       "      <td>.</td>\n",
       "      <td>.</td>\n",
       "      <td>AF_EXAC=0.00367;ALLELEID=209486;CLNDISDB=MedGe...</td>\n",
       "    </tr>\n",
       "  </tbody>\n",
       "</table>\n",
       "<p>972 rows × 8 columns</p>\n",
       "</div>"
      ],
      "text/plain": [
       "     CHROM      POS      ID REF ALT QUAL FILTER  \\\n",
       "0        1  1014012  661610   C   T    .      .   \n",
       "1        1  1014042  475283   G   A    .      .   \n",
       "2        1  1014047  639487   A   G    .      .   \n",
       "3        1  1014111  659187   G   A    .      .   \n",
       "4        1  1014122  542074   C   T    .      .   \n",
       "..     ...      ...     ...  ..  ..  ...    ...   \n",
       "967      1  2306313  676028   T   C    .      .   \n",
       "968      1  2306534  674447   A   G    .      .   \n",
       "969      1  2306561  388616   C   T    .      .   \n",
       "970      1  2306568  463403   C   G    .      .   \n",
       "971      1  2306585  213699   C   G    .      .   \n",
       "\n",
       "                                                  INFO  \n",
       "0    ALLELEID=626468;CLNDISDB=MedGen:C4015293,OMIM:...  \n",
       "1    AF_ESP=0.00546;AF_EXAC=0.00165;AF_TGP=0.00619;...  \n",
       "2    ALLELEID=626469;CLNDISDB=MedGen:C4015293,OMIM:...  \n",
       "3    ALLELEID=626470;CLNDISDB=MedGen:C4015293,OMIM:...  \n",
       "4    AF_ESP=0.00015;AF_EXAC=0.00010;ALLELEID=514926...  \n",
       "..                                                 ...  \n",
       "967  ALLELEID=657445;CLNDISDB=MedGen:CN517202;CLNDN...  \n",
       "968  ALLELEID=657350;CLNDISDB=MedGen:CN517202;CLNDN...  \n",
       "969  ALLELEID=364745;CLNDISDB=MedGen:CN169374;CLNDN...  \n",
       "970  ALLELEID=447533;CLNDISDB=MedGen:C1321551,OMIM:...  \n",
       "971  AF_EXAC=0.00367;ALLELEID=209486;CLNDISDB=MedGe...  \n",
       "\n",
       "[972 rows x 8 columns]"
      ]
     },
     "execution_count": 44,
     "metadata": {},
     "output_type": "execute_result"
    }
   ],
   "source": [
    "vcf_data"
   ]
  },
  {
   "cell_type": "code",
   "execution_count": 45,
   "metadata": {},
   "outputs": [
    {
     "data": {
      "text/plain": [
       "0      1014012\n",
       "1      1014042\n",
       "2      1014047\n",
       "3      1014111\n",
       "4      1014122\n",
       "        ...   \n",
       "967    2306313\n",
       "968    2306534\n",
       "969    2306561\n",
       "970    2306568\n",
       "971    2306585\n",
       "Name: POS, Length: 972, dtype: int64"
      ]
     },
     "execution_count": 45,
     "metadata": {},
     "output_type": "execute_result"
    }
   ],
   "source": [
    "vcf_data.POS"
   ]
  },
  {
   "cell_type": "code",
   "execution_count": 46,
   "metadata": {},
   "outputs": [
    {
     "data": {
      "text/plain": [
       "<AxesSubplot:>"
      ]
     },
     "execution_count": 46,
     "metadata": {},
     "output_type": "execute_result"
    },
    {
     "data": {
      "image/png": "[encoded data removed]",
      "text/plain": [
       "<Figure size 432x288 with 1 Axes>"
      ]
     },
     "metadata": {
      "needs_background": "light"
     },
     "output_type": "display_data"
    }
   ],
   "source": [
    "vcf_data.POS.hist()"
   ]
  },
  {
   "cell_type": "code",
   "execution_count": null,
   "metadata": {},
   "outputs": [],
   "source": []
  },
  {
   "cell_type": "code",
   "execution_count": null,
   "metadata": {},
   "outputs": [],
   "source": []
  },
  {
   "cell_type": "code",
   "execution_count": null,
   "metadata": {},
   "outputs": [],
   "source": []
  },
  {
   "cell_type": "markdown",
   "metadata": {},
   "source": [
    "### - From the VCF file identify the genes for each variant from the info column GENEINFO key - write a function that identifies the genes for each variant\n"
   ]
  },
  {
   "cell_type": "code",
   "execution_count": 54,
   "metadata": {},
   "outputs": [
    {
     "name": "stdout",
     "output_type": "stream",
     "text": [
      "ALLELEID\n",
      "626468\n",
      "\n",
      "CLNDISDB\n",
      "MedGen:C4015293,OMIM:616126,Orphanet:ORPHA319563\n",
      "\n",
      "CLNDN\n",
      "Immunodeficiency_38_with_basal_ganglia_calcification\n",
      "\n",
      "CLNHGVS\n",
      "NC_000001.11:g.1014012C>T\n",
      "\n",
      "CLNREVSTAT\n",
      "criteria_provided,_single_submitter\n",
      "\n",
      "CLNSIG\n",
      "Uncertain_significance\n",
      "\n",
      "CLNVC\n",
      "single_nucleotide_variant\n",
      "\n",
      "CLNVCSO\n",
      "SO:0001483\n",
      "\n",
      "GENEINFO\n",
      "ISG15:9636\n",
      "\n",
      "MC\n",
      "SO:0001583|missense_variant\n",
      "\n",
      "ORIGIN\n",
      "1\n",
      "\n"
     ]
    },
    {
     "data": {
      "text/plain": [
       "[]"
      ]
     },
     "execution_count": 54,
     "metadata": {},
     "output_type": "execute_result"
    }
   ],
   "source": [
    "def parse_info(info):\n",
    "    gene_list = []\n",
    "    for pair in info.split(\";\"):\n",
    "        key, value = pair.split(\"=\")\n",
    "        print(key)\n",
    "        print(value)\n",
    "        print()\n",
    "    return gene_list\n",
    "\n",
    "parse_info(vcf_data.INFO[0])"
   ]
  },
  {
   "cell_type": "code",
   "execution_count": 55,
   "metadata": {},
   "outputs": [
    {
     "data": {
      "text/plain": [
       "['ISG15']"
      ]
     },
     "execution_count": 55,
     "metadata": {},
     "output_type": "execute_result"
    }
   ],
   "source": [
    "def parse_info(info):\n",
    "    gene_list = []\n",
    "    for pair in info.split(\";\"):\n",
    "        key, value = pair.split(\"=\")\n",
    "        if key == \"GENEINFO\":\n",
    "            #print(key, value)\n",
    "            for gene_elem in value.split(\"|\"):\n",
    "                gene_sym, gene_id = gene_elem.split(\":\")\n",
    "                gene_list.append(gene_sym)\n",
    "        \n",
    "    return gene_list\n",
    "\n",
    "parse_info(vcf_data.INFO[0])"
   ]
  },
  {
   "cell_type": "code",
   "execution_count": 57,
   "metadata": {},
   "outputs": [],
   "source": [
    "#vcf_data.INFO.apply?"
   ]
  },
  {
   "cell_type": "code",
   "execution_count": 58,
   "metadata": {},
   "outputs": [
    {
     "data": {
      "text/plain": [
       "0      ALLELEID=626468;CLNDISDB=MedGen:C4015293,OMIM:...\n",
       "1      AF_ESP=0.00546;AF_EXAC=0.00165;AF_TGP=0.00619;...\n",
       "2      ALLELEID=626469;CLNDISDB=MedGen:C4015293,OMIM:...\n",
       "3      ALLELEID=626470;CLNDISDB=MedGen:C4015293,OMIM:...\n",
       "4      AF_ESP=0.00015;AF_EXAC=0.00010;ALLELEID=514926...\n",
       "                             ...                        \n",
       "967    ALLELEID=657445;CLNDISDB=MedGen:CN517202;CLNDN...\n",
       "968    ALLELEID=657350;CLNDISDB=MedGen:CN517202;CLNDN...\n",
       "969    ALLELEID=364745;CLNDISDB=MedGen:CN169374;CLNDN...\n",
       "970    ALLELEID=447533;CLNDISDB=MedGen:C1321551,OMIM:...\n",
       "971    AF_EXAC=0.00367;ALLELEID=209486;CLNDISDB=MedGe...\n",
       "Name: INFO, Length: 972, dtype: object"
      ]
     },
     "execution_count": 58,
     "metadata": {},
     "output_type": "execute_result"
    }
   ],
   "source": [
    "vcf_data.INFO"
   ]
  },
  {
   "cell_type": "code",
   "execution_count": 59,
   "metadata": {},
   "outputs": [
    {
     "data": {
      "text/plain": [
       "0      [ISG15]\n",
       "1      [ISG15]\n",
       "2      [ISG15]\n",
       "3      [ISG15]\n",
       "4      [ISG15]\n",
       "        ...   \n",
       "967      [SKI]\n",
       "968      [SKI]\n",
       "969      [SKI]\n",
       "970      [SKI]\n",
       "971      [SKI]\n",
       "Name: INFO, Length: 972, dtype: object"
      ]
     },
     "execution_count": 59,
     "metadata": {},
     "output_type": "execute_result"
    }
   ],
   "source": [
    "variant_genes = vcf_data.INFO.apply(parse_info)\n",
    "variant_genes"
   ]
  },
  {
   "cell_type": "code",
   "execution_count": null,
   "metadata": {},
   "outputs": [],
   "source": []
  },
  {
   "cell_type": "code",
   "execution_count": null,
   "metadata": {},
   "outputs": [],
   "source": []
  },
  {
   "cell_type": "code",
   "execution_count": null,
   "metadata": {},
   "outputs": [],
   "source": []
  },
  {
   "cell_type": "markdown",
   "metadata": {},
   "source": [
    "\n",
    "\n",
    "### - Select only the variants for our 6 genes of interest from the expression data frame TP53, BARD1, BRCA1, MAPK1, CHEK2"
   ]
  },
  {
   "cell_type": "code",
   "execution_count": 60,
   "metadata": {},
   "outputs": [],
   "source": [
    "important_genes = (\"TP53\", \"BARD1\", \"BRCA1\", \"MAPK1\", \"CHEK2\", \"SKI\")"
   ]
  },
  {
   "cell_type": "code",
   "execution_count": 62,
   "metadata": {},
   "outputs": [
    {
     "data": {
      "text/html": [
       "<div>\n",
       "<style scoped>\n",
       "    .dataframe tbody tr th:only-of-type {\n",
       "        vertical-align: middle;\n",
       "    }\n",
       "\n",
       "    .dataframe tbody tr th {\n",
       "        vertical-align: top;\n",
       "    }\n",
       "\n",
       "    .dataframe thead th {\n",
       "        text-align: right;\n",
       "    }\n",
       "</style>\n",
       "<table border=\"1\" class=\"dataframe\">\n",
       "  <thead>\n",
       "    <tr style=\"text-align: right;\">\n",
       "      <th></th>\n",
       "      <th>CHROM</th>\n",
       "      <th>POS</th>\n",
       "      <th>ID</th>\n",
       "      <th>REF</th>\n",
       "      <th>ALT</th>\n",
       "      <th>QUAL</th>\n",
       "      <th>FILTER</th>\n",
       "      <th>INFO</th>\n",
       "    </tr>\n",
       "  </thead>\n",
       "  <tbody>\n",
       "    <tr>\n",
       "      <th>0</th>\n",
       "      <td>1</td>\n",
       "      <td>1014012</td>\n",
       "      <td>661610</td>\n",
       "      <td>C</td>\n",
       "      <td>T</td>\n",
       "      <td>.</td>\n",
       "      <td>.</td>\n",
       "      <td>ALLELEID=626468;CLNDISDB=MedGen:C4015293,OMIM:...</td>\n",
       "    </tr>\n",
       "    <tr>\n",
       "      <th>1</th>\n",
       "      <td>1</td>\n",
       "      <td>1014042</td>\n",
       "      <td>475283</td>\n",
       "      <td>G</td>\n",
       "      <td>A</td>\n",
       "      <td>.</td>\n",
       "      <td>.</td>\n",
       "      <td>AF_ESP=0.00546;AF_EXAC=0.00165;AF_TGP=0.00619;...</td>\n",
       "    </tr>\n",
       "    <tr>\n",
       "      <th>2</th>\n",
       "      <td>1</td>\n",
       "      <td>1014047</td>\n",
       "      <td>639487</td>\n",
       "      <td>A</td>\n",
       "      <td>G</td>\n",
       "      <td>.</td>\n",
       "      <td>.</td>\n",
       "      <td>ALLELEID=626469;CLNDISDB=MedGen:C4015293,OMIM:...</td>\n",
       "    </tr>\n",
       "    <tr>\n",
       "      <th>3</th>\n",
       "      <td>1</td>\n",
       "      <td>1014111</td>\n",
       "      <td>659187</td>\n",
       "      <td>G</td>\n",
       "      <td>A</td>\n",
       "      <td>.</td>\n",
       "      <td>.</td>\n",
       "      <td>ALLELEID=626470;CLNDISDB=MedGen:C4015293,OMIM:...</td>\n",
       "    </tr>\n",
       "    <tr>\n",
       "      <th>4</th>\n",
       "      <td>1</td>\n",
       "      <td>1014122</td>\n",
       "      <td>542074</td>\n",
       "      <td>C</td>\n",
       "      <td>T</td>\n",
       "      <td>.</td>\n",
       "      <td>.</td>\n",
       "      <td>AF_ESP=0.00015;AF_EXAC=0.00010;ALLELEID=514926...</td>\n",
       "    </tr>\n",
       "    <tr>\n",
       "      <th>...</th>\n",
       "      <td>...</td>\n",
       "      <td>...</td>\n",
       "      <td>...</td>\n",
       "      <td>...</td>\n",
       "      <td>...</td>\n",
       "      <td>...</td>\n",
       "      <td>...</td>\n",
       "      <td>...</td>\n",
       "    </tr>\n",
       "    <tr>\n",
       "      <th>967</th>\n",
       "      <td>1</td>\n",
       "      <td>2306313</td>\n",
       "      <td>676028</td>\n",
       "      <td>T</td>\n",
       "      <td>C</td>\n",
       "      <td>.</td>\n",
       "      <td>.</td>\n",
       "      <td>ALLELEID=657445;CLNDISDB=MedGen:CN517202;CLNDN...</td>\n",
       "    </tr>\n",
       "    <tr>\n",
       "      <th>968</th>\n",
       "      <td>1</td>\n",
       "      <td>2306534</td>\n",
       "      <td>674447</td>\n",
       "      <td>A</td>\n",
       "      <td>G</td>\n",
       "      <td>.</td>\n",
       "      <td>.</td>\n",
       "      <td>ALLELEID=657350;CLNDISDB=MedGen:CN517202;CLNDN...</td>\n",
       "    </tr>\n",
       "    <tr>\n",
       "      <th>969</th>\n",
       "      <td>1</td>\n",
       "      <td>2306561</td>\n",
       "      <td>388616</td>\n",
       "      <td>C</td>\n",
       "      <td>T</td>\n",
       "      <td>.</td>\n",
       "      <td>.</td>\n",
       "      <td>ALLELEID=364745;CLNDISDB=MedGen:CN169374;CLNDN...</td>\n",
       "    </tr>\n",
       "    <tr>\n",
       "      <th>970</th>\n",
       "      <td>1</td>\n",
       "      <td>2306568</td>\n",
       "      <td>463403</td>\n",
       "      <td>C</td>\n",
       "      <td>G</td>\n",
       "      <td>.</td>\n",
       "      <td>.</td>\n",
       "      <td>ALLELEID=447533;CLNDISDB=MedGen:C1321551,OMIM:...</td>\n",
       "    </tr>\n",
       "    <tr>\n",
       "      <th>971</th>\n",
       "      <td>1</td>\n",
       "      <td>2306585</td>\n",
       "      <td>213699</td>\n",
       "      <td>C</td>\n",
       "      <td>G</td>\n",
       "      <td>.</td>\n",
       "      <td>.</td>\n",
       "      <td>AF_EXAC=0.00367;ALLELEID=209486;CLNDISDB=MedGe...</td>\n",
       "    </tr>\n",
       "  </tbody>\n",
       "</table>\n",
       "<p>972 rows × 8 columns</p>\n",
       "</div>"
      ],
      "text/plain": [
       "     CHROM      POS      ID REF ALT QUAL FILTER  \\\n",
       "0        1  1014012  661610   C   T    .      .   \n",
       "1        1  1014042  475283   G   A    .      .   \n",
       "2        1  1014047  639487   A   G    .      .   \n",
       "3        1  1014111  659187   G   A    .      .   \n",
       "4        1  1014122  542074   C   T    .      .   \n",
       "..     ...      ...     ...  ..  ..  ...    ...   \n",
       "967      1  2306313  676028   T   C    .      .   \n",
       "968      1  2306534  674447   A   G    .      .   \n",
       "969      1  2306561  388616   C   T    .      .   \n",
       "970      1  2306568  463403   C   G    .      .   \n",
       "971      1  2306585  213699   C   G    .      .   \n",
       "\n",
       "                                                  INFO  \n",
       "0    ALLELEID=626468;CLNDISDB=MedGen:C4015293,OMIM:...  \n",
       "1    AF_ESP=0.00546;AF_EXAC=0.00165;AF_TGP=0.00619;...  \n",
       "2    ALLELEID=626469;CLNDISDB=MedGen:C4015293,OMIM:...  \n",
       "3    ALLELEID=626470;CLNDISDB=MedGen:C4015293,OMIM:...  \n",
       "4    AF_ESP=0.00015;AF_EXAC=0.00010;ALLELEID=514926...  \n",
       "..                                                 ...  \n",
       "967  ALLELEID=657445;CLNDISDB=MedGen:CN517202;CLNDN...  \n",
       "968  ALLELEID=657350;CLNDISDB=MedGen:CN517202;CLNDN...  \n",
       "969  ALLELEID=364745;CLNDISDB=MedGen:CN169374;CLNDN...  \n",
       "970  ALLELEID=447533;CLNDISDB=MedGen:C1321551,OMIM:...  \n",
       "971  AF_EXAC=0.00367;ALLELEID=209486;CLNDISDB=MedGe...  \n",
       "\n",
       "[972 rows x 8 columns]"
      ]
     },
     "execution_count": 62,
     "metadata": {},
     "output_type": "execute_result"
    }
   ],
   "source": [
    "vcf_data"
   ]
  },
  {
   "cell_type": "code",
   "execution_count": 61,
   "metadata": {},
   "outputs": [
    {
     "data": {
      "text/plain": [
       "0      [ISG15]\n",
       "1      [ISG15]\n",
       "2      [ISG15]\n",
       "3      [ISG15]\n",
       "4      [ISG15]\n",
       "        ...   \n",
       "967      [SKI]\n",
       "968      [SKI]\n",
       "969      [SKI]\n",
       "970      [SKI]\n",
       "971      [SKI]\n",
       "Name: INFO, Length: 972, dtype: object"
      ]
     },
     "execution_count": 61,
     "metadata": {},
     "output_type": "execute_result"
    }
   ],
   "source": [
    "variant_genes"
   ]
  },
  {
   "cell_type": "code",
   "execution_count": null,
   "metadata": {},
   "outputs": [],
   "source": []
  },
  {
   "cell_type": "code",
   "execution_count": 63,
   "metadata": {},
   "outputs": [],
   "source": [
    "def check_gene(gene_list, sel_genes):\n",
    "    return (len(set(gene_list).intersection(sel_genes)) > 0)"
   ]
  },
  {
   "cell_type": "code",
   "execution_count": 64,
   "metadata": {},
   "outputs": [
    {
     "data": {
      "text/plain": [
       "True"
      ]
     },
     "execution_count": 64,
     "metadata": {},
     "output_type": "execute_result"
    }
   ],
   "source": [
    "check_gene([\"SKI\"], important_genes)"
   ]
  },
  {
   "cell_type": "code",
   "execution_count": 65,
   "metadata": {},
   "outputs": [
    {
     "data": {
      "text/plain": [
       "('TP53', 'BARD1', 'BRCA1', 'MAPK1', 'CHEK2', 'SKI')"
      ]
     },
     "execution_count": 65,
     "metadata": {},
     "output_type": "execute_result"
    }
   ],
   "source": [
    "important_genes"
   ]
  },
  {
   "cell_type": "code",
   "execution_count": 66,
   "metadata": {},
   "outputs": [
    {
     "data": {
      "text/plain": [
       "0      False\n",
       "1      False\n",
       "2      False\n",
       "3      False\n",
       "4      False\n",
       "       ...  \n",
       "967     True\n",
       "968     True\n",
       "969     True\n",
       "970     True\n",
       "971     True\n",
       "Name: INFO, Length: 972, dtype: bool"
      ]
     },
     "execution_count": 66,
     "metadata": {},
     "output_type": "execute_result"
    }
   ],
   "source": [
    "cond_check = variant_genes.apply(check_gene, sel_genes = important_genes)\n",
    "cond_check"
   ]
  },
  {
   "cell_type": "code",
   "execution_count": 67,
   "metadata": {},
   "outputs": [
    {
     "data": {
      "text/html": [
       "<div>\n",
       "<style scoped>\n",
       "    .dataframe tbody tr th:only-of-type {\n",
       "        vertical-align: middle;\n",
       "    }\n",
       "\n",
       "    .dataframe tbody tr th {\n",
       "        vertical-align: top;\n",
       "    }\n",
       "\n",
       "    .dataframe thead th {\n",
       "        text-align: right;\n",
       "    }\n",
       "</style>\n",
       "<table border=\"1\" class=\"dataframe\">\n",
       "  <thead>\n",
       "    <tr style=\"text-align: right;\">\n",
       "      <th></th>\n",
       "      <th>CHROM</th>\n",
       "      <th>POS</th>\n",
       "      <th>ID</th>\n",
       "      <th>REF</th>\n",
       "      <th>ALT</th>\n",
       "      <th>QUAL</th>\n",
       "      <th>FILTER</th>\n",
       "      <th>INFO</th>\n",
       "    </tr>\n",
       "  </thead>\n",
       "  <tbody>\n",
       "    <tr>\n",
       "      <th>705</th>\n",
       "      <td>1</td>\n",
       "      <td>2228718</td>\n",
       "      <td>508030</td>\n",
       "      <td>G</td>\n",
       "      <td>T</td>\n",
       "      <td>.</td>\n",
       "      <td>.</td>\n",
       "      <td>ALLELEID=498427;CLNDISDB=MedGen:CN169374;CLNDN...</td>\n",
       "    </tr>\n",
       "    <tr>\n",
       "      <th>706</th>\n",
       "      <td>1</td>\n",
       "      <td>2228721</td>\n",
       "      <td>680378</td>\n",
       "      <td>C</td>\n",
       "      <td>T</td>\n",
       "      <td>.</td>\n",
       "      <td>.</td>\n",
       "      <td>ALLELEID=655067;CLNDISDB=MedGen:CN517202;CLNDN...</td>\n",
       "    </tr>\n",
       "    <tr>\n",
       "      <th>707</th>\n",
       "      <td>1</td>\n",
       "      <td>2228725</td>\n",
       "      <td>392772</td>\n",
       "      <td>G</td>\n",
       "      <td>A</td>\n",
       "      <td>.</td>\n",
       "      <td>.</td>\n",
       "      <td>ALLELEID=364806;CLNDISDB=MedGen:CN169374;CLNDN...</td>\n",
       "    </tr>\n",
       "    <tr>\n",
       "      <th>708</th>\n",
       "      <td>1</td>\n",
       "      <td>2228739</td>\n",
       "      <td>393061</td>\n",
       "      <td>G</td>\n",
       "      <td>T</td>\n",
       "      <td>.</td>\n",
       "      <td>.</td>\n",
       "      <td>ALLELEID=364809;CLNDISDB=MedGen:CN169374;CLNDN...</td>\n",
       "    </tr>\n",
       "    <tr>\n",
       "      <th>709</th>\n",
       "      <td>1</td>\n",
       "      <td>2228740</td>\n",
       "      <td>508459</td>\n",
       "      <td>G</td>\n",
       "      <td>GAGCGGC</td>\n",
       "      <td>.</td>\n",
       "      <td>.</td>\n",
       "      <td>ALLELEID=498215;CLNDISDB=MedGen:CN169374;CLNDN...</td>\n",
       "    </tr>\n",
       "    <tr>\n",
       "      <th>...</th>\n",
       "      <td>...</td>\n",
       "      <td>...</td>\n",
       "      <td>...</td>\n",
       "      <td>...</td>\n",
       "      <td>...</td>\n",
       "      <td>...</td>\n",
       "      <td>...</td>\n",
       "      <td>...</td>\n",
       "    </tr>\n",
       "    <tr>\n",
       "      <th>967</th>\n",
       "      <td>1</td>\n",
       "      <td>2306313</td>\n",
       "      <td>676028</td>\n",
       "      <td>T</td>\n",
       "      <td>C</td>\n",
       "      <td>.</td>\n",
       "      <td>.</td>\n",
       "      <td>ALLELEID=657445;CLNDISDB=MedGen:CN517202;CLNDN...</td>\n",
       "    </tr>\n",
       "    <tr>\n",
       "      <th>968</th>\n",
       "      <td>1</td>\n",
       "      <td>2306534</td>\n",
       "      <td>674447</td>\n",
       "      <td>A</td>\n",
       "      <td>G</td>\n",
       "      <td>.</td>\n",
       "      <td>.</td>\n",
       "      <td>ALLELEID=657350;CLNDISDB=MedGen:CN517202;CLNDN...</td>\n",
       "    </tr>\n",
       "    <tr>\n",
       "      <th>969</th>\n",
       "      <td>1</td>\n",
       "      <td>2306561</td>\n",
       "      <td>388616</td>\n",
       "      <td>C</td>\n",
       "      <td>T</td>\n",
       "      <td>.</td>\n",
       "      <td>.</td>\n",
       "      <td>ALLELEID=364745;CLNDISDB=MedGen:CN169374;CLNDN...</td>\n",
       "    </tr>\n",
       "    <tr>\n",
       "      <th>970</th>\n",
       "      <td>1</td>\n",
       "      <td>2306568</td>\n",
       "      <td>463403</td>\n",
       "      <td>C</td>\n",
       "      <td>G</td>\n",
       "      <td>.</td>\n",
       "      <td>.</td>\n",
       "      <td>ALLELEID=447533;CLNDISDB=MedGen:C1321551,OMIM:...</td>\n",
       "    </tr>\n",
       "    <tr>\n",
       "      <th>971</th>\n",
       "      <td>1</td>\n",
       "      <td>2306585</td>\n",
       "      <td>213699</td>\n",
       "      <td>C</td>\n",
       "      <td>G</td>\n",
       "      <td>.</td>\n",
       "      <td>.</td>\n",
       "      <td>AF_EXAC=0.00367;ALLELEID=209486;CLNDISDB=MedGe...</td>\n",
       "    </tr>\n",
       "  </tbody>\n",
       "</table>\n",
       "<p>257 rows × 8 columns</p>\n",
       "</div>"
      ],
      "text/plain": [
       "     CHROM      POS      ID REF      ALT QUAL FILTER  \\\n",
       "705      1  2228718  508030   G        T    .      .   \n",
       "706      1  2228721  680378   C        T    .      .   \n",
       "707      1  2228725  392772   G        A    .      .   \n",
       "708      1  2228739  393061   G        T    .      .   \n",
       "709      1  2228740  508459   G  GAGCGGC    .      .   \n",
       "..     ...      ...     ...  ..      ...  ...    ...   \n",
       "967      1  2306313  676028   T        C    .      .   \n",
       "968      1  2306534  674447   A        G    .      .   \n",
       "969      1  2306561  388616   C        T    .      .   \n",
       "970      1  2306568  463403   C        G    .      .   \n",
       "971      1  2306585  213699   C        G    .      .   \n",
       "\n",
       "                                                  INFO  \n",
       "705  ALLELEID=498427;CLNDISDB=MedGen:CN169374;CLNDN...  \n",
       "706  ALLELEID=655067;CLNDISDB=MedGen:CN517202;CLNDN...  \n",
       "707  ALLELEID=364806;CLNDISDB=MedGen:CN169374;CLNDN...  \n",
       "708  ALLELEID=364809;CLNDISDB=MedGen:CN169374;CLNDN...  \n",
       "709  ALLELEID=498215;CLNDISDB=MedGen:CN169374;CLNDN...  \n",
       "..                                                 ...  \n",
       "967  ALLELEID=657445;CLNDISDB=MedGen:CN517202;CLNDN...  \n",
       "968  ALLELEID=657350;CLNDISDB=MedGen:CN517202;CLNDN...  \n",
       "969  ALLELEID=364745;CLNDISDB=MedGen:CN169374;CLNDN...  \n",
       "970  ALLELEID=447533;CLNDISDB=MedGen:C1321551,OMIM:...  \n",
       "971  AF_EXAC=0.00367;ALLELEID=209486;CLNDISDB=MedGe...  \n",
       "\n",
       "[257 rows x 8 columns]"
      ]
     },
     "execution_count": 67,
     "metadata": {},
     "output_type": "execute_result"
    }
   ],
   "source": [
    "vcf_data[cond_check]"
   ]
  },
  {
   "cell_type": "code",
   "execution_count": 68,
   "metadata": {},
   "outputs": [
    {
     "data": {
      "text/html": [
       "<div>\n",
       "<style scoped>\n",
       "    .dataframe tbody tr th:only-of-type {\n",
       "        vertical-align: middle;\n",
       "    }\n",
       "\n",
       "    .dataframe tbody tr th {\n",
       "        vertical-align: top;\n",
       "    }\n",
       "\n",
       "    .dataframe thead th {\n",
       "        text-align: right;\n",
       "    }\n",
       "</style>\n",
       "<table border=\"1\" class=\"dataframe\">\n",
       "  <thead>\n",
       "    <tr style=\"text-align: right;\">\n",
       "      <th></th>\n",
       "      <th>CHROM</th>\n",
       "      <th>POS</th>\n",
       "      <th>ID</th>\n",
       "      <th>REF</th>\n",
       "      <th>ALT</th>\n",
       "      <th>INFO</th>\n",
       "    </tr>\n",
       "  </thead>\n",
       "  <tbody>\n",
       "    <tr>\n",
       "      <th>0</th>\n",
       "      <td>1</td>\n",
       "      <td>1014012</td>\n",
       "      <td>661610</td>\n",
       "      <td>C</td>\n",
       "      <td>T</td>\n",
       "      <td>[ISG15]</td>\n",
       "    </tr>\n",
       "    <tr>\n",
       "      <th>1</th>\n",
       "      <td>1</td>\n",
       "      <td>1014042</td>\n",
       "      <td>475283</td>\n",
       "      <td>G</td>\n",
       "      <td>A</td>\n",
       "      <td>[ISG15]</td>\n",
       "    </tr>\n",
       "    <tr>\n",
       "      <th>2</th>\n",
       "      <td>1</td>\n",
       "      <td>1014047</td>\n",
       "      <td>639487</td>\n",
       "      <td>A</td>\n",
       "      <td>G</td>\n",
       "      <td>[ISG15]</td>\n",
       "    </tr>\n",
       "    <tr>\n",
       "      <th>3</th>\n",
       "      <td>1</td>\n",
       "      <td>1014111</td>\n",
       "      <td>659187</td>\n",
       "      <td>G</td>\n",
       "      <td>A</td>\n",
       "      <td>[ISG15]</td>\n",
       "    </tr>\n",
       "    <tr>\n",
       "      <th>4</th>\n",
       "      <td>1</td>\n",
       "      <td>1014122</td>\n",
       "      <td>542074</td>\n",
       "      <td>C</td>\n",
       "      <td>T</td>\n",
       "      <td>[ISG15]</td>\n",
       "    </tr>\n",
       "    <tr>\n",
       "      <th>...</th>\n",
       "      <td>...</td>\n",
       "      <td>...</td>\n",
       "      <td>...</td>\n",
       "      <td>...</td>\n",
       "      <td>...</td>\n",
       "      <td>...</td>\n",
       "    </tr>\n",
       "    <tr>\n",
       "      <th>967</th>\n",
       "      <td>1</td>\n",
       "      <td>2306313</td>\n",
       "      <td>676028</td>\n",
       "      <td>T</td>\n",
       "      <td>C</td>\n",
       "      <td>[SKI]</td>\n",
       "    </tr>\n",
       "    <tr>\n",
       "      <th>968</th>\n",
       "      <td>1</td>\n",
       "      <td>2306534</td>\n",
       "      <td>674447</td>\n",
       "      <td>A</td>\n",
       "      <td>G</td>\n",
       "      <td>[SKI]</td>\n",
       "    </tr>\n",
       "    <tr>\n",
       "      <th>969</th>\n",
       "      <td>1</td>\n",
       "      <td>2306561</td>\n",
       "      <td>388616</td>\n",
       "      <td>C</td>\n",
       "      <td>T</td>\n",
       "      <td>[SKI]</td>\n",
       "    </tr>\n",
       "    <tr>\n",
       "      <th>970</th>\n",
       "      <td>1</td>\n",
       "      <td>2306568</td>\n",
       "      <td>463403</td>\n",
       "      <td>C</td>\n",
       "      <td>G</td>\n",
       "      <td>[SKI]</td>\n",
       "    </tr>\n",
       "    <tr>\n",
       "      <th>971</th>\n",
       "      <td>1</td>\n",
       "      <td>2306585</td>\n",
       "      <td>213699</td>\n",
       "      <td>C</td>\n",
       "      <td>G</td>\n",
       "      <td>[SKI]</td>\n",
       "    </tr>\n",
       "  </tbody>\n",
       "</table>\n",
       "<p>972 rows × 6 columns</p>\n",
       "</div>"
      ],
      "text/plain": [
       "     CHROM      POS      ID REF ALT     INFO\n",
       "0        1  1014012  661610   C   T  [ISG15]\n",
       "1        1  1014042  475283   G   A  [ISG15]\n",
       "2        1  1014047  639487   A   G  [ISG15]\n",
       "3        1  1014111  659187   G   A  [ISG15]\n",
       "4        1  1014122  542074   C   T  [ISG15]\n",
       "..     ...      ...     ...  ..  ..      ...\n",
       "967      1  2306313  676028   T   C    [SKI]\n",
       "968      1  2306534  674447   A   G    [SKI]\n",
       "969      1  2306561  388616   C   T    [SKI]\n",
       "970      1  2306568  463403   C   G    [SKI]\n",
       "971      1  2306585  213699   C   G    [SKI]\n",
       "\n",
       "[972 rows x 6 columns]"
      ]
     },
     "execution_count": 68,
     "metadata": {},
     "output_type": "execute_result"
    }
   ],
   "source": [
    "vcf_data.loc[:,:\"ALT\"].join(variant_genes)"
   ]
  },
  {
   "cell_type": "code",
   "execution_count": 69,
   "metadata": {},
   "outputs": [
    {
     "data": {
      "text/html": [
       "<div>\n",
       "<style scoped>\n",
       "    .dataframe tbody tr th:only-of-type {\n",
       "        vertical-align: middle;\n",
       "    }\n",
       "\n",
       "    .dataframe tbody tr th {\n",
       "        vertical-align: top;\n",
       "    }\n",
       "\n",
       "    .dataframe thead th {\n",
       "        text-align: right;\n",
       "    }\n",
       "</style>\n",
       "<table border=\"1\" class=\"dataframe\">\n",
       "  <thead>\n",
       "    <tr style=\"text-align: right;\">\n",
       "      <th></th>\n",
       "      <th>CHROM</th>\n",
       "      <th>POS</th>\n",
       "      <th>ID</th>\n",
       "      <th>REF</th>\n",
       "      <th>ALT</th>\n",
       "      <th>INFO</th>\n",
       "    </tr>\n",
       "  </thead>\n",
       "  <tbody>\n",
       "    <tr>\n",
       "      <th>705</th>\n",
       "      <td>1</td>\n",
       "      <td>2228718</td>\n",
       "      <td>508030</td>\n",
       "      <td>G</td>\n",
       "      <td>T</td>\n",
       "      <td>[SKI]</td>\n",
       "    </tr>\n",
       "    <tr>\n",
       "      <th>706</th>\n",
       "      <td>1</td>\n",
       "      <td>2228721</td>\n",
       "      <td>680378</td>\n",
       "      <td>C</td>\n",
       "      <td>T</td>\n",
       "      <td>[SKI]</td>\n",
       "    </tr>\n",
       "    <tr>\n",
       "      <th>707</th>\n",
       "      <td>1</td>\n",
       "      <td>2228725</td>\n",
       "      <td>392772</td>\n",
       "      <td>G</td>\n",
       "      <td>A</td>\n",
       "      <td>[SKI]</td>\n",
       "    </tr>\n",
       "    <tr>\n",
       "      <th>708</th>\n",
       "      <td>1</td>\n",
       "      <td>2228739</td>\n",
       "      <td>393061</td>\n",
       "      <td>G</td>\n",
       "      <td>T</td>\n",
       "      <td>[SKI]</td>\n",
       "    </tr>\n",
       "    <tr>\n",
       "      <th>709</th>\n",
       "      <td>1</td>\n",
       "      <td>2228740</td>\n",
       "      <td>508459</td>\n",
       "      <td>G</td>\n",
       "      <td>GAGCGGC</td>\n",
       "      <td>[SKI]</td>\n",
       "    </tr>\n",
       "    <tr>\n",
       "      <th>...</th>\n",
       "      <td>...</td>\n",
       "      <td>...</td>\n",
       "      <td>...</td>\n",
       "      <td>...</td>\n",
       "      <td>...</td>\n",
       "      <td>...</td>\n",
       "    </tr>\n",
       "    <tr>\n",
       "      <th>967</th>\n",
       "      <td>1</td>\n",
       "      <td>2306313</td>\n",
       "      <td>676028</td>\n",
       "      <td>T</td>\n",
       "      <td>C</td>\n",
       "      <td>[SKI]</td>\n",
       "    </tr>\n",
       "    <tr>\n",
       "      <th>968</th>\n",
       "      <td>1</td>\n",
       "      <td>2306534</td>\n",
       "      <td>674447</td>\n",
       "      <td>A</td>\n",
       "      <td>G</td>\n",
       "      <td>[SKI]</td>\n",
       "    </tr>\n",
       "    <tr>\n",
       "      <th>969</th>\n",
       "      <td>1</td>\n",
       "      <td>2306561</td>\n",
       "      <td>388616</td>\n",
       "      <td>C</td>\n",
       "      <td>T</td>\n",
       "      <td>[SKI]</td>\n",
       "    </tr>\n",
       "    <tr>\n",
       "      <th>970</th>\n",
       "      <td>1</td>\n",
       "      <td>2306568</td>\n",
       "      <td>463403</td>\n",
       "      <td>C</td>\n",
       "      <td>G</td>\n",
       "      <td>[SKI]</td>\n",
       "    </tr>\n",
       "    <tr>\n",
       "      <th>971</th>\n",
       "      <td>1</td>\n",
       "      <td>2306585</td>\n",
       "      <td>213699</td>\n",
       "      <td>C</td>\n",
       "      <td>G</td>\n",
       "      <td>[SKI]</td>\n",
       "    </tr>\n",
       "  </tbody>\n",
       "</table>\n",
       "<p>257 rows × 6 columns</p>\n",
       "</div>"
      ],
      "text/plain": [
       "     CHROM      POS      ID REF      ALT   INFO\n",
       "705      1  2228718  508030   G        T  [SKI]\n",
       "706      1  2228721  680378   C        T  [SKI]\n",
       "707      1  2228725  392772   G        A  [SKI]\n",
       "708      1  2228739  393061   G        T  [SKI]\n",
       "709      1  2228740  508459   G  GAGCGGC  [SKI]\n",
       "..     ...      ...     ...  ..      ...    ...\n",
       "967      1  2306313  676028   T        C  [SKI]\n",
       "968      1  2306534  674447   A        G  [SKI]\n",
       "969      1  2306561  388616   C        T  [SKI]\n",
       "970      1  2306568  463403   C        G  [SKI]\n",
       "971      1  2306585  213699   C        G  [SKI]\n",
       "\n",
       "[257 rows x 6 columns]"
      ]
     },
     "execution_count": 69,
     "metadata": {},
     "output_type": "execute_result"
    }
   ],
   "source": [
    "# select only the columns up to ALT since \n",
    "# we do not need the extra information and\n",
    "# these columns uniquely identify the variant\n",
    "# .loc[:,:\"ALT\"]\n",
    "# add the column with the gene list \n",
    "# .join(variant_genes)\n",
    "# select only the rows that have genes in our\n",
    "# tuple of important genes as retrieved in the \n",
    "# logical vector in the series cond_check\n",
    "# [cond_check]\n",
    "\n",
    "vcf_data.loc[:,:\"ALT\"].join(variant_genes)[cond_check]"
   ]
  },
  {
   "cell_type": "code",
   "execution_count": 70,
   "metadata": {},
   "outputs": [],
   "source": [
    "vcf_data.loc[:,:\"ALT\"].join(variant_genes)[cond_check].to_csv(\"var_sel_genes.tsv\", sep = \"\\t\")"
   ]
  },
  {
   "cell_type": "code",
   "execution_count": null,
   "metadata": {},
   "outputs": [],
   "source": []
  },
  {
   "cell_type": "code",
   "execution_count": null,
   "metadata": {},
   "outputs": [],
   "source": []
  },
  {
   "cell_type": "code",
   "execution_count": null,
   "metadata": {},
   "outputs": [],
   "source": []
  }
 ],
 "metadata": {
  "kernelspec": {
   "display_name": "Python 3 (ipykernel)",
   "language": "python",
   "name": "python3"
  },
  "language_info": {
   "codemirror_mode": {
    "name": "ipython",
    "version": 3
   },
   "file_extension": ".py",
   "mimetype": "text/x-python",
   "name": "python",
   "nbconvert_exporter": "python",
   "pygments_lexer": "ipython3",
   "version": "3.9.12"
  }
 },
 "nbformat": 4,
 "nbformat_minor": 4
}
