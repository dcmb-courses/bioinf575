{
 "cells": [
  {
   "cell_type": "markdown",
   "metadata": {},
   "source": [
    "## Building packages\n",
    "### BIOINF 575 - Fall 2023"
   ]
  },
  {
   "cell_type": "markdown",
   "metadata": {},
   "source": [
    "#### Start coding"
   ]
  },
  {
   "cell_type": "code",
   "execution_count": null,
   "metadata": {},
   "outputs": [],
   "source": [
    "\"\"\"\n",
    "    Gene - A class for demonstration purposes.\n",
    "    The class has 2 attributes:\n",
    "    - symbol - text (str) - the gene symbol\n",
    "    - snp_no - numeric (int) - the number of SNPs known for the gene\n",
    "    \n",
    "    The class allows for the update of the numeric attribute.\n",
    "    - update_snp_no updates snp_no by a given additional number of SNPs\n",
    "\"\"\"\n",
    "class Gene:\n",
    "    def __init__(self, gene_symbol = \"Gene Symbol\", snp_number = 0):\n",
    "        self.symbol = gene_symbol\n",
    "        self.snp_no = snp_number\n",
    "        \n",
    "    def __str__(self):\n",
    "        return f\"Gene object: Gene symbol = '{self.symbol}', Number of SNPs = {self.snp_no}\"\n",
    "        \n",
    "    def __repr__(self):\n",
    "        return f\"Gene('{self.symbol}',{self.snp_no})\"\n",
    "    \n",
    "    def update_snp_no(self, additional_snps = 0):\n",
    "        \"\"\"\n",
    "        Add parameter value to snp_no.\n",
    "\n",
    "        Keyword arguments:\n",
    "        int: additional_snps - the number to add (0)\n",
    "        \n",
    "        Returns:\n",
    "        int: updated snp_no\n",
    "        \"\"\"         \n",
    "        old_value = self.snp_no\n",
    "        try:\n",
    "            self.snp_no = self.snp_no + additional_snps\n",
    "        except TypeError: \n",
    "            self.snp_no = self.snp_no + 1\n",
    "            print(f\"'{additional_snps}' is not a numeric value, we added 1 because at least one new SNP was found.\")\n",
    "        finally:\n",
    "            print(f\"Old value was {old_value}, new value is {self.snp_no}\")\n",
    "        return self.snp_no"
   ]
  },
  {
   "cell_type": "markdown",
   "metadata": {
    "tags": []
   },
   "source": [
    "#### Do more coding"
   ]
  },
  {
   "cell_type": "code",
   "execution_count": null,
   "metadata": {},
   "outputs": [],
   "source": [
    "\"\"\"\n",
    "    EnhancedGene - A class for demonstration purposes.\n",
    "    The class extends the class Gene with the methods:\n",
    "    - update_symbol - updates symbol\n",
    "    - update_snps - updates the snp number given a list of new SNPs\n",
    "    \n",
    "\"\"\"\n",
    "class EnhancedGene(Gene):\n",
    "    \n",
    "    def update_symbol(self, new_symbol = \"\"):\n",
    "        \"\"\"\n",
    "        Change symbol to new_symbol\n",
    "\n",
    "        Keyword arguments:\n",
    "        str: new_symbol - the string to replace the gene symbol, should contain test (\"\")\n",
    "        \n",
    "        Returns:\n",
    "        str: updated gene symbol\n",
    "        \"\"\"        \n",
    "        old_value = self.symbol\n",
    "        try:\n",
    "            self.symbol = new_symbol\n",
    "            index = self.symbol.index(\"test\")\n",
    "        except TypeError: \n",
    "            self.symbol = self.symbol + \" \" + str(new_symbol)\n",
    "            print(f\"'{new_symbol}' is not a string, we made the conversion and added it\")\n",
    "        except ValueError: \n",
    "            self.symbol = self.symbol + \" test\"\n",
    "            print(f\"'{self.symbol}' does not contain 'test', we added 'test' to it\")\n",
    "\n",
    "        finally:\n",
    "            print(f\"Old value was '{old_value}', new value is '{self.symbol}'\")\n",
    "        return self.symbol\n",
    "    \n",
    "\n",
    "    def update_snps(self, snp_list = []):\n",
    "        \"\"\"\n",
    "        Add parameter snp_list length to snp_no.\n",
    "        \n",
    "        Keyword arguments:\n",
    "            list: snp_list -  the list of snps to add \n",
    "        \n",
    "        Returns:\n",
    "            int: updated gene snp_no\n",
    "        \"\"\"\n",
    "        old_snp_no = self.snp_no\n",
    "        try:\n",
    "            self.snp_no += len(snp_list)\n",
    "        except TypeError:\n",
    "            print(\"We did not change the SNP no, no collection of SNPs was provided!\")\n",
    "        else:\n",
    "            print(\"SNP no updated!\")        \n",
    "        finally:\n",
    "            print(f\"Old value for the SNP no was {old_snp_no}, new value is {self.snp_no}.\")\n",
    "        return self.snp_no"
   ]
  },
  {
   "cell_type": "code",
   "execution_count": null,
   "metadata": {},
   "outputs": [],
   "source": []
  },
  {
   "cell_type": "markdown",
   "metadata": {},
   "source": [
    "### From exploration work to production"
   ]
  },
  {
   "cell_type": "markdown",
   "metadata": {},
   "source": [
    "### Packages\n",
    "\n",
    "https://docs.python.org/3/tutorial/modules.html#packages"
   ]
  },
  {
   "cell_type": "markdown",
   "metadata": {},
   "source": [
    "<b>Packages are a way of structuring</b> Python’s module namespace by using “dotted module names”. <b>For example, the module name A.B designates a submodule named B in a package named A</b>. Just like the use of modules saves the authors of different modules from having to worry about each other’s global variable names, the use of dotted module names saves the authors of multi-module packages like NumPy from having to worry about each other’s module names."
   ]
  },
  {
   "cell_type": "code",
   "execution_count": null,
   "metadata": {},
   "outputs": [],
   "source": [
    "!mkdir demo_pkg"
   ]
  },
  {
   "cell_type": "code",
   "execution_count": null,
   "metadata": {},
   "outputs": [],
   "source": [
    "!cp ../session25_building_modules/test.py demo_pkg\n",
    "!cp ../session25_building_modules/gene_module.py demo_pkg\n",
    "!cp ../session25_building_modules/enhanced_gene_module.py demo_pkg"
   ]
  },
  {
   "cell_type": "code",
   "execution_count": null,
   "metadata": {},
   "outputs": [],
   "source": [
    "!touch demo_pkg/__init__.py"
   ]
  },
  {
   "cell_type": "code",
   "execution_count": null,
   "metadata": {},
   "outputs": [],
   "source": [
    "from demo_pkg import test as tt"
   ]
  },
  {
   "cell_type": "code",
   "execution_count": null,
   "metadata": {},
   "outputs": [],
   "source": [
    "tt.test_function(4)"
   ]
  },
  {
   "cell_type": "code",
   "execution_count": null,
   "metadata": {},
   "outputs": [],
   "source": [
    "from demo_pkg import gene_module as gmp"
   ]
  },
  {
   "cell_type": "code",
   "execution_count": null,
   "metadata": {},
   "outputs": [],
   "source": [
    "gmp.Gene()"
   ]
  },
  {
   "cell_type": "code",
   "execution_count": null,
   "metadata": {},
   "outputs": [],
   "source": [
    "dir(gmp)"
   ]
  },
  {
   "cell_type": "code",
   "execution_count": null,
   "metadata": {},
   "outputs": [],
   "source": [
    "# restart kernel\n",
    "\n",
    "from demo_pkg import enhanced_gene_module as egmp"
   ]
  },
  {
   "cell_type": "code",
   "execution_count": null,
   "metadata": {},
   "outputs": [],
   "source": [
    "# dir()"
   ]
  },
  {
   "cell_type": "code",
   "execution_count": null,
   "metadata": {},
   "outputs": [],
   "source": [
    "# dir(egmp)"
   ]
  },
  {
   "cell_type": "code",
   "execution_count": null,
   "metadata": {},
   "outputs": [],
   "source": [
    "# restart kernel\n",
    "# need to add __all__ = [\"test\", \"gene_module\", \"enhanced_gene_module\"] in __init__.py to see the modules\n",
    "\n",
    "\n",
    "from demo_pkg import *\n",
    "\n"
   ]
  },
  {
   "cell_type": "code",
   "execution_count": null,
   "metadata": {},
   "outputs": [],
   "source": [
    "dir()"
   ]
  },
  {
   "cell_type": "code",
   "execution_count": null,
   "metadata": {},
   "outputs": [],
   "source": [
    "gene_module"
   ]
  },
  {
   "cell_type": "code",
   "execution_count": null,
   "metadata": {},
   "outputs": [],
   "source": [
    "gene_module.Gene()"
   ]
  },
  {
   "cell_type": "code",
   "execution_count": null,
   "metadata": {},
   "outputs": [],
   "source": []
  },
  {
   "cell_type": "markdown",
   "metadata": {},
   "source": [
    "### Tool example"
   ]
  },
  {
   "cell_type": "markdown",
   "metadata": {},
   "source": [
    "https://docs.python-guide.org/scenarios/cli/"
   ]
  },
  {
   "cell_type": "code",
   "execution_count": null,
   "metadata": {},
   "outputs": [],
   "source": [
    "!mkdir Project_Gene"
   ]
  },
  {
   "cell_type": "markdown",
   "metadata": {},
   "source": [
    "Copy/move the folder demo_pkg into Project_Gene. <br>\n",
    "Create a file \\_\\_main\\_\\_.py in demo_pkg."
   ]
  },
  {
   "cell_type": "markdown",
   "metadata": {},
   "source": [
    "```python\n",
    "import sys\n",
    "\n",
    "def main(args=None):\n",
    "    \"\"\"The main routine.\"\"\"\n",
    "    if args is None:\n",
    "        args = sys.argv[1:]\n",
    "\n",
    "    print(\"This is the main routine.\")\n",
    "    print(f\"It should do something interesting with the arguments: {args}.\")\n",
    "\n",
    "    # Do argument parsing here (eg. with argparse) and anything else\n",
    "    # you want your project to do.\n",
    "\n",
    "if __name__ == \"__main__\":\n",
    "    main()\n",
    "```"
   ]
  },
  {
   "cell_type": "code",
   "execution_count": null,
   "metadata": {},
   "outputs": [],
   "source": [
    "!pwd"
   ]
  },
  {
   "cell_type": "markdown",
   "metadata": {},
   "source": [
    "The python interpreter has -m module option that will run a package module as a script.\n",
    "It will run the __main__.py module for a package.\n",
    "\n",
    "In the terminal run:\n",
    "\n",
    "```\n",
    "cd Project_Gene\n",
    "python3 -m demo_pkg\n",
    "```\n",
    "\n",
    "\n",
    "then run:\n",
    "\n",
    "```\n",
    "python3 -m demo_pkg arg1 arg2 arg3\n",
    "```"
   ]
  },
  {
   "cell_type": "code",
   "execution_count": null,
   "metadata": {},
   "outputs": [],
   "source": []
  },
  {
   "cell_type": "markdown",
   "metadata": {},
   "source": [
    "Example from:<br>\n",
    "https://chriswarrick.com/blog/2014/09/15/python-apps-the-right-way-entry_points-and-scripts/\n"
   ]
  },
  {
   "cell_type": "markdown",
   "metadata": {},
   "source": [
    "Create another module in demo_pkg\n",
    "\n",
    "```python\n",
    "#!/usr/bin/python3\n",
    "\n",
    "from demo_pkg import enhanced_gene_module as egm_p\n",
    "import sys\n",
    "\n",
    "def another_method(egene):\n",
    "    egene.symbol = \"updated gene symbol\"\n",
    "    egene.update_symbol(\"test BRCA1\")\n",
    "    egene.update_snps([\"rs1\",\"rs2\",\"rs3\"])\n",
    "\n",
    "def main():\n",
    "    print(\"this is another script\")\n",
    "    print(sys.argv)\n",
    "    gene1 = egm_p.EnhancedGene()\n",
    "    another_method(gene1)\n",
    "    print(gene1)\n",
    "    \n",
    "    \n",
    "if __name__ == \"__main__\":\n",
    "    main()\n",
    "```"
   ]
  },
  {
   "cell_type": "code",
   "execution_count": null,
   "metadata": {},
   "outputs": [],
   "source": []
  },
  {
   "cell_type": "markdown",
   "metadata": {},
   "source": [
    "Create setup.py in Project_Gene.\n",
    "\n",
    "`setup.py` is the build script for setuptools. \n",
    "It provides setuptools with parameters which contain information about the package (e.g. name and version).\n",
    "\n",
    "Entry points allow building commandline tools that run funtions from the package modules."
   ]
  },
  {
   "cell_type": "markdown",
   "metadata": {},
   "source": [
    "```python\n",
    "from setuptools import setup\n",
    "\n",
    "setup(name='demo_pkg',\n",
    "      version='0.1.0',\n",
    "      packages=['demo_pkg'],\n",
    "      entry_points={\n",
    "          'console_scripts': [\n",
    "              'test_run = demo_pkg.test:main', \n",
    "              'another_module_run = demo_pkg.another_module:main'              \n",
    "          ]\n",
    "      },\n",
    "      )\n",
    "```"
   ]
  },
  {
   "cell_type": "markdown",
   "metadata": {},
   "source": [
    "```\n",
    "# You could install something with python setup.py -- it is not recommended but things happen. \n",
    "\n",
    "python setup.py install --record files.txt\n",
    "\n",
    "# This will cause all the installed files to be printed to files.txt.\n",
    "# Then when you want to uninstall it simply run the following command (be careful with the 'sudo')\n",
    "\n",
    "cat files.txt | xargs sudo rm -rf\n",
    "```"
   ]
  },
  {
   "cell_type": "code",
   "execution_count": null,
   "metadata": {},
   "outputs": [],
   "source": []
  },
  {
   "cell_type": "markdown",
   "metadata": {},
   "source": [
    "#### A good way to install your package!    \n",
    "\n",
    "In the terminal run:\n",
    "    \n",
    "```\n",
    "pip install .\n",
    "```\n",
    "\n",
    "Then to test your console commands run:\n",
    "\n",
    "```\n",
    "test_run\n",
    "another_module_run\n",
    "```"
   ]
  },
  {
   "cell_type": "code",
   "execution_count": null,
   "metadata": {},
   "outputs": [],
   "source": []
  },
  {
   "cell_type": "markdown",
   "metadata": {},
   "source": [
    "Fix import issue for gene_module by adding package name: package_name.module_name.   \n",
    "Add demo_pkg.gene_module in the enhanced_gene_module.py file "
   ]
  },
  {
   "cell_type": "markdown",
   "metadata": {},
   "source": [
    "In the terminal run the following command to\n",
    "UNINSTALL THE PACKAGE\n",
    "\n",
    "```\n",
    "pip uninstall demo_pkg\n",
    "```\n",
    "\n",
    "Then reinstall the package:\n",
    "    \n",
    "```\n",
    "pip install .\n",
    "```\n",
    "\n",
    "Then run the code again, no error should occur:\n",
    "```\n",
    "another_module_run\n",
    "```"
   ]
  },
  {
   "cell_type": "code",
   "execution_count": null,
   "metadata": {},
   "outputs": [],
   "source": []
  },
  {
   "cell_type": "code",
   "execution_count": null,
   "metadata": {},
   "outputs": [],
   "source": []
  },
  {
   "cell_type": "code",
   "execution_count": null,
   "metadata": {},
   "outputs": [],
   "source": []
  },
  {
   "cell_type": "code",
   "execution_count": null,
   "metadata": {},
   "outputs": [],
   "source": []
  },
  {
   "cell_type": "markdown",
   "metadata": {},
   "source": [
    "\n",
    "Example of a package PyVCF:\n",
    "    \n",
    "https://github.com/jamescasbon/PyVCF/blob/master/setup.py\n",
    "    \n"
   ]
  },
  {
   "cell_type": "markdown",
   "metadata": {},
   "source": [
    "More resources:"
   ]
  },
  {
   "cell_type": "markdown",
   "metadata": {},
   "source": [
    "https://python-packaging-tutorial.readthedocs.io/en/latest/setup_py.html <br>\n",
    "https://python-packaging.readthedocs.io/en/latest/command-line-scripts.html <br>\n",
    "https://www.geeksforgeeks.org/command-line-scripts-python-packaging/ <br>\n",
    "https://www.w3schools.com/python/python_modules.asp <br>\n",
    "https://click.palletsprojects.com/en/7.x/ <br>\n",
    "https://packaging.python.org/tutorials/packaging-projects/\n",
    "https://www.git-tower.com/blog/command-line-cheat-sheet/\n",
    "http://www.yolinux.com/TUTORIALS/unix_for_dos_users.html"
   ]
  },
  {
   "cell_type": "code",
   "execution_count": null,
   "metadata": {},
   "outputs": [],
   "source": []
  }
 ],
 "metadata": {
  "kernelspec": {
   "display_name": "Python 3 (ipykernel)",
   "language": "python",
   "name": "python3"
  },
  "language_info": {
   "codemirror_mode": {
    "name": "ipython",
    "version": 3
   },
   "file_extension": ".py",
   "mimetype": "text/x-python",
   "name": "python",
   "nbconvert_exporter": "python",
   "pygments_lexer": "ipython3",
   "version": "3.9.12"
  }
 },
 "nbformat": 4,
 "nbformat_minor": 4
}
