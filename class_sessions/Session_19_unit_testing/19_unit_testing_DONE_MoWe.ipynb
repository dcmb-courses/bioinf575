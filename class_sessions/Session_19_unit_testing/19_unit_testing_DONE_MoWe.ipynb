{
 "cells": [
  {
   "cell_type": "markdown",
   "id": "35baa1f5-4e17-443b-8460-a613d92764c8",
   "metadata": {},
   "source": [
    "## Unit testing  \n",
    "### BIOINF 575 - Fall 2022"
   ]
  },
  {
   "cell_type": "markdown",
   "id": "c69c6ae5-a45c-492c-942b-99aa3d97d611",
   "metadata": {},
   "source": [
    "Testing is very important in software development because:    \n",
    "* It allows you to verify that your code does what is expected to do. \n",
    "    * If you do not test how would you know?  \n",
    "* It ensures the quality of the software. \n",
    "\n",
    "You have been writing tests from the beginning of this class."
   ]
  },
  {
   "cell_type": "code",
   "execution_count": 3,
   "id": "b3268afd-2607-41f4-bf5e-3d3672e9c495",
   "metadata": {},
   "outputs": [
    {
     "data": {
      "text/plain": [
       "10"
      ]
     },
     "execution_count": 3,
     "metadata": {},
     "output_type": "execute_result"
    }
   ],
   "source": [
    "# compute sum of all numbers from 1 to n\n",
    "n = 4\n",
    "# expected result: 10\n",
    "\n",
    "result = sum(range(1,n+1))\n",
    "result\n"
   ]
  },
  {
   "cell_type": "code",
   "execution_count": 4,
   "id": "2920416d-cb31-4c6b-b55f-97127fdc07b4",
   "metadata": {},
   "outputs": [
    {
     "data": {
      "text/plain": [
       "15"
      ]
     },
     "execution_count": 4,
     "metadata": {},
     "output_type": "execute_result"
    }
   ],
   "source": [
    "# compute sum of all numbers from 1 to n\n",
    "n = 5\n",
    "# expected result: 15\n",
    "\n",
    "result = sum(range(1,n+1))\n",
    "result"
   ]
  },
  {
   "cell_type": "code",
   "execution_count": null,
   "id": "47e13371-acef-4212-867e-40340396bdf8",
   "metadata": {},
   "outputs": [],
   "source": []
  },
  {
   "cell_type": "markdown",
   "id": "4e29fc25-1d36-440c-b32d-a9deb95a7e1e",
   "metadata": {},
   "source": [
    "Why we need testing as an integral part of our project:\n",
    "- You have been writing tests and discarding them once you are done confident the code is correct.\n",
    "    - Test cases are designed and written by developers.\n",
    "- If you make a change to the code later on, you will have to write those tests again.\n",
    "- These test cases you created can be run automatically once written. \n",
    "\n",
    "In python there are multiple packages for testing: \n",
    "* unittest - similar framework as the ones available in other major programming languages (e.g.: JUnit)  \n",
    "* doctest - test-support module with a very different flavor, writing the tests in the documentation\n",
    "* pytest - framework with a lighter-weight syntax for writing tests\n",
    "* ..."
   ]
  },
  {
   "cell_type": "markdown",
   "id": "59446dff-00a6-401a-bcf3-473a55c7a047",
   "metadata": {},
   "source": [
    "<b>A unit test is designed to test a small component of your system, a function </b>     \n",
    "(an analogy would be a lightbulb in your car that goes off when you have something go wrong)\n",
    "\n"
   ]
  },
  {
   "cell_type": "code",
   "execution_count": 5,
   "id": "abac5d92-f48f-4800-9187-ed23f67866a4",
   "metadata": {},
   "outputs": [],
   "source": [
    "# Implement the function - but first consider how you would test it works\n",
    "\n",
    "def computeGCp(seq):\n",
    "    \"\"\" \n",
    "    Compute the GC fraction for a given sequence\n",
    "    The GC fraction is the fraction of Cs and Gs outof \n",
    "    the total number of nucleotides in the sequence\n",
    "    \"\"\"\n",
    "    return (seq.count(\"C\") + seq.count(\"G\"))/len(seq)"
   ]
  },
  {
   "cell_type": "markdown",
   "id": "1b560a97-e930-4107-92a4-114f1c0729c3",
   "metadata": {},
   "source": [
    "#### How do you typically test the function?   \n",
    "##### Call the function with some test data and check the results."
   ]
  },
  {
   "cell_type": "code",
   "execution_count": 6,
   "id": "90bd5aa0-03dd-466b-b67d-f7431a791052",
   "metadata": {},
   "outputs": [
    {
     "data": {
      "text/plain": [
       "0.5"
      ]
     },
     "execution_count": 6,
     "metadata": {},
     "output_type": "execute_result"
    }
   ],
   "source": [
    "sequence = \"CCTT\" # expected result 0.5 = 50% GC content\n",
    "computeGCp(seq = sequence)"
   ]
  },
  {
   "cell_type": "code",
   "execution_count": 7,
   "id": "c8f65497-587e-4d0c-a01c-48e3e53ddce0",
   "metadata": {},
   "outputs": [
    {
     "data": {
      "text/plain": [
       "0.25"
      ]
     },
     "execution_count": 7,
     "metadata": {},
     "output_type": "execute_result"
    }
   ],
   "source": [
    "sequence = \"CGTTAATA\" # expected result 0.25 = 25% GC content\n",
    "computeGCp(seq = sequence)"
   ]
  },
  {
   "cell_type": "code",
   "execution_count": 8,
   "id": "5ba17ff9-730e-4963-86d6-afb25c3e64ec",
   "metadata": {},
   "outputs": [
    {
     "data": {
      "text/plain": [
       "0.0"
      ]
     },
     "execution_count": 8,
     "metadata": {},
     "output_type": "execute_result"
    }
   ],
   "source": [
    "sequence = \"ATT\" # expected result 0 = 0% GC content\n",
    "computeGCp(seq = sequence)"
   ]
  },
  {
   "cell_type": "code",
   "execution_count": 23,
   "id": "06cb5fca-0219-4cb9-addb-d45b3950aa9e",
   "metadata": {},
   "outputs": [],
   "source": [
    "# Implement the function - but first consider how you would test it works\n",
    "\n",
    "def computeGCp(seq):\n",
    "    \"\"\" \n",
    "    Compute the GC fraction for a given sequence\n",
    "    The GC fraction is the fraction of Cs and Gs outof \n",
    "    the total number of nucleotides in the sequence\n",
    "    \"\"\"\n",
    "    return (seq.count(\"C\") + seq.count(\"G\"))/len(seq)"
   ]
  },
  {
   "cell_type": "code",
   "execution_count": 10,
   "id": "9077f195-18bd-4acb-8004-7657447e8ef5",
   "metadata": {},
   "outputs": [
    {
     "data": {
      "text/plain": [
       "1.0"
      ]
     },
     "execution_count": 10,
     "metadata": {},
     "output_type": "execute_result"
    }
   ],
   "source": [
    "# test the function \n",
    "sequence = \"C\" # expected result 1 = 100% GC content\n",
    "computeGCp(seq = sequence)"
   ]
  },
  {
   "cell_type": "code",
   "execution_count": null,
   "id": "1e0006c5-907b-4821-9615-9454e0cf52a3",
   "metadata": {},
   "outputs": [],
   "source": []
  },
  {
   "cell_type": "markdown",
   "id": "8f5fb2af-eacd-42b8-9e5e-f8ac6bce1a9b",
   "metadata": {},
   "source": [
    "#### `assert` allows you to check the result of your function for a given input against the expected output\n",
    "\n",
    "``` python\n",
    " assert condition, message_when_cond_False\n",
    "```\n",
    "\n",
    "https://www.w3schools.com/python/ref_keyword_assert.asp   \n",
    "The `assert` keyword is used when debugging code.\n",
    "\n",
    "The `assert` keyword lets you test if a condition in your code returns True, if not, the program will raise an AssertionError.\n",
    "\n",
    "You can write a message to be written if the code returns False, check the example below.\n",
    "\n"
   ]
  },
  {
   "cell_type": "code",
   "execution_count": 13,
   "id": "55058631-3de4-4f46-95a3-b5df3ebfbb28",
   "metadata": {},
   "outputs": [],
   "source": [
    "assert computeGCp(\"C\") == 1, \"The result should be 1\""
   ]
  },
  {
   "cell_type": "markdown",
   "id": "65e6b47e-ba28-4815-8c94-fe658897fa96",
   "metadata": {},
   "source": [
    "#### We can write a function to test our function:"
   ]
  },
  {
   "cell_type": "code",
   "execution_count": 24,
   "id": "ba6db51f-0c36-4915-86c0-4c1f58fa6afa",
   "metadata": {},
   "outputs": [],
   "source": [
    "def test_CGp(seq, p):\n",
    "    \"\"\"\n",
    "    Testing the compute GC function\n",
    "    Checking if the computed fraction is the same with the expected fraction (p)\n",
    "    \"\"\"\n",
    "    assert computeGCp(seq) == p, f\"The result should be {p}\""
   ]
  },
  {
   "cell_type": "code",
   "execution_count": 25,
   "id": "cf7a5ffa-60b0-406d-94de-e3a7a10ea2e2",
   "metadata": {},
   "outputs": [
    {
     "ename": "AssertionError",
     "evalue": "The result should be 0.2",
     "output_type": "error",
     "traceback": [
      "\u001b[0;31m---------------------------------------------------------------------------\u001b[0m",
      "\u001b[0;31mAssertionError\u001b[0m                            Traceback (most recent call last)",
      "Input \u001b[0;32mIn [25]\u001b[0m, in \u001b[0;36m<cell line: 2>\u001b[0;34m()\u001b[0m\n\u001b[1;32m      1\u001b[0m \u001b[38;5;66;03m# example of failing test where the expected result differs from the computed one\u001b[39;00m\n\u001b[0;32m----> 2\u001b[0m \u001b[43mtest_CGp\u001b[49m\u001b[43m(\u001b[49m\u001b[38;5;124;43m\"\u001b[39;49m\u001b[38;5;124;43mAAT\u001b[39;49m\u001b[38;5;124;43m\"\u001b[39;49m\u001b[43m,\u001b[49m\u001b[43m \u001b[49m\u001b[38;5;241;43m0.2\u001b[39;49m\u001b[43m)\u001b[49m\n",
      "Input \u001b[0;32mIn [24]\u001b[0m, in \u001b[0;36mtest_CGp\u001b[0;34m(seq, p)\u001b[0m\n\u001b[1;32m      1\u001b[0m \u001b[38;5;28;01mdef\u001b[39;00m \u001b[38;5;21mtest_CGp\u001b[39m(seq, p):\n\u001b[1;32m      2\u001b[0m     \u001b[38;5;124;03m\"\"\"\u001b[39;00m\n\u001b[1;32m      3\u001b[0m \u001b[38;5;124;03m    Testing the compute GC function\u001b[39;00m\n\u001b[1;32m      4\u001b[0m \u001b[38;5;124;03m    Checking if the computed fraction is the same with the expected fraction (p)\u001b[39;00m\n\u001b[1;32m      5\u001b[0m \u001b[38;5;124;03m    \"\"\"\u001b[39;00m\n\u001b[0;32m----> 6\u001b[0m     \u001b[38;5;28;01massert\u001b[39;00m computeGCp(seq) \u001b[38;5;241m==\u001b[39m p, \u001b[38;5;124mf\u001b[39m\u001b[38;5;124m\"\u001b[39m\u001b[38;5;124mThe result should be \u001b[39m\u001b[38;5;132;01m{\u001b[39;00mp\u001b[38;5;132;01m}\u001b[39;00m\u001b[38;5;124m\"\u001b[39m\n",
      "\u001b[0;31mAssertionError\u001b[0m: The result should be 0.2"
     ]
    }
   ],
   "source": [
    "# example of failing test where the expected result differs from the computed one\n",
    "test_CGp(\"AAT\", 0.2)"
   ]
  },
  {
   "cell_type": "code",
   "execution_count": 26,
   "id": "fe58d2d0-15d7-4a59-a58d-15fc1e723677",
   "metadata": {},
   "outputs": [],
   "source": [
    "# good test - test that passes\n",
    "test_CGp(\"AAT\", 0)"
   ]
  },
  {
   "cell_type": "code",
   "execution_count": 27,
   "id": "210042a5-81d6-4566-894c-584141762071",
   "metadata": {},
   "outputs": [],
   "source": [
    "# good test\n",
    "test_CGp(\"TTCGAATT\", 0.25)"
   ]
  },
  {
   "cell_type": "markdown",
   "id": "4273eae2-5bc6-4ca2-85c6-47916d0ddb90",
   "metadata": {},
   "source": [
    "* We want tests to cover as many of the edge cases we can and we want them to always run without error\n",
    "\n",
    "* We should run our tests every time we change the code to be sure the existing functionality was not broken\n",
    "\n",
    "* If the code changes the  results should change then tests need to be updated "
   ]
  },
  {
   "cell_type": "markdown",
   "id": "56d2b6c5-cfbf-4a24-aa22-14c8c51fe6d2",
   "metadata": {
    "tags": []
   },
   "source": [
    "#### <font color = \"red\">Exercise</font> \n",
    "We decide we want to make the result a percentage - number between 0 - 100\n",
    "- Make the necessary updates to the code and to the tests"
   ]
  },
  {
   "cell_type": "code",
   "execution_count": 33,
   "id": "744edaa6-02d3-4ecf-a735-4f79f622eb1a",
   "metadata": {},
   "outputs": [],
   "source": [
    "# Implement the function \n",
    "\n",
    "def computeGCp(seq):\n",
    "    \"\"\" \n",
    "    Compute the GC percentage for a given sequence\n",
    "    The GC percentage is the pergentage (0-100) of Cs and Gs \n",
    "    outof the total number of nucleotides in the sequence\n",
    "    \"\"\"\n",
    "    return 100 * (seq.count(\"C\") + seq.count(\"G\"))/len(seq)"
   ]
  },
  {
   "cell_type": "markdown",
   "id": "bc5212cf-7271-4300-a198-ac7e542b3c72",
   "metadata": {},
   "source": [
    "##### Update the following tests"
   ]
  },
  {
   "cell_type": "code",
   "execution_count": 34,
   "id": "585b4c32-ae74-4d36-b807-af092685f2c5",
   "metadata": {},
   "outputs": [],
   "source": [
    "# if we need to change the test_CGp function add it here\n",
    "\n",
    "# we could change the funtion to check against 100 * p however, the function works\n",
    "# it is the function call - for specific parameters that gives us an error"
   ]
  },
  {
   "cell_type": "code",
   "execution_count": null,
   "id": "e96f8a59-ca16-4672-839c-0bad76ddc16f",
   "metadata": {},
   "outputs": [],
   "source": []
  },
  {
   "cell_type": "code",
   "execution_count": 35,
   "id": "5f330860-b107-4ee5-af3f-9fe9ffa9d8b1",
   "metadata": {},
   "outputs": [
    {
     "ename": "AssertionError",
     "evalue": "The result should be 20",
     "output_type": "error",
     "traceback": [
      "\u001b[0;31m---------------------------------------------------------------------------\u001b[0m",
      "\u001b[0;31mAssertionError\u001b[0m                            Traceback (most recent call last)",
      "Input \u001b[0;32mIn [35]\u001b[0m, in \u001b[0;36m<cell line: 2>\u001b[0;34m()\u001b[0m\n\u001b[1;32m      1\u001b[0m \u001b[38;5;66;03m# failing test \u001b[39;00m\n\u001b[0;32m----> 2\u001b[0m \u001b[43mtest_CGp\u001b[49m\u001b[43m(\u001b[49m\u001b[38;5;124;43m\"\u001b[39;49m\u001b[38;5;124;43mAAT\u001b[39;49m\u001b[38;5;124;43m\"\u001b[39;49m\u001b[43m,\u001b[49m\u001b[43m \u001b[49m\u001b[38;5;241;43m20\u001b[39;49m\u001b[43m)\u001b[49m\n",
      "Input \u001b[0;32mIn [24]\u001b[0m, in \u001b[0;36mtest_CGp\u001b[0;34m(seq, p)\u001b[0m\n\u001b[1;32m      1\u001b[0m \u001b[38;5;28;01mdef\u001b[39;00m \u001b[38;5;21mtest_CGp\u001b[39m(seq, p):\n\u001b[1;32m      2\u001b[0m     \u001b[38;5;124;03m\"\"\"\u001b[39;00m\n\u001b[1;32m      3\u001b[0m \u001b[38;5;124;03m    Testing the compute GC function\u001b[39;00m\n\u001b[1;32m      4\u001b[0m \u001b[38;5;124;03m    Checking if the computed fraction is the same with the expected fraction (p)\u001b[39;00m\n\u001b[1;32m      5\u001b[0m \u001b[38;5;124;03m    \"\"\"\u001b[39;00m\n\u001b[0;32m----> 6\u001b[0m     \u001b[38;5;28;01massert\u001b[39;00m computeGCp(seq) \u001b[38;5;241m==\u001b[39m p, \u001b[38;5;124mf\u001b[39m\u001b[38;5;124m\"\u001b[39m\u001b[38;5;124mThe result should be \u001b[39m\u001b[38;5;132;01m{\u001b[39;00mp\u001b[38;5;132;01m}\u001b[39;00m\u001b[38;5;124m\"\u001b[39m\n",
      "\u001b[0;31mAssertionError\u001b[0m: The result should be 20"
     ]
    }
   ],
   "source": [
    "# failing test \n",
    "test_CGp(\"AAT\", 20)"
   ]
  },
  {
   "cell_type": "code",
   "execution_count": 36,
   "id": "64b26550-30d4-4108-b013-724c86d6d7fd",
   "metadata": {},
   "outputs": [],
   "source": [
    "# good test\n",
    "test_CGp(\"AAT\", 0)"
   ]
  },
  {
   "cell_type": "code",
   "execution_count": 37,
   "id": "15e1d996-d97a-403b-963f-a4e8026eb317",
   "metadata": {},
   "outputs": [],
   "source": [
    "# good test\n",
    "test_CGp(\"TTCGAATT\", 25)"
   ]
  },
  {
   "cell_type": "code",
   "execution_count": null,
   "id": "a3b22650-b963-45f3-b79c-368768aed3ff",
   "metadata": {},
   "outputs": [],
   "source": []
  },
  {
   "cell_type": "code",
   "execution_count": null,
   "id": "6948d11d-0c1b-402a-897c-cad0ade92479",
   "metadata": {},
   "outputs": [],
   "source": []
  },
  {
   "cell_type": "markdown",
   "id": "f59d3425-35b1-4b60-a578-26be3c9d0e6d",
   "metadata": {},
   "source": [
    "#### So far, we organized our tests a bit better \n",
    "- we still run tests one by one  \n",
    "- we cannot account automatically for how many tests passed and how many failed unless we run a for loop and handle exceptions"
   ]
  },
  {
   "cell_type": "markdown",
   "id": "dff69151-ee91-44e7-9959-7054eb985854",
   "metadata": {
    "tags": []
   },
   "source": [
    "___ \n",
    "#### unittest\n",
    "\n",
    "https://docs.python.org/3/library/unittest.html\n",
    "\n",
    "`unittest` supports some important concepts in an object-oriented way:\n",
    "\n",
    "* test fixture - \n",
    "A test fixture represents the preparation needed to perform one or more tests, and any associated cleanup actions. This may involve, for example, creating temporary or proxy databases, directories, or starting a server process.\n",
    "\n",
    "* test case - \n",
    "A test case is the individual unit of testing. It checks for a specific response to a particular set of inputs. unittest provides a base class, TestCase, which may be used to create new test cases.\n",
    "\n",
    "* test suite - \n",
    "A test suite is a collection of test cases, test suites, or both. It is used to aggregate tests that should be executed together.\n",
    "\n",
    "* test runner - \n",
    "A test runner is a component which orchestrates the execution of tests and provides the outcome to the user. The runner may use a graphical interface, a textual interface, or return a special value to indicate the results of executing the tests.\n",
    "\n",
    "Examples:   \n",
    "https://realpython.com/python-testing/     \n",
    "https://www.datacamp.com/community/tutorials/unit-testing-python        \n",
    "https://www.geeksforgeeks.org/unit-testing-python-unittest/      \n",
    "https://docs.python-guide.org/writing/tests/      \n",
    "https://www.digitalocean.com/community/tutorials/how-to-use-unittest-to-write-a-test-case-for-a-function-in-python\n",
    "\n"
   ]
  },
  {
   "cell_type": "markdown",
   "id": "8fcbefa6-6145-4f43-a627-8b5ede3517af",
   "metadata": {},
   "source": [
    "#### Let's write a unit test\n",
    "\n",
    "`unittest` has been built into the Python standard library since version 2.1. You’ll probably see it in commercial Python applications and open-source projects.\n",
    "\n",
    "`unittest` contains both a testing framework and a test runner. unittest has some important requirements for writing and executing tests.\n",
    "\n",
    "`unittest` requires that:\n",
    "\n",
    "* You put your tests into classes as methods\n",
    "* You use a series of special assertion methods in the unittest.TestCase class instead of the built-in assert statement\n",
    "\n",
    "To convert the earlier example to a `unittest` test case, you would have to:\n",
    "\n",
    "* Import unittest from the standard library\n",
    "* Create a class called TestComputeGCp that inherits from the TestCase class\n",
    "* Convert the test functions into methods by adding self as the first argument\n",
    "* Change the assertions to use the self.assertEqual() method on the TestCase class"
   ]
  },
  {
   "cell_type": "code",
   "execution_count": 38,
   "id": "6d3ab094-e672-409e-9192-107bb1710657",
   "metadata": {},
   "outputs": [],
   "source": [
    "import unittest\n",
    "\n",
    "\n",
    "class TestComputeGCp(unittest.TestCase):\n",
    "    \"\"\"\n",
    "    Class to test the function computeGCp \n",
    "    Each method in this class will be a test case\n",
    "    \"\"\"\n",
    "    \n",
    "    def test_computeGCp(self, seq, p):\n",
    "        \"\"\"\n",
    "        General test case when we expect a certain percentage\n",
    "        \"\"\"\n",
    "        self.assertEqual(computeGCp(seq), p, f\"The result should be {p}\")\n",
    "\n",
    "    def test_computeGCp_None(self):\n",
    "        \"\"\"\n",
    "        Exceptional case when we have None as the input sequence\n",
    "        \"\"\"\n",
    "        self.assertEqual(computeGCp(None), None, \"The result should be None\")\n"
   ]
  },
  {
   "cell_type": "code",
   "execution_count": 39,
   "id": "cfb6290e-7f98-49de-8f6a-912afe1c4506",
   "metadata": {},
   "outputs": [
    {
     "data": {
      "text/plain": [
       "<__main__.TestComputeGCp testMethod=runTest>"
      ]
     },
     "execution_count": 39,
     "metadata": {},
     "output_type": "execute_result"
    }
   ],
   "source": [
    "t = TestComputeGCp()\n",
    "t"
   ]
  },
  {
   "cell_type": "code",
   "execution_count": 41,
   "id": "e6dcf8c0-d2ff-4113-a892-7df9a3c397f7",
   "metadata": {},
   "outputs": [],
   "source": [
    "t.test_computeGCp(\"GG\", 100)"
   ]
  },
  {
   "cell_type": "code",
   "execution_count": 42,
   "id": "a95c9889-605a-458e-8d63-c974db662e19",
   "metadata": {},
   "outputs": [
    {
     "ename": "AttributeError",
     "evalue": "'NoneType' object has no attribute 'count'",
     "output_type": "error",
     "traceback": [
      "\u001b[0;31m---------------------------------------------------------------------------\u001b[0m",
      "\u001b[0;31mAttributeError\u001b[0m                            Traceback (most recent call last)",
      "Input \u001b[0;32mIn [42]\u001b[0m, in \u001b[0;36m<cell line: 1>\u001b[0;34m()\u001b[0m\n\u001b[0;32m----> 1\u001b[0m \u001b[43mt\u001b[49m\u001b[38;5;241;43m.\u001b[39;49m\u001b[43mtest_computeGCp_None\u001b[49m\u001b[43m(\u001b[49m\u001b[43m)\u001b[49m\n",
      "Input \u001b[0;32mIn [38]\u001b[0m, in \u001b[0;36mTestComputeGCp.test_computeGCp_None\u001b[0;34m(self)\u001b[0m\n\u001b[1;32m     16\u001b[0m \u001b[38;5;28;01mdef\u001b[39;00m \u001b[38;5;21mtest_computeGCp_None\u001b[39m(\u001b[38;5;28mself\u001b[39m):\n\u001b[1;32m     17\u001b[0m     \u001b[38;5;124;03m\"\"\"\u001b[39;00m\n\u001b[1;32m     18\u001b[0m \u001b[38;5;124;03m    Exceptional case when we have None as the input sequence\u001b[39;00m\n\u001b[1;32m     19\u001b[0m \u001b[38;5;124;03m    \"\"\"\u001b[39;00m\n\u001b[0;32m---> 20\u001b[0m     \u001b[38;5;28mself\u001b[39m\u001b[38;5;241m.\u001b[39massertEqual(\u001b[43mcomputeGCp\u001b[49m\u001b[43m(\u001b[49m\u001b[38;5;28;43;01mNone\u001b[39;49;00m\u001b[43m)\u001b[49m, \u001b[38;5;28;01mNone\u001b[39;00m, \u001b[38;5;124m\"\u001b[39m\u001b[38;5;124mThe result should be None\u001b[39m\u001b[38;5;124m\"\u001b[39m)\n",
      "Input \u001b[0;32mIn [33]\u001b[0m, in \u001b[0;36mcomputeGCp\u001b[0;34m(seq)\u001b[0m\n\u001b[1;32m      3\u001b[0m \u001b[38;5;28;01mdef\u001b[39;00m \u001b[38;5;21mcomputeGCp\u001b[39m(seq):\n\u001b[1;32m      4\u001b[0m     \u001b[38;5;124;03m\"\"\" \u001b[39;00m\n\u001b[1;32m      5\u001b[0m \u001b[38;5;124;03m    Compute the GC percentage for a given sequence\u001b[39;00m\n\u001b[1;32m      6\u001b[0m \u001b[38;5;124;03m    The GC percentage is the pergentage (0-100) of Cs and Gs \u001b[39;00m\n\u001b[1;32m      7\u001b[0m \u001b[38;5;124;03m    outof the total number of nucleotides in the sequence\u001b[39;00m\n\u001b[1;32m      8\u001b[0m \u001b[38;5;124;03m    \"\"\"\u001b[39;00m\n\u001b[0;32m----> 9\u001b[0m     \u001b[38;5;28;01mreturn\u001b[39;00m \u001b[38;5;241m100\u001b[39m \u001b[38;5;241m*\u001b[39m (\u001b[43mseq\u001b[49m\u001b[38;5;241;43m.\u001b[39;49m\u001b[43mcount\u001b[49m(\u001b[38;5;124m\"\u001b[39m\u001b[38;5;124mC\u001b[39m\u001b[38;5;124m\"\u001b[39m) \u001b[38;5;241m+\u001b[39m seq\u001b[38;5;241m.\u001b[39mcount(\u001b[38;5;124m\"\u001b[39m\u001b[38;5;124mG\u001b[39m\u001b[38;5;124m\"\u001b[39m))\u001b[38;5;241m/\u001b[39m\u001b[38;5;28mlen\u001b[39m(seq)\n",
      "\u001b[0;31mAttributeError\u001b[0m: 'NoneType' object has no attribute 'count'"
     ]
    }
   ],
   "source": [
    "t.test_computeGCp_None()"
   ]
  },
  {
   "cell_type": "markdown",
   "id": "9f106cbf-d228-40da-9c9e-ceed51759c79",
   "metadata": {},
   "source": [
    "#### <font color = \"red\">Exercise</font> \n",
    "Handle the case when the input is None"
   ]
  },
  {
   "cell_type": "code",
   "execution_count": 48,
   "id": "54ac5d47-e2fc-48ca-9e2f-bd28b30e5ff2",
   "metadata": {},
   "outputs": [],
   "source": [
    "# handle the case when the input is None\n",
    "\n",
    "def computeGCp(seq):\n",
    "    if seq != None:\n",
    "        return 100 * (seq.count(\"C\") + seq.count(\"G\"))/len(seq)"
   ]
  },
  {
   "cell_type": "code",
   "execution_count": 46,
   "id": "a8e9ad3d-b0f3-42f4-9cda-ab7604e0f6b4",
   "metadata": {},
   "outputs": [],
   "source": [
    "t.test_computeGCp_None()"
   ]
  },
  {
   "cell_type": "code",
   "execution_count": null,
   "id": "adcb374e-0d75-4bfd-8f3e-f78ecf58eabb",
   "metadata": {},
   "outputs": [],
   "source": [
    "# try the case when the sequence is an empty string\n",
    "# will this work? - if not handle this \n",
    "t.test_computeGCp(\"\", 0)"
   ]
  },
  {
   "cell_type": "markdown",
   "id": "297fa5b1-e2a1-40d9-8b1a-ef6426898f52",
   "metadata": {
    "tags": []
   },
   "source": [
    "#### <font color = \"red\">Exercise</font> \n",
    "Handle the case when the input is an empty string"
   ]
  },
  {
   "cell_type": "code",
   "execution_count": 50,
   "id": "90542f82-a1c7-4328-8b3c-e418da49880e",
   "metadata": {},
   "outputs": [],
   "source": [
    "# handle the case when the input is an empty string\n",
    "\n",
    "def computeGCp(seq):\n",
    "    if seq != None:\n",
    "        if seq != \"\":\n",
    "            return 100 * (seq.count(\"C\") + seq.count(\"G\"))/len(seq)\n",
    "        else:\n",
    "            return 0"
   ]
  },
  {
   "cell_type": "code",
   "execution_count": 51,
   "id": "40389a86-91c2-4a21-94ee-d4831af03ad6",
   "metadata": {},
   "outputs": [],
   "source": [
    "t.test_computeGCp(\"\", 0)"
   ]
  },
  {
   "cell_type": "code",
   "execution_count": 52,
   "id": "2162317b-0bcf-4993-a258-372d50da0e4d",
   "metadata": {},
   "outputs": [],
   "source": [
    "t.test_computeGCp_None()"
   ]
  },
  {
   "cell_type": "code",
   "execution_count": 53,
   "id": "a2690654-f67f-4035-8c78-7db738121338",
   "metadata": {},
   "outputs": [],
   "source": [
    "t.test_computeGCp(\"GG\", 100)"
   ]
  },
  {
   "cell_type": "code",
   "execution_count": 54,
   "id": "4c23dc3f-63be-4b75-8ee2-cc7c7c5c1b5f",
   "metadata": {},
   "outputs": [],
   "source": [
    "t.test_computeGCp(\"GGTT\", 50)"
   ]
  },
  {
   "cell_type": "code",
   "execution_count": null,
   "id": "f09ae7eb-73e4-4934-bcfd-5610f20f9f12",
   "metadata": {},
   "outputs": [],
   "source": []
  },
  {
   "cell_type": "code",
   "execution_count": null,
   "id": "816b63ec-c0b3-459f-b1bc-0c3d1ae581bb",
   "metadata": {},
   "outputs": [],
   "source": []
  },
  {
   "cell_type": "markdown",
   "id": "30ed8d2b-3990-47d6-a56b-21bf4d33ce96",
   "metadata": {
    "tags": []
   },
   "source": [
    "#### So far, we organized our tests a bit better \n",
    "- we still run tests one by one  \n",
    "- we cannot account automatically for how many tests passed and how many failed unless we run a for loop and handle exceptions"
   ]
  },
  {
   "cell_type": "markdown",
   "id": "8b065d23-3e40-4d14-85b1-9bf761e56717",
   "metadata": {},
   "source": [
    "For a simple way to run the tests use `unittest.main()`\n",
    "- It provides a command-line interface to the test `script`\n",
    "- The code has to be in a script (.py) file and add the following at the end of the file\n",
    "    - this following code will be explained in more detail in a separate session when we talk about modules\n",
    "```python\n",
    "    if __name__ == '__main__':\n",
    "        unittest.main()\n",
    "```"
   ]
  },
  {
   "cell_type": "code",
   "execution_count": 55,
   "id": "76d765c9-c972-4628-ae79-e9048a52abef",
   "metadata": {},
   "outputs": [
    {
     "data": {
      "text/plain": [
       "\u001b[0;31mInit signature:\u001b[0m\n",
       "\u001b[0munittest\u001b[0m\u001b[0;34m.\u001b[0m\u001b[0mmain\u001b[0m\u001b[0;34m(\u001b[0m\u001b[0;34m\u001b[0m\n",
       "\u001b[0;34m\u001b[0m    \u001b[0mmodule\u001b[0m\u001b[0;34m=\u001b[0m\u001b[0;34m'__main__'\u001b[0m\u001b[0;34m,\u001b[0m\u001b[0;34m\u001b[0m\n",
       "\u001b[0;34m\u001b[0m    \u001b[0mdefaultTest\u001b[0m\u001b[0;34m=\u001b[0m\u001b[0;32mNone\u001b[0m\u001b[0;34m,\u001b[0m\u001b[0;34m\u001b[0m\n",
       "\u001b[0;34m\u001b[0m    \u001b[0margv\u001b[0m\u001b[0;34m=\u001b[0m\u001b[0;32mNone\u001b[0m\u001b[0;34m,\u001b[0m\u001b[0;34m\u001b[0m\n",
       "\u001b[0;34m\u001b[0m    \u001b[0mtestRunner\u001b[0m\u001b[0;34m=\u001b[0m\u001b[0;32mNone\u001b[0m\u001b[0;34m,\u001b[0m\u001b[0;34m\u001b[0m\n",
       "\u001b[0;34m\u001b[0m    \u001b[0mtestLoader\u001b[0m\u001b[0;34m=\u001b[0m\u001b[0;34m<\u001b[0m\u001b[0munittest\u001b[0m\u001b[0;34m.\u001b[0m\u001b[0mloader\u001b[0m\u001b[0;34m.\u001b[0m\u001b[0mTestLoader\u001b[0m \u001b[0mobject\u001b[0m \u001b[0mat\u001b[0m \u001b[0;36m0x7f96b97f0700\u001b[0m\u001b[0;34m>\u001b[0m\u001b[0;34m,\u001b[0m\u001b[0;34m\u001b[0m\n",
       "\u001b[0;34m\u001b[0m    \u001b[0mexit\u001b[0m\u001b[0;34m=\u001b[0m\u001b[0;32mTrue\u001b[0m\u001b[0;34m,\u001b[0m\u001b[0;34m\u001b[0m\n",
       "\u001b[0;34m\u001b[0m    \u001b[0mverbosity\u001b[0m\u001b[0;34m=\u001b[0m\u001b[0;36m1\u001b[0m\u001b[0;34m,\u001b[0m\u001b[0;34m\u001b[0m\n",
       "\u001b[0;34m\u001b[0m    \u001b[0mfailfast\u001b[0m\u001b[0;34m=\u001b[0m\u001b[0;32mNone\u001b[0m\u001b[0;34m,\u001b[0m\u001b[0;34m\u001b[0m\n",
       "\u001b[0;34m\u001b[0m    \u001b[0mcatchbreak\u001b[0m\u001b[0;34m=\u001b[0m\u001b[0;32mNone\u001b[0m\u001b[0;34m,\u001b[0m\u001b[0;34m\u001b[0m\n",
       "\u001b[0;34m\u001b[0m    \u001b[0mbuffer\u001b[0m\u001b[0;34m=\u001b[0m\u001b[0;32mNone\u001b[0m\u001b[0;34m,\u001b[0m\u001b[0;34m\u001b[0m\n",
       "\u001b[0;34m\u001b[0m    \u001b[0mwarnings\u001b[0m\u001b[0;34m=\u001b[0m\u001b[0;32mNone\u001b[0m\u001b[0;34m,\u001b[0m\u001b[0;34m\u001b[0m\n",
       "\u001b[0;34m\u001b[0m    \u001b[0;34m*\u001b[0m\u001b[0;34m,\u001b[0m\u001b[0;34m\u001b[0m\n",
       "\u001b[0;34m\u001b[0m    \u001b[0mtb_locals\u001b[0m\u001b[0;34m=\u001b[0m\u001b[0;32mFalse\u001b[0m\u001b[0;34m,\u001b[0m\u001b[0;34m\u001b[0m\n",
       "\u001b[0;34m\u001b[0m\u001b[0;34m)\u001b[0m\u001b[0;34m\u001b[0m\u001b[0;34m\u001b[0m\u001b[0m\n",
       "\u001b[0;31mDocstring:\u001b[0m     \n",
       "A command-line program that runs a set of tests; this is primarily\n",
       "for making test modules conveniently executable.\n",
       "\u001b[0;31mFile:\u001b[0m           ~/opt/anaconda3/lib/python3.9/unittest/main.py\n",
       "\u001b[0;31mType:\u001b[0m           type\n",
       "\u001b[0;31mSubclasses:\u001b[0m     \n"
      ]
     },
     "metadata": {},
     "output_type": "display_data"
    }
   ],
   "source": [
    "unittest.main?"
   ]
  },
  {
   "cell_type": "markdown",
   "id": "a59a7be4-46a0-4660-b027-c7d422a778d7",
   "metadata": {
    "tags": []
   },
   "source": [
    "#### To run all tests and get a summary - we create a script\n",
    "- create a file `test_GC.py` and add the code from the following cell in the file\n",
    "- add the function `computeGCp` to the file\n",
    "- add the above if statement to the end of the file\n",
    "- then run the script using `python test_GC.py`\n",
    "    - you will notice that general tests that have arguments like `test_computeGCp` will not be able to run\n",
    "    - make that test more specific, no arguments, use the sequence \"AACG\" and instead of p the value 50.\n",
    "    "
   ]
  },
  {
   "cell_type": "code",
   "execution_count": null,
   "id": "926c4c64-a1d2-45c2-b6f0-5168ea654552",
   "metadata": {},
   "outputs": [],
   "source": [
    "import unittest\n",
    "\n",
    "\n",
    "class TestComputeGCp(unittest.TestCase):\n",
    "    \"\"\"\n",
    "    Class to test the function computeGCp \n",
    "    Each method in this class will be a test case\n",
    "    \"\"\"\n",
    "    \n",
    "    def test_computeGCp(self, seq, p):\n",
    "        \"\"\"\n",
    "        General test case when we expect a certain percentage\n",
    "        \"\"\"\n",
    "        self.assertEqual(computeGCp(seq), p, f\"The result should be {p}\")\n",
    "\n",
    "    def test_computeGCp_None(self):\n",
    "        \"\"\"\n",
    "        Exceptional case when we have None as the input sequence\n",
    "        \"\"\"\n",
    "        self.assertEqual(computeGCp(None), None, \"The result should be None\")\n",
    "\n"
   ]
  },
  {
   "cell_type": "code",
   "execution_count": null,
   "id": "7ef0dc6a-8ebc-4b17-a41f-62e105008f0c",
   "metadata": {},
   "outputs": [],
   "source": []
  },
  {
   "cell_type": "code",
   "execution_count": null,
   "id": "8133420e-6956-4823-a17b-fdb989c64291",
   "metadata": {},
   "outputs": [],
   "source": []
  },
  {
   "cell_type": "markdown",
   "id": "94fe0565-bbda-4a2c-beff-b368cda6ed5b",
   "metadata": {},
   "source": [
    "____\n",
    "\n",
    "There are multiple assert functions in the unittest package: \n",
    "\n",
    "| Method                    | Checks that          |\n",
    "|---------------------------|----------------------|\n",
    "| assertEqual(a, b)         | a == b               |\n",
    "| assertNotEqual(a, b)      | a != b               |\n",
    "| assertTrue(x)             | bool(x) is True      |\n",
    "| assertFalse(x)            | bool(x) is False     |\n",
    "| assertIs(a, b)            | a is b               |\n",
    "| assertIsNot(a, b)         | a is not b           |\n",
    "| assertIsNone(x)           | x is None            |\n",
    "| assertIsNotNone(x)        | x is not None        |\n",
    "| assertIn(a, b)            | a in b               |\n",
    "| assertNotIn(a, b)         | a not in b           |\n",
    "| assertIsInstance(a, b)    | isinstance(a, b)     |\n",
    "| assertNotIsInstance(a, b) | not isinstance(a, b) |\n",
    "| assertRaises(exc, fun, *args, **kwds) | fun(*args, **kwds) raises exc |\n",
    "| assertAlmostEqual(a, b) | round(a-b, 7) == 0  |\n",
    "...\n",
    "\n",
    "\n",
    "\n",
    "\n",
    "Complete list:   \n",
    "https://kapeli.com/cheat_sheets/Python_unittest_Assertions.docset/Contents/Resources/Documents/index      \n",
    "https://docs.python.org/3/library/unittest.html#unittest.TestCase.debug"
   ]
  },
  {
   "cell_type": "markdown",
   "id": "2370298e-5b14-43c1-8e86-1f3d96c28b9f",
   "metadata": {
    "tags": []
   },
   "source": [
    "#### <font color = \"red\">Exercise</font> \n"
   ]
  },
  {
   "cell_type": "markdown",
   "id": "c4519680-935b-4b72-9a6d-73aee1b611ff",
   "metadata": {
    "tags": []
   },
   "source": [
    "#### Testing the methods of a class/type - we can create a script\n",
    "- create a file `test_string_methods.py` and add the code from the following cell in the file\n",
    "- add the if statement at the end of the file\n",
    "```python\n",
    "    if __name__ == '__main__':\n",
    "        unittest.main()\n",
    "```\n",
    "- then run the script using `python test_string_methods.py`\n"
   ]
  },
  {
   "cell_type": "code",
   "execution_count": 56,
   "id": "458787bb-bec2-4313-b0ac-016f55d255ff",
   "metadata": {},
   "outputs": [],
   "source": [
    "# running this code in a cell in a notebook will just create the class\n",
    "# it will not run any test\n",
    "\n",
    "import unittest\n",
    "\n",
    "class TestStringMethods(unittest.TestCase):\n",
    "\n",
    "    def test_upper(self):\n",
    "        self.assertEqual('aCg'.upper(), 'ACG')\n",
    "\n",
    "    def test_isupper(self):\n",
    "        self.assertTrue('ACGTT'.isupper())\n",
    "        self.assertFalse('acgT'.isupper())\n",
    "\n",
    "    def test_split(self):\n",
    "        s = 'hello world'\n",
    "        self.assertEqual(s.split(), ['hello', 'world'])\n",
    "        # check that s.split fails when the separator is not a string\n",
    "        with self.assertRaises(TypeError):\n",
    "            s.split(2)\n"
   ]
  },
  {
   "cell_type": "code",
   "execution_count": null,
   "id": "bad53716-2689-4182-a2bc-e337f2c5afe6",
   "metadata": {},
   "outputs": [],
   "source": []
  },
  {
   "cell_type": "markdown",
   "id": "a110920c-7e76-4755-81e2-eaf74300aabc",
   "metadata": {
    "tags": []
   },
   "source": [
    "#### Organizing test code\n",
    "https://docs.python.org/3/library/unittest.html#organizing-test-code\n",
    "\n",
    "The basic building blocks of unit testing are test cases — single scenarios that must be set up and checked for correctness. \n",
    "\n",
    "In unittest, test cases are represented by unittest.TestCase instances. To make your own test cases you must write subclasses of TestCase or use FunctionTestCase.\n",
    "\n",
    "The testing code of a TestCase instance should be entirely self contained, such that it can be run either in isolation or in arbitrary combination with any number of other test cases.\n",
    "\n"
   ]
  },
  {
   "cell_type": "markdown",
   "id": "4a41683b-0f7f-4a6a-b748-754a406d80e9",
   "metadata": {},
   "source": [
    "You can put all your tests in a separate cell in your notebook.   \n",
    "When you write scripts or modules or packages you put the tests in different scripts/modules/packages."
   ]
  },
  {
   "cell_type": "code",
   "execution_count": null,
   "id": "548fed72-b325-4c29-8814-6cb2de0073c5",
   "metadata": {},
   "outputs": [],
   "source": []
  },
  {
   "cell_type": "code",
   "execution_count": null,
   "id": "02c8ce7b-f8d1-4e9d-a5f2-260bcc2b13be",
   "metadata": {},
   "outputs": [],
   "source": []
  },
  {
   "cell_type": "markdown",
   "id": "aeea8e97-4925-488f-8843-2b579e946e6d",
   "metadata": {
    "tags": []
   },
   "source": [
    "___ \n",
    "#### pytest\n",
    "\n",
    "https://docs.pytest.org/en/7.2.x/getting-started.html#get-started       \n",
    "https://www.geeksforgeeks.org/getting-started-with-testing-in-python/       \n",
    "https://www.guru99.com/pytest-tutorial.html\n",
    "\n",
    "\"The `pytest` framework makes it easy to write small, readable tests, and can scale to support complex functional testing for applications and libraries.\"\n",
    "\n",
    "\"It supports unittest test cases execution. It has benefits like supporting built in assert statement, filtering of test cases, returning from last failing test etc\"\n",
    "- Very easy to start with because of its simple and easy syntax.\n",
    "- Can run tests in parallel.\n",
    "- Can run a specific test or a subset of tests\n",
    "- Automatically detect tests\n",
    "- Skip tests\n",
    "- Open source\n",
    "\n",
    "\"By default pytest only identifies the file names starting with test_ or ending with _test as the test files. We can explicitly mention other filenames though (explained later). Pytest requires the test method names to start with “test.” All other method names will be ignored even if we explicitly ask to run those methods.\n",
    "\n"
   ]
  },
  {
   "cell_type": "markdown",
   "id": "208379ab-1ae4-4d9f-a916-123823845379",
   "metadata": {
    "tags": []
   },
   "source": [
    "#### Install pytest \n",
    "- run the following command in a terminal      \n",
    "`pip install pytest`"
   ]
  },
  {
   "cell_type": "code",
   "execution_count": 57,
   "id": "0bfd039b-f67c-4def-8586-36915b8d15b5",
   "metadata": {},
   "outputs": [],
   "source": [
    "import pytest"
   ]
  },
  {
   "cell_type": "markdown",
   "id": "d386869c-c592-49c6-9ca7-7b7af21041a2",
   "metadata": {
    "tags": []
   },
   "source": [
    "#### Testing the function `computeGCp` - we can create a script\n",
    "- create a file `test_function.py` and add the code from the following cell in the file\n",
    "- then run the tests in all .py files using `pytest` \n",
    "- if we only want to run the tests thet contain the keyword `answer` we use `pytest -k 'answer'`\n",
    "- you can also run the tests in all files if you add to the script `import pytest` and the if statement for `__name__ == \"__main__\"` with `pytest.main()` under if and then run the script using `python test_function.py`\n",
    "\n",
    "\n",
    "\n"
   ]
  },
  {
   "cell_type": "code",
   "execution_count": null,
   "id": "b0b9a812-bdf0-4030-b3d0-c24b4f9cfe7a",
   "metadata": {},
   "outputs": [],
   "source": [
    "def computeGCp(seq):\n",
    "    return (seq.count(\"C\") + seq.count(\"G\"))/len(seq)\n",
    "\n",
    "\n",
    "def test_answer():\n",
    "    assert computeGCp(\"CCG\") == 1\n",
    "    \n",
    "def test_answer2():\n",
    "    assert computeGCp(\"AAATT\") == 0"
   ]
  },
  {
   "cell_type": "code",
   "execution_count": null,
   "id": "109b2cee-3a40-469c-96c6-6de1531beaa7",
   "metadata": {},
   "outputs": [],
   "source": []
  },
  {
   "cell_type": "markdown",
   "id": "d45df46a-1794-4229-9cca-b3f743f631d6",
   "metadata": {},
   "source": [
    "#### Summary\n",
    "\n",
    "- Practice test-driven development - write your tests before the code\n",
    "- Write independent tests\n",
    "- Automate your testing\n",
    "- Test individual units - functions/modules but also test the whole system to make sure all components work well together\n",
    "- Do not discard a test because it fails when you change the code - update the test if needed or correct the code - even write new tests if necessary\n",
    "- You should strive to write tests that run most if not all your code\n",
    "    - There are tools that provide a test coverage metric that tells us how much code did our tests run/test\n",
    "        - https://www.pythontutorial.net/python-unit-testing/python-unittest-coverage/\n",
    "        - https://www.pythontutorial.net/python-unit-testing/python-unittest-coverage/"
   ]
  },
  {
   "cell_type": "markdown",
   "id": "a9c9cd7d-efc6-49d0-9833-ff648af3005f",
   "metadata": {},
   "source": [
    "| Automated                                                                                                                                        |  Manual Testing                                                                                               |\n",
    "|--------------------------------------------------------------------------------------------------------------------------------------------------|---------------------------------------------------------------------------------------------------------------|\n",
    "| Test automation software along with testing tools executes the test cases.                                                                       | Explicitly humans involved in executing the tests step by step, and they may be testing without test scripts. |\n",
    "| Test cases are written by QA engineers but execution is fully automatic and it is quite faster and will run for n number of different scenarios. | Analysts and QA engineers need to get involved in end-to-end testing and time consuming.                      |\n",
    "\n",
    "\n",
    "\n",
    "| Unit Tests                                                                                                                        |  Integration Tests                                                                                                                                                                      |\n",
    "|-----------------------------------------------------------------------------------------------------------------------------------|-----------------------------------------------------------------------------------------------------------------------------------------------------------------------------------------|\n",
    "| Unit testing works on component by component basis and hence if any small component to be tested, we need to go for unit testing. | Integration testing works on the whole component, we can conclude as many unit tests make integration testing. And also a software is complete if whole integration testing is complete |\n",
    "| Testing of addition calculation alone in a calculator program for specific set of arguments                                       | Testing of all arithmetic operations like addition, subtraction etc., (whatever present in calculator program) with different set of arguments                                          |"
   ]
  },
  {
   "cell_type": "code",
   "execution_count": null,
   "id": "f921dd8c-861c-4f93-80e4-7d42ae7751ab",
   "metadata": {},
   "outputs": [],
   "source": []
  },
  {
   "cell_type": "code",
   "execution_count": 58,
   "id": "b5881ff1-2032-42ac-8e3d-d890b5d83efe",
   "metadata": {},
   "outputs": [],
   "source": [
    "import pandas as pd\n",
    "\n",
    "df = pd.DataFrame()"
   ]
  },
  {
   "cell_type": "code",
   "execution_count": 63,
   "id": "0f1ff5f2-739b-4e43-9bf1-f26e0dc9114f",
   "metadata": {
    "collapsed": true,
    "jupyter": {
     "outputs_hidden": true
    },
    "tags": []
   },
   "outputs": [
    {
     "data": {
      "text/plain": [
       "\u001b[0;31mSignature:\u001b[0m\n",
       "\u001b[0mdf\u001b[0m\u001b[0;34m.\u001b[0m\u001b[0mjoin\u001b[0m\u001b[0;34m(\u001b[0m\u001b[0;34m\u001b[0m\n",
       "\u001b[0;34m\u001b[0m    \u001b[0mother\u001b[0m\u001b[0;34m:\u001b[0m \u001b[0;34m'DataFrame | Series'\u001b[0m\u001b[0;34m,\u001b[0m\u001b[0;34m\u001b[0m\n",
       "\u001b[0;34m\u001b[0m    \u001b[0mon\u001b[0m\u001b[0;34m:\u001b[0m \u001b[0;34m'IndexLabel | None'\u001b[0m \u001b[0;34m=\u001b[0m \u001b[0;32mNone\u001b[0m\u001b[0;34m,\u001b[0m\u001b[0;34m\u001b[0m\n",
       "\u001b[0;34m\u001b[0m    \u001b[0mhow\u001b[0m\u001b[0;34m:\u001b[0m \u001b[0;34m'str'\u001b[0m \u001b[0;34m=\u001b[0m \u001b[0;34m'left'\u001b[0m\u001b[0;34m,\u001b[0m\u001b[0;34m\u001b[0m\n",
       "\u001b[0;34m\u001b[0m    \u001b[0mlsuffix\u001b[0m\u001b[0;34m:\u001b[0m \u001b[0;34m'str'\u001b[0m \u001b[0;34m=\u001b[0m \u001b[0;34m''\u001b[0m\u001b[0;34m,\u001b[0m\u001b[0;34m\u001b[0m\n",
       "\u001b[0;34m\u001b[0m    \u001b[0mrsuffix\u001b[0m\u001b[0;34m:\u001b[0m \u001b[0;34m'str'\u001b[0m \u001b[0;34m=\u001b[0m \u001b[0;34m''\u001b[0m\u001b[0;34m,\u001b[0m\u001b[0;34m\u001b[0m\n",
       "\u001b[0;34m\u001b[0m    \u001b[0msort\u001b[0m\u001b[0;34m:\u001b[0m \u001b[0;34m'bool'\u001b[0m \u001b[0;34m=\u001b[0m \u001b[0;32mFalse\u001b[0m\u001b[0;34m,\u001b[0m\u001b[0;34m\u001b[0m\n",
       "\u001b[0;34m\u001b[0m\u001b[0;34m)\u001b[0m \u001b[0;34m->\u001b[0m \u001b[0;34m'DataFrame'\u001b[0m\u001b[0;34m\u001b[0m\u001b[0;34m\u001b[0m\u001b[0m\n",
       "\u001b[0;31mDocstring:\u001b[0m\n",
       "Join columns of another DataFrame.\n",
       "\n",
       "Join columns with `other` DataFrame either on index or on a key\n",
       "column. Efficiently join multiple DataFrame objects by index at once by\n",
       "passing a list.\n",
       "\n",
       "Parameters\n",
       "----------\n",
       "other : DataFrame, Series, or list of DataFrame\n",
       "    Index should be similar to one of the columns in this one. If a\n",
       "    Series is passed, its name attribute must be set, and that will be\n",
       "    used as the column name in the resulting joined DataFrame.\n",
       "on : str, list of str, or array-like, optional\n",
       "    Column or index level name(s) in the caller to join on the index\n",
       "    in `other`, otherwise joins index-on-index. If multiple\n",
       "    values given, the `other` DataFrame must have a MultiIndex. Can\n",
       "    pass an array as the join key if it is not already contained in\n",
       "    the calling DataFrame. Like an Excel VLOOKUP operation.\n",
       "how : {'left', 'right', 'outer', 'inner'}, default 'left'\n",
       "    How to handle the operation of the two objects.\n",
       "\n",
       "    * left: use calling frame's index (or column if on is specified)\n",
       "    * right: use `other`'s index.\n",
       "    * outer: form union of calling frame's index (or column if on is\n",
       "      specified) with `other`'s index, and sort it.\n",
       "      lexicographically.\n",
       "    * inner: form intersection of calling frame's index (or column if\n",
       "      on is specified) with `other`'s index, preserving the order\n",
       "      of the calling's one.\n",
       "    * cross: creates the cartesian product from both frames, preserves the order\n",
       "      of the left keys.\n",
       "\n",
       "      .. versionadded:: 1.2.0\n",
       "\n",
       "lsuffix : str, default ''\n",
       "    Suffix to use from left frame's overlapping columns.\n",
       "rsuffix : str, default ''\n",
       "    Suffix to use from right frame's overlapping columns.\n",
       "sort : bool, default False\n",
       "    Order result DataFrame lexicographically by the join key. If False,\n",
       "    the order of the join key depends on the join type (how keyword).\n",
       "\n",
       "Returns\n",
       "-------\n",
       "DataFrame\n",
       "    A dataframe containing columns from both the caller and `other`.\n",
       "\n",
       "See Also\n",
       "--------\n",
       "DataFrame.merge : For column(s)-on-column(s) operations.\n",
       "\n",
       "Notes\n",
       "-----\n",
       "Parameters `on`, `lsuffix`, and `rsuffix` are not supported when\n",
       "passing a list of `DataFrame` objects.\n",
       "\n",
       "Support for specifying index levels as the `on` parameter was added\n",
       "in version 0.23.0.\n",
       "\n",
       "Examples\n",
       "--------\n",
       ">>> df = pd.DataFrame({'key': ['K0', 'K1', 'K2', 'K3', 'K4', 'K5'],\n",
       "...                    'A': ['A0', 'A1', 'A2', 'A3', 'A4', 'A5']})\n",
       "\n",
       ">>> df\n",
       "  key   A\n",
       "0  K0  A0\n",
       "1  K1  A1\n",
       "2  K2  A2\n",
       "3  K3  A3\n",
       "4  K4  A4\n",
       "5  K5  A5\n",
       "\n",
       ">>> other = pd.DataFrame({'key': ['K0', 'K1', 'K2'],\n",
       "...                       'B': ['B0', 'B1', 'B2']})\n",
       "\n",
       ">>> other\n",
       "  key   B\n",
       "0  K0  B0\n",
       "1  K1  B1\n",
       "2  K2  B2\n",
       "\n",
       "Join DataFrames using their indexes.\n",
       "\n",
       ">>> df.join(other, lsuffix='_caller', rsuffix='_other')\n",
       "  key_caller   A key_other    B\n",
       "0         K0  A0        K0   B0\n",
       "1         K1  A1        K1   B1\n",
       "2         K2  A2        K2   B2\n",
       "3         K3  A3       NaN  NaN\n",
       "4         K4  A4       NaN  NaN\n",
       "5         K5  A5       NaN  NaN\n",
       "\n",
       "If we want to join using the key columns, we need to set key to be\n",
       "the index in both `df` and `other`. The joined DataFrame will have\n",
       "key as its index.\n",
       "\n",
       ">>> df.set_index('key').join(other.set_index('key'))\n",
       "      A    B\n",
       "key\n",
       "K0   A0   B0\n",
       "K1   A1   B1\n",
       "K2   A2   B2\n",
       "K3   A3  NaN\n",
       "K4   A4  NaN\n",
       "K5   A5  NaN\n",
       "\n",
       "Another option to join using the key columns is to use the `on`\n",
       "parameter. DataFrame.join always uses `other`'s index but we can use\n",
       "any column in `df`. This method preserves the original DataFrame's\n",
       "index in the result.\n",
       "\n",
       ">>> df.join(other.set_index('key'), on='key')\n",
       "  key   A    B\n",
       "0  K0  A0   B0\n",
       "1  K1  A1   B1\n",
       "2  K2  A2   B2\n",
       "3  K3  A3  NaN\n",
       "4  K4  A4  NaN\n",
       "5  K5  A5  NaN\n",
       "\n",
       "Using non-unique key values shows how they are matched.\n",
       "\n",
       ">>> df = pd.DataFrame({'key': ['K0', 'K1', 'K1', 'K3', 'K0', 'K1'],\n",
       "...                    'A': ['A0', 'A1', 'A2', 'A3', 'A4', 'A5']})\n",
       "\n",
       ">>> df\n",
       "  key   A\n",
       "0  K0  A0\n",
       "1  K1  A1\n",
       "2  K1  A2\n",
       "3  K3  A3\n",
       "4  K0  A4\n",
       "5  K1  A5\n",
       "\n",
       ">>> df.join(other.set_index('key'), on='key')\n",
       "  key   A    B\n",
       "0  K0  A0   B0\n",
       "1  K1  A1   B1\n",
       "2  K1  A2   B1\n",
       "3  K3  A3  NaN\n",
       "4  K0  A4   B0\n",
       "5  K1  A5   B1\n",
       "\u001b[0;31mFile:\u001b[0m      ~/opt/anaconda3/lib/python3.9/site-packages/pandas/core/frame.py\n",
       "\u001b[0;31mType:\u001b[0m      method\n"
      ]
     },
     "metadata": {},
     "output_type": "display_data"
    }
   ],
   "source": [
    "df.join?"
   ]
  },
  {
   "cell_type": "code",
   "execution_count": 60,
   "id": "10ce78bd-0fda-4a44-9996-16730e7703b1",
   "metadata": {
    "collapsed": true,
    "jupyter": {
     "outputs_hidden": true
    },
    "tags": []
   },
   "outputs": [
    {
     "data": {
      "text/plain": [
       "\u001b[0;31mSignature:\u001b[0m\n",
       "\u001b[0mdf\u001b[0m\u001b[0;34m.\u001b[0m\u001b[0mmerge\u001b[0m\u001b[0;34m(\u001b[0m\u001b[0;34m\u001b[0m\n",
       "\u001b[0;34m\u001b[0m    \u001b[0mright\u001b[0m\u001b[0;34m:\u001b[0m \u001b[0;34m'DataFrame | Series'\u001b[0m\u001b[0;34m,\u001b[0m\u001b[0;34m\u001b[0m\n",
       "\u001b[0;34m\u001b[0m    \u001b[0mhow\u001b[0m\u001b[0;34m:\u001b[0m \u001b[0;34m'str'\u001b[0m \u001b[0;34m=\u001b[0m \u001b[0;34m'inner'\u001b[0m\u001b[0;34m,\u001b[0m\u001b[0;34m\u001b[0m\n",
       "\u001b[0;34m\u001b[0m    \u001b[0mon\u001b[0m\u001b[0;34m:\u001b[0m \u001b[0;34m'IndexLabel | None'\u001b[0m \u001b[0;34m=\u001b[0m \u001b[0;32mNone\u001b[0m\u001b[0;34m,\u001b[0m\u001b[0;34m\u001b[0m\n",
       "\u001b[0;34m\u001b[0m    \u001b[0mleft_on\u001b[0m\u001b[0;34m:\u001b[0m \u001b[0;34m'IndexLabel | None'\u001b[0m \u001b[0;34m=\u001b[0m \u001b[0;32mNone\u001b[0m\u001b[0;34m,\u001b[0m\u001b[0;34m\u001b[0m\n",
       "\u001b[0;34m\u001b[0m    \u001b[0mright_on\u001b[0m\u001b[0;34m:\u001b[0m \u001b[0;34m'IndexLabel | None'\u001b[0m \u001b[0;34m=\u001b[0m \u001b[0;32mNone\u001b[0m\u001b[0;34m,\u001b[0m\u001b[0;34m\u001b[0m\n",
       "\u001b[0;34m\u001b[0m    \u001b[0mleft_index\u001b[0m\u001b[0;34m:\u001b[0m \u001b[0;34m'bool'\u001b[0m \u001b[0;34m=\u001b[0m \u001b[0;32mFalse\u001b[0m\u001b[0;34m,\u001b[0m\u001b[0;34m\u001b[0m\n",
       "\u001b[0;34m\u001b[0m    \u001b[0mright_index\u001b[0m\u001b[0;34m:\u001b[0m \u001b[0;34m'bool'\u001b[0m \u001b[0;34m=\u001b[0m \u001b[0;32mFalse\u001b[0m\u001b[0;34m,\u001b[0m\u001b[0;34m\u001b[0m\n",
       "\u001b[0;34m\u001b[0m    \u001b[0msort\u001b[0m\u001b[0;34m:\u001b[0m \u001b[0;34m'bool'\u001b[0m \u001b[0;34m=\u001b[0m \u001b[0;32mFalse\u001b[0m\u001b[0;34m,\u001b[0m\u001b[0;34m\u001b[0m\n",
       "\u001b[0;34m\u001b[0m    \u001b[0msuffixes\u001b[0m\u001b[0;34m:\u001b[0m \u001b[0;34m'Suffixes'\u001b[0m \u001b[0;34m=\u001b[0m \u001b[0;34m(\u001b[0m\u001b[0;34m'_x'\u001b[0m\u001b[0;34m,\u001b[0m \u001b[0;34m'_y'\u001b[0m\u001b[0;34m)\u001b[0m\u001b[0;34m,\u001b[0m\u001b[0;34m\u001b[0m\n",
       "\u001b[0;34m\u001b[0m    \u001b[0mcopy\u001b[0m\u001b[0;34m:\u001b[0m \u001b[0;34m'bool'\u001b[0m \u001b[0;34m=\u001b[0m \u001b[0;32mTrue\u001b[0m\u001b[0;34m,\u001b[0m\u001b[0;34m\u001b[0m\n",
       "\u001b[0;34m\u001b[0m    \u001b[0mindicator\u001b[0m\u001b[0;34m:\u001b[0m \u001b[0;34m'bool'\u001b[0m \u001b[0;34m=\u001b[0m \u001b[0;32mFalse\u001b[0m\u001b[0;34m,\u001b[0m\u001b[0;34m\u001b[0m\n",
       "\u001b[0;34m\u001b[0m    \u001b[0mvalidate\u001b[0m\u001b[0;34m:\u001b[0m \u001b[0;34m'str | None'\u001b[0m \u001b[0;34m=\u001b[0m \u001b[0;32mNone\u001b[0m\u001b[0;34m,\u001b[0m\u001b[0;34m\u001b[0m\n",
       "\u001b[0;34m\u001b[0m\u001b[0;34m)\u001b[0m \u001b[0;34m->\u001b[0m \u001b[0;34m'DataFrame'\u001b[0m\u001b[0;34m\u001b[0m\u001b[0;34m\u001b[0m\u001b[0m\n",
       "\u001b[0;31mDocstring:\u001b[0m\n",
       "Merge DataFrame or named Series objects with a database-style join.\n",
       "\n",
       "A named Series object is treated as a DataFrame with a single named column.\n",
       "\n",
       "The join is done on columns or indexes. If joining columns on\n",
       "columns, the DataFrame indexes *will be ignored*. Otherwise if joining indexes\n",
       "on indexes or indexes on a column or columns, the index will be passed on.\n",
       "When performing a cross merge, no column specifications to merge on are\n",
       "allowed.\n",
       "\n",
       ".. warning::\n",
       "\n",
       "    If both key columns contain rows where the key is a null value, those\n",
       "    rows will be matched against each other. This is different from usual SQL\n",
       "    join behaviour and can lead to unexpected results.\n",
       "\n",
       "Parameters\n",
       "----------\n",
       "right : DataFrame or named Series\n",
       "    Object to merge with.\n",
       "how : {'left', 'right', 'outer', 'inner', 'cross'}, default 'inner'\n",
       "    Type of merge to be performed.\n",
       "\n",
       "    * left: use only keys from left frame, similar to a SQL left outer join;\n",
       "      preserve key order.\n",
       "    * right: use only keys from right frame, similar to a SQL right outer join;\n",
       "      preserve key order.\n",
       "    * outer: use union of keys from both frames, similar to a SQL full outer\n",
       "      join; sort keys lexicographically.\n",
       "    * inner: use intersection of keys from both frames, similar to a SQL inner\n",
       "      join; preserve the order of the left keys.\n",
       "    * cross: creates the cartesian product from both frames, preserves the order\n",
       "      of the left keys.\n",
       "\n",
       "      .. versionadded:: 1.2.0\n",
       "\n",
       "on : label or list\n",
       "    Column or index level names to join on. These must be found in both\n",
       "    DataFrames. If `on` is None and not merging on indexes then this defaults\n",
       "    to the intersection of the columns in both DataFrames.\n",
       "left_on : label or list, or array-like\n",
       "    Column or index level names to join on in the left DataFrame. Can also\n",
       "    be an array or list of arrays of the length of the left DataFrame.\n",
       "    These arrays are treated as if they are columns.\n",
       "right_on : label or list, or array-like\n",
       "    Column or index level names to join on in the right DataFrame. Can also\n",
       "    be an array or list of arrays of the length of the right DataFrame.\n",
       "    These arrays are treated as if they are columns.\n",
       "left_index : bool, default False\n",
       "    Use the index from the left DataFrame as the join key(s). If it is a\n",
       "    MultiIndex, the number of keys in the other DataFrame (either the index\n",
       "    or a number of columns) must match the number of levels.\n",
       "right_index : bool, default False\n",
       "    Use the index from the right DataFrame as the join key. Same caveats as\n",
       "    left_index.\n",
       "sort : bool, default False\n",
       "    Sort the join keys lexicographically in the result DataFrame. If False,\n",
       "    the order of the join keys depends on the join type (how keyword).\n",
       "suffixes : list-like, default is (\"_x\", \"_y\")\n",
       "    A length-2 sequence where each element is optionally a string\n",
       "    indicating the suffix to add to overlapping column names in\n",
       "    `left` and `right` respectively. Pass a value of `None` instead\n",
       "    of a string to indicate that the column name from `left` or\n",
       "    `right` should be left as-is, with no suffix. At least one of the\n",
       "    values must not be None.\n",
       "copy : bool, default True\n",
       "    If False, avoid copy if possible.\n",
       "indicator : bool or str, default False\n",
       "    If True, adds a column to the output DataFrame called \"_merge\" with\n",
       "    information on the source of each row. The column can be given a different\n",
       "    name by providing a string argument. The column will have a Categorical\n",
       "    type with the value of \"left_only\" for observations whose merge key only\n",
       "    appears in the left DataFrame, \"right_only\" for observations\n",
       "    whose merge key only appears in the right DataFrame, and \"both\"\n",
       "    if the observation's merge key is found in both DataFrames.\n",
       "\n",
       "validate : str, optional\n",
       "    If specified, checks if merge is of specified type.\n",
       "\n",
       "    * \"one_to_one\" or \"1:1\": check if merge keys are unique in both\n",
       "      left and right datasets.\n",
       "    * \"one_to_many\" or \"1:m\": check if merge keys are unique in left\n",
       "      dataset.\n",
       "    * \"many_to_one\" or \"m:1\": check if merge keys are unique in right\n",
       "      dataset.\n",
       "    * \"many_to_many\" or \"m:m\": allowed, but does not result in checks.\n",
       "\n",
       "Returns\n",
       "-------\n",
       "DataFrame\n",
       "    A DataFrame of the two merged objects.\n",
       "\n",
       "See Also\n",
       "--------\n",
       "merge_ordered : Merge with optional filling/interpolation.\n",
       "merge_asof : Merge on nearest keys.\n",
       "DataFrame.join : Similar method using indices.\n",
       "\n",
       "Notes\n",
       "-----\n",
       "Support for specifying index levels as the `on`, `left_on`, and\n",
       "`right_on` parameters was added in version 0.23.0\n",
       "Support for merging named Series objects was added in version 0.24.0\n",
       "\n",
       "Examples\n",
       "--------\n",
       ">>> df1 = pd.DataFrame({'lkey': ['foo', 'bar', 'baz', 'foo'],\n",
       "...                     'value': [1, 2, 3, 5]})\n",
       ">>> df2 = pd.DataFrame({'rkey': ['foo', 'bar', 'baz', 'foo'],\n",
       "...                     'value': [5, 6, 7, 8]})\n",
       ">>> df1\n",
       "    lkey value\n",
       "0   foo      1\n",
       "1   bar      2\n",
       "2   baz      3\n",
       "3   foo      5\n",
       ">>> df2\n",
       "    rkey value\n",
       "0   foo      5\n",
       "1   bar      6\n",
       "2   baz      7\n",
       "3   foo      8\n",
       "\n",
       "Merge df1 and df2 on the lkey and rkey columns. The value columns have\n",
       "the default suffixes, _x and _y, appended.\n",
       "\n",
       ">>> df1.merge(df2, left_on='lkey', right_on='rkey')\n",
       "  lkey  value_x rkey  value_y\n",
       "0  foo        1  foo        5\n",
       "1  foo        1  foo        8\n",
       "2  foo        5  foo        5\n",
       "3  foo        5  foo        8\n",
       "4  bar        2  bar        6\n",
       "5  baz        3  baz        7\n",
       "\n",
       "Merge DataFrames df1 and df2 with specified left and right suffixes\n",
       "appended to any overlapping columns.\n",
       "\n",
       ">>> df1.merge(df2, left_on='lkey', right_on='rkey',\n",
       "...           suffixes=('_left', '_right'))\n",
       "  lkey  value_left rkey  value_right\n",
       "0  foo           1  foo            5\n",
       "1  foo           1  foo            8\n",
       "2  foo           5  foo            5\n",
       "3  foo           5  foo            8\n",
       "4  bar           2  bar            6\n",
       "5  baz           3  baz            7\n",
       "\n",
       "Merge DataFrames df1 and df2, but raise an exception if the DataFrames have\n",
       "any overlapping columns.\n",
       "\n",
       ">>> df1.merge(df2, left_on='lkey', right_on='rkey', suffixes=(False, False))\n",
       "Traceback (most recent call last):\n",
       "...\n",
       "ValueError: columns overlap but no suffix specified:\n",
       "    Index(['value'], dtype='object')\n",
       "\n",
       ">>> df1 = pd.DataFrame({'a': ['foo', 'bar'], 'b': [1, 2]})\n",
       ">>> df2 = pd.DataFrame({'a': ['foo', 'baz'], 'c': [3, 4]})\n",
       ">>> df1\n",
       "      a  b\n",
       "0   foo  1\n",
       "1   bar  2\n",
       ">>> df2\n",
       "      a  c\n",
       "0   foo  3\n",
       "1   baz  4\n",
       "\n",
       ">>> df1.merge(df2, how='inner', on='a')\n",
       "      a  b  c\n",
       "0   foo  1  3\n",
       "\n",
       ">>> df1.merge(df2, how='left', on='a')\n",
       "      a  b  c\n",
       "0   foo  1  3.0\n",
       "1   bar  2  NaN\n",
       "\n",
       ">>> df1 = pd.DataFrame({'left': ['foo', 'bar']})\n",
       ">>> df2 = pd.DataFrame({'right': [7, 8]})\n",
       ">>> df1\n",
       "    left\n",
       "0   foo\n",
       "1   bar\n",
       ">>> df2\n",
       "    right\n",
       "0   7\n",
       "1   8\n",
       "\n",
       ">>> df1.merge(df2, how='cross')\n",
       "   left  right\n",
       "0   foo      7\n",
       "1   foo      8\n",
       "2   bar      7\n",
       "3   bar      8\n",
       "\u001b[0;31mFile:\u001b[0m      ~/opt/anaconda3/lib/python3.9/site-packages/pandas/core/frame.py\n",
       "\u001b[0;31mType:\u001b[0m      method\n"
      ]
     },
     "metadata": {},
     "output_type": "display_data"
    }
   ],
   "source": [
    "df.merge?"
   ]
  },
  {
   "cell_type": "code",
   "execution_count": 59,
   "id": "1a6b1d82-1b73-4784-9bef-bbf33fb332cd",
   "metadata": {
    "collapsed": true,
    "jupyter": {
     "outputs_hidden": true
    },
    "tags": []
   },
   "outputs": [
    {
     "data": {
      "text/plain": [
       "\u001b[0;31mSignature:\u001b[0m \u001b[0mdf\u001b[0m\u001b[0;34m.\u001b[0m\u001b[0mexplode\u001b[0m\u001b[0;34m(\u001b[0m\u001b[0mcolumn\u001b[0m\u001b[0;34m:\u001b[0m \u001b[0;34m'IndexLabel'\u001b[0m\u001b[0;34m,\u001b[0m \u001b[0mignore_index\u001b[0m\u001b[0;34m:\u001b[0m \u001b[0;34m'bool'\u001b[0m \u001b[0;34m=\u001b[0m \u001b[0;32mFalse\u001b[0m\u001b[0;34m)\u001b[0m \u001b[0;34m->\u001b[0m \u001b[0;34m'DataFrame'\u001b[0m\u001b[0;34m\u001b[0m\u001b[0;34m\u001b[0m\u001b[0m\n",
       "\u001b[0;31mDocstring:\u001b[0m\n",
       "Transform each element of a list-like to a row, replicating index values.\n",
       "\n",
       ".. versionadded:: 0.25.0\n",
       "\n",
       "Parameters\n",
       "----------\n",
       "column : IndexLabel\n",
       "    Column(s) to explode.\n",
       "    For multiple columns, specify a non-empty list with each element\n",
       "    be str or tuple, and all specified columns their list-like data\n",
       "    on same row of the frame must have matching length.\n",
       "\n",
       "    .. versionadded:: 1.3.0\n",
       "        Multi-column explode\n",
       "\n",
       "ignore_index : bool, default False\n",
       "    If True, the resulting index will be labeled 0, 1, …, n - 1.\n",
       "\n",
       "    .. versionadded:: 1.1.0\n",
       "\n",
       "Returns\n",
       "-------\n",
       "DataFrame\n",
       "    Exploded lists to rows of the subset columns;\n",
       "    index will be duplicated for these rows.\n",
       "\n",
       "Raises\n",
       "------\n",
       "ValueError :\n",
       "    * If columns of the frame are not unique.\n",
       "    * If specified columns to explode is empty list.\n",
       "    * If specified columns to explode have not matching count of\n",
       "      elements rowwise in the frame.\n",
       "\n",
       "See Also\n",
       "--------\n",
       "DataFrame.unstack : Pivot a level of the (necessarily hierarchical)\n",
       "    index labels.\n",
       "DataFrame.melt : Unpivot a DataFrame from wide format to long format.\n",
       "Series.explode : Explode a DataFrame from list-like columns to long format.\n",
       "\n",
       "Notes\n",
       "-----\n",
       "This routine will explode list-likes including lists, tuples, sets,\n",
       "Series, and np.ndarray. The result dtype of the subset rows will\n",
       "be object. Scalars will be returned unchanged, and empty list-likes will\n",
       "result in a np.nan for that row. In addition, the ordering of rows in the\n",
       "output will be non-deterministic when exploding sets.\n",
       "\n",
       "Reference :ref:`the user guide <reshaping.explode>` for more examples.\n",
       "\n",
       "Examples\n",
       "--------\n",
       ">>> df = pd.DataFrame({'A': [[0, 1, 2], 'foo', [], [3, 4]],\n",
       "...                    'B': 1,\n",
       "...                    'C': [['a', 'b', 'c'], np.nan, [], ['d', 'e']]})\n",
       ">>> df\n",
       "           A  B          C\n",
       "0  [0, 1, 2]  1  [a, b, c]\n",
       "1        foo  1        NaN\n",
       "2         []  1         []\n",
       "3     [3, 4]  1     [d, e]\n",
       "\n",
       "Single-column explode.\n",
       "\n",
       ">>> df.explode('A')\n",
       "     A  B          C\n",
       "0    0  1  [a, b, c]\n",
       "0    1  1  [a, b, c]\n",
       "0    2  1  [a, b, c]\n",
       "1  foo  1        NaN\n",
       "2  NaN  1         []\n",
       "3    3  1     [d, e]\n",
       "3    4  1     [d, e]\n",
       "\n",
       "Multi-column explode.\n",
       "\n",
       ">>> df.explode(list('AC'))\n",
       "     A  B    C\n",
       "0    0  1    a\n",
       "0    1  1    b\n",
       "0    2  1    c\n",
       "1  foo  1  NaN\n",
       "2  NaN  1  NaN\n",
       "3    3  1    d\n",
       "3    4  1    e\n",
       "\u001b[0;31mFile:\u001b[0m      ~/opt/anaconda3/lib/python3.9/site-packages/pandas/core/frame.py\n",
       "\u001b[0;31mType:\u001b[0m      method\n"
      ]
     },
     "metadata": {},
     "output_type": "display_data"
    }
   ],
   "source": [
    "df.explode?"
   ]
  },
  {
   "cell_type": "code",
   "execution_count": 64,
   "id": "89623135-ad6f-49d8-9ee3-3a9d30daeaf6",
   "metadata": {},
   "outputs": [],
   "source": [
    "import sklearn.cluster"
   ]
  },
  {
   "cell_type": "code",
   "execution_count": 66,
   "id": "76848950-1ff6-4730-b789-3d79390e7687",
   "metadata": {
    "collapsed": true,
    "jupyter": {
     "outputs_hidden": true
    },
    "tags": []
   },
   "outputs": [
    {
     "data": {
      "text/plain": [
       "\u001b[0;31mSignature:\u001b[0m\n",
       "\u001b[0msklearn\u001b[0m\u001b[0;34m.\u001b[0m\u001b[0mcluster\u001b[0m\u001b[0;34m.\u001b[0m\u001b[0mk_means\u001b[0m\u001b[0;34m(\u001b[0m\u001b[0;34m\u001b[0m\n",
       "\u001b[0;34m\u001b[0m    \u001b[0mX\u001b[0m\u001b[0;34m,\u001b[0m\u001b[0;34m\u001b[0m\n",
       "\u001b[0;34m\u001b[0m    \u001b[0mn_clusters\u001b[0m\u001b[0;34m,\u001b[0m\u001b[0;34m\u001b[0m\n",
       "\u001b[0;34m\u001b[0m    \u001b[0;34m*\u001b[0m\u001b[0;34m,\u001b[0m\u001b[0;34m\u001b[0m\n",
       "\u001b[0;34m\u001b[0m    \u001b[0msample_weight\u001b[0m\u001b[0;34m=\u001b[0m\u001b[0;32mNone\u001b[0m\u001b[0;34m,\u001b[0m\u001b[0;34m\u001b[0m\n",
       "\u001b[0;34m\u001b[0m    \u001b[0minit\u001b[0m\u001b[0;34m=\u001b[0m\u001b[0;34m'k-means++'\u001b[0m\u001b[0;34m,\u001b[0m\u001b[0;34m\u001b[0m\n",
       "\u001b[0;34m\u001b[0m    \u001b[0mn_init\u001b[0m\u001b[0;34m=\u001b[0m\u001b[0;36m10\u001b[0m\u001b[0;34m,\u001b[0m\u001b[0;34m\u001b[0m\n",
       "\u001b[0;34m\u001b[0m    \u001b[0mmax_iter\u001b[0m\u001b[0;34m=\u001b[0m\u001b[0;36m300\u001b[0m\u001b[0;34m,\u001b[0m\u001b[0;34m\u001b[0m\n",
       "\u001b[0;34m\u001b[0m    \u001b[0mverbose\u001b[0m\u001b[0;34m=\u001b[0m\u001b[0;32mFalse\u001b[0m\u001b[0;34m,\u001b[0m\u001b[0;34m\u001b[0m\n",
       "\u001b[0;34m\u001b[0m    \u001b[0mtol\u001b[0m\u001b[0;34m=\u001b[0m\u001b[0;36m0.0001\u001b[0m\u001b[0;34m,\u001b[0m\u001b[0;34m\u001b[0m\n",
       "\u001b[0;34m\u001b[0m    \u001b[0mrandom_state\u001b[0m\u001b[0;34m=\u001b[0m\u001b[0;32mNone\u001b[0m\u001b[0;34m,\u001b[0m\u001b[0;34m\u001b[0m\n",
       "\u001b[0;34m\u001b[0m    \u001b[0mcopy_x\u001b[0m\u001b[0;34m=\u001b[0m\u001b[0;32mTrue\u001b[0m\u001b[0;34m,\u001b[0m\u001b[0;34m\u001b[0m\n",
       "\u001b[0;34m\u001b[0m    \u001b[0malgorithm\u001b[0m\u001b[0;34m=\u001b[0m\u001b[0;34m'auto'\u001b[0m\u001b[0;34m,\u001b[0m\u001b[0;34m\u001b[0m\n",
       "\u001b[0;34m\u001b[0m    \u001b[0mreturn_n_iter\u001b[0m\u001b[0;34m=\u001b[0m\u001b[0;32mFalse\u001b[0m\u001b[0;34m,\u001b[0m\u001b[0;34m\u001b[0m\n",
       "\u001b[0;34m\u001b[0m\u001b[0;34m)\u001b[0m\u001b[0;34m\u001b[0m\u001b[0;34m\u001b[0m\u001b[0m\n",
       "\u001b[0;31mDocstring:\u001b[0m\n",
       "Perform K-means clustering algorithm.\n",
       "\n",
       "Read more in the :ref:`User Guide <k_means>`.\n",
       "\n",
       "Parameters\n",
       "----------\n",
       "X : {array-like, sparse matrix} of shape (n_samples, n_features)\n",
       "    The observations to cluster. It must be noted that the data\n",
       "    will be converted to C ordering, which will cause a memory copy\n",
       "    if the given data is not C-contiguous.\n",
       "\n",
       "n_clusters : int\n",
       "    The number of clusters to form as well as the number of\n",
       "    centroids to generate.\n",
       "\n",
       "sample_weight : array-like of shape (n_samples,), default=None\n",
       "    The weights for each observation in `X`. If `None`, all observations\n",
       "    are assigned equal weight.\n",
       "\n",
       "init : {'k-means++', 'random'}, callable or array-like of shape             (n_clusters, n_features), default='k-means++'\n",
       "    Method for initialization:\n",
       "\n",
       "    - `'k-means++'` : selects initial cluster centers for k-mean\n",
       "      clustering in a smart way to speed up convergence. See section\n",
       "      Notes in k_init for more details.\n",
       "    - `'random'`: choose `n_clusters` observations (rows) at random from data\n",
       "      for the initial centroids.\n",
       "    - If an array is passed, it should be of shape `(n_clusters, n_features)`\n",
       "      and gives the initial centers.\n",
       "    - If a callable is passed, it should take arguments `X`, `n_clusters` and a\n",
       "      random state and return an initialization.\n",
       "\n",
       "n_init : int, default=10\n",
       "    Number of time the k-means algorithm will be run with different\n",
       "    centroid seeds. The final results will be the best output of\n",
       "    `n_init` consecutive runs in terms of inertia.\n",
       "\n",
       "max_iter : int, default=300\n",
       "    Maximum number of iterations of the k-means algorithm to run.\n",
       "\n",
       "verbose : bool, default=False\n",
       "    Verbosity mode.\n",
       "\n",
       "tol : float, default=1e-4\n",
       "    Relative tolerance with regards to Frobenius norm of the difference\n",
       "    in the cluster centers of two consecutive iterations to declare\n",
       "    convergence.\n",
       "\n",
       "random_state : int, RandomState instance or None, default=None\n",
       "    Determines random number generation for centroid initialization. Use\n",
       "    an int to make the randomness deterministic.\n",
       "    See :term:`Glossary <random_state>`.\n",
       "\n",
       "copy_x : bool, default=True\n",
       "    When pre-computing distances it is more numerically accurate to center\n",
       "    the data first. If `copy_x` is True (default), then the original data is\n",
       "    not modified. If False, the original data is modified, and put back\n",
       "    before the function returns, but small numerical differences may be\n",
       "    introduced by subtracting and then adding the data mean. Note that if\n",
       "    the original data is not C-contiguous, a copy will be made even if\n",
       "    `copy_x` is False. If the original data is sparse, but not in CSR format,\n",
       "    a copy will be made even if `copy_x` is False.\n",
       "\n",
       "algorithm : {\"auto\", \"full\", \"elkan\"}, default=\"auto\"\n",
       "    K-means algorithm to use. The classical EM-style algorithm is `\"full\"`.\n",
       "    The `\"elkan\"` variation is more efficient on data with well-defined\n",
       "    clusters, by using the triangle inequality. However it's more memory\n",
       "    intensive due to the allocation of an extra array of shape\n",
       "    `(n_samples, n_clusters)`.\n",
       "\n",
       "    For now `\"auto\"` (kept for backward compatibility) chooses `\"elkan\"` but it\n",
       "    might change in the future for a better heuristic.\n",
       "\n",
       "return_n_iter : bool, default=False\n",
       "    Whether or not to return the number of iterations.\n",
       "\n",
       "Returns\n",
       "-------\n",
       "centroid : ndarray of shape (n_clusters, n_features)\n",
       "    Centroids found at the last iteration of k-means.\n",
       "\n",
       "label : ndarray of shape (n_samples,)\n",
       "    The `label[i]` is the code or index of the centroid the\n",
       "    i'th observation is closest to.\n",
       "\n",
       "inertia : float\n",
       "    The final value of the inertia criterion (sum of squared distances to\n",
       "    the closest centroid for all observations in the training set).\n",
       "\n",
       "best_n_iter : int\n",
       "    Number of iterations corresponding to the best results.\n",
       "    Returned only if `return_n_iter` is set to True.\n",
       "\u001b[0;31mFile:\u001b[0m      ~/opt/anaconda3/lib/python3.9/site-packages/sklearn/cluster/_kmeans.py\n",
       "\u001b[0;31mType:\u001b[0m      function\n"
      ]
     },
     "metadata": {},
     "output_type": "display_data"
    }
   ],
   "source": [
    "# dir(sklearn.cluster)\n",
    "sklearn.cluster.k_means?"
   ]
  },
  {
   "cell_type": "code",
   "execution_count": 86,
   "id": "471cdd7c-1671-4b4c-8902-1217a55605ed",
   "metadata": {},
   "outputs": [
    {
     "data": {
      "text/plain": [
       "0.0"
      ]
     },
     "execution_count": 86,
     "metadata": {},
     "output_type": "execute_result"
    }
   ],
   "source": [
    "import numpy as np\n",
    "matrix = np.array([[1,2],[3,4],[5,6]])\n",
    "res = sklearn.cluster.k_means(matrix.T, 2)\n",
    "type(res)\n",
    "len(res)\n",
    "res[2]"
   ]
  },
  {
   "cell_type": "code",
   "execution_count": 85,
   "id": "e49e7729-ac7d-4bfa-9e4d-9ca709b2d9e8",
   "metadata": {
    "collapsed": true,
    "jupyter": {
     "outputs_hidden": true
    },
    "tags": []
   },
   "outputs": [
    {
     "data": {
      "text/plain": [
       "['AffinityPropagation',\n",
       " 'AgglomerativeClustering',\n",
       " 'Birch',\n",
       " 'DBSCAN',\n",
       " 'FeatureAgglomeration',\n",
       " 'KMeans',\n",
       " 'MeanShift',\n",
       " 'MiniBatchKMeans',\n",
       " 'OPTICS',\n",
       " 'SpectralBiclustering',\n",
       " 'SpectralClustering',\n",
       " 'SpectralCoclustering',\n",
       " '__all__',\n",
       " '__builtins__',\n",
       " '__cached__',\n",
       " '__doc__',\n",
       " '__file__',\n",
       " '__loader__',\n",
       " '__name__',\n",
       " '__package__',\n",
       " '__path__',\n",
       " '__spec__',\n",
       " '_affinity_propagation',\n",
       " '_agglomerative',\n",
       " '_bicluster',\n",
       " '_birch',\n",
       " '_dbscan',\n",
       " '_dbscan_inner',\n",
       " '_feature_agglomeration',\n",
       " '_hierarchical_fast',\n",
       " '_k_means_common',\n",
       " '_k_means_elkan',\n",
       " '_k_means_lloyd',\n",
       " '_k_means_minibatch',\n",
       " '_kmeans',\n",
       " '_mean_shift',\n",
       " '_optics',\n",
       " '_spectral',\n",
       " 'affinity_propagation',\n",
       " 'cluster_optics_dbscan',\n",
       " 'cluster_optics_xi',\n",
       " 'compute_optics_graph',\n",
       " 'dbscan',\n",
       " 'estimate_bandwidth',\n",
       " 'get_bin_seeds',\n",
       " 'k_means',\n",
       " 'kmeans_plusplus',\n",
       " 'linkage_tree',\n",
       " 'mean_shift',\n",
       " 'spectral_clustering',\n",
       " 'ward_tree']"
      ]
     },
     "execution_count": 85,
     "metadata": {},
     "output_type": "execute_result"
    }
   ],
   "source": [
    "dir(sklearn.cluster)"
   ]
  },
  {
   "cell_type": "code",
   "execution_count": null,
   "id": "20659070-3d07-47be-b610-8cd4a763e6ec",
   "metadata": {},
   "outputs": [],
   "source": []
  },
  {
   "cell_type": "code",
   "execution_count": 76,
   "id": "824fff16-b6d0-4cbf-b61b-e5404b104a8e",
   "metadata": {
    "collapsed": true,
    "jupyter": {
     "outputs_hidden": true
    },
    "tags": []
   },
   "outputs": [
    {
     "data": {
      "text/plain": [
       "\u001b[0;31mInit signature:\u001b[0m\n",
       "\u001b[0msklearn\u001b[0m\u001b[0;34m.\u001b[0m\u001b[0mcluster\u001b[0m\u001b[0;34m.\u001b[0m\u001b[0mKMeans\u001b[0m\u001b[0;34m(\u001b[0m\u001b[0;34m\u001b[0m\n",
       "\u001b[0;34m\u001b[0m    \u001b[0mn_clusters\u001b[0m\u001b[0;34m=\u001b[0m\u001b[0;36m8\u001b[0m\u001b[0;34m,\u001b[0m\u001b[0;34m\u001b[0m\n",
       "\u001b[0;34m\u001b[0m    \u001b[0;34m*\u001b[0m\u001b[0;34m,\u001b[0m\u001b[0;34m\u001b[0m\n",
       "\u001b[0;34m\u001b[0m    \u001b[0minit\u001b[0m\u001b[0;34m=\u001b[0m\u001b[0;34m'k-means++'\u001b[0m\u001b[0;34m,\u001b[0m\u001b[0;34m\u001b[0m\n",
       "\u001b[0;34m\u001b[0m    \u001b[0mn_init\u001b[0m\u001b[0;34m=\u001b[0m\u001b[0;36m10\u001b[0m\u001b[0;34m,\u001b[0m\u001b[0;34m\u001b[0m\n",
       "\u001b[0;34m\u001b[0m    \u001b[0mmax_iter\u001b[0m\u001b[0;34m=\u001b[0m\u001b[0;36m300\u001b[0m\u001b[0;34m,\u001b[0m\u001b[0;34m\u001b[0m\n",
       "\u001b[0;34m\u001b[0m    \u001b[0mtol\u001b[0m\u001b[0;34m=\u001b[0m\u001b[0;36m0.0001\u001b[0m\u001b[0;34m,\u001b[0m\u001b[0;34m\u001b[0m\n",
       "\u001b[0;34m\u001b[0m    \u001b[0mverbose\u001b[0m\u001b[0;34m=\u001b[0m\u001b[0;36m0\u001b[0m\u001b[0;34m,\u001b[0m\u001b[0;34m\u001b[0m\n",
       "\u001b[0;34m\u001b[0m    \u001b[0mrandom_state\u001b[0m\u001b[0;34m=\u001b[0m\u001b[0;32mNone\u001b[0m\u001b[0;34m,\u001b[0m\u001b[0;34m\u001b[0m\n",
       "\u001b[0;34m\u001b[0m    \u001b[0mcopy_x\u001b[0m\u001b[0;34m=\u001b[0m\u001b[0;32mTrue\u001b[0m\u001b[0;34m,\u001b[0m\u001b[0;34m\u001b[0m\n",
       "\u001b[0;34m\u001b[0m    \u001b[0malgorithm\u001b[0m\u001b[0;34m=\u001b[0m\u001b[0;34m'auto'\u001b[0m\u001b[0;34m,\u001b[0m\u001b[0;34m\u001b[0m\n",
       "\u001b[0;34m\u001b[0m\u001b[0;34m)\u001b[0m\u001b[0;34m\u001b[0m\u001b[0;34m\u001b[0m\u001b[0m\n",
       "\u001b[0;31mDocstring:\u001b[0m     \n",
       "K-Means clustering.\n",
       "\n",
       "Read more in the :ref:`User Guide <k_means>`.\n",
       "\n",
       "Parameters\n",
       "----------\n",
       "\n",
       "n_clusters : int, default=8\n",
       "    The number of clusters to form as well as the number of\n",
       "    centroids to generate.\n",
       "\n",
       "init : {'k-means++', 'random'}, callable or array-like of shape             (n_clusters, n_features), default='k-means++'\n",
       "    Method for initialization:\n",
       "\n",
       "    'k-means++' : selects initial cluster centers for k-mean\n",
       "    clustering in a smart way to speed up convergence. See section\n",
       "    Notes in k_init for more details.\n",
       "\n",
       "    'random': choose `n_clusters` observations (rows) at random from data\n",
       "    for the initial centroids.\n",
       "\n",
       "    If an array is passed, it should be of shape (n_clusters, n_features)\n",
       "    and gives the initial centers.\n",
       "\n",
       "    If a callable is passed, it should take arguments X, n_clusters and a\n",
       "    random state and return an initialization.\n",
       "\n",
       "n_init : int, default=10\n",
       "    Number of time the k-means algorithm will be run with different\n",
       "    centroid seeds. The final results will be the best output of\n",
       "    n_init consecutive runs in terms of inertia.\n",
       "\n",
       "max_iter : int, default=300\n",
       "    Maximum number of iterations of the k-means algorithm for a\n",
       "    single run.\n",
       "\n",
       "tol : float, default=1e-4\n",
       "    Relative tolerance with regards to Frobenius norm of the difference\n",
       "    in the cluster centers of two consecutive iterations to declare\n",
       "    convergence.\n",
       "\n",
       "verbose : int, default=0\n",
       "    Verbosity mode.\n",
       "\n",
       "random_state : int, RandomState instance or None, default=None\n",
       "    Determines random number generation for centroid initialization. Use\n",
       "    an int to make the randomness deterministic.\n",
       "    See :term:`Glossary <random_state>`.\n",
       "\n",
       "copy_x : bool, default=True\n",
       "    When pre-computing distances it is more numerically accurate to center\n",
       "    the data first. If copy_x is True (default), then the original data is\n",
       "    not modified. If False, the original data is modified, and put back\n",
       "    before the function returns, but small numerical differences may be\n",
       "    introduced by subtracting and then adding the data mean. Note that if\n",
       "    the original data is not C-contiguous, a copy will be made even if\n",
       "    copy_x is False. If the original data is sparse, but not in CSR format,\n",
       "    a copy will be made even if copy_x is False.\n",
       "\n",
       "algorithm : {\"auto\", \"full\", \"elkan\"}, default=\"auto\"\n",
       "    K-means algorithm to use. The classical EM-style algorithm is \"full\".\n",
       "    The \"elkan\" variation is more efficient on data with well-defined\n",
       "    clusters, by using the triangle inequality. However it's more memory\n",
       "    intensive due to the allocation of an extra array of shape\n",
       "    (n_samples, n_clusters).\n",
       "\n",
       "    For now \"auto\" (kept for backward compatibility) chooses \"elkan\" but it\n",
       "    might change in the future for a better heuristic.\n",
       "\n",
       "    .. versionchanged:: 0.18\n",
       "        Added Elkan algorithm\n",
       "\n",
       "Attributes\n",
       "----------\n",
       "cluster_centers_ : ndarray of shape (n_clusters, n_features)\n",
       "    Coordinates of cluster centers. If the algorithm stops before fully\n",
       "    converging (see ``tol`` and ``max_iter``), these will not be\n",
       "    consistent with ``labels_``.\n",
       "\n",
       "labels_ : ndarray of shape (n_samples,)\n",
       "    Labels of each point\n",
       "\n",
       "inertia_ : float\n",
       "    Sum of squared distances of samples to their closest cluster center,\n",
       "    weighted by the sample weights if provided.\n",
       "\n",
       "n_iter_ : int\n",
       "    Number of iterations run.\n",
       "\n",
       "n_features_in_ : int\n",
       "    Number of features seen during :term:`fit`.\n",
       "\n",
       "    .. versionadded:: 0.24\n",
       "\n",
       "feature_names_in_ : ndarray of shape (`n_features_in_`,)\n",
       "    Names of features seen during :term:`fit`. Defined only when `X`\n",
       "    has feature names that are all strings.\n",
       "\n",
       "    .. versionadded:: 1.0\n",
       "\n",
       "See Also\n",
       "--------\n",
       "MiniBatchKMeans : Alternative online implementation that does incremental\n",
       "    updates of the centers positions using mini-batches.\n",
       "    For large scale learning (say n_samples > 10k) MiniBatchKMeans is\n",
       "    probably much faster than the default batch implementation.\n",
       "\n",
       "Notes\n",
       "-----\n",
       "The k-means problem is solved using either Lloyd's or Elkan's algorithm.\n",
       "\n",
       "The average complexity is given by O(k n T), where n is the number of\n",
       "samples and T is the number of iteration.\n",
       "\n",
       "The worst case complexity is given by O(n^(k+2/p)) with\n",
       "n = n_samples, p = n_features. (D. Arthur and S. Vassilvitskii,\n",
       "'How slow is the k-means method?' SoCG2006)\n",
       "\n",
       "In practice, the k-means algorithm is very fast (one of the fastest\n",
       "clustering algorithms available), but it falls in local minima. That's why\n",
       "it can be useful to restart it several times.\n",
       "\n",
       "If the algorithm stops before fully converging (because of ``tol`` or\n",
       "``max_iter``), ``labels_`` and ``cluster_centers_`` will not be consistent,\n",
       "i.e. the ``cluster_centers_`` will not be the means of the points in each\n",
       "cluster. Also, the estimator will reassign ``labels_`` after the last\n",
       "iteration to make ``labels_`` consistent with ``predict`` on the training\n",
       "set.\n",
       "\n",
       "Examples\n",
       "--------\n",
       "\n",
       ">>> from sklearn.cluster import KMeans\n",
       ">>> import numpy as np\n",
       ">>> X = np.array([[1, 2], [1, 4], [1, 0],\n",
       "...               [10, 2], [10, 4], [10, 0]])\n",
       ">>> kmeans = KMeans(n_clusters=2, random_state=0).fit(X)\n",
       ">>> kmeans.labels_\n",
       "array([1, 1, 1, 0, 0, 0], dtype=int32)\n",
       ">>> kmeans.predict([[0, 0], [12, 3]])\n",
       "array([1, 0], dtype=int32)\n",
       ">>> kmeans.cluster_centers_\n",
       "array([[10.,  2.],\n",
       "       [ 1.,  2.]])\n",
       "\u001b[0;31mFile:\u001b[0m           ~/opt/anaconda3/lib/python3.9/site-packages/sklearn/cluster/_kmeans.py\n",
       "\u001b[0;31mType:\u001b[0m           type\n",
       "\u001b[0;31mSubclasses:\u001b[0m     MiniBatchKMeans\n"
      ]
     },
     "metadata": {},
     "output_type": "display_data"
    }
   ],
   "source": [
    "sklearn.cluster.KMeans?"
   ]
  },
  {
   "cell_type": "code",
   "execution_count": null,
   "id": "75aefb3d-03c3-4d93-a868-f3c0d466f6ae",
   "metadata": {},
   "outputs": [],
   "source": []
  }
 ],
 "metadata": {
  "kernelspec": {
   "display_name": "Python 3 (ipykernel)",
   "language": "python",
   "name": "python3"
  },
  "language_info": {
   "codemirror_mode": {
    "name": "ipython",
    "version": 3
   },
   "file_extension": ".py",
   "mimetype": "text/x-python",
   "name": "python",
   "nbconvert_exporter": "python",
   "pygments_lexer": "ipython3",
   "version": "3.9.12"
  }
 },
 "nbformat": 4,
 "nbformat_minor": 5
}
