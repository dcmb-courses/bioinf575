{
 "cells": [
  {
   "cell_type": "markdown",
   "id": "35baa1f5-4e17-443b-8460-a613d92764c8",
   "metadata": {},
   "source": [
    "## Unit testing  \n",
    "### BIOINF 575 - Fall 2022"
   ]
  },
  {
   "cell_type": "markdown",
   "id": "c69c6ae5-a45c-492c-942b-99aa3d97d611",
   "metadata": {},
   "source": [
    "Testing is very important in software development because:    \n",
    "* It allows you to verify that your code does what is expected to do. \n",
    "    * If you do not test how would you know?  \n",
    "* It ensures the quality of the software. \n",
    "\n",
    "You have been writing tests from the beginning of this class."
   ]
  },
  {
   "cell_type": "code",
   "execution_count": 1,
   "id": "b3268afd-2607-41f4-bf5e-3d3672e9c495",
   "metadata": {},
   "outputs": [
    {
     "data": {
      "text/plain": [
       "10"
      ]
     },
     "execution_count": 1,
     "metadata": {},
     "output_type": "execute_result"
    }
   ],
   "source": [
    "# compute sum of all numbers from 1 to n\n",
    "n = 4\n",
    "# expected result: 10\n",
    "\n",
    "result = sum(range(n+1))\n",
    "result\n"
   ]
  },
  {
   "cell_type": "code",
   "execution_count": 4,
   "id": "2920416d-cb31-4c6b-b55f-97127fdc07b4",
   "metadata": {},
   "outputs": [
    {
     "data": {
      "text/plain": [
       "15"
      ]
     },
     "execution_count": 4,
     "metadata": {},
     "output_type": "execute_result"
    }
   ],
   "source": [
    "# compute sum of all numbers from 1 to n\n",
    "n = 5\n",
    "# expected result: 15\n",
    "\n",
    "result = sum(range(n + 1))\n",
    "result"
   ]
  },
  {
   "cell_type": "code",
   "execution_count": null,
   "id": "47e13371-acef-4212-867e-40340396bdf8",
   "metadata": {},
   "outputs": [],
   "source": []
  },
  {
   "cell_type": "markdown",
   "id": "4e29fc25-1d36-440c-b32d-a9deb95a7e1e",
   "metadata": {},
   "source": [
    "Why we need testing as an integral part of our project:\n",
    "- You have been writing tests and discarding them once you are done confident the code is correct.\n",
    "    - Test cases are designed and written by developers.\n",
    "- If you make a change to the code later on, you will have to write those tests again.\n",
    "- These test cases you created can be run automatically once written. \n",
    "\n",
    "In python there are multiple packages for testing: \n",
    "* unittest - similar framework as the ones available in other major programming languages (e.g.: JUnit)  \n",
    "* doctest - test-support module with a very different flavor, writing the tests in the documentation\n",
    "* pytest - framework with a lighter-weight syntax for writing tests\n",
    "* ..."
   ]
  },
  {
   "cell_type": "markdown",
   "id": "59446dff-00a6-401a-bcf3-473a55c7a047",
   "metadata": {},
   "source": [
    "<b>A unit test is designed to test a small component of your system, a function </b>     \n",
    "(an analogy would be a lightbulb in your car that goes off when you have something go wrong)\n",
    "\n"
   ]
  },
  {
   "cell_type": "code",
   "execution_count": 9,
   "id": "abac5d92-f48f-4800-9187-ed23f67866a4",
   "metadata": {},
   "outputs": [],
   "source": [
    "# Implement the function - but first consider how you would test it works\n",
    "\n",
    "def computeGCp(seq):\n",
    "    \"\"\" \n",
    "    Compute the GC fraction for a given sequence\n",
    "    The GC fraction is the fraction of Cs and Gs outof \n",
    "    the total number of nucleotides in the sequence\n",
    "    \"\"\"\n",
    "    return (seq.count(\"C\") + seq.count(\"G\"))/len(seq)"
   ]
  },
  {
   "cell_type": "markdown",
   "id": "1b560a97-e930-4107-92a4-114f1c0729c3",
   "metadata": {},
   "source": [
    "#### How do you typically test the function?   \n",
    "##### Call the function with some test data and check the results."
   ]
  },
  {
   "cell_type": "code",
   "execution_count": 10,
   "id": "90bd5aa0-03dd-466b-b67d-f7431a791052",
   "metadata": {},
   "outputs": [
    {
     "data": {
      "text/plain": [
       "0.5"
      ]
     },
     "execution_count": 10,
     "metadata": {},
     "output_type": "execute_result"
    }
   ],
   "source": [
    "sequence = \"CCTT\" # expected result 0.5 = 50% GC content\n",
    "computeGCp(seq = sequence)"
   ]
  },
  {
   "cell_type": "code",
   "execution_count": 11,
   "id": "c8f65497-587e-4d0c-a01c-48e3e53ddce0",
   "metadata": {},
   "outputs": [
    {
     "data": {
      "text/plain": [
       "0.25"
      ]
     },
     "execution_count": 11,
     "metadata": {},
     "output_type": "execute_result"
    }
   ],
   "source": [
    "sequence = \"CGTTAATA\" # expected result 0.25 = 25% GC content\n",
    "computeGCp(seq = sequence)"
   ]
  },
  {
   "cell_type": "code",
   "execution_count": 12,
   "id": "5ba17ff9-730e-4963-86d6-afb25c3e64ec",
   "metadata": {},
   "outputs": [
    {
     "data": {
      "text/plain": [
       "0.0"
      ]
     },
     "execution_count": 12,
     "metadata": {},
     "output_type": "execute_result"
    }
   ],
   "source": [
    "sequence = \"ATT\" # expected result 0 = 0% GC content\n",
    "computeGCp(seq = sequence)"
   ]
  },
  {
   "cell_type": "code",
   "execution_count": 13,
   "id": "06cb5fca-0219-4cb9-addb-d45b3950aa9e",
   "metadata": {},
   "outputs": [],
   "source": [
    "# Implement the function - but first consider how you would test it works\n",
    "\n",
    "def computeGCp(seq):\n",
    "    \"\"\" \n",
    "    Compute the GC fraction for a geiven sequence\n",
    "    The GC fraction is the fraction of Cs and Gs outof \n",
    "    the total number of nucleotides in the sequence\n",
    "    \"\"\"\n",
    "    return (seq.count(\"C\") + seq.count(\"G\"))/len(seq)"
   ]
  },
  {
   "cell_type": "code",
   "execution_count": 14,
   "id": "9077f195-18bd-4acb-8004-7657447e8ef5",
   "metadata": {},
   "outputs": [
    {
     "data": {
      "text/plain": [
       "1.0"
      ]
     },
     "execution_count": 14,
     "metadata": {},
     "output_type": "execute_result"
    }
   ],
   "source": [
    "# test the function \n",
    "sequence = \"C\" # expected result 1 = 100% GC content\n",
    "computeGCp(seq = sequence)"
   ]
  },
  {
   "cell_type": "code",
   "execution_count": null,
   "id": "1e0006c5-907b-4821-9615-9454e0cf52a3",
   "metadata": {},
   "outputs": [],
   "source": []
  },
  {
   "cell_type": "markdown",
   "id": "8f5fb2af-eacd-42b8-9e5e-f8ac6bce1a9b",
   "metadata": {
    "tags": []
   },
   "source": [
    "#### `assert` allows you to check the result of your function for a given input against the expected output\n",
    "\n",
    "``` python\n",
    " assert condition, message_when_cond_False\n",
    "```\n",
    "\n",
    "https://www.w3schools.com/python/ref_keyword_assert.asp   \n",
    "The `assert` keyword is used when debugging code.\n",
    "\n",
    "The `assert` keyword lets you test if a condition in your code returns True, if not, the program will raise an AssertionError.\n",
    "\n",
    "You can write a message to be written if the code returns False, check the example below.\n",
    "\n"
   ]
  },
  {
   "cell_type": "code",
   "execution_count": 18,
   "id": "2303c5c9-0a25-46be-b3ae-502d933be0ea",
   "metadata": {},
   "outputs": [],
   "source": [
    "assert computeGCp(\"C\") == 1, \"The result should be 1\""
   ]
  },
  {
   "cell_type": "code",
   "execution_count": 19,
   "id": "55058631-3de4-4f46-95a3-b5df3ebfbb28",
   "metadata": {},
   "outputs": [
    {
     "ename": "AssertionError",
     "evalue": "The result should be 1",
     "output_type": "error",
     "traceback": [
      "\u001b[0;31m---------------------------------------------------------------------------\u001b[0m",
      "\u001b[0;31mAssertionError\u001b[0m                            Traceback (most recent call last)",
      "Input \u001b[0;32mIn [19]\u001b[0m, in \u001b[0;36m<cell line: 1>\u001b[0;34m()\u001b[0m\n\u001b[0;32m----> 1\u001b[0m \u001b[38;5;28;01massert\u001b[39;00m computeGCp(\u001b[38;5;124m\"\u001b[39m\u001b[38;5;124mCT\u001b[39m\u001b[38;5;124m\"\u001b[39m) \u001b[38;5;241m==\u001b[39m \u001b[38;5;241m1\u001b[39m, \u001b[38;5;124m\"\u001b[39m\u001b[38;5;124mThe result should be 1\u001b[39m\u001b[38;5;124m\"\u001b[39m\n",
      "\u001b[0;31mAssertionError\u001b[0m: The result should be 1"
     ]
    }
   ],
   "source": [
    "assert computeGCp(\"CT\") == 1, \"The result should be 1\""
   ]
  },
  {
   "cell_type": "markdown",
   "id": "65e6b47e-ba28-4815-8c94-fe658897fa96",
   "metadata": {},
   "source": [
    "#### We can write a function to test our function:"
   ]
  },
  {
   "cell_type": "code",
   "execution_count": 20,
   "id": "ba6db51f-0c36-4915-86c0-4c1f58fa6afa",
   "metadata": {},
   "outputs": [],
   "source": [
    "def test_CGp(seq, p):\n",
    "    \"\"\"\n",
    "    Testing the compute GC function\n",
    "    Checking if the computed fraction is the same with the expected fraction (p)\n",
    "    \"\"\"\n",
    "    assert computeGCp(seq) == p, f\"The result should be {p}\""
   ]
  },
  {
   "cell_type": "code",
   "execution_count": 21,
   "id": "cf7a5ffa-60b0-406d-94de-e3a7a10ea2e2",
   "metadata": {},
   "outputs": [
    {
     "ename": "AssertionError",
     "evalue": "The result should be 0.2",
     "output_type": "error",
     "traceback": [
      "\u001b[0;31m---------------------------------------------------------------------------\u001b[0m",
      "\u001b[0;31mAssertionError\u001b[0m                            Traceback (most recent call last)",
      "Input \u001b[0;32mIn [21]\u001b[0m, in \u001b[0;36m<cell line: 2>\u001b[0;34m()\u001b[0m\n\u001b[1;32m      1\u001b[0m \u001b[38;5;66;03m# failing test \u001b[39;00m\n\u001b[0;32m----> 2\u001b[0m \u001b[43mtest_CGp\u001b[49m\u001b[43m(\u001b[49m\u001b[38;5;124;43m\"\u001b[39;49m\u001b[38;5;124;43mAAT\u001b[39;49m\u001b[38;5;124;43m\"\u001b[39;49m\u001b[43m,\u001b[49m\u001b[43m \u001b[49m\u001b[38;5;241;43m0.2\u001b[39;49m\u001b[43m)\u001b[49m\n",
      "Input \u001b[0;32mIn [20]\u001b[0m, in \u001b[0;36mtest_CGp\u001b[0;34m(seq, p)\u001b[0m\n\u001b[1;32m      1\u001b[0m \u001b[38;5;28;01mdef\u001b[39;00m \u001b[38;5;21mtest_CGp\u001b[39m(seq, p):\n\u001b[1;32m      2\u001b[0m     \u001b[38;5;124;03m\"\"\"\u001b[39;00m\n\u001b[1;32m      3\u001b[0m \u001b[38;5;124;03m    Testing the compute GC function\u001b[39;00m\n\u001b[1;32m      4\u001b[0m \u001b[38;5;124;03m    Checking if the computed fraction is the same with the expected fraction (p)\u001b[39;00m\n\u001b[1;32m      5\u001b[0m \u001b[38;5;124;03m    \"\"\"\u001b[39;00m\n\u001b[0;32m----> 6\u001b[0m     \u001b[38;5;28;01massert\u001b[39;00m computeGCp(seq) \u001b[38;5;241m==\u001b[39m p, \u001b[38;5;124mf\u001b[39m\u001b[38;5;124m\"\u001b[39m\u001b[38;5;124mThe result should be \u001b[39m\u001b[38;5;132;01m{\u001b[39;00mp\u001b[38;5;132;01m}\u001b[39;00m\u001b[38;5;124m\"\u001b[39m\n",
      "\u001b[0;31mAssertionError\u001b[0m: The result should be 0.2"
     ]
    }
   ],
   "source": [
    "# failing test \n",
    "test_CGp(\"AAT\", 0.2)"
   ]
  },
  {
   "cell_type": "code",
   "execution_count": 22,
   "id": "fe58d2d0-15d7-4a59-a58d-15fc1e723677",
   "metadata": {},
   "outputs": [],
   "source": [
    "# good test\n",
    "test_CGp(\"AAT\", 0)"
   ]
  },
  {
   "cell_type": "code",
   "execution_count": 23,
   "id": "210042a5-81d6-4566-894c-584141762071",
   "metadata": {},
   "outputs": [],
   "source": [
    "# good test\n",
    "test_CGp(\"TTCGAATT\", 0.25)"
   ]
  },
  {
   "cell_type": "markdown",
   "id": "4273eae2-5bc6-4ca2-85c6-47916d0ddb90",
   "metadata": {},
   "source": [
    "* We want tests to cover as many as the edge cases we can and we want them to always run without error\n",
    "\n",
    "* We should run our tests every time we change the code to be sure the existing functionality was not broken\n",
    "\n",
    "* If the code changes the  results should change then tests need to be updated "
   ]
  },
  {
   "cell_type": "markdown",
   "id": "56d2b6c5-cfbf-4a24-aa22-14c8c51fe6d2",
   "metadata": {
    "tags": []
   },
   "source": [
    "#### <font color = \"red\">Exercise</font> \n",
    "We decide we want to make the result a pergentage - number between 0 - 100\n",
    "- Make the necessary updated to the code and to the tests"
   ]
  },
  {
   "cell_type": "code",
   "execution_count": 29,
   "id": "744edaa6-02d3-4ecf-a735-4f79f622eb1a",
   "metadata": {},
   "outputs": [],
   "source": [
    "# Implement the function \n",
    "\n",
    "def computeGCp(seq):\n",
    "    \"\"\" \n",
    "    Compute the GC percentage for a geiven sequence\n",
    "    The GC percentage is the pergentage (0-100) of Cs and Gs \n",
    "    outof the total number of nucleotides in the sequence\n",
    "    \"\"\"\n",
    "    return 100 * (seq.count(\"C\") + seq.count(\"G\"))/len(seq)"
   ]
  },
  {
   "cell_type": "code",
   "execution_count": 30,
   "id": "2eebcf0c-d148-4ba3-b980-c91aaec181a9",
   "metadata": {},
   "outputs": [
    {
     "data": {
      "text/plain": [
       "50.0"
      ]
     },
     "execution_count": 30,
     "metadata": {},
     "output_type": "execute_result"
    }
   ],
   "source": [
    "computeGCp(\"AACG\")"
   ]
  },
  {
   "cell_type": "markdown",
   "id": "bc5212cf-7271-4300-a198-ac7e542b3c72",
   "metadata": {},
   "source": [
    "##### Update the following tests"
   ]
  },
  {
   "cell_type": "code",
   "execution_count": 34,
   "id": "585b4c32-ae74-4d36-b807-af092685f2c5",
   "metadata": {},
   "outputs": [],
   "source": [
    "# if we need to change the test_CGp function add it here\n",
    "\n",
    "# we can update the function to check for == 100 * p \n",
    "# that may cause some confusion becuse we compute a number between 0-100 \n",
    "# and we check against numbers between 0-1\n",
    "# if we update the tests cases not the test function then it may be easier to read what is going on\n"
   ]
  },
  {
   "cell_type": "code",
   "execution_count": 35,
   "id": "5f330860-b107-4ee5-af3f-9fe9ffa9d8b1",
   "metadata": {},
   "outputs": [
    {
     "ename": "AssertionError",
     "evalue": "The result should be 20",
     "output_type": "error",
     "traceback": [
      "\u001b[0;31m---------------------------------------------------------------------------\u001b[0m",
      "\u001b[0;31mAssertionError\u001b[0m                            Traceback (most recent call last)",
      "Input \u001b[0;32mIn [35]\u001b[0m, in \u001b[0;36m<cell line: 2>\u001b[0;34m()\u001b[0m\n\u001b[1;32m      1\u001b[0m \u001b[38;5;66;03m# failing test \u001b[39;00m\n\u001b[0;32m----> 2\u001b[0m \u001b[43mtest_CGp\u001b[49m\u001b[43m(\u001b[49m\u001b[38;5;124;43m\"\u001b[39;49m\u001b[38;5;124;43mAAT\u001b[39;49m\u001b[38;5;124;43m\"\u001b[39;49m\u001b[43m,\u001b[49m\u001b[43m \u001b[49m\u001b[38;5;241;43m20\u001b[39;49m\u001b[43m)\u001b[49m\n",
      "Input \u001b[0;32mIn [20]\u001b[0m, in \u001b[0;36mtest_CGp\u001b[0;34m(seq, p)\u001b[0m\n\u001b[1;32m      1\u001b[0m \u001b[38;5;28;01mdef\u001b[39;00m \u001b[38;5;21mtest_CGp\u001b[39m(seq, p):\n\u001b[1;32m      2\u001b[0m     \u001b[38;5;124;03m\"\"\"\u001b[39;00m\n\u001b[1;32m      3\u001b[0m \u001b[38;5;124;03m    Testing the compute GC function\u001b[39;00m\n\u001b[1;32m      4\u001b[0m \u001b[38;5;124;03m    Checking if the computed fraction is the same with the expected fraction (p)\u001b[39;00m\n\u001b[1;32m      5\u001b[0m \u001b[38;5;124;03m    \"\"\"\u001b[39;00m\n\u001b[0;32m----> 6\u001b[0m     \u001b[38;5;28;01massert\u001b[39;00m computeGCp(seq) \u001b[38;5;241m==\u001b[39m p, \u001b[38;5;124mf\u001b[39m\u001b[38;5;124m\"\u001b[39m\u001b[38;5;124mThe result should be \u001b[39m\u001b[38;5;132;01m{\u001b[39;00mp\u001b[38;5;132;01m}\u001b[39;00m\u001b[38;5;124m\"\u001b[39m\n",
      "\u001b[0;31mAssertionError\u001b[0m: The result should be 20"
     ]
    }
   ],
   "source": [
    "# failing test \n",
    "test_CGp(\"AAT\", 20)"
   ]
  },
  {
   "cell_type": "code",
   "execution_count": 36,
   "id": "64b26550-30d4-4108-b013-724c86d6d7fd",
   "metadata": {},
   "outputs": [],
   "source": [
    "# good test\n",
    "test_CGp(\"AAT\", 0)"
   ]
  },
  {
   "cell_type": "code",
   "execution_count": 37,
   "id": "15e1d996-d97a-403b-963f-a4e8026eb317",
   "metadata": {},
   "outputs": [],
   "source": [
    "# good test\n",
    "test_CGp(\"TTCGAATT\", 25)"
   ]
  },
  {
   "cell_type": "code",
   "execution_count": null,
   "id": "a3b22650-b963-45f3-b79c-368768aed3ff",
   "metadata": {},
   "outputs": [],
   "source": []
  },
  {
   "cell_type": "code",
   "execution_count": null,
   "id": "6948d11d-0c1b-402a-897c-cad0ade92479",
   "metadata": {},
   "outputs": [],
   "source": []
  },
  {
   "cell_type": "markdown",
   "id": "f59d3425-35b1-4b60-a578-26be3c9d0e6d",
   "metadata": {},
   "source": [
    "#### So far, we organized our tests a bit better \n",
    "- we still run tests one by one  \n",
    "- we cannot account automatically for how many tests passed and how many failed unless we run a for loop and handle exceptions"
   ]
  },
  {
   "cell_type": "markdown",
   "id": "dff69151-ee91-44e7-9959-7054eb985854",
   "metadata": {
    "tags": []
   },
   "source": [
    "___ \n",
    "#### unittest\n",
    "\n",
    "https://docs.python.org/3/library/unittest.html\n",
    "\n",
    "`unittest` supports some important concepts in an object-oriented way:\n",
    "\n",
    "* test fixture - \n",
    "A test fixture represents the preparation needed to perform one or more tests, and any associated cleanup actions. This may involve, for example, creating temporary or proxy databases, directories, or starting a server process.\n",
    "\n",
    "* test case - \n",
    "A test case is the individual unit of testing. It checks for a specific response to a particular set of inputs. unittest provides a base class, TestCase, which may be used to create new test cases.\n",
    "\n",
    "* test suite - \n",
    "A test suite is a collection of test cases, test suites, or both. It is used to aggregate tests that should be executed together.\n",
    "\n",
    "* test runner - \n",
    "A test runner is a component which orchestrates the execution of tests and provides the outcome to the user. The runner may use a graphical interface, a textual interface, or return a special value to indicate the results of executing the tests.\n",
    "\n",
    "Examples:   \n",
    "https://realpython.com/python-testing/     \n",
    "https://www.datacamp.com/community/tutorials/unit-testing-python        \n",
    "https://www.geeksforgeeks.org/unit-testing-python-unittest/      \n",
    "https://docs.python-guide.org/writing/tests/      \n",
    "https://www.digitalocean.com/community/tutorials/how-to-use-unittest-to-write-a-test-case-for-a-function-in-python\n",
    "\n"
   ]
  },
  {
   "cell_type": "markdown",
   "id": "8fcbefa6-6145-4f43-a627-8b5ede3517af",
   "metadata": {},
   "source": [
    "#### Let's write a unit test\n",
    "\n",
    "`unittest` has been built into the Python standard library since version 2.1. You’ll probably see it in commercial Python applications and open-source projects.\n",
    "\n",
    "`unittest` contains both a testing framework and a test runner. unittest has some important requirements for writing and executing tests.\n",
    "\n",
    "`unittest` requires that:\n",
    "\n",
    "* You put your tests into classes as methods\n",
    "* You use a series of special assertion methods in the unittest.TestCase class instead of the built-in assert statement\n",
    "\n",
    "To convert the earlier example to a `unittest` test case, you would have to:\n",
    "\n",
    "* Import unittest from the standard library\n",
    "* Create a class called TestComputeGCp that inherits from the TestCase class\n",
    "* Convert the test functions into methods by adding self as the first argument\n",
    "* Change the assertions to use the self.assertEqual() method on the TestCase class"
   ]
  },
  {
   "cell_type": "code",
   "execution_count": 38,
   "id": "6d3ab094-e672-409e-9192-107bb1710657",
   "metadata": {},
   "outputs": [],
   "source": [
    "import unittest\n",
    "\n",
    "\n",
    "class TestComputeGCp(unittest.TestCase):\n",
    "    \"\"\"\n",
    "    Class to test the function computeGCp \n",
    "    Each method in this class will be a test case\n",
    "    \"\"\"\n",
    "    \n",
    "    def test_computeGCp(self, seq, p):\n",
    "        \"\"\"\n",
    "        General test case when we expect a certain percentage\n",
    "        \"\"\"\n",
    "        self.assertEqual(computeGCp(seq), p, f\"The result should be {p}\")\n",
    "\n",
    "    def test_computeGCp_None(self):\n",
    "        \"\"\"\n",
    "        Exceptional case when we have None as the input sequence\n",
    "        \"\"\"\n",
    "        self.assertEqual(computeGCp(None), None, \"The result should be None\")\n"
   ]
  },
  {
   "cell_type": "code",
   "execution_count": 39,
   "id": "cfb6290e-7f98-49de-8f6a-912afe1c4506",
   "metadata": {},
   "outputs": [],
   "source": [
    "t = TestComputeGCp()"
   ]
  },
  {
   "cell_type": "code",
   "execution_count": 40,
   "id": "3c08b8aa-722b-43be-8590-07d0893c0fd9",
   "metadata": {},
   "outputs": [
    {
     "data": {
      "text/plain": [
       "__main__.TestComputeGCp"
      ]
     },
     "execution_count": 40,
     "metadata": {},
     "output_type": "execute_result"
    }
   ],
   "source": [
    "type(t)"
   ]
  },
  {
   "cell_type": "code",
   "execution_count": 41,
   "id": "58bf7812-6733-44b1-b511-ebb231bc807c",
   "metadata": {
    "collapsed": true,
    "jupyter": {
     "outputs_hidden": true
    },
    "tags": []
   },
   "outputs": [
    {
     "data": {
      "text/plain": [
       "['__call__',\n",
       " '__class__',\n",
       " '__delattr__',\n",
       " '__dict__',\n",
       " '__dir__',\n",
       " '__doc__',\n",
       " '__eq__',\n",
       " '__format__',\n",
       " '__ge__',\n",
       " '__getattribute__',\n",
       " '__gt__',\n",
       " '__hash__',\n",
       " '__init__',\n",
       " '__init_subclass__',\n",
       " '__le__',\n",
       " '__lt__',\n",
       " '__module__',\n",
       " '__ne__',\n",
       " '__new__',\n",
       " '__reduce__',\n",
       " '__reduce_ex__',\n",
       " '__repr__',\n",
       " '__setattr__',\n",
       " '__sizeof__',\n",
       " '__str__',\n",
       " '__subclasshook__',\n",
       " '__weakref__',\n",
       " '_addExpectedFailure',\n",
       " '_addSkip',\n",
       " '_addUnexpectedSuccess',\n",
       " '_baseAssertEqual',\n",
       " '_callCleanup',\n",
       " '_callSetUp',\n",
       " '_callTearDown',\n",
       " '_callTestMethod',\n",
       " '_classSetupFailed',\n",
       " '_class_cleanups',\n",
       " '_cleanups',\n",
       " '_deprecate',\n",
       " '_diffThreshold',\n",
       " '_feedErrorsToResult',\n",
       " '_formatMessage',\n",
       " '_getAssertEqualityFunc',\n",
       " '_outcome',\n",
       " '_subtest',\n",
       " '_testMethodDoc',\n",
       " '_testMethodName',\n",
       " '_truncateMessage',\n",
       " '_type_equality_funcs',\n",
       " 'addClassCleanup',\n",
       " 'addCleanup',\n",
       " 'addTypeEqualityFunc',\n",
       " 'assertAlmostEqual',\n",
       " 'assertAlmostEquals',\n",
       " 'assertCountEqual',\n",
       " 'assertDictContainsSubset',\n",
       " 'assertDictEqual',\n",
       " 'assertEqual',\n",
       " 'assertEquals',\n",
       " 'assertFalse',\n",
       " 'assertGreater',\n",
       " 'assertGreaterEqual',\n",
       " 'assertIn',\n",
       " 'assertIs',\n",
       " 'assertIsInstance',\n",
       " 'assertIsNone',\n",
       " 'assertIsNot',\n",
       " 'assertIsNotNone',\n",
       " 'assertLess',\n",
       " 'assertLessEqual',\n",
       " 'assertListEqual',\n",
       " 'assertLogs',\n",
       " 'assertMultiLineEqual',\n",
       " 'assertNotAlmostEqual',\n",
       " 'assertNotAlmostEquals',\n",
       " 'assertNotEqual',\n",
       " 'assertNotEquals',\n",
       " 'assertNotIn',\n",
       " 'assertNotIsInstance',\n",
       " 'assertNotRegex',\n",
       " 'assertNotRegexpMatches',\n",
       " 'assertRaises',\n",
       " 'assertRaisesRegex',\n",
       " 'assertRaisesRegexp',\n",
       " 'assertRegex',\n",
       " 'assertRegexpMatches',\n",
       " 'assertSequenceEqual',\n",
       " 'assertSetEqual',\n",
       " 'assertTrue',\n",
       " 'assertTupleEqual',\n",
       " 'assertWarns',\n",
       " 'assertWarnsRegex',\n",
       " 'assert_',\n",
       " 'countTestCases',\n",
       " 'debug',\n",
       " 'defaultTestResult',\n",
       " 'doClassCleanups',\n",
       " 'doCleanups',\n",
       " 'fail',\n",
       " 'failIf',\n",
       " 'failIfAlmostEqual',\n",
       " 'failIfEqual',\n",
       " 'failUnless',\n",
       " 'failUnlessAlmostEqual',\n",
       " 'failUnlessEqual',\n",
       " 'failUnlessRaises',\n",
       " 'failureException',\n",
       " 'id',\n",
       " 'longMessage',\n",
       " 'maxDiff',\n",
       " 'run',\n",
       " 'setUp',\n",
       " 'setUpClass',\n",
       " 'shortDescription',\n",
       " 'skipTest',\n",
       " 'subTest',\n",
       " 'tearDown',\n",
       " 'tearDownClass',\n",
       " 'test_computeGCp',\n",
       " 'test_computeGCp_None']"
      ]
     },
     "execution_count": 41,
     "metadata": {},
     "output_type": "execute_result"
    }
   ],
   "source": [
    "dir(t)"
   ]
  },
  {
   "cell_type": "code",
   "execution_count": 42,
   "id": "e6dcf8c0-d2ff-4113-a892-7df9a3c397f7",
   "metadata": {},
   "outputs": [
    {
     "ename": "AssertionError",
     "evalue": "100.0 != 1 : The result should be 1",
     "output_type": "error",
     "traceback": [
      "\u001b[0;31m---------------------------------------------------------------------------\u001b[0m",
      "\u001b[0;31mAssertionError\u001b[0m                            Traceback (most recent call last)",
      "Input \u001b[0;32mIn [42]\u001b[0m, in \u001b[0;36m<cell line: 1>\u001b[0;34m()\u001b[0m\n\u001b[0;32m----> 1\u001b[0m \u001b[43mt\u001b[49m\u001b[38;5;241;43m.\u001b[39;49m\u001b[43mtest_computeGCp\u001b[49m\u001b[43m(\u001b[49m\u001b[38;5;124;43m\"\u001b[39;49m\u001b[38;5;124;43mGG\u001b[39;49m\u001b[38;5;124;43m\"\u001b[39;49m\u001b[43m,\u001b[49m\u001b[43m \u001b[49m\u001b[38;5;241;43m1\u001b[39;49m\u001b[43m)\u001b[49m\n",
      "Input \u001b[0;32mIn [38]\u001b[0m, in \u001b[0;36mTestComputeGCp.test_computeGCp\u001b[0;34m(self, seq, p)\u001b[0m\n\u001b[1;32m     10\u001b[0m \u001b[38;5;28;01mdef\u001b[39;00m \u001b[38;5;21mtest_computeGCp\u001b[39m(\u001b[38;5;28mself\u001b[39m, seq, p):\n\u001b[1;32m     11\u001b[0m     \u001b[38;5;124;03m\"\"\"\u001b[39;00m\n\u001b[1;32m     12\u001b[0m \u001b[38;5;124;03m    General test case when we expect a certain percentage\u001b[39;00m\n\u001b[1;32m     13\u001b[0m \u001b[38;5;124;03m    \"\"\"\u001b[39;00m\n\u001b[0;32m---> 14\u001b[0m     \u001b[38;5;28;43mself\u001b[39;49m\u001b[38;5;241;43m.\u001b[39;49m\u001b[43massertEqual\u001b[49m\u001b[43m(\u001b[49m\u001b[43mcomputeGCp\u001b[49m\u001b[43m(\u001b[49m\u001b[43mseq\u001b[49m\u001b[43m)\u001b[49m\u001b[43m,\u001b[49m\u001b[43m \u001b[49m\u001b[43mp\u001b[49m\u001b[43m,\u001b[49m\u001b[43m \u001b[49m\u001b[38;5;124;43mf\u001b[39;49m\u001b[38;5;124;43m\"\u001b[39;49m\u001b[38;5;124;43mThe result should be \u001b[39;49m\u001b[38;5;132;43;01m{\u001b[39;49;00m\u001b[43mp\u001b[49m\u001b[38;5;132;43;01m}\u001b[39;49;00m\u001b[38;5;124;43m\"\u001b[39;49m\u001b[43m)\u001b[49m\n",
      "File \u001b[0;32m~/opt/anaconda3/lib/python3.9/unittest/case.py:837\u001b[0m, in \u001b[0;36mTestCase.assertEqual\u001b[0;34m(self, first, second, msg)\u001b[0m\n\u001b[1;32m    833\u001b[0m \u001b[38;5;124;03m\"\"\"Fail if the two objects are unequal as determined by the '=='\u001b[39;00m\n\u001b[1;32m    834\u001b[0m \u001b[38;5;124;03m   operator.\u001b[39;00m\n\u001b[1;32m    835\u001b[0m \u001b[38;5;124;03m\"\"\"\u001b[39;00m\n\u001b[1;32m    836\u001b[0m assertion_func \u001b[38;5;241m=\u001b[39m \u001b[38;5;28mself\u001b[39m\u001b[38;5;241m.\u001b[39m_getAssertEqualityFunc(first, second)\n\u001b[0;32m--> 837\u001b[0m \u001b[43massertion_func\u001b[49m\u001b[43m(\u001b[49m\u001b[43mfirst\u001b[49m\u001b[43m,\u001b[49m\u001b[43m \u001b[49m\u001b[43msecond\u001b[49m\u001b[43m,\u001b[49m\u001b[43m \u001b[49m\u001b[43mmsg\u001b[49m\u001b[38;5;241;43m=\u001b[39;49m\u001b[43mmsg\u001b[49m\u001b[43m)\u001b[49m\n",
      "File \u001b[0;32m~/opt/anaconda3/lib/python3.9/unittest/case.py:830\u001b[0m, in \u001b[0;36mTestCase._baseAssertEqual\u001b[0;34m(self, first, second, msg)\u001b[0m\n\u001b[1;32m    828\u001b[0m standardMsg \u001b[38;5;241m=\u001b[39m \u001b[38;5;124m'\u001b[39m\u001b[38;5;132;01m%s\u001b[39;00m\u001b[38;5;124m != \u001b[39m\u001b[38;5;132;01m%s\u001b[39;00m\u001b[38;5;124m'\u001b[39m \u001b[38;5;241m%\u001b[39m _common_shorten_repr(first, second)\n\u001b[1;32m    829\u001b[0m msg \u001b[38;5;241m=\u001b[39m \u001b[38;5;28mself\u001b[39m\u001b[38;5;241m.\u001b[39m_formatMessage(msg, standardMsg)\n\u001b[0;32m--> 830\u001b[0m \u001b[38;5;28;01mraise\u001b[39;00m \u001b[38;5;28mself\u001b[39m\u001b[38;5;241m.\u001b[39mfailureException(msg)\n",
      "\u001b[0;31mAssertionError\u001b[0m: 100.0 != 1 : The result should be 1"
     ]
    }
   ],
   "source": [
    "t.test_computeGCp(\"GG\", 1)"
   ]
  },
  {
   "cell_type": "code",
   "execution_count": 43,
   "id": "ef82b134-9b82-4ab7-bf48-5d8dc1d21bc3",
   "metadata": {},
   "outputs": [],
   "source": [
    "t.test_computeGCp(\"GG\", 100)"
   ]
  },
  {
   "cell_type": "code",
   "execution_count": 44,
   "id": "a95c9889-605a-458e-8d63-c974db662e19",
   "metadata": {},
   "outputs": [
    {
     "ename": "AttributeError",
     "evalue": "'NoneType' object has no attribute 'count'",
     "output_type": "error",
     "traceback": [
      "\u001b[0;31m---------------------------------------------------------------------------\u001b[0m",
      "\u001b[0;31mAttributeError\u001b[0m                            Traceback (most recent call last)",
      "Input \u001b[0;32mIn [44]\u001b[0m, in \u001b[0;36m<cell line: 1>\u001b[0;34m()\u001b[0m\n\u001b[0;32m----> 1\u001b[0m \u001b[43mt\u001b[49m\u001b[38;5;241;43m.\u001b[39;49m\u001b[43mtest_computeGCp_None\u001b[49m\u001b[43m(\u001b[49m\u001b[43m)\u001b[49m\n",
      "Input \u001b[0;32mIn [38]\u001b[0m, in \u001b[0;36mTestComputeGCp.test_computeGCp_None\u001b[0;34m(self)\u001b[0m\n\u001b[1;32m     16\u001b[0m \u001b[38;5;28;01mdef\u001b[39;00m \u001b[38;5;21mtest_computeGCp_None\u001b[39m(\u001b[38;5;28mself\u001b[39m):\n\u001b[1;32m     17\u001b[0m     \u001b[38;5;124;03m\"\"\"\u001b[39;00m\n\u001b[1;32m     18\u001b[0m \u001b[38;5;124;03m    Exceptional case when we have None as the input sequence\u001b[39;00m\n\u001b[1;32m     19\u001b[0m \u001b[38;5;124;03m    \"\"\"\u001b[39;00m\n\u001b[0;32m---> 20\u001b[0m     \u001b[38;5;28mself\u001b[39m\u001b[38;5;241m.\u001b[39massertEqual(\u001b[43mcomputeGCp\u001b[49m\u001b[43m(\u001b[49m\u001b[38;5;28;43;01mNone\u001b[39;49;00m\u001b[43m)\u001b[49m, \u001b[38;5;28;01mNone\u001b[39;00m, \u001b[38;5;124m\"\u001b[39m\u001b[38;5;124mThe result should be None\u001b[39m\u001b[38;5;124m\"\u001b[39m)\n",
      "Input \u001b[0;32mIn [29]\u001b[0m, in \u001b[0;36mcomputeGCp\u001b[0;34m(seq)\u001b[0m\n\u001b[1;32m      3\u001b[0m \u001b[38;5;28;01mdef\u001b[39;00m \u001b[38;5;21mcomputeGCp\u001b[39m(seq):\n\u001b[1;32m      4\u001b[0m     \u001b[38;5;124;03m\"\"\" \u001b[39;00m\n\u001b[1;32m      5\u001b[0m \u001b[38;5;124;03m    Compute the GC percentage for a geiven sequence\u001b[39;00m\n\u001b[1;32m      6\u001b[0m \u001b[38;5;124;03m    The GC percentage is the pergentage (0-100) of Cs and Gs \u001b[39;00m\n\u001b[1;32m      7\u001b[0m \u001b[38;5;124;03m    outof the total number of nucleotides in the sequence\u001b[39;00m\n\u001b[1;32m      8\u001b[0m \u001b[38;5;124;03m    \"\"\"\u001b[39;00m\n\u001b[0;32m----> 9\u001b[0m     \u001b[38;5;28;01mreturn\u001b[39;00m \u001b[38;5;241m100\u001b[39m \u001b[38;5;241m*\u001b[39m (\u001b[43mseq\u001b[49m\u001b[38;5;241;43m.\u001b[39;49m\u001b[43mcount\u001b[49m(\u001b[38;5;124m\"\u001b[39m\u001b[38;5;124mC\u001b[39m\u001b[38;5;124m\"\u001b[39m) \u001b[38;5;241m+\u001b[39m seq\u001b[38;5;241m.\u001b[39mcount(\u001b[38;5;124m\"\u001b[39m\u001b[38;5;124mG\u001b[39m\u001b[38;5;124m\"\u001b[39m))\u001b[38;5;241m/\u001b[39m\u001b[38;5;28mlen\u001b[39m(seq)\n",
      "\u001b[0;31mAttributeError\u001b[0m: 'NoneType' object has no attribute 'count'"
     ]
    }
   ],
   "source": [
    "t.test_computeGCp_None()"
   ]
  },
  {
   "cell_type": "markdown",
   "id": "9f106cbf-d228-40da-9c9e-ceed51759c79",
   "metadata": {},
   "source": [
    "#### <font color = \"red\">Exercise</font> \n",
    "Handle the case when the input is None"
   ]
  },
  {
   "cell_type": "code",
   "execution_count": 47,
   "id": "54ac5d47-e2fc-48ca-9e2f-bd28b30e5ff2",
   "metadata": {},
   "outputs": [],
   "source": [
    "# handle the case when the input is None\n",
    "\n",
    "def computeGCp(seq):\n",
    "    if seq != None:\n",
    "        return 100 * (seq.count(\"C\") + seq.count(\"G\"))/len(seq)"
   ]
  },
  {
   "cell_type": "code",
   "execution_count": 48,
   "id": "a8e9ad3d-b0f3-42f4-9cda-ab7604e0f6b4",
   "metadata": {},
   "outputs": [],
   "source": [
    "t.test_computeGCp_None()"
   ]
  },
  {
   "cell_type": "code",
   "execution_count": 49,
   "id": "adcb374e-0d75-4bfd-8f3e-f78ecf58eabb",
   "metadata": {},
   "outputs": [
    {
     "ename": "ZeroDivisionError",
     "evalue": "division by zero",
     "output_type": "error",
     "traceback": [
      "\u001b[0;31m---------------------------------------------------------------------------\u001b[0m",
      "\u001b[0;31mZeroDivisionError\u001b[0m                         Traceback (most recent call last)",
      "Input \u001b[0;32mIn [49]\u001b[0m, in \u001b[0;36m<cell line: 3>\u001b[0;34m()\u001b[0m\n\u001b[1;32m      1\u001b[0m \u001b[38;5;66;03m# try the case when the sequence is an empty string\u001b[39;00m\n\u001b[1;32m      2\u001b[0m \u001b[38;5;66;03m# will this work? - if not handle this \u001b[39;00m\n\u001b[0;32m----> 3\u001b[0m \u001b[43mt\u001b[49m\u001b[38;5;241;43m.\u001b[39;49m\u001b[43mtest_computeGCp\u001b[49m\u001b[43m(\u001b[49m\u001b[38;5;124;43m\"\u001b[39;49m\u001b[38;5;124;43m\"\u001b[39;49m\u001b[43m,\u001b[49m\u001b[43m \u001b[49m\u001b[38;5;241;43m0\u001b[39;49m\u001b[43m)\u001b[49m\n",
      "Input \u001b[0;32mIn [38]\u001b[0m, in \u001b[0;36mTestComputeGCp.test_computeGCp\u001b[0;34m(self, seq, p)\u001b[0m\n\u001b[1;32m     10\u001b[0m \u001b[38;5;28;01mdef\u001b[39;00m \u001b[38;5;21mtest_computeGCp\u001b[39m(\u001b[38;5;28mself\u001b[39m, seq, p):\n\u001b[1;32m     11\u001b[0m     \u001b[38;5;124;03m\"\"\"\u001b[39;00m\n\u001b[1;32m     12\u001b[0m \u001b[38;5;124;03m    General test case when we expect a certain percentage\u001b[39;00m\n\u001b[1;32m     13\u001b[0m \u001b[38;5;124;03m    \"\"\"\u001b[39;00m\n\u001b[0;32m---> 14\u001b[0m     \u001b[38;5;28mself\u001b[39m\u001b[38;5;241m.\u001b[39massertEqual(\u001b[43mcomputeGCp\u001b[49m\u001b[43m(\u001b[49m\u001b[43mseq\u001b[49m\u001b[43m)\u001b[49m, p, \u001b[38;5;124mf\u001b[39m\u001b[38;5;124m\"\u001b[39m\u001b[38;5;124mThe result should be \u001b[39m\u001b[38;5;132;01m{\u001b[39;00mp\u001b[38;5;132;01m}\u001b[39;00m\u001b[38;5;124m\"\u001b[39m)\n",
      "Input \u001b[0;32mIn [47]\u001b[0m, in \u001b[0;36mcomputeGCp\u001b[0;34m(seq)\u001b[0m\n\u001b[1;32m      3\u001b[0m \u001b[38;5;28;01mdef\u001b[39;00m \u001b[38;5;21mcomputeGCp\u001b[39m(seq):\n\u001b[1;32m      4\u001b[0m     \u001b[38;5;28;01mif\u001b[39;00m seq \u001b[38;5;241m!=\u001b[39m \u001b[38;5;28;01mNone\u001b[39;00m:\n\u001b[0;32m----> 5\u001b[0m         \u001b[38;5;28;01mreturn\u001b[39;00m \u001b[38;5;241;43m100\u001b[39;49m\u001b[43m \u001b[49m\u001b[38;5;241;43m*\u001b[39;49m\u001b[43m \u001b[49m\u001b[43m(\u001b[49m\u001b[43mseq\u001b[49m\u001b[38;5;241;43m.\u001b[39;49m\u001b[43mcount\u001b[49m\u001b[43m(\u001b[49m\u001b[38;5;124;43m\"\u001b[39;49m\u001b[38;5;124;43mC\u001b[39;49m\u001b[38;5;124;43m\"\u001b[39;49m\u001b[43m)\u001b[49m\u001b[43m \u001b[49m\u001b[38;5;241;43m+\u001b[39;49m\u001b[43m \u001b[49m\u001b[43mseq\u001b[49m\u001b[38;5;241;43m.\u001b[39;49m\u001b[43mcount\u001b[49m\u001b[43m(\u001b[49m\u001b[38;5;124;43m\"\u001b[39;49m\u001b[38;5;124;43mG\u001b[39;49m\u001b[38;5;124;43m\"\u001b[39;49m\u001b[43m)\u001b[49m\u001b[43m)\u001b[49m\u001b[38;5;241;43m/\u001b[39;49m\u001b[38;5;28;43mlen\u001b[39;49m\u001b[43m(\u001b[49m\u001b[43mseq\u001b[49m\u001b[43m)\u001b[49m\n",
      "\u001b[0;31mZeroDivisionError\u001b[0m: division by zero"
     ]
    }
   ],
   "source": [
    "# try the case when the sequence is an empty string\n",
    "# will this work? - if not handle this \n",
    "t.test_computeGCp(\"\", 0)"
   ]
  },
  {
   "cell_type": "markdown",
   "id": "297fa5b1-e2a1-40d9-8b1a-ef6426898f52",
   "metadata": {
    "tags": []
   },
   "source": [
    "#### <font color = \"red\">Exercise</font> \n",
    "Handle the case when the input is an empty string"
   ]
  },
  {
   "cell_type": "code",
   "execution_count": 52,
   "id": "90542f82-a1c7-4328-8b3c-e418da49880e",
   "metadata": {},
   "outputs": [],
   "source": [
    "# handle the case when the input is an empty string\n",
    "\n",
    "def computeGCp(seq):\n",
    "    if seq == \"\":\n",
    "        return 0\n",
    "    if seq != None:\n",
    "        return 100 * (seq.count(\"C\") + seq.count(\"G\"))/len(seq)"
   ]
  },
  {
   "cell_type": "code",
   "execution_count": 54,
   "id": "c5a04eb6-5e16-49a6-8437-72a87ecebfc4",
   "metadata": {},
   "outputs": [],
   "source": [
    "def computeGCp(seq):\n",
    "    if seq != None:\n",
    "        if seq != \"\":\n",
    "            return 100 * (seq.count(\"C\") + seq.count(\"G\"))/len(seq)\n",
    "        else:\n",
    "            return 0"
   ]
  },
  {
   "cell_type": "code",
   "execution_count": 55,
   "id": "40389a86-91c2-4a21-94ee-d4831af03ad6",
   "metadata": {},
   "outputs": [],
   "source": [
    "t.test_computeGCp(\"\", 0)"
   ]
  },
  {
   "cell_type": "code",
   "execution_count": 56,
   "id": "2162317b-0bcf-4993-a258-372d50da0e4d",
   "metadata": {},
   "outputs": [],
   "source": [
    "t.test_computeGCp_None()"
   ]
  },
  {
   "cell_type": "code",
   "execution_count": 57,
   "id": "a2690654-f67f-4035-8c78-7db738121338",
   "metadata": {},
   "outputs": [],
   "source": [
    "t.test_computeGCp(\"GGCC\", 100)"
   ]
  },
  {
   "cell_type": "code",
   "execution_count": 59,
   "id": "4c23dc3f-63be-4b75-8ee2-cc7c7c5c1b5f",
   "metadata": {},
   "outputs": [],
   "source": [
    "t.test_computeGCp(\"GCAT\", 50)"
   ]
  },
  {
   "cell_type": "code",
   "execution_count": 61,
   "id": "85661023-c3c1-4592-933d-5f78e341f3a8",
   "metadata": {},
   "outputs": [],
   "source": [
    "t.test_computeGCp(\"TTTAAAT\", 0)"
   ]
  },
  {
   "cell_type": "code",
   "execution_count": null,
   "id": "187423b8-99c5-4749-b1a1-883d9ca163a7",
   "metadata": {},
   "outputs": [],
   "source": []
  },
  {
   "cell_type": "code",
   "execution_count": null,
   "id": "b9134183-b006-4836-8034-fc0801a6d349",
   "metadata": {},
   "outputs": [],
   "source": []
  },
  {
   "cell_type": "markdown",
   "id": "30ed8d2b-3990-47d6-a56b-21bf4d33ce96",
   "metadata": {
    "tags": []
   },
   "source": [
    "#### So far, we organized our tests a bit better \n",
    "- we still run tests one by one  \n",
    "- we cannot account automatically for how many tests passed and how many failed unless we run a for loop and handle exceptions"
   ]
  },
  {
   "cell_type": "markdown",
   "id": "8b065d23-3e40-4d14-85b1-9bf761e56717",
   "metadata": {},
   "source": [
    "For a simple way to run the tests use `unittest.main()`\n",
    "- It provides a command-line interface to the test `script`\n",
    "- The code has to be in a script (.py) file and add the following at the end of the file\n",
    "    - this following code will be explained in more detail in a separate session when we talk about modules\n",
    "```python\n",
    "    if __name__ == '__main__':\n",
    "        unittest.main()\n",
    "```"
   ]
  },
  {
   "cell_type": "code",
   "execution_count": 63,
   "id": "76d765c9-c972-4628-ae79-e9048a52abef",
   "metadata": {
    "collapsed": true,
    "jupyter": {
     "outputs_hidden": true
    },
    "tags": []
   },
   "outputs": [
    {
     "data": {
      "text/plain": [
       "\u001b[0;31mInit signature:\u001b[0m\n",
       "\u001b[0munittest\u001b[0m\u001b[0;34m.\u001b[0m\u001b[0mmain\u001b[0m\u001b[0;34m(\u001b[0m\u001b[0;34m\u001b[0m\n",
       "\u001b[0;34m\u001b[0m    \u001b[0mmodule\u001b[0m\u001b[0;34m=\u001b[0m\u001b[0;34m'__main__'\u001b[0m\u001b[0;34m,\u001b[0m\u001b[0;34m\u001b[0m\n",
       "\u001b[0;34m\u001b[0m    \u001b[0mdefaultTest\u001b[0m\u001b[0;34m=\u001b[0m\u001b[0;32mNone\u001b[0m\u001b[0;34m,\u001b[0m\u001b[0;34m\u001b[0m\n",
       "\u001b[0;34m\u001b[0m    \u001b[0margv\u001b[0m\u001b[0;34m=\u001b[0m\u001b[0;32mNone\u001b[0m\u001b[0;34m,\u001b[0m\u001b[0;34m\u001b[0m\n",
       "\u001b[0;34m\u001b[0m    \u001b[0mtestRunner\u001b[0m\u001b[0;34m=\u001b[0m\u001b[0;32mNone\u001b[0m\u001b[0;34m,\u001b[0m\u001b[0;34m\u001b[0m\n",
       "\u001b[0;34m\u001b[0m    \u001b[0mtestLoader\u001b[0m\u001b[0;34m=\u001b[0m\u001b[0;34m<\u001b[0m\u001b[0munittest\u001b[0m\u001b[0;34m.\u001b[0m\u001b[0mloader\u001b[0m\u001b[0;34m.\u001b[0m\u001b[0mTestLoader\u001b[0m \u001b[0mobject\u001b[0m \u001b[0mat\u001b[0m \u001b[0;36m0x7face9abec10\u001b[0m\u001b[0;34m>\u001b[0m\u001b[0;34m,\u001b[0m\u001b[0;34m\u001b[0m\n",
       "\u001b[0;34m\u001b[0m    \u001b[0mexit\u001b[0m\u001b[0;34m=\u001b[0m\u001b[0;32mTrue\u001b[0m\u001b[0;34m,\u001b[0m\u001b[0;34m\u001b[0m\n",
       "\u001b[0;34m\u001b[0m    \u001b[0mverbosity\u001b[0m\u001b[0;34m=\u001b[0m\u001b[0;36m1\u001b[0m\u001b[0;34m,\u001b[0m\u001b[0;34m\u001b[0m\n",
       "\u001b[0;34m\u001b[0m    \u001b[0mfailfast\u001b[0m\u001b[0;34m=\u001b[0m\u001b[0;32mNone\u001b[0m\u001b[0;34m,\u001b[0m\u001b[0;34m\u001b[0m\n",
       "\u001b[0;34m\u001b[0m    \u001b[0mcatchbreak\u001b[0m\u001b[0;34m=\u001b[0m\u001b[0;32mNone\u001b[0m\u001b[0;34m,\u001b[0m\u001b[0;34m\u001b[0m\n",
       "\u001b[0;34m\u001b[0m    \u001b[0mbuffer\u001b[0m\u001b[0;34m=\u001b[0m\u001b[0;32mNone\u001b[0m\u001b[0;34m,\u001b[0m\u001b[0;34m\u001b[0m\n",
       "\u001b[0;34m\u001b[0m    \u001b[0mwarnings\u001b[0m\u001b[0;34m=\u001b[0m\u001b[0;32mNone\u001b[0m\u001b[0;34m,\u001b[0m\u001b[0;34m\u001b[0m\n",
       "\u001b[0;34m\u001b[0m    \u001b[0;34m*\u001b[0m\u001b[0;34m,\u001b[0m\u001b[0;34m\u001b[0m\n",
       "\u001b[0;34m\u001b[0m    \u001b[0mtb_locals\u001b[0m\u001b[0;34m=\u001b[0m\u001b[0;32mFalse\u001b[0m\u001b[0;34m,\u001b[0m\u001b[0;34m\u001b[0m\n",
       "\u001b[0;34m\u001b[0m\u001b[0;34m)\u001b[0m\u001b[0;34m\u001b[0m\u001b[0;34m\u001b[0m\u001b[0m\n",
       "\u001b[0;31mDocstring:\u001b[0m     \n",
       "A command-line program that runs a set of tests; this is primarily\n",
       "for making test modules conveniently executable.\n",
       "\u001b[0;31mFile:\u001b[0m           ~/opt/anaconda3/lib/python3.9/unittest/main.py\n",
       "\u001b[0;31mType:\u001b[0m           type\n",
       "\u001b[0;31mSubclasses:\u001b[0m     \n"
      ]
     },
     "metadata": {},
     "output_type": "display_data"
    }
   ],
   "source": [
    "unittest.main?"
   ]
  },
  {
   "cell_type": "markdown",
   "id": "a59a7be4-46a0-4660-b027-c7d422a778d7",
   "metadata": {
    "tags": []
   },
   "source": [
    "#### To run all tests and get a summary - we create a script\n",
    "- create a file `test_GC.py` and add the code from the following cell in the file\n",
    "- add the function `computeGCp` to the file\n",
    "- add the above if statement to the end of the file\n",
    "- then run the script using `python test_GC.py`\n",
    "    - you will notice that general tests that have arguments like `test_computeGCp` will not be able to run\n",
    "    - make that test more specific, no arguments, use the sequence \"AACG\" and instead of p the value 50.\n",
    "    "
   ]
  },
  {
   "cell_type": "code",
   "execution_count": null,
   "id": "926c4c64-a1d2-45c2-b6f0-5168ea654552",
   "metadata": {},
   "outputs": [],
   "source": [
    "import unittest\n",
    "\n",
    "\n",
    "class TestComputeGCp(unittest.TestCase):\n",
    "    \"\"\"\n",
    "    Class to test the function computeGCp \n",
    "    Each method in this class will be a test case\n",
    "    \"\"\"\n",
    "    \n",
    "    def test_computeGCp(self, seq, p):\n",
    "        \"\"\"\n",
    "        General test case when we expect a certain percentage\n",
    "        \"\"\"\n",
    "        self.assertEqual(computeGCp(seq), p, f\"The result should be {p}\")\n",
    "\n",
    "    def test_computeGCp_None(self):\n",
    "        \"\"\"\n",
    "        Exceptional case when we have None as the input sequence\n",
    "        \"\"\"\n",
    "        self.assertEqual(computeGCp(None), None, \"The result should be None\")\n",
    "\n"
   ]
  },
  {
   "cell_type": "code",
   "execution_count": null,
   "id": "7ef0dc6a-8ebc-4b17-a41f-62e105008f0c",
   "metadata": {},
   "outputs": [],
   "source": []
  },
  {
   "cell_type": "code",
   "execution_count": null,
   "id": "8133420e-6956-4823-a17b-fdb989c64291",
   "metadata": {},
   "outputs": [],
   "source": []
  },
  {
   "cell_type": "markdown",
   "id": "94fe0565-bbda-4a2c-beff-b368cda6ed5b",
   "metadata": {},
   "source": [
    "____\n",
    "\n",
    "There are multiple assert functions in the unittest package: \n",
    "\n",
    "| Method                    | Checks that          |\n",
    "|---------------------------|----------------------|\n",
    "| assertEqual(a, b)         | a == b               |\n",
    "| assertNotEqual(a, b)      | a != b               |\n",
    "| assertTrue(x)             | bool(x) is True      |\n",
    "| assertFalse(x)            | bool(x) is False     |\n",
    "| assertIs(a, b)            | a is b               |\n",
    "| assertIsNot(a, b)         | a is not b           |\n",
    "| assertIsNone(x)           | x is None            |\n",
    "| assertIsNotNone(x)        | x is not None        |\n",
    "| assertIn(a, b)            | a in b               |\n",
    "| assertNotIn(a, b)         | a not in b           |\n",
    "| assertIsInstance(a, b)    | isinstance(a, b)     |\n",
    "| assertNotIsInstance(a, b) | not isinstance(a, b) |\n",
    "| assertRaises(exc, fun, *args, **kwds) | fun(*args, **kwds) raises exc |\n",
    "| assertAlmostEqual(a, b) | round(a-b, 7) == 0  |\n",
    "...\n",
    "\n",
    "\n",
    "\n",
    "\n",
    "Complete list:   \n",
    "https://kapeli.com/cheat_sheets/Python_unittest_Assertions.docset/Contents/Resources/Documents/index      \n",
    "https://docs.python.org/3/library/unittest.html#unittest.TestCase.debug"
   ]
  },
  {
   "cell_type": "markdown",
   "id": "2370298e-5b14-43c1-8e86-1f3d96c28b9f",
   "metadata": {
    "tags": []
   },
   "source": [
    "#### <font color = \"red\">Exercise</font> \n"
   ]
  },
  {
   "cell_type": "markdown",
   "id": "c4519680-935b-4b72-9a6d-73aee1b611ff",
   "metadata": {
    "tags": []
   },
   "source": [
    "#### Testing the methods of a class/type - we can create a script\n",
    "- create a file `test_string_methods.py` and add the code from the following cell in the file\n",
    "- add the if statement at the end of the file\n",
    "```python\n",
    "    if __name__ == '__main__':\n",
    "        unittest.main()\n",
    "```\n",
    "- then run the script using `python test_string_methods.py`\n"
   ]
  },
  {
   "cell_type": "code",
   "execution_count": 66,
   "id": "7130dae8-91a9-4f29-8686-dde5d691c6dc",
   "metadata": {
    "collapsed": true,
    "jupyter": {
     "outputs_hidden": true
    },
    "tags": []
   },
   "outputs": [
    {
     "data": {
      "text/plain": [
       "['__add__',\n",
       " '__class__',\n",
       " '__contains__',\n",
       " '__delattr__',\n",
       " '__dir__',\n",
       " '__doc__',\n",
       " '__eq__',\n",
       " '__format__',\n",
       " '__ge__',\n",
       " '__getattribute__',\n",
       " '__getitem__',\n",
       " '__getnewargs__',\n",
       " '__gt__',\n",
       " '__hash__',\n",
       " '__init__',\n",
       " '__init_subclass__',\n",
       " '__iter__',\n",
       " '__le__',\n",
       " '__len__',\n",
       " '__lt__',\n",
       " '__mod__',\n",
       " '__mul__',\n",
       " '__ne__',\n",
       " '__new__',\n",
       " '__reduce__',\n",
       " '__reduce_ex__',\n",
       " '__repr__',\n",
       " '__rmod__',\n",
       " '__rmul__',\n",
       " '__setattr__',\n",
       " '__sizeof__',\n",
       " '__str__',\n",
       " '__subclasshook__',\n",
       " 'capitalize',\n",
       " 'casefold',\n",
       " 'center',\n",
       " 'count',\n",
       " 'encode',\n",
       " 'endswith',\n",
       " 'expandtabs',\n",
       " 'find',\n",
       " 'format',\n",
       " 'format_map',\n",
       " 'index',\n",
       " 'isalnum',\n",
       " 'isalpha',\n",
       " 'isascii',\n",
       " 'isdecimal',\n",
       " 'isdigit',\n",
       " 'isidentifier',\n",
       " 'islower',\n",
       " 'isnumeric',\n",
       " 'isprintable',\n",
       " 'isspace',\n",
       " 'istitle',\n",
       " 'isupper',\n",
       " 'join',\n",
       " 'ljust',\n",
       " 'lower',\n",
       " 'lstrip',\n",
       " 'maketrans',\n",
       " 'partition',\n",
       " 'removeprefix',\n",
       " 'removesuffix',\n",
       " 'replace',\n",
       " 'rfind',\n",
       " 'rindex',\n",
       " 'rjust',\n",
       " 'rpartition',\n",
       " 'rsplit',\n",
       " 'rstrip',\n",
       " 'split',\n",
       " 'splitlines',\n",
       " 'startswith',\n",
       " 'strip',\n",
       " 'swapcase',\n",
       " 'title',\n",
       " 'translate',\n",
       " 'upper',\n",
       " 'zfill']"
      ]
     },
     "execution_count": 66,
     "metadata": {},
     "output_type": "execute_result"
    }
   ],
   "source": [
    "dir(str)"
   ]
  },
  {
   "cell_type": "code",
   "execution_count": 64,
   "id": "458787bb-bec2-4313-b0ac-016f55d255ff",
   "metadata": {},
   "outputs": [],
   "source": [
    "# running this code in a cell in a notebook will just create the class\n",
    "# it will not run any tests\n",
    "\n",
    "import unittest\n",
    "\n",
    "class TestStringMethods(unittest.TestCase):\n",
    "\n",
    "    def test_upper(self):\n",
    "        self.assertEqual('aCg'.upper(), 'ACG')\n",
    "\n",
    "    def test_isupper(self):\n",
    "        self.assertTrue('ACGTT'.isupper())\n",
    "        self.assertFalse('acgT'.isupper())\n",
    "\n",
    "    def test_split(self):\n",
    "        s = 'hello world'\n",
    "        self.assertEqual(s.split(), ['hello', 'world'])\n",
    "        # check that s.split fails when the separator is not a string\n",
    "        with self.assertRaises(TypeError):\n",
    "            s.split(2)\n"
   ]
  },
  {
   "cell_type": "code",
   "execution_count": 65,
   "id": "bad53716-2689-4182-a2bc-e337f2c5afe6",
   "metadata": {},
   "outputs": [
    {
     "name": "stdout",
     "output_type": "stream",
     "text": [
      "Variable            Type              Data/Info\n",
      "-----------------------------------------------\n",
      "TestComputeGCp      type              <class '__main__.TestComputeGCp'>\n",
      "TestStringMethods   type              <class '__main__.TestStringMethods'>\n",
      "computeGCp          function          <function computeGCp at 0x7facd890b160>\n",
      "n                   int               5\n",
      "result              int               15\n",
      "sequence            str               C\n",
      "t                   TestComputeGCp    runTest (__main__.TestComputeGCp)\n",
      "test_CGp            function          <function test_CGp at 0x7faca85a7160>\n",
      "unittest            module            <module 'unittest' from '<...>.9/unittest/__init__.py'>\n"
     ]
    }
   ],
   "source": [
    "%whos"
   ]
  },
  {
   "cell_type": "markdown",
   "id": "a110920c-7e76-4755-81e2-eaf74300aabc",
   "metadata": {
    "tags": []
   },
   "source": [
    "#### Organizing test code\n",
    "https://docs.python.org/3/library/unittest.html#organizing-test-code\n",
    "\n",
    "The basic building blocks of unit testing are test cases — single scenarios that must be set up and checked for correctness. \n",
    "\n",
    "In unittest, test cases are represented by unittest.TestCase instances. To make your own test cases you must write subclasses of TestCase or use FunctionTestCase.\n",
    "\n",
    "The testing code of a TestCase instance should be entirely self contained, such that it can be run either in isolation or in arbitrary combination with any number of other test cases.\n",
    "\n"
   ]
  },
  {
   "cell_type": "markdown",
   "id": "4a41683b-0f7f-4a6a-b748-754a406d80e9",
   "metadata": {},
   "source": [
    "You can put all your tests in a separate cell in your notebook.   \n",
    "When you write scripts or modules or packages you put the tests in different scripts/modules/packages."
   ]
  },
  {
   "cell_type": "code",
   "execution_count": null,
   "id": "548fed72-b325-4c29-8814-6cb2de0073c5",
   "metadata": {},
   "outputs": [],
   "source": []
  },
  {
   "cell_type": "code",
   "execution_count": null,
   "id": "02c8ce7b-f8d1-4e9d-a5f2-260bcc2b13be",
   "metadata": {},
   "outputs": [],
   "source": []
  },
  {
   "cell_type": "markdown",
   "id": "aeea8e97-4925-488f-8843-2b579e946e6d",
   "metadata": {
    "tags": []
   },
   "source": [
    "___ \n",
    "#### pytest\n",
    "\n",
    "https://docs.pytest.org/en/7.2.x/getting-started.html#get-started       \n",
    "https://www.geeksforgeeks.org/getting-started-with-testing-in-python/       \n",
    "https://www.guru99.com/pytest-tutorial.html\n",
    "\n",
    "\"The `pytest` framework makes it easy to write small, readable tests, and can scale to support complex functional testing for applications and libraries.\"\n",
    "\n",
    "\"It supports unittest test cases execution. It has benefits like supporting built in assert statement, filtering of test cases, returning from last failing test etc\"\n",
    "- Very easy to start with because of its simple and easy syntax.\n",
    "- Can run tests in parallel.\n",
    "- Can run a specific test or a subset of tests\n",
    "- Automatically detect tests\n",
    "- Skip tests\n",
    "- Open source\n",
    "\n",
    "\"By default pytest only identifies the file names starting with test_ or ending with _test as the test files. We can explicitly mention other filenames though (explained later). Pytest requires the test method names to start with “test.” All other method names will be ignored even if we explicitly ask to run those methods.\n",
    "\n"
   ]
  },
  {
   "cell_type": "markdown",
   "id": "208379ab-1ae4-4d9f-a916-123823845379",
   "metadata": {},
   "source": [
    "#### Install pytest \n",
    "- run the following command in a terminal      \n",
    "`pip install pytest`"
   ]
  },
  {
   "cell_type": "markdown",
   "id": "d386869c-c592-49c6-9ca7-7b7af21041a2",
   "metadata": {
    "tags": []
   },
   "source": [
    "#### Testing the function `computeGCp` - we can create a script\n",
    "- create a file `test_function.py` and add the code from the following cell in the file\n",
    "- then run the tests in all .py files using `pytest` \n",
    "- if we only want to run the tests thet contain the keyword `answer` we use `pytest -k 'answer'`\n",
    "- you can also run the tests in all files if you add to the script `import pytest` and the if statement for `__name__ == \"__main__\"` with `pytest.main()` under if and then run the script using `python test_function.py`\n",
    "\n",
    "\n",
    "\n"
   ]
  },
  {
   "cell_type": "code",
   "execution_count": 69,
   "id": "e4002492-08ef-4dd4-a681-63ba321c60a9",
   "metadata": {},
   "outputs": [],
   "source": [
    "import pytest"
   ]
  },
  {
   "cell_type": "code",
   "execution_count": null,
   "id": "b0b9a812-bdf0-4030-b3d0-c24b4f9cfe7a",
   "metadata": {},
   "outputs": [],
   "source": [
    "def computeGCp(seq):\n",
    "    return (seq.count(\"C\") + seq.count(\"G\"))/len(seq)\n",
    "\n",
    "\n",
    "def test_answer():\n",
    "    assert computeGCp(\"CCG\") == 1\n",
    "    \n",
    "def test_answer2():\n",
    "    assert computeGCp(\"AAATT\") == 0"
   ]
  },
  {
   "cell_type": "code",
   "execution_count": null,
   "id": "109b2cee-3a40-469c-96c6-6de1531beaa7",
   "metadata": {},
   "outputs": [],
   "source": []
  },
  {
   "cell_type": "markdown",
   "id": "d45df46a-1794-4229-9cca-b3f743f631d6",
   "metadata": {},
   "source": [
    "#### Summary\n",
    "\n",
    "- Practice test-driven development - write your tests before the code\n",
    "- Write independent tests\n",
    "- Automate your testing\n",
    "- Test individual units - functions/modules but also test the whole system to make sure all components work well together\n",
    "- Do not discard a test because it fails when you change the code - update the test if needed or correct the code\n",
    "- You should strive to write tests that run most if not all your code\n",
    "    - There are tools that provide a test coverage metric that tells us how much code did our tests run/test\n",
    "        - https://www.pythontutorial.net/python-unit-testing/python-unittest-coverage/\n",
    "        - https://www.pythontutorial.net/python-unit-testing/python-unittest-coverage/"
   ]
  },
  {
   "cell_type": "markdown",
   "id": "a9c9cd7d-efc6-49d0-9833-ff648af3005f",
   "metadata": {},
   "source": [
    "| Automated                                                                                                                                        |  Manual Testing                                                                                               |\n",
    "|--------------------------------------------------------------------------------------------------------------------------------------------------|---------------------------------------------------------------------------------------------------------------|\n",
    "| Test automation software along with testing tools executes the test cases.                                                                       | Explicitly humans involved in executing the tests step by step, and they may be testing without test scripts. |\n",
    "| Test cases are written by QA engineers but execution is fully automatic and it is quite faster and will run for n number of different scenarios. | Analysts and QA engineers need to get involved in end-to-end testing and time consuming.                      |\n",
    "\n",
    "\n",
    "\n",
    "| Unit Tests                                                                                                                        |  Integration Tests                                                                                                                                                                      |\n",
    "|-----------------------------------------------------------------------------------------------------------------------------------|-----------------------------------------------------------------------------------------------------------------------------------------------------------------------------------------|\n",
    "| Unit testing works on component by component basis and hence if any small component to be tested, we need to go for unit testing. | Integration testing works on the whole component, we can conclude as many unit tests make integration testing. And also a software is complete if whole integration testing is complete |\n",
    "| Testing of addition calculation alone in a calculator program for specific set of arguments                                       | Testing of all arithmetic operations like addition, subtraction etc., (whatever present in calculator program) with different set of arguments                                          |"
   ]
  },
  {
   "cell_type": "code",
   "execution_count": null,
   "id": "f921dd8c-861c-4f93-80e4-7d42ae7751ab",
   "metadata": {},
   "outputs": [],
   "source": []
  },
  {
   "cell_type": "code",
   "execution_count": null,
   "id": "ea9d36a7-0b7e-4c5b-b13f-744ecc840ac1",
   "metadata": {},
   "outputs": [],
   "source": []
  }
 ],
 "metadata": {
  "kernelspec": {
   "display_name": "Python 3 (ipykernel)",
   "language": "python",
   "name": "python3"
  },
  "language_info": {
   "codemirror_mode": {
    "name": "ipython",
    "version": 3
   },
   "file_extension": ".py",
   "mimetype": "text/x-python",
   "name": "python",
   "nbconvert_exporter": "python",
   "pygments_lexer": "ipython3",
   "version": "3.9.12"
  }
 },
 "nbformat": 4,
 "nbformat_minor": 5
}
