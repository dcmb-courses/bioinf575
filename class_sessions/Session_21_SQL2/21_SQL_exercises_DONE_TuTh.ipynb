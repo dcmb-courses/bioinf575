{
 "cells": [
  {
   "cell_type": "markdown",
   "metadata": {
    "tags": []
   },
   "source": [
    "## SQL exercises\n",
    "### BIOINF 575 - Fall 2022\n",
    "\n"
   ]
  },
  {
   "cell_type": "markdown",
   "metadata": {},
   "source": [
    "The. ALTER TABLE command: Changing a table without having to remove it and recreate it.   \n",
    "A table can be ALTERED to:\n",
    "* RENAME the TABLE\n",
    "* RENAME a COLUMN\n",
    "* ADD a COLUMN\n",
    "* DROP a COLUMN\n",
    "\n",
    "Detailed diagram of the command available at:   \n",
    "https://www.sqlite.org/lang_altertable.html\n",
    "\n",
    "Examples available at:   \n",
    "https://www.sqlitetutorial.net/sqlite-alter-table/    \n",
    "https://www.tutorialspoint.com/sqlite/sqlite_alter_command.htm    \n",
    "https://www.geeksforgeeks.org/how-to-alter-a-sqlite-table-using-python/"
   ]
  },
  {
   "cell_type": "code",
   "execution_count": null,
   "metadata": {},
   "outputs": [],
   "source": []
  },
  {
   "cell_type": "markdown",
   "metadata": {},
   "source": [
    "___\n",
    "\n",
    "<b> <font color = \"red\">Exercise</font></b>\n",
    "\n",
    "#### Create a database for genes and gene aliases\n",
    "\n",
    "Create a SQLite database with a genes table, and a gene_aliases table.   \n",
    "The genes table should have the following columns: gene_id, gene_symbol, the gene_description, start, stop.     \n",
    "The gene_aliases table should have the following columns: alias_id, gene_id and the alias.   \n",
    "Create an index on the column gene_id in the table gene_aliases.\n"
   ]
  },
  {
   "cell_type": "code",
   "execution_count": 1,
   "metadata": {},
   "outputs": [],
   "source": [
    "from sqlite3 import connect\n"
   ]
  },
  {
   "cell_type": "code",
   "execution_count": 2,
   "metadata": {},
   "outputs": [
    {
     "data": {
      "text/plain": [
       "\u001b[0;31mDocstring:\u001b[0m\n",
       "connect(database[, timeout, detect_types, isolation_level,\n",
       "        check_same_thread, factory, cached_statements, uri])\n",
       "\n",
       "Opens a connection to the SQLite database file *database*. You can use\n",
       "\":memory:\" to open a database connection to a database that resides in\n",
       "RAM instead of on disk.\n",
       "\u001b[0;31mType:\u001b[0m      builtin_function_or_method\n"
      ]
     },
     "metadata": {},
     "output_type": "display_data"
    }
   ],
   "source": [
    "connect?"
   ]
  },
  {
   "cell_type": "code",
   "execution_count": 14,
   "metadata": {},
   "outputs": [],
   "source": [
    "database_name = \"gene_aliases.sqlite\"\n",
    "\n",
    "connection = connect(database_name)"
   ]
  },
  {
   "cell_type": "code",
   "execution_count": 15,
   "metadata": {},
   "outputs": [],
   "source": [
    "cursor = connection.cursor()"
   ]
  },
  {
   "cell_type": "code",
   "execution_count": 17,
   "metadata": {},
   "outputs": [
    {
     "data": {
      "text/plain": [
       "[('table', 'genes'),\n",
       " ('table', 'sqlite_sequence'),\n",
       " ('table', 'gene_aliases'),\n",
       " ('index', 'gene_aliases_gene_id_idx')]"
      ]
     },
     "execution_count": 17,
     "metadata": {},
     "output_type": "execute_result"
    }
   ],
   "source": [
    "select_sqlite_master = \"\"\"\n",
    "SELECT type, name\n",
    "FROM sqlite_master;\n",
    "\"\"\"\n",
    "cursor.execute(select_sqlite_master)\n",
    "cursor.fetchall()"
   ]
  },
  {
   "cell_type": "code",
   "execution_count": 18,
   "metadata": {},
   "outputs": [
    {
     "name": "stdout",
     "output_type": "stream",
     "text": [
      "done!\n"
     ]
    }
   ],
   "source": [
    "# The genes table should have the following columns: \n",
    "# gene_id, gene_symbol, the gene_description, start, stop.\n",
    "\n",
    "\n",
    "# Write and run a create table statement for the genes table\n",
    "\n",
    "sql='''\n",
    "CREATE TABLE IF NOT EXISTS genes (\n",
    "      gene_id INTEGER PRIMARY KEY AUTOINCREMENT, \n",
    "      gene_symbol TEXT NOT NULL,\n",
    "      gene_description TEXT,\n",
    "      start BIGINT NOT NULL,\n",
    "      stop BIGINT NOT NULL);\n",
    "'''\n",
    "try:\n",
    "    cursor.execute(sql)\n",
    "except connection.DatabaseError:\n",
    "    print(\"Creating the genes table resulted in a database error!\")\n",
    "    connection.rollback()\n",
    "    raise\n",
    "else:\n",
    "    connection.commit()\n",
    "finally:\n",
    "    print(\"done!\")\n",
    "    \n",
    "    \n"
   ]
  },
  {
   "cell_type": "code",
   "execution_count": 21,
   "metadata": {},
   "outputs": [
    {
     "data": {
      "text/plain": [
       "[('genes', 'table'),\n",
       " ('sqlite_sequence', 'table'),\n",
       " ('gene_aliases', 'table'),\n",
       " ('gene_aliases_gene_id_idx', 'index')]"
      ]
     },
     "execution_count": 21,
     "metadata": {},
     "output_type": "execute_result"
    }
   ],
   "source": [
    "select_sqlite_master = \"\"\"\n",
    "SELECT name, type\n",
    "FROM sqlite_master;\n",
    "\"\"\"\n",
    "cursor.execute(select_sqlite_master)\n",
    "cursor.fetchall()"
   ]
  },
  {
   "cell_type": "code",
   "execution_count": 22,
   "metadata": {},
   "outputs": [
    {
     "data": {
      "text/plain": [
       "[('table', 'genes'),\n",
       " ('table', 'sqlite_sequence'),\n",
       " ('table', 'gene_aliases'),\n",
       " ('index', 'gene_aliases_gene_id_idx')]"
      ]
     },
     "execution_count": 22,
     "metadata": {},
     "output_type": "execute_result"
    }
   ],
   "source": [
    "select_sqlite_master = \"\"\"\n",
    "SELECT type, name \n",
    "FROM sqlite_master;\n",
    "\"\"\"\n",
    "cursor.execute(select_sqlite_master)\n",
    "cursor.fetchall()"
   ]
  },
  {
   "cell_type": "code",
   "execution_count": 23,
   "metadata": {},
   "outputs": [
    {
     "name": "stdout",
     "output_type": "stream",
     "text": [
      "done!\n"
     ]
    }
   ],
   "source": [
    "# The gene_aliases table should have the following columns: \n",
    "# alias_id, gene_id and the alias.\n",
    "\n",
    "\n",
    "# Write and run a create table statement for the gene_aliases table\n",
    "\n",
    "sql='''\n",
    "CREATE TABLE IF NOT EXISTS gene_aliases (\n",
    "      alias_id INTEGER PRIMARY KEY AUTOINCREMENT, \n",
    "      gene_id INT NOT NULL, -- this should connect to the gene_id in the genes table\n",
    "      alias TEXT NOT NULL,\n",
    "      FOREIGN KEY (gene_id) REFERENCES  genes  (gene_id)\n",
    "\n",
    ");\n",
    "'''\n",
    "try:\n",
    "    cursor.execute(sql)\n",
    "except connection.DatabaseError:\n",
    "    print(\"Creating the gene_aliases table resulted in a database error!\")\n",
    "    connection.rollback()\n",
    "    raise\n",
    "else:\n",
    "    connection.commit()\n",
    "finally:\n",
    "    print(\"done!\")\n",
    "    \n",
    "    \n",
    "\n"
   ]
  },
  {
   "cell_type": "code",
   "execution_count": 24,
   "metadata": {},
   "outputs": [
    {
     "data": {
      "text/plain": [
       "[('table', 'genes'),\n",
       " ('table', 'sqlite_sequence'),\n",
       " ('table', 'gene_aliases'),\n",
       " ('index', 'gene_aliases_gene_id_idx')]"
      ]
     },
     "execution_count": 24,
     "metadata": {},
     "output_type": "execute_result"
    }
   ],
   "source": [
    "select_sqlite_master = \"\"\"\n",
    "SELECT type, name \n",
    "FROM sqlite_master;\n",
    "\"\"\"\n",
    "cursor.execute(select_sqlite_master)\n",
    "cursor.fetchall()"
   ]
  },
  {
   "cell_type": "code",
   "execution_count": 26,
   "metadata": {},
   "outputs": [],
   "source": [
    "# Create an index on the column gene_id in the table gene_aliases.\n",
    "\n",
    "create_index_gene_id = \"\"\"\n",
    "CREATE INDEX IF NOT EXISTS gene_aliases_gene_id_idx ON gene_aliases (gene_id);\n",
    "\"\"\"\n",
    "cursor.execute(create_index_gene_id)\n",
    "connection.commit()"
   ]
  },
  {
   "cell_type": "code",
   "execution_count": 27,
   "metadata": {},
   "outputs": [
    {
     "data": {
      "text/plain": [
       "[('table', 'genes'),\n",
       " ('table', 'sqlite_sequence'),\n",
       " ('table', 'gene_aliases'),\n",
       " ('index', 'gene_aliases_gene_id_idx')]"
      ]
     },
     "execution_count": 27,
     "metadata": {},
     "output_type": "execute_result"
    }
   ],
   "source": [
    "select_sqlite_master = \"\"\"\n",
    "SELECT type, name \n",
    "FROM sqlite_master;\n",
    "\"\"\"\n",
    "cursor.execute(select_sqlite_master)\n",
    "cursor.fetchall()"
   ]
  },
  {
   "cell_type": "code",
   "execution_count": null,
   "metadata": {},
   "outputs": [],
   "source": []
  },
  {
   "cell_type": "code",
   "execution_count": null,
   "metadata": {},
   "outputs": [],
   "source": []
  },
  {
   "cell_type": "markdown",
   "metadata": {
    "tags": []
   },
   "source": [
    "___\n",
    "\n",
    "<b> <font color = \"red\">Exercise</font></b>\n",
    "\n",
    "#### Populate a database \n",
    "\n",
    "Insert data into tables in the genes and gene aliases database you just created.   \n",
    "Use the data from the file `genes_aliases.txt`.\n"
   ]
  },
  {
   "cell_type": "code",
   "execution_count": 30,
   "metadata": {},
   "outputs": [
    {
     "name": "stdout",
     "output_type": "stream",
     "text": [
      "('TERT', 'telomerase reverse transcriptase', '1253167', '1295068')\n",
      "1\n",
      "('TP63', 'tumor protein p63', '189596746', '189897276')\n",
      "2\n",
      "('CHRNA5', 'cholinergic receptor nicotinic alpha 5 subunit', '78565520', '78595269')\n",
      "3\n",
      "('CADM1', 'cell adhesion molecule 1', '115169236', '115504428')\n",
      "4\n",
      "('CHRNA3', 'cholinergic receptor nicotinic alpha 3 subunit', '78593052', '78620996')\n",
      "5\n",
      "('RACK1', 'receptor for activated C kinase 1', '181236897', '181243906')\n",
      "6\n"
     ]
    }
   ],
   "source": [
    "data_file_name = \"genes_aliases.txt\"\n",
    "\n",
    "insert_gene = \"\"\"\n",
    "INSERT INTO genes (gene_symbol, gene_description, start, stop)\n",
    "VALUES (?, ?, ?, ?);\n",
    "\"\"\"\n",
    "\n",
    "with open(data_file_name) as genes_file:\n",
    "    header_line = genes_file.readline()\n",
    "    for line in genes_file:\n",
    "        line_lst = line.strip().split(\"\\t\")\n",
    "        # print(line_lst)\n",
    "        gene_data = (line_lst[0], line_lst[2], line_lst[4], line_lst[5])\n",
    "        print(gene_data)\n",
    "        cursor.execute(insert_gene, gene_data)\n",
    "        gene_id = cursor.lastrowid\n",
    "        print(gene_id)\n",
    "        "
   ]
  },
  {
   "cell_type": "code",
   "execution_count": 31,
   "metadata": {},
   "outputs": [
    {
     "data": {
      "text/plain": [
       "[(1, 'TERT', 'telomerase reverse transcriptase', 1253167, 1295068),\n",
       " (2, 'TP63', 'tumor protein p63', 189596746, 189897276),\n",
       " (3,\n",
       "  'CHRNA5',\n",
       "  'cholinergic receptor nicotinic alpha 5 subunit',\n",
       "  78565520,\n",
       "  78595269),\n",
       " (4, 'CADM1', 'cell adhesion molecule 1', 115169236, 115504428),\n",
       " (5,\n",
       "  'CHRNA3',\n",
       "  'cholinergic receptor nicotinic alpha 3 subunit',\n",
       "  78593052,\n",
       "  78620996),\n",
       " (6, 'RACK1', 'receptor for activated C kinase 1', 181236897, 181243906)]"
      ]
     },
     "execution_count": 31,
     "metadata": {},
     "output_type": "execute_result"
    }
   ],
   "source": [
    "select_genes = \"\"\"\n",
    "SELECT * \n",
    "FROM genes;\n",
    "\"\"\"\n",
    "cursor.execute(select_genes)\n",
    "cursor.fetchall()"
   ]
  },
  {
   "cell_type": "code",
   "execution_count": 32,
   "metadata": {},
   "outputs": [
    {
     "data": {
      "text/plain": [
       "[]"
      ]
     },
     "execution_count": 32,
     "metadata": {},
     "output_type": "execute_result"
    }
   ],
   "source": [
    "select_gene_aliases = \"\"\"\n",
    "SELECT * \n",
    "FROM gene_aliases;\n",
    "\"\"\"\n",
    "cursor.execute(select_gene_aliases)\n",
    "cursor.fetchall()"
   ]
  },
  {
   "cell_type": "code",
   "execution_count": 33,
   "metadata": {},
   "outputs": [],
   "source": [
    "# when all goes well and all records that you want are added do connection.commit()\n",
    "# in this case we want to also add the gene aliases before we commit, so we do connection.rollback()\n",
    "connection.rollback()"
   ]
  },
  {
   "cell_type": "code",
   "execution_count": 36,
   "metadata": {},
   "outputs": [
    {
     "data": {
      "text/plain": [
       "[]"
      ]
     },
     "execution_count": 36,
     "metadata": {},
     "output_type": "execute_result"
    }
   ],
   "source": [
    "# no more data in the genes table because of the rollback\n",
    "# the rollback takes you back to the last commit\n",
    "\n",
    "select_genes = \"\"\"\n",
    "SELECT * \n",
    "FROM genes;\n",
    "\"\"\"\n",
    "cursor.execute(select_genes)\n",
    "cursor.fetchall()"
   ]
  },
  {
   "cell_type": "code",
   "execution_count": 44,
   "metadata": {},
   "outputs": [
    {
     "name": "stdout",
     "output_type": "stream",
     "text": [
      "('TERT', 'telomerase reverse transcriptase', '1253167', '1295068')\n",
      "1\n",
      "\n",
      "('TP63', 'tumor protein p63', '189596746', '189897276')\n",
      "2\n",
      "\n",
      "('CHRNA5', 'cholinergic receptor nicotinic alpha 5 subunit', '78565520', '78595269')\n",
      "3\n",
      "\n",
      "('CADM1', 'cell adhesion molecule 1', '115169236', '115504428')\n",
      "4\n",
      "\n",
      "('CHRNA3', 'cholinergic receptor nicotinic alpha 3 subunit', '78593052', '78620996')\n",
      "5\n",
      "\n",
      "('RACK1', 'receptor for activated C kinase 1', '181236897', '181243906')\n",
      "6\n",
      "\n"
     ]
    }
   ],
   "source": [
    "# now we want to prepare the insert of aliases \n",
    "\n",
    "data_file_name = \"genes_aliases.txt\"\n",
    "\n",
    "insert_gene = \"\"\"\n",
    "INSERT INTO genes (gene_symbol, gene_description, start, stop)\n",
    "VALUES (?, ?, ?, ?);\n",
    "\"\"\"\n",
    "\n",
    "insert_gene_alias = \"\"\"\n",
    "INSERT INTO gene_aliases (gene_id, alias)\n",
    "VALUES (?, ?);\n",
    "\"\"\"\n",
    "\n",
    "with open(data_file_name) as genes_file:\n",
    "    header_line = genes_file.readline()\n",
    "    for line in genes_file:\n",
    "        line_lst = line.strip().split(\"\\t\")\n",
    "        # print(line_lst)\n",
    "        gene_data = (line_lst[0], line_lst[2], line_lst[4], line_lst[5])\n",
    "        print(gene_data)\n",
    "        cursor.execute(insert_gene, gene_data)\n",
    "        gene_id = cursor.lastrowid\n",
    "        print(gene_id)\n",
    "        aliases_lst = line_lst[1].split(\",\")\n",
    "        for alias in aliases_lst:\n",
    "            alias_data = (gene_id, alias.strip())\n",
    "            cursor.execute(insert_gene_alias, alias_data)\n",
    "        print()\n",
    "        "
   ]
  },
  {
   "cell_type": "code",
   "execution_count": 45,
   "metadata": {},
   "outputs": [
    {
     "data": {
      "text/plain": [
       "[(1, 'TERT', 'telomerase reverse transcriptase', 1253167, 1295068),\n",
       " (2, 'TP63', 'tumor protein p63', 189596746, 189897276),\n",
       " (3,\n",
       "  'CHRNA5',\n",
       "  'cholinergic receptor nicotinic alpha 5 subunit',\n",
       "  78565520,\n",
       "  78595269),\n",
       " (4, 'CADM1', 'cell adhesion molecule 1', 115169236, 115504428),\n",
       " (5,\n",
       "  'CHRNA3',\n",
       "  'cholinergic receptor nicotinic alpha 3 subunit',\n",
       "  78593052,\n",
       "  78620996),\n",
       " (6, 'RACK1', 'receptor for activated C kinase 1', 181236897, 181243906)]"
      ]
     },
     "execution_count": 45,
     "metadata": {},
     "output_type": "execute_result"
    }
   ],
   "source": [
    "select_genes = \"\"\"\n",
    "SELECT * \n",
    "FROM genes;\n",
    "\"\"\"\n",
    "cursor.execute(select_genes)\n",
    "cursor.fetchall()"
   ]
  },
  {
   "cell_type": "code",
   "execution_count": 46,
   "metadata": {},
   "outputs": [
    {
     "data": {
      "text/plain": [
       "[(1, 1, 'CMM9'),\n",
       " (2, 1, 'DKCA2'),\n",
       " (3, 1, 'DKCB4'),\n",
       " (4, 1, 'EST2'),\n",
       " (5, 1, 'PFBMFT1'),\n",
       " (6, 1, 'TCS1'),\n",
       " (7, 1, 'TP2'),\n",
       " (8, 1, 'TRT'),\n",
       " (9, 1, 'hEST2'),\n",
       " (10, 1, 'hTRT'),\n",
       " (11, 2, 'AIS'),\n",
       " (12, 2, 'B(p51A)'),\n",
       " (13, 2, 'B(p51B)'),\n",
       " (14, 2, 'EEC3'),\n",
       " (15, 2, 'KET'),\n",
       " (16, 2, 'LMS'),\n",
       " (17, 2, 'NBP'),\n",
       " (18, 2, 'OFC8'),\n",
       " (19, 2, 'RHS'),\n",
       " (20, 2, 'SHFM4'),\n",
       " (21, 2, 'TP53CP'),\n",
       " (22, 2, 'TP53L'),\n",
       " (23, 2, 'TP73L'),\n",
       " (24, 2, 'p40'),\n",
       " (25, 2, 'p51'),\n",
       " (26, 2, 'p53CP'),\n",
       " (27, 2, 'p63'),\n",
       " (28, 2, 'p73H'),\n",
       " (29, 2, 'p73L'),\n",
       " (30, 3, 'LNCR2'),\n",
       " (31, 4, 'BL2'),\n",
       " (32, 4, 'IGSF4'),\n",
       " (33, 4, 'IGSF4A'),\n",
       " (34, 4, 'NECL2'),\n",
       " (35, 4, 'Necl-2'),\n",
       " (36, 4, 'RA175'),\n",
       " (37, 4, 'ST17'),\n",
       " (38, 4, 'SYNCAM'),\n",
       " (39, 4, 'TSLC1'),\n",
       " (40, 4, 'sTSLC-1'),\n",
       " (41, 4, 'sgIGSF'),\n",
       " (42, 4, 'synCAM1'),\n",
       " (43, 5, 'BAIPRCK'),\n",
       " (44, 5, 'LNCR2'),\n",
       " (45, 5, 'NACHRA3'),\n",
       " (46, 5, 'PAOD2'),\n",
       " (47, 6, 'GNB2L1'),\n",
       " (48, 6, 'Gnb2-rs1'),\n",
       " (49, 6, 'H12.3'),\n",
       " (50, 6, 'HLC-7'),\n",
       " (51, 6, 'PIG21')]"
      ]
     },
     "execution_count": 46,
     "metadata": {},
     "output_type": "execute_result"
    }
   ],
   "source": [
    "select_gene_aliases = \"\"\"\n",
    "SELECT * \n",
    "FROM gene_aliases;\n",
    "\"\"\"\n",
    "cursor.execute(select_gene_aliases)\n",
    "cursor.fetchall()"
   ]
  },
  {
   "cell_type": "code",
   "execution_count": 47,
   "metadata": {},
   "outputs": [
    {
     "data": {
      "text/plain": [
       "[('genes', 6), ('gene_aliases', 51)]"
      ]
     },
     "execution_count": 47,
     "metadata": {},
     "output_type": "execute_result"
    }
   ],
   "source": [
    "select_sequence = \"\"\"\n",
    "SELECT *\n",
    "FROM sqlite_sequence;\n",
    "\"\"\"\n",
    "\n",
    "cursor.execute(select_sequence)\n",
    "cursor.fetchall()"
   ]
  },
  {
   "cell_type": "code",
   "execution_count": 48,
   "metadata": {},
   "outputs": [],
   "source": [
    "## if I am done with the insert I do commit\n",
    "# commit after each insert is expensive and will make the code slower\n",
    "\n",
    "# we want to try a different option to create the ids for gene and alias so we rollback\n",
    "\n",
    "connection.rollback()"
   ]
  },
  {
   "cell_type": "code",
   "execution_count": 49,
   "metadata": {},
   "outputs": [
    {
     "data": {
      "text/plain": [
       "[]"
      ]
     },
     "execution_count": 49,
     "metadata": {},
     "output_type": "execute_result"
    }
   ],
   "source": [
    "select_genes = \"\"\"\n",
    "SELECT * \n",
    "FROM genes;\n",
    "\"\"\"\n",
    "cursor.execute(select_genes)\n",
    "cursor.fetchall()"
   ]
  },
  {
   "cell_type": "code",
   "execution_count": 50,
   "metadata": {},
   "outputs": [
    {
     "data": {
      "text/plain": [
       "[]"
      ]
     },
     "execution_count": 50,
     "metadata": {},
     "output_type": "execute_result"
    }
   ],
   "source": [
    "select_gene_aliases = \"\"\"\n",
    "SELECT * \n",
    "FROM gene_aliases;\n",
    "\"\"\"\n",
    "cursor.execute(select_gene_aliases)\n",
    "cursor.fetchall()"
   ]
  },
  {
   "cell_type": "code",
   "execution_count": 51,
   "metadata": {},
   "outputs": [
    {
     "data": {
      "text/plain": [
       "[]"
      ]
     },
     "execution_count": 51,
     "metadata": {},
     "output_type": "execute_result"
    }
   ],
   "source": [
    "select_sequence = \"\"\"\n",
    "SELECT *\n",
    "FROM sqlite_sequence;\n",
    "\"\"\"\n",
    "\n",
    "cursor.execute(select_sequence)\n",
    "cursor.fetchall()"
   ]
  },
  {
   "cell_type": "code",
   "execution_count": null,
   "metadata": {},
   "outputs": [],
   "source": []
  },
  {
   "cell_type": "code",
   "execution_count": 52,
   "metadata": {},
   "outputs": [
    {
     "name": "stdout",
     "output_type": "stream",
     "text": [
      "1\n",
      "(1, 'TERT', 'telomerase reverse transcriptase', '1253167', '1295068')\n",
      "\n",
      "2\n",
      "(2, 'TP63', 'tumor protein p63', '189596746', '189897276')\n",
      "\n",
      "3\n",
      "(3, 'CHRNA5', 'cholinergic receptor nicotinic alpha 5 subunit', '78565520', '78595269')\n",
      "\n",
      "4\n",
      "(4, 'CADM1', 'cell adhesion molecule 1', '115169236', '115504428')\n",
      "\n",
      "5\n",
      "(5, 'CHRNA3', 'cholinergic receptor nicotinic alpha 3 subunit', '78593052', '78620996')\n",
      "\n",
      "6\n",
      "(6, 'RACK1', 'receptor for activated C kinase 1', '181236897', '181243906')\n",
      "\n"
     ]
    }
   ],
   "source": [
    "# now we want to create the ids - so this is OPTION 2\n",
    "\n",
    "data_file_name = \"genes_aliases.txt\"\n",
    "\n",
    "insert_gene = \"\"\"\n",
    "INSERT INTO genes (gene_id, gene_symbol, gene_description, start, stop)\n",
    "VALUES (?, ?, ?, ?, ?);\n",
    "\"\"\"\n",
    "\n",
    "insert_gene_alias = \"\"\"\n",
    "INSERT INTO gene_aliases (alias_id, gene_id, alias)\n",
    "VALUES (?, ?, ?);\n",
    "\"\"\"\n",
    "\n",
    "gene_id = 0\n",
    "alias_id = 0\n",
    "\n",
    "with open(data_file_name) as genes_file:\n",
    "    header_line = genes_file.readline()\n",
    "    for line in genes_file:\n",
    "        line_lst = line.strip().split(\"\\t\")\n",
    "        # print(line_lst)\n",
    "        gene_id = gene_id + 1\n",
    "        print(gene_id)\n",
    "        gene_data = (gene_id, line_lst[0], line_lst[2], line_lst[4], line_lst[5])\n",
    "        print(gene_data)\n",
    "        cursor.execute(insert_gene, gene_data)\n",
    "\n",
    "        aliases_lst = line_lst[1].split(\",\")\n",
    "        for alias in aliases_lst:\n",
    "            alias_id = alias_id + 1\n",
    "            alias_data = (alias_id, gene_id, alias.strip())\n",
    "            cursor.execute(insert_gene_alias, alias_data)\n",
    "        print()\n",
    "        "
   ]
  },
  {
   "cell_type": "code",
   "execution_count": 53,
   "metadata": {},
   "outputs": [
    {
     "data": {
      "text/plain": [
       "[(1, 'TERT', 'telomerase reverse transcriptase', 1253167, 1295068),\n",
       " (2, 'TP63', 'tumor protein p63', 189596746, 189897276),\n",
       " (3,\n",
       "  'CHRNA5',\n",
       "  'cholinergic receptor nicotinic alpha 5 subunit',\n",
       "  78565520,\n",
       "  78595269),\n",
       " (4, 'CADM1', 'cell adhesion molecule 1', 115169236, 115504428),\n",
       " (5,\n",
       "  'CHRNA3',\n",
       "  'cholinergic receptor nicotinic alpha 3 subunit',\n",
       "  78593052,\n",
       "  78620996),\n",
       " (6, 'RACK1', 'receptor for activated C kinase 1', 181236897, 181243906)]"
      ]
     },
     "execution_count": 53,
     "metadata": {},
     "output_type": "execute_result"
    }
   ],
   "source": [
    "select_genes = \"\"\"\n",
    "SELECT * \n",
    "FROM genes;\n",
    "\"\"\"\n",
    "cursor.execute(select_genes)\n",
    "cursor.fetchall()"
   ]
  },
  {
   "cell_type": "code",
   "execution_count": 54,
   "metadata": {},
   "outputs": [
    {
     "data": {
      "text/plain": [
       "[(1, 1, 'CMM9'),\n",
       " (2, 1, 'DKCA2'),\n",
       " (3, 1, 'DKCB4'),\n",
       " (4, 1, 'EST2'),\n",
       " (5, 1, 'PFBMFT1'),\n",
       " (6, 1, 'TCS1'),\n",
       " (7, 1, 'TP2'),\n",
       " (8, 1, 'TRT'),\n",
       " (9, 1, 'hEST2'),\n",
       " (10, 1, 'hTRT'),\n",
       " (11, 2, 'AIS'),\n",
       " (12, 2, 'B(p51A)'),\n",
       " (13, 2, 'B(p51B)'),\n",
       " (14, 2, 'EEC3'),\n",
       " (15, 2, 'KET'),\n",
       " (16, 2, 'LMS'),\n",
       " (17, 2, 'NBP'),\n",
       " (18, 2, 'OFC8'),\n",
       " (19, 2, 'RHS'),\n",
       " (20, 2, 'SHFM4'),\n",
       " (21, 2, 'TP53CP'),\n",
       " (22, 2, 'TP53L'),\n",
       " (23, 2, 'TP73L'),\n",
       " (24, 2, 'p40'),\n",
       " (25, 2, 'p51'),\n",
       " (26, 2, 'p53CP'),\n",
       " (27, 2, 'p63'),\n",
       " (28, 2, 'p73H'),\n",
       " (29, 2, 'p73L'),\n",
       " (30, 3, 'LNCR2'),\n",
       " (31, 4, 'BL2'),\n",
       " (32, 4, 'IGSF4'),\n",
       " (33, 4, 'IGSF4A'),\n",
       " (34, 4, 'NECL2'),\n",
       " (35, 4, 'Necl-2'),\n",
       " (36, 4, 'RA175'),\n",
       " (37, 4, 'ST17'),\n",
       " (38, 4, 'SYNCAM'),\n",
       " (39, 4, 'TSLC1'),\n",
       " (40, 4, 'sTSLC-1'),\n",
       " (41, 4, 'sgIGSF'),\n",
       " (42, 4, 'synCAM1'),\n",
       " (43, 5, 'BAIPRCK'),\n",
       " (44, 5, 'LNCR2'),\n",
       " (45, 5, 'NACHRA3'),\n",
       " (46, 5, 'PAOD2'),\n",
       " (47, 6, 'GNB2L1'),\n",
       " (48, 6, 'Gnb2-rs1'),\n",
       " (49, 6, 'H12.3'),\n",
       " (50, 6, 'HLC-7'),\n",
       " (51, 6, 'PIG21')]"
      ]
     },
     "execution_count": 54,
     "metadata": {},
     "output_type": "execute_result"
    }
   ],
   "source": [
    "select_gene_aliases = \"\"\"\n",
    "SELECT * \n",
    "FROM gene_aliases;\n",
    "\"\"\"\n",
    "cursor.execute(select_gene_aliases)\n",
    "cursor.fetchall()"
   ]
  },
  {
   "cell_type": "code",
   "execution_count": 55,
   "metadata": {},
   "outputs": [
    {
     "data": {
      "text/plain": [
       "[('genes', 6), ('gene_aliases', 51)]"
      ]
     },
     "execution_count": 55,
     "metadata": {},
     "output_type": "execute_result"
    }
   ],
   "source": [
    "select_sequence = \"\"\"\n",
    "SELECT *\n",
    "FROM sqlite_sequence;\n",
    "\"\"\"\n",
    "\n",
    "cursor.execute(select_sequence)\n",
    "cursor.fetchall()"
   ]
  },
  {
   "cell_type": "code",
   "execution_count": 56,
   "metadata": {},
   "outputs": [],
   "source": [
    "# now I am done with the insert so .. commit\n",
    "connection.commit()"
   ]
  },
  {
   "cell_type": "code",
   "execution_count": null,
   "metadata": {},
   "outputs": [],
   "source": []
  },
  {
   "cell_type": "code",
   "execution_count": null,
   "metadata": {},
   "outputs": [],
   "source": []
  },
  {
   "cell_type": "code",
   "execution_count": null,
   "metadata": {},
   "outputs": [],
   "source": []
  },
  {
   "cell_type": "markdown",
   "metadata": {
    "tags": []
   },
   "source": [
    "___\n",
    "\n",
    "<b> <font color = \"red\">Exercise</font></b>\n",
    "\n",
    "#### Query a database \n",
    "\n",
    "How many genes we have?  \n",
    "How many aliases we have?  \n",
    "Retrieve the aliases for gene TP63. In the result, display the gene symbol and the alias.    \n",
    "How many aliases are associated with each gene? In the result, display the gene symbol and the count.\n"
   ]
  },
  {
   "cell_type": "code",
   "execution_count": 57,
   "metadata": {},
   "outputs": [],
   "source": [
    "def get_header(cursor):\n",
    "    '''\n",
    "    Makes a tab delimited header row from the cursor description.\n",
    "    Arguments:\n",
    "        cursor: a cursor after a select query\n",
    "    Returns:\n",
    "        string: A string consisting of the column names separated by tabs, no new line\n",
    "    '''\n",
    "    return '\\t'.join([row[0] for row in cursor.description])\n",
    "\n"
   ]
  },
  {
   "cell_type": "code",
   "execution_count": 58,
   "metadata": {},
   "outputs": [],
   "source": [
    "# note that if you have a large result \n",
    "# this function will try to make a very large string from it\n",
    "# so it is recommended for results with less than 10 rows and 10 columns\n",
    "# for other cases use the for loop to go through the rows in the result \n",
    "\n",
    "def get_results(cursor):\n",
    "    '''\n",
    "    Makes a tab delimited table from the cursor results.\n",
    "    Arguments:\n",
    "        cursor: a cursor after a select query\n",
    "    Returns:\n",
    "        string: A string consisting of the column names separated by tabs, no new line\n",
    "    ''' \n",
    "    res = list()\n",
    "    for row in cursor.fetchall():        \n",
    "        res.append('\\t'.join(list(map(str,row))))\n",
    "    return \"\\n\".join(res)"
   ]
  },
  {
   "cell_type": "code",
   "execution_count": 59,
   "metadata": {},
   "outputs": [
    {
     "name": "stdout",
     "output_type": "stream",
     "text": [
      "gene_id\tgene_symbol\tgene_description\tstart\tstop\n",
      "1\tTERT\ttelomerase reverse transcriptase\t1253167\t1295068\n",
      "2\tTP63\ttumor protein p63\t189596746\t189897276\n",
      "3\tCHRNA5\tcholinergic receptor nicotinic alpha 5 subunit\t78565520\t78595269\n",
      "4\tCADM1\tcell adhesion molecule 1\t115169236\t115504428\n",
      "5\tCHRNA3\tcholinergic receptor nicotinic alpha 3 subunit\t78593052\t78620996\n",
      "6\tRACK1\treceptor for activated C kinase 1\t181236897\t181243906\n"
     ]
    }
   ],
   "source": [
    "select_genes = \"\"\"\n",
    "SELECT * \n",
    "FROM genes;\n",
    "\"\"\"\n",
    "cursor.execute(select_genes)\n",
    "print(get_header(cursor))\n",
    "print(get_results(cursor))"
   ]
  },
  {
   "cell_type": "code",
   "execution_count": 61,
   "metadata": {},
   "outputs": [
    {
     "name": "stdout",
     "output_type": "stream",
     "text": [
      "genes_count\n",
      "6\n"
     ]
    }
   ],
   "source": [
    "# Q1: How many genes we have?\n",
    "\n",
    "select_genes_no = \"\"\"\n",
    "SELECT count(gene_id) genes_count\n",
    "FROM genes;\n",
    "\n",
    "\"\"\"\n",
    "cursor.execute(select_genes_no)\n",
    "print(get_header(cursor))\n",
    "print(get_results(cursor))"
   ]
  },
  {
   "cell_type": "code",
   "execution_count": 62,
   "metadata": {},
   "outputs": [
    {
     "name": "stdout",
     "output_type": "stream",
     "text": [
      "genes_count\n",
      "6\n"
     ]
    }
   ],
   "source": [
    "select_genes_no = \"\"\"\n",
    "SELECT max(gene_id) genes_count\n",
    "FROM genes;\n",
    "\n",
    "\"\"\"\n",
    "cursor.execute(select_genes_no)\n",
    "print(get_header(cursor))\n",
    "print(get_results(cursor))"
   ]
  },
  {
   "cell_type": "code",
   "execution_count": 64,
   "metadata": {},
   "outputs": [
    {
     "name": "stdout",
     "output_type": "stream",
     "text": [
      "aliases_count\n",
      "51\n"
     ]
    }
   ],
   "source": [
    "# Q2: How many aliases we have?\n",
    "\n",
    "select_aliases_no = \"\"\"\n",
    "SELECT count(alias_id) aliases_count\n",
    "FROM gene_aliases;\n",
    "\n",
    "\"\"\"\n",
    "cursor.execute(select_aliases_no)\n",
    "print(get_header(cursor))\n",
    "print(get_results(cursor))\n"
   ]
  },
  {
   "cell_type": "code",
   "execution_count": 69,
   "metadata": {},
   "outputs": [
    {
     "name": "stdout",
     "output_type": "stream",
     "text": [
      "symbol\talias\n",
      "TP63\tAIS\n",
      "TP63\tB(p51A)\n",
      "TP63\tB(p51B)\n",
      "TP63\tEEC3\n",
      "TP63\tKET\n",
      "TP63\tLMS\n",
      "TP63\tNBP\n",
      "TP63\tOFC8\n",
      "TP63\tRHS\n",
      "TP63\tSHFM4\n",
      "TP63\tTP53CP\n",
      "TP63\tTP53L\n",
      "TP63\tTP73L\n",
      "TP63\tp40\n",
      "TP63\tp51\n",
      "TP63\tp53CP\n",
      "TP63\tp63\n",
      "TP63\tp73H\n",
      "TP63\tp73L\n"
     ]
    }
   ],
   "source": [
    "# Retrieve the aliases for gene TP63. \n",
    "# In the result, display the gene symbol and the alias.\n",
    "\n",
    "# this solution uses hardcoding \n",
    "# meaning is not general enough to work for another input without changes to the code\n",
    "# also, we needed to run the previous query that retrieves all genes to visually identofy the id\n",
    "\n",
    "\n",
    "select_TP63_aliases = \"\"\"\n",
    "SELECT \"TP63\" symbol, alias \n",
    "FROM gene_aliases \n",
    "WHERE gene_id = 2;\n",
    "\"\"\"\n",
    "cursor.execute(select_TP63_aliases)\n",
    "print(get_header(cursor))\n",
    "print(get_results(cursor))"
   ]
  },
  {
   "cell_type": "code",
   "execution_count": 73,
   "metadata": {},
   "outputs": [
    {
     "name": "stdout",
     "output_type": "stream",
     "text": [
      "gene_symbol\talias\n",
      "CADM1\tBL2\n",
      "CADM1\tIGSF4\n",
      "CADM1\tIGSF4A\n",
      "CADM1\tNECL2\n",
      "CADM1\tNecl-2\n",
      "CADM1\tRA175\n",
      "CADM1\tST17\n",
      "CADM1\tSYNCAM\n",
      "CADM1\tTSLC1\n",
      "CADM1\tsTSLC-1\n",
      "CADM1\tsgIGSF\n",
      "CADM1\tsynCAM1\n"
     ]
    }
   ],
   "source": [
    "# a more general solution\n",
    "# uses parameters\n",
    "\n",
    "gene_symbol = \"CADM1\"\n",
    "\n",
    "select_aliases_for_a_gene = \"\"\"\n",
    "SELECT gene_symbol, alias \n",
    "FROM gene_aliases \n",
    "    INNER JOIN genes ON genes.gene_id = gene_aliases.gene_id\n",
    "WHERE gene_symbol = ?;\n",
    "\"\"\"\n",
    "cursor.execute(select_aliases_for_a_gene, [gene_symbol])\n",
    "print(get_header(cursor))\n",
    "print(get_results(cursor))"
   ]
  },
  {
   "cell_type": "code",
   "execution_count": null,
   "metadata": {},
   "outputs": [],
   "source": []
  },
  {
   "cell_type": "code",
   "execution_count": 76,
   "metadata": {},
   "outputs": [
    {
     "name": "stdout",
     "output_type": "stream",
     "text": [
      "gene_symbol\tcount(alias)\n",
      "CADM1\t12\n",
      "CHRNA3\t4\n",
      "CHRNA5\t1\n",
      "RACK1\t5\n",
      "TERT\t10\n",
      "TP63\t19\n"
     ]
    }
   ],
   "source": [
    "# Q4: How many aliases are associated with each gene? \n",
    "# In the result, display the gene symbol and the count.\n",
    "\n",
    "select_alias_no_per_gene_symbol = \"\"\"\n",
    "SELECT gene_symbol, count(alias) \n",
    "FROM gene_aliases \n",
    "    INNER JOIN genes ON genes.gene_id = gene_aliases.gene_id\n",
    "GROUP BY gene_symbol;\n",
    "\n",
    "\"\"\"\n",
    "cursor.execute(select_alias_no_per_gene_symbol)\n",
    "print(get_header(cursor))\n",
    "print(get_results(cursor))\n"
   ]
  },
  {
   "cell_type": "code",
   "execution_count": 82,
   "metadata": {},
   "outputs": [
    {
     "name": "stdout",
     "output_type": "stream",
     "text": [
      "gene_id\tgene_symbol\tcount(alias)\n",
      "1\tTERT\t10\n",
      "2\tTP63\t19\n",
      "3\tCHRNA5\t1\n",
      "4\tCADM1\t12\n",
      "5\tCHRNA3\t4\n",
      "6\tRACK1\t5\n"
     ]
    }
   ],
   "source": [
    "select_alias_no_per_gene_symbol = \"\"\"\n",
    "SELECT genes.gene_id, gene_symbol, count(alias) \n",
    "FROM gene_aliases \n",
    "    INNER JOIN genes ON genes.gene_id = gene_aliases.gene_id\n",
    "GROUP BY genes.gene_id, gene_symbol;\n",
    "\n",
    "\"\"\"\n",
    "cursor.execute(select_alias_no_per_gene_symbol)\n",
    "print(get_header(cursor))\n",
    "print(get_results(cursor))"
   ]
  },
  {
   "cell_type": "code",
   "execution_count": 83,
   "metadata": {},
   "outputs": [],
   "source": [
    "# done with this database\n",
    "\n",
    "cursor.close()\n",
    "connection.close()"
   ]
  },
  {
   "cell_type": "code",
   "execution_count": null,
   "metadata": {},
   "outputs": [],
   "source": []
  },
  {
   "cell_type": "code",
   "execution_count": null,
   "metadata": {},
   "outputs": [],
   "source": []
  },
  {
   "cell_type": "code",
   "execution_count": null,
   "metadata": {},
   "outputs": [],
   "source": []
  }
 ],
 "metadata": {
  "kernelspec": {
   "display_name": "Python 3 (ipykernel)",
   "language": "python",
   "name": "python3"
  },
  "language_info": {
   "codemirror_mode": {
    "name": "ipython",
    "version": 3
   },
   "file_extension": ".py",
   "mimetype": "text/x-python",
   "name": "python",
   "nbconvert_exporter": "python",
   "pygments_lexer": "ipython3",
   "version": "3.9.12"
  }
 },
 "nbformat": 4,
 "nbformat_minor": 4
}
