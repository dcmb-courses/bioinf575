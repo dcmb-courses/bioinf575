{
 "cells": [
  {
   "cell_type": "markdown",
   "metadata": {
    "tags": []
   },
   "source": [
    "## SQL exercises\n",
    "### BIOINF 575 - Fall 2022\n",
    "\n"
   ]
  },
  {
   "cell_type": "markdown",
   "metadata": {},
   "source": [
    "The. ALTER TABLE command: Changing a table without having to remove it and recreate it.   \n",
    "A table can be ALTERED to:\n",
    "* RENAME the TABLE\n",
    "* RENAME a COLUMN\n",
    "* ADD a COLUMN\n",
    "* DROP a COLUMN\n",
    "\n",
    "Detailed diagram of the command available at:   \n",
    "https://www.sqlite.org/lang_altertable.html\n",
    "\n",
    "Examples available at:   \n",
    "https://www.sqlitetutorial.net/sqlite-alter-table/    \n",
    "https://www.tutorialspoint.com/sqlite/sqlite_alter_command.htm    \n",
    "https://www.geeksforgeeks.org/how-to-alter-a-sqlite-table-using-python/"
   ]
  },
  {
   "cell_type": "code",
   "execution_count": null,
   "metadata": {},
   "outputs": [],
   "source": []
  },
  {
   "cell_type": "markdown",
   "metadata": {},
   "source": [
    "___\n",
    "\n",
    "<b> <font color = \"red\">Exercise</font></b>\n",
    "\n",
    "#### Create a database for genes and gene aliases\n",
    "\n",
    "Create a SQLite database with a genes table, and a gene_aliases table.   \n",
    "The genes table should have the following columns: gene_id, gene_symbol, the gene_description, start, stop.     \n",
    "The gene_aliases table should have the following columns: alias_id, gene_id and the alias.   \n",
    "Create an index on the column gene_id in the table gene_aliases.\n"
   ]
  },
  {
   "cell_type": "code",
   "execution_count": 5,
   "metadata": {},
   "outputs": [],
   "source": [
    "from sqlite3 import connect\n",
    "connection = connect(\"gene_aliases.sqlite\")"
   ]
  },
  {
   "cell_type": "code",
   "execution_count": 6,
   "metadata": {},
   "outputs": [],
   "source": [
    "cursor = connection.cursor()\n"
   ]
  },
  {
   "cell_type": "code",
   "execution_count": 7,
   "metadata": {},
   "outputs": [
    {
     "data": {
      "text/plain": [
       "[('table', 'genes'),\n",
       " ('table', 'sqlite_sequence'),\n",
       " ('table', 'gene_aliases'),\n",
       " ('index', 'gene_aliases_gene_id_idx')]"
      ]
     },
     "execution_count": 7,
     "metadata": {},
     "output_type": "execute_result"
    }
   ],
   "source": [
    "select_tables = \"\"\"\n",
    "SELECT type, name\n",
    "FROM sqlite_master;\n",
    "\"\"\"\n",
    "cursor.execute(select_tables)\n",
    "cursor.fetchall()"
   ]
  },
  {
   "cell_type": "code",
   "execution_count": 4,
   "metadata": {},
   "outputs": [
    {
     "name": "stdout",
     "output_type": "stream",
     "text": [
      "done!\n"
     ]
    }
   ],
   "source": [
    "# Write and run a create table statement for the genes table\n",
    "\n",
    "sql='''\n",
    "CREATE TABLE IF NOT EXISTS genes (\n",
    "      gene_id INTEGER PRIMARY KEY AUTOINCREMENT,\n",
    "      gene_symbol TEXT NOT NULL,\n",
    "      gene_description TEXT,\n",
    "      start BIGINT NOT NULL,\n",
    "      stop BIGINT NOT NULL\n",
    "    );\n",
    "'''\n",
    "try:\n",
    "    cursor.execute(sql)\n",
    "except connection.DatabaseError:\n",
    "    print(\"Creating the genes table resulted in a database error!\")\n",
    "    connection.rollback()\n",
    "    raise\n",
    "else:\n",
    "    connection.commit()\n",
    "finally:\n",
    "    print(\"done!\")\n",
    "    \n",
    "    "
   ]
  },
  {
   "cell_type": "code",
   "execution_count": 8,
   "metadata": {},
   "outputs": [
    {
     "data": {
      "text/plain": [
       "[]"
      ]
     },
     "execution_count": 8,
     "metadata": {},
     "output_type": "execute_result"
    }
   ],
   "source": [
    "select_genes = \"\"\"\n",
    "SELECT * \n",
    "FROM genes;\n",
    "\"\"\"\n",
    "cursor.execute(select_genes)\n",
    "cursor.fetchall()"
   ]
  },
  {
   "cell_type": "code",
   "execution_count": 9,
   "metadata": {},
   "outputs": [
    {
     "name": "stdout",
     "output_type": "stream",
     "text": [
      "done!\n"
     ]
    }
   ],
   "source": [
    "# Write and run a create table statement for the gene_aliases table\n",
    "# The gene_aliases table should have the following columns: alias_id, gene_id and the alias.\n",
    "\n",
    "sql='''\n",
    "CREATE TABLE IF NOT EXISTS gene_aliases (\n",
    "      alias_id INTEGER PRIMARY KEY AUTOINCREMENT,\n",
    "      gene_id TEXT NOT NULL,                     -- REFERENCES  gene_id in genes table\n",
    "      alias TEXT NOT NULL,\n",
    "      FOREIGN KEY (gene_id) REFERENCES  genes  (gene_id)\n",
    "    );\n",
    "'''\n",
    "try:\n",
    "    cursor.execute(sql)\n",
    "except connection.DatabaseError:\n",
    "    print(\"Creating the gene_aliases table resulted in a database error!\")\n",
    "    connection.rollback()\n",
    "    raise\n",
    "else:\n",
    "    connection.commit()\n",
    "finally:\n",
    "    print(\"done!\")\n",
    "    \n",
    "    "
   ]
  },
  {
   "cell_type": "code",
   "execution_count": 10,
   "metadata": {},
   "outputs": [
    {
     "data": {
      "text/plain": [
       "[]"
      ]
     },
     "execution_count": 10,
     "metadata": {},
     "output_type": "execute_result"
    }
   ],
   "source": [
    "select_gene_aliases = \"\"\"\n",
    "SELECT * \n",
    "FROM gene_aliases;\n",
    "\"\"\"\n",
    "cursor.execute(select_gene_aliases)\n",
    "cursor.fetchall()"
   ]
  },
  {
   "cell_type": "code",
   "execution_count": 12,
   "metadata": {},
   "outputs": [],
   "source": [
    "# Create an index on the column gene_id in the table gene_aliases.\n",
    "\n",
    "create_index = \"\"\"\n",
    "CREATE INDEX IF NOT EXISTS gene_aliases_gene_id_idx \n",
    "ON gene_aliases (gene_id);\n",
    "\"\"\"\n",
    "cursor.execute(create_index)\n",
    "connection.commit()"
   ]
  },
  {
   "cell_type": "code",
   "execution_count": 13,
   "metadata": {},
   "outputs": [
    {
     "data": {
      "text/plain": [
       "[('table', 'genes'),\n",
       " ('table', 'sqlite_sequence'),\n",
       " ('table', 'gene_aliases'),\n",
       " ('index', 'gene_aliases_gene_id_idx')]"
      ]
     },
     "execution_count": 13,
     "metadata": {},
     "output_type": "execute_result"
    }
   ],
   "source": [
    "select_tables = \"\"\"\n",
    "SELECT type, name\n",
    "FROM sqlite_master;\n",
    "\"\"\"\n",
    "cursor.execute(select_tables)\n",
    "cursor.fetchall()"
   ]
  },
  {
   "cell_type": "code",
   "execution_count": null,
   "metadata": {},
   "outputs": [],
   "source": []
  },
  {
   "cell_type": "markdown",
   "metadata": {
    "tags": []
   },
   "source": [
    "___\n",
    "\n",
    "<b> <font color = \"red\">Exercise</font></b>\n",
    "\n",
    "#### Populate a database \n",
    "\n",
    "Insert data into tables in the genes and gene aliases database you just created.   \n",
    "Use the data from the file `genes_aliases.txt`.\n"
   ]
  },
  {
   "cell_type": "code",
   "execution_count": 29,
   "metadata": {},
   "outputs": [
    {
     "name": "stdout",
     "output_type": "stream",
     "text": [
      "1 ('TERT', 'telomerase reverse transcriptase', '1253167', '1295068')\n",
      "2 ('TP63', 'tumor protein p63', '189596746', '189897276')\n",
      "3 ('CHRNA5', 'cholinergic receptor nicotinic alpha 5 subunit', '78565520', '78595269')\n",
      "4 ('CADM1', 'cell adhesion molecule 1', '115169236', '115504428')\n",
      "5 ('CHRNA3', 'cholinergic receptor nicotinic alpha 3 subunit', '78593052', '78620996')\n",
      "6 ('RACK1', 'receptor for activated C kinase 1', '181236897', '181243906')\n"
     ]
    }
   ],
   "source": [
    "# for a gene I need: gene_id, gene_symbol, gene_description, start, stop\n",
    "# for an alias I need: alias_id, gene_id, alias\n",
    "\n",
    "\n",
    "genes_file_name = \"genes_aliases.txt\"\n",
    "\n",
    "insert_genes = \"\"\"\n",
    "INSERT INTO genes (gene_symbol, gene_description, start, stop)\n",
    "VALUES (?, ?, ?, ?);\n",
    "\"\"\"\n",
    "\n",
    "with open(genes_file_name) as genes_file:\n",
    "    header_line = genes_file.readline()\n",
    "    for line in genes_file:\n",
    "        line_lst = line.strip().split(\"\\t\")\n",
    "        gene_sym = line_lst[0]\n",
    "        gene_description = line_lst[2]\n",
    "        start = line_lst[4]\n",
    "        stop = line_lst[5]\n",
    "        gene_info = (gene_sym, gene_description, start, stop)\n",
    "        cursor.execute(insert_genes, gene_info)\n",
    "        gene_id = cursor.lastrowid # this will contain the gene_id of the gene we just inserted\n",
    "        print(gene_id, gene_info)"
   ]
  },
  {
   "cell_type": "code",
   "execution_count": 30,
   "metadata": {},
   "outputs": [],
   "source": [
    "def get_header(cursor):\n",
    "    '''\n",
    "    Makes a tab delimited header row from the cursor description.\n",
    "    Arguments:\n",
    "        cursor: a cursor after a select query\n",
    "    Returns:\n",
    "        string: A string consisting of the column names separated by tabs, no new line\n",
    "    '''\n",
    "    return '\\t'.join([row[0] for row in cursor.description])\n",
    "\n"
   ]
  },
  {
   "cell_type": "code",
   "execution_count": 31,
   "metadata": {},
   "outputs": [],
   "source": [
    "# note that if you have a large result \n",
    "# this function will try to make a very large string from it\n",
    "# so it is recommended for results with less than 10 rows and 10 columns\n",
    "# for other cases use the for loop to go through the rows in the result \n",
    "\n",
    "def get_results(cursor):\n",
    "    '''\n",
    "    Makes a tab delimited table from the cursor results.\n",
    "    Arguments:\n",
    "        cursor: a cursor after a select query\n",
    "    Returns:\n",
    "        string: A string consisting of the column names separated by tabs, no new line\n",
    "    ''' \n",
    "    res = list()\n",
    "    for row in cursor.fetchall():        \n",
    "        res.append('\\t'.join(list(map(str,row))))\n",
    "    return \"\\n\".join(res)\n",
    "\n"
   ]
  },
  {
   "cell_type": "code",
   "execution_count": null,
   "metadata": {},
   "outputs": [],
   "source": []
  },
  {
   "cell_type": "code",
   "execution_count": 32,
   "metadata": {},
   "outputs": [
    {
     "name": "stdout",
     "output_type": "stream",
     "text": [
      "gene_id\tgene_symbol\tgene_description\tstart\tstop\n",
      "1\tTERT\ttelomerase reverse transcriptase\t1253167\t1295068\n",
      "2\tTP63\ttumor protein p63\t189596746\t189897276\n",
      "3\tCHRNA5\tcholinergic receptor nicotinic alpha 5 subunit\t78565520\t78595269\n",
      "4\tCADM1\tcell adhesion molecule 1\t115169236\t115504428\n",
      "5\tCHRNA3\tcholinergic receptor nicotinic alpha 3 subunit\t78593052\t78620996\n",
      "6\tRACK1\treceptor for activated C kinase 1\t181236897\t181243906\n"
     ]
    }
   ],
   "source": [
    "select_genes = \"\"\"\n",
    "SELECT * \n",
    "FROM genes;\n",
    "\"\"\"\n",
    "\n",
    "cursor.execute(select_genes)\n",
    "print(get_header(cursor))\n",
    "print(get_results(cursor))"
   ]
  },
  {
   "cell_type": "code",
   "execution_count": 33,
   "metadata": {},
   "outputs": [
    {
     "name": "stdout",
     "output_type": "stream",
     "text": [
      "name\tseq\n",
      "genes\t6\n"
     ]
    }
   ],
   "source": [
    "select_sqlite_sequence = \"\"\"\n",
    "SELECT * \n",
    "FROM sqlite_sequence;\n",
    "\"\"\"\n",
    "\n",
    "cursor.execute(select_sqlite_sequence)\n",
    "print(get_header(cursor))\n",
    "print(get_results(cursor))"
   ]
  },
  {
   "cell_type": "code",
   "execution_count": 39,
   "metadata": {},
   "outputs": [],
   "source": [
    "# do connection.commit() if you are happy with the result and there was no error\n",
    "# do sanity checks\n",
    "# do connection.rollback() - if you want to back to the state before the inserts\n",
    "\n",
    "# we want to try another way to do insert: we rollback\n",
    "connection.rollback()"
   ]
  },
  {
   "cell_type": "code",
   "execution_count": 40,
   "metadata": {},
   "outputs": [
    {
     "name": "stdout",
     "output_type": "stream",
     "text": [
      "gene_id\tgene_symbol\tgene_description\tstart\tstop\n",
      "\n"
     ]
    }
   ],
   "source": [
    "select_genes = \"\"\"\n",
    "SELECT * \n",
    "FROM genes;\n",
    "\"\"\"\n",
    "\n",
    "cursor.execute(select_genes)\n",
    "print(get_header(cursor))\n",
    "print(get_results(cursor))"
   ]
  },
  {
   "cell_type": "code",
   "execution_count": 41,
   "metadata": {},
   "outputs": [
    {
     "name": "stdout",
     "output_type": "stream",
     "text": [
      "name\tseq\n",
      "\n"
     ]
    }
   ],
   "source": [
    "select_sqlite_sequence = \"\"\"\n",
    "SELECT * \n",
    "FROM sqlite_sequence;\n",
    "\"\"\"\n",
    "\n",
    "cursor.execute(select_sqlite_sequence)\n",
    "print(get_header(cursor))\n",
    "print(get_results(cursor))"
   ]
  },
  {
   "cell_type": "code",
   "execution_count": 42,
   "metadata": {},
   "outputs": [
    {
     "name": "stdout",
     "output_type": "stream",
     "text": [
      "1 (1, 'TERT', 'telomerase reverse transcriptase', '1253167', '1295068')\n",
      "2 (2, 'TP63', 'tumor protein p63', '189596746', '189897276')\n",
      "3 (3, 'CHRNA5', 'cholinergic receptor nicotinic alpha 5 subunit', '78565520', '78595269')\n",
      "4 (4, 'CADM1', 'cell adhesion molecule 1', '115169236', '115504428')\n",
      "5 (5, 'CHRNA3', 'cholinergic receptor nicotinic alpha 3 subunit', '78593052', '78620996')\n",
      "6 (6, 'RACK1', 'receptor for activated C kinase 1', '181236897', '181243906')\n"
     ]
    }
   ],
   "source": [
    "# for a gene I need: gene_id, gene_symbol, gene_description, start, stop\n",
    "# for an alias I need: alias_id, gene_id, alias\n",
    "\n",
    "\n",
    "genes_file_name = \"genes_aliases.txt\"\n",
    "\n",
    "insert_genes = \"\"\"\n",
    "INSERT INTO genes (gene_id, gene_symbol, gene_description, start, stop)\n",
    "VALUES (?, ?, ?, ?, ?);\n",
    "\"\"\"\n",
    "\n",
    "gene_id = 0\n",
    "with open(genes_file_name) as genes_file:\n",
    "    header_line = genes_file.readline()\n",
    "    for line in genes_file:\n",
    "        line_lst = line.strip().split(\"\\t\")\n",
    "        gene_sym = line_lst[0]\n",
    "        gene_description = line_lst[2]\n",
    "        start = line_lst[4]\n",
    "        stop = line_lst[5]\n",
    "        gene_id = gene_id + 1\n",
    "        gene_info = (gene_id, gene_sym, gene_description, start, stop)\n",
    "        cursor.execute(insert_genes, gene_info)\n",
    "        print(gene_id, gene_info)"
   ]
  },
  {
   "cell_type": "code",
   "execution_count": 43,
   "metadata": {},
   "outputs": [
    {
     "name": "stdout",
     "output_type": "stream",
     "text": [
      "gene_id\tgene_symbol\tgene_description\tstart\tstop\n",
      "1\tTERT\ttelomerase reverse transcriptase\t1253167\t1295068\n",
      "2\tTP63\ttumor protein p63\t189596746\t189897276\n",
      "3\tCHRNA5\tcholinergic receptor nicotinic alpha 5 subunit\t78565520\t78595269\n",
      "4\tCADM1\tcell adhesion molecule 1\t115169236\t115504428\n",
      "5\tCHRNA3\tcholinergic receptor nicotinic alpha 3 subunit\t78593052\t78620996\n",
      "6\tRACK1\treceptor for activated C kinase 1\t181236897\t181243906\n"
     ]
    }
   ],
   "source": [
    "select_genes = \"\"\"\n",
    "SELECT * \n",
    "FROM genes;\n",
    "\"\"\"\n",
    "\n",
    "cursor.execute(select_genes)\n",
    "print(get_header(cursor))\n",
    "print(get_results(cursor))"
   ]
  },
  {
   "cell_type": "code",
   "execution_count": 44,
   "metadata": {},
   "outputs": [
    {
     "name": "stdout",
     "output_type": "stream",
     "text": [
      "name\tseq\n",
      "genes\t6\n"
     ]
    }
   ],
   "source": [
    "select_sqlite_sequence = \"\"\"\n",
    "SELECT * \n",
    "FROM sqlite_sequence;\n",
    "\"\"\"\n",
    "\n",
    "cursor.execute(select_sqlite_sequence)\n",
    "print(get_header(cursor))\n",
    "print(get_results(cursor))"
   ]
  },
  {
   "cell_type": "code",
   "execution_count": 45,
   "metadata": {},
   "outputs": [],
   "source": [
    "# do connection.commit() if you are happy with the result and there was no error\n",
    "# do sanity checks\n",
    "# do connection.rollback() - if you want to back to the state before the inserts\n",
    "\n",
    "# we want to try another way to do insert: we rollback\n",
    "connection.rollback()"
   ]
  },
  {
   "cell_type": "code",
   "execution_count": null,
   "metadata": {},
   "outputs": [],
   "source": []
  },
  {
   "cell_type": "code",
   "execution_count": 58,
   "metadata": {},
   "outputs": [],
   "source": [
    "# for a gene I need: gene_id, gene_symbol, gene_description, start, stop\n",
    "# for an alias I need: alias_id, gene_id, alias\n",
    "\n",
    "\n",
    "genes_file_name = \"genes_aliases.txt\"\n",
    "\n",
    "insert_genes = \"\"\"\n",
    "INSERT INTO genes (gene_id, gene_symbol, gene_description, start, stop)\n",
    "VALUES (?, ?, ?, ?, ?);\n",
    "\"\"\"\n",
    "insert_aliases = \"\"\"\n",
    "INSERT INTO gene_aliases (alias_id, gene_id, alias)\n",
    "VALUES (?, ?, ?)\n",
    "\"\"\"\n",
    "\n",
    "gene_id = 0\n",
    "alias_id = 0\n",
    "with open(genes_file_name) as genes_file:\n",
    "    header_line = genes_file.readline()\n",
    "    for line in genes_file:\n",
    "        line_lst = line.strip().split(\"\\t\")\n",
    "        gene_sym = line_lst[0]\n",
    "        gene_description = line_lst[2]\n",
    "        start = line_lst[4]\n",
    "        stop = line_lst[5]\n",
    "        gene_id = gene_id + 1\n",
    "        gene_info = (gene_id, gene_sym, gene_description, start, stop)\n",
    "        cursor.execute(insert_genes, gene_info)\n",
    "        # print(gene_id, gene_info)\n",
    "        aliases_lst = line_lst[1].split(\",\")\n",
    "        # print(gene_id)\n",
    "        for alias in aliases_lst:\n",
    "            alias_id = alias_id + 1\n",
    "            alias_info = (alias_id, gene_id, alias.strip())\n",
    "            # print(alias_info)\n",
    "            cursor.execute(insert_aliases, alias_info)"
   ]
  },
  {
   "cell_type": "code",
   "execution_count": 59,
   "metadata": {},
   "outputs": [
    {
     "name": "stdout",
     "output_type": "stream",
     "text": [
      "gene_id\tgene_symbol\tgene_description\tstart\tstop\n",
      "1\tTERT\ttelomerase reverse transcriptase\t1253167\t1295068\n",
      "2\tTP63\ttumor protein p63\t189596746\t189897276\n",
      "3\tCHRNA5\tcholinergic receptor nicotinic alpha 5 subunit\t78565520\t78595269\n",
      "4\tCADM1\tcell adhesion molecule 1\t115169236\t115504428\n",
      "5\tCHRNA3\tcholinergic receptor nicotinic alpha 3 subunit\t78593052\t78620996\n",
      "6\tRACK1\treceptor for activated C kinase 1\t181236897\t181243906\n"
     ]
    }
   ],
   "source": [
    "select_genes = \"\"\"\n",
    "SELECT * \n",
    "FROM genes;\n",
    "\"\"\"\n",
    "\n",
    "cursor.execute(select_genes)\n",
    "print(get_header(cursor))\n",
    "print(get_results(cursor))"
   ]
  },
  {
   "cell_type": "code",
   "execution_count": 60,
   "metadata": {},
   "outputs": [
    {
     "name": "stdout",
     "output_type": "stream",
     "text": [
      "alias_id\tgene_id\talias\n",
      "1\t1\tCMM9\n",
      "2\t1\tDKCA2\n",
      "3\t1\tDKCB4\n",
      "4\t1\tEST2\n",
      "5\t1\tPFBMFT1\n",
      "6\t1\tTCS1\n",
      "7\t1\tTP2\n",
      "8\t1\tTRT\n",
      "9\t1\thEST2\n",
      "10\t1\thTRT\n",
      "11\t2\tAIS\n",
      "12\t2\tB(p51A)\n",
      "13\t2\tB(p51B)\n",
      "14\t2\tEEC3\n",
      "15\t2\tKET\n",
      "16\t2\tLMS\n",
      "17\t2\tNBP\n",
      "18\t2\tOFC8\n",
      "19\t2\tRHS\n",
      "20\t2\tSHFM4\n",
      "21\t2\tTP53CP\n",
      "22\t2\tTP53L\n",
      "23\t2\tTP73L\n",
      "24\t2\tp40\n",
      "25\t2\tp51\n",
      "26\t2\tp53CP\n",
      "27\t2\tp63\n",
      "28\t2\tp73H\n",
      "29\t2\tp73L\n",
      "30\t3\tLNCR2\n",
      "31\t4\tBL2\n",
      "32\t4\tIGSF4\n",
      "33\t4\tIGSF4A\n",
      "34\t4\tNECL2\n",
      "35\t4\tNecl-2\n",
      "36\t4\tRA175\n",
      "37\t4\tST17\n",
      "38\t4\tSYNCAM\n",
      "39\t4\tTSLC1\n",
      "40\t4\tsTSLC-1\n",
      "41\t4\tsgIGSF\n",
      "42\t4\tsynCAM1\n",
      "43\t5\tBAIPRCK\n",
      "44\t5\tLNCR2\n",
      "45\t5\tNACHRA3\n",
      "46\t5\tPAOD2\n",
      "47\t6\tGNB2L1\n",
      "48\t6\tGnb2-rs1\n",
      "49\t6\tH12.3\n",
      "50\t6\tHLC-7\n",
      "51\t6\tPIG21\n"
     ]
    }
   ],
   "source": [
    "select_aliases = \"\"\"\n",
    "SELECT * \n",
    "FROM gene_aliases;\n",
    "\"\"\"\n",
    "\n",
    "cursor.execute(select_aliases)\n",
    "print(get_header(cursor))\n",
    "print(get_results(cursor))"
   ]
  },
  {
   "cell_type": "code",
   "execution_count": 63,
   "metadata": {},
   "outputs": [],
   "source": [
    "# connection.rollback()"
   ]
  },
  {
   "cell_type": "code",
   "execution_count": 64,
   "metadata": {},
   "outputs": [],
   "source": [
    "connection.commit()"
   ]
  },
  {
   "cell_type": "markdown",
   "metadata": {
    "tags": []
   },
   "source": [
    "___\n",
    "\n",
    "<b> <font color = \"red\">Exercise</font></b>\n",
    "\n",
    "#### Query a database \n",
    "\n",
    "How many genes we have?  \n",
    "How many aliases we have?  \n",
    "Retrieve the aliases for gene TP63. In the result, display the gene symbol and the alias.    \n",
    "How many aliases are associated which each gene? In the result, display the gene symbol and the count.\n"
   ]
  },
  {
   "cell_type": "code",
   "execution_count": 61,
   "metadata": {},
   "outputs": [],
   "source": [
    "def get_header(cursor):\n",
    "    '''\n",
    "    Makes a tab delimited header row from the cursor description.\n",
    "    Arguments:\n",
    "        cursor: a cursor after a select query\n",
    "    Returns:\n",
    "        string: A string consisting of the column names separated by tabs, no new line\n",
    "    '''\n",
    "    return '\\t'.join([row[0] for row in cursor.description])\n",
    "\n"
   ]
  },
  {
   "cell_type": "code",
   "execution_count": 62,
   "metadata": {},
   "outputs": [],
   "source": [
    "# note that if you have a large result \n",
    "# this function will try to make a very large string from it\n",
    "# so it is recommended for results with less than 10 rows and 10 columns\n",
    "# for other cases use the for loop to go through the rows in the result \n",
    "\n",
    "def get_results(cursor):\n",
    "    '''\n",
    "    Makes a tab delimited table from the cursor results.\n",
    "    Arguments:\n",
    "        cursor: a cursor after a select query\n",
    "    Returns:\n",
    "        string: A string consisting of the column names separated by tabs, no new line\n",
    "    ''' \n",
    "    res = list()\n",
    "    for row in cursor.fetchall():        \n",
    "        res.append('\\t'.join(list(map(str,row))))\n",
    "    return \"\\n\".join(res)"
   ]
  },
  {
   "cell_type": "code",
   "execution_count": 66,
   "metadata": {},
   "outputs": [
    {
     "name": "stdout",
     "output_type": "stream",
     "text": [
      "gene_count\n",
      "6\n"
     ]
    }
   ],
   "source": [
    "## Q1: How many genes we have?\n",
    "\n",
    "select_gene_no = \"\"\"\n",
    "SELECT count(gene_id) gene_count\n",
    "FROM genes;\n",
    "\n",
    "\"\"\"\n",
    "\n",
    "cursor.execute(select_gene_no)\n",
    "print(get_header(cursor))\n",
    "print(get_results(cursor))"
   ]
  },
  {
   "cell_type": "code",
   "execution_count": 67,
   "metadata": {},
   "outputs": [
    {
     "name": "stdout",
     "output_type": "stream",
     "text": [
      "aliases_count\n",
      "51\n"
     ]
    }
   ],
   "source": [
    "# Q2: How many aliases we have?  \n",
    "\n",
    "select_aliases_no = \"\"\"\n",
    "SELECT count(alias_id) AS aliases_count\n",
    "FROM gene_aliases;\n",
    "\n",
    "\"\"\"\n",
    "\n",
    "cursor.execute(select_aliases_no)\n",
    "print(get_header(cursor))\n",
    "print(get_results(cursor))"
   ]
  },
  {
   "cell_type": "code",
   "execution_count": 69,
   "metadata": {},
   "outputs": [
    {
     "name": "stdout",
     "output_type": "stream",
     "text": [
      "gene_symbol\talias\n",
      "TP63\tAIS\n",
      "TP63\tB(p51A)\n",
      "TP63\tB(p51B)\n",
      "TP63\tEEC3\n",
      "TP63\tKET\n",
      "TP63\tLMS\n",
      "TP63\tNBP\n",
      "TP63\tOFC8\n",
      "TP63\tRHS\n",
      "TP63\tSHFM4\n",
      "TP63\tTP53CP\n",
      "TP63\tTP53L\n",
      "TP63\tTP73L\n",
      "TP63\tp40\n",
      "TP63\tp51\n",
      "TP63\tp53CP\n",
      "TP63\tp63\n",
      "TP63\tp73H\n",
      "TP63\tp73L\n"
     ]
    }
   ],
   "source": [
    "# Q3: Retrieve the aliases for gene TP63. In the result, display the gene symbol and the alias.\n",
    "\n",
    "### THIS IS HARD CODING AND WILL NOT WORK FOR ANOTHER GENE\n",
    "### ALSO YOU NEEDED ANOTHER QUERY TO GET THE GENE ID\n",
    "\n",
    "select_TP63_aliases = \"\"\"\n",
    "SELECT \"TP63\" gene_symbol, alias \n",
    "FROM gene_aliases \n",
    "WHERE gene_id = 2\n",
    "\"\"\"\n",
    "\n",
    "cursor.execute(select_TP63_aliases)\n",
    "print(get_header(cursor))\n",
    "print(get_results(cursor))"
   ]
  },
  {
   "cell_type": "code",
   "execution_count": 75,
   "metadata": {},
   "outputs": [
    {
     "name": "stdout",
     "output_type": "stream",
     "text": [
      "gene_symbol\talias\n",
      "TP63\tAIS\n",
      "TP63\tB(p51A)\n",
      "TP63\tB(p51B)\n",
      "TP63\tEEC3\n",
      "TP63\tKET\n",
      "TP63\tLMS\n",
      "TP63\tNBP\n",
      "TP63\tOFC8\n",
      "TP63\tRHS\n",
      "TP63\tSHFM4\n",
      "TP63\tTP53CP\n",
      "TP63\tTP53L\n",
      "TP63\tTP73L\n",
      "TP63\tp40\n",
      "TP63\tp51\n",
      "TP63\tp53CP\n",
      "TP63\tp63\n",
      "TP63\tp73H\n",
      "TP63\tp73L\n"
     ]
    }
   ],
   "source": [
    "symbol = \"TP63\"\n",
    "\n",
    "select_gene_aliases = \"\"\"\n",
    "SELECT gene_symbol, alias \n",
    "FROM gene_aliases \n",
    "    INNER JOIN genes ON genes.gene_id = gene_aliases.gene_id\n",
    "WHERE gene_symbol = ?;\n",
    "\"\"\"\n",
    "\n",
    "cursor.execute(select_gene_aliases, [symbol])\n",
    "print(get_header(cursor))\n",
    "print(get_results(cursor))"
   ]
  },
  {
   "cell_type": "code",
   "execution_count": 79,
   "metadata": {},
   "outputs": [
    {
     "name": "stdout",
     "output_type": "stream",
     "text": [
      "gene_symbol\tcount(alias)\n",
      "CADM1\t12\n",
      "CHRNA3\t4\n",
      "CHRNA5\t1\n",
      "RACK1\t5\n",
      "TERT\t10\n",
      "TP63\t19\n"
     ]
    }
   ],
   "source": [
    "# Q4: How many aliases are associated which each gene? In the result, display the gene symbol and the count.\n",
    "\n",
    "select_gene_alias_count = \"\"\"\n",
    "SELECT gene_symbol, count(alias)\n",
    "FROM genes\n",
    "    INNER JOIN gene_aliases ON genes.gene_id = gene_aliases.gene_id\n",
    "GROUP BY gene_symbol;\n",
    "\n",
    "\"\"\"\n",
    "\n",
    "cursor.execute(select_gene_alias_count)\n",
    "print(get_header(cursor))\n",
    "print(get_results(cursor))\n"
   ]
  },
  {
   "cell_type": "code",
   "execution_count": null,
   "metadata": {},
   "outputs": [],
   "source": []
  },
  {
   "cell_type": "code",
   "execution_count": 80,
   "metadata": {},
   "outputs": [],
   "source": [
    "cursor.close()\n",
    "connection.close()"
   ]
  },
  {
   "cell_type": "code",
   "execution_count": null,
   "metadata": {},
   "outputs": [],
   "source": []
  }
 ],
 "metadata": {
  "kernelspec": {
   "display_name": "Python 3 (ipykernel)",
   "language": "python",
   "name": "python3"
  },
  "language_info": {
   "codemirror_mode": {
    "name": "ipython",
    "version": 3
   },
   "file_extension": ".py",
   "mimetype": "text/x-python",
   "name": "python",
   "nbconvert_exporter": "python",
   "pygments_lexer": "ipython3",
   "version": "3.9.12"
  }
 },
 "nbformat": 4,
 "nbformat_minor": 4
}
