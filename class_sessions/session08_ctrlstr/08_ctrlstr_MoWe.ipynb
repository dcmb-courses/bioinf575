{
 "cells": [
  {
   "cell_type": "markdown",
   "metadata": {
    "tags": []
   },
   "source": [
    "## Control structures \n",
    "### BIOINF 575 - Fall 2023\n"
   ]
  },
  {
   "cell_type": "markdown",
   "metadata": {},
   "source": [
    "#### DATATYPES RECAP\n",
    "\n",
    "```\n",
    " STRINGS:      \"\" or    '' or   \"\"\"\"\"\" or   ''''''\n",
    " LISTS:        []\n",
    " TUPLES:       ()\n",
    " DICTIONARIES: {}, the item structure is  key:value\n",
    " SETS:         {}, the item structure is value\n",
    "```\n",
    "\n",
    "<img src = \"https://media.cheatography.com/storage/thumb/desmovalvo_python3-data-structures.750.jpg\" width = \"600\" />\n",
    "\n",
    "\n",
    "https://cheatography.com/mariofreitas/cheat-sheets/python-basics-lists-tuples-and-dictionaries/\n",
    "https://www.slideshare.net/gilcohen792/python3-cheatsheet     \n",
    "https://github.com/leriomaggio/python-in-a-notebook/blob/master/03%20List%20and%20Tuples%20and%20Sets.ipynb"
   ]
  },
  {
   "cell_type": "code",
   "execution_count": 2,
   "metadata": {},
   "outputs": [],
   "source": [
    "amino_acids = {'Ser': 'Serine', 'Lys': 'Lysine', 'Ala': 'Alanine', 'Leu': 'Leucine'}"
   ]
  },
  {
   "cell_type": "markdown",
   "metadata": {},
   "source": [
    "To add a new dictionary element - subset the dictionay using the new key and assign the value or use the update function.    \n",
    "To get all dictionary items use the items method.\n",
    "\n"
   ]
  },
  {
   "cell_type": "code",
   "execution_count": 3,
   "metadata": {},
   "outputs": [],
   "source": [
    "amino_acids[\"Tpr\"] = \"Tryptophan\""
   ]
  },
  {
   "cell_type": "code",
   "execution_count": 4,
   "metadata": {},
   "outputs": [
    {
     "data": {
      "text/plain": [
       "{'Ser': 'Serine',\n",
       " 'Lys': 'Lysine',\n",
       " 'Ala': 'Alanine',\n",
       " 'Leu': 'Leucine',\n",
       " 'Tpr': 'Tryptophan'}"
      ]
     },
     "execution_count": 4,
     "metadata": {},
     "output_type": "execute_result"
    }
   ],
   "source": [
    "amino_acids"
   ]
  },
  {
   "cell_type": "code",
   "execution_count": 5,
   "metadata": {},
   "outputs": [],
   "source": [
    "amino_acids.update({\"Tp\": \"Tpr\"})"
   ]
  },
  {
   "cell_type": "code",
   "execution_count": 6,
   "metadata": {},
   "outputs": [
    {
     "data": {
      "text/plain": [
       "{'Ser': 'Serine',\n",
       " 'Lys': 'Lysine',\n",
       " 'Ala': 'Alanine',\n",
       " 'Leu': 'Leucine',\n",
       " 'Tpr': 'Tryptophan',\n",
       " 'Tp': 'Tpr'}"
      ]
     },
     "execution_count": 6,
     "metadata": {},
     "output_type": "execute_result"
    }
   ],
   "source": [
    "amino_acids"
   ]
  },
  {
   "cell_type": "code",
   "execution_count": 32,
   "metadata": {},
   "outputs": [
    {
     "data": {
      "text/plain": [
       "['__abs__',\n",
       " '__add__',\n",
       " '__and__',\n",
       " '__bool__',\n",
       " '__ceil__',\n",
       " '__class__',\n",
       " '__delattr__',\n",
       " '__dir__',\n",
       " '__divmod__',\n",
       " '__doc__',\n",
       " '__eq__',\n",
       " '__float__',\n",
       " '__floor__',\n",
       " '__floordiv__',\n",
       " '__format__',\n",
       " '__ge__',\n",
       " '__getattribute__',\n",
       " '__getnewargs__',\n",
       " '__gt__',\n",
       " '__hash__',\n",
       " '__index__',\n",
       " '__init__',\n",
       " '__init_subclass__',\n",
       " '__int__',\n",
       " '__invert__',\n",
       " '__le__',\n",
       " '__lshift__',\n",
       " '__lt__',\n",
       " '__mod__',\n",
       " '__mul__',\n",
       " '__ne__',\n",
       " '__neg__',\n",
       " '__new__',\n",
       " '__or__',\n",
       " '__pos__',\n",
       " '__pow__',\n",
       " '__radd__',\n",
       " '__rand__',\n",
       " '__rdivmod__',\n",
       " '__reduce__',\n",
       " '__reduce_ex__',\n",
       " '__repr__',\n",
       " '__rfloordiv__',\n",
       " '__rlshift__',\n",
       " '__rmod__',\n",
       " '__rmul__',\n",
       " '__ror__',\n",
       " '__round__',\n",
       " '__rpow__',\n",
       " '__rrshift__',\n",
       " '__rshift__',\n",
       " '__rsub__',\n",
       " '__rtruediv__',\n",
       " '__rxor__',\n",
       " '__setattr__',\n",
       " '__sizeof__',\n",
       " '__str__',\n",
       " '__sub__',\n",
       " '__subclasshook__',\n",
       " '__truediv__',\n",
       " '__trunc__',\n",
       " '__xor__',\n",
       " 'as_integer_ratio',\n",
       " 'bit_length',\n",
       " 'conjugate',\n",
       " 'denominator',\n",
       " 'from_bytes',\n",
       " 'imag',\n",
       " 'numerator',\n",
       " 'real',\n",
       " 'to_bytes']"
      ]
     },
     "execution_count": 32,
     "metadata": {},
     "output_type": "execute_result"
    }
   ],
   "source": [
    "dir(int)"
   ]
  },
  {
   "cell_type": "markdown",
   "metadata": {},
   "source": [
    "#### <font color = \"red\">Exercise</font> \n",
    "\n",
    "Return the value for the key = \"Ala\".   \n",
    "If it does not exist return an empty string.   \n",
    "Create an empty set.   \n",
    "Add the following values to the set: 'Serine', 'Lysine', 'Alanine'.   \n"
   ]
  },
  {
   "cell_type": "code",
   "execution_count": 7,
   "metadata": {},
   "outputs": [
    {
     "data": {
      "text/plain": [
       "{'Ser': 'Serine',\n",
       " 'Lys': 'Lysine',\n",
       " 'Ala': 'Alanine',\n",
       " 'Leu': 'Leucine',\n",
       " 'Tpr': 'Tryptophan',\n",
       " 'Tp': 'Tpr'}"
      ]
     },
     "execution_count": 7,
     "metadata": {},
     "output_type": "execute_result"
    }
   ],
   "source": [
    "amino_acids"
   ]
  },
  {
   "cell_type": "code",
   "execution_count": 8,
   "metadata": {},
   "outputs": [
    {
     "data": {
      "text/plain": [
       "'Alanine'"
      ]
     },
     "execution_count": 8,
     "metadata": {},
     "output_type": "execute_result"
    }
   ],
   "source": [
    "key = \"Ala\"\n",
    "# return the value - use indexing by key\n",
    "amino_acids[key]"
   ]
  },
  {
   "cell_type": "code",
   "execution_count": 9,
   "metadata": {},
   "outputs": [
    {
     "ename": "KeyError",
     "evalue": "'Alan'",
     "output_type": "error",
     "traceback": [
      "\u001b[0;31m---------------------------------------------------------------------------\u001b[0m",
      "\u001b[0;31mKeyError\u001b[0m                                  Traceback (most recent call last)",
      "Input \u001b[0;32mIn [9]\u001b[0m, in \u001b[0;36m<cell line: 1>\u001b[0;34m()\u001b[0m\n\u001b[0;32m----> 1\u001b[0m \u001b[43mamino_acids\u001b[49m\u001b[43m[\u001b[49m\u001b[43mkey\u001b[49m\u001b[38;5;241;43m+\u001b[39;49m\u001b[38;5;124;43m\"\u001b[39;49m\u001b[38;5;124;43mn\u001b[39;49m\u001b[38;5;124;43m\"\u001b[39;49m\u001b[43m]\u001b[49m\n",
      "\u001b[0;31mKeyError\u001b[0m: 'Alan'"
     ]
    }
   ],
   "source": [
    "amino_acids[key+\"n\"]"
   ]
  },
  {
   "cell_type": "code",
   "execution_count": 10,
   "metadata": {},
   "outputs": [
    {
     "data": {
      "text/plain": [
       "'Alanine'"
      ]
     },
     "execution_count": 10,
     "metadata": {},
     "output_type": "execute_result"
    }
   ],
   "source": [
    "# return the value and if not exist return a default value\n",
    "# use the get method\n",
    "\n",
    "amino_acids.get(key)"
   ]
  },
  {
   "cell_type": "code",
   "execution_count": 13,
   "metadata": {},
   "outputs": [],
   "source": [
    "# returns None\n",
    "amino_acids.get(key+\"n\")"
   ]
  },
  {
   "cell_type": "code",
   "execution_count": 14,
   "metadata": {},
   "outputs": [
    {
     "data": {
      "text/plain": [
       "''"
      ]
     },
     "execution_count": 14,
     "metadata": {},
     "output_type": "execute_result"
    }
   ],
   "source": [
    "amino_acids.get(key+\"n\", \"\")"
   ]
  },
  {
   "cell_type": "code",
   "execution_count": 17,
   "metadata": {},
   "outputs": [
    {
     "data": {
      "text/plain": [
       "dict"
      ]
     },
     "execution_count": 17,
     "metadata": {},
     "output_type": "execute_result"
    }
   ],
   "source": [
    "# not a set, is a dict\n",
    "my_set = {}\n",
    "type(my_set)"
   ]
  },
  {
   "cell_type": "code",
   "execution_count": 18,
   "metadata": {},
   "outputs": [
    {
     "data": {
      "text/plain": [
       "set"
      ]
     },
     "execution_count": 18,
     "metadata": {},
     "output_type": "execute_result"
    }
   ],
   "source": [
    "# now it is a set\n",
    "my_set = set()\n",
    "type(my_set)"
   ]
  },
  {
   "cell_type": "code",
   "execution_count": 20,
   "metadata": {},
   "outputs": [
    {
     "ename": "TypeError",
     "evalue": "set.add() takes exactly one argument (3 given)",
     "output_type": "error",
     "traceback": [
      "\u001b[0;31m---------------------------------------------------------------------------\u001b[0m",
      "\u001b[0;31mTypeError\u001b[0m                                 Traceback (most recent call last)",
      "Input \u001b[0;32mIn [20]\u001b[0m, in \u001b[0;36m<cell line: 1>\u001b[0;34m()\u001b[0m\n\u001b[0;32m----> 1\u001b[0m \u001b[43mmy_set\u001b[49m\u001b[38;5;241;43m.\u001b[39;49m\u001b[43madd\u001b[49m\u001b[43m(\u001b[49m\u001b[38;5;124;43m'\u001b[39;49m\u001b[38;5;124;43mSerine\u001b[39;49m\u001b[38;5;124;43m'\u001b[39;49m\u001b[43m,\u001b[49m\u001b[43m \u001b[49m\u001b[38;5;124;43m'\u001b[39;49m\u001b[38;5;124;43mLysine\u001b[39;49m\u001b[38;5;124;43m'\u001b[39;49m\u001b[43m,\u001b[49m\u001b[43m \u001b[49m\u001b[38;5;124;43m'\u001b[39;49m\u001b[38;5;124;43mAlanine\u001b[39;49m\u001b[38;5;124;43m'\u001b[39;49m\u001b[43m)\u001b[49m\n",
      "\u001b[0;31mTypeError\u001b[0m: set.add() takes exactly one argument (3 given)"
     ]
    }
   ],
   "source": [
    "my_set.add('Serine', 'Lysine', 'Alanine')"
   ]
  },
  {
   "cell_type": "code",
   "execution_count": 23,
   "metadata": {},
   "outputs": [],
   "source": [
    "# use update to add multiple elements from a collection/sequence\n",
    "my_set.update(('Serine', 'Lysine', 'Alanine'))"
   ]
  },
  {
   "cell_type": "code",
   "execution_count": 24,
   "metadata": {},
   "outputs": [
    {
     "data": {
      "text/plain": [
       "{'Alanine', 'Lysine', 'Serine'}"
      ]
     },
     "execution_count": 24,
     "metadata": {},
     "output_type": "execute_result"
    }
   ],
   "source": [
    "my_set"
   ]
  },
  {
   "cell_type": "code",
   "execution_count": 33,
   "metadata": {},
   "outputs": [
    {
     "data": {
      "text/plain": [
       "['__add__',\n",
       " '__class__',\n",
       " '__class_getitem__',\n",
       " '__contains__',\n",
       " '__delattr__',\n",
       " '__delitem__',\n",
       " '__dir__',\n",
       " '__doc__',\n",
       " '__eq__',\n",
       " '__format__',\n",
       " '__ge__',\n",
       " '__getattribute__',\n",
       " '__getitem__',\n",
       " '__gt__',\n",
       " '__hash__',\n",
       " '__iadd__',\n",
       " '__imul__',\n",
       " '__init__',\n",
       " '__init_subclass__',\n",
       " '__iter__',\n",
       " '__le__',\n",
       " '__len__',\n",
       " '__lt__',\n",
       " '__mul__',\n",
       " '__ne__',\n",
       " '__new__',\n",
       " '__reduce__',\n",
       " '__reduce_ex__',\n",
       " '__repr__',\n",
       " '__reversed__',\n",
       " '__rmul__',\n",
       " '__setattr__',\n",
       " '__setitem__',\n",
       " '__sizeof__',\n",
       " '__str__',\n",
       " '__subclasshook__',\n",
       " 'append',\n",
       " 'clear',\n",
       " 'copy',\n",
       " 'count',\n",
       " 'extend',\n",
       " 'index',\n",
       " 'insert',\n",
       " 'pop',\n",
       " 'remove',\n",
       " 'reverse',\n",
       " 'sort']"
      ]
     },
     "execution_count": 33,
     "metadata": {},
     "output_type": "execute_result"
    }
   ],
   "source": [
    "dir(list)"
   ]
  },
  {
   "cell_type": "code",
   "execution_count": null,
   "metadata": {},
   "outputs": [],
   "source": []
  },
  {
   "cell_type": "markdown",
   "metadata": {},
   "source": [
    "____________\n",
    "\n",
    "### Control Structures"
   ]
  },
  {
   "cell_type": "markdown",
   "metadata": {},
   "source": [
    "**Control Structures** are constructs that **give a block of code context as well as help repeat or selectivelly run it**.\n",
    "\n",
    "Control Structures control how the associated code works by \"wrapping\" it within its structure."
   ]
  },
  {
   "cell_type": "markdown",
   "metadata": {},
   "source": [
    "Types of control structures:\n",
    "* Sequential: default mode - execution of statements line by line - like reading a book or following a recipe\n",
    "* Selection: decisions, branching - allows the distinction between two or more disjunct situations in which different sets of statements should be executed <br>\n",
    "Selection structures:\n",
    "    * if &emsp;&emsp;&emsp;&emsp;&emsp;&emsp; - considers additional code on only one branch\n",
    "    * if-else &emsp; &emsp;&emsp;  - considers two branches\n",
    "    * if-elif-else &emsp;&nbsp;    - considers three branches\n",
    "* Repetition: looping - allows the repeatition of a set of statements multiple times <br>\n",
    "Loop structures:\n",
    "    * while &emsp;  &emsp;   &emsp; - number of repetitions **unknown**\n",
    "    * for &emsp;&emsp;&emsp;&emsp;&emsp; - number of repetitions **known**"
   ]
  },
  {
   "cell_type": "markdown",
   "metadata": {},
   "source": [
    "Selection and repetition statements typically rely on conditions that are evaluated as either true or false."
   ]
  },
  {
   "cell_type": "markdown",
   "metadata": {},
   "source": [
    "### if: selection/decision control structure"
   ]
  },
  {
   "cell_type": "markdown",
   "metadata": {},
   "source": [
    "if statements check specific conditions through the processing of the code <br>\n",
    "The syntax is as follows:"
   ]
  },
  {
   "cell_type": "markdown",
   "metadata": {},
   "source": [
    "```python\n",
    "if [not] <condition>:\n",
    "    <statements>\n",
    "elif <condition>:\n",
    "    <statements>\n",
    "else:\n",
    "    <statements>\n",
    "```"
   ]
  },
  {
   "cell_type": "code",
   "execution_count": 1,
   "metadata": {},
   "outputs": [
    {
     "name": "stdout",
     "output_type": "stream",
     "text": [
      "Less than 5\n"
     ]
    }
   ],
   "source": [
    "# Comprehensive if-elif-else statement\n",
    "int_var = 2\n",
    "if int_var < 5:\n",
    "    print(\"Less than 5\")\n",
    "elif int_var < 10:\n",
    "    print(\"Between 5 and 10\")\n",
    "else:\n",
    "    print(\"Equal to or greater than 10\")\n",
    "    \n",
    "    print(\"DONE!\")"
   ]
  },
  {
   "cell_type": "code",
   "execution_count": 3,
   "metadata": {},
   "outputs": [
    {
     "name": "stdout",
     "output_type": "stream",
     "text": [
      "Equal to or greater than 10\n",
      "DONE!\n"
     ]
    }
   ],
   "source": [
    "int_var = 20\n",
    "if int_var < 5:\n",
    "    print(\"Less than 5\")\n",
    "elif int_var < 10:\n",
    "    print(\"Between 5 and 10\")\n",
    "else:\n",
    "    print(\"Equal to or greater than 10\")\n",
    "    \n",
    "print(\"DONE!\")"
   ]
  },
  {
   "cell_type": "code",
   "execution_count": 5,
   "metadata": {},
   "outputs": [
    {
     "ename": "SyntaxError",
     "evalue": "invalid syntax (239481127.py, line 2)",
     "output_type": "error",
     "traceback": [
      "\u001b[0;36m  Input \u001b[0;32mIn [5]\u001b[0;36m\u001b[0m\n\u001b[0;31m    if int_var < 5\u001b[0m\n\u001b[0m                  ^\u001b[0m\n\u001b[0;31mSyntaxError\u001b[0m\u001b[0;31m:\u001b[0m invalid syntax\n"
     ]
    }
   ],
   "source": [
    "int_var = 20\n",
    "if int_var < 5\n",
    "    print(\"Less than 5\")\n",
    "elif int_var < 10:\n",
    "    print(\"Between 5 and 10\")\n",
    "else:\n",
    "    print(\"Equal to or greater than 10\")\n",
    "    \n",
    "print(\"DONE!\")"
   ]
  },
  {
   "cell_type": "code",
   "execution_count": 7,
   "metadata": {},
   "outputs": [
    {
     "ename": "IndentationError",
     "evalue": "expected an indented block (3817448786.py, line 3)",
     "output_type": "error",
     "traceback": [
      "\u001b[0;36m  Input \u001b[0;32mIn [7]\u001b[0;36m\u001b[0m\n\u001b[0;31m    print(\"Less than 5\")\u001b[0m\n\u001b[0m    ^\u001b[0m\n\u001b[0;31mIndentationError\u001b[0m\u001b[0;31m:\u001b[0m expected an indented block\n"
     ]
    }
   ],
   "source": [
    "int_var = 20\n",
    "if int_var < 5:\n",
    "print(\"Less than 5\")\n",
    "elif int_var < 10:\n",
    "    print(\"Between 5 and 10\")\n",
    "else:\n",
    "    print(\"Equal to or greater than 10\")\n",
    "    \n",
    "print(\"DONE!\")"
   ]
  },
  {
   "cell_type": "code",
   "execution_count": null,
   "metadata": {},
   "outputs": [],
   "source": []
  },
  {
   "cell_type": "code",
   "execution_count": 13,
   "metadata": {},
   "outputs": [
    {
     "name": "stdin",
     "output_type": "stream",
     "text": [
      " 5\n"
     ]
    },
    {
     "name": "stdout",
     "output_type": "stream",
     "text": [
      "Between 5 and 10\n",
      "DONE!\n"
     ]
    }
   ],
   "source": [
    "int_var = int(input())\n",
    "if int_var < 5:\n",
    "    print(\"Less than 5\")\n",
    "elif int_var < 10:\n",
    "    print(\"Between 5 and 10\")\n",
    "else:\n",
    "    print(\"Equal to or greater than 10\")\n",
    "    \n",
    "print(\"DONE!\")"
   ]
  },
  {
   "cell_type": "code",
   "execution_count": null,
   "metadata": {},
   "outputs": [],
   "source": []
  },
  {
   "cell_type": "markdown",
   "metadata": {},
   "source": [
    "#### <font color = \"red\">Exercise</font>\n",
    "Write an if statement to check who is the youngest of three people with ages:\n",
    "age1, age2, age3\n"
   ]
  },
  {
   "cell_type": "code",
   "execution_count": 15,
   "metadata": {},
   "outputs": [],
   "source": [
    "age1 = 60\n",
    "age2 = 50\n",
    "age3 = 34\n",
    "\n",
    "if age1 < age2:\n",
    "    print(age1, \"is the lowest age and the first person is the youngest\")"
   ]
  },
  {
   "cell_type": "code",
   "execution_count": 17,
   "metadata": {},
   "outputs": [],
   "source": [
    "age1 = 60\n",
    "age2 = 50\n",
    "age3 = 34\n",
    "\n",
    "if age1 < age2 and age1 < age3:\n",
    "    print(age1, \"is the lowest age and the first person is the youngest\")"
   ]
  },
  {
   "cell_type": "code",
   "execution_count": 21,
   "metadata": {},
   "outputs": [
    {
     "name": "stdout",
     "output_type": "stream",
     "text": [
      "20 is the lowest age and the first person is the youngest\n"
     ]
    }
   ],
   "source": [
    "age1 = 20\n",
    "age2 = 50\n",
    "age3 = 34\n",
    "\n",
    "if age1 < age2 and age1 < age3:\n",
    "    print(age1, \"is the lowest age and the first person is the youngest\")"
   ]
  },
  {
   "cell_type": "code",
   "execution_count": 24,
   "metadata": {},
   "outputs": [
    {
     "ename": "IndentationError",
     "evalue": "unindent does not match any outer indentation level (<tokenize>, line 9)",
     "output_type": "error",
     "traceback": [
      "\u001b[0;36m  File \u001b[0;32m<tokenize>:9\u001b[0;36m\u001b[0m\n\u001b[0;31m    print(\"test\")\u001b[0m\n\u001b[0m    ^\u001b[0m\n\u001b[0;31mIndentationError\u001b[0m\u001b[0;31m:\u001b[0m unindent does not match any outer indentation level\n"
     ]
    }
   ],
   "source": [
    "age1 = 20\n",
    "age2 = 50\n",
    "age3 = 34\n",
    "\n",
    "if age1 < age2 and age1 < age3:\n",
    "    print(age1, \"is the lowest age and the first person is the youngest\")\n",
    "elif age2 < age1 and age2 < age3:\n",
    "        print(age2, \"is the lowest age and the second person is the youngest\")\n",
    "    print(\"test\")\n"
   ]
  },
  {
   "cell_type": "code",
   "execution_count": 26,
   "metadata": {},
   "outputs": [
    {
     "name": "stdout",
     "output_type": "stream",
     "text": [
      "5 is the lowest age and the second person is the youngest\n",
      "test\n"
     ]
    }
   ],
   "source": [
    "age1 = 20\n",
    "age2 = 5\n",
    "age3 = 34\n",
    "\n",
    "if age1 < age2 and age1 < age3:\n",
    "    print(age1, \"is the lowest age and the first person is the youngest\")\n",
    "elif age2 < age1 and age2 < age3:\n",
    "        print(age2, \"is the lowest age and the second person is the youngest\")\n",
    "        print(\"test\")"
   ]
  },
  {
   "cell_type": "code",
   "execution_count": 27,
   "metadata": {},
   "outputs": [
    {
     "name": "stdout",
     "output_type": "stream",
     "text": [
      "20 is the lowest age and the first person is the youngest\n"
     ]
    }
   ],
   "source": [
    "age1 = 20\n",
    "age2 = 50\n",
    "age3 = 34\n",
    "\n",
    "if age1 < age2 and age1 < age3:\n",
    "    print(age1, \"is the lowest age and the first person is the youngest\")\n",
    "elif age2 < age1 and age2 < age3:\n",
    "        print(age2, \"is the lowest age and the second person is the youngest\")\n",
    "        print(\"test\")"
   ]
  },
  {
   "cell_type": "code",
   "execution_count": 28,
   "metadata": {},
   "outputs": [],
   "source": [
    "age1 = 20\n",
    "age2 = 50\n",
    "age3 = 3\n",
    "\n",
    "if age1 < age2 and age1 < age3:\n",
    "    print(age1, \"is the lowest age and the first person is the youngest\")\n",
    "elif age2 < age1 and age2 < age3:\n",
    "        print(age2, \"is the lowest age and the second person is the youngest\")\n",
    "        print(\"test\")"
   ]
  },
  {
   "cell_type": "code",
   "execution_count": 29,
   "metadata": {},
   "outputs": [
    {
     "name": "stdout",
     "output_type": "stream",
     "text": [
      "3 is the lowest age and the third person is the youngest\n"
     ]
    }
   ],
   "source": [
    "age1 = 20\n",
    "age2 = 50\n",
    "age3 = 3\n",
    "\n",
    "if age1 < age2 and age1 < age3:\n",
    "    print(age1, \"is the lowest age and the first person is the youngest\")\n",
    "elif age2 < age1 and age2 < age3:\n",
    "        print(age2, \"is the lowest age and the second person is the youngest\")\n",
    "        print(\"test\")\n",
    "else:\n",
    "    print(age3, \"is the lowest age and the third person is the youngest\")\n"
   ]
  },
  {
   "cell_type": "code",
   "execution_count": 30,
   "metadata": {},
   "outputs": [
    {
     "name": "stdout",
     "output_type": "stream",
     "text": [
      "15 is the lowest age and the second person is the youngest\n",
      "test\n"
     ]
    }
   ],
   "source": [
    "age1 = 20\n",
    "age2 = 15\n",
    "age3 = 30\n",
    "\n",
    "if age1 < age2 and age1 < age3:\n",
    "    print(age1, \"is the lowest age and the first person is the youngest\")\n",
    "elif age2 < age1 and age2 < age3:\n",
    "        print(age2, \"is the lowest age and the second person is the youngest\")\n",
    "        print(\"test\")\n",
    "else:\n",
    "    print(age3, \"is the lowest age and the third person is the youngest\")\n"
   ]
  },
  {
   "cell_type": "code",
   "execution_count": 31,
   "metadata": {},
   "outputs": [
    {
     "name": "stdout",
     "output_type": "stream",
     "text": [
      "2 is the lowest age and the first person is the youngest\n"
     ]
    }
   ],
   "source": [
    "age1 = 2\n",
    "age2 = 15\n",
    "age3 = 30\n",
    "\n",
    "if age1 < age2 and age1 < age3:\n",
    "    print(age1, \"is the lowest age and the first person is the youngest\")\n",
    "elif age2 < age1 and age2 < age3:\n",
    "        print(age2, \"is the lowest age and the second person is the youngest\")\n",
    "        print(\"test\")\n",
    "else:\n",
    "    print(age3, \"is the lowest age and the third person is the youngest\")\n"
   ]
  },
  {
   "cell_type": "code",
   "execution_count": 32,
   "metadata": {},
   "outputs": [
    {
     "name": "stdout",
     "output_type": "stream",
     "text": [
      "30 is the lowest age and the third person is the youngest\n"
     ]
    }
   ],
   "source": [
    "age1 = 15\n",
    "age2 = 15\n",
    "age3 = 30\n",
    "\n",
    "if age1 < age2 and age1 < age3:\n",
    "    print(age1, \"is the lowest age and the first person is the youngest\")\n",
    "elif age2 < age1 and age2 < age3:\n",
    "        print(age2, \"is the lowest age and the second person is the youngest\")\n",
    "        print(\"test\")\n",
    "else:\n",
    "    print(age3, \"is the lowest age and the third person is the youngest\")\n"
   ]
  },
  {
   "cell_type": "code",
   "execution_count": 37,
   "metadata": {},
   "outputs": [
    {
     "name": "stdout",
     "output_type": "stream",
     "text": [
      "35 is the lowest age and the first person is the youngest\n"
     ]
    }
   ],
   "source": [
    "age1 = 35\n",
    "age2 = 55\n",
    "age3 = 35\n",
    "\n",
    "if age1 <= age2 and age1 <= age3:\n",
    "    print(age1, \"is the lowest age and the first person is the youngest\")\n",
    "elif age2 < age1 and age2 <= age3:\n",
    "        print(age2, \"is the lowest age and the second person is the youngest\")\n",
    "        print(\"test\")\n",
    "else:\n",
    "    print(age3, \"is the lowest age and the third person is the youngest\")\n"
   ]
  },
  {
   "cell_type": "code",
   "execution_count": null,
   "metadata": {},
   "outputs": [],
   "source": []
  },
  {
   "cell_type": "code",
   "execution_count": null,
   "metadata": {},
   "outputs": [],
   "source": []
  },
  {
   "cell_type": "markdown",
   "metadata": {},
   "source": [
    "### for: the repetitive control structure with a known number of steps"
   ]
  },
  {
   "cell_type": "markdown",
   "metadata": {},
   "source": [
    "To loop through a sequence of elements is to iterate"
   ]
  },
  {
   "cell_type": "markdown",
   "metadata": {},
   "source": [
    "```python\n",
    "for var in sequence:\n",
    "    statements\n",
    "```\n",
    "\n",
    "* A variable is used to go through each element of the iterable we go through.  \n",
    "* The variable will take the values of the iterrable elements one by one and then the block of code in the for loop will be executed for each value.\n",
    "* The code of the for loop - the code to be executed for each element of the iterrable - has to be indented - that is how the interpreter knows where the instructions that it needs to repeat stop\n",
    "\n",
    "Iterable:  An object capable of returning its members one at a time.     \n",
    "https://docs.python.org/3/glossary.html    \n",
    "https://docs.python.org/3/library/collections.abc.html?highlight=iterable#collections.abc.Iterable\n"
   ]
  },
  {
   "cell_type": "code",
   "execution_count": 39,
   "metadata": {},
   "outputs": [],
   "source": [
    "# dir(list)"
   ]
  },
  {
   "cell_type": "code",
   "execution_count": null,
   "metadata": {},
   "outputs": [],
   "source": []
  },
  {
   "cell_type": "code",
   "execution_count": 40,
   "metadata": {},
   "outputs": [
    {
     "name": "stdout",
     "output_type": "stream",
     "text": [
      "0\n",
      "1\n",
      "2\n"
     ]
    }
   ],
   "source": [
    "# Print elements of a range\n",
    "for i in range(3):\n",
    "    print(i)"
   ]
  },
  {
   "cell_type": "code",
   "execution_count": 41,
   "metadata": {},
   "outputs": [
    {
     "name": "stdout",
     "output_type": "stream",
     "text": [
      "0 0\n",
      "0 1\n",
      "0 2\n",
      "0 3\n",
      "1 0\n",
      "1 1\n",
      "1 2\n",
      "1 3\n",
      "2 0\n",
      "2 1\n",
      "2 2\n",
      "2 3\n"
     ]
    }
   ],
   "source": [
    "# nested loop\n",
    "for i in range(3):\n",
    "    for j in range(4):\n",
    "        print(i,j)"
   ]
  },
  {
   "cell_type": "code",
   "execution_count": 43,
   "metadata": {},
   "outputs": [
    {
     "name": "stdout",
     "output_type": "stream",
     "text": [
      "elem1\n",
      "elem2\n",
      "elem3\n"
     ]
    }
   ],
   "source": [
    "# going through list elements\n",
    "list_var = [\"elem1\",\"elem2\",\"elem3\"]\n",
    "for list_elem in list_var:\n",
    "    print(list_elem)"
   ]
  },
  {
   "cell_type": "code",
   "execution_count": 44,
   "metadata": {},
   "outputs": [
    {
     "name": "stdout",
     "output_type": "stream",
     "text": [
      "elem1\n",
      "elem2\n",
      "elem3\n"
     ]
    }
   ],
   "source": [
    "# using indices\n",
    "for i in range(len(list_var)):\n",
    "    print(list_var[i])"
   ]
  },
  {
   "cell_type": "code",
   "execution_count": 45,
   "metadata": {},
   "outputs": [
    {
     "name": "stdout",
     "output_type": "stream",
     "text": [
      "0 elem1\n",
      "1 elem2\n",
      "2 elem3\n"
     ]
    }
   ],
   "source": [
    "for i in range(len(list_var)):\n",
    "    print(i, list_var[i])"
   ]
  },
  {
   "cell_type": "code",
   "execution_count": 46,
   "metadata": {},
   "outputs": [
    {
     "data": {
      "text/plain": [
       "<enumerate at 0x7fefd8331740>"
      ]
     },
     "execution_count": 46,
     "metadata": {},
     "output_type": "execute_result"
    }
   ],
   "source": [
    "enumerate(list_var)"
   ]
  },
  {
   "cell_type": "code",
   "execution_count": 49,
   "metadata": {},
   "outputs": [
    {
     "data": {
      "text/plain": [
       "[(0, 'elem1'), (1, 'elem2'), (2, 'elem3')]"
      ]
     },
     "execution_count": 49,
     "metadata": {},
     "output_type": "execute_result"
    }
   ],
   "source": [
    "# get both the index and the element in a tuple using enumerate\n",
    "list(enumerate(list_var))"
   ]
  },
  {
   "cell_type": "code",
   "execution_count": 50,
   "metadata": {},
   "outputs": [
    {
     "name": "stdout",
     "output_type": "stream",
     "text": [
      "0 elem1\n",
      "1 elem2\n",
      "2 elem3\n"
     ]
    }
   ],
   "source": [
    "# use the enumerate function to create pairs of index value\n",
    "for i, list_elem in enumerate(list_var):\n",
    "    print(i, list_var[i])"
   ]
  },
  {
   "cell_type": "code",
   "execution_count": null,
   "metadata": {},
   "outputs": [],
   "source": []
  },
  {
   "cell_type": "markdown",
   "metadata": {},
   "source": [
    "##### Sequence types as well as dictionaries and sets are iterables"
   ]
  },
  {
   "cell_type": "code",
   "execution_count": 53,
   "metadata": {},
   "outputs": [
    {
     "name": "stdout",
     "output_type": "stream",
     "text": [
      "Ser\n",
      "Lys\n",
      "Ala\n",
      "Leu\n"
     ]
    }
   ],
   "source": [
    "# Go through the amino_acids dictionary items\n",
    "\n",
    "# going through the dictionary goes through the keys only\n",
    "amino_acids = {'Ser': 'Serine', 'Lys': 'Lysine', 'Ala': 'Alanine', 'Leu': 'Leucine'}\n",
    "for item in amino_acids:\n",
    "    print(item)"
   ]
  },
  {
   "cell_type": "code",
   "execution_count": 60,
   "metadata": {},
   "outputs": [
    {
     "name": "stdout",
     "output_type": "stream",
     "text": [
      "('Ser', 'Serine')\n",
      "('Lys', 'Lysine')\n",
      "('Ala', 'Alanine')\n",
      "('Leu', 'Leucine')\n"
     ]
    }
   ],
   "source": [
    "amino_acids = {'Ser': 'Serine', 'Lys': 'Lysine', 'Ala': 'Alanine', 'Leu': 'Leucine'}\n",
    "for item in amino_acids.items():\n",
    "    print(item)"
   ]
  },
  {
   "cell_type": "code",
   "execution_count": 55,
   "metadata": {},
   "outputs": [
    {
     "data": {
      "text/plain": [
       "dict_items([('Ser', 'Serine'), ('Lys', 'Lysine'), ('Ala', 'Alanine'), ('Leu', 'Leucine')])"
      ]
     },
     "execution_count": 55,
     "metadata": {},
     "output_type": "execute_result"
    }
   ],
   "source": [
    "amino_acids.items()"
   ]
  },
  {
   "cell_type": "code",
   "execution_count": 57,
   "metadata": {},
   "outputs": [
    {
     "name": "stdout",
     "output_type": "stream",
     "text": [
      "Ser Serine\n",
      "Lys Lysine\n",
      "Ala Alanine\n",
      "Found Alanine, key is: Ala\n",
      "Leu Leucine\n"
     ]
    }
   ],
   "source": [
    "# unpacking a dictionary item\n",
    "\n",
    "amino_acids = {'Ser': 'Serine', 'Lys': 'Lysine', 'Ala': 'Alanine', 'Leu': 'Leucine'}\n",
    "for key,value in amino_acids.items():\n",
    "    print(key, value)\n",
    "    if value == \"Alanine\":\n",
    "        print(\"Found Alanine, key is:\", key)\n",
    "    "
   ]
  },
  {
   "cell_type": "code",
   "execution_count": null,
   "metadata": {},
   "outputs": [],
   "source": []
  },
  {
   "cell_type": "code",
   "execution_count": null,
   "metadata": {},
   "outputs": [],
   "source": []
  },
  {
   "cell_type": "code",
   "execution_count": null,
   "metadata": {},
   "outputs": [],
   "source": []
  },
  {
   "cell_type": "markdown",
   "metadata": {},
   "source": [
    "#### <font color = \"red\">Exercise</font> \n",
    "Codons are sequences of three nucleotides<br>\n",
    "Nucleotides are: 'A', 'C', 'G', 'T'<br>\n",
    "Write code that outputs all possible combinations of codons<br>\n",
    "Then add a condition to display only the ones that have the group 'AC'"
   ]
  },
  {
   "cell_type": "code",
   "execution_count": 61,
   "metadata": {},
   "outputs": [
    {
     "name": "stdout",
     "output_type": "stream",
     "text": [
      "A\n",
      "C\n",
      "G\n",
      "T\n"
     ]
    }
   ],
   "source": [
    "nucleotides = \"ACGT\"\n",
    "for nc in nucleotides:\n",
    "    print(nc)"
   ]
  },
  {
   "cell_type": "code",
   "execution_count": 62,
   "metadata": {},
   "outputs": [
    {
     "name": "stdout",
     "output_type": "stream",
     "text": [
      "A\n",
      "C\n",
      "G\n",
      "T\n"
     ]
    }
   ],
   "source": [
    "nucleotides = [\"A\", \"C\", \"G\", \"T\"]\n",
    "for nc in nucleotides:\n",
    "    print(nc)"
   ]
  },
  {
   "cell_type": "code",
   "execution_count": 63,
   "metadata": {},
   "outputs": [
    {
     "name": "stdout",
     "output_type": "stream",
     "text": [
      "A\n",
      "C\n",
      "G\n",
      "T\n"
     ]
    }
   ],
   "source": [
    "nucleotides = (\"A\", \"C\", \"G\", \"T\")\n",
    "for nc in nucleotides:\n",
    "    print(nc)"
   ]
  },
  {
   "cell_type": "code",
   "execution_count": 64,
   "metadata": {},
   "outputs": [
    {
     "name": "stdout",
     "output_type": "stream",
     "text": [
      "G\n",
      "C\n",
      "A\n",
      "T\n"
     ]
    }
   ],
   "source": [
    "nucleotides = {\"A\", \"C\", \"G\", \"T\"}\n",
    "for nc in nucleotides:\n",
    "    print(nc)"
   ]
  },
  {
   "cell_type": "code",
   "execution_count": 66,
   "metadata": {},
   "outputs": [
    {
     "name": "stdout",
     "output_type": "stream",
     "text": [
      "A A\n",
      "A C\n",
      "A G\n",
      "A T\n",
      "C A\n",
      "C C\n",
      "C G\n",
      "C T\n",
      "G A\n",
      "G C\n",
      "G G\n",
      "G T\n",
      "T A\n",
      "T C\n",
      "T G\n",
      "T T\n"
     ]
    }
   ],
   "source": [
    "nucleotides = (\"A\", \"C\", \"G\", \"T\")\n",
    "for nc1 in nucleotides:\n",
    "    for nc2 in nucleotides:\n",
    "        print(nc1, nc2)"
   ]
  },
  {
   "cell_type": "code",
   "execution_count": 68,
   "metadata": {},
   "outputs": [
    {
     "name": "stdout",
     "output_type": "stream",
     "text": [
      "A\n",
      "C\n",
      "G\n",
      "T\n",
      "--\n",
      "A\n",
      "C\n",
      "G\n",
      "T\n"
     ]
    }
   ],
   "source": [
    "nucleotides = (\"A\", \"C\", \"G\", \"T\")\n",
    "for nc1 in nucleotides:\n",
    "    print(nc1)\n",
    "print(\"--\")\n",
    "for nc2 in nucleotides:\n",
    "        print(nc2)"
   ]
  },
  {
   "cell_type": "code",
   "execution_count": 69,
   "metadata": {},
   "outputs": [
    {
     "name": "stdout",
     "output_type": "stream",
     "text": [
      "T T\n"
     ]
    }
   ],
   "source": [
    "print(nc1, nc2)"
   ]
  },
  {
   "cell_type": "code",
   "execution_count": 70,
   "metadata": {},
   "outputs": [
    {
     "name": "stdout",
     "output_type": "stream",
     "text": [
      "A A\n",
      "A C\n",
      "A G\n",
      "A T\n",
      "C A\n",
      "C C\n",
      "C G\n",
      "C T\n",
      "G A\n",
      "G C\n",
      "G G\n",
      "G T\n",
      "T A\n",
      "T C\n",
      "T G\n",
      "T T\n"
     ]
    }
   ],
   "source": [
    "nucleotides = (\"A\", \"C\", \"G\", \"T\")\n",
    "for nc1 in nucleotides:\n",
    "    for nc2 in nucleotides:\n",
    "        print(nc1, nc2)"
   ]
  },
  {
   "cell_type": "code",
   "execution_count": 73,
   "metadata": {},
   "outputs": [
    {
     "data": {
      "text/plain": [
       "'TTT'"
      ]
     },
     "execution_count": 73,
     "metadata": {},
     "output_type": "execute_result"
    }
   ],
   "source": [
    "# add the third nuclotide in the codon\n",
    "\n",
    "nucleotides = (\"A\", \"C\", \"G\", \"T\")\n",
    "for nc1 in nucleotides:\n",
    "    for nc2 in nucleotides:\n",
    "        for nc3 in nucleotides:\n",
    "            codon = nc1 + nc2 + nc3\n",
    "            \n",
    "codon"
   ]
  },
  {
   "cell_type": "code",
   "execution_count": null,
   "metadata": {},
   "outputs": [],
   "source": [
    "# Then add a condition to display only the ones that have the group 'AC'"
   ]
  },
  {
   "cell_type": "code",
   "execution_count": 75,
   "metadata": {},
   "outputs": [
    {
     "name": "stdout",
     "output_type": "stream",
     "text": [
      "AAA\n",
      "AAC\n",
      "AAG\n",
      "AAT\n",
      "ACA\n",
      "ACC\n",
      "ACG\n",
      "ACT\n",
      "AGA\n",
      "AGC\n",
      "AGG\n",
      "AGT\n",
      "ATA\n",
      "ATC\n",
      "ATG\n",
      "ATT\n",
      "CAA\n",
      "CAC\n",
      "CAG\n",
      "CAT\n",
      "CCA\n",
      "CCC\n",
      "CCG\n",
      "CCT\n",
      "CGA\n",
      "CGC\n",
      "CGG\n",
      "CGT\n",
      "CTA\n",
      "CTC\n",
      "CTG\n",
      "CTT\n",
      "GAA\n",
      "GAC\n",
      "GAG\n",
      "GAT\n",
      "GCA\n",
      "GCC\n",
      "GCG\n",
      "GCT\n",
      "GGA\n",
      "GGC\n",
      "GGG\n",
      "GGT\n",
      "GTA\n",
      "GTC\n",
      "GTG\n",
      "GTT\n",
      "TAA\n",
      "TAC\n",
      "TAG\n",
      "TAT\n",
      "TCA\n",
      "TCC\n",
      "TCG\n",
      "TCT\n",
      "TGA\n",
      "TGC\n",
      "TGG\n",
      "TGT\n",
      "TTA\n",
      "TTC\n",
      "TTG\n",
      "TTT\n"
     ]
    }
   ],
   "source": [
    "nucleotides = (\"A\", \"C\", \"G\", \"T\")\n",
    "for nc1 in nucleotides:\n",
    "    for nc2 in nucleotides:\n",
    "        for nc3 in nucleotides:\n",
    "            codon = nc1 + nc2 + nc3\n",
    "            print(codon)\n"
   ]
  },
  {
   "cell_type": "code",
   "execution_count": 76,
   "metadata": {},
   "outputs": [
    {
     "name": "stdout",
     "output_type": "stream",
     "text": [
      "AAT\n",
      "ACT\n",
      "AGT\n",
      "ATT\n",
      "CAT\n",
      "CCT\n",
      "CGT\n",
      "CTT\n",
      "GAT\n",
      "GCT\n",
      "GGT\n",
      "GTT\n",
      "TAT\n",
      "TCT\n",
      "TGT\n",
      "TTT\n"
     ]
    }
   ],
   "source": [
    "nucleotides = (\"A\", \"C\", \"G\", \"T\")\n",
    "for nc1 in nucleotides:\n",
    "    for nc2 in nucleotides:\n",
    "        for nc3 in nucleotides:\n",
    "            codon = nc1 + nc2 + nc3\n",
    "        print(codon)\n"
   ]
  },
  {
   "cell_type": "code",
   "execution_count": 77,
   "metadata": {},
   "outputs": [
    {
     "name": "stdout",
     "output_type": "stream",
     "text": [
      "ATT\n",
      "CTT\n",
      "GTT\n",
      "TTT\n"
     ]
    }
   ],
   "source": [
    "nucleotides = (\"A\", \"C\", \"G\", \"T\")\n",
    "for nc1 in nucleotides:\n",
    "    for nc2 in nucleotides:\n",
    "        for nc3 in nucleotides:\n",
    "            codon = nc1 + nc2 + nc3\n",
    "    print(codon)"
   ]
  },
  {
   "cell_type": "code",
   "execution_count": 1,
   "metadata": {},
   "outputs": [
    {
     "ename": "NameError",
     "evalue": "name 'codon' is not defined",
     "output_type": "error",
     "traceback": [
      "\u001b[0;31m---------------------------------------------------------------------------\u001b[0m",
      "\u001b[0;31mNameError\u001b[0m                                 Traceback (most recent call last)",
      "Input \u001b[0;32mIn [1]\u001b[0m, in \u001b[0;36m<cell line: 2>\u001b[0;34m()\u001b[0m\n\u001b[1;32m      1\u001b[0m nucleotides \u001b[38;5;241m=\u001b[39m (\u001b[38;5;124m\"\u001b[39m\u001b[38;5;124mA\u001b[39m\u001b[38;5;124m\"\u001b[39m, \u001b[38;5;124m\"\u001b[39m\u001b[38;5;124mC\u001b[39m\u001b[38;5;124m\"\u001b[39m, \u001b[38;5;124m\"\u001b[39m\u001b[38;5;124mG\u001b[39m\u001b[38;5;124m\"\u001b[39m, \u001b[38;5;124m\"\u001b[39m\u001b[38;5;124mT\u001b[39m\u001b[38;5;124m\"\u001b[39m)\n\u001b[1;32m      2\u001b[0m \u001b[38;5;28;01mfor\u001b[39;00m nc1 \u001b[38;5;129;01min\u001b[39;00m nucleotides:\n\u001b[0;32m----> 3\u001b[0m     \u001b[38;5;28mprint\u001b[39m(\u001b[43mcodon\u001b[49m)\n\u001b[1;32m      4\u001b[0m     \u001b[38;5;28;01mfor\u001b[39;00m nc2 \u001b[38;5;129;01min\u001b[39;00m nucleotides:\n\u001b[1;32m      5\u001b[0m         \u001b[38;5;28;01mfor\u001b[39;00m nc3 \u001b[38;5;129;01min\u001b[39;00m nucleotides:\n",
      "\u001b[0;31mNameError\u001b[0m: name 'codon' is not defined"
     ]
    }
   ],
   "source": [
    "nucleotides = (\"A\", \"C\", \"G\", \"T\")\n",
    "for nc1 in nucleotides:\n",
    "    print(codon)\n",
    "    for nc2 in nucleotides:\n",
    "        for nc3 in nucleotides:\n",
    "            codon = nc1 + nc2 + nc3\n"
   ]
  },
  {
   "cell_type": "code",
   "execution_count": 4,
   "metadata": {},
   "outputs": [
    {
     "name": "stdout",
     "output_type": "stream",
     "text": [
      "AAC\n",
      "ACA\n",
      "ACC\n",
      "ACG\n",
      "ACT\n",
      "CAC\n",
      "GAC\n",
      "TAC\n"
     ]
    }
   ],
   "source": [
    "nucleotides = (\"A\", \"C\", \"G\", \"T\")\n",
    "for nc1 in nucleotides:\n",
    "    for nc2 in nucleotides:\n",
    "        for nc3 in nucleotides:\n",
    "            codon = nc1 + nc2 + nc3\n",
    "            if \"AC\" in codon:\n",
    "                print(codon)\n"
   ]
  },
  {
   "cell_type": "code",
   "execution_count": 5,
   "metadata": {},
   "outputs": [
    {
     "data": {
      "text/plain": [
       "'TTT'"
      ]
     },
     "execution_count": 5,
     "metadata": {},
     "output_type": "execute_result"
    }
   ],
   "source": [
    "codon"
   ]
  },
  {
   "cell_type": "code",
   "execution_count": 7,
   "metadata": {},
   "outputs": [
    {
     "name": "stdout",
     "output_type": "stream",
     "text": [
      "['AAC']\n",
      "['AAC', 'ACA']\n",
      "['AAC', 'ACA', 'ACC']\n",
      "['AAC', 'ACA', 'ACC', 'ACG']\n",
      "['AAC', 'ACA', 'ACC', 'ACG', 'ACT']\n",
      "['AAC', 'ACA', 'ACC', 'ACG', 'ACT', 'CAC']\n",
      "['AAC', 'ACA', 'ACC', 'ACG', 'ACT', 'CAC', 'GAC']\n",
      "['AAC', 'ACA', 'ACC', 'ACG', 'ACT', 'CAC', 'GAC', 'TAC']\n"
     ]
    }
   ],
   "source": [
    "codons_lst = []\n",
    "nucleotides = (\"A\", \"C\", \"G\", \"T\")\n",
    "for nc1 in nucleotides:\n",
    "    for nc2 in nucleotides:\n",
    "        for nc3 in nucleotides:\n",
    "            codon = nc1 + nc2 + nc3\n",
    "            if \"AC\" in codon:\n",
    "                codons_lst.append(codon)\n",
    "                print(codons_lst)\n"
   ]
  },
  {
   "cell_type": "code",
   "execution_count": 8,
   "metadata": {},
   "outputs": [
    {
     "data": {
      "text/plain": [
       "['AAC', 'ACA', 'ACC', 'ACG', 'ACT', 'CAC', 'GAC', 'TAC']"
      ]
     },
     "execution_count": 8,
     "metadata": {},
     "output_type": "execute_result"
    }
   ],
   "source": [
    "codons_lst"
   ]
  },
  {
   "cell_type": "code",
   "execution_count": 9,
   "metadata": {},
   "outputs": [
    {
     "data": {
      "text/plain": [
       "8"
      ]
     },
     "execution_count": 9,
     "metadata": {},
     "output_type": "execute_result"
    }
   ],
   "source": [
    "len(codons_lst)"
   ]
  },
  {
   "cell_type": "code",
   "execution_count": 14,
   "metadata": {},
   "outputs": [
    {
     "data": {
      "text/plain": [
       "['AAA',\n",
       " 'AAC',\n",
       " 'AAG',\n",
       " 'AAT',\n",
       " 'ACA',\n",
       " 'ACC',\n",
       " 'ACG',\n",
       " 'ACT',\n",
       " 'AGA',\n",
       " 'AGC',\n",
       " 'AGG',\n",
       " 'AGT',\n",
       " 'ATA',\n",
       " 'ATC',\n",
       " 'ATG',\n",
       " 'ATT',\n",
       " 'CAA',\n",
       " 'CAC',\n",
       " 'CAG',\n",
       " 'CAT',\n",
       " 'CCA',\n",
       " 'CCC',\n",
       " 'CCG',\n",
       " 'CCT',\n",
       " 'CGA',\n",
       " 'CGC',\n",
       " 'CGG',\n",
       " 'CGT',\n",
       " 'CTA',\n",
       " 'CTC',\n",
       " 'CTG',\n",
       " 'CTT',\n",
       " 'GAA',\n",
       " 'GAC',\n",
       " 'GAG',\n",
       " 'GAT',\n",
       " 'GCA',\n",
       " 'GCC',\n",
       " 'GCG',\n",
       " 'GCT',\n",
       " 'GGA',\n",
       " 'GGC',\n",
       " 'GGG',\n",
       " 'GGT',\n",
       " 'GTA',\n",
       " 'GTC',\n",
       " 'GTG',\n",
       " 'GTT',\n",
       " 'TAA',\n",
       " 'TAC',\n",
       " 'TAG',\n",
       " 'TAT',\n",
       " 'TCA',\n",
       " 'TCC',\n",
       " 'TCG',\n",
       " 'TCT',\n",
       " 'TGA',\n",
       " 'TGC',\n",
       " 'TGG',\n",
       " 'TGT',\n",
       " 'TTA',\n",
       " 'TTC',\n",
       " 'TTG',\n",
       " 'TTT']"
      ]
     },
     "execution_count": 14,
     "metadata": {},
     "output_type": "execute_result"
    }
   ],
   "source": [
    "codons_lst = []\n",
    "nucleotides = (\"A\", \"C\", \"G\", \"T\")\n",
    "for nc1 in nucleotides:\n",
    "    for nc2 in nucleotides:\n",
    "        for nc3 in nucleotides:\n",
    "            codon = nc1 + nc2 + nc3\n",
    "            codons_lst.append(codon)\n",
    "            \n",
    "codons_lst"
   ]
  },
  {
   "cell_type": "code",
   "execution_count": 15,
   "metadata": {},
   "outputs": [
    {
     "data": {
      "text/plain": [
       "64"
      ]
     },
     "execution_count": 15,
     "metadata": {},
     "output_type": "execute_result"
    }
   ],
   "source": [
    "len(codons_lst)"
   ]
  },
  {
   "cell_type": "markdown",
   "metadata": {},
   "source": [
    "<b>Think of a repetitive case when you could not use a for loop readily</b>"
   ]
  },
  {
   "cell_type": "code",
   "execution_count": null,
   "metadata": {},
   "outputs": [],
   "source": []
  },
  {
   "cell_type": "code",
   "execution_count": null,
   "metadata": {},
   "outputs": [],
   "source": []
  },
  {
   "cell_type": "markdown",
   "metadata": {},
   "source": [
    "### while: the repetitive control structure with unkown number of steps"
   ]
  },
  {
   "cell_type": "markdown",
   "metadata": {},
   "source": [
    "loop stopped by a condition\n",
    "\n",
    "<b>while loops make it easy to cause an 'infinite loop'</b>"
   ]
  },
  {
   "cell_type": "markdown",
   "metadata": {},
   "source": [
    "```python\n",
    "while condition:\n",
    "    statements\n",
    "```"
   ]
  },
  {
   "cell_type": "code",
   "execution_count": 16,
   "metadata": {},
   "outputs": [
    {
     "name": "stdout",
     "output_type": "stream",
     "text": [
      "Step 1\n",
      "Step 2\n",
      "Step 3\n",
      "Step 4\n",
      "Step 5\n",
      "Step 6\n",
      "Step 7\n",
      "Step 8\n",
      "Step 9\n"
     ]
    }
   ],
   "source": [
    "# while counting steps\n",
    "step = 1\n",
    "while step < 10:\n",
    "    print('Step ' + str(step))\n",
    "    step = step + 1"
   ]
  },
  {
   "cell_type": "code",
   "execution_count": 17,
   "metadata": {},
   "outputs": [
    {
     "name": "stdout",
     "output_type": "stream",
     "text": [
      "10\n"
     ]
    }
   ],
   "source": [
    "print(step)"
   ]
  },
  {
   "cell_type": "code",
   "execution_count": null,
   "metadata": {},
   "outputs": [],
   "source": []
  },
  {
   "cell_type": "code",
   "execution_count": 18,
   "metadata": {},
   "outputs": [
    {
     "name": "stdin",
     "output_type": "stream",
     "text": [
      " 3\n"
     ]
    },
    {
     "name": "stdout",
     "output_type": "stream",
     "text": [
      "3 Lower than or equal to what I am looking for\n"
     ]
    },
    {
     "name": "stdin",
     "output_type": "stream",
     "text": [
      " 5\n"
     ]
    },
    {
     "name": "stdout",
     "output_type": "stream",
     "text": [
      "5 Lower than or equal to what I am looking for\n"
     ]
    },
    {
     "name": "stdin",
     "output_type": "stream",
     "text": [
      " 40\n"
     ]
    },
    {
     "name": "stdout",
     "output_type": "stream",
     "text": [
      "40 Greater than what I am looking for\n"
     ]
    },
    {
     "name": "stdin",
     "output_type": "stream",
     "text": [
      " 20\n"
     ]
    },
    {
     "name": "stdout",
     "output_type": "stream",
     "text": [
      "20 Greater than what I am looking for\n"
     ]
    },
    {
     "name": "stdin",
     "output_type": "stream",
     "text": [
      " 15\n"
     ]
    },
    {
     "name": "stdout",
     "output_type": "stream",
     "text": [
      "15 Greater than what I am looking for\n"
     ]
    },
    {
     "name": "stdin",
     "output_type": "stream",
     "text": [
      " 10\n"
     ]
    }
   ],
   "source": [
    "# while I get a value different than the \n",
    "# one I am looking for (10) ask for another value \n",
    "cond = True\n",
    "while cond:\n",
    "    value = int(input()) \n",
    "    if value > 10:\n",
    "        print(value, 'Greater than what I am looking for')\n",
    "    if value < 10:\n",
    "        print(value, 'Lower than or equal to what I am looking for')\n",
    "    cond = (value != 10)"
   ]
  },
  {
   "cell_type": "markdown",
   "metadata": {},
   "source": [
    "```python\n",
    "# Infinite loop\n",
    "cond = True\n",
    "while cond:\n",
    "    print('Infinite loop')\n",
    "```"
   ]
  },
  {
   "cell_type": "code",
   "execution_count": 2,
   "metadata": {},
   "outputs": [
    {
     "data": {
      "text/plain": [
       "\" Infinite loop do not run this\\ncond = True\\nwhile cond:\\n    print('Infinite loop')\\n\""
      ]
     },
     "execution_count": 2,
     "metadata": {},
     "output_type": "execute_result"
    }
   ],
   "source": [
    "\"\"\" Infinite loop do not run this\n",
    "cond = True\n",
    "while cond:\n",
    "    print('Infinite loop')\n",
    "\"\"\""
   ]
  },
  {
   "cell_type": "code",
   "execution_count": null,
   "metadata": {},
   "outputs": [],
   "source": []
  },
  {
   "cell_type": "code",
   "execution_count": null,
   "metadata": {},
   "outputs": [],
   "source": []
  },
  {
   "cell_type": "code",
   "execution_count": null,
   "metadata": {},
   "outputs": [],
   "source": []
  },
  {
   "cell_type": "markdown",
   "metadata": {},
   "source": [
    "#### <font color = \"red\">Exercise</font> \n",
    "Assign a variable sequence_length the value 100 <br>\n",
    "Substract powers of 2 (2, 4, 8, 16,...)   until the value drops below 0<br>\n",
    "Print the power of 2 used in the last substraction."
   ]
  },
  {
   "cell_type": "code",
   "execution_count": 4,
   "metadata": {},
   "outputs": [
    {
     "data": {
      "text/plain": [
       "86"
      ]
     },
     "execution_count": 4,
     "metadata": {},
     "output_type": "execute_result"
    }
   ],
   "source": [
    "sequence_length = 100\n",
    "sequence_length = sequence_length - 2\n",
    "sequence_length = sequence_length - 2*2\n",
    "sequence_length = sequence_length - 2*2*2\n",
    "sequence_length"
   ]
  },
  {
   "cell_type": "code",
   "execution_count": 5,
   "metadata": {},
   "outputs": [
    {
     "data": {
      "text/plain": [
       "100"
      ]
     },
     "execution_count": 5,
     "metadata": {},
     "output_type": "execute_result"
    }
   ],
   "source": [
    "sequence_length = 100\n",
    "sequence_length"
   ]
  },
  {
   "cell_type": "code",
   "execution_count": 7,
   "metadata": {},
   "outputs": [
    {
     "data": {
      "text/plain": [
       "(-26, 64)"
      ]
     },
     "execution_count": 7,
     "metadata": {},
     "output_type": "execute_result"
    }
   ],
   "source": [
    "sequence_length = 100\n",
    "pow2 = 1\n",
    "while (sequence_length > 0):\n",
    "    pow2 = pow2 * 2\n",
    "    sequence_length = sequence_length - pow2\n",
    "    \n",
    "sequence_length, pow2\n",
    "    "
   ]
  },
  {
   "cell_type": "code",
   "execution_count": 11,
   "metadata": {},
   "outputs": [
    {
     "data": {
      "text/plain": [
       "(-26, 6)"
      ]
     },
     "execution_count": 11,
     "metadata": {},
     "output_type": "execute_result"
    }
   ],
   "source": [
    "sequence_length = 100\n",
    "idx = 0\n",
    "while (sequence_length > 0):\n",
    "    idx = idx + 1 \n",
    "    sequence_length = sequence_length - 2 ** idx\n",
    "    \n",
    "sequence_length, idx"
   ]
  },
  {
   "cell_type": "code",
   "execution_count": 8,
   "metadata": {},
   "outputs": [
    {
     "data": {
      "text/plain": [
       "126"
      ]
     },
     "execution_count": 8,
     "metadata": {},
     "output_type": "execute_result"
    }
   ],
   "source": [
    "64 + 32 + 16 + 8 + 4 + 2"
   ]
  },
  {
   "cell_type": "code",
   "execution_count": 9,
   "metadata": {},
   "outputs": [
    {
     "data": {
      "text/plain": [
       "62"
      ]
     },
     "execution_count": 9,
     "metadata": {},
     "output_type": "execute_result"
    }
   ],
   "source": [
    "32 + 16 + 8 + 4 + 2"
   ]
  },
  {
   "cell_type": "code",
   "execution_count": 12,
   "metadata": {},
   "outputs": [
    {
     "data": {
      "text/plain": [
       "38"
      ]
     },
     "execution_count": 12,
     "metadata": {},
     "output_type": "execute_result"
    }
   ],
   "source": [
    "100 - (32 + 16 + 8 + 4 + 2)"
   ]
  },
  {
   "cell_type": "code",
   "execution_count": null,
   "metadata": {},
   "outputs": [],
   "source": []
  },
  {
   "cell_type": "code",
   "execution_count": 13,
   "metadata": {},
   "outputs": [
    {
     "name": "stdout",
     "output_type": "stream",
     "text": [
      "Help on method_descriptor:\n",
      "\n",
      "index(...)\n",
      "    S.index(sub[, start[, end]]) -> int\n",
      "    \n",
      "    Return the lowest index in S where substring sub is found,\n",
      "    such that sub is contained within S[start:end].  Optional\n",
      "    arguments start and end are interpreted as in slice notation.\n",
      "    \n",
      "    Raises ValueError when the substring is not found.\n",
      "\n"
     ]
    }
   ],
   "source": [
    "help(str.index)"
   ]
  },
  {
   "cell_type": "code",
   "execution_count": 2,
   "metadata": {},
   "outputs": [],
   "source": [
    "my_lst = [{1,2,3}, \"A\", \"hello\", 20]\n",
    "my_set = my_lst[0]\n",
    "my_set.add(20)\n"
   ]
  },
  {
   "cell_type": "code",
   "execution_count": 3,
   "metadata": {},
   "outputs": [
    {
     "data": {
      "text/plain": [
       "{1, 2, 3, 20}"
      ]
     },
     "execution_count": 3,
     "metadata": {},
     "output_type": "execute_result"
    }
   ],
   "source": [
    "my_set"
   ]
  },
  {
   "cell_type": "code",
   "execution_count": 4,
   "metadata": {},
   "outputs": [
    {
     "data": {
      "text/plain": [
       "{1, 2, 3, 20}"
      ]
     },
     "execution_count": 4,
     "metadata": {},
     "output_type": "execute_result"
    }
   ],
   "source": [
    "my_lst[0]"
   ]
  },
  {
   "cell_type": "code",
   "execution_count": 5,
   "metadata": {},
   "outputs": [
    {
     "data": {
      "text/plain": [
       "[{1, 2, 3, 20}, 'A', 'hello', 20]"
      ]
     },
     "execution_count": 5,
     "metadata": {},
     "output_type": "execute_result"
    }
   ],
   "source": [
    "my_lst"
   ]
  },
  {
   "cell_type": "code",
   "execution_count": 7,
   "metadata": {},
   "outputs": [
    {
     "ename": "KeyError",
     "evalue": "4",
     "output_type": "error",
     "traceback": [
      "\u001b[0;31m---------------------------------------------------------------------------\u001b[0m",
      "\u001b[0;31mKeyError\u001b[0m                                  Traceback (most recent call last)",
      "Input \u001b[0;32mIn [7]\u001b[0m, in \u001b[0;36m<cell line: 2>\u001b[0;34m()\u001b[0m\n\u001b[1;32m      1\u001b[0m d \u001b[38;5;241m=\u001b[39m {\u001b[38;5;241m1\u001b[39m:\u001b[38;5;124m\"\u001b[39m\u001b[38;5;124mone\u001b[39m\u001b[38;5;124m\"\u001b[39m, \u001b[38;5;241m2\u001b[39m:\u001b[38;5;124m\"\u001b[39m\u001b[38;5;124mtwo\u001b[39m\u001b[38;5;124m\"\u001b[39m, \u001b[38;5;241m3\u001b[39m:\u001b[38;5;124m\"\u001b[39m\u001b[38;5;124mthree\u001b[39m\u001b[38;5;124m\"\u001b[39m}\n\u001b[0;32m----> 2\u001b[0m \u001b[43md\u001b[49m\u001b[43m[\u001b[49m\u001b[38;5;241;43m4\u001b[39;49m\u001b[43m]\u001b[49m\n",
      "\u001b[0;31mKeyError\u001b[0m: 4"
     ]
    }
   ],
   "source": [
    "d = {1:\"one\", 2:\"two\", 3:\"three\"}\n",
    "d[4]"
   ]
  },
  {
   "cell_type": "code",
   "execution_count": 8,
   "metadata": {},
   "outputs": [
    {
     "data": {
      "text/plain": [
       "'one'"
      ]
     },
     "execution_count": 8,
     "metadata": {},
     "output_type": "execute_result"
    }
   ],
   "source": [
    "d.get(1)"
   ]
  },
  {
   "cell_type": "code",
   "execution_count": 9,
   "metadata": {},
   "outputs": [],
   "source": [
    "d.get(4)"
   ]
  },
  {
   "cell_type": "code",
   "execution_count": 10,
   "metadata": {},
   "outputs": [
    {
     "name": "stdout",
     "output_type": "stream",
     "text": [
      "None\n"
     ]
    }
   ],
   "source": [
    "print(d.get(4))"
   ]
  },
  {
   "cell_type": "code",
   "execution_count": 11,
   "metadata": {},
   "outputs": [
    {
     "name": "stdout",
     "output_type": "stream",
     "text": [
      "Help on method_descriptor:\n",
      "\n",
      "get(self, key, default=None, /)\n",
      "    Return the value for key if key is in the dictionary, else default.\n",
      "\n"
     ]
    }
   ],
   "source": [
    "help(dict.get)"
   ]
  },
  {
   "cell_type": "code",
   "execution_count": 13,
   "metadata": {},
   "outputs": [
    {
     "data": {
      "text/plain": [
       "'twoone'"
      ]
     },
     "execution_count": 13,
     "metadata": {},
     "output_type": "execute_result"
    }
   ],
   "source": [
    "d.get(2) + d.get(1)"
   ]
  },
  {
   "cell_type": "code",
   "execution_count": 15,
   "metadata": {},
   "outputs": [
    {
     "data": {
      "text/plain": [
       "'one'"
      ]
     },
     "execution_count": 15,
     "metadata": {},
     "output_type": "execute_result"
    }
   ],
   "source": [
    "d.get(4, \"\") + d.get(1)"
   ]
  },
  {
   "cell_type": "code",
   "execution_count": null,
   "metadata": {},
   "outputs": [],
   "source": []
  },
  {
   "cell_type": "code",
   "execution_count": null,
   "metadata": {},
   "outputs": [],
   "source": []
  },
  {
   "cell_type": "markdown",
   "metadata": {},
   "source": [
    "### More control statements"
   ]
  },
  {
   "cell_type": "markdown",
   "metadata": {},
   "source": [
    "Control statements are special structures that have control behavior. \n",
    "They can be represented by a keyword:\n",
    "\n",
    "```python\n",
    "pass\n",
    "break\n",
    "continue\n",
    "```"
   ]
  },
  {
   "cell_type": "markdown",
   "metadata": {},
   "source": [
    "<b>pass: do nothing</b>"
   ]
  },
  {
   "cell_type": "code",
   "execution_count": 18,
   "metadata": {},
   "outputs": [],
   "source": [
    "value = 20\n",
    "if value == 20:\n",
    "    pass"
   ]
  },
  {
   "cell_type": "code",
   "execution_count": 17,
   "metadata": {},
   "outputs": [
    {
     "ename": "IndentationError",
     "evalue": "expected an indented block (2478659983.py, line 5)",
     "output_type": "error",
     "traceback": [
      "\u001b[0;36m  Input \u001b[0;32mIn [17]\u001b[0;36m\u001b[0m\n\u001b[0;31m    \u001b[0m\n\u001b[0m    ^\u001b[0m\n\u001b[0;31mIndentationError\u001b[0m\u001b[0;31m:\u001b[0m expected an indented block\n"
     ]
    }
   ],
   "source": [
    "# it is used as placeholder to complete a statement\n",
    "value = 20\n",
    "if value == 20:\n",
    "\n",
    "    "
   ]
  },
  {
   "cell_type": "code",
   "execution_count": 19,
   "metadata": {},
   "outputs": [
    {
     "name": "stdout",
     "output_type": "stream",
     "text": [
      "200\n"
     ]
    }
   ],
   "source": [
    "value = 200\n",
    "if value == 20:\n",
    "    pass\n",
    "else: \n",
    "    print(value)"
   ]
  },
  {
   "cell_type": "code",
   "execution_count": 21,
   "metadata": {},
   "outputs": [
    {
     "name": "stdout",
     "output_type": "stream",
     "text": [
      "200\n"
     ]
    }
   ],
   "source": [
    "value = 200\n",
    "if value != 20:\n",
    "    print(value)"
   ]
  },
  {
   "cell_type": "markdown",
   "metadata": {},
   "source": [
    "<b>break: stops loops"
   ]
  },
  {
   "cell_type": "markdown",
   "metadata": {},
   "source": [
    "<b>break: allows the user to stop the closest loop</b>"
   ]
  },
  {
   "cell_type": "code",
   "execution_count": 22,
   "metadata": {},
   "outputs": [
    {
     "name": "stdout",
     "output_type": "stream",
     "text": [
      "0\n",
      "1\n",
      "2\n"
     ]
    }
   ],
   "source": [
    "# while break - it already has a condition that stops it but ...\n",
    "cond = True\n",
    "i = 0\n",
    "while cond:\n",
    "    if i == 3:\n",
    "        break\n",
    "    else:\n",
    "        print(i)\n",
    "        i = i + 1"
   ]
  },
  {
   "cell_type": "code",
   "execution_count": 24,
   "metadata": {},
   "outputs": [],
   "source": [
    "i = 0\n",
    "if i > 0:\n",
    "    while i >= 1:\n",
    "        i = i - 1\n",
    "        print(i)"
   ]
  },
  {
   "cell_type": "code",
   "execution_count": 25,
   "metadata": {},
   "outputs": [
    {
     "name": "stdout",
     "output_type": "stream",
     "text": [
      "9\n",
      "8\n",
      "7\n",
      "6\n",
      "5\n",
      "4\n",
      "3\n",
      "2\n",
      "1\n",
      "0\n"
     ]
    }
   ],
   "source": [
    "i = 10\n",
    "if i > 0:\n",
    "    while i >= 1:\n",
    "        i = i - 1\n",
    "        print(i)"
   ]
  },
  {
   "cell_type": "code",
   "execution_count": null,
   "metadata": {},
   "outputs": [],
   "source": []
  },
  {
   "cell_type": "code",
   "execution_count": null,
   "metadata": {},
   "outputs": [],
   "source": []
  },
  {
   "cell_type": "code",
   "execution_count": 26,
   "metadata": {},
   "outputs": [
    {
     "name": "stdout",
     "output_type": "stream",
     "text": [
      "0\n",
      "1\n",
      "2\n"
     ]
    }
   ],
   "source": [
    "# for with a break - kind of makes it a while\n",
    "for i in range(10):\n",
    "    if i==3:\n",
    "        break\n",
    "    else:\n",
    "        print(i)"
   ]
  },
  {
   "cell_type": "code",
   "execution_count": 19,
   "metadata": {},
   "outputs": [
    {
     "name": "stdout",
     "output_type": "stream",
     "text": [
      "A A\n",
      "A C\n",
      "C A\n",
      "C C\n",
      "G A\n",
      "G C\n",
      "T A\n",
      "T C\n"
     ]
    }
   ],
   "source": [
    "# break affects the closest (for) loop\n",
    "\n",
    "nucleotides = \"ACGT\"\n",
    "for nc1 in nucleotides:\n",
    "    for nc2 in nucleotides:\n",
    "        if nc2 == \"G\":\n",
    "            break\n",
    "        else:\n",
    "            print(nc1,nc2)"
   ]
  },
  {
   "cell_type": "markdown",
   "metadata": {},
   "source": [
    "<b>continue: just continue looping</b>"
   ]
  },
  {
   "cell_type": "markdown",
   "metadata": {},
   "source": [
    "Forces the loop to move on to the next item, skipping anything after it (that is in the loop) "
   ]
  },
  {
   "cell_type": "code",
   "execution_count": 30,
   "metadata": {},
   "outputs": [
    {
     "name": "stdout",
     "output_type": "stream",
     "text": [
      "0\n",
      "This statement gets executed\n",
      "1\n",
      "This statement gets executed\n",
      "2\n",
      "This statement gets executed\n",
      "3\n",
      "This statement gets executed\n",
      "7\n",
      "This statement gets executed\n",
      "8\n",
      "This statement gets executed\n",
      "9\n",
      "This statement gets executed\n"
     ]
    }
   ],
   "source": [
    "# Continue example\n",
    "for i in range(10):\n",
    "    if i > 3 and i < 7:\n",
    "        continue\n",
    "    else:\n",
    "        print(i)\n",
    "    print('This statement gets executed')"
   ]
  },
  {
   "cell_type": "code",
   "execution_count": 20,
   "metadata": {},
   "outputs": [
    {
     "name": "stdout",
     "output_type": "stream",
     "text": [
      "0\n",
      "This statement gets executed\n",
      "1\n",
      "This statement gets executed\n",
      "2\n",
      "This statement gets executed\n",
      "3\n",
      "This statement gets executed\n",
      "This statement gets executed\n",
      "This statement gets executed\n",
      "This statement gets executed\n",
      "7\n",
      "This statement gets executed\n",
      "8\n",
      "This statement gets executed\n",
      "9\n",
      "This statement gets executed\n"
     ]
    }
   ],
   "source": [
    "for i in range(10):\n",
    "    if i <= 3 or i >= 7:\n",
    "        print(i)\n",
    "    print('This statement gets executed')"
   ]
  },
  {
   "cell_type": "code",
   "execution_count": 22,
   "metadata": {},
   "outputs": [
    {
     "name": "stdout",
     "output_type": "stream",
     "text": [
      "0\n",
      "This statement gets executed\n",
      "20\n",
      "1\n",
      "This statement gets executed\n",
      "20\n",
      "2\n",
      "This statement gets executed\n",
      "20\n",
      "3\n",
      "This statement gets executed\n",
      "20\n",
      "20\n",
      "20\n",
      "20\n",
      "7\n",
      "This statement gets executed\n",
      "20\n",
      "8\n",
      "This statement gets executed\n",
      "20\n",
      "9\n",
      "This statement gets executed\n",
      "20\n"
     ]
    }
   ],
   "source": [
    "for i in range(10):\n",
    "    if i <= 3 or i >= 7:\n",
    "        print(i)\n",
    "        print('This statement gets executed')\n",
    "    x = 20 \n",
    "    print(x)"
   ]
  },
  {
   "cell_type": "code",
   "execution_count": 23,
   "metadata": {},
   "outputs": [
    {
     "name": "stdout",
     "output_type": "stream",
     "text": [
      "0\n",
      "This statement gets executed\n",
      "1\n",
      "This statement gets executed\n",
      "2\n",
      "This statement gets executed\n",
      "3\n",
      "This statement gets executed\n",
      "7\n",
      "This statement gets executed\n",
      "8\n",
      "This statement gets executed\n",
      "9\n",
      "This statement gets executed\n"
     ]
    }
   ],
   "source": [
    "for i in range(10):\n",
    "    if i <= 3 or i >= 7:\n",
    "        print(i)\n",
    "        print('This statement gets executed')"
   ]
  },
  {
   "cell_type": "markdown",
   "metadata": {},
   "source": [
    "_____________\n",
    "### Functions"
   ]
  },
  {
   "cell_type": "markdown",
   "metadata": {},
   "source": [
    "Think of functions like the **recipe of a cake**. They start with a title (definition). They often require some ingredients (arguments). They need step-wise instructions (code). And, at the end, all is put together in a delicious cake (returned data)."
   ]
  },
  {
   "cell_type": "markdown",
   "metadata": {},
   "source": [
    "Additionally, **functions are the easiest way to be efficiently lazy**.\n",
    "The code is easier to understand and reusable."
   ]
  },
  {
   "cell_type": "markdown",
   "metadata": {},
   "source": [
    "### Function Definition"
   ]
  },
  {
   "cell_type": "markdown",
   "metadata": {},
   "source": [
    "```python\n",
    "def function_name(arg1, arg2, darg=None):\n",
    "    # instructions to compute result\n",
    "    return result\n",
    "```"
   ]
  },
  {
   "cell_type": "markdown",
   "metadata": {},
   "source": [
    "* Each function should have a name. This is declared by using the `def` keyword\n",
    "* A function doesn't need to have arguments to work\n",
    "* The collection of arguments for a given function is called a **signature**\n",
    "* The function works within its own ***scope*** unless it is using something that was passed to it or is global\n",
    "* `return` statments exit the function while passing on the data\n",
    "* **Defining a function does not run a function**. \n",
    "* To run a function, it must be called using `([args])` after the function name"
   ]
  },
  {
   "cell_type": "markdown",
   "metadata": {},
   "source": [
    "### Function Call - running a function"
   ]
  },
  {
   "cell_type": "markdown",
   "metadata": {},
   "source": [
    "```python\n",
    "function_result = function_name(val1, val2, dval)\n",
    "```"
   ]
  },
  {
   "cell_type": "markdown",
   "metadata": {
    "tags": []
   },
   "source": [
    "---\n",
    "### Function Examples"
   ]
  },
  {
   "cell_type": "code",
   "execution_count": 24,
   "metadata": {},
   "outputs": [],
   "source": [
    "# A function that does nothing\n",
    "def do_pass():\n",
    "    pass\n",
    "\n",
    "do_pass()"
   ]
  },
  {
   "cell_type": "code",
   "execution_count": 25,
   "metadata": {},
   "outputs": [
    {
     "name": "stdout",
     "output_type": "stream",
     "text": [
      "None\n"
     ]
    }
   ],
   "source": [
    "x = do_pass()\n",
    "print(x)"
   ]
  },
  {
   "cell_type": "code",
   "execution_count": 26,
   "metadata": {},
   "outputs": [
    {
     "data": {
      "text/plain": [
       "8"
      ]
     },
     "execution_count": 26,
     "metadata": {},
     "output_type": "execute_result"
    }
   ],
   "source": [
    "def do_sum():\n",
    "    return 5 + 3\n",
    "\n",
    "do_sum()"
   ]
  },
  {
   "cell_type": "code",
   "execution_count": 28,
   "metadata": {},
   "outputs": [
    {
     "data": {
      "text/plain": [
       "8"
      ]
     },
     "execution_count": 28,
     "metadata": {},
     "output_type": "execute_result"
    }
   ],
   "source": [
    "do_sum()"
   ]
  },
  {
   "cell_type": "code",
   "execution_count": 29,
   "metadata": {},
   "outputs": [
    {
     "data": {
      "text/plain": [
       "8"
      ]
     },
     "execution_count": 29,
     "metadata": {},
     "output_type": "execute_result"
    }
   ],
   "source": [
    "# function arguments - internal variables\n",
    "def do_sum(x, y):\n",
    "    return x + y\n",
    "\n",
    "# number and order of arguments is important \n",
    "# followed based on the funtion definition\n",
    "do_sum(5,3)"
   ]
  },
  {
   "cell_type": "code",
   "execution_count": 30,
   "metadata": {},
   "outputs": [
    {
     "data": {
      "text/plain": [
       "10"
      ]
     },
     "execution_count": 30,
     "metadata": {},
     "output_type": "execute_result"
    }
   ],
   "source": [
    "do_sum(4,6)"
   ]
  },
  {
   "cell_type": "code",
   "execution_count": 31,
   "metadata": {},
   "outputs": [
    {
     "data": {
      "text/plain": [
       "10"
      ]
     },
     "execution_count": 31,
     "metadata": {},
     "output_type": "execute_result"
    }
   ],
   "source": [
    "do_sum(y = 3, x = 7)"
   ]
  },
  {
   "cell_type": "code",
   "execution_count": 32,
   "metadata": {},
   "outputs": [
    {
     "data": {
      "text/plain": [
       "'testsum'"
      ]
     },
     "execution_count": 32,
     "metadata": {},
     "output_type": "execute_result"
    }
   ],
   "source": [
    "do_sum(\"test\",\"sum\")"
   ]
  },
  {
   "cell_type": "code",
   "execution_count": 33,
   "metadata": {},
   "outputs": [
    {
     "data": {
      "text/plain": [
       "30"
      ]
     },
     "execution_count": 33,
     "metadata": {},
     "output_type": "execute_result"
    }
   ],
   "source": [
    "# external variables\n",
    "int_var1 = 10\n",
    "int_var2 = 20\n",
    "do_sum(int_var1, int_var2)"
   ]
  },
  {
   "cell_type": "code",
   "execution_count": 34,
   "metadata": {},
   "outputs": [
    {
     "ename": "NameError",
     "evalue": "name 'int_var3' is not defined",
     "output_type": "error",
     "traceback": [
      "\u001b[0;31m---------------------------------------------------------------------------\u001b[0m",
      "\u001b[0;31mNameError\u001b[0m                                 Traceback (most recent call last)",
      "Input \u001b[0;32mIn [34]\u001b[0m, in \u001b[0;36m<cell line: 1>\u001b[0;34m()\u001b[0m\n\u001b[0;32m----> 1\u001b[0m do_sum(int_var1, \u001b[43mint_var3\u001b[49m)\n",
      "\u001b[0;31mNameError\u001b[0m: name 'int_var3' is not defined"
     ]
    }
   ],
   "source": [
    "do_sum(int_var1, int_var3)"
   ]
  },
  {
   "cell_type": "code",
   "execution_count": 35,
   "metadata": {},
   "outputs": [
    {
     "name": "stdout",
     "output_type": "stream",
     "text": [
      "Help on function do_sum in module __main__:\n",
      "\n",
      "do_sum(x, y)\n",
      "    # function arguments - internal variables\n",
      "\n"
     ]
    }
   ],
   "source": [
    "help(do_sum)"
   ]
  },
  {
   "cell_type": "code",
   "execution_count": 36,
   "metadata": {},
   "outputs": [
    {
     "ename": "TypeError",
     "evalue": "do_sum() missing 1 required positional argument: 'y'",
     "output_type": "error",
     "traceback": [
      "\u001b[0;31m---------------------------------------------------------------------------\u001b[0m",
      "\u001b[0;31mTypeError\u001b[0m                                 Traceback (most recent call last)",
      "Input \u001b[0;32mIn [36]\u001b[0m, in \u001b[0;36m<cell line: 1>\u001b[0;34m()\u001b[0m\n\u001b[0;32m----> 1\u001b[0m \u001b[43mdo_sum\u001b[49m\u001b[43m(\u001b[49m\u001b[38;5;241;43m5\u001b[39;49m\u001b[43m)\u001b[49m\n",
      "\u001b[0;31mTypeError\u001b[0m: do_sum() missing 1 required positional argument: 'y'"
     ]
    }
   ],
   "source": [
    "do_sum(5)"
   ]
  },
  {
   "cell_type": "code",
   "execution_count": 37,
   "metadata": {},
   "outputs": [
    {
     "data": {
      "text/plain": [
       "8"
      ]
     },
     "execution_count": 37,
     "metadata": {},
     "output_type": "execute_result"
    }
   ],
   "source": [
    "# function arguments - internal variables - default values\n",
    "def do_sum(x = 3, y = 5):\n",
    "    return x + y\n",
    "\n",
    "do_sum()"
   ]
  },
  {
   "cell_type": "code",
   "execution_count": 38,
   "metadata": {},
   "outputs": [
    {
     "data": {
      "text/plain": [
       "10"
      ]
     },
     "execution_count": 38,
     "metadata": {},
     "output_type": "execute_result"
    }
   ],
   "source": [
    "do_sum(5)"
   ]
  },
  {
   "cell_type": "code",
   "execution_count": 39,
   "metadata": {},
   "outputs": [
    {
     "data": {
      "text/plain": [
       "5"
      ]
     },
     "execution_count": 39,
     "metadata": {},
     "output_type": "execute_result"
    }
   ],
   "source": [
    "# function arguments - default values\n",
    "def do_sum(x = 3, y = None):\n",
    "    if y == None:\n",
    "        return x\n",
    "    else:\n",
    "        return x + y\n",
    "\n",
    "do_sum(5)"
   ]
  },
  {
   "cell_type": "code",
   "execution_count": null,
   "metadata": {},
   "outputs": [],
   "source": []
  },
  {
   "cell_type": "markdown",
   "metadata": {},
   "source": [
    "#### You can create a function that has any number of unlabeld arguments (*args)\n",
    "* use * in front of the parameter - it has to be the first parameter in the function\n",
    "* a tuple will be created with those arguments\n"
   ]
  },
  {
   "cell_type": "code",
   "execution_count": 40,
   "metadata": {},
   "outputs": [
    {
     "name": "stdout",
     "output_type": "stream",
     "text": [
      "y = (3, 4, 5)\n"
     ]
    },
    {
     "data": {
      "text/plain": [
       "17"
      ]
     },
     "execution_count": 40,
     "metadata": {},
     "output_type": "execute_result"
    }
   ],
   "source": [
    "# function arguments - default values\n",
    "def do_sum(*y, x = 3):\n",
    "    print(\"y =\", y)\n",
    "    if y == ():\n",
    "        return x\n",
    "    else:\n",
    "        return x + sum(y)\n",
    "\n",
    "do_sum(3,4,5,x = 5)"
   ]
  },
  {
   "cell_type": "code",
   "execution_count": 41,
   "metadata": {},
   "outputs": [
    {
     "name": "stdout",
     "output_type": "stream",
     "text": [
      "y = (3, 4, 5, 10, 20)\n"
     ]
    },
    {
     "data": {
      "text/plain": [
       "47"
      ]
     },
     "execution_count": 41,
     "metadata": {},
     "output_type": "execute_result"
    }
   ],
   "source": [
    "\n",
    "do_sum(3,4,5, 10, 20,x = 5)"
   ]
  },
  {
   "cell_type": "code",
   "execution_count": 43,
   "metadata": {},
   "outputs": [
    {
     "name": "stdout",
     "output_type": "stream",
     "text": [
      "2 3 4 5\n"
     ]
    }
   ],
   "source": [
    "print(2,3,4,5)"
   ]
  },
  {
   "cell_type": "code",
   "execution_count": 44,
   "metadata": {},
   "outputs": [
    {
     "name": "stdout",
     "output_type": "stream",
     "text": [
      "(2, 3, 4, 5)\n"
     ]
    }
   ],
   "source": [
    "print((2,3,4,5))"
   ]
  },
  {
   "cell_type": "code",
   "execution_count": 45,
   "metadata": {},
   "outputs": [
    {
     "ename": "TypeError",
     "evalue": "do_sum() got an unexpected keyword argument 'y'",
     "output_type": "error",
     "traceback": [
      "\u001b[0;31m---------------------------------------------------------------------------\u001b[0m",
      "\u001b[0;31mTypeError\u001b[0m                                 Traceback (most recent call last)",
      "Input \u001b[0;32mIn [45]\u001b[0m, in \u001b[0;36m<cell line: 1>\u001b[0;34m()\u001b[0m\n\u001b[0;32m----> 1\u001b[0m \u001b[43mdo_sum\u001b[49m\u001b[43m(\u001b[49m\u001b[43my\u001b[49m\u001b[43m \u001b[49m\u001b[38;5;241;43m=\u001b[39;49m\u001b[43m \u001b[49m\u001b[38;5;241;43m6\u001b[39;49m\u001b[43m,\u001b[49m\u001b[43m \u001b[49m\u001b[43mx\u001b[49m\u001b[43m \u001b[49m\u001b[38;5;241;43m=\u001b[39;49m\u001b[43m \u001b[49m\u001b[38;5;241;43m7\u001b[39;49m\u001b[43m)\u001b[49m\n",
      "\u001b[0;31mTypeError\u001b[0m: do_sum() got an unexpected keyword argument 'y'"
     ]
    }
   ],
   "source": [
    "do_sum(y = 6, x = 7)"
   ]
  },
  {
   "cell_type": "code",
   "execution_count": 46,
   "metadata": {},
   "outputs": [
    {
     "name": "stdout",
     "output_type": "stream",
     "text": [
      "y = (6,)\n"
     ]
    },
    {
     "data": {
      "text/plain": [
       "13"
      ]
     },
     "execution_count": 46,
     "metadata": {},
     "output_type": "execute_result"
    }
   ],
   "source": [
    "do_sum(6, x = 7)"
   ]
  },
  {
   "cell_type": "code",
   "execution_count": 48,
   "metadata": {},
   "outputs": [
    {
     "name": "stdout",
     "output_type": "stream",
     "text": [
      "y = (6, 10)\n"
     ]
    },
    {
     "data": {
      "text/plain": [
       "23"
      ]
     },
     "execution_count": 48,
     "metadata": {},
     "output_type": "execute_result"
    }
   ],
   "source": [
    "do_sum(6, 10, x = 7)"
   ]
  },
  {
   "cell_type": "code",
   "execution_count": null,
   "metadata": {},
   "outputs": [],
   "source": []
  },
  {
   "cell_type": "code",
   "execution_count": null,
   "metadata": {},
   "outputs": [],
   "source": []
  },
  {
   "cell_type": "markdown",
   "metadata": {},
   "source": [
    "#### You can create a function that has any number of labeled arguments (**kargs)\n",
    "* use ** in front of the parameter \n",
    "* a dictionary will be created for those labels and values\n"
   ]
  },
  {
   "cell_type": "code",
   "execution_count": 49,
   "metadata": {},
   "outputs": [
    {
     "name": "stdout",
     "output_type": "stream",
     "text": [
      "y = {'a': 3, 'b': 4, 'x': 5}\n"
     ]
    },
    {
     "data": {
      "text/plain": [
       "12"
      ]
     },
     "execution_count": 49,
     "metadata": {},
     "output_type": "execute_result"
    }
   ],
   "source": [
    "# function arguments - default values\n",
    "def do_sum(**y):\n",
    "    print(\"y =\", y)\n",
    "    return sum(y.values())\n",
    "\n",
    "do_sum( a = 3, b = 4, x = 5)"
   ]
  },
  {
   "cell_type": "code",
   "execution_count": 50,
   "metadata": {},
   "outputs": [
    {
     "name": "stdout",
     "output_type": "stream",
     "text": [
      "y = {'a': 3, 'b': 4, 'x': 5}\n"
     ]
    },
    {
     "data": {
      "text/plain": [
       "12"
      ]
     },
     "execution_count": 50,
     "metadata": {},
     "output_type": "execute_result"
    }
   ],
   "source": [
    "def do_sum(**y):\n",
    "    print(\"y =\", y)\n",
    "    s = 0\n",
    "    for val in y.values():\n",
    "        s = s + val\n",
    "    return s\n",
    "\n",
    "do_sum( a = 3, b = 4, x = 5)"
   ]
  },
  {
   "cell_type": "code",
   "execution_count": 51,
   "metadata": {},
   "outputs": [
    {
     "name": "stdout",
     "output_type": "stream",
     "text": [
      "y = {'a': 3, 'b': 4, 'x': 5}\n"
     ]
    }
   ],
   "source": [
    "res = do_sum( a = 3, b = 4, x = 5)"
   ]
  },
  {
   "cell_type": "code",
   "execution_count": 52,
   "metadata": {},
   "outputs": [
    {
     "data": {
      "text/plain": [
       "12"
      ]
     },
     "execution_count": 52,
     "metadata": {},
     "output_type": "execute_result"
    }
   ],
   "source": [
    "res"
   ]
  },
  {
   "cell_type": "markdown",
   "metadata": {
    "tags": []
   },
   "source": [
    "\n",
    "### Function Scope\n",
    "\n",
    "To display variable values in a function use print"
   ]
  },
  {
   "cell_type": "code",
   "execution_count": 53,
   "metadata": {},
   "outputs": [
    {
     "name": "stdout",
     "output_type": "stream",
     "text": [
      "var1 = 2\n"
     ]
    },
    {
     "data": {
      "text/plain": [
       "6"
      ]
     },
     "execution_count": 53,
     "metadata": {},
     "output_type": "execute_result"
    }
   ],
   "source": [
    "def do_product():\n",
    "    var1 = 2\n",
    "    print(\"var1 =\", var1)\n",
    "    var2 = 3\n",
    "    return var1 * var2\n",
    "\n",
    "do_product()"
   ]
  },
  {
   "cell_type": "markdown",
   "metadata": {},
   "source": [
    "#### What is defined in a function, is not available outside it"
   ]
  },
  {
   "cell_type": "code",
   "execution_count": 54,
   "metadata": {},
   "outputs": [
    {
     "name": "stdout",
     "output_type": "stream",
     "text": [
      "2\n"
     ]
    },
    {
     "data": {
      "text/plain": [
       "6"
      ]
     },
     "execution_count": 54,
     "metadata": {},
     "output_type": "execute_result"
    }
   ],
   "source": [
    "def do_product():\n",
    "    var1 = 2\n",
    "    print(var1)\n",
    "    var2 = 3\n",
    "    return var1 * var2\n",
    "\n",
    "do_product()"
   ]
  },
  {
   "cell_type": "code",
   "execution_count": 55,
   "metadata": {},
   "outputs": [
    {
     "ename": "NameError",
     "evalue": "name 'var1' is not defined",
     "output_type": "error",
     "traceback": [
      "\u001b[0;31m---------------------------------------------------------------------------\u001b[0m",
      "\u001b[0;31mNameError\u001b[0m                                 Traceback (most recent call last)",
      "Input \u001b[0;32mIn [55]\u001b[0m, in \u001b[0;36m<cell line: 1>\u001b[0;34m()\u001b[0m\n\u001b[0;32m----> 1\u001b[0m \u001b[38;5;28mprint\u001b[39m(\u001b[43mvar1\u001b[49m)\n",
      "\u001b[0;31mNameError\u001b[0m: name 'var1' is not defined"
     ]
    }
   ],
   "source": [
    "print(var1)"
   ]
  },
  {
   "cell_type": "code",
   "execution_count": 56,
   "metadata": {},
   "outputs": [
    {
     "name": "stdout",
     "output_type": "stream",
     "text": [
      "2\n"
     ]
    },
    {
     "data": {
      "text/plain": [
       "6"
      ]
     },
     "execution_count": 56,
     "metadata": {},
     "output_type": "execute_result"
    }
   ],
   "source": [
    "var1 = do_product()\n",
    "var1"
   ]
  },
  {
   "cell_type": "code",
   "execution_count": null,
   "metadata": {},
   "outputs": [],
   "source": [
    "# string patterns with placeholders\n",
    "print(f'Value of var1: {var1}')"
   ]
  },
  {
   "cell_type": "markdown",
   "metadata": {},
   "source": [
    "Can anyone describe scope in their own words?"
   ]
  },
  {
   "cell_type": "markdown",
   "metadata": {},
   "source": [
    "Let us try to do some shopping"
   ]
  },
  {
   "cell_type": "code",
   "execution_count": null,
   "metadata": {},
   "outputs": [],
   "source": [
    "budget = 100\n",
    "price = 10\n",
    "\n",
    "# place order\n",
    "while (budget >= price):\n",
    "    print(\"Orderred an item\")\n",
    "    budget = budget - price\n",
    "print(\"DONE\")"
   ]
  },
  {
   "cell_type": "code",
   "execution_count": 1,
   "metadata": {},
   "outputs": [],
   "source": [
    "#recursive function - function that calls itself\n",
    "\n",
    "def make_order(budget, price):\n",
    "    print(\"The budget is now: \", budget)\n",
    "    if budget>=price:\n",
    "        print(\"Orderred an item with price: \", price)\n",
    "        make_order(budget-price, price)\n",
    "    else:\n",
    "        print(\"DONE\")"
   ]
  },
  {
   "cell_type": "code",
   "execution_count": 2,
   "metadata": {},
   "outputs": [
    {
     "name": "stdout",
     "output_type": "stream",
     "text": [
      "The budget is now:  100\n",
      "Orderred an item with price:  20\n",
      "The budget is now:  80\n",
      "Orderred an item with price:  20\n",
      "The budget is now:  60\n",
      "Orderred an item with price:  20\n",
      "The budget is now:  40\n",
      "Orderred an item with price:  20\n",
      "The budget is now:  20\n",
      "Orderred an item with price:  20\n",
      "The budget is now:  0\n",
      "DONE\n"
     ]
    }
   ],
   "source": [
    "budget = 100\n",
    "price = 20\n",
    "make_order(budget, price)"
   ]
  },
  {
   "cell_type": "code",
   "execution_count": 3,
   "metadata": {},
   "outputs": [],
   "source": [
    "# calling a function within the function definition\n",
    "# that can replace a for loop\n",
    "\n",
    "# this is an infinite loop - but it doe an error\n",
    "# there only a limited numer of times a function can call itself\n",
    "def do_sum():\n",
    "    do_sum()"
   ]
  },
  {
   "cell_type": "code",
   "execution_count": 4,
   "metadata": {},
   "outputs": [
    {
     "ename": "RecursionError",
     "evalue": "maximum recursion depth exceeded",
     "output_type": "error",
     "traceback": [
      "\u001b[0;31m---------------------------------------------------------------------------\u001b[0m",
      "\u001b[0;31mRecursionError\u001b[0m                            Traceback (most recent call last)",
      "Input \u001b[0;32mIn [4]\u001b[0m, in \u001b[0;36m<cell line: 1>\u001b[0;34m()\u001b[0m\n\u001b[0;32m----> 1\u001b[0m \u001b[43mdo_sum\u001b[49m\u001b[43m(\u001b[49m\u001b[43m)\u001b[49m\n",
      "Input \u001b[0;32mIn [3]\u001b[0m, in \u001b[0;36mdo_sum\u001b[0;34m()\u001b[0m\n\u001b[1;32m      6\u001b[0m \u001b[38;5;28;01mdef\u001b[39;00m \u001b[38;5;21mdo_sum\u001b[39m():\n\u001b[0;32m----> 7\u001b[0m     \u001b[43mdo_sum\u001b[49m\u001b[43m(\u001b[49m\u001b[43m)\u001b[49m\n",
      "Input \u001b[0;32mIn [3]\u001b[0m, in \u001b[0;36mdo_sum\u001b[0;34m()\u001b[0m\n\u001b[1;32m      6\u001b[0m \u001b[38;5;28;01mdef\u001b[39;00m \u001b[38;5;21mdo_sum\u001b[39m():\n\u001b[0;32m----> 7\u001b[0m     \u001b[43mdo_sum\u001b[49m\u001b[43m(\u001b[49m\u001b[43m)\u001b[49m\n",
      "    \u001b[0;31m[... skipping similar frames: do_sum at line 7 (2970 times)]\u001b[0m\n",
      "Input \u001b[0;32mIn [3]\u001b[0m, in \u001b[0;36mdo_sum\u001b[0;34m()\u001b[0m\n\u001b[1;32m      6\u001b[0m \u001b[38;5;28;01mdef\u001b[39;00m \u001b[38;5;21mdo_sum\u001b[39m():\n\u001b[0;32m----> 7\u001b[0m     \u001b[43mdo_sum\u001b[49m\u001b[43m(\u001b[49m\u001b[43m)\u001b[49m\n",
      "\u001b[0;31mRecursionError\u001b[0m: maximum recursion depth exceeded"
     ]
    }
   ],
   "source": [
    "do_sum()"
   ]
  },
  {
   "cell_type": "markdown",
   "metadata": {},
   "source": [
    "### <font color = \"red\">Exercise</font>  \n",
    "Write a function the computes the number of each of the 4 nucleotides (\"A\",\"C\",\"G\",\"T\") in a given sequence"
   ]
  },
  {
   "cell_type": "code",
   "execution_count": 60,
   "metadata": {},
   "outputs": [
    {
     "data": {
      "text/plain": [
       "{}"
      ]
     },
     "execution_count": 60,
     "metadata": {},
     "output_type": "execute_result"
    }
   ],
   "source": [
    "DNA_seq = \"AACGGTTAGT\"\n",
    "\n",
    "def compute_nucleotide_counts(seq):\n",
    "    counts = {}\n",
    "    # compute counts\n",
    "    return counts\n",
    "\n",
    "compute_nucleotide_counts(seq = DNA_seq)"
   ]
  },
  {
   "cell_type": "code",
   "execution_count": 61,
   "metadata": {},
   "outputs": [
    {
     "data": {
      "text/plain": [
       "3"
      ]
     },
     "execution_count": 61,
     "metadata": {},
     "output_type": "execute_result"
    }
   ],
   "source": [
    "DNA_seq.count(\"A\")"
   ]
  },
  {
   "cell_type": "code",
   "execution_count": 64,
   "metadata": {},
   "outputs": [
    {
     "data": {
      "text/plain": [
       "{'A': 3, 'C': 1, 'G': 3, 'T': 3}"
      ]
     },
     "execution_count": 64,
     "metadata": {},
     "output_type": "execute_result"
    }
   ],
   "source": [
    "def compute_nucleotide_counts(seq):\n",
    "    counts = {}\n",
    "    counts[\"A\"] = seq.count(\"A\")\n",
    "    counts[\"C\"] = seq.count(\"C\")\n",
    "    counts[\"G\"] = seq.count(\"G\")\n",
    "    counts[\"T\"] = seq.count(\"T\")\n",
    "    return counts\n",
    "\n",
    "compute_nucleotide_counts(seq = DNA_seq)"
   ]
  },
  {
   "cell_type": "code",
   "execution_count": 63,
   "metadata": {},
   "outputs": [
    {
     "data": {
      "text/plain": [
       "{'A': 3, 'C': 1, 'G': 3, 'T': 3}"
      ]
     },
     "execution_count": 63,
     "metadata": {},
     "output_type": "execute_result"
    }
   ],
   "source": [
    "def compute_nucleotide_counts(seq):\n",
    "    counts = {}\n",
    "    nucleotides = \"ACGT\"\n",
    "    for nc in nucleotides:\n",
    "        counts[nc] = seq.count(nc)\n",
    "\n",
    "    return counts\n",
    "\n",
    "compute_nucleotide_counts(seq = DNA_seq)"
   ]
  },
  {
   "cell_type": "code",
   "execution_count": null,
   "metadata": {},
   "outputs": [],
   "source": [
    "def compute_nucleotide_counts(seq):\n",
    "    counts = {}\n",
    "    count_a = 0\n",
    "    count_c = 0\n",
    "    count_g = 0\n",
    "    count_t = 0\n",
    "    for nc in seq:\n",
    "        if nc == \"A\":\n",
    "            count_a = count_a + 1\n",
    "        if nc == \"C\":\n",
    "            count_c = count_c + 1\n",
    "        if nc == \"G\":\n",
    "            count_g = count_g + 1\n",
    "        if nc == \"T\":\n",
    "            count_t = count_t + 1\n",
    "    counts[\"A\"] = counts_a\n",
    "    counts[\"C\"] = counts_c\n",
    "    counts[\"G\"] = counts_g\n",
    "    counts[\"T\"] = counts_t\n",
    "    return counts\n",
    "\n",
    "compute_nucleotide_counts(seq = DNA_seq)"
   ]
  },
  {
   "cell_type": "code",
   "execution_count": null,
   "metadata": {},
   "outputs": [],
   "source": []
  },
  {
   "cell_type": "code",
   "execution_count": null,
   "metadata": {},
   "outputs": [],
   "source": []
  },
  {
   "cell_type": "markdown",
   "metadata": {},
   "source": [
    "#### Resources"
   ]
  },
  {
   "cell_type": "markdown",
   "metadata": {},
   "source": [
    "https://docs.python.org/3/tutorial/controlflow.html\n",
    "https://web.cs.ucdavis.edu/~koehl/Teaching/ECS15/Lectures/Python_Chapter3.pdf       \n",
    "https://www.geeksforgeeks.org/python-if-else/?ref=lbp         \n",
    "https://www.tutorialspoint.com/python/python_decision_making.htm          \n",
    "https://datacarpentry.org/python-socialsci/03-control-structures/index.html   \n",
    "\n",
    "https://docs.python.org/3/tutorial/controlflow.html#defining-functions       \n",
    "https://www.geeksforgeeks.org/python-functions/         \n",
    "https://www.w3schools.com/python/python_functions.asp        \n",
    "https://www.tutorialspoint.com/python/python_functions.htm       \n",
    "\n"
   ]
  },
  {
   "cell_type": "code",
   "execution_count": null,
   "metadata": {},
   "outputs": [],
   "source": []
  }
 ],
 "metadata": {
  "kernelspec": {
   "display_name": "Python 3 (ipykernel)",
   "language": "python",
   "name": "python3"
  },
  "language_info": {
   "codemirror_mode": {
    "name": "ipython",
    "version": 3
   },
   "file_extension": ".py",
   "mimetype": "text/x-python",
   "name": "python",
   "nbconvert_exporter": "python",
   "pygments_lexer": "ipython3",
   "version": "3.9.12"
  }
 },
 "nbformat": 4,
 "nbformat_minor": 4
}
