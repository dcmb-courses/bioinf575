{
 "cells": [
  {
   "cell_type": "markdown",
   "metadata": {},
   "source": [
    "## Variables and Data Structures\n",
    "### BIOINF 575 - Fall 2023"
   ]
  },
  {
   "cell_type": "markdown",
   "metadata": {},
   "source": [
    "### Interactive python apps commands\n",
    "\n",
    "* anaconda-navigator – launch the Anaconda Navigator\n",
    "\n",
    "* python – open a plain python console in current terminal \n",
    "* http://jupyter.org/ - The evolved form of iPython \n",
    "    * ipython or jupyter-console – open an iPython console in the current terminal \n",
    "    * jupyter-qtconsole – open an iPython session in a qt console (console uses qt GUI library, more functional window)\n",
    "    * jupyter-notebook – start a notebook session and open in in a web browser \n",
    "    * jupyter lab – start a jupyter lab session, the evolution of the notebook \n",
    "    * spyder – launch the Spyder IDE - https://www.spyder-ide.org/ "
   ]
  },
  {
   "cell_type": "markdown",
   "metadata": {},
   "source": [
    "https://www.dataquest.io/blog/jupyter-notebook-tutorial/"
   ]
  },
  {
   "cell_type": "markdown",
   "metadata": {},
   "source": [
    "https://jupyterlab.readthedocs.io/en/stable/"
   ]
  },
  {
   "cell_type": "markdown",
   "metadata": {},
   "source": [
    "### Jupyter lab - quick info"
   ]
  },
  {
   "cell_type": "markdown",
   "metadata": {},
   "source": [
    "Two types of cells: \n",
    "* <b>markdown</b> - write description for the code\n",
    "* <b>code</b> - write the code\n",
    "\n",
    "\n",
    "Useful info:\n",
    "* Click on the blue bar on the left side of a cell collapses the content or expands the content if it is collapsed"
   ]
  },
  {
   "cell_type": "markdown",
   "metadata": {},
   "source": [
    "| Quick keys    | mode    | action                                  |\n",
    "|---------------|---------|-----------------------------------------|\n",
    "| Esc - m       | command | switch cell to Markdown cell            |\n",
    "| Esc - y       | command | switch cell to code cell                |\n",
    "| Esc - a       | command | insert cell above                       |\n",
    "| Esc - b       | command | insert cell below                       |\n",
    "| Esc - d - d   | command | delete cell                             |\n",
    "| Shift + Enter | edit    | execute cell and move to the cell below |\n",
    "| Alt + Enter   | edit    | execute cell and insert a cell below    |"
   ]
  },
  {
   "cell_type": "markdown",
   "metadata": {
    "tags": []
   },
   "source": [
    "A <b>markup language</b> is a system for annotating a document where the text does not read very well but the result makes the content easier to understand<br> \n",
    "Example: using color, different font styles, different font size, indentation, itemizing, numbering\n",
    "The idea started from the \"marking up\" of paper manuscripts.\n",
    "\n",
    "<b>Markdown</b> is a tool to convert text to HTML.<br>\n",
    "Markdown is lightweight markup language with plain text formatting syntax.<br> \n",
    "Its design allows it to be converted to many output formats, but the original tool by the same name only supports HTML.<br>\n",
    "Markdown is often used to format readme files, for writing messages in online discussion forums, and to create rich text using a plain text editor.<br><br>\n",
    "\n",
    "https://github.com/adam-p/markdown-here/wiki/Markdown-Cheatsheet\n",
    "\n",
    "https://markdown.land/markdown-cheat-sheet"
   ]
  },
  {
   "cell_type": "markdown",
   "metadata": {
    "tags": []
   },
   "source": [
    "Use the <b>\\<Kernel\\></b> menu options to:\n",
    "* restart kernel (clear/reset the environemnt) \n",
    "* clear all cell outputs\n",
    "* rerun all cells.\n",
    "    \n",
    "    "
   ]
  },
  {
   "cell_type": "markdown",
   "metadata": {},
   "source": [
    "____\n",
    "\n",
    "### Instructions about python code:"
   ]
  },
  {
   "cell_type": "markdown",
   "metadata": {},
   "source": [
    "##### Use import to bring in/import functionality from an existing source/package"
   ]
  },
  {
   "cell_type": "markdown",
   "metadata": {},
   "source": [
    "##### We will have a session on building packages and modules with more details about this \n",
    "\n",
    "```python\n",
    "# import all module(s) functionality\n",
    "\n",
    "import module1_name[, module2_name[,... moduleN_name]\n",
    "               \n",
    "# import specific item/function from module \n",
    "               \n",
    "from module_name import name1[, name2[, ... nameN]]\n",
    "\n",
    "# Not recommended               \n",
    "# import all module functionality but once imported \n",
    "# you will not know which module it came from\n",
    "               \n",
    "from module_name import *\n",
    "```\n",
    "               \n",
    "https://www.tutorialspoint.com/python/python_modules.htm"
   ]
  },
  {
   "cell_type": "markdown",
   "metadata": {},
   "source": [
    "#### The Zen of Python, by Tim Peters"
   ]
  },
  {
   "cell_type": "code",
   "execution_count": null,
   "metadata": {},
   "outputs": [],
   "source": [
    "import this"
   ]
  },
  {
   "cell_type": "markdown",
   "metadata": {},
   "source": [
    "### Variables"
   ]
  },
  {
   "cell_type": "markdown",
   "metadata": {},
   "source": [
    "Naming conventions\n",
    "* Underscore separated - variable_name - my preference\n",
    "* Camel case - VariableName\n",
    "\n",
    "There are many others:\n",
    "* https://en.wikipedia.org/wiki/Naming_convention_(programming)\n",
    "\n",
    "Use meaningful names, your future self will thank you!"
   ]
  },
  {
   "cell_type": "markdown",
   "metadata": {},
   "source": [
    "<b>Assign</b> a value to a variable. <br>\n",
    "<b>The assignment operator is: \"=\" <br>"
   ]
  },
  {
   "cell_type": "code",
   "execution_count": null,
   "metadata": {},
   "outputs": [],
   "source": [
    "session_no = \"5\""
   ]
  },
  {
   "cell_type": "markdown",
   "metadata": {},
   "source": [
    "Check the value of a the variable session_no (just type the name of the variable in a cell)"
   ]
  },
  {
   "cell_type": "code",
   "execution_count": null,
   "metadata": {},
   "outputs": [],
   "source": [
    "session_no\n"
   ]
  },
  {
   "cell_type": "markdown",
   "metadata": {},
   "source": [
    "<b>Calling a function: </b>\n",
    "* <b>use the function name and provide parameters in parentheses</b>\n",
    "\n",
    "\n",
    "```python\n",
    "function_name(parameters)\n",
    "```\n",
    "\n",
    "\n",
    "Example - use the print function to dispaly text:\n",
    "```python\n",
    "print(\"This is a test\")\n",
    "```\n"
   ]
  },
  {
   "cell_type": "markdown",
   "metadata": {},
   "source": [
    "Display the value of the variable session_no (use the print function)"
   ]
  },
  {
   "cell_type": "code",
   "execution_count": null,
   "metadata": {},
   "outputs": [],
   "source": [
    "print(session_no)\n"
   ]
  },
  {
   "cell_type": "markdown",
   "metadata": {},
   "source": [
    "Only the last variable in a cell will be displayed"
   ]
  },
  {
   "cell_type": "code",
   "execution_count": null,
   "metadata": {},
   "outputs": [],
   "source": [
    "a = 2\n",
    "b = 5\n",
    "print(a)\n",
    "b"
   ]
  },
  {
   "cell_type": "code",
   "execution_count": null,
   "metadata": {},
   "outputs": [],
   "source": [
    "a\n",
    "b"
   ]
  },
  {
   "cell_type": "code",
   "execution_count": null,
   "metadata": {},
   "outputs": [],
   "source": [
    "# Test more variables\n",
    "\n"
   ]
  },
  {
   "cell_type": "code",
   "execution_count": null,
   "metadata": {},
   "outputs": [],
   "source": []
  },
  {
   "cell_type": "markdown",
   "metadata": {},
   "source": [
    "#### Check the variables you have in the environment\n",
    "##### Use a magic command, only in notebooks \n",
    "   - <b> %who </b>\n",
    "   \n",
    "##### Use a function: \n",
    "   - **globals()** - dictionary of the module namespace\n",
    "   - **locals()** -  dictionary of the current namespace\n",
    "   - **vars()** - a dictionary of the current namespace (if called with no argument) or the dictionary of the argument"
   ]
  },
  {
   "cell_type": "code",
   "execution_count": null,
   "metadata": {},
   "outputs": [],
   "source": [
    "%whos"
   ]
  },
  {
   "cell_type": "code",
   "execution_count": null,
   "metadata": {},
   "outputs": [],
   "source": [
    "[v for v in vars().items() \n",
    " if (not v[0].startswith('_')) & \n",
    " (v[0] not in [\"In\", \"Out\", \"exit\", \"quit\", \"get_ipython\"])]"
   ]
  },
  {
   "cell_type": "code",
   "execution_count": null,
   "metadata": {},
   "outputs": [],
   "source": []
  },
  {
   "cell_type": "markdown",
   "metadata": {},
   "source": [
    "##### Check the type of the data - use the function <b> type()"
   ]
  },
  {
   "cell_type": "code",
   "execution_count": null,
   "metadata": {},
   "outputs": [],
   "source": [
    "type(4.0)"
   ]
  },
  {
   "cell_type": "code",
   "execution_count": null,
   "metadata": {},
   "outputs": [],
   "source": []
  },
  {
   "cell_type": "code",
   "execution_count": null,
   "metadata": {},
   "outputs": [],
   "source": []
  },
  {
   "cell_type": "markdown",
   "metadata": {},
   "source": [
    "<font color = \"red\">EXERCISE</font> <br>\n",
    "<br>\n",
    "Assign the value 10 to the variable apples_count.<br>\n",
    "Assign the value 234.6 to the variable savings.<br><br>\n",
    "Assign the value 100 to the variable attendance_percentage.<br>\n",
    "Assign the value of the variable attendance_percentage to the variable quiz_percentage.<br><br>\n",
    "<b>Multiple assignment:</b> assign the value 20 to two variables (no1 and no2) at the same time, in one line.<br> \n",
    "Then check the value of the two variables.<br><br>"
   ]
  },
  {
   "cell_type": "code",
   "execution_count": null,
   "metadata": {},
   "outputs": [],
   "source": [
    "### Write your solution in the following cells\n",
    "\n"
   ]
  },
  {
   "cell_type": "code",
   "execution_count": null,
   "metadata": {},
   "outputs": [],
   "source": []
  },
  {
   "cell_type": "code",
   "execution_count": null,
   "metadata": {},
   "outputs": [],
   "source": []
  },
  {
   "cell_type": "code",
   "execution_count": null,
   "metadata": {},
   "outputs": [],
   "source": []
  },
  {
   "cell_type": "markdown",
   "metadata": {},
   "source": [
    "<b>Remove the value from the variable message using the assignment of the value <b>None</b>."
   ]
  },
  {
   "cell_type": "code",
   "execution_count": null,
   "metadata": {},
   "outputs": [],
   "source": [
    "# check its value first\n",
    "session_no\n"
   ]
  },
  {
   "cell_type": "code",
   "execution_count": null,
   "metadata": {},
   "outputs": [],
   "source": [
    "# assign/reassign a value and check the content\n",
    "\n"
   ]
  },
  {
   "cell_type": "code",
   "execution_count": null,
   "metadata": {},
   "outputs": [],
   "source": [
    "# Remove value - assign the None value to the variable\n",
    "session_no = None"
   ]
  },
  {
   "cell_type": "code",
   "execution_count": null,
   "metadata": {},
   "outputs": [],
   "source": [
    "# check the value\n",
    "\n"
   ]
  },
  {
   "cell_type": "code",
   "execution_count": null,
   "metadata": {},
   "outputs": [],
   "source": [
    "# use print if nothing is displayed\n",
    "\n"
   ]
  },
  {
   "cell_type": "markdown",
   "metadata": {},
   "source": [
    "What is the type of None - check with the function <b>type()</b>"
   ]
  },
  {
   "cell_type": "code",
   "execution_count": null,
   "metadata": {},
   "outputs": [],
   "source": []
  },
  {
   "cell_type": "markdown",
   "metadata": {},
   "source": [
    "Remove the variable session_no from the environment using the <b>del</b> command"
   ]
  },
  {
   "cell_type": "code",
   "execution_count": null,
   "metadata": {},
   "outputs": [],
   "source": [
    "# the del command\n",
    "del session_no"
   ]
  },
  {
   "cell_type": "markdown",
   "metadata": {},
   "source": [
    "Now let's try to see what value variable <i>session_no</i> has<br>\n",
    "What do we expect?"
   ]
  },
  {
   "cell_type": "code",
   "execution_count": null,
   "metadata": {},
   "outputs": [],
   "source": []
  },
  {
   "cell_type": "markdown",
   "metadata": {},
   "source": [
    "python complained! \n",
    "<img src='http://greenlining.org/wp-content/uploads/2013/10/COMPLAIN.jpg' width=\"200\"/>\n",
    "http://greenlining.org/wp-content/uploads/2013/10/COMPLAIN.jpg"
   ]
  },
  {
   "cell_type": "code",
   "execution_count": null,
   "metadata": {},
   "outputs": [],
   "source": [
    "# assign a value to a new variable\n",
    "gpa = 4.0\n",
    "gpa"
   ]
  },
  {
   "cell_type": "code",
   "execution_count": null,
   "metadata": {
    "scrolled": true
   },
   "outputs": [],
   "source": [
    "type(gpa)"
   ]
  },
  {
   "cell_type": "code",
   "execution_count": null,
   "metadata": {},
   "outputs": [],
   "source": [
    "# assign a different type of data to the variable\n",
    "\n"
   ]
  },
  {
   "cell_type": "code",
   "execution_count": null,
   "metadata": {},
   "outputs": [],
   "source": [
    "# check type\n",
    "\n"
   ]
  },
  {
   "cell_type": "markdown",
   "metadata": {},
   "source": [
    "Typing is dynamic but strict in python (objects have type).\n",
    "\n",
    "\n",
    "The principal <b>built-in types</b> are numerics, sequences, mappings, classes, instances and exceptions.<br>\n",
    "Numeric Types — <b>int (subtype: bool), float, complex.</b><br>\n",
    "Sequence Types — <b>str, list, tuple, range.</b>\n",
    "\n",
    "\n",
    "There are two major categories: mutable and immutable types.<br>\n",
    "<b>Immutable</b> variables <b>cannot be changed</b><br>\n",
    "<b>Mutable</b> variables <b>can be changed</b>.<br>\n",
    "\n",
    "<b>Integers, Floats, Strings, Tuples, Booleans</b> are <b>immutable.</b><br>\n",
    "<b>Lists, dictionaries, sets</b> are <b>mutable types.</b><br>\n",
    "\n",
    "https://docs.python.org/3/library/stdtypes.html\n"
   ]
  },
  {
   "cell_type": "markdown",
   "metadata": {},
   "source": [
    "### Numeric\n",
    "Basic math operations: <b>int</b> (natural numbers), <b>float</b> (decimal numbers), <b>complex</b><br>\n",
    "Integer, arbitrarily long, convert from floats or strings with int()<br>\n",
    "Floats, convert from str or int types with float()<br>\n",
    "Convert to string with str()<br>"
   ]
  },
  {
   "cell_type": "markdown",
   "metadata": {},
   "source": [
    "<b>No automatic coercion of  types, explicit conversion only</b><br>\n",
    "<b>Exception: print() - converts to strings where possible</b>"
   ]
  },
  {
   "cell_type": "markdown",
   "metadata": {},
   "source": [
    "```python\n",
    "a=10\n",
    "b=20\n",
    "```\n",
    "\n",
    "\n",
    "|     Operator        |                                                                                                                            Description                                                                                                                           |                          Example                          |\n",
    "|----------------|----------------------------------------------------------------------------------------------------------------------------------------------------------------------------------------------------------------------------------------------------------------|---------------------------------------------------------|\n",
    "| + Addition          | Adds values on either side of the operator.                                                                                                                                                                                                                      | a + b = 30                                                |\n",
    "| - Subtraction       | Subtracts right hand operand from left hand operand.                                                                                                                                                                                                             | a – b = -10                                               |\n",
    "| * Multiplication    | Multiplies values on either side of the operator                                                                                                                                                                                                                 | a * b = 200                                               |\n",
    "| / Division          | Divides left hand operand by right hand operand                                                                                                                                                                                                                  | b / a = 2                                                 |\n",
    "| % Modulus           | Divides left hand operand by right hand operand and returns remainder                                                                                                                                                                                            | b % a = 0                                                 |\n",
    "| ** Exponent         | Performs exponential (power) calculation on operators                                                                                                                                                                                                            | a\\*\\*b =10 to the power 20                                  |\n",
    "| //  Floor Division  | The division of operands where the result is the quotient in which the digits <br>after the decimal point are removed. But if one of the  operands is negative, <br>the result is floored, i.e., rounded away from zero  (towards negative infinity) | 9//2 = 4 and 9.0//2.0 = 4.0, -11//3 = -4, -11.0//3 = -4.0 |\n",
    "\n",
    "https://www.tutorialspoint.com/python/arithmetic_operators_example.htm\n",
    "\n"
   ]
  },
  {
   "cell_type": "markdown",
   "metadata": {},
   "source": [
    "List the methods (functions) and attributes (variables) available for integers using the <b>dir(int)</b> function."
   ]
  },
  {
   "cell_type": "code",
   "execution_count": null,
   "metadata": {
    "tags": []
   },
   "outputs": [],
   "source": [
    "dir(int)"
   ]
  },
  {
   "cell_type": "code",
   "execution_count": null,
   "metadata": {},
   "outputs": [],
   "source": [
    "dir(5)"
   ]
  },
  {
   "cell_type": "markdown",
   "metadata": {},
   "source": [
    "Functions preceeded by \\_\\_ (e.g. \\_\\_lt\\_\\_ - less than) are special internal functions used by python functions and operators"
   ]
  },
  {
   "cell_type": "code",
   "execution_count": null,
   "metadata": {},
   "outputs": [],
   "source": [
    "session_no = 6.5"
   ]
  },
  {
   "cell_type": "markdown",
   "metadata": {
    "tags": []
   },
   "source": [
    "##### Check the variables you created and packages you loaded using the magic command <b>%whos</b>"
   ]
  },
  {
   "cell_type": "code",
   "execution_count": null,
   "metadata": {},
   "outputs": [],
   "source": [
    "%whos"
   ]
  },
  {
   "cell_type": "markdown",
   "metadata": {
    "tags": []
   },
   "source": [
    "##### Check the type of the data - use the function <b> type()"
   ]
  },
  {
   "cell_type": "code",
   "execution_count": null,
   "metadata": {},
   "outputs": [],
   "source": [
    "type(session_no)"
   ]
  },
  {
   "cell_type": "code",
   "execution_count": null,
   "metadata": {},
   "outputs": [],
   "source": [
    "type(4.0)"
   ]
  },
  {
   "cell_type": "code",
   "execution_count": null,
   "metadata": {},
   "outputs": [],
   "source": [
    "# what is the type of int?\n"
   ]
  },
  {
   "cell_type": "code",
   "execution_count": null,
   "metadata": {},
   "outputs": [],
   "source": []
  },
  {
   "cell_type": "code",
   "execution_count": null,
   "metadata": {},
   "outputs": [],
   "source": [
    "# we can also apply dir to variables or data objects not just to types\n",
    "dir(session_no) "
   ]
  },
  {
   "cell_type": "markdown",
   "metadata": {},
   "source": [
    "Use the <b>dot notation</b>: <variable/object>.\\<method_name\\>() to <b>call the method"
   ]
  },
  {
   "cell_type": "code",
   "execution_count": null,
   "metadata": {},
   "outputs": [],
   "source": [
    "session_no.is_integer()"
   ]
  },
  {
   "cell_type": "code",
   "execution_count": null,
   "metadata": {},
   "outputs": [],
   "source": [
    "(5.5).is_integer()"
   ]
  },
  {
   "cell_type": "markdown",
   "metadata": {},
   "source": [
    "Use the <b>dot notation</b>: <variable/object>.\\<attribute_name\\> to <b>access the attribute of an object"
   ]
  },
  {
   "cell_type": "code",
   "execution_count": null,
   "metadata": {},
   "outputs": [],
   "source": [
    "# paratheses in this case are just a separator\n",
    "(5).numerator"
   ]
  },
  {
   "cell_type": "code",
   "execution_count": null,
   "metadata": {},
   "outputs": [],
   "source": [
    "(5).denominator"
   ]
  },
  {
   "cell_type": "code",
   "execution_count": null,
   "metadata": {},
   "outputs": [],
   "source": [
    "# paratheses in this case are just a separator\n",
    "(5)\n"
   ]
  },
  {
   "cell_type": "code",
   "execution_count": null,
   "metadata": {},
   "outputs": [],
   "source": []
  },
  {
   "cell_type": "markdown",
   "metadata": {},
   "source": [
    "Get more information regarding integers using the <b>help(int)</b> function."
   ]
  },
  {
   "cell_type": "code",
   "execution_count": null,
   "metadata": {
    "tags": []
   },
   "outputs": [],
   "source": [
    "help(int)"
   ]
  },
  {
   "cell_type": "code",
   "execution_count": null,
   "metadata": {},
   "outputs": [],
   "source": [
    "# help applied to a method/function\n",
    "help(float.is_integer)"
   ]
  },
  {
   "cell_type": "code",
   "execution_count": null,
   "metadata": {},
   "outputs": [],
   "source": [
    "# help applied to an atttribute\n",
    "\n",
    "help(int.numerator)"
   ]
  },
  {
   "cell_type": "code",
   "execution_count": null,
   "metadata": {},
   "outputs": [],
   "source": [
    "dir(int)"
   ]
  },
  {
   "cell_type": "code",
   "execution_count": null,
   "metadata": {},
   "outputs": [],
   "source": [
    "dir(float)"
   ]
  },
  {
   "cell_type": "markdown",
   "metadata": {},
   "source": [
    "Computing the area of a rectangle with the length 6 and width 3."
   ]
  },
  {
   "cell_type": "code",
   "execution_count": null,
   "metadata": {},
   "outputs": [],
   "source": [
    "#set variables and compute area\n",
    "\n",
    "\n"
   ]
  },
  {
   "cell_type": "code",
   "execution_count": null,
   "metadata": {},
   "outputs": [],
   "source": []
  },
  {
   "cell_type": "markdown",
   "metadata": {},
   "source": [
    "<font color = \"red\">EXERCISE</font> <br>\n",
    "<br>\n",
    "We have a temperature of 27 degrees Celsius.   \n",
    "Write instructions that transform that temperature in degrees Farenheit and display the result.\n",
    "\n",
    "> Formula: &deg;F = &deg;C * 1.8 + 32"
   ]
  },
  {
   "cell_type": "code",
   "execution_count": null,
   "metadata": {},
   "outputs": [],
   "source": []
  },
  {
   "cell_type": "code",
   "execution_count": null,
   "metadata": {},
   "outputs": [],
   "source": [
    "### Write your solution in the following cells\n",
    "\n"
   ]
  },
  {
   "cell_type": "code",
   "execution_count": null,
   "metadata": {},
   "outputs": [],
   "source": [
    "\n"
   ]
  },
  {
   "cell_type": "markdown",
   "metadata": {
    "tags": []
   },
   "source": [
    "##### Check the variables you created and packages you loaded using the magic command <b>%whos</b>"
   ]
  },
  {
   "cell_type": "code",
   "execution_count": null,
   "metadata": {},
   "outputs": [],
   "source": [
    "%whos"
   ]
  },
  {
   "cell_type": "markdown",
   "metadata": {
    "tags": []
   },
   "source": [
    "##### Check the type of the data - use the function <b> type()"
   ]
  },
  {
   "cell_type": "code",
   "execution_count": null,
   "metadata": {},
   "outputs": [],
   "source": [
    "type(4.0)"
   ]
  },
  {
   "cell_type": "markdown",
   "metadata": {},
   "source": [
    "Float division"
   ]
  },
  {
   "cell_type": "code",
   "execution_count": null,
   "metadata": {},
   "outputs": [],
   "source": [
    "# examples \n",
    "\n",
    "type(4/2)"
   ]
  },
  {
   "cell_type": "code",
   "execution_count": null,
   "metadata": {},
   "outputs": [],
   "source": []
  },
  {
   "cell_type": "code",
   "execution_count": null,
   "metadata": {},
   "outputs": [],
   "source": []
  },
  {
   "cell_type": "code",
   "execution_count": null,
   "metadata": {},
   "outputs": [],
   "source": []
  },
  {
   "cell_type": "code",
   "execution_count": null,
   "metadata": {},
   "outputs": [],
   "source": []
  },
  {
   "cell_type": "code",
   "execution_count": null,
   "metadata": {},
   "outputs": [],
   "source": []
  },
  {
   "cell_type": "markdown",
   "metadata": {},
   "source": [
    "Explicit conversion"
   ]
  },
  {
   "cell_type": "code",
   "execution_count": null,
   "metadata": {},
   "outputs": [],
   "source": [
    "# examples\n",
    "\n",
    "float(4)"
   ]
  },
  {
   "cell_type": "code",
   "execution_count": null,
   "metadata": {},
   "outputs": [],
   "source": []
  },
  {
   "cell_type": "code",
   "execution_count": null,
   "metadata": {},
   "outputs": [],
   "source": []
  },
  {
   "cell_type": "code",
   "execution_count": null,
   "metadata": {},
   "outputs": [],
   "source": []
  },
  {
   "cell_type": "code",
   "execution_count": null,
   "metadata": {},
   "outputs": [],
   "source": []
  },
  {
   "cell_type": "markdown",
   "metadata": {},
   "source": [
    "Remainder/modulo: <b>%</b>"
   ]
  },
  {
   "cell_type": "code",
   "execution_count": null,
   "metadata": {},
   "outputs": [],
   "source": [
    "# example\n",
    "\n"
   ]
  },
  {
   "cell_type": "markdown",
   "metadata": {},
   "source": [
    "Exponent: <b>*</b>"
   ]
  },
  {
   "cell_type": "code",
   "execution_count": null,
   "metadata": {},
   "outputs": [],
   "source": [
    "# example\n",
    "\n"
   ]
  },
  {
   "cell_type": "code",
   "execution_count": null,
   "metadata": {},
   "outputs": [],
   "source": [
    "# exponent used to compute squared root (negative fraction exponent)\n",
    "\n"
   ]
  },
  {
   "cell_type": "markdown",
   "metadata": {},
   "source": [
    "Operations implemented between different data types\n",
    "* string repetition - multiply string by integer\n",
    "* string concateneation - add strings"
   ]
  },
  {
   "cell_type": "code",
   "execution_count": null,
   "metadata": {},
   "outputs": [],
   "source": [
    "number = 10\n",
    "message * number "
   ]
  },
  {
   "cell_type": "code",
   "execution_count": null,
   "metadata": {},
   "outputs": [],
   "source": [
    "message + number"
   ]
  },
  {
   "cell_type": "code",
   "execution_count": null,
   "metadata": {},
   "outputs": [],
   "source": [
    "message + str(number)"
   ]
  },
  {
   "cell_type": "markdown",
   "metadata": {},
   "source": [
    "### Boolean\n",
    "Boolean is a subtype of integer<br>\n",
    "<b>True</b>, <b>False</b> values<br>\n",
    "1 == True, 0 == False<br>\n",
    "empty structure == False<br>"
   ]
  },
  {
   "cell_type": "code",
   "execution_count": null,
   "metadata": {},
   "outputs": [],
   "source": [
    "type(True)"
   ]
  },
  {
   "cell_type": "markdown",
   "metadata": {},
   "source": [
    "Check if a variable value or a value is of a certain type:\n",
    "```python\n",
    "isinstance(variable/value, type) \n",
    "```"
   ]
  },
  {
   "cell_type": "code",
   "execution_count": null,
   "metadata": {},
   "outputs": [],
   "source": [
    "isinstance(True, bool)"
   ]
  },
  {
   "cell_type": "code",
   "execution_count": null,
   "metadata": {},
   "outputs": [],
   "source": [
    "# bool is a subtype of int\n",
    "isinstance(True, int)"
   ]
  },
  {
   "cell_type": "code",
   "execution_count": null,
   "metadata": {},
   "outputs": [],
   "source": [
    "isinstance(True, bool)"
   ]
  },
  {
   "cell_type": "code",
   "execution_count": null,
   "metadata": {},
   "outputs": [],
   "source": [
    "# check the functions/methods available\n",
    "dir(bool)"
   ]
  },
  {
   "cell_type": "code",
   "execution_count": null,
   "metadata": {},
   "outputs": [],
   "source": [
    "cond_result = True\n",
    "cond_result"
   ]
  },
  {
   "cell_type": "code",
   "execution_count": null,
   "metadata": {},
   "outputs": [],
   "source": [
    "cond_result1 = False\n",
    "cond_result1"
   ]
  },
  {
   "cell_type": "markdown",
   "metadata": {},
   "source": [
    "Logical operators <br><br>\n",
    "<b>not</b> <br>\n",
    "<b>and</b> <br>\n",
    "<b>or</b> <br>"
   ]
  },
  {
   "cell_type": "markdown",
   "metadata": {},
   "source": [
    "\n",
    "\n",
    "|A               | B              | A and B       | A *or* B       |\n",
    "| ---            | ---            | -------       | ------         |\n",
    "|<ins>True</ins> |<ins>True<ins>  |<ins>True</ins>|True            |\n",
    "|True            |False           |False          |True            |\n",
    "|False           |True            |False          |True            |\n",
    "|<ins>False</ins>|<ins>False</ins>|False          |<ins>False</ins>|"
   ]
  },
  {
   "cell_type": "code",
   "execution_count": null,
   "metadata": {},
   "outputs": [],
   "source": [
    "# negate logical variable\n",
    "not cond_result"
   ]
  },
  {
   "cell_type": "code",
   "execution_count": null,
   "metadata": {},
   "outputs": [],
   "source": [
    "# check if two results are true at the same time\n",
    "cond_result and cond_result1"
   ]
  },
  {
   "cell_type": "code",
   "execution_count": null,
   "metadata": {},
   "outputs": [],
   "source": [
    "# check if at least one of the results is true\n",
    "cond_result or cond_result1"
   ]
  },
  {
   "cell_type": "markdown",
   "metadata": {},
   "source": [
    "Comparison operators: \n",
    "\n",
    "|<b>Operator</b>  | Description  |\n",
    "| --------------- | ------------ |\n",
    "|<b>< </b>        | strictly less than|\n",
    "|<b><=</b>        | less than or equal|\n",
    "|<b>\\></b>        | strictly greater than|\n",
    "|<b>>=</b>        | greater than or equal|\n",
    "|<b>==</b>        | equal|\n",
    "|<b>!=</b>        | not equal|\n",
    "|<b>is</b>        | object identity|\n",
    "|<b>is not</b>    | negated object identity|\n"
   ]
  },
  {
   "cell_type": "markdown",
   "metadata": {},
   "source": [
    "<b>The use of comparison operators typically has a result of boolean type"
   ]
  },
  {
   "cell_type": "code",
   "execution_count": null,
   "metadata": {},
   "outputs": [],
   "source": [
    "cond_result = 2>=3\n",
    "cond_result"
   ]
  },
  {
   "cell_type": "code",
   "execution_count": null,
   "metadata": {},
   "outputs": [],
   "source": [
    "#examples\n"
   ]
  },
  {
   "cell_type": "code",
   "execution_count": null,
   "metadata": {},
   "outputs": [],
   "source": []
  },
  {
   "cell_type": "code",
   "execution_count": null,
   "metadata": {},
   "outputs": [],
   "source": [
    "# any number non 0 can be interpreted as TRUE and 0 can be interpreted as FALSE\n",
    "\n"
   ]
  },
  {
   "cell_type": "code",
   "execution_count": null,
   "metadata": {},
   "outputs": [],
   "source": []
  },
  {
   "cell_type": "code",
   "execution_count": null,
   "metadata": {},
   "outputs": [],
   "source": [
    "# any non-empty value of any type can be interpreted as TRUE and \n",
    "# the empty value can be interpreted as FALSE\n",
    "\n",
    "\n",
    "\n"
   ]
  },
  {
   "cell_type": "code",
   "execution_count": null,
   "metadata": {},
   "outputs": [],
   "source": []
  },
  {
   "cell_type": "markdown",
   "metadata": {},
   "source": [
    "<font color = \"red\">EXERCISE</font> <br><br>\n",
    "Assign a numeric value to a variable DNA_seq_length.<br>\n",
    "Write a composite condition to check if the variable is in the range 10 to 100.<br>\n",
    "Write a composite condition to check if the variable is lower than 50 or higher than 1000.<br>\n",
    "Write a composite condition to check if the variable is lower than 200 or higher than 1000 and if it can be divided by 3 or 9. <br>"
   ]
  },
  {
   "cell_type": "code",
   "execution_count": null,
   "metadata": {},
   "outputs": [],
   "source": [
    "### Write your solution in the following cells\n",
    "\n"
   ]
  },
  {
   "cell_type": "code",
   "execution_count": null,
   "metadata": {},
   "outputs": [],
   "source": []
  },
  {
   "cell_type": "code",
   "execution_count": null,
   "metadata": {},
   "outputs": [],
   "source": []
  },
  {
   "cell_type": "code",
   "execution_count": null,
   "metadata": {},
   "outputs": [],
   "source": []
  },
  {
   "cell_type": "code",
   "execution_count": null,
   "metadata": {},
   "outputs": [],
   "source": []
  },
  {
   "cell_type": "markdown",
   "metadata": {},
   "source": [
    "### String - text between single, double or triple quotes (docstrings - allow for newlines)\n"
   ]
  },
  {
   "cell_type": "code",
   "execution_count": null,
   "metadata": {},
   "outputs": [],
   "source": [
    "# assign a string to a variable\n",
    "text = \"5\""
   ]
  },
  {
   "cell_type": "code",
   "execution_count": null,
   "metadata": {},
   "outputs": [],
   "source": [
    "type('hello')"
   ]
  },
  {
   "cell_type": "code",
   "execution_count": null,
   "metadata": {},
   "outputs": [],
   "source": [
    "type(text)"
   ]
  },
  {
   "cell_type": "code",
   "execution_count": null,
   "metadata": {},
   "outputs": [],
   "source": [
    "# convert to int\n",
    "int(text)"
   ]
  },
  {
   "cell_type": "code",
   "execution_count": null,
   "metadata": {},
   "outputs": [],
   "source": [
    "# convert int to text\n",
    "str(4)"
   ]
  },
  {
   "cell_type": "markdown",
   "metadata": {},
   "source": [
    "List the methods (the functions) and attributes available for strings using the <b>dir(str)</b> function."
   ]
  },
  {
   "cell_type": "code",
   "execution_count": null,
   "metadata": {
    "tags": []
   },
   "outputs": [],
   "source": [
    "dir(str)"
   ]
  },
  {
   "cell_type": "markdown",
   "metadata": {},
   "source": [
    "Functions preceeded by \\_\\_ (e.g. \\_\\_lt\\_\\_ - less than) are special internal functions used by python functions and operators"
   ]
  },
  {
   "cell_type": "markdown",
   "metadata": {},
   "source": [
    "Use the <b>dot notation</b>: <variable/object>.\\<method_name\\>() to <b>call the method"
   ]
  },
  {
   "cell_type": "code",
   "execution_count": null,
   "metadata": {},
   "outputs": [],
   "source": [
    "\"AACGT\".lower()"
   ]
  },
  {
   "cell_type": "code",
   "execution_count": null,
   "metadata": {},
   "outputs": [],
   "source": []
  },
  {
   "cell_type": "markdown",
   "metadata": {},
   "source": [
    "<font color = \"red\">EXERCISE</font> <br><br>\n",
    "Test more of the string functions: upper(), strip(), ...<br><br>"
   ]
  },
  {
   "cell_type": "code",
   "execution_count": null,
   "metadata": {},
   "outputs": [],
   "source": [
    "### Write your solution in the following cells\n",
    "\n"
   ]
  },
  {
   "cell_type": "code",
   "execution_count": null,
   "metadata": {},
   "outputs": [],
   "source": []
  },
  {
   "cell_type": "code",
   "execution_count": null,
   "metadata": {},
   "outputs": [],
   "source": []
  },
  {
   "cell_type": "markdown",
   "metadata": {},
   "source": [
    "Get more information regarding the string methods using <b>help(str.method_name)</b>."
   ]
  },
  {
   "cell_type": "code",
   "execution_count": null,
   "metadata": {},
   "outputs": [],
   "source": [
    "help(essage.endswith)"
   ]
  },
  {
   "cell_type": "code",
   "execution_count": null,
   "metadata": {},
   "outputs": [],
   "source": []
  },
  {
   "cell_type": "markdown",
   "metadata": {},
   "source": [
    "### NEXT TIME \n",
    "### Sequence types: <b>String</b>, <b>List</b>, and <b>Tuple</b> - are iterable"
   ]
  }
 ],
 "metadata": {
  "kernelspec": {
   "display_name": "Python 3 (ipykernel)",
   "language": "python",
   "name": "python3"
  },
  "language_info": {
   "codemirror_mode": {
    "name": "ipython",
    "version": 3
   },
   "file_extension": ".py",
   "mimetype": "text/x-python",
   "name": "python",
   "nbconvert_exporter": "python",
   "pygments_lexer": "ipython3",
   "version": "3.9.12"
  }
 },
 "nbformat": 4,
 "nbformat_minor": 4
}
