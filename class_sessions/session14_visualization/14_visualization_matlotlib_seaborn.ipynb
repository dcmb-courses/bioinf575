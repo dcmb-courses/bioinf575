{
 "cells": [
  {
   "cell_type": "markdown",
   "metadata": {},
   "source": [
    "## Data Visualization\n",
    "### BIOINF 575 - Fall 2023\n"
   ]
  },
  {
   "cell_type": "markdown",
   "metadata": {},
   "source": [
    "____\n",
    "\n",
    "#### `matplotlib` - powerful basic plotting library\n",
    "https://matplotlib.org/stable/gallery/index.html   \n",
    "https://matplotlib.org/stable/contents.html    \n",
    "https://matplotlib.org/3.1.1/tutorials/introductory/pyplot.html    \n",
    "\n",
    "`matplotlib.pyplot` is a collection of command style functions that make matplotlib work like MATLAB. <br>\n",
    "Each pyplot function makes some change to a figure: e.g., creates a figure, creates a plotting area in a figure, plots some lines in a plotting area, decorates the plot with labels, etc.\n",
    "\n",
    "In `matplotlib.pyplot` various states are preserved across function calls, so that it keeps track of things like the current figure and plotting area, and the plotting functions are directed to the current axes.<br>\n",
    "\"axes\" in most places in the documentation refers to the axes part of a figure and not the strict mathematical term for more than one axis).\n",
    "\n"
   ]
  },
  {
   "cell_type": "markdown",
   "metadata": {},
   "source": [
    "**Useful resources:**      \n",
    "https://github.com/pandas-dev/pandas/blob/v0.25.0/pandas/plotting/_core.py#L504-L1533    \n",
    "https://matplotlib.org\n",
    "https://matplotlib.org/tutorials/  \n",
    "https://matplotlib.org/stable/tutorials/introductory/quick_start.html\n",
    "https://matplotlib.org/stable/tutorials/introductory/pyplot.html#sphx-glr-tutorials-introductory-pyplot-py\n",
    "https://matplotlib.org/stable/tutorials/introductory/lifecycle.html      \n",
    "https://github.com/rougier/matplotlib-tutorial     \n",
    "https://www.tutorialspoint.com/matplotlib/matplotlib_pyplot_api.htm    \n",
    "https://realpython.com/python-matplotlib-guide/    \n",
    "https://github.com/matplotlib/AnatomyOfMatplotlib    \n",
    "https://www.w3schools.com/python/matplotlib_pyplot.asp   \n",
    "http://scipy-lectures.org/intro/matplotlib/index.html"
   ]
  },
  {
   "cell_type": "markdown",
   "metadata": {},
   "source": [
    "```python \n",
    "%matplotlib inline\n",
    "```\n",
    "Magic command to show plots in the notebook.\n",
    "Using this magic command, the output of plotting commands is displayed inline within frontends like the Jupyter notebook, directly below the code cell that produced it. The resulting plots will then also be stored in the notebook document.\n",
    "\n",
    "Starting with IPython 5.0 and matplotlib 2.0 you can avoid the use of IPython’s specific magic and use matplotlib.pyplot.ion()/matplotlib.pyplot.ioff() which have the advantages of working outside of IPython as well.\n",
    "\n",
    "https://ipython.readthedocs.io/en/stable/interactive/plotting.html"
   ]
  },
  {
   "cell_type": "code",
   "execution_count": null,
   "metadata": {},
   "outputs": [],
   "source": [
    "import matplotlib.pyplot as plt"
   ]
  },
  {
   "cell_type": "code",
   "execution_count": null,
   "metadata": {
    "tags": []
   },
   "outputs": [],
   "source": [
    "# what can the pyplot do?\n",
    "# many many things\n",
    "\n",
    "for e in dir(plt):\n",
    "    if not e.startswith(\"_\"):\n",
    "        print(e)"
   ]
  },
  {
   "cell_type": "code",
   "execution_count": null,
   "metadata": {},
   "outputs": [],
   "source": []
  },
  {
   "cell_type": "markdown",
   "metadata": {},
   "source": [
    "Call signatures::\n",
    "```\n",
    "    plot([x], y, [fmt], data=None, **kwargs)\n",
    "    plot([x], y, [fmt], [x2], y2, [fmt2], ..., **kwargs)\n",
    "```"
   ]
  },
  {
   "cell_type": "markdown",
   "metadata": {},
   "source": [
    "#### Quick plot"
   ]
  },
  {
   "cell_type": "markdown",
   "metadata": {},
   "source": [
    "The main usage of `plt` is the `plot()` and `show()` functions"
   ]
  },
  {
   "cell_type": "code",
   "execution_count": null,
   "metadata": {
    "tags": []
   },
   "outputs": [],
   "source": [
    "help(plt.plot)"
   ]
  },
  {
   "cell_type": "code",
   "execution_count": null,
   "metadata": {
    "tags": []
   },
   "outputs": [],
   "source": [
    "help(plt.show)"
   ]
  },
  {
   "cell_type": "code",
   "execution_count": null,
   "metadata": {},
   "outputs": [],
   "source": [
    "# create an empty plot \n",
    "\n",
    "result = plt.plot()\n",
    "# plt.show()"
   ]
  },
  {
   "cell_type": "markdown",
   "metadata": {},
   "source": [
    "#### Display lists of numbers "
   ]
  },
  {
   "cell_type": "code",
   "execution_count": null,
   "metadata": {},
   "outputs": [],
   "source": [
    "# one list - on the y axis\n",
    "# the x axis will be the index of the element in the list\n",
    "\n",
    "axis_lst = plt.plot([8, 24, 27, 42])\n",
    "ylbl = plt.ylabel('numbers')\n",
    "# plt.show()"
   ]
  },
  {
   "cell_type": "code",
   "execution_count": null,
   "metadata": {},
   "outputs": [],
   "source": [
    "# Plot the two lists, add axes labels\n",
    "\n",
    "x=[4,5,6,7]\n",
    "y=[2,5,1,7]\n",
    "plt.plot(x,y)\n",
    "plt.xlabel(\"x numerical values\")\n",
    "plt.ylabel(\"y numerical values\")\n",
    "plt.show()"
   ]
  },
  {
   "cell_type": "code",
   "execution_count": null,
   "metadata": {},
   "outputs": [],
   "source": []
  },
  {
   "cell_type": "markdown",
   "metadata": {},
   "source": [
    "`matplotlib` can use *format strings* to quickly declare the type of plots you want. Here are *some* of those formats:\n",
    "\n",
    "|**Character**|**Description**|\n",
    "|:-----------:|:--------------|\n",
    "|'--'|Dashed line|\n",
    "|':'|Dotted line|\n",
    "|'o'|Circle marker|\n",
    "|'^'|Upwards triangle marker|\n",
    "|'b'|Blue|\n",
    "|'c'|Cyan|\n",
    "|'g'|Green|"
   ]
  },
  {
   "cell_type": "code",
   "execution_count": null,
   "metadata": {},
   "outputs": [],
   "source": [
    "#dir(plt)\n",
    "#help(plt.scatter)"
   ]
  },
  {
   "cell_type": "code",
   "execution_count": null,
   "metadata": {},
   "outputs": [],
   "source": [
    "# plot a green (g), dashed (--) line, and \n",
    "# mark the points on the graph qith a square (s)\n",
    "plt.plot([3, 4, 9, 20], 'gs--')\n",
    "\n",
    "# set axis limits\n",
    "plt.axis([-1, 4, 0, 25])\n",
    "\n",
    "plt.show()"
   ]
  },
  {
   "cell_type": "code",
   "execution_count": null,
   "metadata": {},
   "outputs": [],
   "source": [
    "# use a triangle (^) to mark the points on the plot\n",
    "# draw a blue (b), dashed (d) line\n",
    "# linewidth is self explanatory\n",
    "# markersize is the size of the point on the plot - in this case the triangle\n",
    "\n",
    "plt.plot([3, 4, 9, 20], '^b--', linewidth=2, markersize=12)\n",
    "plt.show()"
   ]
  },
  {
   "cell_type": "code",
   "execution_count": null,
   "metadata": {},
   "outputs": [],
   "source": [
    "# we can spell out all parameters\n",
    "\n",
    "plt.plot([3, 4, 9, 20], \n",
    "         color='blue', \n",
    "         marker='^', \n",
    "         linestyle='dashed', \n",
    "         linewidth=2, \n",
    "         markersize=12)\n",
    "plt.show()"
   ]
  },
  {
   "cell_type": "markdown",
   "metadata": {
    "tags": []
   },
   "source": [
    "#### <font color = \"red\">Exercise</font>\n",
    "\n",
    "* Plot the values x = 4,5,6 and y = 7,8,9 with blue color, no line and square marker\n",
    "\n"
   ]
  },
  {
   "cell_type": "code",
   "execution_count": null,
   "metadata": {},
   "outputs": [],
   "source": [
    "x=[4,5,6]\n",
    "y=[7,8,9]\n",
    "\n"
   ]
  },
  {
   "cell_type": "code",
   "execution_count": null,
   "metadata": {},
   "outputs": [],
   "source": []
  },
  {
   "cell_type": "code",
   "execution_count": null,
   "metadata": {},
   "outputs": [],
   "source": [
    "import numpy as np\n",
    "\n",
    "# Plot a list with 10 random numbers \n",
    "# with a magenta dotted line and \n",
    "# circles for points.\n",
    "\n",
    "\n"
   ]
  },
  {
   "cell_type": "code",
   "execution_count": null,
   "metadata": {},
   "outputs": [],
   "source": [
    "# help(plt.plot)"
   ]
  },
  {
   "cell_type": "code",
   "execution_count": null,
   "metadata": {},
   "outputs": [],
   "source": [
    "import numpy as np\n",
    "\n",
    "# evenly sampled time \n",
    "time = np.arange(0, 7, 0.3)\n",
    "\n",
    "# gene expression\n",
    "ge = np.arange(1, 8, 0.3)\n",
    "\n",
    "# we can plot multiple lines\n",
    "# we give triplets of x, y and style for each line\n",
    "# red dashes - time and gene expression\n",
    "# blue squares - time and gene expression squared\n",
    "# magenta squares on dotted line - time and gene expression to the power 2.5\n",
    "# green triangles - time and gene expression cubed\n",
    "\n",
    "plt.plot(time, ge, 'r--', time, ge**2, 'bs', time, ge**2.5, 'ms:', time, ge**3, 'g^')\n",
    "plt.show()\n"
   ]
  },
  {
   "cell_type": "code",
   "execution_count": null,
   "metadata": {},
   "outputs": [],
   "source": [
    "# Look in the documentation \n",
    "# to find information about \n",
    "# the parameters of plot\n",
    "\n",
    "# help(plt.plot)"
   ]
  },
  {
   "cell_type": "markdown",
   "metadata": {},
   "source": [
    "* `linestyle or ls`: {'-', '--', '-.', ':', '', (offset, on-off-seq), ...}\n",
    "    - `'-'` solid line\n",
    "    - `'--'` dashed line\n",
    "    - `'-.'` dash and dot line\n",
    "    - `':'` dotted line\n",
    "    - `''` no line\n"
   ]
  },
  {
   "cell_type": "code",
   "execution_count": null,
   "metadata": {},
   "outputs": [],
   "source": [
    "# help(plt.figure)"
   ]
  },
  {
   "cell_type": "code",
   "execution_count": null,
   "metadata": {},
   "outputs": [],
   "source": [
    "# help(plt.subplot)"
   ]
  },
  {
   "cell_type": "code",
   "execution_count": null,
   "metadata": {},
   "outputs": [],
   "source": [
    "# Categorical data plotting using categories on the x axis \n",
    "# we also use the figure function to create more complex figure (size = (width,height))\n",
    "# and subplot to plot multiple sub-plots ar different positions in the figure\n",
    "# 131 - *nrows*, *ncols*, and *index*\n",
    "# Different types of plots: bar, scatter, and histogram \n",
    " \n",
    "names = ['A', 'B', 'C', 'D']\n",
    "values = [7, 20, 33, 44]\n",
    "values1 = np.random.rand(100)\n",
    "\n",
    "# create figure size = (width, height) in inches\n",
    "plt.figure(figsize=(12, 3))\n",
    "\n",
    "# subplot: no_rows no_cols subplot_position\n",
    "plt.subplot(131)\n",
    "# plot a barplot with the names on the x axis and values on the y axis\n",
    "plt.bar(names, values)\n",
    "\n",
    "# make another sublot and display a scatterplot\n",
    "plt.subplot(132)\n",
    "plt.scatter(names, values)\n",
    "\n",
    "# make another sublot and display a histogram\n",
    "plt.subplot(133)\n",
    "plt.hist(values1)\n",
    "\n",
    "# add subtitle to the figure\n",
    "plt.suptitle('Categorical Plotting')\n",
    "plt.show()"
   ]
  },
  {
   "cell_type": "code",
   "execution_count": null,
   "metadata": {},
   "outputs": [],
   "source": [
    "# Add another subplot with another color\n",
    "\n",
    "names = ['A', 'B', 'C', 'D']\n",
    "values = [7, 20, 33, 44]\n",
    "values1 = np.random.rand(100)\n",
    "values2 = np.random.rand(10000)\n",
    "\n",
    "plt.figure(figsize=(15, 3))\n",
    "\n",
    "plt.subplot(141)\n",
    "plt.bar(names, values)\n",
    "\n",
    "plt.subplot(142)\n",
    "plt.scatter(names, values)\n",
    "\n",
    "plt.subplot(143)\n",
    "plt.hist(values1)\n",
    "\n",
    "# add the fourth subplot - a histogram\n",
    "plt.subplot(144)\n",
    "plt.hist(values2, color = \"green\")\n",
    "\n",
    "plt.suptitle('Categorical Plotting')\n",
    "plt.show()"
   ]
  },
  {
   "cell_type": "code",
   "execution_count": null,
   "metadata": {},
   "outputs": [],
   "source": [
    "# Changing the grid layout from 1 by 4 to 2 by 2\n",
    "\n",
    "names = ['A', 'B', 'C', 'D']\n",
    "values = [7, 20, 33, 44]\n",
    "values1 = np.random.rand(100)\n",
    "values2 = np.random.rand(10000)\n",
    "\n",
    "# changing the figure size to match the new layout\n",
    "plt.figure(figsize=(9, 6))\n",
    "\n",
    "plt.subplot(221)\n",
    "plt.bar(names, values)\n",
    "\n",
    "plt.subplot(222)\n",
    "plt.scatter(names, values)\n",
    "\n",
    "plt.subplot(223)\n",
    "plt.hist(values1)\n",
    "\n",
    "plt.subplot(224)\n",
    "plt.hist(values2, color = \"green\")\n",
    "\n",
    "plt.suptitle('Categorical Plotting')\n",
    "plt.show()"
   ]
  },
  {
   "cell_type": "code",
   "execution_count": null,
   "metadata": {},
   "outputs": [],
   "source": []
  },
  {
   "cell_type": "code",
   "execution_count": null,
   "metadata": {},
   "outputs": [],
   "source": [
    "# help(plt.bar)"
   ]
  },
  {
   "cell_type": "code",
   "execution_count": null,
   "metadata": {},
   "outputs": [],
   "source": [
    "import pandas as pd"
   ]
  },
  {
   "cell_type": "code",
   "execution_count": null,
   "metadata": {},
   "outputs": [],
   "source": [
    "# loading the iris dataset\n",
    "# 150 flowers/rows from 3 species - 50 per species (5th column)\n",
    "# 4 measured characteristics/columns: \n",
    "# petal_length, petal_width, sepal_length, sepal_width\n",
    "\n",
    "df_iris = pd.read_csv('https://raw.githubusercontent.com/uiuc-cse/data-fa14/gh-pages/data/iris.csv')\n",
    "df_iris.head()"
   ]
  },
  {
   "cell_type": "code",
   "execution_count": null,
   "metadata": {},
   "outputs": [],
   "source": [
    "x1 = df_iris.petal_length\n",
    "y1 = df_iris.petal_width\n",
    "\n",
    "x2 = df_iris.sepal_length\n",
    "y2 = df_iris.sepal_width\n",
    "\n",
    "# Plot the categories from the dataframe with \n",
    "# green triangles and blue squares\n",
    "\n",
    "plt.plot(x1, y1, 'g^', x2, y2, 'bs')\n",
    "plt.show()"
   ]
  },
  {
   "cell_type": "markdown",
   "metadata": {},
   "source": [
    "#### Histogram"
   ]
  },
  {
   "cell_type": "code",
   "execution_count": null,
   "metadata": {},
   "outputs": [],
   "source": [
    "help(plt.hist)"
   ]
  },
  {
   "cell_type": "code",
   "execution_count": null,
   "metadata": {},
   "outputs": [],
   "source": [
    "n, bins, patches = plt.hist(df_iris.petal_length, \n",
    "                            bins=20,              # how many bars/intervals\n",
    "                            facecolor='#8303A2',  # color code in hexa - color for the bars in the histogram\n",
    "                            rwidth=.8,            # relative width of the bars as a fraction of the bin width\n",
    "                            align='mid')          # horizontal alignment of the bins\n",
    "\n",
    "# n - The values of the histogram bins - the height\n",
    "print(n)\n",
    "\n",
    "print(min(df_iris.petal_length))\n",
    "print(max(df_iris.petal_length))\n",
    "\n",
    "# the bins start point (first one is min val), \n",
    "# last one is the end point (max val)\n",
    "print(bins)\n",
    "\n",
    "# the container of actual bar objects\n",
    "print(patches)\n",
    "\n",
    "# Add a title\n",
    "plt.title('Iris dataset petal length')\n",
    "\n",
    "# Add y axis label\n",
    "plt.ylabel('number of plants')\n",
    "plt.xlabel('petal length')\n",
    "\n",
    "\n",
    "plt.show()"
   ]
  },
  {
   "cell_type": "markdown",
   "metadata": {},
   "source": [
    "#### Boxplot"
   ]
  },
  {
   "cell_type": "code",
   "execution_count": null,
   "metadata": {},
   "outputs": [],
   "source": [
    "# help(plt.boxplot)"
   ]
  },
  {
   "cell_type": "code",
   "execution_count": null,
   "metadata": {},
   "outputs": [],
   "source": [
    "# the result is a dictionary mapping each component of the boxplot \n",
    "# to a list of the `.Line2D` instances created\n",
    "\n",
    "res = plt.boxplot(df_iris.petal_length)\n",
    "\n",
    "# Add a title\n",
    "plt.title('Iris dataset petal length')\n",
    "\n",
    "# Add y axis label\n",
    "plt.ylabel('petal length')\n",
    "plt.show()"
   ]
  },
  {
   "cell_type": "markdown",
   "metadata": {},
   "source": [
    "#### With great power, comes great responsibility.\n",
    "- The biggest issue with `matplotlib` isn't its lack of power...it is that it is too much power.     \n",
    "- When you are quickly exploring data, you don't want to have to fiddle around with axis limits, colors, figure sizes, etc. \n",
    "- Yes, you *can* make good figures with `matplotlib`, but you probably won't."
   ]
  },
  {
   "cell_type": "markdown",
   "metadata": {},
   "source": [
    "https://python-graph-gallery.com/matplotlib/"
   ]
  },
  {
   "cell_type": "markdown",
   "metadata": {},
   "source": [
    "Pandas works off of `matplotlib` by default.    \n",
    "You can easily start visualizing dataframes and series just by a simple command."
   ]
  },
  {
   "cell_type": "markdown",
   "metadata": {},
   "source": [
    "#### Using pandas `.plot()`"
   ]
  },
  {
   "cell_type": "markdown",
   "metadata": {},
   "source": [
    "Pandas abstracts some of those initial issues with data visualization. However, it is still a `matplotlib` plot</br></br>\n",
    "Every plot that is returned from `pandas` is subject to `matplotlib` modification."
   ]
  },
  {
   "cell_type": "markdown",
   "metadata": {},
   "source": [
    "https://github.com/pandas-dev/pandas/blob/v0.25.0/pandas/plotting/_core.py#L504-L1533"
   ]
  },
  {
   "cell_type": "code",
   "execution_count": null,
   "metadata": {},
   "outputs": [],
   "source": [
    "# plot a boxplot for each of the 4 characteristics \n",
    "df_iris.plot.box()\n",
    "plt.show()"
   ]
  },
  {
   "cell_type": "code",
   "execution_count": null,
   "metadata": {},
   "outputs": [],
   "source": [
    "df_iris.head()"
   ]
  },
  {
   "cell_type": "code",
   "execution_count": null,
   "metadata": {},
   "outputs": [],
   "source": [
    "# Plot the histogram of the petal lengths\n",
    "# Plot the histograms of all 4 numerical characteristics in a plot\n",
    "df_iris.petal_length.plot.hist()\n",
    "plt.show()\n",
    "\n"
   ]
  },
  {
   "cell_type": "code",
   "execution_count": null,
   "metadata": {},
   "outputs": [],
   "source": [
    "# histograms for all 4 charateristics\n",
    "# alpha parameter adds transparency\n",
    "\n",
    "df_iris.plot.hist(alpha = 0.7)\n",
    "plt.show()"
   ]
  },
  {
   "cell_type": "code",
   "execution_count": null,
   "metadata": {},
   "outputs": [],
   "source": [
    "# mean of petal_length by species in a bar plot\n",
    "df_iris.groupby(\"species\")['petal_length'].mean().plot(kind='bar')\n",
    "plt.show()"
   ]
  },
  {
   "cell_type": "code",
   "execution_count": null,
   "metadata": {},
   "outputs": [],
   "source": [
    "# sum of sepal_length by species in a green bar plot\n",
    "df_iris.groupby(\"species\")['sepal_length'].sum().plot(kind='bar',color = \"green\")\n",
    "plt.show()"
   ]
  },
  {
   "cell_type": "code",
   "execution_count": null,
   "metadata": {},
   "outputs": [],
   "source": [
    "# scatter plot of petal_length vs petal_width save the plot in a file\n",
    "df_iris.plot(x='petal_length', y='petal_width', kind = \"scatter\")\n",
    "plt.savefig('output.png')"
   ]
  },
  {
   "cell_type": "markdown",
   "metadata": {},
   "source": [
    "#### Multiple Plots"
   ]
  },
  {
   "cell_type": "code",
   "execution_count": null,
   "metadata": {},
   "outputs": [],
   "source": [
    "df_iris.petal_length.plot(kind='density')\n",
    "df_iris.sepal_length.plot(kind='density')\n",
    "df_iris.petal_width.plot(kind='density')\n",
    "plt.show()"
   ]
  },
  {
   "cell_type": "markdown",
   "metadata": {},
   "source": [
    "`matplotlib` allows users to define the regions of their plotting canvas. If the user intends to create a canvas with multiple plots, they would use the `subplot()` function. The `subplot` function sets the number of rows and columns the canvas will have **AND** sets the current index of where the next subplot will be rendered."
   ]
  },
  {
   "cell_type": "code",
   "execution_count": null,
   "metadata": {},
   "outputs": [],
   "source": [
    "plt.figure(1)\n",
    "\n",
    "# Plot all three columns from df in different subplots\n",
    "# Rows first index (top-left)\n",
    "\n",
    "plt.subplot(3, 1, 1)\n",
    "df_iris.petal_length.plot(kind='density')\n",
    "\n",
    "plt.subplot(3, 1, 2)\n",
    "df_iris.sepal_length.plot(kind='density')\n",
    "\n",
    "plt.subplot(3, 1, 3)\n",
    "df_iris.petal_width.plot(kind='density')\n",
    "\n",
    "# Some plot configuration\n",
    "plt.subplots_adjust(top=.92, \n",
    "                    bottom=.08, \n",
    "                    left=.1, \n",
    "                    right=.95, \n",
    "                    hspace=.25, \n",
    "                    wspace=.35)\n",
    "plt.show()"
   ]
  },
  {
   "cell_type": "code",
   "execution_count": null,
   "metadata": {},
   "outputs": [],
   "source": [
    "# Temporary styles\n",
    "with plt.style.context(('ggplot')):\n",
    "    plt.figure(1)\n",
    "\n",
    "    # Plot all three columns from df in different subplots\n",
    "    # Rows first index (top-left)\n",
    "    \n",
    "    plt.subplot(3, 1, 1)\n",
    "    df_iris.petal_length.plot(kind='density')\n",
    "    \n",
    "    plt.subplot(3, 1, 2)\n",
    "    df_iris.sepal_length.plot(kind='density')\n",
    "    \n",
    "    plt.subplot(3, 1, 3)\n",
    "    df_iris.petal_width.plot(kind='density')\n",
    "    \n",
    "    # Some plot configuration\n",
    "    plt.subplots_adjust(top=.92, \n",
    "                        bottom=.08, \n",
    "                        left=.1, \n",
    "                        right=.95, \n",
    "                        hspace=.25, \n",
    "                        wspace=.35)\n",
    "    plt.show()"
   ]
  },
  {
   "cell_type": "code",
   "execution_count": null,
   "metadata": {},
   "outputs": [],
   "source": [
    "# Plot the histograms of the petal length and width and sepal length and width \n",
    "# Display them on the columns of a figure with 2X2 subplots\n",
    "# color them red, green, blue and yellow, respectivelly  \n",
    "\n",
    "\n",
    "with plt.style.context(('ggplot')):\n",
    "    plt.figure(1)\n",
    "\n",
    "    # Plot each of the columns from the df in different subplots\n",
    "    # Rows first index (top-left)\n",
    "    plt.subplot(2, 2, 1)\n",
    "    df_iris.petal_length.plot(kind='hist', color = \"red\")\n",
    "    plt.xlabel(\"petal length\")\n",
    "    plt.subplot(2, 2, 2)\n",
    "    df_iris.sepal_length.plot.hist(color = \"blue\")\n",
    "    plt.xlabel(\"sepal length\")\n",
    "    plt.subplot(2, 2, 3)\n",
    "    df_iris.petal_width.plot(kind='hist', color = \"green\")\n",
    "    plt.xlabel(\"petal width\")\n",
    "    plt.subplot(2, 2, 4)\n",
    "    df_iris.sepal_width.plot.hist(color = \"yellow\")\n",
    "    plt.xlabel(\"sepal width\")\n",
    "    # Some plot configuration\n",
    "    plt.subplots_adjust(top=.92, \n",
    "                        bottom=.001, \n",
    "                        left=.1, \n",
    "                        right=.95, \n",
    "                        hspace=.30, \n",
    "                        wspace=.35)\n",
    "    plt.show()"
   ]
  },
  {
   "cell_type": "code",
   "execution_count": null,
   "metadata": {},
   "outputs": [],
   "source": [
    "# Adjusting the plot configuration\n",
    "\n",
    "with plt.style.context(('ggplot')):\n",
    "    plt.figure(1)\n",
    "\n",
    "    # Plot each of the columns from the df in different subplots\n",
    "    # Rows first index (top-left)\n",
    "    plt.subplot(2, 2, 1)\n",
    "    df_iris.petal_length.plot(kind='box', color = \"red\")\n",
    "    plt.subplot(2, 2, 2)\n",
    "    df_iris.sepal_length.plot.box(color = \"blue\")\n",
    "    plt.subplot(2, 2, 3)\n",
    "    df_iris.petal_width.plot(kind='hist', color = \"green\")\n",
    "    plt.xlabel(\"petal width\")\n",
    "    plt.subplot(2, 2, 4)\n",
    "    df_iris.sepal_width.plot.hist(color = \"yellow\")\n",
    "    plt.xlabel(\"sepal width\")\n",
    "    # Some plot configuration\n",
    "    plt.subplots_adjust(top=0.99, \n",
    "                        bottom=0, \n",
    "                        left=.1, \n",
    "                        right=.95, \n",
    "                        hspace=.25, \n",
    "                        wspace=.35)\n",
    "    plt.show()"
   ]
  },
  {
   "cell_type": "code",
   "execution_count": null,
   "metadata": {},
   "outputs": [],
   "source": [
    "# see what the pandas dataframe plot can do\n",
    "# dir(df_iris.petal_length.plot)"
   ]
  },
  {
   "cell_type": "markdown",
   "metadata": {},
   "source": [
    "____________\n",
    "\n",
    "### `seaborn` - dataset-oriented plotting"
   ]
  },
  {
   "cell_type": "markdown",
   "metadata": {},
   "source": [
    "Seaborn is a library that specializes in making *prettier* `matplotlib` plots of statistical data. <br>\n",
    "- It is built on top of matplotlib and closely integrated with pandas data structures.    \n",
    "- It needs a data object from where it will extract the information for the plot in different parameters.\n",
    "\n"
   ]
  },
  {
   "cell_type": "markdown",
   "metadata": {},
   "source": [
    "**Useful resources:**     \n",
    "https://seaborn.pydata.org/introduction.html<br>\n",
    "https://python-graph-gallery.com/seaborn/   \n",
    "https://jakevdp.github.io/PythonDataScienceHandbook/04.14-visualization-with-seaborn.html\n",
    "https://seaborn.pydata.org/tutorial/distributions.html\n"
   ]
  },
  {
   "cell_type": "code",
   "execution_count": null,
   "metadata": {},
   "outputs": [],
   "source": [
    "import seaborn as sns"
   ]
  },
  {
   "cell_type": "code",
   "execution_count": null,
   "metadata": {},
   "outputs": [],
   "source": [
    "# basic scatterplot\n",
    "\n",
    "sns.scatterplot(x='petal_length',y='petal_width',data=df_iris)\n",
    "plt.show()"
   ]
  },
  {
   "cell_type": "markdown",
   "metadata": {},
   "source": [
    "`seaborn` lets users *style* their plotting environment."
   ]
  },
  {
   "cell_type": "code",
   "execution_count": null,
   "metadata": {},
   "outputs": [],
   "source": [
    "sns.set(style='whitegrid')"
   ]
  },
  {
   "cell_type": "markdown",
   "metadata": {},
   "source": [
    "However, you can always use `matplotlib`'s `plt.style`"
   ]
  },
  {
   "cell_type": "code",
   "execution_count": null,
   "metadata": {},
   "outputs": [],
   "source": [
    "#dir(sns)"
   ]
  },
  {
   "cell_type": "code",
   "execution_count": null,
   "metadata": {},
   "outputs": [],
   "source": [
    "sns.scatterplot(x='petal_length',y='petal_width',data=df_iris)\n",
    "plt.show()"
   ]
  },
  {
   "cell_type": "code",
   "execution_count": null,
   "metadata": {},
   "outputs": [],
   "source": [
    "# hue argument allows you to color dots by category\n",
    "\n",
    "sns.scatterplot(x='petal_length',\n",
    "                y='petal_width', \n",
    "                hue = \"species\", # color\n",
    "                data=df_iris)    # always needs a dataframe \n",
    "plt.show()"
   ]
  },
  {
   "cell_type": "markdown",
   "metadata": {},
   "source": [
    "#### Violin plot"
   ]
  },
  {
   "cell_type": "markdown",
   "metadata": {},
   "source": [
    "Fancier box plot that gets rid of the need for 'jitter' to show the inherent distribution of the data points"
   ]
  },
  {
   "cell_type": "code",
   "execution_count": null,
   "metadata": {},
   "outputs": [],
   "source": [
    "res = sns.violinplot(data=df_iris)"
   ]
  },
  {
   "cell_type": "markdown",
   "metadata": {},
   "source": [
    "#### Histplot, kdeplot and subplots"
   ]
  },
  {
   "cell_type": "code",
   "execution_count": null,
   "metadata": {},
   "outputs": [],
   "source": [
    "# A distplot plots a univariate distribution of observations. \n",
    "# The distplot() function combines the matplotlib hist function with the seaborn kdeplot() and rugplot() functions.\n",
    "\n",
    "sns.set(style='darkgrid', palette='muted')\n",
    "\n",
    "# 4 rows, 1 column - all have the same x axis\n",
    "f, axes = plt.subplots(4,1, figsize=(10,10), sharex=True)\n",
    "\n",
    "# Regular displot\n",
    "sns.histplot(df_iris.petal_length, ax=axes[0])\n",
    "\n",
    "# Change the color and remove the fill\n",
    "sns.histplot(df_iris.petal_width, fill=False, ax=axes[1], color='orange')\n",
    "\n",
    "# Show the kernel density estimate (kde)\n",
    "sns.histplot(df_iris.sepal_width, kde=True, ax=axes[2], color='purple')\n",
    "\n",
    "# kdeplot\n",
    "sns.kdeplot(df_iris.sepal_length,   ax=axes[3], color='green' )\n",
    "\n"
   ]
  },
  {
   "cell_type": "markdown",
   "metadata": {},
   "source": [
    "#### FacetGrid - break plot in subplots"
   ]
  },
  {
   "cell_type": "code",
   "execution_count": null,
   "metadata": {},
   "outputs": [],
   "source": [
    "# sns.set()\n",
    "columns = ['species', 'petal_length', 'petal_width']\n",
    "facet_column = 'species'\n",
    "g = sns.FacetGrid(df_iris.loc[:,columns], \n",
    "                  col=facet_column, \n",
    "                  hue=facet_column, \n",
    "                  col_wrap=2)\n",
    "g.map(plt.scatter, 'petal_length', 'petal_width')"
   ]
  },
  {
   "cell_type": "markdown",
   "metadata": {},
   "source": [
    "#### sns.relplot - drawing relational plots onto a FacetGrid"
   ]
  },
  {
   "cell_type": "code",
   "execution_count": null,
   "metadata": {},
   "outputs": [],
   "source": [
    "# help(sns.relplot)"
   ]
  },
  {
   "cell_type": "code",
   "execution_count": null,
   "metadata": {},
   "outputs": [],
   "source": [
    "# relplot - scatterplot\n",
    "res = sns.relplot(x=\"petal_length\", \n",
    "                  y=\"petal_width\", \n",
    "                  col=\"species\",\n",
    "                  hue=\"species\", \n",
    "                  style=\"species\", \n",
    "                  size=\"species\",\n",
    "                  data=df_iris)\n"
   ]
  },
  {
   "cell_type": "markdown",
   "metadata": {
    "tags": []
   },
   "source": [
    "#### <font color = \"red\">Exercise</font>\n",
    "\n",
    "* Use seaborn to plot a boxplot of the sepal_width for each species \n"
   ]
  },
  {
   "cell_type": "code",
   "execution_count": null,
   "metadata": {},
   "outputs": [],
   "source": [
    "sns.boxplot(data=df_iris)"
   ]
  },
  {
   "cell_type": "code",
   "execution_count": null,
   "metadata": {},
   "outputs": [],
   "source": [
    "\n"
   ]
  },
  {
   "cell_type": "code",
   "execution_count": null,
   "metadata": {},
   "outputs": [],
   "source": []
  },
  {
   "cell_type": "code",
   "execution_count": null,
   "metadata": {},
   "outputs": [],
   "source": []
  }
 ],
 "metadata": {
  "kernelspec": {
   "display_name": "Python 3 (ipykernel)",
   "language": "python",
   "name": "python3"
  },
  "language_info": {
   "codemirror_mode": {
    "name": "ipython",
    "version": 3
   },
   "file_extension": ".py",
   "mimetype": "text/x-python",
   "name": "python",
   "nbconvert_exporter": "python",
   "pygments_lexer": "ipython3",
   "version": "3.9.12"
  }
 },
 "nbformat": 4,
 "nbformat_minor": 4
}
