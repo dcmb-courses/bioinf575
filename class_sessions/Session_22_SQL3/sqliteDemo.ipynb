{
 "cells": [
  {
   "cell_type": "markdown",
   "metadata": {},
   "source": [
    "## SQL 1/I - SELECT"
   ]
  },
  {
   "cell_type": "code",
   "execution_count": null,
   "metadata": {},
   "outputs": [],
   "source": [
    "from sqlite3 import connect\n",
    "conn = connect('small_pfam.sqlite')\n",
    "curs = conn.cursor()"
   ]
  },
  {
   "cell_type": "markdown",
   "metadata": {},
   "source": [
    "There is a special sqlite_master table that describes the contents of the database"
   ]
  },
  {
   "cell_type": "markdown",
   "metadata": {},
   "source": [
    "Major SQL commands: SELECT, INSERT, DELETE, UPDATE"
   ]
  },
  {
   "cell_type": "markdown",
   "metadata": {},
   "source": [
    "SELECT - which columns to include in the result, use * for all columns <br>\n",
    "FROM - which tables to use <br>\n",
    "WHERE (optional) - predicate clause, which rows to include"
   ]
  },
  {
   "cell_type": "markdown",
   "metadata": {},
   "source": [
    "'*' selects ALL rows and ALL columns and returns them by column order and row_id"
   ]
  },
  {
   "cell_type": "code",
   "execution_count": null,
   "metadata": {},
   "outputs": [],
   "source": [
    "sql = '''SELECT * FROM sqlite_master;'''\n",
    "curs.execute(sql)"
   ]
  },
  {
   "cell_type": "markdown",
   "metadata": {},
   "source": [
    "See result header"
   ]
  },
  {
   "cell_type": "code",
   "execution_count": null,
   "metadata": {},
   "outputs": [],
   "source": [
    "curs.description"
   ]
  },
  {
   "cell_type": "markdown",
   "metadata": {},
   "source": [
    "See result"
   ]
  },
  {
   "cell_type": "code",
   "execution_count": null,
   "metadata": {},
   "outputs": [],
   "source": [
    "for row in curs: print(row)"
   ]
  },
  {
   "cell_type": "markdown",
   "metadata": {},
   "source": [
    "WHERE clause example"
   ]
  },
  {
   "cell_type": "code",
   "execution_count": null,
   "metadata": {},
   "outputs": [],
   "source": [
    "sql = '''\n",
    "SELECT name\n",
    "FROM sqlite_master \n",
    "WHERE type= \"table\";\n",
    "'''\n",
    "curs.execute(sql)"
   ]
  },
  {
   "cell_type": "markdown",
   "metadata": {},
   "source": [
    "Aliasing column names to make them easier to understand "
   ]
  },
  {
   "cell_type": "code",
   "execution_count": null,
   "metadata": {},
   "outputs": [],
   "source": [
    "sql = '''\n",
    "SELECT * FROM pfamA LIMIT 1;\n",
    "'''\n",
    "curs.execute(sql)\n",
    "curs.description"
   ]
  },
  {
   "cell_type": "code",
   "execution_count": null,
   "metadata": {},
   "outputs": [],
   "source": [
    "sql = '''\n",
    "SELECT pfamA_id 'Protein Family Domain Identifier' \n",
    "FROM pfamA LIMIT 10;\n",
    "'''\n",
    "curs.execute(sql)\n",
    "curs.description"
   ]
  },
  {
   "cell_type": "code",
   "execution_count": null,
   "metadata": {},
   "outputs": [],
   "source": [
    "curs.fetchall()"
   ]
  },
  {
   "cell_type": "code",
   "execution_count": null,
   "metadata": {},
   "outputs": [],
   "source": [
    "def get_header(cursor):\n",
    "    '''Makes a header row from the cursor description. Its tab\n",
    "delimited.\n",
    "\n",
    "\n",
    "Arguments:\n",
    "    cursor: a cursor after a select query\n",
    "Returns:\n",
    "    string: A string consisting of the column names separated by tabs, no new line\n",
    "'''\n",
    "    return '\\t'.join([row[0] for row in cursor.description])\n",
    "#    colNames = []\n",
    "#    for row  in cursor.description:\n",
    "#        colNames.append(row[0])\n",
    "#    return '\\t'.join(colNames)\n",
    "print(get_header(curs))"
   ]
  },
  {
   "cell_type": "code",
   "execution_count": null,
   "metadata": {},
   "outputs": [],
   "source": [
    "sql = '''\n",
    "SELECT *\n",
    "FROM pfamA;\n",
    "'''\n",
    "curs.execute(sql)\n",
    "print(get_header(curs))"
   ]
  },
  {
   "cell_type": "markdown",
   "metadata": {},
   "source": [
    "SELECT - which columns to include in the result <br>\n",
    "FROM - which tables to use <br>\n",
    "WHERE (optional) - predicate clause, which rows to include <br>\n",
    "ORDER BY (optional) - indicates a sort order for the output data"
   ]
  },
  {
   "cell_type": "code",
   "execution_count": null,
   "metadata": {},
   "outputs": [],
   "source": [
    "sql = '''\n",
    "SELECT pfamA_acc, pfamA_id, description\n",
    "FROM pfamA \n",
    "WHERE type=\"Coiled-coil\"\n",
    "ORDER BY pfamA_id  ASC;\n",
    "'''\n",
    "curs.execute(sql)\n",
    "curs.fetchall()\n",
    "#for row in curs: print(row)"
   ]
  },
  {
   "cell_type": "markdown",
   "metadata": {},
   "source": [
    "COUNT returns  a single number, which is the count of all rows in the table"
   ]
  },
  {
   "cell_type": "code",
   "execution_count": null,
   "metadata": {},
   "outputs": [],
   "source": [
    "sql = '''\n",
    "SELECT count(*) FROM pfamA;\n",
    "'''\n",
    "curs.execute(sql)\n",
    "curs.fetchall()"
   ]
  },
  {
   "cell_type": "code",
   "execution_count": null,
   "metadata": {},
   "outputs": [],
   "source": [
    "sql = '''\n",
    "SELECT count(pfamA_id) AS 'Number of Protein Family Domains' \n",
    "FROM pfamA;\n",
    "'''\n",
    "curs.execute(sql)\n",
    "curs.fetchall()"
   ]
  },
  {
   "cell_type": "markdown",
   "metadata": {},
   "source": [
    "DISTINCT selects  non-duplicated elements (rows)"
   ]
  },
  {
   "cell_type": "code",
   "execution_count": null,
   "metadata": {},
   "outputs": [],
   "source": [
    "sql = '''\n",
    "SELECT type FROM pfamA LIMIT 20;\n",
    "'''\n",
    "curs.execute(sql)\n",
    "curs.fetchall()"
   ]
  },
  {
   "cell_type": "code",
   "execution_count": null,
   "metadata": {},
   "outputs": [],
   "source": [
    "sql = '''\n",
    "SELECT DISTINCT type FROM pfamA;\n",
    "'''\n",
    "curs.execute(sql)\n",
    "curs.fetchall()"
   ]
  },
  {
   "cell_type": "code",
   "execution_count": null,
   "metadata": {},
   "outputs": [],
   "source": [
    "sql = '''\n",
    "SELECT DISTINCT type FROM pfamA;\n",
    "'''\n",
    "curs.execute(sql)\n",
    "result = curs.fetchall()\n",
    "len(result)"
   ]
  },
  {
   "cell_type": "markdown",
   "metadata": {},
   "source": [
    "WHERE clause operators <br>\n",
    "https://www.sqlite.org/lang_expr.html\n",
    "\n",
    "<> ,  != \tinequality <br>\n",
    "<\t\t\tless than <br>\n",
    "<= \t\t\tless than or equal <br>\n",
    "=\t\t\tequal <br>\n",
    "'>\t\t\tgreater than <br>\n",
    "'>= \t\tgreater than or equal <br>\n",
    "BETWEEN v1 AND v2\ttests that a value to lies in a given range <br>\n",
    "EXISTS\t\ttest for existence of rows matching query <br>\n",
    "IN\t\t\ttests if a value falls within a given set or query <br>\n",
    "IS [ NOT ] NULL\tis or is not null <br>\n",
    "[ NOT ] LIKE\t\ttests value to see if like or not like another <br>\n",
    "\n",
    "% is the wildcard in SQL, used in conjunction with LIKE\n"
   ]
  },
  {
   "cell_type": "code",
   "execution_count": null,
   "metadata": {},
   "outputs": [],
   "source": [
    "sql = '''\n",
    "SELECT pfamA_acc, pfamA_id, description FROM pfamA \n",
    "WHERE pfamA_id = '7tm_1';\n",
    "'''\n",
    "curs.execute(sql)\n",
    "curs.fetchall()"
   ]
  },
  {
   "cell_type": "code",
   "execution_count": null,
   "metadata": {},
   "outputs": [],
   "source": [
    "sql = '''\n",
    "SELECT pfamA_acc, pfamA_id, description FROM pfamA \n",
    "WHERE pfamA_id IN ('7tm_1',  '7tm_2MM', '12TM_1');\n",
    "'''\n",
    "curs.execute(sql)\n",
    "curs.fetchall()"
   ]
  },
  {
   "cell_type": "code",
   "execution_count": null,
   "metadata": {},
   "outputs": [],
   "source": [
    "sql = '''\n",
    "SELECT pfamA_acc, type, average_coverage FROM pfamA \n",
    "WHERE type = 'Family' AND average_coverage BETWEEN 20 AND 25 \n",
    "LIMIT 10\n",
    "'''\n",
    "curs.execute(sql)\n",
    "curs.fetchall()"
   ]
  },
  {
   "cell_type": "code",
   "execution_count": null,
   "metadata": {},
   "outputs": [],
   "source": [
    "sql = '''\n",
    "SELECT pfamA_id, pfamA_acc, description \n",
    "FROM pfamA\n",
    "WHERE pfamA_id LIKE '%tran%' \n",
    "LIMIT 10;\n",
    "'''\n",
    "curs.execute(sql)\n",
    "curs.fetchall()"
   ]
  },
  {
   "cell_type": "code",
   "execution_count": null,
   "metadata": {},
   "outputs": [],
   "source": [
    "sql = '''\n",
    "SELECT * FROM gene_ontology \n",
    "WHERE term IN ('viral protein processing', 'viral transcription');\n",
    "'''\n",
    "curs.execute(sql)\n",
    "curs.fetchall()"
   ]
  },
  {
   "cell_type": "code",
   "execution_count": null,
   "metadata": {},
   "outputs": [],
   "source": [
    "sql = '''\n",
    "SELECT * FROM gene_ontology \n",
    "WHERE term LIKE '%stranded%';\n",
    "'''\n",
    "curs.execute(sql)\n",
    "curs.fetchall()"
   ]
  },
  {
   "cell_type": "code",
   "execution_count": null,
   "metadata": {},
   "outputs": [],
   "source": [
    "sql = '''\n",
    "SELECT pfamA_acc, type, model_length FROM pfamA \n",
    "WHERE model_length BETWEEN 400 AND 410;\n",
    "'''\n",
    "curs.execute(sql)\n",
    "curs.fetchall()"
   ]
  },
  {
   "cell_type": "markdown",
   "metadata": {},
   "source": [
    "Sqlite3 also has some PRAGMA methods <br>\n",
    "SQL extension specific to SQLite and used to modify the operation of the SQLite library or to query the SQLite library for internal (non-table) data <br>\n",
    "https://www.sqlite.org/pragma.html <br>\n",
    "The code below shows how to get the schema (columns and columns information)"
   ]
  },
  {
   "cell_type": "code",
   "execution_count": null,
   "metadata": {},
   "outputs": [],
   "source": [
    "sql = 'PRAGMA table_info(\"interpro\")'\n",
    "curs.execute(sql)\n",
    "curs.fetchall()"
   ]
  },
  {
   "cell_type": "code",
   "execution_count": null,
   "metadata": {},
   "outputs": [],
   "source": [
    "sql = '''SELECT * FROM pragma_table_info(\"interpro\")  '''\n",
    "curs.execute(sql)\n",
    "curs.fetchall()"
   ]
  },
  {
   "cell_type": "markdown",
   "metadata": {},
   "source": [
    "Conect to the Ensembl database MySQL <br>\n",
    "conda install pymysql"
   ]
  },
  {
   "cell_type": "code",
   "execution_count": null,
   "metadata": {},
   "outputs": [],
   "source": [
    "from pymysql import connect\n",
    "conn =connect(host='ensembldb.ensembl.org', user='anonymous',  port=5306, db = \"saccharomyces_cerevisiae_core_94_4\")\n",
    "curs = conn.cursor()\n",
    "sql = \"show tables\""
   ]
  },
  {
   "cell_type": "code",
   "execution_count": null,
   "metadata": {},
   "outputs": [],
   "source": [
    "curs.execute(sql)\n",
    "for (table_name,) in curs: \n",
    "    print(table_name)"
   ]
  },
  {
   "cell_type": "code",
   "execution_count": null,
   "metadata": {},
   "outputs": [],
   "source": [
    "curs.close()\n",
    "conn.close()"
   ]
  },
  {
   "cell_type": "markdown",
   "metadata": {},
   "source": [
    "GROUP BY groups by a column and creates summary data for a different column"
   ]
  },
  {
   "cell_type": "code",
   "execution_count": null,
   "metadata": {},
   "outputs": [],
   "source": [
    "sql = '''\n",
    "SELECT type, count(*) FROM pfamA GROUP BY type;\n",
    "'''\n",
    "curs.execute(sql)\n",
    "curs.fetchall()"
   ]
  },
  {
   "cell_type": "code",
   "execution_count": null,
   "metadata": {},
   "outputs": [],
   "source": [
    "sql = '''\n",
    "SELECT type, count(type) FROM pfamA GROUP BY type;\n",
    "'''\n",
    "curs.execute(sql)\n",
    "curs.fetchall()"
   ]
  },
  {
   "cell_type": "markdown",
   "metadata": {},
   "source": [
    "HAVING allows restrictions on the rows used or selected"
   ]
  },
  {
   "cell_type": "code",
   "execution_count": null,
   "metadata": {},
   "outputs": [],
   "source": [
    "sql = '''\n",
    "SELECT type, count(type) FROM pfamA GROUP BY type\n",
    "HAVING count(type)>100;\n",
    "'''\n",
    "curs.execute(sql)\n",
    "curs.fetchall()"
   ]
  },
  {
   "cell_type": "code",
   "execution_count": null,
   "metadata": {},
   "outputs": [],
   "source": [
    "curs.close()\n",
    "conn.close()"
   ]
  },
  {
   "cell_type": "markdown",
   "metadata": {},
   "source": [
    "## SQL 1/II - INSERT, UPDATE, DELETE"
   ]
  },
  {
   "cell_type": "code",
   "execution_count": null,
   "metadata": {},
   "outputs": [],
   "source": [
    "from sqlite3 import connect\n",
    "conn = connect('small_pfam.sqlite')\n",
    "curs = conn.cursor()"
   ]
  },
  {
   "cell_type": "markdown",
   "metadata": {},
   "source": [
    "INSET INTO table"
   ]
  },
  {
   "cell_type": "code",
   "execution_count": null,
   "metadata": {},
   "outputs": [],
   "source": [
    "sql = '''\n",
    "INSERT INTO gene_ontology \n",
    "VALUES ('myPfamId1', 'goid', 'myterm', 'process');\n",
    "'''\n",
    "curs.execute(sql)"
   ]
  },
  {
   "cell_type": "code",
   "execution_count": null,
   "metadata": {},
   "outputs": [],
   "source": [
    "curs.execute('SELECT * FROM gene_ontology WHERE pfamA_acc = \"myPfamId1\"')\n",
    "curs.fetchall()"
   ]
  },
  {
   "cell_type": "markdown",
   "metadata": {},
   "source": [
    "COMMIT - save changes <br>\n",
    "ROLLBACK - return to the state before the previous commit"
   ]
  },
  {
   "cell_type": "code",
   "execution_count": null,
   "metadata": {},
   "outputs": [],
   "source": [
    "conn.rollback()"
   ]
  },
  {
   "cell_type": "code",
   "execution_count": null,
   "metadata": {},
   "outputs": [],
   "source": [
    "curs.execute('SELECT * FROM gene_ontology WHERE pfamA_acc = \"myPfamId1\"')\n",
    "curs.fetchall()"
   ]
  },
  {
   "cell_type": "markdown",
   "metadata": {},
   "source": [
    "Try the bulk import in the command line client: <br>\n",
    "sqlite3 small_pfam.sqlite <br>\n",
    ".import GO_ontology_INSERT.txt gene_ontology\n",
    "\n",
    "Database is locked!!! <br>\n",
    "curs.close() <br>\n",
    "conn.close()\n",
    "\n",
    "sqlite3 small_pfam.sqlite <br>\n",
    ".import GO_ontology_INSERT.txt gene_ontology <br>\n",
    "SELECT * FROM gene_ontology WHERE pfamA_acc = \"myPfamId0\" <br>\n",
    ".q\n",
    "\n",
    "from sqlite3 import connect <br>\n",
    "conn = connect('pfam.sqlite') <br>\n",
    "curs = conn.cursor()\n"
   ]
  },
  {
   "cell_type": "markdown",
   "metadata": {},
   "source": [
    "INSERT  a row by giving the value for each column"
   ]
  },
  {
   "cell_type": "code",
   "execution_count": null,
   "metadata": {},
   "outputs": [],
   "source": [
    "sql = '''\n",
    "INSERT INTO gene_ontology \n",
    "VALUES ('myPfamId1', 'goid', 'myterm', 'process');\n",
    "'''\n",
    "curs.execute(sql)\n",
    "conn.commit()"
   ]
  },
  {
   "cell_type": "code",
   "execution_count": null,
   "metadata": {},
   "outputs": [],
   "source": [
    "curs.execute('SELECT * FROM gene_ontology WHERE pfamA_acc = \"myPfamId1\"')\n",
    "curs.fetchall()"
   ]
  },
  {
   "cell_type": "code",
   "execution_count": null,
   "metadata": {},
   "outputs": [],
   "source": [
    "conn.commit()"
   ]
  },
  {
   "cell_type": "code",
   "execution_count": null,
   "metadata": {},
   "outputs": [],
   "source": [
    "curs.execute('SELECT * FROM gene_ontology WHERE pfamA_acc = \"myPfamId1\"')\n",
    "curs.fetchall()"
   ]
  },
  {
   "cell_type": "markdown",
   "metadata": {},
   "source": [
    "INSERT  a row by expecting a specific number of values"
   ]
  },
  {
   "cell_type": "code",
   "execution_count": null,
   "metadata": {},
   "outputs": [],
   "source": [
    "sql='''INSERT INTO gene_ontology VALUES(?,?,?,?);'''\n",
    "vals = ['myPfamId2', 'goid2', 'myterm2', 'process']\n",
    "curs.execute(sql, vals)\n",
    "conn.commit()"
   ]
  },
  {
   "cell_type": "code",
   "execution_count": null,
   "metadata": {},
   "outputs": [],
   "source": [
    "sql = '''SELECT * FROM gene_ontology \n",
    "WHERE pfamA_acc = 'myPfamId2';'''\n",
    "curs.execute(sql)\n",
    "for row in curs: print(row)"
   ]
  },
  {
   "cell_type": "markdown",
   "metadata": {},
   "source": [
    "INSERT 'BULK' (multiple rows) with executemany "
   ]
  },
  {
   "cell_type": "code",
   "execution_count": null,
   "metadata": {},
   "outputs": [],
   "source": [
    "sql='''INSERT INTO gene_ontology VALUES(?,?,?,?);'''\n",
    "tbl=[['myPfamId2', 'goid3', 'myterm3', 'process'],\n",
    "['myPfamId2', 'goid4', 'myterm4', 'process']]\n",
    "curs.executemany(sql, tbl)\n",
    "conn.commit()"
   ]
  },
  {
   "cell_type": "code",
   "execution_count": null,
   "metadata": {},
   "outputs": [],
   "source": [
    "sql = '''SELECT * FROM gene_ontology \n",
    "WHERE pfamA_acc = 'myPfamId2';'''\n",
    "curs.execute(sql)\n",
    "for row in curs: print(row)"
   ]
  },
  {
   "cell_type": "markdown",
   "metadata": {},
   "source": [
    "DELETE ... WHERE - specific condition"
   ]
  },
  {
   "cell_type": "code",
   "execution_count": null,
   "metadata": {},
   "outputs": [],
   "source": [
    "sql = '''SELECT count(*) FROM gene_ontology;'''\n",
    "curs.execute(sql)\n",
    "for row in curs: print(row)"
   ]
  },
  {
   "cell_type": "code",
   "execution_count": null,
   "metadata": {},
   "outputs": [],
   "source": [
    "sql = '''DELETE FROM gene_ontology WHERE category = 'process';'''\n",
    "curs.execute(sql)"
   ]
  },
  {
   "cell_type": "code",
   "execution_count": null,
   "metadata": {},
   "outputs": [],
   "source": [
    "sql = '''SELECT count(*) FROM gene_ontology;'''\n",
    "curs.execute(sql)\n",
    "for row in curs: print(row)"
   ]
  },
  {
   "cell_type": "code",
   "execution_count": null,
   "metadata": {},
   "outputs": [],
   "source": [
    "conn.rollback()"
   ]
  },
  {
   "cell_type": "code",
   "execution_count": null,
   "metadata": {},
   "outputs": [],
   "source": [
    "sql = '''SELECT count(*) FROM gene_ontology;'''\n",
    "curs.execute(sql)\n",
    "for row in curs: print(row)"
   ]
  },
  {
   "cell_type": "markdown",
   "metadata": {},
   "source": [
    "DELETE - all - no condition"
   ]
  },
  {
   "cell_type": "code",
   "execution_count": null,
   "metadata": {},
   "outputs": [],
   "source": [
    "sql = '''DELETE FROM gene_ontology;'''\n",
    "curs.execute(sql)"
   ]
  },
  {
   "cell_type": "code",
   "execution_count": null,
   "metadata": {},
   "outputs": [],
   "source": [
    "sql = '''SELECT count(*) FROM gene_ontology;'''\n",
    "curs.execute(sql)\n",
    "for row in curs: print(row)"
   ]
  },
  {
   "cell_type": "code",
   "execution_count": null,
   "metadata": {},
   "outputs": [],
   "source": [
    "conn.rollback()"
   ]
  },
  {
   "cell_type": "code",
   "execution_count": null,
   "metadata": {},
   "outputs": [],
   "source": [
    "sql = '''SELECT count(*) FROM gene_ontology;'''\n",
    "curs.execute(sql)\n",
    "for row in curs: print(row)"
   ]
  },
  {
   "cell_type": "markdown",
   "metadata": {},
   "source": [
    "DROP TABLE <table_name> removes the table PERMANENTLY!"
   ]
  },
  {
   "cell_type": "code",
   "execution_count": null,
   "metadata": {},
   "outputs": [],
   "source": [
    "sql = '''\n",
    "SELECT name FROM sqlite_master WHERE type='table' AND name='gene_ontology';\n",
    "'''\n",
    "curs.execute(sql)\n",
    "curs.fetchall()"
   ]
  },
  {
   "cell_type": "code",
   "execution_count": null,
   "metadata": {},
   "outputs": [],
   "source": [
    "sql = '''DROP TABLE gene_ontology;'''\n",
    "curs.execute(sql)"
   ]
  },
  {
   "cell_type": "code",
   "execution_count": null,
   "metadata": {},
   "outputs": [],
   "source": [
    "curs.execute('SELECT * FROM gene_ontology')"
   ]
  },
  {
   "cell_type": "code",
   "execution_count": null,
   "metadata": {},
   "outputs": [],
   "source": [
    "conn.rollback()"
   ]
  },
  {
   "cell_type": "code",
   "execution_count": null,
   "metadata": {},
   "outputs": [],
   "source": [
    "curs.execute('SELECT * FROM gene_ontology')"
   ]
  },
  {
   "cell_type": "code",
   "execution_count": null,
   "metadata": {},
   "outputs": [],
   "source": [
    "sql = '''\n",
    "SELECT name FROM sqlite_master WHERE type='table' AND name='gene_ontology';\n",
    "'''\n",
    "curs.execute(sql)\n",
    "curs.fetchall()"
   ]
  },
  {
   "cell_type": "markdown",
   "metadata": {},
   "source": [
    "RESTORE table using CREATE TABLE and values from file"
   ]
  },
  {
   "cell_type": "code",
   "execution_count": null,
   "metadata": {},
   "outputs": [],
   "source": [
    "sourceFile = 'gene_ontology.txt'\n",
    "print('CREATE gene_ontology')\n",
    "\n",
    "sql = '''CREATE TABLE gene_ontology (\n",
    "pfamA_acc TEXT NOT NULL,\n",
    "go_id TEXT NOT NULL,\n",
    "term TEXT NOT NULL,\n",
    "category TEXT NOT NULL,\n",
    "FOREIGN KEY(pfamA_acc) REFERENCES pfamA(pfamA_acc));'''\n",
    "curs.execute(sql)\n",
    "print('DONE')\n",
    "\n",
    "print('Loading gene_ontology')\n",
    "sql = '''INSERT INTO gene_ontology VALUES (?,?,?,?);'''\n",
    "infile = open(sourceFile, encoding='utf8')\n",
    "for line in infile:\n",
    "    fields = line.rstrip('\\n').split('\\t')\n",
    "    curs.execute(sql, fields)\n",
    "infile.close()\n",
    "conn.commit()\n",
    "print('DONE')\n",
    "\n",
    "print('Indexing gene_ontology')\n",
    "sql = '''CREATE INDEX gene_ontology_pfamA_acc_idx\n",
    "ON gene_ontology(pfamA_acc);\n",
    "'''\n",
    "curs.execute(sql)\n",
    "conn.commit()\n",
    "\n",
    "sql = '''CREATE INDEX gene_ontology_go_id_idx\n",
    "ON gene_ontology(go_id);'''\n",
    "curs.execute(sql)\n",
    "conn.commit()\n",
    "print('DONE')\n"
   ]
  },
  {
   "cell_type": "code",
   "execution_count": null,
   "metadata": {},
   "outputs": [],
   "source": [
    "sql = '''\n",
    "SELECT name FROM sqlite_master WHERE type='table' AND name='gene_ontology';\n",
    "'''\n",
    "curs.execute(sql)\n",
    "curs.fetchall()"
   ]
  },
  {
   "cell_type": "markdown",
   "metadata": {},
   "source": [
    "RESTORE table from database copy"
   ]
  },
  {
   "cell_type": "code",
   "execution_count": null,
   "metadata": {},
   "outputs": [],
   "source": [
    "sql = '''DROP TABLE gene_ontology;'''\n",
    "curs.execute(sql)"
   ]
  },
  {
   "cell_type": "code",
   "execution_count": null,
   "metadata": {},
   "outputs": [],
   "source": [
    "sql = '''\n",
    "SELECT name FROM sqlite_master WHERE type='table' AND name='gene_ontology';\n",
    "'''\n",
    "curs.execute(sql)\n",
    "curs.fetchall()"
   ]
  },
  {
   "cell_type": "code",
   "execution_count": null,
   "metadata": {},
   "outputs": [],
   "source": [
    "sql = '''ATTACH 'small_pfam_nochange.sqlite' as master;'''\n",
    "curs.execute(sql)\n",
    "sql = '''CREATE TABLE gene_ontology as select * FROM master.gene_ontology;'''\n",
    "curs.execute(sql)\n",
    "conn.commit()\n",
    "sql = '''DETACH master;'''\n",
    "curs.execute(sql)\n"
   ]
  },
  {
   "cell_type": "code",
   "execution_count": null,
   "metadata": {},
   "outputs": [],
   "source": [
    "sql = '''SELECT count(*) FROM gene_ontology;'''\n",
    "curs.execute(sql)\n",
    "curs.fetchall()"
   ]
  },
  {
   "cell_type": "markdown",
   "metadata": {},
   "source": [
    "UPDATE modifies EXISTING data in all rows matching the WHERE clause "
   ]
  },
  {
   "cell_type": "code",
   "execution_count": null,
   "metadata": {},
   "outputs": [],
   "source": [
    "sql = '''SELECT * FROM gene_ontology WHERE pfamA_acc = 'myPfamId1';'''\n",
    "curs.execute(sql)\n",
    "curs.fetchall()"
   ]
  },
  {
   "cell_type": "code",
   "execution_count": null,
   "metadata": {},
   "outputs": [],
   "source": [
    "sql = '''INSERT INTO gene_ontology \n",
    "VALUES ('myPfamId1', 'goid', 'myterm', 'process');'''\n",
    "curs.execute(sql)"
   ]
  },
  {
   "cell_type": "code",
   "execution_count": null,
   "metadata": {},
   "outputs": [],
   "source": [
    "sql = '''SELECT * FROM gene_ontology WHERE pfamA_acc = 'myPfamId1';'''\n",
    "curs.execute(sql)\n",
    "curs.fetchall()"
   ]
  },
  {
   "cell_type": "code",
   "execution_count": null,
   "metadata": {},
   "outputs": [],
   "source": [
    "sql = '''UPDATE gene_ontology SET category = 'function'\n",
    "WHERE pfamA_acc='myPfamId1' AND go_id='goid' AND term='myterm';'''\n",
    "curs.execute(sql)\n",
    "curs.fetchall()"
   ]
  },
  {
   "cell_type": "code",
   "execution_count": null,
   "metadata": {},
   "outputs": [],
   "source": [
    "sql = '''SELECT * FROM gene_ontology WHERE pfamA_acc = 'myPfamId1';'''\n",
    "curs.execute(sql)\n",
    "curs.fetchall()"
   ]
  },
  {
   "cell_type": "markdown",
   "metadata": {},
   "source": [
    "ALTER TABLE can ADD, MODIFY and DROP attributes like columns and keys"
   ]
  },
  {
   "cell_type": "code",
   "execution_count": null,
   "metadata": {},
   "outputs": [],
   "source": [
    "sql = '''\n",
    "ALTER TABLE gene_ontology ADD COLUMN alt_description varchar(255);\n",
    "'''\n",
    "curs.execute(sql)\n",
    "curs.fetchall()"
   ]
  },
  {
   "cell_type": "code",
   "execution_count": null,
   "metadata": {},
   "outputs": [],
   "source": [
    "sql = '''SELECT * FROM gene_ontology WHERE pfamA_acc = 'myPfamId1';'''\n",
    "curs.execute(sql)\n",
    "curs.description"
   ]
  },
  {
   "cell_type": "markdown",
   "metadata": {},
   "source": [
    "ALTER TABLE can change column names or datatypes (when empty), or add constraints"
   ]
  },
  {
   "cell_type": "code",
   "execution_count": null,
   "metadata": {},
   "outputs": [],
   "source": [
    "sql = '''\n",
    "ALTER TABLE gene_ontology RENAME TO alt_gene_ontology;\n",
    "'''\n",
    "curs.execute(sql)\n",
    "curs.fetchall()"
   ]
  },
  {
   "cell_type": "code",
   "execution_count": null,
   "metadata": {},
   "outputs": [],
   "source": [
    "sql = 'SELECT name FROM sqlite_master WHERE type = \"table\";'\n",
    "curs.execute(sql)\n",
    "for row in curs: print(row)"
   ]
  },
  {
   "cell_type": "code",
   "execution_count": null,
   "metadata": {},
   "outputs": [],
   "source": [
    "curs.close()\n",
    "conn.close()"
   ]
  },
  {
   "cell_type": "markdown",
   "metadata": {},
   "source": [
    "## SQL III - database design - create table, keys, views"
   ]
  },
  {
   "cell_type": "code",
   "execution_count": null,
   "metadata": {},
   "outputs": [],
   "source": [
    "from sqlite3 import connect\n",
    "conn = connect('small_pfam.sqlite')\n",
    "curs = conn.cursor()"
   ]
  },
  {
   "cell_type": "markdown",
   "metadata": {},
   "source": [
    "See the SQL statement to create the table"
   ]
  },
  {
   "cell_type": "code",
   "execution_count": null,
   "metadata": {},
   "outputs": [],
   "source": [
    "sql = 'SELECT sql FROM sqlite_master WHERE name = \"pfamA_interactions\";'\n",
    "curs.execute(sql)\n",
    "for row in curs: print(row)"
   ]
  },
  {
   "cell_type": "markdown",
   "metadata": {},
   "source": [
    "See the indices in a database"
   ]
  },
  {
   "cell_type": "code",
   "execution_count": null,
   "metadata": {},
   "outputs": [],
   "source": [
    "sql = 'SELECT name FROM sqlite_master WHERE type = \"index\";'\n",
    "curs.execute(sql)\n",
    "for row in curs: print(row)"
   ]
  },
  {
   "cell_type": "markdown",
   "metadata": {},
   "source": [
    "GROUP BY the foreign key"
   ]
  },
  {
   "cell_type": "code",
   "execution_count": null,
   "metadata": {},
   "outputs": [],
   "source": [
    "sql = '''\n",
    "SELECT pfamA_acc_A, count(*)\n",
    "FROM pfamA_interactions\n",
    "GROUP BY pfamA_acc_A\n",
    "ORDER BY count(*) DESC\n",
    "LIMIT 10;\n",
    "'''\n",
    "curs.execute(sql)\n",
    "for row in curs: print(row)\n"
   ]
  },
  {
   "cell_type": "markdown",
   "metadata": {},
   "source": [
    "JOIN ON the foreign key"
   ]
  },
  {
   "cell_type": "code",
   "execution_count": null,
   "metadata": {},
   "outputs": [],
   "source": [
    "sql = '''\n",
    "SELECT pfamA_acc_A, pfamA_acc_B, pfamA.pfamA_id, pfamA.description\n",
    "FROM pfamA_interactions\n",
    "JOIN pfamA ON pfamA_acc_B = pfamA.pfamA_acc\n",
    "WHERE pfamA_interactions.pfamA_acc_A  =  'PF00271';\n",
    "'''\n",
    "curs.execute(sql)\n",
    "for row in curs: print(row)\n"
   ]
  },
  {
   "cell_type": "markdown",
   "metadata": {},
   "source": [
    "CREATE/DROP VIEW "
   ]
  },
  {
   "cell_type": "code",
   "execution_count": null,
   "metadata": {},
   "outputs": [],
   "source": [
    "sql = '''\n",
    "CREATE VIEW pfamA_GO AS \n",
    "SELECT pf.pfamA_acc 'Protein_Family_Accession',  pf.description 'Protein_Family_Description', \n",
    "pf.type 'Protein_Family_Type', \n",
    "go.term 'Gene_Ontology_Term',\n",
    "go.category 'Gene_Ontology_Category'\n",
    "FROM pfamA pf JOIN gene_ontology go \n",
    "ON (pf.pfamA_acc=go.pfamA_acc);\n",
    "'''\n",
    "curs.execute(sql)\n",
    "for row in curs: print(row)\n",
    "conn.commit()"
   ]
  },
  {
   "cell_type": "code",
   "execution_count": null,
   "metadata": {},
   "outputs": [],
   "source": [
    "sql = '''\n",
    "SELECT * FROM pfamA_GO \n",
    "LIMIT 10\n",
    "'''\n",
    "curs.execute(sql)\n",
    "for row in curs: print(row)"
   ]
  },
  {
   "cell_type": "code",
   "execution_count": null,
   "metadata": {},
   "outputs": [],
   "source": [
    "sql = '''\n",
    "DROP VIEW pfamA_GO \n",
    "'''\n",
    "curs.execute(sql)\n",
    "conn.commit()"
   ]
  },
  {
   "cell_type": "code",
   "execution_count": null,
   "metadata": {},
   "outputs": [],
   "source": [
    "curs.close()\n",
    "conn.close()"
   ]
  },
  {
   "cell_type": "markdown",
   "metadata": {},
   "source": [
    "## SQL IV - index, join, regular expressions"
   ]
  },
  {
   "cell_type": "code",
   "execution_count": null,
   "metadata": {},
   "outputs": [],
   "source": [
    "from sqlite3 import connect\n",
    "conn = connect('small_pfam.sqlite')\n",
    "curs = conn.cursor()"
   ]
  },
  {
   "cell_type": "markdown",
   "metadata": {},
   "source": [
    "See the indices in the database"
   ]
  },
  {
   "cell_type": "code",
   "execution_count": null,
   "metadata": {},
   "outputs": [],
   "source": [
    "sql = 'SELECT name FROM sqlite_master WHERE type = \"index\";'\n",
    "curs.execute(sql)\n",
    "for row in curs: print(row)"
   ]
  },
  {
   "cell_type": "markdown",
   "metadata": {},
   "source": [
    "CREATE INDEX ON statement - creates an index on table column(s)"
   ]
  },
  {
   "cell_type": "code",
   "execution_count": null,
   "metadata": {},
   "outputs": [],
   "source": [
    "sql = '''\n",
    "CREATE INDEX go_category_idx ON gene_ontology(category);\n",
    "'''\n",
    "curs.execute(sql)\n",
    "conn.commit()"
   ]
  },
  {
   "cell_type": "code",
   "execution_count": null,
   "metadata": {},
   "outputs": [],
   "source": [
    "sql = 'SELECT name FROM sqlite_master WHERE type = \"index\";'\n",
    "curs.execute(sql)\n",
    "for row in curs: print(row)"
   ]
  },
  {
   "cell_type": "markdown",
   "metadata": {},
   "source": [
    "DROP INDEX statement - deletes the index by index name"
   ]
  },
  {
   "cell_type": "code",
   "execution_count": null,
   "metadata": {},
   "outputs": [],
   "source": [
    "sql = '''\n",
    "DROP INDEX go_category_idx;\n",
    "'''\n",
    "curs.execute(sql)\n",
    "conn.commit()"
   ]
  },
  {
   "cell_type": "code",
   "execution_count": null,
   "metadata": {},
   "outputs": [],
   "source": [
    "sql = 'SELECT name FROM sqlite_master WHERE type = \"index\";'\n",
    "curs.execute(sql)\n",
    "for row in curs: print(row)\n",
    "    "
   ]
  },
  {
   "cell_type": "markdown",
   "metadata": {},
   "source": [
    "Regular expression sqlite3"
   ]
  },
  {
   "cell_type": "code",
   "execution_count": null,
   "metadata": {},
   "outputs": [],
   "source": [
    "from re import search, IGNORECASE, MULTILINE, DOTALL\n",
    "def regexp(pattern, strToSearch):\n",
    "    return bool(search(pattern, strToSearch, IGNORECASE|MULTILINE|DOTALL))\n",
    "conn.create_function(\"REGEXP\", 2, regexp)\n",
    "sql = r'''\n",
    "SELECT * FROM gene_ontology\n",
    "WHERE term REGEXP 'transcription.*?(\\Bfactor|initiation)';\n",
    "'''\n",
    "curs.execute(sql)\n",
    "for row in curs: print(row)\n"
   ]
  },
  {
   "cell_type": "code",
   "execution_count": null,
   "metadata": {},
   "outputs": [],
   "source": [
    "sql_template = '''\n",
    "SELECT * FROM gene_ontology\n",
    "WHERE term REGEXP '{}';\n",
    "'''\n",
    "pat=r'phospho[^egf]'\n",
    "sql = sql_template.format(pat)\n",
    "curs.execute(sql)\n",
    "for row in curs: print(row)\n"
   ]
  },
  {
   "cell_type": "markdown",
   "metadata": {},
   "source": [
    "JOIN ON tables <br>\n",
    "The <font color='red'>JOIN ON</font> operation is a part of the <font color='red'>FROM</font> clause. It typically takes the form:<br> \n",
    " <font color='red'>FROM</font> table1 <font color='red'>JOIN</font>  table2 <font color='red'>ON</font> table1.primarykey = table2.foreignkey <br><br>\n",
    "Immediately following <font color='red'>JOIN</font> table2 <font color='red'>ON</font> you specify the condition for the join. <br>\n",
    "Typically, this is the primary key for table1 and the related foreign key in table2.<br><br>\n",
    "This can be extended for multiple tables:<br>\n",
    " <font color='red'>FROM</font> table1 <font color='red'>JOIN</font>  table2 <font color='red'>ON</font> table1.primarykey = table2.foreignkey <font color='red'>JOIN</font> table3 <font color='red'>ON</font> table2.primarykey = table3.foreignkey <br><br>\n",
    "A complete join query looks like:<br>\n",
    " <font color='red'>SELECT</font> column1, column2, ...\n",
    " <font color='red'>FROM</font> table1 <font color='red'>JOIN</font>  table2 <font color='red'>ON</font> table1.primarykey = table2.foreignkey\n",
    " <font color='red'>WHERE</font> some_condition"
   ]
  },
  {
   "cell_type": "code",
   "execution_count": null,
   "metadata": {},
   "outputs": [],
   "source": [
    "sql = '''\n",
    "SELECT pfamA.pfamA_acc, pfamA.type, literature_reference.pmid, literature_reference.author\n",
    "FROM pfamA_literature_reference\n",
    "JOIN pfamA ON pfamA_literature_reference.pfamA_acc = pfamA.pfamA_acc\n",
    "JOIN literature_reference ON pfamA_literature_reference.auto_lit = literature_reference.auto_lit\n",
    "WHERE pfamA.type = 'Coiled-coil';\n",
    "'''\n",
    "curs.execute(sql)\n",
    "for row in curs: print(row)"
   ]
  },
  {
   "cell_type": "markdown",
   "metadata": {},
   "source": [
    "Joins can be expressed without using JOIN ON and relying on the WHERE clause to perform all of the key comparisons <br>\n",
    "The following query is equivalent to the one above <br>\n",
    "https://pfam.xfam.org/help#tabview=tab12"
   ]
  },
  {
   "cell_type": "code",
   "execution_count": null,
   "metadata": {},
   "outputs": [],
   "source": [
    "sql = '''\n",
    "SELECT pfamA.pfamA_acc, pfamA.'type', literature_reference.pmid, literature_reference.author\n",
    "FROM pfamA, pfamA_literature_reference, literature_reference\n",
    "WHERE pfamA.pfamA_acc = pfamA_literature_reference.pfamA_acc\n",
    "AND\n",
    "pfamA_literature_reference.auto_lit = literature_reference.auto_lit\n",
    "AND\n",
    "pfamA.type = 'Coiled-coil';\n",
    "'''\n",
    "curs.execute(sql)\n",
    "for row in curs: print(row)"
   ]
  },
  {
   "cell_type": "markdown",
   "metadata": {},
   "source": [
    "LEFT JOIN"
   ]
  },
  {
   "cell_type": "code",
   "execution_count": null,
   "metadata": {},
   "outputs": [],
   "source": [
    "sql = '''\n",
    "SELECT count(*)\n",
    "FROM pfamA\n",
    "JOIN gene_ontology\n",
    "ON pfamA.pfamA_acc = gene_ontology.pfamA_acc\n",
    "'''\n",
    "curs.execute(sql)\n",
    "for row in curs: print(row)"
   ]
  },
  {
   "cell_type": "code",
   "execution_count": null,
   "metadata": {},
   "outputs": [],
   "source": [
    "sql = '''\n",
    "SELECT count(*)\n",
    "FROM pfamA\n",
    "LEFT JOIN gene_ontology\n",
    "ON pfamA.pfamA_acc = gene_ontology.pfamA_acc\n",
    "'''\n",
    "curs.execute(sql)\n",
    "for row in curs: print(row)"
   ]
  },
  {
   "cell_type": "markdown",
   "metadata": {},
   "source": [
    "TRIGGERS - for data integrity"
   ]
  },
  {
   "cell_type": "code",
   "execution_count": null,
   "metadata": {},
   "outputs": [],
   "source": [
    "#CREATE TABLE\n",
    "\n",
    "sql = '''\n",
    "CREATE TABLE pfamA_extra(\n",
    "Extra_id PRIMARY KEY,\n",
    "pfamA_id text NOT NULL,\n",
    "Extra_info text NOT NULL\n",
    ");\n",
    "'''\n",
    "curs.execute(sql)\n",
    "conn.commit()\n",
    "\n",
    "#CREATE TRIGGER \n",
    "\n",
    "sql = '''\n",
    "CREATE TRIGGER validate_pfam_accession \n",
    "BEFORE INSERT ON pfamA_extra\n",
    "BEGIN \n",
    "SELECT CASE WHEN NEW.pfamA_id NOT LIKE 'PFAM%' THEN RAISE ( ABORT, 'Invalid PFAM accession' ) \n",
    "END;\n",
    "END;\n",
    "'''\n",
    "curs.execute(sql)\n",
    "conn.commit()"
   ]
  },
  {
   "cell_type": "code",
   "execution_count": null,
   "metadata": {},
   "outputs": [],
   "source": [
    "sql = '''\n",
    "INSERT INTO pfamA_extra(Extra_id , pfamA_id , Extra_info)\n",
    "VALUES ( 1, 'test', 'Test trigger' );\n",
    "'''\n",
    "curs.execute(sql)"
   ]
  },
  {
   "cell_type": "code",
   "execution_count": null,
   "metadata": {},
   "outputs": [],
   "source": [
    "sql = '''\n",
    "INSERT INTO pfamA_extra(Extra_id , pfamA_id , Extra_info)\n",
    "VALUES ( 1, 'PFAMtest', 'Test trigger' );\n",
    "'''\n",
    "curs.execute(sql)\n",
    "conn.commit()\n",
    "for row in curs: print(row)"
   ]
  },
  {
   "cell_type": "code",
   "execution_count": null,
   "metadata": {},
   "outputs": [],
   "source": [
    "sql = '''\n",
    "DROP TRIGGER validate_pfam_accession;\n",
    "'''\n",
    "curs.execute(sql)\n",
    "conn.commit()"
   ]
  },
  {
   "cell_type": "code",
   "execution_count": null,
   "metadata": {},
   "outputs": [],
   "source": [
    "curs.close()\n",
    "conn.commit()"
   ]
  }
 ],
 "metadata": {
  "kernelspec": {
   "display_name": "Python 3 (ipykernel)",
   "language": "python",
   "name": "python3"
  },
  "language_info": {
   "codemirror_mode": {
    "name": "ipython",
    "version": 3
   },
   "file_extension": ".py",
   "mimetype": "text/x-python",
   "name": "python",
   "nbconvert_exporter": "python",
   "pygments_lexer": "ipython3",
   "version": "3.9.12"
  }
 },
 "nbformat": 4,
 "nbformat_minor": 4
}
