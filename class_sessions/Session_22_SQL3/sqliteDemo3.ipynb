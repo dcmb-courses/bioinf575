{
 "cells": [
  {
   "cell_type": "markdown",
   "metadata": {},
   "source": [
    "## SQL IV - index, join, regular expressions"
   ]
  },
  {
   "cell_type": "code",
   "execution_count": null,
   "metadata": {},
   "outputs": [],
   "source": [
    "from sqlite3 import connect\n",
    "conn = connect('small_pfam.sqlite')\n",
    "curs = conn.cursor()"
   ]
  },
  {
   "cell_type": "markdown",
   "metadata": {},
   "source": [
    "See the indices in the database"
   ]
  },
  {
   "cell_type": "code",
   "execution_count": null,
   "metadata": {},
   "outputs": [],
   "source": [
    "sql = 'SELECT name FROM sqlite_master WHERE type = \"index\";'\n",
    "curs.execute(sql)\n",
    "for row in curs: print(row)"
   ]
  },
  {
   "cell_type": "markdown",
   "metadata": {},
   "source": [
    "CREATE INDEX ON statement - creates an index on table column(s)"
   ]
  },
  {
   "cell_type": "code",
   "execution_count": null,
   "metadata": {},
   "outputs": [],
   "source": [
    "sql = '''\n",
    "CREATE INDEX go_category_idx ON gene_ontology(category);\n",
    "'''\n",
    "curs.execute(sql)\n",
    "conn.commit()"
   ]
  },
  {
   "cell_type": "code",
   "execution_count": null,
   "metadata": {},
   "outputs": [],
   "source": [
    "sql = 'SELECT name FROM sqlite_master WHERE type = \"index\";'\n",
    "curs.execute(sql)\n",
    "for row in curs: print(row)"
   ]
  },
  {
   "cell_type": "code",
   "execution_count": null,
   "metadata": {},
   "outputs": [],
   "source": [
    "sql = '''SELECT category, term FROM gene_ontology \n",
    "WHERE category = \"process\";'''\n",
    "curs.execute(sql)\n",
    "curs.fetchall()"
   ]
  },
  {
   "cell_type": "markdown",
   "metadata": {},
   "source": [
    "DROP INDEX statement - deletes the index by index name"
   ]
  },
  {
   "cell_type": "code",
   "execution_count": null,
   "metadata": {},
   "outputs": [],
   "source": [
    "sql = '''\n",
    "DROP INDEX go_category_idx;\n",
    "'''\n",
    "curs.execute(sql)\n",
    "conn.commit()"
   ]
  },
  {
   "cell_type": "code",
   "execution_count": null,
   "metadata": {},
   "outputs": [],
   "source": [
    "sql = 'SELECT name FROM sqlite_master WHERE type = \"index\";'\n",
    "curs.execute(sql)\n",
    "for row in curs: print(row)\n",
    "    "
   ]
  },
  {
   "cell_type": "markdown",
   "metadata": {},
   "source": [
    "Regular expression sqlite3"
   ]
  },
  {
   "cell_type": "code",
   "execution_count": null,
   "metadata": {},
   "outputs": [],
   "source": [
    "from re import search, IGNORECASE, MULTILINE, DOTALL\n",
    "def regexp(pattern, strToSearch):\n",
    "    return bool(search(pattern, strToSearch, IGNORECASE|MULTILINE|DOTALL))\n",
    "conn.create_function(\"REGEXP\", 2, regexp)\n",
    "sql = r'''\n",
    "SELECT * FROM gene_ontology\n",
    "WHERE term REGEXP 'transcription.*?(\\Bfactor|initiation)';\n",
    "'''\n",
    "curs.execute(sql)\n",
    "for row in curs: print(row)\n"
   ]
  },
  {
   "cell_type": "code",
   "execution_count": null,
   "metadata": {},
   "outputs": [],
   "source": [
    "sql_template = '''\n",
    "SELECT * FROM gene_ontology\n",
    "WHERE term REGEXP '{}';\n",
    "'''\n",
    "pat=r'phospho[^egf]'\n",
    "sql = sql_template.format(pat)\n",
    "curs.execute(sql)\n",
    "for row in curs: print(row)\n",
    "\n"
   ]
  },
  {
   "cell_type": "markdown",
   "metadata": {},
   "source": [
    "A complete join query looks like:<br>\n",
    " SELECT column1, column2, ...\n",
    " <font color='red'>FROM table1 JOIN table2 ON table1.primarykey = table2.foreignkey </font>\n",
    "<br><br>\n",
    "Immediately following <font color='red'>JOIN</font> table2 <font color='red'>ON</font> you specify the condition for the join. <br>\n",
    "Typically, this is the primary key for table1 and the related foreign key in table2.<br><br>\n",
    "This can be extended for multiple tables:<br>\n",
    "FROM table1 <font color='red'>JOIN</font>  table2 <font color='red'>ON</font> table1.primarykey = table2.foreignkey <font color='red'>JOIN</font> table3 <font color='red'>ON</font> table2.primarykey = table3.foreignkey <br><br>\n"
   ]
  },
  {
   "cell_type": "code",
   "execution_count": null,
   "metadata": {},
   "outputs": [],
   "source": [
    "sql = '''\n",
    "SELECT count(*)\n",
    "FROM pfamA\n",
    "JOIN gene_ontology\n",
    "ON pfamA.pfamA_acc = gene_ontology.pfamA_acc\n",
    "'''\n",
    "curs.execute(sql)\n",
    "for row in curs: print(row)"
   ]
  },
  {
   "cell_type": "code",
   "execution_count": null,
   "metadata": {},
   "outputs": [],
   "source": [
    "sql = '''\n",
    "SELECT pfamA.pfamA_acc, pfamA.type, literature_reference.pmid, literature_reference.author\n",
    "FROM pfamA_literature_reference\n",
    "JOIN pfamA ON pfamA_literature_reference.pfamA_acc = pfamA.pfamA_acc\n",
    "JOIN literature_reference ON pfamA_literature_reference.auto_lit = literature_reference.auto_lit\n",
    "WHERE pfamA.type = 'Coiled-coil';\n",
    "'''\n",
    "curs.execute(sql)\n",
    "for row in curs: print(row)"
   ]
  },
  {
   "cell_type": "markdown",
   "metadata": {},
   "source": [
    "Joins can be expressed without using JOIN ON and relying on the WHERE clause to perform all of the key comparisons <br>\n",
    "The following query is equivalent to the one above <br>\n",
    "https://pfam.xfam.org/help#tabview=tab12"
   ]
  },
  {
   "cell_type": "code",
   "execution_count": null,
   "metadata": {},
   "outputs": [],
   "source": [
    "sql = '''\n",
    "SELECT pfamA.pfamA_acc, pfamA.'type', literature_reference.pmid, literature_reference.author\n",
    "FROM pfamA, pfamA_literature_reference, literature_reference\n",
    "WHERE pfamA.pfamA_acc = pfamA_literature_reference.pfamA_acc\n",
    "AND\n",
    "pfamA_literature_reference.auto_lit = literature_reference.auto_lit\n",
    "AND\n",
    "pfamA.type = 'Coiled-coil';\n",
    "'''\n",
    "curs.execute(sql)\n",
    "for row in curs: print(row)"
   ]
  },
  {
   "cell_type": "markdown",
   "metadata": {},
   "source": [
    "INNER JOIN"
   ]
  },
  {
   "cell_type": "code",
   "execution_count": null,
   "metadata": {},
   "outputs": [],
   "source": [
    "sql = '''\n",
    "SELECT count(*)\n",
    "FROM pfamA\n",
    "JOIN gene_ontology\n",
    "ON pfamA.pfamA_acc = gene_ontology.pfamA_acc\n",
    "'''\n",
    "curs.execute(sql)\n",
    "for row in curs: print(row)"
   ]
  },
  {
   "cell_type": "markdown",
   "metadata": {},
   "source": [
    "LEFT JOIN"
   ]
  },
  {
   "cell_type": "code",
   "execution_count": null,
   "metadata": {},
   "outputs": [],
   "source": [
    "sql = '''\n",
    "SELECT count(*)\n",
    "FROM pfamA\n",
    "LEFT JOIN gene_ontology\n",
    "ON pfamA.pfamA_acc = gene_ontology.pfamA_acc\n",
    "'''\n",
    "curs.execute(sql)\n",
    "for row in curs: print(row)"
   ]
  },
  {
   "cell_type": "markdown",
   "metadata": {},
   "source": [
    "SELF JOIN"
   ]
  },
  {
   "cell_type": "code",
   "execution_count": null,
   "metadata": {},
   "outputs": [],
   "source": [
    "sql = '''SELECT go1.pfamA_acc, go2.pfamA_acc, \n",
    "go1.term, go2.term\n",
    "FROM gene_ontology go1 JOIN gene_ontology go2 \n",
    "ON go1.term=go2.term\n",
    "WHERE go1.pfamA_acc != go2.pfamA_acc\n",
    "'''\n",
    "curs.execute(sql)\n",
    "for row in curs: print(row)"
   ]
  },
  {
   "cell_type": "markdown",
   "metadata": {},
   "source": [
    "CARTEZIAN PRODUCT"
   ]
  },
  {
   "cell_type": "code",
   "execution_count": null,
   "metadata": {},
   "outputs": [],
   "source": [
    "sql = '''SELECT pf.pfamA_acc, go.term \n",
    "FROM pfamA pf JOIN gene_ontology go\n",
    "WHERE pf.pfamA_acc IN ('PF00001','PF00002') \n",
    "AND go.term LIKE 'cofactor%'\n",
    "'''\n",
    "curs.execute(sql)\n",
    "for row in curs: print(row)"
   ]
  },
  {
   "cell_type": "markdown",
   "metadata": {},
   "source": [
    "TRIGGERS - for data integrity"
   ]
  },
  {
   "cell_type": "code",
   "execution_count": null,
   "metadata": {},
   "outputs": [],
   "source": [
    "#CREATE TABLE\n",
    "\n",
    "sql = '''\n",
    "CREATE TABLE pfamA_extra(\n",
    "Extra_id PRIMARY KEY,\n",
    "pfamA_id text NOT NULL,\n",
    "Extra_info text NOT NULL\n",
    ");\n",
    "'''\n",
    "curs.execute(sql)\n",
    "conn.commit()\n",
    "\n",
    "#CREATE TRIGGER \n",
    "\n",
    "sql = '''\n",
    "CREATE TRIGGER validate_pfam_accession \n",
    "BEFORE INSERT ON pfamA_extra\n",
    "BEGIN \n",
    "SELECT CASE WHEN NEW.pfamA_id NOT LIKE 'PFAM%' THEN RAISE ( ABORT, 'Invalid PFAM accession' ) \n",
    "END;\n",
    "END;\n",
    "'''\n",
    "curs.execute(sql)\n",
    "conn.commit()"
   ]
  },
  {
   "cell_type": "code",
   "execution_count": null,
   "metadata": {},
   "outputs": [],
   "source": [
    "sql = '''\n",
    "INSERT INTO pfamA_extra(Extra_id , pfamA_id , Extra_info)\n",
    "VALUES ( 1, 'test', 'Test trigger' );\n",
    "'''\n",
    "curs.execute(sql)"
   ]
  },
  {
   "cell_type": "code",
   "execution_count": null,
   "metadata": {},
   "outputs": [],
   "source": [
    "sql = '''\n",
    "INSERT INTO pfamA_extra(Extra_id , pfamA_id , Extra_info)\n",
    "VALUES ( 1, 'PFAMtest', 'Test trigger' );\n",
    "'''\n",
    "curs.execute(sql)\n",
    "conn.commit()\n",
    "for row in curs: print(row)"
   ]
  },
  {
   "cell_type": "code",
   "execution_count": null,
   "metadata": {},
   "outputs": [],
   "source": [
    "sql = '''\n",
    "DROP TRIGGER validate_pfam_accession;\n",
    "'''\n",
    "curs.execute(sql)\n",
    "conn.commit()"
   ]
  },
  {
   "cell_type": "markdown",
   "metadata": {},
   "source": [
    "Join Exercises<br>\n",
    "• For protein families find all the literature references<br>\n",
    "– Hint: use tables pfamA, literature_reference and pfamA_literature_reference<br>\n",
    "• For each protein family list the database links, GO category and GO terms<br>\n",
    "– Hint: use tables pfamA, gene_ontology and database_links"
   ]
  },
  {
   "cell_type": "code",
   "execution_count": null,
   "metadata": {},
   "outputs": [],
   "source": []
  },
  {
   "cell_type": "code",
   "execution_count": null,
   "metadata": {},
   "outputs": [],
   "source": [
    "curs.close()\n",
    "conn.commit()"
   ]
  }
 ],
 "metadata": {
  "kernelspec": {
   "display_name": "Python 3 (ipykernel)",
   "language": "python",
   "name": "python3"
  },
  "language_info": {
   "codemirror_mode": {
    "name": "ipython",
    "version": 3
   },
   "file_extension": ".py",
   "mimetype": "text/x-python",
   "name": "python",
   "nbconvert_exporter": "python",
   "pygments_lexer": "ipython3",
   "version": "3.9.12"
  }
 },
 "nbformat": 4,
 "nbformat_minor": 4
}
