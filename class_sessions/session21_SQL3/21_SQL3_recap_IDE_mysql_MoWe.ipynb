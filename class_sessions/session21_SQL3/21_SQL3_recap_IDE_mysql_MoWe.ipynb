{
 "cells": [
  {
   "cell_type": "markdown",
   "metadata": {},
   "source": [
    "## SQL - Major SQL commands - sqlite recap and DBeaver and mysql\n",
    "### BIOINF 575 - Fall 2023"
   ]
  },
  {
   "cell_type": "markdown",
   "metadata": {
    "tags": []
   },
   "source": [
    "#### Guidelines for database design:\n",
    "\n",
    "* Normalization is the process of creating or re-arranging data relationships so that it will be easy to store and retrieve data efficiently.  Data is normalized to achieve the following goals: \n",
    "    * Eliminate data redundancies and save space \n",
    "    * Make it easier to change data \n",
    "    * Simplify the enforcement of referential integrity constraints \n",
    "    * Produce a design that is a 'good' representation of the real world (one that is intuitively easy to understand and a good base for further growth)\n",
    "\n",
    "    * Make it easier to change data by avoiding to provide multiple values separated by commas in a column\n",
    "    * All columns in a table should depend on the primary key, all extra related information should be in other tables linked by foreign keys\n",
    "\n",
    "https://support.microsoft.com/en-us/help/283878/description-of-the-database-normalization-basics"
   ]
  },
  {
   "cell_type": "markdown",
   "metadata": {},
   "source": [
    "##### RESOURCES\n",
    "https://dev.mysql.com/doc/refman/8.0/en/         \n",
    "https://www.w3schools.com/mysql/mysql_create_table.asp          \n",
    "https://www.mysqltutorial.org/mysql-sample-database.aspx       \n",
    "https://www.tutorialspoint.com/mysql/index.htm    \n",
    "https://realpython.com/python-mysql/\n",
    "\n",
    "\n"
   ]
  },
  {
   "cell_type": "markdown",
   "metadata": {},
   "source": [
    "https://dev.mysql.com/doc/refman/8.0/en/examples.html\n",
    "\n",
    "#### Connect to the database\n",
    "\n",
    "```mysql your-database-name```\n",
    "\n",
    "#### Create a table and add data, then select data from the table\n",
    "\n",
    "```sql\n",
    "CREATE TABLE shop (\n",
    "    article INT UNSIGNED  DEFAULT '0000' NOT NULL,\n",
    "    dealer  CHAR(20)      DEFAULT ''     NOT NULL,\n",
    "    price   DECIMAL(16,2) DEFAULT '0.00' NOT NULL,\n",
    "    PRIMARY KEY(article, dealer));\n",
    "\n",
    "INSERT INTO shop VALUES\n",
    "    (1,'A',3.45),(1,'B',3.99),(2,'A',10.99),(3,'B',1.45),\n",
    "    (3,'C',1.69),(3,'D',1.25),(4,'D',19.95);\n",
    "    \n",
    "SELECT * FROM shop ORDER BY article;\n",
    "\n",
    "```\n",
    "\n",
    "\n",
    "| article   | dealer   | price   |\n",
    "| --------- |--------  | ------- |\n",
    "|       1   | A        |  3.45   |\n",
    "|       1   | B        |  3.99   |\n",
    "|       2   | A        | 10.99   |\n",
    "|       3   | B        |  1.45   |\n",
    "|       3   | C        |  1.69   |\n",
    "|       3   | D        |  1.25   |\n",
    "|       4   | D        | 19.95   |\n",
    "\n",
    "#### Examples of common querries\n",
    "\n",
    "https://dev.mysql.com/doc/refman/8.0/en/examples.html"
   ]
  },
  {
   "cell_type": "code",
   "execution_count": null,
   "metadata": {},
   "outputs": [],
   "source": [
    "### install pymysql using the following command in a terminal:\n",
    "# conda install pymysql"
   ]
  },
  {
   "cell_type": "code",
   "execution_count": 1,
   "metadata": {},
   "outputs": [],
   "source": [
    "from pymysql import connect\n",
    "\n",
    "#Create a connection object\n",
    "conn =connect(host='ensembldb.ensembl.org', user='anonymous',  port=5306, db = \"saccharomyces_cerevisiae_core_94_4\")\n"
   ]
  },
  {
   "cell_type": "code",
   "execution_count": 2,
   "metadata": {
    "tags": []
   },
   "outputs": [
    {
     "name": "stdout",
     "output_type": "stream",
     "text": [
      "alt_allele\n",
      "alt_allele_attrib\n",
      "alt_allele_group\n",
      "analysis\n",
      "analysis_description\n",
      "assembly\n",
      "assembly_exception\n",
      "associated_group\n",
      "associated_xref\n",
      "attrib_type\n",
      "biotype\n",
      "coord_system\n",
      "data_file\n",
      "density_feature\n",
      "density_type\n",
      "dependent_xref\n",
      "ditag\n",
      "ditag_feature\n",
      "dna\n",
      "dna_align_feature\n",
      "dna_align_feature_attrib\n",
      "exon\n",
      "exon_transcript\n",
      "external_db\n",
      "external_synonym\n",
      "gene\n",
      "gene_archive\n",
      "gene_attrib\n",
      "genome_statistics\n",
      "identity_xref\n",
      "interpro\n",
      "intron_supporting_evidence\n",
      "karyotype\n",
      "map\n",
      "mapping_session\n",
      "mapping_set\n",
      "marker\n",
      "marker_feature\n",
      "marker_map_location\n",
      "marker_synonym\n",
      "meta\n",
      "meta_coord\n",
      "misc_attrib\n",
      "misc_feature\n",
      "misc_feature_misc_set\n",
      "misc_set\n",
      "object_xref\n",
      "ontology_xref\n",
      "operon\n",
      "operon_transcript\n",
      "operon_transcript_gene\n",
      "peptide_archive\n",
      "prediction_exon\n",
      "prediction_transcript\n",
      "protein_align_feature\n",
      "protein_feature\n",
      "repeat_consensus\n",
      "repeat_feature\n",
      "seq_region\n",
      "seq_region_attrib\n",
      "seq_region_mapping\n",
      "seq_region_synonym\n",
      "simple_feature\n",
      "stable_id_event\n",
      "supporting_feature\n",
      "transcript\n",
      "transcript_attrib\n",
      "transcript_intron_supporting_evidence\n",
      "transcript_supporting_feature\n",
      "translation\n",
      "translation_attrib\n",
      "unmapped_object\n",
      "unmapped_reason\n",
      "xref\n"
     ]
    }
   ],
   "source": [
    "# May need a password: password = 'password'\n",
    "# Can request specific database: db = 'database'\n",
    "# Get a cursor – it sends SQL statements and receives responses\n",
    "cursor = conn.cursor()\n",
    "sql = \"show tables\"\n",
    "cursor.execute(sql)\n",
    "for (table_name,) in cursor: \n",
    "    print(table_name) \n",
    "\n",
    "#Do your queries, work with responses\n",
    "\n"
   ]
  },
  {
   "cell_type": "code",
   "execution_count": 4,
   "metadata": {
    "tags": []
   },
   "outputs": [
    {
     "data": {
      "text/plain": [
       "((7036,),)"
      ]
     },
     "execution_count": 4,
     "metadata": {},
     "output_type": "execute_result"
    }
   ],
   "source": [
    "select_genes = \"\"\"\n",
    "SELECT count(*) \n",
    "FROM gene;\n",
    "\"\"\"\n",
    "\n",
    "cursor.execute(select_genes)\n",
    "cursor.fetchall()"
   ]
  },
  {
   "cell_type": "code",
   "execution_count": 5,
   "metadata": {},
   "outputs": [
    {
     "data": {
      "text/plain": [
       "(35593,\n",
       " 'protein_coding',\n",
       " 501,\n",
       " 28,\n",
       " 289445,\n",
       " 290350,\n",
       " 1,\n",
       " None,\n",
       " 'sgd',\n",
       " None,\n",
       " 1,\n",
       " 35593,\n",
       " 'YBR024W',\n",
       " None,\n",
       " datetime.datetime(2018, 3, 28, 9, 28, 5),\n",
       " datetime.datetime(2018, 3, 28, 9, 28, 5))"
      ]
     },
     "execution_count": 5,
     "metadata": {},
     "output_type": "execute_result"
    }
   ],
   "source": [
    "select_genes = \"\"\"\n",
    "SELECT *\n",
    "FROM gene;\n",
    "\"\"\"\n",
    "\n",
    "cursor.execute(select_genes)\n",
    "cursor.fetchone()"
   ]
  },
  {
   "cell_type": "code",
   "execution_count": 6,
   "metadata": {
    "tags": []
   },
   "outputs": [
    {
     "data": {
      "text/plain": [
       "(('gene_id', 3, None, 10, 10, 0, False),\n",
       " ('biotype', 253, None, 160, 160, 0, False),\n",
       " ('analysis_id', 2, None, 5, 5, 0, False),\n",
       " ('seq_region_id', 3, None, 10, 10, 0, False),\n",
       " ('seq_region_start', 3, None, 10, 10, 0, False),\n",
       " ('seq_region_end', 3, None, 10, 10, 0, False),\n",
       " ('seq_region_strand', 1, None, 2, 2, 0, False),\n",
       " ('display_xref_id', 3, None, 10, 10, 0, True),\n",
       " ('source', 253, None, 160, 160, 0, False),\n",
       " ('description', 252, None, 262140, 262140, 0, True),\n",
       " ('is_current', 1, None, 1, 1, 0, False),\n",
       " ('canonical_transcript_id', 3, None, 10, 10, 0, False),\n",
       " ('stable_id', 253, None, 512, 512, 0, True),\n",
       " ('version', 2, None, 5, 5, 0, True),\n",
       " ('created_date', 12, None, 19, 19, 0, True),\n",
       " ('modified_date', 12, None, 19, 19, 0, True))"
      ]
     },
     "execution_count": 6,
     "metadata": {},
     "output_type": "execute_result"
    }
   ],
   "source": [
    "cursor.description"
   ]
  },
  {
   "cell_type": "code",
   "execution_count": 7,
   "metadata": {
    "tags": []
   },
   "outputs": [
    {
     "data": {
      "text/plain": [
       "((35593, 'protein_coding', 1),\n",
       " (35592, 'protein_coding', 1),\n",
       " (35591, 'protein_coding', 1),\n",
       " (35590, 'protein_coding', 1),\n",
       " (35589, 'protein_coding', 1),\n",
       " (35588, 'protein_coding', 1),\n",
       " (35586, 'tRNA', 1),\n",
       " (35587, 'protein_coding', 1),\n",
       " (35585, 'protein_coding', 1),\n",
       " (35584, 'protein_coding', 1),\n",
       " (35583, 'protein_coding', 1),\n",
       " (35578, 'protein_coding', 1),\n",
       " (35582, 'protein_coding', 1),\n",
       " (35581, 'protein_coding', 1),\n",
       " (35580, 'protein_coding', 1),\n",
       " (35579, 'protein_coding', 1),\n",
       " (35577, 'protein_coding', 1),\n",
       " (35576, 'protein_coding', 1),\n",
       " (35575, 'protein_coding', 1),\n",
       " (35574, 'protein_coding', 1))"
      ]
     },
     "execution_count": 7,
     "metadata": {},
     "output_type": "execute_result"
    }
   ],
   "source": [
    "select_genes = \"\"\"\n",
    "SELECT gene_id, biotype, is_current\n",
    "FROM gene\n",
    "LIMIT 20;\n",
    "\"\"\"\n",
    "\n",
    "cursor.execute(select_genes)\n",
    "cursor.fetchall()"
   ]
  },
  {
   "cell_type": "code",
   "execution_count": 8,
   "metadata": {},
   "outputs": [
    {
     "data": {
      "text/plain": [
       "(('gene_id', 3, None, 10, 10, 0, False),\n",
       " ('biotype', 253, None, 160, 160, 0, False),\n",
       " ('is_current', 1, None, 1, 1, 0, False))"
      ]
     },
     "execution_count": 8,
     "metadata": {},
     "output_type": "execute_result"
    }
   ],
   "source": [
    "cursor.description"
   ]
  },
  {
   "cell_type": "code",
   "execution_count": 9,
   "metadata": {
    "tags": []
   },
   "outputs": [
    {
     "data": {
      "text/plain": [
       "((1, 'BK006935.2', 1, 230218),\n",
       " (2, 'BK006936.2', 1, 813184),\n",
       " (3, 'BK006937.2', 1, 316620),\n",
       " (4, 'BK006938.2', 1, 1531933),\n",
       " (5, 'BK006939.2', 1, 576874),\n",
       " (6, 'BK006940.2', 1, 270161),\n",
       " (7, 'BK006941.2', 1, 1090940),\n",
       " (8, 'BK006934.2', 1, 562643),\n",
       " (9, 'BK006942.2', 1, 439888),\n",
       " (10, 'BK006943.2', 1, 745751),\n",
       " (11, 'BK006944.2', 1, 666816),\n",
       " (12, 'BK006945.2', 1, 1078177),\n",
       " (13, 'BK006946.2', 1, 924431),\n",
       " (14, 'BK006947.3', 1, 784333),\n",
       " (15, 'BK006948.2', 1, 1091291),\n",
       " (16, 'BK006949.2', 1, 948066),\n",
       " (17, 'AJ011856.1', 1, 85779),\n",
       " (19, 'XI', 2, 666816),\n",
       " (20, 'IX', 2, 439888),\n",
       " (21, 'IV', 2, 1531933))"
      ]
     },
     "execution_count": 9,
     "metadata": {},
     "output_type": "execute_result"
    }
   ],
   "source": [
    "select_dnaseq = \"\"\"\n",
    "SELECT * \n",
    "FROM seq_region\n",
    "LIMIT 20;\n",
    "\"\"\"\n",
    "\n",
    "cursor.execute(select_dnaseq)\n",
    "cursor.fetchall()"
   ]
  },
  {
   "cell_type": "code",
   "execution_count": 10,
   "metadata": {},
   "outputs": [
    {
     "data": {
      "text/plain": [
       "(('seq_region_id', 3, None, 10, 10, 0, False),\n",
       " ('name', 253, None, 1020, 1020, 0, False),\n",
       " ('coord_system_id', 3, None, 10, 10, 0, False),\n",
       " ('length', 3, None, 10, 10, 0, False))"
      ]
     },
     "execution_count": 10,
     "metadata": {},
     "output_type": "execute_result"
    }
   ],
   "source": [
    "cursor.description"
   ]
  },
  {
   "cell_type": "code",
   "execution_count": 11,
   "metadata": {},
   "outputs": [
    {
     "data": {
      "text/plain": [
       "((1, 33, 'BK006935.2', 50710),\n",
       " (2, 28, 'BK006936.2', 50710),\n",
       " (3, 22, 'BK006937.2', 50710),\n",
       " (4, 21, 'BK006938.2', 50710),\n",
       " (5, 27, 'BK006939.2', 50710),\n",
       " (6, 26, 'BK006940.2', 50710),\n",
       " (7, 35, 'BK006941.2', 50710),\n",
       " (8, 25, 'BK006934.2', 50710),\n",
       " (9, 20, 'BK006942.2', 50710),\n",
       " (10, 23, 'BK006943.2', 50710),\n",
       " (11, 19, 'BK006944.2', 50710),\n",
       " (12, 24, 'BK006945.2', 50710),\n",
       " (13, 30, 'BK006946.2', 50710),\n",
       " (14, 29, 'BK006947.3', 50710),\n",
       " (15, 32, 'BK006948.2', 50710),\n",
       " (16, 31, 'BK006949.2', 50710),\n",
       " (17, 34, 'AJ011856.1', 50710))"
      ]
     },
     "execution_count": 11,
     "metadata": {},
     "output_type": "execute_result"
    }
   ],
   "source": [
    "select_dnaseq_syn = \"\"\"\n",
    "SELECT * \n",
    "FROM seq_region_synonym\n",
    "LIMIT 20;\n",
    "\"\"\"\n",
    "\n",
    "cursor.execute(select_dnaseq_syn)\n",
    "cursor.fetchall()"
   ]
  },
  {
   "cell_type": "code",
   "execution_count": 12,
   "metadata": {},
   "outputs": [
    {
     "data": {
      "text/plain": [
       "(('seq_region_synonym_id', 3, None, 10, 10, 0, False),\n",
       " ('seq_region_id', 3, None, 10, 10, 0, False),\n",
       " ('synonym', 253, None, 1000, 1000, 0, False),\n",
       " ('external_db_id', 3, None, 10, 10, 0, True))"
      ]
     },
     "execution_count": 12,
     "metadata": {},
     "output_type": "execute_result"
    }
   ],
   "source": [
    "cursor.description"
   ]
  },
  {
   "cell_type": "code",
   "execution_count": null,
   "metadata": {},
   "outputs": [],
   "source": [
    "# Clean up - do this when done with the database\n",
    "curs.close()\n",
    "conn.close()"
   ]
  },
  {
   "cell_type": "code",
   "execution_count": null,
   "metadata": {},
   "outputs": [],
   "source": []
  },
  {
   "cell_type": "markdown",
   "metadata": {},
   "source": [
    "### Using custom objects together with SQL\n",
    "### sqlalchemy\n",
    "\n",
    "#### We will follow the tutorial here:\n",
    "    \n",
    "https://docs.sqlalchemy.org/en/14/orm/tutorial.html#version-check"
   ]
  },
  {
   "cell_type": "code",
   "execution_count": null,
   "metadata": {},
   "outputs": [],
   "source": [
    "### pip install SQLAlchemy"
   ]
  },
  {
   "cell_type": "code",
   "execution_count": 13,
   "metadata": {},
   "outputs": [],
   "source": [
    "# it allows us to create classes in python that will be \n",
    "# translated into tables in a database\n",
    "# and run querries by calling methods \n",
    "# like create() and select() rather than writing the query in a string\n",
    "import sqlalchemy"
   ]
  },
  {
   "cell_type": "code",
   "execution_count": 14,
   "metadata": {},
   "outputs": [
    {
     "data": {
      "text/plain": [
       "'1.4.49'"
      ]
     },
     "execution_count": 14,
     "metadata": {},
     "output_type": "execute_result"
    }
   ],
   "source": [
    "sqlalchemy.__version__ "
   ]
  },
  {
   "cell_type": "code",
   "execution_count": 15,
   "metadata": {},
   "outputs": [],
   "source": [
    "from sqlalchemy import create_engine\n",
    "engine = create_engine(\"sqlite:///:memory:\", echo=True)"
   ]
  },
  {
   "cell_type": "code",
   "execution_count": 16,
   "metadata": {},
   "outputs": [],
   "source": [
    "from sqlalchemy.orm import declarative_base\n",
    "Base = declarative_base()"
   ]
  },
  {
   "cell_type": "code",
   "execution_count": 17,
   "metadata": {},
   "outputs": [],
   "source": [
    "from sqlalchemy import Column, Integer, String\n",
    "# creating a class for the table users\n",
    "\n",
    "class User(Base):\n",
    "    __tablename__ = \"users\"\n",
    "\n",
    "    id = Column(Integer, primary_key=True)\n",
    "    name = Column(String)\n",
    "    fullname = Column(String)\n",
    "    nickname = Column(String)\n",
    "\n",
    "    def __repr__(self):\n",
    "         return \"<User(name='%s', fullname='%s', nickname='%s')>\" % (\n",
    "             self.name,\n",
    "             self.fullname,\n",
    "             self.nickname,\n",
    "         )"
   ]
  },
  {
   "cell_type": "code",
   "execution_count": 18,
   "metadata": {},
   "outputs": [
    {
     "data": {
      "text/plain": [
       "Table('users', MetaData(), Column('id', Integer(), table=<users>, primary_key=True, nullable=False), Column('name', String(), table=<users>), Column('fullname', String(), table=<users>), Column('nickname', String(), table=<users>), schema=None)"
      ]
     },
     "execution_count": 18,
     "metadata": {},
     "output_type": "execute_result"
    }
   ],
   "source": [
    "# we see the table structure for the class User\n",
    "# it is a wrapper that allows us to call functions in python \n",
    "# that build the sql commands rather than writing the sql command in a string \n",
    "User.__table__  \n"
   ]
  },
  {
   "cell_type": "code",
   "execution_count": 19,
   "metadata": {},
   "outputs": [],
   "source": [
    "# A notebook with a full example will be posted for this. "
   ]
  },
  {
   "cell_type": "code",
   "execution_count": null,
   "metadata": {},
   "outputs": [],
   "source": []
  },
  {
   "cell_type": "code",
   "execution_count": null,
   "metadata": {},
   "outputs": [],
   "source": []
  }
 ],
 "metadata": {
  "kernelspec": {
   "display_name": "Python 3 (ipykernel)",
   "language": "python",
   "name": "python3"
  },
  "language_info": {
   "codemirror_mode": {
    "name": "ipython",
    "version": 3
   },
   "file_extension": ".py",
   "mimetype": "text/x-python",
   "name": "python",
   "nbconvert_exporter": "python",
   "pygments_lexer": "ipython3",
   "version": "3.9.12"
  }
 },
 "nbformat": 4,
 "nbformat_minor": 4
}
