{
 "cells": [
  {
   "cell_type": "markdown",
   "metadata": {},
   "source": [
    "## SQL - Major SQL commands - sqlite recap and DBeaver and mysql\n",
    "### BIOINF 575 - Fall 2023"
   ]
  },
  {
   "cell_type": "markdown",
   "metadata": {
    "tags": []
   },
   "source": [
    "#### Guidelines for database design:\n",
    "\n",
    "* Normalization is the process of creating or re-arranging data relationships so that it will be easy to store and retrieve data efficiently.  Data is normalized to achieve the following goals: \n",
    "    * Eliminate data redundancies and save space \n",
    "    * Make it easier to change data \n",
    "    * Simplify the enforcement of referential integrity constraints \n",
    "    * Produce a design that is a 'good' representation of the real world (one that is intuitively easy to understand and a good base for further growth)\n",
    "\n",
    "    * Make it easier to change data by avoiding to provide multiple values separated by commas in a column\n",
    "    * All columns in a table should depend on the primary key, all extra related information should be in other tables linked by foreign keys\n",
    "\n",
    "https://support.microsoft.com/en-us/help/283878/description-of-the-database-normalization-basics"
   ]
  },
  {
   "cell_type": "markdown",
   "metadata": {},
   "source": [
    "##### RESOURCES\n",
    "https://dev.mysql.com/doc/refman/8.0/en/         \n",
    "https://www.w3schools.com/mysql/mysql_create_table.asp          \n",
    "https://www.mysqltutorial.org/mysql-sample-database.aspx       \n",
    "https://www.tutorialspoint.com/mysql/index.htm    \n",
    "https://realpython.com/python-mysql/\n",
    "\n",
    "\n"
   ]
  },
  {
   "cell_type": "markdown",
   "metadata": {},
   "source": [
    "https://dev.mysql.com/doc/refman/8.0/en/examples.html\n",
    "\n",
    "#### Connect to the database\n",
    "\n",
    "```mysql your-database-name```\n",
    "\n",
    "#### Create a table and add data, then select data from the table\n",
    "\n",
    "```sql\n",
    "CREATE TABLE shop (\n",
    "    article INT UNSIGNED  DEFAULT '0000' NOT NULL,\n",
    "    dealer  CHAR(20)      DEFAULT ''     NOT NULL,\n",
    "    price   DECIMAL(16,2) DEFAULT '0.00' NOT NULL,\n",
    "    PRIMARY KEY(article, dealer));\n",
    "\n",
    "INSERT INTO shop VALUES\n",
    "    (1,'A',3.45),(1,'B',3.99),(2,'A',10.99),(3,'B',1.45),\n",
    "    (3,'C',1.69),(3,'D',1.25),(4,'D',19.95);\n",
    "    \n",
    "SELECT * FROM shop ORDER BY article;\n",
    "\n",
    "```\n",
    "\n",
    "\n",
    "| article   | dealer   | price   |\n",
    "| --------- |--------  | ------- |\n",
    "|       1   | A        |  3.45   |\n",
    "|       1   | B        |  3.99   |\n",
    "|       2   | A        | 10.99   |\n",
    "|       3   | B        |  1.45   |\n",
    "|       3   | C        |  1.69   |\n",
    "|       3   | D        |  1.25   |\n",
    "|       4   | D        | 19.95   |\n",
    "\n",
    "#### Examples of common querries\n",
    "\n",
    "https://dev.mysql.com/doc/refman/8.0/en/examples.html"
   ]
  },
  {
   "cell_type": "code",
   "execution_count": null,
   "metadata": {},
   "outputs": [],
   "source": [
    "### install pymysql using the following command in a terminal:\n",
    "# conda install pymysql"
   ]
  },
  {
   "cell_type": "code",
   "execution_count": null,
   "metadata": {},
   "outputs": [],
   "source": [
    "from pymysql import connect\n",
    "\n",
    "#Create a connection object\n",
    "conn =connect(host='ensembldb.ensembl.org', user='anonymous',  port=5306, db = \"saccharomyces_cerevisiae_core_94_4\")\n"
   ]
  },
  {
   "cell_type": "code",
   "execution_count": null,
   "metadata": {
    "tags": []
   },
   "outputs": [],
   "source": [
    "# May need a password: password = 'password'\n",
    "# Can request specific database: db = 'database'\n",
    "# Get a cursor – it sends SQL statements and receives responses\n",
    "cursor = conn.cursor()\n",
    "sql = \"show tables\"\n",
    "cursor.execute(sql)\n",
    "for (table_name,) in cursor: \n",
    "    print(table_name) \n",
    "\n",
    "#Do your queries, work with responses\n",
    "\n"
   ]
  },
  {
   "cell_type": "code",
   "execution_count": null,
   "metadata": {
    "tags": []
   },
   "outputs": [],
   "source": [
    "select_genes = \"\"\"\n",
    "SELECT * \n",
    "FROM gene;\n",
    "\"\"\"\n",
    "\n",
    "cursor.execute(select_genes)\n",
    "cursor.fetchall()"
   ]
  },
  {
   "cell_type": "code",
   "execution_count": null,
   "metadata": {
    "tags": []
   },
   "outputs": [],
   "source": [
    "cursor.description"
   ]
  },
  {
   "cell_type": "code",
   "execution_count": null,
   "metadata": {
    "tags": []
   },
   "outputs": [],
   "source": [
    "select_genes = \"\"\"\n",
    "SELECT gene_id, biotype, is_current\n",
    "FROM gene\n",
    "LIMIT 20;\n",
    "\"\"\"\n",
    "\n",
    "cursor.execute(select_genes)\n",
    "cursor.fetchall()"
   ]
  },
  {
   "cell_type": "code",
   "execution_count": null,
   "metadata": {},
   "outputs": [],
   "source": [
    "cursor.description"
   ]
  },
  {
   "cell_type": "code",
   "execution_count": null,
   "metadata": {
    "tags": []
   },
   "outputs": [],
   "source": [
    "select_dnaseq = \"\"\"\n",
    "SELECT * \n",
    "FROM seq_region\n",
    "LIMIT 20;\n",
    "\"\"\"\n",
    "\n",
    "cursor.execute(select_dnaseq)\n",
    "cursor.fetchall()"
   ]
  },
  {
   "cell_type": "code",
   "execution_count": null,
   "metadata": {},
   "outputs": [],
   "source": [
    "cursor.description"
   ]
  },
  {
   "cell_type": "code",
   "execution_count": null,
   "metadata": {},
   "outputs": [],
   "source": [
    "select_dnaseq_syn = \"\"\"\n",
    "SELECT * \n",
    "FROM seq_region_synonym\n",
    "LIMIT 20;\n",
    "\"\"\"\n",
    "\n",
    "cursor.execute(select_dnaseq_syn)\n",
    "cursor.fetchall()"
   ]
  },
  {
   "cell_type": "code",
   "execution_count": null,
   "metadata": {},
   "outputs": [],
   "source": [
    "cursor.description"
   ]
  },
  {
   "cell_type": "code",
   "execution_count": null,
   "metadata": {},
   "outputs": [],
   "source": [
    "# Clean up - do this when done with the database\n",
    "curs.close()\n",
    "conn.close()"
   ]
  },
  {
   "cell_type": "code",
   "execution_count": null,
   "metadata": {},
   "outputs": [],
   "source": []
  },
  {
   "cell_type": "markdown",
   "metadata": {},
   "source": [
    "### Using custom objects together with SQL\n",
    "### sqlalchemy\n",
    "\n",
    "#### We will follow the tutorial here:\n",
    "    \n",
    "https://docs.sqlalchemy.org/en/14/orm/tutorial.html#version-check"
   ]
  },
  {
   "cell_type": "code",
   "execution_count": null,
   "metadata": {},
   "outputs": [],
   "source": [
    "### pip install SQLAlchemy"
   ]
  },
  {
   "cell_type": "code",
   "execution_count": null,
   "metadata": {},
   "outputs": [],
   "source": [
    "import sqlalchemy"
   ]
  },
  {
   "cell_type": "code",
   "execution_count": null,
   "metadata": {},
   "outputs": [],
   "source": [
    "sqlalchemy.__version__ "
   ]
  },
  {
   "cell_type": "code",
   "execution_count": null,
   "metadata": {},
   "outputs": [],
   "source": [
    "from sqlalchemy import create_engine\n",
    "engine = create_engine(\"sqlite:///:memory:\", echo=True)"
   ]
  },
  {
   "cell_type": "code",
   "execution_count": null,
   "metadata": {},
   "outputs": [],
   "source": [
    "from sqlalchemy.orm import declarative_base\n",
    "Base = declarative_base()"
   ]
  },
  {
   "cell_type": "code",
   "execution_count": null,
   "metadata": {},
   "outputs": [],
   "source": [
    "from sqlalchemy import Column, Integer, String\n",
    "class User(Base):\n",
    "    __tablename__ = \"users\"\n",
    "\n",
    "    id = Column(Integer, primary_key=True)\n",
    "    name = Column(String)\n",
    "    fullname = Column(String)\n",
    "    nickname = Column(String)\n",
    "\n",
    "    def __repr__(self):\n",
    "         return \"<User(name='%s', fullname='%s', nickname='%s')>\" % (\n",
    "             self.name,\n",
    "             self.fullname,\n",
    "             self.nickname,\n",
    "         )"
   ]
  },
  {
   "cell_type": "code",
   "execution_count": null,
   "metadata": {},
   "outputs": [],
   "source": [
    "User.__table__  \n"
   ]
  },
  {
   "cell_type": "code",
   "execution_count": null,
   "metadata": {},
   "outputs": [],
   "source": [
    "# A notebook with a full example will be posted for this. "
   ]
  }
 ],
 "metadata": {
  "kernelspec": {
   "display_name": "Python 3 (ipykernel)",
   "language": "python",
   "name": "python3"
  },
  "language_info": {
   "codemirror_mode": {
    "name": "ipython",
    "version": 3
   },
   "file_extension": ".py",
   "mimetype": "text/x-python",
   "name": "python",
   "nbconvert_exporter": "python",
   "pygments_lexer": "ipython3",
   "version": "3.9.12"
  }
 },
 "nbformat": 4,
 "nbformat_minor": 4
}
