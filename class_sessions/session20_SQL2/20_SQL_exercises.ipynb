{
 "cells": [
  {
   "cell_type": "markdown",
   "metadata": {
    "tags": []
   },
   "source": [
    "## SQL exercises\n",
    "### BIOINF 575 - Fall 2023\n",
    "\n"
   ]
  },
  {
   "cell_type": "markdown",
   "metadata": {},
   "source": [
    "The. ALTER TABLE command: Changing a table without having to remove it and recreate it.   \n",
    "A table can be ALTERED to:\n",
    "* RENAME the TABLE\n",
    "* RENAME a COLUMN\n",
    "* ADD a COLUMN\n",
    "* DROP a COLUMN\n",
    "\n",
    "Detailed diagram of the command available at:   \n",
    "https://www.sqlite.org/lang_altertable.html\n",
    "\n",
    "Examples available at:   \n",
    "https://www.sqlitetutorial.net/sqlite-alter-table/    \n",
    "https://www.tutorialspoint.com/sqlite/sqlite_alter_command.htm    \n",
    "https://www.geeksforgeeks.org/how-to-alter-a-sqlite-table-using-python/"
   ]
  },
  {
   "cell_type": "code",
   "execution_count": null,
   "metadata": {},
   "outputs": [],
   "source": []
  },
  {
   "cell_type": "markdown",
   "metadata": {},
   "source": [
    "___\n",
    "\n",
    "<b> <font color = \"red\">Exercise</font></b>\n",
    "\n",
    "#### Create a database for genes and gene aliases\n",
    "\n",
    "Create a SQLite database with a genes table, and a gene_aliases table.   \n",
    "The genes table should have the following columns: gene_id, gene_symbol, the gene_description, start, stop.     \n",
    "The gene_aliases table should have the following columns: alias_id, gene_id and the alias.   \n",
    "Create an index on the column gene_id in the table gene_aliases.\n"
   ]
  },
  {
   "cell_type": "code",
   "execution_count": null,
   "metadata": {},
   "outputs": [],
   "source": []
  },
  {
   "cell_type": "code",
   "execution_count": null,
   "metadata": {},
   "outputs": [],
   "source": []
  },
  {
   "cell_type": "code",
   "execution_count": null,
   "metadata": {},
   "outputs": [],
   "source": []
  },
  {
   "cell_type": "code",
   "execution_count": null,
   "metadata": {},
   "outputs": [],
   "source": []
  },
  {
   "cell_type": "markdown",
   "metadata": {
    "tags": []
   },
   "source": [
    "___\n",
    "\n",
    "<b> <font color = \"red\">Exercise</font></b>\n",
    "\n",
    "#### Populate a database \n",
    "\n",
    "Insert data into tables in the genes and gene aliases database you just created.   \n",
    "Use the data from the file `genes_aliases.txt`.\n"
   ]
  },
  {
   "cell_type": "code",
   "execution_count": null,
   "metadata": {},
   "outputs": [],
   "source": []
  },
  {
   "cell_type": "code",
   "execution_count": null,
   "metadata": {},
   "outputs": [],
   "source": []
  },
  {
   "cell_type": "code",
   "execution_count": null,
   "metadata": {},
   "outputs": [],
   "source": []
  },
  {
   "cell_type": "markdown",
   "metadata": {
    "tags": []
   },
   "source": [
    "___\n",
    "\n",
    "<b> <font color = \"red\">Exercise</font></b>\n",
    "\n",
    "#### Query a database \n",
    "\n",
    "How many genes we have?  \n",
    "How many aliases we have?  \n",
    "Retrieve the aliases for gene TP63. In the result, display the gene symbol and the alias.    \n",
    "How many aliases are associated which each gene? In the result, display the gene symbol and the count.\n"
   ]
  },
  {
   "cell_type": "code",
   "execution_count": null,
   "metadata": {},
   "outputs": [],
   "source": [
    "def get_header(cursor):\n",
    "    '''\n",
    "    Makes a tab delimited header row from the cursor description.\n",
    "    Arguments:\n",
    "        cursor: a cursor after a select query\n",
    "    Returns:\n",
    "        string: A string consisting of the column names separated by tabs, no new line\n",
    "    '''\n",
    "    return '\\t'.join([row[0] for row in cursor.description])\n",
    "\n"
   ]
  },
  {
   "cell_type": "code",
   "execution_count": null,
   "metadata": {},
   "outputs": [],
   "source": [
    "# note that if you have a large result \n",
    "# this function will try to make a very large string from it\n",
    "# so it is recommended for results with less than 10 rows and 10 columns\n",
    "# for other cases use the for loop to go through the rows in the result \n",
    "\n",
    "def get_results(cursor):\n",
    "    '''\n",
    "    Makes a tab delimited table from the cursor results.\n",
    "    Arguments:\n",
    "        cursor: a cursor after a select query\n",
    "    Returns:\n",
    "        string: A string consisting of the column names separated by tabs, no new line\n",
    "    ''' \n",
    "    res = list()\n",
    "    for row in cursor.fetchall():        \n",
    "        res.append('\\t'.join(list(map(str,row))))\n",
    "    return \"\\n\".join(res)"
   ]
  },
  {
   "cell_type": "code",
   "execution_count": null,
   "metadata": {},
   "outputs": [],
   "source": []
  },
  {
   "cell_type": "code",
   "execution_count": null,
   "metadata": {},
   "outputs": [],
   "source": []
  },
  {
   "cell_type": "code",
   "execution_count": null,
   "metadata": {},
   "outputs": [],
   "source": []
  },
  {
   "cell_type": "code",
   "execution_count": null,
   "metadata": {},
   "outputs": [],
   "source": []
  }
 ],
 "metadata": {
  "kernelspec": {
   "display_name": "Python 3 (ipykernel)",
   "language": "python",
   "name": "python3"
  },
  "language_info": {
   "codemirror_mode": {
    "name": "ipython",
    "version": 3
   },
   "file_extension": ".py",
   "mimetype": "text/x-python",
   "name": "python",
   "nbconvert_exporter": "python",
   "pygments_lexer": "ipython3",
   "version": "3.9.12"
  }
 },
 "nbformat": 4,
 "nbformat_minor": 4
}
