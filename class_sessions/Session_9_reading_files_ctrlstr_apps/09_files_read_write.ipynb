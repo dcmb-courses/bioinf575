{
 "cells": [
  {
   "cell_type": "markdown",
   "metadata": {},
   "source": [
    "## Reading from files and writing to files\n",
    "### BIOINF 575 - Fall 2022"
   ]
  },
  {
   "cell_type": "code",
   "execution_count": null,
   "metadata": {},
   "outputs": [],
   "source": [
    "amino_acids = {'Ser': 'Serine', 'Lys': 'Lysine', 'Ala': 'Alanine', 'Leu': 'Leucine'}"
   ]
  },
  {
   "cell_type": "markdown",
   "metadata": {},
   "source": [
    "To add a new dictionary element - subset the dictionay using the new key and assign the value or use the update function"
   ]
  },
  {
   "cell_type": "code",
   "execution_count": null,
   "metadata": {},
   "outputs": [],
   "source": []
  },
  {
   "cell_type": "code",
   "execution_count": null,
   "metadata": {},
   "outputs": [],
   "source": []
  },
  {
   "cell_type": "code",
   "execution_count": null,
   "metadata": {},
   "outputs": [],
   "source": []
  },
  {
   "cell_type": "code",
   "execution_count": null,
   "metadata": {},
   "outputs": [],
   "source": []
  },
  {
   "cell_type": "code",
   "execution_count": null,
   "metadata": {},
   "outputs": [],
   "source": [
    "# reading user input: the input() function\n",
    "# reads text, evaluates expression\n",
    "res = input()\n",
    "while res != \"STOP\":\n",
    "    print(\"input\", res)\n",
    "    res = input()"
   ]
  },
  {
   "cell_type": "code",
   "execution_count": null,
   "metadata": {},
   "outputs": [],
   "source": []
  },
  {
   "cell_type": "code",
   "execution_count": null,
   "metadata": {},
   "outputs": [],
   "source": []
  },
  {
   "cell_type": "markdown",
   "metadata": {},
   "source": [
    "### FILES and file access from python"
   ]
  },
  {
   "cell_type": "markdown",
   "metadata": {},
   "source": [
    "####  A file is a named location on disk to store related information \n",
    "#### It is used to permanently store data in a non-volatile memory (e.g. hard disk)\n",
    "#### https://www.programiz.com/python-programming/file-operation <br><br>\n",
    "\n",
    "#### open – builtin function to open a file for reading or writing<br>\n",
    "    \n",
    "```python\n",
    "open(file, mode='r', buffering=-1, encoding=None, errors=None, newline=None, closefd=True, opener=None)\n",
    "  \n",
    "fileObj = open(fileName, ‘r’) # open file for reading, r+\n",
    "fileObj = open(fileName, ‘w’) # open file for writing, w+\n",
    "fileObj = open(fileName, ‘a’) # open file for  appending, a+\n",
    "```\n",
    "\n",
    "| Parameter | Condition | Description                                                       |\n",
    "|-----------|-----------|-------------------------------------------------------------------|\n",
    "| file      | Required  | The pathname (absolute or relative to the current working directory) of the file to be opened                                      |\n",
    "| mode      | Optional  | Specifies the mode you want to open the file in                   |\n",
    "| buffering | Optional  | Sets the buffering policy - how much to read/write from/to the disk at once                                        |\n",
    "| encoding  | Optional  | Specifies encoding                                                |\n",
    "| errors    | Optional  | Specifies different error handling scheme                         |\n",
    "| newline   | Optional  | Controls how universal newlines mode works                        |\n",
    "| closefd   | Optional  | Keeps the underlying file descriptor open when the file is closed |\n",
    "| opener    | Optional  | A custom opener used for low-level I/O operations                 |\n",
    "\n",
    "#### Mode parameter options\n",
    "\n",
    "| Character | Meaning                                                         |\n",
    "|-----------|-----------------------------------------------------------------|\n",
    "| 'r'       | open for reading (default)                                      |\n",
    "| 'w'       | open for writing, truncating the file first                     |\n",
    "| 'x'       | open for exclusive creation, failing if the file already exists |\n",
    "| 'a'       | open for writing, appending to the end of file if it exists     |\n",
    "| 'b'       | binary mode                                                     |\n",
    "| 't'       | text mode (default)                                             |\n",
    "| '+'       | open for updating (reading and writing)                         |\n",
    "\n",
    "The default mode is 'r' (open for reading text, a synonym of 'rt'). Modes 'w+' and 'w+b' open and truncate the file. Modes 'r+' and 'r+b' open the file with no truncation.\n",
    "\n",
    "https://docs.python.org/3/library/functions.html#open\n",
    "\n",
    "https://www.learnbyexample.org/python-open-function/\n",
    "\n",
    "\n",
    "\n",
    "* ##### The `file` parameter must be a string or reference to one\n",
    "    * typically, that would be the file name (if the file is is in the current directory) or the file path (if the file is somewhere elese in the file system)\n",
    "\n",
    "* ##### The file object is iterable by line/buffer\n"
   ]
  },
  {
   "cell_type": "code",
   "execution_count": null,
   "metadata": {},
   "outputs": [],
   "source": [
    "# buffering default is -1 so it takes the system buffer size\n",
    "\n",
    "import io\n",
    "print(io.DEFAULT_BUFFER_SIZE)"
   ]
  },
  {
   "cell_type": "code",
   "execution_count": null,
   "metadata": {},
   "outputs": [],
   "source": []
  },
  {
   "cell_type": "markdown",
   "metadata": {},
   "source": [
    "#### What is encoding?\n",
    "\n",
    "From: https://www.w3.org/International/questions/qa-what-is-encoding\n",
    "\n",
    "\n",
    "\n",
    "Basically, you can visualise it by assuming that all characters are stored in computers using a special code, like the ciphers used in espionage. \n",
    "A character encoding provides a key to unlock (ie. crack) the code. \n",
    "It is a set of mappings between the bytes in the computer and the characters in the character set. \n",
    "Without the key, the data cannot be understood - all or part of the data looks just like strange sequesnces of characters.   \n",
    "\n",
    "Data that should look like this:     \n",
    "<img src = https://www.w3.org/International/questions/qa-what-is-encoding-data/mojibake1.gif />\n",
    "\n",
    "Looks like this:        \n",
    "<img src = https://www.w3.org/International/questions/qa-what-is-encoding-data/mojibake2.gif />\n",
    "\n",
    "==============="
   ]
  },
  {
   "cell_type": "markdown",
   "metadata": {},
   "source": [
    "The `codecs` module defines base classes for standard Python codecs (encoders and decoders) and provides access to the internal Python codec registry, which manages the codec and error handling lookup process. Most standard codecs are text encodings, which encode text to bytes (and decode bytes to text), but there are also codecs provided that encode text to text, and bytes to bytes. Custom codecs may encode and decode between arbitrary types, but some module features are restricted to be used specifically with text encodings or with codecs that encode to bytes.\n",
    "https://docs.python.org/3/library/codecs.html"
   ]
  },
  {
   "cell_type": "code",
   "execution_count": null,
   "metadata": {},
   "outputs": [],
   "source": [
    "# to explore more information about the codecs module \n",
    "# you can run the following commands\n",
    "\n",
    "# import codecs\n",
    "# help(codecs)\n",
    "# dir(codecs)"
   ]
  },
  {
   "cell_type": "markdown",
   "metadata": {},
   "source": [
    "##### ASCII code table\n",
    "https://www.ascii-code.com"
   ]
  },
  {
   "cell_type": "markdown",
   "metadata": {},
   "source": [
    "#### Python code to demonstrate str.decode() - adapted from:\n",
    "https://www.geeksforgeeks.org/python-strings-decode-method/"
   ]
  },
  {
   "cell_type": "code",
   "execution_count": null,
   "metadata": {},
   "outputs": [],
   "source": [
    "# Python code to demonstrate\n",
    "# decode()\n",
    "\n",
    "# initializing string\n",
    "text_to_encode = \"Symbol \" + chr(166) + \" empty set: \" + chr(216)\n",
    "print(\"Text to encode:\")\n",
    "print(text_to_encode)\n",
    "\n",
    "# encoding string\n",
    "encoded_text = text_to_encode.encode(encoding='utf8')\n",
    "\n",
    "# printing the encoded string\n",
    "print (\"\\nThe encoded text is:\")\n",
    "print (encoded_text )\n",
    "\n",
    "# printing the original decoded string\n",
    "print (\"\\nThe decoded text is:\")\n",
    "print (encoded_text.decode('utf8', 'strict'))\n",
    "\n"
   ]
  },
  {
   "cell_type": "code",
   "execution_count": null,
   "metadata": {},
   "outputs": [],
   "source": []
  },
  {
   "cell_type": "code",
   "execution_count": null,
   "metadata": {},
   "outputs": [],
   "source": []
  },
  {
   "cell_type": "markdown",
   "metadata": {},
   "source": [
    "____\n",
    "### Now let's open a file"
   ]
  },
  {
   "cell_type": "markdown",
   "metadata": {},
   "source": [
    "```python\n",
    "open(file, mode='r', buffering=-1, encoding=None, errors=None, newline=None, closefd=True, opener=None)\n",
    "  \n",
    "fileObj = open(fileName, ‘r’) # open file for reading, r+\n",
    "fileObj = open(fileName, ‘w’) # open file for writing, w+\n",
    "fileObj = open(fileName, ‘a’) # open file for  appending, a+\n",
    "```"
   ]
  },
  {
   "cell_type": "code",
   "execution_count": null,
   "metadata": {},
   "outputs": [],
   "source": [
    "# open a file \n",
    "# if it is read mode and the file does not exist it give an error\n",
    "\n",
    "test_file = open(\"test.txt\")"
   ]
  },
  {
   "cell_type": "code",
   "execution_count": null,
   "metadata": {},
   "outputs": [],
   "source": []
  },
  {
   "cell_type": "code",
   "execution_count": null,
   "metadata": {},
   "outputs": [],
   "source": [
    "# open a file \n",
    "# if it is write mode and the file does not exist it will be created\n",
    "\n",
    "test_file = open(\"test.txt\", mode = \"w\")"
   ]
  },
  {
   "cell_type": "code",
   "execution_count": null,
   "metadata": {},
   "outputs": [],
   "source": [
    "# check out the type\n",
    "\n",
    "type(test_file)"
   ]
  },
  {
   "cell_type": "code",
   "execution_count": null,
   "metadata": {},
   "outputs": [],
   "source": [
    "# display the object \n",
    "\n",
    "test_file"
   ]
  },
  {
   "cell_type": "code",
   "execution_count": null,
   "metadata": {},
   "outputs": [],
   "source": [
    "# seems to be a lazy-loading object - let's try to list it\n",
    "# will give an error due to being open for writing only\n",
    "\n",
    "# this will only work when opened for reading but \n",
    "# do not try this for very large files \n",
    "# each line will be a item in the list\n",
    "\n",
    "list(test_file)"
   ]
  },
  {
   "cell_type": "code",
   "execution_count": null,
   "metadata": {},
   "outputs": [],
   "source": [
    "# check out what this object can do\n",
    "# display only methods without _ from the dir list\n",
    "\n",
    "for elem in dir(test_file):\n",
    "    if \"_\" not in elem:\n",
    "        print(elem)"
   ]
  },
  {
   "cell_type": "code",
   "execution_count": null,
   "metadata": {},
   "outputs": [],
   "source": []
  },
  {
   "cell_type": "markdown",
   "metadata": {},
   "source": [
    "#### Write text to the file - use the method write\n",
    "\n",
    "```python\n",
    "help(test_file.write)\n",
    "```\n",
    "\n",
    "```\n",
    "Help on built-in function write:\n",
    "\n",
    "write(text, /) method of _io.TextIOWrapper instance\n",
    "    Write string to stream.\n",
    "    Returns the number of characters written (which is always equal to\n",
    "    the length of the string).\n",
    "```"
   ]
  },
  {
   "cell_type": "code",
   "execution_count": null,
   "metadata": {},
   "outputs": [],
   "source": [
    "# Writes text as is, if you want to write on a new line you have to write \"\\n\"\n",
    "\n",
    "test_file.write(\"Hello! \")"
   ]
  },
  {
   "cell_type": "code",
   "execution_count": null,
   "metadata": {},
   "outputs": [],
   "source": [
    "# make sure to close the file when done\n",
    "# once closed - you have to open it again to read from it or write to it\n",
    "\n",
    "test_file.close()"
   ]
  },
  {
   "cell_type": "code",
   "execution_count": null,
   "metadata": {},
   "outputs": [],
   "source": [
    "test_file.write(\"Writing some text.\\n\")"
   ]
  },
  {
   "cell_type": "markdown",
   "metadata": {},
   "source": [
    "<b>Open for append and Write</b>"
   ]
  },
  {
   "cell_type": "code",
   "execution_count": null,
   "metadata": {},
   "outputs": [],
   "source": [
    "# open file and write lines into a file \n",
    "# buffering = 1 will write to the disk as soon as it finds a newline character\n",
    "\n",
    "test_file = open(\"test.txt\", mode = \"a\", buffering = 1)\n",
    "test_file.write(\"Writing some text.\\n\")\n"
   ]
  },
  {
   "cell_type": "code",
   "execution_count": null,
   "metadata": {},
   "outputs": [],
   "source": [
    "test_file.write(\"Writing another line (unfinished).\")\n"
   ]
  },
  {
   "cell_type": "code",
   "execution_count": null,
   "metadata": {},
   "outputs": [],
   "source": [
    "test_file.write(\"Still writing on the second line.\\nAnd starting the third. \")"
   ]
  },
  {
   "cell_type": "code",
   "execution_count": null,
   "metadata": {},
   "outputs": [],
   "source": [
    "test_file.write(\"DONE on the third line.\")"
   ]
  },
  {
   "cell_type": "code",
   "execution_count": null,
   "metadata": {},
   "outputs": [],
   "source": []
  },
  {
   "cell_type": "markdown",
   "metadata": {},
   "source": [
    "<b>Close file</b>"
   ]
  },
  {
   "cell_type": "code",
   "execution_count": null,
   "metadata": {},
   "outputs": [],
   "source": [
    "# close()\n",
    "help(test_file.close)\n"
   ]
  },
  {
   "cell_type": "code",
   "execution_count": null,
   "metadata": {},
   "outputs": [],
   "source": []
  },
  {
   "cell_type": "markdown",
   "metadata": {},
   "source": [
    "<b>Open file and then Read file content using the `read` method</b>\n",
    "* by default all content is read (size = -1)\n",
    "* if set to a number other than -1, the number assigned to size is how many characters will be read"
   ]
  },
  {
   "cell_type": "code",
   "execution_count": null,
   "metadata": {},
   "outputs": [],
   "source": [
    "help(test_file.read)"
   ]
  },
  {
   "cell_type": "code",
   "execution_count": null,
   "metadata": {},
   "outputs": [],
   "source": [
    "# open file and read file contents\n",
    "\n",
    "# do not try this for very large files \n",
    "# all file content will be set in a string\n",
    "\n",
    "test_file = open(\"test.txt\", \"r\")\n",
    "res = test_file.read()\n",
    "print(res)\n",
    "test_file.close()\n",
    "\n"
   ]
  },
  {
   "cell_type": "code",
   "execution_count": null,
   "metadata": {},
   "outputs": [],
   "source": []
  },
  {
   "cell_type": "markdown",
   "metadata": {},
   "source": [
    "<b>Read lines - use the `readlines` method to read all lines in a list</b>"
   ]
  },
  {
   "cell_type": "code",
   "execution_count": null,
   "metadata": {},
   "outputs": [],
   "source": [
    "# do not try this for very large files \n",
    "# each line will be a item in the list\n",
    "\n",
    "test_file = open(\"test.txt\", \"r\")\n",
    "res = test_file.readlines()\n",
    "print(res)\n",
    "test_file.close()"
   ]
  },
  {
   "cell_type": "code",
   "execution_count": null,
   "metadata": {},
   "outputs": [],
   "source": [
    "# same can be achieved with the list function\n",
    "\n",
    "# do not try this for very large files \n",
    "# each line will be a item in the list\n",
    "\n",
    "test_file = open(\"test.txt\", \"r\")\n",
    "list(test_file)\n",
    "test_file.close()"
   ]
  },
  {
   "cell_type": "code",
   "execution_count": null,
   "metadata": {},
   "outputs": [],
   "source": []
  },
  {
   "cell_type": "markdown",
   "metadata": {},
   "source": [
    "<b> The reading will continue from where it left off.</b>\n"
   ]
  },
  {
   "cell_type": "code",
   "execution_count": null,
   "metadata": {},
   "outputs": [],
   "source": [
    "test_file = open(\"test.txt\", \"r\")\n",
    "test_file.read() # this reads all\n",
    "test_file.read() # nothing left to read"
   ]
  },
  {
   "cell_type": "markdown",
   "metadata": {},
   "source": [
    "<b>Go at position - use the `seek` method - and start reading from there</b>"
   ]
  },
  {
   "cell_type": "code",
   "execution_count": null,
   "metadata": {},
   "outputs": [],
   "source": [
    "# seek\n",
    "test_file.seek(10)\n",
    "res = test_file.readline()\n",
    "print(res)"
   ]
  },
  {
   "cell_type": "markdown",
   "metadata": {},
   "source": [
    "<b>Return current position - use the `tell` method</b>"
   ]
  },
  {
   "cell_type": "code",
   "execution_count": null,
   "metadata": {},
   "outputs": [],
   "source": [
    "# tell - check current position\n",
    "print(test_file.tell())\n"
   ]
  },
  {
   "cell_type": "code",
   "execution_count": null,
   "metadata": {},
   "outputs": [],
   "source": [
    "# read 4 more characters\n",
    "res = test_file.read(4)\n",
    "print(\"Characters read:\", res)\n",
    "\n",
    "# check current position again\n",
    "test_file.tell()"
   ]
  },
  {
   "cell_type": "code",
   "execution_count": null,
   "metadata": {},
   "outputs": [],
   "source": [
    "# remember to close the file\n",
    "test_file.close()"
   ]
  },
  {
   "cell_type": "code",
   "execution_count": null,
   "metadata": {},
   "outputs": [],
   "source": []
  },
  {
   "cell_type": "markdown",
   "metadata": {},
   "source": [
    "### Context manager"
   ]
  },
  {
   "cell_type": "markdown",
   "metadata": {},
   "source": [
    "<b>with: give code context</b>"
   ]
  },
  {
   "cell_type": "markdown",
   "metadata": {},
   "source": [
    "The special part about with is when it is paired with file handling or database access functionality"
   ]
  },
  {
   "cell_type": "code",
   "execution_count": null,
   "metadata": {},
   "outputs": [],
   "source": [
    "# Without with\n",
    "test_file = open(\"test.txt\",'r')\n",
    "print(test_file.read())\n",
    "test_file.close()"
   ]
  },
  {
   "cell_type": "code",
   "execution_count": null,
   "metadata": {},
   "outputs": [],
   "source": [
    "# With with :)\n",
    "with open(\"test.txt\",'r') as test_file:\n",
    "    print(test_file.read())"
   ]
  },
  {
   "cell_type": "markdown",
   "metadata": {},
   "source": [
    "The file is opened and processed. <br>\n",
    "As soon as you exit the with statement, <b>the file is closed automatically</b>."
   ]
  },
  {
   "cell_type": "code",
   "execution_count": null,
   "metadata": {},
   "outputs": [],
   "source": []
  },
  {
   "cell_type": "markdown",
   "metadata": {
    "tags": []
   },
   "source": [
    "### <font color = \"red\">Exercise</font>:   \n",
    "\n",
    "Open a file `exercise1.txt` and add 10 lines in a for loop.   \n",
    "Each line should contain: the text Line and then a space and then the number (the number for the first line would be 1).    \n",
    "\n",
    "`exercise1.txt` should look like:      \n",
    "```\n",
    "Line 1       \n",
    "Line 2       \n",
    "Line 3       \n",
    "Line 4       \n",
    "Line 5       \n",
    "Line 6       \n",
    "Line 7       \n",
    "Line 8       \n",
    "Line 9      \n",
    "Line 10\n",
    "```"
   ]
  },
  {
   "cell_type": "code",
   "execution_count": null,
   "metadata": {},
   "outputs": [],
   "source": []
  },
  {
   "cell_type": "code",
   "execution_count": null,
   "metadata": {},
   "outputs": [],
   "source": []
  },
  {
   "cell_type": "code",
   "execution_count": null,
   "metadata": {},
   "outputs": [],
   "source": []
  },
  {
   "cell_type": "markdown",
   "metadata": {
    "tags": []
   },
   "source": [
    "### <font color = \"red\">Exercise</font>:   \n",
    "\n",
    "Open the file `exercise1.txt` and read each line and take the index and change the index to `number` * 2 - 1. \n",
    "For each line, write \"This line is \" and the new `number` on a line in a new file `exercise2.txt`, then add a new line with a \"---\" text.\n",
    "\n",
    "`exercise2.txt` should look like:      \n",
    "```\n",
    "Line 1     \n",
    "---       \n",
    "Line 3      \n",
    "---      \n",
    "Line 5      \n",
    "---      \n",
    "Line 7      \n",
    "---      \n",
    "Line 9      \n",
    "---      \n",
    "Line 11      \n",
    "---      \n",
    "Line 13      \n",
    "---      \n",
    "Line 15      \n",
    "---      \n",
    "Line 17      \n",
    "---      \n",
    "Line 19      \n",
    "---      \n",
    "```"
   ]
  },
  {
   "cell_type": "code",
   "execution_count": null,
   "metadata": {},
   "outputs": [],
   "source": []
  },
  {
   "cell_type": "code",
   "execution_count": null,
   "metadata": {},
   "outputs": [],
   "source": []
  },
  {
   "cell_type": "code",
   "execution_count": null,
   "metadata": {},
   "outputs": [],
   "source": []
  },
  {
   "cell_type": "code",
   "execution_count": null,
   "metadata": {},
   "outputs": [],
   "source": []
  },
  {
   "cell_type": "markdown",
   "metadata": {},
   "source": [
    "#### Using a function to process file lines"
   ]
  },
  {
   "cell_type": "code",
   "execution_count": null,
   "metadata": {},
   "outputs": [],
   "source": [
    "# parsing files\n",
    "def parse_line(line):\n",
    "    return line.strip().split(\" \")\n",
    "\n",
    "with open(\"test.txt\",'r') as test_file:\n",
    "    line = test_file.readline()\n",
    "    while (line != \"\"):\n",
    "        print(parse_line(line))\n",
    "        line = test_file.readline()"
   ]
  },
  {
   "cell_type": "code",
   "execution_count": null,
   "metadata": {},
   "outputs": [],
   "source": []
  },
  {
   "cell_type": "code",
   "execution_count": null,
   "metadata": {},
   "outputs": [],
   "source": []
  },
  {
   "cell_type": "markdown",
   "metadata": {},
   "source": [
    "https://www.tutorialspoint.com/python/python_files_io.htm\n",
    "https://www.tutorialspoint.com/python/file_methods.htm"
   ]
  }
 ],
 "metadata": {
  "kernelspec": {
   "display_name": "Python 3 (ipykernel)",
   "language": "python",
   "name": "python3"
  },
  "language_info": {
   "codemirror_mode": {
    "name": "ipython",
    "version": 3
   },
   "file_extension": ".py",
   "mimetype": "text/x-python",
   "name": "python",
   "nbconvert_exporter": "python",
   "pygments_lexer": "ipython3",
   "version": "3.9.12"
  }
 },
 "nbformat": 4,
 "nbformat_minor": 4
}
