{
 "cells": [
  {
   "cell_type": "code",
   "execution_count": null,
   "id": "3bc01fdd-1877-4d07-be73-318a7df55bac",
   "metadata": {
    "tags": []
   },
   "outputs": [],
   "source": [
    "dir(__builtin__)"
   ]
  },
  {
   "cell_type": "code",
   "execution_count": null,
   "id": "25f1e232-a316-43b4-b4b9-271bc2900cd8",
   "metadata": {},
   "outputs": [],
   "source": [
    "import numpy as np"
   ]
  },
  {
   "cell_type": "code",
   "execution_count": null,
   "id": "70fbe16d-7b5b-41b3-8447-0e323b06a34a",
   "metadata": {},
   "outputs": [],
   "source": [
    "np.__version__"
   ]
  },
  {
   "cell_type": "code",
   "execution_count": null,
   "id": "e5f2cb23-8eff-4181-a993-da039dc86747",
   "metadata": {
    "tags": []
   },
   "outputs": [],
   "source": [
    "import pandas as pd"
   ]
  },
  {
   "cell_type": "code",
   "execution_count": null,
   "id": "2ccd37ff-8f85-4c17-a6ae-5309252a8ac6",
   "metadata": {},
   "outputs": [],
   "source": [
    "pd.__version__"
   ]
  },
  {
   "cell_type": "code",
   "execution_count": null,
   "id": "f74aa3fa-db43-4e84-a1e8-91f0d949bac7",
   "metadata": {},
   "outputs": [],
   "source": [
    "import matplotlib as plt"
   ]
  },
  {
   "cell_type": "code",
   "execution_count": null,
   "id": "14fa7507-a52c-4df5-ac43-987cbb63cfa8",
   "metadata": {},
   "outputs": [],
   "source": [
    "plt.__version__"
   ]
  },
  {
   "cell_type": "code",
   "execution_count": null,
   "id": "8f27a3de-027a-4c02-ad94-b77b95d34ce3",
   "metadata": {},
   "outputs": [],
   "source": [
    "plt"
   ]
  },
  {
   "cell_type": "code",
   "execution_count": null,
   "id": "759a9265-a91d-428f-9eca-1b83e416f4c2",
   "metadata": {},
   "outputs": [],
   "source": [
    "import seaborn as sn"
   ]
  },
  {
   "cell_type": "code",
   "execution_count": null,
   "id": "bf5db944-2e27-47ef-b54e-0052c43f193d",
   "metadata": {},
   "outputs": [],
   "source": [
    "sn.__version__"
   ]
  },
  {
   "cell_type": "code",
   "execution_count": null,
   "id": "b5430343-2117-4896-a21d-7d04c8110c28",
   "metadata": {},
   "outputs": [],
   "source": [
    "# run this in a terminal without !\n",
    "#!conda install -c conda-forge plotnine"
   ]
  },
  {
   "cell_type": "code",
   "execution_count": null,
   "id": "fba40b54-a32e-4167-b5cb-3d22ad42af2b",
   "metadata": {},
   "outputs": [],
   "source": [
    "import plotnine as plt9"
   ]
  },
  {
   "cell_type": "code",
   "execution_count": null,
   "id": "c0f44d9a-4807-40d5-b466-1393c443791f",
   "metadata": {},
   "outputs": [],
   "source": [
    "plt.__version__"
   ]
  },
  {
   "cell_type": "code",
   "execution_count": null,
   "id": "26a071a0-5b49-4487-9db2-175be8edabe1",
   "metadata": {},
   "outputs": [],
   "source": [
    "import sqlite3 as sql"
   ]
  },
  {
   "cell_type": "code",
   "execution_count": null,
   "id": "b4c729bd-d68c-4ba2-9812-9f7500c842df",
   "metadata": {},
   "outputs": [],
   "source": [
    "sql.version"
   ]
  },
  {
   "cell_type": "code",
   "execution_count": null,
   "id": "02d5cd4a-9585-4112-937a-79a510e8442f",
   "metadata": {},
   "outputs": [],
   "source": [
    "# run this in a terminal without !\n",
    "#!conda install -y sqlalchemy"
   ]
  },
  {
   "cell_type": "code",
   "execution_count": null,
   "id": "409ceb1c-5a1c-4d60-8b4a-ebac9ec5b6d8",
   "metadata": {},
   "outputs": [],
   "source": [
    "import sqlalchemy as sqlal"
   ]
  },
  {
   "cell_type": "code",
   "execution_count": null,
   "id": "6045f3a3-c8bd-414a-93ba-430aaab19293",
   "metadata": {},
   "outputs": [],
   "source": [
    "#sqlal.sql"
   ]
  },
  {
   "cell_type": "code",
   "execution_count": null,
   "id": "ad368394-9f32-4578-803d-98a6074ca697",
   "metadata": {},
   "outputs": [],
   "source": [
    "import unittest as ut"
   ]
  },
  {
   "cell_type": "code",
   "execution_count": null,
   "id": "16712362-5027-41f6-8700-685b09708cb8",
   "metadata": {
    "tags": []
   },
   "outputs": [],
   "source": [
    "#ut"
   ]
  },
  {
   "cell_type": "code",
   "execution_count": null,
   "id": "70b9f682-9df4-4417-923d-3939bd0404e6",
   "metadata": {},
   "outputs": [],
   "source": [
    "import json as js"
   ]
  },
  {
   "cell_type": "code",
   "execution_count": null,
   "id": "0cbe5eeb-c371-4a66-a359-4ff94f4f4ff3",
   "metadata": {},
   "outputs": [],
   "source": [
    "#js"
   ]
  },
  {
   "cell_type": "code",
   "execution_count": null,
   "id": "e27b6b79-57a9-43b9-8bfa-9b3225eeddad",
   "metadata": {},
   "outputs": [],
   "source": [
    "import xml as xm"
   ]
  },
  {
   "cell_type": "code",
   "execution_count": null,
   "id": "f5aa8c7a-709c-4b8f-bf8e-4b8ae8e1b876",
   "metadata": {},
   "outputs": [],
   "source": [
    "#xm"
   ]
  }
 ],
 "metadata": {
  "kernelspec": {
   "display_name": "Python 3 (ipykernel)",
   "language": "python",
   "name": "python3"
  },
  "language_info": {
   "codemirror_mode": {
    "name": "ipython",
    "version": 3
   },
   "file_extension": ".py",
   "mimetype": "text/x-python",
   "name": "python",
   "nbconvert_exporter": "python",
   "pygments_lexer": "ipython3",
   "version": "3.8.10"
  }
 },
 "nbformat": 4,
 "nbformat_minor": 5
}
