{
 "cells": [
  {
   "cell_type": "markdown",
   "metadata": {},
   "source": [
    "### Subprocesses"
   ]
  },
  {
   "cell_type": "markdown",
   "metadata": {},
   "source": [
    "One of the biggest strengths of Python is that it can be used as a *glue* language. <br>\n",
    "It can 'glue' together a series of programs into a flexible and highly extensible pipline."
   ]
  },
  {
   "cell_type": "markdown",
   "metadata": {},
   "source": [
    "### Why subprocesses\n",
    "One of the most common, yet complicated, tasks that most programming languages need to do is creating new processes. <br>\n",
    "This could be as simple as seeing what files are present in the current working directory (`ls`) or as complicated as creating a program workflow that *pipes* output from one program into another program's input. <br/><br/>\n",
    "Many such tasks are easily taken care of through the use of Python libraries and modules (`import`) that *wrap* the programs into Python code, effectively creating Application Programming Interfaces (API). <br/><br/>\n",
    "However, there are many use cases that require the user to make calls to the terminal from ***within*** a Python program."
   ]
  },
  {
   "cell_type": "markdown",
   "metadata": {},
   "source": [
    "#### Operating System Conundrum"
   ]
  },
  {
   "cell_type": "markdown",
   "metadata": {},
   "source": [
    "First, we need to address the following issue. As many in this class have found out, while Python can be installed on most operating systems; doing the same thing in one operating system (Unix) may not always yield the same results in another (Windows).<br/><br/>\n",
    "The very first step to making a program **\"OS-agnostic\"** is through the use of the `os` module."
   ]
  },
  {
   "cell_type": "code",
   "execution_count": 1,
   "metadata": {},
   "outputs": [],
   "source": [
    "import os"
   ]
  },
  {
   "cell_type": "markdown",
   "metadata": {},
   "source": [
    "https://docs.python.org/3/library/os.html"
   ]
  },
  {
   "cell_type": "code",
   "execution_count": 3,
   "metadata": {},
   "outputs": [],
   "source": [
    "# dir(os)"
   ]
  },
  {
   "cell_type": "code",
   "execution_count": 4,
   "metadata": {},
   "outputs": [
    {
     "name": "stdout",
     "output_type": "stream",
     "text": [
      "error\n",
      "strerror\n"
     ]
    }
   ],
   "source": [
    "for elem in dir(os):\n",
    "    if \"error\" in elem:\n",
    "        print(elem)"
   ]
  },
  {
   "cell_type": "code",
   "execution_count": 5,
   "metadata": {},
   "outputs": [
    {
     "data": {
      "text/plain": [
       "'posix'"
      ]
     },
     "execution_count": 5,
     "metadata": {},
     "output_type": "execute_result"
    }
   ],
   "source": [
    "# The name of the operating system dependent module imported. \n",
    "# The following names have currently been registered: 'posix', 'nt', 'java'\n",
    "# Portable Operating System Interface -  IEEE standard designed to facilitate application portability\n",
    "# (Windows) New Technology - a 32-bit operating system that supports preemptive multitasking\n",
    "# \n",
    "os.name"
   ]
  },
  {
   "cell_type": "code",
   "execution_count": 8,
   "metadata": {},
   "outputs": [
    {
     "data": {
      "text/plain": [
       "posix.uname_result(sysname='Darwin', nodename='0587368551.wireless.umich.net', release='18.7.0', version='Darwin Kernel Version 18.7.0: Tue Jan 12 22:04:47 PST 2021; root:xnu-4903.278.56~1/RELEASE_X86_64', machine='x86_64')"
      ]
     },
     "execution_count": 8,
     "metadata": {},
     "output_type": "execute_result"
    }
   ],
   "source": [
    "# Returns information identifying the current operating system. The return value is an object with five attributes:\n",
    "# - sysname - operating system name\n",
    "# - nodename - name of machine on network (implementation-defined)\n",
    "# - release - operating system release\n",
    "# - version - operating system version\n",
    "# - machine - hardware identifier\n",
    "\n",
    "os.uname() # does not work for windows"
   ]
  },
  {
   "cell_type": "code",
   "execution_count": 9,
   "metadata": {},
   "outputs": [
    {
     "data": {
      "text/plain": [
       "uname_result(system='Darwin', node='0587368551.wireless.umich.net', release='18.7.0', version='Darwin Kernel Version 18.7.0: Tue Jan 12 22:04:47 PST 2021; root:xnu-4903.278.56~1/RELEASE_X86_64', machine='x86_64', processor='i386')"
      ]
     },
     "execution_count": 9,
     "metadata": {},
     "output_type": "execute_result"
    }
   ],
   "source": [
    "import platform # works for Windows\n",
    "platform.uname()"
   ]
  },
  {
   "cell_type": "code",
   "execution_count": 10,
   "metadata": {},
   "outputs": [
    {
     "data": {
      "text/plain": [
       "'darwin'"
      ]
     },
     "execution_count": 10,
     "metadata": {},
     "output_type": "execute_result"
    }
   ],
   "source": [
    "import sys\n",
    "\n",
    "# https://docs.python.org/3/library/sys.html\n",
    "# This string contains a platform identifier that can be used to append platform-specific components\n",
    "# to sys.path, for instance.\n",
    "    \n",
    "sys.platform"
   ]
  },
  {
   "cell_type": "code",
   "execution_count": 11,
   "metadata": {},
   "outputs": [
    {
     "data": {
      "text/plain": [
       "['/Users/mitrea/Documents/CLASSES/FALL_2021/BIOINF 575 FA 2021/Session 26 - subprocesses',\n",
       " '/opt/anaconda3/lib/python38.zip',\n",
       " '/opt/anaconda3/lib/python3.8',\n",
       " '/opt/anaconda3/lib/python3.8/lib-dynload',\n",
       " '',\n",
       " '/opt/anaconda3/lib/python3.8/site-packages',\n",
       " '/opt/anaconda3/lib/python3.8/site-packages/aeosa',\n",
       " '/opt/anaconda3/lib/python3.8/site-packages/IPython/extensions',\n",
       " '/Users/mitrea/.ipython']"
      ]
     },
     "execution_count": 11,
     "metadata": {},
     "output_type": "execute_result"
    }
   ],
   "source": [
    "# A list of strings that specifies the search path for modules. \n",
    "\n",
    "sys.path"
   ]
  },
  {
   "cell_type": "code",
   "execution_count": 13,
   "metadata": {},
   "outputs": [
    {
     "data": {
      "text/plain": [
       "'/Users/mitrea'"
      ]
     },
     "execution_count": 13,
     "metadata": {},
     "output_type": "execute_result"
    }
   ],
   "source": [
    "# A mapping object representing the string environment.\n",
    "\n",
    "os.environ['HOME']"
   ]
  },
  {
   "cell_type": "code",
   "execution_count": 12,
   "metadata": {},
   "outputs": [
    {
     "data": {
      "text/plain": [
       "environ{'TERM_PROGRAM': 'Apple_Terminal',\n",
       "        'SHELL': '/bin/bash',\n",
       "        'TERM': 'xterm-color',\n",
       "        'TMPDIR': '/var/folders/dg/8l7ql9hs6j71k502y3_6r3jh0000gp/T/',\n",
       "        'CONDA_SHLVL': '2',\n",
       "        'Apple_PubSub_Socket_Render': '/private/tmp/com.apple.launchd.U6kIWXnzqk/Render',\n",
       "        'CONDA_PROMPT_MODIFIER': '(base) ',\n",
       "        'TERM_PROGRAM_VERSION': '421.2',\n",
       "        'GSETTINGS_SCHEMA_DIR_CONDA_BACKUP': '',\n",
       "        'TERM_SESSION_ID': 'C26DDA13-545D-4362-9ECB-296FB7FF2197',\n",
       "        'LC_ALL': 'en_US.UTF-8',\n",
       "        'USER': 'mitrea',\n",
       "        'CONDA_EXE': '/opt/anaconda3/bin/conda',\n",
       "        'SSH_AUTH_SOCK': '/private/tmp/com.apple.launchd.aO5rl7YB7Y/Listeners',\n",
       "        'MKL_INTERFACE_LAYER': 'LP64,GNU',\n",
       "        '_CE_CONDA': '',\n",
       "        'CONDA_PREFIX_1': '/Users/mitrea/anaconda3',\n",
       "        'CONDA_ROOT': '/opt/anaconda3',\n",
       "        'PATH': '/opt/anaconda3/bin:/Users/mitrea/anaconda3/condabin:/usr/local/bin:/usr/bin:/bin:/usr/sbin:/sbin:/Library/TeX/texbin',\n",
       "        'GSETTINGS_SCHEMA_DIR': '/opt/anaconda3/share/glib-2.0/schemas',\n",
       "        'CONDA_MKL_INTERFACE_LAYER_BACKUP': '',\n",
       "        'CONDA_PREFIX': '/opt/anaconda3',\n",
       "        'PWD': '/Users/mitrea',\n",
       "        'LANG': 'en_US.UTF-8',\n",
       "        'XPC_FLAGS': '0x0',\n",
       "        '_CE_M': '',\n",
       "        'XPC_SERVICE_NAME': '0',\n",
       "        'SHLVL': '3',\n",
       "        'HOME': '/Users/mitrea',\n",
       "        'CONDA_PYTHON_EXE': '/opt/anaconda3/bin/python',\n",
       "        'LOGNAME': 'mitrea',\n",
       "        'CONDA_DEFAULT_ENV': 'base',\n",
       "        'SQLITE_EXEMPT_PATH_FROM_VNODE_GUARDS': '/Users/mitrea/Library/WebKit/Databases',\n",
       "        '_': '/opt/anaconda3/bin/jupyter',\n",
       "        'JPY_PARENT_PID': '79229',\n",
       "        'CLICOLOR': '1',\n",
       "        'PAGER': 'cat',\n",
       "        'GIT_PAGER': 'cat',\n",
       "        'MPLBACKEND': 'module://matplotlib_inline.backend_inline'}"
      ]
     },
     "execution_count": 12,
     "metadata": {},
     "output_type": "execute_result"
    }
   ],
   "source": [
    "os.environ"
   ]
  },
  {
   "cell_type": "code",
   "execution_count": 14,
   "metadata": {},
   "outputs": [
    {
     "data": {
      "text/plain": [
       "'/Users/mitrea'"
      ]
     },
     "execution_count": 14,
     "metadata": {},
     "output_type": "execute_result"
    }
   ],
   "source": [
    "#Return the value of the environment variable key if it exists, \n",
    "#or default if it doesn’t. key, default and the result are str.\n",
    "\n",
    "os.getenv(\"HOME\")"
   ]
  },
  {
   "cell_type": "code",
   "execution_count": 15,
   "metadata": {},
   "outputs": [
    {
     "data": {
      "text/plain": [
       "'/opt/anaconda3/bin:/Users/mitrea/anaconda3/condabin:/usr/local/bin:/usr/bin:/bin:/usr/sbin:/sbin:/Library/TeX/texbin'"
      ]
     },
     "execution_count": 15,
     "metadata": {},
     "output_type": "execute_result"
    }
   ],
   "source": [
    "os.getenv(\"PATH\")"
   ]
  },
  {
   "cell_type": "code",
   "execution_count": 16,
   "metadata": {},
   "outputs": [
    {
     "data": {
      "text/plain": [
       "['/opt/anaconda3/bin',\n",
       " '/Users/mitrea/anaconda3/condabin',\n",
       " '/usr/local/bin',\n",
       " '/usr/bin',\n",
       " '/bin',\n",
       " '/usr/sbin',\n",
       " '/sbin',\n",
       " '/Library/TeX/texbin']"
      ]
     },
     "execution_count": 16,
     "metadata": {},
     "output_type": "execute_result"
    }
   ],
   "source": [
    "os.getenv(\"PATH\").split(\":\")"
   ]
  },
  {
   "cell_type": "code",
   "execution_count": 17,
   "metadata": {},
   "outputs": [
    {
     "data": {
      "text/plain": [
       "['/opt/anaconda3/bin',\n",
       " '/Users/mitrea/anaconda3/condabin',\n",
       " '/usr/local/bin',\n",
       " '/usr/bin',\n",
       " '/bin',\n",
       " '/usr/sbin',\n",
       " '/sbin',\n",
       " '/Library/TeX/texbin']"
      ]
     },
     "execution_count": 17,
     "metadata": {},
     "output_type": "execute_result"
    }
   ],
   "source": [
    "# Returns the list of directories that will be searched for a named executable,\n",
    "#similar to a shell, when launching a process. \n",
    "# env, when specified, should be an environment variable dictionary to lookup the PATH in. \n",
    "# By default, when env is None, environ is used.\n",
    "\n",
    "os.get_exec_path()"
   ]
  },
  {
   "cell_type": "markdown",
   "metadata": {},
   "source": [
    "The `os` module wraps OS-specific operations into a set of standardized commands. <br>\n",
    "For instance, the Linux end-of-line (EOL) character is a `\\n`, but `\\r\\n` in Windows. <br>\n",
    "In Python, we can just use the following:"
   ]
  },
  {
   "cell_type": "code",
   "execution_count": 18,
   "metadata": {},
   "outputs": [
    {
     "data": {
      "text/plain": [
       "'\\n'"
      ]
     },
     "execution_count": 18,
     "metadata": {},
     "output_type": "execute_result"
    }
   ],
   "source": [
    "# EOL - for the current (detected) environment\n",
    "\n",
    "'''\n",
    "The string used to separate (or, rather, terminate) lines on the current platform. \n",
    "This may be a single character, such as '\\n' for POSIX, or multiple characters, \n",
    "for example, '\\r\\n' for Windows. \n",
    "Do not use os.linesep as a line terminator when writing files opened in text mode (the default); \n",
    "use a single '\\n' instead, on all platforms.\n",
    "'''\n",
    "\n",
    "os.linesep"
   ]
  },
  {
   "cell_type": "markdown",
   "metadata": {},
   "source": [
    "Another example, in a Linux environment, one must use the following command to list the contents of a given directory:\n",
    "```\n",
    "ls -alh \n",
    "```\n",
    "\n",
    "In Windows, the equivalent is as follows:\n",
    "```\n",
    "dir\n",
    "```\n",
    "\n",
    "Python allows users to do a single command, in spite of the OS:"
   ]
  },
  {
   "cell_type": "code",
   "execution_count": 19,
   "metadata": {},
   "outputs": [
    {
     "data": {
      "text/plain": [
       "['testing.txt', '.ipynb_checkpoints', 'test_script.sh']"
      ]
     },
     "execution_count": 19,
     "metadata": {},
     "output_type": "execute_result"
    }
   ],
   "source": [
    "# List directory contents\n",
    "\n",
    "os.listdir(\"demoCM\")"
   ]
  },
  {
   "cell_type": "markdown",
   "metadata": {},
   "source": [
    "However, the biggest issue for creating an OS-agnostic program is ***paths*** <br/>\n",
    "Windows: `\"C:\\\\Users\\\\MDS\\\\Documents\"`<br/>\n",
    "Linux: `/mnt/c/Users/MDS/Documents/`<br/><br/>\n",
    "Enter Python:"
   ]
  },
  {
   "cell_type": "code",
   "execution_count": 20,
   "metadata": {},
   "outputs": [
    {
     "data": {
      "text/plain": [
       "'/Users/mitrea/Documents/CLASSES/FALL_2021/BIOINF 575 FA 2021/Session 26 - subprocesses/test.py'"
      ]
     },
     "execution_count": 20,
     "metadata": {},
     "output_type": "execute_result"
    }
   ],
   "source": [
    "# path joining from pwd\n",
    "pwd = os.getcwd()\n",
    "os.path.join(pwd,\"test.py\")"
   ]
  },
  {
   "cell_type": "markdown",
   "metadata": {},
   "source": [
    "### `subprocess`"
   ]
  },
  {
   "cell_type": "markdown",
   "metadata": {},
   "source": [
    "If you Google anything on how to run shell commands, but don't specify Python 3.x, you will likely get an answer that includes `popen`, `popen2`, or `popen3`. These were the most prolific ways to *open* a new *p*rocess. In Python 3.x, they encapsulated these functions into a new one called `run` available through the `subprocess` library."
   ]
  },
  {
   "cell_type": "code",
   "execution_count": 21,
   "metadata": {},
   "outputs": [],
   "source": [
    "# Import and alias\n",
    "import subprocess as sp"
   ]
  },
  {
   "cell_type": "code",
   "execution_count": 22,
   "metadata": {},
   "outputs": [
    {
     "data": {
      "text/plain": [
       "['CalledProcessError',\n",
       " 'CompletedProcess',\n",
       " 'DEVNULL',\n",
       " 'PIPE',\n",
       " 'Popen',\n",
       " 'STDOUT',\n",
       " 'SubprocessError',\n",
       " 'TimeoutExpired',\n",
       " '_PIPE_BUF',\n",
       " '_PopenSelector',\n",
       " '_USE_POSIX_SPAWN',\n",
       " '__all__',\n",
       " '__builtins__',\n",
       " '__cached__',\n",
       " '__doc__',\n",
       " '__file__',\n",
       " '__loader__',\n",
       " '__name__',\n",
       " '__package__',\n",
       " '__spec__',\n",
       " '_active',\n",
       " '_args_from_interpreter_flags',\n",
       " '_cleanup',\n",
       " '_mswindows',\n",
       " '_optim_args_from_interpreter_flags',\n",
       " '_posixsubprocess',\n",
       " '_time',\n",
       " '_use_posix_spawn',\n",
       " 'builtins',\n",
       " 'call',\n",
       " 'check_call',\n",
       " 'check_output',\n",
       " 'contextlib',\n",
       " 'errno',\n",
       " 'getoutput',\n",
       " 'getstatusoutput',\n",
       " 'io',\n",
       " 'list2cmdline',\n",
       " 'os',\n",
       " 'run',\n",
       " 'select',\n",
       " 'selectors',\n",
       " 'signal',\n",
       " 'sys',\n",
       " 'threading',\n",
       " 'time',\n",
       " 'warnings']"
      ]
     },
     "execution_count": 22,
     "metadata": {},
     "output_type": "execute_result"
    }
   ],
   "source": [
    "dir(sp)"
   ]
  },
  {
   "cell_type": "markdown",
   "metadata": {},
   "source": [
    "#### `check_output`"
   ]
  },
  {
   "cell_type": "code",
   "execution_count": 24,
   "metadata": {},
   "outputs": [],
   "source": [
    "# help(sp.check_output)"
   ]
  },
  {
   "cell_type": "code",
   "execution_count": 25,
   "metadata": {},
   "outputs": [
    {
     "data": {
      "text/plain": [
       "'test\\n'"
      ]
     },
     "execution_count": 25,
     "metadata": {},
     "output_type": "execute_result"
    }
   ],
   "source": [
    "# check_output returns a bytestring by default, so I set encoding to convert it to strings.\n",
    "# [command, command line arguments]\n",
    "# change from bytes to string using encoding\n",
    "\n",
    "sp.check_output([\"echo\",\"test\"],encoding='utf_8')"
   ]
  },
  {
   "cell_type": "code",
   "execution_count": 26,
   "metadata": {},
   "outputs": [
    {
     "name": "stdout",
     "output_type": "stream",
     "text": [
      "python is /opt/anaconda3/bin/python\n"
     ]
    }
   ],
   "source": [
    "! type python"
   ]
  },
  {
   "cell_type": "code",
   "execution_count": 29,
   "metadata": {},
   "outputs": [],
   "source": [
    "! chmod u+x test.py"
   ]
  },
  {
   "cell_type": "code",
   "execution_count": 32,
   "metadata": {},
   "outputs": [
    {
     "data": {
      "text/plain": [
       "\"This is a python script\\nname variable is __main__\\nNumber of arguments: 2\\nArgument List: ['/Users/mitrea/Documents/CLASSES/FALL_2021/BIOINF 575 FA 2021/Session 26 - subprocesses/test.py', '[1,2,3]']\\nthe array is [1 2 3]\\nThe test variable value is 10\\n\""
      ]
     },
     "execution_count": 32,
     "metadata": {},
     "output_type": "execute_result"
    }
   ],
   "source": [
    "sp.check_output([os.path.join(pwd,\"test.py\"),\"[1,2,3]\"],encoding='utf_8')"
   ]
  },
  {
   "cell_type": "markdown",
   "metadata": {},
   "source": [
    "The first thing we will look are trivial examples that demonstrate just capturing the *output* (stdout) of a program"
   ]
  },
  {
   "cell_type": "markdown",
   "metadata": {},
   "source": [
    "However, while the `check_output` function is still in the `subprocess` module, it can easily be converted into into a more specific and/or flexible `run` function signature."
   ]
  },
  {
   "cell_type": "markdown",
   "metadata": {},
   "source": [
    "#### `run`"
   ]
  },
  {
   "cell_type": "code",
   "execution_count": 33,
   "metadata": {},
   "outputs": [
    {
     "name": "stdout",
     "output_type": "stream",
     "text": [
      "Help on function run in module subprocess:\n",
      "\n",
      "run(*popenargs, input=None, capture_output=False, timeout=None, check=False, **kwargs)\n",
      "    Run command with arguments and return a CompletedProcess instance.\n",
      "    \n",
      "    The returned instance will have attributes args, returncode, stdout and\n",
      "    stderr. By default, stdout and stderr are not captured, and those attributes\n",
      "    will be None. Pass stdout=PIPE and/or stderr=PIPE in order to capture them.\n",
      "    \n",
      "    If check is True and the exit code was non-zero, it raises a\n",
      "    CalledProcessError. The CalledProcessError object will have the return code\n",
      "    in the returncode attribute, and output & stderr attributes if those streams\n",
      "    were captured.\n",
      "    \n",
      "    If timeout is given, and the process takes too long, a TimeoutExpired\n",
      "    exception will be raised.\n",
      "    \n",
      "    There is an optional argument \"input\", allowing you to\n",
      "    pass bytes or a string to the subprocess's stdin.  If you use this argument\n",
      "    you may not also use the Popen constructor's \"stdin\" argument, as\n",
      "    it will be used internally.\n",
      "    \n",
      "    By default, all communication is in bytes, and therefore any \"input\" should\n",
      "    be bytes, and the stdout and stderr will be bytes. If in text mode, any\n",
      "    \"input\" should be a string, and stdout and stderr will be strings decoded\n",
      "    according to locale encoding, or by \"encoding\" if set. Text mode is\n",
      "    triggered by setting any of text, encoding, errors or universal_newlines.\n",
      "    \n",
      "    The other arguments are the same as for the Popen constructor.\n",
      "\n"
     ]
    }
   ],
   "source": [
    "help(sp.run)"
   ]
  },
  {
   "cell_type": "code",
   "execution_count": 34,
   "metadata": {},
   "outputs": [
    {
     "data": {
      "text/plain": [
       "CompletedProcess(args=['echo', 'test'], returncode=0, stdout='test\\n')"
      ]
     },
     "execution_count": 34,
     "metadata": {},
     "output_type": "execute_result"
    }
   ],
   "source": [
    "sub = sp.run(\n",
    "    [\n",
    "        'echo',             # The command we want to run\n",
    "        'test'              # Arguments for the command\n",
    "    ],\n",
    "    encoding='utf_8',       # Converting byte code\n",
    "    stdout=sp.PIPE,         # Where to send the output\n",
    "    check=True              # Whether to raise an error if the process fails\n",
    ")  \n",
    "sub"
   ]
  },
  {
   "cell_type": "code",
   "execution_count": 35,
   "metadata": {},
   "outputs": [
    {
     "data": {
      "text/plain": [
       "['__class__',\n",
       " '__delattr__',\n",
       " '__dict__',\n",
       " '__dir__',\n",
       " '__doc__',\n",
       " '__eq__',\n",
       " '__format__',\n",
       " '__ge__',\n",
       " '__getattribute__',\n",
       " '__gt__',\n",
       " '__hash__',\n",
       " '__init__',\n",
       " '__init_subclass__',\n",
       " '__le__',\n",
       " '__lt__',\n",
       " '__module__',\n",
       " '__ne__',\n",
       " '__new__',\n",
       " '__reduce__',\n",
       " '__reduce_ex__',\n",
       " '__repr__',\n",
       " '__setattr__',\n",
       " '__sizeof__',\n",
       " '__str__',\n",
       " '__subclasshook__',\n",
       " '__weakref__',\n",
       " 'args',\n",
       " 'check_returncode',\n",
       " 'returncode',\n",
       " 'stderr',\n",
       " 'stdout']"
      ]
     },
     "execution_count": 35,
     "metadata": {},
     "output_type": "execute_result"
    }
   ],
   "source": [
    "dir(sub)"
   ]
  },
  {
   "cell_type": "code",
   "execution_count": 36,
   "metadata": {},
   "outputs": [
    {
     "name": "stdout",
     "output_type": "stream",
     "text": [
      "test\n",
      "\n"
     ]
    }
   ],
   "source": [
    "print(sub.stdout)"
   ]
  },
  {
   "cell_type": "markdown",
   "metadata": {},
   "source": [
    "The main utility of `check_output` was to capture the output (stdout) of a program. <br>\n",
    "By using the `stdout=subprocess.PIPE` argument, the output can easily be captured, along with its return code. <br>\n",
    "A return code signifies the program's exit status: 0 for success, anything else otherwise"
   ]
  },
  {
   "cell_type": "code",
   "execution_count": 37,
   "metadata": {},
   "outputs": [
    {
     "data": {
      "text/plain": [
       "0"
      ]
     },
     "execution_count": 37,
     "metadata": {},
     "output_type": "execute_result"
    }
   ],
   "source": [
    "sub.returncode"
   ]
  },
  {
   "cell_type": "markdown",
   "metadata": {},
   "source": [
    "With our `run` code above, our program ran to completetion, exiting with status 0. The next example shows a different status."
   ]
  },
  {
   "cell_type": "code",
   "execution_count": 38,
   "metadata": {},
   "outputs": [
    {
     "data": {
      "text/plain": [
       "CompletedProcess(args='exit 1', returncode=1)"
      ]
     },
     "execution_count": 38,
     "metadata": {},
     "output_type": "execute_result"
    }
   ],
   "source": [
    "sp.run(\n",
    "        'exit 1',      # Command & arguments\n",
    "        shell = True   # Run from the shell\n",
    "        )\n"
   ]
  },
  {
   "cell_type": "markdown",
   "metadata": {},
   "source": [
    "However, if the `check=True` argument is used, it will raise a `CalledProcessError` if your program exits with anything different than 0. This is helpful for detecting a pipeline failure, and exiting or correcting before attempting to continue computation."
   ]
  },
  {
   "cell_type": "code",
   "execution_count": 39,
   "metadata": {},
   "outputs": [
    {
     "ename": "CalledProcessError",
     "evalue": "Command 'exit 1' returned non-zero exit status 1.",
     "output_type": "error",
     "traceback": [
      "\u001b[0;31m---------------------------------------------------------------------------\u001b[0m",
      "\u001b[0;31mCalledProcessError\u001b[0m                        Traceback (most recent call last)",
      "\u001b[0;32m/var/folders/dg/8l7ql9hs6j71k502y3_6r3jh0000gp/T/ipykernel_2119/2125842560.py\u001b[0m in \u001b[0;36m<module>\u001b[0;34m\u001b[0m\n\u001b[0;32m----> 1\u001b[0;31m sp.run(\n\u001b[0m\u001b[1;32m      2\u001b[0m         \u001b[0;34m'exit 1'\u001b[0m\u001b[0;34m,\u001b[0m      \u001b[0;31m# Command & arguments\u001b[0m\u001b[0;34m\u001b[0m\u001b[0;34m\u001b[0m\u001b[0m\n\u001b[1;32m      3\u001b[0m         \u001b[0mshell\u001b[0m \u001b[0;34m=\u001b[0m \u001b[0;32mTrue\u001b[0m\u001b[0;34m,\u001b[0m  \u001b[0;31m# Run from the shell\u001b[0m\u001b[0;34m\u001b[0m\u001b[0;34m\u001b[0m\u001b[0m\n\u001b[1;32m      4\u001b[0m         \u001b[0mcheck\u001b[0m \u001b[0;34m=\u001b[0m \u001b[0;32mTrue\u001b[0m   \u001b[0;31m# Check exit status\u001b[0m\u001b[0;34m\u001b[0m\u001b[0;34m\u001b[0m\u001b[0m\n\u001b[1;32m      5\u001b[0m     )\n",
      "\u001b[0;32m/opt/anaconda3/lib/python3.8/subprocess.py\u001b[0m in \u001b[0;36mrun\u001b[0;34m(input, capture_output, timeout, check, *popenargs, **kwargs)\u001b[0m\n\u001b[1;32m    514\u001b[0m         \u001b[0mretcode\u001b[0m \u001b[0;34m=\u001b[0m \u001b[0mprocess\u001b[0m\u001b[0;34m.\u001b[0m\u001b[0mpoll\u001b[0m\u001b[0;34m(\u001b[0m\u001b[0;34m)\u001b[0m\u001b[0;34m\u001b[0m\u001b[0;34m\u001b[0m\u001b[0m\n\u001b[1;32m    515\u001b[0m         \u001b[0;32mif\u001b[0m \u001b[0mcheck\u001b[0m \u001b[0;32mand\u001b[0m \u001b[0mretcode\u001b[0m\u001b[0;34m:\u001b[0m\u001b[0;34m\u001b[0m\u001b[0;34m\u001b[0m\u001b[0m\n\u001b[0;32m--> 516\u001b[0;31m             raise CalledProcessError(retcode, process.args,\n\u001b[0m\u001b[1;32m    517\u001b[0m                                      output=stdout, stderr=stderr)\n\u001b[1;32m    518\u001b[0m     \u001b[0;32mreturn\u001b[0m \u001b[0mCompletedProcess\u001b[0m\u001b[0;34m(\u001b[0m\u001b[0mprocess\u001b[0m\u001b[0;34m.\u001b[0m\u001b[0margs\u001b[0m\u001b[0;34m,\u001b[0m \u001b[0mretcode\u001b[0m\u001b[0;34m,\u001b[0m \u001b[0mstdout\u001b[0m\u001b[0;34m,\u001b[0m \u001b[0mstderr\u001b[0m\u001b[0;34m)\u001b[0m\u001b[0;34m\u001b[0m\u001b[0;34m\u001b[0m\u001b[0m\n",
      "\u001b[0;31mCalledProcessError\u001b[0m: Command 'exit 1' returned non-zero exit status 1."
     ]
    }
   ],
   "source": [
    "sp.run(\n",
    "        'exit 1',      # Command & arguments\n",
    "        shell = True,  # Run from the shell\n",
    "        check = True   # Check exit status\n",
    "    )"
   ]
  },
  {
   "cell_type": "code",
   "execution_count": 40,
   "metadata": {},
   "outputs": [
    {
     "name": "stdout",
     "output_type": "stream",
     "text": [
      "Exit code 1. Expected 0 when there is no error.\n"
     ]
    }
   ],
   "source": [
    "sub = sp.run(\n",
    "        'exit 1',      # Command & arguments\n",
    "        shell = True,  # Run from the shell\n",
    "        # check = True   # Check exit status\n",
    "    )\n",
    "if (sub.returncode != 0):\n",
    "    print(f\"Exit code {sub.returncode}. Expected 0 when there is no error.\")"
   ]
  },
  {
   "cell_type": "markdown",
   "metadata": {},
   "source": [
    "#### Syntax"
   ]
  },
  {
   "cell_type": "markdown",
   "metadata": {},
   "source": [
    "Syntax when using `run`:<br/>\n",
    "1. A list of arguments: `subprocess.run(['echo', 'test', ...], ...)` \n",
    "2. A string and `shell`: `subprocess.run('exit 1', shell = True, ...)`"
   ]
  },
  {
   "cell_type": "markdown",
   "metadata": {},
   "source": [
    "The preferred way of using `run` is the first way. <br>\n",
    "This preference is mainly due to security purposes (to prevent shell injection attacks). <br>\n",
    "It also allows the module to take care of any required escaping and quoting of arguments for a pseudo-OS-agnostic approach. "
   ]
  },
  {
   "cell_type": "markdown",
   "metadata": {},
   "source": [
    "There are some guidelines though:\n",
    "1. Sequence (list) of arguments is generally preferred\n",
    "2. A str is appropriate if the user is just calling a program with no arguments\n",
    "3. The user should use a str to pass argument if `shell` is `True`<br/>\n",
    "Your next questions should be, \"What is `shell`?\""
   ]
  },
  {
   "cell_type": "markdown",
   "metadata": {},
   "source": [
    "`shell` is just your terminal/command prompt. This is the environment where you call `ls/dir` in. It is also where users can define variables. More importantly, this is where your *environmental variables* are set...like `PATH`.<br/><br/>\n",
    "By using `shell = True`, the user can now use shell-based environmental variable expansion from within a Python program."
   ]
  },
  {
   "cell_type": "code",
   "execution_count": 41,
   "metadata": {},
   "outputs": [
    {
     "data": {
      "text/plain": [
       "CompletedProcess(args='echo $PATH', returncode=0, stdout='/opt/anaconda3/bin:/Users/mitrea/anaconda3/condabin:/usr/local/bin:/usr/bin:/bin:/usr/sbin:/sbin:/Library/TeX/texbin\\n')"
      ]
     },
     "execution_count": 41,
     "metadata": {},
     "output_type": "execute_result"
    }
   ],
   "source": [
    "sp.run(\n",
    "        'echo $PATH',            # Command\n",
    "        shell = True,            # Use the shell\n",
    "        stdout=sp.PIPE,          # Where to send it\n",
    "        encoding='utf_8'         # Convert from bytes to string\n",
    "    )      # Look at the output\n"
   ]
  },
  {
   "cell_type": "code",
   "execution_count": 49,
   "metadata": {},
   "outputs": [
    {
     "name": "stdout",
     "output_type": "stream",
     "text": [
      "CompletedProcess(args='sleep 5', returncode=0, stdout='')\n",
      "CompletedProcess(args='echo done', returncode=0, stdout='done\\n')\n"
     ]
    }
   ],
   "source": [
    "p1 = sp.run(\n",
    "        'sleep 5',               # Command\n",
    "        shell = True,            # Use the shell\n",
    "        stdout=sp.PIPE,          # Where to send it\n",
    "        encoding='utf_8'         # Convert from bytes to string\n",
    "    )\n",
    "print(p1)\n",
    "p2 = sp.run(\n",
    "        'echo done',             # Command\n",
    "        shell = True,            # Use the shell\n",
    "        stdout=sp.PIPE,          # Where to send it\n",
    "        encoding='utf_8'         # Convert from bytes to string\n",
    "    )\n",
    "print(p2)"
   ]
  },
  {
   "cell_type": "code",
   "execution_count": 50,
   "metadata": {},
   "outputs": [
    {
     "data": {
      "text/plain": [
       "['__class__',\n",
       " '__delattr__',\n",
       " '__dict__',\n",
       " '__dir__',\n",
       " '__doc__',\n",
       " '__eq__',\n",
       " '__format__',\n",
       " '__ge__',\n",
       " '__getattribute__',\n",
       " '__gt__',\n",
       " '__hash__',\n",
       " '__init__',\n",
       " '__init_subclass__',\n",
       " '__le__',\n",
       " '__lt__',\n",
       " '__module__',\n",
       " '__ne__',\n",
       " '__new__',\n",
       " '__reduce__',\n",
       " '__reduce_ex__',\n",
       " '__repr__',\n",
       " '__setattr__',\n",
       " '__sizeof__',\n",
       " '__str__',\n",
       " '__subclasshook__',\n",
       " '__weakref__',\n",
       " 'args',\n",
       " 'check_returncode',\n",
       " 'returncode',\n",
       " 'stderr',\n",
       " 'stdout']"
      ]
     },
     "execution_count": 50,
     "metadata": {},
     "output_type": "execute_result"
    }
   ],
   "source": [
    "dir(p1)"
   ]
  },
  {
   "cell_type": "markdown",
   "metadata": {},
   "source": [
    "For the most part, you shouldn't need to use `shell` simply because Python has modules in the standard library that can do most of the shell commands. For example `mkdir` can be done with `os.mkdir()`, and `$PATH` can be retrieved using os.getenv(\"PATH\") or os.get_exec_path() as shown above. "
   ]
  },
  {
   "cell_type": "markdown",
   "metadata": {},
   "source": [
    "#### Blocking vs Non-blocking"
   ]
  },
  {
   "cell_type": "markdown",
   "metadata": {},
   "source": [
    "The last topic of this lecture is \"blocking\". This is computer science lingo/jargon for whether or not a program ***waits*** until something is complete before moving on. Think of this like a really bad website that takes forever to load because it is waiting until it has rendered all its images first, versus the website that sets the formatting and text while it works on the images."
   ]
  },
  {
   "cell_type": "markdown",
   "metadata": {},
   "source": [
    "1. `subprocess.run()` is blocking (it waits until the process is complete)\n",
    "2. `subprocess.Popen()` is non-blocking (it will run the command, then move on)"
   ]
  },
  {
   "cell_type": "markdown",
   "metadata": {},
   "source": [
    "***Most*** use cases can be handled through the use of `run()`.<br> \n",
    "`run()` is just a *wrapped* version of `Popen()` that simplifies use. <br>\n",
    "However, `Popen()` allows the user a more flexible control of the subprocess call. <br>\n",
    "`Popen()` can be used similar way as run (with more optional parameters)."
   ]
  },
  {
   "cell_type": "markdown",
   "metadata": {},
   "source": [
    "An example use case for `Popen()` is if the user has some intermediate data that needs to get processed, but the output of that data doesn't necessarily affect the rest of the pipeline."
   ]
  },
  {
   "cell_type": "markdown",
   "metadata": {},
   "source": [
    "#### `Popen`"
   ]
  },
  {
   "cell_type": "code",
   "execution_count": 43,
   "metadata": {},
   "outputs": [
    {
     "name": "stdout",
     "output_type": "stream",
     "text": [
      "<subprocess.Popen object at 0x11212bc40>\n",
      "<subprocess.Popen object at 0x112093550>\n",
      "processes ran\n",
      "\n",
      "done\n",
      "\n",
      "processes completed\n"
     ]
    }
   ],
   "source": [
    "p1 = sp.Popen(\n",
    "        'sleep 5',               # Command\n",
    "        shell = True,            # Use the shell\n",
    "        stdout=sp.PIPE,          # Where to send it\n",
    "        encoding='utf_8'         # Convert from bytes to string\n",
    "    )\n",
    "print(p1)\n",
    "p2 = sp.Popen(\n",
    "        'echo done',             # Command\n",
    "        shell = True,            # Use the shell\n",
    "        stdout=sp.PIPE,          # Where to send it\n",
    "        encoding='utf_8'         # Convert from bytes to string\n",
    "    )\n",
    "print(p2)\n",
    "print(\"processes ran\")\n",
    "\n",
    "print(p1.stdout.read())\n",
    "print(p2.stdout.read())\n",
    "print(\"processes completed\")\n",
    "\n"
   ]
  },
  {
   "cell_type": "code",
   "execution_count": 44,
   "metadata": {},
   "outputs": [
    {
     "name": "stdout",
     "output_type": "stream",
     "text": [
      "here we are\n",
      "\n"
     ]
    }
   ],
   "source": [
    "# Use context manager to handle process while it is running,\n",
    "# and gracefully close it\n",
    "with sp.Popen(\n",
    "    [\n",
    "        'echo',         # Command\n",
    "        'here we are'       # Command line arguments\n",
    "    ],\n",
    "    encoding='utf_8', # Convert from byte to string\n",
    "    stdout=sp.PIPE    # Where to send it\n",
    ") as proc:            # Enclose and alias the context manager\n",
    "    print(\n",
    "        proc.stdout.read() # Look at the output\n",
    "    )"
   ]
  },
  {
   "cell_type": "code",
   "execution_count": 45,
   "metadata": {},
   "outputs": [
    {
     "name": "stdout",
     "output_type": "stream",
     "text": [
      "args\n",
      "communicate\n",
      "encoding\n",
      "errors\n",
      "kill\n",
      "pid\n",
      "poll\n",
      "returncode\n",
      "send_signal\n",
      "stderr\n",
      "stdin\n",
      "stdout\n",
      "terminate\n",
      "text_mode\n",
      "universal_newlines\n",
      "wait\n"
     ]
    }
   ],
   "source": [
    "for elem in dir(proc):\n",
    "    if not elem.startswith('_'):\n",
    "        print(elem)"
   ]
  },
  {
   "cell_type": "markdown",
   "metadata": {},
   "source": [
    "#### ***NOTE***: From here on out, there might be different commands used for **Linux** / **MacOS** or **Windows**"
   ]
  },
  {
   "cell_type": "markdown",
   "metadata": {},
   "source": [
    "Add the following text to a new file `test_pipe.txt` \n",
    "```\n",
    "testing\n",
    "a\n",
    "subprocess\n",
    "pipe\n",
    "```"
   ]
  },
  {
   "cell_type": "code",
   "execution_count": null,
   "metadata": {},
   "outputs": [],
   "source": [
    "# another way to add the text to the file\n",
    "#test_pipe.txt - a file to be used to demonstrate pipe of cat and sort \n",
    "!echo testing > test_pipe.txt\n",
    "!echo a >> test_pipe.txt\n",
    "!echo subprocess >> test_pipe.txt\n",
    "!echo pipe >> test_pipe.txt\n"
   ]
  },
  {
   "cell_type": "code",
   "execution_count": 46,
   "metadata": {},
   "outputs": [
    {
     "name": "stdout",
     "output_type": "stream",
     "text": [
      "testing\n",
      "a\n",
      "subprocess\n",
      "pipe\n",
      "\n"
     ]
    }
   ],
   "source": [
    "# start the first process - cat - reading the file content\n",
    "\n",
    "# mac OS\n",
    "p1 = sp.Popen(['cat','test_pipe.txt'], stdout=sp.PIPE, encoding='utf_8')\n",
    "\n",
    "# windows OS\n",
    "# p1 = sp.Popen(['type','test_pipe.txt'], stdout=sp.PIPE, encoding='utf_8')\n",
    "\n",
    "print(p1.stdout.read())"
   ]
  },
  {
   "cell_type": "code",
   "execution_count": 47,
   "metadata": {},
   "outputs": [
    {
     "name": "stdout",
     "output_type": "stream",
     "text": [
      "a\n",
      "pipe\n",
      "subprocess\n",
      "testing\n",
      "\n"
     ]
    }
   ],
   "source": [
    "# add the second process and connect the pipe: \n",
    "# for p2 we use stdin=p1.stdout\n",
    "\n",
    "# mac OS\n",
    "p1 = sp.Popen(['cat','test_pipe.txt'], stdout=sp.PIPE, encoding='utf_8')\n",
    "\n",
    "# windows OS\n",
    "# p1 = sp.Popen(['type','test_pipe.txt'], stdout=sp.PIPE, encoding='utf_8')\n",
    "\n",
    "\n",
    "p2 = sp.Popen(['sort'], stdin=p1.stdout, stdout=sp.PIPE, encoding='utf_8')\n",
    "p1.stdout.close()  # Allow p1 to receive a SIGPIPE if p2 exits\n",
    "output = p2.communicate()[0]\n",
    "print(output)\n"
   ]
  },
  {
   "cell_type": "markdown",
   "metadata": {},
   "source": [
    "`Popen` can create background processes, shell-background-like behavior means not blocking. <br>\n",
    "`Popen` has a lot more functionality than `run`."
   ]
  },
  {
   "cell_type": "code",
   "execution_count": 48,
   "metadata": {},
   "outputs": [
    {
     "name": "stdout",
     "output_type": "stream",
     "text": [
      "args\n",
      "communicate\n",
      "encoding\n",
      "errors\n",
      "kill\n",
      "pid\n",
      "poll\n",
      "returncode\n",
      "send_signal\n",
      "stderr\n",
      "stdin\n",
      "stdout\n",
      "terminate\n",
      "text_mode\n",
      "universal_newlines\n",
      "wait\n"
     ]
    }
   ],
   "source": [
    "sub_popen = sp.Popen(\n",
    "    [\n",
    "        'echo',          # Command\n",
    "        'test',        # Command line arguments\n",
    "    ],\n",
    "    encoding='utf_8',  # Convert from byte to string\n",
    "    stdout=sp.PIPE     # Where to send it\n",
    ")\n",
    "for j in dir(sub_popen):\n",
    "    if not j.startswith('_'):\n",
    "        print(j)\n"
   ]
  },
  {
   "cell_type": "code",
   "execution_count": 51,
   "metadata": {},
   "outputs": [],
   "source": [
    "sub_popen.kill()       # Close the process"
   ]
  },
  {
   "cell_type": "markdown",
   "metadata": {},
   "source": [
    "Example creating child process.<br>\n",
    "https://pymotw.com/3/subprocess/\n",
    "\n",
    "A collection of `Popen` examples: <br>\n",
    "https://www.programcreek.com/python/example/50/subprocess.Popen"
   ]
  },
  {
   "cell_type": "code",
   "execution_count": null,
   "metadata": {},
   "outputs": [],
   "source": [
    "67dN85Td"
   ]
  },
  {
   "cell_type": "markdown",
   "metadata": {},
   "source": [
    "#### Exercise \n",
    "Write bash script that takes the file as an argument and returns lines that contain the letter p.   \n",
    "Run that script using python code.\n",
    "\n",
    "\n"
   ]
  },
  {
   "cell_type": "code",
   "execution_count": 52,
   "metadata": {},
   "outputs": [
    {
     "data": {
      "text/plain": [
       "CompletedProcess(args=['bash', 'ex1.sh', 'test_pipe.txt'], returncode=0, stdout='')"
      ]
     },
     "execution_count": 52,
     "metadata": {},
     "output_type": "execute_result"
    }
   ],
   "source": [
    "# the script is in the ex1.sh file\n",
    "\n",
    "import os\n",
    "import sys\n",
    "import subprocess as sp\n",
    "\n",
    "sub = sp.run(\n",
    "    [\n",
    "        'bash',             # The command we want to run\n",
    "        'ex1.sh',              # Arguments for the command\n",
    "        'test_pipe.txt'\n",
    "    ],\n",
    "    encoding='utf_8',       # Converting byte code\n",
    "    stdout=sp.PIPE,         # Where to send the output\n",
    "    check=True              # Whether to raise an error if the process fails\n",
    ")  \n",
    "sub"
   ]
  },
  {
   "cell_type": "code",
   "execution_count": null,
   "metadata": {},
   "outputs": [],
   "source": []
  },
  {
   "cell_type": "markdown",
   "metadata": {},
   "source": [
    "The content of the bash script is:   \n",
    "ex1.sh\n",
    "\n",
    "```bash \n",
    "cat $1 | grep p > res_sh.txt\n",
    "echo done >> res_sh.txt\n",
    "```"
   ]
  },
  {
   "cell_type": "code",
   "execution_count": null,
   "metadata": {},
   "outputs": [],
   "source": []
  },
  {
   "cell_type": "markdown",
   "metadata": {},
   "source": [
    "#### Exercise -  only if you have R installed\n",
    "Write R script that takes the file `test_R.txt` as an argument and return the sum of the matrix from the file.\n",
    "Run that script using python code.\n",
    "\n",
    "```\n",
    "rN\tval1\tval2\n",
    "r1\t1\t2\n",
    "r2\t3\t4\n",
    "```"
   ]
  },
  {
   "cell_type": "code",
   "execution_count": 53,
   "metadata": {},
   "outputs": [
    {
     "data": {
      "text/plain": [
       "CompletedProcess(args=['Rscript', '--vanilla', 'ex2.R', 'test_R.txt'], returncode=0, stdout='[1] 10\\n')"
      ]
     },
     "execution_count": 53,
     "metadata": {},
     "output_type": "execute_result"
    }
   ],
   "source": [
    "# the script is in the ex2.R file\n",
    "# the data is in the test_R.txt file \n",
    "\n",
    "import os\n",
    "import sys\n",
    "import subprocess as sp\n",
    "\n",
    "sub = sp.run(\n",
    "    [\n",
    "        'Rscript',             # The command we want to run\n",
    "        '--vanilla',\n",
    "        'ex2.R',              # Arguments for the command\n",
    "        'test_R.txt'\n",
    "    ],\n",
    "    encoding='utf_8',       # Converting byte code\n",
    "    stdout=sp.PIPE,         # Where to send the output\n",
    "    check=True              # Whether to raise an error if the process fails\n",
    ")  \n",
    "sub"
   ]
  },
  {
   "cell_type": "code",
   "execution_count": null,
   "metadata": {},
   "outputs": [],
   "source": []
  },
  {
   "cell_type": "code",
   "execution_count": null,
   "metadata": {},
   "outputs": [],
   "source": []
  },
  {
   "cell_type": "markdown",
   "metadata": {},
   "source": [
    "The content of the R script is:   \n",
    "ex2.R\n",
    "\n",
    "```R \n",
    "args = commandArgs(trailingOnly=TRUE)\n",
    "df = read.table(args, header = T, row.names = 1, sep = \"\\t\")\n",
    "print(sum(df))\n",
    "```"
   ]
  },
  {
   "cell_type": "code",
   "execution_count": null,
   "metadata": {},
   "outputs": [],
   "source": []
  }
 ],
 "metadata": {
  "kernelspec": {
   "display_name": "Python 3 (ipykernel)",
   "language": "python",
   "name": "python3"
  },
  "language_info": {
   "codemirror_mode": {
    "name": "ipython",
    "version": 3
   },
   "file_extension": ".py",
   "mimetype": "text/x-python",
   "name": "python",
   "nbconvert_exporter": "python",
   "pygments_lexer": "ipython3",
   "version": "3.8.10"
  }
 },
 "nbformat": 4,
 "nbformat_minor": 4
}
