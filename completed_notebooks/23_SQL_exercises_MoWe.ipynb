{
 "cells": [
  {
   "cell_type": "markdown",
   "metadata": {
    "tags": []
   },
   "source": [
    "## SQL exercises\n",
    "### BIOINF 575 - Fall 2021 \n",
    "\n"
   ]
  },
  {
   "cell_type": "markdown",
   "metadata": {},
   "source": [
    "The. ALTER TABLE command: Changing a table without having to remove it and recreate it.   \n",
    "A table can be ALTERED to:\n",
    "* RENAME the TABLE\n",
    "* RENAME a COLUMN\n",
    "* ADD a COLUMN\n",
    "* DROP a COLUMN\n",
    "\n",
    "Detailed diagram of the command available at:   \n",
    "https://www.sqlite.org/lang_altertable.html\n",
    "\n",
    "Examples available at:   \n",
    "https://www.sqlitetutorial.net/sqlite-alter-table/    \n",
    "https://www.tutorialspoint.com/sqlite/sqlite_alter_command.htm    \n",
    "https://www.geeksforgeeks.org/how-to-alter-a-sqlite-table-using-python/"
   ]
  },
  {
   "cell_type": "code",
   "execution_count": null,
   "metadata": {},
   "outputs": [],
   "source": []
  },
  {
   "cell_type": "markdown",
   "metadata": {},
   "source": [
    "___\n",
    "\n",
    "<b> <font color = \"red\">Exercise</font></b>\n",
    "\n",
    "#### Create a database for genes and gene aliases\n",
    "\n",
    "Create a SQLite database with a genes table, and a gene_aliases table.   \n",
    "The genes table should have the following columns: gene_id, gene_symbol, the gene_description, start, stop.     \n",
    "The gene_aliases table should have the following columns: alias_id, gene_id and the alias.   \n",
    "Create an index on the column gene_id in the table gene_aliases.\n"
   ]
  },
  {
   "cell_type": "code",
   "execution_count": 1,
   "metadata": {},
   "outputs": [],
   "source": [
    "from sqlite3 import connect\n",
    "\n",
    "# create the new database, connect to a filename that does not exist \n",
    "# that will create a new empty database\n",
    "connection = connect(\"genes_data.sqlite\")\n",
    "cursor = connection.cursor()"
   ]
  },
  {
   "cell_type": "code",
   "execution_count": 2,
   "metadata": {},
   "outputs": [
    {
     "name": "stdout",
     "output_type": "stream",
     "text": [
      "done!\n"
     ]
    }
   ],
   "source": [
    "# create genes table: gene_id, gene_symbol, the gene_description, start, stop.\n",
    "create_genes ='''\n",
    "CREATE TABLE IF NOT EXISTS genes (\n",
    "      gene_id INTEGER PRIMARY KEY AUTOINCREMENT,\n",
    "      gene_symbol TEXT NOT NULL,  \n",
    "      gene_description TEXT NOT NULL,\n",
    "      start BIGINT NOT NULL,                      \n",
    "      stop BIGINT NOT NULL\n",
    "    );\n",
    "'''\n",
    "try:\n",
    "    cursor.execute(create_genes)\n",
    "except connection.DatabaseError:\n",
    "    print(\"Creating the genes table resulted in a database error!\")\n",
    "    connection.rollback()\n",
    "    raise\n",
    "else:\n",
    "    connection.commit()\n",
    "finally:\n",
    "    print(\"done!\")"
   ]
  },
  {
   "cell_type": "code",
   "execution_count": 3,
   "metadata": {},
   "outputs": [
    {
     "data": {
      "text/plain": [
       "[('genes', 'table'), ('sqlite_sequence', 'table')]"
      ]
     },
     "execution_count": 3,
     "metadata": {},
     "output_type": "execute_result"
    }
   ],
   "source": [
    "select_master = \"SELECT name, type FROM sqlite_master\"\n",
    "cursor.execute(select_master)\n",
    "cursor.fetchall()"
   ]
  },
  {
   "cell_type": "code",
   "execution_count": 4,
   "metadata": {},
   "outputs": [
    {
     "name": "stdout",
     "output_type": "stream",
     "text": [
      "done!\n"
     ]
    }
   ],
   "source": [
    "# create gene_aliases table: alias_id, gene_id and the alias.\n",
    "create_gene_aliases ='''\n",
    "CREATE TABLE IF NOT EXISTS gene_aliases (\n",
    "      alias_id INTEGER PRIMARY KEY AUTOINCREMENT,\n",
    "      gene_id INTEGER NOT NULL,  \n",
    "      alias TEXT NOT NULL,                  \n",
    "      FOREIGN KEY (gene_id) REFERENCES  genes  (gene_id)\n",
    "    );\n",
    "'''\n",
    "try:\n",
    "    cursor.execute(create_gene_aliases)\n",
    "except connection.DatabaseError:\n",
    "    print(\"Creating the gene_aliases table resulted in a database error!\")\n",
    "    connection.rollback()\n",
    "    raise\n",
    "else:\n",
    "    connection.commit()\n",
    "finally:\n",
    "    print(\"done!\")"
   ]
  },
  {
   "cell_type": "code",
   "execution_count": 5,
   "metadata": {},
   "outputs": [
    {
     "data": {
      "text/plain": [
       "[('genes', 'table'), ('sqlite_sequence', 'table'), ('gene_aliases', 'table')]"
      ]
     },
     "execution_count": 5,
     "metadata": {},
     "output_type": "execute_result"
    }
   ],
   "source": [
    "# select_master = \"SELECT name, type FROM sqlite_master\"\n",
    "cursor.execute(select_master)\n",
    "cursor.fetchall()"
   ]
  },
  {
   "cell_type": "markdown",
   "metadata": {
    "tags": []
   },
   "source": [
    "___\n",
    "\n",
    "<b> <font color = \"red\">Exercise</font></b>\n",
    "\n",
    "#### Populate a database \n",
    "\n",
    "Insert data into tables in the genes and gene aliases database you just created.   \n",
    "Use the data from the file `genes_aliases.txt`.\n"
   ]
  },
  {
   "cell_type": "code",
   "execution_count": 14,
   "metadata": {},
   "outputs": [],
   "source": [
    "insert_genes = '''\n",
    "INSERT INTO genes (gene_symbol, gene_description, start, stop) \n",
    "VALUES (?, ?, ?, ?);\n",
    "'''"
   ]
  },
  {
   "cell_type": "code",
   "execution_count": 15,
   "metadata": {},
   "outputs": [],
   "source": [
    "insert_gene_aliases = '''\n",
    "INSERT INTO gene_aliases (gene_id, alias) \n",
    "VALUES (?, ?);\n",
    "'''"
   ]
  },
  {
   "cell_type": "code",
   "execution_count": 26,
   "metadata": {},
   "outputs": [],
   "source": [
    "with open(\"genes_aliases.txt\") as genes_file:\n",
    "    genes_file.readline()\n",
    "    for line in genes_file:\n",
    "        line_list = line.strip().split(\"\\t\")\n",
    "        gene_symbol = line_list[0]\n",
    "        gene_description = line_list[2]\n",
    "        gene_start = line_list[4]\n",
    "        gene_stop = line_list[5]\n",
    "        gene_info = (gene_symbol, gene_description, gene_start, gene_stop)\n",
    "        cursor.execute(insert_genes, gene_info)\n",
    "        gene_id = cursor.lastrowid\n",
    "        #print(gene_info)\n",
    "        aliases = line_list[1]\n",
    "        for alias in aliases.split(\",\"):\n",
    "            alias_info = (gene_id, alias.strip())\n",
    "            #print(alias_info)\n",
    "            cursor.execute(insert_gene_aliases, alias_info)\n",
    "        #break\n"
   ]
  },
  {
   "cell_type": "code",
   "execution_count": 27,
   "metadata": {},
   "outputs": [],
   "source": [
    "connection.commit()\n",
    "# connection.rollback()"
   ]
  },
  {
   "cell_type": "code",
   "execution_count": 22,
   "metadata": {},
   "outputs": [],
   "source": []
  },
  {
   "cell_type": "code",
   "execution_count": 28,
   "metadata": {},
   "outputs": [
    {
     "data": {
      "text/plain": [
       "[(1, 'TERT', 'telomerase reverse transcriptase', 1253167, 1295068),\n",
       " (2, 'TP63', 'tumor protein p63', 189596746, 189897276),\n",
       " (3,\n",
       "  'CHRNA5',\n",
       "  'cholinergic receptor nicotinic alpha 5 subunit',\n",
       "  78565520,\n",
       "  78595269),\n",
       " (4, 'CADM1', 'cell adhesion molecule 1', 115169236, 115504428),\n",
       " (5,\n",
       "  'CHRNA3',\n",
       "  'cholinergic receptor nicotinic alpha 3 subunit',\n",
       "  78593052,\n",
       "  78620996),\n",
       " (6, 'RACK1', 'receptor for activated C kinase 1', 181236897, 181243906)]"
      ]
     },
     "execution_count": 28,
     "metadata": {},
     "output_type": "execute_result"
    }
   ],
   "source": [
    "select_genes = \"SELECT * FROM genes;\"\n",
    "cursor.execute(select_genes)\n",
    "cursor.fetchall()"
   ]
  },
  {
   "cell_type": "code",
   "execution_count": 29,
   "metadata": {},
   "outputs": [
    {
     "data": {
      "text/plain": [
       "[(1, 1, 'CMM9'),\n",
       " (2, 1, 'DKCA2'),\n",
       " (3, 1, 'DKCB4'),\n",
       " (4, 1, 'EST2'),\n",
       " (5, 1, 'PFBMFT1'),\n",
       " (6, 1, 'TCS1'),\n",
       " (7, 1, 'TP2'),\n",
       " (8, 1, 'TRT'),\n",
       " (9, 1, 'hEST2'),\n",
       " (10, 1, 'hTRT'),\n",
       " (11, 2, 'AIS'),\n",
       " (12, 2, 'B(p51A)'),\n",
       " (13, 2, 'B(p51B)'),\n",
       " (14, 2, 'EEC3'),\n",
       " (15, 2, 'KET'),\n",
       " (16, 2, 'LMS'),\n",
       " (17, 2, 'NBP'),\n",
       " (18, 2, 'OFC8'),\n",
       " (19, 2, 'RHS'),\n",
       " (20, 2, 'SHFM4'),\n",
       " (21, 2, 'TP53CP'),\n",
       " (22, 2, 'TP53L'),\n",
       " (23, 2, 'TP73L'),\n",
       " (24, 2, 'p40'),\n",
       " (25, 2, 'p51'),\n",
       " (26, 2, 'p53CP'),\n",
       " (27, 2, 'p63'),\n",
       " (28, 2, 'p73H'),\n",
       " (29, 2, 'p73L'),\n",
       " (30, 3, 'LNCR2'),\n",
       " (31, 4, 'BL2'),\n",
       " (32, 4, 'IGSF4'),\n",
       " (33, 4, 'IGSF4A'),\n",
       " (34, 4, 'NECL2'),\n",
       " (35, 4, 'Necl-2'),\n",
       " (36, 4, 'RA175'),\n",
       " (37, 4, 'ST17'),\n",
       " (38, 4, 'SYNCAM'),\n",
       " (39, 4, 'TSLC1'),\n",
       " (40, 4, 'sTSLC-1'),\n",
       " (41, 4, 'sgIGSF'),\n",
       " (42, 4, 'synCAM1'),\n",
       " (43, 5, 'BAIPRCK'),\n",
       " (44, 5, 'LNCR2'),\n",
       " (45, 5, 'NACHRA3'),\n",
       " (46, 5, 'PAOD2'),\n",
       " (47, 6, 'GNB2L1'),\n",
       " (48, 6, 'Gnb2-rs1'),\n",
       " (49, 6, 'H12.3'),\n",
       " (50, 6, 'HLC-7'),\n",
       " (51, 6, 'PIG21')]"
      ]
     },
     "execution_count": 29,
     "metadata": {},
     "output_type": "execute_result"
    }
   ],
   "source": [
    "select_gene_aliases = \"SELECT * FROM gene_aliases;\"\n",
    "cursor.execute(select_gene_aliases)\n",
    "cursor.fetchall()"
   ]
  },
  {
   "cell_type": "code",
   "execution_count": 25,
   "metadata": {},
   "outputs": [],
   "source": [
    "# if I want to clear my table\n",
    "delete_genes = \"DELETE FROM genes;\"\n",
    "#cursor.execute(delete_genes)\n",
    "#connection.commit()"
   ]
  },
  {
   "cell_type": "markdown",
   "metadata": {
    "tags": []
   },
   "source": [
    "___\n",
    "\n",
    "<b> <font color = \"red\">Exercise</font></b>\n",
    "\n",
    "#### Query a database \n",
    "\n",
    "How many genes we have?  \n",
    "How many aliases we have?  \n",
    "Retrieve the aliases for gene TP63. In the result, display the gene symbol and the alias.    \n",
    "How many aliases are associated which each gene? In the result, display the gene symbol and the count.\n"
   ]
  },
  {
   "cell_type": "code",
   "execution_count": 30,
   "metadata": {},
   "outputs": [],
   "source": [
    "def get_header(cursor):\n",
    "    '''\n",
    "    Makes a tab delimited header row from the cursor description.\n",
    "    Arguments:\n",
    "        cursor: a cursor after a select query\n",
    "    Returns:\n",
    "        string: A string consisting of the column names separated by tabs, no new line\n",
    "    '''\n",
    "    return '\\t'.join([row[0] for row in cursor.description])\n",
    "\n"
   ]
  },
  {
   "cell_type": "code",
   "execution_count": 31,
   "metadata": {},
   "outputs": [],
   "source": [
    "# note that if you have a large result \n",
    "# this function will try to make a very large string from it\n",
    "# so it is recommended for results with less than 10 rows and 10 columns\n",
    "# for other cases use the for loop to go through the rows in the result \n",
    "\n",
    "def get_results(cursor):\n",
    "    '''\n",
    "    Makes a tab delimited table from the cursor results.\n",
    "    Arguments:\n",
    "        cursor: a cursor after a select query\n",
    "    Returns:\n",
    "        string: A string consisting of the column names separated by tabs, no new line\n",
    "    ''' \n",
    "    res = list()\n",
    "    for row in cursor.fetchall():        \n",
    "        res.append('\\t'.join(list(map(str,row))))\n",
    "    return \"\\n\".join(res)"
   ]
  },
  {
   "cell_type": "code",
   "execution_count": 32,
   "metadata": {},
   "outputs": [
    {
     "name": "stdout",
     "output_type": "stream",
     "text": [
      "no_of_genes\n",
      "6\n"
     ]
    }
   ],
   "source": [
    "query1 = \"SELECT count(gene_id) no_of_genes FROM genes\"\n",
    "cursor.execute(query1)\n",
    "print(get_header(cursor))\n",
    "print(get_results(cursor))"
   ]
  },
  {
   "cell_type": "code",
   "execution_count": 33,
   "metadata": {},
   "outputs": [
    {
     "name": "stdout",
     "output_type": "stream",
     "text": [
      "no_of_aliases\n",
      "51\n"
     ]
    }
   ],
   "source": [
    "query2 = \"SELECT count(*) no_of_aliases FROM gene_aliases\"\n",
    "cursor.execute(query2)\n",
    "print(get_header(cursor))\n",
    "print(get_results(cursor))\n"
   ]
  },
  {
   "cell_type": "code",
   "execution_count": 40,
   "metadata": {},
   "outputs": [
    {
     "name": "stdout",
     "output_type": "stream",
     "text": [
      "gene_symbol\talias\n",
      "TP63\tAIS\n",
      "TP63\tB(p51A)\n",
      "TP63\tB(p51B)\n",
      "TP63\tEEC3\n",
      "TP63\tKET\n",
      "TP63\tLMS\n",
      "TP63\tNBP\n",
      "TP63\tOFC8\n",
      "TP63\tRHS\n",
      "TP63\tSHFM4\n",
      "TP63\tTP53CP\n",
      "TP63\tTP53L\n",
      "TP63\tTP73L\n",
      "TP63\tp40\n",
      "TP63\tp51\n",
      "TP63\tp53CP\n",
      "TP63\tp63\n",
      "TP63\tp73H\n",
      "TP63\tp73L\n"
     ]
    }
   ],
   "source": [
    "query3 = \"\"\"\n",
    "SELECT gene_symbol, alias FROM genes g\n",
    "JOIN gene_aliases ga ON g.gene_id = ga.gene_id\n",
    "WHERE gene_symbol = 'TP63';\n",
    "\"\"\"\n",
    "cursor.execute(query3)\n",
    "print(get_header(cursor))\n",
    "print(get_results(cursor))"
   ]
  },
  {
   "cell_type": "code",
   "execution_count": 39,
   "metadata": {},
   "outputs": [
    {
     "name": "stdout",
     "output_type": "stream",
     "text": [
      "gene_symbol\tcount(alias)\n",
      "CADM1\t12\n",
      "CHRNA3\t4\n",
      "CHRNA5\t1\n",
      "RACK1\t5\n",
      "TERT\t10\n",
      "TP63\t19\n"
     ]
    }
   ],
   "source": [
    "query4 = query3 = \"\"\"\n",
    "SELECT gene_symbol, count(alias) FROM genes g\n",
    "JOIN gene_aliases ga ON g.gene_id = ga.gene_id\n",
    "GROUP BY gene_symbol;\n",
    "\"\"\"\n",
    "cursor.execute(query4)\n",
    "print(get_header(cursor))\n",
    "print(get_results(cursor))"
   ]
  },
  {
   "cell_type": "code",
   "execution_count": null,
   "metadata": {},
   "outputs": [],
   "source": []
  }
 ],
 "metadata": {
  "kernelspec": {
   "display_name": "Python 3 (ipykernel)",
   "language": "python",
   "name": "python3"
  },
  "language_info": {
   "codemirror_mode": {
    "name": "ipython",
    "version": 3
   },
   "file_extension": ".py",
   "mimetype": "text/x-python",
   "name": "python",
   "nbconvert_exporter": "python",
   "pygments_lexer": "ipython3",
   "version": "3.8.10"
  }
 },
 "nbformat": 4,
 "nbformat_minor": 4
}
