{
 "cells": [
  {
   "cell_type": "markdown",
   "metadata": {},
   "source": [
    "## SQL - Major SQL commands\n",
    "### BIOINF 575 - Fall 2021"
   ]
  },
  {
   "cell_type": "markdown",
   "metadata": {},
   "source": [
    "##### RESOURCES\n",
    "https://sqlite.org/index.html    \n",
    "https://www.sqlite.org/fullsql.html  \n",
    "https://docs.python.org/3/library/sqlite3.html  \n",
    "https://www.sqlite.org/lang_aggfunc.html  \n",
    "https://www.sqlitetutorial.net/sqlite-create-table/    \n",
    "https://www.sqlite.org/syntaxdiagrams.html    \n",
    "https://www.tutorialspoint.com/python_network_programming/python_databases_and_sql.htm  \n",
    "https://www.tutorialspoint.com/python/python_database_access.htm  \n",
    "https://www.python-course.eu/sql_python.php  \n",
    "https://www.sqlalchemy.org/library.html#reference    \n",
    "https://docs.sqlalchemy.org/en/13/orm/  \n",
    "https://docs.sqlalchemy.org/en/14/orm/tutorial.html#version-check  \n",
    "https://towardsdatascience.com/sql-in-python-for-beginners-b9a4f9293ecf  \n",
    "https://database.guide/2-sample-databases-sqlite/\n",
    "https://www.sqlitetutorial.net/sqlite-sample-database/"
   ]
  },
  {
   "cell_type": "markdown",
   "metadata": {
    "jp-MarkdownHeadingCollapsed": true,
    "tags": []
   },
   "source": [
    "#### What is a database? \n",
    "\n",
    "* Is an organized collection of data (files)\n",
    "* A way to store and retrieve that information\n",
    "* A relational database is structured to recognize relations between the data elements\n",
    "\n",
    "\n",
    "*  A collection of data\n",
    "\n",
    "        * Dictionary\n",
    "            {\"EGFR\":6.8, \"MYC\": 4.5, \"WNT1\":11.7}\n",
    "\n",
    "        * Tab-separated text file, or pd.DataFrame\n",
    "\n",
    "\n",
    "| GeneID  | GeneSymbol  | ExpressionValue  |\n",
    "|---------|-------------|------------------|\n",
    "| 7471    | WNT1        |             11.7 |\n",
    "| 4609    | MYC         |              4.5 |\n",
    "| 1956    | EGFR        |              6.8 |\n",
    "\n",
    "\n",
    "Entity-Relationship Diagram - shows the relations between tables in a relational database\n",
    "- tables are connected by fields (columns) that are common - called keys\n",
    "\n",
    "\n",
    "https://dcm.uhcl.edu/yue/courses/csci4333/current/notes/model/ERDiagram.html\n",
    "\n",
    "\n",
    "<img src = https://dcm.uhcl.edu/yue/courses/csci4333/current/notes/model/ER1_1.png width = 450 />\n",
    "\n",
    "Relationship diagram as shown by the Relational Database Management Systems (RDBM)\n",
    "\n",
    "<img src = https://dcm.uhcl.edu/yue/courses/csci4333/current/notes/model/Relationship_1.png width = 600 />\n",
    "\n",
    "\n",
    "\n",
    "More examples:\n",
    "\n",
    "https://www.sqlitetutorial.net/wp-content/uploads/2015/11/sqlite-sample-database-color.jpg      \n",
    "https://upload.wikimedia.org/wikipedia/commons/b/b8/Sql_hospital.png      \n",
    "https://www.researchgate.net/profile/Adam_Richards3/publication/282134102/figure/fig3/AS:289128232046602@1445944950296/Database-entity-diagram-Data-collected-from-NCBI-the-Gene-Ontology-and-UniProt-are.png      \n",
    "\n",
    "\n",
    "\n",
    "\n",
    "#### Relational Database Management Systems (RDBMS)\n",
    "* Software programs such as Oracle, MySQL, SQLServer, DB2, postgreSQL, SQLite \n",
    "* They handle the data storage, indexing, logging, tracking and security (access)  \n",
    "* They have a very fine-grained way of granting permissions to users at the level of commands that may be used\n",
    "    * Create a database\n",
    "    * Create a table\n",
    "    * Update or insert data\n",
    "    * View certain tables ... and many more   \n",
    "* An important part of learning databases is to understand the type of data which is stored in columns and rows.  \n",
    "* Likewise when we get to the database design section, it is critically important to know what type of data you will be modeling and storing (and roughly how much, in traditional systems) \n",
    "* Exactly which types are available depends on the database system\n",
    "\n",
    "\n",
    "\n",
    "#### Why use databases and Relational Database Management Systems?\n",
    "* Easy, efficient, secure, collaborative management of data that maintains data integrity\n",
    "\n",
    "#### What is the Structured Query Language (SQL) ?\n",
    "* SQL is the standard language for relational database management systems\n",
    "* SQL is used to communicate with a database\n",
    "\n",
    "#### Why SQLite?\n",
    "SQLite is a C library that provides a lightweight disk-based database that doesn’t require a separate server process and allows accessing the database using a nonstandard variant of the SQL query language. Some applications can use SQLite for internal data storage. \n",
    "* SQLite is often the technology of choice for small applications, particularly those of embedded systems and devices like phones and tablets, smart appliances, and instruments.\n",
    "* It’s also possible to prototype an application using SQLite and then port the code to a larger database such as PostgreSQL or Oracle.\n",
    "\n",
    "#### Integrated Development Environment (IDE)\n",
    "\n",
    "There are many tools:\n",
    "https://dbeaver.io - recommended, please install it for the next session\n",
    "\n",
    "<img src = https://github.com/dbeaver/dbeaver/wiki/images/ug/SQL-Editor.png width = 600/>\n",
    "\n",
    "https://github.com/dbeaver/dbeaver/wiki/SQL-Editor\n",
    "\n",
    "Other IDE tools:    \n",
    "https://www.adminer.org    \n",
    "https://razorsql.com\n",
    "https://sqlitebrowser.org    \n",
    "https://towardsdatascience.com/10-best-sql-editor-tools-in-the-market-126acd64ba06    \n",
    "https://learnsql.com/blog/best-sql-editor/     \n",
    "\n",
    "\n",
    "#### sqlite3\n",
    "The sqlite3 module in the Python standard library provides a SQL interface to communicate with databases.<br>\n",
    "https://docs.python.org/3/library/sqlite3.html\n",
    "\n",
    "Once you have a `Connection`, you can create a `Cursor` object and call its execute() method to perform SQL commands.\n",
    "\n",
    "`Cursor` objects represent a database cursor, which is used to manage the context of a fetch/retrieval operation.  \n",
    "A call to the `Cursor`'s execute() method is used to perform SQL commands.\n",
    "\n",
    "#### SQLite uses a greatly simplified set of data types:\n",
    "* INTEGER - numeric\n",
    "* REAL - numeric\n",
    "* TEXT – text of any length\n",
    "    * Dates are held as text\n",
    "* BLOB – binary large objects\n",
    "    * Such as images"
   ]
  },
  {
   "cell_type": "markdown",
   "metadata": {},
   "source": [
    "#### The data\n",
    "\n",
    "https://datacarpentry.org/python-ecology-lesson/\n",
    "\n",
    "Download the database file `portal_mammals.sqlite` from:   \n",
    "https://datacarpentry.org/python-ecology-lesson/setup.html      \n",
    "\"     \n",
    "The data we will be using is a time-series for a small mammal community in southern Arizona.    \n",
    "This is part of a project studying the effects of rodents and ants on the plant community that has been running for almost 40 years.    \n",
    "The rodents are sampled on a series of 24 plots, with different experimental manipulations controlling which rodents are allowed to access which plots.    \n",
    "\"   \n",
    "https://datacarpentry.org/sql-ecology-lesson/00-sql-introduction/index.html\n"
   ]
  },
  {
   "cell_type": "code",
   "execution_count": 11,
   "metadata": {},
   "outputs": [],
   "source": [
    "# bring into the environment the  functionality that \n",
    "# can be used to connect to a database\n",
    "\n",
    "from sqlite3 import connect\n",
    "\n",
    "'''    \n",
    "    Establish a connection to the database.\n",
    "    This statement creates the file at the given path if it does not exist and that will be an empty database.\n",
    "    The file was provided in this case so the statement should just establish the connection.\n",
    "'''\n",
    "\n",
    "# create a connection object to be able to acceess the database\n",
    "\n",
    "connection = connect('portal_mammals.sqlite')\n",
    "\n",
    "# create a cursor to interact with the database and \n",
    "# send commands to the database \n",
    "\n",
    "cursor = connection.cursor()\n"
   ]
  },
  {
   "cell_type": "markdown",
   "metadata": {
    "tags": []
   },
   "source": [
    "#### The cursor and the connection should be closed when we no loger run queries.\n",
    "```python\n",
    "cursor.close()\n",
    "connection.close()\n",
    "```\n",
    "\n",
    "We are still using them so we keep them open for now.     \n",
    "After we close them, we should run the above cell again to reestablish the access to the database."
   ]
  },
  {
   "cell_type": "code",
   "execution_count": 12,
   "metadata": {},
   "outputs": [],
   "source": [
    "cursor.close()\n",
    "connection.close()"
   ]
  },
  {
   "cell_type": "code",
   "execution_count": 13,
   "metadata": {},
   "outputs": [],
   "source": [
    "connection = connect('test.sqlite')\n",
    "cursor = connection.cursor()"
   ]
  },
  {
   "cell_type": "code",
   "execution_count": 14,
   "metadata": {},
   "outputs": [
    {
     "data": {
      "text/plain": [
       "sqlite3.Connection"
      ]
     },
     "execution_count": 14,
     "metadata": {},
     "output_type": "execute_result"
    }
   ],
   "source": [
    "# what is the type of the connection object?\n",
    "\n",
    "type(connection)\n"
   ]
  },
  {
   "cell_type": "code",
   "execution_count": 15,
   "metadata": {},
   "outputs": [
    {
     "data": {
      "text/plain": [
       "['DataError',\n",
       " 'DatabaseError',\n",
       " 'Error',\n",
       " 'IntegrityError',\n",
       " 'InterfaceError',\n",
       " 'InternalError',\n",
       " 'NotSupportedError',\n",
       " 'OperationalError',\n",
       " 'ProgrammingError',\n",
       " 'Warning',\n",
       " 'backup',\n",
       " 'close',\n",
       " 'commit',\n",
       " 'create_aggregate',\n",
       " 'create_collation',\n",
       " 'create_function',\n",
       " 'cursor',\n",
       " 'enable_load_extension',\n",
       " 'execute',\n",
       " 'executemany',\n",
       " 'executescript',\n",
       " 'in_transaction',\n",
       " 'interrupt',\n",
       " 'isolation_level',\n",
       " 'iterdump',\n",
       " 'load_extension',\n",
       " 'rollback',\n",
       " 'row_factory',\n",
       " 'set_authorizer',\n",
       " 'set_progress_handler',\n",
       " 'set_trace_callback',\n",
       " 'text_factory',\n",
       " 'total_changes']"
      ]
     },
     "execution_count": 15,
     "metadata": {},
     "output_type": "execute_result"
    }
   ],
   "source": [
    "# what can the connection object do? \n",
    "# look at only for non __ methods and attributes\n",
    "\n",
    "[elem for elem in dir(connection) if not elem.startswith(\"__\")]"
   ]
  },
  {
   "cell_type": "code",
   "execution_count": 16,
   "metadata": {},
   "outputs": [
    {
     "data": {
      "text/plain": [
       "sqlite3.Cursor"
      ]
     },
     "execution_count": 16,
     "metadata": {},
     "output_type": "execute_result"
    }
   ],
   "source": [
    "# what is the type of the cursor object?\n",
    "type(cursor)\n"
   ]
  },
  {
   "cell_type": "code",
   "execution_count": 17,
   "metadata": {},
   "outputs": [
    {
     "data": {
      "text/plain": [
       "['arraysize',\n",
       " 'close',\n",
       " 'connection',\n",
       " 'description',\n",
       " 'execute',\n",
       " 'executemany',\n",
       " 'executescript',\n",
       " 'fetchall',\n",
       " 'fetchmany',\n",
       " 'fetchone',\n",
       " 'lastrowid',\n",
       " 'row_factory',\n",
       " 'rowcount',\n",
       " 'setinputsizes',\n",
       " 'setoutputsize']"
      ]
     },
     "execution_count": 17,
     "metadata": {},
     "output_type": "execute_result"
    }
   ],
   "source": [
    "# what can the cursor object do? \n",
    "# look at only for non __ methods and attributes\n",
    "\n",
    "[element for element in dir(cursor) if not element.startswith(\"__\")]"
   ]
  },
  {
   "cell_type": "code",
   "execution_count": null,
   "metadata": {},
   "outputs": [],
   "source": []
  },
  {
   "cell_type": "markdown",
   "metadata": {},
   "source": [
    "#### Major SQL commands: SELECT, INSERT, DELETE, UPDATE\n",
    "#### SELECT - Retrieves data from one or more tables and doesn’t change the data at all \n",
    "\n",
    "<img src = http://www.tutorialscan.com/wp-content/uploads/2018/04/sql_select.jpg width = 300 />\n",
    "\n",
    "http://www.tutorialscan.com/wp-content/uploads/2018/04/sql_select.jpg\n",
    "\n",
    "A more complex diagram with all the options is available at:\n",
    "https://www.sqlite.org/syntaxdiagrams.html#select-stmt\n",
    "\n",
    "* SELECT  * (means all columns), or the comma separated names of the columns of data you wish to return\n",
    "    * Returns columns (left to right) in the order received. \n",
    "    * '*' selects ALL rows and ALL columns and returns them by column order and row_id\n",
    "* FROM is the table source or sources (comma separated)\n",
    "* WHERE (optional) is the predicate clause: conditions for the query\n",
    "    * Evaluates to True or False for each row\n",
    "    * This clause almost always includes Column-Value pairs.\n",
    "    * Omitting the Where clause returns ALL the records in that table.\n",
    "    * Note: the match is case sensitive\n",
    "* ORDER BY (optional) indicates a sort order for the output data \n",
    "    * default is row_id, which can be very non-intuitive  \n",
    "    * ASCending or DESCending can be appended to change the sort order.  (ASC is default)\n",
    "* GROUP BY (optional) groups by a column and creates summary data for a different column\n",
    "* HAVING (optional) allows restrictions on the rows selected\n",
    "    * a GROUP BY clause is required before HAVING\n",
    "* LIMIT (optional) reduces the number of rows retrieved to the number provided after this clause\n",
    "* In most SQL clients, the \";\" indicates the end of a statement and requests execution\n"
   ]
  },
  {
   "cell_type": "code",
   "execution_count": 18,
   "metadata": {},
   "outputs": [
    {
     "data": {
      "text/plain": [
       "<sqlite3.Cursor at 0x10ac279d0>"
      ]
     },
     "execution_count": 18,
     "metadata": {},
     "output_type": "execute_result"
    }
   ],
   "source": [
    "# In every SQLite database, there is a special table: sqlite_master\n",
    "# sqlite_master -  describes the contents of the database\n",
    "\n",
    "# the SQL command can be ran as is when using a Integrated Development Environment \n",
    "# e.g. DBeaver\n",
    "\n",
    "sql = '''SELECT type, name FROM sqlite_master LIMIT 5;'''\n",
    "cursor.execute(sql)"
   ]
  },
  {
   "cell_type": "code",
   "execution_count": 19,
   "metadata": {},
   "outputs": [
    {
     "data": {
      "text/plain": [
       "[]"
      ]
     },
     "execution_count": 19,
     "metadata": {},
     "output_type": "execute_result"
    }
   ],
   "source": [
    "list(cursor)"
   ]
  },
  {
   "cell_type": "code",
   "execution_count": 21,
   "metadata": {},
   "outputs": [],
   "source": [
    "cursor.close()\n",
    "connection.close()"
   ]
  },
  {
   "cell_type": "code",
   "execution_count": 22,
   "metadata": {},
   "outputs": [],
   "source": [
    "connection = connect('portal_mammals.sqlite')\n",
    "\n",
    "# create a cursor to interact with the database and \n",
    "# send commands to the database \n",
    "\n",
    "cursor = connection.cursor()"
   ]
  },
  {
   "cell_type": "code",
   "execution_count": 23,
   "metadata": {},
   "outputs": [
    {
     "name": "stdout",
     "output_type": "stream",
     "text": [
      "Help on built-in function fetchall:\n",
      "\n",
      "fetchall(...) method of sqlite3.Cursor instance\n",
      "    Fetches all rows from the resultset.\n",
      "\n"
     ]
    }
   ],
   "source": [
    "# look at the help of the fetchall method for the cursor \n",
    "help(cursor.fetchall)"
   ]
  },
  {
   "cell_type": "code",
   "execution_count": null,
   "metadata": {},
   "outputs": [],
   "source": []
  },
  {
   "cell_type": "code",
   "execution_count": 24,
   "metadata": {},
   "outputs": [
    {
     "data": {
      "text/plain": [
       "[('surveys', 'table'),\n",
       " ('species', 'table'),\n",
       " ('plots', 'table'),\n",
       " ('sqlite_sequence', 'table'),\n",
       " ('species_survey', 'view')]"
      ]
     },
     "execution_count": 24,
     "metadata": {},
     "output_type": "execute_result"
    }
   ],
   "source": [
    "sql = '''\n",
    "SELECT name,type FROM sqlite_master;\n",
    "'''\n",
    "cursor.execute(sql)\n",
    "cursor.fetchall()"
   ]
  },
  {
   "cell_type": "code",
   "execution_count": 25,
   "metadata": {
    "tags": []
   },
   "outputs": [
    {
     "name": "stdout",
     "output_type": "stream",
     "text": [
      "('surveys', 'table')\n",
      "('species', 'table')\n",
      "('plots', 'table')\n",
      "('sqlite_sequence', 'table')\n",
      "('species_survey', 'view')\n"
     ]
    }
   ],
   "source": [
    "sql = '''\n",
    "SELECT name,type FROM sqlite_master;\n",
    "'''\n",
    "cursor.execute(sql)\n",
    "\n",
    "# use a for loop to get the rows in the result one by one\n",
    "for row in cursor: \n",
    "    print(row)"
   ]
  },
  {
   "cell_type": "code",
   "execution_count": 26,
   "metadata": {},
   "outputs": [
    {
     "data": {
      "text/plain": [
       "('surveys', 'table')"
      ]
     },
     "execution_count": 26,
     "metadata": {},
     "output_type": "execute_result"
    }
   ],
   "source": [
    "sql = '''\n",
    "SELECT name,type FROM sqlite_master;\n",
    "'''\n",
    "cursor.execute(sql)\n",
    "\n",
    "# use fetchone retrieve just one row from the results\n",
    "cursor.fetchone()"
   ]
  },
  {
   "cell_type": "code",
   "execution_count": 27,
   "metadata": {},
   "outputs": [
    {
     "data": {
      "text/plain": [
       "(('name', None, None, None, None, None, None),\n",
       " ('type', None, None, None, None, None, None))"
      ]
     },
     "execution_count": 27,
     "metadata": {},
     "output_type": "execute_result"
    }
   ],
   "source": [
    "# See the result header\n",
    "\n",
    "cursor.description"
   ]
  },
  {
   "cell_type": "code",
   "execution_count": 4,
   "metadata": {},
   "outputs": [],
   "source": [
    "def get_header(cursor):\n",
    "    '''\n",
    "    Makes a tab delimited header row from the cursor description.\n",
    "    Arguments:\n",
    "        cursor: a cursor after a select query\n",
    "    Returns:\n",
    "        string: A string consisting of the column names separated by tabs, no new line\n",
    "    '''\n",
    "    return '\\t'.join([row[0] for row in cursor.description])\n"
   ]
  },
  {
   "cell_type": "code",
   "execution_count": 29,
   "metadata": {},
   "outputs": [
    {
     "data": {
      "text/plain": [
       "'name\\ttype'"
      ]
     },
     "execution_count": 29,
     "metadata": {},
     "output_type": "execute_result"
    }
   ],
   "source": [
    "get_header(cursor)"
   ]
  },
  {
   "cell_type": "code",
   "execution_count": null,
   "metadata": {},
   "outputs": [],
   "source": [
    "print(get_header(cursor))"
   ]
  },
  {
   "cell_type": "code",
   "execution_count": null,
   "metadata": {},
   "outputs": [],
   "source": []
  },
  {
   "cell_type": "code",
   "execution_count": 31,
   "metadata": {},
   "outputs": [
    {
     "name": "stdout",
     "output_type": "stream",
     "text": [
      "name\ttype\n"
     ]
    }
   ],
   "source": [
    "print(get_header(cursor))"
   ]
  },
  {
   "cell_type": "markdown",
   "metadata": {},
   "source": [
    "#### Different ways to retrieve results - observe the different data structures displayed"
   ]
  },
  {
   "cell_type": "code",
   "execution_count": null,
   "metadata": {},
   "outputs": [],
   "source": [
    "# we already have the query in the sql variable\n",
    "\n",
    "sql"
   ]
  },
  {
   "cell_type": "code",
   "execution_count": 35,
   "metadata": {},
   "outputs": [
    {
     "name": "stdout",
     "output_type": "stream",
     "text": [
      "name\n",
      "surveys\n"
     ]
    }
   ],
   "source": [
    "sql = '''\n",
    "SELECT name\n",
    "FROM sqlite_master \n",
    "WHERE name = \"surveys\"; -- condition that allows the selection of specific rows\n",
    "'''\n",
    "cursor.execute(sql)\n",
    "print(get_header(cursor))\n",
    "print(get_results(cursor))"
   ]
  },
  {
   "cell_type": "code",
   "execution_count": 37,
   "metadata": {},
   "outputs": [
    {
     "name": "stdout",
     "output_type": "stream",
     "text": [
      "Iterate through the cursor:\n",
      "('AB', 'Amphispiza', 'bilineata', 'Bird')\n",
      "('AH', 'Ammospermophilus', 'harrisi', 'Rodent')\n",
      "('AS', 'Ammodramus', 'savannarum', 'Bird')\n",
      "('BA', 'Baiomys', 'taylori', 'Rodent')\n",
      "('CB', 'Campylorhynchus', 'brunneicapillus', 'Bird')\n",
      "('CM', 'Calamospiza', 'melanocorys', 'Bird')\n",
      "('CQ', 'Callipepla', 'squamata', 'Bird')\n",
      "('CS', 'Crotalus', 'scutalatus', 'Reptile')\n",
      "('CT', 'Cnemidophorus', 'tigris', 'Reptile')\n",
      "('CU', 'Cnemidophorus', 'uniparens', 'Reptile')\n",
      "('CV', 'Crotalus', 'viridis', 'Reptile')\n",
      "('DM', 'Dipodomys', 'merriami', 'Rodent')\n",
      "('DO', 'Dipodomys', 'ordii', 'Rodent')\n",
      "('DS', 'Dipodomys', 'spectabilis', 'Rodent')\n",
      "('DX', 'Dipodomys', 'sp.', 'Rodent')\n",
      "('EO', 'Eumeces', 'obsoletus', 'Reptile')\n",
      "('GS', 'Gambelia', 'silus', 'Reptile')\n",
      "('NL', 'Neotoma', 'albigula', 'Rodent')\n",
      "('NX', 'Neotoma', 'sp.', 'Rodent')\n",
      "('OL', 'Onychomys', 'leucogaster', 'Rodent')\n",
      "\n",
      "Use the Cursor fetchall() method:\n"
     ]
    },
    {
     "data": {
      "text/plain": [
       "[('AB', 'Amphispiza', 'bilineata', 'Bird'),\n",
       " ('AH', 'Ammospermophilus', 'harrisi', 'Rodent'),\n",
       " ('AS', 'Ammodramus', 'savannarum', 'Bird'),\n",
       " ('BA', 'Baiomys', 'taylori', 'Rodent'),\n",
       " ('CB', 'Campylorhynchus', 'brunneicapillus', 'Bird'),\n",
       " ('CM', 'Calamospiza', 'melanocorys', 'Bird'),\n",
       " ('CQ', 'Callipepla', 'squamata', 'Bird'),\n",
       " ('CS', 'Crotalus', 'scutalatus', 'Reptile'),\n",
       " ('CT', 'Cnemidophorus', 'tigris', 'Reptile'),\n",
       " ('CU', 'Cnemidophorus', 'uniparens', 'Reptile'),\n",
       " ('CV', 'Crotalus', 'viridis', 'Reptile'),\n",
       " ('DM', 'Dipodomys', 'merriami', 'Rodent'),\n",
       " ('DO', 'Dipodomys', 'ordii', 'Rodent'),\n",
       " ('DS', 'Dipodomys', 'spectabilis', 'Rodent'),\n",
       " ('DX', 'Dipodomys', 'sp.', 'Rodent'),\n",
       " ('EO', 'Eumeces', 'obsoletus', 'Reptile'),\n",
       " ('GS', 'Gambelia', 'silus', 'Reptile'),\n",
       " ('NL', 'Neotoma', 'albigula', 'Rodent'),\n",
       " ('NX', 'Neotoma', 'sp.', 'Rodent'),\n",
       " ('OL', 'Onychomys', 'leucogaster', 'Rodent')]"
      ]
     },
     "execution_count": 37,
     "metadata": {},
     "output_type": "execute_result"
    }
   ],
   "source": [
    "# See the result\n",
    "\n",
    "cursor.execute(sql)\n",
    "print(\"Iterate through the cursor:\")\n",
    "for row in cursor: \n",
    "    print(row)\n",
    "    \n",
    "print()\n",
    "\n",
    "cursor.execute(sql)\n",
    "print(\"Use the Cursor fetchall() method:\")\n",
    "cursor.fetchall()"
   ]
  },
  {
   "cell_type": "code",
   "execution_count": 5,
   "metadata": {},
   "outputs": [],
   "source": [
    "# note that if you have a large result \n",
    "# this function will try to make a very large string from it\n",
    "# so it is recommended for results with less than 10 rows and 10 columns\n",
    "# for other cases use the for loop to go through the rows in the result \n",
    "\n",
    "def get_results(cursor):\n",
    "    '''\n",
    "    Makes a tab delimited table from the cursor results.\n",
    "    Arguments:\n",
    "        cursor: a cursor after a select query\n",
    "    Returns:\n",
    "        string: A string consisting of the column names separated by tabs, no new line\n",
    "    ''' \n",
    "    res = list()\n",
    "    for row in cursor.fetchall():        \n",
    "        res.append('\\t'.join(list(map(str,row))))\n",
    "    return \"\\n\".join(res)"
   ]
  },
  {
   "cell_type": "code",
   "execution_count": 33,
   "metadata": {},
   "outputs": [
    {
     "name": "stdout",
     "output_type": "stream",
     "text": [
      "name\ttype\n",
      "surveys\ttable\n",
      "species\ttable\n",
      "plots\ttable\n",
      "sqlite_sequence\ttable\n",
      "species_survey\tview\n"
     ]
    }
   ],
   "source": [
    "# use the functions we created for a nice display of the results\n",
    "\n",
    "cursor.execute(sql)\n",
    "\n",
    "print(get_header(cursor))\n",
    "print(get_results(cursor))"
   ]
  },
  {
   "cell_type": "code",
   "execution_count": 34,
   "metadata": {},
   "outputs": [
    {
     "name": "stdout",
     "output_type": "stream",
     "text": [
      "name\n",
      "surveys\n",
      "species\n",
      "plots\n",
      "sqlite_sequence\n"
     ]
    }
   ],
   "source": [
    "# WHERE clause example (-- denotes comment)\n",
    "# more examples with comments later\n",
    "# in the WHERE clause we put conditions to filter the data\n",
    "\n",
    "sql = '''\n",
    "SELECT name\n",
    "FROM sqlite_master \n",
    "WHERE type = \"table\"; -- condition that allows the selection of specific rows\n",
    "'''\n",
    "cursor.execute(sql)\n",
    "print(get_header(cursor))\n",
    "print(get_results(cursor))"
   ]
  },
  {
   "cell_type": "code",
   "execution_count": 36,
   "metadata": {},
   "outputs": [
    {
     "name": "stdout",
     "output_type": "stream",
     "text": [
      "species_id\tgenus\tspecies\ttaxa\n",
      "AB\tAmphispiza\tbilineata\tBird\n",
      "AH\tAmmospermophilus\tharrisi\tRodent\n",
      "AS\tAmmodramus\tsavannarum\tBird\n",
      "BA\tBaiomys\ttaylori\tRodent\n",
      "CB\tCampylorhynchus\tbrunneicapillus\tBird\n",
      "CM\tCalamospiza\tmelanocorys\tBird\n",
      "CQ\tCallipepla\tsquamata\tBird\n",
      "CS\tCrotalus\tscutalatus\tReptile\n",
      "CT\tCnemidophorus\ttigris\tReptile\n",
      "CU\tCnemidophorus\tuniparens\tReptile\n",
      "CV\tCrotalus\tviridis\tReptile\n",
      "DM\tDipodomys\tmerriami\tRodent\n",
      "DO\tDipodomys\tordii\tRodent\n",
      "DS\tDipodomys\tspectabilis\tRodent\n",
      "DX\tDipodomys\tsp.\tRodent\n",
      "EO\tEumeces\tobsoletus\tReptile\n",
      "GS\tGambelia\tsilus\tReptile\n",
      "NL\tNeotoma\talbigula\tRodent\n",
      "NX\tNeotoma\tsp.\tRodent\n",
      "OL\tOnychomys\tleucogaster\tRodent\n"
     ]
    }
   ],
   "source": [
    "# Selects all columns (*) of the species table \n",
    "# retrieves only 20 rows due to the LIMIT clause\n",
    "# The first column is the species id\n",
    "\n",
    "sql = '''\n",
    "SELECT *\n",
    "FROM species LIMIT 20;\n",
    "'''\n",
    "cursor.execute(sql)\n",
    "print(get_header(cursor))\n",
    "print(get_results(cursor))"
   ]
  },
  {
   "cell_type": "markdown",
   "metadata": {},
   "source": [
    "Aliasing column names to make them easier to understand - add a new name for a column next to the column name using quotes if the alias contains spaces, the AS keyword can also be used\n",
    "- e.g.: column_name AS \"Alias name\"\n",
    "- e.g.: column_name \"Alias name\"\n",
    "- e.g.: column_name Alias_name"
   ]
  },
  {
   "cell_type": "code",
   "execution_count": 38,
   "metadata": {},
   "outputs": [
    {
     "name": "stdout",
     "output_type": "stream",
     "text": [
      "ID\tSpecies Name\n",
      "AB\tbilineata\n",
      "AH\tharrisi\n",
      "AS\tsavannarum\n",
      "BA\ttaylori\n",
      "CB\tbrunneicapillus\n"
     ]
    }
   ],
   "source": [
    "# example of aliasing columns\n",
    "\n",
    "sql = '''\n",
    "SELECT species_id ID, species as \"Species Name\"\n",
    "FROM species LIMIT 5;\n",
    "'''\n",
    "cursor.execute(sql)\n",
    "print(get_header(cursor))\n",
    "print(get_results(cursor))"
   ]
  },
  {
   "cell_type": "code",
   "execution_count": 39,
   "metadata": {},
   "outputs": [
    {
     "name": "stdout",
     "output_type": "stream",
     "text": [
      "count(*)\n",
      "54\n"
     ]
    }
   ],
   "source": [
    "# we can use aggregate functions to summarize data\n",
    "# COUNT returns a single number, which is the count of all rows in the table\n",
    "\n",
    "sql = '''\n",
    "SELECT count(*) FROM species;\n",
    "'''\n",
    "cursor.execute(sql)\n",
    "print(get_header(cursor))\n",
    "print(get_results(cursor))"
   ]
  },
  {
   "cell_type": "code",
   "execution_count": 40,
   "metadata": {},
   "outputs": [
    {
     "name": "stdout",
     "output_type": "stream",
     "text": [
      "Number of species\n",
      "54\n"
     ]
    }
   ],
   "source": [
    "sql = '''\n",
    "SELECT count(species_id) AS 'Number of species' \n",
    "FROM species;\n",
    "'''\n",
    "cursor.execute(sql)\n",
    "print(get_header(cursor))\n",
    "print(get_results(cursor))"
   ]
  },
  {
   "cell_type": "code",
   "execution_count": 42,
   "metadata": {},
   "outputs": [
    {
     "name": "stdout",
     "output_type": "stream",
     "text": [
      "record_id\tmonth\tday\tyear\tplot_id\tspecies_id\tsex\thindfoot_length\tweight\n",
      "1\t7\t16\t1977\t2\tNL\tM\t32.0\tNone\n",
      "2\t7\t16\t1977\t3\tNL\tM\t33.0\tNone\n",
      "3\t7\t16\t1977\t2\tDM\tF\t37.0\tNone\n",
      "4\t7\t16\t1977\t7\tDM\tM\t36.0\tNone\n",
      "5\t7\t16\t1977\t3\tDM\tM\t35.0\tNone\n",
      "6\t7\t16\t1977\t1\tPF\tM\t14.0\tNone\n",
      "7\t7\t16\t1977\t2\tPE\tF\tNone\tNone\n",
      "8\t7\t16\t1977\t1\tDM\tM\t37.0\tNone\n",
      "9\t7\t16\t1977\t1\tDM\tF\t34.0\tNone\n",
      "10\t7\t16\t1977\t6\tPF\tF\t20.0\tNone\n",
      "11\t7\t16\t1977\t5\tDS\tF\t53.0\tNone\n",
      "12\t7\t16\t1977\t7\tDM\tM\t38.0\tNone\n",
      "13\t7\t16\t1977\t3\tDM\tM\t35.0\tNone\n",
      "14\t7\t16\t1977\t8\tDM\tNone\tNone\tNone\n",
      "15\t7\t16\t1977\t6\tDM\tF\t36.0\tNone\n",
      "16\t7\t16\t1977\t4\tDM\tF\t36.0\tNone\n",
      "17\t7\t16\t1977\t3\tDS\tF\t48.0\tNone\n",
      "18\t7\t16\t1977\t2\tPP\tM\t22.0\tNone\n",
      "19\t7\t16\t1977\t4\tPF\tNone\tNone\tNone\n",
      "20\t7\t17\t1977\t11\tDS\tF\t48.0\tNone\n",
      "21\t7\t17\t1977\t14\tDM\tF\t34.0\tNone\n",
      "22\t7\t17\t1977\t15\tNL\tF\t31.0\tNone\n",
      "23\t7\t17\t1977\t13\tDM\tM\t36.0\tNone\n",
      "24\t7\t17\t1977\t13\tSH\tM\t21.0\tNone\n",
      "25\t7\t17\t1977\t9\tDM\tM\t35.0\tNone\n",
      "26\t7\t17\t1977\t15\tDM\tM\t31.0\tNone\n",
      "27\t7\t17\t1977\t15\tDM\tM\t36.0\tNone\n",
      "28\t7\t17\t1977\t11\tDM\tM\t38.0\tNone\n",
      "29\t7\t17\t1977\t11\tPP\tM\tNone\tNone\n",
      "30\t7\t17\t1977\t10\tDS\tF\t52.0\tNone\n",
      "31\t7\t17\t1977\t15\tDM\tF\t37.0\tNone\n",
      "32\t7\t17\t1977\t10\tDM\tF\t35.0\tNone\n",
      "33\t7\t17\t1977\t11\tDM\tF\t36.0\tNone\n",
      "34\t7\t17\t1977\t17\tDM\tNone\tNone\tNone\n",
      "35\t7\t17\t1977\t13\tDM\tF\t38.0\tNone\n",
      "36\t7\t17\t1977\t16\tOT\tF\t22.0\tNone\n",
      "37\t7\t17\t1977\t11\tDM\tF\t35.0\tNone\n",
      "38\t7\t17\t1977\t17\tNL\tM\t33.0\tNone\n",
      "39\t7\t17\t1977\t11\tDM\tF\t36.0\tNone\n",
      "40\t7\t18\t1977\t20\tDM\tM\t36.0\tNone\n",
      "41\t7\t18\t1977\t23\tDM\tF\t34.0\tNone\n",
      "42\t7\t18\t1977\t18\tDS\tF\t46.0\tNone\n",
      "43\t7\t18\t1977\t21\tDM\tM\t36.0\tNone\n",
      "44\t7\t18\t1977\t18\tDM\tF\t35.0\tNone\n",
      "45\t7\t18\t1977\t22\tDM\tM\t36.0\tNone\n",
      "46\t7\t18\t1977\t19\tDM\tM\t35.0\tNone\n",
      "47\t7\t18\t1977\t18\tDM\tM\t32.0\tNone\n",
      "48\t7\t18\t1977\t20\tDM\tF\t36.0\tNone\n",
      "49\t7\t18\t1977\t12\tPP\tF\t17.0\tNone\n",
      "50\t7\t18\t1977\t18\tDM\tF\t32.0\tNone\n"
     ]
    }
   ],
   "source": [
    "# select first 50 rows from the surveys table - all columns\n",
    "\n",
    "sql = '''\n",
    "SELECT *\n",
    "FROM surveys\n",
    "LIMIT 50;\n",
    "'''\n",
    "cursor.execute(sql)\n",
    "print(get_header(cursor))\n",
    "print(get_results(cursor))"
   ]
  },
  {
   "cell_type": "code",
   "execution_count": 43,
   "metadata": {},
   "outputs": [
    {
     "name": "stdout",
     "output_type": "stream",
     "text": [
      "record_id\tmonth\tday\tyear\tplot_id\tspecies_id\tsex\thindfoot_length\tweight\n",
      "1\t7\t16\t1977\t2\tNL\tM\t32.0\tNone\n",
      "2\t7\t16\t1977\t3\tNL\tM\t33.0\tNone\n",
      "3\t7\t16\t1977\t2\tDM\tF\t37.0\tNone\n",
      "4\t7\t16\t1977\t7\tDM\tM\t36.0\tNone\n",
      "5\t7\t16\t1977\t3\tDM\tM\t35.0\tNone\n",
      "6\t7\t16\t1977\t1\tPF\tM\t14.0\tNone\n",
      "7\t7\t16\t1977\t2\tPE\tF\tNone\tNone\n",
      "8\t7\t16\t1977\t1\tDM\tM\t37.0\tNone\n",
      "9\t7\t16\t1977\t1\tDM\tF\t34.0\tNone\n",
      "10\t7\t16\t1977\t6\tPF\tF\t20.0\tNone\n",
      "11\t7\t16\t1977\t5\tDS\tF\t53.0\tNone\n",
      "12\t7\t16\t1977\t7\tDM\tM\t38.0\tNone\n",
      "13\t7\t16\t1977\t3\tDM\tM\t35.0\tNone\n",
      "14\t7\t16\t1977\t8\tDM\tNone\tNone\tNone\n",
      "15\t7\t16\t1977\t6\tDM\tF\t36.0\tNone\n",
      "16\t7\t16\t1977\t4\tDM\tF\t36.0\tNone\n",
      "17\t7\t16\t1977\t3\tDS\tF\t48.0\tNone\n",
      "18\t7\t16\t1977\t2\tPP\tM\t22.0\tNone\n",
      "19\t7\t16\t1977\t4\tPF\tNone\tNone\tNone\n",
      "20\t7\t17\t1977\t11\tDS\tF\t48.0\tNone\n"
     ]
    }
   ],
   "source": [
    "sql = '''\n",
    "SELECT * \n",
    "FROM surveys\n",
    "LIMIT 20;\n",
    "'''\n",
    "cursor.execute(sql)\n",
    "print(get_header(cursor))\n",
    "print(get_results(cursor))"
   ]
  },
  {
   "cell_type": "code",
   "execution_count": 44,
   "metadata": {},
   "outputs": [
    {
     "name": "stdout",
     "output_type": "stream",
     "text": [
      "month\tyear\n",
      "7\t1977\n",
      "7\t1977\n",
      "7\t1977\n",
      "7\t1977\n",
      "7\t1977\n",
      "\n",
      "month\tyear\n",
      "7\t1977\n",
      "8\t1977\n",
      "9\t1977\n",
      "10\t1977\n",
      "11\t1977\n"
     ]
    }
   ],
   "source": [
    "# DISTINCT selects  non-duplicated elements (rows)\n",
    "\n",
    "sql = '''\n",
    "SELECT month, year FROM surveys LIMIT 5;\n",
    "'''\n",
    "cursor.execute(sql)\n",
    "print(get_header(cursor))\n",
    "print(get_results(cursor))\n",
    "\n",
    "print()\n",
    "\n",
    "sql = '''\n",
    "SELECT DISTINCT month, year FROM surveys LIMIT 5;\n",
    "'''\n",
    "cursor.execute(sql)\n",
    "print(get_header(cursor))\n",
    "print(get_results(cursor))"
   ]
  },
  {
   "cell_type": "code",
   "execution_count": 39,
   "metadata": {},
   "outputs": [
    {
     "name": "stdout",
     "output_type": "stream",
     "text": [
      "MAX_PID\n",
      "24\n"
     ]
    }
   ],
   "source": [
    "# Other aggregate functions are available for numerical columns\n",
    "# https://www.sqlite.org/lang_aggfunc.html\n",
    "# comments are added using -- in front of the test to comment or using /* comment */ \n",
    "\n",
    "sql = '''\n",
    "select MAX(DISTINCT plot_id) MAX_PID FROM surveys; -- comment LIMIT 5; /* comment */\n",
    "'''\n",
    "cursor.execute(sql)\n",
    "print(get_header(cursor))\n",
    "print(get_results(cursor))\n",
    "\n"
   ]
  },
  {
   "cell_type": "code",
   "execution_count": 47,
   "metadata": {},
   "outputs": [
    {
     "name": "stdout",
     "output_type": "stream",
     "text": [
      "count(*)\n",
      "35549\n"
     ]
    }
   ],
   "source": [
    "# count the number of rows in surveys\n",
    "\n",
    "\n",
    "sql = '''\n",
    "SELECT count(*)\n",
    "FROM surveys\n",
    "'''\n",
    "cursor.execute(sql)\n",
    "print(get_header(cursor))\n",
    "print(get_results(cursor))\n"
   ]
  },
  {
   "cell_type": "code",
   "execution_count": null,
   "metadata": {},
   "outputs": [],
   "source": []
  },
  {
   "cell_type": "code",
   "execution_count": 50,
   "metadata": {},
   "outputs": [
    {
     "name": "stdout",
     "output_type": "stream",
     "text": [
      "No of Years\n",
      "26\n"
     ]
    }
   ],
   "source": [
    "# count the number of distinct years in surveys\n",
    "\n",
    "\n",
    "sql = '''\n",
    "SELECT count(DISTINCT year) \"No of Years\"\n",
    "FROM surveys\n",
    "'''\n",
    "cursor.execute(sql)\n",
    "print(get_header(cursor))\n",
    "print(get_results(cursor))\n"
   ]
  },
  {
   "cell_type": "code",
   "execution_count": null,
   "metadata": {},
   "outputs": [],
   "source": []
  },
  {
   "cell_type": "code",
   "execution_count": 52,
   "metadata": {},
   "outputs": [
    {
     "name": "stdout",
     "output_type": "stream",
     "text": [
      "count(DISTINCT plot_id)\n",
      "24\n"
     ]
    }
   ],
   "source": [
    "# count the distinct plots in surveys\n",
    "\n",
    "\n",
    "sql = '''\n",
    "SELECT count(DISTINCT plot_id)\n",
    "FROM surveys\n",
    "'''\n",
    "cursor.execute(sql)\n",
    "print(get_header(cursor))\n",
    "print(get_results(cursor))"
   ]
  },
  {
   "cell_type": "code",
   "execution_count": 54,
   "metadata": {},
   "outputs": [
    {
     "name": "stdout",
     "output_type": "stream",
     "text": [
      "count(DISTINCT taxa)\n",
      "4\n"
     ]
    }
   ],
   "source": [
    "# count the distinct  taxa in species\n",
    "\n",
    "sql = '''\n",
    "SELECT count(DISTINCT taxa)\n",
    "FROM species\n",
    "'''\n",
    "cursor.execute(sql)\n",
    "print(get_header(cursor))\n",
    "print(get_results(cursor))"
   ]
  },
  {
   "cell_type": "markdown",
   "metadata": {},
   "source": [
    "#### WHERE clause operators\n",
    "https://www.sqlite.org/lang_expr.html\n",
    "\n",
    "<> ,  != \tinequality <br>\n",
    "<\t\t\tless than <br>\n",
    "<= \t\t\tless than or equal <br>\n",
    "=\t\t\tequal <br>\n",
    "'>\t\t\tgreater than <br>\n",
    "'>= \t\tgreater than or equal <br>\n",
    "BETWEEN v1 AND v2\ttests that a value to lies in a given range <br>\n",
    "EXISTS\t\ttest for existence of rows matching query <br>\n",
    "IN\t\t\ttests if a value falls within a given set or query <br>\n",
    "IS [ NOT ] NULL\tis or is not null <br>\n",
    "[ NOT ] LIKE\t\ttests value to see if like or not like another <br>\n",
    "\n",
    "% is the wildcard in SQL, used in conjunction with LIKE\n",
    "\n"
   ]
  },
  {
   "cell_type": "markdown",
   "metadata": {},
   "source": [
    "........................................................................\n",
    "\n",
    "Merriam's kangaroo rat (Dipodomys merriami - DM)\n",
    "\n",
    "<img src = https://upload.wikimedia.org/wikipedia/commons/thumb/a/a4/Merriam%27s_Kangaroo_Rat.jpg/440px-Merriam%27s_Kangaroo_Rat.jpg width = 200 />\n",
    "\n",
    "https://en.wikipedia.org/wiki/Merriam%27s_kangaroo_rat      \n",
    "........................................................................"
   ]
  },
  {
   "cell_type": "code",
   "execution_count": 55,
   "metadata": {},
   "outputs": [
    {
     "name": "stdout",
     "output_type": "stream",
     "text": [
      "record_id\tmonth\tday\tyear\tplot_id\tspecies_id\tsex\thindfoot_length\tweight\n",
      "17221\t2\t25\t1990\t11\tDM\tF\t37.0\t39.0\n",
      "17550\t5\t24\t1990\t11\tDM\tF\t34.0\t23.0\n",
      "17649\t6\t22\t1990\t11\tDM\tM\t33.0\t20.0\n",
      "17730\t7\t22\t1990\t11\tDM\tF\t36.0\t33.0\n",
      "17808\t8\t17\t1990\t11\tDM\tF\t37.0\t35.0\n",
      "17816\t8\t17\t1990\t11\tDM\tF\t35.0\t23.0\n",
      "17874\t9\t25\t1990\t11\tDM\tF\tNone\t39.0\n",
      "17943\t10\t16\t1990\t11\tDM\tF\t37.0\t39.0\n",
      "18051\t11\t11\t1990\t11\tDM\tF\t37.0\t38.0\n",
      "18156\t12\t16\t1990\t11\tDM\tF\t34.0\t37.0\n",
      "18182\t12\t16\t1990\t11\tDM\tF\t37.0\t37.0\n"
     ]
    }
   ],
   "source": [
    "# we can put multiple conditions in the  where clause \n",
    "# combine conditions with AND, OR\n",
    "# let's see the DM rats that have a weight < 40 and were seen on a specific plot in 1990\n",
    "\n",
    "sql = '''\n",
    "SELECT * FROM surveys \n",
    "WHERE plot_id = '11' AND \n",
    "      species_id = \"DM\" AND \n",
    "      weight < 40 AND \n",
    "      year = 1990;\n",
    "'''\n",
    "cursor.execute(sql)\n",
    "print(get_header(cursor))\n",
    "print(get_results(cursor))"
   ]
  },
  {
   "cell_type": "code",
   "execution_count": null,
   "metadata": {},
   "outputs": [],
   "source": [
    "sql = '''\n",
    "SELECT * FROM surveys \n",
    "WHERE species_id IN (\"DS\", \"DM\", \"PF\") AND\n",
    "      plot_id IN (10, 11) AND\n",
    "      year IN (1980, 1983) AND \n",
    "      month IN (1,3) AND\n",
    "      sex = \"M\";\n",
    "'''\n",
    "cursor.execute(sql)\n",
    "print(get_header(cursor))\n",
    "print(get_results(cursor))"
   ]
  },
  {
   "cell_type": "code",
   "execution_count": 59,
   "metadata": {},
   "outputs": [
    {
     "name": "stdout",
     "output_type": "stream",
     "text": [
      "species_id\tgenus\tspecies\ttaxa\n",
      "AH\tAmmospermophilus\tharrisi\tRodent\n",
      "DM\tDipodomys\tmerriami\tRodent\n",
      "PE\tPeromyscus\teremicus\tRodent\n"
     ]
    }
   ],
   "source": [
    "sql = '''\n",
    "SELECT * \n",
    "FROM species \n",
    "WHERE species_id in (\"AH\",\"PE\", \"DM\")\n",
    "'''\n",
    "cursor.execute(sql)\n",
    "print(get_header(cursor))\n",
    "print(get_results(cursor))"
   ]
  },
  {
   "cell_type": "code",
   "execution_count": 56,
   "metadata": {},
   "outputs": [
    {
     "name": "stdout",
     "output_type": "stream",
     "text": [
      "record_id\tmonth\tday\tyear\tplot_id\tspecies_id\tsex\thindfoot_length\tweight\n",
      "15469\t1\t11\t1989\t8\tDM\tM\t36.0\t39.0\n",
      "16161\t6\t4\t1989\t8\tDM\tM\t36.0\t34.0\n",
      "16201\t6\t4\t1989\t8\tDM\tF\t50.0\t38.0\n",
      "16306\t7\t4\t1989\t8\tDM\tF\tNone\t32.0\n",
      "16414\t7\t30\t1989\t8\tDM\tF\t36.0\t36.0\n",
      "16545\t10\t8\t1989\t6\tDM\tM\t36.0\t40.0\n",
      "16673\t11\t5\t1989\t8\tDM\tF\t35.0\t39.0\n",
      "16942\t1\t7\t1990\t8\tDM\tF\t36.0\t38.0\n",
      "17055\t1\t30\t1990\t8\tDM\tF\t37.0\t39.0\n",
      "17079\t1\t30\t1990\t8\tDM\tF\t35.0\t35.0\n",
      "17114\t1\t30\t1990\t8\tDM\tF\t37.0\t36.0\n",
      "17197\t2\t25\t1990\t8\tDM\tF\t36.0\t38.0\n",
      "17229\t2\t25\t1990\t8\tDM\tF\t35.0\t40.0\n",
      "17369\t3\t30\t1990\t8\tDM\tF\t36.0\t39.0\n",
      "17441\t4\t26\t1990\t8\tDM\tF\t37.0\t39.0\n",
      "17442\t4\t26\t1990\t8\tDM\tF\t37.0\t40.0\n",
      "17516\t5\t24\t1990\t8\tDM\tM\t36.0\t32.0\n",
      "17529\t5\t24\t1990\t8\tDM\tM\t35.0\t30.0\n",
      "17610\t6\t22\t1990\t8\tDM\tM\t36.0\t37.0\n",
      "17851\t9\t25\t1990\t8\tDM\tF\tNone\t39.0\n",
      "17937\t10\t16\t1990\t8\tDM\tF\t35.0\t40.0\n",
      "18026\t11\t11\t1990\t8\tDM\tF\t36.0\t35.0\n",
      "18029\t11\t11\t1990\t8\tDM\tM\t37.0\t40.0\n",
      "18040\t11\t11\t1990\t8\tDM\tM\t36.0\t35.0\n",
      "18063\t11\t11\t1990\t8\tDM\tM\t36.0\t38.0\n",
      "18065\t11\t11\t1990\t8\tDM\tF\t36.0\t40.0\n",
      "18129\t12\t16\t1990\t8\tDM\tF\t36.0\t40.0\n",
      "18153\t12\t16\t1990\t8\tDM\tM\t37.0\t36.0\n",
      "18168\t12\t16\t1990\t8\tDM\tF\t35.0\t38.0\n",
      "18174\t12\t16\t1990\t8\tDM\tM\t37.0\t39.0\n"
     ]
    }
   ],
   "source": [
    "# between allows us to check if a value is between 2 limits\n",
    "sql = '''\n",
    "SELECT * FROM surveys \n",
    "WHERE species_id = 'DM' AND \n",
    "      weight BETWEEN 30 AND 40 AND\n",
    "      plot_id BETWEEN 6 AND 8 AND\n",
    "      year BETWEEN 1989 AND 1990;\n",
    "'''\n",
    "cursor.execute(sql)\n",
    "print(get_header(cursor))\n",
    "print(get_results(cursor))"
   ]
  },
  {
   "cell_type": "code",
   "execution_count": 57,
   "metadata": {},
   "outputs": [
    {
     "name": "stdout",
     "output_type": "stream",
     "text": [
      "species_id\tgenus\tspecies\ttaxa\n",
      "AH\tAmmospermophilus\tharrisi\tRodent\n",
      "PE\tPeromyscus\teremicus\tRodent\n",
      "PF\tPerognathus\tflavus\tRodent\n",
      "PH\tPerognathus\thispidus\tRodent\n",
      "PL\tPeromyscus\tleucopus\tRodent\n",
      "PM\tPeromyscus\tmaniculatus\tRodent\n",
      "SS\tSpermophilus\tspilosoma\tRodent\n",
      "ST\tSpermophilus\ttereticaudus\tRodent\n"
     ]
    }
   ],
   "source": [
    "# LIKE allows you to look for patterns\n",
    "\n",
    "sql = '''\n",
    "SELECT * \n",
    "FROM species \n",
    "WHERE genus LIKE '%per%'; -- not case sensitive\n",
    "'''\n",
    "cursor.execute(sql)\n",
    "print(get_header(cursor))\n",
    "print(get_results(cursor))"
   ]
  },
  {
   "cell_type": "code",
   "execution_count": null,
   "metadata": {},
   "outputs": [],
   "source": [
    "# Retrieve rows from surveys where the species_id is DM \n",
    "# and has been seen in 1990 or 1995 in June-August on plot 1\n",
    "\n",
    "# put the most restrictive condition first if possible\n",
    "sql = '''\n",
    "SELECT * \n",
    "FROM species \n",
    "WHERE species_id = \"DM\" AND\n",
    "      year IN (1990,1995) AND\n",
    "      month BETWEEN 6 AND 8 AND\n",
    "      plot_id = 1\n",
    "'''\n",
    "cursor.execute(sql)\n",
    "print(get_header(cursor))\n",
    "print(get_results(cursor))\n",
    "\n"
   ]
  },
  {
   "cell_type": "code",
   "execution_count": null,
   "metadata": {},
   "outputs": [],
   "source": []
  },
  {
   "cell_type": "code",
   "execution_count": 60,
   "metadata": {},
   "outputs": [
    {
     "name": "stdout",
     "output_type": "stream",
     "text": [
      "record_id\tmonth\tday\tyear\tplot_id\tspecies_id\tsex\thindfoot_length\tweight\n",
      "8016\t6\t18\t1983\t11\tOT\tF\t20.0\t30.0\n",
      "8046\t6\t18\t1983\t11\tDS\tF\t52.0\t128.0\n",
      "8010\t6\t18\t1983\t11\tDO\tF\t36.0\t46.0\n",
      "7938\t6\t17\t1983\t12\tPP\tF\t22.0\t20.0\n",
      "7970\t6\t17\t1983\t12\tOT\tF\t20.0\t15.0\n",
      "7936\t6\t17\t1983\t12\tDO\tF\t34.0\t42.0\n",
      "7962\t6\t17\t1983\t12\tDO\tF\t33.0\t39.0\n",
      "7957\t6\t17\t1983\t12\tDM\tF\t36.0\t44.0\n",
      "7980\t6\t17\t1983\t12\tDM\tF\t31.0\t16.0\n",
      "7981\t6\t17\t1983\t13\tDM\tF\t34.0\t49.0\n",
      "7989\t6\t17\t1983\t13\tDM\tF\t35.0\t46.0\n",
      "7953\t6\t17\t1983\t14\tDO\tF\t31.0\t19.0\n",
      "7972\t6\t17\t1983\t14\tDO\tF\t33.0\t15.0\n",
      "7976\t6\t17\t1983\t14\tDO\tF\t33.0\t46.0\n",
      "8031\t6\t18\t1983\t15\tOL\tF\t20.0\t45.0\n",
      "8033\t6\t18\t1983\t15\tNL\tF\t29.0\t117.0\n",
      "7934\t6\t17\t1983\t17\tDM\tF\t33.0\t38.0\n",
      "7968\t6\t17\t1983\t18\tOT\tF\t20.0\t22.0\n",
      "7959\t6\t17\t1983\t18\tNL\tF\t32.0\t162.0\n",
      "7977\t6\t17\t1983\t18\tDS\tF\t47.0\t64.0\n",
      "7983\t6\t17\t1983\t19\tRM\tF\t16.0\t15.0\n",
      "7986\t6\t17\t1983\t19\tPF\tF\t16.0\t7.0\n",
      "7937\t6\t17\t1983\t20\tNL\tF\t31.0\tNone\n",
      "7967\t6\t17\t1983\t20\tNL\tF\t32.0\t150.0\n",
      "7939\t6\t17\t1983\t20\tDS\tF\t50.0\t111.0\n",
      "7947\t6\t17\t1983\t20\tDO\tF\t35.0\t41.0\n",
      "7971\t6\t17\t1983\t20\tDM\tF\t36.0\tNone\n"
     ]
    }
   ],
   "source": [
    "# ORDER BY (optional) - indicates a sort order given by a column in the the output data and the sort order: ASC or DESC\n",
    "\n",
    "sql = '''\n",
    "SELECT *\n",
    "FROM surveys \n",
    "WHERE month = 6 AND year = 1983 AND sex = \"F\" AND plot_id BETWEEN 10 AND 20\n",
    "ORDER BY plot_id  ASC, species_id DESC\n",
    "--LIMIT 20;\n",
    "'''\n",
    "cursor.execute(sql)\n",
    "print(get_header(cursor))\n",
    "print(get_results(cursor))"
   ]
  },
  {
   "cell_type": "markdown",
   "metadata": {},
   "source": [
    "The PRAGMA statement is an SQL extension specific to SQLite and used to modify the operation of the SQLite library or to query the SQLite library for internal (non-table) data.\n",
    "https://www.sqlite.org/pragma.html"
   ]
  },
  {
   "cell_type": "markdown",
   "metadata": {},
   "source": [
    "____\n",
    "Sqlite3 also has some PRAGMA methods <br>\n",
    "This is an SQL extension specific to SQLite that is used to modify the operation of the SQLite library or to query the SQLite library for internal (non-table) data <br>\n",
    "https://www.sqlite.org/pragma.html <br>\n",
    "The code below shows how to get the schema (columns and columns information)"
   ]
  },
  {
   "cell_type": "code",
   "execution_count": 6,
   "metadata": {},
   "outputs": [],
   "source": [
    "from sqlite3 import connect\n",
    "connection = connect(\"portal_mammals.sqlite\")\n",
    "cursor = connection.cursor()\n",
    "\n",
    "# also run the get_header() and get_results() funtion defintion"
   ]
  },
  {
   "cell_type": "code",
   "execution_count": 7,
   "metadata": {},
   "outputs": [
    {
     "name": "stdout",
     "output_type": "stream",
     "text": [
      "cid\tname\ttype\tnotnull\tdflt_value\tpk\n",
      "0\tspecies_id\tTEXT\t0\tNone\t0\n",
      "1\tgenus\tTEXT\t0\tNone\t0\n",
      "2\tspecies\tTEXT\t0\tNone\t0\n",
      "3\ttaxa\tTEXT\t0\tNone\t0\n"
     ]
    }
   ],
   "source": [
    "# get the information about the data table\n",
    "# other PRAGMA methods can provide other types of information\n",
    "\n",
    "sql = 'PRAGMA table_info(\"species\")'\n",
    "cursor.execute(sql)\n",
    "print(get_header(cursor))\n",
    "print(get_results(cursor))"
   ]
  },
  {
   "cell_type": "code",
   "execution_count": 8,
   "metadata": {},
   "outputs": [
    {
     "name": "stdout",
     "output_type": "stream",
     "text": [
      "cid\tname\ttype\tnotnull\tdflt_value\tpk\n",
      "0\trecord_id\tBIGINT\t0\tNone\t0\n",
      "1\tmonth\tBIGINT\t0\tNone\t0\n",
      "2\tday\tBIGINT\t0\tNone\t0\n",
      "3\tyear\tBIGINT\t0\tNone\t0\n",
      "4\tplot_id\tBIGINT\t0\tNone\t0\n",
      "5\tspecies_id\tTEXT\t0\tNone\t0\n",
      "6\tsex\tTEXT\t0\tNone\t0\n",
      "7\thindfoot_length\tFLOAT\t0\tNone\t0\n",
      "8\tweight\tFLOAT\t0\tNone\t0\n"
     ]
    }
   ],
   "source": [
    "sql = '''SELECT * FROM pragma_table_info(\"surveys\")  '''\n",
    "cursor.execute(sql)\n",
    "print(get_header(cursor))\n",
    "print(get_results(cursor))"
   ]
  },
  {
   "cell_type": "markdown",
   "metadata": {},
   "source": [
    "___"
   ]
  },
  {
   "cell_type": "code",
   "execution_count": 10,
   "metadata": {},
   "outputs": [
    {
     "name": "stdout",
     "output_type": "stream",
     "text": [
      "species_id\tgenus\tspecies\ttaxa\n",
      "DM\tDipodomys\tmerriami\tRodent\n",
      "DO\tDipodomys\tordii\tRodent\n",
      "OL\tOnychomys\tleucogaster\tRodent\n",
      "OT\tOnychomys\ttorridus\tRodent\n",
      "PB\tChaetodipus\tbaileyi\tRodent\n",
      "PE\tPeromyscus\teremicus\tRodent\n",
      "PF\tPerognathus\tflavus\tRodent\n",
      "PM\tPeromyscus\tmaniculatus\tRodent\n",
      "PP\tChaetodipus\tpenicillatus\tRodent\n",
      "RF\tReithrodontomys\tfulvescens\tRodent\n",
      "RM\tReithrodontomys\tmegalotis\tRodent\n"
     ]
    }
   ],
   "source": [
    "# SUB-QUERY - we can have a query in a query\n",
    "\n",
    "sql = '''\n",
    "SELECT *\n",
    "FROM species\n",
    "WHERE species_id IN\n",
    "    (SELECT DISTINCT species_id \n",
    "    FROM surveys\n",
    "    WHERE year = 1997 AND month = 4); \n",
    "'''\n",
    "cursor.execute(sql)\n",
    "print(get_header(cursor))\n",
    "print(get_results(cursor))"
   ]
  },
  {
   "cell_type": "code",
   "execution_count": 9,
   "metadata": {},
   "outputs": [
    {
     "name": "stdout",
     "output_type": "stream",
     "text": [
      "species_id\n",
      "DM\n",
      "PP\n",
      "RM\n",
      "PF\n",
      "PM\n",
      "OT\n",
      "PB\n",
      "PE\n",
      "DO\n",
      "OL\n",
      "RF\n"
     ]
    }
   ],
   "source": [
    "sql = '''\n",
    "SELECT DISTINCT species_id \n",
    "    FROM surveys\n",
    "    WHERE year = 1997 AND month = 4; \n",
    "'''\n",
    "cursor.execute(sql)\n",
    "print(get_header(cursor))\n",
    "print(get_results(cursor))"
   ]
  },
  {
   "cell_type": "code",
   "execution_count": 11,
   "metadata": {},
   "outputs": [
    {
     "name": "stdout",
     "output_type": "stream",
     "text": [
      "ID\trecord_no\n",
      "DM\t10596\n",
      "PP\t3123\n",
      "DO\t3027\n",
      "PB\t2891\n",
      "RM\t2609\n",
      "DS\t2504\n",
      "OT\t2249\n",
      "PF\t1597\n",
      "PE\t1299\n",
      "NL\t1252\n",
      "OL\t1006\n",
      "PM\t899\n",
      "None\t763\n",
      "AH\t437\n",
      "AB\t303\n",
      "SS\t248\n",
      "SH\t147\n",
      "SA\t75\n",
      "RF\t75\n",
      "CB\t50\n",
      "BA\t46\n",
      "SO\t43\n",
      "SF\t43\n",
      "DX\t40\n",
      "PC\t39\n",
      "PL\t36\n",
      "PH\t32\n",
      "CQ\t16\n",
      "CM\t13\n",
      "OX\t12\n",
      "UR\t10\n",
      "PI\t9\n",
      "UP\t8\n",
      "RO\t8\n",
      "PG\t8\n",
      "PX\t6\n",
      "SU\t5\n",
      "PU\t5\n",
      "US\t4\n",
      "UL\t4\n",
      "ZL\t2\n",
      "RX\t2\n",
      "AS\t2\n",
      "ST\t1\n",
      "SC\t1\n",
      "CV\t1\n",
      "CU\t1\n",
      "CT\t1\n",
      "CS\t1\n"
     ]
    }
   ],
   "source": [
    "# GROUP BY groups by a column and creates summary data for a different column\n",
    "# count entries for each species ID - how many sightings we have for each species\n",
    "\n",
    "sql = '''\n",
    "SELECT species_id ID, count(*) AS record_no\n",
    "FROM surveys \n",
    "GROUP BY species_id \n",
    "ORDER BY record_no DESC;\n",
    "'''\n",
    "cursor.execute(sql)\n",
    "print(get_header(cursor))\n",
    "print(get_results(cursor))"
   ]
  },
  {
   "cell_type": "code",
   "execution_count": 12,
   "metadata": {},
   "outputs": [
    {
     "name": "stdout",
     "output_type": "stream",
     "text": [
      "Plot No\tRecord Number\n",
      "1\t1995\n",
      "2\t2194\n",
      "3\t1828\n",
      "4\t1969\n",
      "5\t1194\n",
      "6\t1582\n",
      "7\t816\n",
      "8\t1891\n",
      "9\t1936\n",
      "10\t469\n",
      "11\t1918\n",
      "12\t2365\n",
      "13\t1538\n",
      "14\t1885\n",
      "15\t1069\n",
      "16\t646\n",
      "17\t2039\n",
      "18\t1445\n",
      "19\t1189\n",
      "20\t1390\n",
      "21\t1173\n",
      "22\t1399\n",
      "23\t571\n",
      "24\t1048\n"
     ]
    }
   ],
   "source": [
    "# specify column in aggregate function and alias the name of the columns\n",
    "# count sightings for each plot\n",
    "\n",
    "sql = '''\n",
    "SELECT plot_id as \"Plot No\", count(record_id) as \"Record Number\" \n",
    "FROM surveys \n",
    "GROUP BY plot_id;\n",
    "'''\n",
    "cursor.execute(sql)\n",
    "print(get_header(cursor))\n",
    "print(get_results(cursor))"
   ]
  },
  {
   "cell_type": "code",
   "execution_count": 13,
   "metadata": {},
   "outputs": [
    {
     "name": "stdout",
     "output_type": "stream",
     "text": [
      "Plot No\tcounts\n",
      "7\t816\n",
      "10\t469\n",
      "16\t646\n",
      "23\t571\n"
     ]
    }
   ],
   "source": [
    "# HAVING allows restrictions on the rows used or selected\n",
    "# a GROUP BY clause is required before HAVING\n",
    "\n",
    "sql = '''\n",
    "SELECT plot_id as \"Plot No\", count(record_id) counts \n",
    "FROM surveys \n",
    "GROUP BY plot_id\n",
    "HAVING counts < 1000;\n",
    "'''\n",
    "cursor.execute(sql)\n",
    "print(get_header(cursor))\n",
    "print(get_results(cursor))"
   ]
  },
  {
   "cell_type": "code",
   "execution_count": 14,
   "metadata": {},
   "outputs": [
    {
     "ename": "OperationalError",
     "evalue": "misuse of aggregate: count()",
     "output_type": "error",
     "traceback": [
      "\u001b[0;31m---------------------------------------------------------------------------\u001b[0m",
      "\u001b[0;31mOperationalError\u001b[0m                          Traceback (most recent call last)",
      "\u001b[0;32m/var/folders/dg/8l7ql9hs6j71k502y3_6r3jh0000gp/T/ipykernel_98025/4280178019.py\u001b[0m in \u001b[0;36m<module>\u001b[0;34m\u001b[0m\n\u001b[1;32m      8\u001b[0m \u001b[0mGROUP\u001b[0m \u001b[0mBY\u001b[0m \u001b[0mplot_id\u001b[0m\u001b[0;34m;\u001b[0m\u001b[0;34m\u001b[0m\u001b[0;34m\u001b[0m\u001b[0m\n\u001b[1;32m      9\u001b[0m '''\n\u001b[0;32m---> 10\u001b[0;31m \u001b[0mcursor\u001b[0m\u001b[0;34m.\u001b[0m\u001b[0mexecute\u001b[0m\u001b[0;34m(\u001b[0m\u001b[0msql\u001b[0m\u001b[0;34m)\u001b[0m\u001b[0;34m\u001b[0m\u001b[0;34m\u001b[0m\u001b[0m\n\u001b[0m\u001b[1;32m     11\u001b[0m \u001b[0mprint\u001b[0m\u001b[0;34m(\u001b[0m\u001b[0mget_header\u001b[0m\u001b[0;34m(\u001b[0m\u001b[0mcursor\u001b[0m\u001b[0;34m)\u001b[0m\u001b[0;34m)\u001b[0m\u001b[0;34m\u001b[0m\u001b[0;34m\u001b[0m\u001b[0m\n\u001b[1;32m     12\u001b[0m \u001b[0mprint\u001b[0m\u001b[0;34m(\u001b[0m\u001b[0mget_results\u001b[0m\u001b[0;34m(\u001b[0m\u001b[0mcursor\u001b[0m\u001b[0;34m)\u001b[0m\u001b[0;34m)\u001b[0m\u001b[0;34m\u001b[0m\u001b[0;34m\u001b[0m\u001b[0m\n",
      "\u001b[0;31mOperationalError\u001b[0m: misuse of aggregate: count()"
     ]
    }
   ],
   "source": [
    "# HAVING allows restrictions on the rows used or selected\n",
    "# a GROUP BY clause is required before HAVING\n",
    "\n",
    "# if you are filtering by the aggregate result \n",
    "# it does not work to put the condition in the where clause\n",
    "\n",
    "\n",
    "sql = '''\n",
    "SELECT plot_id as \"Plot No\", count(record_id) counts \n",
    "FROM surveys \n",
    "WHERE counts < 1000\n",
    "GROUP BY plot_id;\n",
    "'''\n",
    "cursor.execute(sql)\n",
    "print(get_header(cursor))\n",
    "print(get_results(cursor))"
   ]
  },
  {
   "cell_type": "code",
   "execution_count": 20,
   "metadata": {},
   "outputs": [
    {
     "name": "stdout",
     "output_type": "stream",
     "text": [
      "month\tyear\trec_no\n",
      "4\t1981\t342\n",
      "7\t1997\t542\n",
      "10\t1982\t306\n",
      "12\t2002\t361\n"
     ]
    }
   ],
   "source": [
    "# Select month, year combinations with more than 300 records\n",
    "\n",
    "# HAVING allows restrictions on the rows used or selected\n",
    "# a GROUP BY clause is required before HAVING\n",
    "\n",
    "sql = '''\n",
    "SELECT month, year, count(*) rec_no\n",
    "FROM surveys \n",
    "GROUP BY month, year\n",
    "HAVING rec_no > 300;\n",
    "\n",
    "'''\n",
    "cursor.execute(sql)\n",
    "print(get_header(cursor))\n",
    "print(get_results(cursor))\n"
   ]
  },
  {
   "cell_type": "markdown",
   "metadata": {},
   "source": [
    "#### A `PRIMARY KEY` is a very important concept to understand.  \n",
    "* It is the designation for a column or a set of columns from a table.\n",
    "* It is recommended to be a serial value and not something related to the business needs of the data in the table.\n",
    "\n",
    "* A primary key is used to uniquely identify a row of data; combined with a column name, uniquely locates a data entry\n",
    "* A primary key by definition must be `UNIQUE` and `NOT NULL` \n",
    "* The primary key of a table, should be a (sequential) non-repeating and not null value  \n",
    "* Primary keys are generally identified at time of table creation  \n",
    "* A common method for generating a primary key, is to set the datatype to `INTEGER` and declare `AUTOINCREMENT` which will function when data is inserted into the table\n",
    "* Primary keys can be a composite of 2 or more columns that uniquely identify the data in the table\n",
    "\n"
   ]
  },
  {
   "cell_type": "markdown",
   "metadata": {},
   "source": [
    "#### A `FOREIGN KEY` is a column(s) that points to the `PRIMARY KEY` of another table \n",
    "\n",
    "* The purpose of the foreign key is to ensure referential integrity of the data. \n",
    "In other words, only values that are supposed to appear in the database are permitted.<br>\n",
    "Only the values that exist in the `PRIMARY KEY` column are allowed to be present in the FOREIGN KEY column.\n",
    "Example: A `gene` table has the `PRIMARY KEY` `gene_id`. The GO2_gene GO term is associated with a gene\n",
    "\n",
    "They are also the underpinning of how tables are joined and relationships portrayed in the database\n"
   ]
  },
  {
   "cell_type": "markdown",
   "metadata": {},
   "source": [
    "#### JOIN tables\n",
    "\n",
    "* Multiple tables contain different data that we want to retrieve from a single query\n",
    "* In order to assemble data as part of a query, a JOIN between tables is needed\n",
    "* This is a very common practice, since it’s rare for all the data you want to be in a single table\n",
    "\n",
    "\n",
    "* INNER JOIN - return only those rows where there is matching content in BOTH tables (is the default when JOIN is used)\n",
    "* OUTER JOIN - returns all rows from both tables even if one of the tables is blank\n",
    "* SELF JOIN - can be used to join a table to itself (through aliasing), to compare data internal to the table\n",
    "\n",
    "```sql\n",
    "SELECT ... FROM table1 [INNER] JOIN table2 ON conditional_expression\n",
    "```\n"
   ]
  },
  {
   "cell_type": "code",
   "execution_count": 21,
   "metadata": {},
   "outputs": [
    {
     "name": "stdout",
     "output_type": "stream",
     "text": [
      "record_id\tmonth\tday\tyear\tplot_id\tspecies_id\tsex\thindfoot_length\tweight\tspecies_id\tgenus\tspecies\ttaxa\n",
      "31762\t1\t22\t2001\t6\tOT\tF\t20.0\t26.0\tOT\tOnychomys\ttorridus\tRodent\n",
      "32002\t4\t22\t2001\t6\tSH\tF\t29.0\t132.0\tSH\tSigmodon\thispidus\tRodent\n",
      "32099\t5\t27\t2001\t6\tSH\tF\t30.0\t86.0\tSH\tSigmodon\thispidus\tRodent\n",
      "32101\t5\t27\t2001\t6\tSH\tF\t29.0\t123.0\tSH\tSigmodon\thispidus\tRodent\n",
      "32104\t5\t27\t2001\t6\tOT\tF\t20.0\t34.0\tOT\tOnychomys\ttorridus\tRodent\n",
      "32106\t5\t27\t2001\t6\tOT\tF\t20.0\t14.0\tOT\tOnychomys\ttorridus\tRodent\n",
      "32940\t10\t14\t2001\t6\tOT\tF\t20.0\t27.0\tOT\tOnychomys\ttorridus\tRodent\n",
      "33154\t11\t18\t2001\t6\tOT\tF\t20.0\t27.0\tOT\tOnychomys\ttorridus\tRodent\n"
     ]
    }
   ],
   "source": [
    "sql = '''\n",
    "SELECT *\n",
    "FROM surveys AS sv\n",
    "INNER JOIN species AS sp\n",
    "      ON sv.species_id = sp.species_id\n",
    "WHERE plot_id = \"6\" AND \n",
    "      year = 2001 AND \n",
    "      sex = \"F\" AND \n",
    "      genus LIKE \"%on%\";\n",
    "'''\n",
    "cursor.execute(sql)\n",
    "print(get_header(cursor))\n",
    "print(get_results(cursor))"
   ]
  },
  {
   "cell_type": "code",
   "execution_count": 22,
   "metadata": {},
   "outputs": [
    {
     "name": "stdout",
     "output_type": "stream",
     "text": [
      "record_id\tyear\tmonth\tspecies_id\ttaxa\n",
      "31762\t2001\t1\tOT\tRodent\n",
      "32002\t2001\t4\tSH\tRodent\n",
      "32099\t2001\t5\tSH\tRodent\n",
      "32101\t2001\t5\tSH\tRodent\n",
      "32104\t2001\t5\tOT\tRodent\n",
      "32106\t2001\t5\tOT\tRodent\n",
      "32940\t2001\t10\tOT\tRodent\n",
      "33154\t2001\t11\tOT\tRodent\n"
     ]
    }
   ],
   "source": [
    "sql = '''\n",
    "SELECT record_id, year, month, sp.species_id, taxa\n",
    "FROM surveys AS sv\n",
    "INNER JOIN species AS sp\n",
    "      ON sv.species_id = sp.species_id\n",
    "WHERE plot_id = \"6\" AND \n",
    "      year = 2001 AND \n",
    "      sex = \"F\" AND \n",
    "      genus LIKE \"%on%\";\n",
    "'''\n",
    "cursor.execute(sql)\n",
    "print(get_header(cursor))\n",
    "print(get_results(cursor))"
   ]
  },
  {
   "cell_type": "markdown",
   "metadata": {},
   "source": [
    "#### See the create table statement"
   ]
  },
  {
   "cell_type": "code",
   "execution_count": 23,
   "metadata": {},
   "outputs": [
    {
     "name": "stdout",
     "output_type": "stream",
     "text": [
      "sql\n",
      "CREATE TABLE species (\n",
      "\tspecies_id TEXT, \n",
      "\tgenus TEXT, \n",
      "\tspecies TEXT, \n",
      "\ttaxa TEXT\n",
      ")\n"
     ]
    }
   ],
   "source": [
    "# sql column in the sqlite_master table\n",
    "\n",
    "sql = '''\n",
    "SELECT sql\n",
    "FROM sqlite_master \n",
    "WHERE type = \"table\" and name = \"species\"\n",
    "LIMIT 2;\n",
    "'''\n",
    "cursor.execute(sql)\n",
    "print(get_header(cursor))\n",
    "print(get_results(cursor))"
   ]
  },
  {
   "cell_type": "code",
   "execution_count": null,
   "metadata": {},
   "outputs": [],
   "source": []
  },
  {
   "cell_type": "markdown",
   "metadata": {},
   "source": [
    "### CREATE TABLE  - statement\n",
    "https://www.sqlitetutorial.net/sqlite-create-table/\n",
    "\n",
    "```sql\n",
    "CREATE TABLE [IF NOT EXISTS] [schema_name].table_name (\n",
    "    column_1 data_type PRIMARY KEY,\n",
    "    column_2 data_type NOT NULL,\n",
    "    column_3 data_type DEFAULT 0,\n",
    "    table_constraints\n",
    ") [WITHOUT ROWID];\n",
    "```\n",
    "\n",
    "In this syntax:\n",
    "\n",
    "* First, specify the name of the table that you want to create after the CREATE TABLE keywords. The name of the table cannot start with sqlite_ because it is reserved for the internal use of SQLite.\n",
    "* Second, use `IF NOT EXISTS` option to create a new table if it does not exist. Attempting to create a table that already exists without using the IF NOT EXISTS option will result in an error.\n",
    "* Third, optionally specify the schema_name to which the new table belongs. The schema can be the main database, temp database or any attached database.\n",
    "* Fourth, specify the column list of the table. Each column has a name, data type, and the column constraint. SQLite supports `PRIMARY KEY, UNIQUE, NOT NULL`, and `CHECK` column constraints.\n",
    "* Fifth, specify the table constraints such as PRIMARY KEY, FOREIGN KEY, UNIQUE, and CHECK constraints.\n",
    "* Finally, optionally use the `WITHOUT ROWID` option. By default, a row in a table has an implicit column, which is referred to as the rowid, oid or _rowid_ column. The rowid column stores a 64-bit signed integer key that uniquely identifies the row inside the table. If you don’t want SQLite creates the rowid column, you specify the WITHOUT ROWID option. A table that contains the rowid column is known as a rowid table. Note that the WITHOUT ROWID option is only available in SQLite 3.8.2 or later."
   ]
  },
  {
   "cell_type": "markdown",
   "metadata": {},
   "source": [
    "https://www.sqlite.org/syntaxdiagrams.html#create-table-stmt\n",
    "\n",
    "<img src = \"https://www.sqlite.org/images/syntax/create-table-stmt.gif\" width=\"800\"/>"
   ]
  },
  {
   "cell_type": "markdown",
   "metadata": {},
   "source": [
    "Each value stored in an SQLite database (or manipulated by the database engine) has one of the following storage classes:\n",
    "https://www.sqlite.org/datatype3.html\n",
    "* `NULL`. The value is a NULL value.\n",
    "* `INTEGER`. The value is a signed integer, stored in 1, 2, 3, 4, 6, or 8 bytes depending on the magnitude of the value.\n",
    "* `REAL`. The value is a floating point value, stored as an 8-byte IEEE floating point number.\n",
    "* `TEXT`. The value is a text string, stored using the database encoding (UTF-8, UTF-16BE or UTF-16LE).\n",
    "* `BLOB`. The value is a blob of data, stored exactly as it was input."
   ]
  },
  {
   "cell_type": "markdown",
   "metadata": {},
   "source": [
    "#### A `PRIMARY KEY` is a very important concept to understand.  \n",
    "* It is the designation for a column or a set of columns from a table.\n",
    "* It is recommended to be a serial value and not something related to the business needs of the data in the table.\n",
    "\n",
    "* A primary key is used to uniquely identify a row of data; combined with a column name, uniquely locates a data entry\n",
    "* A primary key by definition must be `UNIQUE` and `NOT NULL` \n",
    "* The primary key of a table, should be a (sequential) non-repeating and not null value  \n",
    "* Primary keys are generally identified at time of table creation  \n",
    "* A common method for generating a primary key, is to set the datatype to `INTEGER` and declare `AUTOINCREMENT` which will function when data is inserted into the table\n",
    "* Primary keys can be a composite of 2 or more columns that uniquely identify the data in the table\n",
    "\n"
   ]
  },
  {
   "cell_type": "markdown",
   "metadata": {},
   "source": [
    "#### A `FOREIGN KEY` is a column(s) that points to the `PRIMARY KEY` of another table \n",
    "\n",
    "* The purpose of the foreign key is to ensure referential integrity of the data. \n",
    "In other words, only values that are supposed to appear in the database are permitted.<br>\n",
    "Only the values that exist in the `PRIMARY KEY` column are allowed to be present in the FOREIGN KEY column.\n",
    "Example: A `gene` table has the `PRIMARY KEY` `gene_id`. The GO2_gene GO term is associated with a gene\n",
    "\n",
    "They are also the underpinning of how tables are joined and relationships portrayed in the database\n"
   ]
  },
  {
   "cell_type": "markdown",
   "metadata": {},
   "source": [
    "The `sqlite_master` has the following create statement: \n",
    "```sql\n",
    "CREATE TABLE sqlite_master ( type TEXT, name TEXT, tbl_name TEXT, rootpage INTEGER, sql TEXT );\n",
    "```"
   ]
  },
  {
   "cell_type": "markdown",
   "metadata": {
    "tags": []
   },
   "source": [
    "##### The `connection` object methods can be used to save or revert/reset the changes after a command that makes changes to the database\n",
    "##### `COMMIT` - save the changes \n",
    "##### `ROLLBACK` - revert the changes \n"
   ]
  },
  {
   "cell_type": "code",
   "execution_count": 24,
   "metadata": {},
   "outputs": [
    {
     "ename": "IndexError",
     "evalue": "list index out of range",
     "output_type": "error",
     "traceback": [
      "\u001b[0;31m---------------------------------------------------------------------------\u001b[0m",
      "\u001b[0;31mIndexError\u001b[0m                                Traceback (most recent call last)",
      "\u001b[0;32m/var/folders/dg/8l7ql9hs6j71k502y3_6r3jh0000gp/T/ipykernel_98025/1900067398.py\u001b[0m in \u001b[0;36m<module>\u001b[0;34m\u001b[0m\n\u001b[1;32m     12\u001b[0m \u001b[0;31m# and then the first element in the tuple\u001b[0m\u001b[0;34m\u001b[0m\u001b[0;34m\u001b[0m\u001b[0;34m\u001b[0m\u001b[0m\n\u001b[1;32m     13\u001b[0m \u001b[0;34m\u001b[0m\u001b[0m\n\u001b[0;32m---> 14\u001b[0;31m \u001b[0mprint\u001b[0m\u001b[0;34m(\u001b[0m\u001b[0mcursor\u001b[0m\u001b[0;34m.\u001b[0m\u001b[0mfetchall\u001b[0m\u001b[0;34m(\u001b[0m\u001b[0;34m)\u001b[0m\u001b[0;34m[\u001b[0m\u001b[0;36m0\u001b[0m\u001b[0;34m]\u001b[0m\u001b[0;34m[\u001b[0m\u001b[0;36m0\u001b[0m\u001b[0;34m]\u001b[0m\u001b[0;34m)\u001b[0m\u001b[0;34m\u001b[0m\u001b[0;34m\u001b[0m\u001b[0m\n\u001b[0m",
      "\u001b[0;31mIndexError\u001b[0m: list index out of range"
     ]
    }
   ],
   "source": [
    "# select the sql statement for the survey table\n",
    "\n",
    "sql = '''\n",
    "SELECT sql\n",
    "FROM sqlite_master \n",
    "WHERE name = \"sqlite_master\";\n",
    "'''\n",
    "cursor.execute(sql)\n",
    "\n",
    "# fetchall returns a list of tuples, \n",
    "# we want the first element in the list \n",
    "# and then the first element in the tuple\n",
    "\n",
    "print(cursor.fetchall()[0][0])"
   ]
  },
  {
   "cell_type": "code",
   "execution_count": 25,
   "metadata": {},
   "outputs": [
    {
     "name": "stdout",
     "output_type": "stream",
     "text": [
      "CREATE TABLE surveys (\n",
      "\trecord_id BIGINT, \n",
      "\tmonth BIGINT, \n",
      "\tday BIGINT, \n",
      "\tyear BIGINT, \n",
      "\tplot_id BIGINT, \n",
      "\tspecies_id TEXT, \n",
      "\tsex TEXT, \n",
      "\thindfoot_length FLOAT, \n",
      "\tweight FLOAT\n",
      ")\n"
     ]
    }
   ],
   "source": [
    "# select the sql statement for the survey table\n",
    "\n",
    "sql = '''\n",
    "SELECT sql\n",
    "FROM sqlite_master \n",
    "WHERE name = \"surveys\";\n",
    "'''\n",
    "cursor.execute(sql)\n",
    "\n",
    "# fetchall returns a list of tuples, \n",
    "# we want the first element in the list \n",
    "# and then the first element in the tuple\n",
    "\n",
    "print(cursor.fetchall()[0][0])"
   ]
  },
  {
   "cell_type": "markdown",
   "metadata": {},
   "source": [
    "#### We create the table `survey_summary` with the columns: `id`, `species_id`, `year`, and `count`"
   ]
  },
  {
   "cell_type": "code",
   "execution_count": 30,
   "metadata": {},
   "outputs": [
    {
     "name": "stdout",
     "output_type": "stream",
     "text": [
      "done!\n"
     ]
    }
   ],
   "source": [
    "# To remove a table use the drop command\n",
    "\n",
    "sql='''\n",
    "DROP TABLE IF EXISTS survey_summary;\n",
    "'''\n",
    "try:\n",
    "    cursor.execute(sql)\n",
    "except connection.DatabaseError:\n",
    "    print(\"Dropping the survey_summary table resulted in a database error!\")\n",
    "    connection.rollback()\n",
    "    raise\n",
    "else:\n",
    "    connection.commit()\n",
    "finally:\n",
    "    print(\"done!\")\n"
   ]
  },
  {
   "cell_type": "code",
   "execution_count": 31,
   "metadata": {},
   "outputs": [
    {
     "name": "stdout",
     "output_type": "stream",
     "text": [
      "done!\n"
     ]
    }
   ],
   "source": [
    "# Write and run a create table statement for the survey_summary table\n",
    "\n",
    "sql='''\n",
    "CREATE TABLE IF NOT EXISTS survey_summary (\n",
    "      id INTEGER PRIMARY KEY AUTOINCREMENT,\n",
    "      species_id TEXT NOT NULL,                     -- REFERENCES  species_id in species table\n",
    "      year BIGINT NOT NULL,                      -- year\n",
    "      count BIGINT NOT NULL,                   -- count information for  each species and year\n",
    "      FOREIGN KEY (species_id) REFERENCES  species  (species_id)\n",
    "    );\n",
    "'''\n",
    "try:\n",
    "    cursor.execute(sql)\n",
    "except connection.DatabaseError:\n",
    "    print(\"Creating the survey_summary table resulted in a database error!\")\n",
    "    connection.rollback()\n",
    "    raise\n",
    "else:\n",
    "    connection.commit()\n",
    "finally:\n",
    "    print(\"done!\")\n",
    "    \n",
    "    "
   ]
  },
  {
   "cell_type": "code",
   "execution_count": null,
   "metadata": {},
   "outputs": [],
   "source": []
  },
  {
   "cell_type": "markdown",
   "metadata": {},
   "source": [
    "##### Similar error handling, as seen above, can be when executing any statement that changes the database."
   ]
  },
  {
   "cell_type": "markdown",
   "metadata": {},
   "source": [
    "##### Check if the new table appears in the `sqlite_master` table "
   ]
  },
  {
   "cell_type": "code",
   "execution_count": 32,
   "metadata": {},
   "outputs": [
    {
     "name": "stdout",
     "output_type": "stream",
     "text": [
      "[('surveys',), ('survey_summary',)]\n"
     ]
    }
   ],
   "source": [
    "sql = '''\n",
    "SELECT name\n",
    "FROM sqlite_master \n",
    "WHERE name LIKE \"su%\"\n",
    "LIMIT 4;\n",
    "'''\n",
    "cursor.execute(sql)\n",
    "print(cursor.fetchall())"
   ]
  },
  {
   "cell_type": "markdown",
   "metadata": {},
   "source": [
    "  \n",
    "<br><br> \n",
    "The `sqlite_sequence` table is created and initialized automatically whenever a regular table is created if it has a column with the `AUTOINCREMENT` option set.<br>\n",
    "https://www.sqlite.org/autoinc.html\n"
   ]
  },
  {
   "cell_type": "markdown",
   "metadata": {},
   "source": [
    "##### Check if the new table appears in the `sqlite_master` table "
   ]
  },
  {
   "cell_type": "code",
   "execution_count": 33,
   "metadata": {},
   "outputs": [
    {
     "name": "stdout",
     "output_type": "stream",
     "text": [
      "[('surveys',), ('species',), ('plots',), ('sqlite_sequence',), ('species_survey',), ('survey_summary',)]\n"
     ]
    }
   ],
   "source": [
    "sql = '''\n",
    "SELECT name\n",
    "FROM sqlite_master;\n",
    "'''\n",
    "cursor.execute(sql)\n",
    "print(cursor.fetchall())"
   ]
  },
  {
   "cell_type": "code",
   "execution_count": 34,
   "metadata": {},
   "outputs": [
    {
     "name": "stdout",
     "output_type": "stream",
     "text": [
      "[]\n"
     ]
    }
   ],
   "source": [
    "# the sqlite_sequence records keep track of the autoincrement column form different tables\n",
    "# by storing the value where the autoincrement is currently\n",
    "# if there was no data added in the table, no record exists in the sqlite_sequence table\n",
    "\n",
    "sql = '''\n",
    "SELECT *\n",
    "FROM sqlite_sequence;\n",
    "'''\n",
    "cursor.execute(sql)\n",
    "print(cursor.fetchall())"
   ]
  },
  {
   "cell_type": "code",
   "execution_count": null,
   "metadata": {},
   "outputs": [],
   "source": []
  },
  {
   "cell_type": "markdown",
   "metadata": {},
   "source": [
    "### INDEXING\n",
    "\n",
    "Indexes are lookup table, like the index of a book.\n",
    "They are usually created for columns that have unique/ or less redundant values and provide a way to quicky search \n",
    "the values.<br>\n",
    "Indexing creates a copy of the indexed columns together with a link to the location of the additional information.<br> \n",
    "The index data is stored in a data structure that allows for fast sorting. <br>\n",
    "E.g.: balanced-tree - every leaf is at most n nodes away from the root) that allows for fast sorting. <br>\n",
    "All queries (statements) regarding an indexed table are applied to the index\n",
    "\n",
    "\n",
    "* One important function in Relational Databases is to be able to create indexes on columns in tables  \n",
    "* These indexes are pre-calculated and stored in the database \n",
    "* Indexes should be created on columns that are used in queries and joins   \n",
    "* They will rapidly speed up query return rate and improve query performance\n",
    "\n",
    "To create an index use the following command:\n",
    "\n",
    "```sql\n",
    "CREATE INDEX indexName ON tableName (columnName)\n",
    "```"
   ]
  },
  {
   "cell_type": "code",
   "execution_count": 35,
   "metadata": {},
   "outputs": [],
   "source": [
    "sql = '''\n",
    "CREATE INDEX survey_summary_idx \n",
    "ON survey_summary (species_id)\n",
    "'''\n",
    "cursor.execute(sql)\n",
    "connection.commit()\n"
   ]
  },
  {
   "cell_type": "markdown",
   "metadata": {},
   "source": [
    "##### Check if the new index appears in the `sqlite_master` table "
   ]
  },
  {
   "cell_type": "code",
   "execution_count": 36,
   "metadata": {},
   "outputs": [
    {
     "name": "stdout",
     "output_type": "stream",
     "text": [
      "name\tsql\n",
      "survey_summary_idx\tCREATE INDEX survey_summary_idx \n",
      "ON survey_summary (species_id)\n",
      "\n"
     ]
    }
   ],
   "source": [
    "sql = '''\n",
    "SELECT name, sql\n",
    "FROM sqlite_master \n",
    "WHERE type= \"index\";\n",
    "'''\n",
    "cursor.execute(sql)\n",
    "print(get_header(cursor))\n",
    "print(get_results(cursor))"
   ]
  },
  {
   "cell_type": "markdown",
   "metadata": {},
   "source": [
    "#### Remove the index"
   ]
  },
  {
   "cell_type": "code",
   "execution_count": 37,
   "metadata": {},
   "outputs": [],
   "source": [
    "sql = '''\n",
    "DROP INDEX survey_summary_idx \n",
    "'''\n",
    "cursor.execute(sql)\n",
    "connection.commit()\n"
   ]
  },
  {
   "cell_type": "markdown",
   "metadata": {},
   "source": [
    "##### Check if the index was removed from the `sqlite_master` table "
   ]
  },
  {
   "cell_type": "code",
   "execution_count": 38,
   "metadata": {},
   "outputs": [
    {
     "name": "stdout",
     "output_type": "stream",
     "text": [
      "name\tsql\n",
      "\n"
     ]
    }
   ],
   "source": [
    "sql = '''\n",
    "SELECT name, sql\n",
    "FROM sqlite_master \n",
    "WHERE type= \"index\";\n",
    "'''\n",
    "cursor.execute(sql)\n",
    "print(get_header(cursor))\n",
    "print(get_results(cursor))"
   ]
  },
  {
   "cell_type": "code",
   "execution_count": 40,
   "metadata": {},
   "outputs": [],
   "source": [
    "cursor.close()\n",
    "connection.close()"
   ]
  },
  {
   "cell_type": "code",
   "execution_count": null,
   "metadata": {},
   "outputs": [],
   "source": []
  },
  {
   "cell_type": "code",
   "execution_count": null,
   "metadata": {},
   "outputs": [],
   "source": []
  },
  {
   "cell_type": "markdown",
   "metadata": {},
   "source": [
    "### INSERT - statement\n",
    "\n",
    "Makes changes to the database table<br>\n",
    "Adds new data to a table (if the constraints are met)\n",
    "Constraint examples: \n",
    "* For one designated column or a group of columns that are designated as Primary Key the values are unique\n",
    "* The value inserted in a column that has a Foreign Key constraint should exist in the column that it refers to\n",
    "\n",
    "```sql\n",
    "INSERT INTO <tablename> (<column1>, <column2>, <column3>) VALUES (value1, value2, value3);\n",
    "```\n",
    "\n",
    "##### One simple INSERT command adds 1 row of data at a time into an existing table  \n",
    "\n",
    "##### Connection object allows us to:\n",
    "* ##### COMMIT - save the changes \n",
    "* ##### ROLLBACK - reverts/discards the changes"
   ]
  },
  {
   "cell_type": "markdown",
   "metadata": {},
   "source": [
    "<br>\n",
    "\n",
    "##### Let's see what is in the table (it should be nothing):"
   ]
  },
  {
   "cell_type": "code",
   "execution_count": null,
   "metadata": {},
   "outputs": [],
   "source": [
    "sql = '''\n",
    "SELECT *\n",
    "FROM survey_summary;\n",
    "'''\n",
    "cursor.execute(sql)\n",
    "print(get_header(cursor))\n",
    "print(get_results(cursor))"
   ]
  },
  {
   "cell_type": "markdown",
   "metadata": {},
   "source": [
    "<br>\n",
    "\n",
    "##### Let's try an insert:\n",
    "```sql\n",
    "INSERT INTO <tablename> (<column1>, <column2>, <column3>) VALUES (value1, value2, value3);\n",
    "```"
   ]
  },
  {
   "cell_type": "code",
   "execution_count": null,
   "metadata": {},
   "outputs": [],
   "source": [
    "values_list = [\"DM\",1960, 0]\n",
    "\n",
    "sql = '''\n",
    "INSERT INTO survey_summary (species_id, year, count) \n",
    "VALUES (?,?,?);\n",
    "'''\n",
    "cursor.execute(sql,values_list)\n",
    "connection.commit()"
   ]
  },
  {
   "cell_type": "code",
   "execution_count": null,
   "metadata": {},
   "outputs": [],
   "source": [
    "# This command retrieves the identifier of the last row from the most current query\n",
    "# The gene_go_id\n",
    "\n",
    "id_value = cursor.lastrowid\n",
    "id_value"
   ]
  },
  {
   "cell_type": "code",
   "execution_count": null,
   "metadata": {},
   "outputs": [],
   "source": [
    "# the record in sqlite_sequence keep track of the autoincrement\n",
    "sql = '''\n",
    "SELECT *\n",
    "FROM sqlite_sequence;\n",
    "'''\n",
    "cursor.execute(sql)\n",
    "print(cursor.fetchall())"
   ]
  },
  {
   "cell_type": "markdown",
   "metadata": {},
   "source": [
    "<br>\n",
    "\n",
    "\n",
    "##### We have a row in the table!!! And the gene_go_id was automatically generated."
   ]
  },
  {
   "cell_type": "code",
   "execution_count": null,
   "metadata": {},
   "outputs": [],
   "source": [
    "sql = '''\n",
    "SELECT *\n",
    "FROM survey_summary ;\n",
    "'''\n",
    "cursor.execute(sql)\n",
    "print(get_header(cursor))\n",
    "print(get_results(cursor))"
   ]
  },
  {
   "cell_type": "markdown",
   "metadata": {},
   "source": [
    "#### You can have a Python \"table\" structure (list of lists) of insert values and get them all inserted in one command, each sublist having the correct number of values.\n"
   ]
  },
  {
   "cell_type": "code",
   "execution_count": null,
   "metadata": {},
   "outputs": [],
   "source": [
    "values_tbl = [[\"TEST\",1950,2], [\"TEST\",1955,1], [\"TEST\",1974,2]]\n",
    "\n",
    "sql = '''\n",
    "INSERT INTO survey_summary (species_id, year, count) \n",
    "VALUES (?,?,?);\n",
    "'''\n",
    "cursor.executemany(sql,values_tbl)\n",
    "connection.commit()\n"
   ]
  },
  {
   "cell_type": "code",
   "execution_count": null,
   "metadata": {},
   "outputs": [],
   "source": [
    "sql = '''\n",
    "SELECT *\n",
    "FROM survey_summary ;\n",
    "'''\n",
    "cursor.execute(sql)\n",
    "print(get_header(cursor))\n",
    "print(get_results(cursor))"
   ]
  },
  {
   "cell_type": "markdown",
   "metadata": {},
   "source": [
    "#### UPDATE - statement - changes the table rows\n",
    "\n"
   ]
  },
  {
   "cell_type": "markdown",
   "metadata": {},
   "source": [
    "MODIFIES DATA (already in a table)  in all rows matching the WHERE clause \n",
    "\n",
    "```sql\n",
    "UPDATE table_name \n",
    "SET column1 = value1, column2 = value2...., columnN = valueN\n",
    "WHERE [condition];\n",
    "```\n",
    "\n",
    "Update is generally a single row command, but use of the where clause can cause data to be updated in multiple rows <br>\n",
    "(whether you intended to or not !!!!)\n",
    "\n",
    "The following statement updates the evidence for all entries for all genes associated with the 2 biological processses "
   ]
  },
  {
   "cell_type": "code",
   "execution_count": null,
   "metadata": {},
   "outputs": [],
   "source": [
    "# the following statement updates multiple rows\n",
    "# before an update a select on the same table and \n",
    "# with the same where clause should be ran \n",
    "# to see the records that will be updated\n",
    "\n",
    "sql = '''\n",
    "UPDATE survey_summary\n",
    "SET count = 20 \n",
    "WHERE species_id = \"TEST\";\n",
    "'''\n",
    "cursor.execute(sql)\n",
    "connection.commit()"
   ]
  },
  {
   "cell_type": "code",
   "execution_count": null,
   "metadata": {},
   "outputs": [],
   "source": [
    "sql = '''\n",
    "SELECT *\n",
    "FROM survey_summary ;\n",
    "'''\n",
    "cursor.execute(sql)\n",
    "print(get_header(cursor))\n",
    "print(get_results(cursor))"
   ]
  },
  {
   "cell_type": "code",
   "execution_count": null,
   "metadata": {},
   "outputs": [],
   "source": []
  },
  {
   "cell_type": "markdown",
   "metadata": {},
   "source": [
    "#### DELETE - statement - deletes table rows\n",
    "\n",
    "* MAKES CHANGES TO THE DATA\n",
    "* Row level deletion – can’t delete less than this. \n",
    "\n",
    "```sql\n",
    "DELETE FROM <tablename> WHERE <column> = <value>\n",
    "```\n",
    "\n",
    "* The WHERE predicate is the same as for the SELECT statement, that is, it determines which rows will be deleted  \n",
    "\n"
   ]
  },
  {
   "cell_type": "code",
   "execution_count": null,
   "metadata": {},
   "outputs": [],
   "source": [
    "# before a delete statement a select on the same table and \n",
    "# with the same where clause should be ran to see the records \n",
    "# that will be removed\n",
    "\n",
    "sql = '''\n",
    "DELETE FROM survey_summary \n",
    "WHERE year < 1960;\n",
    "'''\n",
    "cursor.execute(sql)\n",
    "connection.commit()\n"
   ]
  },
  {
   "cell_type": "code",
   "execution_count": null,
   "metadata": {},
   "outputs": [],
   "source": [
    "sql = '''\n",
    "SELECT *\n",
    "FROM survey_summary ;\n",
    "'''\n",
    "cursor.execute(sql)\n",
    "print(get_header(cursor))\n",
    "print(get_results(cursor))"
   ]
  },
  {
   "cell_type": "markdown",
   "metadata": {},
   "source": [
    "```sql\n",
    "DELETE FROM <tablename>; \n",
    "```\n",
    "\n",
    "* This would delete all rows of data from a table.\n",
    "* Preserves table structure (table still exists)\n",
    "* Optimized for speed in SQLite, no row-by-row execution.\n",
    "* EXISTS <table_name> still evaluates to True\n"
   ]
  },
  {
   "cell_type": "code",
   "execution_count": 27,
   "metadata": {},
   "outputs": [
    {
     "ename": "OperationalError",
     "evalue": "no such table: survey_summary",
     "output_type": "error",
     "traceback": [
      "\u001b[0;31m---------------------------------------------------------------------------\u001b[0m",
      "\u001b[0;31mOperationalError\u001b[0m                          Traceback (most recent call last)",
      "\u001b[0;32m/var/folders/dg/8l7ql9hs6j71k502y3_6r3jh0000gp/T/ipykernel_98025/1176175294.py\u001b[0m in \u001b[0;36m<module>\u001b[0;34m\u001b[0m\n\u001b[1;32m      4\u001b[0m \u001b[0mDELETE\u001b[0m \u001b[0mFROM\u001b[0m \u001b[0msurvey_summary\u001b[0m\u001b[0;34m;\u001b[0m\u001b[0;34m\u001b[0m\u001b[0;34m\u001b[0m\u001b[0m\n\u001b[1;32m      5\u001b[0m '''\n\u001b[0;32m----> 6\u001b[0;31m \u001b[0mcursor\u001b[0m\u001b[0;34m.\u001b[0m\u001b[0mexecute\u001b[0m\u001b[0;34m(\u001b[0m\u001b[0msql\u001b[0m\u001b[0;34m)\u001b[0m\u001b[0;34m\u001b[0m\u001b[0;34m\u001b[0m\u001b[0m\n\u001b[0m\u001b[1;32m      7\u001b[0m \u001b[0mconnection\u001b[0m\u001b[0;34m.\u001b[0m\u001b[0mcommit\u001b[0m\u001b[0;34m(\u001b[0m\u001b[0;34m)\u001b[0m\u001b[0;34m\u001b[0m\u001b[0;34m\u001b[0m\u001b[0m\n",
      "\u001b[0;31mOperationalError\u001b[0m: no such table: survey_summary"
     ]
    }
   ],
   "source": [
    "# Delete all data from the table - but keep the table \n",
    "\n",
    "sql = '''\n",
    "DELETE FROM survey_summary;\n",
    "'''\n",
    "cursor.execute(sql)\n",
    "connection.commit()\n"
   ]
  },
  {
   "cell_type": "code",
   "execution_count": null,
   "metadata": {},
   "outputs": [],
   "source": [
    "sql = '''\n",
    "SELECT *\n",
    "FROM survey_summary ;\n",
    "'''\n",
    "cursor.execute(sql)\n",
    "print(get_header(cursor))\n",
    "print(get_results(cursor))"
   ]
  },
  {
   "cell_type": "markdown",
   "metadata": {},
   "source": [
    "<br>\n",
    "\n",
    "#### `DROP TABLE` - statement - removes a table (permanently)"
   ]
  },
  {
   "cell_type": "code",
   "execution_count": null,
   "metadata": {},
   "outputs": [],
   "source": [
    "sql = '''\n",
    "DROP TABLE IF EXISTS survey_summary;\n",
    "'''\n",
    "cursor.execute(sql)\n",
    "connection.commit()"
   ]
  },
  {
   "cell_type": "code",
   "execution_count": null,
   "metadata": {},
   "outputs": [],
   "source": [
    "sql = '''\n",
    "SELECT name AS \"TABLE NAME\"\n",
    "FROM sqlite_master;\n",
    "'''\n",
    "cursor.execute(sql)\n",
    "print(get_header(cursor))\n",
    "print(get_results(cursor))"
   ]
  },
  {
   "cell_type": "code",
   "execution_count": null,
   "metadata": {},
   "outputs": [],
   "source": [
    "# we can create the summary with a select\n",
    "\n",
    "sql = '''\n",
    "\n",
    "SELECT species_id, year, count(record_id)\n",
    "FROM surveys \n",
    "WHERE species_id <> \"None\"\n",
    "GROUP BY species_id, year;'''\n",
    "cursor.execute(sql)\n",
    "#cursor.fetchall()"
   ]
  },
  {
   "cell_type": "markdown",
   "metadata": {},
   "source": [
    "#### VIEW in a database\n",
    "\n",
    "* A view is a virtual table which can be created from a query on existing tables\n",
    "* Views are created to give a more human readable version of the normalized data / tables\n",
    "* http://www.sqlitetutorial.net/sqlite-create-view/\n",
    "* An SQLite view is read only"
   ]
  },
  {
   "cell_type": "markdown",
   "metadata": {},
   "source": [
    "```sql\n",
    "CREATE [TEMP] VIEW [IF NOT EXISTS] view_name(column-name-list) AS    \n",
    "select-statement;\n",
    "```"
   ]
  },
  {
   "cell_type": "code",
   "execution_count": null,
   "metadata": {},
   "outputs": [],
   "source": [
    "# survey summary for years > 80 information for easy access\n",
    "sql = '''\n",
    "CREATE VIEW IF NOT EXISTS species_survey(species_id, species, year, counts) AS\n",
    "SELECT sv.species_id, species, year, count(record_id)\n",
    "FROM surveys AS sv\n",
    "INNER JOIN species AS sp\n",
    "ON sv.species_id = sp.species_id\n",
    "WHERE sv.species_id <> \"None\"\n",
    "GROUP BY sv.species_id,species, year\n",
    "\n",
    "\n",
    "'''\n",
    "cursor.execute(sql)\n",
    "connection.commit()"
   ]
  },
  {
   "cell_type": "code",
   "execution_count": null,
   "metadata": {},
   "outputs": [],
   "source": [
    "# gene go information \n",
    "sql = '''\n",
    "SELECT *\n",
    "FROM species_survey\n",
    "LIMIT 10;\n",
    "'''\n",
    "cursor.execute(sql)\n",
    "print(get_header(cursor))\n",
    "print(get_results(cursor))"
   ]
  },
  {
   "cell_type": "markdown",
   "metadata": {},
   "source": [
    "```sql\n",
    "DROP VIEW [IF EXISTS] view_name;\n",
    "```"
   ]
  },
  {
   "cell_type": "code",
   "execution_count": null,
   "metadata": {},
   "outputs": [],
   "source": [
    "# remove view from the database\n",
    "\n",
    "sql = '''\n",
    "DROP VIEW IF EXISTS species_survey;\n",
    "'''\n",
    "cursor.execute(sql)\n",
    "connection.commit()"
   ]
  },
  {
   "cell_type": "code",
   "execution_count": null,
   "metadata": {},
   "outputs": [],
   "source": [
    "# And close()\n",
    "\n",
    "cursor.close()\n",
    "connection.close()"
   ]
  },
  {
   "cell_type": "markdown",
   "metadata": {},
   "source": [
    "#### To remove the database, delete the .sqlite file."
   ]
  },
  {
   "cell_type": "code",
   "execution_count": null,
   "metadata": {},
   "outputs": [],
   "source": []
  }
 ],
 "metadata": {
  "kernelspec": {
   "display_name": "Python 3 (ipykernel)",
   "language": "python",
   "name": "python3"
  },
  "language_info": {
   "codemirror_mode": {
    "name": "ipython",
    "version": 3
   },
   "file_extension": ".py",
   "mimetype": "text/x-python",
   "name": "python",
   "nbconvert_exporter": "python",
   "pygments_lexer": "ipython3",
   "version": "3.8.10"
  }
 },
 "nbformat": 4,
 "nbformat_minor": 4
}
