{
 "cells": [
  {
   "cell_type": "markdown",
   "metadata": {},
   "source": [
    "### Bioinformatics and text files \n",
    "\n",
    "The following text is from:  \n",
    "https://medium.com/ngs-sh/a-simple-introduction-to-xml-and-json-4547b93c9aae\n",
    "\n",
    "Most bioinformatics file formats are simple text files, a famous example being the FASTA format to store sequences. Historically, most file formats were proposed to ad hoc address a specific need, resulting in a fragmented universe of formats.\n",
    "\n",
    "Examples of famous bioinformatics formats are the FASTA and FASTQ for sequences, the SAM format to store details of sequence mappings, the VCF format to describe the variants of an individual compared to a reference genome, the GFF and BED formats to describe features in a genome (e. g. genes, enhancers, binding sites…).\n",
    "\n",
    "#### XML and JSON\n",
    "Among the “general purpose” formats commonly used in computer science, two are XML (for eXtensible Markup Language) and JSON (JavaScript Object Notation). The former has been very popular at the beginning of the new century, while the latter gained popularity later in this decade. They are both meant to encode structured information, and possibly to be able to describe any form of document needed (not necessarily in an ideal way). XML is more formal and enables a strict adherence to a defined structure, while JSON is a simpler data container (but this simplicity resulted in a good popularity in later times, the BIOM 1.0 format is an example of widely adopted JSON format).\n"
   ]
  },
  {
   "cell_type": "markdown",
   "metadata": {},
   "source": [
    "_________\n",
    "\n",
    "### Extensible Markup Language -- `xml` -- format\n",
    "\n",
    "The following text is from:    \n",
    "https://www.tutorialspoint.com/xml/xml_overview.htm\n",
    "\n",
    "XML stands for Extensible Markup Language. It is a text-based markup language derived from Standard Generalized Markup Language (SGML).\n",
    "\n",
    "XML tags identify the data and are used to store and organize the data, rather than specifying how to display it like HTML tags, which are used to display the data. XML is not going to replace HTML in the near future, but it introduces new possibilities by adopting many successful features of HTML.\n",
    "\n",
    "There are three important characteristics of XML that make it useful in a variety of systems and solutions:  \n",
    "* XML is extensible − XML allows you to create your own self-descriptive tags, or language, that suits your application.\n",
    "* XML carries the data, does not present it − XML allows you to store the data irrespective of how it will be presented.\n",
    "* XML is a public standard − XML was developed by an organization called the World Wide Web Consortium (W3C) and is available as an open standard.\n",
    "\n",
    "##### XML Usage\n",
    "A short list of XML usage says it all:\n",
    "* XML can work behind the scene to simplify the creation of HTML documents for large web sites.\n",
    "* XML can be used to exchange the information between organizations and systems.\n",
    "* XML can be used for offloading and reloading of databases.\n",
    "* XML can be used to store and arrange the data, which can customize your data handling needs.\n",
    "* XML can easily be merged with style sheets to create almost any desired output.\n",
    "\n",
    "Virtually, any type of data can be expressed as an XML document.\n",
    "\n",
    "##### What is Markup?   \n",
    "XML is a markup language that defines set of rules for encoding documents in a format that is both human-readable and machine-readable. So what exactly is a markup language? Markup is information added to a document that enhances its meaning in certain ways, in that it identifies the parts and how they relate to each other. More specifically, a markup language is a set of symbols that can be placed in the text of a document to demarcate and label the parts of that document.\n",
    "\n",
    "\n"
   ]
  },
  {
   "cell_type": "markdown",
   "metadata": {},
   "source": [
    "#### Parsing `xml` files\n",
    "\n",
    "```python\n",
    "import xml.etree.ElementTree as ET\n",
    "```\n",
    "\n",
    "https://docs.python.org/3/library/xml.html\n",
    "\n",
    "The XML handling submodules are:\n",
    "\n",
    "* xml.etree.ElementTree: the ElementTree API, a simple and lightweight XML processor\n",
    "* xml.dom: the DOM API definition\n",
    "* xml.dom.minidom: a minimal DOM implementation\n",
    "* xml.dom.pulldom: support for building partial DOM trees\n",
    "* xml.sax: SAX2 base classes and convenience functions\n",
    "* xml.parsers.expat: the Expat parser binding\n",
    "\n"
   ]
  },
  {
   "cell_type": "markdown",
   "metadata": {},
   "source": [
    "`genes.xml`\n",
    "\n",
    "```xml\n",
    "<?xml version=\"1.0\"?>\n",
    "<data>\n",
    "    <gene symbol=\"BRCA1\">\n",
    "        <id>672</id>\n",
    "        <name>BRCA1 DNA repair associated</name>\n",
    "        <alias sym=\"IRIS\"/>\n",
    "        <alias sym=\"PSCP\"/>\n",
    "    </gene>\n",
    "    <gene symbol=\"BRCA2\">\n",
    "        <id>675</id>\n",
    "        <name>BRCA2 DNA repair associated</name>\n",
    "        <alias sym=\"FAD\"/>\n",
    "        <alias sym=\"FAD1\"/>\n",
    "        <alias sym=\"BRCC2\"/>\n",
    "    </gene>\n",
    "</data>\n",
    "```"
   ]
  },
  {
   "cell_type": "code",
   "execution_count": 1,
   "metadata": {},
   "outputs": [],
   "source": [
    "import xml.etree.ElementTree as ET"
   ]
  },
  {
   "cell_type": "code",
   "execution_count": 2,
   "metadata": {},
   "outputs": [
    {
     "data": {
      "text/plain": [
       "['C14NWriterTarget',\n",
       " 'Comment',\n",
       " 'Element',\n",
       " 'ElementPath',\n",
       " 'ElementTree',\n",
       " 'HTML_EMPTY',\n",
       " 'PI',\n",
       " 'ParseError',\n",
       " 'ProcessingInstruction',\n",
       " 'QName',\n",
       " 'SubElement',\n",
       " 'TreeBuilder',\n",
       " 'VERSION',\n",
       " 'XML',\n",
       " 'XMLID',\n",
       " 'XMLParser',\n",
       " 'XMLPullParser',\n",
       " 'canonicalize',\n",
       " 'collections',\n",
       " 'contextlib',\n",
       " 'dump',\n",
       " 'fromstring',\n",
       " 'fromstringlist',\n",
       " 'io',\n",
       " 'iselement',\n",
       " 'iterparse',\n",
       " 'parse',\n",
       " 're',\n",
       " 'register_namespace',\n",
       " 'sys',\n",
       " 'tostring',\n",
       " 'tostringlist',\n",
       " 'warnings']"
      ]
     },
     "execution_count": 2,
     "metadata": {},
     "output_type": "execute_result"
    }
   ],
   "source": [
    "# see what is available for the ElementTree objects \n",
    "[elem for elem in dir(ET) if not elem.startswith(\"_\")]"
   ]
  },
  {
   "cell_type": "code",
   "execution_count": 3,
   "metadata": {},
   "outputs": [
    {
     "name": "stdout",
     "output_type": "stream",
     "text": [
      "Help on function parse in module xml.etree.ElementTree:\n",
      "\n",
      "parse(source, parser=None)\n",
      "    Parse XML document into element tree.\n",
      "    \n",
      "    *source* is a filename or file object containing XML data,\n",
      "    *parser* is an optional parser instance defaulting to XMLParser.\n",
      "    \n",
      "    Return an ElementTree instance.\n",
      "\n"
     ]
    }
   ],
   "source": [
    "help(ET.parse)"
   ]
  },
  {
   "cell_type": "code",
   "execution_count": 4,
   "metadata": {},
   "outputs": [],
   "source": [
    "tree = ET.parse('genes.xml')"
   ]
  },
  {
   "cell_type": "code",
   "execution_count": 5,
   "metadata": {},
   "outputs": [
    {
     "data": {
      "text/plain": [
       "xml.etree.ElementTree.ElementTree"
      ]
     },
     "execution_count": 5,
     "metadata": {},
     "output_type": "execute_result"
    }
   ],
   "source": [
    "type(tree)"
   ]
  },
  {
   "cell_type": "code",
   "execution_count": 6,
   "metadata": {},
   "outputs": [
    {
     "data": {
      "text/plain": [
       "['find',\n",
       " 'findall',\n",
       " 'findtext',\n",
       " 'getiterator',\n",
       " 'getroot',\n",
       " 'iter',\n",
       " 'iterfind',\n",
       " 'parse',\n",
       " 'write',\n",
       " 'write_c14n']"
      ]
     },
     "execution_count": 6,
     "metadata": {},
     "output_type": "execute_result"
    }
   ],
   "source": [
    "[elem for elem in dir(tree) if not elem.startswith(\"_\")]"
   ]
  },
  {
   "cell_type": "code",
   "execution_count": 7,
   "metadata": {},
   "outputs": [
    {
     "name": "stdout",
     "output_type": "stream",
     "text": [
      "Help on method getroot in module xml.etree.ElementTree:\n",
      "\n",
      "getroot() method of xml.etree.ElementTree.ElementTree instance\n",
      "    Return root element of this tree.\n",
      "\n"
     ]
    }
   ],
   "source": [
    "help(tree.getroot)"
   ]
  },
  {
   "cell_type": "code",
   "execution_count": 8,
   "metadata": {},
   "outputs": [],
   "source": [
    "root = tree.getroot()"
   ]
  },
  {
   "cell_type": "code",
   "execution_count": 9,
   "metadata": {},
   "outputs": [
    {
     "data": {
      "text/plain": [
       "xml.etree.ElementTree.Element"
      ]
     },
     "execution_count": 9,
     "metadata": {},
     "output_type": "execute_result"
    }
   ],
   "source": [
    "type(root)"
   ]
  },
  {
   "cell_type": "code",
   "execution_count": 10,
   "metadata": {},
   "outputs": [
    {
     "data": {
      "text/plain": [
       "['append',\n",
       " 'attrib',\n",
       " 'clear',\n",
       " 'extend',\n",
       " 'find',\n",
       " 'findall',\n",
       " 'findtext',\n",
       " 'get',\n",
       " 'getchildren',\n",
       " 'getiterator',\n",
       " 'insert',\n",
       " 'items',\n",
       " 'iter',\n",
       " 'iterfind',\n",
       " 'itertext',\n",
       " 'keys',\n",
       " 'makeelement',\n",
       " 'remove',\n",
       " 'set',\n",
       " 'tag',\n",
       " 'tail',\n",
       " 'text']"
      ]
     },
     "execution_count": 10,
     "metadata": {},
     "output_type": "execute_result"
    }
   ],
   "source": [
    "[elem for elem in dir(root) if not elem.startswith(\"_\")]"
   ]
  },
  {
   "cell_type": "code",
   "execution_count": 11,
   "metadata": {},
   "outputs": [
    {
     "data": {
      "text/plain": [
       "'data'"
      ]
     },
     "execution_count": 11,
     "metadata": {},
     "output_type": "execute_result"
    }
   ],
   "source": [
    "# As an Element object, root has a tag and a dictionary of attributes:\n",
    "root.tag"
   ]
  },
  {
   "cell_type": "code",
   "execution_count": 12,
   "metadata": {},
   "outputs": [
    {
     "data": {
      "text/plain": [
       "{}"
      ]
     },
     "execution_count": 12,
     "metadata": {},
     "output_type": "execute_result"
    }
   ],
   "source": [
    "root.attrib"
   ]
  },
  {
   "cell_type": "code",
   "execution_count": 13,
   "metadata": {},
   "outputs": [
    {
     "name": "stdout",
     "output_type": "stream",
     "text": [
      "gene {'symbol': 'BRCA1'}\n",
      "gene {'symbol': 'BRCA2'}\n"
     ]
    }
   ],
   "source": [
    "# root also has child Elements\n",
    "for child in root:\n",
    "    print(child.tag, child.attrib)"
   ]
  },
  {
   "cell_type": "code",
   "execution_count": null,
   "metadata": {},
   "outputs": [],
   "source": []
  },
  {
   "cell_type": "code",
   "execution_count": 14,
   "metadata": {},
   "outputs": [
    {
     "data": {
      "text/plain": [
       "{'symbol': 'BRCA1'}"
      ]
     },
     "execution_count": 14,
     "metadata": {},
     "output_type": "execute_result"
    }
   ],
   "source": [
    "# Children are nested, and we can access specific child nodes by index:\n",
    "\n",
    "root[0].attrib"
   ]
  },
  {
   "cell_type": "code",
   "execution_count": 15,
   "metadata": {},
   "outputs": [
    {
     "data": {
      "text/plain": [
       "'672'"
      ]
     },
     "execution_count": 15,
     "metadata": {},
     "output_type": "execute_result"
    }
   ],
   "source": [
    "root[0][0].text"
   ]
  },
  {
   "cell_type": "code",
   "execution_count": 16,
   "metadata": {},
   "outputs": [
    {
     "data": {
      "text/plain": [
       "'BRCA1 DNA repair associated'"
      ]
     },
     "execution_count": 16,
     "metadata": {},
     "output_type": "execute_result"
    }
   ],
   "source": [
    "root[0][1].text"
   ]
  },
  {
   "cell_type": "code",
   "execution_count": null,
   "metadata": {},
   "outputs": [],
   "source": []
  },
  {
   "cell_type": "markdown",
   "metadata": {},
   "source": [
    "Element has some useful methods that help iterate recursively over all the sub-tree below it (its children, their children, and so on). For example, Element.iter()"
   ]
  },
  {
   "cell_type": "code",
   "execution_count": 17,
   "metadata": {},
   "outputs": [
    {
     "name": "stdout",
     "output_type": "stream",
     "text": [
      "{'sym': 'IRIS'}\n",
      "{'sym': 'PSCP'}\n",
      "{'sym': 'FAD'}\n",
      "{'sym': 'FAD1'}\n",
      "{'sym': 'BRCC2'}\n"
     ]
    }
   ],
   "source": [
    "# we can explore specific tags\n",
    "\n",
    "for alias in root.iter('alias'):\n",
    "    print(alias.attrib)"
   ]
  },
  {
   "cell_type": "code",
   "execution_count": 18,
   "metadata": {},
   "outputs": [
    {
     "data": {
      "text/plain": [
       "[('672', 'BRCA1', 'BRCA1 DNA repair associated', ['IRIS', 'PSCP']),\n",
       " ('675', 'BRCA2', 'BRCA2 DNA repair associated', ['FAD', 'FAD1', 'BRCC2'])]"
      ]
     },
     "execution_count": 18,
     "metadata": {},
     "output_type": "execute_result"
    }
   ],
   "source": [
    "genes = []\n",
    "for gene in root.findall('gene'):\n",
    "    gene_id = gene.find('id').text\n",
    "    symbol = gene.get('symbol')\n",
    "    name = gene.find('name').text\n",
    "    aliases = []\n",
    "    for alias in gene.findall('alias'):\n",
    "        aliases.append(alias.get('sym'))\n",
    "    genes.append((gene_id, symbol, name, aliases))\n",
    "genes"
   ]
  },
  {
   "cell_type": "code",
   "execution_count": null,
   "metadata": {},
   "outputs": [],
   "source": []
  },
  {
   "cell_type": "code",
   "execution_count": 19,
   "metadata": {},
   "outputs": [
    {
     "data": {
      "text/html": [
       "<div>\n",
       "<style scoped>\n",
       "    .dataframe tbody tr th:only-of-type {\n",
       "        vertical-align: middle;\n",
       "    }\n",
       "\n",
       "    .dataframe tbody tr th {\n",
       "        vertical-align: top;\n",
       "    }\n",
       "\n",
       "    .dataframe thead th {\n",
       "        text-align: right;\n",
       "    }\n",
       "</style>\n",
       "<table border=\"1\" class=\"dataframe\">\n",
       "  <thead>\n",
       "    <tr style=\"text-align: right;\">\n",
       "      <th></th>\n",
       "      <th>gene_id</th>\n",
       "      <th>symbol</th>\n",
       "      <th>name</th>\n",
       "      <th>aliases</th>\n",
       "    </tr>\n",
       "  </thead>\n",
       "  <tbody>\n",
       "    <tr>\n",
       "      <th>0</th>\n",
       "      <td>672</td>\n",
       "      <td>BRCA1</td>\n",
       "      <td>BRCA1 DNA repair associated</td>\n",
       "      <td>[IRIS, PSCP]</td>\n",
       "    </tr>\n",
       "    <tr>\n",
       "      <th>1</th>\n",
       "      <td>675</td>\n",
       "      <td>BRCA2</td>\n",
       "      <td>BRCA2 DNA repair associated</td>\n",
       "      <td>[FAD, FAD1, BRCC2]</td>\n",
       "    </tr>\n",
       "  </tbody>\n",
       "</table>\n",
       "</div>"
      ],
      "text/plain": [
       "  gene_id symbol                         name             aliases\n",
       "0     672  BRCA1  BRCA1 DNA repair associated        [IRIS, PSCP]\n",
       "1     675  BRCA2  BRCA2 DNA repair associated  [FAD, FAD1, BRCC2]"
      ]
     },
     "execution_count": 19,
     "metadata": {},
     "output_type": "execute_result"
    }
   ],
   "source": [
    "# xml to pandas DataFrame\n",
    "import pandas as pd\n",
    "pd.DataFrame(genes, columns = (\"gene_id\", \"symbol\", \"name\", \"aliases\"))"
   ]
  },
  {
   "cell_type": "code",
   "execution_count": null,
   "metadata": {},
   "outputs": [],
   "source": []
  },
  {
   "cell_type": "markdown",
   "metadata": {},
   "source": [
    "#### xml to pandas DataFrame\n",
    "from: https://www.geeksforgeeks.org/how-to-create-pandas-dataframe-from-nested-xml/\n",
    "\n",
    "Save the following content into a file stores.xml\n",
    "\n",
    "```xml\n",
    "<?xml version=\"1.0\" encoding=\"UTF-8\"?>\n",
    "  \n",
    "       <Food>\n",
    "  \n",
    "           <Info>\n",
    "           <Msg>Food Store items.</Msg>\n",
    "           </Info>\n",
    "  \n",
    "           <store slNo=\"1\">\n",
    "               <foodItem>oranges</foodItem>\n",
    "               <price>5</price>\n",
    "               <quantity>1kg</quantity>\n",
    "               <discount>7%</discount>\n",
    "           </store>\n",
    "  \n",
    "           <store slNo=\"2\">\n",
    "               <foodItem>carrots</foodItem>\n",
    "               <price>2</price>\n",
    "               <quantity>1kg</quantity>\n",
    "               <discount>5%</discount>\n",
    "           </store>\n",
    "  \n",
    "       </Food>\n",
    "```\n"
   ]
  },
  {
   "cell_type": "code",
   "execution_count": 20,
   "metadata": {},
   "outputs": [
    {
     "name": "stdout",
     "output_type": "stream",
     "text": [
      "SL No ITEM_NUMBER PRICE QUANTITY DISCOUNT\n",
      "    1     oranges     5      1kg       7%\n",
      "    2     carrots     2      1kg       5%\n"
     ]
    }
   ],
   "source": [
    "import xml.etree.ElementTree as ETree\n",
    "import pandas as pd\n",
    "  \n",
    "# give the path where you saved the xml file # inside the quotes\n",
    "\n",
    "prstree = ETree.parse(\"stores.xml\")\n",
    "root = prstree.getroot()\n",
    "  \n",
    "# print(root)\n",
    "store_items = []\n",
    "all_items = []\n",
    "  \n",
    "for storeno in root.iter('store'):\n",
    "    \n",
    "    store_Nr = storeno.attrib.get('slNo')\n",
    "    itemsF = storeno.find('foodItem').text\n",
    "    price = storeno.find('price').text\n",
    "    quan = storeno.find('quantity').text\n",
    "    dis = storeno.find('discount').text\n",
    "  \n",
    "    store_items = [store_Nr, itemsF, price, quan, dis]\n",
    "    all_items.append(store_items)\n",
    "  \n",
    "xmlToDf = pd.DataFrame(all_items, columns=['SL No', 'ITEM_NUMBER', 'PRICE', 'QUANTITY', 'DISCOUNT'])\n",
    "  \n",
    "print(xmlToDf.to_string(index=False))"
   ]
  },
  {
   "cell_type": "code",
   "execution_count": 21,
   "metadata": {},
   "outputs": [
    {
     "data": {
      "text/html": [
       "<div>\n",
       "<style scoped>\n",
       "    .dataframe tbody tr th:only-of-type {\n",
       "        vertical-align: middle;\n",
       "    }\n",
       "\n",
       "    .dataframe tbody tr th {\n",
       "        vertical-align: top;\n",
       "    }\n",
       "\n",
       "    .dataframe thead th {\n",
       "        text-align: right;\n",
       "    }\n",
       "</style>\n",
       "<table border=\"1\" class=\"dataframe\">\n",
       "  <thead>\n",
       "    <tr style=\"text-align: right;\">\n",
       "      <th></th>\n",
       "      <th>SL No</th>\n",
       "      <th>ITEM_NUMBER</th>\n",
       "      <th>PRICE</th>\n",
       "      <th>QUANTITY</th>\n",
       "      <th>DISCOUNT</th>\n",
       "    </tr>\n",
       "  </thead>\n",
       "  <tbody>\n",
       "    <tr>\n",
       "      <th>0</th>\n",
       "      <td>1</td>\n",
       "      <td>oranges</td>\n",
       "      <td>5</td>\n",
       "      <td>1kg</td>\n",
       "      <td>7%</td>\n",
       "    </tr>\n",
       "    <tr>\n",
       "      <th>1</th>\n",
       "      <td>2</td>\n",
       "      <td>carrots</td>\n",
       "      <td>2</td>\n",
       "      <td>1kg</td>\n",
       "      <td>5%</td>\n",
       "    </tr>\n",
       "  </tbody>\n",
       "</table>\n",
       "</div>"
      ],
      "text/plain": [
       "  SL No ITEM_NUMBER PRICE QUANTITY DISCOUNT\n",
       "0     1     oranges     5      1kg       7%\n",
       "1     2     carrots     2      1kg       5%"
      ]
     },
     "execution_count": 21,
     "metadata": {},
     "output_type": "execute_result"
    }
   ],
   "source": [
    "xmlToDf"
   ]
  },
  {
   "cell_type": "markdown",
   "metadata": {},
   "source": [
    "Resources:\n",
    "\n",
    "https://www.geeksforgeeks.org/xml-parsing-python/   \n",
    "https://www.w3schools.com/xml/    \n",
    "https://www.tutorialspoint.com/python/python_xml_processing.htm    \n",
    "https://docs.python.org/3/library/xml.etree.elementtree.html    \n",
    "https://realpython.com/python-xml-parser/   \n",
    "https://docs.python-guide.org/scenarios/xml/   \n",
    "https://www.geeksforgeeks.org/reading-and-writing-xml-files-in-python/    \n",
    "https://www.guru99.com/manipulating-xml-with-python.html   \n"
   ]
  },
  {
   "cell_type": "code",
   "execution_count": null,
   "metadata": {},
   "outputs": [],
   "source": []
  },
  {
   "cell_type": "markdown",
   "metadata": {
    "tags": []
   },
   "source": [
    "______\n",
    "\n",
    "### JavaScript Object Notation -- `json` -- format\n",
    "\n",
    "A JSON document is composed by a list of items stored as key and value pairs.    \n",
    "Values can be single values (strings, integers, floating point…) or a list of values.\n",
    "\n",
    "https://medium.com/ngs-sh/a-simple-introduction-to-xml-and-json-4547b93c9aae\n",
    "\n",
    "\n",
    "JSON supports primitive types, like strings and numbers, as well as nested lists, tuples, and objects (dict), or null (None).  "
   ]
  },
  {
   "cell_type": "markdown",
   "metadata": {},
   "source": [
    "#### Working with `json` format data"
   ]
  },
  {
   "cell_type": "markdown",
   "metadata": {},
   "source": [
    "Import the `json` module.   \n",
    "https://docs.python.org/3/library/json.html    \n",
    "To work with JSON data (string or JSON file), first, it has to be 'translated' into the python data structure. In this lesson, we are going to use python's built-in module json to do it.   \n",
    "\n",
    "```python\n",
    "import json\n",
    "```\n",
    "   \n",
    "There are a few python methods used to load json data:   \n",
    "\n",
    "* load(): This method loads data from a JSON file into a python dictionary.\n",
    "* loads(): This method loads data from a JSON variable into a python dictionary.\n",
    "* dump(): This method loads data from the python dictionary to the JSON file.\n",
    "* dumps(): This method loads data from the python dictionary to the JSON variable.\n",
    "\n",
    "https://www.networkacademy.io/devnet-associate/data-formats/parsing-json-with-python\n",
    "\n",
    "Datatypes conversion: python to json  \n",
    "\n",
    "| Python                                 | JSON   |\n",
    "|----------------------------------------|--------|\n",
    "| dict                                   | object |\n",
    "| list, tuple                            | array  |\n",
    "| str                                    | string |\n",
    "| int, float, int- & float-derived Enums | number |\n",
    "| True                                   | true   |\n",
    "| False                                  | false  |\n",
    "| None                                   | null   |\n",
    "\n"
   ]
  },
  {
   "cell_type": "markdown",
   "metadata": {},
   "source": [
    "`gene.json`\n",
    "\n",
    "```json\n",
    "{\n",
    "  \"id\": 672,\n",
    "  \"symbol\": \"BRCA1\",\n",
    "  \"full_name\": \"BRCA1 DNA repair associated\",\n",
    "  \"aliases\": [\n",
    "    \"IRIS\",\n",
    "    \"PSCP\",\n",
    "    \"BRCAI\",\n",
    "    \"FANCS\",\n",
    "    \"PNCA4\",\n",
    "    \"RNF53\",\n",
    "    \"BROVCA1\",\n",
    "    \"PPP1R53\"\n",
    "  ]\n",
    "}\n",
    "```"
   ]
  },
  {
   "cell_type": "code",
   "execution_count": 23,
   "metadata": {},
   "outputs": [],
   "source": [
    "import json"
   ]
  },
  {
   "cell_type": "code",
   "execution_count": 24,
   "metadata": {},
   "outputs": [
    {
     "data": {
      "text/plain": [
       "['JSONDecodeError',\n",
       " 'JSONDecoder',\n",
       " 'JSONEncoder',\n",
       " '__all__',\n",
       " '__author__',\n",
       " '__builtins__',\n",
       " '__cached__',\n",
       " '__doc__',\n",
       " '__file__',\n",
       " '__loader__',\n",
       " '__name__',\n",
       " '__package__',\n",
       " '__path__',\n",
       " '__spec__',\n",
       " '__version__',\n",
       " '_default_decoder',\n",
       " '_default_encoder',\n",
       " 'codecs',\n",
       " 'decoder',\n",
       " 'detect_encoding',\n",
       " 'dump',\n",
       " 'dumps',\n",
       " 'encoder',\n",
       " 'load',\n",
       " 'loads',\n",
       " 'scanner']"
      ]
     },
     "execution_count": 24,
     "metadata": {},
     "output_type": "execute_result"
    }
   ],
   "source": [
    "dir(json)"
   ]
  },
  {
   "cell_type": "code",
   "execution_count": 25,
   "metadata": {},
   "outputs": [
    {
     "name": "stdout",
     "output_type": "stream",
     "text": [
      "Help on function load in module json:\n",
      "\n",
      "load(fp, *, cls=None, object_hook=None, parse_float=None, parse_int=None, parse_constant=None, object_pairs_hook=None, **kw)\n",
      "    Deserialize ``fp`` (a ``.read()``-supporting file-like object containing\n",
      "    a JSON document) to a Python object.\n",
      "    \n",
      "    ``object_hook`` is an optional function that will be called with the\n",
      "    result of any object literal decode (a ``dict``). The return value of\n",
      "    ``object_hook`` will be used instead of the ``dict``. This feature\n",
      "    can be used to implement custom decoders (e.g. JSON-RPC class hinting).\n",
      "    \n",
      "    ``object_pairs_hook`` is an optional function that will be called with the\n",
      "    result of any object literal decoded with an ordered list of pairs.  The\n",
      "    return value of ``object_pairs_hook`` will be used instead of the ``dict``.\n",
      "    This feature can be used to implement custom decoders.  If ``object_hook``\n",
      "    is also defined, the ``object_pairs_hook`` takes priority.\n",
      "    \n",
      "    To use a custom ``JSONDecoder`` subclass, specify it with the ``cls``\n",
      "    kwarg; otherwise ``JSONDecoder`` is used.\n",
      "\n"
     ]
    }
   ],
   "source": [
    "help(json.load)"
   ]
  },
  {
   "cell_type": "code",
   "execution_count": 26,
   "metadata": {},
   "outputs": [
    {
     "data": {
      "text/plain": [
       "{'id': 672,\n",
       " 'symbol': 'BRCA1',\n",
       " 'full_name': 'BRCA1 DNA repair associated',\n",
       " 'aliases': ['IRIS',\n",
       "  'PSCP',\n",
       "  'BRCAI',\n",
       "  'FANCS',\n",
       "  'PNCA4',\n",
       "  'RNF53',\n",
       "  'BROVCA1',\n",
       "  'PPP1R53']}"
      ]
     },
     "execution_count": 26,
     "metadata": {},
     "output_type": "execute_result"
    }
   ],
   "source": [
    "with open(\"gene.json\") as gene_file: \n",
    "    gene1_dict = json.load(gene_file) \n",
    "gene1_dict"
   ]
  },
  {
   "cell_type": "code",
   "execution_count": 27,
   "metadata": {},
   "outputs": [],
   "source": [
    "test_lst = [1,2,3, (\"test\", \"gene\")]"
   ]
  },
  {
   "cell_type": "code",
   "execution_count": 28,
   "metadata": {},
   "outputs": [
    {
     "data": {
      "text/plain": [
       "'[1, 2, 3, [\"test\", \"gene\"]]'"
      ]
     },
     "execution_count": 28,
     "metadata": {},
     "output_type": "execute_result"
    }
   ],
   "source": [
    "# create json format string from list object\n",
    "json.dumps(test_lst)"
   ]
  },
  {
   "cell_type": "code",
   "execution_count": 29,
   "metadata": {},
   "outputs": [
    {
     "data": {
      "text/plain": [
       "'{\"id\": 672, \"symbol\": \"BRCA1\", \"full_name\": \"BRCA1 DNA repair associated\", \"aliases\": [\"IRIS\", \"PSCP\", \"BRCAI\", \"FANCS\", \"PNCA4\", \"RNF53\", \"BROVCA1\", \"PPP1R53\"]}'"
      ]
     },
     "execution_count": 29,
     "metadata": {},
     "output_type": "execute_result"
    }
   ],
   "source": [
    "# create json format string from dict object\n",
    "res = json.dumps(gene1_dict)\n",
    "res"
   ]
  },
  {
   "cell_type": "code",
   "execution_count": null,
   "metadata": {},
   "outputs": [],
   "source": [
    "type(res)"
   ]
  },
  {
   "cell_type": "code",
   "execution_count": 30,
   "metadata": {},
   "outputs": [
    {
     "name": "stdout",
     "output_type": "stream",
     "text": [
      "Help on function dumps in module json:\n",
      "\n",
      "dumps(obj, *, skipkeys=False, ensure_ascii=True, check_circular=True, allow_nan=True, cls=None, indent=None, separators=None, default=None, sort_keys=False, **kw)\n",
      "    Serialize ``obj`` to a JSON formatted ``str``.\n",
      "    \n",
      "    If ``skipkeys`` is true then ``dict`` keys that are not basic types\n",
      "    (``str``, ``int``, ``float``, ``bool``, ``None``) will be skipped\n",
      "    instead of raising a ``TypeError``.\n",
      "    \n",
      "    If ``ensure_ascii`` is false, then the return value can contain non-ASCII\n",
      "    characters if they appear in strings contained in ``obj``. Otherwise, all\n",
      "    such characters are escaped in JSON strings.\n",
      "    \n",
      "    If ``check_circular`` is false, then the circular reference check\n",
      "    for container types will be skipped and a circular reference will\n",
      "    result in an ``OverflowError`` (or worse).\n",
      "    \n",
      "    If ``allow_nan`` is false, then it will be a ``ValueError`` to\n",
      "    serialize out of range ``float`` values (``nan``, ``inf``, ``-inf``) in\n",
      "    strict compliance of the JSON specification, instead of using the\n",
      "    JavaScript equivalents (``NaN``, ``Infinity``, ``-Infinity``).\n",
      "    \n",
      "    If ``indent`` is a non-negative integer, then JSON array elements and\n",
      "    object members will be pretty-printed with that indent level. An indent\n",
      "    level of 0 will only insert newlines. ``None`` is the most compact\n",
      "    representation.\n",
      "    \n",
      "    If specified, ``separators`` should be an ``(item_separator, key_separator)``\n",
      "    tuple.  The default is ``(', ', ': ')`` if *indent* is ``None`` and\n",
      "    ``(',', ': ')`` otherwise.  To get the most compact JSON representation,\n",
      "    you should specify ``(',', ':')`` to eliminate whitespace.\n",
      "    \n",
      "    ``default(obj)`` is a function that should return a serializable version\n",
      "    of obj or raise TypeError. The default simply raises TypeError.\n",
      "    \n",
      "    If *sort_keys* is true (default: ``False``), then the output of\n",
      "    dictionaries will be sorted by key.\n",
      "    \n",
      "    To use a custom ``JSONEncoder`` subclass (e.g. one that overrides the\n",
      "    ``.default()`` method to serialize additional types), specify it with\n",
      "    the ``cls`` kwarg; otherwise ``JSONEncoder`` is used.\n",
      "\n"
     ]
    }
   ],
   "source": [
    "help(json.dumps)"
   ]
  },
  {
   "cell_type": "markdown",
   "metadata": {},
   "source": [
    "Resources:\n",
    "    \n",
    "https://www.geeksforgeeks.org/working-with-json-data-in-python/    \n",
    "https://www.geeksforgeeks.org/read-json-file-using-python/    \n",
    "https://www.networkacademy.io/devnet-associate/data-formats/parsing-json-with-python      \n",
    "https://medium.com/ngs-sh/a-simple-introduction-to-xml-and-json-4547b93c9aae     \n",
    "https://www.tutorialspoint.com/python_data_science/python_processing_json_data.htm    \n",
    "https://www.w3schools.com/js/js_json_intro.asp\n",
    "https://www.w3schools.com/python/python_json.asp\n",
    "\n",
    "https://www.tutorialspoint.com/json/json_comparison.htm"
   ]
  },
  {
   "cell_type": "code",
   "execution_count": null,
   "metadata": {},
   "outputs": [],
   "source": []
  },
  {
   "cell_type": "code",
   "execution_count": null,
   "metadata": {},
   "outputs": [],
   "source": []
  },
  {
   "cell_type": "code",
   "execution_count": null,
   "metadata": {},
   "outputs": [],
   "source": []
  },
  {
   "cell_type": "markdown",
   "metadata": {},
   "source": [
    "### Exercise:\n",
    "\n",
    "Add the BRCA2 gene to the json file to have a list of 2 genes, and read the results.    \n",
    "Make a pandas DataFrame out of the list of genes.   \n",
    "Convert the data from the DataFrame into json format.   \n",
    "Save it to a file.   \n",
    "Load the data from the file into a DataFrame.\n",
    "\n",
    "\n",
    "https://www.ncbi.nlm.nih.gov/gene/675\n",
    "\n",
    "\n",
    "```json\n",
    "{\n",
    "  \"id\": 675,\n",
    "  \"symbol\": \"BRCA2\",\n",
    "  \"full_name\": \"BRCA2 DNA repair associated\",\n",
    "  \"aliases\": [\n",
    "    \"FAD\",\n",
    "    \"FACD\",\n",
    "    \"FAD1\",\n",
    "    \"GLM3\",\n",
    "    \"BRCC2\",\n",
    "    \"FANCD\",\n",
    "    \"PNCA2\",\n",
    "    \"FANCD1\",\n",
    "    \"XRCC11\",\n",
    "    \"BROVCA2\"\n",
    "  ]\n",
    "}\n",
    "```\n",
    "\n",
    "    "
   ]
  },
  {
   "cell_type": "code",
   "execution_count": 34,
   "metadata": {},
   "outputs": [
    {
     "data": {
      "text/plain": [
       "[{'id': 672,\n",
       "  'symbol': 'BRCA1',\n",
       "  'full_name': 'BRCA1 DNA repair associated',\n",
       "  'aliases': ['IRIS',\n",
       "   'PSCP',\n",
       "   'BRCAI',\n",
       "   'FANCS',\n",
       "   'PNCA4',\n",
       "   'RNF53',\n",
       "   'BROVCA1',\n",
       "   'PPP1R53']},\n",
       " {'id': 675,\n",
       "  'symbol': 'BRCA2',\n",
       "  'full_name': 'BRCA2 DNA repair associated',\n",
       "  'aliases': ['FAD',\n",
       "   'FACD',\n",
       "   'FAD1',\n",
       "   'GLM3',\n",
       "   'BRCC2',\n",
       "   'FANCD',\n",
       "   'PNCA2',\n",
       "   'FANCD1',\n",
       "   'XRCC11',\n",
       "   'BROVCA2']}]"
      ]
     },
     "execution_count": 34,
     "metadata": {},
     "output_type": "execute_result"
    }
   ],
   "source": [
    "# Add the BRCA2 gene to the json file to have a list of 2 genes, \n",
    "# and read the results.\n",
    "\n",
    "with open(\"gene.json\") as gene_file: \n",
    "    genes_lst = json.load(gene_file) \n",
    "genes_lst"
   ]
  },
  {
   "cell_type": "code",
   "execution_count": 33,
   "metadata": {},
   "outputs": [
    {
     "data": {
      "text/plain": [
       "list"
      ]
     },
     "execution_count": 33,
     "metadata": {},
     "output_type": "execute_result"
    }
   ],
   "source": [
    "type(genes_lst)"
   ]
  },
  {
   "cell_type": "code",
   "execution_count": 36,
   "metadata": {},
   "outputs": [
    {
     "data": {
      "text/html": [
       "<div>\n",
       "<style scoped>\n",
       "    .dataframe tbody tr th:only-of-type {\n",
       "        vertical-align: middle;\n",
       "    }\n",
       "\n",
       "    .dataframe tbody tr th {\n",
       "        vertical-align: top;\n",
       "    }\n",
       "\n",
       "    .dataframe thead th {\n",
       "        text-align: right;\n",
       "    }\n",
       "</style>\n",
       "<table border=\"1\" class=\"dataframe\">\n",
       "  <thead>\n",
       "    <tr style=\"text-align: right;\">\n",
       "      <th></th>\n",
       "      <th>id</th>\n",
       "      <th>symbol</th>\n",
       "      <th>full_name</th>\n",
       "      <th>aliases</th>\n",
       "    </tr>\n",
       "  </thead>\n",
       "  <tbody>\n",
       "    <tr>\n",
       "      <th>0</th>\n",
       "      <td>672</td>\n",
       "      <td>BRCA1</td>\n",
       "      <td>BRCA1 DNA repair associated</td>\n",
       "      <td>[IRIS, PSCP, BRCAI, FANCS, PNCA4, RNF53, BROVC...</td>\n",
       "    </tr>\n",
       "    <tr>\n",
       "      <th>1</th>\n",
       "      <td>675</td>\n",
       "      <td>BRCA2</td>\n",
       "      <td>BRCA2 DNA repair associated</td>\n",
       "      <td>[FAD, FACD, FAD1, GLM3, BRCC2, FANCD, PNCA2, F...</td>\n",
       "    </tr>\n",
       "  </tbody>\n",
       "</table>\n",
       "</div>"
      ],
      "text/plain": [
       "    id symbol                    full_name  \\\n",
       "0  672  BRCA1  BRCA1 DNA repair associated   \n",
       "1  675  BRCA2  BRCA2 DNA repair associated   \n",
       "\n",
       "                                             aliases  \n",
       "0  [IRIS, PSCP, BRCAI, FANCS, PNCA4, RNF53, BROVC...  \n",
       "1  [FAD, FACD, FAD1, GLM3, BRCC2, FANCD, PNCA2, F...  "
      ]
     },
     "execution_count": 36,
     "metadata": {},
     "output_type": "execute_result"
    }
   ],
   "source": [
    "# Make a pandas DataFrame out of the list of genes.\n",
    "\n",
    "df = pd.DataFrame(genes_lst)\n",
    "df"
   ]
  },
  {
   "cell_type": "code",
   "execution_count": 37,
   "metadata": {},
   "outputs": [
    {
     "ename": "TypeError",
     "evalue": "Object of type DataFrame is not JSON serializable",
     "output_type": "error",
     "traceback": [
      "\u001b[0;31m---------------------------------------------------------------------------\u001b[0m",
      "\u001b[0;31mTypeError\u001b[0m                                 Traceback (most recent call last)",
      "\u001b[0;32m/var/folders/dg/8l7ql9hs6j71k502y3_6r3jh0000gp/T/ipykernel_13898/3773548939.py\u001b[0m in \u001b[0;36m<module>\u001b[0;34m\u001b[0m\n\u001b[1;32m      1\u001b[0m \u001b[0;31m# Convert the data from the DataFrame into json format.\u001b[0m\u001b[0;34m\u001b[0m\u001b[0;34m\u001b[0m\u001b[0;34m\u001b[0m\u001b[0m\n\u001b[1;32m      2\u001b[0m \u001b[0;34m\u001b[0m\u001b[0m\n\u001b[0;32m----> 3\u001b[0;31m \u001b[0mres\u001b[0m \u001b[0;34m=\u001b[0m \u001b[0mjson\u001b[0m\u001b[0;34m.\u001b[0m\u001b[0mdumps\u001b[0m\u001b[0;34m(\u001b[0m\u001b[0mdf\u001b[0m\u001b[0;34m)\u001b[0m\u001b[0;34m\u001b[0m\u001b[0;34m\u001b[0m\u001b[0m\n\u001b[0m\u001b[1;32m      4\u001b[0m \u001b[0mres\u001b[0m\u001b[0;34m\u001b[0m\u001b[0;34m\u001b[0m\u001b[0m\n",
      "\u001b[0;32m/opt/anaconda3/lib/python3.8/json/__init__.py\u001b[0m in \u001b[0;36mdumps\u001b[0;34m(obj, skipkeys, ensure_ascii, check_circular, allow_nan, cls, indent, separators, default, sort_keys, **kw)\u001b[0m\n\u001b[1;32m    229\u001b[0m         \u001b[0mcls\u001b[0m \u001b[0;32mis\u001b[0m \u001b[0;32mNone\u001b[0m \u001b[0;32mand\u001b[0m \u001b[0mindent\u001b[0m \u001b[0;32mis\u001b[0m \u001b[0;32mNone\u001b[0m \u001b[0;32mand\u001b[0m \u001b[0mseparators\u001b[0m \u001b[0;32mis\u001b[0m \u001b[0;32mNone\u001b[0m \u001b[0;32mand\u001b[0m\u001b[0;34m\u001b[0m\u001b[0;34m\u001b[0m\u001b[0m\n\u001b[1;32m    230\u001b[0m         default is None and not sort_keys and not kw):\n\u001b[0;32m--> 231\u001b[0;31m         \u001b[0;32mreturn\u001b[0m \u001b[0m_default_encoder\u001b[0m\u001b[0;34m.\u001b[0m\u001b[0mencode\u001b[0m\u001b[0;34m(\u001b[0m\u001b[0mobj\u001b[0m\u001b[0;34m)\u001b[0m\u001b[0;34m\u001b[0m\u001b[0;34m\u001b[0m\u001b[0m\n\u001b[0m\u001b[1;32m    232\u001b[0m     \u001b[0;32mif\u001b[0m \u001b[0mcls\u001b[0m \u001b[0;32mis\u001b[0m \u001b[0;32mNone\u001b[0m\u001b[0;34m:\u001b[0m\u001b[0;34m\u001b[0m\u001b[0;34m\u001b[0m\u001b[0m\n\u001b[1;32m    233\u001b[0m         \u001b[0mcls\u001b[0m \u001b[0;34m=\u001b[0m \u001b[0mJSONEncoder\u001b[0m\u001b[0;34m\u001b[0m\u001b[0;34m\u001b[0m\u001b[0m\n",
      "\u001b[0;32m/opt/anaconda3/lib/python3.8/json/encoder.py\u001b[0m in \u001b[0;36mencode\u001b[0;34m(self, o)\u001b[0m\n\u001b[1;32m    197\u001b[0m         \u001b[0;31m# exceptions aren't as detailed.  The list call should be roughly\u001b[0m\u001b[0;34m\u001b[0m\u001b[0;34m\u001b[0m\u001b[0;34m\u001b[0m\u001b[0m\n\u001b[1;32m    198\u001b[0m         \u001b[0;31m# equivalent to the PySequence_Fast that ''.join() would do.\u001b[0m\u001b[0;34m\u001b[0m\u001b[0;34m\u001b[0m\u001b[0;34m\u001b[0m\u001b[0m\n\u001b[0;32m--> 199\u001b[0;31m         \u001b[0mchunks\u001b[0m \u001b[0;34m=\u001b[0m \u001b[0mself\u001b[0m\u001b[0;34m.\u001b[0m\u001b[0miterencode\u001b[0m\u001b[0;34m(\u001b[0m\u001b[0mo\u001b[0m\u001b[0;34m,\u001b[0m \u001b[0m_one_shot\u001b[0m\u001b[0;34m=\u001b[0m\u001b[0;32mTrue\u001b[0m\u001b[0;34m)\u001b[0m\u001b[0;34m\u001b[0m\u001b[0;34m\u001b[0m\u001b[0m\n\u001b[0m\u001b[1;32m    200\u001b[0m         \u001b[0;32mif\u001b[0m \u001b[0;32mnot\u001b[0m \u001b[0misinstance\u001b[0m\u001b[0;34m(\u001b[0m\u001b[0mchunks\u001b[0m\u001b[0;34m,\u001b[0m \u001b[0;34m(\u001b[0m\u001b[0mlist\u001b[0m\u001b[0;34m,\u001b[0m \u001b[0mtuple\u001b[0m\u001b[0;34m)\u001b[0m\u001b[0;34m)\u001b[0m\u001b[0;34m:\u001b[0m\u001b[0;34m\u001b[0m\u001b[0;34m\u001b[0m\u001b[0m\n\u001b[1;32m    201\u001b[0m             \u001b[0mchunks\u001b[0m \u001b[0;34m=\u001b[0m \u001b[0mlist\u001b[0m\u001b[0;34m(\u001b[0m\u001b[0mchunks\u001b[0m\u001b[0;34m)\u001b[0m\u001b[0;34m\u001b[0m\u001b[0;34m\u001b[0m\u001b[0m\n",
      "\u001b[0;32m/opt/anaconda3/lib/python3.8/json/encoder.py\u001b[0m in \u001b[0;36miterencode\u001b[0;34m(self, o, _one_shot)\u001b[0m\n\u001b[1;32m    255\u001b[0m                 \u001b[0mself\u001b[0m\u001b[0;34m.\u001b[0m\u001b[0mkey_separator\u001b[0m\u001b[0;34m,\u001b[0m \u001b[0mself\u001b[0m\u001b[0;34m.\u001b[0m\u001b[0mitem_separator\u001b[0m\u001b[0;34m,\u001b[0m \u001b[0mself\u001b[0m\u001b[0;34m.\u001b[0m\u001b[0msort_keys\u001b[0m\u001b[0;34m,\u001b[0m\u001b[0;34m\u001b[0m\u001b[0;34m\u001b[0m\u001b[0m\n\u001b[1;32m    256\u001b[0m                 self.skipkeys, _one_shot)\n\u001b[0;32m--> 257\u001b[0;31m         \u001b[0;32mreturn\u001b[0m \u001b[0m_iterencode\u001b[0m\u001b[0;34m(\u001b[0m\u001b[0mo\u001b[0m\u001b[0;34m,\u001b[0m \u001b[0;36m0\u001b[0m\u001b[0;34m)\u001b[0m\u001b[0;34m\u001b[0m\u001b[0;34m\u001b[0m\u001b[0m\n\u001b[0m\u001b[1;32m    258\u001b[0m \u001b[0;34m\u001b[0m\u001b[0m\n\u001b[1;32m    259\u001b[0m def _make_iterencode(markers, _default, _encoder, _indent, _floatstr,\n",
      "\u001b[0;32m/opt/anaconda3/lib/python3.8/json/encoder.py\u001b[0m in \u001b[0;36mdefault\u001b[0;34m(self, o)\u001b[0m\n\u001b[1;32m    177\u001b[0m \u001b[0;34m\u001b[0m\u001b[0m\n\u001b[1;32m    178\u001b[0m         \"\"\"\n\u001b[0;32m--> 179\u001b[0;31m         raise TypeError(f'Object of type {o.__class__.__name__} '\n\u001b[0m\u001b[1;32m    180\u001b[0m                         f'is not JSON serializable')\n\u001b[1;32m    181\u001b[0m \u001b[0;34m\u001b[0m\u001b[0m\n",
      "\u001b[0;31mTypeError\u001b[0m: Object of type DataFrame is not JSON serializable"
     ]
    }
   ],
   "source": [
    "# Convert the data from the DataFrame into json format.\n",
    "\n",
    "res = json.dumps(df)\n",
    "res"
   ]
  },
  {
   "cell_type": "code",
   "execution_count": 39,
   "metadata": {},
   "outputs": [],
   "source": [
    "# dir(df)"
   ]
  },
  {
   "cell_type": "code",
   "execution_count": 60,
   "metadata": {},
   "outputs": [
    {
     "data": {
      "text/plain": [
       "'{\"id\":{\"0\":672,\"1\":675},\"symbol\":{\"0\":\"BRCA1\",\"1\":\"BRCA2\"},\"full_name\":{\"0\":\"BRCA1 DNA repair associated\",\"1\":\"BRCA2 DNA repair associated\"},\"aliases\":{\"0\":[\"IRIS\",\"PSCP\",\"BRCAI\",\"FANCS\",\"PNCA4\",\"RNF53\",\"BROVCA1\",\"PPP1R53\"],\"1\":[\"FAD\",\"FACD\",\"FAD1\",\"GLM3\",\"BRCC2\",\"FANCD\",\"PNCA2\",\"FANCD1\",\"XRCC11\",\"BROVCA2\"]}}'"
      ]
     },
     "execution_count": 60,
     "metadata": {},
     "output_type": "execute_result"
    }
   ],
   "source": [
    "dfj = df.to_json()\n",
    "dfj"
   ]
  },
  {
   "cell_type": "code",
   "execution_count": 45,
   "metadata": {},
   "outputs": [],
   "source": [
    "# help(df.to_json)"
   ]
  },
  {
   "cell_type": "code",
   "execution_count": 43,
   "metadata": {},
   "outputs": [
    {
     "data": {
      "text/plain": [
       "'{\"columns\":[\"id\",\"symbol\",\"full_name\",\"aliases\"],\"index\":[0,1],\"data\":[[672,\"BRCA1\",\"BRCA1 DNA repair associated\",[\"IRIS\",\"PSCP\",\"BRCAI\",\"FANCS\",\"PNCA4\",\"RNF53\",\"BROVCA1\",\"PPP1R53\"]],[675,\"BRCA2\",\"BRCA2 DNA repair associated\",[\"FAD\",\"FACD\",\"FAD1\",\"GLM3\",\"BRCC2\",\"FANCD\",\"PNCA2\",\"FANCD1\",\"XRCC11\",\"BROVCA2\"]]]}'"
      ]
     },
     "execution_count": 43,
     "metadata": {},
     "output_type": "execute_result"
    }
   ],
   "source": [
    "df.to_json(orient=\"split\")"
   ]
  },
  {
   "cell_type": "code",
   "execution_count": 56,
   "metadata": {},
   "outputs": [
    {
     "data": {
      "text/plain": [
       "'[{\"id\":672,\"symbol\":\"BRCA1\",\"full_name\":\"BRCA1 DNA repair associated\",\"aliases\":[\"IRIS\",\"PSCP\",\"BRCAI\",\"FANCS\",\"PNCA4\",\"RNF53\",\"BROVCA1\",\"PPP1R53\"]},{\"id\":675,\"symbol\":\"BRCA2\",\"full_name\":\"BRCA2 DNA repair associated\",\"aliases\":[\"FAD\",\"FACD\",\"FAD1\",\"GLM3\",\"BRCC2\",\"FANCD\",\"PNCA2\",\"FANCD1\",\"XRCC11\",\"BROVCA2\"]}]'"
      ]
     },
     "execution_count": 56,
     "metadata": {},
     "output_type": "execute_result"
    }
   ],
   "source": [
    "dfj = df.to_json(orient = \"records\")\n",
    "dfj"
   ]
  },
  {
   "cell_type": "code",
   "execution_count": 66,
   "metadata": {},
   "outputs": [],
   "source": [
    "with open(\"df.json\", \"w\") as df_file: \n",
    "     json.dump(json.loads(dfj), df_file) "
   ]
  },
  {
   "cell_type": "code",
   "execution_count": 61,
   "metadata": {},
   "outputs": [],
   "source": [
    "# help(json.dump)"
   ]
  },
  {
   "cell_type": "code",
   "execution_count": 67,
   "metadata": {},
   "outputs": [
    {
     "data": {
      "text/plain": [
       "{'id': {'0': 672, '1': 675},\n",
       " 'symbol': {'0': 'BRCA1', '1': 'BRCA2'},\n",
       " 'full_name': {'0': 'BRCA1 DNA repair associated',\n",
       "  '1': 'BRCA2 DNA repair associated'},\n",
       " 'aliases': {'0': ['IRIS',\n",
       "   'PSCP',\n",
       "   'BRCAI',\n",
       "   'FANCS',\n",
       "   'PNCA4',\n",
       "   'RNF53',\n",
       "   'BROVCA1',\n",
       "   'PPP1R53'],\n",
       "  '1': ['FAD',\n",
       "   'FACD',\n",
       "   'FAD1',\n",
       "   'GLM3',\n",
       "   'BRCC2',\n",
       "   'FANCD',\n",
       "   'PNCA2',\n",
       "   'FANCD1',\n",
       "   'XRCC11',\n",
       "   'BROVCA2']}}"
      ]
     },
     "execution_count": 67,
     "metadata": {},
     "output_type": "execute_result"
    }
   ],
   "source": [
    "with open(\"df.json\") as df_file: \n",
    "    df_jsn = json.load(df_file) \n",
    "df_jsn"
   ]
  },
  {
   "cell_type": "code",
   "execution_count": 68,
   "metadata": {},
   "outputs": [
    {
     "data": {
      "text/html": [
       "<div>\n",
       "<style scoped>\n",
       "    .dataframe tbody tr th:only-of-type {\n",
       "        vertical-align: middle;\n",
       "    }\n",
       "\n",
       "    .dataframe tbody tr th {\n",
       "        vertical-align: top;\n",
       "    }\n",
       "\n",
       "    .dataframe thead th {\n",
       "        text-align: right;\n",
       "    }\n",
       "</style>\n",
       "<table border=\"1\" class=\"dataframe\">\n",
       "  <thead>\n",
       "    <tr style=\"text-align: right;\">\n",
       "      <th></th>\n",
       "      <th>id</th>\n",
       "      <th>symbol</th>\n",
       "      <th>full_name</th>\n",
       "      <th>aliases</th>\n",
       "    </tr>\n",
       "  </thead>\n",
       "  <tbody>\n",
       "    <tr>\n",
       "      <th>0</th>\n",
       "      <td>672</td>\n",
       "      <td>BRCA1</td>\n",
       "      <td>BRCA1 DNA repair associated</td>\n",
       "      <td>[IRIS, PSCP, BRCAI, FANCS, PNCA4, RNF53, BROVC...</td>\n",
       "    </tr>\n",
       "    <tr>\n",
       "      <th>1</th>\n",
       "      <td>675</td>\n",
       "      <td>BRCA2</td>\n",
       "      <td>BRCA2 DNA repair associated</td>\n",
       "      <td>[FAD, FACD, FAD1, GLM3, BRCC2, FANCD, PNCA2, F...</td>\n",
       "    </tr>\n",
       "  </tbody>\n",
       "</table>\n",
       "</div>"
      ],
      "text/plain": [
       "    id symbol                    full_name  \\\n",
       "0  672  BRCA1  BRCA1 DNA repair associated   \n",
       "1  675  BRCA2  BRCA2 DNA repair associated   \n",
       "\n",
       "                                             aliases  \n",
       "0  [IRIS, PSCP, BRCAI, FANCS, PNCA4, RNF53, BROVC...  \n",
       "1  [FAD, FACD, FAD1, GLM3, BRCC2, FANCD, PNCA2, F...  "
      ]
     },
     "execution_count": 68,
     "metadata": {},
     "output_type": "execute_result"
    }
   ],
   "source": [
    "pd.read_json(\"df.json\")"
   ]
  },
  {
   "cell_type": "code",
   "execution_count": 65,
   "metadata": {},
   "outputs": [],
   "source": [
    "# help(pd.read_json)"
   ]
  },
  {
   "cell_type": "code",
   "execution_count": null,
   "metadata": {},
   "outputs": [],
   "source": [
    "ls27Sd01"
   ]
  }
 ],
 "metadata": {
  "kernelspec": {
   "display_name": "Python 3 (ipykernel)",
   "language": "python",
   "name": "python3"
  },
  "language_info": {
   "codemirror_mode": {
    "name": "ipython",
    "version": 3
   },
   "file_extension": ".py",
   "mimetype": "text/x-python",
   "name": "python",
   "nbconvert_exporter": "python",
   "pygments_lexer": "ipython3",
   "version": "3.8.10"
  }
 },
 "nbformat": 4,
 "nbformat_minor": 4
}
