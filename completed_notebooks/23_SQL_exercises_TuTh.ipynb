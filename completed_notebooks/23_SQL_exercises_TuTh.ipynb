{
 "cells": [
  {
   "cell_type": "markdown",
   "metadata": {
    "tags": []
   },
   "source": [
    "## SQL exercises\n",
    "### BIOINF 575 - Fall 2021\n",
    "\n"
   ]
  },
  {
   "cell_type": "markdown",
   "metadata": {},
   "source": [
    "The. ALTER TABLE command: Changing a table without having to remove it and recreate it.   \n",
    "A table can be ALTERED to:\n",
    "* RENAME the TABLE\n",
    "* RENAME a COLUMN\n",
    "* ADD a COLUMN\n",
    "* DROP a COLUMN\n",
    "\n",
    "Detailed diagram of the command available at:   \n",
    "https://www.sqlite.org/lang_altertable.html\n",
    "\n",
    "Examples available at:   \n",
    "https://www.sqlitetutorial.net/sqlite-alter-table/    \n",
    "https://www.tutorialspoint.com/sqlite/sqlite_alter_command.htm    \n",
    "https://www.geeksforgeeks.org/how-to-alter-a-sqlite-table-using-python/"
   ]
  },
  {
   "cell_type": "code",
   "execution_count": null,
   "metadata": {},
   "outputs": [],
   "source": []
  },
  {
   "cell_type": "markdown",
   "metadata": {},
   "source": [
    "___\n",
    "\n",
    "<b> <font color = \"red\">Exercise</font></b>\n",
    "\n",
    "#### Create a database for genes and gene aliases\n",
    "\n",
    "Create a SQLite database with a genes table, and a gene_aliases table.   \n",
    "The genes table should have the following columns: gene_id, gene_symbol, the gene_description, start, stop.     \n",
    "The gene_aliases table should have the following columns: alias_id, gene_id and the alias.   \n",
    "Create an index on the column gene_id in the table gene_aliases.\n"
   ]
  },
  {
   "cell_type": "code",
   "execution_count": 2,
   "metadata": {},
   "outputs": [],
   "source": [
    "from sqlite3 import connect\n",
    "connection  = connect(\"genes_information.sqlite\")\n",
    "cursor = connection.cursor()\n"
   ]
  },
  {
   "cell_type": "code",
   "execution_count": 3,
   "metadata": {},
   "outputs": [
    {
     "name": "stdout",
     "output_type": "stream",
     "text": [
      "done!\n"
     ]
    }
   ],
   "source": [
    "sql='''\n",
    "CREATE TABLE IF NOT EXISTS genes (\n",
    "      gene_id INTEGER PRIMARY KEY AUTOINCREMENT,\n",
    "      gene_symbol TEXT NOT NULL,\n",
    "      gene_description TEXT NOT NULL,\n",
    "      start BIGINT NOT NULL,                     \n",
    "      stop BIGINT NOT NULL\n",
    "    );\n",
    "'''\n",
    "try:\n",
    "    cursor.execute(sql)\n",
    "except connection.DatabaseError:\n",
    "    print(\"Creating the genes table resulted in a database error!\")\n",
    "    connection.rollback()\n",
    "    raise\n",
    "else:\n",
    "    connection.commit()\n",
    "finally:\n",
    "    print(\"done!\")"
   ]
  },
  {
   "cell_type": "code",
   "execution_count": 4,
   "metadata": {},
   "outputs": [
    {
     "data": {
      "text/plain": [
       "[('genes', 'table'), ('sqlite_sequence', 'table')]"
      ]
     },
     "execution_count": 4,
     "metadata": {},
     "output_type": "execute_result"
    }
   ],
   "source": [
    "select_master = \"SELECT name, type FROM sqlite_master;\"\n",
    "cursor.execute(select_master)\n",
    "cursor.fetchall()"
   ]
  },
  {
   "cell_type": "code",
   "execution_count": 5,
   "metadata": {},
   "outputs": [
    {
     "name": "stdout",
     "output_type": "stream",
     "text": [
      "done!\n"
     ]
    }
   ],
   "source": [
    "# The gene_aliases table should have the following columns: alias_id, gene_id and the alias.\n",
    "\n",
    "create_gene_aliases='''\n",
    "CREATE TABLE IF NOT EXISTS gene_aliases (\n",
    "      alias_id INTEGER PRIMARY KEY AUTOINCREMENT,\n",
    "      gene_id INTEGER NOT NULL,                             -- REFERENCES  gene_id in the genes table\n",
    "      alias TEXT NOT NULL, \n",
    "      FOREIGN KEY (gene_id) REFERENCES  genes  (gene_id)\n",
    "    );\n",
    "'''\n",
    "try:\n",
    "    cursor.execute(create_gene_aliases)\n",
    "except connection.DatabaseError:\n",
    "    print(\"Creating the gene_aliases table resulted in a database error!\")\n",
    "    connection.rollback()\n",
    "    raise\n",
    "else:\n",
    "    connection.commit()\n",
    "finally:\n",
    "    print(\"done!\")"
   ]
  },
  {
   "cell_type": "code",
   "execution_count": 6,
   "metadata": {},
   "outputs": [
    {
     "data": {
      "text/plain": [
       "[('genes', 'table'), ('sqlite_sequence', 'table'), ('gene_aliases', 'table')]"
      ]
     },
     "execution_count": 6,
     "metadata": {},
     "output_type": "execute_result"
    }
   ],
   "source": [
    "# select_master = \"SELECT name, type FROM sqlite_master;\"\n",
    "cursor.execute(select_master)\n",
    "cursor.fetchall()"
   ]
  },
  {
   "cell_type": "code",
   "execution_count": 7,
   "metadata": {},
   "outputs": [],
   "source": [
    "create_index_ga_geneid = '''\n",
    "CREATE INDEX idx_gene_aliases_gene_id\n",
    "ON gene_aliases (gene_id)\n",
    "'''\n",
    "cursor.execute(create_index_ga_geneid)\n",
    "connection.commit()"
   ]
  },
  {
   "cell_type": "code",
   "execution_count": 8,
   "metadata": {},
   "outputs": [
    {
     "data": {
      "text/plain": [
       "[('genes', 'table'),\n",
       " ('sqlite_sequence', 'table'),\n",
       " ('gene_aliases', 'table'),\n",
       " ('idx_gene_aliases_gene_id', 'index')]"
      ]
     },
     "execution_count": 8,
     "metadata": {},
     "output_type": "execute_result"
    }
   ],
   "source": [
    "cursor.execute(select_master)\n",
    "cursor.fetchall()"
   ]
  },
  {
   "cell_type": "markdown",
   "metadata": {
    "tags": []
   },
   "source": [
    "___\n",
    "\n",
    "<b> <font color = \"red\">Exercise</font></b>\n",
    "\n",
    "#### Populate a database \n",
    "\n",
    "Insert data into tables in the genes and gene aliases database you just created.   \n",
    "Use the data from the file `genes_aliases.txt`.\n"
   ]
  },
  {
   "cell_type": "code",
   "execution_count": 24,
   "metadata": {},
   "outputs": [],
   "source": [
    "insert_genes = \"\"\"\n",
    "INSERT INTO genes (gene_symbol, gene_description, start, stop) \n",
    "VALUES (?,?,?,?);\n",
    "\"\"\"\n",
    "\n",
    "insert_gene_aliases = \"\"\"\n",
    "INSERT INTO gene_aliases (gene_id, alias) \n",
    "VALUES (?,?);\n",
    "\"\"\"\n",
    "\n",
    "with open(\"genes_aliases.txt\") as genes_file:\n",
    "    headerline = genes_file.readline().strip()\n",
    "    # print(headerline)\n",
    "    for line in genes_file:\n",
    "        line_list = line.strip().split(\"\\t\")\n",
    "        gene_symbol = line_list[0]\n",
    "        gene_aliases = line_list[1]\n",
    "        gene_description = line_list[2]\n",
    "        gene_start = int(line_list[4])\n",
    "        gene_stop = int(line_list[5])\n",
    "        gene_data = (gene_symbol, gene_description, gene_start, gene_stop)\n",
    "        cursor.execute(insert_genes, gene_data)\n",
    "        #print(gene_aliases)\n",
    "        gene_id = 1 # this needs to be updated\n",
    "        for alias in gene_aliases.split(\",\"):\n",
    "            alias_data = (gene_id, alias.strip())\n",
    "            cursor.execute(insert_gene_aliases, alias_data)\n",
    "        \n",
    "        break"
   ]
  },
  {
   "cell_type": "code",
   "execution_count": 25,
   "metadata": {},
   "outputs": [
    {
     "data": {
      "text/plain": [
       "[(1, 'TERT', 'telomerase reverse transcriptase', 1253167, 1295068)]"
      ]
     },
     "execution_count": 25,
     "metadata": {},
     "output_type": "execute_result"
    }
   ],
   "source": [
    "select_genes = \"SELECT * FROM genes;\"\n",
    "cursor.execute(select_genes)\n",
    "cursor.fetchall()"
   ]
  },
  {
   "cell_type": "code",
   "execution_count": 26,
   "metadata": {},
   "outputs": [
    {
     "data": {
      "text/plain": [
       "[(1, 1, 'CMM9'),\n",
       " (2, 1, 'DKCA2'),\n",
       " (3, 1, 'DKCB4'),\n",
       " (4, 1, 'EST2'),\n",
       " (5, 1, 'PFBMFT1'),\n",
       " (6, 1, 'TCS1'),\n",
       " (7, 1, 'TP2'),\n",
       " (8, 1, 'TRT'),\n",
       " (9, 1, 'hEST2'),\n",
       " (10, 1, 'hTRT')]"
      ]
     },
     "execution_count": 26,
     "metadata": {},
     "output_type": "execute_result"
    }
   ],
   "source": [
    "select_gene_aliases = \"SELECT * FROM gene_aliases;\"\n",
    "cursor.execute(select_gene_aliases)\n",
    "cursor.fetchall()"
   ]
  },
  {
   "cell_type": "code",
   "execution_count": 27,
   "metadata": {},
   "outputs": [],
   "source": [
    "connection.rollback()"
   ]
  },
  {
   "cell_type": "code",
   "execution_count": 28,
   "metadata": {},
   "outputs": [
    {
     "data": {
      "text/plain": [
       "[]"
      ]
     },
     "execution_count": 28,
     "metadata": {},
     "output_type": "execute_result"
    }
   ],
   "source": [
    "cursor.execute(select_genes)\n",
    "cursor.fetchall()"
   ]
  },
  {
   "cell_type": "code",
   "execution_count": 29,
   "metadata": {},
   "outputs": [
    {
     "data": {
      "text/plain": [
       "[]"
      ]
     },
     "execution_count": 29,
     "metadata": {},
     "output_type": "execute_result"
    }
   ],
   "source": [
    "cursor.execute(select_gene_aliases)\n",
    "cursor.fetchall()"
   ]
  },
  {
   "cell_type": "code",
   "execution_count": null,
   "metadata": {},
   "outputs": [],
   "source": []
  },
  {
   "cell_type": "code",
   "execution_count": 30,
   "metadata": {},
   "outputs": [],
   "source": [
    "insert_genes = \"\"\"\n",
    "INSERT INTO genes (gene_symbol, gene_description, start, stop) \n",
    "VALUES (?,?,?,?);\n",
    "\"\"\"\n",
    "\n",
    "insert_gene_aliases = \"\"\"\n",
    "INSERT INTO gene_aliases (gene_id, alias) \n",
    "VALUES (?,?);\n",
    "\"\"\"\n",
    "\n",
    "with open(\"genes_aliases.txt\") as genes_file:\n",
    "    headerline = genes_file.readline().strip()\n",
    "    # print(headerline)\n",
    "    for line in genes_file:\n",
    "        line_list = line.strip().split(\"\\t\")\n",
    "        gene_symbol = line_list[0]\n",
    "        gene_aliases = line_list[1]\n",
    "        gene_description = line_list[2]\n",
    "        gene_start = int(line_list[4])\n",
    "        gene_stop = int(line_list[5])\n",
    "        gene_data = (gene_symbol, gene_description, gene_start, gene_stop)\n",
    "        cursor.execute(insert_genes, gene_data)\n",
    "        #print(gene_aliases)\n",
    "        gene_id = 1 # this needs to be updated\n",
    "        for alias in gene_aliases.split(\",\"):\n",
    "            alias_data = (gene_id, alias.strip())\n",
    "            cursor.execute(insert_gene_aliases, alias_data)\n",
    "        \n",
    "        # break"
   ]
  },
  {
   "cell_type": "code",
   "execution_count": 31,
   "metadata": {},
   "outputs": [
    {
     "data": {
      "text/plain": [
       "[(1, 'TERT', 'telomerase reverse transcriptase', 1253167, 1295068),\n",
       " (2, 'TP63', 'tumor protein p63', 189596746, 189897276),\n",
       " (3,\n",
       "  'CHRNA5',\n",
       "  'cholinergic receptor nicotinic alpha 5 subunit',\n",
       "  78565520,\n",
       "  78595269),\n",
       " (4, 'CADM1', 'cell adhesion molecule 1', 115169236, 115504428),\n",
       " (5,\n",
       "  'CHRNA3',\n",
       "  'cholinergic receptor nicotinic alpha 3 subunit',\n",
       "  78593052,\n",
       "  78620996),\n",
       " (6, 'RACK1', 'receptor for activated C kinase 1', 181236897, 181243906)]"
      ]
     },
     "execution_count": 31,
     "metadata": {},
     "output_type": "execute_result"
    }
   ],
   "source": [
    "cursor.execute(select_genes)\n",
    "cursor.fetchall()"
   ]
  },
  {
   "cell_type": "code",
   "execution_count": 32,
   "metadata": {},
   "outputs": [
    {
     "data": {
      "text/plain": [
       "[(1, 1, 'CMM9'),\n",
       " (2, 1, 'DKCA2'),\n",
       " (3, 1, 'DKCB4'),\n",
       " (4, 1, 'EST2'),\n",
       " (5, 1, 'PFBMFT1'),\n",
       " (6, 1, 'TCS1'),\n",
       " (7, 1, 'TP2'),\n",
       " (8, 1, 'TRT'),\n",
       " (9, 1, 'hEST2'),\n",
       " (10, 1, 'hTRT'),\n",
       " (11, 1, 'AIS'),\n",
       " (12, 1, 'B(p51A)'),\n",
       " (13, 1, 'B(p51B)'),\n",
       " (14, 1, 'EEC3'),\n",
       " (15, 1, 'KET'),\n",
       " (16, 1, 'LMS'),\n",
       " (17, 1, 'NBP'),\n",
       " (18, 1, 'OFC8'),\n",
       " (19, 1, 'RHS'),\n",
       " (20, 1, 'SHFM4'),\n",
       " (21, 1, 'TP53CP'),\n",
       " (22, 1, 'TP53L'),\n",
       " (23, 1, 'TP73L'),\n",
       " (24, 1, 'p40'),\n",
       " (25, 1, 'p51'),\n",
       " (26, 1, 'p53CP'),\n",
       " (27, 1, 'p63'),\n",
       " (28, 1, 'p73H'),\n",
       " (29, 1, 'p73L'),\n",
       " (30, 1, 'LNCR2'),\n",
       " (31, 1, 'BL2'),\n",
       " (32, 1, 'IGSF4'),\n",
       " (33, 1, 'IGSF4A'),\n",
       " (34, 1, 'NECL2'),\n",
       " (35, 1, 'Necl-2'),\n",
       " (36, 1, 'RA175'),\n",
       " (37, 1, 'ST17'),\n",
       " (38, 1, 'SYNCAM'),\n",
       " (39, 1, 'TSLC1'),\n",
       " (40, 1, 'sTSLC-1'),\n",
       " (41, 1, 'sgIGSF'),\n",
       " (42, 1, 'synCAM1'),\n",
       " (43, 1, 'BAIPRCK'),\n",
       " (44, 1, 'LNCR2'),\n",
       " (45, 1, 'NACHRA3'),\n",
       " (46, 1, 'PAOD2'),\n",
       " (47, 1, 'GNB2L1'),\n",
       " (48, 1, 'Gnb2-rs1'),\n",
       " (49, 1, 'H12.3'),\n",
       " (50, 1, 'HLC-7'),\n",
       " (51, 1, 'PIG21')]"
      ]
     },
     "execution_count": 32,
     "metadata": {},
     "output_type": "execute_result"
    }
   ],
   "source": [
    "cursor.execute(select_gene_aliases)\n",
    "cursor.fetchall()"
   ]
  },
  {
   "cell_type": "code",
   "execution_count": 33,
   "metadata": {},
   "outputs": [],
   "source": [
    "connection.commit()"
   ]
  },
  {
   "cell_type": "code",
   "execution_count": 34,
   "metadata": {},
   "outputs": [
    {
     "data": {
      "text/plain": [
       "<sqlite3.Cursor at 0x10aeb7420>"
      ]
     },
     "execution_count": 34,
     "metadata": {},
     "output_type": "execute_result"
    }
   ],
   "source": [
    "delete_gene_aliases = \"DELETE FROM gene_aliases;\"\n",
    "cursor.execute(delete_gene_aliases)"
   ]
  },
  {
   "cell_type": "code",
   "execution_count": 35,
   "metadata": {},
   "outputs": [],
   "source": [
    "connection.commit()"
   ]
  },
  {
   "cell_type": "code",
   "execution_count": 37,
   "metadata": {},
   "outputs": [],
   "source": [
    "delete_genes = \"DELETE FROM genes;\"\n",
    "cursor.execute(delete_genes)\n",
    "connection.commit()"
   ]
  },
  {
   "cell_type": "code",
   "execution_count": 38,
   "metadata": {},
   "outputs": [
    {
     "data": {
      "text/plain": [
       "[]"
      ]
     },
     "execution_count": 38,
     "metadata": {},
     "output_type": "execute_result"
    }
   ],
   "source": [
    "cursor.execute(select_genes)\n",
    "cursor.fetchall()"
   ]
  },
  {
   "cell_type": "code",
   "execution_count": 39,
   "metadata": {},
   "outputs": [
    {
     "data": {
      "text/plain": [
       "[]"
      ]
     },
     "execution_count": 39,
     "metadata": {},
     "output_type": "execute_result"
    }
   ],
   "source": [
    "cursor.execute(select_gene_aliases)\n",
    "cursor.fetchall()"
   ]
  },
  {
   "cell_type": "code",
   "execution_count": 40,
   "metadata": {},
   "outputs": [],
   "source": [
    "insert_genes = \"\"\"\n",
    "INSERT INTO genes (gene_symbol, gene_description, start, stop) \n",
    "VALUES (?,?,?,?);\n",
    "\"\"\"\n",
    "\n",
    "insert_gene_aliases = \"\"\"\n",
    "INSERT INTO gene_aliases (gene_id, alias) \n",
    "VALUES (?,?);\n",
    "\"\"\"\n",
    "\n",
    "with open(\"genes_aliases.txt\") as genes_file:\n",
    "    headerline = genes_file.readline().strip()\n",
    "    # print(headerline)\n",
    "    for line in genes_file:\n",
    "        line_list = line.strip().split(\"\\t\")\n",
    "        gene_symbol = line_list[0]\n",
    "        gene_aliases = line_list[1]\n",
    "        gene_description = line_list[2]\n",
    "        gene_start = int(line_list[4])\n",
    "        gene_stop = int(line_list[5])\n",
    "        gene_data = (gene_symbol, gene_description, gene_start, gene_stop)\n",
    "        cursor.execute(insert_genes, gene_data)\n",
    "        #print(gene_aliases)\n",
    "        gene_id = cursor.lastrowid # this needs to be updated\n",
    "        for alias in gene_aliases.split(\",\"):\n",
    "            alias_data = (gene_id, alias.strip())\n",
    "            cursor.execute(insert_gene_aliases, alias_data)\n",
    "        \n",
    "        # break"
   ]
  },
  {
   "cell_type": "code",
   "execution_count": 41,
   "metadata": {},
   "outputs": [
    {
     "data": {
      "text/plain": [
       "[(7, 'TERT', 'telomerase reverse transcriptase', 1253167, 1295068),\n",
       " (8, 'TP63', 'tumor protein p63', 189596746, 189897276),\n",
       " (9,\n",
       "  'CHRNA5',\n",
       "  'cholinergic receptor nicotinic alpha 5 subunit',\n",
       "  78565520,\n",
       "  78595269),\n",
       " (10, 'CADM1', 'cell adhesion molecule 1', 115169236, 115504428),\n",
       " (11,\n",
       "  'CHRNA3',\n",
       "  'cholinergic receptor nicotinic alpha 3 subunit',\n",
       "  78593052,\n",
       "  78620996),\n",
       " (12, 'RACK1', 'receptor for activated C kinase 1', 181236897, 181243906)]"
      ]
     },
     "execution_count": 41,
     "metadata": {},
     "output_type": "execute_result"
    }
   ],
   "source": [
    "cursor.execute(select_genes)\n",
    "cursor.fetchall()"
   ]
  },
  {
   "cell_type": "code",
   "execution_count": 42,
   "metadata": {},
   "outputs": [
    {
     "data": {
      "text/plain": [
       "[(52, 7, 'CMM9'),\n",
       " (53, 7, 'DKCA2'),\n",
       " (54, 7, 'DKCB4'),\n",
       " (55, 7, 'EST2'),\n",
       " (56, 7, 'PFBMFT1'),\n",
       " (57, 7, 'TCS1'),\n",
       " (58, 7, 'TP2'),\n",
       " (59, 7, 'TRT'),\n",
       " (60, 7, 'hEST2'),\n",
       " (61, 7, 'hTRT'),\n",
       " (62, 8, 'AIS'),\n",
       " (63, 8, 'B(p51A)'),\n",
       " (64, 8, 'B(p51B)'),\n",
       " (65, 8, 'EEC3'),\n",
       " (66, 8, 'KET'),\n",
       " (67, 8, 'LMS'),\n",
       " (68, 8, 'NBP'),\n",
       " (69, 8, 'OFC8'),\n",
       " (70, 8, 'RHS'),\n",
       " (71, 8, 'SHFM4'),\n",
       " (72, 8, 'TP53CP'),\n",
       " (73, 8, 'TP53L'),\n",
       " (74, 8, 'TP73L'),\n",
       " (75, 8, 'p40'),\n",
       " (76, 8, 'p51'),\n",
       " (77, 8, 'p53CP'),\n",
       " (78, 8, 'p63'),\n",
       " (79, 8, 'p73H'),\n",
       " (80, 8, 'p73L'),\n",
       " (81, 9, 'LNCR2'),\n",
       " (82, 10, 'BL2'),\n",
       " (83, 10, 'IGSF4'),\n",
       " (84, 10, 'IGSF4A'),\n",
       " (85, 10, 'NECL2'),\n",
       " (86, 10, 'Necl-2'),\n",
       " (87, 10, 'RA175'),\n",
       " (88, 10, 'ST17'),\n",
       " (89, 10, 'SYNCAM'),\n",
       " (90, 10, 'TSLC1'),\n",
       " (91, 10, 'sTSLC-1'),\n",
       " (92, 10, 'sgIGSF'),\n",
       " (93, 10, 'synCAM1'),\n",
       " (94, 11, 'BAIPRCK'),\n",
       " (95, 11, 'LNCR2'),\n",
       " (96, 11, 'NACHRA3'),\n",
       " (97, 11, 'PAOD2'),\n",
       " (98, 12, 'GNB2L1'),\n",
       " (99, 12, 'Gnb2-rs1'),\n",
       " (100, 12, 'H12.3'),\n",
       " (101, 12, 'HLC-7'),\n",
       " (102, 12, 'PIG21')]"
      ]
     },
     "execution_count": 42,
     "metadata": {},
     "output_type": "execute_result"
    }
   ],
   "source": [
    "cursor.execute(select_gene_aliases)\n",
    "cursor.fetchall()"
   ]
  },
  {
   "cell_type": "code",
   "execution_count": 43,
   "metadata": {},
   "outputs": [],
   "source": [
    "connection.commit()"
   ]
  },
  {
   "cell_type": "markdown",
   "metadata": {
    "tags": []
   },
   "source": [
    "___\n",
    "\n",
    "<b> <font color = \"red\">Exercise</font></b>\n",
    "\n",
    "#### Query a database \n",
    "\n",
    "How many genes we have?  \n",
    "How many aliases we have?  \n",
    "Retrieve the aliases for gene TP63. In the result, display the gene symbol and the alias.    \n",
    "How many aliases are associated which each gene? In the result, display the gene symbol and the count.\n"
   ]
  },
  {
   "cell_type": "code",
   "execution_count": 45,
   "metadata": {},
   "outputs": [],
   "source": [
    "def get_header(cursor):\n",
    "    '''\n",
    "    Makes a tab delimited header row from the cursor description.\n",
    "    Arguments:\n",
    "        cursor: a cursor after a select query\n",
    "    Returns:\n",
    "        string: A string consisting of the column names separated by tabs, no new line\n",
    "    '''\n",
    "    return '\\t'.join([row[0] for row in cursor.description])\n",
    "\n"
   ]
  },
  {
   "cell_type": "code",
   "execution_count": 46,
   "metadata": {},
   "outputs": [],
   "source": [
    "# note that if you have a large result \n",
    "# this function will try to make a very large string from it\n",
    "# so it is recommended for results with less than 10 rows and 10 columns\n",
    "# for other cases use the for loop to go through the rows in the result \n",
    "\n",
    "def get_results(cursor):\n",
    "    '''\n",
    "    Makes a tab delimited table from the cursor results.\n",
    "    Arguments:\n",
    "        cursor: a cursor after a select query\n",
    "    Returns:\n",
    "        string: A string consisting of the column names separated by tabs, no new line\n",
    "    ''' \n",
    "    res = list()\n",
    "    for row in cursor.fetchall():        \n",
    "        res.append('\\t'.join(list(map(str,row))))\n",
    "    return \"\\n\".join(res)"
   ]
  },
  {
   "cell_type": "code",
   "execution_count": null,
   "metadata": {},
   "outputs": [],
   "source": []
  },
  {
   "cell_type": "code",
   "execution_count": 47,
   "metadata": {},
   "outputs": [
    {
     "name": "stdout",
     "output_type": "stream",
     "text": [
      "alias_id\tgene_id\talias\n",
      "52\t7\tCMM9\n",
      "53\t7\tDKCA2\n",
      "54\t7\tDKCB4\n",
      "55\t7\tEST2\n",
      "56\t7\tPFBMFT1\n",
      "57\t7\tTCS1\n",
      "58\t7\tTP2\n",
      "59\t7\tTRT\n",
      "60\t7\thEST2\n",
      "61\t7\thTRT\n",
      "62\t8\tAIS\n",
      "63\t8\tB(p51A)\n",
      "64\t8\tB(p51B)\n",
      "65\t8\tEEC3\n",
      "66\t8\tKET\n",
      "67\t8\tLMS\n",
      "68\t8\tNBP\n",
      "69\t8\tOFC8\n",
      "70\t8\tRHS\n",
      "71\t8\tSHFM4\n",
      "72\t8\tTP53CP\n",
      "73\t8\tTP53L\n",
      "74\t8\tTP73L\n",
      "75\t8\tp40\n",
      "76\t8\tp51\n",
      "77\t8\tp53CP\n",
      "78\t8\tp63\n",
      "79\t8\tp73H\n",
      "80\t8\tp73L\n",
      "81\t9\tLNCR2\n",
      "82\t10\tBL2\n",
      "83\t10\tIGSF4\n",
      "84\t10\tIGSF4A\n",
      "85\t10\tNECL2\n",
      "86\t10\tNecl-2\n",
      "87\t10\tRA175\n",
      "88\t10\tST17\n",
      "89\t10\tSYNCAM\n",
      "90\t10\tTSLC1\n",
      "91\t10\tsTSLC-1\n",
      "92\t10\tsgIGSF\n",
      "93\t10\tsynCAM1\n",
      "94\t11\tBAIPRCK\n",
      "95\t11\tLNCR2\n",
      "96\t11\tNACHRA3\n",
      "97\t11\tPAOD2\n",
      "98\t12\tGNB2L1\n",
      "99\t12\tGnb2-rs1\n",
      "100\t12\tH12.3\n",
      "101\t12\tHLC-7\n",
      "102\t12\tPIG21\n"
     ]
    }
   ],
   "source": [
    "cursor.execute(select_gene_aliases)\n",
    "print(get_header(cursor))\n",
    "print(get_results(cursor))"
   ]
  },
  {
   "cell_type": "code",
   "execution_count": 48,
   "metadata": {},
   "outputs": [
    {
     "name": "stdout",
     "output_type": "stream",
     "text": [
      "count(*)\n",
      "6\n"
     ]
    }
   ],
   "source": [
    "select_genes_no = \" SELECT count(*) FROM genes;\"\n",
    "\n",
    "cursor.execute(select_genes_no)\n",
    "print(get_header(cursor))\n",
    "print(get_results(cursor))"
   ]
  },
  {
   "cell_type": "code",
   "execution_count": 49,
   "metadata": {},
   "outputs": [
    {
     "name": "stdout",
     "output_type": "stream",
     "text": [
      "aliases_no\n",
      "51\n"
     ]
    }
   ],
   "source": [
    "select_gene_aliases_no = \" SELECT count(*) aliases_no FROM gene_aliases;\"\n",
    "\n",
    "cursor.execute(select_gene_aliases_no)\n",
    "print(get_header(cursor))\n",
    "print(get_results(cursor))"
   ]
  },
  {
   "cell_type": "code",
   "execution_count": 52,
   "metadata": {},
   "outputs": [
    {
     "name": "stdout",
     "output_type": "stream",
     "text": [
      "gene_symbol\talias\n",
      "TP63\tAIS\n",
      "TP63\tB(p51A)\n",
      "TP63\tB(p51B)\n",
      "TP63\tEEC3\n",
      "TP63\tKET\n",
      "TP63\tLMS\n",
      "TP63\tNBP\n",
      "TP63\tOFC8\n",
      "TP63\tRHS\n",
      "TP63\tSHFM4\n",
      "TP63\tTP53CP\n",
      "TP63\tTP53L\n",
      "TP63\tTP73L\n",
      "TP63\tp40\n",
      "TP63\tp51\n",
      "TP63\tp53CP\n",
      "TP63\tp63\n",
      "TP63\tp73H\n",
      "TP63\tp73L\n"
     ]
    }
   ],
   "source": [
    "# Retrieve the aliases for gene TP63. In the result, display the gene symbol and the alias.    \n",
    "\n",
    "select_TP63_aliases = \"\"\"\n",
    "SELECT gene_symbol, alias\n",
    "FROM genes g\n",
    "INNER JOIN gene_aliases ga ON g.gene_id = ga.gene_id\n",
    "WHERE gene_symbol = 'TP63';\n",
    "\"\"\"\n",
    "\n",
    "cursor.execute(select_TP63_aliases)\n",
    "print(get_header(cursor))\n",
    "print(get_results(cursor))"
   ]
  },
  {
   "cell_type": "code",
   "execution_count": 56,
   "metadata": {},
   "outputs": [
    {
     "name": "stdout",
     "output_type": "stream",
     "text": [
      "gene_symbol\tcount(alias)\n",
      "CADM1\t12\n",
      "CHRNA3\t4\n",
      "CHRNA5\t1\n",
      "RACK1\t5\n",
      "TERT\t10\n",
      "TP63\t19\n"
     ]
    }
   ],
   "source": [
    "# How many aliases are associated which each gene? In the result, display the gene symbol and the count.\n",
    "\n",
    "select_aliasNo_per_gene = \"\"\"\n",
    "SELECT gene_symbol, count(alias)\n",
    "FROM genes g\n",
    "JOIN gene_aliases ga ON g.gene_id = ga.gene_id\n",
    "GROUP BY gene_symbol\n",
    "\"\"\"\n",
    "\n",
    "cursor.execute(select_aliasNo_per_gene)\n",
    "print(get_header(cursor))\n",
    "print(get_results(cursor))"
   ]
  },
  {
   "cell_type": "code",
   "execution_count": 57,
   "metadata": {},
   "outputs": [
    {
     "name": "stdout",
     "output_type": "stream",
     "text": [
      "gene_symbol\tcount(alias)\n",
      "CADM1\t12\n",
      "TERT\t10\n",
      "TP63\t19\n"
     ]
    }
   ],
   "source": [
    "select_aliasNo_per_gene = \"\"\"\n",
    "SELECT gene_symbol, count(alias)\n",
    "FROM genes g\n",
    "JOIN gene_aliases ga ON g.gene_id = ga.gene_id\n",
    "GROUP BY gene_symbol\n",
    "HAVING count(alias) >= 10\n",
    "\"\"\"\n",
    "\n",
    "cursor.execute(select_aliasNo_per_gene)\n",
    "print(get_header(cursor))\n",
    "print(get_results(cursor))"
   ]
  },
  {
   "cell_type": "code",
   "execution_count": null,
   "metadata": {},
   "outputs": [],
   "source": [
    "hiT55T83"
   ]
  }
 ],
 "metadata": {
  "kernelspec": {
   "display_name": "Python 3 (ipykernel)",
   "language": "python",
   "name": "python3"
  },
  "language_info": {
   "codemirror_mode": {
    "name": "ipython",
    "version": 3
   },
   "file_extension": ".py",
   "mimetype": "text/x-python",
   "name": "python",
   "nbconvert_exporter": "python",
   "pygments_lexer": "ipython3",
   "version": "3.8.10"
  }
 },
 "nbformat": 4,
 "nbformat_minor": 4
}
