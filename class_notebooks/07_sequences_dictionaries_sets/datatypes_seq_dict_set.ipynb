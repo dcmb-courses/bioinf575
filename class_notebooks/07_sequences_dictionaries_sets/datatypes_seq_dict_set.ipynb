{
 "cells": [
  {
   "cell_type": "markdown",
   "metadata": {},
   "source": [
    "## Data types sequences, dictionaries and sets\n",
    "### BIOINF 575 - Fall 2021"
   ]
  },
  {
   "cell_type": "markdown",
   "metadata": {
    "tags": []
   },
   "source": [
    "___\n",
    "##### Jupyter lab documentation\n",
    "https://jupyterlab.readthedocs.io/en/stable/user/interface.html\n",
    "##### Keyboard shortcuts:\n",
    "https://gist.github.com/kidpixo/f4318f8c8143adee5b40    might be a bit outdated     \n",
    "https://ipython.readthedocs.io/en/1.x/interactive/notebook.html#keyboard-shortcuts     \n",
    "Also in Settings > Advanced Settings Editor > Keyboard Shortcuts\n",
    "___\n"
   ]
  },
  {
   "cell_type": "markdown",
   "metadata": {},
   "source": [
    "Typing is dynamic but strict in python (everything is an object and objects have type).<br><br>\n",
    "The principal built-in types are numerics, sequences, mappings, classes, instances and exceptions.<br>\n",
    "Numeric Types — int (subtype: bool), float, complex.<br>\n",
    "Sequence Types — string, list, tuple, range.<br><br>\n",
    "There are two major categories: mutable and immutable types.<br>\n",
    "<b>Immutable</b> objects <b>cannot be changed</b>, while <b>Mutable</b> objects <b>can be changed</b>.<br>\n",
    "Integer, Floats, Strings, Tuples, Boolean are immutable.<br>\n",
    "List are mutable types.<br>\n",
    "\n",
    "https://docs.python.org/3/library/stdtypes.html\n",
    "\n",
    "https://media.geeksforgeeks.org/wp-content/uploads/20191023173512/Python-data-structure.jpg\n",
    "\n",
    "<img src=\"https://media.geeksforgeeks.org/wp-content/uploads/20191023173512/Python-data-structure.jpg\" width=\"400\">\n",
    "\n",
    "\n"
   ]
  },
  {
   "cell_type": "markdown",
   "metadata": {
    "tags": []
   },
   "source": [
    "<b>Calling a function:</b><br>\n",
    "\n",
    "\\<function name\\><b>(</b>parameters<b>)</b>\n",
    "    \n",
    "Example: \n",
    "```python\n",
    "print(\"This is a test\")\n",
    "```\n"
   ]
  },
  {
   "cell_type": "markdown",
   "metadata": {},
   "source": [
    "Get more information regarding a function or a data type using the <b>help(\\<function\\_name\\>)</b> function or <b>\\<function_name\\>?</b> or <b>\\<function_name\\>??</b>."
   ]
  },
  {
   "cell_type": "code",
   "execution_count": null,
   "metadata": {
    "tags": []
   },
   "outputs": [],
   "source": [
    "dir(__builtin__)"
   ]
  },
  {
   "cell_type": "code",
   "execution_count": null,
   "metadata": {},
   "outputs": [],
   "source": [
    "x = input() # expects an input from the keyboard"
   ]
  },
  {
   "cell_type": "code",
   "execution_count": null,
   "metadata": {},
   "outputs": [],
   "source": [
    "x"
   ]
  },
  {
   "cell_type": "code",
   "execution_count": null,
   "metadata": {},
   "outputs": [],
   "source": []
  },
  {
   "cell_type": "markdown",
   "metadata": {},
   "source": [
    "Check/display the <b>type of a variable</b> with the function <b>type()</b>."
   ]
  },
  {
   "cell_type": "code",
   "execution_count": null,
   "metadata": {},
   "outputs": [],
   "source": [
    "type(x)"
   ]
  },
  {
   "cell_type": "code",
   "execution_count": null,
   "metadata": {},
   "outputs": [],
   "source": [
    "# does None have a type?\n",
    "\n",
    "\n"
   ]
  },
  {
   "cell_type": "markdown",
   "metadata": {},
   "source": [
    "<b>No automatic coercion of  types, explicit conversion only</b><br>\n",
    "Exception: <b>print()</b> - converts to strings where possible.\n"
   ]
  },
  {
   "cell_type": "code",
   "execution_count": null,
   "metadata": {},
   "outputs": [],
   "source": [
    "sequence_data = '''>fasta file sequence\n",
    "AAACGTACG\n",
    "AAACGTA'''"
   ]
  },
  {
   "cell_type": "code",
   "execution_count": null,
   "metadata": {},
   "outputs": [],
   "source": [
    "str(sequence_data)"
   ]
  },
  {
   "cell_type": "code",
   "execution_count": null,
   "metadata": {},
   "outputs": [],
   "source": [
    "print(sequence_data)"
   ]
  },
  {
   "cell_type": "code",
   "execution_count": null,
   "metadata": {},
   "outputs": [],
   "source": [
    "repr(sequence_data)"
   ]
  },
  {
   "cell_type": "code",
   "execution_count": null,
   "metadata": {},
   "outputs": [],
   "source": [
    "print(repr(sequence_data))"
   ]
  },
  {
   "cell_type": "code",
   "execution_count": null,
   "metadata": {},
   "outputs": [],
   "source": []
  },
  {
   "cell_type": "markdown",
   "metadata": {},
   "source": [
    "#### Magics\n",
    "\n",
    "https://ipython.readthedocs.io/en/stable/interactive/magics.html\n",
    "\n",
    "https://towardsdatascience.com/top-10-magic-commands-in-python-to-boost-your-productivity-1acac061c7a9\n",
    "\n"
   ]
  },
  {
   "cell_type": "code",
   "execution_count": null,
   "metadata": {},
   "outputs": [],
   "source": [
    "# see the objects you added to your environment\n",
    "%whos "
   ]
  },
  {
   "cell_type": "code",
   "execution_count": null,
   "metadata": {},
   "outputs": [],
   "source": [
    "%lsmagic"
   ]
  },
  {
   "cell_type": "code",
   "execution_count": null,
   "metadata": {},
   "outputs": [],
   "source": [
    "%history"
   ]
  },
  {
   "cell_type": "code",
   "execution_count": null,
   "metadata": {},
   "outputs": [],
   "source": [
    "import math # use this for more complex math functions"
   ]
  },
  {
   "cell_type": "code",
   "execution_count": null,
   "metadata": {},
   "outputs": [],
   "source": [
    "dir(math)"
   ]
  },
  {
   "cell_type": "markdown",
   "metadata": {},
   "source": [
    "#### Bit-wise operations - apply <i>and</i> and <i>or</i> to each digit of the binary representation\n",
    "\n",
    "1 is True   \n",
    "0 is False      \n",
    "& is and    \n",
    "| is or\n"
   ]
  },
  {
   "cell_type": "code",
   "execution_count": null,
   "metadata": {},
   "outputs": [],
   "source": [
    "# 4 & 5 \n",
    "# 100 & \n",
    "# 101\n",
    "# ---\n",
    "# 100 = 5\n",
    "\n",
    "4 & 5"
   ]
  },
  {
   "cell_type": "code",
   "execution_count": null,
   "metadata": {},
   "outputs": [],
   "source": [
    "# 100 |\n",
    "# 101\n",
    "# ---\n",
    "# 101\n",
    "\n",
    "4 | 5"
   ]
  },
  {
   "cell_type": "markdown",
   "metadata": {},
   "source": [
    "\n"
   ]
  },
  {
   "cell_type": "code",
   "execution_count": null,
   "metadata": {},
   "outputs": [],
   "source": []
  },
  {
   "cell_type": "code",
   "execution_count": null,
   "metadata": {
    "tags": []
   },
   "outputs": [],
   "source": []
  },
  {
   "cell_type": "markdown",
   "metadata": {
    "tags": []
   },
   "source": [
    "___\n",
    "### String - a sequence of characters that is immutable (unchangeable) and ordered (characters can be accessed by index)"
   ]
  },
  {
   "cell_type": "markdown",
   "metadata": {},
   "source": [
    "<img src='https://journals.plos.org/ploscompbiol/article/figure/image?size=original&download=&id=10.1371/journal.pcbi.1004867.g001' width=\"600\"/>\n",
    "\n",
    "https://journals.plos.org/ploscompbiol/article?id=10.1371/journal.pcbi.1004867\n"
   ]
  },
  {
   "cell_type": "markdown",
   "metadata": {},
   "source": [
    "<img src='https://media.geeksforgeeks.org/wp-content/cdn-uploads/20200204160843/strings.jpg' width=\"400\"/>\n",
    "\n",
    "https://www.geeksforgeeks.org/python-strings/\n",
    "\n"
   ]
  },
  {
   "cell_type": "markdown",
   "metadata": {
    "tags": []
   },
   "source": [
    "#### Create a string - quotes (single, double, triple), str()\n",
    "##### ' '    \n",
    "##### \" \"     \n",
    "##### ''' ''' - allows for multiple lines     \n",
    "##### \"\"\" \"\"\" - allows for multiple lines\n",
    "\n",
    "##### Use double quotes if you have single quotes in the string and the other way around.   \n",
    "E.g. \"We'll see more of these examples\""
   ]
  },
  {
   "cell_type": "markdown",
   "metadata": {
    "tags": []
   },
   "source": [
    "#### Sequence operations\n",
    "\n",
    "<img src = \"sequence_ops.png\" width = \"550\"/>\n",
    "\n",
    "https://docs.python.org/3/library/stdtypes.html\n"
   ]
  },
  {
   "cell_type": "code",
   "execution_count": null,
   "metadata": {},
   "outputs": [],
   "source": [
    "\"AGC\" in \"CCGTAGCTTAAGAA\""
   ]
  },
  {
   "cell_type": "code",
   "execution_count": null,
   "metadata": {},
   "outputs": [],
   "source": [
    "not \"AGC\" in \"CCGTAGCTTAAGAA\""
   ]
  },
  {
   "cell_type": "code",
   "execution_count": null,
   "metadata": {},
   "outputs": [],
   "source": [
    "\"AGC\" not in \"CCGTAGCTTAAGAA\""
   ]
  },
  {
   "cell_type": "code",
   "execution_count": null,
   "metadata": {},
   "outputs": [],
   "source": [
    "# creates new string\n",
    "\"AAACG\" + \"TTCA\""
   ]
  },
  {
   "cell_type": "code",
   "execution_count": null,
   "metadata": {},
   "outputs": [],
   "source": [
    "DNA_seq = 3 * \"A\" + 6 * \"C\" + \"\\n\" + \"T\" + 8 * \"G\"\n",
    "DNA_seq"
   ]
  },
  {
   "cell_type": "code",
   "execution_count": null,
   "metadata": {},
   "outputs": [],
   "source": [
    "print(DNA_seq)"
   ]
  },
  {
   "cell_type": "code",
   "execution_count": null,
   "metadata": {},
   "outputs": [],
   "source": []
  },
  {
   "cell_type": "markdown",
   "metadata": {},
   "source": [
    "#### Indexing - starts from 0\n",
    "#### Get the element at a certain position from a sequence \n",
    "```python\n",
    "s[i]\n",
    "```"
   ]
  },
  {
   "cell_type": "code",
   "execution_count": null,
   "metadata": {},
   "outputs": [],
   "source": [
    "# to return the 3rd element use index 2 because it starts from 0\n",
    "\n",
    "\"AACGT\"[2] \n"
   ]
  },
  {
   "cell_type": "code",
   "execution_count": null,
   "metadata": {},
   "outputs": [],
   "source": [
    "# use index 10 to get 11th character (the new line is also one of the characters)\n",
    "\n",
    "DNA_seq[10]\n"
   ]
  },
  {
   "cell_type": "markdown",
   "metadata": {},
   "source": [
    "#### Slicing - get a range of elements - give start:stop:step\n",
    "#### Start is included stop is not included\n",
    "```python\n",
    "s[i:j:k]\n",
    "```"
   ]
  },
  {
   "cell_type": "code",
   "execution_count": null,
   "metadata": {},
   "outputs": [],
   "source": [
    "\"AACGT\"[2:3]"
   ]
  },
  {
   "cell_type": "code",
   "execution_count": null,
   "metadata": {},
   "outputs": [],
   "source": [
    "\"AACGT\"[2:4]"
   ]
  },
  {
   "cell_type": "code",
   "execution_count": null,
   "metadata": {},
   "outputs": [],
   "source": [
    "# go to the end\n",
    "\"AACGT\"[2:]"
   ]
  },
  {
   "cell_type": "code",
   "execution_count": null,
   "metadata": {},
   "outputs": [],
   "source": [
    "# start from the beginning\n",
    "\"AACGT\"[:3]"
   ]
  },
  {
   "cell_type": "code",
   "execution_count": null,
   "metadata": {},
   "outputs": [],
   "source": [
    "# take all elements - make a copy\n",
    "\"AACGT\"[:]"
   ]
  },
  {
   "cell_type": "code",
   "execution_count": null,
   "metadata": {},
   "outputs": [],
   "source": [
    "# take only every other element - use the step\n",
    "\n",
    "\"AACGT\"[::2]\n"
   ]
  },
  {
   "cell_type": "code",
   "execution_count": null,
   "metadata": {},
   "outputs": [],
   "source": [
    "# no complains if we go over\n",
    "\"AACGT\"[2:30]"
   ]
  },
  {
   "cell_type": "code",
   "execution_count": null,
   "metadata": {},
   "outputs": [],
   "source": [
    "\"AACGT\"[-2:3]"
   ]
  },
  {
   "cell_type": "code",
   "execution_count": null,
   "metadata": {},
   "outputs": [],
   "source": [
    "# negative indexing or slicing starts from the end\n",
    " \n"
   ]
  },
  {
   "cell_type": "code",
   "execution_count": null,
   "metadata": {},
   "outputs": [],
   "source": [
    "# reverse a sequence - negative step\n",
    "\n",
    "\n"
   ]
  },
  {
   "cell_type": "code",
   "execution_count": null,
   "metadata": {},
   "outputs": [],
   "source": [
    "# int objects are not sequences\n",
    "\n",
    "\n"
   ]
  },
  {
   "cell_type": "markdown",
   "metadata": {},
   "source": [
    "#### Length of a sequence \n",
    "```python\n",
    "len(s)\n",
    "```"
   ]
  },
  {
   "cell_type": "code",
   "execution_count": null,
   "metadata": {},
   "outputs": [],
   "source": [
    "len(\"AACGT\")"
   ]
  },
  {
   "cell_type": "code",
   "execution_count": null,
   "metadata": {},
   "outputs": [],
   "source": [
    "DNA_seq"
   ]
  },
  {
   "cell_type": "code",
   "execution_count": null,
   "metadata": {},
   "outputs": [],
   "source": []
  },
  {
   "cell_type": "markdown",
   "metadata": {},
   "source": [
    "#### Order of characters: ASCII code\n",
    "https://python-reference.readthedocs.io/en/latest/docs/str/ASCII.html"
   ]
  },
  {
   "cell_type": "code",
   "execution_count": null,
   "metadata": {},
   "outputs": [],
   "source": [
    "ord(\"A\")"
   ]
  },
  {
   "cell_type": "code",
   "execution_count": null,
   "metadata": {},
   "outputs": [],
   "source": [
    "ord(\"a\")"
   ]
  },
  {
   "cell_type": "code",
   "execution_count": null,
   "metadata": {},
   "outputs": [],
   "source": [
    "ord(\"aa\")"
   ]
  },
  {
   "cell_type": "code",
   "execution_count": null,
   "metadata": {},
   "outputs": [],
   "source": [
    "# return the character with a given ASCII code\n",
    "\n",
    "chr(68)"
   ]
  },
  {
   "cell_type": "code",
   "execution_count": null,
   "metadata": {},
   "outputs": [],
   "source": [
    "chr(99)"
   ]
  },
  {
   "cell_type": "code",
   "execution_count": null,
   "metadata": {},
   "outputs": [],
   "source": [
    "\"AMAZING\" > \"amino acid\""
   ]
  },
  {
   "cell_type": "code",
   "execution_count": null,
   "metadata": {},
   "outputs": [],
   "source": [
    "\"amino acid\" > \"amino Acid\""
   ]
  },
  {
   "cell_type": "code",
   "execution_count": null,
   "metadata": {},
   "outputs": [],
   "source": [
    "min(\"amino acid\")"
   ]
  },
  {
   "cell_type": "code",
   "execution_count": null,
   "metadata": {},
   "outputs": [],
   "source": [
    "min(\"aminoAcid\")"
   ]
  },
  {
   "cell_type": "code",
   "execution_count": null,
   "metadata": {},
   "outputs": [],
   "source": [
    "max(\"amino Acid\")"
   ]
  },
  {
   "cell_type": "code",
   "execution_count": null,
   "metadata": {},
   "outputs": [],
   "source": []
  },
  {
   "cell_type": "markdown",
   "metadata": {},
   "source": [
    "#### Find the index of a subsequence\n",
    "```python\n",
    "# x - subsequence, i and j are optional start and stop position\n",
    "s.index(x,i,j) \n",
    "```\n",
    "    "
   ]
  },
  {
   "cell_type": "code",
   "execution_count": null,
   "metadata": {},
   "outputs": [],
   "source": [
    "help(str.index)"
   ]
  },
  {
   "cell_type": "code",
   "execution_count": null,
   "metadata": {},
   "outputs": [],
   "source": [
    "DNA_seq"
   ]
  },
  {
   "cell_type": "code",
   "execution_count": null,
   "metadata": {},
   "outputs": [],
   "source": [
    "DNA_seq.index(\"ACC\")"
   ]
  },
  {
   "cell_type": "code",
   "execution_count": null,
   "metadata": {},
   "outputs": [],
   "source": [
    "# use start index\n",
    "\n"
   ]
  },
  {
   "cell_type": "code",
   "execution_count": null,
   "metadata": {},
   "outputs": [],
   "source": [
    "# use end index\n",
    "\n"
   ]
  },
  {
   "cell_type": "code",
   "execution_count": null,
   "metadata": {},
   "outputs": [],
   "source": []
  },
  {
   "cell_type": "markdown",
   "metadata": {},
   "source": [
    "#### Count the occurences of a subsequence\n",
    "```python\n",
    "# x - subsequence, i and j are optional start and stop position\n",
    "s.count(x,i,j) \n",
    "```\n"
   ]
  },
  {
   "cell_type": "code",
   "execution_count": null,
   "metadata": {},
   "outputs": [],
   "source": [
    "help(str.count)"
   ]
  },
  {
   "cell_type": "code",
   "execution_count": null,
   "metadata": {},
   "outputs": [],
   "source": [
    "DNA_seq"
   ]
  },
  {
   "cell_type": "code",
   "execution_count": null,
   "metadata": {},
   "outputs": [],
   "source": [
    "DNA_seq.count(\"AA\")"
   ]
  },
  {
   "cell_type": "code",
   "execution_count": null,
   "metadata": {},
   "outputs": [],
   "source": [
    "DNA_seq.count(\"CC\")"
   ]
  },
  {
   "cell_type": "code",
   "execution_count": null,
   "metadata": {},
   "outputs": [],
   "source": [
    "# use start and end position\n",
    "\n",
    "\n"
   ]
  },
  {
   "cell_type": "markdown",
   "metadata": {},
   "source": [
    "#### String specific functions\n"
   ]
  },
  {
   "cell_type": "code",
   "execution_count": null,
   "metadata": {},
   "outputs": [],
   "source": [
    "# remove empty characters (space, tab, new line) at the beginning and end of the string\n",
    "\n",
    "\"\\n AAAGC TTTAC \\n GGGTA \\t\\n \".strip()\n",
    "\n",
    "\n"
   ]
  },
  {
   "cell_type": "code",
   "execution_count": null,
   "metadata": {},
   "outputs": [],
   "source": [
    "# check if the string startswith or endswith a certain substring\n",
    "\n",
    "\"ACGTAAC\".startswith(\"AC\")"
   ]
  },
  {
   "cell_type": "code",
   "execution_count": null,
   "metadata": {},
   "outputs": [],
   "source": [
    "# check endswith\n",
    "\n"
   ]
  },
  {
   "cell_type": "code",
   "execution_count": null,
   "metadata": {},
   "outputs": [],
   "source": [
    "# find - same as index but no error if not found - returns -1\n",
    "\n",
    "help(str.find)"
   ]
  },
  {
   "cell_type": "code",
   "execution_count": null,
   "metadata": {},
   "outputs": [],
   "source": [
    "DNA_seq.find(\"AA\")"
   ]
  },
  {
   "cell_type": "code",
   "execution_count": null,
   "metadata": {},
   "outputs": [],
   "source": [
    "DNA_seq.find(\"DONE\")"
   ]
  },
  {
   "cell_type": "code",
   "execution_count": null,
   "metadata": {},
   "outputs": [],
   "source": [
    "DNA_seq.index(\"DONE\")"
   ]
  },
  {
   "cell_type": "code",
   "execution_count": null,
   "metadata": {},
   "outputs": [],
   "source": []
  },
  {
   "cell_type": "code",
   "execution_count": null,
   "metadata": {},
   "outputs": [],
   "source": []
  },
  {
   "cell_type": "markdown",
   "metadata": {},
   "source": [
    "#### <font color = \"red\">Exercise</font>\n",
    "\n",
    "A restriction enzyme is an enzyme that cleaves DNA into fragments at or near specific recognition sites within molecules known as restriction sites. EcoRI is a restriction endonuclease enzyme isolated from species <i>E. coli</i>.  \n",
    "EcoRI recognition site with cutting pattern indicated by a green line.\n",
    "\n",
    "<img src = \"https://upload.wikimedia.org/wikipedia/commons/thumb/7/78/EcoRI_restriction_enzyme_recognition_site.svg/350px-EcoRI_restriction_enzyme_recognition_site.svg.png\" width = \"100\" /> \n",
    "\n",
    "https://en.wikipedia.org/wiki/EcoRI  \n",
    "\n",
    "- Find the position of the string in \"GAATTCT\" in the following two DNA sequences:    \n",
    "\"AACGTCAAGGTTCCTA\"  \n",
    "\"ACTGATCGATTACGTATAGTAGAATTCTATCATACATATATATCGATGCGTTCAT\"\n",
    "- Split the sequence in which you found in the two sequences resulted after the cut\n"
   ]
  },
  {
   "cell_type": "code",
   "execution_count": null,
   "metadata": {},
   "outputs": [],
   "source": []
  },
  {
   "cell_type": "code",
   "execution_count": null,
   "metadata": {},
   "outputs": [],
   "source": []
  },
  {
   "cell_type": "code",
   "execution_count": null,
   "metadata": {},
   "outputs": [],
   "source": []
  },
  {
   "cell_type": "code",
   "execution_count": null,
   "metadata": {},
   "outputs": [],
   "source": []
  },
  {
   "cell_type": "code",
   "execution_count": null,
   "metadata": {},
   "outputs": [],
   "source": [
    "# more string functions\n",
    "\n",
    "help(str.replace)"
   ]
  },
  {
   "cell_type": "code",
   "execution_count": null,
   "metadata": {},
   "outputs": [],
   "source": [
    "help(str.translate)"
   ]
  },
  {
   "cell_type": "code",
   "execution_count": null,
   "metadata": {},
   "outputs": [],
   "source": [
    "help(str.maketrans)"
   ]
  },
  {
   "cell_type": "markdown",
   "metadata": {
    "tags": []
   },
   "source": [
    "#### <font color = \"red\">Exercise</font>\n",
    "- Compute the GC content (percentage of C and G bases) in the following DNA sequence:  \n",
    "\"AACGTCAAGGTTCCTA\"  \n",
    "- Compute the complement of the sequence (A<=>T,C<=>G)\n",
    "- Reverse the sequence complement (compute the reverse strand on the DNA)\n"
   ]
  },
  {
   "cell_type": "code",
   "execution_count": null,
   "metadata": {
    "tags": []
   },
   "outputs": [],
   "source": []
  },
  {
   "cell_type": "code",
   "execution_count": null,
   "metadata": {},
   "outputs": [],
   "source": []
  },
  {
   "cell_type": "code",
   "execution_count": null,
   "metadata": {},
   "outputs": [],
   "source": []
  },
  {
   "cell_type": "code",
   "execution_count": null,
   "metadata": {},
   "outputs": [],
   "source": []
  },
  {
   "cell_type": "code",
   "execution_count": null,
   "metadata": {},
   "outputs": [],
   "source": []
  },
  {
   "cell_type": "code",
   "execution_count": null,
   "metadata": {},
   "outputs": [],
   "source": []
  },
  {
   "cell_type": "markdown",
   "metadata": {},
   "source": [
    "_____\n",
    "<b>String formatting</b> - introduction - some more about this in a future session.\n",
    "\n",
    "\n",
    "Python uses C-style string formatting to create new, formatted strings. The \"%\" operator is used to format a set of variables enclosed in a \"tuple\" (a fixed size list), together with a format string, which contains normal text together with \"argument specifiers\", special symbols like \"%s\" and \"%d\".\n",
    "\n",
    "\n",
    "%s - String (or any object with a string representation, like numbers) <br>\n",
    "%d - Integers<br>\n",
    "%f - Floating point numbers<br>\n",
    "%.&lt;n&gt;f - Floating point numbers with a fixed (n) amount of digits to the right of the dot.\n",
    "\n"
   ]
  },
  {
   "cell_type": "code",
   "execution_count": null,
   "metadata": {},
   "outputs": [],
   "source": [
    "name = \"John\"\n",
    "print(\"Hello, %s!\" % name)"
   ]
  },
  {
   "cell_type": "markdown",
   "metadata": {},
   "source": [
    "#### f-strings - add the variable value when you construct the string\n",
    "#### f\"\""
   ]
  },
  {
   "cell_type": "code",
   "execution_count": null,
   "metadata": {},
   "outputs": [],
   "source": [
    "message = \"testing\"\n",
    "count = 3\n",
    "f\"I am {message} f-strings {count} times\""
   ]
  },
  {
   "cell_type": "code",
   "execution_count": null,
   "metadata": {},
   "outputs": [],
   "source": []
  },
  {
   "cell_type": "code",
   "execution_count": null,
   "metadata": {},
   "outputs": [],
   "source": []
  },
  {
   "cell_type": "markdown",
   "metadata": {},
   "source": [
    "___\n",
    "### List - a collection of elements that: allows duplicates, is orderred (can access its elements by index), and is mutable (changeable)"
   ]
  },
  {
   "cell_type": "markdown",
   "metadata": {},
   "source": [
    "#### Instead of characters in our sequence we can have any type of data, and make changes to it"
   ]
  },
  {
   "cell_type": "markdown",
   "metadata": {},
   "source": [
    "A list may be constructed in several ways:<br>\n",
    "\n",
    "Using a pair of square brackets to denote the empty list: []   \n",
    "Using square brackets, separating items with commas: [a], [a, b, c]   \n",
    "Using a list comprehension: [x for x in iterable]  \n",
    "Using the type constructor: list() or list(iterable)  \n",
    "A list is a dynamic array of references, a contiguous allocation of references in memory  \n",
    "https://docs.python.org/3/faq/design.html#how-are-lists-implemented-in-cpython   \n",
    "https://www.tutorialspoint.com/difference-between-std-vector-and-std-array-in-cplusplus"
   ]
  },
  {
   "cell_type": "code",
   "execution_count": null,
   "metadata": {},
   "outputs": [],
   "source": [
    "# list with differet types of elements\n",
    "test_list = [2,3,4,\"text1\",\"text2\",[5,6,\"AACT\",[6.7]]]\n",
    "test_list_backup = test_list "
   ]
  },
  {
   "cell_type": "code",
   "execution_count": null,
   "metadata": {},
   "outputs": [],
   "source": []
  },
  {
   "cell_type": "code",
   "execution_count": null,
   "metadata": {},
   "outputs": [],
   "source": []
  },
  {
   "cell_type": "markdown",
   "metadata": {},
   "source": [
    "Mutable sequence type operations:\n",
    "    \n",
    "<img src = \"list_ops.png\" width = \"500\"/>"
   ]
  },
  {
   "cell_type": "code",
   "execution_count": null,
   "metadata": {},
   "outputs": [],
   "source": [
    "test_list"
   ]
  },
  {
   "cell_type": "code",
   "execution_count": null,
   "metadata": {},
   "outputs": [],
   "source": [
    "test_list_backup"
   ]
  },
  {
   "cell_type": "code",
   "execution_count": null,
   "metadata": {},
   "outputs": [],
   "source": [
    "test_list_backup[2] = \"445\""
   ]
  },
  {
   "cell_type": "code",
   "execution_count": null,
   "metadata": {},
   "outputs": [],
   "source": [
    "# check the lists\n",
    "\n",
    "\n"
   ]
  },
  {
   "cell_type": "code",
   "execution_count": null,
   "metadata": {},
   "outputs": [],
   "source": []
  },
  {
   "cell_type": "markdown",
   "metadata": {},
   "source": [
    "_____\n",
    "The two variables values are references to the same object<br>\n",
    "___\n",
    "<b>When the referred location in memory changes value then the display for both referring variables will change since they reffer to the same location.</b>\n"
   ]
  },
  {
   "cell_type": "markdown",
   "metadata": {},
   "source": [
    "<img src=\"http://henry.precheur.org/python/list1.png\" width=200 />\n",
    "\n",
    "____"
   ]
  },
  {
   "cell_type": "markdown",
   "metadata": {},
   "source": [
    "To make a copy of a list use subsetting/slicing:<br> \n",
    "copy_list = initial_list[:] <br><br>\n",
    "Similarly we can make a copy using the .copy() function/method:<br>\n",
    "copy_list = initial_list.copy()  <br><br>\n",
    "We can also create a new list:<br>\n",
    "copy_list = list(initial_list) \n"
   ]
  },
  {
   "cell_type": "markdown",
   "metadata": {},
   "source": [
    "<img src=\"http://henry.precheur.org/python/list2.png\" width=200 />"
   ]
  },
  {
   "cell_type": "code",
   "execution_count": null,
   "metadata": {},
   "outputs": [],
   "source": [
    "test_list_backup = test_list[:]"
   ]
  },
  {
   "cell_type": "code",
   "execution_count": null,
   "metadata": {},
   "outputs": [],
   "source": []
  },
  {
   "cell_type": "code",
   "execution_count": null,
   "metadata": {},
   "outputs": [],
   "source": [
    "# change 6 to [8, 9] in backup list"
   ]
  },
  {
   "cell_type": "code",
   "execution_count": null,
   "metadata": {},
   "outputs": [],
   "source": [
    "test_list_backup[5][1] = [8, 9]"
   ]
  },
  {
   "cell_type": "code",
   "execution_count": null,
   "metadata": {},
   "outputs": [],
   "source": [
    "test_list"
   ]
  },
  {
   "cell_type": "code",
   "execution_count": null,
   "metadata": {},
   "outputs": [],
   "source": [
    "# make a deep copy to be able to change any element without changing the initial list\n",
    "import copy"
   ]
  },
  {
   "cell_type": "code",
   "execution_count": null,
   "metadata": {},
   "outputs": [],
   "source": [
    "test_list_backup = copy.deepcopy(test_list)"
   ]
  },
  {
   "cell_type": "code",
   "execution_count": null,
   "metadata": {},
   "outputs": [],
   "source": [
    "# make a change in the backup\n",
    "\n"
   ]
  },
  {
   "cell_type": "code",
   "execution_count": null,
   "metadata": {},
   "outputs": [],
   "source": [
    "# check the lists\n",
    "\n"
   ]
  },
  {
   "cell_type": "code",
   "execution_count": null,
   "metadata": {},
   "outputs": [],
   "source": [
    "patient_BMIs = [25, 18, 30, 16, 22, 32, 28]"
   ]
  },
  {
   "cell_type": "code",
   "execution_count": null,
   "metadata": {},
   "outputs": [],
   "source": []
  },
  {
   "cell_type": "code",
   "execution_count": null,
   "metadata": {},
   "outputs": [],
   "source": [
    "# add elements\n",
    "\n",
    "# add the object as element of the list\n",
    "\n",
    "patient_BMIs.append([31, 23, 27])"
   ]
  },
  {
   "cell_type": "code",
   "execution_count": null,
   "metadata": {},
   "outputs": [],
   "source": []
  },
  {
   "cell_type": "code",
   "execution_count": null,
   "metadata": {},
   "outputs": [],
   "source": [
    "# at given index insert object in the list\n",
    "\n",
    "patient_BMIs.insert(2,19)"
   ]
  },
  {
   "cell_type": "code",
   "execution_count": null,
   "metadata": {},
   "outputs": [],
   "source": []
  },
  {
   "cell_type": "code",
   "execution_count": null,
   "metadata": {},
   "outputs": [],
   "source": [
    "# add each element of the given object as an element of the list\n",
    "\n",
    "patient_BMIs.extend([20, 22])\n"
   ]
  },
  {
   "cell_type": "code",
   "execution_count": null,
   "metadata": {},
   "outputs": [],
   "source": []
  },
  {
   "cell_type": "code",
   "execution_count": null,
   "metadata": {},
   "outputs": [],
   "source": [
    "#  string is a sequence \n",
    "\n",
    "patient_BMIs.extend(\"AC\")"
   ]
  },
  {
   "cell_type": "code",
   "execution_count": null,
   "metadata": {},
   "outputs": [],
   "source": []
  },
  {
   "cell_type": "code",
   "execution_count": null,
   "metadata": {},
   "outputs": [],
   "source": [
    "# remove last element or element at index and retrieve the value\n",
    "patient_BMIs.pop(11)"
   ]
  },
  {
   "cell_type": "code",
   "execution_count": null,
   "metadata": {},
   "outputs": [],
   "source": []
  },
  {
   "cell_type": "code",
   "execution_count": null,
   "metadata": {},
   "outputs": [],
   "source": []
  },
  {
   "cell_type": "code",
   "execution_count": null,
   "metadata": {},
   "outputs": [],
   "source": [
    "help(\"keywords\")"
   ]
  },
  {
   "cell_type": "code",
   "execution_count": null,
   "metadata": {},
   "outputs": [],
   "source": [
    "help(\"del\")"
   ]
  },
  {
   "cell_type": "code",
   "execution_count": null,
   "metadata": {},
   "outputs": [],
   "source": [
    "# delete range of elements from the list\n",
    "del patient_BMIs[3:5]"
   ]
  },
  {
   "cell_type": "code",
   "execution_count": null,
   "metadata": {},
   "outputs": [],
   "source": [
    "patient_BMIs"
   ]
  },
  {
   "cell_type": "code",
   "execution_count": null,
   "metadata": {},
   "outputs": [],
   "source": [
    "# remove first occurence of value\n",
    "patient_BMIs.remove(22)"
   ]
  },
  {
   "cell_type": "code",
   "execution_count": null,
   "metadata": {},
   "outputs": [],
   "source": []
  },
  {
   "cell_type": "code",
   "execution_count": null,
   "metadata": {},
   "outputs": [],
   "source": [
    "patient_BMIs.remove(22000)"
   ]
  },
  {
   "cell_type": "code",
   "execution_count": null,
   "metadata": {},
   "outputs": [],
   "source": []
  },
  {
   "cell_type": "code",
   "execution_count": null,
   "metadata": {},
   "outputs": [],
   "source": [
    "# reverse list\n",
    "\n",
    "patient_BMIs.reverse()\n"
   ]
  },
  {
   "cell_type": "code",
   "execution_count": null,
   "metadata": {},
   "outputs": [],
   "source": [
    "patient_BMIs"
   ]
  },
  {
   "cell_type": "code",
   "execution_count": null,
   "metadata": {},
   "outputs": [],
   "source": [
    "# try to sort the list\n",
    "\n"
   ]
  },
  {
   "cell_type": "code",
   "execution_count": null,
   "metadata": {},
   "outputs": [],
   "source": []
  },
  {
   "cell_type": "code",
   "execution_count": null,
   "metadata": {},
   "outputs": [],
   "source": [
    "# clear/empty the list\n",
    "patient_BMIs.clear()\n"
   ]
  },
  {
   "cell_type": "code",
   "execution_count": null,
   "metadata": {},
   "outputs": [],
   "source": []
  },
  {
   "cell_type": "markdown",
   "metadata": {},
   "source": [
    "<b>String join()</b> - makes a string outof the elements of a list using a given string as a separator/delimiter (default: any whitespace)"
   ]
  },
  {
   "cell_type": "code",
   "execution_count": null,
   "metadata": {},
   "outputs": [],
   "source": [
    "\"-\".join([\"Making\", \"a\", \"sentence\", \"given the words.\"])"
   ]
  },
  {
   "cell_type": "markdown",
   "metadata": {},
   "source": [
    "<b>String split()</b> - always creates a list - splits a string by a given separator/delimiter "
   ]
  },
  {
   "cell_type": "code",
   "execution_count": null,
   "metadata": {},
   "outputs": [],
   "source": [
    "\"Split a sentence, into, words\".split(\"-\")"
   ]
  },
  {
   "cell_type": "code",
   "execution_count": null,
   "metadata": {},
   "outputs": [],
   "source": []
  },
  {
   "cell_type": "markdown",
   "metadata": {
    "tags": []
   },
   "source": [
    "#### <font color = \"red\">Exercise</font> \n",
    "\n",
    "Create a list with the following sublists: \n",
    " - a sublist with 4 organisms: human, mouse, worm, yeast \n",
    " - a sublist with 4 genes (symbols): TP53, TNF, EGFR, IL6 \n",
    " - a sublist with 4 values: 90, 70, 70, 50\n",
    "\n",
    "Check if the organism \"human\" is in the organism list.<br>\n",
    "Find the index of value 70 in the values list.<br>\n",
    "Count how many times the value 70 occurs in the vlaues sublist.<br><br>\n"
   ]
  },
  {
   "cell_type": "code",
   "execution_count": null,
   "metadata": {},
   "outputs": [],
   "source": []
  },
  {
   "cell_type": "code",
   "execution_count": null,
   "metadata": {},
   "outputs": [],
   "source": []
  },
  {
   "cell_type": "code",
   "execution_count": null,
   "metadata": {},
   "outputs": [],
   "source": []
  },
  {
   "cell_type": "code",
   "execution_count": null,
   "metadata": {},
   "outputs": [],
   "source": []
  },
  {
   "cell_type": "markdown",
   "metadata": {
    "tags": []
   },
   "source": [
    "#### <font color = \"red\">Exercise</font> \n",
    "\n",
    "Assign an empty list to a variable amino_acids.  \n",
    "Add the following elements to the list: \"arginine\", \"alanine\"   \n",
    "Add the elements of the follwing list to the amino_acids lists all at once:\n",
    "- \\[\"asparagine\", \"aspartic acid\", \"cysteine\", \"glutamine\", \"glutamic acid\"] \n",
    "\n",
    "Sort the amino_acids list.\n",
    "\n",
    "<img src = \"https://pixy.org/src/37/thumbs350/372053.jpg\" width = \"400\"/>\n",
    "\n",
    "https://pixy.org/372053/\n"
   ]
  },
  {
   "cell_type": "code",
   "execution_count": null,
   "metadata": {},
   "outputs": [],
   "source": []
  },
  {
   "cell_type": "code",
   "execution_count": null,
   "metadata": {},
   "outputs": [],
   "source": []
  },
  {
   "cell_type": "code",
   "execution_count": null,
   "metadata": {},
   "outputs": [],
   "source": []
  },
  {
   "cell_type": "code",
   "execution_count": null,
   "metadata": {},
   "outputs": [],
   "source": []
  },
  {
   "cell_type": "code",
   "execution_count": null,
   "metadata": {},
   "outputs": [],
   "source": []
  },
  {
   "cell_type": "code",
   "execution_count": null,
   "metadata": {},
   "outputs": [],
   "source": []
  },
  {
   "cell_type": "markdown",
   "metadata": {
    "tags": []
   },
   "source": [
    "_______________\n",
    "### Range - an immutable sequence of numbers"
   ]
  },
  {
   "cell_type": "markdown",
   "metadata": {},
   "source": [
    "It is commonly used for looping a specific number of times.  \n",
    "It is not generated until needed - lazy loading - generator type"
   ]
  },
  {
   "cell_type": "markdown",
   "metadata": {},
   "source": [
    "```python\n",
    "# stop is not included\n",
    "# start and step are optional \n",
    "# if no start i sprovided then the range starts from 0\n",
    "# if no step is provided step 1 is used\n",
    "\n",
    "range(stop)\n",
    "range(start, stop[, step])  \n",
    "```"
   ]
  },
  {
   "cell_type": "code",
   "execution_count": null,
   "metadata": {},
   "outputs": [],
   "source": []
  },
  {
   "cell_type": "code",
   "execution_count": null,
   "metadata": {},
   "outputs": [],
   "source": [
    "range(5)"
   ]
  },
  {
   "cell_type": "code",
   "execution_count": null,
   "metadata": {},
   "outputs": [],
   "source": [
    "list(range(5))"
   ]
  },
  {
   "cell_type": "markdown",
   "metadata": {},
   "source": [
    "#### <font color = \"red\">Exercise</font>\n",
    "- Use the function range() to compute/create a list with numbers between 5 and 20 divisible by 3\n",
    "\n"
   ]
  },
  {
   "cell_type": "code",
   "execution_count": null,
   "metadata": {},
   "outputs": [],
   "source": []
  },
  {
   "cell_type": "code",
   "execution_count": null,
   "metadata": {},
   "outputs": [],
   "source": []
  },
  {
   "cell_type": "markdown",
   "metadata": {},
   "source": [
    "____\n",
    "### Tuple - a collection of elements, allows duplicates, is orderred, and is <u>unchangeable</u>\n",
    "Faster than lists - most of the same operations - except those that change values - append, expand, remove, etc."
   ]
  },
  {
   "cell_type": "markdown",
   "metadata": {},
   "source": [
    "Tuples may be constructed in a number of ways:<br>\n",
    "\n",
    "Using a pair of parentheses to denote the empty tuple: ()<br>\n",
    "Using a trailing comma for a singleton tuple: a, or (a,)<br>\n",
    "Separating items with commas: a, b, c or (a, b, c)<br>\n",
    "Using the tuple() built-in: tuple() or tuple(iterable)<br>"
   ]
  },
  {
   "cell_type": "code",
   "execution_count": null,
   "metadata": {},
   "outputs": [],
   "source": [
    "dir(tuple)"
   ]
  },
  {
   "cell_type": "code",
   "execution_count": null,
   "metadata": {},
   "outputs": [],
   "source": [
    "# create a tuple with only one element - use the comma\n",
    "(2,)"
   ]
  },
  {
   "cell_type": "code",
   "execution_count": null,
   "metadata": {},
   "outputs": [],
   "source": [
    "# create tuple with different values\n",
    "gene_info = (\"Gene1\", \"AAACGTTA\", True, 7, 200.5)"
   ]
  },
  {
   "cell_type": "code",
   "execution_count": null,
   "metadata": {},
   "outputs": [],
   "source": [
    "# all general sequence operations apply\n",
    "\n",
    "gene_info[0]"
   ]
  },
  {
   "cell_type": "code",
   "execution_count": null,
   "metadata": {},
   "outputs": [],
   "source": [
    "gene_info[-1]"
   ]
  },
  {
   "cell_type": "code",
   "execution_count": null,
   "metadata": {},
   "outputs": [],
   "source": [
    "len(gene_info)"
   ]
  },
  {
   "cell_type": "code",
   "execution_count": null,
   "metadata": {},
   "outputs": [],
   "source": [
    "# UNPACKING a tuple assign each element of a tuple to a variable.\n",
    "\n",
    "symbol, sequence, is_tumor_supressor, exon_number, expression = gene_info\n",
    "\n",
    "print(symbol)\n",
    "print(sequence)\n",
    "print(is_tumor_supressor)\n",
    "print(expression)"
   ]
  },
  {
   "cell_type": "code",
   "execution_count": null,
   "metadata": {},
   "outputs": [],
   "source": []
  },
  {
   "cell_type": "code",
   "execution_count": null,
   "metadata": {},
   "outputs": [],
   "source": []
  },
  {
   "cell_type": "markdown",
   "metadata": {},
   "source": [
    "Tuple specifics, easy switch of values."
   ]
  },
  {
   "cell_type": "code",
   "execution_count": null,
   "metadata": {},
   "outputs": [],
   "source": []
  },
  {
   "cell_type": "code",
   "execution_count": null,
   "metadata": {},
   "outputs": [],
   "source": []
  },
  {
   "cell_type": "markdown",
   "metadata": {},
   "source": [
    "<font color = \"red\">Exercise</font> <br><br>\n",
    "Add the value 100 at the beginning of the tuple in the variable gene_info.    \n",
    "Find the index of value 7 in the gene variable.<br>\n",
    "Try to remove the value 200.5 from the tuple.<br><br>\n"
   ]
  },
  {
   "cell_type": "code",
   "execution_count": null,
   "metadata": {},
   "outputs": [],
   "source": []
  },
  {
   "cell_type": "code",
   "execution_count": null,
   "metadata": {},
   "outputs": [],
   "source": []
  },
  {
   "cell_type": "code",
   "execution_count": null,
   "metadata": {},
   "outputs": [],
   "source": []
  },
  {
   "cell_type": "markdown",
   "metadata": {},
   "source": [
    "__________________\n",
    "\n",
    "### Dictionaries - a collection of key:value pairs, is unordered, has no duplicate keys, is changeable, and is indexed (by key).\n",
    "### The mapping type"
   ]
  },
  {
   "cell_type": "markdown",
   "metadata": {},
   "source": [
    "Dictionaries can be created by:\n",
    "- placing a comma-separated list of key: value pairs within braces\n",
    "    - ```{key1: value1, key2: value2, ..., key_n: value_n}```\n",
    "    - item - ```key: value```\n",
    "- by the dict constructor\n",
    "\n",
    "dict(**kwarg)  \n",
    "dict(mapping, **kwarg)<br>\n",
    "dict(iterable, **kwarg)<br>\n",
    "\n",
    "Dictionaries are unorderred - you access elemnts by key not index.\n",
    "\n",
    "<img src = \"https://upload.wikimedia.org/wikipedia/commons/5/5b/GooglePythonClass_Day1_Part3_Pic.jpg\" width = 400/>\n",
    "\n",
    "https://commons.wikimedia.org/wiki/File:GooglePythonClass_Day1_Part3_Pic.jpg\n",
    "\n",
    "\n",
    "\n",
    "Dictionaries methods:\n",
    "\n",
    "| Method       | Description                                                                                                 |\n",
    "|--------------|-------------------------------------------------------------------------------------------------------------|\n",
    "| clear      | Removes all the elements from the dictionary                                                                |\n",
    "| copy       | Returns a copy of the dictionary                                                                            |\n",
    "| fromkeys   | Returns a dictionary with the specified keys and value                                                      |\n",
    "| get        | Returns the value of the specified key                                                                      |\n",
    "| items      | Returns a list containing a tuple for each key value pair                                                   |\n",
    "| keys       | Returns a list containing the dictionary's keys                                                             |\n",
    "| pop        | Removes the element with the specified key                                                                  |\n",
    "| popitem    | Removes the last inserted key-value pair                                                                    |\n",
    "| setdefault | Returns the value of the specified key. If the key does not exist: insert the key, with the specified value |\n",
    "| update     | Updates the dictionary with the specified key-value pairs                                                   |\n",
    "| values     | Returns a list of all the values in the dictionary                                                          |"
   ]
  },
  {
   "cell_type": "code",
   "execution_count": null,
   "metadata": {},
   "outputs": [],
   "source": [
    "#dir(dict)"
   ]
  },
  {
   "cell_type": "code",
   "execution_count": null,
   "metadata": {},
   "outputs": [],
   "source": [
    "dict()"
   ]
  },
  {
   "cell_type": "markdown",
   "metadata": {},
   "source": [
    "____\n",
    "<img src = \"https://pixy.org/src/37/thumbs350/372053.jpg\" width = \"350\"/>\n",
    "\n",
    "https://pixy.org/372053/"
   ]
  },
  {
   "cell_type": "code",
   "execution_count": null,
   "metadata": {},
   "outputs": [],
   "source": [
    "# create dictionary using  {}\n",
    "amino_acids_map = {\"Ser\": \"Serine\", \"Lys\": \"Lysine\", \"Ala\": \"Alanine\"}\n"
   ]
  },
  {
   "cell_type": "code",
   "execution_count": null,
   "metadata": {},
   "outputs": [],
   "source": [
    "amino_acids_map"
   ]
  },
  {
   "cell_type": "code",
   "execution_count": null,
   "metadata": {},
   "outputs": [],
   "source": [
    "# create dictionary using dict()\n",
    "amino_acids_test = dict(Ala = \"Alanine\", Ser = \"Serine\", Lys= \"Lysine\")"
   ]
  },
  {
   "cell_type": "code",
   "execution_count": null,
   "metadata": {},
   "outputs": [],
   "source": [
    "amino_acids_test"
   ]
  },
  {
   "cell_type": "code",
   "execution_count": null,
   "metadata": {},
   "outputs": [],
   "source": [
    "# the order does not matter, the content does\n",
    "\n",
    "amino_acids_map == amino_acids_test"
   ]
  },
  {
   "cell_type": "code",
   "execution_count": null,
   "metadata": {},
   "outputs": [],
   "source": [
    "# Check if key in dictionary\n",
    "\n"
   ]
  },
  {
   "cell_type": "code",
   "execution_count": null,
   "metadata": {},
   "outputs": [],
   "source": []
  },
  {
   "cell_type": "code",
   "execution_count": null,
   "metadata": {},
   "outputs": [],
   "source": [
    "'''\n",
    "Length of dictionary\n",
    "'''\n",
    "\n"
   ]
  },
  {
   "cell_type": "code",
   "execution_count": null,
   "metadata": {},
   "outputs": [],
   "source": [
    "amino_acids_test"
   ]
  },
  {
   "cell_type": "markdown",
   "metadata": {},
   "source": [
    "#### Retrieving a dictionary value - subset by key or use the get function"
   ]
  },
  {
   "cell_type": "code",
   "execution_count": null,
   "metadata": {},
   "outputs": [],
   "source": [
    "amino_acids_map[\"Leu\"]"
   ]
  },
  {
   "cell_type": "code",
   "execution_count": null,
   "metadata": {},
   "outputs": [],
   "source": []
  },
  {
   "cell_type": "code",
   "execution_count": null,
   "metadata": {},
   "outputs": [],
   "source": [
    "help(dict.get)"
   ]
  },
  {
   "cell_type": "code",
   "execution_count": null,
   "metadata": {},
   "outputs": [],
   "source": [
    "amino_acids_map.get(\"Leu\")"
   ]
  },
  {
   "cell_type": "code",
   "execution_count": null,
   "metadata": {},
   "outputs": [],
   "source": []
  },
  {
   "cell_type": "markdown",
   "metadata": {},
   "source": [
    "#### To add a new dictionary element - subset the dictionay using the new key and assign the value or use the update function"
   ]
  },
  {
   "cell_type": "code",
   "execution_count": null,
   "metadata": {},
   "outputs": [],
   "source": [
    "amino_acids_map[\"Ala\"] = \"Alanine\""
   ]
  },
  {
   "cell_type": "code",
   "execution_count": null,
   "metadata": {},
   "outputs": [],
   "source": [
    "amino_acids_map[\"Leu\"] = \"Leu cinne\""
   ]
  },
  {
   "cell_type": "markdown",
   "metadata": {},
   "source": [
    "#### The update function updates the value if the key exists or adds a new dictionary element if the key does not exist in the dictionary"
   ]
  },
  {
   "cell_type": "code",
   "execution_count": null,
   "metadata": {},
   "outputs": [],
   "source": [
    "\n",
    "amino_acids_map.update({\"Leu\": \"Leucine\"})"
   ]
  },
  {
   "cell_type": "code",
   "execution_count": null,
   "metadata": {},
   "outputs": [],
   "source": []
  },
  {
   "cell_type": "code",
   "execution_count": null,
   "metadata": {},
   "outputs": [],
   "source": [
    "amino_acids_map.update({\"Val\": \"Valeine\", \"Gln\": \"Glutamine\"})"
   ]
  },
  {
   "cell_type": "code",
   "execution_count": null,
   "metadata": {},
   "outputs": [],
   "source": [
    "amino_acids_map.values()"
   ]
  },
  {
   "cell_type": "code",
   "execution_count": null,
   "metadata": {},
   "outputs": [],
   "source": [
    "amino_acids_map.keys()"
   ]
  },
  {
   "cell_type": "code",
   "execution_count": null,
   "metadata": {},
   "outputs": [],
   "source": [
    "amino_acids_map.items()"
   ]
  },
  {
   "cell_type": "markdown",
   "metadata": {},
   "source": [
    "#### Removing elements is done using: del - subset by key to get element, pop(), popitem() or clear()\n",
    "#### It is done using the key of an element\n",
    "#### popitem() removes the last element"
   ]
  },
  {
   "cell_type": "code",
   "execution_count": null,
   "metadata": {},
   "outputs": [],
   "source": [
    "amino_acids_map.popitem()"
   ]
  },
  {
   "cell_type": "code",
   "execution_count": null,
   "metadata": {},
   "outputs": [],
   "source": []
  },
  {
   "cell_type": "markdown",
   "metadata": {},
   "source": [
    "#### <font color = \"red\">Exercise</font> \n",
    "Remove the element with Key \"Lys\" from the dictionary<br><br>"
   ]
  },
  {
   "cell_type": "code",
   "execution_count": null,
   "metadata": {},
   "outputs": [],
   "source": []
  },
  {
   "cell_type": "markdown",
   "metadata": {},
   "source": [
    "_______________\n",
    "### Sets - a collection of elements, is unordered, has no duplicates, can be changeable or unchangeable."
   ]
  },
  {
   "cell_type": "markdown",
   "metadata": {},
   "source": [
    "A set object is an unordered collection of distinct objects.<br>\n",
    "A set is mutable, unless it is a frozenset.<br>\n",
    "To create a set use braces to separate set elements or the set([iterable]) constructor.<br>\n",
    "Elements cannot be changed/updated, but can be added and removed.<br>\n",
    "The update() function can be used to add multiple elements.<br>"
   ]
  },
  {
   "cell_type": "markdown",
   "metadata": {},
   "source": [
    "https://www.w3schools.com/python/python_ref_set.asp\n",
    "\n",
    "<img src = \"set_ops.png\" width =  \"850\"/>"
   ]
  },
  {
   "cell_type": "code",
   "execution_count": null,
   "metadata": {},
   "outputs": [],
   "source": [
    "dir(set)"
   ]
  },
  {
   "cell_type": "code",
   "execution_count": null,
   "metadata": {},
   "outputs": [],
   "source": [
    "set()"
   ]
  },
  {
   "cell_type": "code",
   "execution_count": null,
   "metadata": {},
   "outputs": [],
   "source": [
    "model_organisms = {\"human\", \"mouse\", \"rat\", \"fruit fly\", \"worm\", \"E coli\"}\n"
   ]
  },
  {
   "cell_type": "code",
   "execution_count": null,
   "metadata": {},
   "outputs": [],
   "source": [
    "\"human\" in model_organisms\n"
   ]
  },
  {
   "cell_type": "code",
   "execution_count": null,
   "metadata": {},
   "outputs": [],
   "source": [
    "model_organisms.add(\"yeast\")\n"
   ]
  },
  {
   "cell_type": "code",
   "execution_count": null,
   "metadata": {},
   "outputs": [],
   "source": [
    "model_organisms.update([\"zebrafish\",\"frog\"])\n"
   ]
  },
  {
   "cell_type": "code",
   "execution_count": null,
   "metadata": {},
   "outputs": [],
   "source": [
    "# remove element from set using the remove function\n",
    "# raises exception if element does not exist\n",
    "\n",
    "model_organisms.remove(\"rat\")\n",
    "model_organisms"
   ]
  },
  {
   "cell_type": "code",
   "execution_count": null,
   "metadata": {},
   "outputs": [],
   "source": [
    "# remove element from set using the discard function\n",
    "# does not raise exception if element does not exist\n",
    "\n",
    "model_organisms.discard(\"rat\")\n",
    "model_organisms"
   ]
  },
  {
   "cell_type": "code",
   "execution_count": null,
   "metadata": {},
   "outputs": [],
   "source": [
    "model_organisms.discard(\"frog\")\n",
    "model_organisms"
   ]
  },
  {
   "cell_type": "code",
   "execution_count": null,
   "metadata": {},
   "outputs": [],
   "source": [
    "study_transcriptomics = {\"human\", \"mouse\", \"rat\", \"fruit fly\", \"worm\", \"E coli\"}\n",
    "study_proteomics = {\"rat, zebrafish\", \"frog\", \"yeast\", \"worm\"}"
   ]
  },
  {
   "cell_type": "code",
   "execution_count": null,
   "metadata": {},
   "outputs": [],
   "source": [
    "study_overall = study_transcriptomics.union(study_proteomics)"
   ]
  },
  {
   "cell_type": "markdown",
   "metadata": {},
   "source": [
    "https://docs.python.org/3/library/stdtypes.html#set"
   ]
  },
  {
   "cell_type": "markdown",
   "metadata": {},
   "source": [
    "#### <font color = \"red\">Demo</font> \n",
    "\n",
    "Given the previous 2 sets compute the intersection and difference.<br> \n",
    "Update study_proteomics with the elements of study_transcriptomics.<br>\n",
    "Check if study_proteomics is now equal with study_overall. <br>\n"
   ]
  },
  {
   "cell_type": "code",
   "execution_count": null,
   "metadata": {},
   "outputs": [],
   "source": []
  },
  {
   "cell_type": "code",
   "execution_count": null,
   "metadata": {},
   "outputs": [],
   "source": []
  },
  {
   "cell_type": "code",
   "execution_count": null,
   "metadata": {},
   "outputs": [],
   "source": []
  },
  {
   "cell_type": "code",
   "execution_count": null,
   "metadata": {},
   "outputs": [],
   "source": []
  },
  {
   "cell_type": "code",
   "execution_count": null,
   "metadata": {},
   "outputs": [],
   "source": []
  },
  {
   "cell_type": "code",
   "execution_count": null,
   "metadata": {},
   "outputs": [],
   "source": [
    "help(amino_acids_map.get)"
   ]
  },
  {
   "cell_type": "markdown",
   "metadata": {},
   "source": [
    "____\n",
    "#### Resources:\n",
    "\n",
    "\n",
    "https://docs.python.org/3/library/stdtypes.html      \n",
    "https://www.tutorialspoint.com/python/python_variable_types.htm       \n",
    "https://www.geeksforgeeks.org/python-data-types/      \n",
    "https://www.oreilly.com/library/view/bioinformatics-programming-using/9780596804725/ch01.html      \n",
    "http://doxey.uwaterloo.ca/tutorials/Python.html       \n",
    "http://biopython.org/DIST/docs/tutorial/Tutorial.pdf     \n",
    "https://docs.python.org/3/tutorial/datastructures.html     \n",
    "https://www.tutorialspoint.com/python/python_lists.htm     \n",
    "https://www.w3schools.com/python/python_lists.asp\n",
    "https://docs.python.org/3/tutorial/introduction.html     \n",
    "https://www.w3schools.com/python/python_strings.asp     \n",
    "https://www.w3schools.com/python/python_sets.asp     \n",
    "https://docs.python.org/3/tutorial/datastructures.html#dictionaries    \n",
    "https://docs.python.org/3/tutorial/datastructures.html#sets     \n",
    "https://www.tutorialspoint.com/python3/python_dictionary.htm    \n",
    "https://www.tutorialspoint.com/python_data_structure/python_sets.htm   \n",
    "\n",
    "\n",
    "\n"
   ]
  },
  {
   "cell_type": "code",
   "execution_count": null,
   "metadata": {},
   "outputs": [],
   "source": []
  }
 ],
 "metadata": {
  "kernelspec": {
   "display_name": "Python 3 (ipykernel)",
   "language": "python",
   "name": "python3"
  },
  "language_info": {
   "codemirror_mode": {
    "name": "ipython",
    "version": 3
   },
   "file_extension": ".py",
   "mimetype": "text/x-python",
   "name": "python",
   "nbconvert_exporter": "python",
   "pygments_lexer": "ipython3",
   "version": "3.8.10"
  }
 },
 "nbformat": 4,
 "nbformat_minor": 4
}
