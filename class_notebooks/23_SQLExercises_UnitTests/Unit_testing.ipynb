{
 "cells": [
  {
   "cell_type": "markdown",
   "id": "35baa1f5-4e17-443b-8460-a613d92764c8",
   "metadata": {},
   "source": [
    "## Unit testing - unittest \n",
    "### BIOINF 575 - Fall 2021"
   ]
  },
  {
   "cell_type": "markdown",
   "id": "dff69151-ee91-44e7-9959-7054eb985854",
   "metadata": {},
   "source": [
    "Testing is very important in software development because:    \n",
    "* It allows you to verify that your code does what is expected to do. \n",
    "    * If you do not test how would you know?  \n",
    "* It ensures the quality of the software.\n",
    "* The test cases can be run automatically once written but they are still designed and written by developers \n",
    "\n",
    "In python there are multiple packages for testing: \n",
    "* unittest - similar framework as the ones available in other major programming languages (e.g.: JUnit)  \n",
    "* doctest - test-support module with a very different flavor, writing the tests in the documentation\n",
    "* pytest - framework with a lighter-weight syntax for writing tests\n",
    "* ...\n",
    "\n",
    "https://docs.python.org/3/library/unittest.html\n",
    "\n",
    "`unittest` supports some important concepts in an object-oriented way:\n",
    "\n",
    "* test fixture - \n",
    "A test fixture represents the preparation needed to perform one or more tests, and any associated cleanup actions. This may involve, for example, creating temporary or proxy databases, directories, or starting a server process.\n",
    "\n",
    "* test case - \n",
    "A test case is the individual unit of testing. It checks for a specific response to a particular set of inputs. unittest provides a base class, TestCase, which may be used to create new test cases.\n",
    "\n",
    "* test suite - \n",
    "A test suite is a collection of test cases, test suites, or both. It is used to aggregate tests that should be executed together.\n",
    "\n",
    "* test runner - \n",
    "A test runner is a component which orchestrates the execution of tests and provides the outcome to the user. The runner may use a graphical interface, a textual interface, or return a special value to indicate the results of executing the tests.\n",
    "\n",
    "Examples:   \n",
    "https://realpython.com/python-testing/     \n",
    "https://www.datacamp.com/community/tutorials/unit-testing-python        \n",
    "https://www.geeksforgeeks.org/unit-testing-python-unittest/      \n",
    "https://docs.python-guide.org/writing/tests/      \n",
    "https://www.digitalocean.com/community/tutorials/how-to-use-unittest-to-write-a-test-case-for-a-function-in-python\n",
    "\n",
    "<b>A unit test is designed to test a small component of your system, a function </b> (an analogy would be a lightbulb in your car).\n"
   ]
  },
  {
   "cell_type": "code",
   "execution_count": null,
   "id": "06cb5fca-0219-4cb9-addb-d45b3950aa9e",
   "metadata": {},
   "outputs": [],
   "source": [
    "def computeGCp(seq):\n",
    "    pass "
   ]
  },
  {
   "cell_type": "markdown",
   "id": "c1120a7f-1995-473d-ba19-53472c461a85",
   "metadata": {},
   "source": [
    "#### How do you typically test the function?   \n",
    "##### Call the function with some test data and check the results."
   ]
  },
  {
   "cell_type": "code",
   "execution_count": null,
   "id": "9077f195-18bd-4acb-8004-7657447e8ef5",
   "metadata": {},
   "outputs": [],
   "source": [
    "sequence = \"CCTT\" # expected result 50% GC content\n",
    "computeGCp(seq = sequence)"
   ]
  },
  {
   "cell_type": "code",
   "execution_count": null,
   "id": "f9f8399c-f323-4afb-aa37-a261e0b0aa04",
   "metadata": {},
   "outputs": [],
   "source": [
    "sequence = \"CGTTAATA\" # expected result 25% GC content\n",
    "computeGCp(seq = sequence)"
   ]
  },
  {
   "cell_type": "code",
   "execution_count": null,
   "id": "17f1e4d7-0367-46ed-86a3-bb7a8a274082",
   "metadata": {},
   "outputs": [],
   "source": [
    "sequence = \"ATT\" # expected result 0% GC content\n",
    "computeGCp(seq = sequence)"
   ]
  },
  {
   "cell_type": "code",
   "execution_count": null,
   "id": "1e0006c5-907b-4821-9615-9454e0cf52a3",
   "metadata": {},
   "outputs": [],
   "source": []
  },
  {
   "cell_type": "markdown",
   "id": "8f5fb2af-eacd-42b8-9e5e-f8ac6bce1a9b",
   "metadata": {},
   "source": [
    "#### `assert` allows you to check the result of your function for a given input against the expected output\n",
    "\n",
    "https://www.w3schools.com/python/ref_keyword_assert.asp   \n",
    "The `assert` keyword is used when debugging code.\n",
    "\n",
    "The `assert` keyword lets you test if a condition in your code returns True, if not, the program will raise an AssertionError.\n",
    "\n",
    "You can write a message to be written if the code returns False, check the example below.\n",
    "\n"
   ]
  },
  {
   "cell_type": "code",
   "execution_count": null,
   "id": "55058631-3de4-4f46-95a3-b5df3ebfbb28",
   "metadata": {},
   "outputs": [],
   "source": [
    "assert computeGCp(\"C\") == 1, \"The result should be 1\""
   ]
  },
  {
   "cell_type": "markdown",
   "id": "65e6b47e-ba28-4815-8c94-fe658897fa96",
   "metadata": {},
   "source": [
    "#### We can write a function to test our function:"
   ]
  },
  {
   "cell_type": "code",
   "execution_count": null,
   "id": "ba6db51f-0c36-4915-86c0-4c1f58fa6afa",
   "metadata": {},
   "outputs": [],
   "source": [
    "def test_CGp(seq, p):\n",
    "    assert computeGCp(seq) == p, f\"SThe result should be {p}\""
   ]
  },
  {
   "cell_type": "code",
   "execution_count": null,
   "id": "cf7a5ffa-60b0-406d-94de-e3a7a10ea2e2",
   "metadata": {},
   "outputs": [],
   "source": [
    "# failing test \n",
    "test_CGp(\"AAT\", 0.2)"
   ]
  },
  {
   "cell_type": "code",
   "execution_count": null,
   "id": "fe58d2d0-15d7-4a59-a58d-15fc1e723677",
   "metadata": {},
   "outputs": [],
   "source": [
    "# good test\n",
    "test_CGp(\"AAT\", 0)"
   ]
  },
  {
   "cell_type": "code",
   "execution_count": null,
   "id": "210042a5-81d6-4566-894c-584141762071",
   "metadata": {},
   "outputs": [],
   "source": [
    "# good test\n",
    "test_CGp(\"TTCGAATT\", 0.25)"
   ]
  },
  {
   "cell_type": "markdown",
   "id": "4273eae2-5bc6-4ca2-85c6-47916d0ddb90",
   "metadata": {},
   "source": [
    "* We want tests to cover as many as the edge cases we can and we want them to always run\n",
    "\n",
    "* We should run our tests every time we change the code to be sure the existing functionality was not broken\n",
    "\n",
    "* If the code changes the  results should change then tests need to be updated "
   ]
  },
  {
   "cell_type": "code",
   "execution_count": null,
   "id": "d079bf9a-d3e0-4bb6-b086-1b85b79fc155",
   "metadata": {},
   "outputs": [],
   "source": []
  },
  {
   "cell_type": "markdown",
   "id": "8fcbefa6-6145-4f43-a627-8b5ede3517af",
   "metadata": {},
   "source": [
    "#### Let's write a unit test\n",
    "\n",
    "`unittest` has been built into the Python standard library since version 2.1. You’ll probably see it in commercial Python applications and open-source projects.\n",
    "\n",
    "`unittest` contains both a testing framework and a test runner. unittest has some important requirements for writing and executing tests.\n",
    "\n",
    "`unittest` requires that:\n",
    "\n",
    "* You put your tests into classes as methods\n",
    "* You use a series of special assertion methods in the unittest.TestCase class instead of the built-in assert statement\n",
    "\n",
    "To convert the earlier example to a `unittest` test case, you would have to:\n",
    "\n",
    "* Import unittest from the standard library\n",
    "* Create a class called TestSum that inherits from the TestCase class\n",
    "* Convert the test functions into methods by adding self as the first argument\n",
    "* Change the assertions to use the self.assertEqual() method on the TestCase class"
   ]
  },
  {
   "cell_type": "code",
   "execution_count": null,
   "id": "6d3ab094-e672-409e-9192-107bb1710657",
   "metadata": {},
   "outputs": [],
   "source": [
    "import unittest\n",
    "\n",
    "\n",
    "class TestComputeGCp(unittest.TestCase):\n",
    "\n",
    "    def test_computeGCp(self, seq, p):\n",
    "        self.assertEqual(computeGCp(seq), p, f\"The result should be {p}\")\n",
    "\n",
    "    def test_computeGCp_None(self):\n",
    "        self.assertEqual(computeGCp(None), None, \"The result should be None\")\n"
   ]
  },
  {
   "cell_type": "code",
   "execution_count": null,
   "id": "cfb6290e-7f98-49de-8f6a-912afe1c4506",
   "metadata": {},
   "outputs": [],
   "source": [
    "t = TestComputeGCp()"
   ]
  },
  {
   "cell_type": "code",
   "execution_count": null,
   "id": "e6dcf8c0-d2ff-4113-a892-7df9a3c397f7",
   "metadata": {},
   "outputs": [],
   "source": [
    "t.test_computeGCp(\"GG\", 1)"
   ]
  },
  {
   "cell_type": "code",
   "execution_count": null,
   "id": "a95c9889-605a-458e-8d63-c974db662e19",
   "metadata": {},
   "outputs": [],
   "source": [
    "t.test_computeGCp_None()"
   ]
  },
  {
   "cell_type": "code",
   "execution_count": null,
   "id": "54ac5d47-e2fc-48ca-9e2f-bd28b30e5ff2",
   "metadata": {},
   "outputs": [],
   "source": [
    "# handle the case when the input is None\n",
    "def computeGCp(seq):\n",
    "    pass"
   ]
  },
  {
   "cell_type": "code",
   "execution_count": null,
   "id": "a8e9ad3d-b0f3-42f4-9cda-ab7604e0f6b4",
   "metadata": {},
   "outputs": [],
   "source": [
    "t.test_computeGCp_None()"
   ]
  },
  {
   "cell_type": "code",
   "execution_count": null,
   "id": "adcb374e-0d75-4bfd-8f3e-f78ecf58eabb",
   "metadata": {},
   "outputs": [],
   "source": [
    "# will this work? - if not handle this at home\n",
    "t.test_computeGCp(\"\", 0)"
   ]
  },
  {
   "cell_type": "markdown",
   "id": "94fe0565-bbda-4a2c-beff-b368cda6ed5b",
   "metadata": {},
   "source": [
    "There are multiple assert functions in the unittest package:       \n",
    "assertEqual(a, b) _______________________a == b       \n",
    "assertNotEqual(a, b)____________________a != b       \n",
    "assertTrue(x)____________________________bool(x) is True       \n",
    "assertFalse(x)___________________________bool(x) is False       \n",
    "assertRaises(exc, fun, *args, **kwds)___fun(*args, **kwds) raises exc     \n",
    "assertAlmostEqual(a, b)__________________round(a-b, 7) == 0    \n",
    "....\n",
    "\n",
    "\n",
    "Complete list:   \n",
    "https://kapeli.com/cheat_sheets/Python_unittest_Assertions.docset/Contents/Resources/Documents/index"
   ]
  },
  {
   "cell_type": "markdown",
   "id": "a110920c-7e76-4755-81e2-eaf74300aabc",
   "metadata": {},
   "source": [
    "#### Organizing test code\n",
    "https://docs.python.org/3/library/unittest.html#organizing-test-code\n",
    "\n",
    "The basic building blocks of unit testing are test cases — single scenarios that must be set up and checked for correctness. \n",
    "\n",
    "In unittest, test cases are represented by unittest.TestCase instances. To make your own test cases you must write subclasses of TestCase or use FunctionTestCase.\n",
    "\n",
    "The testing code of a TestCase instance should be entirely self contained, such that it can be run either in isolation or in arbitrary combination with any number of other test cases.\n",
    "\n"
   ]
  },
  {
   "cell_type": "markdown",
   "id": "4a41683b-0f7f-4a6a-b748-754a406d80e9",
   "metadata": {},
   "source": [
    "You can put all your tests in a separate cell in you notebook.   \n",
    "When you write scripts or modules or packages you put the tests in different scripts/modules/packages."
   ]
  },
  {
   "cell_type": "code",
   "execution_count": null,
   "id": "548fed72-b325-4c29-8814-6cb2de0073c5",
   "metadata": {},
   "outputs": [],
   "source": []
  }
 ],
 "metadata": {
  "kernelspec": {
   "display_name": "Python 3 (ipykernel)",
   "language": "python",
   "name": "python3"
  },
  "language_info": {
   "codemirror_mode": {
    "name": "ipython",
    "version": 3
   },
   "file_extension": ".py",
   "mimetype": "text/x-python",
   "name": "python",
   "nbconvert_exporter": "python",
   "pygments_lexer": "ipython3",
   "version": "3.8.10"
  }
 },
 "nbformat": 4,
 "nbformat_minor": 5
}
