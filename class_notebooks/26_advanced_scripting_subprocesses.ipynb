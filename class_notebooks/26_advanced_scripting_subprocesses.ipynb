{
 "cells": [
  {
   "cell_type": "markdown",
   "metadata": {},
   "source": [
    "### Subprocesses"
   ]
  },
  {
   "cell_type": "markdown",
   "metadata": {},
   "source": [
    "One of the biggest strengths of Python is that it can be used as a *glue* language. <br>\n",
    "It can 'glue' together a series of programs into a flexible and highly extensible pipline."
   ]
  },
  {
   "cell_type": "markdown",
   "metadata": {},
   "source": [
    "### Why subprocesses\n",
    "One of the most common, yet complicated, tasks that most programming languages need to do is creating new processes. <br>\n",
    "This could be as simple as seeing what files are present in the current working directory (`ls`) or as complicated as creating a program workflow that *pipes* output from one program into another program's input. <br/><br/>\n",
    "Many such tasks are easily taken care of through the use of Python libraries and modules (`import`) that *wrap* the programs into Python code, effectively creating Application Programming Interfaces (API). <br/><br/>\n",
    "However, there are many use cases that require the user to make calls to the terminal from ***within*** a Python program."
   ]
  },
  {
   "cell_type": "markdown",
   "metadata": {},
   "source": [
    "#### Operating System Conundrum"
   ]
  },
  {
   "cell_type": "markdown",
   "metadata": {},
   "source": [
    "First, we need to address the following issue. As many in this class have found out, while Python can be installed on most operating systems; doing the same thing in one operating system (Unix) may not always yield the same results in another (Windows).<br/><br/>\n",
    "The very first step to making a program **\"OS-agnostic\"** is through the use of the `os` module."
   ]
  },
  {
   "cell_type": "code",
   "execution_count": null,
   "metadata": {},
   "outputs": [],
   "source": [
    "import os"
   ]
  },
  {
   "cell_type": "markdown",
   "metadata": {},
   "source": [
    "https://docs.python.org/3/library/os.html"
   ]
  },
  {
   "cell_type": "code",
   "execution_count": null,
   "metadata": {},
   "outputs": [],
   "source": [
    "#dir(os)"
   ]
  },
  {
   "cell_type": "code",
   "execution_count": null,
   "metadata": {},
   "outputs": [],
   "source": [
    "for elem in dir(os):\n",
    "    if \"error\" in elem:\n",
    "        print(elem)"
   ]
  },
  {
   "cell_type": "code",
   "execution_count": null,
   "metadata": {},
   "outputs": [],
   "source": [
    "# The name of the operating system dependent module imported. \n",
    "# The following names have currently been registered: 'posix', 'nt', 'java'\n",
    "# Portable Operating System Interface -  IEEE standard designed to facilitate application portability\n",
    "# (Windows) New Technology - a 32-bit operating system that supports preemptive multitasking\n",
    "# \n",
    "os.name"
   ]
  },
  {
   "cell_type": "code",
   "execution_count": null,
   "metadata": {},
   "outputs": [],
   "source": [
    "# Returns information identifying the current operating system. The return value is an object with five attributes:\n",
    "# - sysname - operating system name\n",
    "# - nodename - name of machine on network (implementation-defined)\n",
    "# - release - operating system release\n",
    "# - version - operating system version\n",
    "# - machine - hardware identifier\n",
    "\n",
    "os.uname()"
   ]
  },
  {
   "cell_type": "code",
   "execution_count": null,
   "metadata": {},
   "outputs": [],
   "source": [
    "import sys\n",
    "\n",
    "# https://docs.python.org/3/library/sys.html\n",
    "# This string contains a platform identifier that can be used to append platform-specific components\n",
    "# to sys.path, for instance.\n",
    "    \n",
    "sys.platform"
   ]
  },
  {
   "cell_type": "code",
   "execution_count": null,
   "metadata": {},
   "outputs": [],
   "source": [
    "# A list of strings that specifies the search path for modules. \n",
    "\n",
    "sys.path"
   ]
  },
  {
   "cell_type": "code",
   "execution_count": null,
   "metadata": {},
   "outputs": [],
   "source": [
    "# A mapping object representing the string environment.\n",
    "\n",
    "os.environ['HOME']"
   ]
  },
  {
   "cell_type": "code",
   "execution_count": null,
   "metadata": {},
   "outputs": [],
   "source": [
    "os.environ"
   ]
  },
  {
   "cell_type": "code",
   "execution_count": null,
   "metadata": {},
   "outputs": [],
   "source": [
    "#Return the value of the environment variable key if it exists, \n",
    "#or default if it doesn’t. key, default and the result are str.\n",
    "\n",
    "os.getenv(\"HOME\")"
   ]
  },
  {
   "cell_type": "code",
   "execution_count": null,
   "metadata": {},
   "outputs": [],
   "source": [
    "os.getenv(\"PATH\")"
   ]
  },
  {
   "cell_type": "code",
   "execution_count": null,
   "metadata": {},
   "outputs": [],
   "source": [
    "# Returns the list of directories that will be searched for a named executable,\n",
    "#similar to a shell, when launching a process. \n",
    "# env, when specified, should be an environment variable dictionary to lookup the PATH in. \n",
    "# By default, when env is None, environ is used.\n",
    "\n",
    "os.get_exec_path()"
   ]
  },
  {
   "cell_type": "markdown",
   "metadata": {},
   "source": [
    "The `os` module wraps OS-specific operations into a set of standardized commands. <br>\n",
    "For instance, the Linux end-of-line (EOL) character is a `\\n`, but `\\r\\n` in Windows. <br>\n",
    "In Python, we can just use the following:"
   ]
  },
  {
   "cell_type": "code",
   "execution_count": null,
   "metadata": {},
   "outputs": [],
   "source": [
    "# EOL - for the current (detected) environment\n",
    "\n",
    "'''\n",
    "The string used to separate (or, rather, terminate) lines on the current platform. \n",
    "This may be a single character, such as '\\n' for POSIX, or multiple characters, \n",
    "for example, '\\r\\n' for Windows. \n",
    "Do not use os.linesep as a line terminator when writing files opened in text mode (the default); \n",
    "use a single '\\n' instead, on all platforms.\n",
    "'''\n",
    "\n",
    "os.linesep"
   ]
  },
  {
   "cell_type": "markdown",
   "metadata": {},
   "source": [
    "Another example, in a Linux environment, one must use the following command to list the contents of a given directory:\n",
    "```\n",
    "ls -alh \n",
    "```\n",
    "\n",
    "In Windows, the equivalent is as follows:\n",
    "```\n",
    "dir\n",
    "```\n",
    "\n",
    "Python allows users to do a single command, in spite of the OS:"
   ]
  },
  {
   "cell_type": "code",
   "execution_count": null,
   "metadata": {},
   "outputs": [],
   "source": [
    "# List directory contents\n",
    "\n",
    "os.listdir(\"demoCM\")"
   ]
  },
  {
   "cell_type": "markdown",
   "metadata": {},
   "source": [
    "However, the biggest issue for creating an OS-agnostic program is ***paths*** <br/>\n",
    "Windows: `\"C:\\\\Users\\\\MDS\\\\Documents\"`<br/>\n",
    "Linux: `/mnt/c/Users/MDS/Documents/`<br/><br/>\n",
    "Enter Python:"
   ]
  },
  {
   "cell_type": "code",
   "execution_count": null,
   "metadata": {},
   "outputs": [],
   "source": [
    "# path joining from pwd\n",
    "pwd = os.getcwd()\n",
    "os.path.join(pwd,\"test.py\")"
   ]
  },
  {
   "cell_type": "markdown",
   "metadata": {},
   "source": [
    "### `subprocess`"
   ]
  },
  {
   "cell_type": "markdown",
   "metadata": {},
   "source": [
    "If you Google anything on how to run shell commands, but don't specify Python 3.x, you will likely get an answer that includes `popen`, `popen2`, or `popen3`. These were the most prolific ways to *open* a new *p*rocess. In Python 3.x, they encapsulated these functions into a new one called `run` available through the `subprocess` library."
   ]
  },
  {
   "cell_type": "code",
   "execution_count": null,
   "metadata": {},
   "outputs": [],
   "source": [
    "# Import and alias\n",
    "import subprocess as sp"
   ]
  },
  {
   "cell_type": "markdown",
   "metadata": {},
   "source": [
    "#### `check_output`"
   ]
  },
  {
   "cell_type": "code",
   "execution_count": null,
   "metadata": {},
   "outputs": [],
   "source": [
    "# check_output returns a bytestring by default, so I set encoding to convert it to strings.\n",
    "# [command, command line arguments]\n",
    "# change from bytes to string using encoding\n",
    "\n",
    "sp.check_output([\"echo\",\"test\"],encoding='utf_8')"
   ]
  },
  {
   "cell_type": "code",
   "execution_count": null,
   "metadata": {},
   "outputs": [],
   "source": [
    "sp.check_output([os.path.join(pwd,\"test.py\"),\"[1,2,3]\"],encoding='utf_8')"
   ]
  },
  {
   "cell_type": "markdown",
   "metadata": {},
   "source": [
    "The first thing we will look are trivial examples that demonstrate just capturing the *output* (stdout) of a program"
   ]
  },
  {
   "cell_type": "markdown",
   "metadata": {},
   "source": [
    "However, while the `check_output` function is still in the `subprocess` module, it can easily be converted into into a more specific and/or flexible `run` function signature."
   ]
  },
  {
   "cell_type": "markdown",
   "metadata": {},
   "source": [
    "#### `run`"
   ]
  },
  {
   "cell_type": "code",
   "execution_count": null,
   "metadata": {},
   "outputs": [],
   "source": [
    "sub = sp.run(\n",
    "    [\n",
    "        'echo',             # The command we want to run\n",
    "        'test'              # Arguments for the command\n",
    "    ],\n",
    "    encoding='utf_8',       # Converting byte code\n",
    "    stdout=sp.PIPE,         # Where to send the output\n",
    "    check=True              # Whether to raise an error if the process fails\n",
    ")  \n",
    "sub"
   ]
  },
  {
   "cell_type": "code",
   "execution_count": null,
   "metadata": {},
   "outputs": [],
   "source": [
    "dir(sub)"
   ]
  },
  {
   "cell_type": "code",
   "execution_count": null,
   "metadata": {},
   "outputs": [],
   "source": [
    "print(sub.stdout)"
   ]
  },
  {
   "cell_type": "markdown",
   "metadata": {},
   "source": [
    "The main utility of `check_output` was to capture the output (stdout) of a program. <br>\n",
    "By using the `stdout=subprocess.PIPE` argument, the output can easily be captured, along with its return code. <br>\n",
    "A return code signifies the program's exit status: 0 for success, anything else otherwise"
   ]
  },
  {
   "cell_type": "code",
   "execution_count": null,
   "metadata": {},
   "outputs": [],
   "source": [
    "sub.returncode"
   ]
  },
  {
   "cell_type": "markdown",
   "metadata": {},
   "source": [
    "With our `run` code above, our program ran to completetion, exiting with status 0. The next example shows a different status."
   ]
  },
  {
   "cell_type": "code",
   "execution_count": null,
   "metadata": {},
   "outputs": [],
   "source": [
    "sp.run(\n",
    "        'exit 1',      # Command & arguments\n",
    "        shell = True   # Run from the shell\n",
    "        )\n"
   ]
  },
  {
   "cell_type": "markdown",
   "metadata": {},
   "source": [
    "However, if the `check=True` argument is used, it will raise a `CalledProcessError` if your program exits with anything different than 0. This is helpful for detecting a pipeline failure, and exiting or correcting before attempting to continue computation."
   ]
  },
  {
   "cell_type": "code",
   "execution_count": null,
   "metadata": {},
   "outputs": [],
   "source": [
    "sp.run(\n",
    "        'exit 1',      # Command & arguments\n",
    "        shell = True,  # Run from the shell\n",
    "        check = True   # Check exit status\n",
    "    )"
   ]
  },
  {
   "cell_type": "code",
   "execution_count": null,
   "metadata": {},
   "outputs": [],
   "source": [
    "sub = sp.run(\n",
    "        'exit 1',      # Command & arguments\n",
    "        shell = True,  # Run from the shell\n",
    "        # check = True   # Check exit status\n",
    "    )\n",
    "if (sub.returncode != 0):\n",
    "    print(f\"Exit code {sub.returncode}. Expected 0 when there is no error.\")"
   ]
  },
  {
   "cell_type": "markdown",
   "metadata": {},
   "source": [
    "#### Syntax"
   ]
  },
  {
   "cell_type": "markdown",
   "metadata": {},
   "source": [
    "Syntax when using `run`:<br/>\n",
    "1. A list of arguments: `subprocess.run(['echo', 'test', ...], ...)` \n",
    "2. A string and `shell`: `subprocess.run('exit 1', shell = True, ...)`"
   ]
  },
  {
   "cell_type": "markdown",
   "metadata": {},
   "source": [
    "The preferred way of using `run` is the first way. <br>\n",
    "This preference is mainly due to security purposes (to prevent shell injection attacks). <br>\n",
    "It also allows the module to take care of any required escaping and quoting of arguments for a pseudo-OS-agnostic approach. "
   ]
  },
  {
   "cell_type": "markdown",
   "metadata": {},
   "source": [
    "There are some guidelines though:\n",
    "1. Sequence (list) of arguments is generally preferred\n",
    "2. A str is appropriate if the user is just calling a program with no arguments\n",
    "3. The user should use a str to pass argument if `shell` is `True`<br/>\n",
    "Your next questions should be, \"What is `shell`?\""
   ]
  },
  {
   "cell_type": "markdown",
   "metadata": {},
   "source": [
    "`shell` is just your terminal/command prompt. This is the environment where you call `ls/dir` in. It is also where users can define variables. More importantly, this is where your *environmental variables* are set...like `PATH`.<br/><br/>\n",
    "By using `shell = True`, the user can now use shell-based environmental variable expansion from within a Python program."
   ]
  },
  {
   "cell_type": "code",
   "execution_count": null,
   "metadata": {},
   "outputs": [],
   "source": [
    "sp.run(\n",
    "        'echo $PATH',            # Command\n",
    "        shell = True,            # Use the shell\n",
    "        stdout=sp.PIPE,          # Where to send it\n",
    "        encoding='utf_8'         # Convert from bytes to string\n",
    "    )      # Look at the output\n"
   ]
  },
  {
   "cell_type": "code",
   "execution_count": null,
   "metadata": {},
   "outputs": [],
   "source": [
    "p1 = sp.run(\n",
    "        'sleep 5',               # Command\n",
    "        shell = True,            # Use the shell\n",
    "        stdout=sp.PIPE,          # Where to send it\n",
    "        encoding='utf_8'         # Convert from bytes to string\n",
    "    )\n",
    "print(p1)\n",
    "p2 = sp.run(\n",
    "        'echo done',             # Command\n",
    "        shell = True,            # Use the shell\n",
    "        stdout=sp.PIPE,          # Where to send it\n",
    "        encoding='utf_8'         # Convert from bytes to string\n",
    "    )\n",
    "print(p2)"
   ]
  },
  {
   "cell_type": "markdown",
   "metadata": {},
   "source": [
    "For the most part, you shouldn't need to use `shell` simply because Python has modules in the standard library that can do most of the shell commands. For example `mkdir` can be done with `os.mkdir()`, and `$PATH` can be retrieved using os.getenv(\"PATH\") or os.get_exec_path() as shown above. "
   ]
  },
  {
   "cell_type": "markdown",
   "metadata": {},
   "source": [
    "#### Blocking vs Non-blocking"
   ]
  },
  {
   "cell_type": "markdown",
   "metadata": {},
   "source": [
    "The last topic of this lecture is \"blocking\". This is computer science lingo/jargon for whether or not a program ***waits*** until something is complete before moving on. Think of this like a really bad website that takes forever to load because it is waiting until it has rendered all its images first, versus the website that sets the formatting and text while it works on the images."
   ]
  },
  {
   "cell_type": "markdown",
   "metadata": {},
   "source": [
    "1. `subprocess.run()` is blocking (it waits until the process is complete)\n",
    "2. `subprocess.Popen()` is non-blocking (it will run the command, then move on)"
   ]
  },
  {
   "cell_type": "markdown",
   "metadata": {},
   "source": [
    "***Most*** use cases can be handled through the use of `run()`.<br> \n",
    "`run()` is just a *wrapped* version of `Popen()` that simplifies use. <br>\n",
    "However, `Popen()` allows the user a more flexible control of the subprocess call. <br>\n",
    "`Popen()` can be used similar way as run (with more optional parameters)."
   ]
  },
  {
   "cell_type": "markdown",
   "metadata": {},
   "source": [
    "An example use case for `Popen()` is if the user has some intermediate data that needs to get processed, but the output of that data doesn't necessarily affect the rest of the pipeline."
   ]
  },
  {
   "cell_type": "markdown",
   "metadata": {},
   "source": [
    "#### `Popen`"
   ]
  },
  {
   "cell_type": "code",
   "execution_count": null,
   "metadata": {},
   "outputs": [],
   "source": [
    "p1 = sp.Popen(\n",
    "        'sleep 5',               # Command\n",
    "        shell = True,            # Use the shell\n",
    "        stdout=sp.PIPE,          # Where to send it\n",
    "        encoding='utf_8'         # Convert from bytes to string\n",
    "    )\n",
    "print(p1)\n",
    "p2 = sp.Popen(\n",
    "        'echo done',             # Command\n",
    "        shell = True,            # Use the shell\n",
    "        stdout=sp.PIPE,          # Where to send it\n",
    "        encoding='utf_8'         # Convert from bytes to string\n",
    "    )\n",
    "print(p2)\n",
    "print(\"processes ran\")\n",
    "\n",
    "print(p1.stdout.read())\n",
    "print(p2.stdout.read())\n",
    "print(\"processes completed\")\n",
    "\n"
   ]
  },
  {
   "cell_type": "code",
   "execution_count": null,
   "metadata": {},
   "outputs": [],
   "source": [
    "# Use context manager to handle process while it is running,\n",
    "# and gracefully close it\n",
    "with sp.Popen(\n",
    "    [\n",
    "        'echo',         # Command\n",
    "        'here we are'       # Command line arguments\n",
    "    ],\n",
    "    encoding='utf_8', # Convert from byte to string\n",
    "    stdout=sp.PIPE    # Where to send it\n",
    ") as proc:            # Enclose and alias the context manager\n",
    "    print(\n",
    "        proc.stdout.read() # Look at the output\n",
    "    )"
   ]
  },
  {
   "cell_type": "code",
   "execution_count": null,
   "metadata": {},
   "outputs": [],
   "source": [
    "for elem in dir(proc):\n",
    "    if not elem.startswith('_'):\n",
    "        print(elem)"
   ]
  },
  {
   "cell_type": "markdown",
   "metadata": {},
   "source": [
    "#### ***NOTE***: From here on out, there might be different commands used for **Linux** / **MacOS** or **Windows**"
   ]
  },
  {
   "cell_type": "markdown",
   "metadata": {},
   "source": [
    "Add the following text to a new file `test_pipe.txt` \n",
    "```\n",
    "testing\n",
    "a\n",
    "subprocess\n",
    "pipe\n",
    "```"
   ]
  },
  {
   "cell_type": "code",
   "execution_count": null,
   "metadata": {},
   "outputs": [],
   "source": [
    "# another way to add the text to the file\n",
    "#test_pipe.txt - a file to be used to demonstrate pipe of cat and sort \n",
    "!echo testing > test_pipe.txt\n",
    "!echo a >> test_pipe.txt\n",
    "!echo subprocess >> test_pipe.txt\n",
    "!echo pipe >> test_pipe.txt\n"
   ]
  },
  {
   "cell_type": "code",
   "execution_count": null,
   "metadata": {},
   "outputs": [],
   "source": [
    "# start the first process - cat - reading the file content\n",
    "\n",
    "# mac OS\n",
    "p1 = sp.Popen(['cat','test_pipe.txt'], stdout=sp.PIPE, encoding='utf_8')\n",
    "\n",
    "# windows OS\n",
    "# p1 = sp.Popen(['type','test_pipe.txt'], stdout=sp.PIPE, encoding='utf_8')\n",
    "\n",
    "print(p1.stdout.read())"
   ]
  },
  {
   "cell_type": "code",
   "execution_count": null,
   "metadata": {},
   "outputs": [],
   "source": [
    "# add the second process and connect the pipe: \n",
    "# for p2 we use stdin=p1.stdout\n",
    "\n",
    "# mac OS\n",
    "p1 = sp.Popen(['cat','test_pipe.txt'], stdout=sp.PIPE, encoding='utf_8')\n",
    "\n",
    "# windows OS\n",
    "# p1 = sp.Popen(['type','test_pipe.txt'], stdout=sp.PIPE, encoding='utf_8')\n",
    "\n",
    "\n",
    "p2 = sp.Popen(['sort'], stdin=p1.stdout, stdout=sp.PIPE, encoding='utf_8')\n",
    "p1.stdout.close()  # Allow p1 to receive a SIGPIPE if p2 exits\n",
    "output = p2.communicate()[0]\n",
    "print(output)\n"
   ]
  },
  {
   "cell_type": "markdown",
   "metadata": {},
   "source": [
    "`Popen` can create background processes, shell-background-like behavior means not blocking. <br>\n",
    "`Popen` has a lot more functionality than `run`."
   ]
  },
  {
   "cell_type": "code",
   "execution_count": null,
   "metadata": {},
   "outputs": [],
   "source": [
    "sub_popen = sp.Popen(\n",
    "    [\n",
    "        'echo',          # Command\n",
    "        'test',        # Command line arguments\n",
    "    ],\n",
    "    encoding='utf_8',  # Convert from byte to string\n",
    "    stdout=sp.PIPE     # Where to send it\n",
    ")\n",
    "for j in dir(sub_popen):\n",
    "    if not j.startswith('_'):\n",
    "        print(j)\n"
   ]
  },
  {
   "cell_type": "code",
   "execution_count": null,
   "metadata": {},
   "outputs": [],
   "source": [
    "sub_popen.kill()       # Close the process"
   ]
  },
  {
   "cell_type": "markdown",
   "metadata": {},
   "source": [
    "Example creating child process.<br>\n",
    "https://pymotw.com/3/subprocess/\n",
    "\n",
    "A collection of `Popen` examples: <br>\n",
    "https://www.programcreek.com/python/example/50/subprocess.Popen"
   ]
  },
  {
   "cell_type": "markdown",
   "metadata": {},
   "source": [
    "#### Exercise \n",
    "Write bash script that takes the file as an argument and returns lines that contain the letter p\n",
    "\n",
    "\n"
   ]
  },
  {
   "cell_type": "code",
   "execution_count": null,
   "metadata": {},
   "outputs": [],
   "source": []
  },
  {
   "cell_type": "markdown",
   "metadata": {},
   "source": [
    "#### Exercise -  only if you have R installed\n",
    "Write R script that takes the file `test_R.txt` as an argument and return the sum of the matrix from the file\n",
    "\n",
    "```\n",
    "rN\tval1\tval2\n",
    "r1\t1\t2\n",
    "r2\t3\t4\n",
    "```"
   ]
  },
  {
   "cell_type": "code",
   "execution_count": null,
   "metadata": {},
   "outputs": [],
   "source": []
  },
  {
   "cell_type": "code",
   "execution_count": null,
   "metadata": {},
   "outputs": [],
   "source": []
  },
  {
   "cell_type": "code",
   "execution_count": null,
   "metadata": {},
   "outputs": [],
   "source": []
  }
 ],
 "metadata": {
  "kernelspec": {
   "display_name": "Python 3 (ipykernel)",
   "language": "python",
   "name": "python3"
  },
  "language_info": {
   "codemirror_mode": {
    "name": "ipython",
    "version": 3
   },
   "file_extension": ".py",
   "mimetype": "text/x-python",
   "name": "python",
   "nbconvert_exporter": "python",
   "pygments_lexer": "ipython3",
   "version": "3.8.10"
  }
 },
 "nbformat": 4,
 "nbformat_minor": 4
}
