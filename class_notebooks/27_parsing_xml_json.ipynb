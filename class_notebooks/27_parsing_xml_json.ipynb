{
 "cells": [
  {
   "cell_type": "markdown",
   "metadata": {},
   "source": [
    "### Bioinformatics and text files \n",
    "\n",
    "The following text is from:  \n",
    "https://medium.com/ngs-sh/a-simple-introduction-to-xml-and-json-4547b93c9aae\n",
    "\n",
    "Most bioinformatics file formats are simple text files, a famous example being the FASTA format to store sequences. Historically, most file formats were proposed to ad hoc address a specific need, resulting in a fragmented universe of formats.\n",
    "\n",
    "Examples of famous bioinformatics formats are the FASTA and FASTQ for sequences, the SAM format to store details of sequence mappings, the VCF format to describe the variants of an individual compared to a reference genome, the GFF and BED formats to describe features in a genome (e. g. genes, enhancers, binding sites…).\n",
    "\n",
    "#### XML and JSON\n",
    "Among the “general purpose” formats commonly used in computer science, two are XML (for eXtensible Markup Language) and JSON (JavaScript Object Notation). The former has been very popular at the beginning of the new century, while the latter gained popularity later in this decade. They are both meant to encode structured information, and possibly to be able to describe any form of document needed (not necessarily in an ideal way). XML is more formal and enables a strict adherence to a defined structure, while JSON is a simpler data container (but this simplicity resulted in a good popularity in later times, the BIOM 1.0 format is an example of widely adopted JSON format).\n"
   ]
  },
  {
   "cell_type": "markdown",
   "metadata": {},
   "source": [
    "_________\n",
    "\n",
    "### Extensible Markup Language -- `xml` -- format\n",
    "\n",
    "The following text is from:    \n",
    "https://www.tutorialspoint.com/xml/xml_overview.htm\n",
    "\n",
    "XML stands for Extensible Markup Language. It is a text-based markup language derived from Standard Generalized Markup Language (SGML).\n",
    "\n",
    "XML tags identify the data and are used to store and organize the data, rather than specifying how to display it like HTML tags, which are used to display the data. XML is not going to replace HTML in the near future, but it introduces new possibilities by adopting many successful features of HTML.\n",
    "\n",
    "There are three important characteristics of XML that make it useful in a variety of systems and solutions:  \n",
    "* XML is extensible − XML allows you to create your own self-descriptive tags, or language, that suits your application.\n",
    "* XML carries the data, does not present it − XML allows you to store the data irrespective of how it will be presented.\n",
    "* XML is a public standard − XML was developed by an organization called the World Wide Web Consortium (W3C) and is available as an open standard.\n",
    "\n",
    "##### XML Usage\n",
    "A short list of XML usage says it all:\n",
    "* XML can work behind the scene to simplify the creation of HTML documents for large web sites.\n",
    "* XML can be used to exchange the information between organizations and systems.\n",
    "* XML can be used for offloading and reloading of databases.\n",
    "* XML can be used to store and arrange the data, which can customize your data handling needs.\n",
    "* XML can easily be merged with style sheets to create almost any desired output.\n",
    "\n",
    "Virtually, any type of data can be expressed as an XML document.\n",
    "\n",
    "##### What is Markup?   \n",
    "XML is a markup language that defines set of rules for encoding documents in a format that is both human-readable and machine-readable. So what exactly is a markup language? Markup is information added to a document that enhances its meaning in certain ways, in that it identifies the parts and how they relate to each other. More specifically, a markup language is a set of symbols that can be placed in the text of a document to demarcate and label the parts of that document.\n",
    "\n",
    "\n"
   ]
  },
  {
   "cell_type": "markdown",
   "metadata": {},
   "source": [
    "#### Parsing `xml` files\n",
    "\n",
    "```python\n",
    "import xml.etree.ElementTree as ET\n",
    "```\n",
    "\n",
    "https://docs.python.org/3/library/xml.html\n",
    "\n",
    "The XML handling submodules are:\n",
    "\n",
    "* xml.etree.ElementTree: the ElementTree API, a simple and lightweight XML processor\n",
    "* xml.dom: the DOM API definition\n",
    "* xml.dom.minidom: a minimal DOM implementation\n",
    "* xml.dom.pulldom: support for building partial DOM trees\n",
    "* xml.sax: SAX2 base classes and convenience functions\n",
    "* xml.parsers.expat: the Expat parser binding\n",
    "\n"
   ]
  },
  {
   "cell_type": "markdown",
   "metadata": {},
   "source": [
    "`genes.xml`\n",
    "\n",
    "```xml\n",
    "<?xml version=\"1.0\"?>\n",
    "<data>\n",
    "    <gene symbol=\"BRCA1\">\n",
    "        <id>672</id>\n",
    "        <name>BRCA1 DNA repair associated</name>\n",
    "        <gdppc>141100</gdppc>\n",
    "        <alias sym=\"IRIS\"/>\n",
    "        <alias sym=\"PSCP\"/>\n",
    "    </gene>\n",
    "    <gene symbol=\"BRCA2\">\n",
    "        <id>675</id>\n",
    "        <name>BRCA2 DNA repair associated</name>\n",
    "        <alias sym=\"FAD\"/>\n",
    "        <alias sym=\"FAD1\"/>\n",
    "        <alias sym=\"BRCC2\"/>\n",
    "    </gene>\n",
    "</data>\n",
    "```"
   ]
  },
  {
   "cell_type": "code",
   "execution_count": null,
   "metadata": {},
   "outputs": [],
   "source": [
    "import xml.etree.ElementTree as ET"
   ]
  },
  {
   "cell_type": "code",
   "execution_count": null,
   "metadata": {},
   "outputs": [],
   "source": [
    "# see what is available for the ElementTree objects \n",
    "[elem for elem in dir(ET) if not elem.startswith(\"_\")]"
   ]
  },
  {
   "cell_type": "code",
   "execution_count": null,
   "metadata": {},
   "outputs": [],
   "source": [
    "help(ET.parse)"
   ]
  },
  {
   "cell_type": "code",
   "execution_count": null,
   "metadata": {},
   "outputs": [],
   "source": [
    "tree = ET.parse('genes.xml')"
   ]
  },
  {
   "cell_type": "code",
   "execution_count": null,
   "metadata": {},
   "outputs": [],
   "source": [
    "[elem for elem in dir(tree) if not elem.startswith(\"_\")]"
   ]
  },
  {
   "cell_type": "code",
   "execution_count": null,
   "metadata": {},
   "outputs": [],
   "source": [
    "help(tree.getroot)"
   ]
  },
  {
   "cell_type": "code",
   "execution_count": null,
   "metadata": {},
   "outputs": [],
   "source": [
    "root = tree.getroot()"
   ]
  },
  {
   "cell_type": "code",
   "execution_count": null,
   "metadata": {},
   "outputs": [],
   "source": [
    "[elem for elem in dir(root) if not elem.startswith(\"_\")]"
   ]
  },
  {
   "cell_type": "code",
   "execution_count": null,
   "metadata": {},
   "outputs": [],
   "source": [
    "# As an Element object, root has a tag and a dictionary of attributes:\n",
    "root.tag"
   ]
  },
  {
   "cell_type": "code",
   "execution_count": null,
   "metadata": {},
   "outputs": [],
   "source": [
    "root.attrib"
   ]
  },
  {
   "cell_type": "code",
   "execution_count": null,
   "metadata": {},
   "outputs": [],
   "source": [
    "# root also has child Elements\n",
    "for child in root:\n",
    "    print(child.tag, child.attrib)"
   ]
  },
  {
   "cell_type": "code",
   "execution_count": null,
   "metadata": {},
   "outputs": [],
   "source": []
  },
  {
   "cell_type": "code",
   "execution_count": null,
   "metadata": {},
   "outputs": [],
   "source": [
    "# Children are nested, and we can access specific child nodes by index:\n",
    "\n",
    "root[0].attrib"
   ]
  },
  {
   "cell_type": "code",
   "execution_count": null,
   "metadata": {},
   "outputs": [],
   "source": [
    "root[0][0].text"
   ]
  },
  {
   "cell_type": "code",
   "execution_count": null,
   "metadata": {},
   "outputs": [],
   "source": [
    "root[0][1].text"
   ]
  },
  {
   "cell_type": "code",
   "execution_count": null,
   "metadata": {},
   "outputs": [],
   "source": []
  },
  {
   "cell_type": "markdown",
   "metadata": {},
   "source": [
    "Element has some useful methods that help iterate recursively over all the sub-tree below it (its children, their children, and so on). For example, Element.iter()"
   ]
  },
  {
   "cell_type": "code",
   "execution_count": null,
   "metadata": {},
   "outputs": [],
   "source": [
    "# we can explore specific tags\n",
    "\n",
    "for alias in root.iter('alias'):\n",
    "    print(alias.attrib)"
   ]
  },
  {
   "cell_type": "code",
   "execution_count": null,
   "metadata": {},
   "outputs": [],
   "source": [
    "genes = []\n",
    "for gene in root.findall('gene'):\n",
    "    gene_id = gene.find('id').text\n",
    "    symbol = gene.get('symbol')\n",
    "    name = gene.find('name').text\n",
    "    aliases = []\n",
    "    for alias in gene.findall('alias'):\n",
    "        aliases.append(alias.get('sym'))\n",
    "    genes.append((gene_id, symbol, name, aliases))\n",
    "genes"
   ]
  },
  {
   "cell_type": "code",
   "execution_count": null,
   "metadata": {},
   "outputs": [],
   "source": []
  },
  {
   "cell_type": "code",
   "execution_count": null,
   "metadata": {},
   "outputs": [],
   "source": [
    "# xml to pandas DataFrame\n",
    "import pandas as pd\n",
    "pd.DataFrame(genes, columns = (\"gene_id\", \"symbol\", \"name\", \"aliases\"))"
   ]
  },
  {
   "cell_type": "code",
   "execution_count": null,
   "metadata": {},
   "outputs": [],
   "source": []
  },
  {
   "cell_type": "markdown",
   "metadata": {},
   "source": [
    "#### xml to pandas DataFrame\n",
    "from: https://www.geeksforgeeks.org/how-to-create-pandas-dataframe-from-nested-xml/\n",
    "\n",
    "Save the following content into a file stores.xml\n",
    "\n",
    "```xml\n",
    "<?xml version=\"1.0\" encoding=\"UTF-8\"?>\n",
    "  \n",
    "       <Food>\n",
    "  \n",
    "           <Info>\n",
    "           <Msg>Food Store items.</Msg>\n",
    "           </Info>\n",
    "  \n",
    "           <store slNo=\"1\">\n",
    "               <foodItem>oranges</foodItem>\n",
    "               <price>5</price>\n",
    "               <quantity>1kg</quantity>\n",
    "               <discount>7%</discount>\n",
    "           </store>\n",
    "  \n",
    "           <store slNo=\"2\">\n",
    "               <foodItem>carrots</foodItem>\n",
    "               <price>2</price>\n",
    "               <quantity>1kg</quantity>\n",
    "               <discount>5%</discount>\n",
    "           </store>\n",
    "  \n",
    "       </Food>\n",
    "```\n"
   ]
  },
  {
   "cell_type": "code",
   "execution_count": null,
   "metadata": {},
   "outputs": [],
   "source": [
    "import xml.etree.ElementTree as ETree\n",
    "import pandas as pd\n",
    "  \n",
    "# give the path where you saved the xml file # inside the quotes\n",
    "\n",
    "prstree = ETree.parse(\"stores.xml\")\n",
    "root = prstree.getroot()\n",
    "  \n",
    "# print(root)\n",
    "store_items = []\n",
    "all_items = []\n",
    "  \n",
    "for storeno in root.iter('store'):\n",
    "    \n",
    "    store_Nr = storeno.attrib.get('slNo')\n",
    "    itemsF = storeno.find('foodItem').text\n",
    "    price = storeno.find('price').text\n",
    "    quan = storeno.find('quantity').text\n",
    "    dis = storeno.find('discount').text\n",
    "  \n",
    "    store_items = [store_Nr, itemsF, price, quan, dis]\n",
    "    all_items.append(store_items)\n",
    "  \n",
    "xmlToDf = pd.DataFrame(all_items, columns=['SL No', 'ITEM_NUMBER', 'PRICE', 'QUANTITY', 'DISCOUNT'])\n",
    "  \n",
    "print(xmlToDf.to_string(index=False))"
   ]
  },
  {
   "cell_type": "code",
   "execution_count": null,
   "metadata": {},
   "outputs": [],
   "source": []
  },
  {
   "cell_type": "markdown",
   "metadata": {},
   "source": [
    "Resources:\n",
    "\n",
    "https://www.geeksforgeeks.org/xml-parsing-python/\n",
    "https://www.w3schools.com/xml/\n",
    "https://www.tutorialspoint.com/python/python_xml_processing.htm\n",
    "https://docs.python.org/3/library/xml.etree.elementtree.html\n",
    "https://realpython.com/python-xml-parser/\n",
    "https://docs.python-guide.org/scenarios/xml/\n",
    "https://www.geeksforgeeks.org/reading-and-writing-xml-files-in-python/\n",
    "https://www.guru99.com/manipulating-xml-with-python.html\n"
   ]
  },
  {
   "cell_type": "code",
   "execution_count": null,
   "metadata": {},
   "outputs": [],
   "source": []
  },
  {
   "cell_type": "markdown",
   "metadata": {
    "tags": []
   },
   "source": [
    "______\n",
    "\n",
    "### JavaScript Object Notation -- `json` -- format\n",
    "\n",
    "A JSON document is composed by a list of items stored as key and value pairs.    \n",
    "Values can be single values (strings, integers, floating point…) or a list of values.\n",
    "\n",
    "https://medium.com/ngs-sh/a-simple-introduction-to-xml-and-json-4547b93c9aae\n",
    "\n",
    "\n",
    "JSON supports primitive types, like strings and numbers, as well as nested lists, tuples, and objects (dict), or null (None).  "
   ]
  },
  {
   "cell_type": "markdown",
   "metadata": {},
   "source": [
    "#### Working with `json` format data"
   ]
  },
  {
   "cell_type": "markdown",
   "metadata": {},
   "source": [
    "Import the `json` module.   \n",
    "https://docs.python.org/3/library/json.html    \n",
    "To work with JSON data (string or JSON file), first, it has to be 'translated' into the python data structure. In this lesson, we are going to use python's built-in module json to do it.   \n",
    "\n",
    "```python\n",
    "import json\n",
    "```\n",
    "   \n",
    "There are a few python methods used to load json data:   \n",
    "\n",
    "* load(): This method loads data from a JSON file into a python dictionary.\n",
    "* loads(): This method loads data from a JSON variable into a python dictionary.\n",
    "* dump(): This method loads data from the python dictionary to the JSON file.\n",
    "* dumps(): This method loads data from the python dictionary to the JSON variable.\n",
    "\n",
    "https://www.networkacademy.io/devnet-associate/data-formats/parsing-json-with-python\n",
    "\n",
    "Datatypes conversion: python to json  \n",
    "\n",
    "| Python                                 | JSON   |\n",
    "|----------------------------------------|--------|\n",
    "| dict                                   | object |\n",
    "| list, tuple                            | array  |\n",
    "| str                                    | string |\n",
    "| int, float, int- & float-derived Enums | number |\n",
    "| True                                   | true   |\n",
    "| False                                  | false  |\n",
    "| None                                   | null   |\n",
    "\n"
   ]
  },
  {
   "cell_type": "markdown",
   "metadata": {},
   "source": [
    "`gene.json`\n",
    "\n",
    "```json\n",
    "{\n",
    "  \"id\": 672,\n",
    "  \"symbol\": \"BRCA1\",\n",
    "  \"full_name\": \"BRCA1 DNA repair associated\",\n",
    "  \"aliases\": [\n",
    "    \"IRIS\",\n",
    "    \"PSCP\",\n",
    "    \"BRCAI\",\n",
    "    \"FANCS\",\n",
    "    \"PNCA4\",\n",
    "    \"RNF53\",\n",
    "    \"BROVCA1\",\n",
    "    \"PPP1R53\"\n",
    "  ]\n",
    "}\n",
    "```"
   ]
  },
  {
   "cell_type": "code",
   "execution_count": null,
   "metadata": {},
   "outputs": [],
   "source": [
    "import json"
   ]
  },
  {
   "cell_type": "code",
   "execution_count": null,
   "metadata": {},
   "outputs": [],
   "source": [
    "help(json.load)"
   ]
  },
  {
   "cell_type": "code",
   "execution_count": null,
   "metadata": {},
   "outputs": [],
   "source": [
    "with open(\"gene.json\") as gene_file: \n",
    "    gene1_dict = json.load(gene_file) \n",
    "gene1_dict"
   ]
  },
  {
   "cell_type": "code",
   "execution_count": null,
   "metadata": {},
   "outputs": [],
   "source": [
    "test_lst = [1,2,3, (\"test\", \"gene\")]"
   ]
  },
  {
   "cell_type": "code",
   "execution_count": null,
   "metadata": {},
   "outputs": [],
   "source": [
    "# create json format string from list object\n",
    "json.dumps(test_lst)"
   ]
  },
  {
   "cell_type": "code",
   "execution_count": null,
   "metadata": {},
   "outputs": [],
   "source": [
    "# create json format string from dict object\n",
    "res = json.dumps(gene1_dict)\n",
    "res"
   ]
  },
  {
   "cell_type": "code",
   "execution_count": null,
   "metadata": {},
   "outputs": [],
   "source": [
    "type(res)"
   ]
  },
  {
   "cell_type": "code",
   "execution_count": null,
   "metadata": {},
   "outputs": [],
   "source": []
  },
  {
   "cell_type": "markdown",
   "metadata": {},
   "source": [
    "Resources:\n",
    "    \n",
    "https://www.geeksforgeeks.org/working-with-json-data-in-python/    \n",
    "https://www.geeksforgeeks.org/read-json-file-using-python/    \n",
    "https://www.networkacademy.io/devnet-associate/data-formats/parsing-json-with-python      \n",
    "https://medium.com/ngs-sh/a-simple-introduction-to-xml-and-json-4547b93c9aae     \n",
    "https://www.tutorialspoint.com/python_data_science/python_processing_json_data.htm    \n",
    "https://www.w3schools.com/js/js_json_intro.asp\n",
    "https://www.w3schools.com/python/python_json.asp\n",
    "\n",
    "https://www.tutorialspoint.com/json/json_comparison.htm"
   ]
  },
  {
   "cell_type": "code",
   "execution_count": null,
   "metadata": {},
   "outputs": [],
   "source": []
  },
  {
   "cell_type": "code",
   "execution_count": null,
   "metadata": {},
   "outputs": [],
   "source": []
  },
  {
   "cell_type": "code",
   "execution_count": null,
   "metadata": {},
   "outputs": [],
   "source": []
  },
  {
   "cell_type": "markdown",
   "metadata": {},
   "source": [
    "### Exercise:\n",
    "\n",
    "Add the BRCA2 gene to the json file to have a list of 2 genes, and read the results.    \n",
    "Make a pandas DataFrame out of the list of genes.   \n",
    "Convert the data from the DataFrame into json format.   \n",
    "Save it to a file.   \n",
    "Load the data from the file into a DataFrame.\n",
    "\n",
    "\n",
    "https://www.ncbi.nlm.nih.gov/gene/675\n",
    "\n",
    "\n",
    "```json\n",
    "{\n",
    "  \"id\": 675,\n",
    "  \"symbol\": \"BRCA2\",\n",
    "  \"full_name\": \"BRCA2 DNA repair associated\",\n",
    "  \"aliases\": [\n",
    "    \"FAD\",\n",
    "    \"FACD\",\n",
    "    \"FAD1\",\n",
    "    \"GLM3\".\n",
    "    \"BRCC2\".\n",
    "    \"FANCD\",\n",
    "    \"PNCA2\",\n",
    "    \"FANCD1\",\n",
    "    \"XRCC11\",\n",
    "    \"BROVCA2\"\n",
    "  ]\n",
    "}\n",
    "```\n",
    "\n",
    "    "
   ]
  },
  {
   "cell_type": "code",
   "execution_count": null,
   "metadata": {},
   "outputs": [],
   "source": []
  }
 ],
 "metadata": {
  "kernelspec": {
   "display_name": "Python 3 (ipykernel)",
   "language": "python",
   "name": "python3"
  },
  "language_info": {
   "codemirror_mode": {
    "name": "ipython",
    "version": 3
   },
   "file_extension": ".py",
   "mimetype": "text/x-python",
   "name": "python",
   "nbconvert_exporter": "python",
   "pygments_lexer": "ipython3",
   "version": "3.8.10"
  }
 },
 "nbformat": 4,
 "nbformat_minor": 4
}
