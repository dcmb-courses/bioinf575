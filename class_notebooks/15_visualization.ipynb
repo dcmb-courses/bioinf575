{
 "cells": [
  {
   "cell_type": "markdown",
   "metadata": {},
   "source": [
    "## Data Visualization\n",
    "### BIOINF 575 - Fall 2021\n"
   ]
  },
  {
   "cell_type": "markdown",
   "metadata": {},
   "source": [
    "____\n",
    "\n",
    "#### `matplotlib` - powerful basic plotting library\n",
    "https://matplotlib.org/stable/gallery/index.html   \n",
    "https://matplotlib.org/stable/contents.html    \n",
    "https://matplotlib.org/3.1.1/tutorials/introductory/pyplot.html    \n",
    "\n",
    "`matplotlib.pyplot` is a collection of command style functions that make matplotlib work like MATLAB. <br>\n",
    "Each pyplot function makes some change to a figure: e.g., creates a figure, creates a plotting area in a figure, plots some lines in a plotting area, decorates the plot with labels, etc.\n",
    "\n",
    "In `matplotlib.pyplot` various states are preserved across function calls, so that it keeps track of things like the current figure and plotting area, and the plotting functions are directed to the current axes.<br>\n",
    "\"axes\" in most places in the documentation refers to the axes part of a figure and not the strict mathematical term for more than one axis).\n",
    "\n",
    "\n",
    "https://github.com/pandas-dev/pandas/blob/v0.25.0/pandas/plotting/_core.py#L504-L1533    \n",
    "https://matplotlib.org\n",
    "https://matplotlib.org/tutorials/    \n",
    "https://github.com/rougier/matplotlib-tutorial     \n",
    "https://www.tutorialspoint.com/matplotlib/matplotlib_pyplot_api.htm    \n",
    "https://realpython.com/python-matplotlib-guide/    \n",
    "https://github.com/matplotlib/AnatomyOfMatplotlib    \n",
    "https://www.w3schools.com/python/matplotlib_pyplot.asp   \n",
    "http://scipy-lectures.org/intro/matplotlib/index.html"
   ]
  },
  {
   "cell_type": "code",
   "execution_count": null,
   "metadata": {},
   "outputs": [],
   "source": [
    "%matplotlib inline\n",
    "import matplotlib.pyplot as plt"
   ]
  },
  {
   "cell_type": "markdown",
   "metadata": {},
   "source": [
    "Call signatures::\n",
    "```\n",
    "    plot([x], y, [fmt], data=None, **kwargs)\n",
    "    plot([x], y, [fmt], [x2], y2, [fmt2], ..., **kwargs)\n",
    "```"
   ]
  },
  {
   "cell_type": "markdown",
   "metadata": {},
   "source": [
    "Quick plot"
   ]
  },
  {
   "cell_type": "markdown",
   "metadata": {},
   "source": [
    "The main usage of `plt` is the `plot()` and `show()` functions"
   ]
  },
  {
   "cell_type": "code",
   "execution_count": null,
   "metadata": {},
   "outputs": [],
   "source": [
    "plt.plot()\n",
    "plt.show()"
   ]
  },
  {
   "cell_type": "markdown",
   "metadata": {},
   "source": [
    "List"
   ]
  },
  {
   "cell_type": "code",
   "execution_count": null,
   "metadata": {},
   "outputs": [],
   "source": [
    "plt.plot([8, 24, 27, 42])\n",
    "plt.ylabel('numbers')\n",
    "plt.show()"
   ]
  },
  {
   "cell_type": "code",
   "execution_count": null,
   "metadata": {},
   "outputs": [],
   "source": [
    "# Plot the two lists, add axes labels\n",
    "x=[4,5,6,7]\n",
    "y=[2,5,1,7]\n",
    "plt.plot(x,y)\n",
    "plt.xlabel(\"x numerical values\")\n",
    "plt.ylabel(\"y numerical values\")\n",
    "plt.show()"
   ]
  },
  {
   "cell_type": "code",
   "execution_count": null,
   "metadata": {},
   "outputs": [],
   "source": []
  },
  {
   "cell_type": "markdown",
   "metadata": {},
   "source": [
    "`matplotlib` can use *format strings* to quickly declare the type of plots you want. Here are *some* of those formats:\n",
    "\n",
    "|**Character**|**Description**|\n",
    "|:-----------:|:--------------|\n",
    "|'--'|Dashed line|\n",
    "|':'|Dotted line|\n",
    "|'o'|Circle marker|\n",
    "|'^'|Upwards triangle marker|\n",
    "|'b'|Blue|\n",
    "|'c'|Cyan|\n",
    "|'g'|Green|"
   ]
  },
  {
   "cell_type": "code",
   "execution_count": null,
   "metadata": {},
   "outputs": [],
   "source": [
    "#dir(plt)\n",
    "#help(plt.scatter)"
   ]
  },
  {
   "cell_type": "code",
   "execution_count": null,
   "metadata": {},
   "outputs": [],
   "source": [
    "plt.plot([3, 4, 9, 20], 'gs--')\n",
    "plt.axis([-1, 4, 0, 25])\n",
    "plt.show()"
   ]
  },
  {
   "cell_type": "code",
   "execution_count": null,
   "metadata": {},
   "outputs": [],
   "source": [
    "plt.plot([3, 4, 9, 20], '^b--', linewidth=2, markersize=12)\n",
    "plt.show()"
   ]
  },
  {
   "cell_type": "code",
   "execution_count": null,
   "metadata": {},
   "outputs": [],
   "source": [
    "plt.plot([3, 4, 9, 20], color='blue', marker='^', linestyle='dashed', linewidth=2, markersize=12)\n",
    "plt.show()"
   ]
  },
  {
   "cell_type": "markdown",
   "metadata": {
    "tags": []
   },
   "source": [
    "#### <font color = \"red\">Exercise</font>\n",
    "\n",
    "* Plot the values x = 4,5,6 and y = 7,8,9 with blue color, no line and square marker\n",
    "\n"
   ]
  },
  {
   "cell_type": "code",
   "execution_count": null,
   "metadata": {},
   "outputs": [],
   "source": [
    "x=[4,5,6]\n",
    "y=[7,8,9]\n",
    "\n"
   ]
  },
  {
   "cell_type": "code",
   "execution_count": null,
   "metadata": {},
   "outputs": [],
   "source": []
  },
  {
   "cell_type": "code",
   "execution_count": null,
   "metadata": {},
   "outputs": [],
   "source": [
    "import numpy as np\n",
    "\n",
    "# Plot a list with 10 random numbers with a magenta dotted line and circles for points.\n"
   ]
  },
  {
   "cell_type": "code",
   "execution_count": null,
   "metadata": {},
   "outputs": [],
   "source": [
    "# help(plt.plot)"
   ]
  },
  {
   "cell_type": "code",
   "execution_count": null,
   "metadata": {},
   "outputs": [],
   "source": [
    "#import numpy as np\n",
    "\n",
    "# evenly sampled time \n",
    "time = np.arange(0, 7, 0.3)\n",
    "# gene expression\n",
    "ge = np.arange(1, 8, 0.3)\n",
    "\n",
    "# red dashes, blue squares and green triangles\n",
    "plt.plot(time, ge, 'r--', time, ge**2, 'bs', time, ge**2.5, 'ms:', time, ge**3, 'g^')\n",
    "plt.show()"
   ]
  },
  {
   "cell_type": "markdown",
   "metadata": {},
   "source": [
    "linestyle or ls\t[ '-' | '--' | '-.' | ':' | "
   ]
  },
  {
   "cell_type": "code",
   "execution_count": null,
   "metadata": {},
   "outputs": [],
   "source": [
    "# Categorical data plotting using categories on the x axis \n",
    "# we also use the figure function to create more complex figure (size = (width,height))\n",
    "# and subplot to plot multiple sub-plots ar different positions in the figure\n",
    "# 131 - *nrows*, *ncols*, and *index*\n",
    "# Different types of plots: bar, scatter, and histogram \n",
    " \n",
    "names = ['A', 'B', 'C', 'D']\n",
    "values = [7, 20, 33, 44]\n",
    "values1 = np.random.rand(100)\n",
    "values2 = np.random.rand(100)\n",
    "\n",
    "plt.figure(figsize=(12, 3))\n",
    "\n",
    "plt.subplot(131)\n",
    "plt.bar(names, values)\n",
    "plt.subplot(132)\n",
    "plt.scatter(names, values)\n",
    "plt.subplot(133)\n",
    "plt.hist(values1)\n",
    "plt.suptitle('Categorical Plotting')\n",
    "plt.show()"
   ]
  },
  {
   "cell_type": "code",
   "execution_count": null,
   "metadata": {},
   "outputs": [],
   "source": [
    "# help(plt.subplot)"
   ]
  },
  {
   "cell_type": "code",
   "execution_count": null,
   "metadata": {},
   "outputs": [],
   "source": [
    "# Add another subplot with another color\n",
    "\n",
    "names = ['A', 'B', 'C', 'D']\n",
    "values = [7, 20, 33, 44]\n",
    "values1 = np.random.rand(100)\n",
    "values2 = np.random.rand(10000)\n",
    "\n",
    "plt.figure(figsize=(15, 3))\n",
    "\n",
    "plt.subplot(141)\n",
    "plt.bar(names, values)\n",
    "plt.subplot(142)\n",
    "plt.scatter(names, values)\n",
    "plt.subplot(143)\n",
    "plt.hist(values1)\n",
    "plt.subplot(144)\n",
    "plt.hist(values2, color = \"green\")\n",
    "plt.suptitle('Categorical Plotting')\n",
    "plt.show()"
   ]
  },
  {
   "cell_type": "code",
   "execution_count": null,
   "metadata": {},
   "outputs": [],
   "source": [
    "# Changing the grid layout\n",
    "\n",
    "names = ['A', 'B', 'C', 'D']\n",
    "values = [7, 20, 33, 44]\n",
    "values1 = np.random.rand(100)\n",
    "values2 = np.random.rand(10000)\n",
    "\n",
    "plt.figure(figsize=(9, 6))\n",
    "\n",
    "plt.subplot(221)\n",
    "plt.bar(names, values)\n",
    "plt.subplot(222)\n",
    "plt.scatter(names, values)\n",
    "plt.subplot(223)\n",
    "plt.hist(values1)\n",
    "plt.subplot(224)\n",
    "plt.hist(values2, color = \"green\")\n",
    "plt.suptitle('Categorical Plotting')\n",
    "plt.show()"
   ]
  },
  {
   "cell_type": "code",
   "execution_count": null,
   "metadata": {},
   "outputs": [],
   "source": []
  },
  {
   "cell_type": "code",
   "execution_count": null,
   "metadata": {},
   "outputs": [],
   "source": [
    "# help(plt.bar)"
   ]
  },
  {
   "cell_type": "code",
   "execution_count": null,
   "metadata": {},
   "outputs": [],
   "source": [
    "import pandas as pd"
   ]
  },
  {
   "cell_type": "code",
   "execution_count": null,
   "metadata": {},
   "outputs": [],
   "source": [
    "df_iris = pd.read_csv('https://raw.githubusercontent.com/uiuc-cse/data-fa14/gh-pages/data/iris.csv')\n",
    "df_iris.head()"
   ]
  },
  {
   "cell_type": "code",
   "execution_count": null,
   "metadata": {},
   "outputs": [],
   "source": [
    "x1 = df_iris.petal_length\n",
    "y1 = df_iris.petal_width\n",
    "\n",
    "x2 = df_iris.sepal_length\n",
    "y2 = df_iris.sepal_width\n",
    "\n",
    "# Plot the data categories from the dataframe with green triangles and blue squares\n",
    "\n",
    "plt.plot(x1, y1, 'g^', x2, y2, 'bs')\n",
    "plt.show()"
   ]
  },
  {
   "cell_type": "markdown",
   "metadata": {},
   "source": [
    "#### Histogram"
   ]
  },
  {
   "cell_type": "code",
   "execution_count": null,
   "metadata": {},
   "outputs": [],
   "source": [
    "# help(plt.hist)"
   ]
  },
  {
   "cell_type": "code",
   "execution_count": null,
   "metadata": {},
   "outputs": [],
   "source": [
    "n, bins, patches = plt.hist(df_iris.petal_length, bins=20,facecolor='#8303A2', alpha=0.8, rwidth=.8, align='mid')\n",
    "print(n)\n",
    "# Add a title\n",
    "plt.title('Iris dataset petal length')\n",
    "\n",
    "# Add y axis label\n",
    "plt.ylabel('number of plants')\n",
    "plt.xlabel('petal length')\n",
    "\n",
    "\n",
    "plt.show()"
   ]
  },
  {
   "cell_type": "markdown",
   "metadata": {},
   "source": [
    "#### Boxplot"
   ]
  },
  {
   "cell_type": "code",
   "execution_count": null,
   "metadata": {},
   "outputs": [],
   "source": [
    "# help(plt.boxplot)"
   ]
  },
  {
   "cell_type": "code",
   "execution_count": null,
   "metadata": {},
   "outputs": [],
   "source": [
    "plt.boxplot(df_iris.petal_length)\n",
    "\n",
    "# Add a title\n",
    "plt.title('Iris dataset petal length')\n",
    "\n",
    "# Add y axis label\n",
    "plt.ylabel('petal length')"
   ]
  },
  {
   "cell_type": "markdown",
   "metadata": {},
   "source": [
    "The biggest issue with `matplotlib` isn't its lack of power...it is that it is too much power. With great power, comes great responsibility. When you are quickly exploring data, you don't want to have to fiddle around with axis limits, colors, figure sizes, etc. Yes, you *can* make good figures with `matplotlib`, but you probably won't."
   ]
  },
  {
   "cell_type": "markdown",
   "metadata": {},
   "source": [
    "https://python-graph-gallery.com/matplotlib/"
   ]
  },
  {
   "cell_type": "markdown",
   "metadata": {},
   "source": [
    "Pandas works off of `matplotlib` by default. You can easily start visualizing dataframs and series just by a simple command."
   ]
  },
  {
   "cell_type": "markdown",
   "metadata": {},
   "source": [
    "#### Using pandas `.plot()`"
   ]
  },
  {
   "cell_type": "markdown",
   "metadata": {},
   "source": [
    "Pandas abstracts some of those initial issues with data visualization. However, it is still a `matplotlib` plot</br></br>\n",
    "Every plot that is returned from `pandas` is subject to `matplotlib` modification."
   ]
  },
  {
   "cell_type": "code",
   "execution_count": null,
   "metadata": {},
   "outputs": [],
   "source": [
    "df_iris.plot.box()\n",
    "plt.show()"
   ]
  },
  {
   "cell_type": "code",
   "execution_count": null,
   "metadata": {},
   "outputs": [],
   "source": [
    "df_iris.head()"
   ]
  },
  {
   "cell_type": "code",
   "execution_count": null,
   "metadata": {},
   "outputs": [],
   "source": [
    "# Plot the histogram of the petal lengths\n",
    "# Plot the histograms of all 4 numerical characteristics in a plot\n",
    "df_iris.petal_length.plot.hist()\n",
    "plt.show()\n",
    "\n"
   ]
  },
  {
   "cell_type": "code",
   "execution_count": null,
   "metadata": {},
   "outputs": [],
   "source": [
    "df_iris.plot.hist()\n",
    "plt.show()"
   ]
  },
  {
   "cell_type": "code",
   "execution_count": null,
   "metadata": {},
   "outputs": [],
   "source": [
    "df_iris.groupby(\"species\")['petal_length'].mean().plot(kind='bar')\n",
    "plt.show()"
   ]
  },
  {
   "cell_type": "code",
   "execution_count": null,
   "metadata": {},
   "outputs": [],
   "source": [
    "df_iris.groupby(\"species\")['sepal_length'].sum().plot(kind='bar',color = \"green\")\n",
    "plt.show()"
   ]
  },
  {
   "cell_type": "code",
   "execution_count": null,
   "metadata": {},
   "outputs": [],
   "source": [
    "df_iris.plot(x='petal_length', y='petal_width', kind = \"scatter\")\n",
    "plt.savefig('output.png')"
   ]
  },
  {
   "cell_type": "code",
   "execution_count": null,
   "metadata": {},
   "outputs": [],
   "source": [
    "plt.savefig('output.png')"
   ]
  },
  {
   "cell_type": "markdown",
   "metadata": {},
   "source": [
    "https://github.com/pandas-dev/pandas/blob/v0.25.0/pandas/plotting/_core.py#L504-L1533"
   ]
  },
  {
   "cell_type": "markdown",
   "metadata": {},
   "source": [
    "#### Multiple Plots"
   ]
  },
  {
   "cell_type": "code",
   "execution_count": null,
   "metadata": {},
   "outputs": [],
   "source": [
    "df_iris.petal_length.plot(kind='density')\n",
    "df_iris.sepal_length.plot(kind='density')\n",
    "df_iris.petal_width.plot(kind='density')\n",
    "plt.show()"
   ]
  },
  {
   "cell_type": "markdown",
   "metadata": {},
   "source": [
    "`matplotlib` allows users to define the regions of their plotting canvas. If the user intends to create a canvas with multiple plots, they would use the `subplot()` function. The `subplot` function sets the number of rows and columns the canvas will have **AND** sets the current index of where the next subplot will be rendered."
   ]
  },
  {
   "cell_type": "code",
   "execution_count": null,
   "metadata": {},
   "outputs": [],
   "source": [
    "plt.figure(1)\n",
    "# Plot all three columns from df in different subplots\n",
    "# Rows first index (top-left)\n",
    "plt.subplot(3, 1, 1)\n",
    "df_iris.petal_length.plot(kind='density')\n",
    "plt.subplot(3, 1, 2)\n",
    "df_iris.sepal_length.plot(kind='density')\n",
    "plt.subplot(3, 1, 3)\n",
    "df_iris.petal_width.plot(kind='density')\n",
    "# Some plot configuration\n",
    "plt.subplots_adjust(top=.92, bottom=.08, left=.1, right=.95, hspace=.25, wspace=.35)\n",
    "plt.show()"
   ]
  },
  {
   "cell_type": "code",
   "execution_count": null,
   "metadata": {},
   "outputs": [],
   "source": [
    "# Temporary styles\n",
    "with plt.style.context(('ggplot')):\n",
    "    plt.figure(1)\n",
    "\n",
    "    # Plot all three columns from df in different subplots\n",
    "    # Rows first index (top-left)\n",
    "    plt.subplot(3, 1, 1)\n",
    "    df_iris.petal_length.plot(kind='density')\n",
    "    plt.subplot(3, 1, 2)\n",
    "    df_iris.sepal_length.plot(kind='density')\n",
    "    plt.subplot(3, 1, 3)\n",
    "    df_iris.petal_width.plot(kind='density')\n",
    "    # Some plot configuration\n",
    "    plt.subplots_adjust(top=.92, bottom=.08, left=.1, right=.95, hspace=.25, wspace=.35)\n",
    "    plt.show()"
   ]
  },
  {
   "cell_type": "code",
   "execution_count": null,
   "metadata": {},
   "outputs": [],
   "source": [
    "# Plot the histograms of the petal length and width and sepal length and width \n",
    "# Display them on the columns of a figure with 2X2 subplots\n",
    "# color them red, green, blue and yellow, respectivelly  \n",
    "\n",
    "\n",
    "with plt.style.context(('ggplot')):\n",
    "    plt.figure(1)\n",
    "\n",
    "    # Plot each of the columns from the df in different subplots\n",
    "    # Rows first index (top-left)\n",
    "    plt.subplot(2, 2, 1)\n",
    "    df_iris.petal_length.plot(kind='hist', color = \"red\")\n",
    "    plt.xlabel(\"petal length\")\n",
    "    plt.subplot(2, 2, 2)\n",
    "    df_iris.sepal_length.plot.hist(color = \"blue\")\n",
    "    plt.xlabel(\"sepal length\")\n",
    "    plt.subplot(2, 2, 3)\n",
    "    df_iris.petal_width.plot(kind='hist', color = \"green\")\n",
    "    plt.xlabel(\"petal width\")\n",
    "    plt.subplot(2, 2, 4)\n",
    "    df_iris.sepal_width.plot.hist(color = \"yellow\")\n",
    "    plt.xlabel(\"sepal width\")\n",
    "    # Some plot configuration\n",
    "    plt.subplots_adjust(top=.92, bottom=.001, left=.1, right=.95, hspace=.30, wspace=.35)\n",
    "    plt.show()"
   ]
  },
  {
   "cell_type": "code",
   "execution_count": null,
   "metadata": {},
   "outputs": [],
   "source": [
    "# Adjusting the plot configuration\n",
    "\n",
    "with plt.style.context(('ggplot')):\n",
    "    plt.figure(1)\n",
    "\n",
    "    # Plot each of the columns from the df in different subplots\n",
    "    # Rows first index (top-left)\n",
    "    plt.subplot(2, 2, 1)\n",
    "    df_iris.petal_length.plot(kind='box', color = \"red\")\n",
    "    plt.subplot(2, 2, 2)\n",
    "    df_iris.sepal_length.plot.box(color = \"blue\")\n",
    "    plt.subplot(2, 2, 3)\n",
    "    df_iris.petal_width.plot(kind='hist', color = \"green\")\n",
    "    plt.xlabel(\"petal width\")\n",
    "    plt.subplot(2, 2, 4)\n",
    "    df_iris.sepal_width.plot.hist(color = \"yellow\")\n",
    "    plt.xlabel(\"sepal width\")\n",
    "    # Some plot configuration\n",
    "    plt.subplots_adjust(top=.92, bottom=.08, left=.1, right=.95, hspace=.25, wspace=.35)\n",
    "    plt.show()"
   ]
  },
  {
   "cell_type": "code",
   "execution_count": null,
   "metadata": {},
   "outputs": [],
   "source": [
    "# dir(df_iris.petal_length.plot)"
   ]
  },
  {
   "cell_type": "markdown",
   "metadata": {},
   "source": [
    "____________\n",
    "\n",
    "### `seaborn` - dataset-oriented plotting"
   ]
  },
  {
   "cell_type": "markdown",
   "metadata": {},
   "source": [
    "Seaborn is a library that specializes in making *prettier* `matplotlib` plots of statistical data. <br>\n",
    "It is built on top of matplotlib and closely integrated with pandas data structures.\n",
    "\n",
    "https://seaborn.pydata.org/introduction.html<br>\n",
    "https://python-graph-gallery.com/seaborn/   \n",
    "https://jakevdp.github.io/PythonDataScienceHandbook/04.14-visualization-with-seaborn.html\n",
    "https://seaborn.pydata.org/tutorial/distributions.html"
   ]
  },
  {
   "cell_type": "code",
   "execution_count": null,
   "metadata": {},
   "outputs": [],
   "source": [
    "import seaborn as sns"
   ]
  },
  {
   "cell_type": "markdown",
   "metadata": {},
   "source": [
    "`seaborn` lets users *style* their plotting environment."
   ]
  },
  {
   "cell_type": "code",
   "execution_count": null,
   "metadata": {},
   "outputs": [],
   "source": [
    "sns.set(style='whitegrid')"
   ]
  },
  {
   "cell_type": "markdown",
   "metadata": {},
   "source": [
    "However, you can always use `matplotlib`'s `plt.style`"
   ]
  },
  {
   "cell_type": "code",
   "execution_count": null,
   "metadata": {},
   "outputs": [],
   "source": [
    "#dir(sns)"
   ]
  },
  {
   "cell_type": "code",
   "execution_count": null,
   "metadata": {},
   "outputs": [],
   "source": [
    "sns.scatterplot(x='petal_length',y='petal_width',data=df_iris)\n",
    "plt.show()"
   ]
  },
  {
   "cell_type": "code",
   "execution_count": null,
   "metadata": {},
   "outputs": [],
   "source": [
    "# hue argument allows you to color dots by category\n",
    "\n",
    "sns.scatterplot(x='petal_length',y='petal_width', hue = \"species\", data=df_iris)\n",
    "plt.show()"
   ]
  },
  {
   "cell_type": "markdown",
   "metadata": {},
   "source": [
    "#### Violin plot"
   ]
  },
  {
   "cell_type": "markdown",
   "metadata": {},
   "source": [
    "Fancier box plot that gets rid of the need for 'jitter' to show the inherent distribution of the data points"
   ]
  },
  {
   "cell_type": "code",
   "execution_count": null,
   "metadata": {},
   "outputs": [],
   "source": [
    "columns = ['petal_length', 'petal_width', 'sepal_length']\n",
    "\n",
    "fig, axes = plt.subplots(figsize=(5, 5))\n",
    "sns.violinplot(data=df_iris.loc[:,columns], ax=axes)\n",
    "axes.set_ylabel('number')\n",
    "axes.set_xlabel('columns', )\n",
    "plt.show()"
   ]
  },
  {
   "cell_type": "markdown",
   "metadata": {},
   "source": [
    "#### Distplot"
   ]
  },
  {
   "cell_type": "code",
   "execution_count": null,
   "metadata": {},
   "outputs": [],
   "source": [
    "# A distplot plots a univariate distribution of observations. \n",
    "# The distplot() function combines the matplotlib hist function with the seaborn kdeplot() and rugplot() functions.\n",
    "\n",
    "sns.set(style='darkgrid', palette='muted')\n",
    "\n",
    "# 4 rows, 1 column - all have the same x axis\n",
    "f, axes = plt.subplots(4,1, figsize=(10,10), sharex=True)\n",
    "sns.despine(left=True)\n",
    "\n",
    "# Regular displot\n",
    "sns.distplot(df_iris.petal_length, ax=axes[0])\n",
    "\n",
    "# Change the color\n",
    "sns.distplot(df_iris.petal_width, kde=False, ax=axes[1], color='orange')\n",
    "\n",
    "# Show the Kernel density estimate\n",
    "sns.distplot(df_iris.sepal_width, hist=False, kde_kws={'shade':True}, ax=axes[2], color='purple')\n",
    "\n",
    "# Show the rug\n",
    "sns.distplot(df_iris.sepal_length, hist=False, rug=True, ax=axes[3], color='green')"
   ]
  },
  {
   "cell_type": "markdown",
   "metadata": {},
   "source": [
    "#### FacetGrid"
   ]
  },
  {
   "cell_type": "code",
   "execution_count": null,
   "metadata": {},
   "outputs": [],
   "source": [
    "sns.set()\n",
    "columns = ['species', 'petal_length', 'petal_width']\n",
    "facet_column = 'species'\n",
    "g = sns.FacetGrid(df_iris.loc[:,columns], col=facet_column, hue=facet_column, col_wrap=5)\n",
    "g.map(plt.scatter, 'petal_length', 'petal_width')"
   ]
  },
  {
   "cell_type": "code",
   "execution_count": null,
   "metadata": {},
   "outputs": [],
   "source": [
    "sns.relplot(x=\"petal_length\", y=\"petal_width\", col=\"species\",\n",
    "            hue=\"species\", style=\"species\", size=\"species\",\n",
    "            data=df_iris)\n",
    "plt.show()"
   ]
  },
  {
   "cell_type": "markdown",
   "metadata": {
    "tags": []
   },
   "source": [
    "#### <font color = \"red\">Exercise</font>\n",
    "\n",
    "* Use seaborn to plot a boxplot of the sepal_width for each species \n"
   ]
  },
  {
   "cell_type": "code",
   "execution_count": null,
   "metadata": {},
   "outputs": [],
   "source": [
    "\n"
   ]
  },
  {
   "cell_type": "code",
   "execution_count": null,
   "metadata": {},
   "outputs": [],
   "source": []
  },
  {
   "cell_type": "markdown",
   "metadata": {},
   "source": [
    "____\n",
    "\n",
    "### `plotnine` - grammar of graphics - R ggplot2 in python"
   ]
  },
  {
   "cell_type": "markdown",
   "metadata": {},
   "source": [
    "plotnine is an implementation of a grammar of graphics in Python, it is based on ggplot2. The grammar allows users to compose plots by explicitly mapping data to the visual objects that make up the plot.\n",
    "\n",
    "Plotting with a grammar is powerful, it makes custom (and otherwise complex) plots are easy to think about and then create, while the simple plots remain simple.\n",
    "\n"
   ]
  },
  {
   "cell_type": "markdown",
   "metadata": {},
   "source": [
    "https://plotnine.readthedocs.io/en/stable/api.html   \n",
    "https://plotnine.readthedocs.io/en/stable/   \n",
    "http://cmdlinetips.com/2018/05/plotnine-a-python-library-to-use-ggplot2-in-python/  \n",
    "https://plotnine.readthedocs.io/en/stable/tutorials/miscellaneous-altering-colors.html   \n",
    "https://datascienceworkshops.com/blog/plotnine-grammar-of-graphics-for-python/   \n",
    "https://realpython.com/ggplot-python/"
   ]
  },
  {
   "cell_type": "markdown",
   "metadata": {},
   "source": [
    "\n",
    "\n",
    "### Uncomment and run the following line to install the library"
   ]
  },
  {
   "cell_type": "code",
   "execution_count": null,
   "metadata": {},
   "outputs": [],
   "source": [
    "# !pip install plotnine"
   ]
  },
  {
   "cell_type": "code",
   "execution_count": null,
   "metadata": {},
   "outputs": [],
   "source": [
    "from plotnine import *"
   ]
  },
  {
   "cell_type": "code",
   "execution_count": null,
   "metadata": {},
   "outputs": [],
   "source": [
    "ggplot(data=df_iris) + geom_point(aes(x=\"petal_length\", y = \"petal_width\"))"
   ]
  },
  {
   "cell_type": "code",
   "execution_count": null,
   "metadata": {},
   "outputs": [],
   "source": [
    "# add transparency - to avoid over plotting - alpha argument\n",
    "ggplot(data=df_iris) + aes(x=\"petal_length\", y = \"petal_width\") + geom_point(alpha=0.2)"
   ]
  },
  {
   "cell_type": "code",
   "execution_count": null,
   "metadata": {},
   "outputs": [],
   "source": [
    "# change point size \n",
    "ggplot(data=df_iris) + aes(x=\"petal_length\", y = \"petal_width\") + geom_point(size = 0.7, alpha=0.3, color = \"red\")"
   ]
  },
  {
   "cell_type": "code",
   "execution_count": null,
   "metadata": {},
   "outputs": [],
   "source": [
    "# more parameters - scale_x_log10 - transform x axis values to log scale, xlab - add label to x axis\n",
    "ggplot(data=df_iris) + aes(x=\"petal_length\", y = \"petal_width\", color = \"species\") \\\n",
    "    + geom_point() + scale_x_log10() + xlab(\"Petal Length\")"
   ]
  },
  {
   "cell_type": "code",
   "execution_count": null,
   "metadata": {},
   "outputs": [],
   "source": [
    "\n",
    "title = '3 species : petal length and width'\n",
    "\n",
    "ggplot(data=df_iris) +aes(x='petal_length',y='petal_width',color=\"species\") + \\\n",
    "    geom_point(size=0.7,alpha=0.7) + facet_wrap('~species',nrow=3) + \\\n",
    "    theme(figure_size=(9,5)) + ggtitle(title)\n"
   ]
  },
  {
   "cell_type": "code",
   "execution_count": null,
   "metadata": {},
   "outputs": [],
   "source": [
    "# Set width of bar for histogram and color for the bar line and bar fill color\n",
    "\n",
    "p = ggplot(data=df_iris) + aes(x='petal_length') + geom_histogram(binwidth=1,color='black',fill='grey')\n",
    "p"
   ]
  },
  {
   "cell_type": "code",
   "execution_count": null,
   "metadata": {},
   "outputs": [],
   "source": [
    "# Save the plot to a file\n",
    "\n",
    "ggsave(plot=p, filename='hist_plot_with_plotnine.png')\n"
   ]
  },
  {
   "cell_type": "markdown",
   "metadata": {},
   "source": [
    "#### Quick analysis on the cars dataset:\n",
    "\n",
    "| variable | description                              |\n",
    "|----------|------------------------------------------|\n",
    "| mpg      | Miles/(US) gallon                        |\n",
    "| cyl      | Number of cylinders                      |\n",
    "| disp     | Displacement (cu.in.)                    |\n",
    "| hp       | Gross horsepower                         |\n",
    "| drat     | Rear axle ratio                          |\n",
    "| wt       | Weight (lb/1000)                         |\n",
    "| qsec     | 1/4 mile time                            |\n",
    "| vs       | V/S                                      |\n",
    "| am       | Transmission (0 = automatic, 1 = manual) |\n",
    "| gear     | Number of forward gears                  |\n",
    "| carb     | Number of carburetors                    |"
   ]
  },
  {
   "cell_type": "code",
   "execution_count": null,
   "metadata": {},
   "outputs": [],
   "source": [
    "# Create a linear regression line that uses the weight of the car to explain/predict the miles per gallon\n",
    "# These are broken down in 3 categories by gear\n",
    "# The grey area is the 95% confidence level interval for predictions from a linear model (\"lm\")\n",
    "\n",
    "from plotnine.data import mtcars\n",
    "\n",
    "(ggplot(mtcars, aes('wt', 'mpg', color='factor(gear)'))\n",
    " + geom_point()\n",
    " + stat_smooth(method='lm')\n",
    " + facet_wrap('~gear'))"
   ]
  },
  {
   "cell_type": "markdown",
   "metadata": {},
   "source": [
    "\n",
    "https://raw.githubusercontent.com/rstudio/cheatsheets/master/pngs/data-visualization.png"
   ]
  },
  {
   "cell_type": "code",
   "execution_count": null,
   "metadata": {},
   "outputs": [],
   "source": []
  },
  {
   "cell_type": "markdown",
   "metadata": {
    "tags": []
   },
   "source": [
    "#### <font color = \"red\">Exercise</font>\n",
    "\n",
    "* Use ggplot and the df_iris dataset to plot the sepal_length in boxplots separated by species, add new axes labels and make the y axis values log10.\n",
    "\n"
   ]
  },
  {
   "cell_type": "code",
   "execution_count": null,
   "metadata": {},
   "outputs": [],
   "source": []
  },
  {
   "cell_type": "code",
   "execution_count": null,
   "metadata": {},
   "outputs": [],
   "source": []
  },
  {
   "cell_type": "markdown",
   "metadata": {},
   "source": [
    "<img src = \"https://raw.githubusercontent.com/rstudio/cheatsheets/master/pngs/data-visualization.png\" width = \"1000\"/>"
   ]
  },
  {
   "cell_type": "code",
   "execution_count": null,
   "metadata": {},
   "outputs": [],
   "source": []
  },
  {
   "cell_type": "code",
   "execution_count": null,
   "metadata": {},
   "outputs": [],
   "source": []
  }
 ],
 "metadata": {
  "kernelspec": {
   "display_name": "Python 3 (ipykernel)",
   "language": "python",
   "name": "python3"
  },
  "language_info": {
   "codemirror_mode": {
    "name": "ipython",
    "version": 3
   },
   "file_extension": ".py",
   "mimetype": "text/x-python",
   "name": "python",
   "nbconvert_exporter": "python",
   "pygments_lexer": "ipython3",
   "version": "3.8.10"
  }
 },
 "nbformat": 4,
 "nbformat_minor": 4
}
