{
 "cells": [
  {
   "cell_type": "markdown",
   "metadata": {},
   "source": [
    "### Study session 7 - Numpy and pandas series\n",
    "#### BIOINF 575 - Fall 2021"
   ]
  },
  {
   "cell_type": "markdown",
   "metadata": {},
   "source": [
    "##### RECAP"
   ]
  },
  {
   "cell_type": "markdown",
   "metadata": {},
   "source": [
    "#### Arrays of different dimensions (`shape` gives the number of elements on each dimension):\n",
    "\n",
    "<img src=\"https://www.oreilly.com/library/view/elegant-scipy/9781491922927/assets/elsp_0105.png\" alt=\"data structures\" width=\"500\">  \n",
    "\n",
    "_____\n"
   ]
  },
  {
   "cell_type": "markdown",
   "metadata": {},
   "source": [
    "#### <b>Basic array attributes:</b>\n",
    "* shape: array dimension\n",
    "* size: Number of elements in array\n",
    "* ndim: Number of array dimension (len(arr.shape))\n",
    "* dtype: Data-type of the array\n",
    "* slicing: [row_slice,col_slice]\n",
    "\n",
    "Pandas Series a named array: \n",
    "```\n",
    "pd.Series(data, index)\n",
    "```"
   ]
  },
  {
   "cell_type": "markdown",
   "metadata": {},
   "source": [
    "_____\n",
    "\n",
    "<b><font color = \"red\">Exercise</font> <br></b>\n",
    "\n",
    "Create a numpy 2D array of numbers from 1 to 3000 with 300 rows and 10 columns.   \n",
    "Compute the mean of each row and count how many rows have a mean > 2000."
   ]
  },
  {
   "cell_type": "code",
   "execution_count": null,
   "metadata": {},
   "outputs": [],
   "source": [
    "# Write your solution here\n",
    "\n"
   ]
  },
  {
   "cell_type": "code",
   "execution_count": null,
   "metadata": {},
   "outputs": [],
   "source": []
  },
  {
   "cell_type": "markdown",
   "metadata": {
    "tags": []
   },
   "source": [
    "___\n",
    "\n",
    "<b> <font color = \"red\">Exercise</font></b>\n",
    "\n",
    "Break the series in two groups based on the following labels and compute the mean of the rows for each group:\n",
    "```python\n",
    "labels = [\"Group1\", \"Group1\", \"Group2\", \"Group2\", \"Group1\",\n",
    "          \"Group2\", \"Group2\", \"Group1\", \"Group1\", \"Group1\"]\n",
    "```\n",
    "\n",
    "Compute the difference between the means of the two groups (Group 1 mean - Group 2 mean)\n",
    "\n",
    "Create a pandas series from the result of the difference, using the labels: \"Row1\", ... \"Row300\"\n",
    "\n",
    "Select the rows with a difference between  and 3 and 3.5"
   ]
  },
  {
   "cell_type": "code",
   "execution_count": null,
   "metadata": {},
   "outputs": [],
   "source": [
    "# Write your solution here\n",
    "\n"
   ]
  },
  {
   "cell_type": "code",
   "execution_count": null,
   "metadata": {},
   "outputs": [],
   "source": []
  },
  {
   "cell_type": "code",
   "execution_count": null,
   "metadata": {},
   "outputs": [],
   "source": []
  },
  {
   "cell_type": "markdown",
   "metadata": {},
   "source": [
    "___\n",
    "<b><font color = \"red\">Exercise</font> <br><br></b>\n",
    "\n",
    "Explain the following code:\n",
    "\n"
   ]
  },
  {
   "cell_type": "code",
   "execution_count": null,
   "metadata": {},
   "outputs": [],
   "source": [
    "def downstream_overlap(gene1, gene2, network):\n",
    "    downstream_gene1 = network.get(gene1, set())\n",
    "    downstream_gene2 = network.get(gene2, set())\n",
    "    n = len(downstream_gene1.union(downstream_gene2))\n",
    "    m = len(downstream_gene1.intersection(downstream_gene2))\n",
    "    overlap = 0\n",
    "    if n > 0: \n",
    "        overlap = 100*m/n\n",
    "    return overlap"
   ]
  },
  {
   "cell_type": "code",
   "execution_count": null,
   "metadata": {},
   "outputs": [],
   "source": [
    "test_network = {\n",
    "    \"Gene1\": {\"Gene2\"},\n",
    "    \"Gene3\": {\"Gene1\", \"Gene4\", \"Gene5\"},\n",
    "    \"Gene4\": {\"Gene1\", \"Gene2\", \"Gene5\", \"Gene6\"},\n",
    "    \"Gene5\": {\"Gene2\", \"Gene3\", \"Gene4\"}\n",
    "}\n",
    "downstream_overlap(\"Gene3\",\"Gene4\", test_network)"
   ]
  },
  {
   "cell_type": "code",
   "execution_count": null,
   "metadata": {},
   "outputs": [],
   "source": [
    "##Write your code description here\n"
   ]
  },
  {
   "cell_type": "code",
   "execution_count": null,
   "metadata": {},
   "outputs": [],
   "source": []
  }
 ],
 "metadata": {
  "kernelspec": {
   "display_name": "Python 3 (ipykernel)",
   "language": "python",
   "name": "python3"
  },
  "language_info": {
   "codemirror_mode": {
    "name": "ipython",
    "version": 3
   },
   "file_extension": ".py",
   "mimetype": "text/x-python",
   "name": "python",
   "nbconvert_exporter": "python",
   "pygments_lexer": "ipython3",
   "version": "3.8.10"
  }
 },
 "nbformat": 4,
 "nbformat_minor": 4
}
