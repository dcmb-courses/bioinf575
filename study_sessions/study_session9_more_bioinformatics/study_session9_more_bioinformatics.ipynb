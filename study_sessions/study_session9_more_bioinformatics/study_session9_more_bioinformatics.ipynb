{
 "cells": [
  {
   "cell_type": "markdown",
   "metadata": {
    "tags": []
   },
   "source": [
    "### Study session 9 - more bioinformatics\n",
    "#### Use data and control structures and pandas dataframes \n",
    "#### BIOINF 575 - Fall 2023\n",
    "\n"
   ]
  },
  {
   "cell_type": "markdown",
   "metadata": {},
   "source": [
    "___ \n",
    "#### RECAP: Pandas dataframes\n",
    "\n",
    "<img src = \"https://media.geeksforgeeks.org/wp-content/uploads/finallpandas.png\" width = 550/>\n",
    "\n",
    "https://www.geeksforgeeks.org/python-pandas-dataframe/"
   ]
  },
  {
   "cell_type": "markdown",
   "metadata": {},
   "source": [
    "#### How does pandas work?"
   ]
  },
  {
   "cell_type": "markdown",
   "metadata": {},
   "source": [
    "Pandas is built off of [Numpy](http://www.numpy.org/), and therefore leverages Numpy's C-level speed for its data analysis."
   ]
  },
  {
   "cell_type": "markdown",
   "metadata": {},
   "source": [
    "* Numpy can only make data structures of a single type.\n",
    "* Pandas can use many types. \n",
    "* Think of a table, where each column can be whatever type you want it to be, so long as every item in the column is that same type."
   ]
  },
  {
   "cell_type": "markdown",
   "metadata": {},
   "source": [
    "#### `pd.DataFrame`"
   ]
  },
  {
   "cell_type": "markdown",
   "metadata": {},
   "source": [
    "**Multi-dimensional** labeled data structure with columns of *potentially* different types"
   ]
  },
  {
   "cell_type": "markdown",
   "metadata": {},
   "source": [
    "```python\n",
    "# Initialization Syntax\n",
    "df = pd.DataFrame(data, index, columns, dtype)\n",
    "```"
   ]
  },
  {
   "cell_type": "markdown",
   "metadata": {},
   "source": [
    "* **`data`** : what is going inside the DataFrame (numpy ndarray (structured or homogeneous), dict, or DataFrame)\n",
    "* **`index`** : row identifiers (doesn't have to be unique--think foreign key. Defaults to row number)\n",
    "* **`columns`** : column identifiers\n",
    "* **`dtype`** : numpy/python based data types"
   ]
  },
  {
   "cell_type": "markdown",
   "metadata": {},
   "source": [
    "Attributes\n",
    "\n",
    "['T',\n",
    " 'at',\n",
    " 'axes',\n",
    " 'columns',\n",
    " 'dtypes',\n",
    " 'empty',\n",
    " 'ftypes',\n",
    " 'iat',\n",
    " 'iloc',\n",
    " 'index',\n",
    " 'ix',\n",
    " 'loc',\n",
    " 'ndim',\n",
    " 'plot',\n",
    " 'shape',\n",
    " 'size',\n",
    " 'style',\n",
    " 'timetuple',\n",
    " 'values']"
   ]
  },
  {
   "cell_type": "markdown",
   "metadata": {},
   "source": [
    "_____\n",
    "_____\n",
    "\n",
    "#### Gene expression differential analysis and functional annotation\n",
    "\n",
    "Read the data from the file `expression_data.txt` into a pandas data frame. The file contains a tab-separated matrix with genes on the rows and samples on the columns.\n",
    "The data file contains comment lines that start with \"#\".\n",
    "Each sample pertains to a group `disease` or `healthy` and the groups are labels are as follows:\n",
    "\n",
    "```python\n",
    "    group = [\"disease\", \"healthy\", \"disease\", \"disease\", \"healthy\",\n",
    "             \"healthy\", \"healthy\", \"disease\", \"disease\", \"disease\"]\n",
    "```"
   ]
  },
  {
   "cell_type": "markdown",
   "metadata": {},
   "source": [
    "------------\n",
    "  \n",
    "<b><font color = \"red\">Exercise</font> <br></b>\n",
    "\n",
    "\n",
    "Select the genes that have a p-value < 10% on a t-test between the expression in disease and the expression in healthy.  \n",
    "The t-test is implemented in the scipy library in the stats module (you can use `from scipy import stats`).   \n",
    "https://docs.scipy.org/doc/scipy/reference/generated/scipy.stats.ttest_ind.html    \n",
    "Keep in mind these are multiple statistical test we are doing so we should correct for multiple comparisons before intepreting/ reading too much into the results.    \n",
    "https://www.statsmodels.org/dev/generated/statsmodels.stats.multitest.multipletests.html   \n"
   ]
  },
  {
   "cell_type": "code",
   "execution_count": null,
   "metadata": {},
   "outputs": [],
   "source": [
    "# Write your solution here\n",
    "\n"
   ]
  },
  {
   "cell_type": "code",
   "execution_count": null,
   "metadata": {},
   "outputs": [],
   "source": []
  },
  {
   "cell_type": "code",
   "execution_count": null,
   "metadata": {},
   "outputs": [],
   "source": []
  },
  {
   "cell_type": "code",
   "execution_count": null,
   "metadata": {},
   "outputs": [],
   "source": []
  },
  {
   "cell_type": "markdown",
   "metadata": {
    "tags": []
   },
   "source": [
    "___\n",
    "\n",
    "<b> <font color = \"red\">Exercise</font></b>\n",
    "\n",
    "Select the GO (gene ontology) terms for the genes that have a p-value < 10%.   \n",
    "Gene ontology terms tell us what biological processes, molecular functions, and cellular components the genes are associated with.     \n",
    "http://geneontology.org/docs/ontology-documentation/   \n",
    "\n",
    "The file `gene_go.txt` contains that association.   \n",
    "Note: look for the `.isin' method for a pd.Series.\n"
   ]
  },
  {
   "cell_type": "code",
   "execution_count": null,
   "metadata": {},
   "outputs": [],
   "source": [
    "# Write your solution here\n",
    "\n"
   ]
  },
  {
   "cell_type": "code",
   "execution_count": null,
   "metadata": {},
   "outputs": [],
   "source": []
  },
  {
   "cell_type": "code",
   "execution_count": null,
   "metadata": {},
   "outputs": [],
   "source": []
  },
  {
   "cell_type": "code",
   "execution_count": null,
   "metadata": {},
   "outputs": [],
   "source": []
  },
  {
   "cell_type": "markdown",
   "metadata": {},
   "source": [
    "____\n",
    "____\n",
    "\n",
    "#### Variant data exploration   \n",
    "We have variant data for a sample in the file `variant_data_file.vcf`.   \n",
    "The vcf data file contains information about differences found in the genome of a specific sample when compared to the reference.    \n",
    "The file contains approximatelly 1000 differences found in the Y chromosome.\n",
    "\n"
   ]
  },
  {
   "cell_type": "markdown",
   "metadata": {},
   "source": [
    "\n",
    "\n",
    "..................................................................................................\n",
    "\n",
    "<b><font color = \"red\">Exercise</font> <br></b>\n",
    "\n",
    "<b>Total depth distribution</b>\n",
    "\n",
    "We want to have a look at the distribution of the total depth in our data (DP key in the INFO column).\n",
    "- Read the data into a pandas data frame\n",
    "    - look at the comment and names arguments for the read_csv funtion in the pandas library, you will need to add the header by hand\n",
    "- Write a function that selects the total depth from the INFO part of a variant (row in our dataframe)\n",
    "- Apply the function for each row of the dataframe which will result in a pandas series with the total depth for each variant \n",
    "- Plot the histogram of total depths (pandas series previously computed)\n",
    "- Plot the histogram of the total depths that are less than 170"
   ]
  },
  {
   "cell_type": "code",
   "execution_count": null,
   "metadata": {},
   "outputs": [],
   "source": [
    "# Write your solution here\n",
    "\n",
    "\n"
   ]
  },
  {
   "cell_type": "code",
   "execution_count": null,
   "metadata": {},
   "outputs": [],
   "source": []
  },
  {
   "cell_type": "code",
   "execution_count": null,
   "metadata": {},
   "outputs": [],
   "source": []
  },
  {
   "cell_type": "code",
   "execution_count": null,
   "metadata": {},
   "outputs": [],
   "source": []
  },
  {
   "cell_type": "markdown",
   "metadata": {},
   "source": [
    "\n",
    "\n",
    "..................................................................................................\n",
    "\n",
    "<b><font color = \"red\">Exercise</font> <br></b>\n",
    "\n",
    "\n",
    "<b>Quality and SNP distribution</b> \n",
    "\n",
    "<b>A.</b> Display the distribution of the quality scores for the variants. \n",
    "- Select the QUAL column from the data and plot the histogram\n",
    "\n",
    "<b>B.</b> Compute the frequency (number of occurences) of each of the REF ALT combinations available in the dataset and make a bar plot.    \n",
    "Then, identify the most frequent combination of REF ALT in the dataframe \n",
    "- Compute the number of occurences for REF ALT combinations. \n",
    "    - Make use of the .value_counts() method for a dataframe to count the number for the unique combinations of row elements.\n",
    "- The result of value_counts is a pandas series, plot the values using a barplot.\n",
    "- Select from the series the maximum value together with the associated label: e.g. A T 300"
   ]
  },
  {
   "cell_type": "code",
   "execution_count": null,
   "metadata": {},
   "outputs": [],
   "source": [
    "# Write your solution here\n",
    "\n",
    "\n"
   ]
  },
  {
   "cell_type": "code",
   "execution_count": null,
   "metadata": {},
   "outputs": [],
   "source": []
  },
  {
   "cell_type": "code",
   "execution_count": null,
   "metadata": {},
   "outputs": [],
   "source": []
  },
  {
   "cell_type": "code",
   "execution_count": null,
   "metadata": {},
   "outputs": [],
   "source": []
  },
  {
   "cell_type": "markdown",
   "metadata": {},
   "source": [
    "_______\n",
    "### <font color = \"red\">Exercise</font> \n",
    "\n",
    "Explain what the following code does and describe how it computes the result it displays:\n"
   ]
  },
  {
   "cell_type": "code",
   "execution_count": null,
   "metadata": {},
   "outputs": [],
   "source": [
    "def compute_perc(seq):\n",
    "    return 100*(seq.count(\"C\")+seq.count(\"G\"))/len(seq)\n",
    "\n",
    "def process_text(text):\n",
    "    res = 0\n",
    "    gene = \"\"\n",
    "    if text != None:\n",
    "        gene, promoter_seq = text.split()\n",
    "        res = compute_perc(promoter_seq)\n",
    "    return gene, res\n",
    "        \n",
    "        \n",
    "file_name = \"gene_promoter_sequence.txt\"       \n",
    "with open(file = file_name, mode = \"r\") as promoter_seq_file:\n",
    "    for line in promoter_seq_file:\n",
    "        res = process_text(line)\n",
    "        print(\"gene\", res[0], \"percentage\", res[1])\n"
   ]
  },
  {
   "cell_type": "code",
   "execution_count": null,
   "metadata": {},
   "outputs": [],
   "source": [
    "## Write your code description here\n",
    "\n"
   ]
  },
  {
   "cell_type": "code",
   "execution_count": null,
   "metadata": {},
   "outputs": [],
   "source": []
  },
  {
   "cell_type": "code",
   "execution_count": null,
   "metadata": {},
   "outputs": [],
   "source": []
  },
  {
   "cell_type": "code",
   "execution_count": null,
   "metadata": {},
   "outputs": [],
   "source": []
  },
  {
   "cell_type": "markdown",
   "metadata": {},
   "source": [
    "_______\n",
    "\n",
    "_______\n"
   ]
  }
 ],
 "metadata": {
  "kernelspec": {
   "display_name": "Python 3 (ipykernel)",
   "language": "python",
   "name": "python3"
  },
  "language_info": {
   "codemirror_mode": {
    "name": "ipython",
    "version": 3
   },
   "file_extension": ".py",
   "mimetype": "text/x-python",
   "name": "python",
   "nbconvert_exporter": "python",
   "pygments_lexer": "ipython3",
   "version": "3.9.12"
  }
 },
 "nbformat": 4,
 "nbformat_minor": 4
}
