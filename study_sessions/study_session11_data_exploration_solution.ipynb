{
 "cells": [
  {
   "cell_type": "markdown",
   "metadata": {
    "tags": []
   },
   "source": [
    "### Study session 11\n",
    "\n",
    "#### BIOINF 575 - Fall 2021\n",
    "\n"
   ]
  },
  {
   "cell_type": "markdown",
   "metadata": {},
   "source": [
    "___\n",
    "\n",
    "<b> <font color = \"red\">Exercise</font></b>\n",
    "\n",
    "#### Roundworm comparison\n",
    "\n",
    "We have 10 measurements of the length of two roundworms stored in the following dictionary.   \n",
    "Retrieve the measurement information when the difference in lengths between the two worms is less than 3.    \n",
    "Retrieve the result as a list with tuples of two: the measurement number/index and the difference in length.    \n"
   ]
  },
  {
   "cell_type": "code",
   "execution_count": 1,
   "metadata": {},
   "outputs": [],
   "source": [
    "worms_lengths = { \n",
    "    \"worm1\": [{\"length\": 47},\n",
    "              {\"length\": 54},\n",
    "              {\"length\": 55},\n",
    "              {\"length\": 67},\n",
    "              {\"length\": 68},\n",
    "              {\"length\": 68},\n",
    "              {\"length\": 70},\n",
    "              {\"length\": 72},\n",
    "              {\"length\": 72},\n",
    "              {\"length\": 75}],\n",
    "    \n",
    "    \"worm2\": [{\"length\": 42},\n",
    "              {\"length\": 53},\n",
    "              {\"length\": 55},\n",
    "              {\"length\": 62},\n",
    "              {\"length\": 64},\n",
    "              {\"length\": 67},\n",
    "              {\"length\": 70},\n",
    "              {\"length\": 70},\n",
    "              {\"length\": 70},\n",
    "              {\"length\": 71}]\n",
    "}"
   ]
  },
  {
   "cell_type": "code",
   "execution_count": 2,
   "metadata": {},
   "outputs": [
    {
     "name": "stdout",
     "output_type": "stream",
     "text": [
      "47 42 5\n",
      "54 53 1\n",
      "55 55 0\n",
      "67 62 5\n",
      "68 64 4\n",
      "68 67 1\n",
      "70 70 0\n",
      "72 70 2\n",
      "72 70 2\n",
      "75 71 4\n"
     ]
    },
    {
     "data": {
      "text/plain": [
       "[(0, 5), (3, 5), (4, 4), (9, 4)]"
      ]
     },
     "execution_count": 2,
     "metadata": {},
     "output_type": "execute_result"
    }
   ],
   "source": [
    "# create an empty list to store the results in\n",
    "res = []\n",
    "\n",
    "# get the list for the worm1 key from the dictionary\n",
    "w1lst = worms_lengths[\"worm1\"]\n",
    "\n",
    "# get the list for the worm2 key from the dictionary\n",
    "w2lst = worms_lengths[\"worm2\"]\n",
    "\n",
    "# go through the elements/dictionaries of the list for worm1 one at the time\n",
    "# we need to get the matching element for the worm2 list so we use enumerate\n",
    "for i,val in enumerate(w1lst):\n",
    "    \n",
    "    # get the value for the length key from the current dictionary from the worm1 list\n",
    "    w1len = val[\"length\"]\n",
    "    \n",
    "    # get the value for the length key from the matching dictionary from the worm2 list\n",
    "    # to get the matching dictionary form the worm2 list we use the index from the enumerate\n",
    "    w2len = w2lst[i][\"length\"]\n",
    "    \n",
    "    # compute the difference in lengths and take the absolute value\n",
    "    # we need the absolute value to compare with the threshold of 3\n",
    "    ldiff = abs(w1len - w2len)\n",
    "    \n",
    "    # print the length and the difference in lengths for the current measurement for the two worms\n",
    "    # NOTE: if the lists are large this may freeze the notebook because it will try to print too much\n",
    "    print(w1len, w2len, ldiff)\n",
    "    \n",
    "    # if the absolute value of the difference in lengths is more than 3 we have a change\n",
    "    if ldiff > 3:\n",
    "        # add a tuple with the position and the difference to the results list\n",
    "        res.append((i, ldiff))\n",
    "\n",
    "# check the result \n",
    "res"
   ]
  },
  {
   "cell_type": "code",
   "execution_count": null,
   "metadata": {},
   "outputs": [],
   "source": []
  },
  {
   "cell_type": "markdown",
   "metadata": {
    "tags": []
   },
   "source": [
    "____\n",
    "\n",
    "\n",
    "<b> <font color = \"red\">Exercise</font></b>\n",
    "\n",
    "#### Genomic feature exploration for the worm genome   \n",
    "We have genomic features stored in the  data for the roundworm in the file `worm_genome_short.gff3`.   \n",
    "https://raw.githubusercontent.com/dcmb-courses/bioinf575/main/study_sessions/study_session6_functions_files/worm_genome_short.gff3\n",
    "\n",
    "Parse the file and create two lists, one with the features, tuples of 8 elements, and one with the attributes, tuples of 2 elements.\n",
    "\n",
    "GFF3 files are nine-column, tab-delimited, plain text files.    \n",
    "The first line of a GFF3 file is a comment that identifies the version.    \n",
    "All but the final field in each feature line must contain a value; \"empty\" columns should be denoted with a '.'.    \n",
    "\n",
    "The descriptions of each of the 9 columns are as such:   \n",
    "1.\tseqid: name of the chromosome or scaffold; chromosome names can be given with or without the 'chr' prefix. \n",
    "o\tImportant note: the seq ID must be one used within Ensembl, i.e. a standard chromosome name or an Ensembl identifier such as a scaffold ID, without any additional content such as species or assembly. \n",
    "2.\tsource: name of the program that generated this feature, or the data source (database or project name)\n",
    "3.\ttype: type of feature. Must be a term or accession from the SOFA sequence ontology\n",
    "4.\tstart: Start position of the feature, with sequence numbering starting at 1.\n",
    "5.\tend: End position of the feature, with sequence numbering starting at 1.\n",
    "6.\tscore: A floating point value.\n",
    "7.\tstrand: Defined as + (forward) or - (reverse).\n",
    "8.\tphase: One of '0', '1' or '2'. '0' indicates that the first base of the feature is the first base of a codon, '1' that the second base is the first base of a codon, and so on.\n",
    "9.\tattributes: A semicolon-separated list of tag-value pairs, providing additional information about each feature. Some of these tags are predefined, e.g. ID, Name, Alias, Parent - see the GFF documentation for more details.\n"
   ]
  },
  {
   "cell_type": "code",
   "execution_count": 3,
   "metadata": {},
   "outputs": [],
   "source": [
    "# Write your solution here\n",
    "\n",
    "\n"
   ]
  },
  {
   "cell_type": "markdown",
   "metadata": {},
   "source": [
    "#### Download the file `worm_genome_short.gff3` from the following url: \n",
    "(on the raw button right-click and download file as)\n",
    "\n",
    "https://github.com/dcmb-courses/bioinf575/blob/main/study_sessions/study_session6_functions_files/worm_genome_short.gff3"
   ]
  },
  {
   "cell_type": "code",
   "execution_count": 4,
   "metadata": {},
   "outputs": [],
   "source": [
    "# set the filename in a variable\n",
    "gff_file_name = \"worm_genome_short.gff3\"\n",
    "\n",
    "# create an empty features list where we will store the features\n",
    "features = []\n",
    "\n",
    "# create an empty features list where we will store the features\n",
    "attributes = []\n",
    "\n",
    "# open the file to read the data\n",
    "with open(gff_file_name) as gff_file:\n",
    "    # go through the lines in the file one by one\n",
    "    for line in gff_file:\n",
    "        # ignore comment lines - they start with \"#\"\n",
    "        if not line.startswith(\"#\"):\n",
    "            # split the line by tab  \n",
    "            line_elems = line.split(\"\\t\")\n",
    "            # get the first 8 elements and make a tuple\n",
    "            feat_tup = tuple(line_elems[:8])\n",
    "            # add the tuple to the features list\n",
    "            features.append(feat_tup)\n",
    "            \n",
    "            # take the last element in the list - that is the string with the attributes\n",
    "            attr_str = line_elems[-1]\n",
    "            # split the attribute string by \";\" and \n",
    "            # go through the list of pairs of attributes one by one\n",
    "            for pair in attr_str.split(\";\"):\n",
    "                # split the pair in the attribute name and values\n",
    "                name, values = pair.split(\"=\")\n",
    "                # split the string containing the values by \",\"\n",
    "                # go through the elements in the list of values one by one\n",
    "                for value in values.split(\",\"):\n",
    "                    # create a tuple from the attribute name and value\n",
    "                    attr_tup = (name, value)\n",
    "                    # add the tuple to the attributes list\n",
    "                    attributes.append(attr_tup)\n",
    "                \n",
    "            #break"
   ]
  },
  {
   "cell_type": "code",
   "execution_count": 5,
   "metadata": {},
   "outputs": [
    {
     "data": {
      "text/plain": [
       "[('I', 'WormBase', 'chromosome', '1', '15072434', '.', '.', '.'),\n",
       " ('I', 'WormBase', 'ncRNA_gene', '3747', '3909', '.', '-', '.'),\n",
       " ('I', 'WormBase', 'snoRNA', '3747', '3909', '.', '-', '.'),\n",
       " ('I', 'WormBase', 'exon', '3747', '3909', '.', '-', '.'),\n",
       " ('I', 'WormBase', 'gene', '4116', '10230', '.', '-', '.')]"
      ]
     },
     "execution_count": 5,
     "metadata": {},
     "output_type": "execute_result"
    }
   ],
   "source": [
    "features[:5]"
   ]
  },
  {
   "cell_type": "code",
   "execution_count": 6,
   "metadata": {},
   "outputs": [
    {
     "data": {
      "text/plain": [
       "181"
      ]
     },
     "execution_count": 6,
     "metadata": {},
     "output_type": "execute_result"
    }
   ],
   "source": [
    "len(features)"
   ]
  },
  {
   "cell_type": "code",
   "execution_count": 7,
   "metadata": {},
   "outputs": [
    {
     "data": {
      "text/plain": [
       "[('ID', 'chromosome:I'),\n",
       " ('Alias', 'BX284601.5'),\n",
       " ('Alias', 'NC_003279.8\\n'),\n",
       " ('ID', 'gene:WBGene00023193'),\n",
       " ('Name', 'Y74C9A.6')]"
      ]
     },
     "execution_count": 7,
     "metadata": {},
     "output_type": "execute_result"
    }
   ],
   "source": [
    "attributes[:5]"
   ]
  },
  {
   "cell_type": "code",
   "execution_count": 8,
   "metadata": {},
   "outputs": [
    {
     "data": {
      "text/plain": [
       "888"
      ]
     },
     "execution_count": 8,
     "metadata": {},
     "output_type": "execute_result"
    }
   ],
   "source": [
    "len(attributes)"
   ]
  },
  {
   "cell_type": "code",
   "execution_count": null,
   "metadata": {},
   "outputs": [],
   "source": []
  },
  {
   "cell_type": "markdown",
   "metadata": {
    "tags": []
   },
   "source": [
    "___\n",
    "\n",
    "<b> <font color = \"red\">Exercise</font></b>\n",
    "\n",
    "#### Package exploration\n",
    "\n",
    "Look into the bamnostic package and find out what operating systems it supports, what dependencies it has and find a class it defines.\n",
    "\n",
    "https://github.com/betteridiot/bamnostic\n",
    "\n",
    "Look at pandas for similar information.\n",
    "\n",
    "https://github.com/pandas-dev/pandas\n"
   ]
  },
  {
   "cell_type": "code",
   "execution_count": 9,
   "metadata": {},
   "outputs": [],
   "source": [
    "# Write your solution here\n",
    "\n",
    "\n"
   ]
  },
  {
   "cell_type": "markdown",
   "metadata": {},
   "source": [
    "To find out how the project will be set up look in `setup.py`:    \n",
    "https://github.com/betteridiot/bamnostic/blob/master/setup.py\n",
    "\n",
    "OPERATING SYSTEM:\n",
    "\n",
    "Classifiers can be used for searching and to specify various package attributes.    \n",
    "https://packaging.python.org/guides/distributing-packages-using-setuptools/#classifiers     \n",
    "https://packaging.python.org/guides/distributing-packages-using-setuptools/#python-requires\n",
    "\n",
    "Although the list of classifiers is often used to declare what Python versions a project supports, this information is only used for searching & browsing projects on PyPI, not for installing projects. To actually restrict what Python versions a project can be installed on, use the python_requires argument.\n",
    "\n",
    "List of classifiers:      \n",
    "https://pypi.org/classifiers/\n",
    "\n",
    "https://pypi.org/search/?q=&o=     \n",
    "If you look on the left panel at filter by classifier - operating system - you can see all operating systems. available in general.\n",
    "\n",
    "For <b>bamnostic</b> we have:     \n",
    "https://github.com/betteridiot/bamnostic/blob/master/setup.py\n",
    "\n",
    "Operating systems: Unix, Microsoft :: Windows, MacOS\n",
    "```\n",
    "        \"Operating System :: Unix\",\n",
    "        \"Operating System :: Microsoft :: Windows\",\n",
    "        \"Operating System :: MacOS\",\n",
    "        \"Programming Language :: Python :: 2.7\",\n",
    "        \"Programming Language :: Python :: 3\",\n",
    "        \"Programming Language :: Python :: 3.0\",\n",
    "        \"Programming Language :: Python :: 3.1\",\n",
    "        \"Programming Language :: Python :: 3.2\",\n",
    "        \"Programming Language :: Python :: 3.3\",\n",
    "        \"Programming Language :: Python :: 3.4\",\n",
    "        \"Programming Language :: Python :: 3.5\",\n",
    "        \"Programming Language :: Python :: 3.6\",\n",
    "        \"Programming Language :: Python :: 3.7\",\n",
    "        \"Programming Language :: Python :: 3.8\",\n",
    "        \n",
    "```\n",
    "\n",
    "DEPENDENCIES: \n",
    "\n",
    "`install_requires` should be used to specify what dependencies a project minimally needs to run.    \n",
    "When the project is installed by pip, this is the specification that is used to install its dependencies.\n",
    "For more on using “install_requires” see install_requires vs requirements files.\n",
    "https://packaging.python.org/guides/distributing-packages-using-setuptools/#install-requires\n",
    "https://packaging.python.org/discussions/install-requires-vs-requirements/#install-requires-vs-requirements-files\n",
    "\n",
    "https://python-packaging.readthedocs.io/en/latest/dependencies.html      \n",
    "https://packaging.python.org/guides/distributing-packages-using-setuptools/#python-requires\n",
    "\n",
    "\n",
    "For <b>bamnostic</b> we have: Dependencies: None        \n",
    "https://github.com/betteridiot/bamnostic/blob/master/setup.py    \n",
    "\n",
    "\n",
    "```\n",
    "    # setup_requires=['pytest-runner'],\n",
    "    tests_require=[\"pytest\"],\n",
    "\n",
    "```\n",
    "\n",
    "Also `requirements.txt` is empty. That is the file that stores dependencies.   \n",
    "https://github.com/betteridiot/bamnostic/blob/master/requirements.txt\n",
    "\n",
    "CLASSES:\n",
    "\n",
    "Look into the folder with the same name as the package, that is where the code is (.py files are modules).\n",
    "Search for the keyword `class`.\n",
    "\n",
    "For <b>bamnostic</b> in the file `core.py` I found a class at line 113.     \n",
    "https://github.com/betteridiot/bamnostic/blob/master/bamnostic/core.py   \n",
    "```\n",
    "class AlignmentFile(bam.BamReader, bam.BamWriter):\n",
    "```\n"
   ]
  },
  {
   "cell_type": "markdown",
   "metadata": {},
   "source": [
    "________"
   ]
  },
  {
   "cell_type": "markdown",
   "metadata": {},
   "source": [
    "#### PANDAS\n",
    "\n",
    "OPERATING SYSTEM:\n",
    "\n",
    "The setup information is in `setup.cfg`\n",
    "https://github.com/pandas-dev/pandas/blob/master/setup.cfg\n",
    "\n",
    "```\n",
    "    Operating System :: OS Independent\n",
    "    Programming Language :: Cython\n",
    "    Programming Language :: Python\n",
    "    Programming Language :: Python :: 3\n",
    "    Programming Language :: Python :: 3 :: Only\n",
    "    Programming Language :: Python :: 3.8\n",
    "    Programming Language :: Python :: 3.9\n",
    "    Programming Language :: Python :: 3.10\n",
    "\n",
    "```\n",
    "\n",
    "\n",
    "DEPENDENCIES:\n",
    "\n",
    "```\n",
    "packages = find:\n",
    "install_requires =\n",
    "    numpy>=1.18.5; platform_machine!='aarch64' and platform_machine!='arm64' and python_version<'3.10'\n",
    "    numpy>=1.19.2; platform_machine=='aarch64' and python_version<'3.10'\n",
    "    numpy>=1.20.0; platform_machine=='arm64' and python_version<'3.10'\n",
    "    numpy>=1.21.0; python_version>='3.10'\n",
    "    python-dateutil>=2.8.1\n",
    "    pytz>=2020.1\n",
    "python_requires = >=3.8\n",
    "include_package_data = True\n",
    "zip_safe = False\n",
    "```\n",
    "\n",
    "\n",
    "CLASS:\n",
    "\n",
    "For <b>pandas</b> in the file `goupby.py` I found a class at line 57.\n",
    "https://github.com/pandas-dev/pandas/blob/master/pandas/core/groupby/grouper.py\n",
    "\n",
    "```\n",
    "class Grouper:\n",
    "    \"\"\"\n",
    "    A Grouper allows the user to specify a groupby instruction for an object.\n",
    "    This specification will select a column via the key parameter, or if the\n",
    "    level and/or axis parameters are given, a level of the index of the target\n",
    "    object.\n",
    "\n",
    "```"
   ]
  },
  {
   "cell_type": "code",
   "execution_count": null,
   "metadata": {},
   "outputs": [],
   "source": []
  }
 ],
 "metadata": {
  "kernelspec": {
   "display_name": "Python 3 (ipykernel)",
   "language": "python",
   "name": "python3"
  },
  "language_info": {
   "codemirror_mode": {
    "name": "ipython",
    "version": 3
   },
   "file_extension": ".py",
   "mimetype": "text/x-python",
   "name": "python",
   "nbconvert_exporter": "python",
   "pygments_lexer": "ipython3",
   "version": "3.8.10"
  }
 },
 "nbformat": 4,
 "nbformat_minor": 4
}
