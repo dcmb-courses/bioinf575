{
 "cells": [
  {
   "cell_type": "markdown",
   "metadata": {
    "tags": []
   },
   "source": [
    "### Study session 13 - Scripting\n",
    "\n",
    "#### BIOINF 575 - Fall 2022\n"
   ]
  },
  {
   "cell_type": "markdown",
   "metadata": {},
   "source": [
    "___\n",
    "\n",
    "<b> <font color = \"red\">Exercise</font></b>\n",
    "\n",
    "#### In a module called `gene_annotations.py` implement the following classes: \n",
    "\n",
    "The Gene class should have an id (gid), symbol and description.   \n",
    "The GOTerm class should have a GO term id (gtid) and name.     \n",
    "The GeneGOTerm class should have the gene_id and the GO_term_id. \n",
    "\n",
    "Write some code to test the classes in the module and then run the module as a script to run the test code. \n"
   ]
  },
  {
   "cell_type": "code",
   "execution_count": null,
   "metadata": {},
   "outputs": [],
   "source": [
    "# Write your solution here\n",
    "\n",
    "\n"
   ]
  },
  {
   "cell_type": "code",
   "execution_count": null,
   "metadata": {},
   "outputs": [],
   "source": []
  },
  {
   "cell_type": "code",
   "execution_count": null,
   "metadata": {},
   "outputs": [],
   "source": []
  },
  {
   "cell_type": "code",
   "execution_count": null,
   "metadata": {},
   "outputs": [],
   "source": []
  },
  {
   "cell_type": "markdown",
   "metadata": {},
   "source": [
    "<b> <font color = \"red\">Exercise</font></b>\n",
    "\n",
    "In a module called `data_processing.py` write three functions:\n",
    "\n",
    "1. A function to process a tab-separated line (see the table below with an example of a line) from a file and return a dictionary with 3 keys:\n",
    "\n",
    "| GeneID | Symbol | Description                 | map_loc | chr | acc.vers | start_pos | end_pos | orientation | exon_count | GOTerms                                                                                                                                                                               |\n",
    "|--------|--------|-----------------------------|---------|---- |----------|-----------|-------- |-------------|------------|---------------------------------------------------------------------------------------------------------------------------------------------------------------------------------------|\n",
    "| 672    | BRCA1  | BRCA1 DNA repair associated | 17q21.31| 17         | NC_000017.11      | 43044295       | 43125364     | minus       | 24         | intrinsic apoptotic signaling pathway in response to DNA damage;transcription cis-regulatory region binding;transcription coactivator activity;ubiquitin-protein transferase activity |\n",
    "\n",
    "* The key \"Gene\" with the value being an object of type Gene created from the line data\n",
    "* The key \"GOTerms\" with the value being a list of new GOTerm objects created from the line data\n",
    "* The key \"GeneGOTerms\" with the value being a list of new GeneGOTerm objects created from the line data\n",
    "\n",
    "2. A function that takes as input the filename of a file that it will to process and returns a dictionary with the following items:\n",
    "* An item with the key \"Genes\" and the value a list of genes \n",
    "* An item with the key \"GOTerms\" and the value a list of GO terms \n",
    "* An item with the key \"GeneGOTerms\" and the value a list of gene to GO term connections \n",
    "\n",
    "3. A function that creates a pandas data frame from a list of objects, for instance from a list of genes (look into the vars function, and \\_\\_dict\\_\\_ attribute for an object)\n",
    "\n",
    "Write some code to test the funcitons in the module and then run the module as a script to run the test code.\n",
    "\n",
    "\n",
    "        "
   ]
  },
  {
   "cell_type": "code",
   "execution_count": null,
   "metadata": {},
   "outputs": [],
   "source": [
    "# Write your solution here\n",
    "\n",
    "\n"
   ]
  },
  {
   "cell_type": "code",
   "execution_count": null,
   "metadata": {},
   "outputs": [],
   "source": []
  },
  {
   "cell_type": "code",
   "execution_count": null,
   "metadata": {},
   "outputs": [],
   "source": []
  },
  {
   "cell_type": "code",
   "execution_count": null,
   "metadata": {},
   "outputs": [],
   "source": []
  },
  {
   "cell_type": "code",
   "execution_count": null,
   "metadata": {},
   "outputs": [],
   "source": []
  },
  {
   "cell_type": "code",
   "execution_count": null,
   "metadata": {},
   "outputs": [],
   "source": []
  },
  {
   "cell_type": "markdown",
   "metadata": {},
   "source": [
    "<b> <font color = \"red\">Exercise</font></b>\n",
    "\n",
    "In this notebook: \n",
    "* Use the modules implemented previously to process the file file `genes_info2.txt`\n",
    "* Create pandas dataframes from the lists created at the previous bullet point"
   ]
  },
  {
   "cell_type": "code",
   "execution_count": null,
   "metadata": {},
   "outputs": [],
   "source": [
    "# Write your solution here\n",
    "\n",
    "\n"
   ]
  },
  {
   "cell_type": "code",
   "execution_count": null,
   "metadata": {},
   "outputs": [],
   "source": []
  },
  {
   "cell_type": "code",
   "execution_count": null,
   "metadata": {},
   "outputs": [],
   "source": []
  },
  {
   "cell_type": "code",
   "execution_count": null,
   "metadata": {},
   "outputs": [],
   "source": []
  },
  {
   "cell_type": "code",
   "execution_count": null,
   "metadata": {},
   "outputs": [],
   "source": []
  },
  {
   "cell_type": "markdown",
   "metadata": {
    "tags": []
   },
   "source": [
    "___\n",
    "\n",
    "<b> <font color = \"red\">Exercise</font></b>\n",
    "\n",
    "#### Create a GO term gene dataframe\n",
    "\n",
    "Using the three dataframes creted in the previous exercise, create one dataframe with two columns: \n",
    "1. GO_term column that contains the GO term name, and \n",
    "2. Genes column that contains a string with the genes associated with the GO term separated by \"|\".\n",
    "\n"
   ]
  },
  {
   "cell_type": "code",
   "execution_count": null,
   "metadata": {},
   "outputs": [],
   "source": [
    "# Write your solution here\n",
    "\n",
    "\n"
   ]
  },
  {
   "cell_type": "code",
   "execution_count": null,
   "metadata": {},
   "outputs": [],
   "source": []
  },
  {
   "cell_type": "code",
   "execution_count": null,
   "metadata": {},
   "outputs": [],
   "source": []
  },
  {
   "cell_type": "code",
   "execution_count": null,
   "metadata": {},
   "outputs": [],
   "source": []
  },
  {
   "cell_type": "code",
   "execution_count": null,
   "metadata": {},
   "outputs": [],
   "source": []
  },
  {
   "cell_type": "code",
   "execution_count": null,
   "metadata": {},
   "outputs": [],
   "source": []
  },
  {
   "cell_type": "code",
   "execution_count": null,
   "metadata": {},
   "outputs": [],
   "source": []
  }
 ],
 "metadata": {
  "kernelspec": {
   "display_name": "Python 3 (ipykernel)",
   "language": "python",
   "name": "python3"
  },
  "language_info": {
   "codemirror_mode": {
    "name": "ipython",
    "version": 3
   },
   "file_extension": ".py",
   "mimetype": "text/x-python",
   "name": "python",
   "nbconvert_exporter": "python",
   "pygments_lexer": "ipython3",
   "version": "3.9.12"
  }
 },
 "nbformat": 4,
 "nbformat_minor": 4
}
