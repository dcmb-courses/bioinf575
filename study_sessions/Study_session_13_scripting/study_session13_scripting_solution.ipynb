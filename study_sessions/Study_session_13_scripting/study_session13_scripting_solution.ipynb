{
 "cells": [
  {
   "cell_type": "markdown",
   "metadata": {},
   "source": [
    "#### SOLUTION"
   ]
  },
  {
   "cell_type": "markdown",
   "metadata": {
    "tags": []
   },
   "source": [
    "### Study session 13 - Scripting\n",
    "\n",
    "#### BIOINF 575 - Fall 2022\n"
   ]
  },
  {
   "cell_type": "markdown",
   "metadata": {},
   "source": [
    "___\n",
    "\n",
    "<b> <font color = \"red\">Exercise</font></b>\n",
    "\n",
    "#### In a module called `gene_annotations.py` implement the following classes: \n",
    "\n",
    "The Gene class should have an id (gid), symbol and description.   \n",
    "The GOTerm class should have a GO term id (gtid) and name.     \n",
    "The GeneGOTerm class should have the gene_id and the GO_term_id. \n"
   ]
  },
  {
   "cell_type": "code",
   "execution_count": 1,
   "metadata": {},
   "outputs": [],
   "source": [
    "# Write your solution here\n",
    "\n",
    "\n"
   ]
  },
  {
   "cell_type": "code",
   "execution_count": 2,
   "metadata": {},
   "outputs": [
    {
     "name": "stdout",
     "output_type": "stream",
     "text": [
      "We create a Gene, a GOTerm, and a GeneGOTerm:\n",
      "Gene(42,'TestGene','Gene to test the code')\n",
      "GOTerm(84,'Gene Ontology Term associated with the test gene')\n",
      "GeneGOTerm(42,'84')\n"
     ]
    }
   ],
   "source": [
    "# test the code in the file running it as a script\n",
    "# the code under the if __name__ == \"__main__\": will be executed\n",
    "\n",
    "!python gene_annotations.py"
   ]
  },
  {
   "cell_type": "code",
   "execution_count": 3,
   "metadata": {},
   "outputs": [
    {
     "name": "stdout",
     "output_type": "stream",
     "text": [
      "Interactive namespace is empty.\n"
     ]
    }
   ],
   "source": [
    "# clean environment no module gene_annotations or ga \n",
    "\n",
    "# dir()\n",
    "%whos"
   ]
  },
  {
   "cell_type": "code",
   "execution_count": 4,
   "metadata": {},
   "outputs": [],
   "source": [
    "# test the functionality importing the file as a module\n",
    "\n",
    "import gene_annotations as ga"
   ]
  },
  {
   "cell_type": "code",
   "execution_count": 5,
   "metadata": {},
   "outputs": [
    {
     "name": "stdout",
     "output_type": "stream",
     "text": [
      "Variable   Type      Data/Info\n",
      "------------------------------\n",
      "ga         module    <module 'gene_annotations<...>ing/gene_annotations.py'>\n"
     ]
    }
   ],
   "source": [
    "# see the ga module in the list\n",
    "\n",
    "# dir()\n",
    "%whos"
   ]
  },
  {
   "cell_type": "code",
   "execution_count": 6,
   "metadata": {},
   "outputs": [],
   "source": [
    "# create gene, go term and gene go term objects"
   ]
  },
  {
   "cell_type": "code",
   "execution_count": 7,
   "metadata": {},
   "outputs": [
    {
     "data": {
      "text/plain": [
       "Gene(121,'GeneSymbol','Gene created in notebook')"
      ]
     },
     "execution_count": 7,
     "metadata": {},
     "output_type": "execute_result"
    }
   ],
   "source": [
    "g = ga.Gene(121, \"GeneSymbol\", \"Gene created in notebook\")\n",
    "g"
   ]
  },
  {
   "cell_type": "code",
   "execution_count": 8,
   "metadata": {},
   "outputs": [
    {
     "data": {
      "text/plain": [
       "'GeneSymbol'"
      ]
     },
     "execution_count": 8,
     "metadata": {},
     "output_type": "execute_result"
    }
   ],
   "source": [
    "g.symbol"
   ]
  },
  {
   "cell_type": "code",
   "execution_count": 9,
   "metadata": {},
   "outputs": [],
   "source": [
    "g.symbol = \"NotebookGene\""
   ]
  },
  {
   "cell_type": "code",
   "execution_count": 10,
   "metadata": {},
   "outputs": [
    {
     "data": {
      "text/plain": [
       "Gene(121,'NotebookGene','Gene created in notebook')"
      ]
     },
     "execution_count": 10,
     "metadata": {},
     "output_type": "execute_result"
    }
   ],
   "source": [
    "g"
   ]
  },
  {
   "cell_type": "code",
   "execution_count": 11,
   "metadata": {},
   "outputs": [
    {
     "data": {
      "text/plain": [
       "GOTerm(7,'cell division')"
      ]
     },
     "execution_count": 11,
     "metadata": {},
     "output_type": "execute_result"
    }
   ],
   "source": [
    "gt = ga.GOTerm(7, \"cell division\")\n",
    "gt"
   ]
  },
  {
   "cell_type": "code",
   "execution_count": 12,
   "metadata": {},
   "outputs": [
    {
     "data": {
      "text/plain": [
       "7"
      ]
     },
     "execution_count": 12,
     "metadata": {},
     "output_type": "execute_result"
    }
   ],
   "source": [
    "gt.gtid"
   ]
  },
  {
   "cell_type": "code",
   "execution_count": 13,
   "metadata": {},
   "outputs": [
    {
     "data": {
      "text/plain": [
       "GeneGOTerm(121,'7')"
      ]
     },
     "execution_count": 13,
     "metadata": {},
     "output_type": "execute_result"
    }
   ],
   "source": [
    "ggt = ga.GeneGOTerm(121,7)\n",
    "ggt"
   ]
  },
  {
   "cell_type": "code",
   "execution_count": 14,
   "metadata": {},
   "outputs": [
    {
     "data": {
      "text/plain": [
       "121"
      ]
     },
     "execution_count": 14,
     "metadata": {},
     "output_type": "execute_result"
    }
   ],
   "source": [
    "ggt.gene_id"
   ]
  },
  {
   "cell_type": "code",
   "execution_count": null,
   "metadata": {},
   "outputs": [],
   "source": []
  },
  {
   "cell_type": "markdown",
   "metadata": {},
   "source": [
    "<b> <font color = \"red\">Exercise</font></b>\n",
    "\n",
    "In a module called `data_processing.py` write three functions:\n",
    "\n",
    "1. A function to process a tab-separated line (see the table below with an example of a line) from a file and return a dictionary with 3 keys:\n",
    "\n",
    "| GeneID | Symbol | Description                 | map_loc | chr | acc.vers | start_pos | end_pos | orientation | exon_count | GOTerms                                                                                                                                                                               |\n",
    "|--------|--------|-----------------------------|---------|---- |----------|-----------|-------- |-------------|------------|---------------------------------------------------------------------------------------------------------------------------------------------------------------------------------------|\n",
    "| 672    | BRCA1  | BRCA1 DNA repair associated | 17q21.31| 17         | NC_000017.11      | 43044295       | 43125364     | minus       | 24         | intrinsic apoptotic signaling pathway in response to DNA damage;transcription cis-regulatory region binding;transcription coactivator activity;ubiquitin-protein transferase activity |\n",
    "\n",
    "* The key \"Gene\" with the value being an object of type Gene created from the line data\n",
    "* The key \"GOTerms\" with the value being a list of new GOTerm objects created from the line data\n",
    "* The key \"GeneGOTerms\" with the value being a list of new GeneGOTerm objects created from the line data\n",
    "\n",
    "2. A function that takes as input the filename of a file that it will to process and returns a dictionary with the following items:\n",
    "* An item with the key \"Genes\" and the value a list of genes \n",
    "* An item with the key \"GOTerms\" and the value a list of GO terms \n",
    "* An item with the key \"GeneGOTerms\" and the value a list of gene to GO term connections \n",
    "\n",
    "3. A function that creates a pandas data frame from a list of objects, for instance from a list of genes (look into the vars function, and \\_\\_dict\\_\\_ attribute for an object)\n",
    "\n",
    "        "
   ]
  },
  {
   "cell_type": "code",
   "execution_count": 15,
   "metadata": {},
   "outputs": [],
   "source": [
    "# Write your solution here\n",
    "\n",
    "\n"
   ]
  },
  {
   "cell_type": "code",
   "execution_count": 16,
   "metadata": {},
   "outputs": [
    {
     "name": "stdout",
     "output_type": "stream",
     "text": [
      "Testing line processing:\n",
      "We are processing the line!\n",
      "672\tBRCA1\tBRCA1 DNA repair associated\t17q21.31\t17\tNC_000017.11\t43044295\t43125364\tminus\t24\tintrinsic apoptotic signaling pathway in response to DNA damage;transcription cis-regulatory region binding;transcription coactivator activity;ubiquitin-protein transferase activity\n",
      "The result is:\n",
      "{'Gene': Gene(672,'BRCA1','672'), 'GOTerms': [GOTerm(1,'intrinsic apoptotic signaling pathway in response to DNA damage'), GOTerm(2,'transcription cis-regulatory region binding'), GOTerm(3,'transcription coactivator activity'), GOTerm(4,'ubiquitin-protein transferase activity')], 'GeneGOTerms': [GeneGOTerm(672,'1'), GeneGOTerm(672,'2'), GeneGOTerm(672,'3'), GeneGOTerm(672,'4')]}\n",
      "\n",
      "We are processing the file!\n",
      "genes_info2.txt\n",
      "The result is:\n",
      "{'Genes': [Gene(672,'BRCA1','672'), Gene(675,'BRCA2','675'), Gene(7157,'TP53','7157'), Gene(10296,'MAEA','10296'), Gene(7040,'TGFB1','7040'), Gene(64926,'RASAL3','64926'), Gene(5888,'RAD51','5888')], 'GOTerms': [GOTerm(1,'intrinsic apoptotic signaling pathway in response to DNA damage'), GOTerm(2,'transcription cis-regulatory region binding'), GOTerm(3,'transcription coactivator activity'), GOTerm(4,'ubiquitin-protein transferase activity'), GOTerm(5,'histone acetyltransferase activity'), GOTerm(6,'protease binding'), GOTerm(7,'single-stranded DNA binding'), GOTerm(8,'protein binding'), GOTerm(9,'negative regulation of transcription, DNA-templated'), GOTerm(10,'positive regulation of transcription by RNA polymerase II'), GOTerm(11,'promoter-specific chromatin binding'), GOTerm(12,'circadian behavior'), GOTerm(13,'cell adhesion'), GOTerm(14,'DNA recombination'), GOTerm(15,'DNA repair'), GOTerm(16,'cellular response to hydroxyurea')], 'GeneGOTerms': [GeneGOTerm(672,'1'), GeneGOTerm(672,'2'), GeneGOTerm(672,'3'), GeneGOTerm(672,'4'), GeneGOTerm(675,'5'), GeneGOTerm(675,'6'), GeneGOTerm(675,'7'), GeneGOTerm(675,'8'), GeneGOTerm(7157,'9'), GeneGOTerm(7157,'10'), GeneGOTerm(7157,'11'), GeneGOTerm(7157,'12'), GeneGOTerm(10296,'13'), GeneGOTerm(10296,'7'), GeneGOTerm(10296,'10'), GeneGOTerm(7040,'12'), GeneGOTerm(7040,'7'), GeneGOTerm(64926,'12'), GeneGOTerm(64926,'7'), GeneGOTerm(64926,'5'), GeneGOTerm(5888,'14'), GeneGOTerm(5888,'15'), GeneGOTerm(5888,'16')]}\n",
      "\n",
      "We are changing the genes list into a dataframe!\n",
      "The result is:\n",
      "     gid  symbol description\n",
      "0    672   BRCA1         672\n",
      "1    675   BRCA2         675\n",
      "2   7157    TP53        7157\n",
      "3  10296    MAEA       10296\n",
      "4   7040   TGFB1        7040\n",
      "5  64926  RASAL3       64926\n",
      "6   5888   RAD51        5888\n"
     ]
    }
   ],
   "source": [
    "# test the code in the file running it as a script\n",
    "# the code under the if __name__ == \"__main__\": will be executed\n",
    "\n",
    "!python data_processing.py"
   ]
  },
  {
   "cell_type": "code",
   "execution_count": null,
   "metadata": {},
   "outputs": [],
   "source": []
  },
  {
   "cell_type": "code",
   "execution_count": 33,
   "metadata": {},
   "outputs": [],
   "source": [
    "# import the file as a module\n",
    "\n",
    "import data_processing as dp\n"
   ]
  },
  {
   "cell_type": "code",
   "execution_count": 34,
   "metadata": {},
   "outputs": [
    {
     "data": {
      "text/plain": [
       "{'Gene': Gene(42,'GeneSym','42'),\n",
       " 'GOTerms': [GOTerm(1,'Go term1'), GOTerm(2,'Go Term2')],\n",
       " 'GeneGOTerms': [GeneGOTerm(42,'1'), GeneGOTerm(42,'2')]}"
      ]
     },
     "execution_count": 34,
     "metadata": {},
     "output_type": "execute_result"
    }
   ],
   "source": [
    "# test process_line\n",
    "\n",
    "line = \"42\tGeneSym\tGene Description test\tGo term1; Go Term2\"\n",
    "dp.process_line(line, [])"
   ]
  },
  {
   "cell_type": "code",
   "execution_count": 35,
   "metadata": {},
   "outputs": [
    {
     "data": {
      "text/plain": [
       "{'Genes': [Gene(672,'BRCA1','672'),\n",
       "  Gene(675,'BRCA2','675'),\n",
       "  Gene(7157,'TP53','7157'),\n",
       "  Gene(10296,'MAEA','10296'),\n",
       "  Gene(7040,'TGFB1','7040'),\n",
       "  Gene(64926,'RASAL3','64926'),\n",
       "  Gene(5888,'RAD51','5888')],\n",
       " 'GOTerms': [GOTerm(1,'intrinsic apoptotic signaling pathway in response to DNA damage'),\n",
       "  GOTerm(2,'transcription cis-regulatory region binding'),\n",
       "  GOTerm(3,'transcription coactivator activity'),\n",
       "  GOTerm(4,'ubiquitin-protein transferase activity'),\n",
       "  GOTerm(5,'histone acetyltransferase activity'),\n",
       "  GOTerm(6,'protease binding'),\n",
       "  GOTerm(7,'single-stranded DNA binding'),\n",
       "  GOTerm(8,'protein binding'),\n",
       "  GOTerm(9,'negative regulation of transcription, DNA-templated'),\n",
       "  GOTerm(10,'positive regulation of transcription by RNA polymerase II'),\n",
       "  GOTerm(11,'promoter-specific chromatin binding'),\n",
       "  GOTerm(12,'circadian behavior'),\n",
       "  GOTerm(13,'cell adhesion'),\n",
       "  GOTerm(14,'DNA recombination'),\n",
       "  GOTerm(15,'DNA repair'),\n",
       "  GOTerm(16,'cellular response to hydroxyurea')],\n",
       " 'GeneGOTerms': [GeneGOTerm(672,'1'),\n",
       "  GeneGOTerm(672,'2'),\n",
       "  GeneGOTerm(672,'3'),\n",
       "  GeneGOTerm(672,'4'),\n",
       "  GeneGOTerm(675,'5'),\n",
       "  GeneGOTerm(675,'6'),\n",
       "  GeneGOTerm(675,'7'),\n",
       "  GeneGOTerm(675,'8'),\n",
       "  GeneGOTerm(7157,'9'),\n",
       "  GeneGOTerm(7157,'10'),\n",
       "  GeneGOTerm(7157,'11'),\n",
       "  GeneGOTerm(7157,'12'),\n",
       "  GeneGOTerm(10296,'13'),\n",
       "  GeneGOTerm(10296,'7'),\n",
       "  GeneGOTerm(10296,'10'),\n",
       "  GeneGOTerm(7040,'12'),\n",
       "  GeneGOTerm(7040,'7'),\n",
       "  GeneGOTerm(64926,'12'),\n",
       "  GeneGOTerm(64926,'7'),\n",
       "  GeneGOTerm(64926,'5'),\n",
       "  GeneGOTerm(5888,'14'),\n",
       "  GeneGOTerm(5888,'15'),\n",
       "  GeneGOTerm(5888,'16')]}"
      ]
     },
     "execution_count": 35,
     "metadata": {},
     "output_type": "execute_result"
    }
   ],
   "source": [
    "res = dp.process_file(\"genes_info2.txt\")\n",
    "res"
   ]
  },
  {
   "cell_type": "code",
   "execution_count": 36,
   "metadata": {},
   "outputs": [
    {
     "data": {
      "text/html": [
       "<div>\n",
       "<style scoped>\n",
       "    .dataframe tbody tr th:only-of-type {\n",
       "        vertical-align: middle;\n",
       "    }\n",
       "\n",
       "    .dataframe tbody tr th {\n",
       "        vertical-align: top;\n",
       "    }\n",
       "\n",
       "    .dataframe thead th {\n",
       "        text-align: right;\n",
       "    }\n",
       "</style>\n",
       "<table border=\"1\" class=\"dataframe\">\n",
       "  <thead>\n",
       "    <tr style=\"text-align: right;\">\n",
       "      <th></th>\n",
       "      <th>gtid</th>\n",
       "      <th>name</th>\n",
       "    </tr>\n",
       "  </thead>\n",
       "  <tbody>\n",
       "    <tr>\n",
       "      <th>0</th>\n",
       "      <td>1</td>\n",
       "      <td>intrinsic apoptotic signaling pathway in respo...</td>\n",
       "    </tr>\n",
       "    <tr>\n",
       "      <th>1</th>\n",
       "      <td>2</td>\n",
       "      <td>transcription cis-regulatory region binding</td>\n",
       "    </tr>\n",
       "    <tr>\n",
       "      <th>2</th>\n",
       "      <td>3</td>\n",
       "      <td>transcription coactivator activity</td>\n",
       "    </tr>\n",
       "    <tr>\n",
       "      <th>3</th>\n",
       "      <td>4</td>\n",
       "      <td>ubiquitin-protein transferase activity</td>\n",
       "    </tr>\n",
       "    <tr>\n",
       "      <th>4</th>\n",
       "      <td>5</td>\n",
       "      <td>histone acetyltransferase activity</td>\n",
       "    </tr>\n",
       "    <tr>\n",
       "      <th>5</th>\n",
       "      <td>6</td>\n",
       "      <td>protease binding</td>\n",
       "    </tr>\n",
       "    <tr>\n",
       "      <th>6</th>\n",
       "      <td>7</td>\n",
       "      <td>single-stranded DNA binding</td>\n",
       "    </tr>\n",
       "    <tr>\n",
       "      <th>7</th>\n",
       "      <td>8</td>\n",
       "      <td>protein binding</td>\n",
       "    </tr>\n",
       "    <tr>\n",
       "      <th>8</th>\n",
       "      <td>9</td>\n",
       "      <td>negative regulation of transcription, DNA-temp...</td>\n",
       "    </tr>\n",
       "    <tr>\n",
       "      <th>9</th>\n",
       "      <td>10</td>\n",
       "      <td>positive regulation of transcription by RNA po...</td>\n",
       "    </tr>\n",
       "    <tr>\n",
       "      <th>10</th>\n",
       "      <td>11</td>\n",
       "      <td>promoter-specific chromatin binding</td>\n",
       "    </tr>\n",
       "    <tr>\n",
       "      <th>11</th>\n",
       "      <td>12</td>\n",
       "      <td>circadian behavior</td>\n",
       "    </tr>\n",
       "    <tr>\n",
       "      <th>12</th>\n",
       "      <td>13</td>\n",
       "      <td>cell adhesion</td>\n",
       "    </tr>\n",
       "    <tr>\n",
       "      <th>13</th>\n",
       "      <td>14</td>\n",
       "      <td>DNA recombination</td>\n",
       "    </tr>\n",
       "    <tr>\n",
       "      <th>14</th>\n",
       "      <td>15</td>\n",
       "      <td>DNA repair</td>\n",
       "    </tr>\n",
       "    <tr>\n",
       "      <th>15</th>\n",
       "      <td>16</td>\n",
       "      <td>cellular response to hydroxyurea</td>\n",
       "    </tr>\n",
       "  </tbody>\n",
       "</table>\n",
       "</div>"
      ],
      "text/plain": [
       "    gtid                                               name\n",
       "0      1  intrinsic apoptotic signaling pathway in respo...\n",
       "1      2        transcription cis-regulatory region binding\n",
       "2      3                 transcription coactivator activity\n",
       "3      4             ubiquitin-protein transferase activity\n",
       "4      5                 histone acetyltransferase activity\n",
       "5      6                                   protease binding\n",
       "6      7                        single-stranded DNA binding\n",
       "7      8                                    protein binding\n",
       "8      9  negative regulation of transcription, DNA-temp...\n",
       "9     10  positive regulation of transcription by RNA po...\n",
       "10    11                promoter-specific chromatin binding\n",
       "11    12                                 circadian behavior\n",
       "12    13                                      cell adhesion\n",
       "13    14                                  DNA recombination\n",
       "14    15                                         DNA repair\n",
       "15    16                   cellular response to hydroxyurea"
      ]
     },
     "execution_count": 36,
     "metadata": {},
     "output_type": "execute_result"
    }
   ],
   "source": [
    "dp.list_to_dataframe(res[\"GOTerms\"])"
   ]
  },
  {
   "cell_type": "code",
   "execution_count": null,
   "metadata": {},
   "outputs": [],
   "source": []
  },
  {
   "cell_type": "markdown",
   "metadata": {},
   "source": [
    "<b> <font color = \"red\">Exercise</font></b>\n",
    "\n",
    "In this notebook: \n",
    "* Use the modules implemented previously to process the file file `genes_info2.txt`\n",
    "* Create pandas dataframes from the lists created at the previous bullet point"
   ]
  },
  {
   "cell_type": "code",
   "execution_count": 37,
   "metadata": {},
   "outputs": [],
   "source": [
    "# Write your solution here\n",
    "\n",
    "\n"
   ]
  },
  {
   "cell_type": "code",
   "execution_count": 38,
   "metadata": {},
   "outputs": [],
   "source": [
    "# this will also import the gene_annotations file \n",
    "# inside the dp we have ga: dp.ga\n",
    "import data_processing as dp\n"
   ]
  },
  {
   "cell_type": "code",
   "execution_count": 39,
   "metadata": {},
   "outputs": [
    {
     "data": {
      "text/plain": [
       "{'Genes': [Gene(672,'BRCA1','672'),\n",
       "  Gene(675,'BRCA2','675'),\n",
       "  Gene(7157,'TP53','7157'),\n",
       "  Gene(10296,'MAEA','10296'),\n",
       "  Gene(7040,'TGFB1','7040'),\n",
       "  Gene(64926,'RASAL3','64926'),\n",
       "  Gene(5888,'RAD51','5888')],\n",
       " 'GOTerms': [GOTerm(1,'intrinsic apoptotic signaling pathway in response to DNA damage'),\n",
       "  GOTerm(2,'transcription cis-regulatory region binding'),\n",
       "  GOTerm(3,'transcription coactivator activity'),\n",
       "  GOTerm(4,'ubiquitin-protein transferase activity'),\n",
       "  GOTerm(5,'histone acetyltransferase activity'),\n",
       "  GOTerm(6,'protease binding'),\n",
       "  GOTerm(7,'single-stranded DNA binding'),\n",
       "  GOTerm(8,'protein binding'),\n",
       "  GOTerm(9,'negative regulation of transcription, DNA-templated'),\n",
       "  GOTerm(10,'positive regulation of transcription by RNA polymerase II'),\n",
       "  GOTerm(11,'promoter-specific chromatin binding'),\n",
       "  GOTerm(12,'circadian behavior'),\n",
       "  GOTerm(13,'cell adhesion'),\n",
       "  GOTerm(14,'DNA recombination'),\n",
       "  GOTerm(15,'DNA repair'),\n",
       "  GOTerm(16,'cellular response to hydroxyurea')],\n",
       " 'GeneGOTerms': [GeneGOTerm(672,'1'),\n",
       "  GeneGOTerm(672,'2'),\n",
       "  GeneGOTerm(672,'3'),\n",
       "  GeneGOTerm(672,'4'),\n",
       "  GeneGOTerm(675,'5'),\n",
       "  GeneGOTerm(675,'6'),\n",
       "  GeneGOTerm(675,'7'),\n",
       "  GeneGOTerm(675,'8'),\n",
       "  GeneGOTerm(7157,'9'),\n",
       "  GeneGOTerm(7157,'10'),\n",
       "  GeneGOTerm(7157,'11'),\n",
       "  GeneGOTerm(7157,'12'),\n",
       "  GeneGOTerm(10296,'13'),\n",
       "  GeneGOTerm(10296,'7'),\n",
       "  GeneGOTerm(10296,'10'),\n",
       "  GeneGOTerm(7040,'12'),\n",
       "  GeneGOTerm(7040,'7'),\n",
       "  GeneGOTerm(64926,'12'),\n",
       "  GeneGOTerm(64926,'7'),\n",
       "  GeneGOTerm(64926,'5'),\n",
       "  GeneGOTerm(5888,'14'),\n",
       "  GeneGOTerm(5888,'15'),\n",
       "  GeneGOTerm(5888,'16')]}"
      ]
     },
     "execution_count": 39,
     "metadata": {},
     "output_type": "execute_result"
    }
   ],
   "source": [
    "# process the file\n",
    "res = dp.process_file(\"genes_info2.txt\")\n",
    "res"
   ]
  },
  {
   "cell_type": "code",
   "execution_count": 40,
   "metadata": {},
   "outputs": [
    {
     "data": {
      "text/html": [
       "<div>\n",
       "<style scoped>\n",
       "    .dataframe tbody tr th:only-of-type {\n",
       "        vertical-align: middle;\n",
       "    }\n",
       "\n",
       "    .dataframe tbody tr th {\n",
       "        vertical-align: top;\n",
       "    }\n",
       "\n",
       "    .dataframe thead th {\n",
       "        text-align: right;\n",
       "    }\n",
       "</style>\n",
       "<table border=\"1\" class=\"dataframe\">\n",
       "  <thead>\n",
       "    <tr style=\"text-align: right;\">\n",
       "      <th></th>\n",
       "      <th>gid</th>\n",
       "      <th>symbol</th>\n",
       "      <th>description</th>\n",
       "    </tr>\n",
       "  </thead>\n",
       "  <tbody>\n",
       "    <tr>\n",
       "      <th>0</th>\n",
       "      <td>672</td>\n",
       "      <td>BRCA1</td>\n",
       "      <td>672</td>\n",
       "    </tr>\n",
       "    <tr>\n",
       "      <th>1</th>\n",
       "      <td>675</td>\n",
       "      <td>BRCA2</td>\n",
       "      <td>675</td>\n",
       "    </tr>\n",
       "    <tr>\n",
       "      <th>2</th>\n",
       "      <td>7157</td>\n",
       "      <td>TP53</td>\n",
       "      <td>7157</td>\n",
       "    </tr>\n",
       "    <tr>\n",
       "      <th>3</th>\n",
       "      <td>10296</td>\n",
       "      <td>MAEA</td>\n",
       "      <td>10296</td>\n",
       "    </tr>\n",
       "    <tr>\n",
       "      <th>4</th>\n",
       "      <td>7040</td>\n",
       "      <td>TGFB1</td>\n",
       "      <td>7040</td>\n",
       "    </tr>\n",
       "    <tr>\n",
       "      <th>5</th>\n",
       "      <td>64926</td>\n",
       "      <td>RASAL3</td>\n",
       "      <td>64926</td>\n",
       "    </tr>\n",
       "    <tr>\n",
       "      <th>6</th>\n",
       "      <td>5888</td>\n",
       "      <td>RAD51</td>\n",
       "      <td>5888</td>\n",
       "    </tr>\n",
       "  </tbody>\n",
       "</table>\n",
       "</div>"
      ],
      "text/plain": [
       "     gid  symbol description\n",
       "0    672   BRCA1         672\n",
       "1    675   BRCA2         675\n",
       "2   7157    TP53        7157\n",
       "3  10296    MAEA       10296\n",
       "4   7040   TGFB1        7040\n",
       "5  64926  RASAL3       64926\n",
       "6   5888   RAD51        5888"
      ]
     },
     "execution_count": 40,
     "metadata": {},
     "output_type": "execute_result"
    }
   ],
   "source": [
    "# create genes dataframe\n",
    "\n",
    "genes_df = dp.list_to_dataframe(res[\"Genes\"])\n",
    "genes_df"
   ]
  },
  {
   "cell_type": "code",
   "execution_count": 41,
   "metadata": {},
   "outputs": [
    {
     "data": {
      "text/html": [
       "<div>\n",
       "<style scoped>\n",
       "    .dataframe tbody tr th:only-of-type {\n",
       "        vertical-align: middle;\n",
       "    }\n",
       "\n",
       "    .dataframe tbody tr th {\n",
       "        vertical-align: top;\n",
       "    }\n",
       "\n",
       "    .dataframe thead th {\n",
       "        text-align: right;\n",
       "    }\n",
       "</style>\n",
       "<table border=\"1\" class=\"dataframe\">\n",
       "  <thead>\n",
       "    <tr style=\"text-align: right;\">\n",
       "      <th></th>\n",
       "      <th>gtid</th>\n",
       "      <th>name</th>\n",
       "    </tr>\n",
       "  </thead>\n",
       "  <tbody>\n",
       "    <tr>\n",
       "      <th>0</th>\n",
       "      <td>1</td>\n",
       "      <td>intrinsic apoptotic signaling pathway in respo...</td>\n",
       "    </tr>\n",
       "    <tr>\n",
       "      <th>1</th>\n",
       "      <td>2</td>\n",
       "      <td>transcription cis-regulatory region binding</td>\n",
       "    </tr>\n",
       "    <tr>\n",
       "      <th>2</th>\n",
       "      <td>3</td>\n",
       "      <td>transcription coactivator activity</td>\n",
       "    </tr>\n",
       "    <tr>\n",
       "      <th>3</th>\n",
       "      <td>4</td>\n",
       "      <td>ubiquitin-protein transferase activity</td>\n",
       "    </tr>\n",
       "    <tr>\n",
       "      <th>4</th>\n",
       "      <td>5</td>\n",
       "      <td>histone acetyltransferase activity</td>\n",
       "    </tr>\n",
       "  </tbody>\n",
       "</table>\n",
       "</div>"
      ],
      "text/plain": [
       "   gtid                                               name\n",
       "0     1  intrinsic apoptotic signaling pathway in respo...\n",
       "1     2        transcription cis-regulatory region binding\n",
       "2     3                 transcription coactivator activity\n",
       "3     4             ubiquitin-protein transferase activity\n",
       "4     5                 histone acetyltransferase activity"
      ]
     },
     "execution_count": 41,
     "metadata": {},
     "output_type": "execute_result"
    }
   ],
   "source": [
    "# create go terms dataframe\n",
    "\n",
    "goterms_df = dp.list_to_dataframe(res[\"GOTerms\"])\n",
    "goterms_df.head()"
   ]
  },
  {
   "cell_type": "code",
   "execution_count": 42,
   "metadata": {},
   "outputs": [
    {
     "data": {
      "text/html": [
       "<div>\n",
       "<style scoped>\n",
       "    .dataframe tbody tr th:only-of-type {\n",
       "        vertical-align: middle;\n",
       "    }\n",
       "\n",
       "    .dataframe tbody tr th {\n",
       "        vertical-align: top;\n",
       "    }\n",
       "\n",
       "    .dataframe thead th {\n",
       "        text-align: right;\n",
       "    }\n",
       "</style>\n",
       "<table border=\"1\" class=\"dataframe\">\n",
       "  <thead>\n",
       "    <tr style=\"text-align: right;\">\n",
       "      <th></th>\n",
       "      <th>gene_id</th>\n",
       "      <th>GO_term_id</th>\n",
       "    </tr>\n",
       "  </thead>\n",
       "  <tbody>\n",
       "    <tr>\n",
       "      <th>0</th>\n",
       "      <td>672</td>\n",
       "      <td>1</td>\n",
       "    </tr>\n",
       "    <tr>\n",
       "      <th>1</th>\n",
       "      <td>672</td>\n",
       "      <td>2</td>\n",
       "    </tr>\n",
       "    <tr>\n",
       "      <th>2</th>\n",
       "      <td>672</td>\n",
       "      <td>3</td>\n",
       "    </tr>\n",
       "    <tr>\n",
       "      <th>3</th>\n",
       "      <td>672</td>\n",
       "      <td>4</td>\n",
       "    </tr>\n",
       "    <tr>\n",
       "      <th>4</th>\n",
       "      <td>675</td>\n",
       "      <td>5</td>\n",
       "    </tr>\n",
       "  </tbody>\n",
       "</table>\n",
       "</div>"
      ],
      "text/plain": [
       "   gene_id  GO_term_id\n",
       "0      672           1\n",
       "1      672           2\n",
       "2      672           3\n",
       "3      672           4\n",
       "4      675           5"
      ]
     },
     "execution_count": 42,
     "metadata": {},
     "output_type": "execute_result"
    }
   ],
   "source": [
    "# create gene go terms dataframe\n",
    "\n",
    "genegoterms_df = dp.list_to_dataframe(res[\"GeneGOTerms\"])\n",
    "genegoterms_df.head()"
   ]
  },
  {
   "cell_type": "code",
   "execution_count": null,
   "metadata": {},
   "outputs": [],
   "source": []
  },
  {
   "cell_type": "markdown",
   "metadata": {
    "tags": []
   },
   "source": [
    "___\n",
    "\n",
    "<b> <font color = \"red\">Exercise</font></b>\n",
    "\n",
    "#### Create a GO term gene dataframe\n",
    "\n",
    "Using the three dataframes creted in the previous exercise, create one dataframe with two columns: \n",
    "1. GO_term column that contains the GO term name, and \n",
    "2. Genes column that contains a string with the genes associated with the GO term separated by \"|\".\n",
    "\n"
   ]
  },
  {
   "cell_type": "code",
   "execution_count": 27,
   "metadata": {},
   "outputs": [],
   "source": [
    "# Write your solution here\n",
    "\n",
    "\n"
   ]
  },
  {
   "cell_type": "code",
   "execution_count": 28,
   "metadata": {},
   "outputs": [
    {
     "data": {
      "text/html": [
       "<div>\n",
       "<style scoped>\n",
       "    .dataframe tbody tr th:only-of-type {\n",
       "        vertical-align: middle;\n",
       "    }\n",
       "\n",
       "    .dataframe tbody tr th {\n",
       "        vertical-align: top;\n",
       "    }\n",
       "\n",
       "    .dataframe thead th {\n",
       "        text-align: right;\n",
       "    }\n",
       "</style>\n",
       "<table border=\"1\" class=\"dataframe\">\n",
       "  <thead>\n",
       "    <tr style=\"text-align: right;\">\n",
       "      <th></th>\n",
       "      <th>gid</th>\n",
       "      <th>symbol</th>\n",
       "      <th>description</th>\n",
       "      <th>gene_id</th>\n",
       "      <th>GO_term_id</th>\n",
       "      <th>gtid</th>\n",
       "      <th>name</th>\n",
       "    </tr>\n",
       "  </thead>\n",
       "  <tbody>\n",
       "    <tr>\n",
       "      <th>0</th>\n",
       "      <td>672</td>\n",
       "      <td>BRCA1</td>\n",
       "      <td>672</td>\n",
       "      <td>672</td>\n",
       "      <td>1</td>\n",
       "      <td>1</td>\n",
       "      <td>intrinsic apoptotic signaling pathway in respo...</td>\n",
       "    </tr>\n",
       "    <tr>\n",
       "      <th>1</th>\n",
       "      <td>672</td>\n",
       "      <td>BRCA1</td>\n",
       "      <td>672</td>\n",
       "      <td>672</td>\n",
       "      <td>2</td>\n",
       "      <td>2</td>\n",
       "      <td>transcription cis-regulatory region binding</td>\n",
       "    </tr>\n",
       "    <tr>\n",
       "      <th>2</th>\n",
       "      <td>672</td>\n",
       "      <td>BRCA1</td>\n",
       "      <td>672</td>\n",
       "      <td>672</td>\n",
       "      <td>3</td>\n",
       "      <td>3</td>\n",
       "      <td>transcription coactivator activity</td>\n",
       "    </tr>\n",
       "    <tr>\n",
       "      <th>3</th>\n",
       "      <td>672</td>\n",
       "      <td>BRCA1</td>\n",
       "      <td>672</td>\n",
       "      <td>672</td>\n",
       "      <td>4</td>\n",
       "      <td>4</td>\n",
       "      <td>ubiquitin-protein transferase activity</td>\n",
       "    </tr>\n",
       "    <tr>\n",
       "      <th>4</th>\n",
       "      <td>675</td>\n",
       "      <td>BRCA2</td>\n",
       "      <td>675</td>\n",
       "      <td>675</td>\n",
       "      <td>5</td>\n",
       "      <td>5</td>\n",
       "      <td>histone acetyltransferase activity</td>\n",
       "    </tr>\n",
       "  </tbody>\n",
       "</table>\n",
       "</div>"
      ],
      "text/plain": [
       "   gid symbol description  gene_id  GO_term_id  gtid  \\\n",
       "0  672  BRCA1         672      672           1     1   \n",
       "1  672  BRCA1         672      672           2     2   \n",
       "2  672  BRCA1         672      672           3     3   \n",
       "3  672  BRCA1         672      672           4     4   \n",
       "4  675  BRCA2         675      675           5     5   \n",
       "\n",
       "                                                name  \n",
       "0  intrinsic apoptotic signaling pathway in respo...  \n",
       "1        transcription cis-regulatory region binding  \n",
       "2                 transcription coactivator activity  \n",
       "3             ubiquitin-protein transferase activity  \n",
       "4                 histone acetyltransferase activity  "
      ]
     },
     "execution_count": 28,
     "metadata": {},
     "output_type": "execute_result"
    }
   ],
   "source": [
    "# combine the dataframes using merge\n",
    "# help(genes_df.merge)\n",
    "\n",
    "merged_df = genes_df.merge(genegoterms_df, \n",
    "                           left_on = \"gid\", \n",
    "                           right_on = \"gene_id\").merge(goterms_df, \n",
    "                                                       left_on = \"GO_term_id\", \n",
    "                                                       right_on = \"gtid\")\n",
    "merged_df.head()"
   ]
  },
  {
   "cell_type": "code",
   "execution_count": 29,
   "metadata": {},
   "outputs": [
    {
     "data": {
      "text/html": [
       "<div>\n",
       "<style scoped>\n",
       "    .dataframe tbody tr th:only-of-type {\n",
       "        vertical-align: middle;\n",
       "    }\n",
       "\n",
       "    .dataframe tbody tr th {\n",
       "        vertical-align: top;\n",
       "    }\n",
       "\n",
       "    .dataframe thead th {\n",
       "        text-align: right;\n",
       "    }\n",
       "</style>\n",
       "<table border=\"1\" class=\"dataframe\">\n",
       "  <thead>\n",
       "    <tr style=\"text-align: right;\">\n",
       "      <th></th>\n",
       "      <th>name</th>\n",
       "      <th>symbol</th>\n",
       "    </tr>\n",
       "  </thead>\n",
       "  <tbody>\n",
       "    <tr>\n",
       "      <th>0</th>\n",
       "      <td>intrinsic apoptotic signaling pathway in respo...</td>\n",
       "      <td>BRCA1</td>\n",
       "    </tr>\n",
       "    <tr>\n",
       "      <th>1</th>\n",
       "      <td>transcription cis-regulatory region binding</td>\n",
       "      <td>BRCA1</td>\n",
       "    </tr>\n",
       "    <tr>\n",
       "      <th>2</th>\n",
       "      <td>transcription coactivator activity</td>\n",
       "      <td>BRCA1</td>\n",
       "    </tr>\n",
       "    <tr>\n",
       "      <th>3</th>\n",
       "      <td>ubiquitin-protein transferase activity</td>\n",
       "      <td>BRCA1</td>\n",
       "    </tr>\n",
       "    <tr>\n",
       "      <th>4</th>\n",
       "      <td>histone acetyltransferase activity</td>\n",
       "      <td>BRCA2</td>\n",
       "    </tr>\n",
       "    <tr>\n",
       "      <th>5</th>\n",
       "      <td>histone acetyltransferase activity</td>\n",
       "      <td>RASAL3</td>\n",
       "    </tr>\n",
       "    <tr>\n",
       "      <th>6</th>\n",
       "      <td>protease binding</td>\n",
       "      <td>BRCA2</td>\n",
       "    </tr>\n",
       "    <tr>\n",
       "      <th>7</th>\n",
       "      <td>single-stranded DNA binding</td>\n",
       "      <td>BRCA2</td>\n",
       "    </tr>\n",
       "    <tr>\n",
       "      <th>8</th>\n",
       "      <td>single-stranded DNA binding</td>\n",
       "      <td>MAEA</td>\n",
       "    </tr>\n",
       "    <tr>\n",
       "      <th>9</th>\n",
       "      <td>single-stranded DNA binding</td>\n",
       "      <td>TGFB1</td>\n",
       "    </tr>\n",
       "    <tr>\n",
       "      <th>10</th>\n",
       "      <td>single-stranded DNA binding</td>\n",
       "      <td>RASAL3</td>\n",
       "    </tr>\n",
       "    <tr>\n",
       "      <th>11</th>\n",
       "      <td>protein binding</td>\n",
       "      <td>BRCA2</td>\n",
       "    </tr>\n",
       "    <tr>\n",
       "      <th>12</th>\n",
       "      <td>negative regulation of transcription, DNA-temp...</td>\n",
       "      <td>TP53</td>\n",
       "    </tr>\n",
       "    <tr>\n",
       "      <th>13</th>\n",
       "      <td>positive regulation of transcription by RNA po...</td>\n",
       "      <td>TP53</td>\n",
       "    </tr>\n",
       "    <tr>\n",
       "      <th>14</th>\n",
       "      <td>positive regulation of transcription by RNA po...</td>\n",
       "      <td>MAEA</td>\n",
       "    </tr>\n",
       "    <tr>\n",
       "      <th>15</th>\n",
       "      <td>promoter-specific chromatin binding</td>\n",
       "      <td>TP53</td>\n",
       "    </tr>\n",
       "    <tr>\n",
       "      <th>16</th>\n",
       "      <td>circadian behavior</td>\n",
       "      <td>TP53</td>\n",
       "    </tr>\n",
       "    <tr>\n",
       "      <th>17</th>\n",
       "      <td>circadian behavior</td>\n",
       "      <td>TGFB1</td>\n",
       "    </tr>\n",
       "    <tr>\n",
       "      <th>18</th>\n",
       "      <td>circadian behavior</td>\n",
       "      <td>RASAL3</td>\n",
       "    </tr>\n",
       "    <tr>\n",
       "      <th>19</th>\n",
       "      <td>cell adhesion</td>\n",
       "      <td>MAEA</td>\n",
       "    </tr>\n",
       "    <tr>\n",
       "      <th>20</th>\n",
       "      <td>DNA recombination</td>\n",
       "      <td>RAD51</td>\n",
       "    </tr>\n",
       "    <tr>\n",
       "      <th>21</th>\n",
       "      <td>DNA repair</td>\n",
       "      <td>RAD51</td>\n",
       "    </tr>\n",
       "    <tr>\n",
       "      <th>22</th>\n",
       "      <td>cellular response to hydroxyurea</td>\n",
       "      <td>RAD51</td>\n",
       "    </tr>\n",
       "  </tbody>\n",
       "</table>\n",
       "</div>"
      ],
      "text/plain": [
       "                                                 name  symbol\n",
       "0   intrinsic apoptotic signaling pathway in respo...   BRCA1\n",
       "1         transcription cis-regulatory region binding   BRCA1\n",
       "2                  transcription coactivator activity   BRCA1\n",
       "3              ubiquitin-protein transferase activity   BRCA1\n",
       "4                  histone acetyltransferase activity   BRCA2\n",
       "5                  histone acetyltransferase activity  RASAL3\n",
       "6                                    protease binding   BRCA2\n",
       "7                         single-stranded DNA binding   BRCA2\n",
       "8                         single-stranded DNA binding    MAEA\n",
       "9                         single-stranded DNA binding   TGFB1\n",
       "10                        single-stranded DNA binding  RASAL3\n",
       "11                                    protein binding   BRCA2\n",
       "12  negative regulation of transcription, DNA-temp...    TP53\n",
       "13  positive regulation of transcription by RNA po...    TP53\n",
       "14  positive regulation of transcription by RNA po...    MAEA\n",
       "15                promoter-specific chromatin binding    TP53\n",
       "16                                 circadian behavior    TP53\n",
       "17                                 circadian behavior   TGFB1\n",
       "18                                 circadian behavior  RASAL3\n",
       "19                                      cell adhesion    MAEA\n",
       "20                                  DNA recombination   RAD51\n",
       "21                                         DNA repair   RAD51\n",
       "22                   cellular response to hydroxyurea   RAD51"
      ]
     },
     "execution_count": 29,
     "metadata": {},
     "output_type": "execute_result"
    }
   ],
   "source": [
    "# get just the go term and gene symbol columns\n",
    "\n",
    "gt_gene_df = merged_df[[\"name\", \"symbol\"]]\n",
    "gt_gene_df"
   ]
  },
  {
   "cell_type": "code",
   "execution_count": 30,
   "metadata": {},
   "outputs": [
    {
     "data": {
      "text/html": [
       "<div>\n",
       "<style scoped>\n",
       "    .dataframe tbody tr th:only-of-type {\n",
       "        vertical-align: middle;\n",
       "    }\n",
       "\n",
       "    .dataframe tbody tr th {\n",
       "        vertical-align: top;\n",
       "    }\n",
       "\n",
       "    .dataframe thead th {\n",
       "        text-align: right;\n",
       "    }\n",
       "</style>\n",
       "<table border=\"1\" class=\"dataframe\">\n",
       "  <thead>\n",
       "    <tr style=\"text-align: right;\">\n",
       "      <th></th>\n",
       "      <th>name</th>\n",
       "      <th>symbol</th>\n",
       "    </tr>\n",
       "  </thead>\n",
       "  <tbody>\n",
       "    <tr>\n",
       "      <th>0</th>\n",
       "      <td>intrinsic apoptotic signaling pathway in respo...</td>\n",
       "      <td>BRCA1</td>\n",
       "    </tr>\n",
       "    <tr>\n",
       "      <th>1</th>\n",
       "      <td>transcription cis-regulatory region binding</td>\n",
       "      <td>BRCA1</td>\n",
       "    </tr>\n",
       "    <tr>\n",
       "      <th>2</th>\n",
       "      <td>transcription coactivator activity</td>\n",
       "      <td>BRCA1</td>\n",
       "    </tr>\n",
       "    <tr>\n",
       "      <th>3</th>\n",
       "      <td>ubiquitin-protein transferase activity</td>\n",
       "      <td>BRCA1</td>\n",
       "    </tr>\n",
       "    <tr>\n",
       "      <th>4</th>\n",
       "      <td>histone acetyltransferase activity</td>\n",
       "      <td>BRCA2</td>\n",
       "    </tr>\n",
       "    <tr>\n",
       "      <th>5</th>\n",
       "      <td>histone acetyltransferase activity</td>\n",
       "      <td>RASAL3</td>\n",
       "    </tr>\n",
       "    <tr>\n",
       "      <th>6</th>\n",
       "      <td>protease binding</td>\n",
       "      <td>BRCA2</td>\n",
       "    </tr>\n",
       "    <tr>\n",
       "      <th>7</th>\n",
       "      <td>single-stranded DNA binding</td>\n",
       "      <td>BRCA2</td>\n",
       "    </tr>\n",
       "    <tr>\n",
       "      <th>8</th>\n",
       "      <td>single-stranded DNA binding</td>\n",
       "      <td>MAEA</td>\n",
       "    </tr>\n",
       "    <tr>\n",
       "      <th>9</th>\n",
       "      <td>single-stranded DNA binding</td>\n",
       "      <td>TGFB1</td>\n",
       "    </tr>\n",
       "    <tr>\n",
       "      <th>10</th>\n",
       "      <td>single-stranded DNA binding</td>\n",
       "      <td>RASAL3</td>\n",
       "    </tr>\n",
       "    <tr>\n",
       "      <th>11</th>\n",
       "      <td>protein binding</td>\n",
       "      <td>BRCA2</td>\n",
       "    </tr>\n",
       "    <tr>\n",
       "      <th>12</th>\n",
       "      <td>negative regulation of transcription, DNA-temp...</td>\n",
       "      <td>TP53</td>\n",
       "    </tr>\n",
       "    <tr>\n",
       "      <th>13</th>\n",
       "      <td>positive regulation of transcription by RNA po...</td>\n",
       "      <td>TP53</td>\n",
       "    </tr>\n",
       "    <tr>\n",
       "      <th>14</th>\n",
       "      <td>positive regulation of transcription by RNA po...</td>\n",
       "      <td>MAEA</td>\n",
       "    </tr>\n",
       "    <tr>\n",
       "      <th>15</th>\n",
       "      <td>promoter-specific chromatin binding</td>\n",
       "      <td>TP53</td>\n",
       "    </tr>\n",
       "    <tr>\n",
       "      <th>16</th>\n",
       "      <td>circadian behavior</td>\n",
       "      <td>TP53</td>\n",
       "    </tr>\n",
       "    <tr>\n",
       "      <th>17</th>\n",
       "      <td>circadian behavior</td>\n",
       "      <td>TGFB1</td>\n",
       "    </tr>\n",
       "    <tr>\n",
       "      <th>18</th>\n",
       "      <td>circadian behavior</td>\n",
       "      <td>RASAL3</td>\n",
       "    </tr>\n",
       "    <tr>\n",
       "      <th>19</th>\n",
       "      <td>cell adhesion</td>\n",
       "      <td>MAEA</td>\n",
       "    </tr>\n",
       "    <tr>\n",
       "      <th>20</th>\n",
       "      <td>DNA recombination</td>\n",
       "      <td>RAD51</td>\n",
       "    </tr>\n",
       "    <tr>\n",
       "      <th>21</th>\n",
       "      <td>DNA repair</td>\n",
       "      <td>RAD51</td>\n",
       "    </tr>\n",
       "    <tr>\n",
       "      <th>22</th>\n",
       "      <td>cellular response to hydroxyurea</td>\n",
       "      <td>RAD51</td>\n",
       "    </tr>\n",
       "  </tbody>\n",
       "</table>\n",
       "</div>"
      ],
      "text/plain": [
       "                                                 name  symbol\n",
       "0   intrinsic apoptotic signaling pathway in respo...   BRCA1\n",
       "1         transcription cis-regulatory region binding   BRCA1\n",
       "2                  transcription coactivator activity   BRCA1\n",
       "3              ubiquitin-protein transferase activity   BRCA1\n",
       "4                  histone acetyltransferase activity   BRCA2\n",
       "5                  histone acetyltransferase activity  RASAL3\n",
       "6                                    protease binding   BRCA2\n",
       "7                         single-stranded DNA binding   BRCA2\n",
       "8                         single-stranded DNA binding    MAEA\n",
       "9                         single-stranded DNA binding   TGFB1\n",
       "10                        single-stranded DNA binding  RASAL3\n",
       "11                                    protein binding   BRCA2\n",
       "12  negative regulation of transcription, DNA-temp...    TP53\n",
       "13  positive regulation of transcription by RNA po...    TP53\n",
       "14  positive regulation of transcription by RNA po...    MAEA\n",
       "15                promoter-specific chromatin binding    TP53\n",
       "16                                 circadian behavior    TP53\n",
       "17                                 circadian behavior   TGFB1\n",
       "18                                 circadian behavior  RASAL3\n",
       "19                                      cell adhesion    MAEA\n",
       "20                                  DNA recombination   RAD51\n",
       "21                                         DNA repair   RAD51\n",
       "22                   cellular response to hydroxyurea   RAD51"
      ]
     },
     "execution_count": 30,
     "metadata": {},
     "output_type": "execute_result"
    }
   ],
   "source": [
    "# another option to get just two columns\n",
    "\n",
    "gt_gene_df = merged_df.loc[:,(\"name\", \"symbol\")]\n",
    "gt_gene_df"
   ]
  },
  {
   "cell_type": "code",
   "execution_count": 31,
   "metadata": {},
   "outputs": [
    {
     "data": {
      "text/plain": [
       "name\n",
       "DNA recombination                                                                    RAD51\n",
       "DNA repair                                                                           RAD51\n",
       "cell adhesion                                                                         MAEA\n",
       "cellular response to hydroxyurea                                                     RAD51\n",
       "circadian behavior                                                       TP53|TGFB1|RASAL3\n",
       "histone acetyltransferase activity                                            BRCA2|RASAL3\n",
       "intrinsic apoptotic signaling pathway in response to DNA damage                      BRCA1\n",
       "negative regulation of transcription, DNA-templated                                   TP53\n",
       "positive regulation of transcription by RNA polymerase II                        TP53|MAEA\n",
       "promoter-specific chromatin binding                                                   TP53\n",
       "protease binding                                                                     BRCA2\n",
       "protein binding                                                                      BRCA2\n",
       "single-stranded DNA binding                                        BRCA2|MAEA|TGFB1|RASAL3\n",
       "transcription cis-regulatory region binding                                          BRCA1\n",
       "transcription coactivator activity                                                   BRCA1\n",
       "ubiquitin-protein transferase activity                                               BRCA1\n",
       "Name: symbol, dtype: object"
      ]
     },
     "execution_count": 31,
     "metadata": {},
     "output_type": "execute_result"
    }
   ],
   "source": [
    "# group the data and apply the join on \"|\"\n",
    "grouped_data = gt_gene_df.groupby(\"name\")[\"symbol\"].apply(\"|\".join)\n",
    "grouped_data"
   ]
  },
  {
   "cell_type": "code",
   "execution_count": 32,
   "metadata": {},
   "outputs": [
    {
     "data": {
      "text/plain": [
       "pandas.core.series.Series"
      ]
     },
     "execution_count": 32,
     "metadata": {},
     "output_type": "execute_result"
    }
   ],
   "source": [
    "type(grouped_data)"
   ]
  },
  {
   "cell_type": "code",
   "execution_count": null,
   "metadata": {},
   "outputs": [],
   "source": []
  }
 ],
 "metadata": {
  "kernelspec": {
   "display_name": "Python 3 (ipykernel)",
   "language": "python",
   "name": "python3"
  },
  "language_info": {
   "codemirror_mode": {
    "name": "ipython",
    "version": 3
   },
   "file_extension": ".py",
   "mimetype": "text/x-python",
   "name": "python",
   "nbconvert_exporter": "python",
   "pygments_lexer": "ipython3",
   "version": "3.9.12"
  }
 },
 "nbformat": 4,
 "nbformat_minor": 4
}
