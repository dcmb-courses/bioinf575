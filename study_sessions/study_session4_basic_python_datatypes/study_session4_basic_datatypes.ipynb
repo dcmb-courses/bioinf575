{
 "cells": [
  {
   "cell_type": "markdown",
   "metadata": {},
   "source": [
    "## Study session 4 - Basic python data types \n",
    "### BIOINF 575 - Fall 2023"
   ]
  },
  {
   "cell_type": "markdown",
   "metadata": {},
   "source": [
    "\n",
    "Documentation on data types:   \n",
    "https://docs.python.org/3/library/stdtypes.html    \n",
    "Check the precedence of operators in the documentation at the following link:     \n",
    "https://docs.python.org/3/reference/expressions.html#operator-precedence         \n",
    "Python modules - can import without having to install a package      \n",
    "https://docs.python.org/3/py-modindex.html\n"
   ]
  },
  {
   "cell_type": "markdown",
   "metadata": {},
   "source": [
    "Check/display the <b>type of a variable/object</b> with the function <b>type()</b>.   \n",
    "Check/display the <b>methods and attributes for a variable/object</b> with the function <b>dir()</b>.    \n",
    "Check/display the <b>documentation</b> for a function wiutn the function <b>help()</b>.    \n",
    "\n",
    "\n",
    "\n",
    "\n",
    "```python\n",
    "dir(<object>)\n",
    "help([<datatype>.]<function>)\n",
    "type(<object>)\n",
    "```"
   ]
  },
  {
   "cell_type": "markdown",
   "metadata": {},
   "source": [
    "___\n",
    "<font color = \"red\">Exercise</font> <br>\n",
    "\n",
    "Count the number of digits in a large integer number:   \n",
    "e.g.: for the number 784512346 your should return 9"
   ]
  },
  {
   "cell_type": "markdown",
   "metadata": {},
   "source": [
    "##### IN THE HOMEWORK YOU DO NOT NEED TO INCLUDE INTERMEDIATE STEPS      \n",
    "##### JUST BASIC COMMENTS AND ONLY THE FINAL SOLUTION "
   ]
  },
  {
   "cell_type": "code",
   "execution_count": null,
   "metadata": {},
   "outputs": [],
   "source": [
    "# Solution\n"
   ]
  },
  {
   "cell_type": "code",
   "execution_count": null,
   "metadata": {},
   "outputs": [],
   "source": []
  },
  {
   "cell_type": "code",
   "execution_count": null,
   "metadata": {},
   "outputs": [],
   "source": []
  },
  {
   "cell_type": "code",
   "execution_count": null,
   "metadata": {},
   "outputs": [],
   "source": []
  },
  {
   "cell_type": "markdown",
   "metadata": {},
   "source": [
    "\n",
    "\n"
   ]
  },
  {
   "cell_type": "markdown",
   "metadata": {
    "tags": []
   },
   "source": [
    "___\n",
    "<font color = \"red\">Exercise</font> <br>\n",
    "\n",
    "Peptides are short chains of between two and fifty amino acids, linked by peptide bonds. Chains of fewer than ten or fifteen amino acids are called oligopeptides.\n",
    "https://en.wikipedia.org/wiki/Peptide\n",
    "\n",
    "<img src = \"https://pixy.org/src/37/thumbs350/372053.jpg\" width = \"500\"/>\n",
    "\n",
    "https://pixy.org/372053/\n",
    "\n",
    "We have a text containing a series of peptides separated by space.\n",
    "\n",
    "```python\n",
    "peptides_sequence = \"MAAGGSGAESAPPTPSMSSLPLAALNVRVRHRLSLFLNVRTQVAADWTGLAEEM NFEYLEIRRLETHPDPTRSLLDDWQGRPGASVGRLLELLAKLGRDDVLVELGPS IEEDCRKYILKQQQEAAEKPLQVDSVDSSIPWMSGITIRDDPLGQMPEHFDAFI CYCPSDIQFVQEMIRQLEQTNYRLKLCVSDRDVLPGTCVWSIASELIEKRCRRM VVVVSDDYLQSKECDFQTKFALSLSPGAHQKRLIPVKYKSMKKEFPSILRFITV CDYTNPCTKSWFWTRLARALSLP\"\n",
    "```\n",
    "\n",
    "- Count the number of Glutamine elements in the third peptide.\n",
    "- Display the sequence of the third peptide with the first 4 and last 4 characters swapped. \n"
   ]
  },
  {
   "cell_type": "code",
   "execution_count": null,
   "metadata": {},
   "outputs": [],
   "source": [
    "peptides_sequence = \"MAAGGSGAESAPPTPSMSSLPLAALNVRVRHRLSLFLNVRTQVAADWTGLAEEM NFEYLEIRRLETHPDPTRSLLDDWQGRPGASVGRLLELLAKLGRDDVLVELGPS IEEDCRKYILKQQQEAAEKPLQVDSVDSSIPWMSGITIRDDPLGQMPEHFDAFI CYCPSDIQFVQEMIRQLEQTNYRLKLCVSDRDVLPGTCVWSIASELIEKRCRRM VVVVSDDYLQSKECDFQTKFALSLSPGAHQKRLIPVKYKSMKKEFPSILRFITV CDYTNPCTKSWFWTRLARALSLP\"\n",
    "peptides_sequence"
   ]
  },
  {
   "cell_type": "code",
   "execution_count": null,
   "metadata": {},
   "outputs": [],
   "source": [
    "# Solution\n"
   ]
  },
  {
   "cell_type": "code",
   "execution_count": null,
   "metadata": {},
   "outputs": [],
   "source": []
  },
  {
   "cell_type": "code",
   "execution_count": null,
   "metadata": {},
   "outputs": [],
   "source": []
  },
  {
   "cell_type": "markdown",
   "metadata": {},
   "source": [
    "___\n",
    "<font color = \"red\">Exercise</font> <br><br>\n",
    "\n",
    "Explain the following code:\n"
   ]
  },
  {
   "cell_type": "code",
   "execution_count": null,
   "metadata": {
    "tags": []
   },
   "outputs": [],
   "source": [
    "int(str(10)+\"2\")+True-(20<=70 and 5>2)*20"
   ]
  },
  {
   "cell_type": "code",
   "execution_count": 1,
   "metadata": {},
   "outputs": [],
   "source": [
    "##### # Solution:</b>\n",
    "\n",
    "##### Start with the first simple part of the expression and \n",
    "##### then build to the whole expression step by step\n",
    "\n",
    "\n",
    "\n"
   ]
  },
  {
   "cell_type": "code",
   "execution_count": null,
   "metadata": {},
   "outputs": [],
   "source": []
  },
  {
   "cell_type": "code",
   "execution_count": null,
   "metadata": {},
   "outputs": [],
   "source": []
  },
  {
   "cell_type": "markdown",
   "metadata": {},
   "source": [
    "___\n",
    "<font color = \"red\">Exercise</font> <br>\n",
    "\n",
    "We have four variables and a range for each:\n",
    "temperature (25 - 28 C), pH (6-8), pressure (29.8 - 30.2 inHg), no_cells (50-100)\n",
    "\n",
    "If 2 of the variables are not in the correct range the cell culture does not grow. \n",
    "\n",
    "Write an expression that checks if the cell culture grows and test it with 2 sets of values.\n",
    "\n",
    "\n"
   ]
  },
  {
   "cell_type": "code",
   "execution_count": null,
   "metadata": {},
   "outputs": [],
   "source": [
    "# Solution\n",
    "\n"
   ]
  },
  {
   "cell_type": "code",
   "execution_count": null,
   "metadata": {},
   "outputs": [],
   "source": []
  },
  {
   "cell_type": "code",
   "execution_count": null,
   "metadata": {},
   "outputs": [],
   "source": []
  },
  {
   "cell_type": "code",
   "execution_count": null,
   "metadata": {},
   "outputs": [],
   "source": []
  },
  {
   "cell_type": "markdown",
   "metadata": {},
   "source": [
    "___\n",
    "\n",
    "<font color = \"red\">Exercise</font> <br>\n",
    "\n",
    "a) Count the number of sentences in the following text from a news article in Science (science.org):   \n",
    "https://www.science.org/content/article/jumping-gene-may-have-erased-tails-humans-and-other-apes-and-boosted-our-risk-birth-defects\n",
    "\n",
    "```\n",
    "Mammals from mice to monkeys have tails. But humans and our cousins the great apes lack them. Now, researchers may have unearthed a simple genetic change that led to our abbreviated back end: an itinerant piece of DNA that leapt into a new chromosomal home and changed how great apes make a key developmental protein. The finding also suggests the genetic shift came with a less visible and more dangerous effect: a higher risk of birth defects involving the developing spinal cord.\n",
    "```\n"
   ]
  },
  {
   "cell_type": "code",
   "execution_count": null,
   "metadata": {},
   "outputs": [],
   "source": [
    "# Solution \n",
    "\n"
   ]
  },
  {
   "cell_type": "code",
   "execution_count": null,
   "metadata": {},
   "outputs": [],
   "source": []
  },
  {
   "cell_type": "code",
   "execution_count": null,
   "metadata": {},
   "outputs": [],
   "source": []
  },
  {
   "cell_type": "code",
   "execution_count": null,
   "metadata": {},
   "outputs": [],
   "source": []
  },
  {
   "cell_type": "markdown",
   "metadata": {},
   "source": [
    "<font color = \"red\">Exercise</font> <br> \n",
    "\n",
    "b) Compute the averave length of a sentence\n"
   ]
  },
  {
   "cell_type": "code",
   "execution_count": null,
   "metadata": {},
   "outputs": [],
   "source": [
    "# Solution\n",
    "\n",
    "\n"
   ]
  },
  {
   "cell_type": "code",
   "execution_count": null,
   "metadata": {},
   "outputs": [],
   "source": []
  },
  {
   "cell_type": "code",
   "execution_count": null,
   "metadata": {},
   "outputs": [],
   "source": []
  },
  {
   "cell_type": "code",
   "execution_count": null,
   "metadata": {},
   "outputs": [],
   "source": []
  },
  {
   "cell_type": "markdown",
   "metadata": {},
   "source": [
    "___\n",
    "<font color = \"red\">Exercise</font> <br><br>\n",
    "\n",
    "Explain the following code:\n",
    "\n",
    "```python\n",
    "paragraph = \"Mammals from mice to monkeys have tails. But humans and our cousins the great apes lack them. Now, researchers may have unearthed a simple genetic change that led to our abbreviated back end: an itinerant piece of DNA that leapt into a new chromosomal home and changed how great apes make a key developmental protein. The finding also suggests the genetic shift came with a less visible and more dangerous effect: a higher risk of birth defects involving the developing spinal cord.\"\n",
    "print(paragraph.count(\"the\") > paragraph.upper().count(\"THE\"))\n",
    "print(paragraph.count(\"the \") < paragraph.count(\"the\"))\n",
    "print((paragraph.count(\"the\")-paragraph.count(\"the \")) * \"the \")\n",
    "print()\n",
    "print(3* \" \" + 3 * \"-\" + \" \" + paragraph[:7] + \" \" + paragraph[29:41] + 3 * \"-\" + \"\\n\" +\\\n",
    "        3 * \"-\" + \" \" + paragraph[68:93].capitalize() +  \" \" + 3 * \"-\")\n",
    "\n",
    "```\n"
   ]
  },
  {
   "cell_type": "code",
   "execution_count": null,
   "metadata": {},
   "outputs": [],
   "source": [
    "##### # Solution:</b>\n",
    "\n",
    "##### Start with the first simple part of the expression and \n",
    "##### then build to the whole expression step by step\n",
    "\n",
    "\n",
    "\n"
   ]
  },
  {
   "cell_type": "code",
   "execution_count": null,
   "metadata": {},
   "outputs": [],
   "source": []
  },
  {
   "cell_type": "code",
   "execution_count": null,
   "metadata": {},
   "outputs": [],
   "source": []
  }
 ],
 "metadata": {
  "kernelspec": {
   "display_name": "Python 3 (ipykernel)",
   "language": "python",
   "name": "python3"
  },
  "language_info": {
   "codemirror_mode": {
    "name": "ipython",
    "version": 3
   },
   "file_extension": ".py",
   "mimetype": "text/x-python",
   "name": "python",
   "nbconvert_exporter": "python",
   "pygments_lexer": "ipython3",
   "version": "3.9.12"
  }
 },
 "nbformat": 4,
 "nbformat_minor": 4
}
