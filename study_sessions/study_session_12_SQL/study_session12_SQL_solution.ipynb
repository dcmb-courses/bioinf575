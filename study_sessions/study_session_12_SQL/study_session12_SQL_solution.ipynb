{
 "cells": [
  {
   "cell_type": "markdown",
   "metadata": {
    "tags": []
   },
   "source": [
    "### Study session 12 - SQL\n",
    "\n",
    "#### BIOINF 575 - Fall 2021\n",
    "\n",
    "##### SOLUTION\n"
   ]
  },
  {
   "cell_type": "code",
   "execution_count": 1,
   "metadata": {},
   "outputs": [],
   "source": [
    "# put the import statements at the top of the notebook\n",
    "\n",
    "# bring in the functionality from the sqlite3 module\n",
    "# specifically the connect function\n",
    "\n",
    "from sqlite3 import connect"
   ]
  },
  {
   "cell_type": "markdown",
   "metadata": {},
   "source": [
    "___\n",
    "\n",
    "<b> <font color = \"red\">Exercise</font></b>\n",
    "\n",
    "#### Create a database for gene annotations (gene ontology - GO -  terms annotations)\n",
    "\n",
    "Create a SQLite database with a genes table, a GO_terms table, and a gene_GO_term table.   \n",
    "The genes table should have the gene id, gene symbol and the gene description.     \n",
    "The GO_terms table should have the GO term id and the GO term name/description.     \n",
    "The gene to GO term table should have the gene id and the GO term id.     \n"
   ]
  },
  {
   "cell_type": "code",
   "execution_count": 2,
   "metadata": {},
   "outputs": [],
   "source": [
    "# Write your solution here\n",
    "\n",
    "# Write the create table statements here - all strings\n",
    "\n",
    "#-------\n",
    "create_genes = '''\n",
    "CREATE TABLE IF NOT EXISTS genes (\n",
    "      gene_id INTEGER PRIMARY KEY AUTOINCREMENT,\n",
    "      gene_symbol TEXT NOT NULL,\n",
    "      gene_description TEXT NOT NULL\n",
    "    );\n",
    "'''\n",
    "#-------\n",
    "\n",
    "create_GO_terms = '''\n",
    "CREATE TABLE IF NOT EXISTS GO_terms (\n",
    "      GO_term_id INTEGER PRIMARY KEY AUTOINCREMENT,\n",
    "      name TEXT NOT NULL\n",
    "    );\n",
    "'''\n",
    "#-------\n",
    "\n",
    "create_gene_GO_term = '''\n",
    "CREATE TABLE IF NOT EXISTS gene_GO_term (\n",
    "      gene_id INTEGER NOT NULL,                             -- REFERENCES  gene_id in the genes table\n",
    "      GO_term_id INTEGER NOT NULL,                          -- REFERENCES  GO_term_id in the GO_terms table\n",
    "      \n",
    "      PRIMARY KEY (gene_id, GO_term_id),                    -- we set up a multi-column primary key - table constraint\n",
    "                                                                -- the two columns uniquely indetify a row \n",
    "                                                                -- this will automatically create an index in the database\n",
    "      FOREIGN KEY (gene_id) REFERENCES  genes  (gene_id),\n",
    "      FOREIGN KEY (GO_term_id) REFERENCES  GO_terms  (GO_term_id)\n",
    "    );\n",
    "'''\n",
    "#-------"
   ]
  },
  {
   "cell_type": "code",
   "execution_count": 3,
   "metadata": {},
   "outputs": [],
   "source": [
    "# we do the same thing multiple times - we can use a function\n",
    "\n",
    "def run_create_table(sql, cursor, connection):\n",
    "    try:\n",
    "        cursor.execute(sql)\n",
    "    except connection.DatabaseError:\n",
    "        print(\"Creating the table resulted in a database error!\")\n",
    "        connection.rollback()\n",
    "        raise\n",
    "    else:\n",
    "        connection.commit()\n",
    "    finally:\n",
    "        print(\"done!\")"
   ]
  },
  {
   "cell_type": "code",
   "execution_count": 4,
   "metadata": {},
   "outputs": [],
   "source": [
    "# connect to a database ... if the file does not exist it will be created\n",
    "connection = connect(\"gene_annotations.sqlite\")\n",
    "cursor = connection.cursor()"
   ]
  },
  {
   "cell_type": "code",
   "execution_count": 5,
   "metadata": {},
   "outputs": [
    {
     "data": {
      "text/plain": [
       "[]"
      ]
     },
     "execution_count": 5,
     "metadata": {},
     "output_type": "execute_result"
    }
   ],
   "source": [
    "# check the sqlite_master table - should be empty at this point\n",
    "\n",
    "select_master = \"SELECT name, type FROM sqlite_master;\"\n",
    "cursor.execute(select_master)\n",
    "cursor.fetchall()"
   ]
  },
  {
   "cell_type": "code",
   "execution_count": 6,
   "metadata": {},
   "outputs": [
    {
     "name": "stdout",
     "output_type": "stream",
     "text": [
      "done!\n",
      "done!\n",
      "done!\n"
     ]
    }
   ],
   "source": [
    "# run the commands\n",
    "run_create_table(create_genes, cursor, connection)\n",
    "run_create_table(create_GO_terms, cursor, connection)\n",
    "run_create_table(create_gene_GO_term, cursor, connection)"
   ]
  },
  {
   "cell_type": "code",
   "execution_count": 7,
   "metadata": {},
   "outputs": [
    {
     "data": {
      "text/plain": [
       "[('genes', 'table'),\n",
       " ('sqlite_sequence', 'table'),\n",
       " ('GO_terms', 'table'),\n",
       " ('gene_GO_term', 'table'),\n",
       " ('sqlite_autoindex_gene_GO_term_1', 'index')]"
      ]
     },
     "execution_count": 7,
     "metadata": {},
     "output_type": "execute_result"
    }
   ],
   "source": [
    "# check the sqlite_master table\n",
    "\n",
    "# select_master = \"SELECT name, type FROM sqlite_master;\"\n",
    "cursor.execute(select_master)\n",
    "cursor.fetchall()\n"
   ]
  },
  {
   "cell_type": "markdown",
   "metadata": {
    "tags": []
   },
   "source": [
    "___\n",
    "\n",
    "<b> <font color = \"red\">Exercise</font></b>\n",
    "\n",
    "#### Populate a database \n",
    "\n",
    "Insert data into tables in the GO annotations database you just created.   \n",
    "Use the data from the file `genes_info.txt`.\n"
   ]
  },
  {
   "cell_type": "code",
   "execution_count": 8,
   "metadata": {},
   "outputs": [],
   "source": [
    "# Write your solution here\n",
    "\n",
    "# Write the insert statements here - all strings\n",
    "# because we insert values in all columns we do not need to specify the columns\n",
    "\n",
    "insert_gene = \"INSERT INTO genes VALUES(?,?,?);\"\n",
    "insert_GO_term = \"INSERT INTO GO_terms VALUES(?,?);\"\n",
    "insert_gene_GO_term = \"INSERT INTO gene_GO_term VALUES(?,?);\"\n"
   ]
  },
  {
   "cell_type": "code",
   "execution_count": 9,
   "metadata": {},
   "outputs": [],
   "source": [
    "file_name = \"genes_info.txt\""
   ]
  },
  {
   "cell_type": "code",
   "execution_count": 10,
   "metadata": {},
   "outputs": [],
   "source": [
    "GO_terms_dict = {}\n",
    "GO_term_index = 0\n",
    "\n",
    "with open(file_name) as genes_info:\n",
    "    # read the header line and ignore it\n",
    "    header_line = genes_info.readline() \n",
    "    \n",
    "    # read the rest of the lines and process them\n",
    "    for line in genes_info: \n",
    "        # break the line by tab and take the information needed in the table\n",
    "        line_list = line.strip().split(\"\\t\")\n",
    "        \n",
    "        # we put the gene id in a variable because we need it in gene_GO_term table\n",
    "        gene_id = line_list[0]\n",
    "        \n",
    "        # we take the gene id, symbol, description, \n",
    "        # which are the first 3 elements in the list - see header_line to confirm\n",
    "        # this will be a row in the genes table\n",
    "        gene_row = line_list[:3]\n",
    "        cursor.execute(insert_gene, gene_row)\n",
    "        \n",
    "        # we take the go terms which are last in the list\n",
    "        # we breake them up into a list - they are separated by \";\"\n",
    "        GO_terms_list = line_list[-1].split(\";\")\n",
    "        \n",
    "        # we go through the list of go terms to create rows for the GO_terms table\n",
    "        # we need to keep track of the GO terms so we do not add them multiple times in the table\n",
    "        # one GO term can be associated with multiple genes and one genes can be associated with multiple GO terms\n",
    "        # a dictionary has unique keys and can store values foe each key\n",
    "        # we will use that to keep track of our GO terms\n",
    "        for GO_term in GO_terms_list:\n",
    "            # remove whitespace from the beginning and end of the GO_term\n",
    "            GO_term_name = GO_term.strip()\n",
    "            \n",
    "            # if we did not see this GO term before we add it to the dictionary and create an ID for it\n",
    "            # otherwise we get the id of the term from the dictionary\n",
    "            if GO_term_name not in GO_terms_dict:\n",
    "                GO_term_index += 1\n",
    "                GO_term_id = GO_term_index\n",
    "                GO_terms_dict[GO_term_name] = GO_term_index\n",
    "                # we will add this new GO term data to the GO_term table so prepare a row\n",
    "                GO_term_row = (GO_term_id, GO_term_name)\n",
    "                cursor.execute(insert_GO_term, GO_term_row)\n",
    "\n",
    "            else:\n",
    "                GO_term_id = GO_terms_dict[GO_term_name]\n",
    "            \n",
    "            # we add the connection between the gene and the GO term to the gene_GO_term table\n",
    "            # we prepare a row\n",
    "            gene_GO_row = (gene_id, GO_term_id)\n",
    "            cursor.execute(insert_gene_GO_term, gene_GO_row)\n",
    "       "
   ]
  },
  {
   "cell_type": "code",
   "execution_count": 11,
   "metadata": {},
   "outputs": [],
   "source": [
    "# we check the tables and if all is well, we can commit these changes\n",
    "\n",
    "select_genes = \"SELECT * FROM genes;\"\n",
    "select_GO_terms = \"SELECT * FROM GO_terms;\"\n",
    "select_gene_GO = \"SELECT * FROM gene_GO_term;\"\n"
   ]
  },
  {
   "cell_type": "code",
   "execution_count": 12,
   "metadata": {},
   "outputs": [
    {
     "data": {
      "text/plain": [
       "[(672, 'BRCA1', 'BRCA1 DNA repair associated'),\n",
       " (675, 'BRCA2', 'BRCA2 DNA repair associated'),\n",
       " (7157, 'TP53', 'tumor protein p53')]"
      ]
     },
     "execution_count": 12,
     "metadata": {},
     "output_type": "execute_result"
    }
   ],
   "source": [
    "cursor.execute(select_genes)\n",
    "cursor.fetchall()"
   ]
  },
  {
   "cell_type": "code",
   "execution_count": 13,
   "metadata": {},
   "outputs": [
    {
     "data": {
      "text/plain": [
       "[(1, 'intrinsic apoptotic signaling pathway in response to DNA damage'),\n",
       " (2, 'transcription cis-regulatory region binding'),\n",
       " (3, 'transcription coactivator activity'),\n",
       " (4, 'ubiquitin-protein transferase activity'),\n",
       " (5, 'histone acetyltransferase activity'),\n",
       " (6, 'protease binding'),\n",
       " (7, 'single-stranded DNA binding'),\n",
       " (8, 'protein binding'),\n",
       " (9, 'negative regulation of transcription, DNA-templated'),\n",
       " (10, 'positive regulation of transcription by RNA polymerase II'),\n",
       " (11, 'promoter-specific chromatin binding'),\n",
       " (12, 'circadian behavior'),\n",
       " (13, 'circadian behavior\"')]"
      ]
     },
     "execution_count": 13,
     "metadata": {},
     "output_type": "execute_result"
    }
   ],
   "source": [
    "cursor.execute(select_GO_terms)\n",
    "cursor.fetchall()"
   ]
  },
  {
   "cell_type": "code",
   "execution_count": 14,
   "metadata": {},
   "outputs": [
    {
     "data": {
      "text/plain": [
       "[(672, 1),\n",
       " (672, 2),\n",
       " (672, 3),\n",
       " (672, 4),\n",
       " (675, 5),\n",
       " (675, 6),\n",
       " (675, 7),\n",
       " (675, 8),\n",
       " (7157, 9),\n",
       " (7157, 10),\n",
       " (7157, 11),\n",
       " (7157, 12),\n",
       " (7157, 13)]"
      ]
     },
     "execution_count": 14,
     "metadata": {},
     "output_type": "execute_result"
    }
   ],
   "source": [
    "cursor.execute(select_gene_GO)\n",
    "cursor.fetchall()"
   ]
  },
  {
   "cell_type": "code",
   "execution_count": 15,
   "metadata": {},
   "outputs": [],
   "source": [
    "# if all is well commit otherwise rollback, correct the issue in the code - rerun the code and if all well commit\n",
    "\n",
    "connection.commit()\n",
    "#connection.rollback()"
   ]
  },
  {
   "cell_type": "code",
   "execution_count": null,
   "metadata": {},
   "outputs": [],
   "source": []
  },
  {
   "cell_type": "code",
   "execution_count": 16,
   "metadata": {},
   "outputs": [
    {
     "data": {
      "text/plain": [
       "<sqlite3.Cursor at 0x1101d7810>"
      ]
     },
     "execution_count": 16,
     "metadata": {},
     "output_type": "execute_result"
    }
   ],
   "source": [
    "## OPTION 2 - make lists and insert all data at the end\n",
    "\n",
    "# before we can do that we need to clear the table data\n",
    "delete_genes = \"DELETE FROM genes;\"\n",
    "delete_GO_terms = \"DELETE FROM GO_terms;\"\n",
    "delete_gene_GO = \"DELETE FROM gene_GO_term;\"\n",
    "\n",
    "cursor.execute(delete_genes)\n",
    "cursor.execute(delete_GO_terms)\n",
    "cursor.execute(delete_gene_GO)\n",
    "\n"
   ]
  },
  {
   "cell_type": "code",
   "execution_count": 17,
   "metadata": {},
   "outputs": [
    {
     "name": "stdout",
     "output_type": "stream",
     "text": [
      "[]\n",
      "[]\n",
      "[]\n"
     ]
    }
   ],
   "source": [
    "# check all 3 tables are empty\n",
    "\n",
    "cursor.execute(select_genes)\n",
    "print(cursor.fetchall())\n",
    "\n",
    "cursor.execute(select_GO_terms)\n",
    "print(cursor.fetchall())\n",
    "\n",
    "cursor.execute(select_gene_GO)\n",
    "print(cursor.fetchall())\n",
    "\n"
   ]
  },
  {
   "cell_type": "code",
   "execution_count": 18,
   "metadata": {},
   "outputs": [],
   "source": [
    "# commit the change\n",
    "\n",
    "connection.commit()"
   ]
  },
  {
   "cell_type": "code",
   "execution_count": 19,
   "metadata": {},
   "outputs": [],
   "source": [
    "GO_terms_dict = {}\n",
    "GO_term_index = 0\n",
    "\n",
    "genes_rows = []\n",
    "GO_terms_rows = []\n",
    "gene_GO_rows = []\n",
    "\n",
    "with open(file_name) as genes_info:\n",
    "    # read the header line and ignore it\n",
    "    header_line = genes_info.readline() \n",
    "    \n",
    "    # read the rest of the lines and process them\n",
    "    for line in genes_info: \n",
    "        # break the line by tab and take the information needed in the table\n",
    "        line_list = line.strip().split(\"\\t\")\n",
    "        \n",
    "        # we put the gene id in a variable because we need it in gene_GO_term table\n",
    "        gene_id = line_list[0]\n",
    "        \n",
    "        # we take the gene id, symbol, description, \n",
    "        # which are the first 3 elements in the list - see header_line to confirm\n",
    "        # this will be a row in the genes table\n",
    "        gene_row = line_list[:3]\n",
    "        genes_rows.append(gene_row)\n",
    "        \n",
    "        # we take the go terms which are last in the list\n",
    "        # we breake them up into a list - they are separated by \";\"\n",
    "        GO_terms_list = line_list[-1].split(\";\")\n",
    "        \n",
    "        # we go through the list of go terms to create rows for the GO_terms table\n",
    "        # we need to keep track of the GO terms so we do not add them multiple times in the table\n",
    "        # one GO term can be associated with multiple genes and one genes can be associated with multiple GO terms\n",
    "        # a dictionary has unique keys and can store values foe each key\n",
    "        # we will use that to keep track of our GO terms\n",
    "        for GO_term in GO_terms_list:\n",
    "            # remove whitespace from the beginning and end of the GO_term\n",
    "            GO_term_name = GO_term.strip()\n",
    "            \n",
    "            # if we did not see this GO term before we add it to the dictionary and create an ID for it\n",
    "            # otherwise we get the id of the term from the dictionary\n",
    "            if GO_term_name not in GO_terms_dict:\n",
    "                GO_term_index += 1\n",
    "                GO_term_id = GO_term_index\n",
    "                GO_terms_dict[GO_term_name] = GO_term_index\n",
    "                # we will add this new GO term data to the GO_term table so prepare a row\n",
    "                GO_term_row = (GO_term_id, GO_term_name)\n",
    "                GO_terms_rows.append(GO_term_row)\n",
    "\n",
    "            else:\n",
    "                GO_term_id = GO_terms_dict[GO_term_name]\n",
    "            \n",
    "            # we add the connection between the gene and the GO term to the gene_GO_term table\n",
    "            # we prepare a row\n",
    "            gene_GO_row = (gene_id, GO_term_id)\n",
    "            gene_GO_rows.append(gene_GO_row)\n",
    "       "
   ]
  },
  {
   "cell_type": "code",
   "execution_count": 20,
   "metadata": {},
   "outputs": [
    {
     "data": {
      "text/plain": [
       "[['672', 'BRCA1', 'BRCA1 DNA repair associated'],\n",
       " ['675', 'BRCA2', 'BRCA2 DNA repair associated'],\n",
       " ['7157', 'TP53', 'tumor protein p53']]"
      ]
     },
     "execution_count": 20,
     "metadata": {},
     "output_type": "execute_result"
    }
   ],
   "source": [
    "# check the lists\n",
    "\n",
    "genes_rows\n"
   ]
  },
  {
   "cell_type": "code",
   "execution_count": 21,
   "metadata": {},
   "outputs": [
    {
     "data": {
      "text/plain": [
       "[(1, 'intrinsic apoptotic signaling pathway in response to DNA damage'),\n",
       " (2, 'transcription cis-regulatory region binding'),\n",
       " (3, 'transcription coactivator activity'),\n",
       " (4, 'ubiquitin-protein transferase activity'),\n",
       " (5, 'histone acetyltransferase activity'),\n",
       " (6, 'protease binding'),\n",
       " (7, 'single-stranded DNA binding'),\n",
       " (8, 'protein binding'),\n",
       " (9, 'negative regulation of transcription, DNA-templated'),\n",
       " (10, 'positive regulation of transcription by RNA polymerase II'),\n",
       " (11, 'promoter-specific chromatin binding'),\n",
       " (12, 'circadian behavior'),\n",
       " (13, 'circadian behavior\"')]"
      ]
     },
     "execution_count": 21,
     "metadata": {},
     "output_type": "execute_result"
    }
   ],
   "source": [
    "GO_terms_rows"
   ]
  },
  {
   "cell_type": "code",
   "execution_count": 22,
   "metadata": {},
   "outputs": [
    {
     "data": {
      "text/plain": [
       "[('672', 1),\n",
       " ('672', 2),\n",
       " ('672', 3),\n",
       " ('672', 4),\n",
       " ('675', 5),\n",
       " ('675', 6),\n",
       " ('675', 7),\n",
       " ('675', 8),\n",
       " ('7157', 9),\n",
       " ('7157', 10),\n",
       " ('7157', 11),\n",
       " ('7157', 12),\n",
       " ('7157', 13)]"
      ]
     },
     "execution_count": 22,
     "metadata": {},
     "output_type": "execute_result"
    }
   ],
   "source": [
    "gene_GO_rows"
   ]
  },
  {
   "cell_type": "code",
   "execution_count": 23,
   "metadata": {},
   "outputs": [
    {
     "data": {
      "text/plain": [
       "<sqlite3.Cursor at 0x1101d7810>"
      ]
     },
     "execution_count": 23,
     "metadata": {},
     "output_type": "execute_result"
    }
   ],
   "source": [
    "# insert the data from the lists \n",
    "# because we have many rows in the lists we use execute many\n",
    "\n",
    "cursor.executemany(insert_gene, genes_rows)"
   ]
  },
  {
   "cell_type": "code",
   "execution_count": 24,
   "metadata": {},
   "outputs": [
    {
     "data": {
      "text/plain": [
       "<sqlite3.Cursor at 0x1101d7810>"
      ]
     },
     "execution_count": 24,
     "metadata": {},
     "output_type": "execute_result"
    }
   ],
   "source": [
    "cursor.executemany(insert_GO_term, GO_terms_rows)"
   ]
  },
  {
   "cell_type": "code",
   "execution_count": 25,
   "metadata": {},
   "outputs": [
    {
     "data": {
      "text/plain": [
       "<sqlite3.Cursor at 0x1101d7810>"
      ]
     },
     "execution_count": 25,
     "metadata": {},
     "output_type": "execute_result"
    }
   ],
   "source": [
    "cursor.executemany(insert_gene_GO_term, gene_GO_rows)"
   ]
  },
  {
   "cell_type": "code",
   "execution_count": 26,
   "metadata": {},
   "outputs": [
    {
     "data": {
      "text/plain": [
       "[(672, 'BRCA1', 'BRCA1 DNA repair associated'),\n",
       " (675, 'BRCA2', 'BRCA2 DNA repair associated'),\n",
       " (7157, 'TP53', 'tumor protein p53')]"
      ]
     },
     "execution_count": 26,
     "metadata": {},
     "output_type": "execute_result"
    }
   ],
   "source": [
    "# check the data\n",
    "\n",
    "cursor.execute(select_genes)\n",
    "cursor.fetchall()"
   ]
  },
  {
   "cell_type": "code",
   "execution_count": 27,
   "metadata": {},
   "outputs": [
    {
     "data": {
      "text/plain": [
       "[(1, 'intrinsic apoptotic signaling pathway in response to DNA damage'),\n",
       " (2, 'transcription cis-regulatory region binding'),\n",
       " (3, 'transcription coactivator activity'),\n",
       " (4, 'ubiquitin-protein transferase activity'),\n",
       " (5, 'histone acetyltransferase activity'),\n",
       " (6, 'protease binding'),\n",
       " (7, 'single-stranded DNA binding'),\n",
       " (8, 'protein binding'),\n",
       " (9, 'negative regulation of transcription, DNA-templated'),\n",
       " (10, 'positive regulation of transcription by RNA polymerase II'),\n",
       " (11, 'promoter-specific chromatin binding'),\n",
       " (12, 'circadian behavior'),\n",
       " (13, 'circadian behavior\"')]"
      ]
     },
     "execution_count": 27,
     "metadata": {},
     "output_type": "execute_result"
    }
   ],
   "source": [
    "cursor.execute(select_GO_terms)\n",
    "cursor.fetchall()"
   ]
  },
  {
   "cell_type": "code",
   "execution_count": 28,
   "metadata": {},
   "outputs": [
    {
     "data": {
      "text/plain": [
       "[(672, 1),\n",
       " (672, 2),\n",
       " (672, 3),\n",
       " (672, 4),\n",
       " (675, 5),\n",
       " (675, 6),\n",
       " (675, 7),\n",
       " (675, 8),\n",
       " (7157, 9),\n",
       " (7157, 10),\n",
       " (7157, 11),\n",
       " (7157, 12),\n",
       " (7157, 13)]"
      ]
     },
     "execution_count": 28,
     "metadata": {},
     "output_type": "execute_result"
    }
   ],
   "source": [
    "cursor.execute(select_gene_GO)\n",
    "cursor.fetchall()"
   ]
  },
  {
   "cell_type": "code",
   "execution_count": 29,
   "metadata": {},
   "outputs": [],
   "source": [
    "# commit the changes\n",
    "connection.commit()"
   ]
  },
  {
   "cell_type": "code",
   "execution_count": null,
   "metadata": {},
   "outputs": [],
   "source": []
  },
  {
   "cell_type": "code",
   "execution_count": null,
   "metadata": {},
   "outputs": [],
   "source": []
  },
  {
   "cell_type": "code",
   "execution_count": null,
   "metadata": {},
   "outputs": [],
   "source": []
  },
  {
   "cell_type": "code",
   "execution_count": 30,
   "metadata": {},
   "outputs": [
    {
     "data": {
      "text/plain": [
       "<sqlite3.Cursor at 0x1101d7810>"
      ]
     },
     "execution_count": 30,
     "metadata": {},
     "output_type": "execute_result"
    }
   ],
   "source": [
    "## OPTION 3 - use the autoincrement for the GO_term id since it is not provided to us in the file\n",
    "\n",
    "# before we can do that we need to clear the table data\n",
    "delete_genes = \"DELETE FROM genes;\"\n",
    "delete_GO_terms = \"DELETE FROM GO_terms;\"\n",
    "delete_gene_GO = \"DELETE FROM gene_GO_term;\"\n",
    "\n",
    "cursor.execute(delete_genes)\n",
    "cursor.execute(delete_GO_terms)\n",
    "cursor.execute(delete_gene_GO)"
   ]
  },
  {
   "cell_type": "code",
   "execution_count": 31,
   "metadata": {},
   "outputs": [],
   "source": [
    "# commit the change\n",
    "connection.commit()"
   ]
  },
  {
   "cell_type": "code",
   "execution_count": 32,
   "metadata": {},
   "outputs": [],
   "source": [
    "# the insert statement for the GO_term table changed since we do not need to provide the id\n",
    "insert_GO_term1 = \"INSERT INTO GO_terms (name) VALUES (?);\"\n"
   ]
  },
  {
   "cell_type": "code",
   "execution_count": 33,
   "metadata": {},
   "outputs": [],
   "source": [
    "GO_terms_dict = {}\n",
    "\n",
    "with open(file_name) as genes_info:\n",
    "    header_line = genes_info.readline() \n",
    "    for line in genes_info: \n",
    "        line_list = line.strip().split(\"\\t\")\n",
    "        gene_id = line_list[0]\n",
    "\n",
    "        gene_row = line_list[:3]\n",
    "        cursor.execute(insert_gene, gene_row)\n",
    "\n",
    "        GO_terms_list = line_list[-1].split(\";\")\n",
    "        \n",
    "        for GO_term in GO_terms_list:\n",
    "            GO_term_name = GO_term.strip()\n",
    "            if GO_term_name not in GO_terms_dict:\n",
    "                cursor.execute(insert_GO_term1, [GO_term_name])\n",
    "                \n",
    "                # get the autogenerated id from the database after the insert\n",
    "                GO_term_id = cursor.lastrowid\n",
    "                \n",
    "                GO_terms_dict[GO_term_name] = GO_term_id\n",
    "\n",
    "            else:\n",
    "                GO_term_id = GO_terms_dict[GO_term_name]\n",
    "\n",
    "            gene_GO_row = (gene_id, GO_term_id)\n",
    "            cursor.execute(insert_gene_GO_term, gene_GO_row)\n",
    "       "
   ]
  },
  {
   "cell_type": "code",
   "execution_count": 34,
   "metadata": {},
   "outputs": [
    {
     "data": {
      "text/plain": [
       "[(672, 'BRCA1', 'BRCA1 DNA repair associated'),\n",
       " (675, 'BRCA2', 'BRCA2 DNA repair associated'),\n",
       " (7157, 'TP53', 'tumor protein p53')]"
      ]
     },
     "execution_count": 34,
     "metadata": {},
     "output_type": "execute_result"
    }
   ],
   "source": [
    "# check the data\n",
    "\n",
    "cursor.execute(select_genes)\n",
    "cursor.fetchall()"
   ]
  },
  {
   "cell_type": "code",
   "execution_count": 35,
   "metadata": {},
   "outputs": [
    {
     "data": {
      "text/plain": [
       "[(14, 'intrinsic apoptotic signaling pathway in response to DNA damage'),\n",
       " (15, 'transcription cis-regulatory region binding'),\n",
       " (16, 'transcription coactivator activity'),\n",
       " (17, 'ubiquitin-protein transferase activity'),\n",
       " (18, 'histone acetyltransferase activity'),\n",
       " (19, 'protease binding'),\n",
       " (20, 'single-stranded DNA binding'),\n",
       " (21, 'protein binding'),\n",
       " (22, 'negative regulation of transcription, DNA-templated'),\n",
       " (23, 'positive regulation of transcription by RNA polymerase II'),\n",
       " (24, 'promoter-specific chromatin binding'),\n",
       " (25, 'circadian behavior'),\n",
       " (26, 'circadian behavior\"')]"
      ]
     },
     "execution_count": 35,
     "metadata": {},
     "output_type": "execute_result"
    }
   ],
   "source": [
    "cursor.execute(select_GO_terms)\n",
    "cursor.fetchall()"
   ]
  },
  {
   "cell_type": "code",
   "execution_count": 36,
   "metadata": {},
   "outputs": [
    {
     "data": {
      "text/plain": [
       "[(672, 14),\n",
       " (672, 15),\n",
       " (672, 16),\n",
       " (672, 17),\n",
       " (675, 18),\n",
       " (675, 19),\n",
       " (675, 20),\n",
       " (675, 21),\n",
       " (7157, 22),\n",
       " (7157, 23),\n",
       " (7157, 24),\n",
       " (7157, 25),\n",
       " (7157, 26)]"
      ]
     },
     "execution_count": 36,
     "metadata": {},
     "output_type": "execute_result"
    }
   ],
   "source": [
    "cursor.execute(select_gene_GO)\n",
    "cursor.fetchall()"
   ]
  },
  {
   "cell_type": "code",
   "execution_count": 37,
   "metadata": {},
   "outputs": [],
   "source": [
    "# commit the changes\n",
    "connection.commit()"
   ]
  },
  {
   "cell_type": "code",
   "execution_count": null,
   "metadata": {},
   "outputs": [],
   "source": []
  },
  {
   "cell_type": "code",
   "execution_count": null,
   "metadata": {},
   "outputs": [],
   "source": []
  },
  {
   "cell_type": "markdown",
   "metadata": {
    "tags": []
   },
   "source": [
    "___\n",
    "\n",
    "<b> <font color = \"red\">Exercise</font></b>\n",
    "\n",
    "#### Query a database \n",
    "\n",
    "How many genes we have?  \n",
    "How many go terms we have?   \n",
    "How many go terms are associated which each gene?   \n",
    "How many genes are associated with each GO term?   \n",
    "Select all pairs of gene symbol and go term description that have a record in the gene_GO_term table."
   ]
  },
  {
   "cell_type": "code",
   "execution_count": 38,
   "metadata": {},
   "outputs": [],
   "source": [
    "# Write your solution here\n",
    "\n",
    "# Bring in the functions from class for a nice display of the results\n",
    "\n",
    "def get_header(cursor):\n",
    "    '''\n",
    "    Makes a tab delimited header row from the cursor description.\n",
    "    Arguments:\n",
    "        cursor: a cursor after a select query\n",
    "    Returns:\n",
    "        string: A string consisting of the column names separated by tabs, no new line\n",
    "    '''\n",
    "    return '\\t'.join([row[0] for row in cursor.description])\n",
    "\n",
    "def get_results(cursor):\n",
    "    '''\n",
    "    Makes a tab delimited table from the cursor results.\n",
    "    Arguments:\n",
    "        cursor: a cursor after a select query\n",
    "    Returns:\n",
    "        string: A string consisting of the column names separated by tabs, no new line\n",
    "    ''' \n",
    "    res = list()\n",
    "    for row in cursor.fetchall():        \n",
    "        res.append('\\t'.join(list(map(str,row))))\n",
    "    return \"\\n\".join(res)\n"
   ]
  },
  {
   "cell_type": "code",
   "execution_count": 39,
   "metadata": {},
   "outputs": [
    {
     "data": {
      "text/plain": [
       "[(3,)]"
      ]
     },
     "execution_count": 39,
     "metadata": {},
     "output_type": "execute_result"
    }
   ],
   "source": [
    "# query1: How many genes we have?\n",
    "\n",
    "query1 = \"SELECT count(gene_id) 'Number of genes' FROM genes;\"\n",
    "\n",
    "cursor.execute(query1)\n",
    "result = cursor.fetchall()\n",
    "result"
   ]
  },
  {
   "cell_type": "code",
   "execution_count": 40,
   "metadata": {},
   "outputs": [
    {
     "data": {
      "text/plain": [
       "3"
      ]
     },
     "execution_count": 40,
     "metadata": {},
     "output_type": "execute_result"
    }
   ],
   "source": [
    "# to get the number we index the list and the tuple\n",
    "\n",
    "result[0][0]"
   ]
  },
  {
   "cell_type": "code",
   "execution_count": 41,
   "metadata": {},
   "outputs": [
    {
     "name": "stdout",
     "output_type": "stream",
     "text": [
      "Number of genes\n",
      "3\n"
     ]
    }
   ],
   "source": [
    "cursor.execute(query1)\n",
    "\n",
    "print(get_header(cursor))\n",
    "print(get_results(cursor))"
   ]
  },
  {
   "cell_type": "code",
   "execution_count": 42,
   "metadata": {},
   "outputs": [
    {
     "name": "stdout",
     "output_type": "stream",
     "text": [
      "Number of GO terms\n",
      "13\n"
     ]
    }
   ],
   "source": [
    "# query2: How many GO terms we have?\n",
    "\n",
    "query2 = \"SELECT count(*) 'Number of GO terms' FROM GO_terms;\"\n",
    "\n",
    "cursor.execute(query2)\n",
    "\n",
    "print(get_header(cursor))\n",
    "print(get_results(cursor))"
   ]
  },
  {
   "cell_type": "code",
   "execution_count": 43,
   "metadata": {},
   "outputs": [
    {
     "name": "stdout",
     "output_type": "stream",
     "text": [
      "gene_id\tNumber of GO terms\n",
      "672\t4\n",
      "675\t4\n",
      "7157\t5\n"
     ]
    }
   ],
   "source": [
    "# query3: How many go terms are associated which each gene?   \n",
    "\n",
    "query3 = '''\n",
    "SELECT gene_id, count(GO_term_id) 'Number of GO terms' \n",
    "FROM gene_GO_term\n",
    "GROUP BY gene_id;\n",
    "'''\n",
    "\n",
    "cursor.execute(query3)\n",
    "\n",
    "print(get_header(cursor))\n",
    "print(get_results(cursor))"
   ]
  },
  {
   "cell_type": "code",
   "execution_count": 44,
   "metadata": {},
   "outputs": [
    {
     "name": "stdout",
     "output_type": "stream",
     "text": [
      "Gene\tNumber of GO terms\n",
      "BRCA1\t4\n",
      "BRCA2\t4\n",
      "TP53\t5\n"
     ]
    }
   ],
   "source": [
    "# if we want the gene_symbol\n",
    "\n",
    "query3 = '''\n",
    "SELECT gene_symbol Gene, count(gt.GO_term_id) 'Number of GO terms' \n",
    "FROM gene_GO_term gt\n",
    "    JOIN genes g ON g.gene_id = gt.gene_id\n",
    "GROUP BY gene_symbol;\n",
    "'''\n",
    "\n",
    "cursor.execute(query3)\n",
    "\n",
    "print(get_header(cursor))\n",
    "print(get_results(cursor))"
   ]
  },
  {
   "cell_type": "code",
   "execution_count": 45,
   "metadata": {},
   "outputs": [
    {
     "name": "stdout",
     "output_type": "stream",
     "text": [
      "GO_term_id\tNumber of genes\n",
      "14\t1\n",
      "15\t1\n",
      "16\t1\n",
      "17\t1\n",
      "18\t1\n",
      "19\t1\n",
      "20\t1\n",
      "21\t1\n",
      "22\t1\n",
      "23\t1\n",
      "24\t1\n",
      "25\t1\n",
      "26\t1\n"
     ]
    }
   ],
   "source": [
    "# query4: How many genes are associated with each GO term?  \n",
    "\n",
    "query4 = '''\n",
    "SELECT GO_term_id, count(gene_id) 'Number of genes' \n",
    "FROM gene_GO_term\n",
    "GROUP BY GO_term_id;\n",
    "'''\n",
    "\n",
    "cursor.execute(query4)\n",
    "\n",
    "print(get_header(cursor))\n",
    "print(get_results(cursor))\n"
   ]
  },
  {
   "cell_type": "code",
   "execution_count": 46,
   "metadata": {},
   "outputs": [
    {
     "name": "stdout",
     "output_type": "stream",
     "text": [
      "GO term\tNumber of genes\n",
      "circadian behavior\t1\n",
      "circadian behavior\"\t1\n",
      "histone acetyltransferase activity\t1\n",
      "intrinsic apoptotic signaling pathway in response to DNA damage\t1\n",
      "negative regulation of transcription, DNA-templated\t1\n",
      "positive regulation of transcription by RNA polymerase II\t1\n",
      "promoter-specific chromatin binding\t1\n",
      "protease binding\t1\n",
      "protein binding\t1\n",
      "single-stranded DNA binding\t1\n",
      "transcription cis-regulatory region binding\t1\n",
      "transcription coactivator activity\t1\n",
      "ubiquitin-protein transferase activity\t1\n"
     ]
    }
   ],
   "source": [
    "# if we want the GO term name\n",
    "\n",
    "query4 = '''\n",
    "SELECT name 'GO term', count(gene_id) 'Number of genes' \n",
    "FROM gene_GO_term gt\n",
    "    JOIN GO_terms t ON t.GO_term_id = gt.GO_term_id\n",
    "GROUP BY name;\n",
    "'''\n",
    "\n",
    "cursor.execute(query4)\n",
    "\n",
    "print(get_header(cursor))\n",
    "print(get_results(cursor))"
   ]
  },
  {
   "cell_type": "code",
   "execution_count": 47,
   "metadata": {},
   "outputs": [
    {
     "name": "stdout",
     "output_type": "stream",
     "text": [
      "Gene\tGO term\n",
      "BRCA1\tintrinsic apoptotic signaling pathway in response to DNA damage\n",
      "BRCA1\ttranscription cis-regulatory region binding\n",
      "BRCA1\ttranscription coactivator activity\n",
      "BRCA1\tubiquitin-protein transferase activity\n",
      "BRCA2\thistone acetyltransferase activity\n",
      "BRCA2\tprotease binding\n",
      "BRCA2\tsingle-stranded DNA binding\n",
      "BRCA2\tprotein binding\n",
      "TP53\tnegative regulation of transcription, DNA-templated\n",
      "TP53\tpositive regulation of transcription by RNA polymerase II\n",
      "TP53\tpromoter-specific chromatin binding\n",
      "TP53\tcircadian behavior\n",
      "TP53\tcircadian behavior\"\n"
     ]
    }
   ],
   "source": [
    "# query5: Select all pairs of gene symbol and go term description that have a record in the gene_GO_term table.\n",
    "\n",
    "query5 = '''\n",
    "SELECT gene_symbol Gene, name 'GO term' \n",
    "FROM gene_GO_term gt\n",
    "    JOIN GO_terms t ON t.GO_term_id = gt.GO_term_id\n",
    "    JOIN genes g on g.gene_id = gt.gene_id;\n",
    "'''\n",
    "\n",
    "cursor.execute(query5)\n",
    "\n",
    "print(get_header(cursor))\n",
    "print(get_results(cursor))"
   ]
  },
  {
   "cell_type": "code",
   "execution_count": 48,
   "metadata": {},
   "outputs": [],
   "source": [
    "# we are done working with this database\n",
    "# close cursor and connection\n",
    "\n",
    "cursor.close()\n",
    "connection.close()"
   ]
  },
  {
   "cell_type": "markdown",
   "metadata": {
    "tags": []
   },
   "source": [
    "___\n",
    "\n",
    "<b> <font color = \"red\">Exercise</font></b>\n",
    "\n",
    "#### Query a database \n",
    "Download the database from the following link:\n",
    "https://www.sqlitetutorial.net/sqlite-sample-database/\n",
    "\n",
    "<img src = https://www.sqlitetutorial.net/wp-content/uploads/2015/11/sqlite-sample-database-color.jpg width = 700>\n",
    "\n",
    "https://www.sqlitetutorial.net/wp-content/uploads/2015/11/sqlite-sample-database-color.jpg\n",
    "\n",
    "Retrieve how many tracks are associated with each artist.    \n",
    "What is the overall mean number of tracks per album?    \n",
    "For a given artist, retrieve all the albums (name), and tracks (name), they are associated with.   \n",
    "\n",
    "Feel free to build other quesries for questions you may have.\n"
   ]
  },
  {
   "cell_type": "code",
   "execution_count": 49,
   "metadata": {},
   "outputs": [],
   "source": [
    "# Write your solution here\n",
    "\n",
    "# connect to the database\n",
    "\n",
    "connection = connect(\"chinook.db\")\n",
    "cursor = connection.cursor()\n"
   ]
  },
  {
   "cell_type": "code",
   "execution_count": 50,
   "metadata": {},
   "outputs": [
    {
     "name": "stdout",
     "output_type": "stream",
     "text": [
      "name\ttype\n",
      "albums\ttable\n",
      "sqlite_sequence\ttable\n",
      "artists\ttable\n",
      "customers\ttable\n",
      "employees\ttable\n",
      "genres\ttable\n",
      "invoices\ttable\n",
      "invoice_items\ttable\n",
      "media_types\ttable\n",
      "playlists\ttable\n",
      "playlist_track\ttable\n",
      "sqlite_autoindex_playlist_track_1\tindex\n",
      "tracks\ttable\n",
      "IFK_AlbumArtistId\tindex\n",
      "IFK_CustomerSupportRepId\tindex\n",
      "IFK_EmployeeReportsTo\tindex\n",
      "IFK_InvoiceCustomerId\tindex\n",
      "IFK_InvoiceLineInvoiceId\tindex\n",
      "IFK_InvoiceLineTrackId\tindex\n",
      "IFK_PlaylistTrackTrackId\tindex\n",
      "IFK_TrackAlbumId\tindex\n",
      "IFK_TrackGenreId\tindex\n",
      "IFK_TrackMediaTypeId\tindex\n",
      "sqlite_stat1\ttable\n"
     ]
    }
   ],
   "source": [
    "# check the tables in the database\n",
    "\n",
    "sel_tables = \"select name, type from sqlite_master\" \n",
    "cursor.execute(sel_tables)\n",
    "\n",
    "print(get_header(cursor))\n",
    "print(get_results(cursor))"
   ]
  },
  {
   "cell_type": "code",
   "execution_count": null,
   "metadata": {},
   "outputs": [],
   "source": []
  },
  {
   "cell_type": "code",
   "execution_count": 51,
   "metadata": {},
   "outputs": [
    {
     "name": "stdout",
     "output_type": "stream",
     "text": [
      "ArtistId\tcount(trackid)\n",
      "1\t18\n",
      "2\t4\n",
      "3\t15\n",
      "4\t13\n",
      "5\t12\n",
      "6\t31\n",
      "7\t8\n",
      "8\t40\n",
      "9\t12\n",
      "10\t8\n",
      "11\t18\n",
      "12\t17\n",
      "13\t17\n",
      "14\t11\n",
      "15\t11\n",
      "16\t21\n",
      "17\t34\n",
      "18\t36\n",
      "19\t31\n",
      "20\t10\n",
      "21\t56\n",
      "22\t114\n",
      "23\t9\n",
      "24\t17\n",
      "27\t32\n",
      "36\t17\n",
      "37\t14\n",
      "41\t14\n",
      "42\t26\n",
      "46\t14\n",
      "50\t112\n",
      "51\t45\n",
      "52\t35\n",
      "53\t21\n",
      "54\t34\n",
      "55\t12\n",
      "56\t14\n",
      "57\t14\n",
      "58\t92\n",
      "59\t27\n",
      "68\t37\n",
      "69\t22\n",
      "70\t15\n",
      "72\t15\n",
      "76\t40\n",
      "77\t30\n",
      "78\t16\n",
      "79\t9\n",
      "80\t26\n",
      "81\t48\n",
      "82\t52\n",
      "83\t14\n",
      "84\t44\n",
      "85\t24\n",
      "86\t16\n",
      "87\t12\n",
      "88\t42\n",
      "89\t13\n",
      "90\t213\n",
      "91\t20\n",
      "92\t32\n",
      "93\t13\n",
      "94\t17\n",
      "95\t10\n",
      "96\t12\n",
      "97\t14\n",
      "98\t16\n",
      "99\t31\n",
      "100\t57\n",
      "101\t28\n",
      "102\t10\n",
      "103\t18\n",
      "104\t18\n",
      "105\t10\n",
      "106\t15\n",
      "108\t12\n",
      "109\t17\n",
      "110\t29\n",
      "111\t15\n",
      "112\t14\n",
      "113\t49\n",
      "114\t32\n",
      "115\t12\n",
      "116\t14\n",
      "117\t10\n",
      "118\t67\n",
      "120\t9\n",
      "121\t16\n",
      "122\t11\n",
      "124\t41\n",
      "125\t10\n",
      "126\t14\n",
      "127\t48\n",
      "128\t14\n",
      "130\t23\n",
      "131\t34\n",
      "132\t17\n",
      "133\t10\n",
      "134\t12\n",
      "135\t11\n",
      "136\t7\n",
      "137\t19\n",
      "138\t18\n",
      "139\t30\n",
      "140\t11\n",
      "141\t14\n",
      "142\t41\n",
      "143\t26\n",
      "144\t20\n",
      "145\t30\n",
      "146\t38\n",
      "147\t20\n",
      "148\t23\n",
      "149\t92\n",
      "150\t135\n",
      "151\t14\n",
      "152\t52\n",
      "153\t13\n",
      "155\t19\n",
      "156\t53\n",
      "157\t1\n",
      "158\t24\n",
      "159\t1\n",
      "179\t12\n",
      "180\t19\n",
      "196\t1\n",
      "197\t2\n",
      "198\t2\n",
      "199\t2\n",
      "200\t2\n",
      "201\t1\n",
      "202\t1\n",
      "203\t1\n",
      "204\t10\n",
      "205\t14\n",
      "206\t1\n",
      "207\t1\n",
      "208\t2\n",
      "209\t1\n",
      "210\t1\n",
      "211\t1\n",
      "212\t1\n",
      "213\t1\n",
      "214\t2\n",
      "215\t1\n",
      "216\t1\n",
      "217\t1\n",
      "218\t1\n",
      "219\t1\n",
      "220\t1\n",
      "221\t1\n",
      "222\t1\n",
      "223\t1\n",
      "224\t1\n",
      "225\t1\n",
      "226\t3\n",
      "227\t1\n",
      "228\t1\n",
      "229\t1\n",
      "230\t1\n",
      "231\t1\n",
      "232\t1\n",
      "233\t1\n",
      "234\t1\n",
      "235\t1\n",
      "236\t1\n",
      "237\t1\n",
      "238\t1\n",
      "240\t1\n",
      "241\t1\n",
      "242\t1\n",
      "243\t1\n",
      "244\t1\n",
      "245\t2\n",
      "246\t1\n",
      "247\t2\n",
      "248\t3\n",
      "249\t1\n",
      "250\t1\n",
      "251\t1\n",
      "252\t23\n",
      "253\t1\n",
      "254\t1\n",
      "255\t1\n",
      "256\t1\n",
      "257\t1\n",
      "258\t1\n",
      "259\t1\n",
      "260\t1\n",
      "261\t1\n",
      "262\t1\n",
      "263\t1\n",
      "264\t1\n",
      "265\t1\n",
      "266\t1\n",
      "267\t1\n",
      "268\t1\n",
      "269\t1\n",
      "270\t1\n",
      "271\t1\n",
      "272\t1\n",
      "273\t1\n",
      "274\t1\n",
      "275\t1\n"
     ]
    }
   ],
   "source": [
    "# task1: Retrieve how many tracks are associated with each artist.\n",
    "\n",
    "task1 = '''\n",
    "SELECT artistid, count(trackid) \n",
    "FROM tracks t \n",
    "   JOIN albums ab ON t.albumid = ab.albumid \n",
    "GROUP BY artistid\n",
    "'''\n",
    "\n",
    "cursor.execute(task1)\n",
    "\n",
    "print(get_header(cursor))\n",
    "print(get_results(cursor))"
   ]
  },
  {
   "cell_type": "code",
   "execution_count": 52,
   "metadata": {
    "tags": []
   },
   "outputs": [
    {
     "name": "stdout",
     "output_type": "stream",
     "text": [
      "No of tracks\tName\n",
      "213\tIron Maiden\n",
      "135\tU2\n",
      "114\tLed Zeppelin\n",
      "112\tMetallica\n",
      "92\tLost\n",
      "92\tDeep Purple\n",
      "67\tPearl Jam\n",
      "57\tLenny Kravitz\n",
      "56\tVarious Artists\n",
      "53\tThe Office\n",
      "52\tVan Halen\n",
      "52\tFaith No More\n",
      "49\tOs Paralamas Do Sucesso\n",
      "48\tRed Hot Chili Peppers\n",
      "48\tEric Clapton\n",
      "45\tQueen\n",
      "44\tFoo Fighters\n",
      "42\tGuns N' Roses\n",
      "41\tThe Rolling Stones\n",
      "41\tR.E.M.\n",
      "40\tCreedence Clearwater Revival\n",
      "40\tAudioslave\n",
      "38\tTitãs\n",
      "37\tMiles Davis\n",
      "36\tChico Science & Nação Zumbi\n",
      "35\tKiss\n",
      "34\tSmashing Pumpkins\n",
      "34\tGreen Day\n",
      "34\tChico Buarque\n",
      "32\tOzzy Osbourne\n",
      "32\tJamiroquai\n",
      "32\tGilberto Gil\n",
      "31\tLegião Urbana\n",
      "31\tCidade Negra\n",
      "31\tAntônio Carlos Jobim\n",
      "30\tTim Maia\n",
      "30\tThe Cult\n",
      "30\tCássia Eller\n",
      "29\tNirvana\n",
      "28\tLulu Santos\n",
      "27\tSantana\n",
      "26\tThe Tea Party\n",
      "26\tMilton Nascimento\n",
      "26\tDjavan\n",
      "24\tFrank Sinatra\n",
      "24\tBattlestar Galactica (Classic)\n",
      "23\tSkank\n",
      "23\tHeroes\n",
      "23\tAmy Winehouse\n",
      "22\tGene Krupa\n",
      "21\tSpyro Gyra\n",
      "21\tCaetano Veloso\n",
      "20\tThe Who\n",
      "20\tJames Brown\n",
      "20\tBattlestar Galactica\n",
      "19\tZeca Pagodinho\n",
      "19\tThe Black Crowes\n",
      "19\tHouse Of Pain\n",
      "18\tThe Clash\n",
      "18\tMarvin Gaye\n",
      "18\tMarisa Monte\n",
      "18\tBlack Label Society\n",
      "18\tAC/DC\n",
      "17\tSoundgarden\n",
      "17\tO Rappa\n",
      "17\tMötley Crüe\n",
      "17\tMarcos Valle\n",
      "17\tJimi Hendrix\n",
      "17\tBody Count\n",
      "17\tBlack Sabbath\n",
      "16\tPlanet Hemp\n",
      "16\tJudas Priest\n",
      "16\tFunk Como Le Gusta\n",
      "16\tDef Leppard\n",
      "15\tVinícius De Moraes\n",
      "15\tToquinho & Vinícius\n",
      "15\tO Terço\n",
      "15\tMotörhead\n",
      "15\tAerosmith\n",
      "14\tUB40\n",
      "14\tThe Police\n",
      "14\tRush\n",
      "14\tRaul Seixas\n",
      "14\tPassengers\n",
      "14\tOs Mutantes\n",
      "14\tOlodum\n",
      "14\tJoão Suplicy\n",
      "14\tJorge Ben\n",
      "14\tGonzaguinha\n",
      "14\tFalamansa\n",
      "14\tElis Regina\n",
      "14\tEd Motta\n",
      "14\tChris Cornell\n",
      "13\tVelvet Revolver\n",
      "13\tJET\n",
      "13\tIncognito\n",
      "13\tAlanis Morissette\n",
      "12\tStone Temple Pilots\n",
      "12\tScorpions\n",
      "12\tPage & Plant\n",
      "12\tMônica Marianno\n",
      "12\tJota Quest\n",
      "12\tGodsmack\n",
      "12\tDavid Coverdale\n",
      "12\tBackBeat\n",
      "12\tAlice In Chains\n",
      "11\tThe Doors\n",
      "11\tSystem Of A Down\n",
      "11\tR.E.M. Feat. Kate Pearson\n",
      "11\tBuddy Guy\n",
      "11\tBruce Dickinson\n",
      "10\tTemple of the Dog\n",
      "10\tStevie Ray Vaughan & Double Trouble\n",
      "10\tRaimundos\n",
      "10\tPaul D'Ianno\n",
      "10\tMen At Work\n",
      "10\tMarillion\n",
      "10\tJoe Satriani\n",
      "10\tCláudio Zoli\n",
      "9\tPink Floyd\n",
      "9\tFrank Zappa & Captain Beefheart\n",
      "9\tDennis Chambers\n",
      "8\tBilly Cobham\n",
      "8\tApocalyptica\n",
      "7\tTerry Bozzio, Tony Levin & Steve Stevens\n",
      "4\tAccept\n",
      "3\tEugene Ormandy\n",
      "3\tBerliner Philharmoniker & Herbert Von Karajan\n",
      "2\tThe Posies\n",
      "2\tThe King's Singers\n",
      "2\tMichael Tilson Thomas & San Francisco Symphony\n",
      "2\tKarsh Kale\n",
      "2\tHabib Koité and Bamada\n",
      "2\tEnglish Concert & Trevor Pinnock\n",
      "2\tAisha Duo\n",
      "2\tAcademy of St. Martin in the Fields & Sir Neville Marriner\n",
      "1\tYo-Yo Ma\n",
      "1\tYehudi Menuhin\n",
      "1\tWilhelm Kempff\n",
      "1\tTon Koopman\n",
      "1\tThe 12 Cellists of The Berlin Philharmonic\n",
      "1\tSir Georg Solti, Sumi Jo & Wiener Philharmoniker\n",
      "1\tSir Georg Solti & Wiener Philharmoniker\n",
      "1\tSergei Prokofiev & Yuri Temirkanov\n",
      "1\tScholars Baroque Ensemble\n",
      "1\tRoyal Philharmonic Orchestra & Sir Thomas Beecham\n",
      "1\tRoger Norrington, London Classical Players\n",
      "1\tRichard Marlow & The Choir of Trinity College, Cambridge\n",
      "1\tPhilip Glass Ensemble\n",
      "1\tPhilharmonia Orchestra & Sir Neville Marriner\n",
      "1\tOtto Klemperer & Philharmonia Orchestra\n",
      "1\tOrchestre Révolutionnaire et Romantique & John Eliot Gardiner\n",
      "1\tOrchestra of The Age of Enlightenment\n",
      "1\tNicolaus Esterhazy Sinfonia\n",
      "1\tNash Ensemble\n",
      "1\tMichele Campanella\n",
      "1\tMela Tenenbaum, Pro Musica Prague & Richard Kapp\n",
      "1\tMaurizio Pollini\n",
      "1\tMartin Roscoe\n",
      "1\tLuciano Pavarotti\n",
      "1\tLuciana Souza/Romero Lubambo\n",
      "1\tLondon Symphony Orchestra & Sir Charles Mackerras\n",
      "1\tLes Arts Florissants & William Christie\n",
      "1\tLeonard Bernstein & New York Philharmonic\n",
      "1\tKent Nagano and Orchestre de l'Opéra de Lyon\n",
      "1\tJulian Bream\n",
      "1\tJames Levine\n",
      "1\tItzhak Perlman\n",
      "1\tHilary Hahn, Jeffrey Kahane, Los Angeles Chamber Orchestra & Margaret Batjer\n",
      "1\tHerbert Von Karajan, Mirella Freni & Wiener Philharmoniker\n",
      "1\tGöteborgs Symfoniker & Neeme Järvi\n",
      "1\tGustav Mahler\n",
      "1\tGerald Moore\n",
      "1\tFretwork\n",
      "1\tFelix Schmidt, London Symphony Orchestra & Rafael Frühbeck de Burgos\n",
      "1\tEquale Brass Ensemble, John Eliot Gardiner & Munich Monteverdi Orchestra and Choir\n",
      "1\tEmerson String Quartet\n",
      "1\tEmanuel Ax, Eugene Ormandy & Philadelphia Orchestra\n",
      "1\tEdo de Waart & San Francisco Symphony\n",
      "1\tDread Zeppelin\n",
      "1\tChristopher O'Riley\n",
      "1\tChor der Wiener Staatsoper, Herbert Von Karajan & Wiener Philharmoniker\n",
      "1\tChoir Of Westminster Abbey & Simon Preston\n",
      "1\tChicago Symphony Orchestra & Fritz Reiner\n",
      "1\tChicago Symphony Chorus, Chicago Symphony Orchestra & Sir Georg Solti\n",
      "1\tCharles Dutoit & L'Orchestre Symphonique de Montréal\n",
      "1\tCalexico\n",
      "1\tCake\n",
      "1\tC. Monteverdi, Nigel Rogers - Chiaroscuro; London Baroque; London Cornett & Sackbu\n",
      "1\tBritten Sinfonia, Ivor Bolton & Lesley Garrett\n",
      "1\tBoston Symphony Orchestra & Seiji Ozawa\n",
      "1\tBerliner Philharmoniker, Claudio Abbado & Sabine Meyer\n",
      "1\tBerliner Philharmoniker & Hans Rosbaud\n",
      "1\tBarry Wordsworth & BBC Concert Orchestra\n",
      "1\tAquaman\n",
      "1\tAntal Doráti & London Symphony Orchestra\n",
      "1\tAnne-Sophie Mutter, Herbert Von Karajan & Wiener Philharmoniker\n",
      "1\tAlberto Turco & Nova Schola Gregoriana\n",
      "1\tAdrian Leaper & Doreen de Feis\n",
      "1\tAcademy of St. Martin in the Fields, Sir Neville Marriner & Thurston Dart\n",
      "1\tAcademy of St. Martin in the Fields, John Birch, Sir Neville Marriner & Sylvia McNair\n",
      "1\tAcademy of St. Martin in the Fields Chamber Ensemble & Sir Neville Marriner\n",
      "1\tAaron Goldberg\n",
      "1\tAaron Copland & London Symphony Orchestra\n"
     ]
    }
   ],
   "source": [
    "# if we want the srtist name and ordered data\n",
    "\n",
    "task1 = '''\n",
    "SELECT  count(trackid) 'No of tracks', a.name\n",
    "FROM tracks t \n",
    "   JOIN albums ab ON t.albumid = ab.albumid \n",
    "   JOIN artists a ON ab.artistid = a.artistid\n",
    "GROUP BY a.name\n",
    "ORDER BY count(trackid) DESC\n",
    "'''\n",
    "\n",
    "cursor.execute(task1)\n",
    "\n",
    "print(get_header(cursor))\n",
    "print(get_results(cursor))"
   ]
  },
  {
   "cell_type": "code",
   "execution_count": 53,
   "metadata": {
    "tags": []
   },
   "outputs": [
    {
     "name": "stdout",
     "output_type": "stream",
     "text": [
      "Tracks per album\n",
      "57\n",
      "34\n",
      "30\n",
      "26\n",
      "25\n",
      "25\n",
      "24\n",
      "24\n",
      "24\n",
      "23\n",
      "23\n",
      "23\n",
      "22\n",
      "22\n",
      "22\n",
      "21\n",
      "21\n",
      "20\n",
      "20\n",
      "20\n",
      "20\n",
      "20\n",
      "19\n",
      "19\n",
      "19\n",
      "18\n",
      "18\n",
      "18\n",
      "18\n",
      "18\n",
      "18\n",
      "18\n",
      "18\n",
      "17\n",
      "17\n",
      "17\n",
      "17\n",
      "17\n",
      "17\n",
      "17\n",
      "17\n",
      "17\n",
      "17\n",
      "17\n",
      "17\n",
      "17\n",
      "17\n",
      "17\n",
      "16\n",
      "16\n",
      "16\n",
      "16\n",
      "16\n",
      "16\n",
      "16\n",
      "16\n",
      "16\n",
      "16\n",
      "16\n",
      "16\n",
      "16\n",
      "15\n",
      "15\n",
      "15\n",
      "15\n",
      "15\n",
      "15\n",
      "15\n",
      "15\n",
      "15\n",
      "15\n",
      "15\n",
      "15\n",
      "15\n",
      "15\n",
      "15\n",
      "15\n",
      "15\n",
      "15\n",
      "14\n",
      "14\n",
      "14\n",
      "14\n",
      "14\n",
      "14\n",
      "14\n",
      "14\n",
      "14\n",
      "14\n",
      "14\n",
      "14\n",
      "14\n",
      "14\n",
      "14\n",
      "14\n",
      "14\n",
      "14\n",
      "14\n",
      "14\n",
      "14\n",
      "14\n",
      "14\n",
      "14\n",
      "14\n",
      "14\n",
      "14\n",
      "14\n",
      "14\n",
      "14\n",
      "14\n",
      "14\n",
      "14\n",
      "14\n",
      "13\n",
      "13\n",
      "13\n",
      "13\n",
      "13\n",
      "13\n",
      "13\n",
      "13\n",
      "13\n",
      "13\n",
      "13\n",
      "13\n",
      "13\n",
      "13\n",
      "13\n",
      "13\n",
      "12\n",
      "12\n",
      "12\n",
      "12\n",
      "12\n",
      "12\n",
      "12\n",
      "12\n",
      "12\n",
      "12\n",
      "12\n",
      "12\n",
      "12\n",
      "12\n",
      "12\n",
      "12\n",
      "12\n",
      "12\n",
      "12\n",
      "12\n",
      "12\n",
      "12\n",
      "12\n",
      "12\n",
      "12\n",
      "12\n",
      "12\n",
      "12\n",
      "12\n",
      "11\n",
      "11\n",
      "11\n",
      "11\n",
      "11\n",
      "11\n",
      "11\n",
      "11\n",
      "11\n",
      "11\n",
      "11\n",
      "11\n",
      "11\n",
      "11\n",
      "11\n",
      "11\n",
      "11\n",
      "11\n",
      "11\n",
      "11\n",
      "11\n",
      "11\n",
      "11\n",
      "11\n",
      "11\n",
      "10\n",
      "10\n",
      "10\n",
      "10\n",
      "10\n",
      "10\n",
      "10\n",
      "10\n",
      "10\n",
      "10\n",
      "10\n",
      "10\n",
      "10\n",
      "10\n",
      "10\n",
      "10\n",
      "10\n",
      "10\n",
      "10\n",
      "10\n",
      "10\n",
      "10\n",
      "10\n",
      "10\n",
      "10\n",
      "10\n",
      "10\n",
      "9\n",
      "9\n",
      "9\n",
      "9\n",
      "9\n",
      "9\n",
      "9\n",
      "9\n",
      "9\n",
      "9\n",
      "9\n",
      "9\n",
      "9\n",
      "9\n",
      "9\n",
      "8\n",
      "8\n",
      "8\n",
      "8\n",
      "8\n",
      "8\n",
      "8\n",
      "8\n",
      "8\n",
      "8\n",
      "8\n",
      "8\n",
      "8\n",
      "8\n",
      "7\n",
      "7\n",
      "7\n",
      "7\n",
      "7\n",
      "7\n",
      "7\n",
      "7\n",
      "6\n",
      "6\n",
      "6\n",
      "5\n",
      "5\n",
      "4\n",
      "4\n",
      "3\n",
      "3\n",
      "3\n",
      "2\n",
      "2\n",
      "2\n",
      "2\n",
      "2\n",
      "2\n",
      "2\n",
      "2\n",
      "1\n",
      "1\n",
      "1\n",
      "1\n",
      "1\n",
      "1\n",
      "1\n",
      "1\n",
      "1\n",
      "1\n",
      "1\n",
      "1\n",
      "1\n",
      "1\n",
      "1\n",
      "1\n",
      "1\n",
      "1\n",
      "1\n",
      "1\n",
      "1\n",
      "1\n",
      "1\n",
      "1\n",
      "1\n",
      "1\n",
      "1\n",
      "1\n",
      "1\n",
      "1\n",
      "1\n",
      "1\n",
      "1\n",
      "1\n",
      "1\n",
      "1\n",
      "1\n",
      "1\n",
      "1\n",
      "1\n",
      "1\n",
      "1\n",
      "1\n",
      "1\n",
      "1\n",
      "1\n",
      "1\n",
      "1\n",
      "1\n",
      "1\n",
      "1\n",
      "1\n",
      "1\n",
      "1\n",
      "1\n",
      "1\n",
      "1\n",
      "1\n",
      "1\n",
      "1\n",
      "1\n",
      "1\n",
      "1\n",
      "1\n",
      "1\n",
      "1\n",
      "1\n",
      "1\n",
      "1\n",
      "1\n",
      "1\n",
      "1\n",
      "1\n",
      "1\n",
      "1\n",
      "1\n",
      "1\n",
      "1\n",
      "1\n",
      "1\n",
      "1\n",
      "1\n"
     ]
    }
   ],
   "source": [
    "# task2: What is the overall mean number of tracks per album?\n",
    "\n",
    "# first let's get the number of Tracks per album before we do the mean\n",
    "task2 = '''\n",
    "SELECT count(trackid) 'Tracks per album'\n",
    "FROM tracks t \n",
    "   JOIN albums ab ON t.albumid = ab.albumid \n",
    "GROUP BY ab.albumid\n",
    "ORDER BY count(trackid) DESC\n",
    "'''\n",
    "\n",
    "cursor.execute(task2)\n",
    "\n",
    "print(get_header(cursor))\n",
    "print(get_results(cursor))"
   ]
  },
  {
   "cell_type": "markdown",
   "metadata": {},
   "source": [
    "Check the list of aggregate functions - we see that for mean we use avg()  \n",
    "https://www.sqlite.org/lang_aggfunc.html"
   ]
  },
  {
   "cell_type": "code",
   "execution_count": 54,
   "metadata": {},
   "outputs": [
    {
     "name": "stdout",
     "output_type": "stream",
     "text": [
      "Mean number of tracks per album\n",
      "10.095100864553315\n"
     ]
    }
   ],
   "source": [
    "# let's do the mean of the results from the previous select \n",
    "# a select returns data in a table format so we can select from the result of a select\n",
    "\n",
    "task2 = '''\n",
    "SELECT avg(c) 'Mean number of tracks per album'\n",
    "FROM\n",
    "    (SELECT count(trackid) c\n",
    "    FROM tracks t \n",
    "       JOIN albums ab ON t.albumid = ab.albumid \n",
    "    GROUP BY ab.albumid)\n",
    "'''\n",
    "\n",
    "cursor.execute(task2)\n",
    "\n",
    "print(get_header(cursor))\n",
    "print(get_results(cursor))"
   ]
  },
  {
   "cell_type": "code",
   "execution_count": 55,
   "metadata": {},
   "outputs": [
    {
     "name": "stdout",
     "output_type": "stream",
     "text": [
      "Name\tTitle\tName\n",
      "Metallica\t...And Justice For All\t...And Justice For All\n",
      "Metallica\t...And Justice For All\tBlackened\n",
      "Metallica\t...And Justice For All\tDyers Eve\n",
      "Metallica\t...And Justice For All\tEye Of The Beholder\n",
      "Metallica\t...And Justice For All\tHarvester Of Sorrow\n",
      "Metallica\t...And Justice For All\tOne\n",
      "Metallica\t...And Justice For All\tThe Frayed Ends Of Sanity\n",
      "Metallica\t...And Justice For All\tThe Shortest Straw\n",
      "Metallica\t...And Justice For All\tTo Live Is To Die\n",
      "Metallica\tBlack Album\tDon't Tread On Me\n",
      "Metallica\tBlack Album\tEnter Sandman\n",
      "Metallica\tBlack Album\tHolier Than Thou\n",
      "Metallica\tBlack Album\tMy Friend Of Misery\n",
      "Metallica\tBlack Album\tNothing Else Matters\n",
      "Metallica\tBlack Album\tOf Wolf And Man\n",
      "Metallica\tBlack Album\tSad But True\n",
      "Metallica\tBlack Album\tThe God That Failed\n",
      "Metallica\tBlack Album\tThe Struggle Within\n",
      "Metallica\tBlack Album\tThe Unforgiven\n",
      "Metallica\tBlack Album\tThrough The Never\n",
      "Metallica\tBlack Album\tWherever I May Roam\n",
      "Metallica\tGarage Inc. (Disc 1)\tAstronomy\n",
      "Metallica\tGarage Inc. (Disc 1)\tDie Die My Darling\n",
      "Metallica\tGarage Inc. (Disc 1)\tFree Speech For The Dumb\n",
      "Metallica\tGarage Inc. (Disc 1)\tIt's Electric\n",
      "Metallica\tGarage Inc. (Disc 1)\tLoverman\n",
      "Metallica\tGarage Inc. (Disc 1)\tMercyful Fate\n",
      "Metallica\tGarage Inc. (Disc 1)\tSabbra Cadabra\n",
      "Metallica\tGarage Inc. (Disc 1)\tThe More I See\n",
      "Metallica\tGarage Inc. (Disc 1)\tTuesday's Gone\n",
      "Metallica\tGarage Inc. (Disc 1)\tTurn The Page\n",
      "Metallica\tGarage Inc. (Disc 1)\tWhiskey In The Jar\n",
      "Metallica\tGarage Inc. (Disc 2)\tAm I Evil?\n",
      "Metallica\tGarage Inc. (Disc 2)\tBlitzkrieg\n",
      "Metallica\tGarage Inc. (Disc 2)\tBreadfan\n",
      "Metallica\tGarage Inc. (Disc 2)\tCrash Course In Brain Surgery\n",
      "Metallica\tGarage Inc. (Disc 2)\tDamage Case\n",
      "Metallica\tGarage Inc. (Disc 2)\tHelpless\n",
      "Metallica\tGarage Inc. (Disc 2)\tKilling Time\n",
      "Metallica\tGarage Inc. (Disc 2)\tLast Caress/Green Hell\n",
      "Metallica\tGarage Inc. (Disc 2)\tOverkill\n",
      "Metallica\tGarage Inc. (Disc 2)\tSo What\n",
      "Metallica\tGarage Inc. (Disc 2)\tStone Cold Crazy\n",
      "Metallica\tGarage Inc. (Disc 2)\tStone Dead Forever\n",
      "Metallica\tGarage Inc. (Disc 2)\tThe Prince\n",
      "Metallica\tGarage Inc. (Disc 2)\tThe Small Hours\n",
      "Metallica\tGarage Inc. (Disc 2)\tThe Wait\n",
      "Metallica\tGarage Inc. (Disc 2)\tToo Late Too Late\n",
      "Metallica\tKill 'Em All\t(Anesthesia) Pulling Teeth\n",
      "Metallica\tKill 'Em All\tHit The Lights\n",
      "Metallica\tKill 'Em All\tJump In The Fire\n",
      "Metallica\tKill 'Em All\tMetal Militia\n",
      "Metallica\tKill 'Em All\tMotorbreath\n",
      "Metallica\tKill 'Em All\tNo Remorse\n",
      "Metallica\tKill 'Em All\tPhantom Lord\n",
      "Metallica\tKill 'Em All\tSeek & Destroy\n",
      "Metallica\tKill 'Em All\tThe Four Horsemen\n",
      "Metallica\tKill 'Em All\tWhiplash\n",
      "Metallica\tLoad\t2 X 4\n",
      "Metallica\tLoad\tAin't My Bitch\n",
      "Metallica\tLoad\tBleeding Me\n",
      "Metallica\tLoad\tCure\n",
      "Metallica\tLoad\tHero Of The Day\n",
      "Metallica\tLoad\tKing Nothing\n",
      "Metallica\tLoad\tMama Said\n",
      "Metallica\tLoad\tPoor Twisted Me\n",
      "Metallica\tLoad\tRonnie\n",
      "Metallica\tLoad\tThe House Jack Built\n",
      "Metallica\tLoad\tThe Outlaw Torn\n",
      "Metallica\tLoad\tThorn Within\n",
      "Metallica\tLoad\tUntil It Sleeps\n",
      "Metallica\tLoad\tWasted My Hate\n",
      "Metallica\tMaster Of Puppets\tBattery\n",
      "Metallica\tMaster Of Puppets\tDamage Inc.\n",
      "Metallica\tMaster Of Puppets\tDisposable Heroes\n",
      "Metallica\tMaster Of Puppets\tLeper Messiah\n",
      "Metallica\tMaster Of Puppets\tMaster Of Puppets\n",
      "Metallica\tMaster Of Puppets\tOrion\n",
      "Metallica\tMaster Of Puppets\tThe Thing That Should Not Be\n",
      "Metallica\tMaster Of Puppets\tWelcome Home (Sanitarium)\n",
      "Metallica\tReLoad\tAttitude\n",
      "Metallica\tReLoad\tBad Seed\n",
      "Metallica\tReLoad\tBetter Than You\n",
      "Metallica\tReLoad\tCarpe Diem Baby\n",
      "Metallica\tReLoad\tDevil's Dance\n",
      "Metallica\tReLoad\tFixxxer\n",
      "Metallica\tReLoad\tFuel\n",
      "Metallica\tReLoad\tLow Man's Lyric\n",
      "Metallica\tReLoad\tPrince Charming\n",
      "Metallica\tReLoad\tSlither\n",
      "Metallica\tReLoad\tThe Memory Remains\n",
      "Metallica\tReLoad\tThe Unforgiven II\n",
      "Metallica\tReLoad\tWhere The Wild Things Are\n",
      "Metallica\tRide The Lightning\tCreeping Death\n",
      "Metallica\tRide The Lightning\tEscape\n",
      "Metallica\tRide The Lightning\tFade To Black\n",
      "Metallica\tRide The Lightning\tFight Fire With Fire\n",
      "Metallica\tRide The Lightning\tFor Whom The Bell Tolls\n",
      "Metallica\tRide The Lightning\tRide The Lightning\n",
      "Metallica\tRide The Lightning\tThe Call Of Ktulu\n",
      "Metallica\tRide The Lightning\tTrapped Under Ice\n",
      "Metallica\tSt. Anger\tAll Within My Hands\n",
      "Metallica\tSt. Anger\tDirty Window\n",
      "Metallica\tSt. Anger\tFrantic\n",
      "Metallica\tSt. Anger\tInvisible Kid\n",
      "Metallica\tSt. Anger\tMy World\n",
      "Metallica\tSt. Anger\tPurify\n",
      "Metallica\tSt. Anger\tShoot Me Again\n",
      "Metallica\tSt. Anger\tSome Kind Of Monster\n",
      "Metallica\tSt. Anger\tSt. Anger\n",
      "Metallica\tSt. Anger\tSweet Amber\n",
      "Metallica\tSt. Anger\tThe Unnamed Feeling\n"
     ]
    }
   ],
   "source": [
    "# task3: For a given artist, retrieve all the albums (name), \n",
    "# and tracks (name), they are associated with.\n",
    "\n",
    "task3 = '''\n",
    "SELECT  a.name, title, t.name\n",
    "FROM tracks t \n",
    "   JOIN albums ab ON t.albumid = ab.albumid \n",
    "   JOIN artists a ON ab.artistid = a.artistid\n",
    "WHERE a.name = \"Metallica\"\n",
    "ORDER BY title, t.name\n",
    "'''\n",
    "\n",
    "cursor.execute(task3)\n",
    "\n",
    "print(get_header(cursor))\n",
    "print(get_results(cursor))"
   ]
  },
  {
   "cell_type": "code",
   "execution_count": 56,
   "metadata": {},
   "outputs": [
    {
     "name": "stdout",
     "output_type": "stream",
     "text": [
      "Name\tTitle\tName\n",
      "AC/DC\tFor Those About To Rock We Salute You\tBreaking The Rules\n",
      "AC/DC\tFor Those About To Rock We Salute You\tC.O.D.\n",
      "AC/DC\tFor Those About To Rock We Salute You\tEvil Walks\n",
      "AC/DC\tFor Those About To Rock We Salute You\tFor Those About To Rock (We Salute You)\n",
      "AC/DC\tFor Those About To Rock We Salute You\tInject The Venom\n",
      "AC/DC\tFor Those About To Rock We Salute You\tLet's Get It Up\n",
      "AC/DC\tFor Those About To Rock We Salute You\tNight Of The Long Knives\n",
      "AC/DC\tFor Those About To Rock We Salute You\tPut The Finger On You\n",
      "AC/DC\tFor Those About To Rock We Salute You\tSnowballed\n",
      "AC/DC\tFor Those About To Rock We Salute You\tSpellbound\n",
      "AC/DC\tLet There Be Rock\tBad Boy Boogie\n",
      "AC/DC\tLet There Be Rock\tDog Eat Dog\n",
      "AC/DC\tLet There Be Rock\tGo Down\n",
      "AC/DC\tLet There Be Rock\tHell Ain't A Bad Place To Be\n",
      "AC/DC\tLet There Be Rock\tLet There Be Rock\n",
      "AC/DC\tLet There Be Rock\tOverdose\n",
      "AC/DC\tLet There Be Rock\tProblem Child\n",
      "AC/DC\tLet There Be Rock\tWhole Lotta Rosie\n"
     ]
    }
   ],
   "source": [
    "# if we want to make a generic select where we supply the artist name\n",
    "task3 = '''\n",
    "SELECT  a.name, title, t.name\n",
    "FROM tracks t \n",
    "   JOIN albums ab ON t.albumid = ab.albumid \n",
    "   JOIN artists a ON ab.artistid = a.artistid\n",
    "WHERE a.name = ?\n",
    "ORDER BY title, t.name\n",
    "'''\n",
    "\n",
    "cursor.execute(task3, [\"AC/DC\"])\n",
    "\n",
    "print(get_header(cursor))\n",
    "print(get_results(cursor))"
   ]
  },
  {
   "cell_type": "code",
   "execution_count": 57,
   "metadata": {},
   "outputs": [],
   "source": [
    "# answer more interesting questions here"
   ]
  },
  {
   "cell_type": "code",
   "execution_count": 58,
   "metadata": {},
   "outputs": [],
   "source": [
    "# when we are done working with the database\n",
    "# close the cursor and the connection\n",
    "\n",
    "cursor.close()\n",
    "connection.close()\n"
   ]
  },
  {
   "cell_type": "code",
   "execution_count": null,
   "metadata": {},
   "outputs": [],
   "source": []
  }
 ],
 "metadata": {
  "kernelspec": {
   "display_name": "Python 3 (ipykernel)",
   "language": "python",
   "name": "python3"
  },
  "language_info": {
   "codemirror_mode": {
    "name": "ipython",
    "version": 3
   },
   "file_extension": ".py",
   "mimetype": "text/x-python",
   "name": "python",
   "nbconvert_exporter": "python",
   "pygments_lexer": "ipython3",
   "version": "3.8.10"
  }
 },
 "nbformat": 4,
 "nbformat_minor": 4
}
