{
 "cells": [
  {
   "cell_type": "markdown",
   "metadata": {},
   "source": [
    "#### SOLUTION"
   ]
  },
  {
   "cell_type": "markdown",
   "metadata": {
    "tags": []
   },
   "source": [
    "### Study session 10 - more bioinformatics: pandas, visualization and OOP \n",
    "\n",
    "#### BIOINF 575 - Fall 2022\n",
    "\n",
    "\n"
   ]
  },
  {
   "cell_type": "markdown",
   "metadata": {
    "tags": []
   },
   "source": [
    "___\n",
    "\n",
    "#### <font color = \"red\">Exercise</font>\n",
    "\n",
    "#### Implement the following class: \n",
    "\n",
    "The `Patient` class should have the following attributes as read-only properties (read-only = cannot be set through assignment outside of the class): `name`, `age`, `height`, `weight`, `BMI`, `status` (Inpatient/Outpatient), `diseases` (list of str), `disease_no`.    \n",
    "It also should have 4 methods: `add_disease`, `update_weight`, `update_status`, `backup` (creates a patient with the same name, age, height, weight, diseases and status) \n",
    "\n",
    "BMI formula: 703 x weight (lbs) / [height (in)]2        \n",
    "https://www.cdc.gov/healthyweight/assessing/bmi/adult_bmi/index.html\n",
    "\n",
    "\n"
   ]
  },
  {
   "cell_type": "code",
   "execution_count": 1,
   "metadata": {},
   "outputs": [],
   "source": [
    "# Write your solution here\n"
   ]
  },
  {
   "cell_type": "code",
   "execution_count": 2,
   "metadata": {},
   "outputs": [],
   "source": [
    "# implement the __init__ method \n",
    "# in __init__ we create custom attributes, to hide them we use __ :  name, age, ....\n",
    "# implement __str__ and __repr__ methods to be able to display the object \n",
    "\n",
    "class Patient:\n",
    "    \"\"\"\n",
    "    Stores the information for a patient\n",
    "    Attributes:\n",
    "        name(str): patient name (first last)\n",
    "        age(int): patient age in years \n",
    "        height(float): patient height in inches \n",
    "        weight(float): patient weight in lbs \n",
    "        BMI: patient body mass index computed from height and weight with the formula 703 x weight (lbs) / [height (in)]2\n",
    "        status(str): Patient status: one of Inpatient or Outpatient\n",
    "        diseases (list of str): list of diseases the patient has \n",
    "        disease_no(int): number of diseases the patient has\n",
    "    Methods:\n",
    "        add_disease(str): adds an element to the disease list - updates number_of_diseases\n",
    "        update_weight(float): changes the weight attribute to the given value \n",
    "        update_status(): changes the status (Inpatient -> Outpatient or Outpatient -> Inpatient) \n",
    "        backup(): creates a patient with the same name, age, height, weight, diseases and status\n",
    "    \"\"\"\n",
    "    \n",
    "    def __init__(self, name = None, age = None, height = None, weight = None, status = \"Outpatient\", diseases = None):\n",
    "        self.__name = name\n",
    "        self.__age = age \n",
    "        self.__height = height\n",
    "        self.__weight = weight \n",
    "        self.__BMI = None\n",
    "        if self.__height and self.__weight:\n",
    "            self.__BMI = 703 * self.__weight / (self.__height)**2\n",
    "        self.__status = status\n",
    "        self.__diseases = diseases\n",
    "        if not self.__diseases:\n",
    "            self.__diseases = []\n",
    "        self.__disease_no = len(self.__diseases)\n",
    "    \n",
    "    def __str__(self):\n",
    "        return f'Patient({self.__name}, {self.__age}, {self.__height}, {self.__weight}, {self.__status}, {self.__diseases})'\n",
    "    \n",
    "    def __repr__(self):\n",
    "        return f'Patient({self.__name}, {self.__age}, {self.__height}, {self.__weight}, {self.__status}, {self.__diseases})'\n",
    "        \n",
    "\n",
    "    @property\n",
    "    def name(self):\n",
    "        return self.__name\n",
    "    \n",
    "    @property\n",
    "    def age(self):\n",
    "        return self.__age\n",
    "    \n",
    "    @property\n",
    "    def status(self):\n",
    "        return self.__status\n",
    "\n",
    "    @property\n",
    "    def weight(self):\n",
    "        return self.__weight \n",
    "\n",
    "    @property\n",
    "    def height(self):\n",
    "        return self.__height \n",
    "    \n",
    "    @property\n",
    "    def BMI(self):\n",
    "        return self.__BMI\n",
    "    \n",
    "    @property\n",
    "    def diseases(self):\n",
    "        return self.__diseases \n",
    "    \n",
    "    @property\n",
    "    def disease_no(self):\n",
    "        return self.__disease_no \n",
    "    \n",
    "    \n",
    "    def add_disease(self, disease_name):\n",
    "        self.__diseases.append(disease_name) \n",
    "        self.__disease_no = len(self.__diseases)\n",
    "    \n",
    "    def update_weight(self, new_weight):\n",
    "        self.__weight = new_weight\n",
    "        if self.__height and self.__weight:\n",
    "            self.__BMI = 703 * self.__weight / (self.__height)**2\n",
    "    \n",
    "    def update_status(self):\n",
    "        if self.__status == \"Inpatient\":\n",
    "            self.__status = \"Outpatient\"\n",
    "        else:\n",
    "            self.__status = \"Inpatient\"    \n",
    "    \n",
    "    def backup(self):\n",
    "        return Patient(self.__name, self.__age, self.__height, self.__weight, self.__status, self.__diseases)\n",
    "    "
   ]
  },
  {
   "cell_type": "code",
   "execution_count": 3,
   "metadata": {},
   "outputs": [
    {
     "name": "stdout",
     "output_type": "stream",
     "text": [
      "None\n",
      "None\n",
      "0\n",
      "[]\n",
      "Outpatient\n"
     ]
    }
   ],
   "source": [
    "# test the class\n",
    "\n",
    "p = Patient()\n",
    "print(p.name)\n",
    "print(p.weight)\n",
    "print(p.disease_no)\n",
    "print(p.diseases)\n",
    "print(p.status)\n"
   ]
  },
  {
   "cell_type": "code",
   "execution_count": 4,
   "metadata": {},
   "outputs": [
    {
     "name": "stdout",
     "output_type": "stream",
     "text": [
      "Test Patient\n",
      "170\n",
      "23.053626543209877\n",
      "0\n",
      "Outpatient\n"
     ]
    }
   ],
   "source": [
    "p = Patient(\"Test Patient\", 40, 72, 170)\n",
    "print(p.name)\n",
    "print(p.weight)\n",
    "print(p.BMI)\n",
    "print(p.disease_no)\n",
    "print(p.status)"
   ]
  },
  {
   "cell_type": "code",
   "execution_count": null,
   "metadata": {},
   "outputs": [],
   "source": []
  },
  {
   "cell_type": "code",
   "execution_count": 5,
   "metadata": {},
   "outputs": [
    {
     "data": {
      "text/plain": [
       "23.053626543209877"
      ]
     },
     "execution_count": 5,
     "metadata": {},
     "output_type": "execute_result"
    }
   ],
   "source": [
    "703 * 170/(72)**2"
   ]
  },
  {
   "cell_type": "code",
   "execution_count": 6,
   "metadata": {},
   "outputs": [
    {
     "data": {
      "text/plain": [
       "Patient(Test Patient, 40, 72, 170, Outpatient, [])"
      ]
     },
     "execution_count": 6,
     "metadata": {},
     "output_type": "execute_result"
    }
   ],
   "source": [
    "p"
   ]
  },
  {
   "cell_type": "code",
   "execution_count": 7,
   "metadata": {},
   "outputs": [
    {
     "data": {
      "text/plain": [
       "Patient(Test Patient, 40, 72, 170, Inpatient, [])"
      ]
     },
     "execution_count": 7,
     "metadata": {},
     "output_type": "execute_result"
    }
   ],
   "source": [
    "p.update_status()\n",
    "p"
   ]
  },
  {
   "cell_type": "code",
   "execution_count": 8,
   "metadata": {},
   "outputs": [
    {
     "data": {
      "text/plain": [
       "24.40972222222222"
      ]
     },
     "execution_count": 8,
     "metadata": {},
     "output_type": "execute_result"
    }
   ],
   "source": [
    "p.update_weight(180)\n",
    "p.BMI"
   ]
  },
  {
   "cell_type": "code",
   "execution_count": 9,
   "metadata": {},
   "outputs": [
    {
     "name": "stdout",
     "output_type": "stream",
     "text": [
      "['Cold']\n",
      "1\n"
     ]
    }
   ],
   "source": [
    "p.add_disease(\"Cold\")\n",
    "print(p.diseases)\n",
    "print(p.disease_no)"
   ]
  },
  {
   "cell_type": "code",
   "execution_count": null,
   "metadata": {},
   "outputs": [],
   "source": []
  },
  {
   "cell_type": "code",
   "execution_count": 10,
   "metadata": {},
   "outputs": [
    {
     "name": "stdout",
     "output_type": "stream",
     "text": [
      "['Cold', 'Headache']\n",
      "1\n"
     ]
    }
   ],
   "source": [
    "# if we update only the disease list we have inconsistent data\n",
    "p.diseases.append(\"Headache\")\n",
    "print(p.diseases)\n",
    "print(p.disease_no)"
   ]
  },
  {
   "cell_type": "code",
   "execution_count": null,
   "metadata": {},
   "outputs": [],
   "source": []
  },
  {
   "cell_type": "markdown",
   "metadata": {},
   "source": [
    "___\n",
    "\n",
    "#### <font color = \"red\">Exercise</font>\n",
    "\n",
    "#### Implement the following classes: \n",
    "\n",
    "The `Gene` class should have an id (`gid`), `symbol` and `description`.   \n",
    "The `GO_term` class should have a GO term id (`gtid`) and `name`.     \n",
    "The `Gene_goTerm` class should have the `gene_id` and the `GO_term_id`. \n",
    "* <b>Create a list of genes, a list of GO terms, and a list of gene to GO term elements from the file `genes_info1.txt`   \n",
    "* <b>Create pandas data frames from the above lists (look into the vars function, and \\_\\_dict\\_\\_ attribute for an object)\n"
   ]
  },
  {
   "cell_type": "code",
   "execution_count": 11,
   "metadata": {},
   "outputs": [],
   "source": [
    "# Write your solution here\n",
    "\n",
    "\n"
   ]
  },
  {
   "cell_type": "markdown",
   "metadata": {},
   "source": [
    "#### Implement the following classes: Gene, GOTerm, GENEGOTerm"
   ]
  },
  {
   "cell_type": "code",
   "execution_count": 12,
   "metadata": {},
   "outputs": [],
   "source": [
    "# implement the Gene class\n",
    "# implement the __init__ method \n",
    "# in __init__ we create custom attributes:  gid, symbol and description\n",
    "# implement __str__ and __repr__ methods to be able to display the object \n",
    "# implement the __eq__ method to be able to chech equality between Gnee objects\n",
    "\n",
    "class Gene:\n",
    "    def __init__(self,  gid, sym, desc): \n",
    "        # checks can be done to make sure the data is not missing and \n",
    "        # each parameter should ahve the correct type\n",
    "        self.gid = gid\n",
    "        self.symbol = sym\n",
    "        self.description = desc\n",
    "        \n",
    "    def __str__(self):\n",
    "        return f\"Gene({self.gid},'{self.symbol}','{self.description}')\"\n",
    "    \n",
    "    def __repr__(self):\n",
    "        return f\"Gene({self.gid},'{self.symbol}','{self.description}')\"\n",
    "    \n",
    "    def __eq__(self, g):\n",
    "        return self.gid == g.gid and self.symbol == g.symbol and self.description == g.description\n",
    "    \n",
    "    "
   ]
  },
  {
   "cell_type": "code",
   "execution_count": 13,
   "metadata": {},
   "outputs": [
    {
     "data": {
      "text/plain": [
       "Gene(2,'GSYM','Gene for testing')"
      ]
     },
     "execution_count": 13,
     "metadata": {},
     "output_type": "execute_result"
    }
   ],
   "source": [
    "# test \n",
    "\n",
    "g = Gene(2, \"GSYM\", \"Gene for testing\")\n",
    "g"
   ]
  },
  {
   "cell_type": "code",
   "execution_count": null,
   "metadata": {},
   "outputs": [],
   "source": []
  },
  {
   "cell_type": "code",
   "execution_count": 14,
   "metadata": {},
   "outputs": [],
   "source": [
    "# implement the GOTerm class\n",
    "# implement the __init__ method \n",
    "# in __init__ we create custom attributes:  gid, symbol and description\n",
    "# implement __str__ and __repr__ methods to be able to display the object \n",
    "\n",
    "class GOTerm:\n",
    "    def __init__(self,  gtid, name): \n",
    "        # checks can be done to make sure the data is not missing and \n",
    "        # each parameter should ahve the correct type\n",
    "        self.gtid = gtid\n",
    "        self.name = name\n",
    "        \n",
    "    def __str__(self):\n",
    "        return f\"GOTerm({self.gtid},'{self.name}')\"\n",
    "    \n",
    "    def __repr__(self):\n",
    "        return f\"GOTerm({self.gtid},'{self.name}')\"\n",
    "        \n",
    "   "
   ]
  },
  {
   "cell_type": "code",
   "execution_count": 15,
   "metadata": {},
   "outputs": [
    {
     "data": {
      "text/plain": [
       "GOTerm(5,'Cell adhesion')"
      ]
     },
     "execution_count": 15,
     "metadata": {},
     "output_type": "execute_result"
    }
   ],
   "source": [
    "# test\n",
    "\n",
    "gt = GOTerm(5, \"Cell adhesion\")\n",
    "gt"
   ]
  },
  {
   "cell_type": "code",
   "execution_count": null,
   "metadata": {},
   "outputs": [],
   "source": []
  },
  {
   "cell_type": "code",
   "execution_count": 16,
   "metadata": {},
   "outputs": [],
   "source": [
    "# implement the GeneGOTerm class\n",
    "# implement the __init__ method \n",
    "# in __init__ we create custom attributes:  gid, symbol and description\n",
    "# implement __str__ and __repr__ methods to be able to display the object \n",
    "\n",
    "class GeneGOTerm:\n",
    "    def __init__(self,  gid, gtid): \n",
    "        # checks can be done to make sure the data is not missing and \n",
    "        # each parameter should ahve the correct type\n",
    "        self.gene_id = gid\n",
    "        self.GO_term_id = gtid\n",
    "        \n",
    "    def __str__(self):\n",
    "        return f\"GeneGOTerm({self.gene_id},'{self.GO_term_id}')\"\n",
    "    \n",
    "    def __repr__(self):\n",
    "        return f\"GeneGOTerm({self.gene_id},'{self.GO_term_id}')\"\n",
    "        \n",
    "   "
   ]
  },
  {
   "cell_type": "code",
   "execution_count": 17,
   "metadata": {},
   "outputs": [
    {
     "data": {
      "text/plain": [
       "GeneGOTerm(2,'5')"
      ]
     },
     "execution_count": 17,
     "metadata": {},
     "output_type": "execute_result"
    }
   ],
   "source": [
    "# test \n",
    "ggt = GeneGOTerm(2, 5)\n",
    "ggt"
   ]
  },
  {
   "cell_type": "code",
   "execution_count": null,
   "metadata": {},
   "outputs": [],
   "source": []
  },
  {
   "cell_type": "markdown",
   "metadata": {},
   "source": [
    "#### Create a list of genes, a list of GO terms, and a list of gene to GO term elements from the file `genes_info1.txt`"
   ]
  },
  {
   "cell_type": "code",
   "execution_count": 18,
   "metadata": {},
   "outputs": [],
   "source": [
    "# initialize variables for the three lists\n",
    "genes_lst = []\n",
    "go_terms_lst = []\n",
    "genes_go_terms_lst = []\n",
    "# a list with the go terms description of \n",
    "# the go terms we already created \n",
    "# so we don't have duplicates\n",
    "terms_lst = []\n",
    "\n",
    "# read lines from the file one by one\n",
    "file_name = \"genes_info1.txt\"\n",
    "with open(file_name) as gene_file:\n",
    "    header_line = gene_file.readline()\n",
    "    for line in gene_file:\n",
    "        line_list = line.strip().split(\"\\t\")\n",
    "        # Create a Gene object and add it to the list\n",
    "        # *line_list[:3] will take the first three values from the list \n",
    "        # and pass them as values for the first three parameters of the function\n",
    "        # gid, sym and desc\n",
    "        genes_lst.append(Gene(*line_list[:3]))\n",
    "        \n",
    "        # The last column in the file contains the GO terms separated by \";\" \n",
    "        # that is the last element in the line_list for any given line\n",
    "        for go_term in line_list[-1].strip().split(\";\"):\n",
    "            if (go_term not in terms_lst):\n",
    "                terms_lst.append(go_term)\n",
    "                go_terms_lst.append(GOTerm(len(terms_lst), go_term))\n",
    "            gene_id = line_list[0]\n",
    "            go_term_id = terms_lst.index(go_term) + 1\n",
    "            genes_go_terms_lst.append(GeneGOTerm(gene_id, go_term_id))\n"
   ]
  },
  {
   "cell_type": "code",
   "execution_count": 19,
   "metadata": {},
   "outputs": [
    {
     "data": {
      "text/plain": [
       "[Gene(672,'BRCA1','BRCA1 DNA repair associated'),\n",
       " Gene(675,'BRCA2','BRCA2 DNA repair associated'),\n",
       " Gene(7157,'TP53','tumor protein p53'),\n",
       " Gene(10296,'MAEA','macrophage erythroblast attacher, E3 ubiquitin ligase'),\n",
       " Gene(7040,'TGFB1','transforming growth factor beta 1'),\n",
       " Gene(64926,'RASAL3','RAS protein activator like 3')]"
      ]
     },
     "execution_count": 19,
     "metadata": {},
     "output_type": "execute_result"
    }
   ],
   "source": [
    "genes_lst"
   ]
  },
  {
   "cell_type": "code",
   "execution_count": 20,
   "metadata": {},
   "outputs": [
    {
     "data": {
      "text/plain": [
       "[GOTerm(1,'intrinsic apoptotic signaling pathway in response to DNA damage'),\n",
       " GOTerm(2,'transcription cis-regulatory region binding'),\n",
       " GOTerm(3,'transcription coactivator activity'),\n",
       " GOTerm(4,'ubiquitin-protein transferase activity'),\n",
       " GOTerm(5,'histone acetyltransferase activity'),\n",
       " GOTerm(6,'protease binding'),\n",
       " GOTerm(7,'single-stranded DNA binding'),\n",
       " GOTerm(8,'protein binding'),\n",
       " GOTerm(9,'negative regulation of transcription, DNA-templated'),\n",
       " GOTerm(10,'positive regulation of transcription by RNA polymerase II'),\n",
       " GOTerm(11,'promoter-specific chromatin binding'),\n",
       " GOTerm(12,'circadian behavior'),\n",
       " GOTerm(13,'cell adhesion')]"
      ]
     },
     "execution_count": 20,
     "metadata": {},
     "output_type": "execute_result"
    }
   ],
   "source": [
    "go_terms_lst"
   ]
  },
  {
   "cell_type": "code",
   "execution_count": 21,
   "metadata": {},
   "outputs": [
    {
     "data": {
      "text/plain": [
       "[GeneGOTerm(672,'1'),\n",
       " GeneGOTerm(672,'2'),\n",
       " GeneGOTerm(672,'3'),\n",
       " GeneGOTerm(672,'4'),\n",
       " GeneGOTerm(675,'5'),\n",
       " GeneGOTerm(675,'6'),\n",
       " GeneGOTerm(675,'7'),\n",
       " GeneGOTerm(675,'8'),\n",
       " GeneGOTerm(7157,'9'),\n",
       " GeneGOTerm(7157,'10'),\n",
       " GeneGOTerm(7157,'11'),\n",
       " GeneGOTerm(7157,'12'),\n",
       " GeneGOTerm(10296,'13'),\n",
       " GeneGOTerm(10296,'8'),\n",
       " GeneGOTerm(10296,'11'),\n",
       " GeneGOTerm(7040,'13'),\n",
       " GeneGOTerm(7040,'8'),\n",
       " GeneGOTerm(64926,'13'),\n",
       " GeneGOTerm(64926,'8'),\n",
       " GeneGOTerm(64926,'6')]"
      ]
     },
     "execution_count": 21,
     "metadata": {},
     "output_type": "execute_result"
    }
   ],
   "source": [
    "genes_go_terms_lst"
   ]
  },
  {
   "cell_type": "code",
   "execution_count": null,
   "metadata": {},
   "outputs": [],
   "source": []
  },
  {
   "cell_type": "markdown",
   "metadata": {},
   "source": [
    "#### Create pandas data frames from the above lists \n",
    "##### look into the `vars` function, and `__dict__` attribute for an object"
   ]
  },
  {
   "cell_type": "code",
   "execution_count": 22,
   "metadata": {},
   "outputs": [
    {
     "name": "stdout",
     "output_type": "stream",
     "text": [
      "{'gid': 2, 'symbol': 'GSYM', 'description': 'Gene for testing'}\n"
     ]
    }
   ],
   "source": [
    "# To create a dataframe from an object we can use the __dict__ attribute or the vars() function\n",
    "\n",
    "print(g.__dict__)"
   ]
  },
  {
   "cell_type": "code",
   "execution_count": 23,
   "metadata": {},
   "outputs": [
    {
     "name": "stdout",
     "output_type": "stream",
     "text": [
      "Help on built-in function vars in module builtins:\n",
      "\n",
      "vars(...)\n",
      "    vars([object]) -> dictionary\n",
      "    \n",
      "    Without arguments, equivalent to locals().\n",
      "    With an argument, equivalent to object.__dict__.\n",
      "\n"
     ]
    }
   ],
   "source": [
    "help(vars)"
   ]
  },
  {
   "cell_type": "code",
   "execution_count": 24,
   "metadata": {},
   "outputs": [
    {
     "data": {
      "text/html": [
       "<div>\n",
       "<style scoped>\n",
       "    .dataframe tbody tr th:only-of-type {\n",
       "        vertical-align: middle;\n",
       "    }\n",
       "\n",
       "    .dataframe tbody tr th {\n",
       "        vertical-align: top;\n",
       "    }\n",
       "\n",
       "    .dataframe thead th {\n",
       "        text-align: right;\n",
       "    }\n",
       "</style>\n",
       "<table border=\"1\" class=\"dataframe\">\n",
       "  <thead>\n",
       "    <tr style=\"text-align: right;\">\n",
       "      <th></th>\n",
       "      <th>gid</th>\n",
       "      <th>symbol</th>\n",
       "      <th>description</th>\n",
       "    </tr>\n",
       "  </thead>\n",
       "  <tbody>\n",
       "    <tr>\n",
       "      <th>0</th>\n",
       "      <td>2</td>\n",
       "      <td>GSYM</td>\n",
       "      <td>Gene for testing</td>\n",
       "    </tr>\n",
       "  </tbody>\n",
       "</table>\n",
       "</div>"
      ],
      "text/plain": [
       "   gid symbol       description\n",
       "0    2   GSYM  Gene for testing"
      ]
     },
     "execution_count": 24,
     "metadata": {},
     "output_type": "execute_result"
    }
   ],
   "source": [
    "# we can create a dataframe from a dictionary if we have the columns as keys\n",
    "# help(pd.DataFrame.from_dict)\n",
    "\n",
    "# we can create a dataframe from a list of dictionaries \n",
    "# if we have each dictionary with the same key\n",
    "# each dictionary in the list is a row\n",
    "# help(pd.DataFrame.from_records)\n",
    "\n",
    "import numpy as np\n",
    "import pandas as pd\n",
    "\n",
    "pd.DataFrame.from_records([vars(g)])"
   ]
  },
  {
   "cell_type": "code",
   "execution_count": 25,
   "metadata": {},
   "outputs": [
    {
     "data": {
      "text/plain": [
       "[{'gid': '672',\n",
       "  'symbol': 'BRCA1',\n",
       "  'description': 'BRCA1 DNA repair associated'},\n",
       " {'gid': '675',\n",
       "  'symbol': 'BRCA2',\n",
       "  'description': 'BRCA2 DNA repair associated'},\n",
       " {'gid': '7157', 'symbol': 'TP53', 'description': 'tumor protein p53'},\n",
       " {'gid': '10296',\n",
       "  'symbol': 'MAEA',\n",
       "  'description': 'macrophage erythroblast attacher, E3 ubiquitin ligase'},\n",
       " {'gid': '7040',\n",
       "  'symbol': 'TGFB1',\n",
       "  'description': 'transforming growth factor beta 1'},\n",
       " {'gid': '64926',\n",
       "  'symbol': 'RASAL3',\n",
       "  'description': 'RAS protein activator like 3'}]"
      ]
     },
     "execution_count": 25,
     "metadata": {},
     "output_type": "execute_result"
    }
   ],
   "source": [
    "# let's create the list of dictionaries\n",
    "\n",
    "[vars(gene) for gene in genes_lst]"
   ]
  },
  {
   "cell_type": "code",
   "execution_count": 26,
   "metadata": {},
   "outputs": [
    {
     "data": {
      "text/html": [
       "<div>\n",
       "<style scoped>\n",
       "    .dataframe tbody tr th:only-of-type {\n",
       "        vertical-align: middle;\n",
       "    }\n",
       "\n",
       "    .dataframe tbody tr th {\n",
       "        vertical-align: top;\n",
       "    }\n",
       "\n",
       "    .dataframe thead th {\n",
       "        text-align: right;\n",
       "    }\n",
       "</style>\n",
       "<table border=\"1\" class=\"dataframe\">\n",
       "  <thead>\n",
       "    <tr style=\"text-align: right;\">\n",
       "      <th></th>\n",
       "      <th>gid</th>\n",
       "      <th>symbol</th>\n",
       "      <th>description</th>\n",
       "    </tr>\n",
       "  </thead>\n",
       "  <tbody>\n",
       "    <tr>\n",
       "      <th>0</th>\n",
       "      <td>672</td>\n",
       "      <td>BRCA1</td>\n",
       "      <td>BRCA1 DNA repair associated</td>\n",
       "    </tr>\n",
       "    <tr>\n",
       "      <th>1</th>\n",
       "      <td>675</td>\n",
       "      <td>BRCA2</td>\n",
       "      <td>BRCA2 DNA repair associated</td>\n",
       "    </tr>\n",
       "    <tr>\n",
       "      <th>2</th>\n",
       "      <td>7157</td>\n",
       "      <td>TP53</td>\n",
       "      <td>tumor protein p53</td>\n",
       "    </tr>\n",
       "    <tr>\n",
       "      <th>3</th>\n",
       "      <td>10296</td>\n",
       "      <td>MAEA</td>\n",
       "      <td>macrophage erythroblast attacher, E3 ubiquitin...</td>\n",
       "    </tr>\n",
       "    <tr>\n",
       "      <th>4</th>\n",
       "      <td>7040</td>\n",
       "      <td>TGFB1</td>\n",
       "      <td>transforming growth factor beta 1</td>\n",
       "    </tr>\n",
       "    <tr>\n",
       "      <th>5</th>\n",
       "      <td>64926</td>\n",
       "      <td>RASAL3</td>\n",
       "      <td>RAS protein activator like 3</td>\n",
       "    </tr>\n",
       "  </tbody>\n",
       "</table>\n",
       "</div>"
      ],
      "text/plain": [
       "     gid  symbol                                        description\n",
       "0    672   BRCA1                        BRCA1 DNA repair associated\n",
       "1    675   BRCA2                        BRCA2 DNA repair associated\n",
       "2   7157    TP53                                  tumor protein p53\n",
       "3  10296    MAEA  macrophage erythroblast attacher, E3 ubiquitin...\n",
       "4   7040   TGFB1                  transforming growth factor beta 1\n",
       "5  64926  RASAL3                       RAS protein activator like 3"
      ]
     },
     "execution_count": 26,
     "metadata": {},
     "output_type": "execute_result"
    }
   ],
   "source": [
    "# let's create the dataframe\n",
    "\n",
    "df_genes = pd.DataFrame.from_records([vars(gene) for gene in genes_lst])\n",
    "df_genes"
   ]
  },
  {
   "cell_type": "code",
   "execution_count": 27,
   "metadata": {},
   "outputs": [
    {
     "data": {
      "text/html": [
       "<div>\n",
       "<style scoped>\n",
       "    .dataframe tbody tr th:only-of-type {\n",
       "        vertical-align: middle;\n",
       "    }\n",
       "\n",
       "    .dataframe tbody tr th {\n",
       "        vertical-align: top;\n",
       "    }\n",
       "\n",
       "    .dataframe thead th {\n",
       "        text-align: right;\n",
       "    }\n",
       "</style>\n",
       "<table border=\"1\" class=\"dataframe\">\n",
       "  <thead>\n",
       "    <tr style=\"text-align: right;\">\n",
       "      <th></th>\n",
       "      <th>gtid</th>\n",
       "      <th>name</th>\n",
       "    </tr>\n",
       "  </thead>\n",
       "  <tbody>\n",
       "    <tr>\n",
       "      <th>0</th>\n",
       "      <td>1</td>\n",
       "      <td>intrinsic apoptotic signaling pathway in respo...</td>\n",
       "    </tr>\n",
       "    <tr>\n",
       "      <th>1</th>\n",
       "      <td>2</td>\n",
       "      <td>transcription cis-regulatory region binding</td>\n",
       "    </tr>\n",
       "    <tr>\n",
       "      <th>2</th>\n",
       "      <td>3</td>\n",
       "      <td>transcription coactivator activity</td>\n",
       "    </tr>\n",
       "    <tr>\n",
       "      <th>3</th>\n",
       "      <td>4</td>\n",
       "      <td>ubiquitin-protein transferase activity</td>\n",
       "    </tr>\n",
       "    <tr>\n",
       "      <th>4</th>\n",
       "      <td>5</td>\n",
       "      <td>histone acetyltransferase activity</td>\n",
       "    </tr>\n",
       "    <tr>\n",
       "      <th>5</th>\n",
       "      <td>6</td>\n",
       "      <td>protease binding</td>\n",
       "    </tr>\n",
       "    <tr>\n",
       "      <th>6</th>\n",
       "      <td>7</td>\n",
       "      <td>single-stranded DNA binding</td>\n",
       "    </tr>\n",
       "    <tr>\n",
       "      <th>7</th>\n",
       "      <td>8</td>\n",
       "      <td>protein binding</td>\n",
       "    </tr>\n",
       "    <tr>\n",
       "      <th>8</th>\n",
       "      <td>9</td>\n",
       "      <td>negative regulation of transcription, DNA-temp...</td>\n",
       "    </tr>\n",
       "    <tr>\n",
       "      <th>9</th>\n",
       "      <td>10</td>\n",
       "      <td>positive regulation of transcription by RNA po...</td>\n",
       "    </tr>\n",
       "    <tr>\n",
       "      <th>10</th>\n",
       "      <td>11</td>\n",
       "      <td>promoter-specific chromatin binding</td>\n",
       "    </tr>\n",
       "    <tr>\n",
       "      <th>11</th>\n",
       "      <td>12</td>\n",
       "      <td>circadian behavior</td>\n",
       "    </tr>\n",
       "    <tr>\n",
       "      <th>12</th>\n",
       "      <td>13</td>\n",
       "      <td>cell adhesion</td>\n",
       "    </tr>\n",
       "  </tbody>\n",
       "</table>\n",
       "</div>"
      ],
      "text/plain": [
       "    gtid                                               name\n",
       "0      1  intrinsic apoptotic signaling pathway in respo...\n",
       "1      2        transcription cis-regulatory region binding\n",
       "2      3                 transcription coactivator activity\n",
       "3      4             ubiquitin-protein transferase activity\n",
       "4      5                 histone acetyltransferase activity\n",
       "5      6                                   protease binding\n",
       "6      7                        single-stranded DNA binding\n",
       "7      8                                    protein binding\n",
       "8      9  negative regulation of transcription, DNA-temp...\n",
       "9     10  positive regulation of transcription by RNA po...\n",
       "10    11                promoter-specific chromatin binding\n",
       "11    12                                 circadian behavior\n",
       "12    13                                      cell adhesion"
      ]
     },
     "execution_count": 27,
     "metadata": {},
     "output_type": "execute_result"
    }
   ],
   "source": [
    "df_go_terms = pd.DataFrame.from_records([vars(go_term) for go_term in go_terms_lst])\n",
    "df_go_terms"
   ]
  },
  {
   "cell_type": "code",
   "execution_count": 28,
   "metadata": {},
   "outputs": [
    {
     "data": {
      "text/html": [
       "<div>\n",
       "<style scoped>\n",
       "    .dataframe tbody tr th:only-of-type {\n",
       "        vertical-align: middle;\n",
       "    }\n",
       "\n",
       "    .dataframe tbody tr th {\n",
       "        vertical-align: top;\n",
       "    }\n",
       "\n",
       "    .dataframe thead th {\n",
       "        text-align: right;\n",
       "    }\n",
       "</style>\n",
       "<table border=\"1\" class=\"dataframe\">\n",
       "  <thead>\n",
       "    <tr style=\"text-align: right;\">\n",
       "      <th></th>\n",
       "      <th>gene_id</th>\n",
       "      <th>GO_term_id</th>\n",
       "    </tr>\n",
       "  </thead>\n",
       "  <tbody>\n",
       "    <tr>\n",
       "      <th>0</th>\n",
       "      <td>672</td>\n",
       "      <td>1</td>\n",
       "    </tr>\n",
       "    <tr>\n",
       "      <th>1</th>\n",
       "      <td>672</td>\n",
       "      <td>2</td>\n",
       "    </tr>\n",
       "    <tr>\n",
       "      <th>2</th>\n",
       "      <td>672</td>\n",
       "      <td>3</td>\n",
       "    </tr>\n",
       "    <tr>\n",
       "      <th>3</th>\n",
       "      <td>672</td>\n",
       "      <td>4</td>\n",
       "    </tr>\n",
       "    <tr>\n",
       "      <th>4</th>\n",
       "      <td>675</td>\n",
       "      <td>5</td>\n",
       "    </tr>\n",
       "    <tr>\n",
       "      <th>5</th>\n",
       "      <td>675</td>\n",
       "      <td>6</td>\n",
       "    </tr>\n",
       "    <tr>\n",
       "      <th>6</th>\n",
       "      <td>675</td>\n",
       "      <td>7</td>\n",
       "    </tr>\n",
       "    <tr>\n",
       "      <th>7</th>\n",
       "      <td>675</td>\n",
       "      <td>8</td>\n",
       "    </tr>\n",
       "    <tr>\n",
       "      <th>8</th>\n",
       "      <td>7157</td>\n",
       "      <td>9</td>\n",
       "    </tr>\n",
       "    <tr>\n",
       "      <th>9</th>\n",
       "      <td>7157</td>\n",
       "      <td>10</td>\n",
       "    </tr>\n",
       "    <tr>\n",
       "      <th>10</th>\n",
       "      <td>7157</td>\n",
       "      <td>11</td>\n",
       "    </tr>\n",
       "    <tr>\n",
       "      <th>11</th>\n",
       "      <td>7157</td>\n",
       "      <td>12</td>\n",
       "    </tr>\n",
       "    <tr>\n",
       "      <th>12</th>\n",
       "      <td>10296</td>\n",
       "      <td>13</td>\n",
       "    </tr>\n",
       "    <tr>\n",
       "      <th>13</th>\n",
       "      <td>10296</td>\n",
       "      <td>8</td>\n",
       "    </tr>\n",
       "    <tr>\n",
       "      <th>14</th>\n",
       "      <td>10296</td>\n",
       "      <td>11</td>\n",
       "    </tr>\n",
       "    <tr>\n",
       "      <th>15</th>\n",
       "      <td>7040</td>\n",
       "      <td>13</td>\n",
       "    </tr>\n",
       "    <tr>\n",
       "      <th>16</th>\n",
       "      <td>7040</td>\n",
       "      <td>8</td>\n",
       "    </tr>\n",
       "    <tr>\n",
       "      <th>17</th>\n",
       "      <td>64926</td>\n",
       "      <td>13</td>\n",
       "    </tr>\n",
       "    <tr>\n",
       "      <th>18</th>\n",
       "      <td>64926</td>\n",
       "      <td>8</td>\n",
       "    </tr>\n",
       "    <tr>\n",
       "      <th>19</th>\n",
       "      <td>64926</td>\n",
       "      <td>6</td>\n",
       "    </tr>\n",
       "  </tbody>\n",
       "</table>\n",
       "</div>"
      ],
      "text/plain": [
       "   gene_id  GO_term_id\n",
       "0      672           1\n",
       "1      672           2\n",
       "2      672           3\n",
       "3      672           4\n",
       "4      675           5\n",
       "5      675           6\n",
       "6      675           7\n",
       "7      675           8\n",
       "8     7157           9\n",
       "9     7157          10\n",
       "10    7157          11\n",
       "11    7157          12\n",
       "12   10296          13\n",
       "13   10296           8\n",
       "14   10296          11\n",
       "15    7040          13\n",
       "16    7040           8\n",
       "17   64926          13\n",
       "18   64926           8\n",
       "19   64926           6"
      ]
     },
     "execution_count": 28,
     "metadata": {},
     "output_type": "execute_result"
    }
   ],
   "source": [
    "df_genes_go_terms = pd.DataFrame.from_records([vars(gene_go_term) for gene_go_term in genes_go_terms_lst])\n",
    "df_genes_go_terms"
   ]
  },
  {
   "cell_type": "code",
   "execution_count": null,
   "metadata": {},
   "outputs": [],
   "source": []
  },
  {
   "cell_type": "markdown",
   "metadata": {
    "tags": []
   },
   "source": [
    "___\n",
    "\n",
    "#### <font color = \"red\">Exercise</font>\n",
    "\n",
    "#### Create a GO term gene dataframe\n",
    "\n",
    "Create a dataframe with two columns: a GO_term column that has the GO term name, and a genes column that for each GO term has a set of genes (gene symbols) associated with the GO term separated by \",\".\n",
    "\n"
   ]
  },
  {
   "cell_type": "code",
   "execution_count": 29,
   "metadata": {},
   "outputs": [],
   "source": [
    "# Write your solution here\n",
    "\n",
    "\n"
   ]
  },
  {
   "cell_type": "code",
   "execution_count": 30,
   "metadata": {},
   "outputs": [],
   "source": [
    "# help(df_genes.merge)"
   ]
  },
  {
   "cell_type": "code",
   "execution_count": 31,
   "metadata": {},
   "outputs": [
    {
     "data": {
      "text/html": [
       "<div>\n",
       "<style scoped>\n",
       "    .dataframe tbody tr th:only-of-type {\n",
       "        vertical-align: middle;\n",
       "    }\n",
       "\n",
       "    .dataframe tbody tr th {\n",
       "        vertical-align: top;\n",
       "    }\n",
       "\n",
       "    .dataframe thead th {\n",
       "        text-align: right;\n",
       "    }\n",
       "</style>\n",
       "<table border=\"1\" class=\"dataframe\">\n",
       "  <thead>\n",
       "    <tr style=\"text-align: right;\">\n",
       "      <th></th>\n",
       "      <th>gid</th>\n",
       "      <th>symbol</th>\n",
       "      <th>description</th>\n",
       "      <th>gene_id</th>\n",
       "      <th>GO_term_id</th>\n",
       "    </tr>\n",
       "  </thead>\n",
       "  <tbody>\n",
       "    <tr>\n",
       "      <th>0</th>\n",
       "      <td>672</td>\n",
       "      <td>BRCA1</td>\n",
       "      <td>BRCA1 DNA repair associated</td>\n",
       "      <td>672</td>\n",
       "      <td>1</td>\n",
       "    </tr>\n",
       "    <tr>\n",
       "      <th>1</th>\n",
       "      <td>672</td>\n",
       "      <td>BRCA1</td>\n",
       "      <td>BRCA1 DNA repair associated</td>\n",
       "      <td>672</td>\n",
       "      <td>2</td>\n",
       "    </tr>\n",
       "    <tr>\n",
       "      <th>2</th>\n",
       "      <td>672</td>\n",
       "      <td>BRCA1</td>\n",
       "      <td>BRCA1 DNA repair associated</td>\n",
       "      <td>672</td>\n",
       "      <td>3</td>\n",
       "    </tr>\n",
       "    <tr>\n",
       "      <th>3</th>\n",
       "      <td>672</td>\n",
       "      <td>BRCA1</td>\n",
       "      <td>BRCA1 DNA repair associated</td>\n",
       "      <td>672</td>\n",
       "      <td>4</td>\n",
       "    </tr>\n",
       "    <tr>\n",
       "      <th>4</th>\n",
       "      <td>675</td>\n",
       "      <td>BRCA2</td>\n",
       "      <td>BRCA2 DNA repair associated</td>\n",
       "      <td>675</td>\n",
       "      <td>5</td>\n",
       "    </tr>\n",
       "  </tbody>\n",
       "</table>\n",
       "</div>"
      ],
      "text/plain": [
       "   gid symbol                  description gene_id  GO_term_id\n",
       "0  672  BRCA1  BRCA1 DNA repair associated     672           1\n",
       "1  672  BRCA1  BRCA1 DNA repair associated     672           2\n",
       "2  672  BRCA1  BRCA1 DNA repair associated     672           3\n",
       "3  672  BRCA1  BRCA1 DNA repair associated     672           4\n",
       "4  675  BRCA2  BRCA2 DNA repair associated     675           5"
      ]
     },
     "execution_count": 31,
     "metadata": {},
     "output_type": "execute_result"
    }
   ],
   "source": [
    "# put the dataframes together\n",
    "# link genes and gene_go_term interactions by gene_id\n",
    "\n",
    "merged_data_ggt = df_genes.merge(df_genes_go_terms, left_on = \"gid\", right_on = \"gene_id\", how = \"inner\")\n",
    "merged_data_ggt.head()"
   ]
  },
  {
   "cell_type": "code",
   "execution_count": 32,
   "metadata": {},
   "outputs": [
    {
     "data": {
      "text/html": [
       "<div>\n",
       "<style scoped>\n",
       "    .dataframe tbody tr th:only-of-type {\n",
       "        vertical-align: middle;\n",
       "    }\n",
       "\n",
       "    .dataframe tbody tr th {\n",
       "        vertical-align: top;\n",
       "    }\n",
       "\n",
       "    .dataframe thead th {\n",
       "        text-align: right;\n",
       "    }\n",
       "</style>\n",
       "<table border=\"1\" class=\"dataframe\">\n",
       "  <thead>\n",
       "    <tr style=\"text-align: right;\">\n",
       "      <th></th>\n",
       "      <th>gid</th>\n",
       "      <th>symbol</th>\n",
       "      <th>description</th>\n",
       "      <th>gene_id</th>\n",
       "      <th>GO_term_id</th>\n",
       "      <th>gtid</th>\n",
       "      <th>name</th>\n",
       "    </tr>\n",
       "  </thead>\n",
       "  <tbody>\n",
       "    <tr>\n",
       "      <th>0</th>\n",
       "      <td>672</td>\n",
       "      <td>BRCA1</td>\n",
       "      <td>BRCA1 DNA repair associated</td>\n",
       "      <td>672</td>\n",
       "      <td>1</td>\n",
       "      <td>1</td>\n",
       "      <td>intrinsic apoptotic signaling pathway in respo...</td>\n",
       "    </tr>\n",
       "    <tr>\n",
       "      <th>1</th>\n",
       "      <td>672</td>\n",
       "      <td>BRCA1</td>\n",
       "      <td>BRCA1 DNA repair associated</td>\n",
       "      <td>672</td>\n",
       "      <td>2</td>\n",
       "      <td>2</td>\n",
       "      <td>transcription cis-regulatory region binding</td>\n",
       "    </tr>\n",
       "    <tr>\n",
       "      <th>2</th>\n",
       "      <td>672</td>\n",
       "      <td>BRCA1</td>\n",
       "      <td>BRCA1 DNA repair associated</td>\n",
       "      <td>672</td>\n",
       "      <td>3</td>\n",
       "      <td>3</td>\n",
       "      <td>transcription coactivator activity</td>\n",
       "    </tr>\n",
       "    <tr>\n",
       "      <th>3</th>\n",
       "      <td>672</td>\n",
       "      <td>BRCA1</td>\n",
       "      <td>BRCA1 DNA repair associated</td>\n",
       "      <td>672</td>\n",
       "      <td>4</td>\n",
       "      <td>4</td>\n",
       "      <td>ubiquitin-protein transferase activity</td>\n",
       "    </tr>\n",
       "    <tr>\n",
       "      <th>4</th>\n",
       "      <td>675</td>\n",
       "      <td>BRCA2</td>\n",
       "      <td>BRCA2 DNA repair associated</td>\n",
       "      <td>675</td>\n",
       "      <td>5</td>\n",
       "      <td>5</td>\n",
       "      <td>histone acetyltransferase activity</td>\n",
       "    </tr>\n",
       "  </tbody>\n",
       "</table>\n",
       "</div>"
      ],
      "text/plain": [
       "   gid symbol                  description gene_id  GO_term_id  gtid  \\\n",
       "0  672  BRCA1  BRCA1 DNA repair associated     672           1     1   \n",
       "1  672  BRCA1  BRCA1 DNA repair associated     672           2     2   \n",
       "2  672  BRCA1  BRCA1 DNA repair associated     672           3     3   \n",
       "3  672  BRCA1  BRCA1 DNA repair associated     672           4     4   \n",
       "4  675  BRCA2  BRCA2 DNA repair associated     675           5     5   \n",
       "\n",
       "                                                name  \n",
       "0  intrinsic apoptotic signaling pathway in respo...  \n",
       "1        transcription cis-regulatory region binding  \n",
       "2                 transcription coactivator activity  \n",
       "3             ubiquitin-protein transferase activity  \n",
       "4                 histone acetyltransferase activity  "
      ]
     },
     "execution_count": 32,
     "metadata": {},
     "output_type": "execute_result"
    }
   ],
   "source": [
    "# link the merged dataframe with the go_terms by go_term_id\n",
    "\n",
    "merged_data = merged_data_ggt.merge(df_go_terms, left_on = \"GO_term_id\", right_on = \"gtid\", how = \"inner\")\n",
    "merged_data.head()\n"
   ]
  },
  {
   "cell_type": "code",
   "execution_count": 33,
   "metadata": {},
   "outputs": [],
   "source": [
    "# another option - merge using the method join, similar to the join between tables in SQL\n",
    "\n",
    "# help(df_genes.join)\n"
   ]
  },
  {
   "cell_type": "code",
   "execution_count": 34,
   "metadata": {},
   "outputs": [
    {
     "name": "stdout",
     "output_type": "stream",
     "text": [
      "Join genes and gene_go_term interactions by gene_id:\n",
      "\n",
      "  gene_id  GO_term_id symbol                  description\n",
      "0     672           1  BRCA1  BRCA1 DNA repair associated\n",
      "1     672           2  BRCA1  BRCA1 DNA repair associated\n",
      "2     672           3  BRCA1  BRCA1 DNA repair associated\n",
      "3     672           4  BRCA1  BRCA1 DNA repair associated\n",
      "4     675           5  BRCA2  BRCA2 DNA repair associated\n",
      "Join the resulting dataframe with the go_terms by go_term_id:\n",
      "\n"
     ]
    },
    {
     "data": {
      "text/html": [
       "<div>\n",
       "<style scoped>\n",
       "    .dataframe tbody tr th:only-of-type {\n",
       "        vertical-align: middle;\n",
       "    }\n",
       "\n",
       "    .dataframe tbody tr th {\n",
       "        vertical-align: top;\n",
       "    }\n",
       "\n",
       "    .dataframe thead th {\n",
       "        text-align: right;\n",
       "    }\n",
       "</style>\n",
       "<table border=\"1\" class=\"dataframe\">\n",
       "  <thead>\n",
       "    <tr style=\"text-align: right;\">\n",
       "      <th></th>\n",
       "      <th>gene_id</th>\n",
       "      <th>GO_term_id</th>\n",
       "      <th>symbol</th>\n",
       "      <th>description</th>\n",
       "      <th>name</th>\n",
       "    </tr>\n",
       "  </thead>\n",
       "  <tbody>\n",
       "    <tr>\n",
       "      <th>0</th>\n",
       "      <td>672</td>\n",
       "      <td>1</td>\n",
       "      <td>BRCA1</td>\n",
       "      <td>BRCA1 DNA repair associated</td>\n",
       "      <td>intrinsic apoptotic signaling pathway in respo...</td>\n",
       "    </tr>\n",
       "    <tr>\n",
       "      <th>1</th>\n",
       "      <td>672</td>\n",
       "      <td>2</td>\n",
       "      <td>BRCA1</td>\n",
       "      <td>BRCA1 DNA repair associated</td>\n",
       "      <td>transcription cis-regulatory region binding</td>\n",
       "    </tr>\n",
       "    <tr>\n",
       "      <th>2</th>\n",
       "      <td>672</td>\n",
       "      <td>3</td>\n",
       "      <td>BRCA1</td>\n",
       "      <td>BRCA1 DNA repair associated</td>\n",
       "      <td>transcription coactivator activity</td>\n",
       "    </tr>\n",
       "    <tr>\n",
       "      <th>3</th>\n",
       "      <td>672</td>\n",
       "      <td>4</td>\n",
       "      <td>BRCA1</td>\n",
       "      <td>BRCA1 DNA repair associated</td>\n",
       "      <td>ubiquitin-protein transferase activity</td>\n",
       "    </tr>\n",
       "    <tr>\n",
       "      <th>4</th>\n",
       "      <td>675</td>\n",
       "      <td>5</td>\n",
       "      <td>BRCA2</td>\n",
       "      <td>BRCA2 DNA repair associated</td>\n",
       "      <td>histone acetyltransferase activity</td>\n",
       "    </tr>\n",
       "  </tbody>\n",
       "</table>\n",
       "</div>"
      ],
      "text/plain": [
       "  gene_id  GO_term_id symbol                  description  \\\n",
       "0     672           1  BRCA1  BRCA1 DNA repair associated   \n",
       "1     672           2  BRCA1  BRCA1 DNA repair associated   \n",
       "2     672           3  BRCA1  BRCA1 DNA repair associated   \n",
       "3     672           4  BRCA1  BRCA1 DNA repair associated   \n",
       "4     675           5  BRCA2  BRCA2 DNA repair associated   \n",
       "\n",
       "                                                name  \n",
       "0  intrinsic apoptotic signaling pathway in respo...  \n",
       "1        transcription cis-regulatory region binding  \n",
       "2                 transcription coactivator activity  \n",
       "3             ubiquitin-protein transferase activity  \n",
       "4                 histone acetyltransferase activity  "
      ]
     },
     "execution_count": 34,
     "metadata": {},
     "output_type": "execute_result"
    }
   ],
   "source": [
    "# link genes and gene_go_term interactions by gene_id\n",
    "merged_data_ggt = df_genes_go_terms.join(df_genes.set_index(\"gid\"), \n",
    "                                         on = [\"gene_id\"], how = \"inner\")\n",
    "print(\"Join genes and gene_go_term interactions by gene_id:\\n\")\n",
    "print(merged_data_ggt.head())\n",
    "\n",
    "# link the merged dataframe with the go_terms by go_term_id\n",
    "merged_data = merged_data_ggt.join(df_go_terms.set_index(\"gtid\"), \n",
    "                                         on = [\"GO_term_id\"], how = \"inner\")\n",
    "print(\"Join the resulting dataframe with the go_terms by go_term_id:\\n\")\n",
    "merged_data.head()\n",
    "\n",
    "\n"
   ]
  },
  {
   "cell_type": "code",
   "execution_count": 35,
   "metadata": {},
   "outputs": [
    {
     "data": {
      "text/html": [
       "<div>\n",
       "<style scoped>\n",
       "    .dataframe tbody tr th:only-of-type {\n",
       "        vertical-align: middle;\n",
       "    }\n",
       "\n",
       "    .dataframe tbody tr th {\n",
       "        vertical-align: top;\n",
       "    }\n",
       "\n",
       "    .dataframe thead th {\n",
       "        text-align: right;\n",
       "    }\n",
       "</style>\n",
       "<table border=\"1\" class=\"dataframe\">\n",
       "  <thead>\n",
       "    <tr style=\"text-align: right;\">\n",
       "      <th></th>\n",
       "      <th>name</th>\n",
       "      <th>symbol</th>\n",
       "    </tr>\n",
       "  </thead>\n",
       "  <tbody>\n",
       "    <tr>\n",
       "      <th>0</th>\n",
       "      <td>intrinsic apoptotic signaling pathway in respo...</td>\n",
       "      <td>BRCA1</td>\n",
       "    </tr>\n",
       "    <tr>\n",
       "      <th>1</th>\n",
       "      <td>transcription cis-regulatory region binding</td>\n",
       "      <td>BRCA1</td>\n",
       "    </tr>\n",
       "    <tr>\n",
       "      <th>2</th>\n",
       "      <td>transcription coactivator activity</td>\n",
       "      <td>BRCA1</td>\n",
       "    </tr>\n",
       "    <tr>\n",
       "      <th>3</th>\n",
       "      <td>ubiquitin-protein transferase activity</td>\n",
       "      <td>BRCA1</td>\n",
       "    </tr>\n",
       "    <tr>\n",
       "      <th>4</th>\n",
       "      <td>histone acetyltransferase activity</td>\n",
       "      <td>BRCA2</td>\n",
       "    </tr>\n",
       "  </tbody>\n",
       "</table>\n",
       "</div>"
      ],
      "text/plain": [
       "                                                name symbol\n",
       "0  intrinsic apoptotic signaling pathway in respo...  BRCA1\n",
       "1        transcription cis-regulatory region binding  BRCA1\n",
       "2                 transcription coactivator activity  BRCA1\n",
       "3             ubiquitin-protein transferase activity  BRCA1\n",
       "4                 histone acetyltransferase activity  BRCA2"
      ]
     },
     "execution_count": 35,
     "metadata": {},
     "output_type": "execute_result"
    }
   ],
   "source": [
    "# select only the go_term name and gene symbol form the merged dataframe\n",
    "\n",
    "df_sel = merged_data.loc[:,(\"name\",\"symbol\")]\n",
    "df_sel.head()"
   ]
  },
  {
   "cell_type": "code",
   "execution_count": 36,
   "metadata": {},
   "outputs": [
    {
     "data": {
      "text/plain": [
       "pandas.core.frame.DataFrame"
      ]
     },
     "execution_count": 36,
     "metadata": {},
     "output_type": "execute_result"
    }
   ],
   "source": [
    "type(df_sel)"
   ]
  },
  {
   "cell_type": "code",
   "execution_count": 37,
   "metadata": {},
   "outputs": [
    {
     "data": {
      "text/html": [
       "<div>\n",
       "<style scoped>\n",
       "    .dataframe tbody tr th:only-of-type {\n",
       "        vertical-align: middle;\n",
       "    }\n",
       "\n",
       "    .dataframe tbody tr th {\n",
       "        vertical-align: top;\n",
       "    }\n",
       "\n",
       "    .dataframe thead th {\n",
       "        text-align: right;\n",
       "    }\n",
       "</style>\n",
       "<table border=\"1\" class=\"dataframe\">\n",
       "  <thead>\n",
       "    <tr style=\"text-align: right;\">\n",
       "      <th></th>\n",
       "      <th>name</th>\n",
       "      <th>symbol</th>\n",
       "    </tr>\n",
       "  </thead>\n",
       "  <tbody>\n",
       "    <tr>\n",
       "      <th>0</th>\n",
       "      <td>intrinsic apoptotic signaling pathway in respo...</td>\n",
       "      <td>BRCA1</td>\n",
       "    </tr>\n",
       "    <tr>\n",
       "      <th>1</th>\n",
       "      <td>transcription cis-regulatory region binding</td>\n",
       "      <td>BRCA1</td>\n",
       "    </tr>\n",
       "    <tr>\n",
       "      <th>2</th>\n",
       "      <td>transcription coactivator activity</td>\n",
       "      <td>BRCA1</td>\n",
       "    </tr>\n",
       "    <tr>\n",
       "      <th>3</th>\n",
       "      <td>ubiquitin-protein transferase activity</td>\n",
       "      <td>BRCA1</td>\n",
       "    </tr>\n",
       "    <tr>\n",
       "      <th>4</th>\n",
       "      <td>histone acetyltransferase activity</td>\n",
       "      <td>BRCA2</td>\n",
       "    </tr>\n",
       "    <tr>\n",
       "      <th>5</th>\n",
       "      <td>protease binding</td>\n",
       "      <td>BRCA2</td>\n",
       "    </tr>\n",
       "    <tr>\n",
       "      <th>19</th>\n",
       "      <td>protease binding</td>\n",
       "      <td>RASAL3</td>\n",
       "    </tr>\n",
       "    <tr>\n",
       "      <th>6</th>\n",
       "      <td>single-stranded DNA binding</td>\n",
       "      <td>BRCA2</td>\n",
       "    </tr>\n",
       "    <tr>\n",
       "      <th>7</th>\n",
       "      <td>protein binding</td>\n",
       "      <td>BRCA2</td>\n",
       "    </tr>\n",
       "    <tr>\n",
       "      <th>13</th>\n",
       "      <td>protein binding</td>\n",
       "      <td>MAEA</td>\n",
       "    </tr>\n",
       "    <tr>\n",
       "      <th>16</th>\n",
       "      <td>protein binding</td>\n",
       "      <td>TGFB1</td>\n",
       "    </tr>\n",
       "    <tr>\n",
       "      <th>18</th>\n",
       "      <td>protein binding</td>\n",
       "      <td>RASAL3</td>\n",
       "    </tr>\n",
       "    <tr>\n",
       "      <th>8</th>\n",
       "      <td>negative regulation of transcription, DNA-temp...</td>\n",
       "      <td>TP53</td>\n",
       "    </tr>\n",
       "    <tr>\n",
       "      <th>9</th>\n",
       "      <td>positive regulation of transcription by RNA po...</td>\n",
       "      <td>TP53</td>\n",
       "    </tr>\n",
       "    <tr>\n",
       "      <th>10</th>\n",
       "      <td>promoter-specific chromatin binding</td>\n",
       "      <td>TP53</td>\n",
       "    </tr>\n",
       "    <tr>\n",
       "      <th>14</th>\n",
       "      <td>promoter-specific chromatin binding</td>\n",
       "      <td>MAEA</td>\n",
       "    </tr>\n",
       "    <tr>\n",
       "      <th>11</th>\n",
       "      <td>circadian behavior</td>\n",
       "      <td>TP53</td>\n",
       "    </tr>\n",
       "    <tr>\n",
       "      <th>12</th>\n",
       "      <td>cell adhesion</td>\n",
       "      <td>MAEA</td>\n",
       "    </tr>\n",
       "    <tr>\n",
       "      <th>15</th>\n",
       "      <td>cell adhesion</td>\n",
       "      <td>TGFB1</td>\n",
       "    </tr>\n",
       "    <tr>\n",
       "      <th>17</th>\n",
       "      <td>cell adhesion</td>\n",
       "      <td>RASAL3</td>\n",
       "    </tr>\n",
       "  </tbody>\n",
       "</table>\n",
       "</div>"
      ],
      "text/plain": [
       "                                                 name  symbol\n",
       "0   intrinsic apoptotic signaling pathway in respo...   BRCA1\n",
       "1         transcription cis-regulatory region binding   BRCA1\n",
       "2                  transcription coactivator activity   BRCA1\n",
       "3              ubiquitin-protein transferase activity   BRCA1\n",
       "4                  histone acetyltransferase activity   BRCA2\n",
       "5                                    protease binding   BRCA2\n",
       "19                                   protease binding  RASAL3\n",
       "6                         single-stranded DNA binding   BRCA2\n",
       "7                                     protein binding   BRCA2\n",
       "13                                    protein binding    MAEA\n",
       "16                                    protein binding   TGFB1\n",
       "18                                    protein binding  RASAL3\n",
       "8   negative regulation of transcription, DNA-temp...    TP53\n",
       "9   positive regulation of transcription by RNA po...    TP53\n",
       "10                promoter-specific chromatin binding    TP53\n",
       "14                promoter-specific chromatin binding    MAEA\n",
       "11                                 circadian behavior    TP53\n",
       "12                                      cell adhesion    MAEA\n",
       "15                                      cell adhesion   TGFB1\n",
       "17                                      cell adhesion  RASAL3"
      ]
     },
     "execution_count": 37,
     "metadata": {},
     "output_type": "execute_result"
    }
   ],
   "source": [
    "df_sel.groupby(\"name\").head()"
   ]
  },
  {
   "cell_type": "code",
   "execution_count": 38,
   "metadata": {},
   "outputs": [
    {
     "data": {
      "text/plain": [
       "0      BRCA1\n",
       "1      BRCA1\n",
       "2      BRCA1\n",
       "3      BRCA1\n",
       "4      BRCA2\n",
       "5      BRCA2\n",
       "19    RASAL3\n",
       "6      BRCA2\n",
       "7      BRCA2\n",
       "13      MAEA\n",
       "16     TGFB1\n",
       "18    RASAL3\n",
       "8       TP53\n",
       "9       TP53\n",
       "10      TP53\n",
       "14      MAEA\n",
       "11      TP53\n",
       "12      MAEA\n",
       "15     TGFB1\n",
       "17    RASAL3\n",
       "Name: symbol, dtype: object"
      ]
     },
     "execution_count": 38,
     "metadata": {},
     "output_type": "execute_result"
    }
   ],
   "source": [
    "df_sel.groupby(\"name\")[\"symbol\"].head()"
   ]
  },
  {
   "cell_type": "code",
   "execution_count": 39,
   "metadata": {},
   "outputs": [
    {
     "data": {
      "text/plain": [
       "name\n",
       "cell adhesion                                                             {MAEA, TGFB1, RASAL3}\n",
       "circadian behavior                                                                       {TP53}\n",
       "histone acetyltransferase activity                                                      {BRCA2}\n",
       "intrinsic apoptotic signaling pathway in response to DNA damage                         {BRCA1}\n",
       "negative regulation of transcription, DNA-templated                                      {TP53}\n",
       "positive regulation of transcription by RNA polymerase II                                {TP53}\n",
       "promoter-specific chromatin binding                                                {TP53, MAEA}\n",
       "protease binding                                                                {RASAL3, BRCA2}\n",
       "protein binding                                                    {MAEA, TGFB1, RASAL3, BRCA2}\n",
       "single-stranded DNA binding                                                             {BRCA2}\n",
       "transcription cis-regulatory region binding                                             {BRCA1}\n",
       "transcription coactivator activity                                                      {BRCA1}\n",
       "ubiquitin-protein transferase activity                                                  {BRCA1}\n",
       "Name: symbol, dtype: object"
      ]
     },
     "execution_count": 39,
     "metadata": {},
     "output_type": "execute_result"
    }
   ],
   "source": [
    "# Create a dataframe with two columns: a GO_term column that has the GO term name, \n",
    "#and a genes column that for each GO term has a set of genes (gene symbols) \n",
    "# associated with the GO term separated by \",\"\n",
    "\n",
    "# on the grouped dataframe we apply the set function to the symbol column to apply \n",
    "# the set function to all the sene symbols that are in a group with the same GO term name\n",
    "\n",
    "df_sel.groupby(\"name\")[\"symbol\"].apply(set)"
   ]
  },
  {
   "cell_type": "code",
   "execution_count": null,
   "metadata": {},
   "outputs": [],
   "source": []
  },
  {
   "cell_type": "code",
   "execution_count": null,
   "metadata": {},
   "outputs": [],
   "source": []
  },
  {
   "cell_type": "code",
   "execution_count": null,
   "metadata": {},
   "outputs": [],
   "source": []
  },
  {
   "cell_type": "markdown",
   "metadata": {},
   "source": [
    "_____\n",
    "\n",
    "#### <font color = \"red\">Exercise</font> \n",
    "\n",
    "#### Explore gene expression data\n",
    "\n",
    "Read the data from the file `expression_data.txt` into a pandas data frame, the data file has comment lines that start with \"#\".\n",
    "The group labels are as follows:\n",
    "```python\n",
    "    group = [\"disease\", \"healthy\", \"disease\", \"disease\", \"healthy\",\n",
    "             \"healthy\", \"healthy\", \"disease\", \"disease\", \"disease\"]\n",
    "```\n",
    "  \n",
    "\n",
    "Select the genes that have a p-value < 10% on a t-test between the expression in disease and the expression in healthy.  \n",
    "The t-test is implemented in the scipy library in the stats module (you can use `from scipy import stats`).   \n",
    "https://docs.scipy.org/doc/scipy/reference/generated/scipy.stats.ttest_ind.html    \n",
    "Keep in mind these are multiple statistical test we are doing so we should correct for multiple comparisons before intepreting/ reading too much into the results.    \n",
    "https://www.statsmodels.org/dev/generated/statsmodels.stats.multitest.multipletests.html   \n"
   ]
  },
  {
   "cell_type": "code",
   "execution_count": 40,
   "metadata": {},
   "outputs": [],
   "source": [
    "# Write your solution here\n"
   ]
  },
  {
   "cell_type": "code",
   "execution_count": 41,
   "metadata": {
    "tags": []
   },
   "outputs": [],
   "source": [
    "# import the numpy and pandas libraries to have access to the functionality that it provides\n",
    "# also import the stats module from the scipy package, we could also use: import scipy.stats\n",
    "\n",
    "import numpy as np\n",
    "import pandas as pd\n",
    "from scipy import stats #or  import scipy.stats"
   ]
  },
  {
   "cell_type": "code",
   "execution_count": 42,
   "metadata": {},
   "outputs": [
    {
     "data": {
      "text/html": [
       "<div>\n",
       "<style scoped>\n",
       "    .dataframe tbody tr th:only-of-type {\n",
       "        vertical-align: middle;\n",
       "    }\n",
       "\n",
       "    .dataframe tbody tr th {\n",
       "        vertical-align: top;\n",
       "    }\n",
       "\n",
       "    .dataframe thead th {\n",
       "        text-align: right;\n",
       "    }\n",
       "</style>\n",
       "<table border=\"1\" class=\"dataframe\">\n",
       "  <thead>\n",
       "    <tr style=\"text-align: right;\">\n",
       "      <th></th>\n",
       "      <th>Sample1</th>\n",
       "      <th>Sample2</th>\n",
       "      <th>Sample3</th>\n",
       "      <th>Sample4</th>\n",
       "      <th>Sample5</th>\n",
       "      <th>Sample6</th>\n",
       "      <th>Sample7</th>\n",
       "      <th>Sample8</th>\n",
       "      <th>Sample9</th>\n",
       "      <th>Sample10</th>\n",
       "    </tr>\n",
       "  </thead>\n",
       "  <tbody>\n",
       "    <tr>\n",
       "      <th>Gene1</th>\n",
       "      <td>76.85</td>\n",
       "      <td>29.53</td>\n",
       "      <td>7.57</td>\n",
       "      <td>92.21</td>\n",
       "      <td>41.48</td>\n",
       "      <td>7.67</td>\n",
       "      <td>60.84</td>\n",
       "      <td>75.98</td>\n",
       "      <td>66.33</td>\n",
       "      <td>84.45</td>\n",
       "    </tr>\n",
       "    <tr>\n",
       "      <th>Gene2</th>\n",
       "      <td>39.45</td>\n",
       "      <td>85.04</td>\n",
       "      <td>77.22</td>\n",
       "      <td>93.47</td>\n",
       "      <td>39.17</td>\n",
       "      <td>98.00</td>\n",
       "      <td>40.12</td>\n",
       "      <td>63.34</td>\n",
       "      <td>70.06</td>\n",
       "      <td>68.69</td>\n",
       "    </tr>\n",
       "    <tr>\n",
       "      <th>Gene3</th>\n",
       "      <td>47.17</td>\n",
       "      <td>44.99</td>\n",
       "      <td>8.43</td>\n",
       "      <td>48.17</td>\n",
       "      <td>57.99</td>\n",
       "      <td>42.98</td>\n",
       "      <td>39.36</td>\n",
       "      <td>0.91</td>\n",
       "      <td>10.89</td>\n",
       "      <td>1.53</td>\n",
       "    </tr>\n",
       "    <tr>\n",
       "      <th>Gene4</th>\n",
       "      <td>0.60</td>\n",
       "      <td>29.85</td>\n",
       "      <td>93.68</td>\n",
       "      <td>99.83</td>\n",
       "      <td>59.33</td>\n",
       "      <td>66.58</td>\n",
       "      <td>97.36</td>\n",
       "      <td>61.73</td>\n",
       "      <td>38.13</td>\n",
       "      <td>84.76</td>\n",
       "    </tr>\n",
       "    <tr>\n",
       "      <th>Gene5</th>\n",
       "      <td>75.00</td>\n",
       "      <td>25.52</td>\n",
       "      <td>18.22</td>\n",
       "      <td>72.14</td>\n",
       "      <td>59.03</td>\n",
       "      <td>40.48</td>\n",
       "      <td>77.92</td>\n",
       "      <td>71.82</td>\n",
       "      <td>89.36</td>\n",
       "      <td>61.75</td>\n",
       "    </tr>\n",
       "    <tr>\n",
       "      <th>...</th>\n",
       "      <td>...</td>\n",
       "      <td>...</td>\n",
       "      <td>...</td>\n",
       "      <td>...</td>\n",
       "      <td>...</td>\n",
       "      <td>...</td>\n",
       "      <td>...</td>\n",
       "      <td>...</td>\n",
       "      <td>...</td>\n",
       "      <td>...</td>\n",
       "    </tr>\n",
       "    <tr>\n",
       "      <th>Gene96</th>\n",
       "      <td>58.32</td>\n",
       "      <td>88.38</td>\n",
       "      <td>10.11</td>\n",
       "      <td>96.15</td>\n",
       "      <td>32.61</td>\n",
       "      <td>73.66</td>\n",
       "      <td>30.21</td>\n",
       "      <td>90.02</td>\n",
       "      <td>95.41</td>\n",
       "      <td>13.99</td>\n",
       "    </tr>\n",
       "    <tr>\n",
       "      <th>Gene97</th>\n",
       "      <td>23.25</td>\n",
       "      <td>77.78</td>\n",
       "      <td>89.51</td>\n",
       "      <td>53.73</td>\n",
       "      <td>21.62</td>\n",
       "      <td>2.21</td>\n",
       "      <td>37.44</td>\n",
       "      <td>47.71</td>\n",
       "      <td>44.60</td>\n",
       "      <td>8.36</td>\n",
       "    </tr>\n",
       "    <tr>\n",
       "      <th>Gene98</th>\n",
       "      <td>12.13</td>\n",
       "      <td>85.86</td>\n",
       "      <td>69.77</td>\n",
       "      <td>75.48</td>\n",
       "      <td>35.44</td>\n",
       "      <td>87.63</td>\n",
       "      <td>2.03</td>\n",
       "      <td>42.35</td>\n",
       "      <td>96.95</td>\n",
       "      <td>94.42</td>\n",
       "    </tr>\n",
       "    <tr>\n",
       "      <th>Gene99</th>\n",
       "      <td>19.27</td>\n",
       "      <td>25.05</td>\n",
       "      <td>63.26</td>\n",
       "      <td>85.38</td>\n",
       "      <td>75.40</td>\n",
       "      <td>40.22</td>\n",
       "      <td>19.66</td>\n",
       "      <td>77.41</td>\n",
       "      <td>9.74</td>\n",
       "      <td>47.95</td>\n",
       "    </tr>\n",
       "    <tr>\n",
       "      <th>Gene100</th>\n",
       "      <td>36.99</td>\n",
       "      <td>76.11</td>\n",
       "      <td>94.44</td>\n",
       "      <td>69.70</td>\n",
       "      <td>87.45</td>\n",
       "      <td>7.54</td>\n",
       "      <td>69.17</td>\n",
       "      <td>62.93</td>\n",
       "      <td>46.33</td>\n",
       "      <td>77.64</td>\n",
       "    </tr>\n",
       "  </tbody>\n",
       "</table>\n",
       "<p>100 rows × 10 columns</p>\n",
       "</div>"
      ],
      "text/plain": [
       "         Sample1  Sample2  Sample3  Sample4  Sample5  Sample6  Sample7  \\\n",
       "Gene1      76.85    29.53     7.57    92.21    41.48     7.67    60.84   \n",
       "Gene2      39.45    85.04    77.22    93.47    39.17    98.00    40.12   \n",
       "Gene3      47.17    44.99     8.43    48.17    57.99    42.98    39.36   \n",
       "Gene4       0.60    29.85    93.68    99.83    59.33    66.58    97.36   \n",
       "Gene5      75.00    25.52    18.22    72.14    59.03    40.48    77.92   \n",
       "...          ...      ...      ...      ...      ...      ...      ...   \n",
       "Gene96     58.32    88.38    10.11    96.15    32.61    73.66    30.21   \n",
       "Gene97     23.25    77.78    89.51    53.73    21.62     2.21    37.44   \n",
       "Gene98     12.13    85.86    69.77    75.48    35.44    87.63     2.03   \n",
       "Gene99     19.27    25.05    63.26    85.38    75.40    40.22    19.66   \n",
       "Gene100    36.99    76.11    94.44    69.70    87.45     7.54    69.17   \n",
       "\n",
       "         Sample8  Sample9  Sample10  \n",
       "Gene1      75.98    66.33     84.45  \n",
       "Gene2      63.34    70.06     68.69  \n",
       "Gene3       0.91    10.89      1.53  \n",
       "Gene4      61.73    38.13     84.76  \n",
       "Gene5      71.82    89.36     61.75  \n",
       "...          ...      ...       ...  \n",
       "Gene96     90.02    95.41     13.99  \n",
       "Gene97     47.71    44.60      8.36  \n",
       "Gene98     42.35    96.95     94.42  \n",
       "Gene99     77.41     9.74     47.95  \n",
       "Gene100    62.93    46.33     77.64  \n",
       "\n",
       "[100 rows x 10 columns]"
      ]
     },
     "execution_count": 42,
     "metadata": {},
     "output_type": "execute_result"
    }
   ],
   "source": [
    "# read the data\n",
    "# we will use the pandas read_csv function\n",
    "# we can ignore comment lines setting up the comment attribute to \"#\" \n",
    "# the comment argument is set to the character that a comment line starts with \n",
    "# in this case \"#\", so comment = \"#\"\n",
    "# we can set the sep argument to the character used to separate the line elements \n",
    "# elements in a line/row are separated by tab, \\t, so we set up sep = \"\\t\"\n",
    "\n",
    "expr_data = pd.read_csv(\"expression_data.txt\", comment = \"#\", sep = \"\\t\")\n",
    "expr_data"
   ]
  },
  {
   "cell_type": "code",
   "execution_count": 43,
   "metadata": {},
   "outputs": [],
   "source": [
    "# explore the ttest_ind function\n",
    "\n",
    "# help(stats.ttest_ind)\n"
   ]
  },
  {
   "cell_type": "markdown",
   "metadata": {},
   "source": [
    "```\n",
    "ttest_ind(a, b, axis=0, equal_var=True, nan_policy='propagate', permutations=None, random_state=None, alternative='two-sided', trim=0)\n",
    "    Calculate the T-test for the means of *two independent* samples of scores.\n",
    "    \n",
    "    This is a two-sided test for the null hypothesis that 2 independent samples\n",
    "    have identical average (expected) values. This test assumes that the\n",
    "    populations have identical variances by default.\n",
    "    \n",
    "    Parameters\n",
    "    ----------\n",
    "    a, b : array_like\n",
    "        The arrays must have the same shape, except in the dimension\n",
    "        corresponding to `axis` (the first, by default).\n",
    "    axis : int or None, optional\n",
    "        Axis along which to compute test. If None, compute over the whole\n",
    "        arrays, `a`, and `b`.\n",
    "        \n",
    " ... ... ...\n",
    "    >>> from scipy import stats\n",
    "    >>> rng = np.random.default_rng()\n",
    "    \n",
    "    Test with sample with identical means:\n",
    "    \n",
    "    >>> rvs1 = stats.norm.rvs(loc=5, scale=10, size=500, random_state=rng)\n",
    "    >>> rvs2 = stats.norm.rvs(loc=5, scale=10, size=500, random_state=rng)\n",
    "    >>> stats.ttest_ind(rvs1, rvs2)\n",
    "    Ttest_indResult(statistic=-0.4390847099199348, pvalue=0.6606952038870015)\n",
    "    >>> stats.ttest_ind(rvs1, rvs2, equal_var=False)\n",
    "    Ttest_indResult(statistic=-0.4390847099199348, pvalue=0.6606952553131064)\n",
    "    \n",
    "```"
   ]
  },
  {
   "cell_type": "code",
   "execution_count": 44,
   "metadata": {},
   "outputs": [
    {
     "data": {
      "text/plain": [
       "Ttest_indResult(statistic=-2.529822128134704, pvalue=0.06467689395635302)"
      ]
     },
     "execution_count": 44,
     "metadata": {},
     "output_type": "execute_result"
    }
   ],
   "source": [
    "# test the funtion with some made-up data\n",
    "# a, b : array_like\n",
    "# we use a list and tuple\n",
    "\n",
    "stats.ttest_ind(a = [1,2,3], b = (3,5,6))"
   ]
  },
  {
   "cell_type": "code",
   "execution_count": 45,
   "metadata": {},
   "outputs": [
    {
     "data": {
      "text/plain": [
       "-2.529822128134704"
      ]
     },
     "execution_count": 45,
     "metadata": {},
     "output_type": "execute_result"
    }
   ],
   "source": [
    "# save ttest result into a variable\n",
    "# the result looks like a tuple and is an instance of (derived from) tuple \n",
    "# so we can index\n",
    "\n",
    "res = stats.ttest_ind(a = [1,2,3], b = (3,5,6))\n",
    "res[0]"
   ]
  },
  {
   "cell_type": "code",
   "execution_count": 46,
   "metadata": {},
   "outputs": [
    {
     "data": {
      "text/plain": [
       "True"
      ]
     },
     "execution_count": 46,
     "metadata": {},
     "output_type": "execute_result"
    }
   ],
   "source": [
    "isinstance(res,tuple)"
   ]
  },
  {
   "cell_type": "code",
   "execution_count": 47,
   "metadata": {},
   "outputs": [
    {
     "data": {
      "text/plain": [
       "scipy.stats.stats.Ttest_indResult"
      ]
     },
     "execution_count": 47,
     "metadata": {},
     "output_type": "execute_result"
    }
   ],
   "source": [
    "# look at the type\n",
    "type(res)"
   ]
  },
  {
   "cell_type": "code",
   "execution_count": 48,
   "metadata": {},
   "outputs": [],
   "source": [
    "# look what the object can do\n",
    "# same as a tuple -- count and inxed\n",
    "\n",
    "# dir(res)"
   ]
  },
  {
   "cell_type": "markdown",
   "metadata": {},
   "source": [
    "```\n",
    "[ ...\n",
    " 'count',\n",
    " 'index',\n",
    " 'pvalue',\n",
    " 'statistic']\n",
    "```"
   ]
  },
  {
   "cell_type": "code",
   "execution_count": 49,
   "metadata": {},
   "outputs": [
    {
     "data": {
      "text/plain": [
       "-2.529822128134704"
      ]
     },
     "execution_count": 49,
     "metadata": {},
     "output_type": "execute_result"
    }
   ],
   "source": [
    "# it also has 2 extra attributes: statistic (t-statistic) and pvalue\n",
    "\n",
    "res.statistic"
   ]
  },
  {
   "cell_type": "code",
   "execution_count": 50,
   "metadata": {},
   "outputs": [
    {
     "data": {
      "text/plain": [
       "0.06467689395635302"
      ]
     },
     "execution_count": 50,
     "metadata": {},
     "output_type": "execute_result"
    }
   ],
   "source": [
    "res.pvalue"
   ]
  },
  {
   "cell_type": "code",
   "execution_count": 51,
   "metadata": {},
   "outputs": [
    {
     "name": "stdout",
     "output_type": "stream",
     "text": [
      "matrix 1\n",
      "[[1 2 3]\n",
      " [4 5 6]]\n",
      "matrix 2\n",
      "[[ 5  6  7]\n",
      " [ 8  9 10]]\n"
     ]
    }
   ],
   "source": [
    "# could we also apply this between two matrices (2x3 arrays)?\n",
    "m1 = np.arange(1,7).reshape(2,3)\n",
    "m2 = np.arange(5,11).reshape(2,3)\n",
    "print(\"matrix 1\")\n",
    "print(m1)\n",
    "print(\"matrix 2\") \n",
    "print(m2)\n"
   ]
  },
  {
   "cell_type": "code",
   "execution_count": 52,
   "metadata": {},
   "outputs": [
    {
     "data": {
      "text/plain": [
       "Ttest_indResult(statistic=array([-1.88561808, -1.88561808, -1.88561808]), pvalue=array([0.2, 0.2, 0.2]))"
      ]
     },
     "execution_count": 52,
     "metadata": {},
     "output_type": "execute_result"
    }
   ],
   "source": [
    "# run/call the function with the 2 matrices\n",
    "# we get 3 statistics and 3 p-values =>\n",
    "# the test is applied between the respective columns\n",
    "# this is expected since the first axis, 0, is used by default \n",
    "\n",
    "stats.ttest_ind(a = m1, b = m2)"
   ]
  },
  {
   "cell_type": "code",
   "execution_count": 53,
   "metadata": {},
   "outputs": [
    {
     "data": {
      "text/plain": [
       "Ttest_indResult(statistic=array([-4.89897949, -4.89897949]), pvalue=array([0.00804989, 0.00804989]))"
      ]
     },
     "execution_count": 53,
     "metadata": {},
     "output_type": "execute_result"
    }
   ],
   "source": [
    "# call the function to apply the test between the respective rows\n",
    "# set the axis argument, use axis = 1\n",
    "\n",
    "stats.ttest_ind(a = m1, b = m2, axis = 1)"
   ]
  },
  {
   "cell_type": "code",
   "execution_count": 54,
   "metadata": {},
   "outputs": [
    {
     "data": {
      "text/plain": [
       "Ttest_indResult(statistic=-4.898979485566356, pvalue=0.00804989310083772)"
      ]
     },
     "execution_count": 54,
     "metadata": {},
     "output_type": "execute_result"
    }
   ],
   "source": [
    "# to double check \n",
    "# we do the test between the first row from each matrix\n",
    "# we should get the first statistic and the first p-value\n",
    "# from the  two present in the previous result\n",
    "\n",
    "stats.ttest_ind(a = [1,2,3], b = [5,6,7])"
   ]
  },
  {
   "cell_type": "code",
   "execution_count": null,
   "metadata": {},
   "outputs": [],
   "source": []
  },
  {
   "cell_type": "code",
   "execution_count": 55,
   "metadata": {},
   "outputs": [],
   "source": [
    "# now that we know that we can apply the test between matrices\n",
    "# we should create a matrix for healthy and one for disease\n",
    "# we use the group variable to separate the groups\n",
    "\n",
    "# set up the group variable\n",
    "group = [\"disease\", \"healthy\", \"disease\", \"disease\", \"healthy\",\n",
    "         \"healthy\", \"healthy\", \"disease\", \"disease\", \"disease\"]"
   ]
  },
  {
   "cell_type": "code",
   "execution_count": 56,
   "metadata": {},
   "outputs": [
    {
     "data": {
      "text/plain": [
       "False"
      ]
     },
     "execution_count": 56,
     "metadata": {},
     "output_type": "execute_result"
    }
   ],
   "source": [
    "# we cannot do vectorized operations on lists\n",
    "# the == will compare the list with the string\n",
    "\n",
    "group == \"healthy\""
   ]
  },
  {
   "cell_type": "code",
   "execution_count": 57,
   "metadata": {},
   "outputs": [
    {
     "data": {
      "text/plain": [
       "array([False,  True, False, False,  True,  True,  True, False, False,\n",
       "       False])"
      ]
     },
     "execution_count": 57,
     "metadata": {},
     "output_type": "execute_result"
    }
   ],
   "source": [
    "# We can make the list an array and use the == to create a \n",
    "# logical array that can be used to subset the columns of our data\n",
    "\n",
    "group_array = np.array(group)\n",
    "group_array == \"healthy\""
   ]
  },
  {
   "cell_type": "code",
   "execution_count": 58,
   "metadata": {},
   "outputs": [
    {
     "name": "stdout",
     "output_type": "stream",
     "text": [
      "expression in healthy\n",
      "         Sample2  Sample5  Sample6  Sample7\n",
      "Gene1      29.53    41.48     7.67    60.84\n",
      "Gene2      85.04    39.17    98.00    40.12\n",
      "Gene3      44.99    57.99    42.98    39.36\n",
      "Gene4      29.85    59.33    66.58    97.36\n",
      "Gene5      25.52    59.03    40.48    77.92\n",
      "...          ...      ...      ...      ...\n",
      "Gene96     88.38    32.61    73.66    30.21\n",
      "Gene97     77.78    21.62     2.21    37.44\n",
      "Gene98     85.86    35.44    87.63     2.03\n",
      "Gene99     25.05    75.40    40.22    19.66\n",
      "Gene100    76.11    87.45     7.54    69.17\n",
      "\n",
      "[100 rows x 4 columns]\n",
      "expression in disease\n",
      "         Sample1  Sample3  Sample4  Sample8  Sample9  Sample10\n",
      "Gene1      76.85     7.57    92.21    75.98    66.33     84.45\n",
      "Gene2      39.45    77.22    93.47    63.34    70.06     68.69\n",
      "Gene3      47.17     8.43    48.17     0.91    10.89      1.53\n",
      "Gene4       0.60    93.68    99.83    61.73    38.13     84.76\n",
      "Gene5      75.00    18.22    72.14    71.82    89.36     61.75\n",
      "...          ...      ...      ...      ...      ...       ...\n",
      "Gene96     58.32    10.11    96.15    90.02    95.41     13.99\n",
      "Gene97     23.25    89.51    53.73    47.71    44.60      8.36\n",
      "Gene98     12.13    69.77    75.48    42.35    96.95     94.42\n",
      "Gene99     19.27    63.26    85.38    77.41     9.74     47.95\n",
      "Gene100    36.99    94.44    69.70    62.93    46.33     77.64\n",
      "\n",
      "[100 rows x 6 columns]\n"
     ]
    }
   ],
   "source": [
    "# we use conitional subsetting of the columns for a dataframe \n",
    "# .loc[:,condititon]\n",
    "\n",
    "healthy_expr = expr_data.loc[:, group_array == \"healthy\"]\n",
    "disease_expr = expr_data.loc[:, group_array == \"disease\"]\n",
    "\n",
    "print(\"expression in healthy\")\n",
    "print(healthy_expr)\n",
    "print(\"expression in disease\")\n",
    "print(disease_expr)"
   ]
  },
  {
   "cell_type": "code",
   "execution_count": 59,
   "metadata": {},
   "outputs": [
    {
     "data": {
      "text/plain": [
       "Ttest_indResult(statistic=array([-1.80965493e+00, -2.07501694e-01,  2.28218525e+00,  7.08438304e-03,\n",
       "       -9.09162018e-01,  6.71033778e-01, -4.15915283e-01, -3.54609668e-01,\n",
       "        9.71890532e-02,  4.24880859e-01,  7.63571680e-01, -6.65329349e-01,\n",
       "       -5.13004620e-01, -2.16298068e+00, -2.66593067e-01,  4.52822199e-01,\n",
       "        6.64448319e-01, -9.25013168e-02, -5.05433002e-01,  4.33735296e-01,\n",
       "        1.13809456e-01, -2.59114704e-02,  1.59213354e+00, -1.77758599e+00,\n",
       "        1.45282203e+00,  3.89949100e-01,  9.71961632e-01, -5.92065312e-01,\n",
       "       -1.91904083e+00,  7.14815222e-01,  1.48824407e+00, -1.10217102e+00,\n",
       "        7.94001166e-01,  1.42410294e+00, -9.66744557e-01, -1.45044000e-01,\n",
       "        2.83559690e+00,  2.98114568e-01, -3.20359206e-02, -1.89389565e+00,\n",
       "        3.76696588e-01,  2.51563706e+00, -3.36438018e+00,  1.08330328e+00,\n",
       "        8.05587009e-01,  1.18753005e+00,  1.19676421e+00,  1.11480007e+00,\n",
       "       -6.53005252e-02,  6.14577467e-01,  1.65503937e-01,  5.15135640e-01,\n",
       "        2.68958125e-01, -2.89155191e-01,  1.15772762e+00,  2.77260522e+00,\n",
       "       -9.73806712e-01,  1.98646742e-03, -1.46880301e+00,  8.80720744e-01,\n",
       "       -2.03944236e+00,  1.18300102e+00,  1.02536271e+00, -2.16616314e+00,\n",
       "        3.71596548e-01, -9.49799007e-01, -2.31957191e-01, -1.53340433e+00,\n",
       "       -4.27411138e-01, -1.57911096e+00, -6.38918442e-02,  1.48344081e+00,\n",
       "       -1.07179486e+00, -3.47836466e-01, -4.06396384e-01,  1.17143344e+00,\n",
       "       -2.49417618e-01, -3.43835767e+00,  1.05858061e+00,  1.43246904e+00,\n",
       "       -2.00235320e-01, -1.40526443e+00,  1.37089156e+00,  5.76925685e-01,\n",
       "        9.77255740e-01, -7.30522031e-01, -1.90677131e-01,  4.71028415e-01,\n",
       "        8.98349557e-01, -1.93643910e-01,  3.03433700e-01,  5.16194940e-01,\n",
       "        1.16711540e+00,  2.65112778e-01, -5.96337880e-01, -1.89101638e-01,\n",
       "       -5.12503129e-01, -5.31794999e-01, -5.60392161e-01, -2.59705476e-01]), pvalue=array([0.10794759, 0.84080278, 0.05189402, 0.994521  , 0.38983254,\n",
       "       0.52109846, 0.68840501, 0.73204816, 0.92496704, 0.68212044,\n",
       "       0.46704155, 0.52455373, 0.62181016, 0.06249845, 0.7965253 ,\n",
       "       0.66270496, 0.52508864, 0.92857424, 0.62688299, 0.67593957,\n",
       "       0.91219319, 0.97996264, 0.1500197 , 0.11336718, 0.18434204,\n",
       "       0.70675078, 0.35953628, 0.57015689, 0.09125042, 0.49505075,\n",
       "       0.17500708, 0.30243795, 0.45010296, 0.19223106, 0.36198418,\n",
       "       0.88826383, 0.02196024, 0.77321152, 0.97522825, 0.09485537,\n",
       "       0.71619419, 0.03605295, 0.00986746, 0.31024064, 0.4437643 ,\n",
       "       0.26907914, 0.26565758, 0.29730296, 0.94953705, 0.55590548,\n",
       "       0.87265328, 0.62038627, 0.79476816, 0.77981433, 0.28036894,\n",
       "       0.02419917, 0.35867353, 0.99846367, 0.18007715, 0.40415048,\n",
       "       0.07573936, 0.27077048, 0.33519414, 0.06218927, 0.71984236,\n",
       "       0.37002126, 0.82239467, 0.16371823, 0.68035153, 0.15296423,\n",
       "       0.95062396, 0.17624777, 0.31507743, 0.73693796, 0.69510573,\n",
       "       0.27512984, 0.80932239, 0.00884519, 0.320704  , 0.1899028 ,\n",
       "       0.84629304, 0.19756565, 0.20763293, 0.5798573 , 0.35706497,\n",
       "       0.48591171, 0.8535285 , 0.65019731, 0.39523185, 0.85128106,\n",
       "       0.7693007 , 0.61967911, 0.27677175, 0.79762572, 0.56743614,\n",
       "       0.85472258, 0.62214549, 0.60931394, 0.59055581, 0.8016495 ]))"
      ]
     },
     "execution_count": 59,
     "metadata": {},
     "output_type": "execute_result"
    }
   ],
   "source": [
    "# call the ttest_ind function for the 2 matrices to compute \n",
    "# the t-test between the respective rows\n",
    "# the two rows to not need to have the same number of elements (4 vs 6)\n",
    "\n",
    "stats.ttest_ind(healthy_expr,disease_expr,1)"
   ]
  },
  {
   "cell_type": "code",
   "execution_count": 60,
   "metadata": {},
   "outputs": [
    {
     "data": {
      "text/plain": [
       "array([0.10794759, 0.84080278, 0.05189402, 0.994521  , 0.38983254,\n",
       "       0.52109846, 0.68840501, 0.73204816, 0.92496704, 0.68212044,\n",
       "       0.46704155, 0.52455373, 0.62181016, 0.06249845, 0.7965253 ,\n",
       "       0.66270496, 0.52508864, 0.92857424, 0.62688299, 0.67593957,\n",
       "       0.91219319, 0.97996264, 0.1500197 , 0.11336718, 0.18434204,\n",
       "       0.70675078, 0.35953628, 0.57015689, 0.09125042, 0.49505075,\n",
       "       0.17500708, 0.30243795, 0.45010296, 0.19223106, 0.36198418,\n",
       "       0.88826383, 0.02196024, 0.77321152, 0.97522825, 0.09485537,\n",
       "       0.71619419, 0.03605295, 0.00986746, 0.31024064, 0.4437643 ,\n",
       "       0.26907914, 0.26565758, 0.29730296, 0.94953705, 0.55590548,\n",
       "       0.87265328, 0.62038627, 0.79476816, 0.77981433, 0.28036894,\n",
       "       0.02419917, 0.35867353, 0.99846367, 0.18007715, 0.40415048,\n",
       "       0.07573936, 0.27077048, 0.33519414, 0.06218927, 0.71984236,\n",
       "       0.37002126, 0.82239467, 0.16371823, 0.68035153, 0.15296423,\n",
       "       0.95062396, 0.17624777, 0.31507743, 0.73693796, 0.69510573,\n",
       "       0.27512984, 0.80932239, 0.00884519, 0.320704  , 0.1899028 ,\n",
       "       0.84629304, 0.19756565, 0.20763293, 0.5798573 , 0.35706497,\n",
       "       0.48591171, 0.8535285 , 0.65019731, 0.39523185, 0.85128106,\n",
       "       0.7693007 , 0.61967911, 0.27677175, 0.79762572, 0.56743614,\n",
       "       0.85472258, 0.62214549, 0.60931394, 0.59055581, 0.8016495 ])"
      ]
     },
     "execution_count": 60,
     "metadata": {},
     "output_type": "execute_result"
    }
   ],
   "source": [
    "# we only need the pvalues\n",
    "ttest_pvalues = stats.ttest_ind(healthy_expr,disease_expr,1).pvalue\n",
    "ttest_pvalues"
   ]
  },
  {
   "cell_type": "code",
   "execution_count": 61,
   "metadata": {},
   "outputs": [
    {
     "data": {
      "text/plain": [
       "Gene1      0.107948\n",
       "Gene2      0.840803\n",
       "Gene3      0.051894\n",
       "Gene4      0.994521\n",
       "Gene5      0.389833\n",
       "             ...   \n",
       "Gene96     0.854723\n",
       "Gene97     0.622145\n",
       "Gene98     0.609314\n",
       "Gene99     0.590556\n",
       "Gene100    0.801649\n",
       "Length: 100, dtype: float64"
      ]
     },
     "execution_count": 61,
     "metadata": {},
     "output_type": "execute_result"
    }
   ],
   "source": [
    "# we create a pandas Series to have the p-values and the gene symbols together\n",
    "# the gene symbols are available as the rowlabels (index) for the expr_data dataframe\n",
    "\n",
    "gene_pvals = pd.Series(data = ttest_pvalues, index = expr_data.index)\n",
    "gene_pvals"
   ]
  },
  {
   "cell_type": "code",
   "execution_count": 62,
   "metadata": {},
   "outputs": [
    {
     "data": {
      "text/plain": [
       "Gene3     0.051894\n",
       "Gene14    0.062498\n",
       "Gene29    0.091250\n",
       "Gene37    0.021960\n",
       "Gene40    0.094855\n",
       "Gene42    0.036053\n",
       "Gene43    0.009867\n",
       "Gene56    0.024199\n",
       "Gene61    0.075739\n",
       "Gene64    0.062189\n",
       "Gene78    0.008845\n",
       "dtype: float64"
      ]
     },
     "execution_count": 62,
     "metadata": {},
     "output_type": "execute_result"
    }
   ],
   "source": [
    "# Select the genes that have a p-value < 10% on a t-test between the expression in disease and the expression in healthy.\n",
    "# Conditional subsetting of the series\n",
    "\n",
    "gene_pvals[gene_pvals < 0.1]"
   ]
  },
  {
   "cell_type": "code",
   "execution_count": 63,
   "metadata": {},
   "outputs": [
    {
     "data": {
      "text/plain": [
       "numpy.ndarray"
      ]
     },
     "execution_count": 63,
     "metadata": {},
     "output_type": "execute_result"
    }
   ],
   "source": [
    "type(group_array)"
   ]
  },
  {
   "cell_type": "code",
   "execution_count": 64,
   "metadata": {},
   "outputs": [
    {
     "data": {
      "text/plain": [
       "array(['disease', 'healthy'], dtype='<U7')"
      ]
     },
     "execution_count": 64,
     "metadata": {},
     "output_type": "execute_result"
    }
   ],
   "source": [
    "# get the array of unique elements from a given array\n",
    "np.unique(group_array)"
   ]
  },
  {
   "cell_type": "code",
   "execution_count": 65,
   "metadata": {},
   "outputs": [
    {
     "data": {
      "text/plain": [
       "0.6613276773863003"
      ]
     },
     "execution_count": 65,
     "metadata": {},
     "output_type": "execute_result"
    }
   ],
   "source": [
    "# alternative solution - using a function to get a p-value for a row in the expr_data dataframe\n",
    "\n",
    "def run_ttest(gene_expr, group_vec):\n",
    "    '''\n",
    "    Computes the p-value of a t-test between the labels of two groups.\n",
    "    Args:\n",
    "    gene_expr (): the expression of a gene in the samples from the two groups\n",
    "    '''\n",
    "    gr_unique = np.unique(group_vec)\n",
    "    # print(gr_unique[0])\n",
    "    x = gene_expr[group_vec == gr_unique[0]]\n",
    "    # print(x)\n",
    "    y = gene_expr[group_vec == gr_unique[1]]\n",
    "    #print(y)\n",
    "    return stats.ttest_ind(x, y).pvalue\n",
    "\n",
    "# test the function with some test data\n",
    "run_ttest(np.array([2,3,4,5,7, 4,3,6,4,8]), group_array)  \n",
    "\n"
   ]
  },
  {
   "cell_type": "code",
   "execution_count": 66,
   "metadata": {},
   "outputs": [
    {
     "data": {
      "text/plain": [
       "Gene1      0.107948\n",
       "Gene2      0.840803\n",
       "Gene3      0.051894\n",
       "Gene4      0.994521\n",
       "Gene5      0.389833\n",
       "             ...   \n",
       "Gene96     0.854723\n",
       "Gene97     0.622145\n",
       "Gene98     0.609314\n",
       "Gene99     0.590556\n",
       "Gene100    0.801649\n",
       "Length: 100, dtype: float64"
      ]
     },
     "execution_count": 66,
     "metadata": {},
     "output_type": "execute_result"
    }
   ],
   "source": [
    "# Apply the function to each row of the dataframe\n",
    "# call the funtion giving each row one by one as an argument (first argument) and collecting the results in a series\n",
    "# other arguments can be passed to the applied function by using the name of the argument and providing a value\n",
    "# e.g.: group_vec = group_array\n",
    "\n",
    "pv = expr_data.apply(run_ttest, axis = 1, group_vec = group_array)\n",
    "pv"
   ]
  },
  {
   "cell_type": "code",
   "execution_count": 67,
   "metadata": {
    "tags": []
   },
   "outputs": [],
   "source": [
    "# help(expr_data.apply)"
   ]
  },
  {
   "cell_type": "markdown",
   "metadata": {},
   "source": [
    "```\n",
    "Help on method apply in module pandas.core.frame:\n",
    "\n",
    "apply(func: 'AggFuncType', axis: 'Axis' = 0, raw: 'bool' = False, result_type=None, args=(), **kwargs) method of pandas.core.frame.DataFrame instance\n",
    "    Apply a function along an axis of the DataFrame.\n",
    "    \n",
    "    Objects passed to the function are Series objects whose index is\n",
    "    either the DataFrame's index (``axis=0``) or the DataFrame's columns\n",
    "    (``axis=1``). By default (``result_type=None``), the final return type\n",
    "    is inferred from the return type of the applied function. Otherwise,\n",
    "    it depends on the `result_type` argument.\n",
    "    \n",
    "    Parameters\n",
    "    ----------\n",
    "    func : function\n",
    "        Function to apply to each column or row.\n",
    "    axis : {0 or 'index', 1 or 'columns'}, default 0\n",
    "        Axis along which the function is applied:\n",
    "    \n",
    "        * 0 or 'index': apply function to each column.\n",
    "        * 1 or 'columns': apply function to each row.\n",
    "        \n",
    "... ... ...\n",
    "\n",
    "   Examples\n",
    "    --------\n",
    "    >>> df = pd.DataFrame([[4, 9]] * 3, columns=['A', 'B'])\n",
    "    >>> df\n",
    "       A  B\n",
    "    0  4  9\n",
    "    1  4  9\n",
    "    2  4  9\n",
    "    \n",
    "    Using a numpy universal function (in this case the same as\n",
    "    ``np.sqrt(df)``):\n",
    "    \n",
    "    >>> df.apply(np.sqrt)\n",
    "         A    B\n",
    "    0  2.0  3.0\n",
    "    1  2.0  3.0\n",
    "    2  2.0  3.0\n",
    "    \n",
    "    Using a reducing function on either axis\n",
    "    \n",
    "    >>> df.apply(np.sum, axis=0)\n",
    "    A    12\n",
    "    B    27\n",
    "    dtype: int64\n",
    "    \n",
    "    >>> df.apply(np.sum, axis=1)\n",
    "    0    13\n",
    "    1    13\n",
    "    2    13\n",
    "    dtype: int64\n",
    "\n",
    "```"
   ]
  },
  {
   "cell_type": "code",
   "execution_count": 68,
   "metadata": {},
   "outputs": [
    {
     "data": {
      "text/plain": [
       "Gene3     0.051894\n",
       "Gene14    0.062498\n",
       "Gene29    0.091250\n",
       "Gene37    0.021960\n",
       "Gene40    0.094855\n",
       "Gene42    0.036053\n",
       "Gene43    0.009867\n",
       "Gene56    0.024199\n",
       "Gene61    0.075739\n",
       "Gene64    0.062189\n",
       "Gene78    0.008845\n",
       "dtype: float64"
      ]
     },
     "execution_count": 68,
     "metadata": {},
     "output_type": "execute_result"
    }
   ],
   "source": [
    "# Select the genes that have a p-value < 10% on a t-test between the expression in disease and the expression in healthy.\n",
    "# Conditional subsetting of the series\n",
    "\n",
    "pv[pv < 0.1]"
   ]
  },
  {
   "cell_type": "code",
   "execution_count": null,
   "metadata": {},
   "outputs": [],
   "source": []
  },
  {
   "cell_type": "markdown",
   "metadata": {
    "tags": []
   },
   "source": [
    "___\n",
    "\n",
    "#### <font color = \"red\">Exercise</font>\n",
    "\n",
    "#### Select the GO (gene ontology) terms for the genes that have a p-value < 10%.   \n",
    "Gene ontology terms tell us what biological processes, molecular functions, and cellular components the genes are associated with.     \n",
    "http://geneontology.org/docs/ontology-documentation/   \n",
    "\n",
    "The file `gene_go.txt` contains that association.   \n",
    "Note: look for the `.isin' method for a pd.Series.\n"
   ]
  },
  {
   "cell_type": "code",
   "execution_count": 69,
   "metadata": {},
   "outputs": [],
   "source": [
    "# Write your solution here\n",
    "\n"
   ]
  },
  {
   "cell_type": "code",
   "execution_count": 70,
   "metadata": {},
   "outputs": [
    {
     "data": {
      "text/plain": [
       "Gene3     0.051894\n",
       "Gene14    0.062498\n",
       "Gene29    0.091250\n",
       "Gene37    0.021960\n",
       "Gene40    0.094855\n",
       "Gene42    0.036053\n",
       "Gene43    0.009867\n",
       "Gene56    0.024199\n",
       "Gene61    0.075739\n",
       "Gene64    0.062189\n",
       "Gene78    0.008845\n",
       "dtype: float64"
      ]
     },
     "execution_count": 70,
     "metadata": {},
     "output_type": "execute_result"
    }
   ],
   "source": [
    "# Select the genes that have a p-value < 10% on a t-test between the expression in disease and the expression in healthy.\n",
    "pv[pv < 0.1]"
   ]
  },
  {
   "cell_type": "code",
   "execution_count": 71,
   "metadata": {},
   "outputs": [
    {
     "data": {
      "text/plain": [
       "Index(['Gene3', 'Gene14', 'Gene29', 'Gene37', 'Gene40', 'Gene42', 'Gene43',\n",
       "       'Gene56', 'Gene61', 'Gene64', 'Gene78'],\n",
       "      dtype='object')"
      ]
     },
     "execution_count": 71,
     "metadata": {},
     "output_type": "execute_result"
    }
   ],
   "source": [
    "# Get only the gene symbols - the index\n",
    "\n",
    "selected_genes = pv[pv < 0.1].index\n",
    "selected_genes"
   ]
  },
  {
   "cell_type": "code",
   "execution_count": 72,
   "metadata": {},
   "outputs": [
    {
     "data": {
      "text/html": [
       "<div>\n",
       "<style scoped>\n",
       "    .dataframe tbody tr th:only-of-type {\n",
       "        vertical-align: middle;\n",
       "    }\n",
       "\n",
       "    .dataframe tbody tr th {\n",
       "        vertical-align: top;\n",
       "    }\n",
       "\n",
       "    .dataframe thead th {\n",
       "        text-align: right;\n",
       "    }\n",
       "</style>\n",
       "<table border=\"1\" class=\"dataframe\">\n",
       "  <thead>\n",
       "    <tr style=\"text-align: right;\">\n",
       "      <th></th>\n",
       "      <th>Gene</th>\n",
       "      <th>GO</th>\n",
       "    </tr>\n",
       "  </thead>\n",
       "  <tbody>\n",
       "    <tr>\n",
       "      <th>0</th>\n",
       "      <td>Gene3</td>\n",
       "      <td>GO66</td>\n",
       "    </tr>\n",
       "    <tr>\n",
       "      <th>1</th>\n",
       "      <td>Gene22</td>\n",
       "      <td>GO250</td>\n",
       "    </tr>\n",
       "    <tr>\n",
       "      <th>2</th>\n",
       "      <td>Gene74</td>\n",
       "      <td>GO233</td>\n",
       "    </tr>\n",
       "    <tr>\n",
       "      <th>3</th>\n",
       "      <td>Gene91</td>\n",
       "      <td>GO489</td>\n",
       "    </tr>\n",
       "    <tr>\n",
       "      <th>4</th>\n",
       "      <td>Gene99</td>\n",
       "      <td>GO88</td>\n",
       "    </tr>\n",
       "    <tr>\n",
       "      <th>...</th>\n",
       "      <td>...</td>\n",
       "      <td>...</td>\n",
       "    </tr>\n",
       "    <tr>\n",
       "      <th>95</th>\n",
       "      <td>Gene65</td>\n",
       "      <td>GO161</td>\n",
       "    </tr>\n",
       "    <tr>\n",
       "      <th>96</th>\n",
       "      <td>Gene25</td>\n",
       "      <td>GO102</td>\n",
       "    </tr>\n",
       "    <tr>\n",
       "      <th>97</th>\n",
       "      <td>Gene100</td>\n",
       "      <td>GO473</td>\n",
       "    </tr>\n",
       "    <tr>\n",
       "      <th>98</th>\n",
       "      <td>Gene68</td>\n",
       "      <td>GO188</td>\n",
       "    </tr>\n",
       "    <tr>\n",
       "      <th>99</th>\n",
       "      <td>Gene88</td>\n",
       "      <td>GO326</td>\n",
       "    </tr>\n",
       "  </tbody>\n",
       "</table>\n",
       "<p>100 rows × 2 columns</p>\n",
       "</div>"
      ],
      "text/plain": [
       "       Gene     GO\n",
       "0     Gene3   GO66\n",
       "1    Gene22  GO250\n",
       "2    Gene74  GO233\n",
       "3    Gene91  GO489\n",
       "4    Gene99   GO88\n",
       "..      ...    ...\n",
       "95   Gene65  GO161\n",
       "96   Gene25  GO102\n",
       "97  Gene100  GO473\n",
       "98   Gene68  GO188\n",
       "99   Gene88  GO326\n",
       "\n",
       "[100 rows x 2 columns]"
      ]
     },
     "execution_count": 72,
     "metadata": {},
     "output_type": "execute_result"
    }
   ],
   "source": [
    "# read the data from the file\n",
    "# index_col=0 allows usto setup the first (index 0) column, in the file as the row lables (dataframe index)\n",
    "\n",
    "gene_go = pd.read_csv(\"gene_go.txt\", index_col=0)\n",
    "gene_go"
   ]
  },
  {
   "cell_type": "code",
   "execution_count": 73,
   "metadata": {},
   "outputs": [
    {
     "data": {
      "text/plain": [
       "0       Gene3\n",
       "1      Gene22\n",
       "2      Gene74\n",
       "3      Gene91\n",
       "4      Gene99\n",
       "       ...   \n",
       "95     Gene65\n",
       "96     Gene25\n",
       "97    Gene100\n",
       "98     Gene68\n",
       "99     Gene88\n",
       "Name: Gene, Length: 100, dtype: object"
      ]
     },
     "execution_count": 73,
     "metadata": {},
     "output_type": "execute_result"
    }
   ],
   "source": [
    "# Get the Gene column from the dataframe  \n",
    "gene_go.Gene"
   ]
  },
  {
   "cell_type": "code",
   "execution_count": 74,
   "metadata": {},
   "outputs": [
    {
     "data": {
      "text/plain": [
       "0      True\n",
       "1     False\n",
       "2     False\n",
       "3     False\n",
       "4     False\n",
       "      ...  \n",
       "95    False\n",
       "96    False\n",
       "97    False\n",
       "98    False\n",
       "99    False\n",
       "Name: Gene, Length: 100, dtype: bool"
      ]
     },
     "execution_count": 74,
     "metadata": {},
     "output_type": "execute_result"
    }
   ],
   "source": [
    "# for a pandas Series we can use the isin method to check if each \n",
    "# of the elements of the Series is in a specific iterable\n",
    "# it results in a logical Series with True or False for each of the \n",
    "# elements in the series\n",
    "\n",
    "gene_go.Gene.isin(selected_genes)"
   ]
  },
  {
   "cell_type": "code",
   "execution_count": 75,
   "metadata": {},
   "outputs": [
    {
     "data": {
      "text/html": [
       "<div>\n",
       "<style scoped>\n",
       "    .dataframe tbody tr th:only-of-type {\n",
       "        vertical-align: middle;\n",
       "    }\n",
       "\n",
       "    .dataframe tbody tr th {\n",
       "        vertical-align: top;\n",
       "    }\n",
       "\n",
       "    .dataframe thead th {\n",
       "        text-align: right;\n",
       "    }\n",
       "</style>\n",
       "<table border=\"1\" class=\"dataframe\">\n",
       "  <thead>\n",
       "    <tr style=\"text-align: right;\">\n",
       "      <th></th>\n",
       "      <th>Gene</th>\n",
       "      <th>GO</th>\n",
       "    </tr>\n",
       "  </thead>\n",
       "  <tbody>\n",
       "    <tr>\n",
       "      <th>0</th>\n",
       "      <td>Gene3</td>\n",
       "      <td>GO66</td>\n",
       "    </tr>\n",
       "    <tr>\n",
       "      <th>20</th>\n",
       "      <td>Gene43</td>\n",
       "      <td>GO218</td>\n",
       "    </tr>\n",
       "    <tr>\n",
       "      <th>21</th>\n",
       "      <td>Gene42</td>\n",
       "      <td>GO334</td>\n",
       "    </tr>\n",
       "    <tr>\n",
       "      <th>24</th>\n",
       "      <td>Gene64</td>\n",
       "      <td>GO40</td>\n",
       "    </tr>\n",
       "    <tr>\n",
       "      <th>36</th>\n",
       "      <td>Gene29</td>\n",
       "      <td>GO429</td>\n",
       "    </tr>\n",
       "    <tr>\n",
       "      <th>37</th>\n",
       "      <td>Gene78</td>\n",
       "      <td>GO56</td>\n",
       "    </tr>\n",
       "    <tr>\n",
       "      <th>47</th>\n",
       "      <td>Gene40</td>\n",
       "      <td>GO400</td>\n",
       "    </tr>\n",
       "    <tr>\n",
       "      <th>57</th>\n",
       "      <td>Gene56</td>\n",
       "      <td>GO162</td>\n",
       "    </tr>\n",
       "    <tr>\n",
       "      <th>58</th>\n",
       "      <td>Gene61</td>\n",
       "      <td>GO237</td>\n",
       "    </tr>\n",
       "    <tr>\n",
       "      <th>67</th>\n",
       "      <td>Gene37</td>\n",
       "      <td>GO345</td>\n",
       "    </tr>\n",
       "    <tr>\n",
       "      <th>69</th>\n",
       "      <td>Gene14</td>\n",
       "      <td>GO264</td>\n",
       "    </tr>\n",
       "  </tbody>\n",
       "</table>\n",
       "</div>"
      ],
      "text/plain": [
       "      Gene     GO\n",
       "0    Gene3   GO66\n",
       "20  Gene43  GO218\n",
       "21  Gene42  GO334\n",
       "24  Gene64   GO40\n",
       "36  Gene29  GO429\n",
       "37  Gene78   GO56\n",
       "47  Gene40  GO400\n",
       "57  Gene56  GO162\n",
       "58  Gene61  GO237\n",
       "67  Gene37  GO345\n",
       "69  Gene14  GO264"
      ]
     },
     "execution_count": 75,
     "metadata": {},
     "output_type": "execute_result"
    }
   ],
   "source": [
    "# We use conditional subsetting to get from our gene_go dataframe \n",
    "# only the rows that meet the condition\n",
    "# only the rows where the logical Series has a value of True\n",
    "\n",
    "gene_go[gene_go.Gene.isin(selected_genes)] "
   ]
  },
  {
   "cell_type": "code",
   "execution_count": 76,
   "metadata": {},
   "outputs": [
    {
     "data": {
      "text/plain": [
       "0      GO66\n",
       "20    GO218\n",
       "21    GO334\n",
       "24     GO40\n",
       "36    GO429\n",
       "37     GO56\n",
       "47    GO400\n",
       "57    GO162\n",
       "58    GO237\n",
       "67    GO345\n",
       "69    GO264\n",
       "Name: GO, dtype: object"
      ]
     },
     "execution_count": 76,
     "metadata": {},
     "output_type": "execute_result"
    }
   ],
   "source": [
    "# we can also look at only the GO column\n",
    "\n",
    "gene_go.GO[gene_go.Gene.isin(selected_genes)] # or  \n",
    "gene_go[gene_go.Gene.isin(selected_genes)].GO\n"
   ]
  },
  {
   "cell_type": "code",
   "execution_count": null,
   "metadata": {},
   "outputs": [],
   "source": []
  },
  {
   "cell_type": "code",
   "execution_count": null,
   "metadata": {},
   "outputs": [],
   "source": []
  },
  {
   "cell_type": "markdown",
   "metadata": {
    "tags": []
   },
   "source": [
    "___\n",
    "\n",
    "#### <font color = \"red\">Exercise</font>\n",
    "\n",
    "#### Visualize the data   \n",
    "- Plot the data for the 2 genes with the lowest p-value in the same plot, scatterplot\n",
    "- Plot the disease and healthy data points for the gene with the lowest p-value \n",
    "- plot a heatmap of the whole data use the groups as column labels to see if there is a difference between groups\n"
   ]
  },
  {
   "cell_type": "code",
   "execution_count": 77,
   "metadata": {},
   "outputs": [
    {
     "data": {
      "text/plain": [
       "['disease',\n",
       " 'healthy',\n",
       " 'disease',\n",
       " 'disease',\n",
       " 'healthy',\n",
       " 'healthy',\n",
       " 'healthy',\n",
       " 'disease',\n",
       " 'disease',\n",
       " 'disease']"
      ]
     },
     "execution_count": 77,
     "metadata": {},
     "output_type": "execute_result"
    }
   ],
   "source": [
    "group"
   ]
  },
  {
   "cell_type": "code",
   "execution_count": 78,
   "metadata": {},
   "outputs": [
    {
     "data": {
      "text/plain": [
       "array(['disease', 'healthy', 'disease', 'disease', 'healthy', 'healthy',\n",
       "       'healthy', 'disease', 'disease', 'disease'], dtype='<U7')"
      ]
     },
     "execution_count": 78,
     "metadata": {},
     "output_type": "execute_result"
    }
   ],
   "source": [
    "# group_array = np.array(group)\n",
    "group_array"
   ]
  },
  {
   "cell_type": "code",
   "execution_count": 79,
   "metadata": {},
   "outputs": [
    {
     "data": {
      "text/plain": [
       "Gene78    0.008845\n",
       "Gene43    0.009867\n",
       "Gene37    0.021960\n",
       "Gene56    0.024199\n",
       "Gene42    0.036053\n",
       "Gene3     0.051894\n",
       "Gene64    0.062189\n",
       "Gene14    0.062498\n",
       "Gene61    0.075739\n",
       "Gene29    0.091250\n",
       "Gene40    0.094855\n",
       "dtype: float64"
      ]
     },
     "execution_count": 79,
     "metadata": {},
     "output_type": "execute_result"
    }
   ],
   "source": [
    "# get selected genes and p-values and sort them\n",
    "\n",
    "sel_gene_pv = pv[pv < 0.1].sort_values()\n",
    "sel_gene_pv"
   ]
  },
  {
   "cell_type": "code",
   "execution_count": 80,
   "metadata": {},
   "outputs": [],
   "source": [
    "# take the first 2 genes symbols \n",
    "# subset the index \n",
    "\n",
    "genes_to_plot = sel_gene_pv.index[:2]"
   ]
  },
  {
   "cell_type": "code",
   "execution_count": 81,
   "metadata": {},
   "outputs": [
    {
     "data": {
      "text/html": [
       "<div>\n",
       "<style scoped>\n",
       "    .dataframe tbody tr th:only-of-type {\n",
       "        vertical-align: middle;\n",
       "    }\n",
       "\n",
       "    .dataframe tbody tr th {\n",
       "        vertical-align: top;\n",
       "    }\n",
       "\n",
       "    .dataframe thead th {\n",
       "        text-align: right;\n",
       "    }\n",
       "</style>\n",
       "<table border=\"1\" class=\"dataframe\">\n",
       "  <thead>\n",
       "    <tr style=\"text-align: right;\">\n",
       "      <th></th>\n",
       "      <th>Sample1</th>\n",
       "      <th>Sample2</th>\n",
       "      <th>Sample3</th>\n",
       "      <th>Sample4</th>\n",
       "      <th>Sample5</th>\n",
       "      <th>Sample6</th>\n",
       "      <th>Sample7</th>\n",
       "      <th>Sample8</th>\n",
       "      <th>Sample9</th>\n",
       "      <th>Sample10</th>\n",
       "    </tr>\n",
       "  </thead>\n",
       "  <tbody>\n",
       "    <tr>\n",
       "      <th>Gene1</th>\n",
       "      <td>76.85</td>\n",
       "      <td>29.53</td>\n",
       "      <td>7.57</td>\n",
       "      <td>92.21</td>\n",
       "      <td>41.48</td>\n",
       "      <td>7.67</td>\n",
       "      <td>60.84</td>\n",
       "      <td>75.98</td>\n",
       "      <td>66.33</td>\n",
       "      <td>84.45</td>\n",
       "    </tr>\n",
       "    <tr>\n",
       "      <th>Gene2</th>\n",
       "      <td>39.45</td>\n",
       "      <td>85.04</td>\n",
       "      <td>77.22</td>\n",
       "      <td>93.47</td>\n",
       "      <td>39.17</td>\n",
       "      <td>98.00</td>\n",
       "      <td>40.12</td>\n",
       "      <td>63.34</td>\n",
       "      <td>70.06</td>\n",
       "      <td>68.69</td>\n",
       "    </tr>\n",
       "    <tr>\n",
       "      <th>Gene3</th>\n",
       "      <td>47.17</td>\n",
       "      <td>44.99</td>\n",
       "      <td>8.43</td>\n",
       "      <td>48.17</td>\n",
       "      <td>57.99</td>\n",
       "      <td>42.98</td>\n",
       "      <td>39.36</td>\n",
       "      <td>0.91</td>\n",
       "      <td>10.89</td>\n",
       "      <td>1.53</td>\n",
       "    </tr>\n",
       "    <tr>\n",
       "      <th>Gene4</th>\n",
       "      <td>0.60</td>\n",
       "      <td>29.85</td>\n",
       "      <td>93.68</td>\n",
       "      <td>99.83</td>\n",
       "      <td>59.33</td>\n",
       "      <td>66.58</td>\n",
       "      <td>97.36</td>\n",
       "      <td>61.73</td>\n",
       "      <td>38.13</td>\n",
       "      <td>84.76</td>\n",
       "    </tr>\n",
       "    <tr>\n",
       "      <th>Gene5</th>\n",
       "      <td>75.00</td>\n",
       "      <td>25.52</td>\n",
       "      <td>18.22</td>\n",
       "      <td>72.14</td>\n",
       "      <td>59.03</td>\n",
       "      <td>40.48</td>\n",
       "      <td>77.92</td>\n",
       "      <td>71.82</td>\n",
       "      <td>89.36</td>\n",
       "      <td>61.75</td>\n",
       "    </tr>\n",
       "  </tbody>\n",
       "</table>\n",
       "</div>"
      ],
      "text/plain": [
       "       Sample1  Sample2  Sample3  Sample4  Sample5  Sample6  Sample7  Sample8  \\\n",
       "Gene1    76.85    29.53     7.57    92.21    41.48     7.67    60.84    75.98   \n",
       "Gene2    39.45    85.04    77.22    93.47    39.17    98.00    40.12    63.34   \n",
       "Gene3    47.17    44.99     8.43    48.17    57.99    42.98    39.36     0.91   \n",
       "Gene4     0.60    29.85    93.68    99.83    59.33    66.58    97.36    61.73   \n",
       "Gene5    75.00    25.52    18.22    72.14    59.03    40.48    77.92    71.82   \n",
       "\n",
       "       Sample9  Sample10  \n",
       "Gene1    66.33     84.45  \n",
       "Gene2    70.06     68.69  \n",
       "Gene3    10.89      1.53  \n",
       "Gene4    38.13     84.76  \n",
       "Gene5    89.36     61.75  "
      ]
     },
     "execution_count": 81,
     "metadata": {},
     "output_type": "execute_result"
    }
   ],
   "source": [
    "# check the data\n",
    "expr_data.head()"
   ]
  },
  {
   "cell_type": "code",
   "execution_count": 82,
   "metadata": {},
   "outputs": [
    {
     "data": {
      "text/html": [
       "<div>\n",
       "<style scoped>\n",
       "    .dataframe tbody tr th:only-of-type {\n",
       "        vertical-align: middle;\n",
       "    }\n",
       "\n",
       "    .dataframe tbody tr th {\n",
       "        vertical-align: top;\n",
       "    }\n",
       "\n",
       "    .dataframe thead th {\n",
       "        text-align: right;\n",
       "    }\n",
       "</style>\n",
       "<table border=\"1\" class=\"dataframe\">\n",
       "  <thead>\n",
       "    <tr style=\"text-align: right;\">\n",
       "      <th></th>\n",
       "      <th>Sample1</th>\n",
       "      <th>Sample2</th>\n",
       "      <th>Sample3</th>\n",
       "      <th>Sample4</th>\n",
       "      <th>Sample5</th>\n",
       "      <th>Sample6</th>\n",
       "      <th>Sample7</th>\n",
       "      <th>Sample8</th>\n",
       "      <th>Sample9</th>\n",
       "      <th>Sample10</th>\n",
       "    </tr>\n",
       "  </thead>\n",
       "  <tbody>\n",
       "    <tr>\n",
       "      <th>Gene78</th>\n",
       "      <td>62.96</td>\n",
       "      <td>1.32</td>\n",
       "      <td>37.95</td>\n",
       "      <td>77.92</td>\n",
       "      <td>14.44</td>\n",
       "      <td>1.28</td>\n",
       "      <td>53.21</td>\n",
       "      <td>64.26</td>\n",
       "      <td>48.82</td>\n",
       "      <td>83.96</td>\n",
       "    </tr>\n",
       "    <tr>\n",
       "      <th>Gene43</th>\n",
       "      <td>55.82</td>\n",
       "      <td>29.21</td>\n",
       "      <td>56.19</td>\n",
       "      <td>49.53</td>\n",
       "      <td>9.29</td>\n",
       "      <td>48.84</td>\n",
       "      <td>35.92</td>\n",
       "      <td>48.48</td>\n",
       "      <td>70.48</td>\n",
       "      <td>59.61</td>\n",
       "    </tr>\n",
       "  </tbody>\n",
       "</table>\n",
       "</div>"
      ],
      "text/plain": [
       "        Sample1  Sample2  Sample3  Sample4  Sample5  Sample6  Sample7  \\\n",
       "Gene78    62.96     1.32    37.95    77.92    14.44     1.28    53.21   \n",
       "Gene43    55.82    29.21    56.19    49.53     9.29    48.84    35.92   \n",
       "\n",
       "        Sample8  Sample9  Sample10  \n",
       "Gene78    64.26    48.82     83.96  \n",
       "Gene43    48.48    70.48     59.61  "
      ]
     },
     "execution_count": 82,
     "metadata": {},
     "output_type": "execute_result"
    }
   ],
   "source": [
    "# subset the dataframe and only take the data for those 2 genes\n",
    "\n",
    "genes_plt_data = expr_data.loc[genes_to_plot,]\n",
    "genes_plt_data"
   ]
  },
  {
   "cell_type": "code",
   "execution_count": 83,
   "metadata": {},
   "outputs": [
    {
     "data": {
      "text/plain": [
       "<AxesSubplot:>"
      ]
     },
     "execution_count": 83,
     "metadata": {},
     "output_type": "execute_result"
    },
    {
     "data": {
      "image/png": "[encoded data removed]",
      "text/plain": [
       "<Figure size 432x288 with 1 Axes>"
      ]
     },
     "metadata": {
      "needs_background": "light"
     },
     "output_type": "display_data"
    }
   ],
   "source": [
    "genes_plt_data.T.plot()"
   ]
  },
  {
   "cell_type": "code",
   "execution_count": 84,
   "metadata": {},
   "outputs": [
    {
     "data": {
      "text/plain": [
       "<AxesSubplot:>"
      ]
     },
     "execution_count": 84,
     "metadata": {},
     "output_type": "execute_result"
    },
    {
     "data": {
      "image/png": "[encoded data removed]",
      "text/plain": [
       "<Figure size 432x288 with 1 Axes>"
      ]
     },
     "metadata": {
      "needs_background": "light"
     },
     "output_type": "display_data"
    }
   ],
   "source": [
    "genes_plt_data.T.plot(style = \".\")"
   ]
  },
  {
   "cell_type": "code",
   "execution_count": 85,
   "metadata": {},
   "outputs": [
    {
     "data": {
      "text/plain": [
       "'Gene78'"
      ]
     },
     "execution_count": 85,
     "metadata": {},
     "output_type": "execute_result"
    }
   ],
   "source": [
    "# take only the gene with the min p-value - the first gene [0]\n",
    "gene_min_pv = genes_to_plot[0]\n",
    "gene_min_pv"
   ]
  },
  {
   "cell_type": "code",
   "execution_count": 86,
   "metadata": {},
   "outputs": [
    {
     "data": {
      "text/plain": [
       "Sample1     62.96\n",
       "Sample2      1.32\n",
       "Sample3     37.95\n",
       "Sample4     77.92\n",
       "Sample5     14.44\n",
       "Sample6      1.28\n",
       "Sample7     53.21\n",
       "Sample8     64.26\n",
       "Sample9     48.82\n",
       "Sample10    83.96\n",
       "Name: Gene78, dtype: float64"
      ]
     },
     "execution_count": 86,
     "metadata": {},
     "output_type": "execute_result"
    }
   ],
   "source": [
    "# take only the data row for the gene with the min p-value - the first gene .loc[row_name,]\n",
    "\n",
    "gmpv_data = expr_data.loc[gene_min_pv,]\n",
    "gmpv_data"
   ]
  },
  {
   "cell_type": "code",
   "execution_count": 87,
   "metadata": {},
   "outputs": [
    {
     "data": {
      "text/html": [
       "<div>\n",
       "<style scoped>\n",
       "    .dataframe tbody tr th:only-of-type {\n",
       "        vertical-align: middle;\n",
       "    }\n",
       "\n",
       "    .dataframe tbody tr th {\n",
       "        vertical-align: top;\n",
       "    }\n",
       "\n",
       "    .dataframe thead th {\n",
       "        text-align: right;\n",
       "    }\n",
       "</style>\n",
       "<table border=\"1\" class=\"dataframe\">\n",
       "  <thead>\n",
       "    <tr style=\"text-align: right;\">\n",
       "      <th></th>\n",
       "      <th>Gene78</th>\n",
       "      <th>group</th>\n",
       "    </tr>\n",
       "  </thead>\n",
       "  <tbody>\n",
       "    <tr>\n",
       "      <th>Sample1</th>\n",
       "      <td>62.96</td>\n",
       "      <td>disease</td>\n",
       "    </tr>\n",
       "    <tr>\n",
       "      <th>Sample2</th>\n",
       "      <td>1.32</td>\n",
       "      <td>healthy</td>\n",
       "    </tr>\n",
       "    <tr>\n",
       "      <th>Sample3</th>\n",
       "      <td>37.95</td>\n",
       "      <td>disease</td>\n",
       "    </tr>\n",
       "    <tr>\n",
       "      <th>Sample4</th>\n",
       "      <td>77.92</td>\n",
       "      <td>disease</td>\n",
       "    </tr>\n",
       "    <tr>\n",
       "      <th>Sample5</th>\n",
       "      <td>14.44</td>\n",
       "      <td>healthy</td>\n",
       "    </tr>\n",
       "    <tr>\n",
       "      <th>Sample6</th>\n",
       "      <td>1.28</td>\n",
       "      <td>healthy</td>\n",
       "    </tr>\n",
       "    <tr>\n",
       "      <th>Sample7</th>\n",
       "      <td>53.21</td>\n",
       "      <td>healthy</td>\n",
       "    </tr>\n",
       "    <tr>\n",
       "      <th>Sample8</th>\n",
       "      <td>64.26</td>\n",
       "      <td>disease</td>\n",
       "    </tr>\n",
       "    <tr>\n",
       "      <th>Sample9</th>\n",
       "      <td>48.82</td>\n",
       "      <td>disease</td>\n",
       "    </tr>\n",
       "    <tr>\n",
       "      <th>Sample10</th>\n",
       "      <td>83.96</td>\n",
       "      <td>disease</td>\n",
       "    </tr>\n",
       "  </tbody>\n",
       "</table>\n",
       "</div>"
      ],
      "text/plain": [
       "          Gene78    group\n",
       "Sample1    62.96  disease\n",
       "Sample2     1.32  healthy\n",
       "Sample3    37.95  disease\n",
       "Sample4    77.92  disease\n",
       "Sample5    14.44  healthy\n",
       "Sample6     1.28  healthy\n",
       "Sample7    53.21  healthy\n",
       "Sample8    64.26  disease\n",
       "Sample9    48.82  disease\n",
       "Sample10   83.96  disease"
      ]
     },
     "execution_count": 87,
     "metadata": {},
     "output_type": "execute_result"
    }
   ],
   "source": [
    "# to plot using seaborn, we need a dataframe\n",
    "# we want to create a dataframe with 2 columns the values for the gene and the group\n",
    "# we can use concat or join to put together the 2 columns\n",
    "\n",
    "group_series = pd.Series(group, index = gmpv_data.index, name = \"group\")\n",
    "group_gene_df = pd.concat([gmpv_data, group_series], axis = 1)\n",
    "group_gene_df"
   ]
  },
  {
   "cell_type": "code",
   "execution_count": null,
   "metadata": {},
   "outputs": [],
   "source": []
  },
  {
   "cell_type": "code",
   "execution_count": 88,
   "metadata": {},
   "outputs": [
    {
     "data": {
      "text/plain": [
       "<AxesSubplot:xlabel='group', ylabel='Gene78'>"
      ]
     },
     "execution_count": 88,
     "metadata": {},
     "output_type": "execute_result"
    },
    {
     "data": {
      "image/png": "[encoded data removed]",
      "text/plain": [
       "<Figure size 432x288 with 1 Axes>"
      ]
     },
     "metadata": {
      "needs_background": "light"
     },
     "output_type": "display_data"
    }
   ],
   "source": [
    "# we import the seaborn functionality and use the boxplot\n",
    "\n",
    "import seaborn as sns\n",
    "sns.boxplot(data = group_gene_df, x = \"group\", y = gene_min_pv)"
   ]
  },
  {
   "cell_type": "code",
   "execution_count": 89,
   "metadata": {},
   "outputs": [
    {
     "data": {
      "text/plain": [
       "<AxesSubplot:>"
      ]
     },
     "execution_count": 89,
     "metadata": {},
     "output_type": "execute_result"
    },
    {
     "data": {
      "image/png": "[encoded data removed]",
      "text/plain": [
       "<Figure size 432x288 with 2 Axes>"
      ]
     },
     "metadata": {
      "needs_background": "light"
     },
     "output_type": "display_data"
    }
   ],
   "source": [
    "# prepare the data for heatmap, make a copy since we want to change lables and sort the data\n",
    "\n",
    "expr_data_sorted = expr_data\n",
    "# set the group as column labels \n",
    "# since we are interested in the group not the individual samples \n",
    "\n",
    "expr_data_sorted.columns = group\n",
    "\n",
    "# sort the columns by group getting the order using the np.argsort\n",
    "expr_data_sorted = expr_data_sorted.iloc[:,np.argsort(group)]\n",
    "\n",
    "sns.heatmap(expr_data_sorted)"
   ]
  },
  {
   "cell_type": "code",
   "execution_count": null,
   "metadata": {},
   "outputs": [],
   "source": []
  },
  {
   "cell_type": "code",
   "execution_count": 90,
   "metadata": {
    "collapsed": true,
    "jupyter": {
     "outputs_hidden": true
    },
    "tags": []
   },
   "outputs": [
    {
     "data": {
      "text/plain": [
       "\u001b[0;31mSignature:\u001b[0m\n",
       "\u001b[0msns\u001b[0m\u001b[0;34m.\u001b[0m\u001b[0mheatmap\u001b[0m\u001b[0;34m(\u001b[0m\u001b[0;34m\u001b[0m\n",
       "\u001b[0;34m\u001b[0m    \u001b[0mdata\u001b[0m\u001b[0;34m,\u001b[0m\u001b[0;34m\u001b[0m\n",
       "\u001b[0;34m\u001b[0m    \u001b[0;34m*\u001b[0m\u001b[0;34m,\u001b[0m\u001b[0;34m\u001b[0m\n",
       "\u001b[0;34m\u001b[0m    \u001b[0mvmin\u001b[0m\u001b[0;34m=\u001b[0m\u001b[0;32mNone\u001b[0m\u001b[0;34m,\u001b[0m\u001b[0;34m\u001b[0m\n",
       "\u001b[0;34m\u001b[0m    \u001b[0mvmax\u001b[0m\u001b[0;34m=\u001b[0m\u001b[0;32mNone\u001b[0m\u001b[0;34m,\u001b[0m\u001b[0;34m\u001b[0m\n",
       "\u001b[0;34m\u001b[0m    \u001b[0mcmap\u001b[0m\u001b[0;34m=\u001b[0m\u001b[0;32mNone\u001b[0m\u001b[0;34m,\u001b[0m\u001b[0;34m\u001b[0m\n",
       "\u001b[0;34m\u001b[0m    \u001b[0mcenter\u001b[0m\u001b[0;34m=\u001b[0m\u001b[0;32mNone\u001b[0m\u001b[0;34m,\u001b[0m\u001b[0;34m\u001b[0m\n",
       "\u001b[0;34m\u001b[0m    \u001b[0mrobust\u001b[0m\u001b[0;34m=\u001b[0m\u001b[0;32mFalse\u001b[0m\u001b[0;34m,\u001b[0m\u001b[0;34m\u001b[0m\n",
       "\u001b[0;34m\u001b[0m    \u001b[0mannot\u001b[0m\u001b[0;34m=\u001b[0m\u001b[0;32mNone\u001b[0m\u001b[0;34m,\u001b[0m\u001b[0;34m\u001b[0m\n",
       "\u001b[0;34m\u001b[0m    \u001b[0mfmt\u001b[0m\u001b[0;34m=\u001b[0m\u001b[0;34m'.2g'\u001b[0m\u001b[0;34m,\u001b[0m\u001b[0;34m\u001b[0m\n",
       "\u001b[0;34m\u001b[0m    \u001b[0mannot_kws\u001b[0m\u001b[0;34m=\u001b[0m\u001b[0;32mNone\u001b[0m\u001b[0;34m,\u001b[0m\u001b[0;34m\u001b[0m\n",
       "\u001b[0;34m\u001b[0m    \u001b[0mlinewidths\u001b[0m\u001b[0;34m=\u001b[0m\u001b[0;36m0\u001b[0m\u001b[0;34m,\u001b[0m\u001b[0;34m\u001b[0m\n",
       "\u001b[0;34m\u001b[0m    \u001b[0mlinecolor\u001b[0m\u001b[0;34m=\u001b[0m\u001b[0;34m'white'\u001b[0m\u001b[0;34m,\u001b[0m\u001b[0;34m\u001b[0m\n",
       "\u001b[0;34m\u001b[0m    \u001b[0mcbar\u001b[0m\u001b[0;34m=\u001b[0m\u001b[0;32mTrue\u001b[0m\u001b[0;34m,\u001b[0m\u001b[0;34m\u001b[0m\n",
       "\u001b[0;34m\u001b[0m    \u001b[0mcbar_kws\u001b[0m\u001b[0;34m=\u001b[0m\u001b[0;32mNone\u001b[0m\u001b[0;34m,\u001b[0m\u001b[0;34m\u001b[0m\n",
       "\u001b[0;34m\u001b[0m    \u001b[0mcbar_ax\u001b[0m\u001b[0;34m=\u001b[0m\u001b[0;32mNone\u001b[0m\u001b[0;34m,\u001b[0m\u001b[0;34m\u001b[0m\n",
       "\u001b[0;34m\u001b[0m    \u001b[0msquare\u001b[0m\u001b[0;34m=\u001b[0m\u001b[0;32mFalse\u001b[0m\u001b[0;34m,\u001b[0m\u001b[0;34m\u001b[0m\n",
       "\u001b[0;34m\u001b[0m    \u001b[0mxticklabels\u001b[0m\u001b[0;34m=\u001b[0m\u001b[0;34m'auto'\u001b[0m\u001b[0;34m,\u001b[0m\u001b[0;34m\u001b[0m\n",
       "\u001b[0;34m\u001b[0m    \u001b[0myticklabels\u001b[0m\u001b[0;34m=\u001b[0m\u001b[0;34m'auto'\u001b[0m\u001b[0;34m,\u001b[0m\u001b[0;34m\u001b[0m\n",
       "\u001b[0;34m\u001b[0m    \u001b[0mmask\u001b[0m\u001b[0;34m=\u001b[0m\u001b[0;32mNone\u001b[0m\u001b[0;34m,\u001b[0m\u001b[0;34m\u001b[0m\n",
       "\u001b[0;34m\u001b[0m    \u001b[0max\u001b[0m\u001b[0;34m=\u001b[0m\u001b[0;32mNone\u001b[0m\u001b[0;34m,\u001b[0m\u001b[0;34m\u001b[0m\n",
       "\u001b[0;34m\u001b[0m    \u001b[0;34m**\u001b[0m\u001b[0mkwargs\u001b[0m\u001b[0;34m,\u001b[0m\u001b[0;34m\u001b[0m\n",
       "\u001b[0;34m\u001b[0m\u001b[0;34m)\u001b[0m\u001b[0;34m\u001b[0m\u001b[0;34m\u001b[0m\u001b[0m\n",
       "\u001b[0;31mDocstring:\u001b[0m\n",
       "Plot rectangular data as a color-encoded matrix.\n",
       "\n",
       "This is an Axes-level function and will draw the heatmap into the\n",
       "currently-active Axes if none is provided to the ``ax`` argument.  Part of\n",
       "this Axes space will be taken and used to plot a colormap, unless ``cbar``\n",
       "is False or a separate Axes is provided to ``cbar_ax``.\n",
       "\n",
       "Parameters\n",
       "----------\n",
       "data : rectangular dataset\n",
       "    2D dataset that can be coerced into an ndarray. If a Pandas DataFrame\n",
       "    is provided, the index/column information will be used to label the\n",
       "    columns and rows.\n",
       "vmin, vmax : floats, optional\n",
       "    Values to anchor the colormap, otherwise they are inferred from the\n",
       "    data and other keyword arguments.\n",
       "cmap : matplotlib colormap name or object, or list of colors, optional\n",
       "    The mapping from data values to color space. If not provided, the\n",
       "    default will depend on whether ``center`` is set.\n",
       "center : float, optional\n",
       "    The value at which to center the colormap when plotting divergant data.\n",
       "    Using this parameter will change the default ``cmap`` if none is\n",
       "    specified.\n",
       "robust : bool, optional\n",
       "    If True and ``vmin`` or ``vmax`` are absent, the colormap range is\n",
       "    computed with robust quantiles instead of the extreme values.\n",
       "annot : bool or rectangular dataset, optional\n",
       "    If True, write the data value in each cell. If an array-like with the\n",
       "    same shape as ``data``, then use this to annotate the heatmap instead\n",
       "    of the data. Note that DataFrames will match on position, not index.\n",
       "fmt : str, optional\n",
       "    String formatting code to use when adding annotations.\n",
       "annot_kws : dict of key, value mappings, optional\n",
       "    Keyword arguments for :meth:`matplotlib.axes.Axes.text` when ``annot``\n",
       "    is True.\n",
       "linewidths : float, optional\n",
       "    Width of the lines that will divide each cell.\n",
       "linecolor : color, optional\n",
       "    Color of the lines that will divide each cell.\n",
       "cbar : bool, optional\n",
       "    Whether to draw a colorbar.\n",
       "cbar_kws : dict of key, value mappings, optional\n",
       "    Keyword arguments for :meth:`matplotlib.figure.Figure.colorbar`.\n",
       "cbar_ax : matplotlib Axes, optional\n",
       "    Axes in which to draw the colorbar, otherwise take space from the\n",
       "    main Axes.\n",
       "square : bool, optional\n",
       "    If True, set the Axes aspect to \"equal\" so each cell will be\n",
       "    square-shaped.\n",
       "xticklabels, yticklabels : \"auto\", bool, list-like, or int, optional\n",
       "    If True, plot the column names of the dataframe. If False, don't plot\n",
       "    the column names. If list-like, plot these alternate labels as the\n",
       "    xticklabels. If an integer, use the column names but plot only every\n",
       "    n label. If \"auto\", try to densely plot non-overlapping labels.\n",
       "mask : bool array or DataFrame, optional\n",
       "    If passed, data will not be shown in cells where ``mask`` is True.\n",
       "    Cells with missing values are automatically masked.\n",
       "ax : matplotlib Axes, optional\n",
       "    Axes in which to draw the plot, otherwise use the currently-active\n",
       "    Axes.\n",
       "kwargs : other keyword arguments\n",
       "    All other keyword arguments are passed to\n",
       "    :meth:`matplotlib.axes.Axes.pcolormesh`.\n",
       "\n",
       "Returns\n",
       "-------\n",
       "ax : matplotlib Axes\n",
       "    Axes object with the heatmap.\n",
       "\n",
       "See Also\n",
       "--------\n",
       "clustermap : Plot a matrix using hierachical clustering to arrange the\n",
       "             rows and columns.\n",
       "\n",
       "Examples\n",
       "--------\n",
       "\n",
       "Plot a heatmap for a numpy array:\n",
       "\n",
       ".. plot::\n",
       "    :context: close-figs\n",
       "\n",
       "    >>> import numpy as np; np.random.seed(0)\n",
       "    >>> import seaborn as sns; sns.set_theme()\n",
       "    >>> uniform_data = np.random.rand(10, 12)\n",
       "    >>> ax = sns.heatmap(uniform_data)\n",
       "\n",
       "Change the limits of the colormap:\n",
       "\n",
       ".. plot::\n",
       "    :context: close-figs\n",
       "\n",
       "    >>> ax = sns.heatmap(uniform_data, vmin=0, vmax=1)\n",
       "\n",
       "Plot a heatmap for data centered on 0 with a diverging colormap:\n",
       "\n",
       ".. plot::\n",
       "    :context: close-figs\n",
       "\n",
       "    >>> normal_data = np.random.randn(10, 12)\n",
       "    >>> ax = sns.heatmap(normal_data, center=0)\n",
       "\n",
       "Plot a dataframe with meaningful row and column labels:\n",
       "\n",
       ".. plot::\n",
       "    :context: close-figs\n",
       "\n",
       "    >>> flights = sns.load_dataset(\"flights\")\n",
       "    >>> flights = flights.pivot(\"month\", \"year\", \"passengers\")\n",
       "    >>> ax = sns.heatmap(flights)\n",
       "\n",
       "Annotate each cell with the numeric value using integer formatting:\n",
       "\n",
       ".. plot::\n",
       "    :context: close-figs\n",
       "\n",
       "    >>> ax = sns.heatmap(flights, annot=True, fmt=\"d\")\n",
       "\n",
       "Add lines between each cell:\n",
       "\n",
       ".. plot::\n",
       "    :context: close-figs\n",
       "\n",
       "    >>> ax = sns.heatmap(flights, linewidths=.5)\n",
       "\n",
       "Use a different colormap:\n",
       "\n",
       ".. plot::\n",
       "    :context: close-figs\n",
       "\n",
       "    >>> ax = sns.heatmap(flights, cmap=\"YlGnBu\")\n",
       "\n",
       "Center the colormap at a specific value:\n",
       "\n",
       ".. plot::\n",
       "    :context: close-figs\n",
       "\n",
       "    >>> ax = sns.heatmap(flights, center=flights.loc[\"Jan\", 1955])\n",
       "\n",
       "Plot every other column label and don't plot row labels:\n",
       "\n",
       ".. plot::\n",
       "    :context: close-figs\n",
       "\n",
       "    >>> data = np.random.randn(50, 20)\n",
       "    >>> ax = sns.heatmap(data, xticklabels=2, yticklabels=False)\n",
       "\n",
       "Don't draw a colorbar:\n",
       "\n",
       ".. plot::\n",
       "    :context: close-figs\n",
       "\n",
       "    >>> ax = sns.heatmap(flights, cbar=False)\n",
       "\n",
       "Use different axes for the colorbar:\n",
       "\n",
       ".. plot::\n",
       "    :context: close-figs\n",
       "\n",
       "    >>> grid_kws = {\"height_ratios\": (.9, .05), \"hspace\": .3}\n",
       "    >>> f, (ax, cbar_ax) = plt.subplots(2, gridspec_kw=grid_kws)\n",
       "    >>> ax = sns.heatmap(flights, ax=ax,\n",
       "    ...                  cbar_ax=cbar_ax,\n",
       "    ...                  cbar_kws={\"orientation\": \"horizontal\"})\n",
       "\n",
       "Use a mask to plot only part of a matrix\n",
       "\n",
       ".. plot::\n",
       "    :context: close-figs\n",
       "\n",
       "    >>> corr = np.corrcoef(np.random.randn(10, 200))\n",
       "    >>> mask = np.zeros_like(corr)\n",
       "    >>> mask[np.triu_indices_from(mask)] = True\n",
       "    >>> with sns.axes_style(\"white\"):\n",
       "    ...     f, ax = plt.subplots(figsize=(7, 5))\n",
       "    ...     ax = sns.heatmap(corr, mask=mask, vmax=.3, square=True)\n",
       "\u001b[0;31mFile:\u001b[0m      ~/opt/anaconda3/lib/python3.9/site-packages/seaborn/matrix.py\n",
       "\u001b[0;31mType:\u001b[0m      function\n"
      ]
     },
     "metadata": {},
     "output_type": "display_data"
    }
   ],
   "source": [
    "sns.heatmap?"
   ]
  },
  {
   "cell_type": "code",
   "execution_count": null,
   "metadata": {},
   "outputs": [],
   "source": []
  },
  {
   "cell_type": "code",
   "execution_count": 91,
   "metadata": {
    "collapsed": true,
    "jupyter": {
     "outputs_hidden": true
    },
    "tags": []
   },
   "outputs": [
    {
     "data": {
      "text/plain": [
       "\u001b[0;31mSignature:\u001b[0m\n",
       "\u001b[0msns\u001b[0m\u001b[0;34m.\u001b[0m\u001b[0mclustermap\u001b[0m\u001b[0;34m(\u001b[0m\u001b[0;34m\u001b[0m\n",
       "\u001b[0;34m\u001b[0m    \u001b[0mdata\u001b[0m\u001b[0;34m,\u001b[0m\u001b[0;34m\u001b[0m\n",
       "\u001b[0;34m\u001b[0m    \u001b[0;34m*\u001b[0m\u001b[0;34m,\u001b[0m\u001b[0;34m\u001b[0m\n",
       "\u001b[0;34m\u001b[0m    \u001b[0mpivot_kws\u001b[0m\u001b[0;34m=\u001b[0m\u001b[0;32mNone\u001b[0m\u001b[0;34m,\u001b[0m\u001b[0;34m\u001b[0m\n",
       "\u001b[0;34m\u001b[0m    \u001b[0mmethod\u001b[0m\u001b[0;34m=\u001b[0m\u001b[0;34m'average'\u001b[0m\u001b[0;34m,\u001b[0m\u001b[0;34m\u001b[0m\n",
       "\u001b[0;34m\u001b[0m    \u001b[0mmetric\u001b[0m\u001b[0;34m=\u001b[0m\u001b[0;34m'euclidean'\u001b[0m\u001b[0;34m,\u001b[0m\u001b[0;34m\u001b[0m\n",
       "\u001b[0;34m\u001b[0m    \u001b[0mz_score\u001b[0m\u001b[0;34m=\u001b[0m\u001b[0;32mNone\u001b[0m\u001b[0;34m,\u001b[0m\u001b[0;34m\u001b[0m\n",
       "\u001b[0;34m\u001b[0m    \u001b[0mstandard_scale\u001b[0m\u001b[0;34m=\u001b[0m\u001b[0;32mNone\u001b[0m\u001b[0;34m,\u001b[0m\u001b[0;34m\u001b[0m\n",
       "\u001b[0;34m\u001b[0m    \u001b[0mfigsize\u001b[0m\u001b[0;34m=\u001b[0m\u001b[0;34m(\u001b[0m\u001b[0;36m10\u001b[0m\u001b[0;34m,\u001b[0m \u001b[0;36m10\u001b[0m\u001b[0;34m)\u001b[0m\u001b[0;34m,\u001b[0m\u001b[0;34m\u001b[0m\n",
       "\u001b[0;34m\u001b[0m    \u001b[0mcbar_kws\u001b[0m\u001b[0;34m=\u001b[0m\u001b[0;32mNone\u001b[0m\u001b[0;34m,\u001b[0m\u001b[0;34m\u001b[0m\n",
       "\u001b[0;34m\u001b[0m    \u001b[0mrow_cluster\u001b[0m\u001b[0;34m=\u001b[0m\u001b[0;32mTrue\u001b[0m\u001b[0;34m,\u001b[0m\u001b[0;34m\u001b[0m\n",
       "\u001b[0;34m\u001b[0m    \u001b[0mcol_cluster\u001b[0m\u001b[0;34m=\u001b[0m\u001b[0;32mTrue\u001b[0m\u001b[0;34m,\u001b[0m\u001b[0;34m\u001b[0m\n",
       "\u001b[0;34m\u001b[0m    \u001b[0mrow_linkage\u001b[0m\u001b[0;34m=\u001b[0m\u001b[0;32mNone\u001b[0m\u001b[0;34m,\u001b[0m\u001b[0;34m\u001b[0m\n",
       "\u001b[0;34m\u001b[0m    \u001b[0mcol_linkage\u001b[0m\u001b[0;34m=\u001b[0m\u001b[0;32mNone\u001b[0m\u001b[0;34m,\u001b[0m\u001b[0;34m\u001b[0m\n",
       "\u001b[0;34m\u001b[0m    \u001b[0mrow_colors\u001b[0m\u001b[0;34m=\u001b[0m\u001b[0;32mNone\u001b[0m\u001b[0;34m,\u001b[0m\u001b[0;34m\u001b[0m\n",
       "\u001b[0;34m\u001b[0m    \u001b[0mcol_colors\u001b[0m\u001b[0;34m=\u001b[0m\u001b[0;32mNone\u001b[0m\u001b[0;34m,\u001b[0m\u001b[0;34m\u001b[0m\n",
       "\u001b[0;34m\u001b[0m    \u001b[0mmask\u001b[0m\u001b[0;34m=\u001b[0m\u001b[0;32mNone\u001b[0m\u001b[0;34m,\u001b[0m\u001b[0;34m\u001b[0m\n",
       "\u001b[0;34m\u001b[0m    \u001b[0mdendrogram_ratio\u001b[0m\u001b[0;34m=\u001b[0m\u001b[0;36m0.2\u001b[0m\u001b[0;34m,\u001b[0m\u001b[0;34m\u001b[0m\n",
       "\u001b[0;34m\u001b[0m    \u001b[0mcolors_ratio\u001b[0m\u001b[0;34m=\u001b[0m\u001b[0;36m0.03\u001b[0m\u001b[0;34m,\u001b[0m\u001b[0;34m\u001b[0m\n",
       "\u001b[0;34m\u001b[0m    \u001b[0mcbar_pos\u001b[0m\u001b[0;34m=\u001b[0m\u001b[0;34m(\u001b[0m\u001b[0;36m0.02\u001b[0m\u001b[0;34m,\u001b[0m \u001b[0;36m0.8\u001b[0m\u001b[0;34m,\u001b[0m \u001b[0;36m0.05\u001b[0m\u001b[0;34m,\u001b[0m \u001b[0;36m0.18\u001b[0m\u001b[0;34m)\u001b[0m\u001b[0;34m,\u001b[0m\u001b[0;34m\u001b[0m\n",
       "\u001b[0;34m\u001b[0m    \u001b[0mtree_kws\u001b[0m\u001b[0;34m=\u001b[0m\u001b[0;32mNone\u001b[0m\u001b[0;34m,\u001b[0m\u001b[0;34m\u001b[0m\n",
       "\u001b[0;34m\u001b[0m    \u001b[0;34m**\u001b[0m\u001b[0mkwargs\u001b[0m\u001b[0;34m,\u001b[0m\u001b[0;34m\u001b[0m\n",
       "\u001b[0;34m\u001b[0m\u001b[0;34m)\u001b[0m\u001b[0;34m\u001b[0m\u001b[0;34m\u001b[0m\u001b[0m\n",
       "\u001b[0;31mDocstring:\u001b[0m\n",
       "Plot a matrix dataset as a hierarchically-clustered heatmap.\n",
       "\n",
       "Parameters\n",
       "----------\n",
       "data : 2D array-like\n",
       "    Rectangular data for clustering. Cannot contain NAs.\n",
       "pivot_kws : dict, optional\n",
       "    If `data` is a tidy dataframe, can provide keyword arguments for\n",
       "    pivot to create a rectangular dataframe.\n",
       "method : str, optional\n",
       "    Linkage method to use for calculating clusters. See\n",
       "    :func:`scipy.cluster.hierarchy.linkage` documentation for more\n",
       "    information.\n",
       "metric : str, optional\n",
       "    Distance metric to use for the data. See\n",
       "    :func:`scipy.spatial.distance.pdist` documentation for more options.\n",
       "    To use different metrics (or methods) for rows and columns, you may\n",
       "    construct each linkage matrix yourself and provide them as\n",
       "    `{row,col}_linkage`.\n",
       "z_score : int or None, optional\n",
       "    Either 0 (rows) or 1 (columns). Whether or not to calculate z-scores\n",
       "    for the rows or the columns. Z scores are: z = (x - mean)/std, so\n",
       "    values in each row (column) will get the mean of the row (column)\n",
       "    subtracted, then divided by the standard deviation of the row (column).\n",
       "    This ensures that each row (column) has mean of 0 and variance of 1.\n",
       "standard_scale : int or None, optional\n",
       "    Either 0 (rows) or 1 (columns). Whether or not to standardize that\n",
       "    dimension, meaning for each row or column, subtract the minimum and\n",
       "    divide each by its maximum.\n",
       "figsize : tuple of (width, height), optional\n",
       "    Overall size of the figure.\n",
       "cbar_kws : dict, optional\n",
       "    Keyword arguments to pass to `cbar_kws` in :func:`heatmap`, e.g. to\n",
       "    add a label to the colorbar.\n",
       "{row,col}_cluster : bool, optional\n",
       "    If ``True``, cluster the {rows, columns}.\n",
       "{row,col}_linkage : :class:`numpy.ndarray`, optional\n",
       "    Precomputed linkage matrix for the rows or columns. See\n",
       "    :func:`scipy.cluster.hierarchy.linkage` for specific formats.\n",
       "{row,col}_colors : list-like or pandas DataFrame/Series, optional\n",
       "    List of colors to label for either the rows or columns. Useful to evaluate\n",
       "    whether samples within a group are clustered together. Can use nested lists or\n",
       "    DataFrame for multiple color levels of labeling. If given as a\n",
       "    :class:`pandas.DataFrame` or :class:`pandas.Series`, labels for the colors are\n",
       "    extracted from the DataFrames column names or from the name of the Series.\n",
       "    DataFrame/Series colors are also matched to the data by their index, ensuring\n",
       "    colors are drawn in the correct order.\n",
       "mask : bool array or DataFrame, optional\n",
       "    If passed, data will not be shown in cells where `mask` is True.\n",
       "    Cells with missing values are automatically masked. Only used for\n",
       "    visualizing, not for calculating.\n",
       "{dendrogram,colors}_ratio : float, or pair of floats, optional\n",
       "    Proportion of the figure size devoted to the two marginal elements. If\n",
       "    a pair is given, they correspond to (row, col) ratios.\n",
       "cbar_pos : tuple of (left, bottom, width, height), optional\n",
       "    Position of the colorbar axes in the figure. Setting to ``None`` will\n",
       "    disable the colorbar.\n",
       "tree_kws : dict, optional\n",
       "    Parameters for the :class:`matplotlib.collections.LineCollection`\n",
       "    that is used to plot the lines of the dendrogram tree.\n",
       "kwargs : other keyword arguments\n",
       "    All other keyword arguments are passed to :func:`heatmap`.\n",
       "\n",
       "Returns\n",
       "-------\n",
       ":class:`ClusterGrid`\n",
       "    A :class:`ClusterGrid` instance.\n",
       "\n",
       "See Also\n",
       "--------\n",
       "heatmap : Plot rectangular data as a color-encoded matrix.\n",
       "\n",
       "Notes\n",
       "-----\n",
       "The returned object has a ``savefig`` method that should be used if you\n",
       "want to save the figure object without clipping the dendrograms.\n",
       "\n",
       "To access the reordered row indices, use:\n",
       "``clustergrid.dendrogram_row.reordered_ind``\n",
       "\n",
       "Column indices, use:\n",
       "``clustergrid.dendrogram_col.reordered_ind``\n",
       "\n",
       "Examples\n",
       "--------\n",
       "\n",
       "Plot a clustered heatmap:\n",
       "\n",
       ".. plot::\n",
       "    :context: close-figs\n",
       "\n",
       "    >>> import seaborn as sns; sns.set_theme(color_codes=True)\n",
       "    >>> iris = sns.load_dataset(\"iris\")\n",
       "    >>> species = iris.pop(\"species\")\n",
       "    >>> g = sns.clustermap(iris)\n",
       "\n",
       "Change the size and layout of the figure:\n",
       "\n",
       ".. plot::\n",
       "    :context: close-figs\n",
       "\n",
       "    >>> g = sns.clustermap(iris,\n",
       "    ...                    figsize=(7, 5),\n",
       "    ...                    row_cluster=False,\n",
       "    ...                    dendrogram_ratio=(.1, .2),\n",
       "    ...                    cbar_pos=(0, .2, .03, .4))\n",
       "\n",
       "Add colored labels to identify observations:\n",
       "\n",
       ".. plot::\n",
       "    :context: close-figs\n",
       "\n",
       "    >>> lut = dict(zip(species.unique(), \"rbg\"))\n",
       "    >>> row_colors = species.map(lut)\n",
       "    >>> g = sns.clustermap(iris, row_colors=row_colors)\n",
       "\n",
       "Use a different colormap and adjust the limits of the color range:\n",
       "\n",
       ".. plot::\n",
       "    :context: close-figs\n",
       "\n",
       "    >>> g = sns.clustermap(iris, cmap=\"mako\", vmin=0, vmax=10)\n",
       "\n",
       "Use a different similarity metric:\n",
       "\n",
       ".. plot::\n",
       "    :context: close-figs\n",
       "\n",
       "    >>> g = sns.clustermap(iris, metric=\"correlation\")\n",
       "\n",
       "Use a different clustering method:\n",
       "\n",
       ".. plot::\n",
       "    :context: close-figs\n",
       "\n",
       "    >>> g = sns.clustermap(iris, method=\"single\")\n",
       "\n",
       "Standardize the data within the columns:\n",
       "\n",
       ".. plot::\n",
       "    :context: close-figs\n",
       "\n",
       "    >>> g = sns.clustermap(iris, standard_scale=1)\n",
       "\n",
       "Normalize the data within the rows:\n",
       "\n",
       ".. plot::\n",
       "    :context: close-figs\n",
       "\n",
       "    >>> g = sns.clustermap(iris, z_score=0, cmap=\"vlag\")\n",
       "\u001b[0;31mFile:\u001b[0m      ~/opt/anaconda3/lib/python3.9/site-packages/seaborn/matrix.py\n",
       "\u001b[0;31mType:\u001b[0m      function\n"
      ]
     },
     "metadata": {},
     "output_type": "display_data"
    }
   ],
   "source": [
    "# the heatmap method documentation recommands clustermap if we want to cluster the data \n",
    "\n",
    "sns.clustermap?"
   ]
  },
  {
   "cell_type": "code",
   "execution_count": 92,
   "metadata": {},
   "outputs": [
    {
     "data": {
      "text/plain": [
       "<seaborn.matrix.ClusterGrid at 0x7fd089c5d880>"
      ]
     },
     "execution_count": 92,
     "metadata": {},
     "output_type": "execute_result"
    },
    {
     "data": {
      "image/png": "[encoded data removed]",
      "text/plain": [
       "<Figure size 720x720 with 4 Axes>"
      ]
     },
     "metadata": {
      "needs_background": "light"
     },
     "output_type": "display_data"
    }
   ],
   "source": [
    "sns.clustermap(expr_data, z_score = 0, row_cluster = True)"
   ]
  },
  {
   "cell_type": "code",
   "execution_count": null,
   "metadata": {},
   "outputs": [],
   "source": []
  },
  {
   "cell_type": "code",
   "execution_count": null,
   "metadata": {},
   "outputs": [],
   "source": []
  },
  {
   "cell_type": "code",
   "execution_count": null,
   "metadata": {},
   "outputs": [],
   "source": []
  },
  {
   "cell_type": "code",
   "execution_count": null,
   "metadata": {},
   "outputs": [],
   "source": []
  }
 ],
 "metadata": {
  "kernelspec": {
   "display_name": "Python 3 (ipykernel)",
   "language": "python",
   "name": "python3"
  },
  "language_info": {
   "codemirror_mode": {
    "name": "ipython",
    "version": 3
   },
   "file_extension": ".py",
   "mimetype": "text/x-python",
   "name": "python",
   "nbconvert_exporter": "python",
   "pygments_lexer": "ipython3",
   "version": "3.9.12"
  }
 },
 "nbformat": 4,
 "nbformat_minor": 4
}
