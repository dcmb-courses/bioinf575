{
 "cells": [
  {
   "cell_type": "markdown",
   "metadata": {},
   "source": [
    "## Study session 5 - Data types \n",
    "### BIOINF 575 - Fall 2022"
   ]
  },
  {
   "cell_type": "markdown",
   "metadata": {},
   "source": [
    "#### DATATYPES RECAP\n",
    "\n",
    "```\n",
    " STRINGS:      \"\" or    '' or   \"\"\"\"\"\" or   ''''''\n",
    " LISTS:        []\n",
    " TUPLES:       ()\n",
    " DICTIONARIES: {}, the item structure is  key:value\n",
    " SETS:         {}, the item structure is value\n",
    "```\n",
    "\n"
   ]
  },
  {
   "cell_type": "markdown",
   "metadata": {
    "jp-MarkdownHeadingCollapsed": true,
    "tags": []
   },
   "source": [
    "___\n",
    "<b><font color = \"red\">Exercise</font> <br></b>\n",
    "\n",
    "\"Proteins are the end products of the decoding process that starts with the information in cellular DNA. As workhorses of the cell, proteins compose structural and motor elements in the cell, and they serve as the catalysts for virtually every biochemical reaction that occurs in living things. This incredible array of functions derives from a startlingly simple code that specifies a hugely diverse set of structures.\"\n",
    "\n",
    "\"The building blocks of proteins are amino acids, which are small organic molecules that consist of an alpha (central) carbon atom linked to an amino group, a carboxyl group, a hydrogen atom, and a variable component called a side chain (see below). Within a protein, multiple amino acids are linked together by peptide bonds, thereby forming a long chain.\"\n",
    "\n",
    "\"Proteins are built from a set of only twenty amino acids, each of which has a unique side chain.\"\n",
    "\n",
    "https://www.nature.com/scitable/topicpage/protein-structure-14122136/\n",
    "\n",
    "<img src = \"https://cdn.pixabay.com/photo/2013/07/12/17/38/dna-152136_1280.png\" width = 450>&nbsp;&nbsp;&nbsp;&nbsp;&nbsp;&nbsp;&nbsp;&nbsp;&nbsp;&nbsp;&nbsp;&nbsp;&nbsp;&nbsp;&nbsp;&nbsp;&nbsp;&nbsp;&nbsp;&nbsp;\n",
    "<img src = \"https://sphweb.bumc.bu.edu/otlt/MPH-Modules/PH/DNA-Genetics/Transcription-TranslationDetails.png\" width = 420>\n",
    "\n",
    "\n",
    "https://cdn.pixabay.com/photo/2013/07/12/17/38/dna-152136_1280.png &nbsp;&nbsp;&nbsp;&nbsp;&nbsp;     https://sphweb.bumc.bu.edu/otlt/MPH-Modules/PH/DNA-Genetics/Transcription-TranslationDetails.png\n",
    "\n",
    "\n",
    "https://ocw.mit.edu/courses/biology/7-01sc-fundamentals-of-biology-fall-2011/molecular-biology/\n",
    "https://ocw.mit.edu/courses/health-sciences-and-technology/hst-161-molecular-biology-and-genetics-in-modern-medicine-fall-2007/lecture-notes/     \n",
    "https://sphweb.bumc.bu.edu/otlt/MPH-Modules/PH/DNA-Genetics/DNA-Genetics3.html\n",
    "\n",
    "\n",
    "The following string contains the information that allows us to translate DNA code into a sequence of amino acids.\n",
    "\n",
    "```python\n",
    "code = \"'ATA':'I', 'ATC':'I', 'ATT':'I', 'ATG':'M',\\\n",
    "    'ACA':'T', 'ACC':'T', 'ACG':'T', 'ACT':'T',\\\n",
    "    'AAC':'N', 'AAT':'N', 'AAA':'K', 'AAG':'K',\\\n",
    "    'AGC':'S', 'AGT':'S', 'AGA':'R', 'AGG':'R',\\\n",
    "    'CTA':'L', 'CTC':'L', 'CTG':'L', 'CTT':'L',\\\n",
    "    'CCA':'P', 'CCC':'P', 'CCG':'P', 'CCT':'P',\\\n",
    "    'CAC':'H', 'CAT':'H', 'CAA':'Q', 'CAG':'Q',\\\n",
    "    'CGA':'R', 'CGC':'R', 'CGG':'R', 'CGT':'R',\\\n",
    "    'GTA':'V', 'GTC':'V', 'GTG':'V', 'GTT':'V',\\\n",
    "    'GCA':'A', 'GCC':'A', 'GCG':'A', 'GCT':'A',\\\n",
    "    'GAC':'D', 'GAT':'D', 'GAA':'E', 'GAG':'E',\\\n",
    "    'GGA':'G', 'GGC':'G', 'GGG':'G', 'GGT':'G',\\\n",
    "    'TCA':'S', 'TCC':'S', 'TCG':'S', 'TCT':'S',\\\n",
    "    'TTC':'F', 'TTT':'F', 'TTA':'L', 'TTG':'L',\\\n",
    "    'TAC':'Y', 'TAT':'Y', 'TAA':'_', 'TAG':'_',\\\n",
    "    'TGC':'C', 'TGT':'C', 'TGA':'_', 'TGG':'W'\"\n",
    "\n",
    "\n",
    "\n",
    "```\n",
    "\n",
    "The following string contains multiple DNA sequences:\n",
    "\n",
    "```python\n",
    "DNA_sequence = \"GCCCGGCGTAAAAAT\"\n",
    "```\n",
    "\n",
    "- Use the mapping provided in the first string (`code`) to translate the sequence in the second string (`DNA_sequence`) and create a string of amino acids.\n",
    "\n"
   ]
  },
  {
   "cell_type": "code",
   "execution_count": 1,
   "metadata": {
    "tags": []
   },
   "outputs": [],
   "source": [
    "# Write your solution here\n",
    "\n",
    "# What we want to do is use the information in the two strings we have \n",
    "# and translate the DNA sequence is a peptide sequence:\n",
    "\n",
    "# \"GCCCGGCGT...\" becomes \"ARR...\"\n",
    "\n",
    "\n"
   ]
  },
  {
   "cell_type": "code",
   "execution_count": null,
   "metadata": {},
   "outputs": [],
   "source": []
  },
  {
   "cell_type": "code",
   "execution_count": null,
   "metadata": {},
   "outputs": [],
   "source": []
  },
  {
   "cell_type": "code",
   "execution_count": null,
   "metadata": {},
   "outputs": [],
   "source": []
  },
  {
   "cell_type": "markdown",
   "metadata": {},
   "source": [
    "_____\n",
    "\n",
    "<b><font color = \"red\">Exercise</font> <br></b>\n",
    "\n",
    "- Does the DNA sequence from the previous exercise code for Tryptophan? \n",
    "\n",
    "We can look for the codon that codes for Tryptophan in the DNA sequence or we can look for the 1 letter abbreviation in the translated sequence."
   ]
  },
  {
   "cell_type": "code",
   "execution_count": 24,
   "metadata": {},
   "outputs": [
    {
     "data": {
      "text/plain": [
       "'GCCCGGCGTAAAAAT'"
      ]
     },
     "execution_count": 24,
     "metadata": {},
     "output_type": "execute_result"
    }
   ],
   "source": [
    "DNA_sequence "
   ]
  },
  {
   "cell_type": "code",
   "execution_count": 25,
   "metadata": {},
   "outputs": [],
   "source": [
    "# Write your solution here:\n",
    "\n",
    "\n"
   ]
  },
  {
   "cell_type": "code",
   "execution_count": null,
   "metadata": {},
   "outputs": [],
   "source": []
  },
  {
   "cell_type": "code",
   "execution_count": null,
   "metadata": {},
   "outputs": [],
   "source": []
  },
  {
   "cell_type": "code",
   "execution_count": null,
   "metadata": {},
   "outputs": [],
   "source": []
  },
  {
   "cell_type": "markdown",
   "metadata": {},
   "source": [
    "_____\n",
    "\n",
    "<b><font color = \"red\">Exercise</font> <br></b>\n",
    "\n",
    "- Take the following dictionary and create another dictionary where the keys are the same but the value is the number of transcripts that code for that gene"
   ]
  },
  {
   "cell_type": "code",
   "execution_count": 31,
   "metadata": {},
   "outputs": [],
   "source": [
    "gene_transcripts_map = { \n",
    "    \"Gene1\": (\"AACGTTACCCCCTTAAGGT\", \"AACGTTACAAGGT\", \"GTTACCCCCTTAAGGT\", \"ACCCCCTTAA\"),\n",
    "    \"Gene2\": (\"TACTGGGGGGGATACCCTAGTACCC\", \"TACGGGGGATACCCTAGTA\"),\n",
    "    \"Gene3\": (\"GTTTTAGCAAAGC\",)\n",
    "}"
   ]
  },
  {
   "cell_type": "code",
   "execution_count": 32,
   "metadata": {},
   "outputs": [],
   "source": [
    "# Write your solution here:\n",
    "\n",
    "\n"
   ]
  },
  {
   "cell_type": "code",
   "execution_count": null,
   "metadata": {},
   "outputs": [],
   "source": []
  },
  {
   "cell_type": "code",
   "execution_count": null,
   "metadata": {},
   "outputs": [],
   "source": []
  },
  {
   "cell_type": "code",
   "execution_count": null,
   "metadata": {},
   "outputs": [],
   "source": []
  },
  {
   "cell_type": "markdown",
   "metadata": {},
   "source": [
    "_____\n",
    "\n",
    "<b><font color = \"red\">Exercise</font> <br></b>\n",
    "\n",
    "- Extract the sequence from the following text and check if it can code for Tryptophan.\n",
    "    - The sequence is at the end of a sentence and should be found after the text \"sequence is : \". \n",
    "- Extract the sequence length from the following text and check if it is the same as the length of the sequence you extracted.\n",
    "    - The sequence length is at the end of a sentence and should be found after the text \"sequence length is : \". \n",
    "- Extract the number of pubmed articles from the following text.\n",
    "    - The the number of pubmed articles should be found between the text \"pubmed returned \" and \" results\". \n",
    "\n",
    "\n",
    "\n",
    "\n",
    "```python\n",
    "\n",
    "text = \"We are analyzing the DNA sequence SRY gene. Which is potentially the shortest gene. The sequence is is: AGAAGTGAGTTTTGGATAGTAAAATAAGTTTCGAACTCTGGCACCTTTCAATTTTGTCGCACTCTCCTTGTTTTTGACAATGCAATCATATGCTTCTGCTATGTTAAGCGTATTCAACAGCGATGATTACAGTCCAGCTGTGCAAGAGAATATTCCCGCTCTCCGGAGAAGCTCTTCCTTCCTTTGCACTGAAAGCTGTAACTCTAAGTATCAGTGTGAAACGGGAGAAAACAGTAAAGGCAACGTCCAGGATAGAGTGAAGCGACCCATGAACGCATTCATCGTGTGGTCTCGCGATCAGAGGCGCAAGATGGCTCTAGAGAATCCCAGAATGCGAAACTCAGAGATCAGCAAGCAGCTGGGATACCAGTGGAAAATGCTTACTGAAGCCGAAAAATGGCCATTCTTCCAGGAGGCACAGAAATTACAGGCCATGCACAGAGAGAAATACCCGAATTATAAGTATCGACCTCGTCGGAAGGCGAAGATGCTGCCGAAGAATTGCAGTTTGCTTCCCGCAGATCCCGCTTCGGTACTCTGCAGCGAAGTGCAACTGGACAACAGGTTGTACAGGGATGACTGTACGAAAGCCACACACTCAAGAATGGAGCACCAGCTAGGCCACTTACCGCCCATCAACGCAGCCAGCTCACCGCAGCAACGGGACCGCTACAGCCACTGGACAAAGCTGTAGGACAATCGGGTAACATTGGCTACAAAGACCTACCTAGATGCTCCTTTTTACGATAACTTACAGCCCTCACTTTCTTATGTTTAGTTTCAATATTGTTTTCTTTTCTCTGGCTAATAAAGGCCTTATTCATTTCA. The sequence length is: 828. The search by 'sry gene' in pubmed returned 204 results. We only checked the abstracts to be searched.\"\n",
    "```"
   ]
  },
  {
   "cell_type": "code",
   "execution_count": 44,
   "metadata": {},
   "outputs": [
    {
     "data": {
      "text/plain": [
       "\"We are analyzing the DNA sequence SRY gene. Which is potentially the shortest gene. The sequence is is: AGAAGTGAGTTTTGGATAGTAAAATAAGTTTCGAACTCTGGCACCTTTCAATTTTGTCGCACTCTCCTTGTTTTTGACAATGCAATCATATGCTTCTGCTATGTTAAGCGTATTCAACAGCGATGATTACAGTCCAGCTGTGCAAGAGAATATTCCCGCTCTCCGGAGAAGCTCTTCCTTCCTTTGCACTGAAAGCTGTAACTCTAAGTATCAGTGTGAAACGGGAGAAAACAGTAAAGGCAACGTCCAGGATAGAGTGAAGCGACCCATGAACGCATTCATCGTGTGGTCTCGCGATCAGAGGCGCAAGATGGCTCTAGAGAATCCCAGAATGCGAAACTCAGAGATCAGCAAGCAGCTGGGATACCAGTGGAAAATGCTTACTGAAGCCGAAAAATGGCCATTCTTCCAGGAGGCACAGAAATTACAGGCCATGCACAGAGAGAAATACCCGAATTATAAGTATCGACCTCGTCGGAAGGCGAAGATGCTGCCGAAGAATTGCAGTTTGCTTCCCGCAGATCCCGCTTCGGTACTCTGCAGCGAAGTGCAACTGGACAACAGGTTGTACAGGGATGACTGTACGAAAGCCACACACTCAAGAATGGAGCACCAGCTAGGCCACTTACCGCCCATCAACGCAGCCAGCTCACCGCAGCAACGGGACCGCTACAGCCACTGGACAAAGCTGTAGGACAATCGGGTAACATTGGCTACAAAGACCTACCTAGATGCTCCTTTTTACGATAACTTACAGCCCTCACTTTCTTATGTTTAGTTTCAATATTGTTTTCTTTTCTCTGGCTAATAAAGGCCTTATTCATTTCA. The sequence length is: 828. The search by 'sry gene' in pubmed returned 204 results. We only checked the abstracts to be searched.\""
      ]
     },
     "execution_count": 44,
     "metadata": {},
     "output_type": "execute_result"
    }
   ],
   "source": [
    "text = \"We are analyzing the DNA sequence SRY gene. Which is potentially the shortest gene. The sequence is is: AGAAGTGAGTTTTGGATAGTAAAATAAGTTTCGAACTCTGGCACCTTTCAATTTTGTCGCACTCTCCTTGTTTTTGACAATGCAATCATATGCTTCTGCTATGTTAAGCGTATTCAACAGCGATGATTACAGTCCAGCTGTGCAAGAGAATATTCCCGCTCTCCGGAGAAGCTCTTCCTTCCTTTGCACTGAAAGCTGTAACTCTAAGTATCAGTGTGAAACGGGAGAAAACAGTAAAGGCAACGTCCAGGATAGAGTGAAGCGACCCATGAACGCATTCATCGTGTGGTCTCGCGATCAGAGGCGCAAGATGGCTCTAGAGAATCCCAGAATGCGAAACTCAGAGATCAGCAAGCAGCTGGGATACCAGTGGAAAATGCTTACTGAAGCCGAAAAATGGCCATTCTTCCAGGAGGCACAGAAATTACAGGCCATGCACAGAGAGAAATACCCGAATTATAAGTATCGACCTCGTCGGAAGGCGAAGATGCTGCCGAAGAATTGCAGTTTGCTTCCCGCAGATCCCGCTTCGGTACTCTGCAGCGAAGTGCAACTGGACAACAGGTTGTACAGGGATGACTGTACGAAAGCCACACACTCAAGAATGGAGCACCAGCTAGGCCACTTACCGCCCATCAACGCAGCCAGCTCACCGCAGCAACGGGACCGCTACAGCCACTGGACAAAGCTGTAGGACAATCGGGTAACATTGGCTACAAAGACCTACCTAGATGCTCCTTTTTACGATAACTTACAGCCCTCACTTTCTTATGTTTAGTTTCAATATTGTTTTCTTTTCTCTGGCTAATAAAGGCCTTATTCATTTCA. The sequence length is: 828. The search by 'sry gene' in pubmed returned 204 results. We only checked the abstracts to be searched.\"\n",
    "\n",
    "text"
   ]
  },
  {
   "cell_type": "code",
   "execution_count": 32,
   "metadata": {},
   "outputs": [],
   "source": [
    "# Write your solution here:\n",
    "\n",
    "\n"
   ]
  },
  {
   "cell_type": "code",
   "execution_count": null,
   "metadata": {},
   "outputs": [],
   "source": []
  },
  {
   "cell_type": "code",
   "execution_count": null,
   "metadata": {},
   "outputs": [],
   "source": []
  },
  {
   "cell_type": "code",
   "execution_count": null,
   "metadata": {},
   "outputs": [],
   "source": []
  },
  {
   "cell_type": "markdown",
   "metadata": {},
   "source": [
    "___\n",
    "<b><font color = \"red\">Exercise</font> <br><br></b>\n",
    "\n",
    "Explain the following code:\n",
    "\n",
    "```python\n",
    "amino_acid_code = { \n",
    "    \"G\": (\"GGA\", \"GGC\", \"GGT\", \"GGT\"),\n",
    "    \"R\": (\"CGA\", \"CGC\", \"CGG\", \"CGT\"),\n",
    "    \"M\": (\"ATG\",)\n",
    "}\n",
    "\n",
    "\n",
    "x = set()\n",
    "nc_group = \"GC\"\n",
    "count_P = \" \".join(amino_acid_code[\"P\"]).count(\"nc_group\")\n",
    "count_R = \" \".join(amino_acid_code[\"R\"]).count(\"nc_group\")\n",
    "count_M = \" \".join(amino_acid_code[\"M\"]).count(\"nc_group\")\n",
    "count_P = \" \".join(amino_acid_code.get(\"S\"), (\"AGC\", \"AGT\")).count(\"nc_group\")\n",
    "print(x)\n",
    "\n",
    "\n",
    "```\n"
   ]
  },
  {
   "cell_type": "code",
   "execution_count": 45,
   "metadata": {},
   "outputs": [
    {
     "name": "stdout",
     "output_type": "stream",
     "text": [
      "{0, 1, 2, 4}\n"
     ]
    }
   ],
   "source": [
    "# run the code\n",
    "\n",
    "amino_acid_code = { \n",
    "    \"G\": (\"GGA\", \"GGC\", \"GGT\", \"GGT\", \"_GC\"),\n",
    "    \"R\": (\"CGA\", \"CGC\", \"CGG\", \"CGT\"),\n",
    "    \"M\": (\"ATG\",)\n",
    "}\n",
    "\n",
    "\n",
    "x = set()\n",
    "nc_group = \"GC\"\n",
    "count_G = \" \".join(amino_acid_code[\"G\"]).count(nc_group)\n",
    "x.add(count_G)\n",
    "count_R = \" \".join(amino_acid_code[\"R\"]).count(nc_group)\n",
    "x.add(count_R)\n",
    "count_M = \" \".join(amino_acid_code[\"M\"]).count(nc_group)\n",
    "x.add(count_M)\n",
    "count_A = \" \".join(amino_acid_code.get(\"A\", (\"GCA\", \"GCC\", \"GCG\", \"GCT\"))).count(nc_group)\n",
    "x.add(count_A)\n",
    "print(x)"
   ]
  },
  {
   "cell_type": "code",
   "execution_count": null,
   "metadata": {},
   "outputs": [],
   "source": []
  },
  {
   "cell_type": "code",
   "execution_count": 46,
   "metadata": {},
   "outputs": [],
   "source": [
    "#___________________________\n",
    "# I am explaining the code in comments in each cell\n"
   ]
  },
  {
   "cell_type": "code",
   "execution_count": 47,
   "metadata": {},
   "outputs": [],
   "source": [
    "# set the variable amino_acid_code to the dictionary \n",
    "# with keys as the 1-letter abbreviation and \n",
    "# the values tuples of three letter strings (codons)\n",
    "\n",
    "amino_acid_code = { \n",
    "    \"G\": (\"GGA\", \"GGC\", \"GGT\", \"GGT\", \"_GC\"),\n",
    "    \"R\": (\"CGA\", \"CGC\", \"CGG\", \"CGT\"),\n",
    "    \"M\": (\"ATG\",)\n",
    "}"
   ]
  },
  {
   "cell_type": "code",
   "execution_count": 48,
   "metadata": {},
   "outputs": [
    {
     "data": {
      "text/plain": [
       "set()"
      ]
     },
     "execution_count": 48,
     "metadata": {},
     "output_type": "execute_result"
    }
   ],
   "source": [
    "# sets the variable x to an empty set\n",
    "\n",
    "x = set()\n",
    "x"
   ]
  },
  {
   "cell_type": "code",
   "execution_count": 49,
   "metadata": {},
   "outputs": [
    {
     "data": {
      "text/plain": [
       "'GC'"
      ]
     },
     "execution_count": 49,
     "metadata": {},
     "output_type": "execute_result"
    }
   ],
   "source": [
    "# sets the variable nc_group to to the string \"GC\"\n",
    "\n",
    "nc_group = \"GC\"\n",
    "nc_group"
   ]
  },
  {
   "cell_type": "code",
   "execution_count": 50,
   "metadata": {},
   "outputs": [
    {
     "data": {
      "text/plain": [
       "2"
      ]
     },
     "execution_count": 50,
     "metadata": {},
     "output_type": "execute_result"
    }
   ],
   "source": [
    "# counts the occurence of the nc_group (\"GC\") in the \n",
    "# concatenatenation (using space as separator) of \n",
    "# all the tuple elements from the value tuple for key \"G\"\n",
    "\n",
    "count_G = \" \".join(amino_acid_code[\"G\"]).count(nc_group)\n",
    "count_G"
   ]
  },
  {
   "cell_type": "code",
   "execution_count": 51,
   "metadata": {},
   "outputs": [
    {
     "data": {
      "text/plain": [
       "{2}"
      ]
     },
     "execution_count": 51,
     "metadata": {},
     "output_type": "execute_result"
    }
   ],
   "source": [
    "# adds the value from the variable count_G to the set\n",
    "# count_G is a number \n",
    "\n",
    "x.add(count_G)\n",
    "x"
   ]
  },
  {
   "cell_type": "code",
   "execution_count": 52,
   "metadata": {},
   "outputs": [
    {
     "data": {
      "text/plain": [
       "1"
      ]
     },
     "execution_count": 52,
     "metadata": {},
     "output_type": "execute_result"
    }
   ],
   "source": [
    "# counts the occurence of the nc_group (\"GC\") in the \n",
    "# concatenatenation (using space as separator) of \n",
    "# all the tuple elements from the value tuple for key \"R\"\n",
    "\n",
    "count_R = \" \".join(amino_acid_code[\"R\"]).count(nc_group)\n",
    "count_R"
   ]
  },
  {
   "cell_type": "code",
   "execution_count": 53,
   "metadata": {},
   "outputs": [
    {
     "data": {
      "text/plain": [
       "{1, 2}"
      ]
     },
     "execution_count": 53,
     "metadata": {},
     "output_type": "execute_result"
    }
   ],
   "source": [
    "# adds the value from the variable count_R to the set\n",
    "# count_R is a number \n",
    "\n",
    "x.add(count_R)\n",
    "x"
   ]
  },
  {
   "cell_type": "code",
   "execution_count": 54,
   "metadata": {},
   "outputs": [
    {
     "data": {
      "text/plain": [
       "0"
      ]
     },
     "execution_count": 54,
     "metadata": {},
     "output_type": "execute_result"
    }
   ],
   "source": [
    "# counts the occurence of the nc_group (\"GC\") in the \n",
    "# concatenatenation (using space as separator) of \n",
    "# all the tuple elements from the value tuple for key \"M\"\n",
    "\n",
    "count_M = \" \".join(amino_acid_code[\"M\"]).count(nc_group)\n",
    "count_M"
   ]
  },
  {
   "cell_type": "code",
   "execution_count": 55,
   "metadata": {},
   "outputs": [
    {
     "data": {
      "text/plain": [
       "{0, 1, 2}"
      ]
     },
     "execution_count": 55,
     "metadata": {},
     "output_type": "execute_result"
    }
   ],
   "source": [
    "# adds the value from the variable count_M to the set\n",
    "# count_M is a number \n",
    "\n",
    "x.add(count_M)\n",
    "x"
   ]
  },
  {
   "cell_type": "code",
   "execution_count": 56,
   "metadata": {},
   "outputs": [
    {
     "data": {
      "text/plain": [
       "4"
      ]
     },
     "execution_count": 56,
     "metadata": {},
     "output_type": "execute_result"
    }
   ],
   "source": [
    "# counts the occurence of the nc_group (\"GC\") in the \n",
    "# concatenatenation (using space as separator) of \n",
    "# all the tuple elements from the value tuple for key \"A\"\n",
    "# key \"A\" is not in the dictionary so the default value from the get method is used\n",
    "# the tuple of 4 (\"GCA\", \"GCC\", \"GCG\", \"GCT\")\n",
    "\n",
    "count_A = \" \".join(amino_acid_code.get(\"A\", (\"GCA\", \"GCC\", \"GCG\", \"GCT\"))).count(nc_group)\n",
    "count_A"
   ]
  },
  {
   "cell_type": "code",
   "execution_count": 57,
   "metadata": {},
   "outputs": [
    {
     "data": {
      "text/plain": [
       "{0, 1, 2, 4}"
      ]
     },
     "execution_count": 57,
     "metadata": {},
     "output_type": "execute_result"
    }
   ],
   "source": [
    "# adds the value from the variable count_A to the set\n",
    "# count_A is a number \n",
    "\n",
    "x.add(count_A)\n",
    "x"
   ]
  },
  {
   "cell_type": "code",
   "execution_count": 58,
   "metadata": {},
   "outputs": [
    {
     "name": "stdout",
     "output_type": "stream",
     "text": [
      "{0, 1, 2, 4}\n"
     ]
    }
   ],
   "source": [
    "# displays/prints set elements - the string representation of the set\n",
    "\n",
    "print(x)"
   ]
  },
  {
   "cell_type": "code",
   "execution_count": null,
   "metadata": {},
   "outputs": [],
   "source": []
  },
  {
   "cell_type": "code",
   "execution_count": 59,
   "metadata": {},
   "outputs": [],
   "source": [
    "#==============================================="
   ]
  },
  {
   "cell_type": "code",
   "execution_count": null,
   "metadata": {},
   "outputs": [],
   "source": []
  },
  {
   "cell_type": "code",
   "execution_count": null,
   "metadata": {},
   "outputs": [],
   "source": []
  },
  {
   "cell_type": "code",
   "execution_count": null,
   "metadata": {},
   "outputs": [],
   "source": []
  },
  {
   "cell_type": "markdown",
   "metadata": {},
   "source": [
    "_______"
   ]
  }
 ],
 "metadata": {
  "kernelspec": {
   "display_name": "Python 3 (ipykernel)",
   "language": "python",
   "name": "python3"
  },
  "language_info": {
   "codemirror_mode": {
    "name": "ipython",
    "version": 3
   },
   "file_extension": ".py",
   "mimetype": "text/x-python",
   "name": "python",
   "nbconvert_exporter": "python",
   "pygments_lexer": "ipython3",
   "version": "3.9.12"
  }
 },
 "nbformat": 4,
 "nbformat_minor": 4
}
