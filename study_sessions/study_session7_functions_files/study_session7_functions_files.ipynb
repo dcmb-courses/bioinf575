{
 "cells": [
  {
   "cell_type": "markdown",
   "metadata": {},
   "source": [
    "### Study session 7 - more Functions\n",
    "#### BIOINF 575 - Fall 2023\n",
    "\n"
   ]
  },
  {
   "cell_type": "markdown",
   "metadata": {},
   "source": [
    "##### RECAP"
   ]
  },
  {
   "cell_type": "markdown",
   "metadata": {},
   "source": [
    "##### IF - Allows us to execute code selectivelly.\n",
    "\n",
    "```python\n",
    "if [not] <condition>:\n",
    "    <statements>\n",
    "elif <condition>:\n",
    "    <statements>\n",
    "else:\n",
    "    <statements>\n",
    "```\n"
   ]
  },
  {
   "cell_type": "markdown",
   "metadata": {},
   "source": [
    "##### FOR or WHILE - execute code repeatedly without having to repeat the code\n",
    "\n",
    "```python\n",
    "for var in sequence:\n",
    "    statements\n",
    "```\n",
    "\n",
    "A variable, var, is used to go through each element of the iterable we go through.     \n",
    "Iterable:  An object capable of returning its members one at a time.    \n",
    "https://docs.python.org/3/glossary.html    \n",
    "https://docs.python.org/3/library/collections.abc.html?highlight=iterable#collections.abc.Iterable\n"
   ]
  },
  {
   "cell_type": "markdown",
   "metadata": {
    "jp-MarkdownHeadingCollapsed": true,
    "tags": []
   },
   "source": [
    "##### FUNCTION - block of code that only runs when called and can be reused without having to copy the code\n",
    "\n",
    "```python\n",
    "def function_name(arguments):\n",
    "    <statements>\n",
    "    return result\n",
    "\n",
    "# Call the function:\n",
    "function_name(values)\n",
    "```"
   ]
  },
  {
   "cell_type": "markdown",
   "metadata": {
    "tags": []
   },
   "source": [
    "##### FILE - collection of data stored and identified as a unit by the operating system\n",
    "\n",
    "```python\n",
    "\n",
    "# Open file and return a stream.  Raise OSError upon failure.\n",
    "open(file, mode='r', buffering=-1, encoding=None, errors=None, newline=None, closefd=True, opener=None)\n",
    "\n",
    "\n",
    "with open(file_name, \"r\") as file\n",
    "    for line in file:\n",
    "        <statements>\n",
    "```\n",
    "\n",
    "The result of the open function is an iterable object.    \n",
    "Iterable:  An object capable of returning its members one at a time.    \n",
    "https://docs.python.org/3/glossary.html    \n",
    "https://docs.python.org/3/library/collections.abc.html?highlight=iterable#collections.abc.Iterable\n"
   ]
  },
  {
   "cell_type": "markdown",
   "metadata": {},
   "source": [
    "<b> <font color = \"red\">Exercise</font></b>\n",
    "\n",
    "\n",
    "##### Computing variants\n",
    "\n",
    "Write a function that takes as input as DNA sequence and a reference DNA sequence and returns a list of tuples with the variants - single nucleotide substitutions - between the given sequence and the reference sequence.     \n",
    "The tuple will contain: (position, seq nulceotide, reference nucleotide)"
   ]
  },
  {
   "cell_type": "code",
   "execution_count": null,
   "metadata": {},
   "outputs": [],
   "source": [
    "# Write the code here\n",
    "\n"
   ]
  },
  {
   "cell_type": "code",
   "execution_count": null,
   "metadata": {},
   "outputs": [],
   "source": []
  },
  {
   "cell_type": "code",
   "execution_count": null,
   "metadata": {},
   "outputs": [],
   "source": []
  },
  {
   "cell_type": "code",
   "execution_count": null,
   "metadata": {},
   "outputs": [],
   "source": []
  },
  {
   "cell_type": "code",
   "execution_count": null,
   "metadata": {},
   "outputs": [],
   "source": []
  },
  {
   "cell_type": "code",
   "execution_count": null,
   "metadata": {},
   "outputs": [],
   "source": []
  },
  {
   "cell_type": "markdown",
   "metadata": {
    "tags": []
   },
   "source": [
    "___\n",
    "\n",
    "<b> <font color = \"red\">Exercise</font></b>\n",
    "\n",
    "\n",
    "##### Processing the worm genome file\n",
    "You will extract the gene and mRNA information from the C. elegans genome and write them in a new file.   \n",
    "\n",
    "The GFF3 file is `worm_genome_short.gff3` and is also available in the github repository (you should have it in the study session if you updated the repo). The GFF3 format is described on:\n",
    "https://github.com/The-Sequence-Ontology/Specifications/blob/master/gff3.md.<br> \n",
    "\n",
    "\n",
    "After the comment and header lines (marked by \"#\"), a line in a GFF3 file (row of a table) is composed of 9 tab-delimited fields (columns). The first 8 are called features. These are all atomic (consist of only one element), so they get put into a dictionary features with no problems. You will need to define a key and you will have to generate those integers as you read the file in and add data to the dictionary.\n",
    "\n",
    "The ninth field consists of tag-value pairs. **The tag-value pairs are separated by a semi-colon, \";\". The the tag and value in a pair are  separated by equal signs, \"=\", and the values may consist of mulitiple, comma, \",\", separated entries.** \n",
    "\n",
    "From the definition of the GFF3 we have these fields:   \n",
    "`seqid, source, type, start, end, score, strand, phase`, `attributes`\n",
    "\n",
    "The type field has information about the type of the genomic feature.    \n",
    "\n",
    "* Process each line from the file that has a feature and extract the name from the lines that have the type gene.    \n",
    "* Write those names in the file `worm_genes_short.txt`    \n",
    "* Use a function to process a line and return the line if it meets the criteria or None otherwise.\n",
    "\n",
    "* Update your analysis so that it also returns the ID for mRNAs in the file `worm_mRNAs_short.txt`\n",
    "\n"
   ]
  },
  {
   "cell_type": "code",
   "execution_count": null,
   "metadata": {},
   "outputs": [],
   "source": [
    "# Write the code here\n",
    "\n"
   ]
  },
  {
   "cell_type": "code",
   "execution_count": null,
   "metadata": {},
   "outputs": [],
   "source": []
  },
  {
   "cell_type": "code",
   "execution_count": null,
   "metadata": {},
   "outputs": [],
   "source": []
  },
  {
   "cell_type": "code",
   "execution_count": null,
   "metadata": {},
   "outputs": [],
   "source": []
  },
  {
   "cell_type": "code",
   "execution_count": null,
   "metadata": {},
   "outputs": [],
   "source": []
  },
  {
   "cell_type": "code",
   "execution_count": null,
   "metadata": {
    "tags": []
   },
   "outputs": [],
   "source": []
  },
  {
   "cell_type": "code",
   "execution_count": null,
   "metadata": {},
   "outputs": [],
   "source": []
  },
  {
   "cell_type": "markdown",
   "metadata": {},
   "source": [
    "_____\n",
    "\n",
    "<b><font color = \"red\">Exercise</font> <br></b>\n",
    "\n",
    "- Write a function that given a codon to amino acid dictionary, creates a dictionary that can be used to translate amino acids into codons. Keys are amino acids, values are sets of codons that code for that amino acid. You can use the DNA_amino_acids_map dictionary to test it. Keep in mind, this not a 1-1 translation, as multiple codons can code for the same amino acid. \n",
    "- Write a function that given a peptide and the dictionary created with the function above, it creates a potential DNA sequence that coded for the peptide. Keep in mind, this not a 1-1 translation, as multiple codons can code for the same amino acid, so take the first one.\n",
    "- Write a function that given a peptide, and a DNA_sequence, and a DNA_amino_acids_map dictionary will provide a matching score which is the number of matched amino acids that the sequence produces on the correct positions divided by the maximum between the size of the peptide and the size of the peptide created form the DNA_sequence.\n"
   ]
  },
  {
   "cell_type": "code",
   "execution_count": null,
   "metadata": {},
   "outputs": [],
   "source": [
    "DNA_amino_acids_map = {'ATA':'I', 'ATC':'I', 'ATT':'I', 'ATG':'M',\n",
    "    'ACA':'T', 'ACC':'T', 'ACG':'T', 'ACT':'T',\n",
    "    'AAC':'N', 'AAT':'N', 'AAA':'K', 'AAG':'K',\n",
    "    'AGC':'S', 'AGT':'S', 'AGA':'R', 'AGG':'R',\n",
    "    'CTA':'L', 'CTC':'L', 'CTG':'L', 'CTT':'L',\n",
    "    'CCA':'P', 'CCC':'P', 'CCG':'P', 'CCT':'P',\n",
    "    'CAC':'H', 'CAT':'H', 'CAA':'Q', 'CAG':'Q',\n",
    "    'CGA':'R', 'CGC':'R', 'CGG':'R', 'CGT':'R',\n",
    "    'GTA':'V', 'GTC':'V', 'GTG':'V', 'GTT':'V',\n",
    "    'GCA':'A', 'GCC':'A', 'GCG':'A', 'GCT':'A',\n",
    "    'GAC':'D', 'GAT':'D', 'GAA':'E', 'GAG':'E',\n",
    "    'GGA':'G', 'GGC':'G', 'GGG':'G', 'GGT':'G',\n",
    "    'TCA':'S', 'TCC':'S', 'TCG':'S', 'TCT':'S',\n",
    "    'TTC':'F', 'TTT':'F', 'TTA':'L', 'TTG':'L',\n",
    "    'TAC':'Y', 'TAT':'Y', 'TAA':'_', 'TAG':'_',\n",
    "    'TGC':'C', 'TGT':'C', 'TGA':'_', 'TGG':'W'}"
   ]
  },
  {
   "cell_type": "code",
   "execution_count": null,
   "metadata": {
    "tags": []
   },
   "outputs": [],
   "source": [
    "DNA_amino_acids_map"
   ]
  },
  {
   "cell_type": "markdown",
   "metadata": {},
   "source": [
    " PART 1: Write a function that given a codon to amino acid dictionary, creates a dictionary that can be used to translate amino acids into codons. Keys are amino acids, values are sets of codons that code for that amino acid. You can use the DNA_amino_acids_map dictionary to test it. Keep in mind, this not a 1-1 translation, as multiple codons can code for the same amino acid. "
   ]
  },
  {
   "cell_type": "code",
   "execution_count": null,
   "metadata": {},
   "outputs": [],
   "source": [
    "# Write the code here\n",
    "\n"
   ]
  },
  {
   "cell_type": "code",
   "execution_count": null,
   "metadata": {},
   "outputs": [],
   "source": []
  },
  {
   "cell_type": "code",
   "execution_count": null,
   "metadata": {},
   "outputs": [],
   "source": []
  },
  {
   "cell_type": "code",
   "execution_count": null,
   "metadata": {},
   "outputs": [],
   "source": []
  },
  {
   "cell_type": "markdown",
   "metadata": {},
   "source": [
    "PART 2: Write a function that given a peptide and the dictionary created with the function above, it creates a potential DNA sequence that coded for the peptide. Keep in mind, this not a 1-1 translation, as multiple codons can code for the same amino acid, so take the first one."
   ]
  },
  {
   "cell_type": "code",
   "execution_count": null,
   "metadata": {},
   "outputs": [],
   "source": [
    "# Write the code here\n",
    "\n"
   ]
  },
  {
   "cell_type": "code",
   "execution_count": null,
   "metadata": {},
   "outputs": [],
   "source": [
    "\n",
    "## TEST THE FUNCTION\n",
    "\n",
    "p = \"RMPPQ\" \n",
    "# expected result: 'CGAATGCCGCCGCAG'\n",
    "        "
   ]
  },
  {
   "cell_type": "code",
   "execution_count": null,
   "metadata": {},
   "outputs": [],
   "source": []
  },
  {
   "cell_type": "code",
   "execution_count": null,
   "metadata": {},
   "outputs": [],
   "source": []
  },
  {
   "cell_type": "code",
   "execution_count": null,
   "metadata": {},
   "outputs": [],
   "source": []
  },
  {
   "cell_type": "markdown",
   "metadata": {},
   "source": [
    "PART 3: Write a function that given a peptide, and a DNA_sequence, and a DNA_amino_acids_map dictionary will provide a matching score which is the number of matched amino acids that the sequence produces on the correct positions divided by the maximum between the size of the peptide and the size of the peptide created form the DNA_sequence."
   ]
  },
  {
   "cell_type": "code",
   "execution_count": null,
   "metadata": {
    "tags": []
   },
   "outputs": [],
   "source": [
    "DNA_amino_acids_map"
   ]
  },
  {
   "cell_type": "code",
   "execution_count": null,
   "metadata": {},
   "outputs": [],
   "source": [
    "def translate_seq(seq, DNA_aa_map):\n",
    "    amino_acids = []\n",
    "    n = len(seq)\n",
    "    for i in range(0,n-2,3):\n",
    "        ## add the amino acid for each group of three to the list\n",
    "        amino_acids.append(DNA_aa_map.get(seq[i:i+3], \"\"))\n",
    "    peptide = \"\".join(amino_acids)\n",
    "    return peptide\n",
    "\n",
    "translate_seq(\"AGGATGCCTCCGCAAGGTTTT\", DNA_amino_acids_map)"
   ]
  },
  {
   "cell_type": "code",
   "execution_count": null,
   "metadata": {},
   "outputs": [],
   "source": [
    "# Write the code here\n",
    "\n"
   ]
  },
  {
   "cell_type": "code",
   "execution_count": null,
   "metadata": {},
   "outputs": [],
   "source": []
  },
  {
   "cell_type": "code",
   "execution_count": null,
   "metadata": {},
   "outputs": [],
   "source": [
    "## TEST THE FUNCTION\n",
    "\n",
    "\n",
    "peptide = \"RMPPQ\" \n",
    "sequence = 'CGAATGCCGCCGCAG'\n",
    "# expected result: 1\n"
   ]
  },
  {
   "cell_type": "code",
   "execution_count": null,
   "metadata": {},
   "outputs": [],
   "source": [
    "\n",
    "\n",
    "## TEST THE FUNCTION\n",
    "\n",
    "sequence = \"AGGATGCCTCCGCAAGGTTTT\"\n",
    "peptide = 'RMPPQ'\n",
    "## expected result: 0.7142857142857143\n"
   ]
  },
  {
   "cell_type": "code",
   "execution_count": null,
   "metadata": {},
   "outputs": [],
   "source": [
    "## TEST THE FUNCTION\n",
    "\n",
    "sequence = \"CCCCAGCGTGCT\"\n",
    "peptide = \"PQRA\"\n",
    "# expected result: 1\n"
   ]
  },
  {
   "cell_type": "code",
   "execution_count": null,
   "metadata": {},
   "outputs": [],
   "source": [
    "## TEST THE FUNCTION\n",
    "\n",
    "sequence = \"CCCCAGCGTGCTACT\"\n",
    "peptide = \"PQRA\"\n",
    "# expected result: 0.8\n"
   ]
  },
  {
   "cell_type": "code",
   "execution_count": null,
   "metadata": {},
   "outputs": [],
   "source": [
    "## TEST THE FUNCTION\n",
    "\n",
    "sequence = \"CCCCAGCGTG\"\n",
    "AA_sequence = \"PQRA\"\n",
    "# expected result: 0.75\n"
   ]
  },
  {
   "cell_type": "code",
   "execution_count": null,
   "metadata": {},
   "outputs": [],
   "source": [
    "## TEST THE FUNCTION\n",
    "\n",
    "sequence = \"CC\"\n",
    "AA_sequence = \"PQRA\"\n",
    "# expected result: 0\n"
   ]
  },
  {
   "cell_type": "code",
   "execution_count": null,
   "metadata": {},
   "outputs": [],
   "source": []
  },
  {
   "cell_type": "markdown",
   "metadata": {
    "tags": []
   },
   "source": [
    "___\n",
    "<b><font color = \"red\">Exercise</font> <br><br></b>\n",
    "##### Gene regulatory network\n",
    "\n",
    "\"Formally speaking, a gene regulatory network or genetic regulatory network (GRN) is a collection of DNA segments in a cell which interact with each other (indirectly through their RNA and protein expression products) and with other substances in the cell, thereby governing the rates at which genes in the network are transcribed into mRNA. In general, each mRNA molecule goes on to make a specific protein (or set of proteins).\"  \n",
    "https://link.springer.com/referenceworkentry/10.1007%2F978-1-4419-9863-7_364\n",
    "\n",
    "<img src = \"https://media.springernature.com/original/springer-static/image/prt%3A978-1-4419-9863-7%2F7/MediaObjects/978-1-4419-9863-7_7_Part_Fig1-364_HTML.gif\" width = 200/>\n",
    "\n"
   ]
  },
  {
   "cell_type": "markdown",
   "metadata": {},
   "source": [
    "\n",
    "We have a gene regulatory network represented as a dictionary where the key is a gene from the network above and the value is a tuple of the genes the key gene directly regulates (through orange links only).    \n",
    "\n",
    "- Write a function that checks if there is an edge between a pair of genes in the network - meaning there is an edge from the first gene  to the second\n",
    "\n",
    "\n"
   ]
  },
  {
   "cell_type": "code",
   "execution_count": null,
   "metadata": {},
   "outputs": [],
   "source": [
    "network = {'Gene1': ('Gene2',),\n",
    " 'Gene2': ('Gene6',),\n",
    " 'Gene3': ('Gene1', 'Gene5'),\n",
    " 'Gene4': ('Gene2',),\n",
    " 'Gene5': ('Gene1',),\n",
    " 'Gene6': ('Gene1',)}"
   ]
  },
  {
   "cell_type": "code",
   "execution_count": null,
   "metadata": {},
   "outputs": [],
   "source": [
    "network"
   ]
  },
  {
   "cell_type": "code",
   "execution_count": null,
   "metadata": {},
   "outputs": [],
   "source": []
  },
  {
   "cell_type": "code",
   "execution_count": null,
   "metadata": {},
   "outputs": [],
   "source": [
    "# Write the code here\n",
    "\n"
   ]
  },
  {
   "cell_type": "code",
   "execution_count": null,
   "metadata": {},
   "outputs": [],
   "source": [
    "\n",
    "\n",
    "## TEST THE FUNCTION\n",
    "\n",
    "g1 = \"Gene1\"\n",
    "g2 = \"Gene2\"\n",
    "check_edge(gene1 = g1, gene2 = g2, biological_network = network)"
   ]
  },
  {
   "cell_type": "code",
   "execution_count": null,
   "metadata": {},
   "outputs": [],
   "source": [
    "network"
   ]
  },
  {
   "cell_type": "code",
   "execution_count": null,
   "metadata": {},
   "outputs": [],
   "source": [
    "## TEST THE FUNCTION - more edges\n",
    "\n",
    "\n",
    "# list of tuples of two - edges to test\n",
    "edges_list = [(\"Gene1\", \"Gene3\"), (\"Gene3\", \"Gene5\"), (\"X\", \"Y\")]\n",
    "\n",
    "# for loop through the edges\n",
    "# each tuple of 2 will be unpacked in 2 variables g1 and g2\n",
    "for g1, g2 in edges_list:\n",
    "    found = check_edge(g1 , g2, network)\n",
    "    print(g1,g2,found)"
   ]
  },
  {
   "cell_type": "code",
   "execution_count": null,
   "metadata": {},
   "outputs": [],
   "source": []
  },
  {
   "cell_type": "code",
   "execution_count": null,
   "metadata": {},
   "outputs": [],
   "source": []
  },
  {
   "cell_type": "markdown",
   "metadata": {},
   "source": [
    "___\n",
    "<b><font color = \"red\">Exercise</font> <br><br></b>\n",
    "\n",
    "Explain the following code:\n",
    "\n"
   ]
  },
  {
   "cell_type": "code",
   "execution_count": null,
   "metadata": {},
   "outputs": [],
   "source": [
    "network = {'Gene1': ('Gene2',),\n",
    " 'Gene2': ('Gene6',),\n",
    " 'Gene3': ('Gene1', 'Gene5'),\n",
    " 'Gene4': ('Gene2',),\n",
    " 'Gene5': ('Gene1',),\n",
    " 'Gene6': ('Gene1',)}\n",
    "\n",
    "c_set = set()\n",
    "for g1 in network:\n",
    "    for g2 in network[g1]:\n",
    "        for g3 in network.get(g2,()):\n",
    "            if g1 in network.get(g3,()):\n",
    "                c = (g1,g2,g3)\n",
    "                found = False\n",
    "                for t in c_set:\n",
    "                    if set(c) == set(t):\n",
    "                        found = True\n",
    "                if not found: \n",
    "                    c_set.add(c)\n",
    "c_set"
   ]
  },
  {
   "cell_type": "code",
   "execution_count": null,
   "metadata": {},
   "outputs": [],
   "source": [
    "# Write your description here:\n",
    "\n"
   ]
  },
  {
   "cell_type": "code",
   "execution_count": null,
   "metadata": {},
   "outputs": [],
   "source": []
  },
  {
   "cell_type": "code",
   "execution_count": null,
   "metadata": {},
   "outputs": [],
   "source": []
  },
  {
   "cell_type": "code",
   "execution_count": null,
   "metadata": {},
   "outputs": [],
   "source": []
  },
  {
   "cell_type": "markdown",
   "metadata": {},
   "source": [
    "_______"
   ]
  }
 ],
 "metadata": {
  "kernelspec": {
   "display_name": "Python 3 (ipykernel)",
   "language": "python",
   "name": "python3"
  },
  "language_info": {
   "codemirror_mode": {
    "name": "ipython",
    "version": 3
   },
   "file_extension": ".py",
   "mimetype": "text/x-python",
   "name": "python",
   "nbconvert_exporter": "python",
   "pygments_lexer": "ipython3",
   "version": "3.9.12"
  }
 },
 "nbformat": 4,
 "nbformat_minor": 4
}
