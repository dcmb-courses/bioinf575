{
 "cells": [
  {
   "cell_type": "markdown",
   "metadata": {
    "tags": []
   },
   "source": [
    "### Study session 12 - OOP and Exception Handling and Unit Tests\n",
    "\n",
    "#### BIOINF 575 - Fall 2023\n",
    "\n",
    "\n"
   ]
  },
  {
   "cell_type": "markdown",
   "metadata": {},
   "source": [
    "#### We have here the implementation of the following classes: Gene, GOTerm, GeneGOTerm"
   ]
  },
  {
   "cell_type": "code",
   "execution_count": null,
   "metadata": {},
   "outputs": [],
   "source": [
    "# implement the Gene class\n",
    "# implement the __init__ method \n",
    "# in __init__ we create custom attributes:  gid, symbol and description\n",
    "# implement __str__ and __repr__ methods to be able to display the object \n",
    "# implement the __eq__ method to be able to chech equality between Gnee objects\n",
    "\n",
    "class Gene:\n",
    "    def __init__(self,  gid, sym, desc, chromosome): \n",
    "        # checks can be done to make sure the data is not missing and \n",
    "        # each parameter should ahve the correct type\n",
    "        self.gid = int(gid)\n",
    "        self.symbol = sym\n",
    "        self.description = desc\n",
    "        self.chr = int(chromosome)\n",
    "        \n",
    "    def __str__(self):\n",
    "        return f\"Gene({self.gid},'{self.symbol}','{self.description}',{self.chr})\"\n",
    "    \n",
    "    def __repr__(self):\n",
    "        return f\"Gene({self.gid},'{self.symbol}','{self.description}',{self.chr})\"\n",
    "    \n",
    "    def __eq__(self, g):\n",
    "        return self.gid == g.gid and self.symbol == g.symbol and self.description == g.description and self.chr == g.chr\n",
    "    \n",
    "    "
   ]
  },
  {
   "cell_type": "code",
   "execution_count": null,
   "metadata": {},
   "outputs": [],
   "source": [
    "# test \n",
    "\n",
    "g = Gene(2, \"GSYM\", \"Gene for testing\", 1)\n",
    "g"
   ]
  },
  {
   "cell_type": "code",
   "execution_count": null,
   "metadata": {},
   "outputs": [],
   "source": []
  },
  {
   "cell_type": "code",
   "execution_count": null,
   "metadata": {},
   "outputs": [],
   "source": [
    "# implement the GOTerm class\n",
    "# implement the __init__ method \n",
    "# in __init__ we create custom attributes:  gid, symbol and description\n",
    "# implement __str__ and __repr__ methods to be able to display the object \n",
    "\n",
    "class GOTerm:\n",
    "    def __init__(self,  gtid, name): \n",
    "        # checks can be done to make sure the data is not missing and \n",
    "        # each parameter should ahve the correct type\n",
    "        self.gtid = int(gtid)\n",
    "        self.name = name\n",
    "        \n",
    "    def __str__(self):\n",
    "        return f\"GOTerm({self.gtid},'{self.name}')\"\n",
    "    \n",
    "    def __repr__(self):\n",
    "        return f\"GOTerm({self.gtid},'{self.name}')\"\n",
    "        \n",
    "    def __eq__(self, gt):\n",
    "        return self.name == gt.name and self.gtid == gt.gtid  "
   ]
  },
  {
   "cell_type": "code",
   "execution_count": null,
   "metadata": {},
   "outputs": [],
   "source": [
    "# test\n",
    "\n",
    "gt = GOTerm(5, \"Cell adhesion\")\n",
    "gt"
   ]
  },
  {
   "cell_type": "code",
   "execution_count": null,
   "metadata": {},
   "outputs": [],
   "source": []
  },
  {
   "cell_type": "code",
   "execution_count": null,
   "metadata": {},
   "outputs": [],
   "source": [
    "# implement the GeneGOTerm class\n",
    "# implement the __init__ method \n",
    "# in __init__ we create custom attributes:  gid, symbol and description\n",
    "# implement __str__ and __repr__ methods to be able to display the object \n",
    "\n",
    "class GeneGOTerm:\n",
    "    def __init__(self,  gid, gtid): \n",
    "        # checks can be done to make sure the data is not missing and \n",
    "        # each parameter should ahve the correct type\n",
    "        self.gene_id = int(gid)\n",
    "        self.GO_term_id = int(gtid)\n",
    "        \n",
    "    def __str__(self):\n",
    "        return f\"GeneGOTerm({self.gene_id},{self.GO_term_id})\"\n",
    "    \n",
    "    def __repr__(self):\n",
    "        return f\"GeneGOTerm({self.gene_id},{self.GO_term_id})\"\n",
    "        \n",
    "    def __eq__(self, ggt):\n",
    "        return self.gene_id == ggt.gene_id and self.GO_term_id == ggt.GO_term_id"
   ]
  },
  {
   "cell_type": "code",
   "execution_count": null,
   "metadata": {},
   "outputs": [],
   "source": [
    "# test \n",
    "ggt = GeneGOTerm(2, 5)\n",
    "ggt"
   ]
  },
  {
   "cell_type": "code",
   "execution_count": null,
   "metadata": {},
   "outputs": [],
   "source": []
  },
  {
   "cell_type": "code",
   "execution_count": null,
   "metadata": {},
   "outputs": [],
   "source": []
  },
  {
   "cell_type": "markdown",
   "metadata": {},
   "source": [
    "#### <font color = \"red\">Exercise</font>\n",
    "\n",
    "We try to create a gene with an invalid gene id, which is not a number.    \n",
    "We get an error.     \n",
    "Handle that error.\n",
    "\n"
   ]
  },
  {
   "cell_type": "code",
   "execution_count": null,
   "metadata": {},
   "outputs": [],
   "source": [
    "g = Gene(\"2\", \"GSYM\", \"Gene for testing\", 1)\n",
    "g"
   ]
  },
  {
   "cell_type": "code",
   "execution_count": null,
   "metadata": {},
   "outputs": [],
   "source": [
    "g = Gene(\"2aaa\", \"GSYM\", \"Gene for testing\", 1)\n",
    "g"
   ]
  },
  {
   "cell_type": "code",
   "execution_count": null,
   "metadata": {},
   "outputs": [],
   "source": [
    "### Write your solution here the run the test below\n",
    "\n",
    "\n",
    "\n"
   ]
  },
  {
   "cell_type": "code",
   "execution_count": null,
   "metadata": {},
   "outputs": [],
   "source": [
    "g = Gene(\"2\", \"GSYM\", \"Gene for testing\", 1)\n",
    "g"
   ]
  },
  {
   "cell_type": "code",
   "execution_count": null,
   "metadata": {},
   "outputs": [],
   "source": [
    "g = Gene(\"2aaa\", \"GSYM\", \"Gene for testing\", 1)\n",
    "g"
   ]
  },
  {
   "cell_type": "code",
   "execution_count": null,
   "metadata": {},
   "outputs": [],
   "source": []
  },
  {
   "cell_type": "code",
   "execution_count": null,
   "metadata": {},
   "outputs": [],
   "source": []
  },
  {
   "cell_type": "code",
   "execution_count": null,
   "metadata": {},
   "outputs": [],
   "source": []
  },
  {
   "cell_type": "markdown",
   "metadata": {},
   "source": [
    "_____\n",
    "\n",
    "#### Create a list of genes, a list of GO terms, and a list of gene to GO term elements from the file `genes_info2.txt`"
   ]
  },
  {
   "cell_type": "code",
   "execution_count": null,
   "metadata": {},
   "outputs": [],
   "source": [
    "# initialize variables for the three lists\n",
    "def process_gene_data(file_name):\n",
    "    genes_lst = []\n",
    "    go_terms_lst = []\n",
    "    genes_go_terms_lst = []\n",
    "    # dictionary that will have GO term names as keys and IDs as values\n",
    "    terms_lst = []\n",
    "\n",
    "    # read lines from the file one by one\n",
    "    with open(file_name) as gene_file:\n",
    "        header_line = gene_file.readline()\n",
    "        for line in gene_file:\n",
    "            line_list = line.strip().split(\"\\t\")\n",
    "            # Create a Gene object and add it to the list\n",
    "            gene_id = line_list[0]\n",
    "            gene_symbol = line_list[1]\n",
    "            gene_description = line_list[2]\n",
    "            gene_chrromosome = line_list[4]\n",
    "            genes_lst.append(Gene(gene_id, gene_symbol, gene_description, gene_chrromosome))\n",
    "\n",
    "            # The last column in the file contains the GO terms separated by \";\" \n",
    "            # that is the last element in the line_list for any given line\n",
    "            for go_term in line_list[-1].strip().split(\";\"):\n",
    "                if (go_term not in terms_lst):\n",
    "                    terms_lst.append(go_term)\n",
    "                    go_terms_lst.append(GOTerm(len(terms_lst), go_term))\n",
    "                go_term_id = terms_lst.index(go_term) + 1\n",
    "                genes_go_terms_lst.append(GeneGOTerm(gene_id, go_term_id))\n",
    "    # return dictionatry with the three lists\n",
    "    return {\"genes_lst\": genes_lst, \"go_terms_lst\": go_terms_lst, \"genes_go_terms_lst\": genes_go_terms_lst}"
   ]
  },
  {
   "cell_type": "code",
   "execution_count": null,
   "metadata": {},
   "outputs": [],
   "source": []
  },
  {
   "cell_type": "markdown",
   "metadata": {},
   "source": [
    "#### <font color = \"red\">Exercise</font>\n",
    "\n",
    "We try to use the `process_gene_data` function, we get errors if we provide the wrong file name as well as when we try to process the `genes_info2.txt`.  \n",
    "We get errors.     \n",
    "Handle those errors: File not found when the file does not exist, Value Error when chromosome is not a number, Index out of bounds when we have a line with missing elements"
   ]
  },
  {
   "cell_type": "code",
   "execution_count": null,
   "metadata": {},
   "outputs": [],
   "source": [
    "### Write your solution here the run the test below\n",
    "\n"
   ]
  },
  {
   "cell_type": "code",
   "execution_count": null,
   "metadata": {},
   "outputs": [],
   "source": []
  },
  {
   "cell_type": "code",
   "execution_count": null,
   "metadata": {},
   "outputs": [],
   "source": [
    "gene_file_name = \"genes_info1.txt\"\n",
    "process_gene_data(gene_file_name)"
   ]
  },
  {
   "cell_type": "code",
   "execution_count": null,
   "metadata": {},
   "outputs": [],
   "source": [
    "gene_file_name = \"genes_info2.txt\"\n",
    "res = process_gene_data(gene_file_name)\n",
    "#print(res)\n",
    "genes_lst, go_terms_lst, genes_go_terms_lst = res.values()"
   ]
  },
  {
   "cell_type": "code",
   "execution_count": null,
   "metadata": {},
   "outputs": [],
   "source": [
    "genes_lst"
   ]
  },
  {
   "cell_type": "code",
   "execution_count": null,
   "metadata": {},
   "outputs": [],
   "source": [
    "go_terms_lst"
   ]
  },
  {
   "cell_type": "code",
   "execution_count": null,
   "metadata": {},
   "outputs": [],
   "source": [
    "genes_go_terms_lst"
   ]
  },
  {
   "cell_type": "code",
   "execution_count": null,
   "metadata": {},
   "outputs": [],
   "source": []
  },
  {
   "cell_type": "markdown",
   "metadata": {
    "tags": []
   },
   "source": [
    "___\n",
    "\n",
    "#### <font color = \"red\">Exercise</font>\n",
    "\n",
    "#### Unit testing\n",
    "\n",
    "Implement 3 test cases for the function process_gene_data.  \n",
    "E.g.: the file does not exist, the line has valid information for a gene, the file has one gene with all good information\n",
    "\n",
    "\n"
   ]
  },
  {
   "cell_type": "code",
   "execution_count": null,
   "metadata": {},
   "outputs": [],
   "source": [
    "# Write your solution here\n",
    "\n",
    "\n"
   ]
  },
  {
   "cell_type": "code",
   "execution_count": null,
   "metadata": {},
   "outputs": [],
   "source": [
    "# run all tests at once\n",
    "\n",
    "if __name__ == '__main__':\n",
    "    unittest.main(argv=['first-arg-is-ignored'], exit=False)"
   ]
  },
  {
   "cell_type": "code",
   "execution_count": null,
   "metadata": {},
   "outputs": [],
   "source": []
  },
  {
   "cell_type": "markdown",
   "metadata": {
    "tags": []
   },
   "source": [
    "___\n",
    "\n",
    "#### <font color = \"red\">Exercise</font>\n",
    "\n",
    "#### Unit testing\n",
    "\n",
    "Write a function that processes a string (a line from the `gene_info2.txt` file) and returns a Gene object.\n",
    "\n",
    "Implement 3 test cases for the function.  \n",
    "E.g.: the line is empty or None, the line has valid information for a gene\n",
    "\n",
    "\n"
   ]
  },
  {
   "cell_type": "code",
   "execution_count": null,
   "metadata": {},
   "outputs": [],
   "source": [
    "# Write your solution here\n",
    "\n",
    "\n"
   ]
  },
  {
   "cell_type": "code",
   "execution_count": null,
   "metadata": {},
   "outputs": [],
   "source": []
  },
  {
   "cell_type": "code",
   "execution_count": null,
   "metadata": {},
   "outputs": [],
   "source": []
  },
  {
   "cell_type": "code",
   "execution_count": null,
   "metadata": {},
   "outputs": [],
   "source": []
  },
  {
   "cell_type": "code",
   "execution_count": null,
   "metadata": {},
   "outputs": [],
   "source": []
  },
  {
   "cell_type": "code",
   "execution_count": null,
   "metadata": {},
   "outputs": [],
   "source": []
  },
  {
   "cell_type": "code",
   "execution_count": null,
   "metadata": {},
   "outputs": [],
   "source": []
  },
  {
   "cell_type": "code",
   "execution_count": null,
   "metadata": {},
   "outputs": [],
   "source": []
  },
  {
   "cell_type": "code",
   "execution_count": null,
   "metadata": {},
   "outputs": [],
   "source": []
  }
 ],
 "metadata": {
  "kernelspec": {
   "display_name": "Python 3 (ipykernel)",
   "language": "python",
   "name": "python3"
  },
  "language_info": {
   "codemirror_mode": {
    "name": "ipython",
    "version": 3
   },
   "file_extension": ".py",
   "mimetype": "text/x-python",
   "name": "python",
   "nbconvert_exporter": "python",
   "pygments_lexer": "ipython3",
   "version": "3.9.12"
  }
 },
 "nbformat": 4,
 "nbformat_minor": 4
}
