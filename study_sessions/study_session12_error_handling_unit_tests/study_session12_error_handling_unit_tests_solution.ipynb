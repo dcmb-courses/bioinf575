{
 "cells": [
  {
   "cell_type": "code",
   "execution_count": 2,
   "metadata": {},
   "outputs": [],
   "source": [
    "#### SOLUTION"
   ]
  },
  {
   "cell_type": "markdown",
   "metadata": {
    "tags": []
   },
   "source": [
    "### Study session 12 - OOP and Exception Handling and Unit Tests\n",
    "\n",
    "#### BIOINF 575 - Fall 2023\n",
    "\n",
    "\n"
   ]
  },
  {
   "cell_type": "markdown",
   "metadata": {},
   "source": [
    "#### We have here the implementation of the following classes: Gene, GOTerm, GeneGOTerm"
   ]
  },
  {
   "cell_type": "code",
   "execution_count": 1,
   "metadata": {},
   "outputs": [],
   "source": [
    "# implement the Gene class\n",
    "# implement the __init__ method \n",
    "# in __init__ we create custom attributes:  gid, symbol and description\n",
    "# implement __str__ and __repr__ methods to be able to display the object \n",
    "# implement the __eq__ method to be able to chech equality between Gnee objects\n",
    "\n",
    "class Gene:\n",
    "    def __init__(self,  gid, sym, desc, chromosome): \n",
    "        # checks can be done to make sure the data is not missing and \n",
    "        # each parameter should ahve the correct type\n",
    "        self.gid = int(gid)\n",
    "        self.symbol = sym\n",
    "        self.description = desc\n",
    "        self.chr = int(chromosome)\n",
    "        \n",
    "    def __str__(self):\n",
    "        return f\"Gene({self.gid},'{self.symbol}','{self.description}',{self.chr})\"\n",
    "    \n",
    "    def __repr__(self):\n",
    "        return f\"Gene({self.gid},'{self.symbol}','{self.description}',{self.chr})\"\n",
    "    \n",
    "    def __eq__(self, g):\n",
    "        return self.gid == g.gid and self.symbol == g.symbol and self.description == g.description and self.chr == g.chr\n",
    "    \n",
    "    "
   ]
  },
  {
   "cell_type": "code",
   "execution_count": 2,
   "metadata": {},
   "outputs": [
    {
     "data": {
      "text/plain": [
       "Gene(2,'GSYM','Gene for testing',1)"
      ]
     },
     "execution_count": 2,
     "metadata": {},
     "output_type": "execute_result"
    }
   ],
   "source": [
    "# test \n",
    "\n",
    "g = Gene(2, \"GSYM\", \"Gene for testing\", 1)\n",
    "g"
   ]
  },
  {
   "cell_type": "code",
   "execution_count": null,
   "metadata": {},
   "outputs": [],
   "source": []
  },
  {
   "cell_type": "code",
   "execution_count": 3,
   "metadata": {},
   "outputs": [],
   "source": [
    "# implement the GOTerm class\n",
    "# implement the __init__ method \n",
    "# in __init__ we create custom attributes:  gid, symbol and description\n",
    "# implement __str__ and __repr__ methods to be able to display the object \n",
    "\n",
    "class GOTerm:\n",
    "    def __init__(self,  gtid, name): \n",
    "        # checks can be done to make sure the data is not missing and \n",
    "        # each parameter should ahve the correct type\n",
    "        self.gtid = int(gtid)\n",
    "        self.name = name\n",
    "        \n",
    "    def __str__(self):\n",
    "        return f\"GOTerm({self.gtid},'{self.name}')\"\n",
    "    \n",
    "    def __repr__(self):\n",
    "        return f\"GOTerm({self.gtid},'{self.name}')\"\n",
    "        \n",
    "    def __eq__(self, gt):\n",
    "        return self.name == gt.name and self.gtid == gt.gtid  "
   ]
  },
  {
   "cell_type": "code",
   "execution_count": 4,
   "metadata": {},
   "outputs": [
    {
     "data": {
      "text/plain": [
       "GOTerm(5,'Cell adhesion')"
      ]
     },
     "execution_count": 4,
     "metadata": {},
     "output_type": "execute_result"
    }
   ],
   "source": [
    "# test\n",
    "\n",
    "gt = GOTerm(5, \"Cell adhesion\")\n",
    "gt"
   ]
  },
  {
   "cell_type": "code",
   "execution_count": null,
   "metadata": {},
   "outputs": [],
   "source": []
  },
  {
   "cell_type": "code",
   "execution_count": 5,
   "metadata": {},
   "outputs": [],
   "source": [
    "# implement the GeneGOTerm class\n",
    "# implement the __init__ method \n",
    "# in __init__ we create custom attributes:  gid, symbol and description\n",
    "# implement __str__ and __repr__ methods to be able to display the object \n",
    "\n",
    "class GeneGOTerm:\n",
    "    def __init__(self,  gid, gtid): \n",
    "        # checks can be done to make sure the data is not missing and \n",
    "        # each parameter should ahve the correct type\n",
    "        self.gene_id = int(gid)\n",
    "        self.GO_term_id = int(gtid)\n",
    "        \n",
    "    def __str__(self):\n",
    "        return f\"GeneGOTerm({self.gene_id},{self.GO_term_id})\"\n",
    "    \n",
    "    def __repr__(self):\n",
    "        return f\"GeneGOTerm({self.gene_id},{self.GO_term_id})\"\n",
    "        \n",
    "    def __eq__(self, ggt):\n",
    "        return self.gene_id == ggt.gene_id and self.GO_term_id == ggt.GO_term_id"
   ]
  },
  {
   "cell_type": "code",
   "execution_count": 6,
   "metadata": {},
   "outputs": [
    {
     "data": {
      "text/plain": [
       "GeneGOTerm(2,5)"
      ]
     },
     "execution_count": 6,
     "metadata": {},
     "output_type": "execute_result"
    }
   ],
   "source": [
    "# test \n",
    "ggt = GeneGOTerm(2, 5)\n",
    "ggt"
   ]
  },
  {
   "cell_type": "code",
   "execution_count": null,
   "metadata": {},
   "outputs": [],
   "source": []
  },
  {
   "cell_type": "code",
   "execution_count": null,
   "metadata": {},
   "outputs": [],
   "source": []
  },
  {
   "cell_type": "markdown",
   "metadata": {},
   "source": [
    "#### <font color = \"red\">Exercise</font>\n",
    "\n",
    "We try to create a gene with an invalid gene id, which is not a number.    \n",
    "We get an error.     \n",
    "Handle that error.\n",
    "\n"
   ]
  },
  {
   "cell_type": "code",
   "execution_count": 7,
   "metadata": {},
   "outputs": [
    {
     "data": {
      "text/plain": [
       "Gene(2,'GSYM','Gene for testing',1)"
      ]
     },
     "execution_count": 7,
     "metadata": {},
     "output_type": "execute_result"
    }
   ],
   "source": [
    "g = Gene(\"2\", \"GSYM\", \"Gene for testing\", 1)\n",
    "g"
   ]
  },
  {
   "cell_type": "code",
   "execution_count": 8,
   "metadata": {},
   "outputs": [
    {
     "ename": "ValueError",
     "evalue": "invalid literal for int() with base 10: '2aaa'",
     "output_type": "error",
     "traceback": [
      "\u001b[0;31m---------------------------------------------------------------------------\u001b[0m",
      "\u001b[0;31mValueError\u001b[0m                                Traceback (most recent call last)",
      "Input \u001b[0;32mIn [8]\u001b[0m, in \u001b[0;36m<cell line: 1>\u001b[0;34m()\u001b[0m\n\u001b[0;32m----> 1\u001b[0m g \u001b[38;5;241m=\u001b[39m \u001b[43mGene\u001b[49m\u001b[43m(\u001b[49m\u001b[38;5;124;43m\"\u001b[39;49m\u001b[38;5;124;43m2aaa\u001b[39;49m\u001b[38;5;124;43m\"\u001b[39;49m\u001b[43m,\u001b[49m\u001b[43m \u001b[49m\u001b[38;5;124;43m\"\u001b[39;49m\u001b[38;5;124;43mGSYM\u001b[39;49m\u001b[38;5;124;43m\"\u001b[39;49m\u001b[43m,\u001b[49m\u001b[43m \u001b[49m\u001b[38;5;124;43m\"\u001b[39;49m\u001b[38;5;124;43mGene for testing\u001b[39;49m\u001b[38;5;124;43m\"\u001b[39;49m\u001b[43m,\u001b[49m\u001b[43m \u001b[49m\u001b[38;5;241;43m1\u001b[39;49m\u001b[43m)\u001b[49m\n\u001b[1;32m      2\u001b[0m g\n",
      "Input \u001b[0;32mIn [1]\u001b[0m, in \u001b[0;36mGene.__init__\u001b[0;34m(self, gid, sym, desc, chromosome)\u001b[0m\n\u001b[1;32m      8\u001b[0m \u001b[38;5;28;01mdef\u001b[39;00m \u001b[38;5;21m__init__\u001b[39m(\u001b[38;5;28mself\u001b[39m,  gid, sym, desc, chromosome): \n\u001b[1;32m      9\u001b[0m     \u001b[38;5;66;03m# checks can be done to make sure the data is not missing and \u001b[39;00m\n\u001b[1;32m     10\u001b[0m     \u001b[38;5;66;03m# each parameter should ahve the correct type\u001b[39;00m\n\u001b[0;32m---> 11\u001b[0m     \u001b[38;5;28mself\u001b[39m\u001b[38;5;241m.\u001b[39mgid \u001b[38;5;241m=\u001b[39m \u001b[38;5;28;43mint\u001b[39;49m\u001b[43m(\u001b[49m\u001b[43mgid\u001b[49m\u001b[43m)\u001b[49m\n\u001b[1;32m     12\u001b[0m     \u001b[38;5;28mself\u001b[39m\u001b[38;5;241m.\u001b[39msymbol \u001b[38;5;241m=\u001b[39m sym\n\u001b[1;32m     13\u001b[0m     \u001b[38;5;28mself\u001b[39m\u001b[38;5;241m.\u001b[39mdescription \u001b[38;5;241m=\u001b[39m desc\n",
      "\u001b[0;31mValueError\u001b[0m: invalid literal for int() with base 10: '2aaa'"
     ]
    }
   ],
   "source": [
    "g = Gene(\"2aaa\", \"GSYM\", \"Gene for testing\", 1)\n",
    "g"
   ]
  },
  {
   "cell_type": "code",
   "execution_count": null,
   "metadata": {},
   "outputs": [],
   "source": [
    "### Write your solution here the run the test below\n",
    "\n",
    "\n",
    "\n",
    "# we add a try statement for changing the gene id into a number: int(gid)\n",
    "\n",
    "class Gene:\n",
    "    def __init__(self,  gid, sym, desc, chromosome): \n",
    "        # checks can be done to make sure the data is not missing and \n",
    "        # each parameter should ahve the correct type\n",
    "        try:\n",
    "            self.gid = int(gid)\n",
    "        except ValueError:\n",
    "            print(\"Gene with symbol:'\", sym, \"' has id None, beacause the id was not a number, gene id:\", gid)\n",
    "            self.gid = None\n",
    "            \n",
    "        self.symbol = sym\n",
    "        self.description = desc\n",
    "        self.chr = int(chromosome)\n",
    "        \n",
    "    def __str__(self):\n",
    "        return f\"Gene({self.gid},'{self.symbol}','{self.description}',{self.chr})\"\n",
    "    \n",
    "    def __repr__(self):\n",
    "        return f\"Gene({self.gid},'{self.symbol}','{self.description}',{self.chr})\"\n",
    "    \n",
    "    def __eq__(self, g):\n",
    "        return self.gid == g.gid and self.symbol == g.symbol and self.description == g.description and self.chr == g.chr\n",
    "    "
   ]
  },
  {
   "cell_type": "code",
   "execution_count": null,
   "metadata": {},
   "outputs": [],
   "source": [
    "g = Gene(\"2\", \"GSYM\", \"Gene for testing\", 1)\n",
    "g"
   ]
  },
  {
   "cell_type": "code",
   "execution_count": null,
   "metadata": {},
   "outputs": [],
   "source": [
    "g = Gene(\"2aaa\", \"GSYM\", \"Gene for testing\", 1)\n",
    "g"
   ]
  },
  {
   "cell_type": "code",
   "execution_count": null,
   "metadata": {},
   "outputs": [],
   "source": []
  },
  {
   "cell_type": "code",
   "execution_count": null,
   "metadata": {},
   "outputs": [],
   "source": []
  },
  {
   "cell_type": "code",
   "execution_count": null,
   "metadata": {},
   "outputs": [],
   "source": []
  },
  {
   "cell_type": "markdown",
   "metadata": {},
   "source": [
    "_____\n",
    "\n",
    "#### Create a list of genes, a list of GO terms, and a list of gene to GO term elements from the file `genes_info2.txt`"
   ]
  },
  {
   "cell_type": "code",
   "execution_count": 9,
   "metadata": {},
   "outputs": [],
   "source": [
    "# initialize variables for the three lists\n",
    "def process_gene_data(file_name):\n",
    "    genes_lst = []\n",
    "    go_terms_lst = []\n",
    "    genes_go_terms_lst = []\n",
    "    # dictionary that will have GO term names as keys and IDs as values\n",
    "    terms_lst = []\n",
    "\n",
    "    # read lines from the file one by one\n",
    "    with open(file_name) as gene_file:\n",
    "        header_line = gene_file.readline()\n",
    "        for line in gene_file:\n",
    "            line_list = line.strip().split(\"\\t\")\n",
    "            # Create a Gene object and add it to the list\n",
    "            gene_id = line_list[0]\n",
    "            gene_symbol = line_list[1]\n",
    "            gene_description = line_list[2]\n",
    "            gene_chrromosome = line_list[4]\n",
    "            genes_lst.append(Gene(gene_id, gene_symbol, gene_description, gene_chrromosome))\n",
    "\n",
    "            # The last column in the file contains the GO terms separated by \";\" \n",
    "            # that is the last element in the line_list for any given line\n",
    "            for go_term in line_list[-1].strip().split(\";\"):\n",
    "                if (go_term not in terms_lst):\n",
    "                    terms_lst.append(go_term)\n",
    "                    go_terms_lst.append(GOTerm(len(terms_lst), go_term))\n",
    "                go_term_id = terms_lst.index(go_term) + 1\n",
    "                genes_go_terms_lst.append(GeneGOTerm(gene_id, go_term_id))\n",
    "    # return dictionatry with the three lists\n",
    "    return {\"genes_lst\": genes_lst, \"go_terms_lst\": go_terms_lst, \"genes_go_terms_lst\": genes_go_terms_lst}"
   ]
  },
  {
   "cell_type": "code",
   "execution_count": null,
   "metadata": {},
   "outputs": [],
   "source": []
  },
  {
   "cell_type": "markdown",
   "metadata": {},
   "source": [
    "#### <font color = \"red\">Exercise</font>\n",
    "\n",
    "We try to use the `process_gene_data` function, we get errors if we provide the wrong file name as well as when we try to process the `genes_info2.txt`.  \n",
    "We get errors.     \n",
    "Handle those errors: File not found when the file does not exist, Value Error when chromosome is not a number, Index out of bounds when we have a line with missing elements"
   ]
  },
  {
   "cell_type": "code",
   "execution_count": 10,
   "metadata": {},
   "outputs": [],
   "source": [
    "### Write your solution here the run the test below\n",
    "\n",
    "# We handle the chromosome not being a number in the gene class code\n",
    "# We add a try statement for changing the chromosome into a number: int(chromosome)\n",
    "\n",
    "class Gene:\n",
    "    def __init__(self,  gid, sym, desc, chromosome): \n",
    "        # checks can be done to make sure the data is not missing and \n",
    "        # each parameter should ahve the correct type\n",
    "        try:\n",
    "            self.gid = int(gid)\n",
    "        except ValueError:\n",
    "            print(\"NOTE: Gene with symbol:'\", sym, \"' has id None, beacause the id was not a number, gene id was:\", gid)\n",
    "            self.gid = None\n",
    "            \n",
    "        self.symbol = sym\n",
    "        self.description = desc\n",
    "        try:\n",
    "            self.chr = int(chromosome)\n",
    "        except ValueError:\n",
    "            print(\"NOTE: Gene with symbol:'\", sym, \"' has chromosome None, beacause the chromosome was not a number, chromosome was:\", chromosome)\n",
    "            self.chr = None\n",
    "        \n",
    "    def __str__(self):\n",
    "        return f\"Gene({self.gid},'{self.symbol}','{self.description}',{self.chr})\"\n",
    "    \n",
    "    def __repr__(self):\n",
    "        return f\"Gene({self.gid},'{self.symbol}','{self.description}',{self.chr})\"\n",
    "    \n",
    "    def __eq__(self, g):\n",
    "        return self.gid == g.gid and self.symbol == g.symbol and self.description == g.description and self.chr == g.chr\n",
    "    \n",
    "\n"
   ]
  },
  {
   "cell_type": "code",
   "execution_count": 11,
   "metadata": {},
   "outputs": [
    {
     "data": {
      "text/plain": [
       "Gene(2,'GSYM','Gene for testing',1)"
      ]
     },
     "execution_count": 11,
     "metadata": {},
     "output_type": "execute_result"
    }
   ],
   "source": [
    "g = Gene(\"2\", \"GSYM\", \"Gene for testing\", 1)\n",
    "g"
   ]
  },
  {
   "cell_type": "code",
   "execution_count": 12,
   "metadata": {},
   "outputs": [
    {
     "name": "stdout",
     "output_type": "stream",
     "text": [
      "NOTE: Gene with symbol:' GSYM ' has id None, beacause the id was not a number, gene id was: 2aaa\n"
     ]
    },
    {
     "data": {
      "text/plain": [
       "Gene(None,'GSYM','Gene for testing',1)"
      ]
     },
     "execution_count": 12,
     "metadata": {},
     "output_type": "execute_result"
    }
   ],
   "source": [
    "g = Gene(\"2aaa\", \"GSYM\", \"Gene for testing\", \"1\")\n",
    "g"
   ]
  },
  {
   "cell_type": "code",
   "execution_count": 13,
   "metadata": {},
   "outputs": [
    {
     "name": "stdout",
     "output_type": "stream",
     "text": [
      "NOTE: Gene with symbol:' GSYM ' has id None, beacause the id was not a number, gene id was: 2aaa\n",
      "NOTE: Gene with symbol:' GSYM ' has chromosome None, beacause the chromosome was not a number, chromosome was: 689hjh\n"
     ]
    },
    {
     "data": {
      "text/plain": [
       "Gene(None,'GSYM','Gene for testing',None)"
      ]
     },
     "execution_count": 13,
     "metadata": {},
     "output_type": "execute_result"
    }
   ],
   "source": [
    "g = Gene(\"2aaa\", \"GSYM\", \"Gene for testing\", \"689hjh\")\n",
    "g"
   ]
  },
  {
   "cell_type": "code",
   "execution_count": null,
   "metadata": {},
   "outputs": [],
   "source": []
  },
  {
   "cell_type": "code",
   "execution_count": null,
   "metadata": {},
   "outputs": [],
   "source": []
  },
  {
   "cell_type": "code",
   "execution_count": 14,
   "metadata": {},
   "outputs": [],
   "source": [
    "# We handle the file not found and line incomplete in the process_gene_data function\n",
    "# we add a try statement before oening the file and put all the code up tp return under try\n",
    "# if an error occurs we raise a user warning\n",
    "# we add an if statement to handle the None gene id and print a statement that the line was not processed\n",
    "\n",
    "import warnings\n",
    "\n",
    "# initialize variables for the three lists\n",
    "def process_gene_data(file_name):\n",
    "    genes_lst = []\n",
    "    go_terms_lst = []\n",
    "    genes_go_terms_lst = []\n",
    "    # dictionary that will have GO term names as keys and IDs as values\n",
    "    terms_lst = []\n",
    "    line_no = 0\n",
    "    # read lines from the file one by one\n",
    "    try:\n",
    "        with open(file_name) as gene_file:\n",
    "            header_line = gene_file.readline()\n",
    "            line_no = 1\n",
    "            for line in gene_file:\n",
    "                line_no = line_no + 1\n",
    "                line_list = line.strip().split(\"\\t\")\n",
    "                # Create a Gene object and add it to the list\n",
    "                gene_id = line_list[0]\n",
    "                gene_symbol = line_list[1]\n",
    "                gene_description = line_list[2]\n",
    "                gene_chromosome = line_list[4]\n",
    "                \n",
    "                g = Gene(gene_id, gene_symbol, gene_description, gene_chromosome)\n",
    "                \n",
    "                if (g.gid != None):\n",
    "                    genes_lst.append(g)\n",
    "\n",
    "                    # The last column in the file contains the GO terms separated by \";\" \n",
    "                    # that is the last element in the line_list for any given line\n",
    "                    for go_term in line_list[-1].strip().split(\";\"):\n",
    "                        if (go_term not in terms_lst):\n",
    "                            terms_lst.append(go_term)\n",
    "                            go_terms_lst.append(GOTerm(len(terms_lst), go_term))\n",
    "                        go_term_id = terms_lst.index(go_term) + 1\n",
    "                        genes_go_terms_lst.append(GeneGOTerm(gene_id, go_term_id))\n",
    "                else:\n",
    "                    print(\"Line\", line_no, \"that has gene sym:'\",gene_symbol, \"was not processed. It has an invalid gene id.\")\n",
    "    except FileNotFoundError:\n",
    "        warnings.warn(\"\"\"Please provide the name of an existing file that is in the same directory as the notebook or the path to an existing file\n",
    "The file should contain the gene information, one per line. The header is as follows:\n",
    "GeneID\tSymbol\tdescription\tmap_location\tchromosome\taccession.version\tstart_position\tend_position\torientation\texon_count\tGOTerms\"\"\",\n",
    "                     Warning)\n",
    "    # return dictionatry with the three lists\n",
    "    return {\"genes_lst\": genes_lst, \"go_terms_lst\": go_terms_lst, \"genes_go_terms_lst\": genes_go_terms_lst}"
   ]
  },
  {
   "cell_type": "code",
   "execution_count": 15,
   "metadata": {},
   "outputs": [
    {
     "data": {
      "text/plain": [
       "\u001b[0;31mSignature:\u001b[0m \u001b[0mwarnings\u001b[0m\u001b[0;34m.\u001b[0m\u001b[0mwarn\u001b[0m\u001b[0;34m(\u001b[0m\u001b[0mmessage\u001b[0m\u001b[0;34m,\u001b[0m \u001b[0mcategory\u001b[0m\u001b[0;34m=\u001b[0m\u001b[0;32mNone\u001b[0m\u001b[0;34m,\u001b[0m \u001b[0mstacklevel\u001b[0m\u001b[0;34m=\u001b[0m\u001b[0;36m1\u001b[0m\u001b[0;34m,\u001b[0m \u001b[0msource\u001b[0m\u001b[0;34m=\u001b[0m\u001b[0;32mNone\u001b[0m\u001b[0;34m)\u001b[0m\u001b[0;34m\u001b[0m\u001b[0;34m\u001b[0m\u001b[0m\n",
       "\u001b[0;31mDocstring:\u001b[0m Issue a warning, or maybe ignore it or raise an exception.\n",
       "\u001b[0;31mType:\u001b[0m      builtin_function_or_method\n"
      ]
     },
     "metadata": {},
     "output_type": "display_data"
    }
   ],
   "source": [
    "warnings.warn?"
   ]
  },
  {
   "cell_type": "code",
   "execution_count": 16,
   "metadata": {},
   "outputs": [
    {
     "name": "stderr",
     "output_type": "stream",
     "text": [
      "/var/folders/cl/dt65jxps2kv3w090fzrjdz6c0000gs/T/ipykernel_21141/2516214455.py:46: Warning: Please provide the name of an existing file that is in the same directory as the notebook or the path to an existing file\n",
      "The file should contain the gene information, one per line. The header is as follows:\n",
      "GeneID\tSymbol\tdescription\tmap_location\tchromosome\taccession.version\tstart_position\tend_position\torientation\texon_count\tGOTerms\n",
      "  warnings.warn(\"\"\"Please provide the name of an existing file that is in the same directory as the notebook or the path to an existing file\n"
     ]
    },
    {
     "data": {
      "text/plain": [
       "{'genes_lst': [], 'go_terms_lst': [], 'genes_go_terms_lst': []}"
      ]
     },
     "execution_count": 16,
     "metadata": {},
     "output_type": "execute_result"
    }
   ],
   "source": [
    "gene_file_name = \"genes_info1.txt\"\n",
    "process_gene_data(gene_file_name)"
   ]
  },
  {
   "cell_type": "code",
   "execution_count": 17,
   "metadata": {},
   "outputs": [
    {
     "name": "stdout",
     "output_type": "stream",
     "text": [
      "NOTE: Gene with symbol:' GeneX ' has id None, beacause the id was not a number, gene id was: dffdf\n",
      "NOTE: Gene with symbol:' GeneX ' has chromosome None, beacause the chromosome was not a number, chromosome was: \n",
      "Line 8 that has gene sym:' GeneX was not processed. It has an invalid gene id.\n"
     ]
    }
   ],
   "source": [
    "gene_file_name = \"genes_info2.txt\"\n",
    "res = process_gene_data(gene_file_name)\n",
    "#print(res)\n",
    "genes_lst, go_terms_lst, genes_go_terms_lst = res.values()"
   ]
  },
  {
   "cell_type": "code",
   "execution_count": 18,
   "metadata": {},
   "outputs": [
    {
     "data": {
      "text/plain": [
       "[Gene(672,'BRCA1','BRCA1 DNA repair associated',17),\n",
       " Gene(675,'BRCA2','BRCA2 DNA repair associated',13),\n",
       " Gene(7157,'TP53','tumor protein p53',17),\n",
       " Gene(10296,'MAEA','macrophage erythroblast attacher, E3 ubiquitin ligase',4),\n",
       " Gene(7040,'TGFB1','transforming growth factor beta 1',19),\n",
       " Gene(64926,'RASAL3','RAS protein activator like 3',19),\n",
       " Gene(64926,'RASAL3','RAS protein activator like 3',19)]"
      ]
     },
     "execution_count": 18,
     "metadata": {},
     "output_type": "execute_result"
    }
   ],
   "source": [
    "genes_lst"
   ]
  },
  {
   "cell_type": "code",
   "execution_count": 19,
   "metadata": {},
   "outputs": [
    {
     "data": {
      "text/plain": [
       "[GOTerm(1,'intrinsic apoptotic signaling pathway in response to DNA damage'),\n",
       " GOTerm(2,'transcription cis-regulatory region binding'),\n",
       " GOTerm(3,'transcription coactivator activity'),\n",
       " GOTerm(4,'ubiquitin-protein transferase activity'),\n",
       " GOTerm(5,'histone acetyltransferase activity'),\n",
       " GOTerm(6,'protease binding'),\n",
       " GOTerm(7,'single-stranded DNA binding'),\n",
       " GOTerm(8,'protein binding'),\n",
       " GOTerm(9,'negative regulation of transcription, DNA-templated'),\n",
       " GOTerm(10,'positive regulation of transcription by RNA polymerase II'),\n",
       " GOTerm(11,'promoter-specific chromatin binding'),\n",
       " GOTerm(12,'circadian behavior'),\n",
       " GOTerm(13,'cell adhesion'),\n",
       " GOTerm(14,'15451624')]"
      ]
     },
     "execution_count": 19,
     "metadata": {},
     "output_type": "execute_result"
    }
   ],
   "source": [
    "go_terms_lst"
   ]
  },
  {
   "cell_type": "code",
   "execution_count": 20,
   "metadata": {},
   "outputs": [
    {
     "data": {
      "text/plain": [
       "[GeneGOTerm(672,1),\n",
       " GeneGOTerm(672,2),\n",
       " GeneGOTerm(672,3),\n",
       " GeneGOTerm(672,4),\n",
       " GeneGOTerm(675,5),\n",
       " GeneGOTerm(675,6),\n",
       " GeneGOTerm(675,7),\n",
       " GeneGOTerm(675,8),\n",
       " GeneGOTerm(7157,9),\n",
       " GeneGOTerm(7157,10),\n",
       " GeneGOTerm(7157,11),\n",
       " GeneGOTerm(7157,12),\n",
       " GeneGOTerm(10296,13),\n",
       " GeneGOTerm(10296,8),\n",
       " GeneGOTerm(10296,11),\n",
       " GeneGOTerm(7040,13),\n",
       " GeneGOTerm(7040,8),\n",
       " GeneGOTerm(64926,13),\n",
       " GeneGOTerm(64926,8),\n",
       " GeneGOTerm(64926,6),\n",
       " GeneGOTerm(64926,14)]"
      ]
     },
     "execution_count": 20,
     "metadata": {},
     "output_type": "execute_result"
    }
   ],
   "source": [
    "genes_go_terms_lst"
   ]
  },
  {
   "cell_type": "code",
   "execution_count": null,
   "metadata": {},
   "outputs": [],
   "source": []
  },
  {
   "cell_type": "markdown",
   "metadata": {
    "tags": []
   },
   "source": [
    "___\n",
    "\n",
    "#### <font color = \"red\">Exercise</font>\n",
    "\n",
    "#### Unit testing\n",
    "\n",
    "Implement 3 test cases for the function process_gene_data.  \n",
    "E.g.: the file does not exist, the line has valid information for a gene, the file has one gene with all good information\n",
    "\n",
    "\n"
   ]
  },
  {
   "cell_type": "code",
   "execution_count": 21,
   "metadata": {},
   "outputs": [],
   "source": [
    "# Write your solution here\n",
    "\n",
    "\n"
   ]
  },
  {
   "cell_type": "code",
   "execution_count": 37,
   "metadata": {},
   "outputs": [],
   "source": [
    "### we implement the class TestProcessGeneData with three test methods\n",
    "### we create the files we need for the tests\n",
    "\n",
    "\n",
    "\n",
    "import unittest\n",
    "\n",
    "\n",
    "class TestProcessGeneData(unittest.TestCase):\n",
    "    def test_inexistent_file(self):\n",
    "        test_file = \"genes_info1.txt\"\n",
    "        res = process_gene_data(test_file)\n",
    "        empty_res = {'genes_lst': [], 'go_terms_lst': [], 'genes_go_terms_lst': []}\n",
    "        self.assertEqual(res, empty_res, f\"result should be: {empty_res}\")\n",
    " \n",
    "    def test_wrong_info(self):\n",
    "        test_file = \"genes_info_tst1.txt\"\n",
    "        with open(test_file, \"w\") as file:\n",
    "            file.write(\"\"\"GeneID\tSymbol\tdescription\tmap_location\tchromosome\taccession.version\tstart_position\tend_position\torientation\texon_count\tGOTerms\n",
    "None\tBRCA1\tBRCA1 DNA repair associated\t17q21.31\t17\tNC_000017.11\t43044295\t43125364\tminus\t24\tintrinsic\n",
    "2\tGene2\"\"\")\n",
    "        \n",
    "        res = process_gene_data(test_file)\n",
    "        empty_res = {'genes_lst': [], 'go_terms_lst': [], 'genes_go_terms_lst': []}\n",
    "        self.assertEqual(res, empty_res, f\"result should be: {empty_res}\")\n",
    "        \n",
    "        \n",
    "    def test_wrong_info(self):\n",
    "        test_file = \"genes_info_tst2.txt\"\n",
    "        with open(test_file, \"w\") as file:\n",
    "            file.write(\"\"\"GeneID\tSymbol\tdescription\tmap_location\tchromosome\taccession.version\tstart_position\tend_position\torientation\texon_count\tGOTerms\n",
    "672\tBRCA1\tBRCA1 DNA repair associated\t17q21.31\t17\tNC_000017.11\t43044295\t43125364\tminus\t24\tintrinsic\"\"\")\n",
    "        res = process_gene_data(test_file)\n",
    "\n",
    "        expected_res = {'genes_lst': [Gene(672,'BRCA1','BRCA1 DNA repair associated',17)],\n",
    " 'go_terms_lst': [GOTerm(1,'intrinsic')],\n",
    " 'genes_go_terms_lst': [GeneGOTerm(672,1)]}\n",
    "        self.assertEqual(res, expected_res, f\"result should be: {expected_res}\")\n",
    "        \n",
    "     \n"
   ]
  },
  {
   "cell_type": "code",
   "execution_count": 23,
   "metadata": {},
   "outputs": [
    {
     "name": "stderr",
     "output_type": "stream",
     "text": [
      "/var/folders/cl/dt65jxps2kv3w090fzrjdz6c0000gs/T/ipykernel_21141/2516214455.py:46: Warning: Please provide the name of an existing file that is in the same directory as the notebook or the path to an existing file\n",
      "The file should contain the gene information, one per line. The header is as follows:\n",
      "GeneID\tSymbol\tdescription\tmap_location\tchromosome\taccession.version\tstart_position\tend_position\torientation\texon_count\tGOTerms\n",
      "  warnings.warn(\"\"\"Please provide the name of an existing file that is in the same directory as the notebook or the path to an existing file\n",
      "..\n",
      "----------------------------------------------------------------------\n",
      "Ran 2 tests in 0.003s\n",
      "\n",
      "OK\n"
     ]
    }
   ],
   "source": [
    "# run all tests at once\n",
    "\n",
    "if __name__ == '__main__':\n",
    "    unittest.main(argv=['first-arg-is-ignored'], exit=False)"
   ]
  },
  {
   "cell_type": "code",
   "execution_count": null,
   "metadata": {},
   "outputs": [],
   "source": []
  },
  {
   "cell_type": "markdown",
   "metadata": {
    "tags": []
   },
   "source": [
    "___\n",
    "\n",
    "#### <font color = \"red\">Exercise</font>\n",
    "\n",
    "#### Unit testing\n",
    "\n",
    "Write a function that processes a string (a line from the `gene_info2.txt` file) and returns a Gene object.\n",
    "\n",
    "Implement 3 test cases for the function.  \n",
    "E.g.: the line is empty or None, the line has valid information for a gene\n",
    "\n",
    "\n"
   ]
  },
  {
   "cell_type": "code",
   "execution_count": 24,
   "metadata": {},
   "outputs": [],
   "source": [
    "# Write your solution here\n",
    "\n",
    "\n"
   ]
  },
  {
   "cell_type": "code",
   "execution_count": 25,
   "metadata": {},
   "outputs": [],
   "source": [
    "# we implement the get_gene function - it takes as input a line\n",
    "# returns a Gene\n",
    "\n",
    "def get_gene(line):\n",
    "    gene = None\n",
    "    # compute gene object from line\n",
    "    return gene"
   ]
  },
  {
   "cell_type": "code",
   "execution_count": 26,
   "metadata": {},
   "outputs": [
    {
     "name": "stdout",
     "output_type": "stream",
     "text": [
      "None\n"
     ]
    }
   ],
   "source": [
    "# test the code\n",
    "    \n",
    "# input:\n",
    "line = \"672\tBRCA1\tBRCA1 DNA repair associated\t17q21.31\t17\tNC_000017.11\t43044295\t43125364\tminus\t24\tGOterm1,GOterm2\"\n",
    "# expected output: Gene(672, 'BRCA1', 'BRCA1 DNA repair associated')\n",
    "\n",
    "res = get_gene(line)\n",
    "print(res)"
   ]
  },
  {
   "cell_type": "code",
   "execution_count": 27,
   "metadata": {},
   "outputs": [],
   "source": [
    "# we implement the get_gene function - it takes as input a line\n",
    "# returns a Gene\n",
    "\n",
    "def get_gene(line):\n",
    "    gene = None\n",
    "    # compute gene object from line\n",
    "    line_list = line.strip().split(\"\\t\")\n",
    "    gene_id = line_list[0]\n",
    "    gene_symbol = line_list[1]\n",
    "    gene_description = line_list[2]\n",
    "    gene_chromosome = line_list[4]\n",
    "    gene = Gene(gene_id, gene_symbol, gene_description,gene_chromosome)\n",
    "    return gene"
   ]
  },
  {
   "cell_type": "code",
   "execution_count": 28,
   "metadata": {},
   "outputs": [
    {
     "name": "stdout",
     "output_type": "stream",
     "text": [
      "Gene(672,'BRCA1','BRCA1 DNA repair associated',17)\n"
     ]
    }
   ],
   "source": [
    "# test the code\n",
    "    \n",
    "# input:\n",
    "line = \"672\tBRCA1\tBRCA1 DNA repair associated\t17q21.31\t17\tNC_000017.11\t43044295\t43125364\tminus\t24\tGOterm1,GOterm2\"\n",
    "# expected output: Gene(672, 'BRCA1', 'BRCA1 DNA repair associated')\n",
    "\n",
    "res = get_gene(line)\n",
    "print(res)"
   ]
  },
  {
   "cell_type": "code",
   "execution_count": 29,
   "metadata": {},
   "outputs": [],
   "source": [
    "# write unit tests\n",
    "\n",
    "import unittest\n",
    "\n",
    "\n",
    "class TestGetGene(unittest.TestCase):\n",
    "    \n",
    "    # input:\n",
    "    line = \"672\tBRCA1\tBRCA1 DNA repair associated\t17q21.31\t17\tNC_000017.11\t43044295\t43125364\tminus\t24\tGOterm1,GOterm2\"\n",
    "    # expected output: \n",
    "    g = Gene(672, 'BRCA1', 'BRCA1 DNA repair associated', 17)\n",
    "\n",
    "    # the case when the line is empty\n",
    "    def test_get_gene_empty(self):\n",
    "        self.assertEqual(get_gene(\"\"), None, f\"The result should be None\")\n",
    "    \n",
    "    # the case when we do not provide a line or we provide None \n",
    "    def test_get_gene_None(self):\n",
    "        self.assertEqual(get_gene(None), None, \"The result should be None\")\n",
    "        \n",
    "    # the case when the line should be not empty and not None and \n",
    "    # should have an id symbole and description, tab-separated    \n",
    "    def test_get_gene_line(self, line = line, g = g):\n",
    "        self.assertEqual(get_gene(line), g, f\"The result should be {g}\")\n"
   ]
  },
  {
   "cell_type": "code",
   "execution_count": null,
   "metadata": {},
   "outputs": [],
   "source": []
  },
  {
   "cell_type": "code",
   "execution_count": 30,
   "metadata": {},
   "outputs": [],
   "source": [
    "# create a test object\n",
    "\n",
    "t = TestGetGene()"
   ]
  },
  {
   "cell_type": "code",
   "execution_count": 31,
   "metadata": {},
   "outputs": [],
   "source": [
    "# passing test\n",
    "\n",
    "# input:\n",
    "line = \"675\tBRCA2\tBRCA2 DNA repair associated\t13q13.1\t13\tNC_000013.11\t32315508\t32400268\tplus\t27\thistone acetyltransferase activity;protease binding;single-stranded DNA binding;protein binding\"\n",
    "\n",
    "# expected output: \n",
    "g = Gene(675, 'BRCA2', 'BRCA2 DNA repair associated', 13)\n",
    "\n",
    "# the __eg__ method in the Gene class is used to test \n",
    "# the equality of the result with the expected result\n",
    "\n",
    "t.test_get_gene_line(line, g)\n"
   ]
  },
  {
   "cell_type": "code",
   "execution_count": null,
   "metadata": {},
   "outputs": [],
   "source": []
  },
  {
   "cell_type": "code",
   "execution_count": 32,
   "metadata": {},
   "outputs": [
    {
     "ename": "IndexError",
     "evalue": "list index out of range",
     "output_type": "error",
     "traceback": [
      "\u001b[0;31m---------------------------------------------------------------------------\u001b[0m",
      "\u001b[0;31mIndexError\u001b[0m                                Traceback (most recent call last)",
      "Input \u001b[0;32mIn [32]\u001b[0m, in \u001b[0;36m<cell line: 5>\u001b[0;34m()\u001b[0m\n\u001b[1;32m      1\u001b[0m \u001b[38;5;66;03m# failing test \u001b[39;00m\n\u001b[1;32m      2\u001b[0m \n\u001b[1;32m      3\u001b[0m \u001b[38;5;66;03m# we get a ValueError when we try to make an int outof an empty string\u001b[39;00m\n\u001b[0;32m----> 5\u001b[0m \u001b[43mt\u001b[49m\u001b[38;5;241;43m.\u001b[39;49m\u001b[43mtest_get_gene_empty\u001b[49m\u001b[43m(\u001b[49m\u001b[43m)\u001b[49m\n",
      "Input \u001b[0;32mIn [29]\u001b[0m, in \u001b[0;36mTestGetGene.test_get_gene_empty\u001b[0;34m(self)\u001b[0m\n\u001b[1;32m     14\u001b[0m \u001b[38;5;28;01mdef\u001b[39;00m \u001b[38;5;21mtest_get_gene_empty\u001b[39m(\u001b[38;5;28mself\u001b[39m):\n\u001b[0;32m---> 15\u001b[0m     \u001b[38;5;28mself\u001b[39m\u001b[38;5;241m.\u001b[39massertEqual(\u001b[43mget_gene\u001b[49m\u001b[43m(\u001b[49m\u001b[38;5;124;43m\"\u001b[39;49m\u001b[38;5;124;43m\"\u001b[39;49m\u001b[43m)\u001b[49m, \u001b[38;5;28;01mNone\u001b[39;00m, \u001b[38;5;124mf\u001b[39m\u001b[38;5;124m\"\u001b[39m\u001b[38;5;124mThe result should be None\u001b[39m\u001b[38;5;124m\"\u001b[39m)\n",
      "Input \u001b[0;32mIn [27]\u001b[0m, in \u001b[0;36mget_gene\u001b[0;34m(line)\u001b[0m\n\u001b[1;32m      7\u001b[0m line_list \u001b[38;5;241m=\u001b[39m line\u001b[38;5;241m.\u001b[39mstrip()\u001b[38;5;241m.\u001b[39msplit(\u001b[38;5;124m\"\u001b[39m\u001b[38;5;130;01m\\t\u001b[39;00m\u001b[38;5;124m\"\u001b[39m)\n\u001b[1;32m      8\u001b[0m gene_id \u001b[38;5;241m=\u001b[39m line_list[\u001b[38;5;241m0\u001b[39m]\n\u001b[0;32m----> 9\u001b[0m gene_symbol \u001b[38;5;241m=\u001b[39m \u001b[43mline_list\u001b[49m\u001b[43m[\u001b[49m\u001b[38;5;241;43m1\u001b[39;49m\u001b[43m]\u001b[49m\n\u001b[1;32m     10\u001b[0m gene_description \u001b[38;5;241m=\u001b[39m line_list[\u001b[38;5;241m2\u001b[39m]\n\u001b[1;32m     11\u001b[0m gene_chromosome \u001b[38;5;241m=\u001b[39m line_list[\u001b[38;5;241m4\u001b[39m]\n",
      "\u001b[0;31mIndexError\u001b[0m: list index out of range"
     ]
    }
   ],
   "source": [
    "# failing test \n",
    "\n",
    "# we get a ValueError when we try to make an int outof an empty string\n",
    "\n",
    "t.test_get_gene_empty()\n"
   ]
  },
  {
   "cell_type": "code",
   "execution_count": null,
   "metadata": {},
   "outputs": [],
   "source": []
  },
  {
   "cell_type": "code",
   "execution_count": 33,
   "metadata": {},
   "outputs": [
    {
     "ename": "AttributeError",
     "evalue": "'NoneType' object has no attribute 'strip'",
     "output_type": "error",
     "traceback": [
      "\u001b[0;31m---------------------------------------------------------------------------\u001b[0m",
      "\u001b[0;31mAttributeError\u001b[0m                            Traceback (most recent call last)",
      "Input \u001b[0;32mIn [33]\u001b[0m, in \u001b[0;36m<cell line: 6>\u001b[0;34m()\u001b[0m\n\u001b[1;32m      1\u001b[0m \u001b[38;5;66;03m# failing test \u001b[39;00m\n\u001b[1;32m      2\u001b[0m \n\u001b[1;32m      3\u001b[0m \u001b[38;5;66;03m# we get a AttributeError when we try to use the method strip for None\u001b[39;00m\n\u001b[1;32m      4\u001b[0m \u001b[38;5;66;03m# None does not have the strip method, objects of type str have that method\u001b[39;00m\n\u001b[0;32m----> 6\u001b[0m \u001b[43mt\u001b[49m\u001b[38;5;241;43m.\u001b[39;49m\u001b[43mtest_get_gene_None\u001b[49m\u001b[43m(\u001b[49m\u001b[43m)\u001b[49m\n",
      "Input \u001b[0;32mIn [29]\u001b[0m, in \u001b[0;36mTestGetGene.test_get_gene_None\u001b[0;34m(self)\u001b[0m\n\u001b[1;32m     18\u001b[0m \u001b[38;5;28;01mdef\u001b[39;00m \u001b[38;5;21mtest_get_gene_None\u001b[39m(\u001b[38;5;28mself\u001b[39m):\n\u001b[0;32m---> 19\u001b[0m     \u001b[38;5;28mself\u001b[39m\u001b[38;5;241m.\u001b[39massertEqual(\u001b[43mget_gene\u001b[49m\u001b[43m(\u001b[49m\u001b[38;5;28;43;01mNone\u001b[39;49;00m\u001b[43m)\u001b[49m, \u001b[38;5;28;01mNone\u001b[39;00m, \u001b[38;5;124m\"\u001b[39m\u001b[38;5;124mThe result should be None\u001b[39m\u001b[38;5;124m\"\u001b[39m)\n",
      "Input \u001b[0;32mIn [27]\u001b[0m, in \u001b[0;36mget_gene\u001b[0;34m(line)\u001b[0m\n\u001b[1;32m      5\u001b[0m gene \u001b[38;5;241m=\u001b[39m \u001b[38;5;28;01mNone\u001b[39;00m\n\u001b[1;32m      6\u001b[0m \u001b[38;5;66;03m# compute gene object from line\u001b[39;00m\n\u001b[0;32m----> 7\u001b[0m line_list \u001b[38;5;241m=\u001b[39m \u001b[43mline\u001b[49m\u001b[38;5;241;43m.\u001b[39;49m\u001b[43mstrip\u001b[49m()\u001b[38;5;241m.\u001b[39msplit(\u001b[38;5;124m\"\u001b[39m\u001b[38;5;130;01m\\t\u001b[39;00m\u001b[38;5;124m\"\u001b[39m)\n\u001b[1;32m      8\u001b[0m gene_id \u001b[38;5;241m=\u001b[39m line_list[\u001b[38;5;241m0\u001b[39m]\n\u001b[1;32m      9\u001b[0m gene_symbol \u001b[38;5;241m=\u001b[39m line_list[\u001b[38;5;241m1\u001b[39m]\n",
      "\u001b[0;31mAttributeError\u001b[0m: 'NoneType' object has no attribute 'strip'"
     ]
    }
   ],
   "source": [
    "# failing test \n",
    "\n",
    "# we get a AttributeError when we try to use the method strip for None\n",
    "# None does not have the strip method, objects of type str have that method\n",
    "\n",
    "t.test_get_gene_None()"
   ]
  },
  {
   "cell_type": "code",
   "execution_count": null,
   "metadata": {},
   "outputs": [],
   "source": []
  },
  {
   "cell_type": "code",
   "execution_count": 34,
   "metadata": {},
   "outputs": [],
   "source": [
    "# to fix that we adjust our method, we check for None and the empty line\n",
    "\n",
    "def get_gene(line):\n",
    "    gene = None\n",
    "    # compute gene object from line\n",
    "    if (line != None and line != \"\"):\n",
    "        line_list = line.strip().split(\"\\t\")\n",
    "        gene_id = int(line_list[0])\n",
    "        gene_symbol = line_list[1]\n",
    "        gene_description = line_list[2]\n",
    "        gene_chromosome = line_list[4]\n",
    "        gene = Gene(gene_id, gene_symbol, gene_description,gene_chromosome)\n",
    "    return gene"
   ]
  },
  {
   "cell_type": "code",
   "execution_count": 35,
   "metadata": {},
   "outputs": [],
   "source": [
    "# run the tests again - all pass\n",
    "\n",
    "t.test_get_gene_line(line, g)\n",
    "t.test_get_gene_empty()\n",
    "t.test_get_gene_None()"
   ]
  },
  {
   "cell_type": "code",
   "execution_count": 36,
   "metadata": {},
   "outputs": [
    {
     "name": "stderr",
     "output_type": "stream",
     "text": [
      ".../var/folders/cl/dt65jxps2kv3w090fzrjdz6c0000gs/T/ipykernel_21141/2516214455.py:46: Warning: Please provide the name of an existing file that is in the same directory as the notebook or the path to an existing file\n",
      "The file should contain the gene information, one per line. The header is as follows:\n",
      "GeneID\tSymbol\tdescription\tmap_location\tchromosome\taccession.version\tstart_position\tend_position\torientation\texon_count\tGOTerms\n",
      "  warnings.warn(\"\"\"Please provide the name of an existing file that is in the same directory as the notebook or the path to an existing file\n",
      "..\n",
      "----------------------------------------------------------------------\n",
      "Ran 5 tests in 0.005s\n",
      "\n",
      "OK\n"
     ]
    }
   ],
   "source": [
    "# run all tests at once\n",
    "\n",
    "if __name__ == '__main__':\n",
    "    unittest.main(argv=['first-arg-is-ignored'], exit=False)"
   ]
  },
  {
   "cell_type": "code",
   "execution_count": null,
   "metadata": {},
   "outputs": [],
   "source": []
  },
  {
   "cell_type": "code",
   "execution_count": null,
   "metadata": {},
   "outputs": [],
   "source": []
  },
  {
   "cell_type": "code",
   "execution_count": null,
   "metadata": {},
   "outputs": [],
   "source": []
  },
  {
   "cell_type": "code",
   "execution_count": null,
   "metadata": {},
   "outputs": [],
   "source": []
  },
  {
   "cell_type": "code",
   "execution_count": null,
   "metadata": {},
   "outputs": [],
   "source": []
  },
  {
   "cell_type": "code",
   "execution_count": null,
   "metadata": {},
   "outputs": [],
   "source": []
  },
  {
   "cell_type": "code",
   "execution_count": null,
   "metadata": {},
   "outputs": [],
   "source": []
  },
  {
   "cell_type": "code",
   "execution_count": null,
   "metadata": {},
   "outputs": [],
   "source": []
  }
 ],
 "metadata": {
  "kernelspec": {
   "display_name": "Python 3 (ipykernel)",
   "language": "python",
   "name": "python3"
  },
  "language_info": {
   "codemirror_mode": {
    "name": "ipython",
    "version": 3
   },
   "file_extension": ".py",
   "mimetype": "text/x-python",
   "name": "python",
   "nbconvert_exporter": "python",
   "pygments_lexer": "ipython3",
   "version": "3.9.12"
  }
 },
 "nbformat": 4,
 "nbformat_minor": 4
}
