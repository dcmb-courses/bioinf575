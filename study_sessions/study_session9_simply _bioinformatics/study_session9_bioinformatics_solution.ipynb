{
 "cells": [
  {
   "cell_type": "markdown",
   "metadata": {
    "tags": []
   },
   "source": [
    "### Study session 9 - simply bioinformatics\n",
    "#### Use data and control structures, pandas, dataframes and explaore new libraries\n",
    "#### Explore object  attributes and methods\n",
    "#### BIOINF 575 - Fall 2021\n",
    "\n"
   ]
  },
  {
   "cell_type": "markdown",
   "metadata": {},
   "source": [
    "____\n",
    "\n",
    "#### Variant data exploration   \n",
    "We have variant data for a sample in the file `variant_data_file.vcf`.   \n",
    "The vcf data file contains information about differences found in the genome of a specific sample when compared to the reference.    \n",
    "The file contains approximatelly 1000 differences found in the Y chromosome.\n",
    "\n"
   ]
  },
  {
   "cell_type": "markdown",
   "metadata": {},
   "source": [
    "\n",
    "\n",
    "..................................................................................................\n",
    "\n",
    "<b><font color = \"red\">Exercise</font> <br></b>\n",
    "\n",
    "<b>Total depth distribution</b>\n",
    "\n",
    "We want to have a look at the distribution of the total depth in our data (DP key in the INFO column).\n",
    "- Read the data into a pandas data frame\n",
    "    - look at the comment and names arguments for the read_csv funtion in the pandas library, you will need to add the header by hand\n",
    "- Write a function that selects the total depth from the INFO part of a variant (row in our dataframe)\n",
    "- Apply the function for each row of the dataframe which will result in a pandas series with the total depth for each variant \n",
    "- Plot the histogram of total depths (pandas series previously computed)\n",
    "- Plot the histogram of the total depths that are less than 170"
   ]
  },
  {
   "cell_type": "code",
   "execution_count": null,
   "metadata": {},
   "outputs": [],
   "source": [
    "# Write your solution here\n",
    "\n",
    "\n"
   ]
  },
  {
   "cell_type": "code",
   "execution_count": 2,
   "metadata": {},
   "outputs": [],
   "source": [
    "# import necessary libraries\n",
    "\n",
    "import numpy as np\n",
    "import pandas as pd"
   ]
  },
  {
   "cell_type": "code",
   "execution_count": 3,
   "metadata": {},
   "outputs": [
    {
     "data": {
      "text/html": [
       "<div>\n",
       "<style scoped>\n",
       "    .dataframe tbody tr th:only-of-type {\n",
       "        vertical-align: middle;\n",
       "    }\n",
       "\n",
       "    .dataframe tbody tr th {\n",
       "        vertical-align: top;\n",
       "    }\n",
       "\n",
       "    .dataframe thead th {\n",
       "        text-align: right;\n",
       "    }\n",
       "</style>\n",
       "<table border=\"1\" class=\"dataframe\">\n",
       "  <thead>\n",
       "    <tr style=\"text-align: right;\">\n",
       "      <th></th>\n",
       "      <th>CHROM</th>\n",
       "      <th>POS</th>\n",
       "      <th>ID</th>\n",
       "      <th>REF</th>\n",
       "      <th>ALT</th>\n",
       "      <th>QUAL</th>\n",
       "      <th>FILTER</th>\n",
       "      <th>INFO</th>\n",
       "    </tr>\n",
       "  </thead>\n",
       "  <tbody>\n",
       "    <tr>\n",
       "      <th>0</th>\n",
       "      <td>Y</td>\n",
       "      <td>2728456</td>\n",
       "      <td>rs2058276</td>\n",
       "      <td>T</td>\n",
       "      <td>C</td>\n",
       "      <td>32</td>\n",
       "      <td>.</td>\n",
       "      <td>AC=2;AN=2;DB;DP=182;H2;NS=65</td>\n",
       "    </tr>\n",
       "    <tr>\n",
       "      <th>1</th>\n",
       "      <td>Y</td>\n",
       "      <td>2734240</td>\n",
       "      <td>.</td>\n",
       "      <td>G</td>\n",
       "      <td>A</td>\n",
       "      <td>31</td>\n",
       "      <td>.</td>\n",
       "      <td>AC=1;AN=2;DP=196;NS=63</td>\n",
       "    </tr>\n",
       "    <tr>\n",
       "      <th>2</th>\n",
       "      <td>Y</td>\n",
       "      <td>2743242</td>\n",
       "      <td>.</td>\n",
       "      <td>C</td>\n",
       "      <td>T</td>\n",
       "      <td>25</td>\n",
       "      <td>.</td>\n",
       "      <td>AC=1;AN=2;DP=275;NS=66</td>\n",
       "    </tr>\n",
       "    <tr>\n",
       "      <th>3</th>\n",
       "      <td>Y</td>\n",
       "      <td>2746727</td>\n",
       "      <td>.</td>\n",
       "      <td>A</td>\n",
       "      <td>G</td>\n",
       "      <td>34</td>\n",
       "      <td>.</td>\n",
       "      <td>AC=2;AN=2;DP=179;NS=64</td>\n",
       "    </tr>\n",
       "    <tr>\n",
       "      <th>4</th>\n",
       "      <td>Y</td>\n",
       "      <td>2777970</td>\n",
       "      <td>.</td>\n",
       "      <td>T</td>\n",
       "      <td>A</td>\n",
       "      <td>67</td>\n",
       "      <td>.</td>\n",
       "      <td>AC=1;AN=2;DP=225;NS=67</td>\n",
       "    </tr>\n",
       "    <tr>\n",
       "      <th>...</th>\n",
       "      <td>...</td>\n",
       "      <td>...</td>\n",
       "      <td>...</td>\n",
       "      <td>...</td>\n",
       "      <td>...</td>\n",
       "      <td>...</td>\n",
       "      <td>...</td>\n",
       "      <td>...</td>\n",
       "    </tr>\n",
       "    <tr>\n",
       "      <th>954</th>\n",
       "      <td>Y</td>\n",
       "      <td>27108406</td>\n",
       "      <td>rs2049642</td>\n",
       "      <td>G</td>\n",
       "      <td>A</td>\n",
       "      <td>30</td>\n",
       "      <td>.</td>\n",
       "      <td>AC=1;AN=2;DB;DP=163;NS=61</td>\n",
       "    </tr>\n",
       "    <tr>\n",
       "      <th>955</th>\n",
       "      <td>Y</td>\n",
       "      <td>27141305</td>\n",
       "      <td>rs9786602</td>\n",
       "      <td>C</td>\n",
       "      <td>A</td>\n",
       "      <td>29</td>\n",
       "      <td>.</td>\n",
       "      <td>AC=2;AN=2;DB;DP=163;NS=63</td>\n",
       "    </tr>\n",
       "    <tr>\n",
       "      <th>956</th>\n",
       "      <td>Y</td>\n",
       "      <td>27142489</td>\n",
       "      <td>rs1358368</td>\n",
       "      <td>G</td>\n",
       "      <td>C</td>\n",
       "      <td>37</td>\n",
       "      <td>.</td>\n",
       "      <td>AC=2;AN=2;DB;DP=195;H2;NS=61</td>\n",
       "    </tr>\n",
       "    <tr>\n",
       "      <th>957</th>\n",
       "      <td>Y</td>\n",
       "      <td>27182557</td>\n",
       "      <td>.</td>\n",
       "      <td>G</td>\n",
       "      <td>A</td>\n",
       "      <td>22</td>\n",
       "      <td>.</td>\n",
       "      <td>AC=1;AN=2;DP=168;NS=62</td>\n",
       "    </tr>\n",
       "    <tr>\n",
       "      <th>958</th>\n",
       "      <td>Y</td>\n",
       "      <td>27228657</td>\n",
       "      <td>.</td>\n",
       "      <td>G</td>\n",
       "      <td>T</td>\n",
       "      <td>6</td>\n",
       "      <td>NUYR</td>\n",
       "      <td>AC=1;AN=2;DP=317;NS=65</td>\n",
       "    </tr>\n",
       "  </tbody>\n",
       "</table>\n",
       "<p>959 rows × 8 columns</p>\n",
       "</div>"
      ],
      "text/plain": [
       "    CHROM       POS         ID REF ALT  QUAL FILTER  \\\n",
       "0       Y   2728456  rs2058276   T   C    32      .   \n",
       "1       Y   2734240          .   G   A    31      .   \n",
       "2       Y   2743242          .   C   T    25      .   \n",
       "3       Y   2746727          .   A   G    34      .   \n",
       "4       Y   2777970          .   T   A    67      .   \n",
       "..    ...       ...        ...  ..  ..   ...    ...   \n",
       "954     Y  27108406  rs2049642   G   A    30      .   \n",
       "955     Y  27141305  rs9786602   C   A    29      .   \n",
       "956     Y  27142489  rs1358368   G   C    37      .   \n",
       "957     Y  27182557          .   G   A    22      .   \n",
       "958     Y  27228657          .   G   T     6   NUYR   \n",
       "\n",
       "                             INFO  \n",
       "0    AC=2;AN=2;DB;DP=182;H2;NS=65  \n",
       "1          AC=1;AN=2;DP=196;NS=63  \n",
       "2          AC=1;AN=2;DP=275;NS=66  \n",
       "3          AC=2;AN=2;DP=179;NS=64  \n",
       "4          AC=1;AN=2;DP=225;NS=67  \n",
       "..                            ...  \n",
       "954     AC=1;AN=2;DB;DP=163;NS=61  \n",
       "955     AC=2;AN=2;DB;DP=163;NS=63  \n",
       "956  AC=2;AN=2;DB;DP=195;H2;NS=61  \n",
       "957        AC=1;AN=2;DP=168;NS=62  \n",
       "958        AC=1;AN=2;DP=317;NS=65  \n",
       "\n",
       "[959 rows x 8 columns]"
      ]
     },
     "execution_count": 3,
     "metadata": {},
     "output_type": "execute_result"
    }
   ],
   "source": [
    "# read the data from the vcf file  and add header (column labels)\n",
    "# pd.read_csv function has a names argument that allows us to set the column labels\n",
    "\n",
    "columns = (\"CHROM\", \"POS\", \"ID\", \"REF\", \"ALT\", \"QUAL\", \"FILTER\", \"INFO\")\n",
    "vcf_data = pd.read_csv(\"variant_data_file.vcf\", comment = \"#\", sep = \"\\t\", names = columns)\n",
    "vcf_data"
   ]
  },
  {
   "cell_type": "code",
   "execution_count": 5,
   "metadata": {},
   "outputs": [],
   "source": [
    "# Write a function that return the value for the DP key\n",
    "# from the INFO part of a variant data row/line \n",
    "# The info key=value pairs are separated by \";\"\n",
    "# There might be flag values, that do not have a value\n",
    "# In that case there is no = in the pair data e.g.: ;DB;\n",
    "\n",
    "def get_dp(info):\n",
    "    '''\n",
    "    Function that returns the total depth value for a variant from the variant information\n",
    "    Args:\n",
    "    info (str): the INFO column/element for a variant/data line from a vcf file\n",
    "    Returns:\n",
    "    int: the total depth value. for the variant, the value for DP key\n",
    "    '''\n",
    "    dp = np.nan\n",
    "    for pair in info.split(\";\"):\n",
    "        if \"=\" in pair:\n",
    "            key, val = pair.split(\"=\")\n",
    "            if key == \"DP\":\n",
    "                return int(val)\n",
    "    return dp"
   ]
  },
  {
   "cell_type": "code",
   "execution_count": 6,
   "metadata": {},
   "outputs": [
    {
     "data": {
      "text/plain": [
       "182"
      ]
     },
     "execution_count": 6,
     "metadata": {},
     "output_type": "execute_result"
    }
   ],
   "source": [
    "# test the function\n",
    "get_dp(\"AC=2;AN=2;DB;DP=182;H2;NS=65\")"
   ]
  },
  {
   "cell_type": "code",
   "execution_count": 7,
   "metadata": {},
   "outputs": [
    {
     "data": {
      "text/plain": [
       "0      182\n",
       "1      196\n",
       "2      275\n",
       "3      179\n",
       "4      225\n",
       "      ... \n",
       "954    163\n",
       "955    163\n",
       "956    195\n",
       "957    168\n",
       "958    317\n",
       "Name: INFO, Length: 959, dtype: int64"
      ]
     },
     "execution_count": 7,
     "metadata": {},
     "output_type": "execute_result"
    }
   ],
   "source": [
    "# Use the apply method for a pandas Series (dataframe column)\n",
    "# to call the funtion for each element in the Series/column\n",
    "# and collect the result in the resulting Series \n",
    "# the resulting series has the same name as the one the function was applied on\n",
    "\n",
    "dp_data = vcf_data.INFO.apply(get_dp)\n",
    "dp_data\n"
   ]
  },
  {
   "cell_type": "code",
   "execution_count": 8,
   "metadata": {},
   "outputs": [
    {
     "data": {
      "text/plain": [
       "<AxesSubplot:>"
      ]
     },
     "execution_count": 8,
     "metadata": {},
     "output_type": "execute_result"
    },
    {
     "data": {
      "image/png": "[encoded data removed]",
      "text/plain": [
       "<Figure size 432x288 with 1 Axes>"
      ]
     },
     "metadata": {
      "needs_background": "light"
     },
     "output_type": "display_data"
    }
   ],
   "source": [
    "# plot the histogram for a pandas Series using the hist method\n",
    "# we see a very steep decrese in frequency as the total depth values increase\n",
    "\n",
    "dp_data.hist()"
   ]
  },
  {
   "cell_type": "code",
   "execution_count": 25,
   "metadata": {
    "tags": []
   },
   "outputs": [
    {
     "data": {
      "image/png": "[encoded data removed]",
      "text/plain": [
       "<Figure size 432x288 with 1 Axes>"
      ]
     },
     "metadata": {
      "needs_background": "light"
     },
     "output_type": "display_data"
    }
   ],
   "source": [
    "# select only the total depth vaues < 170 using conitional subsetting on the pandas series\n",
    "# the resulting data structure is still a pandas Series so we can plot the histogram\n",
    "# usingthe hist method\n",
    "# we see a close to uniform distribution for depth values < 170\n",
    "# I also added here a couple of ways we can customize the histogram\n",
    "\n",
    "hist_plt = dp_data[dp_data<170].hist()\n",
    "# dir(hist_plt)\n",
    "hist_plt.set_xlabel(\"total depth\")\n",
    "hist_plt.set_ylabel(\"frequency\")\n",
    "title_obj = hist_plt.set_title(\"total depth < 170 histogram\")\n"
   ]
  },
  {
   "cell_type": "code",
   "execution_count": null,
   "metadata": {},
   "outputs": [],
   "source": []
  },
  {
   "cell_type": "markdown",
   "metadata": {},
   "source": [
    "\n",
    "\n",
    "..................................................................................................\n",
    "\n",
    "<b><font color = \"red\">Exercise</font> <br></b>\n",
    "\n",
    "\n",
    "<b>Quality and SNP distribution</b> \n",
    "\n",
    "<b>A.</b> Display the distribution of the quality scores for the variants. \n",
    "- Select the QUAL column from the data and plot the histogram\n",
    "\n",
    "<b>B.</b> Compute the frequency (number of occurences) of each of the REF ALT combinations available in the dataset and make a bar plot.    \n",
    "Then, identify the most frequent combination of REF ALT in the dataframe \n",
    "- Compute the number of occurences for REF ALT combinations. \n",
    "    - Make use of the .value_counts() method for a dataframe to count the number for the unique combinations of row elements.\n",
    "- The result of value_counts is a pandas series, plot the values using a barplot.\n",
    "- Select from the series the maximum value together with the associated label: e.g. A T 300"
   ]
  },
  {
   "cell_type": "code",
   "execution_count": null,
   "metadata": {},
   "outputs": [],
   "source": [
    "# Write your solution here\n",
    "\n",
    "\n"
   ]
  },
  {
   "cell_type": "code",
   "execution_count": 26,
   "metadata": {},
   "outputs": [
    {
     "data": {
      "text/plain": [
       "<AxesSubplot:>"
      ]
     },
     "execution_count": 26,
     "metadata": {},
     "output_type": "execute_result"
    },
    {
     "data": {
      "image/png": "[encoded data removed]",
      "text/plain": [
       "<Figure size 432x288 with 1 Axes>"
      ]
     },
     "metadata": {
      "needs_background": "light"
     },
     "output_type": "display_data"
    }
   ],
   "source": [
    "# A. Display the distribution of the quality scores for the variants.\n",
    "# Select the QUAL column from the data and plot the histogram\n",
    "\n",
    "vcf_data.QUAL.hist()"
   ]
  },
  {
   "cell_type": "code",
   "execution_count": 27,
   "metadata": {},
   "outputs": [
    {
     "data": {
      "text/plain": [
       "REF  ALT\n",
       "C    T      175\n",
       "G    A      163\n",
       "A    G      155\n",
       "T    C      124\n",
       "C    A       56\n",
       "G    T       53\n",
       "C    G       49\n",
       "G    C       46\n",
       "T    G       43\n",
       "     A       35\n",
       "A    C       34\n",
       "     T       26\n",
       "dtype: int64"
      ]
     },
     "execution_count": 27,
     "metadata": {},
     "output_type": "execute_result"
    }
   ],
   "source": [
    "# B. Compute the frequency (number of occurences) of each of the REF ALT \n",
    "# combinations available in the dataset and make a bar plot.\n",
    "# Then, identify the most frequent combination of REF ALT in the dataframe\n",
    "\n",
    "# Compute the number of occurences for REF ALT combinations.\n",
    "# Make use of the .value_counts() method for a dataframe \n",
    "# to count the number for the unique combinations of row elements.\n",
    "\n",
    "\n",
    "REF_ALT_counts = vcf_data.loc[:,(\"REF\",\"ALT\")].value_counts()\n",
    "REF_ALT_counts"
   ]
  },
  {
   "cell_type": "code",
   "execution_count": 28,
   "metadata": {},
   "outputs": [
    {
     "data": {
      "text/plain": [
       "pandas.core.series.Series"
      ]
     },
     "execution_count": 28,
     "metadata": {},
     "output_type": "execute_result"
    }
   ],
   "source": [
    "# we have a series, the row labels look like two columns but they are just row labels\n",
    "type(REF_ALT_counts)"
   ]
  },
  {
   "cell_type": "code",
   "execution_count": 29,
   "metadata": {},
   "outputs": [
    {
     "data": {
      "text/plain": [
       "MultiIndex([('C', 'T'),\n",
       "            ('G', 'A'),\n",
       "            ('A', 'G'),\n",
       "            ('T', 'C'),\n",
       "            ('C', 'A'),\n",
       "            ('G', 'T'),\n",
       "            ('C', 'G'),\n",
       "            ('G', 'C'),\n",
       "            ('T', 'G'),\n",
       "            ('T', 'A'),\n",
       "            ('A', 'C'),\n",
       "            ('A', 'T')],\n",
       "           names=['REF', 'ALT'])"
      ]
     },
     "execution_count": 29,
     "metadata": {},
     "output_type": "execute_result"
    }
   ],
   "source": [
    "REF_ALT_counts.index"
   ]
  },
  {
   "cell_type": "code",
   "execution_count": 30,
   "metadata": {},
   "outputs": [
    {
     "data": {
      "text/plain": [
       "<AxesSubplot:xlabel='REF,ALT'>"
      ]
     },
     "execution_count": 30,
     "metadata": {},
     "output_type": "execute_result"
    },
    {
     "data": {
      "image/png": "[encoded data removed]",
      "text/plain": [
       "<Figure size 432x288 with 1 Axes>"
      ]
     },
     "metadata": {
      "needs_background": "light"
     },
     "output_type": "display_data"
    }
   ],
   "source": [
    "# plot a bar plot with a bar for each value in the series\n",
    "\n",
    "REF_ALT_counts.plot(kind = \"bar\")"
   ]
  },
  {
   "cell_type": "code",
   "execution_count": 11,
   "metadata": {},
   "outputs": [
    {
     "data": {
      "text/plain": [
       "REF  ALT\n",
       "C    T      175\n",
       "dtype: int64"
      ]
     },
     "execution_count": 11,
     "metadata": {},
     "output_type": "execute_result"
    }
   ],
   "source": [
    "# Select from the series the maximum value together with the associated label: e.g. A T 300\n",
    "# get the label and the value from the series where the value is the maximum value\n",
    "# conitional subsetting\n",
    "\n",
    "REF_ALT_counts[REF_ALT_counts == max(REF_ALT_counts)]"
   ]
  },
  {
   "cell_type": "code",
   "execution_count": 32,
   "metadata": {},
   "outputs": [
    {
     "data": {
      "text/plain": [
       "REF  ALT\n",
       "C    T      175\n",
       "dtype: int64"
      ]
     },
     "execution_count": 32,
     "metadata": {},
     "output_type": "execute_result"
    }
   ],
   "source": [
    "# the data is sorted, descending, so take the first element, to add the label you need a range:\n",
    "\n",
    "REF_ALT_counts[0:1]"
   ]
  },
  {
   "cell_type": "code",
   "execution_count": 33,
   "metadata": {},
   "outputs": [
    {
     "data": {
      "text/plain": [
       "175"
      ]
     },
     "execution_count": 33,
     "metadata": {},
     "output_type": "execute_result"
    }
   ],
   "source": [
    "REF_ALT_counts[0]"
   ]
  },
  {
   "cell_type": "code",
   "execution_count": null,
   "metadata": {},
   "outputs": [],
   "source": []
  },
  {
   "cell_type": "code",
   "execution_count": null,
   "metadata": {},
   "outputs": [],
   "source": []
  },
  {
   "cell_type": "markdown",
   "metadata": {
    "tags": []
   },
   "source": [
    "____\n",
    "____\n",
    "\n",
    "\n",
    "#### Read alignment analysis   \n",
    "We have the genome data/sequence for an organism and the sequence alingnment data for a (biological) sample from that organism.   \n",
    "We want to count how many reads align at each position in the genome.  \n",
    "This computation could be expanded further into the computation for creating a vcf file. \n",
    "\n",
    "\n",
    "\n",
    "\n"
   ]
  },
  {
   "cell_type": "markdown",
   "metadata": {},
   "source": [
    "_____\n",
    "\n",
    "<b><font color = \"red\">Exercise</font> <br></b>\n",
    "\n",
    "<b>Initialize the genome counts list</b>   \n",
    "\n",
    "Read the data from the the fasta file `test_genome.fa` and create/initialize a list for the genome.     \n",
    "Create a list where we have the value 0 for each position/nucleotide in the genome.\n"
   ]
  },
  {
   "cell_type": "code",
   "execution_count": 1,
   "metadata": {},
   "outputs": [],
   "source": [
    "# Write your solution here\n",
    "\n"
   ]
  },
  {
   "cell_type": "code",
   "execution_count": 1,
   "metadata": {},
   "outputs": [
    {
     "name": "stdout",
     "output_type": "stream",
     "text": [
      ">I dna_rm:chromosome chromosome:R64-1-1:I:1:230218:1 REF\n",
      "\n"
     ]
    }
   ],
   "source": [
    "# open the file and read the information line by line\n",
    "# where we have nucleotides ( ACGT or N = any) \n",
    "# we add a 0 in the genome positions list\n",
    "# because we do not have any reads aligning there yet\n",
    "\n",
    "with open(\"genome.fa\") as genome_file:\n",
    "    for line in genome_file:\n",
    "        print(line)\n",
    "        break # stop to see what we have on the first line\n",
    "    "
   ]
  },
  {
   "cell_type": "code",
   "execution_count": 2,
   "metadata": {},
   "outputs": [
    {
     "name": "stdout",
     "output_type": "stream",
     "text": [
      "NNNNNNNNNNNNNNNNNNNNNNNNNNNNNNNNNNNNNNNNNNNNNNNNNNNNNNNNNNNN\n",
      "\n"
     ]
    }
   ],
   "source": [
    "# the first line has some genime information and \n",
    "# no nucleotides so I can ignore it\n",
    "# either read it and move on\n",
    "# or check for lines that do not start with >\n",
    "\n",
    "\n",
    "with open(\"genome.fa\") as genome_file:\n",
    "    genome_file.readline() # read and ignore the first line\n",
    "    for line in genome_file:\n",
    "        print(line)\n",
    "        break # stop to see what we have on the first line of nucleotides\n"
   ]
  },
  {
   "cell_type": "code",
   "execution_count": 5,
   "metadata": {},
   "outputs": [
    {
     "name": "stdout",
     "output_type": "stream",
     "text": [
      "NNNNNNNNNNNNNNNNNNNNNNNNNNNNNNNNNNNNNNNNNNNNNNNNNNNNNNNNNNNN\n",
      "\n"
     ]
    }
   ],
   "source": [
    "# or check for lines that do not start with >\n",
    "\n",
    "with open(\"genome.fa\") as genome_file:\n",
    "    for line in genome_file:\n",
    "        if not line.startswith(\">\"):\n",
    "            print(line)\n",
    "            break # stop to see what we have on the first line of nucleotides\n",
    "\n"
   ]
  },
  {
   "cell_type": "code",
   "execution_count": 6,
   "metadata": {},
   "outputs": [],
   "source": [
    "# create empty list of positions\n",
    "genome_pos = [] \n",
    "with open(\"genome.fa\") as genome_file:\n",
    "    # read and ignore the first line because it does not have nucleotides\n",
    "    genome_file.readline()\n",
    "    for line in genome_file:\n",
    "        # go through each nucleotide one at a time, \n",
    "        # strip new line at the end of the line\n",
    "        for nc in line.strip():\n",
    "            # add a 0 for each nucleotide\n",
    "            genome_pos.append(0)\n",
    "        # stop to see what we have on the first line of nucleotides\n",
    "        # break "
   ]
  },
  {
   "cell_type": "code",
   "execution_count": 9,
   "metadata": {},
   "outputs": [
    {
     "name": "stdout",
     "output_type": "stream",
     "text": [
      "list/genome size: 230218\n",
      "[0, 0, 0, 0, 0, 0, 0, 0, 0, 0, 0, 0, 0, 0, 0, 0, 0, 0, 0, 0, 0, 0, 0, 0, 0, 0, 0, 0, 0, 0, 0, 0, 0, 0, 0, 0, 0, 0, 0, 0, 0, 0, 0, 0, 0, 0, 0, 0, 0, 0, 0, 0, 0, 0, 0, 0, 0, 0, 0, 0, 0, 0, 0, 0, 0, 0, 0, 0, 0, 0, 0, 0, 0, 0, 0, 0, 0, 0, 0, 0, 0, 0, 0, 0, 0, 0, 0, 0, 0, 0, 0, 0, 0, 0, 0, 0, 0, 0, 0, 0, 0, 0, 0, 0, 0, 0, 0, 0, 0, 0, 0, 0, 0, 0, 0, 0, 0, 0, 0, 0, 0, 0, 0, 0, 0, 0, 0, 0, 0, 0, 0, 0, 0, 0, 0, 0, 0, 0, 0, 0, 0, 0, 0, 0, 0, 0, 0, 0, 0, 0]\n"
     ]
    }
   ],
   "source": [
    "print(\"list/genome size:\" , len(genome_pos))\n",
    "print(genome_pos[:150])"
   ]
  },
  {
   "cell_type": "code",
   "execution_count": null,
   "metadata": {},
   "outputs": [],
   "source": []
  },
  {
   "cell_type": "markdown",
   "metadata": {
    "tags": []
   },
   "source": [
    "___\n",
    "\n",
    "<b> <font color = \"red\">Exercise</font></b>\n",
    "\n",
    "<b>Count the number of reads that align at each position in the genome.</b>    \n",
    "\n",
    "Read the data from the alignment file `sample.bam` using the bamnostic library.  \n",
    "##### To install the bamnostic package follow the instruction from the package github repository.\n",
    "https://github.com/betteridiot/bamnostic\n",
    "\n",
    "Go through each read and update the count in the list initialized in the previous exercise.   \n",
    "To update the count, add up 1 in the counts for each position the read covers.   \n",
    "The positions the read covers start with the read position and end with the read position + the length of the read sequence.       \n",
    "Consecutive nucleotides in the read algn to consecutive positions in the genome.   \n"
   ]
  },
  {
   "cell_type": "code",
   "execution_count": null,
   "metadata": {},
   "outputs": [],
   "source": [
    "# Write your solution here\n",
    "\n",
    "\n"
   ]
  },
  {
   "cell_type": "markdown",
   "metadata": {},
   "source": [
    "#### To install the bamnostic package open a terminal and run:\n",
    "```bash\n",
    "pip install bamnostic\n",
    "```\n",
    "##### It is one of the install options provided in the documentation\n",
    "\n",
    "https://github.com/betteridiot/bamnostic\n",
    "\n",
    "If it does not work try another option\n",
    "\n",
    "There are 4 methods of installation available (choose one):\n",
    "\n",
    "Option 1: Through the conda package manager (Anaconda Cloud)\n",
    "\n",
    "```bash\n",
    "# first, add the conda-forge channel to your conda build\n",
    "conda config --add channels conda-forge\n",
    "\n",
    "# now bamnostic is available for install\n",
    "conda install bamnostic\n",
    "```"
   ]
  },
  {
   "cell_type": "code",
   "execution_count": 11,
   "metadata": {},
   "outputs": [],
   "source": [
    "# import the library \n",
    "import bamnostic as bs\n",
    "\n"
   ]
  },
  {
   "cell_type": "code",
   "execution_count": 12,
   "metadata": {},
   "outputs": [
    {
     "data": {
      "text/plain": [
       "EAS56_57:6:190:289:82\t69\tchr1\t100\t0\t*\t=\t100\t0\tCTCAAGGTTGTTGCAAGGGGGTCTATGTGAACAAA\t<<<7<<<;<<<<<<<<8;;<7;4<;<;;;;;94<;\tMF:C:192"
      ]
     },
     "execution_count": 12,
     "metadata": {},
     "output_type": "execute_result"
    }
   ],
   "source": [
    "# Loading your BAM file (Note: CRAM format are not supported at this time)\n",
    "# Bamnostic comes with an example BAM (and respective BAI) file just to play around with the output. \n",
    "# This example file is made availble through bamnostic.example_bam, which is a just a string path to the BAM file within the package.\n",
    "\n",
    "bam = bs.AlignmentFile(bs.example_bam, 'rb')\n",
    "\n",
    "# the result of the AlignmentFile function is a generator that gives us the aligned reads from the bam file one by one.\n",
    "first_read = next(bam)\n",
    "first_read"
   ]
  },
  {
   "cell_type": "code",
   "execution_count": 13,
   "metadata": {},
   "outputs": [],
   "source": [
    "# dir(first_read)"
   ]
  },
  {
   "cell_type": "code",
   "execution_count": 14,
   "metadata": {},
   "outputs": [
    {
     "data": {
      "text/plain": [
       "'CTCAAGGTTGTTGCAAGGGGGTCTATGTGAACAAA'"
      ]
     },
     "execution_count": 14,
     "metadata": {},
     "output_type": "execute_result"
    }
   ],
   "source": [
    "# the read sequence\n",
    "first_read.seq"
   ]
  },
  {
   "cell_type": "code",
   "execution_count": 15,
   "metadata": {},
   "outputs": [
    {
     "data": {
      "text/plain": [
       "99"
      ]
     },
     "execution_count": 15,
     "metadata": {},
     "output_type": "execute_result"
    }
   ],
   "source": [
    "# the position where the read aligned\n",
    "# 0-based position, in the file we have 1-based positions \n",
    "# but for ease of preocessing they are set to 0-based in the read object\n",
    "\n",
    "first_read.pos"
   ]
  },
  {
   "cell_type": "code",
   "execution_count": 16,
   "metadata": {},
   "outputs": [
    {
     "name": "stdout",
     "output_type": "stream",
     "text": [
      "99\n"
     ]
    }
   ],
   "source": [
    "print(first_read.pos)"
   ]
  },
  {
   "cell_type": "code",
   "execution_count": 17,
   "metadata": {},
   "outputs": [
    {
     "name": "stdout",
     "output_type": "stream",
     "text": [
      "CTCAAGGTTGTTGCAAGGGGGTCTATGTGAACAAA 99\n",
      "AGGGGTGCAGAGCCGAGTCACGGGGTTGCCAGCAC 99\n",
      "GGTGCAGAGCCGAGTCACGGGGTTGCCAGCACAGG 102\n",
      "AGCCGAGTCACGGGGTTGCCAGCACAGGGGCTTAA 109\n",
      "CCGAGTCACGGGGTTGCCAGCACAGGGGCTTAACC 111\n",
      "GTTCTCAAGGTTGTTGCAAGGGGGTCTATGTGAAC 112\n",
      "CGAGTCACGGGGTTGCCAGCACAGGGGCTTAACCT 112\n",
      "GTTCTCAAGGTTGTTGCAAGGGGGTCTATGTGAAC 118\n",
      "ACGGGGTTGCCAGCACAGGGGCTTAACCTCTGGTG 118\n",
      "GGGGTTGCCAGCACAGGGGCTTAACCTCTGGTGAC 120\n"
     ]
    }
   ],
   "source": [
    "# use a for loop to go through the first 10 reads\n",
    "# use a counter and break to stop after 10 reads\n",
    "# start from the beginning - recreate the generator\n",
    "\n",
    "bam = bs.AlignmentFile(bs.example_bam, 'rb')\n",
    "no_reads = 0\n",
    "for read in bam:\n",
    "    no_reads += 1 # printing another read so increase the number\n",
    "    print(read.seq, read.pos)\n",
    "    if no_reads >= 10: # when you reached 10 reads\n",
    "        break # exit the loop\n",
    "    \n",
    "# bam.close()"
   ]
  },
  {
   "cell_type": "code",
   "execution_count": 18,
   "metadata": {},
   "outputs": [
    {
     "data": {
      "text/plain": [
       "EAS192_3:1:225:195:543\t99\tchr1\t123\t99\t35M\t=\t299\t211\tGGTTGCCAGCACAGGGGCTTAACCTCTGGTGACTG\t<<<<<<<<<<<<<<<<<<<<<<<9<<;::388998\tAq:C:72\tH0:C:1\tH1:C:0\tMF:C:18\tNM:C:0\tUQ:C:0"
      ]
     },
     "execution_count": 18,
     "metadata": {},
     "output_type": "execute_result"
    }
   ],
   "source": [
    "# getting the next read because we did not close the file\n",
    "next(bam)"
   ]
  },
  {
   "cell_type": "code",
   "execution_count": 19,
   "metadata": {},
   "outputs": [
    {
     "name": "stdout",
     "output_type": "stream",
     "text": [
      "CTCAAGGTTGTTGCAAGGGGGTCTATGTGAACAAA 99\n",
      "AGGGGTGCAGAGCCGAGTCACGGGGTTGCCAGCAC 99\n",
      "GGTGCAGAGCCGAGTCACGGGGTTGCCAGCACAGG 102\n",
      "AGCCGAGTCACGGGGTTGCCAGCACAGGGGCTTAA 109\n",
      "CCGAGTCACGGGGTTGCCAGCACAGGGGCTTAACC 111\n",
      "GTTCTCAAGGTTGTTGCAAGGGGGTCTATGTGAAC 112\n",
      "CGAGTCACGGGGTTGCCAGCACAGGGGCTTAACCT 112\n",
      "GTTCTCAAGGTTGTTGCAAGGGGGTCTATGTGAAC 118\n",
      "ACGGGGTTGCCAGCACAGGGGCTTAACCTCTGGTG 118\n",
      "GGGGTTGCCAGCACAGGGGCTTAACCTCTGGTGAC 120\n"
     ]
    }
   ],
   "source": [
    "# Another option, using the with control structure so we close the file\n",
    "\n",
    "with bs.AlignmentFile(bs.example_bam, 'rb') as bam:\n",
    "    no_reads = 0\n",
    "    for read in bam:\n",
    "        no_reads += 1 # printing another read so increase the number\n",
    "        print(read.seq, read.pos)\n",
    "        if no_reads >= 10: # when you reached 10 reads\n",
    "            break # exit the loop"
   ]
  },
  {
   "cell_type": "code",
   "execution_count": 20,
   "metadata": {},
   "outputs": [
    {
     "ename": "TypeError",
     "evalue": "object of type 'NoneType' has no len()",
     "output_type": "error",
     "traceback": [
      "\u001b[0;31m---------------------------------------------------------------------------\u001b[0m",
      "\u001b[0;31mTypeError\u001b[0m                                 Traceback (most recent call last)",
      "\u001b[0;32m/var/folders/dg/8l7ql9hs6j71k502y3_6r3jh0000gp/T/ipykernel_7567/2408373372.py\u001b[0m in \u001b[0;36m<module>\u001b[0;34m\u001b[0m\n\u001b[0;32m----> 1\u001b[0;31m \u001b[0mnext\u001b[0m\u001b[0;34m(\u001b[0m\u001b[0mbam\u001b[0m\u001b[0;34m)\u001b[0m\u001b[0;34m\u001b[0m\u001b[0;34m\u001b[0m\u001b[0m\n\u001b[0m",
      "\u001b[0;32m/opt/anaconda3/lib/python3.8/site-packages/bamnostic/bam.py\u001b[0m in \u001b[0;36m__next__\u001b[0;34m(self)\u001b[0m\n\u001b[1;32m   1049\u001b[0m         \u001b[0;34m\"\"\"Return the next line (Py2 Compatibility).\"\"\"\u001b[0m\u001b[0;34m\u001b[0m\u001b[0;34m\u001b[0m\u001b[0m\n\u001b[1;32m   1050\u001b[0m \u001b[0;34m\u001b[0m\u001b[0m\n\u001b[0;32m-> 1051\u001b[0;31m         \u001b[0mread\u001b[0m \u001b[0;34m=\u001b[0m \u001b[0mbamnostic\u001b[0m\u001b[0;34m.\u001b[0m\u001b[0mAlignedSegment\u001b[0m\u001b[0;34m(\u001b[0m\u001b[0mself\u001b[0m\u001b[0;34m)\u001b[0m\u001b[0;34m\u001b[0m\u001b[0;34m\u001b[0m\u001b[0m\n\u001b[0m\u001b[1;32m   1052\u001b[0m         \u001b[0;32mif\u001b[0m \u001b[0;32mnot\u001b[0m \u001b[0mread\u001b[0m\u001b[0;34m:\u001b[0m\u001b[0;34m\u001b[0m\u001b[0;34m\u001b[0m\u001b[0m\n\u001b[1;32m   1053\u001b[0m             \u001b[0;32mraise\u001b[0m \u001b[0mStopIteration\u001b[0m\u001b[0;34m\u001b[0m\u001b[0;34m\u001b[0m\u001b[0m\n",
      "\u001b[0;32m/opt/anaconda3/lib/python3.8/site-packages/bamnostic/core.py\u001b[0m in \u001b[0;36m__init__\u001b[0;34m(self, _io)\u001b[0m\n\u001b[1;32m    218\u001b[0m         \"\"\"\n\u001b[1;32m    219\u001b[0m         \u001b[0mself\u001b[0m\u001b[0;34m.\u001b[0m\u001b[0m_io\u001b[0m \u001b[0;34m=\u001b[0m \u001b[0m_io\u001b[0m\u001b[0;34m\u001b[0m\u001b[0;34m\u001b[0m\u001b[0m\n\u001b[0;32m--> 220\u001b[0;31m         \u001b[0mbsize_buffer\u001b[0m \u001b[0;34m=\u001b[0m \u001b[0mself\u001b[0m\u001b[0;34m.\u001b[0m\u001b[0m_io\u001b[0m\u001b[0;34m.\u001b[0m\u001b[0mread\u001b[0m\u001b[0;34m(\u001b[0m\u001b[0;36m4\u001b[0m\u001b[0;34m)\u001b[0m\u001b[0;34m\u001b[0m\u001b[0;34m\u001b[0m\u001b[0m\n\u001b[0m\u001b[1;32m    221\u001b[0m         \u001b[0;32mtry\u001b[0m\u001b[0;34m:\u001b[0m\u001b[0;34m\u001b[0m\u001b[0;34m\u001b[0m\u001b[0m\n\u001b[1;32m    222\u001b[0m             \u001b[0mblock_size\u001b[0m \u001b[0;34m=\u001b[0m \u001b[0munpack_int32\u001b[0m\u001b[0;34m(\u001b[0m\u001b[0mbsize_buffer\u001b[0m\u001b[0;34m)\u001b[0m\u001b[0;34m[\u001b[0m\u001b[0;36m0\u001b[0m\u001b[0;34m]\u001b[0m\u001b[0;34m\u001b[0m\u001b[0;34m\u001b[0m\u001b[0m\n",
      "\u001b[0;32m/opt/anaconda3/lib/python3.8/site-packages/bamnostic/bgzf.py\u001b[0m in \u001b[0;36mread\u001b[0;34m(self, size)\u001b[0m\n\u001b[1;32m    420\u001b[0m             \u001b[0;31m# to multiple blocks, or fully contained within one.\u001b[0m\u001b[0;34m\u001b[0m\u001b[0;34m\u001b[0m\u001b[0;34m\u001b[0m\u001b[0m\n\u001b[1;32m    421\u001b[0m             \u001b[0;32mwhile\u001b[0m \u001b[0msize\u001b[0m\u001b[0;34m:\u001b[0m\u001b[0;34m\u001b[0m\u001b[0;34m\u001b[0m\u001b[0m\n\u001b[0;32m--> 422\u001b[0;31m                 \u001b[0;32mif\u001b[0m \u001b[0mself\u001b[0m\u001b[0;34m.\u001b[0m\u001b[0m_within_block_offset\u001b[0m \u001b[0;34m+\u001b[0m \u001b[0msize\u001b[0m \u001b[0;34m<=\u001b[0m \u001b[0mlen\u001b[0m\u001b[0;34m(\u001b[0m\u001b[0mself\u001b[0m\u001b[0;34m.\u001b[0m\u001b[0m_buffer\u001b[0m\u001b[0;34m)\u001b[0m\u001b[0;34m:\u001b[0m\u001b[0;34m\u001b[0m\u001b[0;34m\u001b[0m\u001b[0m\n\u001b[0m\u001b[1;32m    423\u001b[0m                     \u001b[0;31m# This may leave us right at the end of a block\u001b[0m\u001b[0;34m\u001b[0m\u001b[0;34m\u001b[0m\u001b[0;34m\u001b[0m\u001b[0m\n\u001b[1;32m    424\u001b[0m                     \u001b[0;31m# (lazy loading, don't load the next block unless we have too)\u001b[0m\u001b[0;34m\u001b[0m\u001b[0;34m\u001b[0m\u001b[0;34m\u001b[0m\u001b[0m\n",
      "\u001b[0;31mTypeError\u001b[0m: object of type 'NoneType' has no len()"
     ]
    }
   ],
   "source": [
    "next(bam)"
   ]
  },
  {
   "cell_type": "markdown",
   "metadata": {},
   "source": [
    "```\n",
    "# lets align to a genome of. size 10 a read of 3 nucleotides starting at pos (0-based) 4:\n",
    "read.seq ACT\n",
    "read.pos 4\n",
    "genome_pos  0 0 0 0 0 0 0 0 0 0    # number of reads that align at. each position\n",
    "\n",
    "____\n",
    "read      :         A C T\n",
    "genome_pos: 0 0 0 0 1 1 1 0 0 0 0 \n",
    "index     : 0 1 2 3 4 5 6 7 8 9 10\n",
    "_____________\n",
    "\n",
    "# lets align to a genome of size 10 another read of 3 nucleotides starting at pos (0-based) 5:\n",
    "read.seq CAC\n",
    "read.pos 5\n",
    "____\n",
    "read      :         A C T\n",
    "read1     :           C A C\n",
    "genome_pos: 0 0 0 0 1 2 2 1 0 0 0\n",
    "index     : 0 1 2 3 4 5 6 7 8 9 10\n",
    "```"
   ]
  },
  {
   "cell_type": "code",
   "execution_count": 21,
   "metadata": {},
   "outputs": [
    {
     "name": "stdout",
     "output_type": "stream",
     "text": [
      "[0, 0, 0, 0, 0, 0, 0, 0, 0, 0, 0, 0, 0, 0, 0, 0, 0, 0, 0, 0, 0, 0, 0, 0, 0, 0, 0, 0, 0, 0, 0, 0, 0, 0, 0, 0, 0, 0, 0, 0, 0, 0, 0, 0, 0, 0, 0, 0, 0, 0]\n"
     ]
    }
   ],
   "source": [
    "print(genome_pos[:50])"
   ]
  },
  {
   "cell_type": "code",
   "execution_count": 29,
   "metadata": {},
   "outputs": [
    {
     "name": "stdout",
     "output_type": "stream",
     "text": [
      "[0, 0, 0, 0, 0, 0, 0, 0, 0, 0, 0, 0, 0, 0, 0, 0, 0, 0, 0, 1, 1, 1, 1, 1, 1, 1, 1, 1, 1, 1, 1, 1, 1, 1, 1, 1, 1, 1, 1, 1, 1, 1, 1, 1, 1, 1, 1, 1, 1, 1, 1, 1, 1, 1, 0, 0, 0, 0, 0, 0, 0, 0, 0, 0, 0, 0, 0, 0, 0, 0, 0, 0, 0, 0, 0, 0, 0, 0, 0, 0, 0, 0, 0, 0, 0, 0, 0, 0, 0, 0]\n"
     ]
    }
   ],
   "source": [
    "# now let's do that with some code\n",
    "# aligning 1 read\n",
    "\n",
    "with bs.AlignmentFile(bs.example_bam, 'rb') as bam:\n",
    "    no_reads = 0\n",
    "    for read in bam:\n",
    "        # printing another read so increase the number\n",
    "        no_reads += 1 \n",
    "        # print(read.seq, read.pos)\n",
    "        # we need to increase the values in the list at indices \n",
    "        # starting with read.pos and ending after we went through \n",
    "        # each nucleotide in the read sequence\n",
    "        for position in range(read.pos, read.pos + len(read.seq)):\n",
    "            genome_pos[position] += 1\n",
    "         # when you reached 1 read\n",
    "        if no_reads >= 1:\n",
    "            # exit the loop\n",
    "            break \n",
    "            \n",
    "print(genome_pos[80:170])"
   ]
  },
  {
   "cell_type": "code",
   "execution_count": 31,
   "metadata": {},
   "outputs": [],
   "source": [
    "# reset the genome_positions to start over\n",
    "# create empty list of positions\n",
    "genome_pos = [] \n",
    "with open(\"genome.fa\") as genome_file:\n",
    "    # read and ignore the first line because it does not have nucleotides\n",
    "    genome_file.readline()\n",
    "    for line in genome_file:\n",
    "        # go through each nucleotide one at a time, \n",
    "        # strip new line at the end of the line\n",
    "        for nc in line.strip():\n",
    "            # add a 0 for each nucleotide\n",
    "            genome_pos.append(0)\n",
    "        # stop to see what we have on the first line of nucleotides\n",
    "        # break "
   ]
  },
  {
   "cell_type": "code",
   "execution_count": 34,
   "metadata": {},
   "outputs": [
    {
     "name": "stdout",
     "output_type": "stream",
     "text": [
      "[0, 0, 0, 0, 0, 0, 0, 0, 0, 0, 0, 0, 0, 0, 0, 0, 0, 0, 0, 0, 0, 0, 0, 0, 0, 0, 0, 0, 0, 0, 0, 0, 0, 0, 0, 0, 0, 0, 0, 0, 0, 0, 0, 0, 0, 0, 0, 0, 0, 0, 0, 0, 0, 0, 0, 0, 0, 0, 0, 0, 0, 0, 0, 0, 0, 0, 0, 0, 0, 0, 0, 0, 0, 0, 0, 0, 0, 0, 0, 0, 0, 0, 0, 0, 0, 0, 0, 0, 0, 0, 0, 0, 0, 0, 0, 0, 0, 0, 0, 0, 0, 0, 0, 0, 0, 0, 0, 0, 0, 0, 0, 0, 0, 0, 0, 0, 0, 0, 0, 0, 0, 0, 0, 0, 0, 0, 0, 0, 0, 0, 0, 0, 0, 0, 0, 0, 0, 0, 0, 0, 0, 0, 0, 0, 0, 0, 0, 0, 0, 0, 0, 0, 0, 0, 0, 0, 0, 0, 0, 0, 0, 0, 0, 0, 0, 0, 0, 0, 0, 0]\n"
     ]
    }
   ],
   "source": [
    "print(genome_pos[:170])"
   ]
  },
  {
   "cell_type": "code",
   "execution_count": 35,
   "metadata": {},
   "outputs": [],
   "source": [
    "# align 10 reads\n",
    "with bs.AlignmentFile(bs.example_bam, 'rb') as bam:\n",
    "    no_reads = 0\n",
    "    for read in bam:\n",
    "        # printing another read so increase the number\n",
    "        no_reads += 1 \n",
    "        # print(read.seq, read.pos)\n",
    "        # we need to increase the values in the list at indices \n",
    "        # starting with read.pos and ending after we went through \n",
    "        # each nucleotide in the read sequence\n",
    "        for position in range(read.pos, read.pos + len(read.seq)):\n",
    "            genome_pos[position] += 1\n",
    "         # when you reached 10 reads\n",
    "        if no_reads >= 10:\n",
    "            # exit the loop\n",
    "            break "
   ]
  },
  {
   "cell_type": "code",
   "execution_count": 36,
   "metadata": {},
   "outputs": [
    {
     "name": "stdout",
     "output_type": "stream",
     "text": [
      "[0, 0, 0, 0, 0, 0, 0, 0, 0, 0, 0, 0, 0, 0, 0, 0, 0, 0, 0, 2, 2, 2, 3, 3, 3, 3, 3, 3, 3, 4, 4, 5, 7, 7, 7, 7, 7, 7, 9, 9, 10, 10, 10, 10, 10, 10, 10, 10, 10, 10, 10, 10, 10, 10, 8, 8, 8, 7, 7, 7, 7, 7, 7, 7, 6, 6, 5, 3, 3, 3, 3, 3, 3, 1, 1, 0, 0, 0, 0, 0, 0, 0, 0, 0, 0, 0, 0, 0, 0, 0]\n"
     ]
    }
   ],
   "source": [
    "print(genome_pos[80:170])"
   ]
  },
  {
   "cell_type": "code",
   "execution_count": 39,
   "metadata": {},
   "outputs": [
    {
     "name": "stdout",
     "output_type": "stream",
     "text": [
      "[3, 4, 4, 4, 5, 8, 12, 14, 14, 14, 15, 16, 16, 16, 16, 17, 18, 19, 19, 19, 19, 19, 19, 20, 21, 22, 22, 22, 22, 23, 23, 23, 24, 25, 25, 23, 23, 23, 24, 24, 23, 20, 20, 21, 23, 24, 24, 25, 25, 27, 26, 26, 25, 26, 26, 27, 29, 30, 29, 28, 27, 27, 29, 32, 33, 34, 34, 35, 35, 35, 35, 35, 35, 33, 32, 30, 32, 29, 29, 27, 26, 26, 25, 27, 25, 26, 27, 27, 27, 27, 29, 27, 28, 29, 32, 32, 33, 33, 29, 29, 28, 28, 27, 28, 29, 31, 32, 32, 33, 34, 34, 33, 35, 38, 38, 37, 37, 36, 36, 37, 38, 37, 40, 42, 42, 41, 41, 40, 40, 37, 38, 36, 36, 36, 38, 38, 38, 38, 37, 37, 36, 36, 34, 33, 32, 31, 31, 31, 28, 29, 29, 29, 30, 30, 29, 27, 26, 23, 23, 22, 22, 22, 24, 24, 27, 26, 28, 27, 28, 25, 26, 26, 26, 27, 28, 29, 28, 29, 29, 30, 33, 35, 33, 34, 35, 35, 37, 40, 38, 37, 37, 38, 40, 39, 41, 41, 43, 41, 41, 42, 44, 43, 45, 44, 46, 47, 49, 48, 52, 52, 53, 54, 58, 59, 63, 64, 63, 64, 64, 65, 68, 70, 71, 76, 78, 79, 81, 83, 87, 88, 89, 89, 89, 91, 89, 91, 94, 93, 94, 96, 93, 93, 93, 89, 90, 92, 94, 93, 92, 95, 91, 90, 89, 89, 88, 88, 84, 81, 82, 77, 78, 78, 78, 74, 75, 76, 75, 74, 77, 80, 80, 78, 79, 78, 77, 75, 78, 80, 81, 81, 77, 76, 76, 76, 75, 74, 78, 80, 79, 79, 83, 82, 82, 81, 84, 88, 89, 86, 92, 89]\n"
     ]
    }
   ],
   "source": [
    "# align all reads\n",
    "\n",
    "# reset the genome_positions to start over\n",
    "# create empty list of positions\n",
    "genome_pos = [] \n",
    "with open(\"genome.fa\") as genome_file:\n",
    "    # read and ignore the first line because it does not have nucleotides\n",
    "    genome_file.readline()\n",
    "    for line in genome_file:\n",
    "        # go through each nucleotide one at a time, \n",
    "        # strip new line at the end of the line\n",
    "        for nc in line.strip():\n",
    "            # add a 0 for each nucleotide\n",
    "            genome_pos.append(0)\n",
    "        # stop to see what we have on the first line of nucleotides\n",
    "        # break \n",
    "\n",
    "# count the reads that align using all reads in the file\n",
    "# no need to keep count of the number of reads\n",
    "with bs.AlignmentFile(bs.example_bam, 'rb') as bam:\n",
    "    for read in bam:\n",
    "        # we need to increase the values in the list at indices \n",
    "        # starting with read.pos and ending after we went through \n",
    "        # each nucleotide in the read sequence\n",
    "        for position in range(read.pos, read.pos + len(read.seq)):\n",
    "            genome_pos[position] += 1\n",
    "\n",
    "            \n",
    "# check to see our genome position list\n",
    "# how many reads aligned at each position\n",
    "print(genome_pos[:300])"
   ]
  },
  {
   "cell_type": "code",
   "execution_count": 42,
   "metadata": {},
   "outputs": [
    {
     "name": "stdout",
     "output_type": "stream",
     "text": [
      "CATCTTTGGAGTAACTATTATTTCGCCCCTTTTGTTTGCTGCATATCGCCCCGCTCTCTGCATACACGATTGGATAATGACCAAAGCAAGGTTTAATACGC -1\n"
     ]
    }
   ],
   "source": [
    "# we used the example file from the package not the sample.bam  provided in the folder with the notebook\n",
    "\n",
    "with bs.AlignmentFile('sample.bam', 'rb') as bam:\n",
    "    for read in bam:\n",
    "        print(read.seq, read.pos)\n",
    "        break # stop after the first read\n",
    "\n",
    "# the read aligns to a negative position -1 => impossible position \n",
    "# unusable file"
   ]
  },
  {
   "cell_type": "code",
   "execution_count": null,
   "metadata": {},
   "outputs": [],
   "source": []
  }
 ],
 "metadata": {
  "kernelspec": {
   "display_name": "Python 3 (ipykernel)",
   "language": "python",
   "name": "python3"
  },
  "language_info": {
   "codemirror_mode": {
    "name": "ipython",
    "version": 3
   },
   "file_extension": ".py",
   "mimetype": "text/x-python",
   "name": "python",
   "nbconvert_exporter": "python",
   "pygments_lexer": "ipython3",
   "version": "3.8.10"
  }
 },
 "nbformat": 4,
 "nbformat_minor": 4
}
