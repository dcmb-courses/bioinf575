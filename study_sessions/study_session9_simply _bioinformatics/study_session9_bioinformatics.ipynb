{
 "cells": [
  {
   "cell_type": "markdown",
   "metadata": {
    "tags": []
   },
   "source": [
    "### Study session 8 - simply bioinformatics\n",
    "#### Use data and control structures, pandas, dataframes and explaore new libraries\n",
    "#### Explore object  attributes and methods\n",
    "#### BIOINF 575 - Fall 2021\n",
    "\n"
   ]
  },
  {
   "cell_type": "markdown",
   "metadata": {},
   "source": [
    "____\n",
    "\n",
    "#### Variant data exploration   \n",
    "We have variant data for a sample in the file `variant_data_file.vcf`.   \n",
    "The vcf data file contains information about differences found in the genome of a specific sample when compared to the reference.    \n",
    "The file contains approximatelly 1000 differences found in the Y chromosome.\n",
    "\n"
   ]
  },
  {
   "cell_type": "markdown",
   "metadata": {},
   "source": [
    "\n",
    "\n",
    "..................................................................................................\n",
    "\n",
    "<b><font color = \"red\">Exercise</font> <br></b>\n",
    "\n",
    "<b>Total depth distribution</b>\n",
    "\n",
    "We want to have a look at the distribution of the total depth in our data (DP key in the INFO column).\n",
    "- Read the data into a pandas data frame\n",
    "    - look at the comment and names arguments for the read_csv funtion in the pandas library, you will need to add the header by hand\n",
    "- Write a function that selects the total depth from the INFO part of a variant (row in our dataframe)\n",
    "- Apply the function for each row of the dataframe which will result in a pandas series with the total depth for each variant \n",
    "- Plot the histogram of total depths (pandas series previously computed)"
   ]
  },
  {
   "cell_type": "code",
   "execution_count": null,
   "metadata": {},
   "outputs": [],
   "source": [
    "# Write your solution here\n",
    "\n",
    "\n"
   ]
  },
  {
   "cell_type": "code",
   "execution_count": null,
   "metadata": {},
   "outputs": [],
   "source": []
  },
  {
   "cell_type": "code",
   "execution_count": null,
   "metadata": {
    "tags": []
   },
   "outputs": [],
   "source": []
  },
  {
   "cell_type": "markdown",
   "metadata": {},
   "source": [
    "\n",
    "\n",
    "..................................................................................................\n",
    "\n",
    "<b><font color = \"red\">Exercise</font> <br></b>\n",
    "\n",
    "\n",
    "<b>Quality and SNP distribution</b> \n",
    "\n",
    "<b>A.</b> Display the distribution of the quality scores for the variants. \n",
    "- Select the QUAL column from the data and plot the histogram\n",
    "\n",
    "<b>B.</b> Compute the frequency (number of occurences) of each of the REF ALT combinations available in the dataset and make a bar plot.    \n",
    "Then, identify the most frequent combination of REF ALT in the dataframe \n",
    "- Compute the number of occurences for REF ALT combinations. \n",
    "    - Make use of the .value_counts() method for a dataframe to count the number for the unique combinations of row elements.\n",
    "- The result of value_counts is a pandas series, plot the values using a barplot.\n",
    "- Select from the series the maximum value together with the associated label: e.g. A T 300"
   ]
  },
  {
   "cell_type": "code",
   "execution_count": null,
   "metadata": {},
   "outputs": [],
   "source": [
    "# Write your solution here\n",
    "\n",
    "\n"
   ]
  },
  {
   "cell_type": "code",
   "execution_count": null,
   "metadata": {},
   "outputs": [],
   "source": []
  },
  {
   "cell_type": "markdown",
   "metadata": {
    "tags": []
   },
   "source": [
    "____\n",
    "____\n",
    "\n",
    "\n",
    "#### Read alignment analysis   \n",
    "We have the genome data/sequence for an organism and the sequence alingnment data for a (biological) sample from that organism.   \n",
    "We want to count how many reads align at each position in the genome.  \n",
    "This computation could be expanded further into the computation for creating a vcf file. \n",
    "\n",
    "\n",
    "\n",
    "\n"
   ]
  },
  {
   "cell_type": "markdown",
   "metadata": {},
   "source": [
    "_____\n",
    "\n",
    "<b><font color = \"red\">Exercise</font> <br></b>\n",
    "\n",
    "<b>Initialize the genome counts list</b>   \n",
    "\n",
    "Read the data from the the fasta file `test_genome.fa` and create/initialize a list for the genome.     \n",
    "Create a list where we have the value 0 for each position/nucleotide in the genome.\n"
   ]
  },
  {
   "cell_type": "code",
   "execution_count": 1,
   "metadata": {},
   "outputs": [],
   "source": [
    "# Write your solution here\n",
    "\n"
   ]
  },
  {
   "cell_type": "code",
   "execution_count": null,
   "metadata": {},
   "outputs": [],
   "source": []
  },
  {
   "cell_type": "code",
   "execution_count": null,
   "metadata": {},
   "outputs": [],
   "source": []
  },
  {
   "cell_type": "markdown",
   "metadata": {
    "tags": []
   },
   "source": [
    "___\n",
    "\n",
    "<b> <font color = \"red\">Exercise</font></b>\n",
    "\n",
    "<b>Count the number of reads that align at each position in the genome.</b>    \n",
    "\n",
    "Read the data from the alignment file `sample.bam` using the bamnostic library.  \n",
    "##### To install the bamnostic package follow the instruction from the package github repository.\n",
    "https://github.com/betteridiot/bamnostic\n",
    "\n",
    "Go through each read and update the count in the list initialized in the previous exercise.   \n",
    "To update the count, add up 1 in the counts for each position the read covers.   \n",
    "The positions the read covers start with the read position and end with the read position + the length of the read sequence.       \n",
    "Consecutive nucleotides in the read algn to consecutive positions in the genome.   \n"
   ]
  },
  {
   "cell_type": "code",
   "execution_count": 2,
   "metadata": {},
   "outputs": [],
   "source": [
    "# Write your solution here\n",
    "import bamnostic as bs\n",
    "\n"
   ]
  },
  {
   "cell_type": "code",
   "execution_count": null,
   "metadata": {},
   "outputs": [],
   "source": []
  },
  {
   "cell_type": "code",
   "execution_count": null,
   "metadata": {},
   "outputs": [],
   "source": []
  },
  {
   "cell_type": "code",
   "execution_count": null,
   "metadata": {},
   "outputs": [],
   "source": []
  }
 ],
 "metadata": {
  "kernelspec": {
   "display_name": "Python 3 (ipykernel)",
   "language": "python",
   "name": "python3"
  },
  "language_info": {
   "codemirror_mode": {
    "name": "ipython",
    "version": 3
   },
   "file_extension": ".py",
   "mimetype": "text/x-python",
   "name": "python",
   "nbconvert_exporter": "python",
   "pygments_lexer": "ipython3",
   "version": "3.8.10"
  }
 },
 "nbformat": 4,
 "nbformat_minor": 4
}
