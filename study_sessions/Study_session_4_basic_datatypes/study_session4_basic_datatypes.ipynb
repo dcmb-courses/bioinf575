{
 "cells": [
  {
   "cell_type": "markdown",
   "metadata": {},
   "source": [
    "## Study session 4 - Data types and data structures\n",
    "### BIOINF 575 - Fall 2022"
   ]
  },
  {
   "cell_type": "markdown",
   "metadata": {},
   "source": [
    "\n",
    "Documentation on data types:   \n",
    "https://docs.python.org/3/library/stdtypes.html    \n",
    "Check the precedence of operators in the documentation at the following link:     \n",
    "https://docs.python.org/3/reference/expressions.html#operator-precedence         \n",
    "Python modules - can import without having to install a package      \n",
    "https://docs.python.org/3/py-modindex.html\n"
   ]
  },
  {
   "cell_type": "markdown",
   "metadata": {},
   "source": [
    "Check/display the <b>type of a variable</b> with the function <b>type()</b>."
   ]
  },
  {
   "cell_type": "markdown",
   "metadata": {},
   "source": [
    "___\n",
    "<font color = \"red\">Exercise</font> <br>\n",
    "\n",
    "Count the number of digits in a large integer number:   \n",
    "e.g.: for the number 784512346 your should return 9"
   ]
  },
  {
   "cell_type": "markdown",
   "metadata": {},
   "source": [
    "##### IN THE HOMEWORK YOU DO NOT NEED TO INCLUDE INTERMEDIATE STEPS      \n",
    "##### JUST BASIC COMMENTS AND ONLY THE FINAL SOLUTION "
   ]
  },
  {
   "cell_type": "code",
   "execution_count": null,
   "metadata": {},
   "outputs": [],
   "source": [
    "# Solution\n"
   ]
  },
  {
   "cell_type": "code",
   "execution_count": null,
   "metadata": {},
   "outputs": [],
   "source": []
  },
  {
   "cell_type": "markdown",
   "metadata": {},
   "source": [
    "___\n",
    "<font color = \"red\">Exercise</font> <br><br>\n",
    "\n",
    "Explain the following code:\n"
   ]
  },
  {
   "cell_type": "code",
   "execution_count": null,
   "metadata": {
    "tags": []
   },
   "outputs": [],
   "source": [
    "int(str(10)+\"2\")+True-(20<=70 and 5>2)*20"
   ]
  },
  {
   "cell_type": "code",
   "execution_count": null,
   "metadata": {},
   "outputs": [],
   "source": [
    "##### # Solution:</b>\n",
    "\n",
    "##### Start with the first simple part of the expression and \n",
    "##### then build to the whole expression step by step\n",
    "\n",
    "\n",
    "\n"
   ]
  },
  {
   "cell_type": "code",
   "execution_count": null,
   "metadata": {},
   "outputs": [],
   "source": []
  },
  {
   "cell_type": "markdown",
   "metadata": {},
   "source": [
    "___\n",
    "\n",
    "<font color = \"red\">Exercise</font> <br>\n",
    "\n",
    "Compute the number of tri-peptides that you can create using the follwing 5 amino acids. That is all combinations of 3 amino acids outof the given 5 where the order matters.\n",
    "\n",
    "The `perm` function from the math module can help with that.\n",
    "\n",
    "You can import only the function an use it directly:\n",
    "\n",
    "```python\n",
    "from math import perm\n",
    "perm(n,k)\n",
    "```\n",
    "\n",
    "Or you can import the module and the call the function using the module name and the dot notation:\n",
    "\n",
    "```python\n",
    "import math\n",
    "math.perm(n,k)\n",
    "```\n",
    "\n",
    "aa_list = ['D', 'E' , 'K' , 'R', 'H' ,'N']\n",
    "\n",
    "<img src = https://labster-image-manager.s3.amazonaws.com/v2/PSL/053389c7-1738-464e-a13c-f68e79268fa2/PSL_Amino_acid_list.en.png width = 450 />\n",
    "\n",
    "https://theory.labster.com/list-amino-acids/\n"
   ]
  },
  {
   "cell_type": "code",
   "execution_count": null,
   "metadata": {
    "tags": []
   },
   "outputs": [],
   "source": [
    "# Solution\n",
    "\n"
   ]
  },
  {
   "cell_type": "code",
   "execution_count": null,
   "metadata": {},
   "outputs": [],
   "source": []
  },
  {
   "cell_type": "markdown",
   "metadata": {},
   "source": [
    "___\n",
    "\n",
    "<font color = \"red\">Exercise</font> <br>\n",
    "\n",
    "Display the tri-peptides that you can create using the follwing 5 amino acids. That is all combination of 3 amino acids outof the given 5 where the order matters.\n",
    "\n",
    "The `permutations` function from the `itertools` module can help with that.    \n",
    "Check the documentation using the help function or using ? or ?? after the name of the function. \n",
    "\n",
    "\n"
   ]
  },
  {
   "cell_type": "code",
   "execution_count": null,
   "metadata": {
    "tags": []
   },
   "outputs": [],
   "source": [
    "# Solution\n",
    "\n"
   ]
  },
  {
   "cell_type": "code",
   "execution_count": null,
   "metadata": {},
   "outputs": [],
   "source": []
  },
  {
   "cell_type": "markdown",
   "metadata": {},
   "source": [
    "___\n",
    "\n",
    "<font color = \"red\">Exercise</font> <br>\n",
    "\n",
    "Create a short list of tri-peptides containing only the first 10 of the tri-peptides from the list you created in the previous exercise.     \n",
    "Store in variables `D, E, R` how many time each amino acid appears in that list.    \n",
    "Create a an empty frequencies list and add the frequencies to it. Frequency here is computed as the ratio between the number of occurences of the amino acid and the total number of tri-peptides in the short list.\n",
    "Compute the minimum frequency.\n",
    "\n",
    "\n",
    "\n"
   ]
  },
  {
   "cell_type": "code",
   "execution_count": null,
   "metadata": {
    "tags": []
   },
   "outputs": [],
   "source": [
    "# Solution\n",
    "\n"
   ]
  },
  {
   "cell_type": "code",
   "execution_count": null,
   "metadata": {},
   "outputs": [],
   "source": []
  },
  {
   "cell_type": "markdown",
   "metadata": {},
   "source": [
    "___\n",
    "\n",
    "<font color = \"red\">Exercise</font> <br>\n",
    "\n",
    "a) Count the number of sentences in the following text from a news article in Science (science.org):   \n",
    "https://www.science.org/content/article/jumping-gene-may-have-erased-tails-humans-and-other-apes-and-boosted-our-risk-birth-defects\n",
    "\n",
    "```\n",
    "Mammals from mice to monkeys have tails. But humans and our cousins the great apes lack them. Now, researchers may have unearthed a simple genetic change that led to our abbreviated back end: an itinerant piece of DNA that leapt into a new chromosomal home and changed how great apes make a key developmental protein. The finding also suggests the genetic shift came with a less visible and more dangerous effect: a higher risk of birth defects involving the developing spinal cord.\n",
    "```\n"
   ]
  },
  {
   "cell_type": "code",
   "execution_count": null,
   "metadata": {},
   "outputs": [],
   "source": [
    "# Solution \n",
    "\n"
   ]
  },
  {
   "cell_type": "code",
   "execution_count": null,
   "metadata": {},
   "outputs": [],
   "source": []
  },
  {
   "cell_type": "markdown",
   "metadata": {},
   "source": [
    "<font color = \"red\">Exercise</font> <br> \n",
    "\n",
    "b) Compute the averave length of a sentence\n"
   ]
  },
  {
   "cell_type": "code",
   "execution_count": null,
   "metadata": {},
   "outputs": [],
   "source": [
    "# Solution\n",
    "\n",
    "\n"
   ]
  },
  {
   "cell_type": "code",
   "execution_count": null,
   "metadata": {},
   "outputs": [],
   "source": []
  },
  {
   "cell_type": "markdown",
   "metadata": {},
   "source": [
    "___\n",
    "<font color = \"red\">Exercise</font> <br><br>\n",
    "\n",
    "Explain the following code:\n",
    "\n",
    "```python\n",
    "paragraph = \"Mammals from mice to monkeys have tails. But humans and our cousins the great apes lack them. Now, researchers may have unearthed a simple genetic change that led to our abbreviated back end: an itinerant piece of DNA that leapt into a new chromosomal home and changed how great apes make a key developmental protein. The finding also suggests the genetic shift came with a less visible and more dangerous effect: a higher risk of birth defects involving the developing spinal cord.\"\n",
    "print(paragraph.count(\"the\") > paragraph.upper().count(\"THE\"))\n",
    "print(paragraph.count(\"the \") < paragraph.count(\"the\"))\n",
    "print((paragraph.count(\"the\")-paragraph.count(\"the \")) * \"the \")\n",
    "print()\n",
    "print(3* \" \" + 3 * \"-\" + \" \" + paragraph[:7] + \" \" + paragraph[29:41] + 3 * \"-\" + \"\\n\" +\\\n",
    "        3 * \"-\" + \" \" + paragraph[68:93].capitalize() +  \" \" + 3 * \"-\")\n",
    "\n",
    "```\n"
   ]
  },
  {
   "cell_type": "code",
   "execution_count": null,
   "metadata": {},
   "outputs": [],
   "source": [
    "##### # Solution:</b>\n",
    "\n",
    "##### Start with the first simple part of the expression and \n",
    "##### then build to the whole expression step by step\n",
    "\n",
    "\n",
    "\n"
   ]
  },
  {
   "cell_type": "code",
   "execution_count": null,
   "metadata": {},
   "outputs": [],
   "source": []
  }
 ],
 "metadata": {
  "kernelspec": {
   "display_name": "Python 3 (ipykernel)",
   "language": "python",
   "name": "python3"
  },
  "language_info": {
   "codemirror_mode": {
    "name": "ipython",
    "version": 3
   },
   "file_extension": ".py",
   "mimetype": "text/x-python",
   "name": "python",
   "nbconvert_exporter": "python",
   "pygments_lexer": "ipython3",
   "version": "3.9.12"
  }
 },
 "nbformat": 4,
 "nbformat_minor": 4
}
