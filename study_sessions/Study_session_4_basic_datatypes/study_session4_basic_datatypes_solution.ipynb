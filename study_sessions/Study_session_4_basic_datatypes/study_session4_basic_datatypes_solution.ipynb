{
 "cells": [
  {
   "cell_type": "markdown",
   "metadata": {},
   "source": [
    "### SOLUTION"
   ]
  },
  {
   "cell_type": "markdown",
   "metadata": {},
   "source": [
    "## Study session 4 - Data types and data structures\n",
    "### BIOINF 575 - Fall 2022"
   ]
  },
  {
   "cell_type": "markdown",
   "metadata": {},
   "source": [
    "\n",
    "Documentation on data types:   \n",
    "https://docs.python.org/3/library/stdtypes.html    \n",
    "Check the precedence of operators in the documentation at the following link:     \n",
    "https://docs.python.org/3/reference/expressions.html#operator-precedence         \n",
    "Python modules - can import without having to install a package      \n",
    "https://docs.python.org/3/py-modindex.html\n"
   ]
  },
  {
   "cell_type": "markdown",
   "metadata": {},
   "source": [
    "Check/display the <b>type of a variable</b> with the function <b>type()</b>."
   ]
  },
  {
   "cell_type": "markdown",
   "metadata": {},
   "source": [
    "___\n",
    "<font color = \"red\">Exercise</font> <br>\n",
    "\n",
    "Count the number of digits in a large integer number:   \n",
    "e.g.: for the number 784512346 your should return 9"
   ]
  },
  {
   "cell_type": "markdown",
   "metadata": {},
   "source": [
    "##### IN THE HOMEWORK YOU DO NOT NEED TO INCLUDE INTERMEDIATE STEPS      \n",
    "##### JUST BASIC COMMENTS AND ONLY THE FINAL SOLUTION "
   ]
  },
  {
   "cell_type": "code",
   "execution_count": 1,
   "metadata": {},
   "outputs": [],
   "source": [
    "# Solution\n"
   ]
  },
  {
   "cell_type": "code",
   "execution_count": 2,
   "metadata": {},
   "outputs": [],
   "source": [
    "# int objects do not have the length function implemented (look for __len__ when you do dir)\n",
    "# dir(int) # uncoment this line and run the cell if you want to look at the result of dir"
   ]
  },
  {
   "cell_type": "code",
   "execution_count": 3,
   "metadata": {},
   "outputs": [],
   "source": [
    "# string objects have the len function implemented\n",
    "# dir(str) # uncoment this line and run the cell if you want to look at the result of dir"
   ]
  },
  {
   "cell_type": "code",
   "execution_count": 4,
   "metadata": {},
   "outputs": [
    {
     "data": {
      "text/plain": [
       "9"
      ]
     },
     "execution_count": 4,
     "metadata": {},
     "output_type": "execute_result"
    }
   ],
   "source": [
    "# we know str knows how to provide the number of characters\n",
    "# so to get the number of digits for an int - we change it to a string and \n",
    "# count the characters using the len function\n",
    "\n",
    "large_no = 784512346\n",
    "len(str(large_no))"
   ]
  },
  {
   "cell_type": "code",
   "execution_count": null,
   "metadata": {},
   "outputs": [],
   "source": []
  },
  {
   "cell_type": "markdown",
   "metadata": {},
   "source": [
    "___\n",
    "<font color = \"red\">Exercise</font> <br><br>\n",
    "\n",
    "Explain the following code:\n"
   ]
  },
  {
   "cell_type": "code",
   "execution_count": 5,
   "metadata": {
    "tags": []
   },
   "outputs": [
    {
     "data": {
      "text/plain": [
       "83"
      ]
     },
     "execution_count": 5,
     "metadata": {},
     "output_type": "execute_result"
    }
   ],
   "source": [
    "int(str(10)+\"2\")+True-(20<=70 and 5>2)*20"
   ]
  },
  {
   "cell_type": "code",
   "execution_count": 6,
   "metadata": {},
   "outputs": [],
   "source": [
    "##### # Solution:</b>\n",
    "\n",
    "##### Start with the first simple part of the expression and \n",
    "##### then build to the whole expression step by step\n",
    "\n",
    "\n",
    "\n"
   ]
  },
  {
   "cell_type": "markdown",
   "metadata": {
    "tags": []
   },
   "source": [
    "#Solution\n",
    "\n",
    "See below the breakdown of the code and here is the description of what the code does:\n",
    "\n",
    "It transforms the number 10 into a string and concatenates the string 2 to it which results in the string \"102\", which is then transformed into a number: 102. To the resulting number True is added. Because this is an addition (int) operation and bool is a subset of int (True is 1) there will be an int addition resulting in 102 + 1 which is 103. Then the result of a comparison multiplied by 20 is substracted from 103. The result of the comparison is True because the number 20 is lower or equal to the number 70 and the number 5 is greater than 2. Because this is an multiplication (int) operation and bool is a subset of int (True is 1) there will be an int multiplication resulting in 1 * 20 which is 20. So the final result is 103 -20 which is 83.\n",
    "\n",
    "##### -- click on this text to edit this markdown cell  ---"
   ]
  },
  {
   "cell_type": "code",
   "execution_count": 7,
   "metadata": {},
   "outputs": [
    {
     "data": {
      "text/plain": [
       "'10'"
      ]
     },
     "execution_count": 7,
     "metadata": {},
     "output_type": "execute_result"
    }
   ],
   "source": [
    "str(10)"
   ]
  },
  {
   "cell_type": "code",
   "execution_count": 8,
   "metadata": {},
   "outputs": [
    {
     "data": {
      "text/plain": [
       "'102'"
      ]
     },
     "execution_count": 8,
     "metadata": {},
     "output_type": "execute_result"
    }
   ],
   "source": [
    "str(10)+\"2\""
   ]
  },
  {
   "cell_type": "code",
   "execution_count": 9,
   "metadata": {},
   "outputs": [
    {
     "data": {
      "text/plain": [
       "102"
      ]
     },
     "execution_count": 9,
     "metadata": {},
     "output_type": "execute_result"
    }
   ],
   "source": [
    "int(str(10)+\"2\")"
   ]
  },
  {
   "cell_type": "code",
   "execution_count": 10,
   "metadata": {},
   "outputs": [
    {
     "data": {
      "text/plain": [
       "True"
      ]
     },
     "execution_count": 10,
     "metadata": {},
     "output_type": "execute_result"
    }
   ],
   "source": [
    "True == 1"
   ]
  },
  {
   "cell_type": "code",
   "execution_count": 11,
   "metadata": {},
   "outputs": [
    {
     "data": {
      "text/plain": [
       "83"
      ]
     },
     "execution_count": 11,
     "metadata": {},
     "output_type": "execute_result"
    }
   ],
   "source": [
    "int(str(10)+\"2\")+True-(20<=70 and 5>2)*20"
   ]
  },
  {
   "cell_type": "code",
   "execution_count": 12,
   "metadata": {},
   "outputs": [
    {
     "data": {
      "text/plain": [
       "True"
      ]
     },
     "execution_count": 12,
     "metadata": {},
     "output_type": "execute_result"
    }
   ],
   "source": [
    "(20<=70 and 5>2)"
   ]
  },
  {
   "cell_type": "code",
   "execution_count": 13,
   "metadata": {
    "tags": []
   },
   "outputs": [
    {
     "data": {
      "text/plain": [
       "20"
      ]
     },
     "execution_count": 13,
     "metadata": {},
     "output_type": "execute_result"
    }
   ],
   "source": [
    "(20<=70 and 5>2)*20"
   ]
  },
  {
   "cell_type": "code",
   "execution_count": null,
   "metadata": {},
   "outputs": [],
   "source": []
  },
  {
   "cell_type": "markdown",
   "metadata": {},
   "source": [
    "___\n",
    "\n",
    "<font color = \"red\">Exercise</font> <br>\n",
    "\n",
    "Compute the number of tri-peptides that you can create using the follwing 5 amino acids. That is all combinations of 3 amino acids outof the given 5 where the order matters.\n",
    "\n",
    "The `perm` function from the math module can help with that.\n",
    "\n",
    "You can import only the function an use it directly:\n",
    "\n",
    "```python\n",
    "from math import perm\n",
    "perm(n,k)\n",
    "```\n",
    "\n",
    "Or you can import the module and the call the function using the module name and the dot notation:\n",
    "\n",
    "```python\n",
    "import math\n",
    "math.perm(n,k)\n",
    "```\n",
    "\n",
    "aa_list = ['D', 'E' , 'K' , 'R', 'H' ,'N']\n",
    "\n",
    "<img src = https://labster-image-manager.s3.amazonaws.com/v2/PSL/053389c7-1738-464e-a13c-f68e79268fa2/PSL_Amino_acid_list.en.png width = 450 />\n",
    "\n",
    "https://theory.labster.com/list-amino-acids/\n"
   ]
  },
  {
   "cell_type": "code",
   "execution_count": 14,
   "metadata": {
    "tags": []
   },
   "outputs": [],
   "source": [
    "# Solution\n",
    "\n"
   ]
  },
  {
   "cell_type": "code",
   "execution_count": 15,
   "metadata": {},
   "outputs": [
    {
     "name": "stdout",
     "output_type": "stream",
     "text": [
      "Variable   Type    Data/Info\n",
      "----------------------------\n",
      "large_no   int     784512346\n"
     ]
    }
   ],
   "source": [
    "# check the environment\n",
    "%whos"
   ]
  },
  {
   "cell_type": "code",
   "execution_count": 16,
   "metadata": {},
   "outputs": [],
   "source": [
    "# bring the math functions into the environment \n",
    "\n",
    "import math"
   ]
  },
  {
   "cell_type": "code",
   "execution_count": 17,
   "metadata": {},
   "outputs": [
    {
     "name": "stdout",
     "output_type": "stream",
     "text": [
      "Variable   Type      Data/Info\n",
      "------------------------------\n",
      "large_no   int       784512346\n",
      "math       module    <module 'math' from '/Use<...>th.cpython-39-darwin.so'>\n"
     ]
    }
   ],
   "source": [
    "# check the environment - see the math module \n",
    "# if you only import the function you will only see the function you impported\n",
    "\n",
    "%whos"
   ]
  },
  {
   "cell_type": "code",
   "execution_count": 18,
   "metadata": {},
   "outputs": [],
   "source": [
    "# set the amino acids list in a variable\n",
    "\n",
    "aa_list = ['D', 'E' , 'K' , 'R', 'H' ,'N']"
   ]
  },
  {
   "cell_type": "code",
   "execution_count": 19,
   "metadata": {},
   "outputs": [
    {
     "data": {
      "text/plain": [
       "120"
      ]
     },
     "execution_count": 19,
     "metadata": {},
     "output_type": "execute_result"
    }
   ],
   "source": [
    "math.perm(6,3)"
   ]
  },
  {
   "cell_type": "code",
   "execution_count": null,
   "metadata": {},
   "outputs": [],
   "source": []
  },
  {
   "cell_type": "markdown",
   "metadata": {},
   "source": [
    "___\n",
    "\n",
    "<font color = \"red\">Exercise</font> <br>\n",
    "\n",
    "Display the tri-peptides that you can create using the follwing 5 amino acids. That is all combination of 3 amino acids outof the given 5 where the order matters.\n",
    "\n",
    "The `permutations` function from the `itertools` module can help with that.    \n",
    "Check the documentation using the help function or using ? or ?? after the name of the function. \n",
    "\n",
    "\n"
   ]
  },
  {
   "cell_type": "code",
   "execution_count": 20,
   "metadata": {
    "tags": []
   },
   "outputs": [],
   "source": [
    "# Solution\n",
    "\n"
   ]
  },
  {
   "cell_type": "code",
   "execution_count": 21,
   "metadata": {},
   "outputs": [],
   "source": [
    "# bring the itertools functions into the environment \n",
    "import itertools"
   ]
  },
  {
   "cell_type": "code",
   "execution_count": 22,
   "metadata": {},
   "outputs": [
    {
     "name": "stdout",
     "output_type": "stream",
     "text": [
      "Variable    Type      Data/Info\n",
      "-------------------------------\n",
      "aa_list     list      n=6\n",
      "itertools   module    <module 'itertools' (built-in)>\n",
      "large_no    int       784512346\n",
      "math        module    <module 'math' from '/Use<...>th.cpython-39-darwin.so'>\n"
     ]
    }
   ],
   "source": [
    "%whos"
   ]
  },
  {
   "cell_type": "code",
   "execution_count": 23,
   "metadata": {
    "tags": []
   },
   "outputs": [
    {
     "data": {
      "text/plain": [
       "[('D', 'E', 'K'),\n",
       " ('D', 'E', 'R'),\n",
       " ('D', 'E', 'H'),\n",
       " ('D', 'E', 'N'),\n",
       " ('D', 'K', 'E'),\n",
       " ('D', 'K', 'R'),\n",
       " ('D', 'K', 'H'),\n",
       " ('D', 'K', 'N'),\n",
       " ('D', 'R', 'E'),\n",
       " ('D', 'R', 'K'),\n",
       " ('D', 'R', 'H'),\n",
       " ('D', 'R', 'N'),\n",
       " ('D', 'H', 'E'),\n",
       " ('D', 'H', 'K'),\n",
       " ('D', 'H', 'R'),\n",
       " ('D', 'H', 'N'),\n",
       " ('D', 'N', 'E'),\n",
       " ('D', 'N', 'K'),\n",
       " ('D', 'N', 'R'),\n",
       " ('D', 'N', 'H'),\n",
       " ('E', 'D', 'K'),\n",
       " ('E', 'D', 'R'),\n",
       " ('E', 'D', 'H'),\n",
       " ('E', 'D', 'N'),\n",
       " ('E', 'K', 'D'),\n",
       " ('E', 'K', 'R'),\n",
       " ('E', 'K', 'H'),\n",
       " ('E', 'K', 'N'),\n",
       " ('E', 'R', 'D'),\n",
       " ('E', 'R', 'K'),\n",
       " ('E', 'R', 'H'),\n",
       " ('E', 'R', 'N'),\n",
       " ('E', 'H', 'D'),\n",
       " ('E', 'H', 'K'),\n",
       " ('E', 'H', 'R'),\n",
       " ('E', 'H', 'N'),\n",
       " ('E', 'N', 'D'),\n",
       " ('E', 'N', 'K'),\n",
       " ('E', 'N', 'R'),\n",
       " ('E', 'N', 'H'),\n",
       " ('K', 'D', 'E'),\n",
       " ('K', 'D', 'R'),\n",
       " ('K', 'D', 'H'),\n",
       " ('K', 'D', 'N'),\n",
       " ('K', 'E', 'D'),\n",
       " ('K', 'E', 'R'),\n",
       " ('K', 'E', 'H'),\n",
       " ('K', 'E', 'N'),\n",
       " ('K', 'R', 'D'),\n",
       " ('K', 'R', 'E'),\n",
       " ('K', 'R', 'H'),\n",
       " ('K', 'R', 'N'),\n",
       " ('K', 'H', 'D'),\n",
       " ('K', 'H', 'E'),\n",
       " ('K', 'H', 'R'),\n",
       " ('K', 'H', 'N'),\n",
       " ('K', 'N', 'D'),\n",
       " ('K', 'N', 'E'),\n",
       " ('K', 'N', 'R'),\n",
       " ('K', 'N', 'H'),\n",
       " ('R', 'D', 'E'),\n",
       " ('R', 'D', 'K'),\n",
       " ('R', 'D', 'H'),\n",
       " ('R', 'D', 'N'),\n",
       " ('R', 'E', 'D'),\n",
       " ('R', 'E', 'K'),\n",
       " ('R', 'E', 'H'),\n",
       " ('R', 'E', 'N'),\n",
       " ('R', 'K', 'D'),\n",
       " ('R', 'K', 'E'),\n",
       " ('R', 'K', 'H'),\n",
       " ('R', 'K', 'N'),\n",
       " ('R', 'H', 'D'),\n",
       " ('R', 'H', 'E'),\n",
       " ('R', 'H', 'K'),\n",
       " ('R', 'H', 'N'),\n",
       " ('R', 'N', 'D'),\n",
       " ('R', 'N', 'E'),\n",
       " ('R', 'N', 'K'),\n",
       " ('R', 'N', 'H'),\n",
       " ('H', 'D', 'E'),\n",
       " ('H', 'D', 'K'),\n",
       " ('H', 'D', 'R'),\n",
       " ('H', 'D', 'N'),\n",
       " ('H', 'E', 'D'),\n",
       " ('H', 'E', 'K'),\n",
       " ('H', 'E', 'R'),\n",
       " ('H', 'E', 'N'),\n",
       " ('H', 'K', 'D'),\n",
       " ('H', 'K', 'E'),\n",
       " ('H', 'K', 'R'),\n",
       " ('H', 'K', 'N'),\n",
       " ('H', 'R', 'D'),\n",
       " ('H', 'R', 'E'),\n",
       " ('H', 'R', 'K'),\n",
       " ('H', 'R', 'N'),\n",
       " ('H', 'N', 'D'),\n",
       " ('H', 'N', 'E'),\n",
       " ('H', 'N', 'K'),\n",
       " ('H', 'N', 'R'),\n",
       " ('N', 'D', 'E'),\n",
       " ('N', 'D', 'K'),\n",
       " ('N', 'D', 'R'),\n",
       " ('N', 'D', 'H'),\n",
       " ('N', 'E', 'D'),\n",
       " ('N', 'E', 'K'),\n",
       " ('N', 'E', 'R'),\n",
       " ('N', 'E', 'H'),\n",
       " ('N', 'K', 'D'),\n",
       " ('N', 'K', 'E'),\n",
       " ('N', 'K', 'R'),\n",
       " ('N', 'K', 'H'),\n",
       " ('N', 'R', 'D'),\n",
       " ('N', 'R', 'E'),\n",
       " ('N', 'R', 'K'),\n",
       " ('N', 'R', 'H'),\n",
       " ('N', 'H', 'D'),\n",
       " ('N', 'H', 'E'),\n",
       " ('N', 'H', 'K'),\n",
       " ('N', 'H', 'R')]"
      ]
     },
     "execution_count": 23,
     "metadata": {},
     "output_type": "execute_result"
    }
   ],
   "source": [
    "# create the permutations list using the itertools.permutations function\n",
    "# we provide the sequence to get the elements from and \n",
    "# how many elements to take at once\n",
    "# the result is a lzy-loading object (generator) \n",
    "# it does not provide the values until asked for\n",
    "# we use the list function to force the object to retrieve the values\n",
    "# we see the result is a list of tuples of three elements\n",
    "\n",
    "res = itertools.permutations(aa_list, 3)\n",
    "perm_list = list(res)\n",
    "perm_list"
   ]
  },
  {
   "cell_type": "code",
   "execution_count": 24,
   "metadata": {},
   "outputs": [
    {
     "data": {
      "text/plain": [
       "[]"
      ]
     },
     "execution_count": 24,
     "metadata": {},
     "output_type": "execute_result"
    }
   ],
   "source": [
    "# once the iterable (generator) is used by calling list on it you have to recreate it otherwose is empty\n",
    "list(res)\n"
   ]
  },
  {
   "cell_type": "code",
   "execution_count": null,
   "metadata": {},
   "outputs": [],
   "source": []
  },
  {
   "cell_type": "markdown",
   "metadata": {},
   "source": [
    "___\n",
    "\n",
    "<font color = \"red\">Exercise</font> <br>\n",
    "\n",
    "Create a short list of tri-peptides containing only the first 10 of the tri-peptides from the list you created in the previous exercise.     \n",
    "Store in variables `D, E, R` how many time each amino acid appears in that list.    \n",
    "Create a an empty frequencies list and add the frequencies to it. Frequency here is computed as the ratio between the number of occurences of the amino acid and the total number of tri-peptides in the short list.\n",
    "Compute the minimum frequency.\n",
    "\n",
    "\n",
    "\n"
   ]
  },
  {
   "cell_type": "code",
   "execution_count": 25,
   "metadata": {
    "tags": []
   },
   "outputs": [],
   "source": [
    "# Solution\n",
    "\n"
   ]
  },
  {
   "cell_type": "code",
   "execution_count": 26,
   "metadata": {},
   "outputs": [
    {
     "data": {
      "text/plain": [
       "120"
      ]
     },
     "execution_count": 26,
     "metadata": {},
     "output_type": "execute_result"
    }
   ],
   "source": [
    "# check the length of the tri-peptides list\n",
    "\n",
    "len(perm_list)"
   ]
  },
  {
   "cell_type": "code",
   "execution_count": 27,
   "metadata": {},
   "outputs": [],
   "source": [
    "# Create a short list of tri-peptides containing only the first 10 the tri-peptides \n",
    "# from the list you created in the previous exercise.  \n",
    "# we use subsetting to get the first 10 elements \n",
    "# [:10] - retrieve elements starting from the beginning until stop index 10 - not included \n",
    "# indices start from 0\n",
    "# we store the length of the short list in a variable to be used later for computing frequencies\n",
    "\n",
    "short_perm_list = perm_list[:10]\n",
    "n = len(short_perm_list)\n"
   ]
  },
  {
   "cell_type": "code",
   "execution_count": 28,
   "metadata": {},
   "outputs": [
    {
     "data": {
      "text/plain": [
       "[('D', 'E', 'K'),\n",
       " ('D', 'E', 'R'),\n",
       " ('D', 'E', 'H'),\n",
       " ('D', 'E', 'N'),\n",
       " ('D', 'K', 'E'),\n",
       " ('D', 'K', 'R'),\n",
       " ('D', 'K', 'H'),\n",
       " ('D', 'K', 'N'),\n",
       " ('D', 'R', 'E'),\n",
       " ('D', 'R', 'K')]"
      ]
     },
     "execution_count": 28,
     "metadata": {},
     "output_type": "execute_result"
    }
   ],
   "source": [
    "short_perm_list"
   ]
  },
  {
   "cell_type": "code",
   "execution_count": 29,
   "metadata": {},
   "outputs": [
    {
     "data": {
      "text/plain": [
       "10"
      ]
     },
     "execution_count": 29,
     "metadata": {},
     "output_type": "execute_result"
    }
   ],
   "source": [
    "n"
   ]
  },
  {
   "cell_type": "code",
   "execution_count": 30,
   "metadata": {},
   "outputs": [],
   "source": [
    "# Store in variables `D, E, R` how many time each amino acid appears in that list.    \n",
    "\n",
    "# We visually inspect the short list and count the number of times D, E and R appear\n",
    "\n",
    "D = 10\n",
    "E = 6\n",
    "R = 4\n"
   ]
  },
  {
   "cell_type": "code",
   "execution_count": 31,
   "metadata": {},
   "outputs": [
    {
     "data": {
      "text/plain": [
       "[1.0, 0.6, 0.4]"
      ]
     },
     "execution_count": 31,
     "metadata": {},
     "output_type": "execute_result"
    }
   ],
   "source": [
    "# Create a an empty frequencies list and add the frequencies to it.\n",
    "# Frequency here is computed as the ratio between the number of occurences of \n",
    "# the amino acid and the total number of tri-peptides in the short list.\n",
    "\n",
    "# create empty list\n",
    "frequencies = []\n",
    "\n",
    "# add each element using the append method of the list\n",
    "# if we also multiply by 100 we get the percentage\n",
    "frequencies.append(D/n)\n",
    "frequencies.append(E/n)\n",
    "frequencies.append(R/n)\n",
    "\n",
    "# display list content\n",
    "frequencies"
   ]
  },
  {
   "cell_type": "code",
   "execution_count": 32,
   "metadata": {},
   "outputs": [
    {
     "data": {
      "text/plain": [
       "[1.0, 0.6, 0.4]"
      ]
     },
     "execution_count": 32,
     "metadata": {},
     "output_type": "execute_result"
    }
   ],
   "source": [
    "# the above frequency list computation can also be done using \n",
    "\n",
    "frequencies = [D/n, E/n, R/n]\n",
    "frequencies\n"
   ]
  },
  {
   "cell_type": "code",
   "execution_count": null,
   "metadata": {},
   "outputs": [],
   "source": []
  },
  {
   "cell_type": "markdown",
   "metadata": {},
   "source": [
    "___\n",
    "\n",
    "<font color = \"red\">Exercise</font> <br>\n",
    "\n",
    "a) Count the number of sentences in the following text from a news article in Science (science.org):   \n",
    "https://www.science.org/content/article/jumping-gene-may-have-erased-tails-humans-and-other-apes-and-boosted-our-risk-birth-defects\n",
    "\n",
    "```\n",
    "Mammals from mice to monkeys have tails. But humans and our cousins the great apes lack them. Now, researchers may have unearthed a simple genetic change that led to our abbreviated back end: an itinerant piece of DNA that leapt into a new chromosomal home and changed how great apes make a key developmental protein. The finding also suggests the genetic shift came with a less visible and more dangerous effect: a higher risk of birth defects involving the developing spinal cord.\n",
    "```\n"
   ]
  },
  {
   "cell_type": "code",
   "execution_count": 33,
   "metadata": {},
   "outputs": [],
   "source": [
    "# Solution \n",
    "\n"
   ]
  },
  {
   "cell_type": "code",
   "execution_count": 34,
   "metadata": {},
   "outputs": [
    {
     "data": {
      "text/plain": [
       "'Mammals from mice to monkeys have tails. But humans and our cousins the great apes lack them. Now, researchers may have unearthed a simple genetic change that led to our abbreviated back end: an itinerant piece of DNA that leapt into a new chromosomal home and changed how great apes make a key developmental protein. The finding also suggests the genetic shift came with a less visible and more dangerous effect: a higher risk of birth defects involving the developing spinal cord.'"
      ]
     },
     "execution_count": 34,
     "metadata": {},
     "output_type": "execute_result"
    }
   ],
   "source": [
    "# save the text of the news in a variable\n",
    "news_text = \"Mammals from mice to monkeys have tails. But humans and our cousins the great apes lack them. Now, researchers may have unearthed a simple genetic change that led to our abbreviated back end: an itinerant piece of DNA that leapt into a new chromosomal home and changed how great apes make a key developmental protein. The finding also suggests the genetic shift came with a less visible and more dangerous effect: a higher risk of birth defects involving the developing spinal cord.\"\n",
    "news_text"
   ]
  },
  {
   "cell_type": "code",
   "execution_count": 35,
   "metadata": {},
   "outputs": [
    {
     "data": {
      "text/plain": [
       "4"
      ]
     },
     "execution_count": 35,
     "metadata": {},
     "output_type": "execute_result"
    }
   ],
   "source": [
    "# sentences and in . so we count the dots to find out how many sentences we have\n",
    "\n",
    "news_text.count(\".\")\n"
   ]
  },
  {
   "cell_type": "code",
   "execution_count": 36,
   "metadata": {},
   "outputs": [
    {
     "data": {
      "text/plain": [
       "4"
      ]
     },
     "execution_count": 36,
     "metadata": {},
     "output_type": "execute_result"
    }
   ],
   "source": [
    "# a more comprehensive approach would be to also count the !, ? and other characters that end a sentence \n",
    "\n",
    "news_text.count(\".\") + news_text.count(\"!\") + news_text.count(\"?\")\n"
   ]
  },
  {
   "cell_type": "code",
   "execution_count": null,
   "metadata": {},
   "outputs": [],
   "source": []
  },
  {
   "cell_type": "markdown",
   "metadata": {},
   "source": [
    "<font color = \"red\">Exercise</font> <br> \n",
    "\n",
    "b) Compute the averave length of a sentence\n"
   ]
  },
  {
   "cell_type": "code",
   "execution_count": 37,
   "metadata": {},
   "outputs": [],
   "source": [
    "# Solution\n",
    "\n",
    "\n"
   ]
  },
  {
   "cell_type": "code",
   "execution_count": 38,
   "metadata": {},
   "outputs": [
    {
     "data": {
      "text/plain": [
       "20.5"
      ]
     },
     "execution_count": 38,
     "metadata": {},
     "output_type": "execute_result"
    }
   ],
   "source": [
    "# the length of a sentence is the number of words\n",
    "# the average length is the sum of total lengths divided by the number of sentences\n",
    "# the sum of total sentence lengths is the number of words in the whole text\n",
    "# so we need to compute the total number of words, and divide by the number of sentences computed above\n",
    "\n",
    "# words are delimited by space so counting spaces will count the words\n",
    "# we need to add 1 since the last word in the paragraph will not have a space after it\n",
    "# however the last word does not have a space after it so we need to add one to get the number of words\n",
    "\n",
    "(news_text.count(\" \") + 1)/news_text.count(\".\")\n",
    "\n"
   ]
  },
  {
   "cell_type": "code",
   "execution_count": 39,
   "metadata": {},
   "outputs": [
    {
     "data": {
      "text/plain": [
       "20.5"
      ]
     },
     "execution_count": 39,
     "metadata": {},
     "output_type": "execute_result"
    }
   ],
   "source": [
    "# we can use different variables to make the code more readable\n",
    "\n",
    "word_count = news_text.count(\" \") + 1\n",
    "sentence_count = news_text.count(\".\")\n",
    "\n",
    "average_sentence_length = word_count/sentence_count\n",
    "average_sentence_length"
   ]
  },
  {
   "cell_type": "code",
   "execution_count": 40,
   "metadata": {},
   "outputs": [],
   "source": [
    "## We can use the floor division to get a whole number - we don't have half-words"
   ]
  },
  {
   "cell_type": "code",
   "execution_count": 41,
   "metadata": {},
   "outputs": [
    {
     "data": {
      "text/plain": [
       "20"
      ]
     },
     "execution_count": 41,
     "metadata": {},
     "output_type": "execute_result"
    }
   ],
   "source": [
    "average_sentence_length = word_count//sentence_count\n",
    "average_sentence_length"
   ]
  },
  {
   "cell_type": "code",
   "execution_count": null,
   "metadata": {},
   "outputs": [],
   "source": []
  },
  {
   "cell_type": "markdown",
   "metadata": {},
   "source": [
    "___\n",
    "<font color = \"red\">Exercise</font> <br><br>\n",
    "\n",
    "Explain the following code:\n",
    "\n",
    "```python\n",
    "paragraph = \"Mammals from mice to monkeys have tails. But humans and our cousins the great apes lack them. Now, researchers may have unearthed a simple genetic change that led to our abbreviated back end: an itinerant piece of DNA that leapt into a new chromosomal home and changed how great apes make a key developmental protein. The finding also suggests the genetic shift came with a less visible and more dangerous effect: a higher risk of birth defects involving the developing spinal cord.\"\n",
    "print(paragraph.count(\"the\") > paragraph.upper().count(\"THE\"))\n",
    "print(paragraph.count(\"the \") < paragraph.count(\"the\"))\n",
    "print((paragraph.count(\"the\")-paragraph.count(\"the \")) * \"the \")\n",
    "print()\n",
    "print(3* \" \" + 3 * \"-\" + \" \" + paragraph[:7] + \" \" + paragraph[29:41] + 3 * \"-\" + \"\\n\" +\\\n",
    "        3 * \"-\" + \" \" + paragraph[68:93].capitalize() +  \" \" + 3 * \"-\")\n",
    "\n",
    "```\n"
   ]
  },
  {
   "cell_type": "code",
   "execution_count": 42,
   "metadata": {},
   "outputs": [],
   "source": [
    "##### # Solution:</b>\n",
    "\n",
    "##### Start with the first simple part of the expression and \n",
    "##### then build to the whole expression step by step\n",
    "\n",
    "\n",
    "\n"
   ]
  },
  {
   "cell_type": "code",
   "execution_count": 43,
   "metadata": {},
   "outputs": [
    {
     "name": "stdout",
     "output_type": "stream",
     "text": [
      "False\n",
      "True\n",
      "the the \n",
      "\n",
      "   --- Mammals have tails. ---\n",
      "--- The great apes lack them. ---\n"
     ]
    }
   ],
   "source": [
    "## put the code in a code cell and run it\n",
    "\n",
    "paragraph = \"Mammals from mice to monkeys have tails. But humans and our cousins the great apes lack them. Now, researchers may have unearthed a simple genetic change that led to our abbreviated back end: an itinerant piece of DNA that leapt into a new chromosomal home and changed how great apes make a key developmental protein. The finding also suggests the genetic shift came with a less visible and more dangerous effect: a higher risk of birth defects involving the developing spinal cord.\"\n",
    "print(paragraph.count(\"the\") > paragraph.upper().count(\"THE\"))\n",
    "print(paragraph.count(\"the \") < paragraph.count(\"the\"))\n",
    "print((paragraph.count(\"the\")-paragraph.count(\"the \")) * \"the \")\n",
    "print()\n",
    "print(3* \" \" + 3 * \"-\" + \" \" + paragraph[:7] + \" \" + paragraph[29:41] + 3 * \"-\" + \"\\n\" +\\\n",
    "        3 * \"-\" + \" \" + paragraph[68:93].capitalize() +  \" \" + 3 * \"-\")\n"
   ]
  },
  {
   "cell_type": "code",
   "execution_count": null,
   "metadata": {},
   "outputs": [],
   "source": []
  },
  {
   "cell_type": "markdown",
   "metadata": {
    "tags": []
   },
   "source": [
    "##### # Solution:</b>\n",
    "\n",
    "See below the breakdown of the code and here is the description of what the code does:\n",
    "\n",
    "This code looks at the occurence of \"the\" with different case for the letters and as an independent word or as part of other words.\n",
    "It also simulates a centred layout of two sentences built from parts of the paragraph text.\n",
    "\n",
    "On the first line of code the variable paragraph is set to the text of a paragraph from a Science news article.\n",
    "On each of the next 5 lines the result of an expression is displayed using the print function.\n",
    "\n",
    "Line 2: the expression is a condition that checks if the number of \"the\" occurences using a case-sensitive (T and t are different) match is greater than the number of \"the\" occurences when the match is case-insensitive (T and t are the same). It performs the case-sensitive match by searching for the upper-case transformed text in the upper-case transformed paragraph. The result is False, which means that there are some occurence of the \"the\" text where at least some of the letters are uppercase.\n",
    "* Keep in mind that some words do end in the e.g: breathe so we may want a space before the as well, but not if it the first word in a paragraph. Also, there can be a . or a , or other separators after the word the not only space.\n",
    "\n",
    "Line 3: the expression is a condition that checks if the number of \"the \" (has a space at the end) occurences is lower than the number of \"the\" occurences (both are using a case-sensitive match). The result is True, which means that there are some occurence of the \"the\" text where it is not an independent word (space sparated) but is part of another word.\n",
    "\n",
    "Line 4: the expression computes the difference between the times \"the\" (total occurences) occurs and \"the \" (independent word) occurs. It then multiplies that number with \"the \" which repeats that text that number of times.\n",
    "The result shows \"the the \" which means \"the\" occurs twice as part of another word (look in the text for: them and unearthed).\n",
    "* The result of a multiplication between int and string that results in the repetition of the string as many times as the int value is. \n",
    "\n",
    "Line 5: there is no expression - it just prints - which prints which moves the cursor to a newline\n",
    "\n",
    "Line 6: Creates a centered display, created by adding spaces, of two sentences enclosed in a set of 3 dashes. A new line character is added so the second sentence is diplayed on the next line.\n",
    "Specifically: we concatenate the following strings: \n",
    "- 3 spaces, created by multiplying 3 and space to repeat the space character 3 times\n",
    "- 3 dashes, created by multiplying 3 and dash to repeat the dash character 3 times\n",
    "- another space\n",
    "- the first 7 characters in the paragraph: \"Mammals\"\n",
    "- another space\n",
    "- the characters from index 29 to index 40 (0-based index) in the paragraph \"have tails. \"\n",
    "- 3 dashes, created by multiplying 3 and dash to repeat the dash character 3 times\n",
    "- a new line character: \"\\n\"\n",
    "- 3 dashes, created by multiplying 3 and dash to repeat the dash character 3 times\n",
    "- another space\n",
    "- the characters from index 68 to index 92 (0-based index) in the paragraph \"the great apes lack them.\"\n",
    "    - capitalize the text using the capitalize() string method resulting in: \"The great apes lack them.\"\n",
    "- another space\n",
    "- 3 dashes, created by multiplying 3 and dash to repeat the dash character 3 times\n",
    "\n",
    "\n",
    "\n",
    "##### -- click on this text to edit this markdown cell ---"
   ]
  },
  {
   "cell_type": "code",
   "execution_count": 44,
   "metadata": {},
   "outputs": [
    {
     "data": {
      "text/plain": [
       "'Mammals from mice to monkeys have tails. But humans and our cousins the great apes lack them. Now, researchers may have unearthed a simple genetic change that led to our abbreviated back end: an itinerant piece of DNA that leapt into a new chromosomal home and changed how great apes make a key developmental protein. The finding also suggests the genetic shift came with a less visible and more dangerous effect: a higher risk of birth defects involving the developing spinal cord.'"
      ]
     },
     "execution_count": 44,
     "metadata": {},
     "output_type": "execute_result"
    }
   ],
   "source": [
    "paragraph = \"Mammals from mice to monkeys have tails. But humans and our cousins the great apes lack them. Now, researchers may have unearthed a simple genetic change that led to our abbreviated back end: an itinerant piece of DNA that leapt into a new chromosomal home and changed how great apes make a key developmental protein. The finding also suggests the genetic shift came with a less visible and more dangerous effect: a higher risk of birth defects involving the developing spinal cord.\"\n",
    "paragraph"
   ]
  },
  {
   "cell_type": "code",
   "execution_count": 45,
   "metadata": {},
   "outputs": [
    {
     "data": {
      "text/plain": [
       "'MAMMALS FROM MICE TO MONKEYS HAVE TAILS. BUT HUMANS AND OUR COUSINS THE GREAT APES LACK THEM. NOW, RESEARCHERS MAY HAVE UNEARTHED A SIMPLE GENETIC CHANGE THAT LED TO OUR ABBREVIATED BACK END: AN ITINERANT PIECE OF DNA THAT LEAPT INTO A NEW CHROMOSOMAL HOME AND CHANGED HOW GREAT APES MAKE A KEY DEVELOPMENTAL PROTEIN. THE FINDING ALSO SUGGESTS THE GENETIC SHIFT CAME WITH A LESS VISIBLE AND MORE DANGEROUS EFFECT: A HIGHER RISK OF BIRTH DEFECTS INVOLVING THE DEVELOPING SPINAL CORD.'"
      ]
     },
     "execution_count": 45,
     "metadata": {},
     "output_type": "execute_result"
    }
   ],
   "source": [
    "paragraph.upper()"
   ]
  },
  {
   "cell_type": "code",
   "execution_count": 46,
   "metadata": {},
   "outputs": [
    {
     "data": {
      "text/plain": [
       "5"
      ]
     },
     "execution_count": 46,
     "metadata": {},
     "output_type": "execute_result"
    }
   ],
   "source": [
    "paragraph.count(\"the\")"
   ]
  },
  {
   "cell_type": "code",
   "execution_count": 47,
   "metadata": {},
   "outputs": [
    {
     "name": "stdout",
     "output_type": "stream",
     "text": [
      "False\n"
     ]
    }
   ],
   "source": [
    "print(paragraph.count(\"the\") > paragraph.upper().count(\"THE\"))\n"
   ]
  },
  {
   "cell_type": "code",
   "execution_count": 48,
   "metadata": {},
   "outputs": [
    {
     "name": "stdout",
     "output_type": "stream",
     "text": [
      "True\n"
     ]
    }
   ],
   "source": [
    "print(paragraph.count(\"the \") < paragraph.count(\"the\"))\n"
   ]
  },
  {
   "cell_type": "code",
   "execution_count": 49,
   "metadata": {},
   "outputs": [
    {
     "data": {
      "text/plain": [
       "2"
      ]
     },
     "execution_count": 49,
     "metadata": {},
     "output_type": "execute_result"
    }
   ],
   "source": [
    "paragraph.count(\"the\")-paragraph.count(\"the \")"
   ]
  },
  {
   "cell_type": "code",
   "execution_count": 50,
   "metadata": {},
   "outputs": [
    {
     "data": {
      "text/plain": [
       "'the the '"
      ]
     },
     "execution_count": 50,
     "metadata": {},
     "output_type": "execute_result"
    }
   ],
   "source": [
    "2 * \"the \""
   ]
  },
  {
   "cell_type": "code",
   "execution_count": 51,
   "metadata": {},
   "outputs": [
    {
     "name": "stdout",
     "output_type": "stream",
     "text": [
      "   --- Mammals have tails. ---\n",
      "--- The great apes lack them. ---\n"
     ]
    }
   ],
   "source": [
    "print(3* \" \" + 3 * \"-\" + \" \" + paragraph[:7] + \" \" + paragraph[29:41] + 3 * \"-\" + \"\\n\" +\\\n",
    "        3 * \"-\" + \" \" + paragraph[68:93].capitalize() +  \" \" + 3 * \"-\")\n",
    "\n"
   ]
  },
  {
   "cell_type": "code",
   "execution_count": 52,
   "metadata": {},
   "outputs": [
    {
     "data": {
      "text/plain": [
       "'Mammals'"
      ]
     },
     "execution_count": 52,
     "metadata": {},
     "output_type": "execute_result"
    }
   ],
   "source": [
    "paragraph[:7]"
   ]
  },
  {
   "cell_type": "code",
   "execution_count": 53,
   "metadata": {},
   "outputs": [
    {
     "data": {
      "text/plain": [
       "'have tails. '"
      ]
     },
     "execution_count": 53,
     "metadata": {},
     "output_type": "execute_result"
    }
   ],
   "source": [
    "paragraph[29:41]"
   ]
  },
  {
   "cell_type": "code",
   "execution_count": 54,
   "metadata": {},
   "outputs": [
    {
     "data": {
      "text/plain": [
       "'the great apes lack them.'"
      ]
     },
     "execution_count": 54,
     "metadata": {},
     "output_type": "execute_result"
    }
   ],
   "source": [
    "paragraph[68:93]"
   ]
  },
  {
   "cell_type": "code",
   "execution_count": 55,
   "metadata": {},
   "outputs": [
    {
     "data": {
      "text/plain": [
       "'The great apes lack them.'"
      ]
     },
     "execution_count": 55,
     "metadata": {},
     "output_type": "execute_result"
    }
   ],
   "source": [
    "paragraph[68:93].capitalize()"
   ]
  },
  {
   "cell_type": "code",
   "execution_count": 56,
   "metadata": {},
   "outputs": [
    {
     "data": {
      "text/plain": [
       "'   --- Mammals\\non the new line'"
      ]
     },
     "execution_count": 56,
     "metadata": {},
     "output_type": "execute_result"
    }
   ],
   "source": [
    "text_test = 3* \" \" + 3 * \"-\" + \" \" + paragraph[:7] + \"\\n\" + \"on the new line\"\n",
    "text_test"
   ]
  },
  {
   "cell_type": "code",
   "execution_count": 57,
   "metadata": {},
   "outputs": [
    {
     "name": "stdout",
     "output_type": "stream",
     "text": [
      "   --- Mammals\n",
      "on the new line\n"
     ]
    }
   ],
   "source": [
    "print(text_test)"
   ]
  },
  {
   "cell_type": "code",
   "execution_count": null,
   "metadata": {},
   "outputs": [],
   "source": []
  }
 ],
 "metadata": {
  "kernelspec": {
   "display_name": "Python 3 (ipykernel)",
   "language": "python",
   "name": "python3"
  },
  "language_info": {
   "codemirror_mode": {
    "name": "ipython",
    "version": 3
   },
   "file_extension": ".py",
   "mimetype": "text/x-python",
   "name": "python",
   "nbconvert_exporter": "python",
   "pygments_lexer": "ipython3",
   "version": "3.9.12"
  }
 },
 "nbformat": 4,
 "nbformat_minor": 4
}
