{
 "cells": [
  {
   "cell_type": "markdown",
   "metadata": {
    "tags": []
   },
   "source": [
    "### Study session 10 - more bioinformatics\n",
    "#### Use data and control structures, pandas, dataframes and explaore new libraries\n",
    "#### Explore object  attributes and methods\n",
    "#### BIOINF 575 - Fall 2021\n",
    "\n",
    "#### SOLUTION"
   ]
  },
  {
   "cell_type": "code",
   "execution_count": 119,
   "metadata": {},
   "outputs": [],
   "source": [
    "import numpy as np\n",
    "import pandas as pd\n",
    "import bamnostic as bs\n",
    "import matplotlib.pyplot as plt\n",
    "from collections import Counter"
   ]
  },
  {
   "cell_type": "markdown",
   "metadata": {},
   "source": [
    "#### To install the bamnostic package open a terminal and run:\n",
    "```bash\n",
    "pip install bamnostic\n",
    "```\n",
    "##### It is one of the install options provided in the documentation\n",
    "\n",
    "https://github.com/betteridiot/bamnostic\n",
    "\n",
    "If it does not work try another option\n",
    "\n",
    "There are 4 methods of installation available (choose one):\n",
    "\n",
    "Option 1: Through the conda package manager (Anaconda Cloud)\n",
    "\n",
    "```bash\n",
    "# first, add the conda-forge channel to your conda build\n",
    "conda config --add channels conda-forge\n",
    "\n",
    "# now bamnostic is available for install\n",
    "conda install bamnostic\n",
    "```"
   ]
  },
  {
   "cell_type": "markdown",
   "metadata": {},
   "source": [
    "## EXERCISES"
   ]
  },
  {
   "cell_type": "markdown",
   "metadata": {},
   "source": [
    "____\n",
    "\n",
    "#### Variant data exploration   \n",
    "We have variant data for a sample in the file `variant_data_file.vcf`.   \n",
    "The vcf data file contains information about differences found in the genome of a specific sample when compared to the reference.    \n",
    "The file contains approximatelly 1000 differences found in the Y chromosome.\n",
    "\n"
   ]
  },
  {
   "cell_type": "markdown",
   "metadata": {},
   "source": [
    "\n",
    "\n",
    "..................................................................................................\n",
    "\n",
    "<b><font color = \"red\">Exercise</font> <br></b>\n",
    "\n",
    "<b>See the difference in positions vaues between the different variant types (e.g. REF ALT: T C) using boxplots</b>   \n",
    "<b>Plot the scatterplot of the positions for the TC variant</b>\n"
   ]
  },
  {
   "cell_type": "code",
   "execution_count": 3,
   "metadata": {},
   "outputs": [],
   "source": [
    "# Write your solution here\n",
    "\n",
    "\n"
   ]
  },
  {
   "cell_type": "code",
   "execution_count": 28,
   "metadata": {},
   "outputs": [
    {
     "data": {
      "text/html": [
       "<div>\n",
       "<style scoped>\n",
       "    .dataframe tbody tr th:only-of-type {\n",
       "        vertical-align: middle;\n",
       "    }\n",
       "\n",
       "    .dataframe tbody tr th {\n",
       "        vertical-align: top;\n",
       "    }\n",
       "\n",
       "    .dataframe thead th {\n",
       "        text-align: right;\n",
       "    }\n",
       "</style>\n",
       "<table border=\"1\" class=\"dataframe\">\n",
       "  <thead>\n",
       "    <tr style=\"text-align: right;\">\n",
       "      <th></th>\n",
       "      <th>CHROM</th>\n",
       "      <th>POS</th>\n",
       "      <th>ID</th>\n",
       "      <th>REF</th>\n",
       "      <th>ALT</th>\n",
       "      <th>QUAL</th>\n",
       "      <th>FILTER</th>\n",
       "      <th>INFO</th>\n",
       "    </tr>\n",
       "  </thead>\n",
       "  <tbody>\n",
       "    <tr>\n",
       "      <th>0</th>\n",
       "      <td>Y</td>\n",
       "      <td>2728456</td>\n",
       "      <td>rs2058276</td>\n",
       "      <td>T</td>\n",
       "      <td>C</td>\n",
       "      <td>32</td>\n",
       "      <td>.</td>\n",
       "      <td>AC=2;AN=2;DB;DP=182;H2;NS=65</td>\n",
       "    </tr>\n",
       "    <tr>\n",
       "      <th>1</th>\n",
       "      <td>Y</td>\n",
       "      <td>2734240</td>\n",
       "      <td>.</td>\n",
       "      <td>G</td>\n",
       "      <td>A</td>\n",
       "      <td>31</td>\n",
       "      <td>.</td>\n",
       "      <td>AC=1;AN=2;DP=196;NS=63</td>\n",
       "    </tr>\n",
       "    <tr>\n",
       "      <th>2</th>\n",
       "      <td>Y</td>\n",
       "      <td>2743242</td>\n",
       "      <td>.</td>\n",
       "      <td>C</td>\n",
       "      <td>T</td>\n",
       "      <td>25</td>\n",
       "      <td>.</td>\n",
       "      <td>AC=1;AN=2;DP=275;NS=66</td>\n",
       "    </tr>\n",
       "    <tr>\n",
       "      <th>3</th>\n",
       "      <td>Y</td>\n",
       "      <td>2746727</td>\n",
       "      <td>.</td>\n",
       "      <td>A</td>\n",
       "      <td>G</td>\n",
       "      <td>34</td>\n",
       "      <td>.</td>\n",
       "      <td>AC=2;AN=2;DP=179;NS=64</td>\n",
       "    </tr>\n",
       "    <tr>\n",
       "      <th>4</th>\n",
       "      <td>Y</td>\n",
       "      <td>2777970</td>\n",
       "      <td>.</td>\n",
       "      <td>T</td>\n",
       "      <td>A</td>\n",
       "      <td>67</td>\n",
       "      <td>.</td>\n",
       "      <td>AC=1;AN=2;DP=225;NS=67</td>\n",
       "    </tr>\n",
       "    <tr>\n",
       "      <th>...</th>\n",
       "      <td>...</td>\n",
       "      <td>...</td>\n",
       "      <td>...</td>\n",
       "      <td>...</td>\n",
       "      <td>...</td>\n",
       "      <td>...</td>\n",
       "      <td>...</td>\n",
       "      <td>...</td>\n",
       "    </tr>\n",
       "    <tr>\n",
       "      <th>954</th>\n",
       "      <td>Y</td>\n",
       "      <td>27108406</td>\n",
       "      <td>rs2049642</td>\n",
       "      <td>G</td>\n",
       "      <td>A</td>\n",
       "      <td>30</td>\n",
       "      <td>.</td>\n",
       "      <td>AC=1;AN=2;DB;DP=163;NS=61</td>\n",
       "    </tr>\n",
       "    <tr>\n",
       "      <th>955</th>\n",
       "      <td>Y</td>\n",
       "      <td>27141305</td>\n",
       "      <td>rs9786602</td>\n",
       "      <td>C</td>\n",
       "      <td>A</td>\n",
       "      <td>29</td>\n",
       "      <td>.</td>\n",
       "      <td>AC=2;AN=2;DB;DP=163;NS=63</td>\n",
       "    </tr>\n",
       "    <tr>\n",
       "      <th>956</th>\n",
       "      <td>Y</td>\n",
       "      <td>27142489</td>\n",
       "      <td>rs1358368</td>\n",
       "      <td>G</td>\n",
       "      <td>C</td>\n",
       "      <td>37</td>\n",
       "      <td>.</td>\n",
       "      <td>AC=2;AN=2;DB;DP=195;H2;NS=61</td>\n",
       "    </tr>\n",
       "    <tr>\n",
       "      <th>957</th>\n",
       "      <td>Y</td>\n",
       "      <td>27182557</td>\n",
       "      <td>.</td>\n",
       "      <td>G</td>\n",
       "      <td>A</td>\n",
       "      <td>22</td>\n",
       "      <td>.</td>\n",
       "      <td>AC=1;AN=2;DP=168;NS=62</td>\n",
       "    </tr>\n",
       "    <tr>\n",
       "      <th>958</th>\n",
       "      <td>Y</td>\n",
       "      <td>27228657</td>\n",
       "      <td>.</td>\n",
       "      <td>G</td>\n",
       "      <td>T</td>\n",
       "      <td>6</td>\n",
       "      <td>NUYR</td>\n",
       "      <td>AC=1;AN=2;DP=317;NS=65</td>\n",
       "    </tr>\n",
       "  </tbody>\n",
       "</table>\n",
       "<p>959 rows × 8 columns</p>\n",
       "</div>"
      ],
      "text/plain": [
       "    CHROM       POS         ID REF ALT  QUAL FILTER  \\\n",
       "0       Y   2728456  rs2058276   T   C    32      .   \n",
       "1       Y   2734240          .   G   A    31      .   \n",
       "2       Y   2743242          .   C   T    25      .   \n",
       "3       Y   2746727          .   A   G    34      .   \n",
       "4       Y   2777970          .   T   A    67      .   \n",
       "..    ...       ...        ...  ..  ..   ...    ...   \n",
       "954     Y  27108406  rs2049642   G   A    30      .   \n",
       "955     Y  27141305  rs9786602   C   A    29      .   \n",
       "956     Y  27142489  rs1358368   G   C    37      .   \n",
       "957     Y  27182557          .   G   A    22      .   \n",
       "958     Y  27228657          .   G   T     6   NUYR   \n",
       "\n",
       "                             INFO  \n",
       "0    AC=2;AN=2;DB;DP=182;H2;NS=65  \n",
       "1          AC=1;AN=2;DP=196;NS=63  \n",
       "2          AC=1;AN=2;DP=275;NS=66  \n",
       "3          AC=2;AN=2;DP=179;NS=64  \n",
       "4          AC=1;AN=2;DP=225;NS=67  \n",
       "..                            ...  \n",
       "954     AC=1;AN=2;DB;DP=163;NS=61  \n",
       "955     AC=2;AN=2;DB;DP=163;NS=63  \n",
       "956  AC=2;AN=2;DB;DP=195;H2;NS=61  \n",
       "957        AC=1;AN=2;DP=168;NS=62  \n",
       "958        AC=1;AN=2;DP=317;NS=65  \n",
       "\n",
       "[959 rows x 8 columns]"
      ]
     },
     "execution_count": 28,
     "metadata": {},
     "output_type": "execute_result"
    }
   ],
   "source": [
    "# read the data from the vcf file  and add header (column labels)\n",
    "# pd.read_csv function has a names argument that allows us to set the column labels\n",
    "\n",
    "columns = (\"CHROM\", \"POS\", \"ID\", \"REF\", \"ALT\", \"QUAL\", \"FILTER\", \"INFO\")\n",
    "vcf_data = pd.read_csv(\"variant_data_file.vcf\", comment = \"#\", sep = \"\\t\", names = columns)\n",
    "vcf_data"
   ]
  },
  {
   "cell_type": "code",
   "execution_count": 29,
   "metadata": {},
   "outputs": [
    {
     "data": {
      "text/html": [
       "<div>\n",
       "<style scoped>\n",
       "    .dataframe tbody tr th:only-of-type {\n",
       "        vertical-align: middle;\n",
       "    }\n",
       "\n",
       "    .dataframe tbody tr th {\n",
       "        vertical-align: top;\n",
       "    }\n",
       "\n",
       "    .dataframe thead th {\n",
       "        text-align: right;\n",
       "    }\n",
       "</style>\n",
       "<table border=\"1\" class=\"dataframe\">\n",
       "  <thead>\n",
       "    <tr style=\"text-align: right;\">\n",
       "      <th></th>\n",
       "      <th>POS</th>\n",
       "      <th>REF</th>\n",
       "      <th>ALT</th>\n",
       "    </tr>\n",
       "  </thead>\n",
       "  <tbody>\n",
       "    <tr>\n",
       "      <th>0</th>\n",
       "      <td>2728456</td>\n",
       "      <td>T</td>\n",
       "      <td>C</td>\n",
       "    </tr>\n",
       "    <tr>\n",
       "      <th>1</th>\n",
       "      <td>2734240</td>\n",
       "      <td>G</td>\n",
       "      <td>A</td>\n",
       "    </tr>\n",
       "    <tr>\n",
       "      <th>2</th>\n",
       "      <td>2743242</td>\n",
       "      <td>C</td>\n",
       "      <td>T</td>\n",
       "    </tr>\n",
       "    <tr>\n",
       "      <th>3</th>\n",
       "      <td>2746727</td>\n",
       "      <td>A</td>\n",
       "      <td>G</td>\n",
       "    </tr>\n",
       "    <tr>\n",
       "      <th>4</th>\n",
       "      <td>2777970</td>\n",
       "      <td>T</td>\n",
       "      <td>A</td>\n",
       "    </tr>\n",
       "    <tr>\n",
       "      <th>...</th>\n",
       "      <td>...</td>\n",
       "      <td>...</td>\n",
       "      <td>...</td>\n",
       "    </tr>\n",
       "    <tr>\n",
       "      <th>954</th>\n",
       "      <td>27108406</td>\n",
       "      <td>G</td>\n",
       "      <td>A</td>\n",
       "    </tr>\n",
       "    <tr>\n",
       "      <th>955</th>\n",
       "      <td>27141305</td>\n",
       "      <td>C</td>\n",
       "      <td>A</td>\n",
       "    </tr>\n",
       "    <tr>\n",
       "      <th>956</th>\n",
       "      <td>27142489</td>\n",
       "      <td>G</td>\n",
       "      <td>C</td>\n",
       "    </tr>\n",
       "    <tr>\n",
       "      <th>957</th>\n",
       "      <td>27182557</td>\n",
       "      <td>G</td>\n",
       "      <td>A</td>\n",
       "    </tr>\n",
       "    <tr>\n",
       "      <th>958</th>\n",
       "      <td>27228657</td>\n",
       "      <td>G</td>\n",
       "      <td>T</td>\n",
       "    </tr>\n",
       "  </tbody>\n",
       "</table>\n",
       "<p>959 rows × 3 columns</p>\n",
       "</div>"
      ],
      "text/plain": [
       "          POS REF ALT\n",
       "0     2728456   T   C\n",
       "1     2734240   G   A\n",
       "2     2743242   C   T\n",
       "3     2746727   A   G\n",
       "4     2777970   T   A\n",
       "..        ...  ..  ..\n",
       "954  27108406   G   A\n",
       "955  27141305   C   A\n",
       "956  27142489   G   C\n",
       "957  27182557   G   A\n",
       "958  27228657   G   T\n",
       "\n",
       "[959 rows x 3 columns]"
      ]
     },
     "execution_count": 29,
     "metadata": {},
     "output_type": "execute_result"
    }
   ],
   "source": [
    "vcf_data.loc[:,(\"POS\",\"REF\",\"ALT\")]"
   ]
  },
  {
   "cell_type": "code",
   "execution_count": 30,
   "metadata": {},
   "outputs": [
    {
     "name": "stdout",
     "output_type": "stream",
     "text": [
      "<class 'pandas.core.groupby.generic.DataFrameGroupBy'>\n"
     ]
    },
    {
     "data": {
      "text/plain": [
       "['ALT',\n",
       " 'POS',\n",
       " 'REF',\n",
       " '__annotations__',\n",
       " '__class__',\n",
       " '__class_getitem__',\n",
       " '__delattr__',\n",
       " '__dict__',\n",
       " '__dir__',\n",
       " '__doc__']"
      ]
     },
     "execution_count": 30,
     "metadata": {},
     "output_type": "execute_result"
    }
   ],
   "source": [
    "# group the data by ref and alt to get the unique combinations for those columns\n",
    "grouped_data = vcf_data.loc[:,(\"POS\",\"REF\",\"ALT\")].groupby([\"REF\",\"ALT\"])\n",
    "\n",
    "# see what object we have and what it can do\n",
    "# we see we can access the. grouped data column using the dot notation and the name\n",
    "# .POS\n",
    "\n",
    "print(type(grouped_data))\n",
    "\n",
    "# see the 10 available elements from dir\n",
    "dir(grouped_data)[:10]"
   ]
  },
  {
   "cell_type": "code",
   "execution_count": 31,
   "metadata": {},
   "outputs": [
    {
     "name": "stdout",
     "output_type": "stream",
     "text": [
      "<pandas.core.groupby.generic.SeriesGroupBy object at 0x11c58d820>\n"
     ]
    },
    {
     "data": {
      "text/plain": [
       "['agg',\n",
       " 'aggregate',\n",
       " 'all',\n",
       " 'any',\n",
       " 'apply',\n",
       " 'backfill',\n",
       " 'bfill',\n",
       " 'corr',\n",
       " 'count',\n",
       " 'cov']"
      ]
     },
     "execution_count": 31,
     "metadata": {},
     "output_type": "execute_result"
    }
   ],
   "source": [
    "# see what object we have and what it can do\n",
    "# we asee it can do apply\n",
    "\n",
    "print(grouped_data.POS)\n",
    "\n",
    "# get the first 10 non (d)under methods from dir using comprehensions\n",
    "[elem for elem in dir(grouped_data.POS) if not elem.startswith(\"_\")][:10]"
   ]
  },
  {
   "cell_type": "code",
   "execution_count": 32,
   "metadata": {},
   "outputs": [
    {
     "data": {
      "text/plain": [
       "REF  ALT\n",
       "A    C      [2947824, 3034782, 6741979, 8289995, 8476058, ...\n",
       "     G      [2746727, 2782506, 2788927, 3751769, 4177733, ...\n",
       "     T      [3134753, 7609445, 7772917, 8170520, 8528719, ...\n",
       "C    A      [4426933, 4546612, 6941616, 7269744, 7346986, ...\n",
       "     G      [3094725, 7630822, 8110994, 8442265, 8596868, ...\n",
       "     T      [2743242, 2899051, 2962839, 2972385, 3168773, ...\n",
       "G    A      [2734240, 2783755, 2900301, 2923665, 3144401, ...\n",
       "     C      [3537173, 5257625, 5746218, 6991040, 7366539, ...\n",
       "     T      [4706572, 6067257, 6972992, 7244644, 7702823, ...\n",
       "T    A      [2777970, 2816471, 3781790, 6986038, 7741156, ...\n",
       "     C      [2728456, 2815679, 2891375, 2944029, 4305332, ...\n",
       "     G      [2813908, 2841844, 5788934, 6737619, 6810775, ...\n",
       "Name: POS, dtype: object"
      ]
     },
     "execution_count": 32,
     "metadata": {},
     "output_type": "execute_result"
    }
   ],
   "source": [
    "series_pos_lst = grouped_data.POS.apply(list)\n",
    "series_pos_lst"
   ]
  },
  {
   "cell_type": "code",
   "execution_count": 33,
   "metadata": {},
   "outputs": [],
   "source": [
    "# all in one\n",
    "# select the data for the 3 columns of interest using .loc subsetting on the dataframe\n",
    "# group by the 2 columns that identify a variant type\n",
    "# select the grouped POS column\n",
    "# make a list for each unique type of variant using apply list\n",
    "\n",
    "series_pos_lst = vcf_data.loc[:,(\"POS\",\"REF\",\"ALT\")].groupby([\"REF\",\"ALT\"])[\"POS\"].apply(list)"
   ]
  },
  {
   "cell_type": "code",
   "execution_count": 34,
   "metadata": {},
   "outputs": [
    {
     "data": {
      "text/plain": [
       "REF  ALT\n",
       "A    C      [2947824, 3034782, 6741979, 8289995, 8476058, ...\n",
       "     G      [2746727, 2782506, 2788927, 3751769, 4177733, ...\n",
       "     T      [3134753, 7609445, 7772917, 8170520, 8528719, ...\n",
       "C    A      [4426933, 4546612, 6941616, 7269744, 7346986, ...\n",
       "     G      [3094725, 7630822, 8110994, 8442265, 8596868, ...\n",
       "     T      [2743242, 2899051, 2962839, 2972385, 3168773, ...\n",
       "G    A      [2734240, 2783755, 2900301, 2923665, 3144401, ...\n",
       "     C      [3537173, 5257625, 5746218, 6991040, 7366539, ...\n",
       "     T      [4706572, 6067257, 6972992, 7244644, 7702823, ...\n",
       "T    A      [2777970, 2816471, 3781790, 6986038, 7741156, ...\n",
       "     C      [2728456, 2815679, 2891375, 2944029, 4305332, ...\n",
       "     G      [2813908, 2841844, 5788934, 6737619, 6810775, ...\n",
       "Name: POS, dtype: object"
      ]
     },
     "execution_count": 34,
     "metadata": {},
     "output_type": "execute_result"
    }
   ],
   "source": [
    "# the rownames/ index does not look ok, it is not a single label\n",
    "series_pos_lst"
   ]
  },
  {
   "cell_type": "code",
   "execution_count": 35,
   "metadata": {},
   "outputs": [
    {
     "data": {
      "text/plain": [
       "MultiIndex([('A', 'C'),\n",
       "            ('A', 'G'),\n",
       "            ('A', 'T'),\n",
       "            ('C', 'A'),\n",
       "            ('C', 'G'),\n",
       "            ('C', 'T'),\n",
       "            ('G', 'A'),\n",
       "            ('G', 'C'),\n",
       "            ('G', 'T'),\n",
       "            ('T', 'A'),\n",
       "            ('T', 'C'),\n",
       "            ('T', 'G')],\n",
       "           names=['REF', 'ALT'])"
      ]
     },
     "execution_count": 35,
     "metadata": {},
     "output_type": "execute_result"
    }
   ],
   "source": [
    "# it is list of tuples\n",
    "series_pos_lst.index"
   ]
  },
  {
   "cell_type": "code",
   "execution_count": 36,
   "metadata": {},
   "outputs": [
    {
     "data": {
      "text/plain": [
       "'AC'"
      ]
     },
     "execution_count": 36,
     "metadata": {},
     "output_type": "execute_result"
    }
   ],
   "source": [
    "# we can make a string outof a tuple of strings using str.join\n",
    "\n",
    "\"\".join(('A', 'C'))\n"
   ]
  },
  {
   "cell_type": "code",
   "execution_count": 37,
   "metadata": {},
   "outputs": [
    {
     "data": {
      "text/plain": [
       "AC    [2947824, 3034782, 6741979, 8289995, 8476058, ...\n",
       "AG    [2746727, 2782506, 2788927, 3751769, 4177733, ...\n",
       "AT    [3134753, 7609445, 7772917, 8170520, 8528719, ...\n",
       "CA    [4426933, 4546612, 6941616, 7269744, 7346986, ...\n",
       "CG    [3094725, 7630822, 8110994, 8442265, 8596868, ...\n",
       "CT    [2743242, 2899051, 2962839, 2972385, 3168773, ...\n",
       "GA    [2734240, 2783755, 2900301, 2923665, 3144401, ...\n",
       "GC    [3537173, 5257625, 5746218, 6991040, 7366539, ...\n",
       "GT    [4706572, 6067257, 6972992, 7244644, 7702823, ...\n",
       "TA    [2777970, 2816471, 3781790, 6986038, 7741156, ...\n",
       "TC    [2728456, 2815679, 2891375, 2944029, 4305332, ...\n",
       "TG    [2813908, 2841844, 5788934, 6737619, 6810775, ...\n",
       "Name: POS, dtype: object"
      ]
     },
     "execution_count": 37,
     "metadata": {},
     "output_type": "execute_result"
    }
   ],
   "source": [
    "# we make a make a string outof a tuple of strings using str.join\n",
    "# use use a lambda function to do that\n",
    "# we use map to apply it to each element\n",
    "# because the index is an iterable and it does not have an apply method\n",
    "\n",
    "series_pos_lst.index  = map(lambda x: \"\".join(x), series_pos_lst.index)\n",
    "series_pos_lst\n"
   ]
  },
  {
   "cell_type": "code",
   "execution_count": 42,
   "metadata": {},
   "outputs": [
    {
     "data": {
      "text/plain": [
       "AC     34\n",
       "AG    155\n",
       "AT     26\n",
       "CA     56\n",
       "CG     49\n",
       "CT    175\n",
       "GA    163\n",
       "GC     46\n",
       "GT     53\n",
       "TA     35\n",
       "TC    124\n",
       "TG     43\n",
       "Name: POS, dtype: int64"
      ]
     },
     "execution_count": 42,
     "metadata": {},
     "output_type": "execute_result"
    }
   ],
   "source": [
    "# the lists have different lengths\n",
    "\n",
    "series_pos_lst.apply(len)"
   ]
  },
  {
   "cell_type": "code",
   "execution_count": 44,
   "metadata": {},
   "outputs": [
    {
     "data": {
      "text/html": [
       "<div>\n",
       "<style scoped>\n",
       "    .dataframe tbody tr th:only-of-type {\n",
       "        vertical-align: middle;\n",
       "    }\n",
       "\n",
       "    .dataframe tbody tr th {\n",
       "        vertical-align: top;\n",
       "    }\n",
       "\n",
       "    .dataframe thead th {\n",
       "        text-align: right;\n",
       "    }\n",
       "</style>\n",
       "<table border=\"1\" class=\"dataframe\">\n",
       "  <thead>\n",
       "    <tr style=\"text-align: right;\">\n",
       "      <th></th>\n",
       "      <th>0</th>\n",
       "      <th>1</th>\n",
       "      <th>2</th>\n",
       "      <th>3</th>\n",
       "      <th>4</th>\n",
       "      <th>5</th>\n",
       "      <th>6</th>\n",
       "      <th>7</th>\n",
       "      <th>8</th>\n",
       "      <th>9</th>\n",
       "      <th>...</th>\n",
       "      <th>165</th>\n",
       "      <th>166</th>\n",
       "      <th>167</th>\n",
       "      <th>168</th>\n",
       "      <th>169</th>\n",
       "      <th>170</th>\n",
       "      <th>171</th>\n",
       "      <th>172</th>\n",
       "      <th>173</th>\n",
       "      <th>174</th>\n",
       "    </tr>\n",
       "  </thead>\n",
       "  <tbody>\n",
       "    <tr>\n",
       "      <th>AC</th>\n",
       "      <td>2947824.0</td>\n",
       "      <td>3034782.0</td>\n",
       "      <td>6741979.0</td>\n",
       "      <td>8289995.0</td>\n",
       "      <td>8476058.0</td>\n",
       "      <td>8538528.0</td>\n",
       "      <td>12702608.0</td>\n",
       "      <td>13007215.0</td>\n",
       "      <td>13972076.0</td>\n",
       "      <td>14009504.0</td>\n",
       "      <td>...</td>\n",
       "      <td>NaN</td>\n",
       "      <td>NaN</td>\n",
       "      <td>NaN</td>\n",
       "      <td>NaN</td>\n",
       "      <td>NaN</td>\n",
       "      <td>NaN</td>\n",
       "      <td>NaN</td>\n",
       "      <td>NaN</td>\n",
       "      <td>NaN</td>\n",
       "      <td>NaN</td>\n",
       "    </tr>\n",
       "    <tr>\n",
       "      <th>AG</th>\n",
       "      <td>2746727.0</td>\n",
       "      <td>2782506.0</td>\n",
       "      <td>2788927.0</td>\n",
       "      <td>3751769.0</td>\n",
       "      <td>4177733.0</td>\n",
       "      <td>5277196.0</td>\n",
       "      <td>6520348.0</td>\n",
       "      <td>6886543.0</td>\n",
       "      <td>6893285.0</td>\n",
       "      <td>6907416.0</td>\n",
       "      <td>...</td>\n",
       "      <td>NaN</td>\n",
       "      <td>NaN</td>\n",
       "      <td>NaN</td>\n",
       "      <td>NaN</td>\n",
       "      <td>NaN</td>\n",
       "      <td>NaN</td>\n",
       "      <td>NaN</td>\n",
       "      <td>NaN</td>\n",
       "      <td>NaN</td>\n",
       "      <td>NaN</td>\n",
       "    </tr>\n",
       "    <tr>\n",
       "      <th>AT</th>\n",
       "      <td>3134753.0</td>\n",
       "      <td>7609445.0</td>\n",
       "      <td>7772917.0</td>\n",
       "      <td>8170520.0</td>\n",
       "      <td>8528719.0</td>\n",
       "      <td>8618969.0</td>\n",
       "      <td>9231956.0</td>\n",
       "      <td>10004763.0</td>\n",
       "      <td>12589811.0</td>\n",
       "      <td>12660466.0</td>\n",
       "      <td>...</td>\n",
       "      <td>NaN</td>\n",
       "      <td>NaN</td>\n",
       "      <td>NaN</td>\n",
       "      <td>NaN</td>\n",
       "      <td>NaN</td>\n",
       "      <td>NaN</td>\n",
       "      <td>NaN</td>\n",
       "      <td>NaN</td>\n",
       "      <td>NaN</td>\n",
       "      <td>NaN</td>\n",
       "    </tr>\n",
       "    <tr>\n",
       "      <th>CA</th>\n",
       "      <td>4426933.0</td>\n",
       "      <td>4546612.0</td>\n",
       "      <td>6941616.0</td>\n",
       "      <td>7269744.0</td>\n",
       "      <td>7346986.0</td>\n",
       "      <td>7437905.0</td>\n",
       "      <td>7709447.0</td>\n",
       "      <td>7797070.0</td>\n",
       "      <td>8253988.0</td>\n",
       "      <td>8545542.0</td>\n",
       "      <td>...</td>\n",
       "      <td>NaN</td>\n",
       "      <td>NaN</td>\n",
       "      <td>NaN</td>\n",
       "      <td>NaN</td>\n",
       "      <td>NaN</td>\n",
       "      <td>NaN</td>\n",
       "      <td>NaN</td>\n",
       "      <td>NaN</td>\n",
       "      <td>NaN</td>\n",
       "      <td>NaN</td>\n",
       "    </tr>\n",
       "    <tr>\n",
       "      <th>CG</th>\n",
       "      <td>3094725.0</td>\n",
       "      <td>7630822.0</td>\n",
       "      <td>8110994.0</td>\n",
       "      <td>8442265.0</td>\n",
       "      <td>8596868.0</td>\n",
       "      <td>8704218.0</td>\n",
       "      <td>10451700.0</td>\n",
       "      <td>10460172.0</td>\n",
       "      <td>10645664.0</td>\n",
       "      <td>12526525.0</td>\n",
       "      <td>...</td>\n",
       "      <td>NaN</td>\n",
       "      <td>NaN</td>\n",
       "      <td>NaN</td>\n",
       "      <td>NaN</td>\n",
       "      <td>NaN</td>\n",
       "      <td>NaN</td>\n",
       "      <td>NaN</td>\n",
       "      <td>NaN</td>\n",
       "      <td>NaN</td>\n",
       "      <td>NaN</td>\n",
       "    </tr>\n",
       "    <tr>\n",
       "      <th>CT</th>\n",
       "      <td>2743242.0</td>\n",
       "      <td>2899051.0</td>\n",
       "      <td>2962839.0</td>\n",
       "      <td>2972385.0</td>\n",
       "      <td>3168773.0</td>\n",
       "      <td>4934629.0</td>\n",
       "      <td>5121270.0</td>\n",
       "      <td>6722712.0</td>\n",
       "      <td>6983525.0</td>\n",
       "      <td>7003522.0</td>\n",
       "      <td>...</td>\n",
       "      <td>21957669.0</td>\n",
       "      <td>22366760.0</td>\n",
       "      <td>22368210.0</td>\n",
       "      <td>22765516.0</td>\n",
       "      <td>22808980.0</td>\n",
       "      <td>22825891.0</td>\n",
       "      <td>22835395.0</td>\n",
       "      <td>22847367.0</td>\n",
       "      <td>26925716.0</td>\n",
       "      <td>27015657.0</td>\n",
       "    </tr>\n",
       "    <tr>\n",
       "      <th>GA</th>\n",
       "      <td>2734240.0</td>\n",
       "      <td>2783755.0</td>\n",
       "      <td>2900301.0</td>\n",
       "      <td>2923665.0</td>\n",
       "      <td>3144401.0</td>\n",
       "      <td>4176203.0</td>\n",
       "      <td>4346875.0</td>\n",
       "      <td>5189448.0</td>\n",
       "      <td>5878860.0</td>\n",
       "      <td>6690931.0</td>\n",
       "      <td>...</td>\n",
       "      <td>NaN</td>\n",
       "      <td>NaN</td>\n",
       "      <td>NaN</td>\n",
       "      <td>NaN</td>\n",
       "      <td>NaN</td>\n",
       "      <td>NaN</td>\n",
       "      <td>NaN</td>\n",
       "      <td>NaN</td>\n",
       "      <td>NaN</td>\n",
       "      <td>NaN</td>\n",
       "    </tr>\n",
       "    <tr>\n",
       "      <th>GC</th>\n",
       "      <td>3537173.0</td>\n",
       "      <td>5257625.0</td>\n",
       "      <td>5746218.0</td>\n",
       "      <td>6991040.0</td>\n",
       "      <td>7366539.0</td>\n",
       "      <td>7455806.0</td>\n",
       "      <td>7749389.0</td>\n",
       "      <td>7908043.0</td>\n",
       "      <td>8325507.0</td>\n",
       "      <td>8527563.0</td>\n",
       "      <td>...</td>\n",
       "      <td>NaN</td>\n",
       "      <td>NaN</td>\n",
       "      <td>NaN</td>\n",
       "      <td>NaN</td>\n",
       "      <td>NaN</td>\n",
       "      <td>NaN</td>\n",
       "      <td>NaN</td>\n",
       "      <td>NaN</td>\n",
       "      <td>NaN</td>\n",
       "      <td>NaN</td>\n",
       "    </tr>\n",
       "    <tr>\n",
       "      <th>GT</th>\n",
       "      <td>4706572.0</td>\n",
       "      <td>6067257.0</td>\n",
       "      <td>6972992.0</td>\n",
       "      <td>7244644.0</td>\n",
       "      <td>7702823.0</td>\n",
       "      <td>7742272.0</td>\n",
       "      <td>7774986.0</td>\n",
       "      <td>8610003.0</td>\n",
       "      <td>8933160.0</td>\n",
       "      <td>10008607.0</td>\n",
       "      <td>...</td>\n",
       "      <td>NaN</td>\n",
       "      <td>NaN</td>\n",
       "      <td>NaN</td>\n",
       "      <td>NaN</td>\n",
       "      <td>NaN</td>\n",
       "      <td>NaN</td>\n",
       "      <td>NaN</td>\n",
       "      <td>NaN</td>\n",
       "      <td>NaN</td>\n",
       "      <td>NaN</td>\n",
       "    </tr>\n",
       "    <tr>\n",
       "      <th>TA</th>\n",
       "      <td>2777970.0</td>\n",
       "      <td>2816471.0</td>\n",
       "      <td>3781790.0</td>\n",
       "      <td>6986038.0</td>\n",
       "      <td>7741156.0</td>\n",
       "      <td>7802116.0</td>\n",
       "      <td>8350951.0</td>\n",
       "      <td>11681806.0</td>\n",
       "      <td>11967103.0</td>\n",
       "      <td>12541334.0</td>\n",
       "      <td>...</td>\n",
       "      <td>NaN</td>\n",
       "      <td>NaN</td>\n",
       "      <td>NaN</td>\n",
       "      <td>NaN</td>\n",
       "      <td>NaN</td>\n",
       "      <td>NaN</td>\n",
       "      <td>NaN</td>\n",
       "      <td>NaN</td>\n",
       "      <td>NaN</td>\n",
       "      <td>NaN</td>\n",
       "    </tr>\n",
       "    <tr>\n",
       "      <th>TC</th>\n",
       "      <td>2728456.0</td>\n",
       "      <td>2815679.0</td>\n",
       "      <td>2891375.0</td>\n",
       "      <td>2944029.0</td>\n",
       "      <td>4305332.0</td>\n",
       "      <td>5066360.0</td>\n",
       "      <td>6060464.0</td>\n",
       "      <td>6667318.0</td>\n",
       "      <td>6826034.0</td>\n",
       "      <td>6908560.0</td>\n",
       "      <td>...</td>\n",
       "      <td>NaN</td>\n",
       "      <td>NaN</td>\n",
       "      <td>NaN</td>\n",
       "      <td>NaN</td>\n",
       "      <td>NaN</td>\n",
       "      <td>NaN</td>\n",
       "      <td>NaN</td>\n",
       "      <td>NaN</td>\n",
       "      <td>NaN</td>\n",
       "      <td>NaN</td>\n",
       "    </tr>\n",
       "    <tr>\n",
       "      <th>TG</th>\n",
       "      <td>2813908.0</td>\n",
       "      <td>2841844.0</td>\n",
       "      <td>5788934.0</td>\n",
       "      <td>6737619.0</td>\n",
       "      <td>6810775.0</td>\n",
       "      <td>6952596.0</td>\n",
       "      <td>6965504.0</td>\n",
       "      <td>8192296.0</td>\n",
       "      <td>8739843.0</td>\n",
       "      <td>8763052.0</td>\n",
       "      <td>...</td>\n",
       "      <td>NaN</td>\n",
       "      <td>NaN</td>\n",
       "      <td>NaN</td>\n",
       "      <td>NaN</td>\n",
       "      <td>NaN</td>\n",
       "      <td>NaN</td>\n",
       "      <td>NaN</td>\n",
       "      <td>NaN</td>\n",
       "      <td>NaN</td>\n",
       "      <td>NaN</td>\n",
       "    </tr>\n",
       "  </tbody>\n",
       "</table>\n",
       "<p>12 rows × 175 columns</p>\n",
       "</div>"
      ],
      "text/plain": [
       "          0          1          2          3          4          5    \\\n",
       "AC  2947824.0  3034782.0  6741979.0  8289995.0  8476058.0  8538528.0   \n",
       "AG  2746727.0  2782506.0  2788927.0  3751769.0  4177733.0  5277196.0   \n",
       "AT  3134753.0  7609445.0  7772917.0  8170520.0  8528719.0  8618969.0   \n",
       "CA  4426933.0  4546612.0  6941616.0  7269744.0  7346986.0  7437905.0   \n",
       "CG  3094725.0  7630822.0  8110994.0  8442265.0  8596868.0  8704218.0   \n",
       "CT  2743242.0  2899051.0  2962839.0  2972385.0  3168773.0  4934629.0   \n",
       "GA  2734240.0  2783755.0  2900301.0  2923665.0  3144401.0  4176203.0   \n",
       "GC  3537173.0  5257625.0  5746218.0  6991040.0  7366539.0  7455806.0   \n",
       "GT  4706572.0  6067257.0  6972992.0  7244644.0  7702823.0  7742272.0   \n",
       "TA  2777970.0  2816471.0  3781790.0  6986038.0  7741156.0  7802116.0   \n",
       "TC  2728456.0  2815679.0  2891375.0  2944029.0  4305332.0  5066360.0   \n",
       "TG  2813908.0  2841844.0  5788934.0  6737619.0  6810775.0  6952596.0   \n",
       "\n",
       "           6           7           8           9    ...         165  \\\n",
       "AC  12702608.0  13007215.0  13972076.0  14009504.0  ...         NaN   \n",
       "AG   6520348.0   6886543.0   6893285.0   6907416.0  ...         NaN   \n",
       "AT   9231956.0  10004763.0  12589811.0  12660466.0  ...         NaN   \n",
       "CA   7709447.0   7797070.0   8253988.0   8545542.0  ...         NaN   \n",
       "CG  10451700.0  10460172.0  10645664.0  12526525.0  ...         NaN   \n",
       "CT   5121270.0   6722712.0   6983525.0   7003522.0  ...  21957669.0   \n",
       "GA   4346875.0   5189448.0   5878860.0   6690931.0  ...         NaN   \n",
       "GC   7749389.0   7908043.0   8325507.0   8527563.0  ...         NaN   \n",
       "GT   7774986.0   8610003.0   8933160.0  10008607.0  ...         NaN   \n",
       "TA   8350951.0  11681806.0  11967103.0  12541334.0  ...         NaN   \n",
       "TC   6060464.0   6667318.0   6826034.0   6908560.0  ...         NaN   \n",
       "TG   6965504.0   8192296.0   8739843.0   8763052.0  ...         NaN   \n",
       "\n",
       "           166         167         168         169         170         171  \\\n",
       "AC         NaN         NaN         NaN         NaN         NaN         NaN   \n",
       "AG         NaN         NaN         NaN         NaN         NaN         NaN   \n",
       "AT         NaN         NaN         NaN         NaN         NaN         NaN   \n",
       "CA         NaN         NaN         NaN         NaN         NaN         NaN   \n",
       "CG         NaN         NaN         NaN         NaN         NaN         NaN   \n",
       "CT  22366760.0  22368210.0  22765516.0  22808980.0  22825891.0  22835395.0   \n",
       "GA         NaN         NaN         NaN         NaN         NaN         NaN   \n",
       "GC         NaN         NaN         NaN         NaN         NaN         NaN   \n",
       "GT         NaN         NaN         NaN         NaN         NaN         NaN   \n",
       "TA         NaN         NaN         NaN         NaN         NaN         NaN   \n",
       "TC         NaN         NaN         NaN         NaN         NaN         NaN   \n",
       "TG         NaN         NaN         NaN         NaN         NaN         NaN   \n",
       "\n",
       "           172         173         174  \n",
       "AC         NaN         NaN         NaN  \n",
       "AG         NaN         NaN         NaN  \n",
       "AT         NaN         NaN         NaN  \n",
       "CA         NaN         NaN         NaN  \n",
       "CG         NaN         NaN         NaN  \n",
       "CT  22847367.0  26925716.0  27015657.0  \n",
       "GA         NaN         NaN         NaN  \n",
       "GC         NaN         NaN         NaN  \n",
       "GT         NaN         NaN         NaN  \n",
       "TA         NaN         NaN         NaN  \n",
       "TC         NaN         NaN         NaN  \n",
       "TG         NaN         NaN         NaN  \n",
       "\n",
       "[12 rows x 175 columns]"
      ]
     },
     "execution_count": 44,
     "metadata": {},
     "output_type": "execute_result"
    }
   ],
   "source": [
    "# make a dataframe from the lists \n",
    "# there will be missing values added (NaNs) \n",
    "# to make the lists have the same length because we need a matrix\n",
    "\n",
    "df_pos = series_pos_lst.apply(lambda x: pd.Series(x))\n",
    "df_pos"
   ]
  },
  {
   "cell_type": "code",
   "execution_count": 45,
   "metadata": {},
   "outputs": [
    {
     "data": {
      "text/html": [
       "<div>\n",
       "<style scoped>\n",
       "    .dataframe tbody tr th:only-of-type {\n",
       "        vertical-align: middle;\n",
       "    }\n",
       "\n",
       "    .dataframe tbody tr th {\n",
       "        vertical-align: top;\n",
       "    }\n",
       "\n",
       "    .dataframe thead th {\n",
       "        text-align: right;\n",
       "    }\n",
       "</style>\n",
       "<table border=\"1\" class=\"dataframe\">\n",
       "  <thead>\n",
       "    <tr style=\"text-align: right;\">\n",
       "      <th></th>\n",
       "      <th>AC</th>\n",
       "      <th>AG</th>\n",
       "      <th>AT</th>\n",
       "      <th>CA</th>\n",
       "      <th>CG</th>\n",
       "      <th>CT</th>\n",
       "      <th>GA</th>\n",
       "      <th>GC</th>\n",
       "      <th>GT</th>\n",
       "      <th>TA</th>\n",
       "      <th>TC</th>\n",
       "      <th>TG</th>\n",
       "    </tr>\n",
       "  </thead>\n",
       "  <tbody>\n",
       "    <tr>\n",
       "      <th>0</th>\n",
       "      <td>2947824.0</td>\n",
       "      <td>2746727.0</td>\n",
       "      <td>3134753.0</td>\n",
       "      <td>4426933.0</td>\n",
       "      <td>3094725.0</td>\n",
       "      <td>2743242.0</td>\n",
       "      <td>2734240.0</td>\n",
       "      <td>3537173.0</td>\n",
       "      <td>4706572.0</td>\n",
       "      <td>2777970.0</td>\n",
       "      <td>2728456.0</td>\n",
       "      <td>2813908.0</td>\n",
       "    </tr>\n",
       "    <tr>\n",
       "      <th>1</th>\n",
       "      <td>3034782.0</td>\n",
       "      <td>2782506.0</td>\n",
       "      <td>7609445.0</td>\n",
       "      <td>4546612.0</td>\n",
       "      <td>7630822.0</td>\n",
       "      <td>2899051.0</td>\n",
       "      <td>2783755.0</td>\n",
       "      <td>5257625.0</td>\n",
       "      <td>6067257.0</td>\n",
       "      <td>2816471.0</td>\n",
       "      <td>2815679.0</td>\n",
       "      <td>2841844.0</td>\n",
       "    </tr>\n",
       "    <tr>\n",
       "      <th>2</th>\n",
       "      <td>6741979.0</td>\n",
       "      <td>2788927.0</td>\n",
       "      <td>7772917.0</td>\n",
       "      <td>6941616.0</td>\n",
       "      <td>8110994.0</td>\n",
       "      <td>2962839.0</td>\n",
       "      <td>2900301.0</td>\n",
       "      <td>5746218.0</td>\n",
       "      <td>6972992.0</td>\n",
       "      <td>3781790.0</td>\n",
       "      <td>2891375.0</td>\n",
       "      <td>5788934.0</td>\n",
       "    </tr>\n",
       "    <tr>\n",
       "      <th>3</th>\n",
       "      <td>8289995.0</td>\n",
       "      <td>3751769.0</td>\n",
       "      <td>8170520.0</td>\n",
       "      <td>7269744.0</td>\n",
       "      <td>8442265.0</td>\n",
       "      <td>2972385.0</td>\n",
       "      <td>2923665.0</td>\n",
       "      <td>6991040.0</td>\n",
       "      <td>7244644.0</td>\n",
       "      <td>6986038.0</td>\n",
       "      <td>2944029.0</td>\n",
       "      <td>6737619.0</td>\n",
       "    </tr>\n",
       "    <tr>\n",
       "      <th>4</th>\n",
       "      <td>8476058.0</td>\n",
       "      <td>4177733.0</td>\n",
       "      <td>8528719.0</td>\n",
       "      <td>7346986.0</td>\n",
       "      <td>8596868.0</td>\n",
       "      <td>3168773.0</td>\n",
       "      <td>3144401.0</td>\n",
       "      <td>7366539.0</td>\n",
       "      <td>7702823.0</td>\n",
       "      <td>7741156.0</td>\n",
       "      <td>4305332.0</td>\n",
       "      <td>6810775.0</td>\n",
       "    </tr>\n",
       "    <tr>\n",
       "      <th>...</th>\n",
       "      <td>...</td>\n",
       "      <td>...</td>\n",
       "      <td>...</td>\n",
       "      <td>...</td>\n",
       "      <td>...</td>\n",
       "      <td>...</td>\n",
       "      <td>...</td>\n",
       "      <td>...</td>\n",
       "      <td>...</td>\n",
       "      <td>...</td>\n",
       "      <td>...</td>\n",
       "      <td>...</td>\n",
       "    </tr>\n",
       "    <tr>\n",
       "      <th>170</th>\n",
       "      <td>NaN</td>\n",
       "      <td>NaN</td>\n",
       "      <td>NaN</td>\n",
       "      <td>NaN</td>\n",
       "      <td>NaN</td>\n",
       "      <td>22825891.0</td>\n",
       "      <td>NaN</td>\n",
       "      <td>NaN</td>\n",
       "      <td>NaN</td>\n",
       "      <td>NaN</td>\n",
       "      <td>NaN</td>\n",
       "      <td>NaN</td>\n",
       "    </tr>\n",
       "    <tr>\n",
       "      <th>171</th>\n",
       "      <td>NaN</td>\n",
       "      <td>NaN</td>\n",
       "      <td>NaN</td>\n",
       "      <td>NaN</td>\n",
       "      <td>NaN</td>\n",
       "      <td>22835395.0</td>\n",
       "      <td>NaN</td>\n",
       "      <td>NaN</td>\n",
       "      <td>NaN</td>\n",
       "      <td>NaN</td>\n",
       "      <td>NaN</td>\n",
       "      <td>NaN</td>\n",
       "    </tr>\n",
       "    <tr>\n",
       "      <th>172</th>\n",
       "      <td>NaN</td>\n",
       "      <td>NaN</td>\n",
       "      <td>NaN</td>\n",
       "      <td>NaN</td>\n",
       "      <td>NaN</td>\n",
       "      <td>22847367.0</td>\n",
       "      <td>NaN</td>\n",
       "      <td>NaN</td>\n",
       "      <td>NaN</td>\n",
       "      <td>NaN</td>\n",
       "      <td>NaN</td>\n",
       "      <td>NaN</td>\n",
       "    </tr>\n",
       "    <tr>\n",
       "      <th>173</th>\n",
       "      <td>NaN</td>\n",
       "      <td>NaN</td>\n",
       "      <td>NaN</td>\n",
       "      <td>NaN</td>\n",
       "      <td>NaN</td>\n",
       "      <td>26925716.0</td>\n",
       "      <td>NaN</td>\n",
       "      <td>NaN</td>\n",
       "      <td>NaN</td>\n",
       "      <td>NaN</td>\n",
       "      <td>NaN</td>\n",
       "      <td>NaN</td>\n",
       "    </tr>\n",
       "    <tr>\n",
       "      <th>174</th>\n",
       "      <td>NaN</td>\n",
       "      <td>NaN</td>\n",
       "      <td>NaN</td>\n",
       "      <td>NaN</td>\n",
       "      <td>NaN</td>\n",
       "      <td>27015657.0</td>\n",
       "      <td>NaN</td>\n",
       "      <td>NaN</td>\n",
       "      <td>NaN</td>\n",
       "      <td>NaN</td>\n",
       "      <td>NaN</td>\n",
       "      <td>NaN</td>\n",
       "    </tr>\n",
       "  </tbody>\n",
       "</table>\n",
       "<p>175 rows × 12 columns</p>\n",
       "</div>"
      ],
      "text/plain": [
       "            AC         AG         AT         CA         CG          CT  \\\n",
       "0    2947824.0  2746727.0  3134753.0  4426933.0  3094725.0   2743242.0   \n",
       "1    3034782.0  2782506.0  7609445.0  4546612.0  7630822.0   2899051.0   \n",
       "2    6741979.0  2788927.0  7772917.0  6941616.0  8110994.0   2962839.0   \n",
       "3    8289995.0  3751769.0  8170520.0  7269744.0  8442265.0   2972385.0   \n",
       "4    8476058.0  4177733.0  8528719.0  7346986.0  8596868.0   3168773.0   \n",
       "..         ...        ...        ...        ...        ...         ...   \n",
       "170        NaN        NaN        NaN        NaN        NaN  22825891.0   \n",
       "171        NaN        NaN        NaN        NaN        NaN  22835395.0   \n",
       "172        NaN        NaN        NaN        NaN        NaN  22847367.0   \n",
       "173        NaN        NaN        NaN        NaN        NaN  26925716.0   \n",
       "174        NaN        NaN        NaN        NaN        NaN  27015657.0   \n",
       "\n",
       "            GA         GC         GT         TA         TC         TG  \n",
       "0    2734240.0  3537173.0  4706572.0  2777970.0  2728456.0  2813908.0  \n",
       "1    2783755.0  5257625.0  6067257.0  2816471.0  2815679.0  2841844.0  \n",
       "2    2900301.0  5746218.0  6972992.0  3781790.0  2891375.0  5788934.0  \n",
       "3    2923665.0  6991040.0  7244644.0  6986038.0  2944029.0  6737619.0  \n",
       "4    3144401.0  7366539.0  7702823.0  7741156.0  4305332.0  6810775.0  \n",
       "..         ...        ...        ...        ...        ...        ...  \n",
       "170        NaN        NaN        NaN        NaN        NaN        NaN  \n",
       "171        NaN        NaN        NaN        NaN        NaN        NaN  \n",
       "172        NaN        NaN        NaN        NaN        NaN        NaN  \n",
       "173        NaN        NaN        NaN        NaN        NaN        NaN  \n",
       "174        NaN        NaN        NaN        NaN        NaN        NaN  \n",
       "\n",
       "[175 rows x 12 columns]"
      ]
     },
     "execution_count": 45,
     "metadata": {},
     "output_type": "execute_result"
    }
   ],
   "source": [
    "# transpose to make the variant types the columns\n",
    "\n",
    "df_pos.T"
   ]
  },
  {
   "cell_type": "code",
   "execution_count": 46,
   "metadata": {},
   "outputs": [
    {
     "data": {
      "text/plain": [
       "<AxesSubplot:>"
      ]
     },
     "execution_count": 46,
     "metadata": {},
     "output_type": "execute_result"
    },
    {
     "data": {
      "image/png": "[encoded data removed]",
      "text/plain": [
       "<Figure size 432x288 with 1 Axes>"
      ]
     },
     "metadata": {
      "needs_background": "light"
     },
     "output_type": "display_data"
    }
   ],
   "source": [
    "# plot the column, each column will be plotted separatelly \n",
    "# (different line in the plot or different bar or different box)\n",
    "\n",
    "# note the. sclae of the yaxes shows 1e7 on the top left\n",
    "# that means the scale must be multiplied by 10 to the power 7 (1e7 scientific notation)\n",
    "# the genome positions span a long range\n",
    "\n",
    "# the variant type seem to randomly distributed and no type is \n",
    "# more prevalent towards the beginning or eand of the genomic position\n",
    "\n",
    "df_pos.T.boxplot()\n"
   ]
  },
  {
   "cell_type": "code",
   "execution_count": 50,
   "metadata": {},
   "outputs": [
    {
     "data": {
      "text/plain": [
       "<AxesSubplot:>"
      ]
     },
     "execution_count": 50,
     "metadata": {},
     "output_type": "execute_result"
    },
    {
     "data": {
      "image/png": "[encoded data removed]",
      "text/plain": [
       "<Figure size 720x288 with 1 Axes>"
      ]
     },
     "metadata": {
      "needs_background": "light"
     },
     "output_type": "display_data"
    }
   ],
   "source": [
    "# make the figure larger by setting the length and width of the figure\n",
    "\n",
    "df_pos.T.boxplot(figsize = (10,4))"
   ]
  },
  {
   "cell_type": "code",
   "execution_count": 52,
   "metadata": {},
   "outputs": [
    {
     "data": {
      "text/plain": [
       "0      2728456.0\n",
       "1      2815679.0\n",
       "2      2891375.0\n",
       "3      2944029.0\n",
       "4      4305332.0\n",
       "         ...    \n",
       "170          NaN\n",
       "171          NaN\n",
       "172          NaN\n",
       "173          NaN\n",
       "174          NaN\n",
       "Name: TC, Length: 175, dtype: float64"
      ]
     },
     "execution_count": 52,
     "metadata": {},
     "output_type": "execute_result"
    }
   ],
   "source": [
    "# get the positions for the TC variants\n",
    "# select the given row from the dataframe\n",
    "\n",
    "df_pos.loc[\"TC\",]"
   ]
  },
  {
   "cell_type": "code",
   "execution_count": 53,
   "metadata": {},
   "outputs": [
    {
     "data": {
      "text/plain": [
       "<AxesSubplot:>"
      ]
     },
     "execution_count": 53,
     "metadata": {},
     "output_type": "execute_result"
    },
    {
     "data": {
      "image/png": "[encoded data removed]",
      "text/plain": [
       "<Figure size 432x288 with 1 Axes>"
      ]
     },
     "metadata": {
      "needs_background": "light"
     },
     "output_type": "display_data"
    }
   ],
   "source": [
    "# plot the data\n",
    "\n",
    "df_pos.loc[\"TC\",].plot()"
   ]
  },
  {
   "cell_type": "code",
   "execution_count": 55,
   "metadata": {},
   "outputs": [
    {
     "data": {
      "text/plain": [
       "[<matplotlib.lines.Line2D at 0x11cead160>]"
      ]
     },
     "execution_count": 55,
     "metadata": {},
     "output_type": "execute_result"
    },
    {
     "data": {
      "image/png": "[encoded data removed]",
      "text/plain": [
       "<Figure size 432x288 with 1 Axes>"
      ]
     },
     "metadata": {
      "needs_background": "light"
     },
     "output_type": "display_data"
    }
   ],
   "source": [
    "# select the respective element from the series, and plot the list\n",
    "plt.plot(series_pos_lst[\"TC\"])"
   ]
  },
  {
   "cell_type": "code",
   "execution_count": 68,
   "metadata": {},
   "outputs": [
    {
     "data": {
      "text/plain": [
       "[<matplotlib.lines.Line2D at 0x11ddecca0>]"
      ]
     },
     "execution_count": 68,
     "metadata": {},
     "output_type": "execute_result"
    },
    {
     "data": {
      "image/png": "[encoded data removed]",
      "text/plain": [
       "<Figure size 1080x360 with 1 Axes>"
      ]
     },
     "metadata": {
      "needs_background": "light"
     },
     "output_type": "display_data"
    }
   ],
   "source": [
    "# make a scatter plot by setting the point marker to triangle and \n",
    "# the line width to 0 to remove the line\n",
    "# if you want to chage the figure size you need to do that before plotting\n",
    "\n",
    "plt.figure(figsize = (15,5))\n",
    "plt.plot(series_pos_lst[\"TC\"], marker = \">\", linewidth = \"0\")"
   ]
  },
  {
   "cell_type": "code",
   "execution_count": 69,
   "metadata": {},
   "outputs": [],
   "source": [
    "# scatter is not available for series, just data frames\n",
    "\n",
    "# df_pos.loc[\"TC\"].plot(kind = \"scatter\")\n",
    "\n",
    "# ValueError: plot kind scatter can only be used for data frames"
   ]
  },
  {
   "cell_type": "code",
   "execution_count": 70,
   "metadata": {},
   "outputs": [
    {
     "data": {
      "text/plain": [
       "<AxesSubplot:>"
      ]
     },
     "execution_count": 70,
     "metadata": {},
     "output_type": "execute_result"
    },
    {
     "data": {
      "image/png": "[encoded data removed]",
      "text/plain": [
       "<Figure size 432x288 with 1 Axes>"
      ]
     },
     "metadata": {
      "needs_background": "light"
     },
     "output_type": "display_data"
    }
   ],
   "source": [
    "# using the series plot\n",
    "# make a scatter plot by setting the point marker to dot and \n",
    "# the line width to 0 to remove the line\n",
    "\n",
    "df_pos.loc[\"TC\"].plot(linewidth = 0, marker = \".\")"
   ]
  },
  {
   "cell_type": "code",
   "execution_count": 77,
   "metadata": {},
   "outputs": [
    {
     "data": {
      "text/plain": [
       "<AxesSubplot:>"
      ]
     },
     "execution_count": 77,
     "metadata": {},
     "output_type": "execute_result"
    },
    {
     "data": {
      "image/png": "[encoded data removed]",
      "text/plain": [
       "<Figure size 1080x432 with 1 Axes>"
      ]
     },
     "metadata": {
      "needs_background": "light"
     },
     "output_type": "display_data"
    }
   ],
   "source": [
    "df_pos.loc[\"TC\"].plot(style = \"m.\", figsize = (15,6))"
   ]
  },
  {
   "cell_type": "code",
   "execution_count": 102,
   "metadata": {},
   "outputs": [
    {
     "name": "stdout",
     "output_type": "stream",
     "text": [
      "          0          1          2          3          4          5    \\\n",
      "TC  2728456.0  2815679.0  2891375.0  2944029.0  4305332.0  5066360.0   \n",
      "\n",
      "          6          7          8          9    ...  165  166  167  168  169  \\\n",
      "TC  6060464.0  6667318.0  6826034.0  6908560.0  ...  NaN  NaN  NaN  NaN  NaN   \n",
      "\n",
      "    170  171  172  173  174  \n",
      "TC  NaN  NaN  NaN  NaN  NaN  \n",
      "\n",
      "[1 rows x 175 columns]\n"
     ]
    },
    {
     "data": {
      "text/plain": [
       "pandas.core.frame.DataFrame"
      ]
     },
     "execution_count": 102,
     "metadata": {},
     "output_type": "execute_result"
    }
   ],
   "source": [
    "# using the dataframe plot\n",
    "# when you index a dataframe you get a series, when you subset a dataframe you get a dataframe\n",
    "\n",
    "df_TC = df_pos.loc[\"TC\":\"TC\"]\n",
    "print(df_TC)\n",
    "type(df_TC)"
   ]
  },
  {
   "cell_type": "code",
   "execution_count": 88,
   "metadata": {},
   "outputs": [
    {
     "data": {
      "text/plain": [
       "pandas.core.frame.DataFrame"
      ]
     },
     "execution_count": 88,
     "metadata": {},
     "output_type": "execute_result"
    }
   ],
   "source": [
    "type(df_TC)"
   ]
  },
  {
   "cell_type": "code",
   "execution_count": 89,
   "metadata": {},
   "outputs": [
    {
     "data": {
      "text/plain": [
       "(1, 175)"
      ]
     },
     "execution_count": 89,
     "metadata": {},
     "output_type": "execute_result"
    }
   ],
   "source": [
    "df_TC.shape"
   ]
  },
  {
   "cell_type": "code",
   "execution_count": 103,
   "metadata": {},
   "outputs": [
    {
     "data": {
      "text/plain": [
       "<AxesSubplot:xlabel='TC', ylabel='TC'>"
      ]
     },
     "execution_count": 103,
     "metadata": {},
     "output_type": "execute_result"
    },
    {
     "data": {
      "image/png": "[encoded data removed]",
      "text/plain": [
       "<Figure size 432x288 with 1 Axes>"
      ]
     },
     "metadata": {
      "needs_background": "light"
     },
     "output_type": "display_data"
    }
   ],
   "source": [
    "# for the scatter plot \n",
    "# we need to have two columns in the dataframe to set x and y\n",
    "\n",
    "df_TC.T.plot(x = \"TC\", y = \"TC\", kind = \"scatter\")"
   ]
  },
  {
   "cell_type": "code",
   "execution_count": 96,
   "metadata": {},
   "outputs": [
    {
     "data": {
      "text/plain": [
       "RangeIndex(start=0, stop=175, step=1)"
      ]
     },
     "execution_count": 96,
     "metadata": {},
     "output_type": "execute_result"
    }
   ],
   "source": [
    "# our x should be the column labels of the non transposed df\n",
    "df_TC.columns"
   ]
  },
  {
   "cell_type": "code",
   "execution_count": 105,
   "metadata": {},
   "outputs": [
    {
     "data": {
      "text/plain": [
       "0        0\n",
       "1        1\n",
       "2        2\n",
       "3        3\n",
       "4        4\n",
       "      ... \n",
       "170    170\n",
       "171    171\n",
       "172    172\n",
       "173    173\n",
       "174    174\n",
       "Name: column_x, Length: 175, dtype: int64"
      ]
     },
     "execution_count": 105,
     "metadata": {},
     "output_type": "execute_result"
    }
   ],
   "source": [
    "# we make it a series and we add a name to it\n",
    "col_x = pd.Series(df_TC.columns, name = \"column_x\")\n",
    "col_x"
   ]
  },
  {
   "cell_type": "code",
   "execution_count": 106,
   "metadata": {},
   "outputs": [
    {
     "data": {
      "text/html": [
       "<div>\n",
       "<style scoped>\n",
       "    .dataframe tbody tr th:only-of-type {\n",
       "        vertical-align: middle;\n",
       "    }\n",
       "\n",
       "    .dataframe tbody tr th {\n",
       "        vertical-align: top;\n",
       "    }\n",
       "\n",
       "    .dataframe thead th {\n",
       "        text-align: right;\n",
       "    }\n",
       "</style>\n",
       "<table border=\"1\" class=\"dataframe\">\n",
       "  <thead>\n",
       "    <tr style=\"text-align: right;\">\n",
       "      <th></th>\n",
       "      <th>TC</th>\n",
       "      <th>column_x</th>\n",
       "    </tr>\n",
       "  </thead>\n",
       "  <tbody>\n",
       "    <tr>\n",
       "      <th>0</th>\n",
       "      <td>2728456.0</td>\n",
       "      <td>0</td>\n",
       "    </tr>\n",
       "    <tr>\n",
       "      <th>1</th>\n",
       "      <td>2815679.0</td>\n",
       "      <td>1</td>\n",
       "    </tr>\n",
       "    <tr>\n",
       "      <th>2</th>\n",
       "      <td>2891375.0</td>\n",
       "      <td>2</td>\n",
       "    </tr>\n",
       "    <tr>\n",
       "      <th>3</th>\n",
       "      <td>2944029.0</td>\n",
       "      <td>3</td>\n",
       "    </tr>\n",
       "    <tr>\n",
       "      <th>4</th>\n",
       "      <td>4305332.0</td>\n",
       "      <td>4</td>\n",
       "    </tr>\n",
       "    <tr>\n",
       "      <th>...</th>\n",
       "      <td>...</td>\n",
       "      <td>...</td>\n",
       "    </tr>\n",
       "    <tr>\n",
       "      <th>170</th>\n",
       "      <td>NaN</td>\n",
       "      <td>170</td>\n",
       "    </tr>\n",
       "    <tr>\n",
       "      <th>171</th>\n",
       "      <td>NaN</td>\n",
       "      <td>171</td>\n",
       "    </tr>\n",
       "    <tr>\n",
       "      <th>172</th>\n",
       "      <td>NaN</td>\n",
       "      <td>172</td>\n",
       "    </tr>\n",
       "    <tr>\n",
       "      <th>173</th>\n",
       "      <td>NaN</td>\n",
       "      <td>173</td>\n",
       "    </tr>\n",
       "    <tr>\n",
       "      <th>174</th>\n",
       "      <td>NaN</td>\n",
       "      <td>174</td>\n",
       "    </tr>\n",
       "  </tbody>\n",
       "</table>\n",
       "<p>175 rows × 2 columns</p>\n",
       "</div>"
      ],
      "text/plain": [
       "            TC  column_x\n",
       "0    2728456.0         0\n",
       "1    2815679.0         1\n",
       "2    2891375.0         2\n",
       "3    2944029.0         3\n",
       "4    4305332.0         4\n",
       "..         ...       ...\n",
       "170        NaN       170\n",
       "171        NaN       171\n",
       "172        NaN       172\n",
       "173        NaN       173\n",
       "174        NaN       174\n",
       "\n",
       "[175 rows x 2 columns]"
      ]
     },
     "execution_count": 106,
     "metadata": {},
     "output_type": "execute_result"
    }
   ],
   "source": [
    "# then we add the Series as a column to the dataframe using join\n",
    "df_TC.T.join(col_x)"
   ]
  },
  {
   "cell_type": "code",
   "execution_count": 107,
   "metadata": {},
   "outputs": [
    {
     "data": {
      "text/plain": [
       "<AxesSubplot:xlabel='column_x', ylabel='TC'>"
      ]
     },
     "execution_count": 107,
     "metadata": {},
     "output_type": "execute_result"
    },
    {
     "data": {
      "image/png": "[encoded data removed]",
      "text/plain": [
       "<Figure size 432x288 with 1 Axes>"
      ]
     },
     "metadata": {
      "needs_background": "light"
     },
     "output_type": "display_data"
    }
   ],
   "source": [
    "# the resulting df has two columns so we do a scatterplot\n",
    "\n",
    "df_TC.T.join(col_x).plot(x = \"column_x\", y = \"TC\", kind = \"scatter\")"
   ]
  },
  {
   "cell_type": "code",
   "execution_count": null,
   "metadata": {},
   "outputs": [],
   "source": []
  },
  {
   "cell_type": "markdown",
   "metadata": {
    "tags": []
   },
   "source": [
    "____\n",
    "____\n",
    "\n",
    "\n",
    "#### Read alignment analysis   \n",
    "We have the sequence alingnment data for a (biological) sample.   \n",
    "\n",
    "\n",
    "\n"
   ]
  },
  {
   "cell_type": "markdown",
   "metadata": {},
   "source": [
    "___\n",
    "\n",
    "<b> <font color = \"red\">Exercise</font></b>\n",
    "\n",
    "<b>From the bam file mt.bam, select the reads that align at positions FROM 5500 TO 5550. </b>\n",
    "(updated requirements to make the list of positions shorter and the reads list more mangeable)     \n",
    "<b>Create a Counter (from collections import Counter) list and keep track of each base that aligns at a certain position from 5500 to 5650, the list has 151 elements indices 0-150, index 0 corresponds to position 5500 in the genome </b>    \n",
    "We go beyond the 5550 position because if the read aligns at position 5550 the first nucleotide in the read aligns there and subsequent nucleotides in the read align at subsequent positions and the read might have 100 nucleotides."
   ]
  },
  {
   "cell_type": "code",
   "execution_count": 111,
   "metadata": {},
   "outputs": [],
   "source": [
    "# Write your solution here\n",
    "\n",
    "\n"
   ]
  },
  {
   "cell_type": "markdown",
   "metadata": {},
   "source": [
    "`mt.bam` is from  https://github.com/brainstorm/tiny-test-data/tree/master/wgs\n"
   ]
  },
  {
   "cell_type": "code",
   "execution_count": null,
   "metadata": {},
   "outputs": [
    {
     "ename": "TypeError",
     "evalue": "object of type 'NoneType' has no len()",
     "output_type": "error",
     "traceback": [
      "\u001b[0;31m---------------------------------------------------------------------------\u001b[0m",
      "\u001b[0;31mTypeError\u001b[0m                                 Traceback (most recent call last)",
      "\u001b[0;32m/var/folders/dg/8l7ql9hs6j71k502y3_6r3jh0000gp/T/ipykernel_7567/2408373372.py\u001b[0m in \u001b[0;36m<module>\u001b[0;34m\u001b[0m\n\u001b[0;32m----> 1\u001b[0;31m \u001b[0mnext\u001b[0m\u001b[0;34m(\u001b[0m\u001b[0mbam\u001b[0m\u001b[0;34m)\u001b[0m\u001b[0;34m\u001b[0m\u001b[0;34m\u001b[0m\u001b[0m\n\u001b[0m",
      "\u001b[0;32m/opt/anaconda3/lib/python3.8/site-packages/bamnostic/bam.py\u001b[0m in \u001b[0;36m__next__\u001b[0;34m(self)\u001b[0m\n\u001b[1;32m   1049\u001b[0m         \u001b[0;34m\"\"\"Return the next line (Py2 Compatibility).\"\"\"\u001b[0m\u001b[0;34m\u001b[0m\u001b[0;34m\u001b[0m\u001b[0m\n\u001b[1;32m   1050\u001b[0m \u001b[0;34m\u001b[0m\u001b[0m\n\u001b[0;32m-> 1051\u001b[0;31m         \u001b[0mread\u001b[0m \u001b[0;34m=\u001b[0m \u001b[0mbamnostic\u001b[0m\u001b[0;34m.\u001b[0m\u001b[0mAlignedSegment\u001b[0m\u001b[0;34m(\u001b[0m\u001b[0mself\u001b[0m\u001b[0;34m)\u001b[0m\u001b[0;34m\u001b[0m\u001b[0;34m\u001b[0m\u001b[0m\n\u001b[0m\u001b[1;32m   1052\u001b[0m         \u001b[0;32mif\u001b[0m \u001b[0;32mnot\u001b[0m \u001b[0mread\u001b[0m\u001b[0;34m:\u001b[0m\u001b[0;34m\u001b[0m\u001b[0;34m\u001b[0m\u001b[0m\n\u001b[1;32m   1053\u001b[0m             \u001b[0;32mraise\u001b[0m \u001b[0mStopIteration\u001b[0m\u001b[0;34m\u001b[0m\u001b[0;34m\u001b[0m\u001b[0m\n",
      "\u001b[0;32m/opt/anaconda3/lib/python3.8/site-packages/bamnostic/core.py\u001b[0m in \u001b[0;36m__init__\u001b[0;34m(self, _io)\u001b[0m\n\u001b[1;32m    218\u001b[0m         \"\"\"\n\u001b[1;32m    219\u001b[0m         \u001b[0mself\u001b[0m\u001b[0;34m.\u001b[0m\u001b[0m_io\u001b[0m \u001b[0;34m=\u001b[0m \u001b[0m_io\u001b[0m\u001b[0;34m\u001b[0m\u001b[0;34m\u001b[0m\u001b[0m\n\u001b[0;32m--> 220\u001b[0;31m         \u001b[0mbsize_buffer\u001b[0m \u001b[0;34m=\u001b[0m \u001b[0mself\u001b[0m\u001b[0;34m.\u001b[0m\u001b[0m_io\u001b[0m\u001b[0;34m.\u001b[0m\u001b[0mread\u001b[0m\u001b[0;34m(\u001b[0m\u001b[0;36m4\u001b[0m\u001b[0;34m)\u001b[0m\u001b[0;34m\u001b[0m\u001b[0;34m\u001b[0m\u001b[0m\n\u001b[0m\u001b[1;32m    221\u001b[0m         \u001b[0;32mtry\u001b[0m\u001b[0;34m:\u001b[0m\u001b[0;34m\u001b[0m\u001b[0;34m\u001b[0m\u001b[0m\n\u001b[1;32m    222\u001b[0m             \u001b[0mblock_size\u001b[0m \u001b[0;34m=\u001b[0m \u001b[0munpack_int32\u001b[0m\u001b[0;34m(\u001b[0m\u001b[0mbsize_buffer\u001b[0m\u001b[0;34m)\u001b[0m\u001b[0;34m[\u001b[0m\u001b[0;36m0\u001b[0m\u001b[0;34m]\u001b[0m\u001b[0;34m\u001b[0m\u001b[0;34m\u001b[0m\u001b[0m\n",
      "\u001b[0;32m/opt/anaconda3/lib/python3.8/site-packages/bamnostic/bgzf.py\u001b[0m in \u001b[0;36mread\u001b[0;34m(self, size)\u001b[0m\n\u001b[1;32m    420\u001b[0m             \u001b[0;31m# to multiple blocks, or fully contained within one.\u001b[0m\u001b[0;34m\u001b[0m\u001b[0;34m\u001b[0m\u001b[0;34m\u001b[0m\u001b[0m\n\u001b[1;32m    421\u001b[0m             \u001b[0;32mwhile\u001b[0m \u001b[0msize\u001b[0m\u001b[0;34m:\u001b[0m\u001b[0;34m\u001b[0m\u001b[0;34m\u001b[0m\u001b[0m\n\u001b[0;32m--> 422\u001b[0;31m                 \u001b[0;32mif\u001b[0m \u001b[0mself\u001b[0m\u001b[0;34m.\u001b[0m\u001b[0m_within_block_offset\u001b[0m \u001b[0;34m+\u001b[0m \u001b[0msize\u001b[0m \u001b[0;34m<=\u001b[0m \u001b[0mlen\u001b[0m\u001b[0;34m(\u001b[0m\u001b[0mself\u001b[0m\u001b[0;34m.\u001b[0m\u001b[0m_buffer\u001b[0m\u001b[0;34m)\u001b[0m\u001b[0;34m:\u001b[0m\u001b[0;34m\u001b[0m\u001b[0;34m\u001b[0m\u001b[0m\n\u001b[0m\u001b[1;32m    423\u001b[0m                     \u001b[0;31m# This may leave us right at the end of a block\u001b[0m\u001b[0;34m\u001b[0m\u001b[0;34m\u001b[0m\u001b[0;34m\u001b[0m\u001b[0m\n\u001b[1;32m    424\u001b[0m                     \u001b[0;31m# (lazy loading, don't load the next block unless we have too)\u001b[0m\u001b[0;34m\u001b[0m\u001b[0;34m\u001b[0m\u001b[0;34m\u001b[0m\u001b[0m\n",
      "\u001b[0;31mTypeError\u001b[0m: object of type 'NoneType' has no len()"
     ]
    }
   ],
   "source": [
    "next(bam)"
   ]
  },
  {
   "cell_type": "code",
   "execution_count": 113,
   "metadata": {
    "tags": []
   },
   "outputs": [
    {
     "name": "stdout",
     "output_type": "stream",
     "text": [
      "GAACCCTAACACCAGCCTAACCAGATTTCAAATTTTATCTTTTGGCGGTATGCACTTTTAACTCTTGCACCCACCTCGGGAGGAGGGAGGGGGTAGGAGAG 365\n",
      "CTCTCCTACCCCCTCCCTCCTCCCGAGGTGGGTGCAAG 144442892\n",
      "TCTTTGATTCCTGCCTCATCCTATTATTTATCGCACCTACGTTCAATATTACAGGCGAACATACTTACTAAAGTGTGTTAATTAATTAATGCTTGTAGGAC 130\n",
      "TCATCAGGGGAAATTTCCCCCACACCAGGAGCTAACCAGATTTCAAATTTTATCTTTTGGCGGTATGCACTTTTAACAGTCACCCCCCAACTAACACATTA 381\n",
      "TCATCAGGGGAAATTTCCCCCACACCAGGAGCT 137917\n",
      "GTTTAGACGGGCTCACATCACCCCATAAACAAATAGGTTTGGTCCTAGCCTTTCTATTAGCTCTTAGTAAGATTACACATGCAAGCATCCCCGTTCCAGTG 616\n",
      "GAGATGATACCTTGAAAGGAACTGCACACCTAGTGAATTATAAGCCACTCCCATACTACTAATCTCATCAACACAACCCCCGCCCATCCTACCCAGCACAC 461\n",
      "GAGATGATACCTTGAAAGGAACTGCACACCTAGTGAATTATAAGCCACT 33636158\n",
      "CCTAGCCTTTCTATTAGCTCTTAGTAAGATTACACATGCAAGCATCCCCGTTCCAGTGAGTTCACCCTCTAAATCCCCACGATCAAAAGGGACAAGCATCA 659\n",
      "TGTTCTGTAATCGATAAACCCCGATCAACCTCACCACCTCTTGCTCAGCCTATATACCGCCATCTTCAGCAAACCCTGATGAAGGCTACAAAGTAAGCGCA 1204\n"
     ]
    }
   ],
   "source": [
    "# Open the bam file and go through the reads one at a time\n",
    "# we use the with control structure to open the file \n",
    "# so we don't have to explicitly close the file\n",
    "\n",
    "# the warning appears ony the first timewe run the code\n",
    "# the warning tells us we do not have an index file (.bai) for the bam file\n",
    "# typically bam files are large so we need an index to quickly access the data\n",
    "# without the index file it is slower, but there is no other issue with data acess\n",
    "\n",
    "with bs.AlignmentFile(\"mt.bam\", 'rb') as bam:\n",
    "    no_reads = 0\n",
    "    for read in bam:\n",
    "        no_reads += 1 # printing another read so increase the number\n",
    "        print(read.seq, read.pos)\n",
    "        if no_reads >= 10: # when you reached 10 reads\n",
    "            break # exit the loop"
   ]
  },
  {
   "cell_type": "code",
   "execution_count": 114,
   "metadata": {},
   "outputs": [
    {
     "data": {
      "text/plain": [
       "17"
      ]
     },
     "execution_count": 114,
     "metadata": {},
     "output_type": "execute_result"
    }
   ],
   "source": [
    "# now let's put a condition and get only the reads with a position between 5500 and 5550\n",
    "# the result will be a list of reads\n",
    "\n",
    "reads_lst = []\n",
    "\n",
    "with bs.AlignmentFile(\"mt.bam\", 'rb') as bam_file:\n",
    "    for read in bam_file:\n",
    "        if (read.pos >= 5500 and read.pos <= 5550): # when we find a read that matches the position\n",
    "            reads_lst.append(read) # add it to the list\n",
    "\n",
    "# check how many reads we have in the list           \n",
    "len(reads_lst)"
   ]
  },
  {
   "cell_type": "code",
   "execution_count": 118,
   "metadata": {},
   "outputs": [
    {
     "data": {
      "text/plain": [
       "(75422376, 'CAAGGCAGGAGGTTTGCCAAACTGGAATATGGAGCCCATGGCCGGGG')"
      ]
     },
     "execution_count": 118,
     "metadata": {},
     "output_type": "execute_result"
    }
   ],
   "source": [
    "# let's look at the last read in the file\n",
    "# at the end of the for loop the read variable will contain the last read\n",
    "read.pos, read.seq"
   ]
  },
  {
   "cell_type": "markdown",
   "metadata": {},
   "source": [
    "```\n",
    "# lets align to a genome of. size 10 a read of 3 nucleotides starting at pos (0-based) 4:\n",
    "read.seq ACT\n",
    "read.pos 4\n",
    "\n",
    "____\n",
    "read      :         A C T\n",
    "index     : 0 1 2 3 4 5 6 7 8 9 10\n",
    "_____________\n",
    "\n",
    "# lets align to a genome of size 10 another read of 3 nucleotides starting at pos (0-based) 5:\n",
    "read.seq CAC\n",
    "read.pos 5\n",
    "____\n",
    "read      :         A C T\n",
    "read1     :           C A C\n",
    "index     : 0 1 2 3 4 5 6 7 8 9 10\n",
    "```"
   ]
  },
  {
   "cell_type": "code",
   "execution_count": 121,
   "metadata": {},
   "outputs": [],
   "source": [
    "# a counter will keep track of the reads at each position\n",
    "# we added in the import cell at the top of the notebook the import statement:\n",
    "# from collections import Counter\n",
    "\n",
    "# create an empty counter\n",
    "c = Counter()"
   ]
  },
  {
   "cell_type": "code",
   "execution_count": 122,
   "metadata": {},
   "outputs": [],
   "source": [
    "# add a nucleotide \n",
    "# look at index 6 in the above example \n",
    "# if we run the cell multiple times we will add multiple T nucleotides\n",
    "# the value for T will increase by 1 with each run\n",
    "# to reset run the above cell\n",
    "\n",
    "c.update(\"T\")"
   ]
  },
  {
   "cell_type": "code",
   "execution_count": 123,
   "metadata": {},
   "outputs": [
    {
     "data": {
      "text/plain": [
       "Counter({'T': 1})"
      ]
     },
     "execution_count": 123,
     "metadata": {},
     "output_type": "execute_result"
    }
   ],
   "source": [
    "c"
   ]
  },
  {
   "cell_type": "code",
   "execution_count": 124,
   "metadata": {},
   "outputs": [],
   "source": [
    "# we add another nucleotide\n",
    "\n",
    "c.update(\"A\")"
   ]
  },
  {
   "cell_type": "code",
   "execution_count": 126,
   "metadata": {},
   "outputs": [
    {
     "data": {
      "text/plain": [
       "Counter({'T': 1, 'A': 1})"
      ]
     },
     "execution_count": 126,
     "metadata": {},
     "output_type": "execute_result"
    }
   ],
   "source": [
    "c"
   ]
  },
  {
   "cell_type": "code",
   "execution_count": 132,
   "metadata": {},
   "outputs": [
    {
     "name": "stdout",
     "output_type": "stream",
     "text": [
      "150\n"
     ]
    },
    {
     "data": {
      "text/plain": [
       "[Counter(),\n",
       " Counter(),\n",
       " Counter(),\n",
       " Counter(),\n",
       " Counter(),\n",
       " Counter(),\n",
       " Counter(),\n",
       " Counter(),\n",
       " Counter(),\n",
       " Counter()]"
      ]
     },
     "execution_count": 132,
     "metadata": {},
     "output_type": "execute_result"
    }
   ],
   "source": [
    "# let's create the genome positions list with counters for each position\n",
    "# we use a comprehension to create a list of 151 empty counters\n",
    "\n",
    "genome_pos = [Counter() for i in range(150)]\n",
    "print(len(genome_pos))\n",
    "genome_pos[:10]\n"
   ]
  },
  {
   "cell_type": "code",
   "execution_count": 133,
   "metadata": {},
   "outputs": [
    {
     "name": "stdout",
     "output_type": "stream",
     "text": [
      "read pos:  5500\n",
      "read seq:  ACCCCTACCTACCCACCCTATTATCCAAATAATCTTATAGAAATGTAGGTTAAATACAGGCCAGGCGCCTTCAAAGCCCCCAGTGAGTTGCAATACAAAAC\n"
     ]
    },
    {
     "data": {
      "text/plain": [
       "[Counter({'A': 1}),\n",
       " Counter({'C': 1}),\n",
       " Counter({'C': 1}),\n",
       " Counter({'C': 1}),\n",
       " Counter({'C': 1}),\n",
       " Counter({'T': 1}),\n",
       " Counter({'A': 1}),\n",
       " Counter({'C': 1}),\n",
       " Counter({'C': 1}),\n",
       " Counter({'T': 1}),\n",
       " Counter({'A': 1}),\n",
       " Counter({'C': 1}),\n",
       " Counter({'C': 1}),\n",
       " Counter({'C': 1}),\n",
       " Counter({'A': 1}),\n",
       " Counter({'C': 1}),\n",
       " Counter({'C': 1}),\n",
       " Counter({'C': 1}),\n",
       " Counter({'T': 1}),\n",
       " Counter({'A': 1}),\n",
       " Counter({'T': 1}),\n",
       " Counter({'T': 1}),\n",
       " Counter({'A': 1}),\n",
       " Counter({'T': 1}),\n",
       " Counter({'C': 1}),\n",
       " Counter({'C': 1}),\n",
       " Counter({'A': 1}),\n",
       " Counter({'A': 1}),\n",
       " Counter({'A': 1}),\n",
       " Counter({'T': 1}),\n",
       " Counter({'A': 1}),\n",
       " Counter({'A': 1}),\n",
       " Counter({'T': 1}),\n",
       " Counter({'C': 1}),\n",
       " Counter({'T': 1}),\n",
       " Counter({'T': 1}),\n",
       " Counter({'A': 1}),\n",
       " Counter({'T': 1}),\n",
       " Counter({'A': 1}),\n",
       " Counter({'G': 1}),\n",
       " Counter({'A': 1}),\n",
       " Counter({'A': 1}),\n",
       " Counter({'A': 1}),\n",
       " Counter({'T': 1}),\n",
       " Counter({'G': 1}),\n",
       " Counter({'T': 1}),\n",
       " Counter({'A': 1}),\n",
       " Counter({'G': 1}),\n",
       " Counter({'G': 1}),\n",
       " Counter({'T': 1}),\n",
       " Counter({'T': 1}),\n",
       " Counter({'A': 1}),\n",
       " Counter({'A': 1}),\n",
       " Counter({'A': 1}),\n",
       " Counter({'T': 1}),\n",
       " Counter({'A': 1}),\n",
       " Counter({'C': 1}),\n",
       " Counter({'A': 1}),\n",
       " Counter({'G': 1}),\n",
       " Counter({'G': 1}),\n",
       " Counter({'C': 1}),\n",
       " Counter({'C': 1}),\n",
       " Counter({'A': 1}),\n",
       " Counter({'G': 1}),\n",
       " Counter({'G': 1}),\n",
       " Counter({'C': 1}),\n",
       " Counter({'G': 1}),\n",
       " Counter({'C': 1}),\n",
       " Counter({'C': 1}),\n",
       " Counter({'T': 1}),\n",
       " Counter({'T': 1}),\n",
       " Counter({'C': 1}),\n",
       " Counter({'A': 1}),\n",
       " Counter({'A': 1}),\n",
       " Counter({'A': 1}),\n",
       " Counter({'G': 1}),\n",
       " Counter({'C': 1}),\n",
       " Counter({'C': 1}),\n",
       " Counter({'C': 1}),\n",
       " Counter({'C': 1}),\n",
       " Counter({'C': 1}),\n",
       " Counter({'A': 1}),\n",
       " Counter({'G': 1}),\n",
       " Counter({'T': 1}),\n",
       " Counter({'G': 1}),\n",
       " Counter({'A': 1}),\n",
       " Counter({'G': 1}),\n",
       " Counter({'T': 1}),\n",
       " Counter({'T': 1}),\n",
       " Counter({'G': 1}),\n",
       " Counter({'C': 1}),\n",
       " Counter({'A': 1}),\n",
       " Counter({'A': 1}),\n",
       " Counter({'T': 1}),\n",
       " Counter({'A': 1}),\n",
       " Counter({'C': 1}),\n",
       " Counter({'A': 1}),\n",
       " Counter({'A': 1}),\n",
       " Counter({'A': 1}),\n",
       " Counter({'A': 1}),\n",
       " Counter({'C': 1}),\n",
       " Counter(),\n",
       " Counter(),\n",
       " Counter(),\n",
       " Counter(),\n",
       " Counter(),\n",
       " Counter(),\n",
       " Counter(),\n",
       " Counter(),\n",
       " Counter(),\n",
       " Counter(),\n",
       " Counter(),\n",
       " Counter(),\n",
       " Counter(),\n",
       " Counter(),\n",
       " Counter(),\n",
       " Counter(),\n",
       " Counter(),\n",
       " Counter(),\n",
       " Counter(),\n",
       " Counter(),\n",
       " Counter(),\n",
       " Counter(),\n",
       " Counter(),\n",
       " Counter(),\n",
       " Counter(),\n",
       " Counter(),\n",
       " Counter(),\n",
       " Counter(),\n",
       " Counter(),\n",
       " Counter(),\n",
       " Counter(),\n",
       " Counter(),\n",
       " Counter(),\n",
       " Counter(),\n",
       " Counter(),\n",
       " Counter(),\n",
       " Counter(),\n",
       " Counter(),\n",
       " Counter(),\n",
       " Counter(),\n",
       " Counter(),\n",
       " Counter(),\n",
       " Counter(),\n",
       " Counter(),\n",
       " Counter(),\n",
       " Counter(),\n",
       " Counter(),\n",
       " Counter(),\n",
       " Counter()]"
      ]
     },
     "execution_count": 133,
     "metadata": {},
     "output_type": "execute_result"
    }
   ],
   "source": [
    "# now let's align the reads in the reads_lst as we did for TAC on the genome of size 10\n",
    "# the problem is the we onlu have a fragment of the genome (151 positions)\n",
    "# The positions are 5500 - 5650 (0-based) and are stored in the genome_pos list that indexed from 0 to 150\n",
    "# therefore, there is a missmatch of 5500 between the indices in the genome and in the list\n",
    "# this is not the case for the homework though\n",
    "\n",
    "# let's align the first read\n",
    "# if we align the same read again by running the cell twice and we want to start over\n",
    "# we should reset the genome_pos list by running the above cell \n",
    "\n",
    "current_read = reads_lst[0]\n",
    "print(\"read pos: \", current_read.pos)\n",
    "print(\"read seq: \", current_read.seq)\n",
    "# we should go though each nucleotide of the read sequence \n",
    "# keeping track of the nucleotide position in the read\n",
    "# to do that we use enumerate\n",
    "for i, nc in enumerate(current_read.seq):\n",
    "    # we retrieve the counter from the genome_pos list\n",
    "    # corresponding to the position in the genome we want to update\n",
    "    # that is the position where the read aligned + the position of the nucleotide on the read\n",
    "    # in this example we also need to adjust for the 5500 difference\n",
    "    c = genome_pos[current_read.pos + i - 5500]\n",
    "    c.update(nc)\n",
    "    \n",
    "# the first read was aligned and \n",
    "# all the nucleotides were added to the respective counters \n",
    "# starting with the counter at  current_read.pos - 5500  \n",
    "genome_pos "
   ]
  },
  {
   "cell_type": "code",
   "execution_count": 135,
   "metadata": {},
   "outputs": [
    {
     "data": {
      "text/plain": [
       "[Counter({'A': 1}),\n",
       " Counter({'C': 1, 'A': 1}),\n",
       " Counter({'C': 1, 'A': 1}),\n",
       " Counter({'C': 2}),\n",
       " Counter({'C': 1, 'T': 1}),\n",
       " Counter({'T': 1, 'C': 1}),\n",
       " Counter({'A': 1, 'C': 1}),\n",
       " Counter({'C': 1, 'A': 1, 'T': 2}),\n",
       " Counter({'C': 1, 'T': 4, 'A': 1}),\n",
       " Counter({'T': 1, 'A': 4, 'G': 1}),\n",
       " Counter({'A': 2, 'T': 4, 'G': 1}),\n",
       " Counter({'C': 3, 'A': 4}),\n",
       " Counter({'C': 3, 'G': 4}),\n",
       " Counter({'C': 1, 'A': 5, 'T': 1}),\n",
       " Counter({'A': 5, 'C': 2}),\n",
       " Counter({'C': 2, 'G': 1, 'A': 3, 'T': 1}),\n",
       " Counter({'C': 2, 'T': 5}),\n",
       " Counter({'C': 1, 'A': 1, 'T': 5}),\n",
       " Counter({'T': 6, 'A': 1}),\n",
       " Counter({'A': 5, 'C': 1, 'T': 1}),\n",
       " Counter({'T': 2, 'G': 4, 'A': 1}),\n",
       " Counter({'T': 1, 'C': 2, 'G': 4}),\n",
       " Counter({'A': 2, 'T': 4, 'C': 1, 'G': 1}),\n",
       " Counter({'T': 7, 'A': 1}),\n",
       " Counter({'C': 1, 'A': 7, 'G': 1}),\n",
       " Counter({'C': 2, 'T': 2, 'A': 6}),\n",
       " Counter({'A': 7, 'G': 2, 'T': 1}),\n",
       " Counter({'A': 1, 'T': 7, 'C': 1, 'G': 1}),\n",
       " Counter({'A': 11, 'C': 1}),\n",
       " Counter({'T': 2, 'C': 8, 'G': 1, 'A': 1}),\n",
       " Counter({'A': 10, 'C': 1, 'T': 1}),\n",
       " Counter({'A': 2, 'T': 1, 'G': 9}),\n",
       " Counter({'T': 1, 'C': 2, 'A': 9, 'G': 1}),\n",
       " Counter({'C': 12, 'T': 1, 'A': 1}),\n",
       " Counter({'T': 1, 'G': 3, 'C': 9, 'A': 1}),\n",
       " Counter({'T': 1, 'A': 14}),\n",
       " Counter({'A': 13, 'T': 1, 'C': 1}),\n",
       " Counter({'T': 3, 'G': 11, 'C': 1}),\n",
       " Counter({'A': 13, 'T': 2}),\n",
       " Counter({'G': 13, 'T': 2, 'A': 1}),\n",
       " Counter({'A': 2, 'C': 12, 'T': 1, 'G': 1}),\n",
       " Counter({'A': 4, 'T': 2, 'C': 11}),\n",
       " Counter({'A': 2, 'T': 13, 'G': 2}),\n",
       " Counter({'T': 13, 'A': 3, 'C': 1}),\n",
       " Counter({'G': 2, 'T': 3, 'C': 11, 'A': 1}),\n",
       " Counter({'T': 4, 'A': 12, 'C': 1}),\n",
       " Counter({'A': 14, 'T': 2, 'G': 1}),\n",
       " Counter({'G': 1, 'T': 2, 'A': 13, 'C': 1}),\n",
       " Counter({'G': 13, 'A': 3, 'C': 1}),\n",
       " Counter({'T': 1, 'A': 4, 'C': 12}),\n",
       " Counter({'T': 4, 'C': 12, 'A': 1}),\n",
       " Counter({'A': 2, 'C': 13, 'T': 1, 'G': 1}),\n",
       " Counter({'A': 1, 'T': 14, 'C': 2}),\n",
       " Counter({'A': 3, 'C': 13, 'T': 1}),\n",
       " Counter({'T': 1, 'A': 13, 'G': 2, 'C': 1}),\n",
       " Counter({'A': 3, 'T': 1, 'G': 13}),\n",
       " Counter({'C': 2, 'T': 13, 'A': 1, 'G': 1}),\n",
       " Counter({'A': 2, 'G': 13, 'T': 2}),\n",
       " Counter({'G': 2, 'A': 13, 'T': 1, 'C': 1}),\n",
       " Counter({'G': 15, 'A': 2}),\n",
       " Counter({'C': 2, 'A': 3, 'T': 11, 'G': 1}),\n",
       " Counter({'C': 1, 'T': 12, 'A': 4}),\n",
       " Counter({'A': 3, 'T': 1, 'G': 13}),\n",
       " Counter({'G': 1, 'A': 4, 'C': 12}),\n",
       " Counter({'G': 1, 'A': 14, 'T': 2}),\n",
       " Counter({'C': 1, 'G': 3, 'A': 12, 'T': 1}),\n",
       " Counter({'G': 2, 'T': 11, 'C': 2, 'A': 2}),\n",
       " Counter({'C': 2, 'T': 1, 'A': 13, 'G': 1}),\n",
       " Counter({'C': 14, 'A': 3}),\n",
       " Counter({'T': 14, 'A': 3}),\n",
       " Counter({'T': 13, 'A': 3, 'G': 1}),\n",
       " Counter({'C': 2, 'A': 14, 'G': 1}),\n",
       " Counter({'A': 15, 'T': 2}),\n",
       " Counter({'A': 2, 'T': 13, 'G': 2}),\n",
       " Counter({'A': 3, 'C': 2, 'T': 12}),\n",
       " Counter({'G': 1, 'A': 3, 'T': 12, 'C': 1}),\n",
       " Counter({'C': 13, 'G': 2, 'T': 2}),\n",
       " Counter({'C': 2, 'T': 14, 'A': 1}),\n",
       " Counter({'C': 3, 'G': 13, 'T': 1}),\n",
       " Counter({'C': 4, 'T': 12, 'A': 1}),\n",
       " Counter({'C': 2, 'A': 14, 'T': 1}),\n",
       " Counter({'A': 16, 'G': 1}),\n",
       " Counter({'G': 3, 'C': 12, 'A': 1, 'T': 1}),\n",
       " Counter({'T': 1, 'A': 15, 'C': 1}),\n",
       " Counter({'G': 15, 'C': 1, 'A': 1}),\n",
       " Counter({'A': 1, 'C': 16}),\n",
       " Counter({'G': 1, 'C': 3, 'T': 12, 'A': 1}),\n",
       " Counter({'T': 2, 'A': 12, 'C': 2, 'G': 1}),\n",
       " Counter({'T': 3, 'A': 12, 'C': 2}),\n",
       " Counter({'G': 13, 'C': 2, 'T': 2}),\n",
       " Counter({'C': 1, 'A': 3, 'G': 12, 'T': 1}),\n",
       " Counter({'A': 15, 'G': 2}),\n",
       " Counter({'A': 3, 'C': 12, 'G': 2}),\n",
       " Counter({'T': 13, 'G': 4}),\n",
       " Counter({'A': 3, 'C': 1, 'G': 13}),\n",
       " Counter({'C': 15, 'G': 1, 'T': 1}),\n",
       " Counter({'A': 13, 'C': 1, 'T': 2, 'G': 1}),\n",
       " Counter({'A': 13, 'T': 2, 'C': 1, 'G': 1}),\n",
       " Counter({'A': 14, 'C': 2, 'G': 1}),\n",
       " Counter({'A': 16, 'C': 1}),\n",
       " Counter({'C': 13, 'G': 1, 'A': 2, 'T': 1}),\n",
       " Counter({'T': 1, 'C': 12, 'A': 3}),\n",
       " Counter({'C': 12, 'T': 1, 'G': 1, 'A': 1}),\n",
       " Counter({'C': 13, 'A': 1, 'T': 1}),\n",
       " Counter({'A': 12, 'C': 2, 'T': 1}),\n",
       " Counter({'C': 13, 'T': 1, 'A': 1}),\n",
       " Counter({'T': 13, 'A': 2}),\n",
       " Counter({'C': 11, 'A': 3, 'T': 1}),\n",
       " Counter({'T': 10, 'A': 1, 'G': 1, 'C': 1}),\n",
       " Counter({'G': 9, 'T': 2}),\n",
       " Counter({'C': 10, 'T': 1}),\n",
       " Counter({'A': 8, 'T': 1, 'G': 1}),\n",
       " Counter({'T': 8, 'C': 1, 'G': 1}),\n",
       " Counter({'C': 9, 'T': 1}),\n",
       " Counter({'A': 9, 'G': 1}),\n",
       " Counter({'A': 8, 'T': 2}),\n",
       " Counter({'C': 9, 'A': 1}),\n",
       " Counter({'T': 8, 'A': 2}),\n",
       " Counter({'G': 8, 'C': 1, 'A': 1}),\n",
       " Counter({'A': 9, 'C': 1}),\n",
       " Counter({'A': 8, 'G': 1, 'T': 1}),\n",
       " Counter({'C': 9, 'G': 1}),\n",
       " Counter({'G': 7, 'T': 2, 'A': 1}),\n",
       " Counter({'C': 7, 'A': 2}),\n",
       " Counter({'A': 7, 'T': 1, 'C': 1}),\n",
       " Counter({'A': 6, 'G': 2}),\n",
       " Counter({'A': 6, 'G': 1}),\n",
       " Counter({'T': 6, 'A': 1}),\n",
       " Counter({'C': 7}),\n",
       " Counter({'A': 4, 'T': 1}),\n",
       " Counter({'G': 5}),\n",
       " Counter({'C': 5}),\n",
       " Counter({'C': 4, 'A': 1}),\n",
       " Counter({'A': 4}),\n",
       " Counter({'C': 2, 'A': 1}),\n",
       " Counter({'T': 2, 'A': 1}),\n",
       " Counter({'T': 1, 'C': 1}),\n",
       " Counter({'T': 1, 'C': 1}),\n",
       " Counter({'A': 1, 'C': 1}),\n",
       " Counter({'A': 1, 'C': 1}),\n",
       " Counter({'A': 1}),\n",
       " Counter({'C': 1}),\n",
       " Counter(),\n",
       " Counter(),\n",
       " Counter(),\n",
       " Counter(),\n",
       " Counter(),\n",
       " Counter(),\n",
       " Counter(),\n",
       " Counter()]"
      ]
     },
     "execution_count": 135,
     "metadata": {},
     "output_type": "execute_result"
    }
   ],
   "source": [
    "# reset the genome_positions to start over\n",
    "genome_pos = [Counter() for i in range(150)]\n",
    "\n",
    "# align all reads in reads_lst\n",
    "for current_read in reads_lst:\n",
    "    for i, nc in enumerate(current_read.seq):\n",
    "        c = genome_pos[current_read.pos + i - 5500]\n",
    "        c.update(nc)\n",
    "    \n",
    "# The counter tallied the nucleotides aligned at each position\n",
    "# ALL DONE\n",
    "genome_pos\n",
    "\n"
   ]
  },
  {
   "cell_type": "code",
   "execution_count": null,
   "metadata": {},
   "outputs": [],
   "source": []
  },
  {
   "cell_type": "code",
   "execution_count": 143,
   "metadata": {},
   "outputs": [],
   "source": [
    "# when you create a Counter object it will keep a reference \n",
    "# to the location in memory where the data is (similar to a list)\n",
    "# so if I add the same Counter to two lists and change it, it will change in both lists\n",
    "\n",
    "c = Counter()\n",
    "l1 = [c]\n",
    "l2 = [c]"
   ]
  },
  {
   "cell_type": "code",
   "execution_count": 144,
   "metadata": {},
   "outputs": [
    {
     "data": {
      "text/plain": [
       "[Counter()]"
      ]
     },
     "execution_count": 144,
     "metadata": {},
     "output_type": "execute_result"
    }
   ],
   "source": [
    "l1"
   ]
  },
  {
   "cell_type": "code",
   "execution_count": 145,
   "metadata": {},
   "outputs": [
    {
     "data": {
      "text/plain": [
       "[Counter()]"
      ]
     },
     "execution_count": 145,
     "metadata": {},
     "output_type": "execute_result"
    }
   ],
   "source": [
    "l2"
   ]
  },
  {
   "cell_type": "code",
   "execution_count": 146,
   "metadata": {},
   "outputs": [
    {
     "data": {
      "text/plain": [
       "Counter({'A': 2, 'C': 1, 'G': 1, 'T': 1})"
      ]
     },
     "execution_count": 146,
     "metadata": {},
     "output_type": "execute_result"
    }
   ],
   "source": [
    "c.update(\"AACGT\")\n",
    "c"
   ]
  },
  {
   "cell_type": "code",
   "execution_count": 147,
   "metadata": {},
   "outputs": [
    {
     "data": {
      "text/plain": [
       "[Counter({'A': 2, 'C': 1, 'G': 1, 'T': 1})]"
      ]
     },
     "execution_count": 147,
     "metadata": {},
     "output_type": "execute_result"
    }
   ],
   "source": [
    "l1"
   ]
  },
  {
   "cell_type": "code",
   "execution_count": 148,
   "metadata": {},
   "outputs": [
    {
     "data": {
      "text/plain": [
       "[Counter({'A': 2, 'C': 1, 'G': 1, 'T': 1})]"
      ]
     },
     "execution_count": 148,
     "metadata": {},
     "output_type": "execute_result"
    }
   ],
   "source": [
    "l2"
   ]
  },
  {
   "cell_type": "code",
   "execution_count": 168,
   "metadata": {},
   "outputs": [],
   "source": [
    "# however if I create different counters ... \n",
    "# they will will each refer to their own data not to the same data\n",
    "\n",
    "l1 = []\n",
    "l2 = []\n",
    "l1.append(Counter())\n",
    "l2.append(Counter())"
   ]
  },
  {
   "cell_type": "code",
   "execution_count": 169,
   "metadata": {},
   "outputs": [
    {
     "data": {
      "text/plain": [
       "[Counter()]"
      ]
     },
     "execution_count": 169,
     "metadata": {},
     "output_type": "execute_result"
    }
   ],
   "source": [
    "l1"
   ]
  },
  {
   "cell_type": "code",
   "execution_count": 170,
   "metadata": {},
   "outputs": [
    {
     "data": {
      "text/plain": [
       "[Counter()]"
      ]
     },
     "execution_count": 170,
     "metadata": {},
     "output_type": "execute_result"
    }
   ],
   "source": [
    "l2"
   ]
  },
  {
   "cell_type": "code",
   "execution_count": 171,
   "metadata": {},
   "outputs": [
    {
     "data": {
      "text/plain": [
       "Counter()"
      ]
     },
     "execution_count": 171,
     "metadata": {},
     "output_type": "execute_result"
    }
   ],
   "source": [
    "# Access counter in l1\n",
    "\n",
    "c = l1[0]\n",
    "c"
   ]
  },
  {
   "cell_type": "code",
   "execution_count": 172,
   "metadata": {},
   "outputs": [
    {
     "data": {
      "text/plain": [
       "Counter({'A': 1, 'C': 2, 'G': 1})"
      ]
     },
     "execution_count": 172,
     "metadata": {},
     "output_type": "execute_result"
    }
   ],
   "source": [
    "# change counter \n",
    "c.update(\"ACCG\")\n",
    "c"
   ]
  },
  {
   "cell_type": "code",
   "execution_count": 173,
   "metadata": {},
   "outputs": [
    {
     "data": {
      "text/plain": [
       "[Counter({'A': 1, 'C': 2, 'G': 1})]"
      ]
     },
     "execution_count": 173,
     "metadata": {},
     "output_type": "execute_result"
    }
   ],
   "source": [
    "l1"
   ]
  },
  {
   "cell_type": "code",
   "execution_count": 174,
   "metadata": {},
   "outputs": [
    {
     "data": {
      "text/plain": [
       "[Counter()]"
      ]
     },
     "execution_count": 174,
     "metadata": {},
     "output_type": "execute_result"
    }
   ],
   "source": [
    "l2"
   ]
  },
  {
   "cell_type": "code",
   "execution_count": 175,
   "metadata": {},
   "outputs": [
    {
     "data": {
      "text/plain": [
       "[('C', 2), ('A', 1), ('G', 1)]"
      ]
     },
     "execution_count": 175,
     "metadata": {},
     "output_type": "execute_result"
    }
   ],
   "source": [
    "# how do we get the most common element?\n",
    "# dir(Counter) will tell us what a counter can do\n",
    "# all that a dictionary can and ... most_common\n",
    "\n",
    "# orders the items in the dictionary desc based on the value and \n",
    "# retrieces the result as a list of tuples\n",
    "c.most_common()"
   ]
  },
  {
   "cell_type": "code",
   "execution_count": 176,
   "metadata": {},
   "outputs": [
    {
     "data": {
      "text/plain": [
       "[('C', 2), ('A', 1)]"
      ]
     },
     "execution_count": 176,
     "metadata": {},
     "output_type": "execute_result"
    }
   ],
   "source": [
    "# we can say how may elements from the sorted list we want to retrieve\n",
    "# parameter givent o most_common\n",
    "\n",
    "c.most_common(2)"
   ]
  },
  {
   "cell_type": "code",
   "execution_count": 177,
   "metadata": {},
   "outputs": [
    {
     "data": {
      "text/plain": [
       "'C'"
      ]
     },
     "execution_count": 177,
     "metadata": {},
     "output_type": "execute_result"
    }
   ],
   "source": [
    "# to get the nucleotide we index to get the first tuple and \n",
    "# then the first element of the tuple\n",
    "\n",
    "c.most_common()[0][0]"
   ]
  },
  {
   "cell_type": "code",
   "execution_count": 178,
   "metadata": {},
   "outputs": [
    {
     "data": {
      "text/plain": [
       "'C'"
      ]
     },
     "execution_count": 178,
     "metadata": {},
     "output_type": "execute_result"
    }
   ],
   "source": [
    "c.most_common(1)[0][0]"
   ]
  },
  {
   "cell_type": "code",
   "execution_count": 179,
   "metadata": {},
   "outputs": [
    {
     "data": {
      "text/plain": [
       "Counter({'A': 1, 'C': 1, 'T': 1})"
      ]
     },
     "execution_count": 179,
     "metadata": {},
     "output_type": "execute_result"
    }
   ],
   "source": [
    "# if the frquencies are the same \n",
    "# the most common retrieves the items in the order they were added\n",
    "\n",
    "c = Counter(\"ACT\")\n",
    "c"
   ]
  },
  {
   "cell_type": "code",
   "execution_count": 180,
   "metadata": {},
   "outputs": [
    {
     "data": {
      "text/plain": [
       "'A'"
      ]
     },
     "execution_count": 180,
     "metadata": {},
     "output_type": "execute_result"
    }
   ],
   "source": [
    "c.most_common(1)[0][0]"
   ]
  },
  {
   "cell_type": "code",
   "execution_count": 181,
   "metadata": {},
   "outputs": [
    {
     "data": {
      "text/plain": [
       "Counter({'G': 1, 'A': 1, 'C': 1, 'T': 1})"
      ]
     },
     "execution_count": 181,
     "metadata": {},
     "output_type": "execute_result"
    }
   ],
   "source": [
    "c = Counter(\"GACT\")\n",
    "c"
   ]
  },
  {
   "cell_type": "code",
   "execution_count": 182,
   "metadata": {},
   "outputs": [
    {
     "data": {
      "text/plain": [
       "'G'"
      ]
     },
     "execution_count": 182,
     "metadata": {},
     "output_type": "execute_result"
    }
   ],
   "source": [
    "c.most_common(1)[0][0]"
   ]
  },
  {
   "cell_type": "code",
   "execution_count": null,
   "metadata": {},
   "outputs": [],
   "source": []
  }
 ],
 "metadata": {
  "kernelspec": {
   "display_name": "Python 3 (ipykernel)",
   "language": "python",
   "name": "python3"
  },
  "language_info": {
   "codemirror_mode": {
    "name": "ipython",
    "version": 3
   },
   "file_extension": ".py",
   "mimetype": "text/x-python",
   "name": "python",
   "nbconvert_exporter": "python",
   "pygments_lexer": "ipython3",
   "version": "3.8.10"
  }
 },
 "nbformat": 4,
 "nbformat_minor": 4
}
