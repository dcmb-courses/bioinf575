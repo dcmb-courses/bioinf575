{
 "cells": [
  {
   "cell_type": "markdown",
   "metadata": {
    "tags": []
   },
   "source": [
    "### Study session 10 - more bioinformatics\n",
    "#### Use data and control structures, pandas, dataframes and explaore new libraries\n",
    "#### Explore object  attributes and methods\n",
    "#### BIOINF 575 - Fall 2021\n",
    "\n"
   ]
  },
  {
   "cell_type": "code",
   "execution_count": 1,
   "metadata": {},
   "outputs": [],
   "source": [
    "import numpy as np\n",
    "import pandas as pd\n",
    "from collections import Counter\n",
    "import bamnostic as bs ## install bamnostic if you did not\n"
   ]
  },
  {
   "cell_type": "markdown",
   "metadata": {
    "tags": []
   },
   "source": [
    "#### To install the bamnostic package open a terminal and run:\n",
    "```bash\n",
    "pip install bamnostic\n",
    "```\n",
    "##### It is one of the install options provided in the documentation\n",
    "\n",
    "https://github.com/betteridiot/bamnostic\n",
    "\n",
    "If it does not work try another option\n",
    "\n",
    "There are 4 methods of installation available (choose one):\n",
    "\n",
    "Option 1: Through the conda package manager (Anaconda Cloud)\n",
    "\n",
    "```bash\n",
    "# first, add the conda-forge channel to your conda build\n",
    "conda config --add channels conda-forge\n",
    "\n",
    "# now bamnostic is available for install\n",
    "conda install bamnostic\n",
    "```"
   ]
  },
  {
   "cell_type": "markdown",
   "metadata": {},
   "source": [
    "____\n",
    "\n",
    "#### Variant data exploration   \n",
    "We have variant data for a sample in the file `variant_data_file.vcf`.   \n",
    "The vcf data file contains information about differences found in the genome of a specific sample when compared to the reference.    \n",
    "The file contains approximatelly 1000 differences found in the Y chromosome.\n",
    "\n"
   ]
  },
  {
   "cell_type": "markdown",
   "metadata": {},
   "source": [
    "\n",
    "\n",
    "..................................................................................................\n",
    "\n",
    "<b><font color = \"red\">Exercise</font> <br></b>\n",
    "\n",
    "<b>See the difference in positions vaues between the different variant types (e.g. REF ALT: T C) using boxplots</b>   \n",
    "<b>Plot the scatterplot of the positions for the TC variant</b>\n"
   ]
  },
  {
   "cell_type": "code",
   "execution_count": null,
   "metadata": {},
   "outputs": [],
   "source": [
    "# Write your solution here\n",
    "\n",
    "\n"
   ]
  },
  {
   "cell_type": "code",
   "execution_count": null,
   "metadata": {},
   "outputs": [],
   "source": []
  },
  {
   "cell_type": "code",
   "execution_count": null,
   "metadata": {},
   "outputs": [],
   "source": []
  },
  {
   "cell_type": "markdown",
   "metadata": {
    "tags": []
   },
   "source": [
    "____\n",
    "____\n",
    "\n",
    "\n",
    "#### Read alignment analysis   \n",
    "We have the genome data/sequence for an organism and the sequence alingnment data for a (biological) sample from that organism.   \n",
    "\n",
    "\n",
    "\n"
   ]
  },
  {
   "cell_type": "markdown",
   "metadata": {},
   "source": [
    "___\n",
    "\n",
    "<b> <font color = \"red\">Exercise</font></b>\n",
    "\n",
    "<b>From the bam file mt.bam, select the reads that align at positions between 5500 and 6000</b>    \n",
    "<b>Create a Counter (from collections import Counter) list and keep track of each base that aligns at a certain position from 5500 to 6100, the list has 600 elements indices 0-600, index 0 corresponds to position 5500 in the genome </b> \n"
   ]
  },
  {
   "cell_type": "code",
   "execution_count": null,
   "metadata": {},
   "outputs": [],
   "source": [
    "# Write your solution here\n",
    "\n",
    "\n"
   ]
  },
  {
   "cell_type": "code",
   "execution_count": null,
   "metadata": {},
   "outputs": [],
   "source": []
  }
 ],
 "metadata": {
  "kernelspec": {
   "display_name": "Python 3 (ipykernel)",
   "language": "python",
   "name": "python3"
  },
  "language_info": {
   "codemirror_mode": {
    "name": "ipython",
    "version": 3
   },
   "file_extension": ".py",
   "mimetype": "text/x-python",
   "name": "python",
   "nbconvert_exporter": "python",
   "pygments_lexer": "ipython3",
   "version": "3.8.10"
  }
 },
 "nbformat": 4,
 "nbformat_minor": 4
}
