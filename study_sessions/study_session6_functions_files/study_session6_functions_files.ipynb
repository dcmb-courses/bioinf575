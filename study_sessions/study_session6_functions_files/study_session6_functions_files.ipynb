{
 "cells": [
  {
   "cell_type": "markdown",
   "metadata": {},
   "source": [
    "### Study session 6 - Functions and file read and write operations\n",
    "#### BIOINF 575 - Fall 2021"
   ]
  },
  {
   "cell_type": "markdown",
   "metadata": {},
   "source": [
    "##### RECAP"
   ]
  },
  {
   "cell_type": "markdown",
   "metadata": {
    "jp-MarkdownHeadingCollapsed": true,
    "tags": []
   },
   "source": [
    "##### FUNCTION - block of code that only runs when called and can be reused without having to copy the code\n",
    "\n",
    "```python\n",
    "def function_name(arguments):\n",
    "    <statements>\n",
    "    return result\n",
    "\n",
    "# Call the function:\n",
    "function_name(values)\n",
    "```"
   ]
  },
  {
   "cell_type": "markdown",
   "metadata": {
    "tags": []
   },
   "source": [
    "##### FILE - collection of data stored and identified as a unit by the operating system\n",
    "\n",
    "```python\n",
    "\n",
    "# Open file and return a stream.  Raise OSError upon failure.\n",
    "open(file, mode='r', buffering=-1, encoding=None, errors=None, newline=None, closefd=True, opener=None)\n",
    "\n",
    "\n",
    "with open(file_name, \"r\") as file\n",
    "    for line in file:\n",
    "        <statements>\n",
    "```\n",
    "\n",
    "The result of the open function is an iterable object.    \n",
    "Iterable:  An object capable of returning its members one at a time.    \n",
    "https://docs.python.org/3/glossary.html    \n",
    "https://docs.python.org/3/library/collections.abc.html?highlight=iterable#collections.abc.Iterable\n"
   ]
  },
  {
   "cell_type": "markdown",
   "metadata": {
    "jp-MarkdownHeadingCollapsed": true,
    "tags": []
   },
   "source": [
    "_________\n",
    "\n",
    "\"Proteins are the end products of the decoding process that starts with the information in cellular DNA. As workhorses of the cell, proteins compose structural and motor elements in the cell, and they serve as the catalysts for virtually every biochemical reaction that occurs in living things. This incredible array of functions derives from a startlingly simple code that specifies a hugely diverse set of structures.\"\n",
    "\n",
    "\"The building blocks of proteins are amino acids, which are small organic molecules that consist of an alpha (central) carbon atom linked to an amino group, a carboxyl group, a hydrogen atom, and a variable component called a side chain (see below). Within a protein, multiple amino acids are linked together by peptide bonds, thereby forming a long chain.\"\n",
    "\n",
    "\"Proteins are built from a set of only twenty amino acids, each of which has a unique side chain.\"\n",
    "\n",
    "https://www.nature.com/scitable/topicpage/protein-structure-14122136/\n",
    "\n",
    "<img src = \"https://cdn.pixabay.com/photo/2013/07/12/17/38/dna-152136_1280.png\" width = 420><img src = \"https://media.snl.no/media/149515/standard_DNA-RNA-protein__1_.png\" width = 500>\n",
    "\n",
    "\n",
    "https://cdn.pixabay.com/photo/2013/07/12/17/38/dna-152136_1280.png &nbsp;&nbsp;&nbsp;&nbsp;&nbsp;     https://media.snl.no/media/149515/standard_DNA-RNA-protein__1_.png\n",
    "\n",
    "\n",
    "https://ocw.mit.edu/courses/biology/7-01sc-fundamentals-of-biology-fall-2011/molecular-biology/\n",
    "https://ocw.mit.edu/courses/health-sciences-and-technology/hst-161-molecular-biology-and-genetics-in-modern-medicine-fall-2007/lecture-notes/\n",
    "\n",
    "\n",
    "\n",
    "___\n",
    "<b><font color = \"red\">Exercise</font> <br></b>\n",
    "\n",
    "The dictionary DNA_amino_acids_map contains the information that allows us to translate DNA code into a sequence of amino acids.\n",
    "We want to use the mapping provided in the dictionary we want to translate the sequences in the second string and create a string of amino acids.\n",
    "- Write a function that translates a DNA_sequence into a peptide (sequence of amino acids)\n",
    "- Apply the function for each of the sequences in our DNA_sequence string\n",
    "\n",
    "\n"
   ]
  },
  {
   "cell_type": "code",
   "execution_count": null,
   "metadata": {},
   "outputs": [],
   "source": [
    "DNA_amino_acids_map = {'ATA':'I', 'ATC':'I', 'ATT':'I', 'ATG':'M',\n",
    "    'ACA':'T', 'ACC':'T', 'ACG':'T', 'ACT':'T',\n",
    "    'AAC':'N', 'AAT':'N', 'AAA':'K', 'AAG':'K',\n",
    "    'AGC':'S', 'AGT':'S', 'AGA':'R', 'AGG':'R',\n",
    "    'CTA':'L', 'CTC':'L', 'CTG':'L', 'CTT':'L',\n",
    "    'CCA':'P', 'CCC':'P', 'CCG':'P', 'CCT':'P',\n",
    "    'CAC':'H', 'CAT':'H', 'CAA':'Q', 'CAG':'Q',\n",
    "    'CGA':'R', 'CGC':'R', 'CGG':'R', 'CGT':'R',\n",
    "    'GTA':'V', 'GTC':'V', 'GTG':'V', 'GTT':'V',\n",
    "    'GCA':'A', 'GCC':'A', 'GCG':'A', 'GCT':'A',\n",
    "    'GAC':'D', 'GAT':'D', 'GAA':'E', 'GAG':'E',\n",
    "    'GGA':'G', 'GGC':'G', 'GGG':'G', 'GGT':'G',\n",
    "    'TCA':'S', 'TCC':'S', 'TCG':'S', 'TCT':'S',\n",
    "    'TTC':'F', 'TTT':'F', 'TTA':'L', 'TTG':'L',\n",
    "    'TAC':'Y', 'TAT':'Y', 'TAA':'_', 'TAG':'_',\n",
    "    'TGC':'C', 'TGT':'C', 'TGA':'_', 'TGG':'W'}\n",
    "\n",
    "DNA_sequence = \"GCCGCGCGT AGGATGCCTCCGCAA CCCCAGCGTGCT AAA AAACTA CGCGCGTAGGATGCCTCCGCAACCCCAGCGTGT\"\n",
    "\n"
   ]
  },
  {
   "cell_type": "code",
   "execution_count": null,
   "metadata": {},
   "outputs": [],
   "source": [
    "# Write your solution here\n",
    "\n"
   ]
  },
  {
   "cell_type": "code",
   "execution_count": null,
   "metadata": {},
   "outputs": [],
   "source": []
  },
  {
   "cell_type": "markdown",
   "metadata": {},
   "source": [
    "_____\n",
    "\n",
    "<b><font color = \"red\">Exercise</font> <br></b>\n",
    "\n",
    "- Using the DNA_amino_acids_map dictionary, create a dictionary that translates amino acids into the codons. Keys are amino acids, values are sets of codons that code for that amino acid.\n",
    "- Write a function that given a peptide, and a DNA_sequence, will provide a matching score which is the number of matched amino acids that the sequence produces on the correct positions divided by the maximum between the size of the peptide and the size of the peptide created form the DNA_sequence.\n"
   ]
  },
  {
   "cell_type": "code",
   "execution_count": null,
   "metadata": {},
   "outputs": [],
   "source": [
    "# Write your solution here\n",
    "\n"
   ]
  },
  {
   "cell_type": "code",
   "execution_count": null,
   "metadata": {},
   "outputs": [],
   "source": []
  },
  {
   "cell_type": "code",
   "execution_count": null,
   "metadata": {},
   "outputs": [],
   "source": []
  },
  {
   "cell_type": "markdown",
   "metadata": {
    "tags": []
   },
   "source": [
    "___\n",
    "\n",
    "<b> <font color = \"red\">Exercise</font></b>\n",
    "\n",
    "\n",
    "##### Processing the worm genome file\n",
    "You will extract the lines with gene information from the C. elegans genome and. write them in a new file. \n",
    "The GFF3 file is worm_genome_short.gff3 and is also available in the github repository (you should have it in the study session if you updated the repo). The GFF3 format is described on:\n",
    "https://github.com/The-Sequence-Ontology/Specifications/blob/master/gff3.md.<br> \n",
    "\n",
    "After the comment and header lines (marked by \"#\"), a line in a GFF3 file (row of a table) is composed of 9 tab-delimited fields (columns). The first 8 are called features. These are all atomic (consist of only one element), so they get put into a dictionary features with no problems. You will need to define a key and you will have to generate those integers as you read the file in and add data to the dictionary.\n",
    "\n",
    "The ninth field consists of tag-value pairs. **The tag-value pairs are separated by a semi-colon, \";\". The the tag and value in a pair are  separated by equal signs, \"=\", and the values may consist of mulitiple, comma, \",\", separated entries.** \n",
    "\n",
    "From the definition of the GFF3 we have these fields:   \n",
    "`seqid, source, type, start, end, score, strand, phase`\n",
    "\n",
    "The type field has information about the type of the genomic feature.\n",
    "Process each line from the file that has a feature and extract the lines that have the type gene.\n",
    "Write those lines in the file `worm_genes_short.txt`\n",
    "Use a funtion to process a line and return the line if it meets the criteria or None otherwise.\n",
    "\n"
   ]
  },
  {
   "cell_type": "code",
   "execution_count": null,
   "metadata": {},
   "outputs": [],
   "source": [
    "# Write your solution here\n",
    "\n"
   ]
  },
  {
   "cell_type": "code",
   "execution_count": null,
   "metadata": {},
   "outputs": [],
   "source": []
  },
  {
   "cell_type": "code",
   "execution_count": null,
   "metadata": {},
   "outputs": [],
   "source": []
  },
  {
   "cell_type": "markdown",
   "metadata": {},
   "source": [
    "___\n",
    "<b><font color = \"red\">Exercise</font> <br><br></b>\n",
    "\n",
    "Explain the following code:\n",
    "\n"
   ]
  },
  {
   "cell_type": "code",
   "execution_count": null,
   "metadata": {},
   "outputs": [],
   "source": [
    "amino_acid_code = { \n",
    "    \"P\": (\"CCA\", \"CCC\", \"CCT\", \"CCG\"),\n",
    "    \"Q\": (\"CAA\", \"CAG\"),\n",
    "    \"M\": (\"ATG\",)\n",
    "}\n",
    "\n",
    "p = \"MMPQM\"\n",
    "x = set()\n",
    "s = \"\"\n",
    "for aa in p:\n",
    "    s = s + amino_acid_code.get(aa,(\"\",))[0]\n",
    "print(s)"
   ]
  },
  {
   "cell_type": "code",
   "execution_count": null,
   "metadata": {},
   "outputs": [],
   "source": [
    "##Write your code description here\n",
    "\n"
   ]
  },
  {
   "cell_type": "code",
   "execution_count": null,
   "metadata": {},
   "outputs": [],
   "source": []
  },
  {
   "cell_type": "code",
   "execution_count": null,
   "metadata": {},
   "outputs": [],
   "source": []
  },
  {
   "cell_type": "markdown",
   "metadata": {},
   "source": [
    "_______"
   ]
  }
 ],
 "metadata": {
  "kernelspec": {
   "display_name": "Python 3 (ipykernel)",
   "language": "python",
   "name": "python3"
  },
  "language_info": {
   "codemirror_mode": {
    "name": "ipython",
    "version": 3
   },
   "file_extension": ".py",
   "mimetype": "text/x-python",
   "name": "python",
   "nbconvert_exporter": "python",
   "pygments_lexer": "ipython3",
   "version": "3.8.10"
  }
 },
 "nbformat": 4,
 "nbformat_minor": 4
}
