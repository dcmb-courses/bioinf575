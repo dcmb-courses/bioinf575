{
 "cells": [
  {
   "cell_type": "markdown",
   "metadata": {},
   "source": [
    "### Study session 6 - Functions and files\n",
    "#### BIOINF 575 - Fall 2021\n",
    "\n",
    "#### SOLUTION"
   ]
  },
  {
   "cell_type": "markdown",
   "metadata": {},
   "source": [
    "##### RECAP"
   ]
  },
  {
   "cell_type": "markdown",
   "metadata": {
    "jp-MarkdownHeadingCollapsed": true,
    "tags": []
   },
   "source": [
    "##### FUNCTION - block of code that only runs when called and can be reused without having to copy the code\n",
    "\n",
    "```python\n",
    "def function_name(arguments):\n",
    "    <statements>\n",
    "    return result\n",
    "\n",
    "# Call the function:\n",
    "function_name(values)\n",
    "```"
   ]
  },
  {
   "cell_type": "markdown",
   "metadata": {
    "tags": []
   },
   "source": [
    "##### FILE - collection of data stored and identified as a unit by the operating system\n",
    "\n",
    "```python\n",
    "\n",
    "# Open file and return a stream.  Raise OSError upon failure.\n",
    "open(file, mode='r', buffering=-1, encoding=None, errors=None, newline=None, closefd=True, opener=None)\n",
    "\n",
    "\n",
    "with open(file_name, \"r\") as file\n",
    "    for line in file:\n",
    "        <statements>\n",
    "```\n",
    "\n",
    "The result of the open function is an iterable object.    \n",
    "Iterable:  An object capable of returning its members one at a time.    \n",
    "https://docs.python.org/3/glossary.html    \n",
    "https://docs.python.org/3/library/collections.abc.html?highlight=iterable#collections.abc.Iterable\n"
   ]
  },
  {
   "cell_type": "markdown",
   "metadata": {
    "jp-MarkdownHeadingCollapsed": true,
    "tags": []
   },
   "source": [
    "___\n",
    "<b><font color = \"red\">Exercise</font> <br></b>\n",
    "\n",
    "\"Proteins are the end products of the decoding process that starts with the information in cellular DNA. As workhorses of the cell, proteins compose structural and motor elements in the cell, and they serve as the catalysts for virtually every biochemical reaction that occurs in living things. This incredible array of functions derives from a startlingly simple code that specifies a hugely diverse set of structures.\"\n",
    "\n",
    "\"The building blocks of proteins are amino acids, which are small organic molecules that consist of an alpha (central) carbon atom linked to an amino group, a carboxyl group, a hydrogen atom, and a variable component called a side chain (see below). Within a protein, multiple amino acids are linked together by peptide bonds, thereby forming a long chain.\"\n",
    "\n",
    "\"Proteins are built from a set of only twenty amino acids, each of which has a unique side chain.\"\n",
    "\n",
    "https://www.nature.com/scitable/topicpage/protein-structure-14122136/\n",
    "\n",
    "<img src = \"https://cdn.pixabay.com/photo/2013/07/12/17/38/dna-152136_1280.png\" width = 420><img src = \"https://media.snl.no/media/149515/standard_DNA-RNA-protein__1_.png\" width = 500>\n",
    "\n",
    "\n",
    "https://cdn.pixabay.com/photo/2013/07/12/17/38/dna-152136_1280.png &nbsp;&nbsp;&nbsp;&nbsp;&nbsp;     https://media.snl.no/media/149515/standard_DNA-RNA-protein__1_.png\n",
    "\n",
    "\n",
    "https://ocw.mit.edu/courses/biology/7-01sc-fundamentals-of-biology-fall-2011/molecular-biology/\n",
    "https://ocw.mit.edu/courses/health-sciences-and-technology/hst-161-molecular-biology-and-genetics-in-modern-medicine-fall-2007/lecture-notes/\n",
    "\n",
    "\n",
    "\n",
    "The dictionary DNA_amino_acids_map contains the information that allows us to translate DNA code into a sequence of amino acids.\n",
    "We want to use the mapping provided in the dictionary we want to translate the sequences in the second string and create a string of amino acids.\n",
    "- Write a function that translates a DNA_sequence into a peptide (sequence of amino acids)\n",
    "- Apply the function for each of the sequences in our DNA_sequence string\n",
    "\n",
    "\n"
   ]
  },
  {
   "cell_type": "code",
   "execution_count": 21,
   "metadata": {},
   "outputs": [],
   "source": [
    "DNA_amino_acids_map = {'ATA':'I', 'ATC':'I', 'ATT':'I', 'ATG':'M',\n",
    "    'ACA':'T', 'ACC':'T', 'ACG':'T', 'ACT':'T',\n",
    "    'AAC':'N', 'AAT':'N', 'AAA':'K', 'AAG':'K',\n",
    "    'AGC':'S', 'AGT':'S', 'AGA':'R', 'AGG':'R',\n",
    "    'CTA':'L', 'CTC':'L', 'CTG':'L', 'CTT':'L',\n",
    "    'CCA':'P', 'CCC':'P', 'CCG':'P', 'CCT':'P',\n",
    "    'CAC':'H', 'CAT':'H', 'CAA':'Q', 'CAG':'Q',\n",
    "    'CGA':'R', 'CGC':'R', 'CGG':'R', 'CGT':'R',\n",
    "    'GTA':'V', 'GTC':'V', 'GTG':'V', 'GTT':'V',\n",
    "    'GCA':'A', 'GCC':'A', 'GCG':'A', 'GCT':'A',\n",
    "    'GAC':'D', 'GAT':'D', 'GAA':'E', 'GAG':'E',\n",
    "    'GGA':'G', 'GGC':'G', 'GGG':'G', 'GGT':'G',\n",
    "    'TCA':'S', 'TCC':'S', 'TCG':'S', 'TCT':'S',\n",
    "    'TTC':'F', 'TTT':'F', 'TTA':'L', 'TTG':'L',\n",
    "    'TAC':'Y', 'TAT':'Y', 'TAA':'_', 'TAG':'_',\n",
    "    'TGC':'C', 'TGT':'C', 'TGA':'_', 'TGG':'W'}\n",
    "\n",
    "DNA_sequence = \"GCCGCGCGT AGGATGCCTCCGCAA CCCCAGCGTGCT AAA AAACTA CGCGCGTAGGATGCCTCCGCAACCCCAGCGTGT\"\n",
    "\n"
   ]
  },
  {
   "cell_type": "code",
   "execution_count": 17,
   "metadata": {},
   "outputs": [
    {
     "data": {
      "text/plain": [
       "''"
      ]
     },
     "execution_count": 17,
     "metadata": {},
     "output_type": "execute_result"
    }
   ],
   "source": [
    "# PART 1: Write a function that translates a DNA_sequence \n",
    "# into a peptide (sequence of amino acids)\n",
    "\n",
    "\n",
    "# for a sequence = \"AGGATG\" the result should be: \"RM\"\n",
    "# for a sequence = \"AT\" the result should be: \"\"\n",
    "\n",
    "# DEFINE THE FUNCTION\n",
    "\n",
    "# For a given DNA sequence create a list of amino acids then \n",
    "# put them together in a string using str.join()\n",
    "def translate_seq(seq):\n",
    "    amino_acids = [] \n",
    "    ## create the list of amino acids from groups of three nucleotides\n",
    "    peptide = \"\".join(amino_acids)\n",
    "    return peptide\n",
    "\n",
    "\n",
    "# TEST THE FUNCTION\n",
    "\n",
    "sequence = \"AGGATG\"\n",
    "translate_seq(sequence)"
   ]
  },
  {
   "cell_type": "code",
   "execution_count": 18,
   "metadata": {},
   "outputs": [
    {
     "data": {
      "text/plain": [
       "''"
      ]
     },
     "execution_count": 18,
     "metadata": {},
     "output_type": "execute_result"
    }
   ],
   "source": [
    "# another test\n",
    "sequence = \"\"\n",
    "translate_seq(sequence)"
   ]
  },
  {
   "cell_type": "code",
   "execution_count": 19,
   "metadata": {},
   "outputs": [
    {
     "name": "stdout",
     "output_type": "stream",
     "text": [
      "Help on function translate_seq in module __main__:\n",
      "\n",
      "translate_seq(seq)\n",
      "    # For a given DNA sequence create a list of amino acids then \n",
      "    # put them together in a string using str.join()\n",
      "\n"
     ]
    }
   ],
   "source": [
    "# comments right before the function also get included in the help\n",
    "help(translate_seq)"
   ]
  },
  {
   "cell_type": "code",
   "execution_count": 24,
   "metadata": {},
   "outputs": [
    {
     "name": "stdout",
     "output_type": "stream",
     "text": [
      "0 3 AGG R\n",
      "3 6 ATG M\n"
     ]
    },
    {
     "data": {
      "text/plain": [
       "''"
      ]
     },
     "execution_count": 24,
     "metadata": {},
     "output_type": "execute_result"
    }
   ],
   "source": [
    "# DEFINE THE FUNCTION\n",
    "\n",
    "# For a given DNA sequence create a list of amino acids then \n",
    "# put them together in a string using str.join()\n",
    "def translate_seq(seq):\n",
    "    amino_acids = []\n",
    "    ## save the length of the sequence in a variable to know how many iterations to do\n",
    "    n = len(seq)\n",
    "    \n",
    "    ## create the list of amino acids from groups of three nucleotides\n",
    "    ## create a range of indices where to start each group of three nucleotides\n",
    "    ## use a step of three to get the start index each group of three\n",
    "    ## use n-2 as a stop index to ensure we don't have a group of less than three at the end \n",
    "    for i in range(0,n-2,3):\n",
    "        ## print the start and stop indices \n",
    "        ## the current group of of three nucleotides\n",
    "        ## and the corresponding amino acid - retrieved from the dictionary\n",
    "        ## the method get is used to retrieve the amino acid (which is the value in the dictionary)\n",
    "        ## for the key given by the string formed from the three nucleotides.\n",
    "        ## if the key is not found, the empty string \"\" is returned by the get function\n",
    "        print(i, i+3, seq[i:i+3], DNA_amino_acids_map.get(seq[i:i+3], \"\"))\n",
    "\n",
    "    peptide = \"\".join(amino_acids)\n",
    "    return peptide\n",
    "\n",
    "\n",
    "# TEST THE FUNCTION\n",
    "\n",
    "sequence = \"AGGATG\"\n",
    "translate_seq(sequence)"
   ]
  },
  {
   "cell_type": "code",
   "execution_count": 29,
   "metadata": {
    "tags": []
   },
   "outputs": [
    {
     "data": {
      "text/plain": [
       "'RMPPQ'"
      ]
     },
     "execution_count": 29,
     "metadata": {},
     "output_type": "execute_result"
    }
   ],
   "source": [
    "# DEFINE THE FUNCTION\n",
    "\n",
    "# For a given DNA sequence create a list of amino acids then \n",
    "# put them together in a string using str.join()\n",
    "def translate_seq(seq):\n",
    "    amino_acids = []\n",
    "    n = len(seq)\n",
    "    for i in range(0,n-2,3):\n",
    "        ## add the amino acid for each group of three to the list\n",
    "        amino_acids.append(DNA_amino_acids_map.get(seq[i:i+3], \"\"))\n",
    "    peptide = \"\".join(amino_acids)\n",
    "    return peptide\n",
    "\n",
    "\n",
    "# TEST THE FUNCTION\n",
    "\n",
    "sequence = \"AGGATGCCTCCGCAA\"\n",
    "translate_seq(sequence)"
   ]
  },
  {
   "cell_type": "code",
   "execution_count": 40,
   "metadata": {},
   "outputs": [
    {
     "data": {
      "text/plain": [
       "''"
      ]
     },
     "execution_count": 40,
     "metadata": {},
     "output_type": "execute_result"
    }
   ],
   "source": [
    "# another test\n",
    "sequence = \"\"\n",
    "translate_seq(sequence)"
   ]
  },
  {
   "cell_type": "code",
   "execution_count": 31,
   "metadata": {
    "tags": []
   },
   "outputs": [
    {
     "name": "stdout",
     "output_type": "stream",
     "text": [
      "['AAR', 'RMPPQ', 'PQRA', 'K', 'KL', 'RA_DASATPAC']\n"
     ]
    },
    {
     "data": {
      "text/plain": [
       "'AAR RMPPQ PQRA K KL RA_DASATPAC'"
      ]
     },
     "execution_count": 31,
     "metadata": {},
     "output_type": "execute_result"
    }
   ],
   "source": [
    "# PART 2: Apply the function for each of the sequences in our DNA_sequence string\n",
    "\n",
    "## Break the given sequence of DNA sequences in a list of sequences\n",
    "## use the split method and the space or whitespace separator \n",
    "## (whitespace is the default - when no parameter or None is provided)\n",
    "DNA_sequence = \"GCCGCGCGT AGGATGCCTCCGCAA CCCCAGCGTGCT AAA AAACTA CGCGCGTAGGATGCCTCCGCAACCCCAGCGTGT\"\n",
    "\n",
    "DNA_sequence_list = DNA_sequence.split()\n",
    "## put resulting peptides in a list\n",
    "peptide_list = []\n",
    "for sequence in DNA_sequence_list:\n",
    "    peptide_list.append(translate_seq(sequence))\n",
    "\n",
    "print(peptide_list)\n",
    "\n",
    "## put together the list in a string sparatingthe peptides by space:\n",
    "\" \".join(peptide_list)\n"
   ]
  },
  {
   "cell_type": "code",
   "execution_count": 26,
   "metadata": {},
   "outputs": [
    {
     "name": "stdout",
     "output_type": "stream",
     "text": [
      "Help on method_descriptor:\n",
      "\n",
      "split(self, /, sep=None, maxsplit=-1)\n",
      "    Return a list of the words in the string, using sep as the delimiter string.\n",
      "    \n",
      "    sep\n",
      "      The delimiter according which to split the string.\n",
      "      None (the default value) means split according to any whitespace,\n",
      "      and discard empty strings from the result.\n",
      "    maxsplit\n",
      "      Maximum number of splits to do.\n",
      "      -1 (the default value) means no limit.\n",
      "\n"
     ]
    }
   ],
   "source": [
    "help(str.split)"
   ]
  },
  {
   "cell_type": "code",
   "execution_count": null,
   "metadata": {},
   "outputs": [],
   "source": []
  },
  {
   "cell_type": "markdown",
   "metadata": {},
   "source": [
    "_____\n",
    "\n",
    "<b><font color = \"red\">Exercise</font> <br></b>\n",
    "\n",
    "- Using the DNA_amino_acids_map dictionary, create a dictionary that translates amino acids into the codons. Keys are amino acids, values are sets of codons that code for that amino acid.\n",
    "- Write a function that given a peptide, and a DNA_sequence, will provide a matching score which is the number of matched amino acids that the sequence produces on the correct positions divided by the maximum between the size of the peptide and the size of the peptide created form the DNA_sequence.\n"
   ]
  },
  {
   "cell_type": "code",
   "execution_count": 33,
   "metadata": {},
   "outputs": [
    {
     "name": "stdout",
     "output_type": "stream",
     "text": [
      "{'ATA': 'I', 'ATC': 'I', 'ATT': 'I', 'ATG': 'M', 'ACA': 'T', 'ACC': 'T', 'ACG': 'T', 'ACT': 'T', 'AAC': 'N', 'AAT': 'N', 'AAA': 'K', 'AAG': 'K', 'AGC': 'S', 'AGT': 'S', 'AGA': 'R', 'AGG': 'R', 'CTA': 'L', 'CTC': 'L', 'CTG': 'L', 'CTT': 'L', 'CCA': 'P', 'CCC': 'P', 'CCG': 'P', 'CCT': 'P', 'CAC': 'H', 'CAT': 'H', 'CAA': 'Q', 'CAG': 'Q', 'CGA': 'R', 'CGC': 'R', 'CGG': 'R', 'CGT': 'R', 'GTA': 'V', 'GTC': 'V', 'GTG': 'V', 'GTT': 'V', 'GCA': 'A', 'GCC': 'A', 'GCG': 'A', 'GCT': 'A', 'GAC': 'D', 'GAT': 'D', 'GAA': 'E', 'GAG': 'E', 'GGA': 'G', 'GGC': 'G', 'GGG': 'G', 'GGT': 'G', 'TCA': 'S', 'TCC': 'S', 'TCG': 'S', 'TCT': 'S', 'TTC': 'F', 'TTT': 'F', 'TTA': 'L', 'TTG': 'L', 'TAC': 'Y', 'TAT': 'Y', 'TAA': '_', 'TAG': '_', 'TGC': 'C', 'TGT': 'C', 'TGA': '_', 'TGG': 'W'}\n"
     ]
    }
   ],
   "source": [
    "print(DNA_amino_acids_map)"
   ]
  },
  {
   "cell_type": "code",
   "execution_count": 36,
   "metadata": {},
   "outputs": [
    {
     "name": "stdout",
     "output_type": "stream",
     "text": [
      "ATA I\n",
      "ATC I\n",
      "ATT I\n",
      "ATG M\n",
      "ACA T\n",
      "ACC T\n",
      "ACG T\n",
      "ACT T\n",
      "AAC N\n",
      "AAT N\n",
      "AAA K\n",
      "AAG K\n",
      "AGC S\n",
      "AGT S\n",
      "AGA R\n",
      "AGG R\n",
      "CTA L\n",
      "CTC L\n",
      "CTG L\n",
      "CTT L\n",
      "CCA P\n",
      "CCC P\n",
      "CCG P\n",
      "CCT P\n",
      "CAC H\n",
      "CAT H\n",
      "CAA Q\n",
      "CAG Q\n",
      "CGA R\n",
      "CGC R\n",
      "CGG R\n",
      "CGT R\n",
      "GTA V\n",
      "GTC V\n",
      "GTG V\n",
      "GTT V\n",
      "GCA A\n",
      "GCC A\n",
      "GCG A\n",
      "GCT A\n",
      "GAC D\n",
      "GAT D\n",
      "GAA E\n",
      "GAG E\n",
      "GGA G\n",
      "GGC G\n",
      "GGG G\n",
      "GGT G\n",
      "TCA S\n",
      "TCC S\n",
      "TCG S\n",
      "TCT S\n",
      "TTC F\n",
      "TTT F\n",
      "TTA L\n",
      "TTG L\n",
      "TAC Y\n",
      "TAT Y\n",
      "TAA _\n",
      "TAG _\n",
      "TGC C\n",
      "TGT C\n",
      "TGA _\n",
      "TGG W\n"
     ]
    }
   ],
   "source": [
    "# PART 1: Using the DNA_amino_acids_map dictionary, create a dictionary that \n",
    "# translates amino acids into the codons. \n",
    "# Keys are amino acids, values are sets of codons that code for that amino acid.\n",
    "\n",
    "# We want to create the reverse of the dictionary we have we want to go from amino acid to codons\n",
    "\n",
    "# We go through the existing dictionary and add the key which is the amino acid and a set with the first codon\n",
    "# when we find the amino acid again, we should add the codon to the value for that key (the value is a set of codons) \n",
    "\n",
    "# we prepare our new dictionay\n",
    "AA_codons_map = {}\n",
    "# we go through the items list and unpack each list element (which is a tuple of 2) into a key and value variables\n",
    "for key, value in DNA_amino_acids_map.items():\n",
    "    print(key, value)\n",
    "\n"
   ]
  },
  {
   "cell_type": "code",
   "execution_count": null,
   "metadata": {},
   "outputs": [
    {
     "data": {
      "text/plain": [
       "{'I': {'ATA', 'ATC', 'ATT'},\n",
       " 'M': {'ATG'},\n",
       " 'T': {'ACA', 'ACC', 'ACG', 'ACT'},\n",
       " 'N': {'AAC', 'AAT'},\n",
       " 'K': {'AAA', 'AAG'},\n",
       " 'S': {'AGC', 'AGT', 'TCA', 'TCC', 'TCG', 'TCT'},\n",
       " 'R': {'AGA', 'AGG', 'CGA', 'CGC', 'CGG', 'CGT'},\n",
       " 'L': {'CTA', 'CTC', 'CTG', 'CTT', 'TTA', 'TTG'},\n",
       " 'P': {'CCA', 'CCC', 'CCG', 'CCT'},\n",
       " 'H': {'CAC', 'CAT'},\n",
       " 'Q': {'CAA', 'CAG'},\n",
       " 'V': {'GTA', 'GTC', 'GTG', 'GTT'},\n",
       " 'A': {'GCA', 'GCC', 'GCG', 'GCT'},\n",
       " 'D': {'GAC', 'GAT'},\n",
       " 'E': {'GAA', 'GAG'},\n",
       " 'G': {'GGA', 'GGC', 'GGG', 'GGT'},\n",
       " 'F': {'TTC', 'TTT'},\n",
       " 'Y': {'TAC', 'TAT'},\n",
       " '_': {'TAA', 'TAG', 'TGA'},\n",
       " 'C': {'TGC', 'TGT'},\n",
       " 'W': {'TGG'}}"
      ]
     },
     "execution_count": 39,
     "metadata": {},
     "output_type": "execute_result"
    }
   ],
   "source": [
    "# We go through the existing dictionary and add the key which is the amino acid and a set with the first codon\n",
    "# when we find the amino acid again, we should add the codon to the value for that key (the value is a set of codons) \n",
    "\n",
    "# we prepare our new dictionay\n",
    "AA_codons_map = {}\n",
    "# we go through the items list and unpack each list element (which is a tuple of 2) into a codon and AA variables\n",
    "for codon, value in DNA_amino_acids_map.items():\n",
    "    # if we do not have the AA in our new dictionary we add it with the codon as a value\n",
    "    # if we have it, we add the codon to the set of codons \n",
    "    if AA not in AA_codons_map:\n",
    "        AA_codons_map[AA] = {codon}\n",
    "    else\n",
    "        AA_codons_map[AA].add(codon)\n",
    "\n",
    "    "
   ]
  },
  {
   "cell_type": "code",
   "execution_count": 43,
   "metadata": {},
   "outputs": [
    {
     "data": {
      "text/plain": [
       "0.7142857142857143"
      ]
     },
     "execution_count": 43,
     "metadata": {},
     "output_type": "execute_result"
    }
   ],
   "source": [
    "def compute_DNA_score(peptide, seq):\n",
    "    translated_DNA = translate_seq(seq)\n",
    "    n = len(peptide)\n",
    "    m = len(seq)//3\n",
    "    score = 0\n",
    "    for i in range(min(n,m)):\n",
    "        score += peptide[i] == translated_DNA[i]\n",
    "    return score/max(m,n) \n",
    "\n",
    "compute_DNA_score('RMPPQ', \"AGGATGCCTCCGCAAGGTTTT\")"
   ]
  },
  {
   "cell_type": "code",
   "execution_count": 42,
   "metadata": {},
   "outputs": [
    {
     "data": {
      "text/plain": [
       "0"
      ]
     },
     "execution_count": 42,
     "metadata": {},
     "output_type": "execute_result"
    }
   ],
   "source": [
    "# PART 2: Write a function that given a peptide, and a DNA_sequence, \n",
    "# will provide a matching score which is the number of matched amino acids \n",
    "# that the sequence produces on the correct positions divided by the maximum \n",
    "# between the size of the peptide and the size of the peptide created form the DNA_sequence.\n",
    "\n",
    "## DEFINE THE FUNCTION\n",
    "\n",
    "# The score will be 0 if there is 0 match\n",
    "# To compute the number of matched amino acids we translate the DNA_seq\n",
    "def compute_score(peptide, seq):\n",
    "    score = 0\n",
    "    seq_peptide = translate_seq(seq)\n",
    "    ## compute matching score\n",
    "    return score\n",
    "    \n",
    "## TEST THE FUNCTION\n",
    "\n",
    "sequence = \"CCCCAGCGTGCT\"\n",
    "AA_sequence = \"PQRA\"\n",
    "compute_score(AA_sequence, sequence)\n",
    "\n",
    "    "
   ]
  },
  {
   "cell_type": "code",
   "execution_count": 44,
   "metadata": {},
   "outputs": [
    {
     "data": {
      "text/plain": [
       "1.0"
      ]
     },
     "execution_count": 44,
     "metadata": {},
     "output_type": "execute_result"
    }
   ],
   "source": [
    "## DEFINE THE FUNCTION\n",
    "\n",
    "# The score will be 0 if there is 0 match\n",
    "# To compute the number of matched amino acids we translate the DNA_seq\n",
    "# Then we go through each corresponding position from the peptide and the translated sequence\n",
    "# that means we should go to the end of the shorter of the two AA sequences \n",
    "# If the amino acids match, we increase the score, else we don't need to do anything \n",
    "# Once the number of matching amino acids is computed, to normalize for the size of the DNA sequence\n",
    "# we divide by the maximum lenght between the length of the peptide and that of the translated DNA\n",
    "\n",
    "def compute_score(peptide, seq):\n",
    "    score = 0\n",
    "    seq_peptide = translate_seq(seq)\n",
    "    min_size = min(len(peptide), len(seq_peptide))\n",
    "    max_size = max(len(peptide), len(seq_peptide))       \n",
    "    for aa_index in range(min_size):\n",
    "        if peptide[aa_index] == seq_peptide[aa_index]:\n",
    "            score += 1\n",
    "    return score/max_size\n",
    "    \n",
    "## TEST THE FUNCTION\n",
    "\n",
    "sequence = \"CCCCAGCGTGCT\"\n",
    "AA_sequence = \"PQRA\"\n",
    "compute_score(AA_sequence, sequence)"
   ]
  },
  {
   "cell_type": "code",
   "execution_count": 46,
   "metadata": {},
   "outputs": [
    {
     "data": {
      "text/plain": [
       "0.8"
      ]
     },
     "execution_count": 46,
     "metadata": {},
     "output_type": "execute_result"
    }
   ],
   "source": [
    "## TEST THE FUNCTION\n",
    "\n",
    "sequence = \"CCCCAGCGTGCTACT\"\n",
    "AA_sequence = \"PQRA\"\n",
    "compute_score(AA_sequence, sequence)"
   ]
  },
  {
   "cell_type": "code",
   "execution_count": 47,
   "metadata": {},
   "outputs": [
    {
     "data": {
      "text/plain": [
       "0.75"
      ]
     },
     "execution_count": 47,
     "metadata": {},
     "output_type": "execute_result"
    }
   ],
   "source": [
    "## TEST THE FUNCTION\n",
    "\n",
    "sequence = \"CCCCAGCGTG\"\n",
    "AA_sequence = \"PQRA\"\n",
    "compute_score(AA_sequence, sequence)"
   ]
  },
  {
   "cell_type": "code",
   "execution_count": 48,
   "metadata": {},
   "outputs": [
    {
     "data": {
      "text/plain": [
       "0.75"
      ]
     },
     "execution_count": 48,
     "metadata": {},
     "output_type": "execute_result"
    }
   ],
   "source": [
    "## TEST THE FUNCTION\n",
    "\n",
    "sequence = \"CCCCAGCGTGCT\"\n",
    "AA_sequence = \"PQR\"\n",
    "compute_score(AA_sequence, sequence)"
   ]
  },
  {
   "cell_type": "code",
   "execution_count": 49,
   "metadata": {},
   "outputs": [
    {
     "data": {
      "text/plain": [
       "0.0"
      ]
     },
     "execution_count": 49,
     "metadata": {},
     "output_type": "execute_result"
    }
   ],
   "source": [
    "## TEST THE FUNCTION\n",
    "\n",
    "sequence = \"CC\"\n",
    "AA_sequence = \"PQRA\"\n",
    "compute_score(AA_sequence, sequence)"
   ]
  },
  {
   "cell_type": "code",
   "execution_count": null,
   "metadata": {},
   "outputs": [],
   "source": []
  },
  {
   "cell_type": "markdown",
   "metadata": {
    "tags": []
   },
   "source": [
    "___\n",
    "\n",
    "<b> <font color = \"red\">Exercise</font></b>\n",
    "\n",
    "\n",
    "##### Processing the worm genome file\n",
    "You will extract the lines with gene information from the C. elegans genome and write them in a new file.   \n",
    "\n",
    "The GFF3 file is worm_genome_short.gff3 and is also available in the github repository (you should have it in the study session if you updated the repo). The GFF3 format is described on:\n",
    "https://github.com/The-Sequence-Ontology/Specifications/blob/master/gff3.md.<br> \n",
    "\n",
    "After the comment and header lines (marked by \"#\"), a line in a GFF3 file (row of a table) is composed of 9 tab-delimited fields (columns). The first 8 are called features. These are all atomic (consist of only one element), so they get put into a dictionary features with no problems. You will need to define a key and you will have to generate those integers as you read the file in and add data to the dictionary.\n",
    "\n",
    "The ninth field consists of tag-value pairs. **The tag-value pairs are separated by a semi-colon, \";\". The the tag and value in a pair are  separated by equal signs, \"=\", and the values may consist of mulitiple, comma, \",\", separated entries.** \n",
    "\n",
    "From the definition of the GFF3 we have these fields:   \n",
    "`seqid, source, type, start, end, score, strand, phase`\n",
    "\n",
    "The type field has information about the type of the genomic feature.    \n",
    "Process each line from the file that has a feature and extract the lines that have the type gene.    \n",
    "Write those lines in the file `worm_genes_short.txt`    \n",
    "Use a function to process a line and return the line if it meets the criteria or None otherwise.    \n",
    "\n"
   ]
  },
  {
   "cell_type": "code",
   "execution_count": 53,
   "metadata": {},
   "outputs": [
    {
     "name": "stdout",
     "output_type": "stream",
     "text": [
      "None\n"
     ]
    }
   ],
   "source": [
    "# You will extract the lines with gene information from the C. elegans genome and write them in a new file.\n",
    "\n",
    "# The type field has information about the type of the genomic feature.\n",
    "# Process each line from the file that has a feature and extract the lines that have the type gene.\n",
    "# Write those lines in the file `worm_genes_short.txt`\n",
    "# Use a function to process a line and return the line if it meets the criteria or None otherwise.\n",
    "\n",
    "## DEFINETHE FUNCTION\n",
    "\n",
    "# PRocesses a genomic feature which is a line in a gff3 file and returnd the feature if it is a gene\n",
    "def process_feature(gf):\n",
    "    if gf.split(\"\\t\")[2] == \"gene\":\n",
    "        return gf\n",
    "\n",
    "\n",
    "## TEST THE FUNCTION\n",
    "\n",
    "feature = \"I\tWormBase\tchromosome\t1\t15072434\t.\t.\t.\tID=chromosome:I;Alias=BX284601.5,NC_003279.8\"\n",
    "res = process_feature(feature)\n",
    "print(res)"
   ]
  },
  {
   "cell_type": "code",
   "execution_count": 54,
   "metadata": {},
   "outputs": [
    {
     "name": "stdout",
     "output_type": "stream",
     "text": [
      "I\tWormBase\tgene\t4116\t10230\t.\t-\t.\tID=gene:WBGene00022277;Name=homt-1;biotype=protein_coding;description=Alpha N-terminal protein methyltransferase 1  [Source:UniProtKB/Swiss-Prot%3BAcc:Q9N4D9];gene_id=WBGene00022277;logic_name=wormbase\n"
     ]
    }
   ],
   "source": [
    "feature = \"I\tWormBase\tgene\t4116\t10230\t.\t-\t.\tID=gene:WBGene00022277;Name=homt-1;biotype=protein_coding;description=Alpha N-terminal protein methyltransferase 1  [Source:UniProtKB/Swiss-Prot%3BAcc:Q9N4D9];gene_id=WBGene00022277;logic_name=wormbase\"\n",
    "res = process_feature(feature)\n",
    "print(res)"
   ]
  },
  {
   "cell_type": "code",
   "execution_count": 57,
   "metadata": {},
   "outputs": [],
   "source": [
    "# You will extract the lines with gene information from the C. elegans genome and write them in a new file.\n",
    "\n",
    "# The type field has information about the type of the genomic feature.\n",
    "# Process each line from the file that has a feature and extract the lines that have the type gene.\n",
    "# Write those lines in the file `worm_genes_short.txt`\n",
    "# Use a function to process a line and return the line if it meets the criteria or None otherwise.\n",
    "\n",
    "\n",
    "# Open the input file for reading (default mode)\n",
    "with open(\"worm_genome_short.gff3\") as genome_file:\n",
    "    # Open the results file for writing:\n",
    "    with open('worm_genes_short.txt', \"w\") as genes_file: \n",
    "        # go through each line in the input file\n",
    "        for line in genome_file:\n",
    "            # skip comment lines - they start with ##\n",
    "            if not line.startswith(\"#\"):\n",
    "                # process the line and return the line only if it is a gene line\n",
    "                result = process_feature(line)\n",
    "                if result != None:\n",
    "                    genes_file.write(result)\n"
   ]
  },
  {
   "cell_type": "code",
   "execution_count": 58,
   "metadata": {},
   "outputs": [
    {
     "name": "stdout",
     "output_type": "stream",
     "text": [
      "I\tWormBase\tgene\t4116\t10230\t.\t-\t.\tID=gene:WBGene00022277;Name=homt-1;biotype=protein_coding;description=Alpha N-terminal protein methyltransferase 1  [Source:UniProtKB/Swiss-Prot%3BAcc:Q9N4D9];gene_id=WBGene00022277;logic_name=wormbase\n",
      "I\tWormBase\tgene\t11495\t16837\t.\t+\t.\tID=gene:WBGene00022276;Name=nlp-40;biotype=protein_coding;description=Neuropeptide-like peptides nlp-40 Peptide P1 Peptide P2 Peptide P3 Peptide P4 [Source:UniProtKB/Swiss-Prot%3BAcc:Q9N4D8];gene_id=WBGene00022276;logic_name=wormbase\n",
      "I\tWormBase\tgene\t17487\t26781\t.\t-\t.\tID=gene:WBGene00022278;Name=rcor-1;biotype=protein_coding;description=RCOR (REST CO-Repressor) homolog  [Source:UniProtKB/TrEMBL%3BAcc:H2KZI1];gene_id=WBGene00022278;logic_name=wormbase\n"
     ]
    }
   ],
   "source": [
    "# read the information in the results/genes file \n",
    "with open('worm_genes_short.txt') as genes_file: \n",
    "    for line in genes_file:\n",
    "        # print the line without ending the print with a new line\n",
    "        print(line, end = \"\")"
   ]
  },
  {
   "cell_type": "code",
   "execution_count": null,
   "metadata": {},
   "outputs": [],
   "source": []
  },
  {
   "cell_type": "code",
   "execution_count": null,
   "metadata": {},
   "outputs": [],
   "source": []
  },
  {
   "cell_type": "markdown",
   "metadata": {},
   "source": [
    "___\n",
    "<b><font color = \"red\">Exercise</font> <br><br></b>\n",
    "\n",
    "Explain the following code:\n",
    "\n"
   ]
  },
  {
   "cell_type": "code",
   "execution_count": 46,
   "metadata": {},
   "outputs": [
    {
     "name": "stdout",
     "output_type": "stream",
     "text": [
      "ATGATGCCACAAATG\n"
     ]
    }
   ],
   "source": [
    "amino_acid_code = { \n",
    "    \"P\": (\"CCA\", \"CCC\", \"CCT\", \"CCG\"),\n",
    "    \"Q\": (\"CAA\", \"CAG\"),\n",
    "    \"M\": (\"ATG\",)\n",
    "}\n",
    "\n",
    "p = \"MMPQM\"\n",
    "x = set()\n",
    "s = \"\"\n",
    "for aa in p:\n",
    "    s = s + amino_acid_code.get(aa,(\"\",))[0]\n",
    "print(s)"
   ]
  },
  {
   "cell_type": "markdown",
   "metadata": {},
   "source": [
    "### _________ \n",
    "\n",
    "Overall, the code takes the sequence of amino acids \"MMPQM\" and tries to go back to the DNA sequence that coded for it.\n",
    "The correspondance is not unique as multiple codons can code for the same amino acid, and this code take the first codon in the given dictionary that codes for the respective amino acid.\n",
    "\n",
    "\n",
    "The first statement stores in the variable amino_acid_code a dictionary object where the keys are amino acids (P, Q and M) and the values are tuples with codons that code for that amino acid.\n",
    "\n",
    "The second statement stores in the variable p the string \"MMPQM\" - a sequence of amino acids.\n",
    "\n",
    "The third statement stores in x an empty set (set()).\n",
    "\n",
    "The fourth statement stores in s an empty string (\"\").\n",
    "\n",
    "The fifth statement uses a for loop to go through each letter/ amino acid in the string/peptide stored in variable p.\n",
    "For each amino acid, the variable s is added/concatenated with the first element (codon) from the sequence of values (tuple of codons) found in the dictionary for the given amino acid.\n",
    "It uses the get function to get the value (tuple of codons) for the key (amino acid), and if the key is not found a tuple with an empty string is retrieved, that tuple is denoted by: (\"\",).\n",
    "The first elemnet from the resulted tuple is selected using 0-based indexing [0].\n",
    "\n",
    "The sixth statement displays yhe value computed in the variable s using the print function.\n",
    "The s variable contains a string object that contains the DNA sequence that can code for the \"MMPQM\" peptide.\n",
    "\n"
   ]
  },
  {
   "cell_type": "markdown",
   "metadata": {},
   "source": [
    "_______"
   ]
  }
 ],
 "metadata": {
  "kernelspec": {
   "display_name": "Python 3 (ipykernel)",
   "language": "python",
   "name": "python3"
  },
  "language_info": {
   "codemirror_mode": {
    "name": "ipython",
    "version": 3
   },
   "file_extension": ".py",
   "mimetype": "text/x-python",
   "name": "python",
   "nbconvert_exporter": "python",
   "pygments_lexer": "ipython3",
   "version": "3.8.10"
  }
 },
 "nbformat": 4,
 "nbformat_minor": 4
}
