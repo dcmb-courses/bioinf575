{
 "cells": [
  {
   "cell_type": "markdown",
   "metadata": {
    "tags": []
   },
   "source": [
    "### Study session 11\n",
    "\n",
    "#### BIOINF 575 - Fall 2021\n",
    "\n"
   ]
  },
  {
   "cell_type": "markdown",
   "metadata": {},
   "source": [
    "___\n",
    "\n",
    "<b> <font color = \"red\">Exercise</font></b>\n",
    "\n",
    "#### Roundworm comparison\n",
    "\n",
    "We have 10 measurements of the length of two roundworms stored in the following dictionary.   \n",
    "Retrieve the measurement information when the difference in lengths between the two worms is less than 3.    \n",
    "Retrieve the result as a list with tuples of two: the measurement number/index and the difference in length.    \n"
   ]
  },
  {
   "cell_type": "code",
   "execution_count": null,
   "metadata": {},
   "outputs": [],
   "source": [
    "worms_lengths = { \n",
    "    \"worm1\": [{\"length\": 47},\n",
    "              {\"length\": 54},\n",
    "              {\"length\": 55},\n",
    "              {\"length\": 67},\n",
    "              {\"length\": 68},\n",
    "              {\"length\": 68},\n",
    "              {\"length\": 70},\n",
    "              {\"length\": 72},\n",
    "              {\"length\": 72},\n",
    "              {\"length\": 75}],\n",
    "    \n",
    "    \"worm2\": [{\"length\": 42},\n",
    "              {\"length\": 53},\n",
    "              {\"length\": 55},\n",
    "              {\"length\": 62},\n",
    "              {\"length\": 64},\n",
    "              {\"length\": 67},\n",
    "              {\"length\": 70},\n",
    "              {\"length\": 70},\n",
    "              {\"length\": 70},\n",
    "              {\"length\": 71}]\n",
    "}"
   ]
  },
  {
   "cell_type": "code",
   "execution_count": null,
   "metadata": {},
   "outputs": [],
   "source": [
    "# Write your solution here\n",
    "\n",
    "\n"
   ]
  },
  {
   "cell_type": "code",
   "execution_count": null,
   "metadata": {},
   "outputs": [],
   "source": []
  },
  {
   "cell_type": "code",
   "execution_count": null,
   "metadata": {},
   "outputs": [],
   "source": []
  },
  {
   "cell_type": "markdown",
   "metadata": {
    "tags": []
   },
   "source": [
    "____\n",
    "\n",
    "\n",
    "<b> <font color = \"red\">Exercise</font></b>\n",
    "\n",
    "#### Genomic feature exploration for the worm genome   \n",
    "We have genomic features stored in the  data for the roundworm in the file `worm_genome_short.gff3`.   \n",
    "https://raw.githubusercontent.com/dcmb-courses/bioinf575/main/study_sessions/study_session6_functions_files/worm_genome_short.gff3\n",
    "\n",
    "Parse the file and create two lists, one with the features, tuples of 8 elements, and one with the attributes, tuples of 2 elements.\n",
    "\n",
    "GFF3 files are nine-column, tab-delimited, plain text files.    \n",
    "The first line of a GFF3 file is a comment that identifies the version.    \n",
    "All but the final field in each feature line must contain a value; \"empty\" columns should be denoted with a '.'.    \n",
    "\n",
    "The descriptions of each of the 9 columns are as such:   \n",
    "1.\tseqid: name of the chromosome or scaffold; chromosome names can be given with or without the 'chr' prefix. \n",
    "o\tImportant note: the seq ID must be one used within Ensembl, i.e. a standard chromosome name or an Ensembl identifier such as a scaffold ID, without any additional content such as species or assembly. \n",
    "2.\tsource: name of the program that generated this feature, or the data source (database or project name)\n",
    "3.\ttype: type of feature. Must be a term or accession from the SOFA sequence ontology\n",
    "4.\tstart: Start position of the feature, with sequence numbering starting at 1.\n",
    "5.\tend: End position of the feature, with sequence numbering starting at 1.\n",
    "6.\tscore: A floating point value.\n",
    "7.\tstrand: Defined as + (forward) or - (reverse).\n",
    "8.\tphase: One of '0', '1' or '2'. '0' indicates that the first base of the feature is the first base of a codon, '1' that the second base is the first base of a codon, and so on.\n",
    "9.\tattributes: A semicolon-separated list of tag-value pairs, providing additional information about each feature. Some of these tags are predefined, e.g. ID, Name, Alias, Parent - see the GFF documentation for more details.\n"
   ]
  },
  {
   "cell_type": "code",
   "execution_count": null,
   "metadata": {},
   "outputs": [],
   "source": [
    "# Write your solution here\n",
    "\n",
    "\n"
   ]
  },
  {
   "cell_type": "code",
   "execution_count": null,
   "metadata": {},
   "outputs": [],
   "source": []
  },
  {
   "cell_type": "code",
   "execution_count": null,
   "metadata": {},
   "outputs": [],
   "source": []
  },
  {
   "cell_type": "markdown",
   "metadata": {
    "tags": []
   },
   "source": [
    "___\n",
    "\n",
    "<b> <font color = \"red\">Exercise</font></b>\n",
    "\n",
    "#### Package exploration\n",
    "\n",
    "Look into the bamnostic package and find out what operating systems it supports, what dependencies it has and find a class it defines.\n",
    "\n",
    "https://github.com/betteridiot/bamnostic\n",
    "\n",
    "Look at pandas for similar information.\n",
    "\n",
    "https://github.com/pandas-dev/pandas\n"
   ]
  },
  {
   "cell_type": "code",
   "execution_count": null,
   "metadata": {},
   "outputs": [],
   "source": [
    "# Write your solution here\n",
    "\n",
    "\n"
   ]
  },
  {
   "cell_type": "code",
   "execution_count": null,
   "metadata": {},
   "outputs": [],
   "source": []
  },
  {
   "cell_type": "code",
   "execution_count": null,
   "metadata": {},
   "outputs": [],
   "source": []
  }
 ],
 "metadata": {
  "kernelspec": {
   "display_name": "Python 3 (ipykernel)",
   "language": "python",
   "name": "python3"
  },
  "language_info": {
   "codemirror_mode": {
    "name": "ipython",
    "version": 3
   },
   "file_extension": ".py",
   "mimetype": "text/x-python",
   "name": "python",
   "nbconvert_exporter": "python",
   "pygments_lexer": "ipython3",
   "version": "3.8.10"
  }
 },
 "nbformat": 4,
 "nbformat_minor": 4
}
