{
 "cells": [
  {
   "cell_type": "markdown",
   "metadata": {},
   "source": [
    "## Study session 3 - Data types and data structures\n",
    "### BIOINF 575 - Fall 2021"
   ]
  },
  {
   "cell_type": "markdown",
   "metadata": {},
   "source": [
    "\n",
    "Documentation on data types:   \n",
    "https://docs.python.org/3/library/stdtypes.html\n",
    "Check the precedence of operators in the documentation at the following link:     \n",
    "https://docs.python.org/3/reference/expressions.html#operator-precedence\n"
   ]
  },
  {
   "cell_type": "markdown",
   "metadata": {},
   "source": [
    "Check/display the <b>type of a variable</b> with the function <b>type()</b>."
   ]
  },
  {
   "cell_type": "markdown",
   "metadata": {},
   "source": [
    "___\n",
    "<font color = \"red\">Exercise</font> <br>\n",
    "\n",
    "Cont the number of digits in a large integer number:   \n",
    "e.g.: for the number 784512346 your should return 9"
   ]
  },
  {
   "cell_type": "markdown",
   "metadata": {},
   "source": [
    "##### IN THE HOMEWORK YOU DO NOT NEED TO INCLUDE JUST BASIC COMMENTS AND ONLY THE FINAL SOLUTION NOT ALL INTERMEDIATE STEPS"
   ]
  },
  {
   "cell_type": "code",
   "execution_count": 1,
   "metadata": {},
   "outputs": [],
   "source": [
    "# Solution\n",
    "\n",
    "# int objects do not have the length function implemented (look for __len__ when you do dir)\n",
    "# dir(int) # uncoment this line and run the cell if you want to look at the result of dir"
   ]
  },
  {
   "cell_type": "code",
   "execution_count": 2,
   "metadata": {},
   "outputs": [],
   "source": [
    "# string objects have the len function implemented\n",
    "# dir(str) # uncoment this line and run the cell if you want to look at the result of dir"
   ]
  },
  {
   "cell_type": "code",
   "execution_count": 3,
   "metadata": {},
   "outputs": [
    {
     "data": {
      "text/plain": [
       "9"
      ]
     },
     "execution_count": 3,
     "metadata": {},
     "output_type": "execute_result"
    }
   ],
   "source": [
    "# so to get the number of digits for an int - we change it to a string and \n",
    "# count the characthers using the len function\n",
    "\n",
    "large_no = 784512346\n",
    "len(str(large_no))"
   ]
  },
  {
   "cell_type": "markdown",
   "metadata": {},
   "source": [
    "___\n",
    "<font color = \"red\">Exercise</font> <br>\n",
    "\n",
    "We have four variables and a range for each:\n",
    "temperature (25 - 28 C), pH (6-8), pressure (29.8 - 30.2 inHg), no_cells (50-100)\n",
    "\n",
    "If 2 of the variables are not in the correct range the cell culture does not grow, write an expression that checks if the cell culture grows and test it with 2 sets of values.\n",
    "\n"
   ]
  },
  {
   "cell_type": "code",
   "execution_count": 4,
   "metadata": {},
   "outputs": [
    {
     "data": {
      "text/plain": [
       "True"
      ]
     },
     "execution_count": 4,
     "metadata": {},
     "output_type": "execute_result"
    }
   ],
   "source": [
    "# Solution\n",
    "\n",
    "temp = 27  \n",
    "pH = 4 \n",
    "pressure = 30\n",
    "no_cells = 70\n",
    "\n",
    "# check if temperature is in the range\n",
    "temp > 25 and temp < 28"
   ]
  },
  {
   "cell_type": "code",
   "execution_count": 5,
   "metadata": {},
   "outputs": [
    {
     "data": {
      "text/plain": [
       "False"
      ]
     },
     "execution_count": 5,
     "metadata": {},
     "output_type": "execute_result"
    }
   ],
   "source": [
    "# check if the pH is in range \n",
    "pH > 6 and pH < 8"
   ]
  },
  {
   "cell_type": "code",
   "execution_count": 6,
   "metadata": {},
   "outputs": [
    {
     "data": {
      "text/plain": [
       "False"
      ]
     },
     "execution_count": 6,
     "metadata": {},
     "output_type": "execute_result"
    }
   ],
   "source": [
    "6 < pH < 8"
   ]
  },
  {
   "cell_type": "code",
   "execution_count": 7,
   "metadata": {},
   "outputs": [
    {
     "data": {
      "text/plain": [
       "2"
      ]
     },
     "execution_count": 7,
     "metadata": {},
     "output_type": "execute_result"
    }
   ],
   "source": [
    "# remember that bool is a subtype of int so Tue is 1. and False is 0 and \n",
    "# we can do basic math with these values\n",
    "\n",
    "True + True"
   ]
  },
  {
   "cell_type": "code",
   "execution_count": 8,
   "metadata": {},
   "outputs": [
    {
     "data": {
      "text/plain": [
       "1"
      ]
     },
     "execution_count": 8,
     "metadata": {},
     "output_type": "execute_result"
    }
   ],
   "source": [
    "# use parentheses because the + operator has precedence over the `and` operator  \n",
    "# so it will compute 28 + pH first if we don't use paratheses \n",
    "# we can use the backslash \\ to mark a line continuation when a line is too long \n",
    "# and we want to write the expression/code structure on multiple lines\n",
    "\n",
    "(temp > 25 and temp < 28) + (pH > 6 and pH < 8)"
   ]
  },
  {
   "cell_type": "code",
   "execution_count": 9,
   "metadata": {},
   "outputs": [
    {
     "data": {
      "text/plain": [
       "1"
      ]
     },
     "execution_count": 9,
     "metadata": {},
     "output_type": "execute_result"
    }
   ],
   "source": [
    "(temp > 25 and temp < 28) + \\\n",
    "(pH > 6 and pH < 8)"
   ]
  },
  {
   "cell_type": "code",
   "execution_count": 10,
   "metadata": {},
   "outputs": [
    {
     "data": {
      "text/plain": [
       "1"
      ]
     },
     "execution_count": 10,
     "metadata": {},
     "output_type": "execute_result"
    }
   ],
   "source": [
    "(25 < temp < 28) + \\\n",
    "(6 < pH < 8)"
   ]
  },
  {
   "cell_type": "code",
   "execution_count": 11,
   "metadata": {},
   "outputs": [
    {
     "data": {
      "text/plain": [
       "3"
      ]
     },
     "execution_count": 11,
     "metadata": {},
     "output_type": "execute_result"
    }
   ],
   "source": [
    "# so if all conditions are true we get a total of 4 \n",
    "# if 2 of them are false we get a total of 2\n",
    "# we can use that to check how many conditions are missed\n",
    "# which is how many variables are out of range\n",
    "\n",
    "temp = 27  \n",
    "pH = 4 \n",
    "pressure = 30\n",
    "no_cells = 70\n",
    "\n",
    "(25 < temp < 28) + (6 < pH < 8) + (50 < no_cells < 100) + \\\n",
    "(29.8 < pressure < 30.2)\n"
   ]
  },
  {
   "cell_type": "code",
   "execution_count": 12,
   "metadata": {},
   "outputs": [
    {
     "data": {
      "text/plain": [
       "True"
      ]
     },
     "execution_count": 12,
     "metadata": {},
     "output_type": "execute_result"
    }
   ],
   "source": [
    "# now check if the cells grow - the number of values in range is > 2\n",
    "# we need another set of paratheses\n",
    "\n",
    "((25 < temp < 28) + (6 < pH < 8) + \\\n",
    " (50 < no_cells < 100) + \\\n",
    " (29.8 < pressure < 30.2)) > 2\n"
   ]
  },
  {
   "cell_type": "code",
   "execution_count": 13,
   "metadata": {},
   "outputs": [
    {
     "data": {
      "text/plain": [
       "True"
      ]
     },
     "execution_count": 13,
     "metadata": {},
     "output_type": "execute_result"
    }
   ],
   "source": [
    "# We did the test with one set of values:\n",
    "\n",
    "temp = 27  \n",
    "pH = 4 \n",
    "pressure = 30\n",
    "no_cells = 70\n",
    "\n",
    "((25 < temp < 28) + (6 < pH < 8) + \\\n",
    " (50 < no_cells < 100) + \\\n",
    " (29.8 < pressure < 30.2)) > 2"
   ]
  },
  {
   "cell_type": "code",
   "execution_count": 14,
   "metadata": {},
   "outputs": [
    {
     "data": {
      "text/plain": [
       "False"
      ]
     },
     "execution_count": 14,
     "metadata": {},
     "output_type": "execute_result"
    }
   ],
   "source": [
    "# We test with a second set of values and \n",
    "# we choose a case that provides a different result:\n",
    "\n",
    "temp = 20  \n",
    "pH = 4 \n",
    "pressure = 30\n",
    "no_cells = 70\n",
    "\n",
    "((25 < temp < 28) + (6 < pH < 8) + \\\n",
    " (50 < no_cells < 100) + \\\n",
    " (29.8 < pressure < 30.2)) > 2"
   ]
  },
  {
   "cell_type": "markdown",
   "metadata": {},
   "source": [
    "___\n",
    "<font color = \"red\">Exercise</font> <br><br>\n",
    "\n",
    "Explain the following code:\n"
   ]
  },
  {
   "cell_type": "code",
   "execution_count": 15,
   "metadata": {},
   "outputs": [
    {
     "data": {
      "text/plain": [
       "83"
      ]
     },
     "execution_count": 15,
     "metadata": {},
     "output_type": "execute_result"
    }
   ],
   "source": [
    "int(str(10)+\"2\")+True-(20<=70 and 5>2)*20"
   ]
  },
  {
   "cell_type": "markdown",
   "metadata": {},
   "source": [
    "##### # Solution:</b>\n",
    "\n",
    "\n",
    "See below the breakdown of the code and here is the description of what the code does:\n",
    "\n",
    "It transforms the number 10 into a string and concatenates the string 2 to it which results in the string \"102\", which is then transformed into a number: 102. To the resulting number True is added. Because this is an addition (int) operation and bool is a subset of int (True is 1) there will be an int addition resulting in 102 + 1 which is 103. Then the result of a comparison multiplied by 20 is substracted from 103. The result of the comparison is True because the number 20 is lower or equal to the number 70 and the number 5 is greater than 2. Because this is an multiplication (int) operation and bool is a subset of int (True is 1) there will be an int multiplication resulting in 1 * 20 which is 20. So the final result is 103 -20 which is 83.\n",
    "\n",
    "##### -- click on this text to edit this markdown cell and enter your solution ---"
   ]
  },
  {
   "cell_type": "code",
   "execution_count": 16,
   "metadata": {},
   "outputs": [
    {
     "data": {
      "text/plain": [
       "'10'"
      ]
     },
     "execution_count": 16,
     "metadata": {},
     "output_type": "execute_result"
    }
   ],
   "source": [
    "str(10)"
   ]
  },
  {
   "cell_type": "code",
   "execution_count": 17,
   "metadata": {},
   "outputs": [
    {
     "data": {
      "text/plain": [
       "'102'"
      ]
     },
     "execution_count": 17,
     "metadata": {},
     "output_type": "execute_result"
    }
   ],
   "source": [
    "str(10)+\"2\""
   ]
  },
  {
   "cell_type": "code",
   "execution_count": 18,
   "metadata": {},
   "outputs": [
    {
     "data": {
      "text/plain": [
       "102"
      ]
     },
     "execution_count": 18,
     "metadata": {},
     "output_type": "execute_result"
    }
   ],
   "source": [
    "int(str(10)+\"2\")"
   ]
  },
  {
   "cell_type": "code",
   "execution_count": 19,
   "metadata": {},
   "outputs": [
    {
     "data": {
      "text/plain": [
       "True"
      ]
     },
     "execution_count": 19,
     "metadata": {},
     "output_type": "execute_result"
    }
   ],
   "source": [
    "True == 1"
   ]
  },
  {
   "cell_type": "code",
   "execution_count": 20,
   "metadata": {},
   "outputs": [
    {
     "data": {
      "text/plain": [
       "83"
      ]
     },
     "execution_count": 20,
     "metadata": {},
     "output_type": "execute_result"
    }
   ],
   "source": [
    "int(str(10)+\"2\")+True-(20<=70 and 5>2)*20"
   ]
  },
  {
   "cell_type": "code",
   "execution_count": 21,
   "metadata": {},
   "outputs": [
    {
     "data": {
      "text/plain": [
       "True"
      ]
     },
     "execution_count": 21,
     "metadata": {},
     "output_type": "execute_result"
    }
   ],
   "source": [
    "(20<=70 and 5>2)"
   ]
  },
  {
   "cell_type": "code",
   "execution_count": 22,
   "metadata": {},
   "outputs": [
    {
     "data": {
      "text/plain": [
       "20"
      ]
     },
     "execution_count": 22,
     "metadata": {},
     "output_type": "execute_result"
    }
   ],
   "source": [
    "(20<=70 and 5>2)*20"
   ]
  },
  {
   "cell_type": "markdown",
   "metadata": {},
   "source": [
    "___\n",
    "\n",
    "<font color = \"red\">Exercise</font> <br>\n",
    "\n",
    "Compute the following expression:\n",
    "\n",
    "\n",
    "number(\"10\")+remainder(40/6)-2<sup>3</sup>+floor(2<sup>(-1/2)</sup>)\n",
    "\n",
    "\n",
    "and display the text \"done\" the number of times the result of the expression shows up, each time on a new line.\n"
   ]
  },
  {
   "cell_type": "code",
   "execution_count": 23,
   "metadata": {},
   "outputs": [
    {
     "data": {
      "text/plain": [
       "6"
      ]
     },
     "execution_count": 23,
     "metadata": {},
     "output_type": "execute_result"
    }
   ],
   "source": [
    "# Solution \n",
    "\n",
    "# we use the int() function to make a number outof the string \"10\"\n",
    "# we use the modulo operator, % , to compute the remainder\n",
    "# we use the exponentiation operator, **, to compute 2 to the power 3\n",
    "# we use the exponentiation operator, **, to compute 2 to the power -1/2\n",
    "# we use int to get the whole part of a decimal number\n",
    "\n",
    "int(\"10\") + 40 % 6 - 2**3 + int(2**(-1/2))\n"
   ]
  },
  {
   "cell_type": "code",
   "execution_count": 24,
   "metadata": {},
   "outputs": [
    {
     "data": {
      "text/plain": [
       "10"
      ]
     },
     "execution_count": 24,
     "metadata": {},
     "output_type": "execute_result"
    }
   ],
   "source": [
    "int(\"10\")"
   ]
  },
  {
   "cell_type": "code",
   "execution_count": 25,
   "metadata": {},
   "outputs": [
    {
     "data": {
      "text/plain": [
       "4"
      ]
     },
     "execution_count": 25,
     "metadata": {},
     "output_type": "execute_result"
    }
   ],
   "source": [
    "40 % 6"
   ]
  },
  {
   "cell_type": "code",
   "execution_count": 26,
   "metadata": {},
   "outputs": [
    {
     "data": {
      "text/plain": [
       "8"
      ]
     },
     "execution_count": 26,
     "metadata": {},
     "output_type": "execute_result"
    }
   ],
   "source": [
    "2**3"
   ]
  },
  {
   "cell_type": "code",
   "execution_count": 27,
   "metadata": {},
   "outputs": [
    {
     "data": {
      "text/plain": [
       "0.7071067811865476"
      ]
     },
     "execution_count": 27,
     "metadata": {},
     "output_type": "execute_result"
    }
   ],
   "source": [
    "# 1/squared root(2)\n",
    "2**(-1/2)"
   ]
  },
  {
   "cell_type": "code",
   "execution_count": 28,
   "metadata": {},
   "outputs": [
    {
     "data": {
      "text/plain": [
       "0"
      ]
     },
     "execution_count": 28,
     "metadata": {},
     "output_type": "execute_result"
    }
   ],
   "source": [
    "int(2**(-1/2))"
   ]
  },
  {
   "cell_type": "markdown",
   "metadata": {},
   "source": [
    "___\n",
    "\n",
    "<font color = \"red\">Exercise</font> <br>\n",
    "\n",
    "a) Count the number of sentences in the following text from a news article in Science (science.org): \n",
    "https://www.science.org/content/article/jumping-gene-may-have-erased-tails-humans-and-other-apes-and-boosted-our-risk-birth-defects\n",
    "\n",
    "```\n",
    "Mammals from mice to monkeys have tails. But humans and our cousins the great apes lack them. Now, researchers may have unearthed a simple genetic change that led to our abbreviated back end: an itinerant piece of DNA that leapt into a new chromosomal home and changed how great apes make a key developmental protein. The finding also suggests the genetic shift came with a less visible and more dangerous effect: a higher risk of birth defects involving the developing spinal cord.\n",
    "```\n"
   ]
  },
  {
   "cell_type": "code",
   "execution_count": 29,
   "metadata": {},
   "outputs": [
    {
     "data": {
      "text/plain": [
       "'Mammals from mice to monkeys have tails. But humans and our cousins the great apes lack them. Now, researchers may have unearthed a simple genetic change that led to our abbreviated back end: an itinerant piece of DNA that leapt into a new chromosomal home and changed how great apes make a key developmental protein. The finding also suggests the genetic shift came with a less visible and more dangerous effect: a higher risk of birth defects involving the developing spinal cord.'"
      ]
     },
     "execution_count": 29,
     "metadata": {},
     "output_type": "execute_result"
    }
   ],
   "source": [
    "# Solution \n",
    "\n",
    "# save the text of the news in a variable\n",
    "news_text = \"Mammals from mice to monkeys have tails. But humans and our cousins the great apes lack them. Now, researchers may have unearthed a simple genetic change that led to our abbreviated back end: an itinerant piece of DNA that leapt into a new chromosomal home and changed how great apes make a key developmental protein. The finding also suggests the genetic shift came with a less visible and more dangerous effect: a higher risk of birth defects involving the developing spinal cord.\"\n",
    "news_text\n",
    "\n"
   ]
  },
  {
   "cell_type": "code",
   "execution_count": 30,
   "metadata": {},
   "outputs": [
    {
     "data": {
      "text/plain": [
       "4"
      ]
     },
     "execution_count": 30,
     "metadata": {},
     "output_type": "execute_result"
    }
   ],
   "source": [
    "# sentences and in . so we count the dots to find out how many sentences we have\n",
    "\n",
    "news_text.count(\".\")\n"
   ]
  },
  {
   "cell_type": "code",
   "execution_count": 31,
   "metadata": {},
   "outputs": [
    {
     "data": {
      "text/plain": [
       "4"
      ]
     },
     "execution_count": 31,
     "metadata": {},
     "output_type": "execute_result"
    }
   ],
   "source": [
    "# a more comprehensive approach would be to also count the !, ? and other characters that end a sentence \n",
    "\n",
    "news_text.count(\".\") + news_text.count(\"!\") + news_text.count(\"?\")\n"
   ]
  },
  {
   "cell_type": "code",
   "execution_count": null,
   "metadata": {},
   "outputs": [],
   "source": []
  },
  {
   "cell_type": "markdown",
   "metadata": {},
   "source": [
    "<font color = \"red\">Exercise</font> <br> \n",
    "\n",
    "b) Compute the averave length of a sentence\n"
   ]
  },
  {
   "cell_type": "code",
   "execution_count": 32,
   "metadata": {},
   "outputs": [
    {
     "data": {
      "text/plain": [
       "20.5"
      ]
     },
     "execution_count": 32,
     "metadata": {},
     "output_type": "execute_result"
    }
   ],
   "source": [
    "# Solution\n",
    "\n",
    "# the length of a sentence is the number of words\n",
    "# the average length is the sum of total lengths divided by the number of sentences\n",
    "# the sum of total sentence lengths is the number of words in the whole text\n",
    "# so we need to compute the total number of words, and divide by the number of sentences computed above\n",
    "\n",
    "# words are delimited by space so counting spaces will count the words\n",
    "# however the last word does not have a space after it so we need to add one to get the number of words\n",
    "\n",
    "(news_text.count(\" \") + 1)/news_text.count(\".\")\n",
    "\n"
   ]
  },
  {
   "cell_type": "markdown",
   "metadata": {},
   "source": [
    "___\n",
    "<font color = \"red\">Exercise</font> <br><br>\n",
    "\n",
    "Explain the following code:\n",
    "\n",
    "```python\n",
    "paragraph = \"Mammals from mice to monkeys have tails. But humans and our cousins the great apes lack them. Now, researchers may have unearthed a simple genetic change that led to our abbreviated back end: an itinerant piece of DNA that leapt into a new chromosomal home and changed how great apes make a key developmental protein. The finding also suggests the genetic shift came with a less visible and more dangerous effect: a higher risk of birth defects involving the developing spinal cord.\"\n",
    "print(paragraph.count(\"the\") > paragraph.upper().count(\"THE\"))\n",
    "print(paragraph.count(\"the \") < paragraph.count(\"the\"))\n",
    "print((paragraph.count(\"the\")-paragraph.count(\"the \")) * \"the \")\n",
    "print()\n",
    "print(3* \" \" + 3 * \"-\" + \" \" + paragraph[:7] + \" \" + paragraph[29:41] + 3 * \"-\" + \"\\n\" +\\\n",
    "        3 * \"-\" + \" \" + paragraph[68:93].capitalize() +  \" \" + 3 * \"-\")\n",
    "\n",
    "```\n"
   ]
  },
  {
   "cell_type": "markdown",
   "metadata": {},
   "source": [
    "##### # Solution:</b>\n",
    "\n",
    "See below the breakdown of the code and here is the description of what the code does:\n",
    "\n",
    "This code looks at the occurence of \"the\" with different case for the letters and as an independent word or as part of other words.\n",
    "It also simulates a centred layout of two sentences built from parts of the paragraph text.\n",
    "\n",
    "On the first line of code the variable paragraph is set to the text of a paragraph from a Science news article.\n",
    "On each of the next 5 lines the result of an expression is displayed using the print function.\n",
    "\n",
    "Line 2: the expression is a condition that checks if the number of \"the\" occurences using a case-sensitive (T and t are different) match is greater than the number of \"the\" occurences when the match is case-insensitive (T and t are the same). It performs the case-sensitive match by searching for the upper-case transformed text in the upper-case transformed paragraph. The result is False, which means that there are some occurence of the \"the\" text where at least some of the letters are uppercase.\n",
    "* Keep in mind that some words do end in the e.g: breathe so we may want a space before the as well, but not if it the first word in a paragraph. Also, there can be a . or a , or other separators after the word the not only space.\n",
    "\n",
    "Line 3: the expression is a condition that checks if the number of \"the \" (has a space at the end) occurences is lower than the number of \"the\" occurences (both are using a case-sensitive match). The result is True, which means that there are some occurence of the \"the\" text where it is not an independent word (space sparated) but is part of another word.\n",
    "\n",
    "Line 4: the expression computes the difference between the times \"the\" (total occurences) occurs and \"the \" (independent word) occurs. It then multiplies that number with \"the \" which repeats that text that number of times.\n",
    "The result shows \"the the \" which means \"the\" occurs twice as part of another word (look in the text for: them and unearthed).\n",
    "* The result of a multiplication between int and string that results in the repetition of the string as many times as the int value is. \n",
    "\n",
    "Line 5: there is no expression - it just prints - which prints which moves the cursor to a newline\n",
    "\n",
    "Line 6: Creates a centered display, created by adding spaces, of two sentences enclosed in a set of 3 dashes. A new line character is added so the second sentence is diplayed on the next line.\n",
    "Specifically: we concatenate the following strings: \n",
    "- 3 spaces, created by multiplying 3 and space to repeat the space character 3 times\n",
    "- 3 dashes, created by multiplying 3 and dash to repeat the dash character 3 times\n",
    "- another space\n",
    "- the first 7 characters in the paragraph: \"Mammals\"\n",
    "- another space\n",
    "- the characters from index 29 to index 40 (0-based index) in the paragraph \"have tails. \"\n",
    "- 3 dashes, created by multiplying 3 and dash to repeat the dash character 3 times\n",
    "- a new line character: \"\\n\"\n",
    "- 3 dashes, created by multiplying 3 and dash to repeat the dash character 3 times\n",
    "- another space\n",
    "- the characters from index 68 to index 92 (0-based index) in the paragraph \"the great apes lack them.\"\n",
    "    - capitalize the text using the capitalize() string method resulting in: \"The great apes lack them.\"\n",
    "- another space\n",
    "- 3 dashes, created by multiplying 3 and dash to repeat the dash character 3 times\n",
    "\n",
    "\n",
    "\n",
    "##### -- click on this text to edit this markdown cell and enter your solution ---"
   ]
  },
  {
   "cell_type": "code",
   "execution_count": 33,
   "metadata": {},
   "outputs": [
    {
     "name": "stdout",
     "output_type": "stream",
     "text": [
      "False\n",
      "True\n",
      "the the \n",
      "\n",
      "   --- Mammals have tails. ---\n",
      "--- The great apes lack them. ---\n"
     ]
    }
   ],
   "source": [
    "paragraph = \"Mammals from mice to monkeys have tails. But humans and our cousins the great apes lack them. Now, researchers may have unearthed a simple genetic change that led to our abbreviated back end: an itinerant piece of DNA that leapt into a new chromosomal home and changed how great apes make a key developmental protein. The finding also suggests the genetic shift came with a less visible and more dangerous effect: a higher risk of birth defects involving the developing spinal cord.\"\n",
    "print(paragraph.count(\"the\") > paragraph.upper().count(\"THE\"))\n",
    "print(paragraph.count(\"the \") < paragraph.count(\"the\"))\n",
    "print((paragraph.count(\"the\")-paragraph.count(\"the \")) * \"the \")\n",
    "print()\n",
    "print(3* \" \" + 3 * \"-\" + \" \" + paragraph[:7] + \" \" + paragraph[29:41] + 3 * \"-\" + \"\\n\" +\\\n",
    "        3 * \"-\" + \" \" + paragraph[68:93].capitalize() +  \" \" + 3 * \"-\")\n"
   ]
  },
  {
   "cell_type": "code",
   "execution_count": 34,
   "metadata": {},
   "outputs": [
    {
     "data": {
      "text/plain": [
       "'Mammals from mice to monkeys have tails. But humans and our cousins the great apes lack them. Now, researchers may have unearthed a simple genetic change that led to our abbreviated back end: an itinerant piece of DNA that leapt into a new chromosomal home and changed how great apes make a key developmental protein. The finding also suggests the genetic shift came with a less visible and more dangerous effect: a higher risk of birth defects involving the developing spinal cord.'"
      ]
     },
     "execution_count": 34,
     "metadata": {},
     "output_type": "execute_result"
    }
   ],
   "source": [
    "paragraph = \"Mammals from mice to monkeys have tails. But humans and our cousins the great apes lack them. Now, researchers may have unearthed a simple genetic change that led to our abbreviated back end: an itinerant piece of DNA that leapt into a new chromosomal home and changed how great apes make a key developmental protein. The finding also suggests the genetic shift came with a less visible and more dangerous effect: a higher risk of birth defects involving the developing spinal cord.\"\n",
    "paragraph"
   ]
  },
  {
   "cell_type": "code",
   "execution_count": 35,
   "metadata": {},
   "outputs": [
    {
     "data": {
      "text/plain": [
       "'MAMMALS FROM MICE TO MONKEYS HAVE TAILS. BUT HUMANS AND OUR COUSINS THE GREAT APES LACK THEM. NOW, RESEARCHERS MAY HAVE UNEARTHED A SIMPLE GENETIC CHANGE THAT LED TO OUR ABBREVIATED BACK END: AN ITINERANT PIECE OF DNA THAT LEAPT INTO A NEW CHROMOSOMAL HOME AND CHANGED HOW GREAT APES MAKE A KEY DEVELOPMENTAL PROTEIN. THE FINDING ALSO SUGGESTS THE GENETIC SHIFT CAME WITH A LESS VISIBLE AND MORE DANGEROUS EFFECT: A HIGHER RISK OF BIRTH DEFECTS INVOLVING THE DEVELOPING SPINAL CORD.'"
      ]
     },
     "execution_count": 35,
     "metadata": {},
     "output_type": "execute_result"
    }
   ],
   "source": [
    "paragraph.upper()"
   ]
  },
  {
   "cell_type": "code",
   "execution_count": 36,
   "metadata": {},
   "outputs": [
    {
     "data": {
      "text/plain": [
       "5"
      ]
     },
     "execution_count": 36,
     "metadata": {},
     "output_type": "execute_result"
    }
   ],
   "source": [
    "paragraph.count(\"the\")"
   ]
  },
  {
   "cell_type": "code",
   "execution_count": 37,
   "metadata": {},
   "outputs": [
    {
     "name": "stdout",
     "output_type": "stream",
     "text": [
      "False\n"
     ]
    }
   ],
   "source": [
    "print(paragraph.count(\"the\") > paragraph.upper().count(\"THE\"))\n"
   ]
  },
  {
   "cell_type": "code",
   "execution_count": 38,
   "metadata": {},
   "outputs": [
    {
     "name": "stdout",
     "output_type": "stream",
     "text": [
      "True\n"
     ]
    }
   ],
   "source": [
    "print(paragraph.count(\"the \") < paragraph.count(\"the\"))\n"
   ]
  },
  {
   "cell_type": "code",
   "execution_count": 39,
   "metadata": {},
   "outputs": [
    {
     "data": {
      "text/plain": [
       "2"
      ]
     },
     "execution_count": 39,
     "metadata": {},
     "output_type": "execute_result"
    }
   ],
   "source": [
    "paragraph.count(\"the\")-paragraph.count(\"the \")"
   ]
  },
  {
   "cell_type": "code",
   "execution_count": 40,
   "metadata": {},
   "outputs": [
    {
     "data": {
      "text/plain": [
       "'the the '"
      ]
     },
     "execution_count": 40,
     "metadata": {},
     "output_type": "execute_result"
    }
   ],
   "source": [
    "2 * \"the \""
   ]
  },
  {
   "cell_type": "code",
   "execution_count": 41,
   "metadata": {},
   "outputs": [
    {
     "name": "stdout",
     "output_type": "stream",
     "text": [
      "   --- Mammals have tails. ---\n",
      "--- The great apes lack them. ---\n"
     ]
    }
   ],
   "source": [
    "print(3* \" \" + 3 * \"-\" + \" \" + paragraph[:7] + \" \" + paragraph[29:41] + 3 * \"-\" + \"\\n\" +\\\n",
    "        3 * \"-\" + \" \" + paragraph[68:93].capitalize() +  \" \" + 3 * \"-\")\n",
    "\n"
   ]
  },
  {
   "cell_type": "code",
   "execution_count": 42,
   "metadata": {},
   "outputs": [
    {
     "data": {
      "text/plain": [
       "'Mammals'"
      ]
     },
     "execution_count": 42,
     "metadata": {},
     "output_type": "execute_result"
    }
   ],
   "source": [
    "paragraph[:7]"
   ]
  },
  {
   "cell_type": "code",
   "execution_count": 43,
   "metadata": {},
   "outputs": [
    {
     "data": {
      "text/plain": [
       "'have tails. '"
      ]
     },
     "execution_count": 43,
     "metadata": {},
     "output_type": "execute_result"
    }
   ],
   "source": [
    "paragraph[29:41]"
   ]
  },
  {
   "cell_type": "code",
   "execution_count": 44,
   "metadata": {},
   "outputs": [
    {
     "data": {
      "text/plain": [
       "'the great apes lack them.'"
      ]
     },
     "execution_count": 44,
     "metadata": {},
     "output_type": "execute_result"
    }
   ],
   "source": [
    "paragraph[68:93]"
   ]
  },
  {
   "cell_type": "code",
   "execution_count": 45,
   "metadata": {},
   "outputs": [
    {
     "data": {
      "text/plain": [
       "'The great apes lack them.'"
      ]
     },
     "execution_count": 45,
     "metadata": {},
     "output_type": "execute_result"
    }
   ],
   "source": [
    "paragraph[68:93].capitalize()"
   ]
  },
  {
   "cell_type": "code",
   "execution_count": 46,
   "metadata": {},
   "outputs": [
    {
     "data": {
      "text/plain": [
       "'   --- Mammals\\non the new line'"
      ]
     },
     "execution_count": 46,
     "metadata": {},
     "output_type": "execute_result"
    }
   ],
   "source": [
    "text_test = 3* \" \" + 3 * \"-\" + \" \" + paragraph[:7] + \"\\n\" + \"on the new line\"\n",
    "text_test"
   ]
  },
  {
   "cell_type": "code",
   "execution_count": 47,
   "metadata": {},
   "outputs": [
    {
     "name": "stdout",
     "output_type": "stream",
     "text": [
      "   --- Mammals\n",
      "on the new line\n"
     ]
    }
   ],
   "source": [
    "print(text_test)"
   ]
  },
  {
   "cell_type": "code",
   "execution_count": null,
   "metadata": {},
   "outputs": [],
   "source": []
  }
 ],
 "metadata": {
  "kernelspec": {
   "display_name": "Python 3 (ipykernel)",
   "language": "python",
   "name": "python3"
  },
  "language_info": {
   "codemirror_mode": {
    "name": "ipython",
    "version": 3
   },
   "file_extension": ".py",
   "mimetype": "text/x-python",
   "name": "python",
   "nbconvert_exporter": "python",
   "pygments_lexer": "ipython3",
   "version": "3.8.10"
  }
 },
 "nbformat": 4,
 "nbformat_minor": 4
}
