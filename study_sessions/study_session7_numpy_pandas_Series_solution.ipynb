{
 "cells": [
  {
   "cell_type": "markdown",
   "metadata": {},
   "source": [
    "### Study session 7 - Numpy and pandas series\n",
    "#### BIOINF 575 - Fall 2021\n",
    "\n",
    "#### SOLUTION"
   ]
  },
  {
   "cell_type": "markdown",
   "metadata": {},
   "source": [
    "##### RECAP"
   ]
  },
  {
   "cell_type": "markdown",
   "metadata": {},
   "source": [
    "#### Arrays of different dimensions (`shape` gives the number of elements on each dimension):\n",
    "\n",
    "<img src=\"https://www.oreilly.com/library/view/elegant-scipy/9781491922927/assets/elsp_0105.png\" alt=\"data structures\" width=\"500\">  \n",
    "\n",
    "_____\n"
   ]
  },
  {
   "cell_type": "markdown",
   "metadata": {},
   "source": [
    "#### <b>Basic array attributes:</b>\n",
    "* shape: array dimension\n",
    "* size: Number of elements in array\n",
    "* ndim: Number of array dimension (len(arr.shape))\n",
    "* dtype: Data-type of the array\n",
    "* slicing: [row_slice,col_slice]\n",
    "\n",
    "Pandas Series a named array: \n",
    "```\n",
    "pd.Series(data, index)\n",
    "```"
   ]
  },
  {
   "cell_type": "markdown",
   "metadata": {},
   "source": [
    "_____\n",
    "\n",
    "<b><font color = \"red\">Exercise</font> <br></b>\n",
    "\n",
    "Create a numpy 2D array of numbers from 1 to 3000 with 300 rows and 10 columns.   \n",
    "Compute the mean of each row and count how many rows have a mean > 2000."
   ]
  },
  {
   "cell_type": "code",
   "execution_count": 1,
   "metadata": {},
   "outputs": [],
   "source": [
    "# Write your solution here\n",
    "\n"
   ]
  },
  {
   "cell_type": "code",
   "execution_count": 2,
   "metadata": {},
   "outputs": [],
   "source": [
    "# import the numpy library to have access to the functionality that it provides\n",
    "\n",
    "import numpy as np\n"
   ]
  },
  {
   "cell_type": "code",
   "execution_count": 3,
   "metadata": {},
   "outputs": [
    {
     "data": {
      "text/plain": [
       "array([   1,    2,    3, ..., 2998, 2999, 3000])"
      ]
     },
     "execution_count": 3,
     "metadata": {},
     "output_type": "execute_result"
    }
   ],
   "source": [
    "# Create a numpy 2D array of numbers from 1 to 3000 with 300 rows and 10 columns.\n",
    "\n",
    "# Because we are looking for a range of numbers we will use: \n",
    "# np.arange(start,stop) - start included, stop not included, so we add 1 to the value we really want to stop at\n",
    "# it creates a 1-dimesional array \n",
    "\n",
    "np.arange(1, 3001)\n"
   ]
  },
  {
   "cell_type": "code",
   "execution_count": 4,
   "metadata": {},
   "outputs": [
    {
     "data": {
      "text/plain": [
       "array([[   1,    2,    3, ...,    8,    9,   10],\n",
       "       [  11,   12,   13, ...,   18,   19,   20],\n",
       "       [  21,   22,   23, ...,   28,   29,   30],\n",
       "       ...,\n",
       "       [2971, 2972, 2973, ..., 2978, 2979, 2980],\n",
       "       [2981, 2982, 2983, ..., 2988, 2989, 2990],\n",
       "       [2991, 2992, 2993, ..., 2998, 2999, 3000]])"
      ]
     },
     "execution_count": 4,
     "metadata": {},
     "output_type": "execute_result"
    }
   ],
   "source": [
    "# Create a numpy 2D array of numbers from 1 to 3000 with 300 rows and 10 columns.\n",
    "\n",
    "# we want a 2-dimensional array\n",
    "# we reshape(nrows,ncols) the array to provide the right shape and dimensions\n",
    "# the result of the arange method is an array so we can apply the reshape method to it\n",
    "\n",
    "np.arange(1, 3001).reshape(300,10)\n"
   ]
  },
  {
   "cell_type": "code",
   "execution_count": 5,
   "metadata": {},
   "outputs": [],
   "source": [
    "# Compute the mean of each row and count how many rows have a mean > 2000."
   ]
  },
  {
   "cell_type": "code",
   "execution_count": 6,
   "metadata": {},
   "outputs": [
    {
     "data": {
      "text/plain": [
       "1500.5"
      ]
     },
     "execution_count": 6,
     "metadata": {},
     "output_type": "execute_result"
    }
   ],
   "source": [
    "# we use the mean method to compute the mean\n",
    "# the result of the reshape method is an array so we can apply the mean method to it\n",
    "# with no parameters it computes the overall mean of the elements in the matrix\n",
    "\n",
    "np.arange(1, 3001).reshape(300,10).mean()\n"
   ]
  },
  {
   "cell_type": "code",
   "execution_count": 7,
   "metadata": {},
   "outputs": [
    {
     "data": {
      "text/plain": [
       "numpy.ndarray"
      ]
     },
     "execution_count": 7,
     "metadata": {},
     "output_type": "execute_result"
    }
   ],
   "source": [
    "# check the type of an array\n",
    "\n",
    "type(np.arange(1, 3001))\n"
   ]
  },
  {
   "cell_type": "code",
   "execution_count": 8,
   "metadata": {},
   "outputs": [
    {
     "name": "stdout",
     "output_type": "stream",
     "text": [
      "Help on method_descriptor:\n",
      "\n",
      "mean(...)\n",
      "    a.mean(axis=None, dtype=None, out=None, keepdims=False, *, where=True)\n",
      "    \n",
      "    Returns the average of the array elements along given axis.\n",
      "    \n",
      "    Refer to `numpy.mean` for full documentation.\n",
      "    \n",
      "    See Also\n",
      "    --------\n",
      "    numpy.mean : equivalent function\n",
      "\n"
     ]
    }
   ],
   "source": [
    "# using the help on method mean allows us to see what arguments we can provide\n",
    "\n",
    "help(np.ndarray.mean)\n"
   ]
  },
  {
   "cell_type": "code",
   "execution_count": 9,
   "metadata": {},
   "outputs": [
    {
     "data": {
      "text/plain": [
       "array([   5.5,   15.5,   25.5,   35.5,   45.5,   55.5,   65.5,   75.5,\n",
       "         85.5,   95.5,  105.5,  115.5,  125.5,  135.5,  145.5,  155.5,\n",
       "        165.5,  175.5,  185.5,  195.5,  205.5,  215.5,  225.5,  235.5,\n",
       "        245.5,  255.5,  265.5,  275.5,  285.5,  295.5,  305.5,  315.5,\n",
       "        325.5,  335.5,  345.5,  355.5,  365.5,  375.5,  385.5,  395.5,\n",
       "        405.5,  415.5,  425.5,  435.5,  445.5,  455.5,  465.5,  475.5,\n",
       "        485.5,  495.5,  505.5,  515.5,  525.5,  535.5,  545.5,  555.5,\n",
       "        565.5,  575.5,  585.5,  595.5,  605.5,  615.5,  625.5,  635.5,\n",
       "        645.5,  655.5,  665.5,  675.5,  685.5,  695.5,  705.5,  715.5,\n",
       "        725.5,  735.5,  745.5,  755.5,  765.5,  775.5,  785.5,  795.5,\n",
       "        805.5,  815.5,  825.5,  835.5,  845.5,  855.5,  865.5,  875.5,\n",
       "        885.5,  895.5,  905.5,  915.5,  925.5,  935.5,  945.5,  955.5,\n",
       "        965.5,  975.5,  985.5,  995.5, 1005.5, 1015.5, 1025.5, 1035.5,\n",
       "       1045.5, 1055.5, 1065.5, 1075.5, 1085.5, 1095.5, 1105.5, 1115.5,\n",
       "       1125.5, 1135.5, 1145.5, 1155.5, 1165.5, 1175.5, 1185.5, 1195.5,\n",
       "       1205.5, 1215.5, 1225.5, 1235.5, 1245.5, 1255.5, 1265.5, 1275.5,\n",
       "       1285.5, 1295.5, 1305.5, 1315.5, 1325.5, 1335.5, 1345.5, 1355.5,\n",
       "       1365.5, 1375.5, 1385.5, 1395.5, 1405.5, 1415.5, 1425.5, 1435.5,\n",
       "       1445.5, 1455.5, 1465.5, 1475.5, 1485.5, 1495.5, 1505.5, 1515.5,\n",
       "       1525.5, 1535.5, 1545.5, 1555.5, 1565.5, 1575.5, 1585.5, 1595.5,\n",
       "       1605.5, 1615.5, 1625.5, 1635.5, 1645.5, 1655.5, 1665.5, 1675.5,\n",
       "       1685.5, 1695.5, 1705.5, 1715.5, 1725.5, 1735.5, 1745.5, 1755.5,\n",
       "       1765.5, 1775.5, 1785.5, 1795.5, 1805.5, 1815.5, 1825.5, 1835.5,\n",
       "       1845.5, 1855.5, 1865.5, 1875.5, 1885.5, 1895.5, 1905.5, 1915.5,\n",
       "       1925.5, 1935.5, 1945.5, 1955.5, 1965.5, 1975.5, 1985.5, 1995.5,\n",
       "       2005.5, 2015.5, 2025.5, 2035.5, 2045.5, 2055.5, 2065.5, 2075.5,\n",
       "       2085.5, 2095.5, 2105.5, 2115.5, 2125.5, 2135.5, 2145.5, 2155.5,\n",
       "       2165.5, 2175.5, 2185.5, 2195.5, 2205.5, 2215.5, 2225.5, 2235.5,\n",
       "       2245.5, 2255.5, 2265.5, 2275.5, 2285.5, 2295.5, 2305.5, 2315.5,\n",
       "       2325.5, 2335.5, 2345.5, 2355.5, 2365.5, 2375.5, 2385.5, 2395.5,\n",
       "       2405.5, 2415.5, 2425.5, 2435.5, 2445.5, 2455.5, 2465.5, 2475.5,\n",
       "       2485.5, 2495.5, 2505.5, 2515.5, 2525.5, 2535.5, 2545.5, 2555.5,\n",
       "       2565.5, 2575.5, 2585.5, 2595.5, 2605.5, 2615.5, 2625.5, 2635.5,\n",
       "       2645.5, 2655.5, 2665.5, 2675.5, 2685.5, 2695.5, 2705.5, 2715.5,\n",
       "       2725.5, 2735.5, 2745.5, 2755.5, 2765.5, 2775.5, 2785.5, 2795.5,\n",
       "       2805.5, 2815.5, 2825.5, 2835.5, 2845.5, 2855.5, 2865.5, 2875.5,\n",
       "       2885.5, 2895.5, 2905.5, 2915.5, 2925.5, 2935.5, 2945.5, 2955.5,\n",
       "       2965.5, 2975.5, 2985.5, 2995.5])"
      ]
     },
     "execution_count": 9,
     "metadata": {},
     "output_type": "execute_result"
    }
   ],
   "source": [
    "# the axis argument allows us to apply the function on a specific dimension\n",
    "# it is like a stack the last axis is always on top \n",
    "# 0 - columns\n",
    "# 1 - rows\n",
    "\n",
    "# back to our computation of the row means for our 2D array\n",
    "# we will have 300 means - one for each row\n",
    "\n",
    "np.arange(1, 3001).reshape(300,10).mean(1)\n"
   ]
  },
  {
   "cell_type": "code",
   "execution_count": 10,
   "metadata": {},
   "outputs": [
    {
     "data": {
      "text/plain": [
       "array([False, False, False, False, False, False, False, False, False,\n",
       "       False, False, False, False, False, False, False, False, False,\n",
       "       False, False, False, False, False, False, False, False, False,\n",
       "       False, False, False, False, False, False, False, False, False,\n",
       "       False, False, False, False, False, False, False, False, False,\n",
       "       False, False, False, False, False, False, False, False, False,\n",
       "       False, False, False, False, False, False, False, False, False,\n",
       "       False, False, False, False, False, False, False, False, False,\n",
       "       False, False, False, False, False, False, False, False, False,\n",
       "       False, False, False, False, False, False, False, False, False,\n",
       "       False, False, False, False, False, False, False, False, False,\n",
       "       False, False, False, False, False, False, False, False, False,\n",
       "       False, False, False, False, False, False, False, False, False,\n",
       "       False, False, False, False, False, False, False, False, False,\n",
       "       False, False, False, False, False, False, False, False, False,\n",
       "       False, False, False, False, False, False, False, False, False,\n",
       "       False, False, False, False, False, False, False, False, False,\n",
       "       False, False, False, False, False, False, False, False, False,\n",
       "       False, False, False, False, False, False, False, False, False,\n",
       "       False, False, False, False, False, False, False, False, False,\n",
       "       False, False, False, False, False, False, False, False, False,\n",
       "       False, False, False, False, False, False, False, False, False,\n",
       "       False, False,  True,  True,  True,  True,  True,  True,  True,\n",
       "        True,  True,  True,  True,  True,  True,  True,  True,  True,\n",
       "        True,  True,  True,  True,  True,  True,  True,  True,  True,\n",
       "        True,  True,  True,  True,  True,  True,  True,  True,  True,\n",
       "        True,  True,  True,  True,  True,  True,  True,  True,  True,\n",
       "        True,  True,  True,  True,  True,  True,  True,  True,  True,\n",
       "        True,  True,  True,  True,  True,  True,  True,  True,  True,\n",
       "        True,  True,  True,  True,  True,  True,  True,  True,  True,\n",
       "        True,  True,  True,  True,  True,  True,  True,  True,  True,\n",
       "        True,  True,  True,  True,  True,  True,  True,  True,  True,\n",
       "        True,  True,  True,  True,  True,  True,  True,  True,  True,\n",
       "        True,  True,  True])"
      ]
     },
     "execution_count": 10,
     "metadata": {},
     "output_type": "execute_result"
    }
   ],
   "source": [
    "# check which means are > 2000\n",
    "# the comparison operators are applied to each element of the array\n",
    "# the result is a bool/logical array of size 300\n",
    "\n",
    "np.arange(1, 3001).reshape(300,10).mean(1) > 2000\n"
   ]
  },
  {
   "cell_type": "code",
   "execution_count": 11,
   "metadata": {},
   "outputs": [
    {
     "data": {
      "text/plain": [
       "100"
      ]
     },
     "execution_count": 11,
     "metadata": {},
     "output_type": "execute_result"
    }
   ],
   "source": [
    "# bool is a subtype of int so logical values can be used to do numerical calculations \n",
    "# False will be 0 and True will be 1\n",
    "# so we can call the sum method for the logical array\n",
    "# adding up all the value in the logical array will tell us \n",
    "# for how many of the elements the condition is True\n",
    "# because it adds 1 for each True and a 0 for each False\n",
    "\n",
    "(np.arange(1, 3001).reshape(300,10).mean(1) > 2000).sum()\n"
   ]
  },
  {
   "cell_type": "code",
   "execution_count": 12,
   "metadata": {},
   "outputs": [
    {
     "data": {
      "text/plain": [
       "100"
      ]
     },
     "execution_count": 12,
     "metadata": {},
     "output_type": "execute_result"
    }
   ],
   "source": [
    "# we can also use the th built in function:\n",
    "\n",
    "sum(np.arange(1, 3001).reshape(300,10).mean(1) > 2000)\n"
   ]
  },
  {
   "cell_type": "code",
   "execution_count": 13,
   "metadata": {},
   "outputs": [
    {
     "data": {
      "text/plain": [
       "100"
      ]
     },
     "execution_count": 13,
     "metadata": {},
     "output_type": "execute_result"
    }
   ],
   "source": [
    "# a solution with each step well separated:\n",
    "\n",
    "num_vec = np.arange(1, 3001)\n",
    "num_2D_vec = num_vec.reshape(300,10)\n",
    "row_avg = num_2D_vec.mean(1)\n",
    "logical_vec = row_avg > 2000\n",
    "logical_vec.sum()\n"
   ]
  },
  {
   "cell_type": "code",
   "execution_count": 14,
   "metadata": {},
   "outputs": [
    {
     "name": "stdout",
     "output_type": "stream",
     "text": [
      "1\n",
      "2\n"
     ]
    }
   ],
   "source": [
    "# number of dimensions\n",
    "\n",
    "print(num_vec.ndim)\n",
    "print(num_2D_vec.ndim)\n"
   ]
  },
  {
   "cell_type": "code",
   "execution_count": 15,
   "metadata": {},
   "outputs": [
    {
     "name": "stdout",
     "output_type": "stream",
     "text": [
      "3000\n",
      "3000\n"
     ]
    }
   ],
   "source": [
    "# size of the array - total number of elements\n",
    "\n",
    "print(num_vec.size)\n",
    "print(num_2D_vec.size)\n"
   ]
  },
  {
   "cell_type": "code",
   "execution_count": 16,
   "metadata": {},
   "outputs": [
    {
     "name": "stdout",
     "output_type": "stream",
     "text": [
      "(3000,)\n",
      "(300, 10)\n"
     ]
    }
   ],
   "source": [
    "# shape of the array - number of elements on each dimension\n",
    "\n",
    "print(num_vec.shape)\n",
    "print(num_2D_vec.shape)\n"
   ]
  },
  {
   "cell_type": "code",
   "execution_count": 17,
   "metadata": {},
   "outputs": [
    {
     "name": "stdout",
     "output_type": "stream",
     "text": [
      "10\n",
      "2\n",
      "8\n",
      "4\n",
      "3\n"
     ]
    }
   ],
   "source": [
    "# the builtin sum also works to add numerical/logical values in sequence types\n",
    "\n",
    "print(sum([1, 2, 3, 4]))\n",
    "print(sum([True, False, True]))\n",
    "print(sum((True, 3, 4)))\n",
    "print(sum({4, False}))\n",
    "print(sum({1:\"one\", 2:\"two\"})) # for a dictionary it goes through the keys just like a for loop would"
   ]
  },
  {
   "cell_type": "code",
   "execution_count": 18,
   "metadata": {},
   "outputs": [
    {
     "data": {
      "text/plain": [
       "array([[[   1,    2],\n",
       "        [   3,    4],\n",
       "        [   5,    6]],\n",
       "\n",
       "       [[  10,   20],\n",
       "        [  30,   40],\n",
       "        [  50,   60]],\n",
       "\n",
       "       [[ 100,  200],\n",
       "        [ 300,  400],\n",
       "        [ 500,  600]],\n",
       "\n",
       "       [[1000, 2000],\n",
       "        [3000, 4000],\n",
       "        [5000, 6000]]])"
      ]
     },
     "execution_count": 18,
     "metadata": {},
     "output_type": "execute_result"
    }
   ],
   "source": [
    "# the axis stack - 0 on top\n",
    "# 3D array\n",
    "x = np.array([[[1,2],[3,4],[5,6]],\n",
    "             [[10,20],[30,40],[50,60]],\n",
    "             [[100,200],[300,400],[500,600]],\n",
    "             [[1000,2000],[3000,4000],[5000,6000]]])\n",
    "x"
   ]
  },
  {
   "cell_type": "code",
   "execution_count": 19,
   "metadata": {},
   "outputs": [
    {
     "data": {
      "text/plain": [
       "(4, 3, 2)"
      ]
     },
     "execution_count": 19,
     "metadata": {},
     "output_type": "execute_result"
    }
   ],
   "source": [
    "x.shape"
   ]
  },
  {
   "cell_type": "code",
   "execution_count": 20,
   "metadata": {},
   "outputs": [
    {
     "data": {
      "text/plain": [
       "array([[ 277.75,  555.5 ],\n",
       "       [ 833.25, 1111.  ],\n",
       "       [1388.75, 1666.5 ]])"
      ]
     },
     "execution_count": 20,
     "metadata": {},
     "output_type": "execute_result"
    }
   ],
   "source": [
    "# The first dimension, the one with the number of rows dissapeared, the one that had four elements\n",
    "# The average is made over the number of rows\n",
    "\n",
    "x.mean(0)  \n"
   ]
  },
  {
   "cell_type": "code",
   "execution_count": 21,
   "metadata": {},
   "outputs": [
    {
     "data": {
      "text/plain": [
       "[277.75, 555.5]"
      ]
     },
     "execution_count": 21,
     "metadata": {},
     "output_type": "execute_result"
    }
   ],
   "source": [
    "[1111/4, 2222/4]"
   ]
  },
  {
   "cell_type": "code",
   "execution_count": 22,
   "metadata": {},
   "outputs": [
    {
     "data": {
      "text/plain": [
       "array([[3.e+00, 4.e+00],\n",
       "       [3.e+01, 4.e+01],\n",
       "       [3.e+02, 4.e+02],\n",
       "       [3.e+03, 4.e+03]])"
      ]
     },
     "execution_count": 22,
     "metadata": {},
     "output_type": "execute_result"
    }
   ],
   "source": [
    "# The second dimension from the nested list, the one that had three elements, dissapeared\n",
    "# The average is made over the number of elements in the second dimension (number of columns)\n",
    "\n",
    "x.mean(1) # The dimension in the middle, the one with three elements, dissapeared"
   ]
  },
  {
   "cell_type": "code",
   "execution_count": 23,
   "metadata": {},
   "outputs": [
    {
     "data": {
      "text/plain": [
       "array([[1.5e+00, 3.5e+00, 5.5e+00],\n",
       "       [1.5e+01, 3.5e+01, 5.5e+01],\n",
       "       [1.5e+02, 3.5e+02, 5.5e+02],\n",
       "       [1.5e+03, 3.5e+03, 5.5e+03]])"
      ]
     },
     "execution_count": 23,
     "metadata": {},
     "output_type": "execute_result"
    }
   ],
   "source": [
    "# The deepest dimension from the nested list, the one that had two elements, dissapeared\n",
    "# The average is made over the number of elements in the third dimension\n",
    "\n",
    "x.mean(2) \n"
   ]
  },
  {
   "cell_type": "code",
   "execution_count": null,
   "metadata": {},
   "outputs": [],
   "source": []
  },
  {
   "cell_type": "markdown",
   "metadata": {
    "tags": []
   },
   "source": [
    "___\n",
    "\n",
    "<b> <font color = \"red\">Exercise</font></b>\n",
    "\n",
    "Break the series in two groups based on the following labels and compute the mean of the rows for each group:\n",
    "```python\n",
    "labels = [\"Group1\", \"Group1\", \"Group2\", \"Group2\", \"Group1\",\n",
    "          \"Group2\", \"Group2\", \"Group1\", \"Group1\", \"Group1\"]\n",
    "```\n",
    "\n",
    "Compute the difference between the means of the two groups (Group 1 mean - Group 2 mean)\n",
    "\n",
    "Create a pandas series from the result of the difference, using the labels: \"Row1\", ... \"Row300\"\n",
    "\n",
    "Select the rows with a difference between  and 3 and 3.5"
   ]
  },
  {
   "cell_type": "code",
   "execution_count": 24,
   "metadata": {},
   "outputs": [],
   "source": [
    "# Write your solution here\n",
    "\n"
   ]
  },
  {
   "cell_type": "code",
   "execution_count": 25,
   "metadata": {},
   "outputs": [
    {
     "data": {
      "text/plain": [
       "array([[   1,    2,    3, ...,    8,    9,   10],\n",
       "       [  11,   12,   13, ...,   18,   19,   20],\n",
       "       [  21,   22,   23, ...,   28,   29,   30],\n",
       "       ...,\n",
       "       [2971, 2972, 2973, ..., 2978, 2979, 2980],\n",
       "       [2981, 2982, 2983, ..., 2988, 2989, 2990],\n",
       "       [2991, 2992, 2993, ..., 2998, 2999, 3000]])"
      ]
     },
     "execution_count": 25,
     "metadata": {},
     "output_type": "execute_result"
    }
   ],
   "source": [
    "# 2D vector\n",
    "num_2D_vec"
   ]
  },
  {
   "cell_type": "code",
   "execution_count": 26,
   "metadata": {},
   "outputs": [],
   "source": [
    "# these are column labels: 10 columns 10 labels\n",
    "\n",
    "labels = [\"Group1\", \"Group1\", \"Group2\", \"Group2\", \"Group1\",\n",
    "          \"Group2\", \"Group2\", \"Group1\", \"Group1\", \"Group1\"]"
   ]
  },
  {
   "cell_type": "code",
   "execution_count": 27,
   "metadata": {},
   "outputs": [
    {
     "data": {
      "text/plain": [
       "False"
      ]
     },
     "execution_count": 27,
     "metadata": {},
     "output_type": "execute_result"
    }
   ],
   "source": [
    "# checks if the list is equal to the string and it is not\n",
    "\n",
    "labels == \"Group1\"\n"
   ]
  },
  {
   "cell_type": "code",
   "execution_count": 28,
   "metadata": {},
   "outputs": [
    {
     "data": {
      "text/plain": [
       "array(['Group1', 'Group1', 'Group2', 'Group2', 'Group1', 'Group2',\n",
       "       'Group2', 'Group1', 'Group1', 'Group1'], dtype='<U6')"
      ]
     },
     "execution_count": 28,
     "metadata": {},
     "output_type": "execute_result"
    }
   ],
   "source": [
    "# if we create an array we can check each element\n",
    "\n",
    "labels_vec = np.array(labels)\n",
    "labels_vec\n"
   ]
  },
  {
   "cell_type": "code",
   "execution_count": 29,
   "metadata": {},
   "outputs": [
    {
     "data": {
      "text/plain": [
       "array([ True,  True, False, False,  True, False, False,  True,  True,\n",
       "        True])"
      ]
     },
     "execution_count": 29,
     "metadata": {},
     "output_type": "execute_result"
    }
   ],
   "source": [
    "# the result of checking a condition on an array is a logical array of the same dim\n",
    "\n",
    "labels_vec == \"Group1\"\n"
   ]
  },
  {
   "cell_type": "code",
   "execution_count": 30,
   "metadata": {},
   "outputs": [
    {
     "data": {
      "text/plain": [
       "array([[   1,    2,    5,    8,    9,   10],\n",
       "       [  11,   12,   15,   18,   19,   20],\n",
       "       [  21,   22,   25,   28,   29,   30],\n",
       "       ...,\n",
       "       [2971, 2972, 2975, 2978, 2979, 2980],\n",
       "       [2981, 2982, 2985, 2988, 2989, 2990],\n",
       "       [2991, 2992, 2995, 2998, 2999, 3000]])"
      ]
     },
     "execution_count": 30,
     "metadata": {},
     "output_type": "execute_result"
    }
   ],
   "source": [
    "# we can use this condition to do conditional subsetting [cond_sel_rows, cond_sel_cols]\n",
    "# the cond_sel_row will be a logical array that has the size equal to the number of rows\n",
    "# the cond_sel_cols will be a logical array that has the size equal to the number of columns\n",
    "\n",
    "# get all rows, :, and the columns for only group 1\n",
    "\n",
    "data_group1 = num_2D_vec[:, labels_vec == \"Group1\"]\n",
    "data_group1\n"
   ]
  },
  {
   "cell_type": "code",
   "execution_count": 31,
   "metadata": {},
   "outputs": [
    {
     "data": {
      "text/plain": [
       "array([[   3,    4,    6,    7],\n",
       "       [  13,   14,   16,   17],\n",
       "       [  23,   24,   26,   27],\n",
       "       ...,\n",
       "       [2973, 2974, 2976, 2977],\n",
       "       [2983, 2984, 2986, 2987],\n",
       "       [2993, 2994, 2996, 2997]])"
      ]
     },
     "execution_count": 31,
     "metadata": {},
     "output_type": "execute_result"
    }
   ],
   "source": [
    "# get all rows, :, and the columns for only group 2\n",
    "\n",
    "data_group2 = num_2D_vec[:, labels_vec == \"Group2\"]\n",
    "data_group2\n"
   ]
  },
  {
   "cell_type": "code",
   "execution_count": 32,
   "metadata": {},
   "outputs": [
    {
     "data": {
      "text/plain": [
       "array([0.83333333, 0.83333333, 0.83333333, 0.83333333, 0.83333333,\n",
       "       0.83333333, 0.83333333, 0.83333333, 0.83333333, 0.83333333,\n",
       "       0.83333333, 0.83333333, 0.83333333, 0.83333333, 0.83333333,\n",
       "       0.83333333, 0.83333333, 0.83333333, 0.83333333, 0.83333333,\n",
       "       0.83333333, 0.83333333, 0.83333333, 0.83333333, 0.83333333,\n",
       "       0.83333333, 0.83333333, 0.83333333, 0.83333333, 0.83333333,\n",
       "       0.83333333, 0.83333333, 0.83333333, 0.83333333, 0.83333333,\n",
       "       0.83333333, 0.83333333, 0.83333333, 0.83333333, 0.83333333,\n",
       "       0.83333333, 0.83333333, 0.83333333, 0.83333333, 0.83333333,\n",
       "       0.83333333, 0.83333333, 0.83333333, 0.83333333, 0.83333333,\n",
       "       0.83333333, 0.83333333, 0.83333333, 0.83333333, 0.83333333,\n",
       "       0.83333333, 0.83333333, 0.83333333, 0.83333333, 0.83333333,\n",
       "       0.83333333, 0.83333333, 0.83333333, 0.83333333, 0.83333333,\n",
       "       0.83333333, 0.83333333, 0.83333333, 0.83333333, 0.83333333,\n",
       "       0.83333333, 0.83333333, 0.83333333, 0.83333333, 0.83333333,\n",
       "       0.83333333, 0.83333333, 0.83333333, 0.83333333, 0.83333333,\n",
       "       0.83333333, 0.83333333, 0.83333333, 0.83333333, 0.83333333,\n",
       "       0.83333333, 0.83333333, 0.83333333, 0.83333333, 0.83333333,\n",
       "       0.83333333, 0.83333333, 0.83333333, 0.83333333, 0.83333333,\n",
       "       0.83333333, 0.83333333, 0.83333333, 0.83333333, 0.83333333,\n",
       "       0.83333333, 0.83333333, 0.83333333, 0.83333333, 0.83333333,\n",
       "       0.83333333, 0.83333333, 0.83333333, 0.83333333, 0.83333333,\n",
       "       0.83333333, 0.83333333, 0.83333333, 0.83333333, 0.83333333,\n",
       "       0.83333333, 0.83333333, 0.83333333, 0.83333333, 0.83333333,\n",
       "       0.83333333, 0.83333333, 0.83333333, 0.83333333, 0.83333333,\n",
       "       0.83333333, 0.83333333, 0.83333333, 0.83333333, 0.83333333,\n",
       "       0.83333333, 0.83333333, 0.83333333, 0.83333333, 0.83333333,\n",
       "       0.83333333, 0.83333333, 0.83333333, 0.83333333, 0.83333333,\n",
       "       0.83333333, 0.83333333, 0.83333333, 0.83333333, 0.83333333,\n",
       "       0.83333333, 0.83333333, 0.83333333, 0.83333333, 0.83333333,\n",
       "       0.83333333, 0.83333333, 0.83333333, 0.83333333, 0.83333333,\n",
       "       0.83333333, 0.83333333, 0.83333333, 0.83333333, 0.83333333,\n",
       "       0.83333333, 0.83333333, 0.83333333, 0.83333333, 0.83333333,\n",
       "       0.83333333, 0.83333333, 0.83333333, 0.83333333, 0.83333333,\n",
       "       0.83333333, 0.83333333, 0.83333333, 0.83333333, 0.83333333,\n",
       "       0.83333333, 0.83333333, 0.83333333, 0.83333333, 0.83333333,\n",
       "       0.83333333, 0.83333333, 0.83333333, 0.83333333, 0.83333333,\n",
       "       0.83333333, 0.83333333, 0.83333333, 0.83333333, 0.83333333,\n",
       "       0.83333333, 0.83333333, 0.83333333, 0.83333333, 0.83333333,\n",
       "       0.83333333, 0.83333333, 0.83333333, 0.83333333, 0.83333333,\n",
       "       0.83333333, 0.83333333, 0.83333333, 0.83333333, 0.83333333,\n",
       "       0.83333333, 0.83333333, 0.83333333, 0.83333333, 0.83333333,\n",
       "       0.83333333, 0.83333333, 0.83333333, 0.83333333, 0.83333333,\n",
       "       0.83333333, 0.83333333, 0.83333333, 0.83333333, 0.83333333,\n",
       "       0.83333333, 0.83333333, 0.83333333, 0.83333333, 0.83333333,\n",
       "       0.83333333, 0.83333333, 0.83333333, 0.83333333, 0.83333333,\n",
       "       0.83333333, 0.83333333, 0.83333333, 0.83333333, 0.83333333,\n",
       "       0.83333333, 0.83333333, 0.83333333, 0.83333333, 0.83333333,\n",
       "       0.83333333, 0.83333333, 0.83333333, 0.83333333, 0.83333333,\n",
       "       0.83333333, 0.83333333, 0.83333333, 0.83333333, 0.83333333,\n",
       "       0.83333333, 0.83333333, 0.83333333, 0.83333333, 0.83333333,\n",
       "       0.83333333, 0.83333333, 0.83333333, 0.83333333, 0.83333333,\n",
       "       0.83333333, 0.83333333, 0.83333333, 0.83333333, 0.83333333,\n",
       "       0.83333333, 0.83333333, 0.83333333, 0.83333333, 0.83333333,\n",
       "       0.83333333, 0.83333333, 0.83333333, 0.83333333, 0.83333333,\n",
       "       0.83333333, 0.83333333, 0.83333333, 0.83333333, 0.83333333,\n",
       "       0.83333333, 0.83333333, 0.83333333, 0.83333333, 0.83333333,\n",
       "       0.83333333, 0.83333333, 0.83333333, 0.83333333, 0.83333333,\n",
       "       0.83333333, 0.83333333, 0.83333333, 0.83333333, 0.83333333,\n",
       "       0.83333333, 0.83333333, 0.83333333, 0.83333333, 0.83333333])"
      ]
     },
     "execution_count": 32,
     "metadata": {},
     "output_type": "execute_result"
    }
   ],
   "source": [
    "# Compute the difference between the means of the two groups (Group 1 mean - Group 2 mean)\n",
    "\n",
    "# we compute the mean for the rows for group1 data and group2 data \n",
    "# and compute the difference which because the they have the same size (number of rows = 300)\n",
    "# will be done element with respective element based on position on the array\n",
    "\n",
    "diff_means = data_group1.mean(1) - data_group2.mean(1)\n",
    "diff_means\n",
    "# The results all all the same because of the way the data is created all columns differ by a constant "
   ]
  },
  {
   "cell_type": "code",
   "execution_count": 33,
   "metadata": {},
   "outputs": [
    {
     "name": "stdout",
     "output_type": "stream",
     "text": [
      "['Row1', 'Row2', 'Row3', 'Row4', 'Row5', 'Row6', 'Row7', 'Row8', 'Row9', 'Row10', 'Row11', 'Row12', 'Row13', 'Row14', 'Row15', 'Row16', 'Row17', 'Row18', 'Row19', 'Row20', 'Row21', 'Row22', 'Row23', 'Row24', 'Row25', 'Row26', 'Row27', 'Row28', 'Row29', 'Row30', 'Row31', 'Row32', 'Row33', 'Row34', 'Row35', 'Row36', 'Row37', 'Row38', 'Row39', 'Row40', 'Row41', 'Row42', 'Row43', 'Row44', 'Row45', 'Row46', 'Row47', 'Row48', 'Row49', 'Row50', 'Row51', 'Row52', 'Row53', 'Row54', 'Row55', 'Row56', 'Row57', 'Row58', 'Row59', 'Row60', 'Row61', 'Row62', 'Row63', 'Row64', 'Row65', 'Row66', 'Row67', 'Row68', 'Row69', 'Row70', 'Row71', 'Row72', 'Row73', 'Row74', 'Row75', 'Row76', 'Row77', 'Row78', 'Row79', 'Row80', 'Row81', 'Row82', 'Row83', 'Row84', 'Row85', 'Row86', 'Row87', 'Row88', 'Row89', 'Row90', 'Row91', 'Row92', 'Row93', 'Row94', 'Row95', 'Row96', 'Row97', 'Row98', 'Row99', 'Row100', 'Row101', 'Row102', 'Row103', 'Row104', 'Row105', 'Row106', 'Row107', 'Row108', 'Row109', 'Row110', 'Row111', 'Row112', 'Row113', 'Row114', 'Row115', 'Row116', 'Row117', 'Row118', 'Row119', 'Row120', 'Row121', 'Row122', 'Row123', 'Row124', 'Row125', 'Row126', 'Row127', 'Row128', 'Row129', 'Row130', 'Row131', 'Row132', 'Row133', 'Row134', 'Row135', 'Row136', 'Row137', 'Row138', 'Row139', 'Row140', 'Row141', 'Row142', 'Row143', 'Row144', 'Row145', 'Row146', 'Row147', 'Row148', 'Row149', 'Row150', 'Row151', 'Row152', 'Row153', 'Row154', 'Row155', 'Row156', 'Row157', 'Row158', 'Row159', 'Row160', 'Row161', 'Row162', 'Row163', 'Row164', 'Row165', 'Row166', 'Row167', 'Row168', 'Row169', 'Row170', 'Row171', 'Row172', 'Row173', 'Row174', 'Row175', 'Row176', 'Row177', 'Row178', 'Row179', 'Row180', 'Row181', 'Row182', 'Row183', 'Row184', 'Row185', 'Row186', 'Row187', 'Row188', 'Row189', 'Row190', 'Row191', 'Row192', 'Row193', 'Row194', 'Row195', 'Row196', 'Row197', 'Row198', 'Row199', 'Row200', 'Row201', 'Row202', 'Row203', 'Row204', 'Row205', 'Row206', 'Row207', 'Row208', 'Row209', 'Row210', 'Row211', 'Row212', 'Row213', 'Row214', 'Row215', 'Row216', 'Row217', 'Row218', 'Row219', 'Row220', 'Row221', 'Row222', 'Row223', 'Row224', 'Row225', 'Row226', 'Row227', 'Row228', 'Row229', 'Row230', 'Row231', 'Row232', 'Row233', 'Row234', 'Row235', 'Row236', 'Row237', 'Row238', 'Row239', 'Row240', 'Row241', 'Row242', 'Row243', 'Row244', 'Row245', 'Row246', 'Row247', 'Row248', 'Row249', 'Row250', 'Row251', 'Row252', 'Row253', 'Row254', 'Row255', 'Row256', 'Row257', 'Row258', 'Row259', 'Row260', 'Row261', 'Row262', 'Row263', 'Row264', 'Row265', 'Row266', 'Row267', 'Row268', 'Row269', 'Row270', 'Row271', 'Row272', 'Row273', 'Row274', 'Row275', 'Row276', 'Row277', 'Row278', 'Row279', 'Row280', 'Row281', 'Row282', 'Row283', 'Row284', 'Row285', 'Row286', 'Row287', 'Row288', 'Row289', 'Row290', 'Row291', 'Row292', 'Row293', 'Row294', 'Row295', 'Row296', 'Row297', 'Row298', 'Row299', 'Row300']\n"
     ]
    }
   ],
   "source": [
    "# create labels for rows - use a for loop\n",
    "\n",
    "row_labels = []\n",
    "for i in range(1,301):\n",
    "    lbl = f\"Row{i}\"\n",
    "    row_labels.append(lbl)\n",
    "print(row_labels)"
   ]
  },
  {
   "cell_type": "code",
   "execution_count": 34,
   "metadata": {},
   "outputs": [],
   "source": [
    "# Create a pandas array - make pandas library functionality available using import\n",
    "# good practice recommends to put all import statments at the beginning of the notebook\n",
    "\n",
    "import pandas as pd\n"
   ]
  },
  {
   "cell_type": "code",
   "execution_count": 35,
   "metadata": {},
   "outputs": [
    {
     "data": {
      "text/plain": [
       "Row1      0.833333\n",
       "Row2      0.833333\n",
       "Row3      0.833333\n",
       "Row4      0.833333\n",
       "Row5      0.833333\n",
       "            ...   \n",
       "Row296    0.833333\n",
       "Row297    0.833333\n",
       "Row298    0.833333\n",
       "Row299    0.833333\n",
       "Row300    0.833333\n",
       "Length: 300, dtype: float64"
      ]
     },
     "execution_count": 35,
     "metadata": {},
     "output_type": "execute_result"
    }
   ],
   "source": [
    "# Create a pandas series from the result of the difference, using the labels: \"Row1\", ... \"Row300\"\n",
    "\n",
    "# use the function pd.Series - pandas uses the capitalized name\n",
    "# the data and the index should be compatible - same size\n",
    "\n",
    "named_diff = pd.Series(data = diff_means, index = row_labels)\n",
    "named_diff"
   ]
  },
  {
   "cell_type": "code",
   "execution_count": 36,
   "metadata": {},
   "outputs": [
    {
     "data": {
      "text/plain": [
       "0.833333    103\n",
       "0.833333     95\n",
       "0.833333     51\n",
       "0.833333     25\n",
       "0.833333     13\n",
       "0.833333      7\n",
       "0.833333      3\n",
       "0.833333      1\n",
       "0.833333      1\n",
       "0.833333      1\n",
       "dtype: int64"
      ]
     },
     "execution_count": 36,
     "metadata": {},
     "output_type": "execute_result"
    }
   ],
   "source": [
    "# count the frequencies of the values in the array\n",
    "\n",
    "named_diff.value_counts()\n"
   ]
  },
  {
   "cell_type": "code",
   "execution_count": 37,
   "metadata": {},
   "outputs": [
    {
     "data": {
      "text/plain": [
       "Series([], dtype: float64)"
      ]
     },
     "execution_count": 37,
     "metadata": {},
     "output_type": "execute_result"
    }
   ],
   "source": [
    "# Select the rows with a difference between and 3 and 3.5\n",
    "\n",
    "named_diff[(named_diff > 3) & (named_diff < 3.5)] \n",
    "\n",
    "# results in an empty series because none of the elements meet the condition \n",
    "# since they are all around 8.3\n"
   ]
  },
  {
   "cell_type": "code",
   "execution_count": 38,
   "metadata": {},
   "outputs": [
    {
     "data": {
      "text/plain": [
       "gene1    0\n",
       "gene2    1\n",
       "gene3    2\n",
       "gene4    3\n",
       "gene5    4\n",
       "dtype: int64"
      ]
     },
     "execution_count": 38,
     "metadata": {},
     "output_type": "execute_result"
    }
   ],
   "source": [
    "# create a named array (pd.Series) of 5 values\n",
    "\n",
    "x = pd.Series(range(5), index = [\"gene1\", \"gene2\", \"gene3\", \"gene4\", \"gene5\"])\n",
    "x\n"
   ]
  },
  {
   "cell_type": "code",
   "execution_count": 39,
   "metadata": {},
   "outputs": [
    {
     "data": {
      "text/plain": [
       "gene3    2\n",
       "gene4    3\n",
       "dtype: int64"
      ]
     },
     "execution_count": 39,
     "metadata": {},
     "output_type": "execute_result"
    }
   ],
   "source": [
    "# get the genes with values > 1 AND <=  3\n",
    "\n",
    "x[(x > 1)  & (x <= 3)]\n"
   ]
  },
  {
   "cell_type": "code",
   "execution_count": 40,
   "metadata": {},
   "outputs": [
    {
     "data": {
      "text/plain": [
       "gene1    0\n",
       "gene2    1\n",
       "gene5    4\n",
       "dtype: int64"
      ]
     },
     "execution_count": 40,
     "metadata": {},
     "output_type": "execute_result"
    }
   ],
   "source": [
    "# get the genes with values < 2 OR >  3\n",
    "\n",
    "x[(x < 2) | (x > 3)]\n"
   ]
  },
  {
   "cell_type": "code",
   "execution_count": 41,
   "metadata": {},
   "outputs": [
    {
     "data": {
      "text/plain": [
       "array([[   1,    2,    3, ...,    8,    9,   10],\n",
       "       [  11,   12,   13, ...,   18,   19,   20],\n",
       "       [  21,   22,   23, ...,   28,   29,   30],\n",
       "       ...,\n",
       "       [2971, 2972, 2973, ..., 2978, 2979, 2980],\n",
       "       [2981, 2982, 2983, ..., 2988, 2989, 2990],\n",
       "       [2991, 2992, 2993, ..., 2998, 2999, 3000]])"
      ]
     },
     "execution_count": 41,
     "metadata": {},
     "output_type": "execute_result"
    }
   ],
   "source": [
    "# array of 300 x 10\n",
    "\n",
    "num_2D_vec\n"
   ]
  },
  {
   "cell_type": "code",
   "execution_count": 42,
   "metadata": {},
   "outputs": [
    {
     "data": {
      "text/plain": [
       "array([[False, False, False, ..., False, False, False],\n",
       "       [False, False, False, ..., False, False, False],\n",
       "       [False, False, False, ..., False, False, False],\n",
       "       ...,\n",
       "       [ True,  True,  True, ...,  True,  True,  True],\n",
       "       [ True,  True,  True, ...,  True,  True,  True],\n",
       "       [ True,  True,  True, ...,  True,  True,  True]])"
      ]
     },
     "execution_count": 42,
     "metadata": {},
     "output_type": "execute_result"
    }
   ],
   "source": [
    "# the result of checking a condition on an array is a logical array of the same dim\n",
    "\n",
    "num_2D_vec > 200\n"
   ]
  },
  {
   "cell_type": "code",
   "execution_count": null,
   "metadata": {},
   "outputs": [],
   "source": []
  },
  {
   "cell_type": "markdown",
   "metadata": {},
   "source": [
    "___\n",
    "<b><font color = \"red\">Exercise</font> <br><br></b>\n",
    "\n",
    "Explain the following code:\n",
    "\n"
   ]
  },
  {
   "cell_type": "code",
   "execution_count": 43,
   "metadata": {},
   "outputs": [],
   "source": [
    "def downstream_overlap(gene1, gene2, network):\n",
    "    downstream_gene1 = network.get(gene1, set())\n",
    "    downstream_gene2 = network.get(gene2, set())\n",
    "    n = len(downstream_gene1.union(downstream_gene2))\n",
    "    m = len(downstream_gene1.intersection(downstream_gene2))\n",
    "    overlap = 0\n",
    "    if n > 0: \n",
    "        overlap = 100*m/n\n",
    "    return overlap"
   ]
  },
  {
   "cell_type": "code",
   "execution_count": 44,
   "metadata": {},
   "outputs": [
    {
     "data": {
      "text/plain": [
       "40.0"
      ]
     },
     "execution_count": 44,
     "metadata": {},
     "output_type": "execute_result"
    }
   ],
   "source": [
    "test_network = {\n",
    "    \"Gene1\": {\"Gene2\"},\n",
    "    \"Gene3\": {\"Gene1\", \"Gene4\", \"Gene5\"},\n",
    "    \"Gene4\": {\"Gene1\", \"Gene2\", \"Gene5\", \"Gene6\"},\n",
    "    \"Gene5\": {\"Gene2\", \"Gene3\", \"Gene4\"}\n",
    "}\n",
    "downstream_overlap(\"Gene3\",\"Gene4\", test_network)"
   ]
  },
  {
   "cell_type": "code",
   "execution_count": 45,
   "metadata": {},
   "outputs": [
    {
     "name": "stdout",
     "output_type": "stream",
     "text": [
      "\n",
      "The code in the second cell creates a dictionary with \n",
      "genes as keys and gene sets as values.\n",
      "I assume the dictionary holds the regulatory relations between genes where \n",
      "the key gene regulates the expression of the genes in the value set. \n",
      "Then, the function downstream_overlap is called with three arguments, \n",
      "two gene symbols and the dictionary.\n",
      "\n",
      "Overall the function downstream_overlap computes the percentage of overlap \n",
      "between the union and the intersection of the sets ofgenes they regulate.\n",
      "The function downstream_overlap takes as arguments gene1, gene2, and network.\n",
      "The arguments/parameters gene1, and gene2 are gene symbols of the genes we\n",
      "want to compute the overalp for.\n",
      "The argument network is a dictionary with the regulatory relations between genes,\n",
      "where the key gene regulates the expression of the genes in the value set.\n",
      "The first statement takes from the network dictionary (.get) the value for the key \n",
      "given by the gene symbol in gene1 and assigns it to the variable downstream_gene1.\n",
      "If the gene1 symbol is not a key then an empty set (set()) is retrieved by the get method.\n",
      "The second statement takes from the network dictionary the value for the key \n",
      "given by the gene symbol in gene2 and assigns it to the variable downstream_gene2.\n",
      "If the gene2 symbol is not a key then an empty set (set()) is retrieved by the get method.\n",
      "The third statement computes the length (len) of the union between the set in downstream_gene1 \n",
      "and the set in downstream_gene2 and assigns it to the variable n. \n",
      "The variable n gets assigned the number of genes regulated by either gene1 or gene2.\n",
      "The fourth statement computes the length (len) of the intersection between the set in \n",
      "downstream_gene1 and the set in downstream_gene2 and assigns it to the variable m. \n",
      "The variable m gets assigned the number of genes regulated by both gene1 and gene2.\n",
      "The variable overlap gets assigned the value 0.\n",
      "If the size of the union is greater then 0, between the two of them gene1 and gene2 \n",
      "regulate the expression of at least one gene, the overlap variable gets assigned   \n",
      "the ratio between m and n and multiplid by 100.\n",
      "Meaning the overap becomes the percentage the intersection of the two sets is \n",
      "when looking at the union of the two sets.\n",
      "If the sets coincide the union and intersection have the same size m=n (m/n =1) \n",
      "and the overlap is 100*1.\n",
      "At the end the value in the overalp variable is returned.\n",
      "Intially the overlap is assumed to be 0 then, if the sets we are computing \n",
      "the overlap are not empty (n > 0) we compute the overlap.\n",
      "The formula involves division by n so it should be > 0 to avoid division by 0.\n",
      "\n",
      "For Gene3 and Gene4 the overlap is 40 (40%)\n",
      "union: {\"Gene1\", \"Gene2\", \"Gene4\" \"Gene5\", \"Gene6\"} => n = 5\n",
      "intersection: {\"Gene1\", \"Gene5\"} => m = 2\n",
      "100*2/5 = 40\n",
      "\n"
     ]
    }
   ],
   "source": [
    "## Write your code description here\n",
    "\n",
    "## This is a much more elaborate description than what I expect for the homework.\n",
    "\n",
    "print(\n",
    "\"\"\"\n",
    "The code in the second cell creates a dictionary with \n",
    "genes as keys and gene sets as values.\n",
    "I assume the dictionary holds the regulatory relations between genes where \n",
    "the key gene regulates the expression of the genes in the value set. \n",
    "Then, the function downstream_overlap is called with three arguments, \n",
    "two gene symbols and the dictionary.\n",
    "\n",
    "Overall the function downstream_overlap computes the percentage of overlap \n",
    "between the union and the intersection of the sets ofgenes they regulate.\n",
    "The function downstream_overlap takes as arguments gene1, gene2, and network.\n",
    "The arguments/parameters gene1, and gene2 are gene symbols of the genes we\n",
    "want to compute the overalp for.\n",
    "The argument network is a dictionary with the regulatory relations between genes,\n",
    "where the key gene regulates the expression of the genes in the value set.\n",
    "The first statement takes from the network dictionary (.get) the value for the key \n",
    "given by the gene symbol in gene1 and assigns it to the variable downstream_gene1.\n",
    "If the gene1 symbol is not a key then an empty set (set()) is retrieved by the get method.\n",
    "The second statement takes from the network dictionary the value for the key \n",
    "given by the gene symbol in gene2 and assigns it to the variable downstream_gene2.\n",
    "If the gene2 symbol is not a key then an empty set (set()) is retrieved by the get method.\n",
    "The third statement computes the length (len) of the union between the set in downstream_gene1 \n",
    "and the set in downstream_gene2 and assigns it to the variable n. \n",
    "The variable n gets assigned the number of genes regulated by either gene1 or gene2.\n",
    "The fourth statement computes the length (len) of the intersection between the set in \n",
    "downstream_gene1 and the set in downstream_gene2 and assigns it to the variable m. \n",
    "The variable m gets assigned the number of genes regulated by both gene1 and gene2.\n",
    "The variable overlap gets assigned the value 0.\n",
    "If the size of the union is greater then 0, between the two of them gene1 and gene2 \n",
    "regulate the expression of at least one gene, the overlap variable gets assigned   \n",
    "the ratio between m and n and multiplid by 100.\n",
    "Meaning the overap becomes the percentage the intersection of the two sets is \n",
    "when looking at the union of the two sets.\n",
    "If the sets coincide the union and intersection have the same size m=n (m/n =1) \n",
    "and the overlap is 100*1.\n",
    "At the end the value in the overalp variable is returned.\n",
    "Intially the overlap is assumed to be 0 then, if the sets we are computing \n",
    "the overlap are not empty (n > 0) we compute the overlap.\n",
    "The formula involves division by n so it should be > 0 to avoid division by 0.\n",
    "\n",
    "For Gene3 and Gene4 the overlap is 40 (40%)\n",
    "union: {\"Gene1\", \"Gene2\", \"Gene4\" \"Gene5\", \"Gene6\"} => n = 5\n",
    "intersection: {\"Gene1\", \"Gene5\"} => m = 2\n",
    "100*2/5 = 40\n",
    "\"\"\"\n",
    ")"
   ]
  },
  {
   "cell_type": "code",
   "execution_count": null,
   "metadata": {},
   "outputs": [],
   "source": []
  },
  {
   "cell_type": "code",
   "execution_count": null,
   "metadata": {},
   "outputs": [],
   "source": []
  }
 ],
 "metadata": {
  "kernelspec": {
   "display_name": "Python 3 (ipykernel)",
   "language": "python",
   "name": "python3"
  },
  "language_info": {
   "codemirror_mode": {
    "name": "ipython",
    "version": 3
   },
   "file_extension": ".py",
   "mimetype": "text/x-python",
   "name": "python",
   "nbconvert_exporter": "python",
   "pygments_lexer": "ipython3",
   "version": "3.8.10"
  }
 },
 "nbformat": 4,
 "nbformat_minor": 4
}
