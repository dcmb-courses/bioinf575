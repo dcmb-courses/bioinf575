{
 "cells": [
  {
   "cell_type": "markdown",
   "metadata": {},
   "source": [
    "#### SOLUTION"
   ]
  },
  {
   "cell_type": "markdown",
   "metadata": {},
   "source": [
    "### Study session 7 - more Functions\n",
    "#### BIOINF 575 - Fall 2022\n",
    "\n"
   ]
  },
  {
   "cell_type": "markdown",
   "metadata": {},
   "source": [
    "##### RECAP"
   ]
  },
  {
   "cell_type": "markdown",
   "metadata": {},
   "source": [
    "##### IF - Allows us to execute code selectivelly.\n",
    "\n",
    "```python\n",
    "if [not] <condition>:\n",
    "    <statements>\n",
    "elif <condition>:\n",
    "    <statements>\n",
    "else:\n",
    "    <statements>\n",
    "```\n"
   ]
  },
  {
   "cell_type": "markdown",
   "metadata": {},
   "source": [
    "##### FOR or WHILE - execute code repeatedly without having to repeat the code\n",
    "\n",
    "```python\n",
    "for var in sequence:\n",
    "    statements\n",
    "```\n",
    "\n",
    "A variable, var, is used to go through each element of the iterable we go through.     \n",
    "Iterable:  An object capable of returning its members one at a time.    \n",
    "https://docs.python.org/3/glossary.html    \n",
    "https://docs.python.org/3/library/collections.abc.html?highlight=iterable#collections.abc.Iterable\n"
   ]
  },
  {
   "cell_type": "markdown",
   "metadata": {
    "jp-MarkdownHeadingCollapsed": true,
    "tags": []
   },
   "source": [
    "##### FUNCTION - block of code that only runs when called and can be reused without having to copy the code\n",
    "\n",
    "```python\n",
    "def function_name(arguments):\n",
    "    <statements>\n",
    "    return result\n",
    "\n",
    "# Call the function:\n",
    "function_name(values)\n",
    "```"
   ]
  },
  {
   "cell_type": "markdown",
   "metadata": {
    "tags": []
   },
   "source": [
    "##### FILE - collection of data stored and identified as a unit by the operating system\n",
    "\n",
    "```python\n",
    "\n",
    "# Open file and return a stream.  Raise OSError upon failure.\n",
    "open(file, mode='r', buffering=-1, encoding=None, errors=None, newline=None, closefd=True, opener=None)\n",
    "\n",
    "\n",
    "with open(file_name, \"r\") as file\n",
    "    for line in file:\n",
    "        <statements>\n",
    "```\n",
    "\n",
    "The result of the open function is an iterable object.    \n",
    "Iterable:  An object capable of returning its members one at a time.    \n",
    "https://docs.python.org/3/glossary.html    \n",
    "https://docs.python.org/3/library/collections.abc.html?highlight=iterable#collections.abc.Iterable\n"
   ]
  },
  {
   "cell_type": "markdown",
   "metadata": {},
   "source": [
    "<b> <font color = \"red\">Exercise</font></b>\n",
    "\n",
    "\n",
    "##### Computing variants\n",
    "\n",
    "Write a function that takes as input as DNA sequence and a reference DNA sequence and returns a list of tuples with the variants - single nucleotide substitutions - between the given sequence and the reference sequence.     \n",
    "The tuple will contain: (position, seq nulceotide, reference nucleotide)"
   ]
  },
  {
   "cell_type": "code",
   "execution_count": 1,
   "metadata": {},
   "outputs": [],
   "source": [
    "# Write the code here\n",
    "\n"
   ]
  },
  {
   "cell_type": "code",
   "execution_count": 2,
   "metadata": {},
   "outputs": [
    {
     "data": {
      "text/plain": [
       "[]"
      ]
     },
     "execution_count": 2,
     "metadata": {},
     "output_type": "execute_result"
    }
   ],
   "source": [
    "# first step - header line and return - we will have a list at the end\n",
    "\n",
    "# define the function\n",
    "def compute_variants(seq, ref):\n",
    "    variants = []\n",
    "    # compute variants\n",
    "    return variants\n",
    "\n",
    "# test the function\n",
    "compute_variants(\"AAACG\", \"CCGTA\")"
   ]
  },
  {
   "cell_type": "code",
   "execution_count": 3,
   "metadata": {},
   "outputs": [
    {
     "name": "stdout",
     "output_type": "stream",
     "text": [
      "A C\n",
      "A C\n",
      "A G\n",
      "C T\n",
      "G A\n"
     ]
    },
    {
     "data": {
      "text/plain": [
       "[]"
      ]
     },
     "execution_count": 3,
     "metadata": {},
     "output_type": "execute_result"
    }
   ],
   "source": [
    "# Go through the sequences and print respective nucleotides\n",
    "# need to get the minimum length and create a range of indices \n",
    "# then a for loop to go through the sequences\n",
    "\n",
    "# define the function\n",
    "def compute_variants(seq, ref):\n",
    "    variants = []\n",
    "    l1 = len(seq)\n",
    "    l2 = len(ref)\n",
    "    n = min(l1,l2) \n",
    "    for i in range(n):\n",
    "        print(seq[i], ref[i])\n",
    "    # compute variants\n",
    "    return variants\n",
    "\n",
    "# test the function\n",
    "compute_variants(\"AAACG\", \"CCGTA\")"
   ]
  },
  {
   "cell_type": "code",
   "execution_count": 4,
   "metadata": {},
   "outputs": [
    {
     "data": {
      "text/plain": [
       "[(1, 'A', 'C'), (2, 'A', 'C'), (3, 'A', 'G'), (4, 'C', 'T'), (5, 'G', 'A')]"
      ]
     },
     "execution_count": 4,
     "metadata": {},
     "output_type": "execute_result"
    }
   ],
   "source": [
    "# need to get the minimum length and create a range of indices \n",
    "# then a for loop to go through the sequences\n",
    "# then check if the respective nucleotides \n",
    "# at same index in the sequence and reference are different\n",
    "# then we create a tuple: position, seq nucleotide, ref nucleotide\n",
    "# and add it to the list\n",
    "\n",
    "# define the function\n",
    "def compute_variants(seq, ref):\n",
    "    variants = []\n",
    "    l1 = len(seq)\n",
    "    l2 = len(ref)\n",
    "    n = min(l1,l2) \n",
    "    for i in range(n):\n",
    "        if seq[i] != ref[i]:\n",
    "            var = (i + 1, seq[i], ref[i])\n",
    "            variants.append(var)\n",
    "    return variants\n",
    "\n",
    "# test the function\n",
    "compute_variants(\"AAACG\", \"CCGTA\")"
   ]
  },
  {
   "cell_type": "code",
   "execution_count": 5,
   "metadata": {
    "tags": []
   },
   "outputs": [
    {
     "data": {
      "text/plain": [
       "[(2, 'A', 'C'), (3, 'A', 'G'), (4, 'C', 'T'), (5, 'G', 'A')]"
      ]
     },
     "execution_count": 5,
     "metadata": {},
     "output_type": "execute_result"
    }
   ],
   "source": [
    "\n",
    "# test the function when no all nucleotides are variants\n",
    "compute_variants(\"AAACGCTA\", \"ACGTACTA\")\n"
   ]
  },
  {
   "cell_type": "code",
   "execution_count": null,
   "metadata": {},
   "outputs": [],
   "source": []
  },
  {
   "cell_type": "code",
   "execution_count": null,
   "metadata": {},
   "outputs": [],
   "source": []
  },
  {
   "cell_type": "code",
   "execution_count": null,
   "metadata": {},
   "outputs": [],
   "source": []
  },
  {
   "cell_type": "markdown",
   "metadata": {},
   "source": [
    "_____\n",
    "\n",
    "<b><font color = \"red\">Exercise</font> <br></b>\n",
    "\n",
    "- Write a function that given a codon to amino acid dictionary, creates a dictionary that can be used to translate amino acids into codons. Keys are amino acids, values are sets of codons that code for that amino acid. You can use the DNA_amino_acids_map dictionary to test it. Keep in mind, this not a 1-1 translation, as multiple codons can code for the same amino acid. \n",
    "- Write a function that given a peptide and the dictionary created with the function above, it creates a potential DNA sequence that coded for the peptide. Keep in mind, this not a 1-1 translation, as multiple codons can code for the same amino acid, so take the first one.\n",
    "- Write a function that given a peptide, and a DNA_sequence, and a DNA_amino_acids_map dictionary will provide a matching score which is the number of matched amino acids that the sequence produces on the correct positions divided by the maximum between the size of the peptide and the size of the peptide created form the DNA_sequence.\n"
   ]
  },
  {
   "cell_type": "code",
   "execution_count": 6,
   "metadata": {},
   "outputs": [],
   "source": [
    "# Write the code here\n",
    "\n"
   ]
  },
  {
   "cell_type": "code",
   "execution_count": 7,
   "metadata": {},
   "outputs": [],
   "source": [
    "DNA_amino_acids_map = {'ATA':'I', 'ATC':'I', 'ATT':'I', 'ATG':'M',\n",
    "    'ACA':'T', 'ACC':'T', 'ACG':'T', 'ACT':'T',\n",
    "    'AAC':'N', 'AAT':'N', 'AAA':'K', 'AAG':'K',\n",
    "    'AGC':'S', 'AGT':'S', 'AGA':'R', 'AGG':'R',\n",
    "    'CTA':'L', 'CTC':'L', 'CTG':'L', 'CTT':'L',\n",
    "    'CCA':'P', 'CCC':'P', 'CCG':'P', 'CCT':'P',\n",
    "    'CAC':'H', 'CAT':'H', 'CAA':'Q', 'CAG':'Q',\n",
    "    'CGA':'R', 'CGC':'R', 'CGG':'R', 'CGT':'R',\n",
    "    'GTA':'V', 'GTC':'V', 'GTG':'V', 'GTT':'V',\n",
    "    'GCA':'A', 'GCC':'A', 'GCG':'A', 'GCT':'A',\n",
    "    'GAC':'D', 'GAT':'D', 'GAA':'E', 'GAG':'E',\n",
    "    'GGA':'G', 'GGC':'G', 'GGG':'G', 'GGT':'G',\n",
    "    'TCA':'S', 'TCC':'S', 'TCG':'S', 'TCT':'S',\n",
    "    'TTC':'F', 'TTT':'F', 'TTA':'L', 'TTG':'L',\n",
    "    'TAC':'Y', 'TAT':'Y', 'TAA':'_', 'TAG':'_',\n",
    "    'TGC':'C', 'TGT':'C', 'TGA':'_', 'TGG':'W'}"
   ]
  },
  {
   "cell_type": "code",
   "execution_count": 8,
   "metadata": {
    "tags": []
   },
   "outputs": [
    {
     "data": {
      "text/plain": [
       "{'ATA': 'I',\n",
       " 'ATC': 'I',\n",
       " 'ATT': 'I',\n",
       " 'ATG': 'M',\n",
       " 'ACA': 'T',\n",
       " 'ACC': 'T',\n",
       " 'ACG': 'T',\n",
       " 'ACT': 'T',\n",
       " 'AAC': 'N',\n",
       " 'AAT': 'N',\n",
       " 'AAA': 'K',\n",
       " 'AAG': 'K',\n",
       " 'AGC': 'S',\n",
       " 'AGT': 'S',\n",
       " 'AGA': 'R',\n",
       " 'AGG': 'R',\n",
       " 'CTA': 'L',\n",
       " 'CTC': 'L',\n",
       " 'CTG': 'L',\n",
       " 'CTT': 'L',\n",
       " 'CCA': 'P',\n",
       " 'CCC': 'P',\n",
       " 'CCG': 'P',\n",
       " 'CCT': 'P',\n",
       " 'CAC': 'H',\n",
       " 'CAT': 'H',\n",
       " 'CAA': 'Q',\n",
       " 'CAG': 'Q',\n",
       " 'CGA': 'R',\n",
       " 'CGC': 'R',\n",
       " 'CGG': 'R',\n",
       " 'CGT': 'R',\n",
       " 'GTA': 'V',\n",
       " 'GTC': 'V',\n",
       " 'GTG': 'V',\n",
       " 'GTT': 'V',\n",
       " 'GCA': 'A',\n",
       " 'GCC': 'A',\n",
       " 'GCG': 'A',\n",
       " 'GCT': 'A',\n",
       " 'GAC': 'D',\n",
       " 'GAT': 'D',\n",
       " 'GAA': 'E',\n",
       " 'GAG': 'E',\n",
       " 'GGA': 'G',\n",
       " 'GGC': 'G',\n",
       " 'GGG': 'G',\n",
       " 'GGT': 'G',\n",
       " 'TCA': 'S',\n",
       " 'TCC': 'S',\n",
       " 'TCG': 'S',\n",
       " 'TCT': 'S',\n",
       " 'TTC': 'F',\n",
       " 'TTT': 'F',\n",
       " 'TTA': 'L',\n",
       " 'TTG': 'L',\n",
       " 'TAC': 'Y',\n",
       " 'TAT': 'Y',\n",
       " 'TAA': '_',\n",
       " 'TAG': '_',\n",
       " 'TGC': 'C',\n",
       " 'TGT': 'C',\n",
       " 'TGA': '_',\n",
       " 'TGG': 'W'}"
      ]
     },
     "execution_count": 8,
     "metadata": {},
     "output_type": "execute_result"
    }
   ],
   "source": [
    "DNA_amino_acids_map"
   ]
  },
  {
   "cell_type": "code",
   "execution_count": null,
   "metadata": {},
   "outputs": [],
   "source": []
  },
  {
   "cell_type": "markdown",
   "metadata": {},
   "source": [
    " PART 1: Write a function that given a codon to amino acid dictionary, creates a dictionary that can be used to translate amino acids into codons. Keys are amino acids, values are sets of codons that code for that amino acid. You can use the DNA_amino_acids_map dictionary to test it. Keep in mind, this not a 1-1 translation, as multiple codons can code for the same amino acid. "
   ]
  },
  {
   "cell_type": "code",
   "execution_count": 9,
   "metadata": {
    "collapsed": true,
    "jupyter": {
     "outputs_hidden": true
    },
    "tags": []
   },
   "outputs": [
    {
     "name": "stdout",
     "output_type": "stream",
     "text": [
      "ATA I\n",
      "ATC I\n",
      "ATT I\n",
      "ATG M\n",
      "ACA T\n",
      "ACC T\n",
      "ACG T\n",
      "ACT T\n",
      "AAC N\n",
      "AAT N\n",
      "AAA K\n",
      "AAG K\n",
      "AGC S\n",
      "AGT S\n",
      "AGA R\n",
      "AGG R\n",
      "CTA L\n",
      "CTC L\n",
      "CTG L\n",
      "CTT L\n",
      "CCA P\n",
      "CCC P\n",
      "CCG P\n",
      "CCT P\n",
      "CAC H\n",
      "CAT H\n",
      "CAA Q\n",
      "CAG Q\n",
      "CGA R\n",
      "CGC R\n",
      "CGG R\n",
      "CGT R\n",
      "GTA V\n",
      "GTC V\n",
      "GTG V\n",
      "GTT V\n",
      "GCA A\n",
      "GCC A\n",
      "GCG A\n",
      "GCT A\n",
      "GAC D\n",
      "GAT D\n",
      "GAA E\n",
      "GAG E\n",
      "GGA G\n",
      "GGC G\n",
      "GGG G\n",
      "GGT G\n",
      "TCA S\n",
      "TCC S\n",
      "TCG S\n",
      "TCT S\n",
      "TTC F\n",
      "TTT F\n",
      "TTA L\n",
      "TTG L\n",
      "TAC Y\n",
      "TAT Y\n",
      "TAA _\n",
      "TAG _\n",
      "TGC C\n",
      "TGT C\n",
      "TGA _\n",
      "TGG W\n"
     ]
    },
    {
     "data": {
      "text/plain": [
       "{}"
      ]
     },
     "execution_count": 9,
     "metadata": {},
     "output_type": "execute_result"
    }
   ],
   "source": [
    "\n",
    "# We want to create the reverse of the dictionary we have we want to go from amino acid to codons\n",
    "\n",
    "# We go through the existing dictionary and add the key which is the amino acid and a set with the first codon\n",
    "# when we find the amino acid again, we should add the codon to the value for that key (the value is a set of codons) \n",
    "\n",
    "# we prepare our new dictionay\n",
    "\n",
    "def build_AA_codon_map(codon_AA_map):\n",
    "    AA_codons_map = {}\n",
    "    # we go through the items list and unpack each list element (which is a tuple of 2) into a key and value variables\n",
    "    for key, value in codon_AA_map.items():\n",
    "        print(key, value)\n",
    "    return AA_codons_map\n",
    "\n",
    "# test the function \n",
    "build_AA_codon_map(DNA_amino_acids_map)\n"
   ]
  },
  {
   "cell_type": "code",
   "execution_count": 10,
   "metadata": {
    "collapsed": true,
    "jupyter": {
     "outputs_hidden": true
    },
    "tags": []
   },
   "outputs": [
    {
     "data": {
      "text/plain": [
       "{'I': {'ATA', 'ATC', 'ATT'},\n",
       " 'M': {'ATG'},\n",
       " 'T': {'ACA', 'ACC', 'ACG', 'ACT'},\n",
       " 'N': {'AAC', 'AAT'},\n",
       " 'K': {'AAA', 'AAG'},\n",
       " 'S': {'AGC', 'AGT', 'TCA', 'TCC', 'TCG', 'TCT'},\n",
       " 'R': {'AGA', 'AGG', 'CGA', 'CGC', 'CGG', 'CGT'},\n",
       " 'L': {'CTA', 'CTC', 'CTG', 'CTT', 'TTA', 'TTG'},\n",
       " 'P': {'CCA', 'CCC', 'CCG', 'CCT'},\n",
       " 'H': {'CAC', 'CAT'},\n",
       " 'Q': {'CAA', 'CAG'},\n",
       " 'V': {'GTA', 'GTC', 'GTG', 'GTT'},\n",
       " 'A': {'GCA', 'GCC', 'GCG', 'GCT'},\n",
       " 'D': {'GAC', 'GAT'},\n",
       " 'E': {'GAA', 'GAG'},\n",
       " 'G': {'GGA', 'GGC', 'GGG', 'GGT'},\n",
       " 'F': {'TTC', 'TTT'},\n",
       " 'Y': {'TAC', 'TAT'},\n",
       " '_': {'TAA', 'TAG', 'TGA'},\n",
       " 'C': {'TGC', 'TGT'},\n",
       " 'W': {'TGG'}}"
      ]
     },
     "execution_count": 10,
     "metadata": {},
     "output_type": "execute_result"
    }
   ],
   "source": [
    "# We go through the existing dictionary and add the key which is the amino acid and a set with the first codon\n",
    "# when we find the amino acid again, we should add the codon to the value for that key (the value is a set of codons) \n",
    "\n",
    "def build_AA_codon_map(codon_AA_map):\n",
    "    # we prepare our new dictionay\n",
    "    AA_codons_map = {}\n",
    "    # we go through the items list and unpack each list element (which is a tuple of 2) into a codon and AA variables\n",
    "    for codon, AA in codon_AA_map.items():\n",
    "        # if we do not have the AA in our new dictionary we add it with the codon as a value\n",
    "        # if we have it, we add the codon to the set of codons \n",
    "        if AA not in AA_codons_map:\n",
    "            AA_codons_map[AA] = {codon}\n",
    "        else:\n",
    "            AA_codons_map[AA].add(codon)\n",
    "    return AA_codons_map\n",
    "\n",
    "# test the function \n",
    "build_AA_codon_map(DNA_amino_acids_map)  "
   ]
  },
  {
   "cell_type": "code",
   "execution_count": 11,
   "metadata": {},
   "outputs": [],
   "source": [
    "aa_code = build_AA_codon_map(DNA_amino_acids_map) "
   ]
  },
  {
   "cell_type": "code",
   "execution_count": 12,
   "metadata": {
    "collapsed": true,
    "jupyter": {
     "outputs_hidden": true
    },
    "tags": []
   },
   "outputs": [
    {
     "data": {
      "text/plain": [
       "{'I': {'ATA', 'ATC', 'ATT'},\n",
       " 'M': {'ATG'},\n",
       " 'T': {'ACA', 'ACC', 'ACG', 'ACT'},\n",
       " 'N': {'AAC', 'AAT'},\n",
       " 'K': {'AAA', 'AAG'},\n",
       " 'S': {'AGC', 'AGT', 'TCA', 'TCC', 'TCG', 'TCT'},\n",
       " 'R': {'AGA', 'AGG', 'CGA', 'CGC', 'CGG', 'CGT'},\n",
       " 'L': {'CTA', 'CTC', 'CTG', 'CTT', 'TTA', 'TTG'},\n",
       " 'P': {'CCA', 'CCC', 'CCG', 'CCT'},\n",
       " 'H': {'CAC', 'CAT'},\n",
       " 'Q': {'CAA', 'CAG'},\n",
       " 'V': {'GTA', 'GTC', 'GTG', 'GTT'},\n",
       " 'A': {'GCA', 'GCC', 'GCG', 'GCT'},\n",
       " 'D': {'GAC', 'GAT'},\n",
       " 'E': {'GAA', 'GAG'},\n",
       " 'G': {'GGA', 'GGC', 'GGG', 'GGT'},\n",
       " 'F': {'TTC', 'TTT'},\n",
       " 'Y': {'TAC', 'TAT'},\n",
       " '_': {'TAA', 'TAG', 'TGA'},\n",
       " 'C': {'TGC', 'TGT'},\n",
       " 'W': {'TGG'}}"
      ]
     },
     "execution_count": 12,
     "metadata": {},
     "output_type": "execute_result"
    }
   ],
   "source": [
    "aa_code"
   ]
  },
  {
   "cell_type": "code",
   "execution_count": null,
   "metadata": {},
   "outputs": [],
   "source": []
  },
  {
   "cell_type": "markdown",
   "metadata": {},
   "source": [
    "PART 2: Write a function that given a peptide and the dictionary created with the function above, it creates a potential DNA sequence that coded for the peptide. Keep in mind, this not a 1-1 translation, as multiple codons can code for the same amino acid, so take the first one."
   ]
  },
  {
   "cell_type": "code",
   "execution_count": 13,
   "metadata": {},
   "outputs": [
    {
     "data": {
      "text/plain": [
       "'CGAATGCCACCACAG'"
      ]
     },
     "execution_count": 13,
     "metadata": {},
     "output_type": "execute_result"
    }
   ],
   "source": [
    "# build a list of codons that at the end will be joined to make a DNA sequence\n",
    "# go through the amino acids in the peptide one by one and use the dictionary \n",
    "# to get the value which is a set of codons for the respective aa, \n",
    "# then make that set a tuple and check it has at least one element \n",
    "# to be able to get the first element/codon\n",
    "# then add that first codon to the resulting codon list\n",
    "# make the codon list a string using join and return the string\n",
    "\n",
    "# define the function\n",
    "def translate_peptide(peptide, aa_codon_dict):\n",
    "    codon_list = []\n",
    "    for aa in peptide:\n",
    "        val_tup = tuple(aa_codon_dict.get(aa,set()))\n",
    "        if len(val_tup) > 0:\n",
    "            codon_list.append(val_tup[0])\n",
    "    # print(seq)\n",
    "    return \"\".join(codon_list)\n",
    "\n",
    "\n",
    "# test the function:\n",
    "p = \"RMPPQ\" \n",
    "translate_peptide(p, aa_code)\n",
    "# expected result: RMPPQ \n",
    "        "
   ]
  },
  {
   "cell_type": "code",
   "execution_count": null,
   "metadata": {},
   "outputs": [],
   "source": []
  },
  {
   "cell_type": "code",
   "execution_count": null,
   "metadata": {},
   "outputs": [],
   "source": []
  },
  {
   "cell_type": "code",
   "execution_count": null,
   "metadata": {},
   "outputs": [],
   "source": []
  },
  {
   "cell_type": "markdown",
   "metadata": {},
   "source": [
    "PART 3: Write a function that given a peptide, and a DNA_sequence, and a DNA_amino_acids_map dictionary will provide a matching score which is the number of matched amino acids that the sequence produces on the correct positions divided by the maximum between the size of the peptide and the size of the peptide created form the DNA_sequence."
   ]
  },
  {
   "cell_type": "code",
   "execution_count": 14,
   "metadata": {
    "collapsed": true,
    "jupyter": {
     "outputs_hidden": true
    },
    "tags": []
   },
   "outputs": [
    {
     "data": {
      "text/plain": [
       "{'ATA': 'I',\n",
       " 'ATC': 'I',\n",
       " 'ATT': 'I',\n",
       " 'ATG': 'M',\n",
       " 'ACA': 'T',\n",
       " 'ACC': 'T',\n",
       " 'ACG': 'T',\n",
       " 'ACT': 'T',\n",
       " 'AAC': 'N',\n",
       " 'AAT': 'N',\n",
       " 'AAA': 'K',\n",
       " 'AAG': 'K',\n",
       " 'AGC': 'S',\n",
       " 'AGT': 'S',\n",
       " 'AGA': 'R',\n",
       " 'AGG': 'R',\n",
       " 'CTA': 'L',\n",
       " 'CTC': 'L',\n",
       " 'CTG': 'L',\n",
       " 'CTT': 'L',\n",
       " 'CCA': 'P',\n",
       " 'CCC': 'P',\n",
       " 'CCG': 'P',\n",
       " 'CCT': 'P',\n",
       " 'CAC': 'H',\n",
       " 'CAT': 'H',\n",
       " 'CAA': 'Q',\n",
       " 'CAG': 'Q',\n",
       " 'CGA': 'R',\n",
       " 'CGC': 'R',\n",
       " 'CGG': 'R',\n",
       " 'CGT': 'R',\n",
       " 'GTA': 'V',\n",
       " 'GTC': 'V',\n",
       " 'GTG': 'V',\n",
       " 'GTT': 'V',\n",
       " 'GCA': 'A',\n",
       " 'GCC': 'A',\n",
       " 'GCG': 'A',\n",
       " 'GCT': 'A',\n",
       " 'GAC': 'D',\n",
       " 'GAT': 'D',\n",
       " 'GAA': 'E',\n",
       " 'GAG': 'E',\n",
       " 'GGA': 'G',\n",
       " 'GGC': 'G',\n",
       " 'GGG': 'G',\n",
       " 'GGT': 'G',\n",
       " 'TCA': 'S',\n",
       " 'TCC': 'S',\n",
       " 'TCG': 'S',\n",
       " 'TCT': 'S',\n",
       " 'TTC': 'F',\n",
       " 'TTT': 'F',\n",
       " 'TTA': 'L',\n",
       " 'TTG': 'L',\n",
       " 'TAC': 'Y',\n",
       " 'TAT': 'Y',\n",
       " 'TAA': '_',\n",
       " 'TAG': '_',\n",
       " 'TGC': 'C',\n",
       " 'TGT': 'C',\n",
       " 'TGA': '_',\n",
       " 'TGG': 'W'}"
      ]
     },
     "execution_count": 14,
     "metadata": {},
     "output_type": "execute_result"
    }
   ],
   "source": [
    "DNA_amino_acids_map"
   ]
  },
  {
   "cell_type": "code",
   "execution_count": 15,
   "metadata": {},
   "outputs": [
    {
     "data": {
      "text/plain": [
       "'RMPPQGF'"
      ]
     },
     "execution_count": 15,
     "metadata": {},
     "output_type": "execute_result"
    }
   ],
   "source": [
    "def translate_seq(seq, DNA_aa_map):\n",
    "    amino_acids = []\n",
    "    n = len(seq)\n",
    "    for i in range(0,n-2,3):\n",
    "        ## add the amino acid for each group of three to the list\n",
    "        amino_acids.append(DNA_aa_map.get(seq[i:i+3], \"\"))\n",
    "    peptide = \"\".join(amino_acids)\n",
    "    return peptide\n",
    "\n",
    "translate_seq(\"AGGATGCCTCCGCAAGGTTTT\", DNA_amino_acids_map)"
   ]
  },
  {
   "cell_type": "code",
   "execution_count": 16,
   "metadata": {},
   "outputs": [
    {
     "data": {
      "text/plain": [
       "0.7142857142857143"
      ]
     },
     "execution_count": 16,
     "metadata": {},
     "output_type": "execute_result"
    }
   ],
   "source": [
    "# SOLUTION - short version\n",
    "\n",
    "# define function\n",
    "def compute_DNA_score(peptide, seq, DNA_aa_map):\n",
    "    translated_DNA = translate_seq(seq, DNA_aa_map)\n",
    "    n = len(peptide)\n",
    "    m = len(seq)//3\n",
    "    score = 0\n",
    "    for i in range(min(n,m)):\n",
    "        score += peptide[i] == translated_DNA[i]\n",
    "    return score/max(m,n) \n",
    "\n",
    "# test function\n",
    "compute_DNA_score('RMPPQ', \"AGGATGCCTCCGCAAGGTTTT\", DNA_amino_acids_map)"
   ]
  },
  {
   "cell_type": "code",
   "execution_count": 17,
   "metadata": {},
   "outputs": [
    {
     "data": {
      "text/plain": [
       "0"
      ]
     },
     "execution_count": 17,
     "metadata": {},
     "output_type": "execute_result"
    }
   ],
   "source": [
    "# SOLUTION - longer version\n",
    "## DEFINE THE FUNCTION\n",
    "\n",
    "# The score will be 0 if there is 0 match\n",
    "# To compute the number of matched amino acids we translate the DNA_seq\n",
    "def compute_score(peptide, seq, DNA_aa_map):\n",
    "    score = 0\n",
    "    seq_peptide = translate_seq(seq, DNA_aa_map)\n",
    "    ## compute matching score\n",
    "    return score\n",
    "    \n",
    "## TEST THE FUNCTION\n",
    "\n",
    "sequence = \"CCCCAGCGTGCT\"\n",
    "AA_sequence = \"PQRA\"\n",
    "compute_score(AA_sequence, sequence, DNA_amino_acids_map)\n",
    "\n",
    "    "
   ]
  },
  {
   "cell_type": "code",
   "execution_count": 18,
   "metadata": {},
   "outputs": [
    {
     "data": {
      "text/plain": [
       "1.0"
      ]
     },
     "execution_count": 18,
     "metadata": {},
     "output_type": "execute_result"
    }
   ],
   "source": [
    "## DEFINE THE FUNCTION\n",
    "\n",
    "# The score will be 0 if there is 0 match\n",
    "# To compute the number of matched amino acids we translate the DNA_seq\n",
    "# Then we go through each corresponding position from the peptide and the translated sequence\n",
    "# that means we should go to the end of the shorter of the two AA sequences \n",
    "# If the amino acids match, we increase the score, else we don't need to do anything \n",
    "# Once the number of matching amino acids is computed, to normalize for the size of the DNA sequence\n",
    "# we divide by the maximum lenght between the length of the peptide and that of the translated DNA\n",
    "\n",
    "def compute_score(peptide, seq, DNA_aa_map):\n",
    "    score = 0\n",
    "    seq_peptide = translate_seq(seq, DNA_aa_map)\n",
    "    n = len(peptide)\n",
    "    m = len(seq_peptide)\n",
    "    min_size = min(n, m)\n",
    "    max_size = max(n, m)       \n",
    "    for aa_index in range(min_size):\n",
    "        if peptide[aa_index] == seq_peptide[aa_index]:\n",
    "            score += 1\n",
    "    return score/max_size\n",
    "    \n",
    "## TEST THE FUNCTION\n",
    "\n",
    "sequence = \"CCCCAGCGTGCT\"\n",
    "AA_sequence = \"PQRA\"\n",
    "compute_score(AA_sequence, sequence, DNA_amino_acids_map)"
   ]
  },
  {
   "cell_type": "code",
   "execution_count": 19,
   "metadata": {},
   "outputs": [
    {
     "data": {
      "text/plain": [
       "0.8"
      ]
     },
     "execution_count": 19,
     "metadata": {},
     "output_type": "execute_result"
    }
   ],
   "source": [
    "## TEST THE FUNCTION\n",
    "\n",
    "sequence = \"CCCCAGCGTGCTACT\"\n",
    "AA_sequence = \"PQRA\"\n",
    "compute_score(AA_sequence, sequence, DNA_amino_acids_map)"
   ]
  },
  {
   "cell_type": "code",
   "execution_count": 20,
   "metadata": {},
   "outputs": [
    {
     "data": {
      "text/plain": [
       "0.75"
      ]
     },
     "execution_count": 20,
     "metadata": {},
     "output_type": "execute_result"
    }
   ],
   "source": [
    "## TEST THE FUNCTION\n",
    "\n",
    "sequence = \"CCCCAGCGTG\"\n",
    "AA_sequence = \"PQRA\"\n",
    "compute_score(AA_sequence, sequence, DNA_amino_acids_map)"
   ]
  },
  {
   "cell_type": "code",
   "execution_count": 21,
   "metadata": {},
   "outputs": [
    {
     "data": {
      "text/plain": [
       "0.75"
      ]
     },
     "execution_count": 21,
     "metadata": {},
     "output_type": "execute_result"
    }
   ],
   "source": [
    "## TEST THE FUNCTION\n",
    "\n",
    "sequence = \"CCCCAGCGTGCT\"\n",
    "AA_sequence = \"PQR\"\n",
    "compute_score(AA_sequence, sequence, DNA_amino_acids_map)"
   ]
  },
  {
   "cell_type": "code",
   "execution_count": 22,
   "metadata": {},
   "outputs": [
    {
     "data": {
      "text/plain": [
       "0.0"
      ]
     },
     "execution_count": 22,
     "metadata": {},
     "output_type": "execute_result"
    }
   ],
   "source": [
    "## TEST THE FUNCTION\n",
    "\n",
    "sequence = \"CC\"\n",
    "AA_sequence = \"PQRA\"\n",
    "compute_score(AA_sequence, sequence, DNA_amino_acids_map)"
   ]
  },
  {
   "cell_type": "code",
   "execution_count": null,
   "metadata": {},
   "outputs": [],
   "source": []
  },
  {
   "cell_type": "markdown",
   "metadata": {
    "tags": []
   },
   "source": [
    "___\n",
    "<b><font color = \"red\">Exercise</font> <br><br></b>\n",
    "##### Gene regulatory network\n",
    "\n",
    "\"Formally speaking, a gene regulatory network or genetic regulatory network (GRN) is a collection of DNA segments in a cell which interact with each other (indirectly through their RNA and protein expression products) and with other substances in the cell, thereby governing the rates at which genes in the network are transcribed into mRNA. In general, each mRNA molecule goes on to make a specific protein (or set of proteins).\"  \n",
    "https://link.springer.com/referenceworkentry/10.1007%2F978-1-4419-9863-7_364\n",
    "\n",
    "<img src = \"https://media.springernature.com/original/springer-static/image/prt%3A978-1-4419-9863-7%2F7/MediaObjects/978-1-4419-9863-7_7_Part_Fig1-364_HTML.gif\" width = 200/>\n",
    "\n"
   ]
  },
  {
   "cell_type": "markdown",
   "metadata": {},
   "source": [
    "\n",
    "We have a gene regulatory network represented as a dictionary where the key is a gene from the network above and the value is a tuple of the genes the key gene directly regulates (through orange links only).    \n",
    "\n",
    "- Write a function that checks if there is an edge between a pair of genes in the network - meaning there is an edge from the first gene  to the second\n",
    "\n",
    "\n"
   ]
  },
  {
   "cell_type": "code",
   "execution_count": 23,
   "metadata": {},
   "outputs": [],
   "source": [
    "network = {'Gene1': ('Gene2',),\n",
    " 'Gene2': ('Gene6',),\n",
    " 'Gene3': ('Gene1', 'Gene5'),\n",
    " 'Gene4': ('Gene2',),\n",
    " 'Gene5': ('Gene1',),\n",
    " 'Gene6': ('Gene1',)}"
   ]
  },
  {
   "cell_type": "code",
   "execution_count": 24,
   "metadata": {},
   "outputs": [
    {
     "data": {
      "text/plain": [
       "{'Gene1': ('Gene2',),\n",
       " 'Gene2': ('Gene6',),\n",
       " 'Gene3': ('Gene1', 'Gene5'),\n",
       " 'Gene4': ('Gene2',),\n",
       " 'Gene5': ('Gene1',),\n",
       " 'Gene6': ('Gene1',)}"
      ]
     },
     "execution_count": 24,
     "metadata": {},
     "output_type": "execute_result"
    }
   ],
   "source": [
    "network"
   ]
  },
  {
   "cell_type": "code",
   "execution_count": null,
   "metadata": {},
   "outputs": [],
   "source": []
  },
  {
   "cell_type": "code",
   "execution_count": 25,
   "metadata": {},
   "outputs": [
    {
     "data": {
      "text/plain": [
       "False"
      ]
     },
     "execution_count": 25,
     "metadata": {},
     "output_type": "execute_result"
    }
   ],
   "source": [
    "# we set up our output to Found, we assume the edge is not there\n",
    "def check_edge(gene1, gene2, biological_network):\n",
    "    found = False\n",
    "    # here we will search for the edge\n",
    "    return found\n",
    "\n",
    "# test the function\n",
    "g1 = \"Gene1\"\n",
    "g2 = \"Gene2\"\n",
    "check_edge(gene1 = g1, gene2 = g2, biological_network = network)"
   ]
  },
  {
   "cell_type": "code",
   "execution_count": 26,
   "metadata": {},
   "outputs": [
    {
     "ename": "KeyError",
     "evalue": "'Gene11'",
     "output_type": "error",
     "traceback": [
      "\u001b[0;31m---------------------------------------------------------------------------\u001b[0m",
      "\u001b[0;31mKeyError\u001b[0m                                  Traceback (most recent call last)",
      "Input \u001b[0;32mIn [26]\u001b[0m, in \u001b[0;36m<cell line: 19>\u001b[0;34m()\u001b[0m\n\u001b[1;32m     17\u001b[0m g1 \u001b[38;5;241m=\u001b[39m \u001b[38;5;124m\"\u001b[39m\u001b[38;5;124mGene11\u001b[39m\u001b[38;5;124m\"\u001b[39m\n\u001b[1;32m     18\u001b[0m g2 \u001b[38;5;241m=\u001b[39m \u001b[38;5;124m\"\u001b[39m\u001b[38;5;124mGene2\u001b[39m\u001b[38;5;124m\"\u001b[39m\n\u001b[0;32m---> 19\u001b[0m \u001b[43mcheck_edge\u001b[49m\u001b[43m(\u001b[49m\u001b[43mgene1\u001b[49m\u001b[43m \u001b[49m\u001b[38;5;241;43m=\u001b[39;49m\u001b[43m \u001b[49m\u001b[43mg1\u001b[49m\u001b[43m,\u001b[49m\u001b[43m \u001b[49m\u001b[43mgene2\u001b[49m\u001b[43m \u001b[49m\u001b[38;5;241;43m=\u001b[39;49m\u001b[43m \u001b[49m\u001b[43mg2\u001b[49m\u001b[43m,\u001b[49m\u001b[43m \u001b[49m\u001b[43mbiological_network\u001b[49m\u001b[43m \u001b[49m\u001b[38;5;241;43m=\u001b[39;49m\u001b[43m \u001b[49m\u001b[43mnetwork\u001b[49m\u001b[43m)\u001b[49m\n",
      "Input \u001b[0;32mIn [26]\u001b[0m, in \u001b[0;36mcheck_edge\u001b[0;34m(gene1, gene2, biological_network)\u001b[0m\n\u001b[1;32m     11\u001b[0m \u001b[38;5;28;01mdef\u001b[39;00m \u001b[38;5;21mcheck_edge\u001b[39m(gene1, gene2, biological_network):\n\u001b[1;32m     12\u001b[0m     found \u001b[38;5;241m=\u001b[39m \u001b[38;5;28;01mFalse\u001b[39;00m\n\u001b[0;32m---> 13\u001b[0m     values \u001b[38;5;241m=\u001b[39m \u001b[43mbiological_network\u001b[49m\u001b[43m[\u001b[49m\u001b[43mgene1\u001b[49m\u001b[43m]\u001b[49m\n\u001b[1;32m     14\u001b[0m     \u001b[38;5;28;01mreturn\u001b[39;00m found\n",
      "\u001b[0;31mKeyError\u001b[0m: 'Gene11'"
     ]
    }
   ],
   "source": [
    "# we set up our output to Found, we assume the edge is not there\n",
    "# we only have an edge if gene2 is in the values of key gene1\n",
    "\n",
    "# we try to get the value from the dictionary for gene1 \n",
    "# we use indexing but that provides an error if the key is not there so we should use get\n",
    "# and if not there we should return an empty tuple\n",
    "# we could also use if gene1 in biological_network to check first \n",
    "# and only then retrieve the values tuple\n",
    "\n",
    "\n",
    "def check_edge(gene1, gene2, biological_network):\n",
    "    found = False\n",
    "    values = biological_network[gene1]\n",
    "    return found\n",
    "\n",
    "# test the function\n",
    "g1 = \"Gene11\"\n",
    "g2 = \"Gene2\"\n",
    "check_edge(gene1 = g1, gene2 = g2, biological_network = network)"
   ]
  },
  {
   "cell_type": "code",
   "execution_count": 27,
   "metadata": {},
   "outputs": [
    {
     "data": {
      "text/plain": [
       "False"
      ]
     },
     "execution_count": 27,
     "metadata": {},
     "output_type": "execute_result"
    }
   ],
   "source": [
    "\n",
    "# we could also use if gene1 in biological_network to check first \n",
    "# and only then retrieve the values tuple\n",
    "\n",
    "\n",
    "def check_edge(gene1, gene2, biological_network):\n",
    "    found = False\n",
    "    if gene1 in biological_network:\n",
    "        values = biological_network[gene1]\n",
    "    return found\n",
    "\n",
    "# test the function\n",
    "g1 = \"Gene11\"\n",
    "g2 = \"Gene2\"\n",
    "check_edge(gene1 = g1, gene2 = g2, biological_network = network)"
   ]
  },
  {
   "cell_type": "code",
   "execution_count": 28,
   "metadata": {},
   "outputs": [
    {
     "data": {
      "text/plain": [
       "False"
      ]
     },
     "execution_count": 28,
     "metadata": {},
     "output_type": "execute_result"
    }
   ],
   "source": [
    "# we set up our output to Found, we assume the edge is not there\n",
    "# we only have an edge if gene2 is in the values of key gene1\n",
    "\n",
    "# we try to get the value from the dictionary for gene1 \n",
    "# if not there we should return an empty tuple\n",
    "\n",
    "\n",
    "def check_edge(gene1, gene2, biological_network):\n",
    "    found = False\n",
    "    values = biological_network.get(gene1, ())\n",
    "    return found\n",
    "\n",
    "# test the function\n",
    "g1 = \"Gene1\"\n",
    "g2 = \"Gene2\"\n",
    "check_edge(gene1 = g1, gene2 = g2, biological_network = network)"
   ]
  },
  {
   "cell_type": "code",
   "execution_count": 29,
   "metadata": {},
   "outputs": [
    {
     "data": {
      "text/plain": [
       "True"
      ]
     },
     "execution_count": 29,
     "metadata": {},
     "output_type": "execute_result"
    }
   ],
   "source": [
    "# we set up our output to Found, we assume the edge is not there\n",
    "# we only have an edge if gene2 is in the values of key gene1\n",
    "\n",
    "# we try to get the value from the dictionary for gene1 \n",
    "# if not there we should return an empty tuple\n",
    "# we check if gene2 is in the values tuple - if so - we have an edge\n",
    "\n",
    "\n",
    "def check_edge(gene1, gene2, biological_network):\n",
    "    found = False\n",
    "    values = biological_network.get(gene1, ())\n",
    "    if gene2 in values:\n",
    "        found = True\n",
    "    return found\n",
    "\n",
    "# test the function\n",
    "g1 = \"Gene1\"\n",
    "g2 = \"Gene2\"\n",
    "check_edge(gene1 = g1, gene2 = g2, biological_network = network)"
   ]
  },
  {
   "cell_type": "code",
   "execution_count": 30,
   "metadata": {},
   "outputs": [
    {
     "data": {
      "text/plain": [
       "{'Gene1': ('Gene2',),\n",
       " 'Gene2': ('Gene6',),\n",
       " 'Gene3': ('Gene1', 'Gene5'),\n",
       " 'Gene4': ('Gene2',),\n",
       " 'Gene5': ('Gene1',),\n",
       " 'Gene6': ('Gene1',)}"
      ]
     },
     "execution_count": 30,
     "metadata": {},
     "output_type": "execute_result"
    }
   ],
   "source": [
    "network"
   ]
  },
  {
   "cell_type": "code",
   "execution_count": 31,
   "metadata": {},
   "outputs": [
    {
     "name": "stdout",
     "output_type": "stream",
     "text": [
      "Gene1 Gene3 False\n",
      "Gene3 Gene5 True\n",
      "X Y False\n"
     ]
    }
   ],
   "source": [
    "# test with more edges\n",
    "\n",
    "# list of tuples of two - edges to test\n",
    "edges_list = [(\"Gene1\", \"Gene3\"), (\"Gene3\", \"Gene5\"), (\"X\", \"Y\")]\n",
    "\n",
    "# for loop through the edges\n",
    "# each tuple of 2 will be unpacked in 2 variables g1 and g2\n",
    "for g1, g2 in edges_list:\n",
    "    found = check_edge(g1 , g2, network)\n",
    "    print(g1,g2,found)"
   ]
  },
  {
   "cell_type": "code",
   "execution_count": null,
   "metadata": {},
   "outputs": [],
   "source": []
  },
  {
   "cell_type": "code",
   "execution_count": null,
   "metadata": {},
   "outputs": [],
   "source": []
  },
  {
   "cell_type": "markdown",
   "metadata": {},
   "source": [
    "___\n",
    "<b><font color = \"red\">Exercise</font> <br><br></b>\n",
    "\n",
    "Explain the following code:\n",
    "\n"
   ]
  },
  {
   "cell_type": "code",
   "execution_count": 32,
   "metadata": {},
   "outputs": [
    {
     "data": {
      "text/plain": [
       "{('Gene1', 'Gene2', 'Gene6')}"
      ]
     },
     "execution_count": 32,
     "metadata": {},
     "output_type": "execute_result"
    }
   ],
   "source": [
    "network = {'Gene1': ('Gene2',),\n",
    " 'Gene2': ('Gene6',),\n",
    " 'Gene3': ('Gene1', 'Gene5'),\n",
    " 'Gene4': ('Gene2',),\n",
    " 'Gene5': ('Gene1',),\n",
    " 'Gene6': ('Gene1',)}\n",
    "\n",
    "c_set = set()\n",
    "for g1 in network:\n",
    "    for g2 in network[g1]:\n",
    "        for g3 in network.get(g2,()):\n",
    "            if g1 in network.get(g3,()):\n",
    "                c = (g1,g2,g3)\n",
    "                found = False\n",
    "                for t in c_set:\n",
    "                    if set(c) == set(t):\n",
    "                        found = True\n",
    "                if not found: \n",
    "                    c_set.add(c)\n",
    "c_set"
   ]
  },
  {
   "cell_type": "code",
   "execution_count": 33,
   "metadata": {},
   "outputs": [],
   "source": [
    "# Write your description here:\n",
    "\n"
   ]
  },
  {
   "cell_type": "code",
   "execution_count": null,
   "metadata": {},
   "outputs": [],
   "source": []
  },
  {
   "cell_type": "markdown",
   "metadata": {},
   "source": [
    "### _________ \n",
    "\n",
    "Overall, the code finds cycles of three genes in the network and saves them as a set of tuples.\n",
    "\n",
    "- The 1st statement stores in the variable `network` a dictionary object where the keys are gene symbols (str) and the values are tuples of genes the key gene regulates.\n",
    "\n",
    "- The 2nd statement stores in the variable `c_set` an empty set (set()).\n",
    "\n",
    "- The 3rd statement is a for loop that goes through the dictionary (keys), each of the keys will be set in the variable `g1` one by one\n",
    "\n",
    "    - The 4th statement is a for loop that goes through the tuple of values for each key (`g1`), each of these values will be set in the variable `g2` one by one\n",
    "\n",
    "        - The 5th statement is a for loop that goes through the tuple of values for each of the values from the previous for loop, each of these values will be set in the variable `g3` one by one\n",
    "\n",
    "            - The 6th statement is an if statement that checks if the key from the dictionary we are currently at in our first loop is a value for the key `g3` in the dictionary\n",
    "\n",
    "            - If that is the case, the following statements are executed:\n",
    "\n",
    "                - The 7th statement sets the variable `c` to a tuple of 3 genes from the variables `g1,g2,g3`\n",
    "\n",
    "                - The 8th statement sets the `found` variable to `False`\n",
    "\n",
    "                - The 9th statement is a for loop that goes through the elements of the `c_set` set and makes each element a set and compares it with a set ofthe tuple `c` which is a set of the 3 genes `g1,g2,g3`\n",
    "    \n",
    "                    - The 10th statement is an if statement that checks if the current element from `cset` which is `t` is equal with a set of the tuple `c` which is a set of the 3 genes `g1,g2,g3`\n",
    "    \n",
    "                    - If that is the case, the following statements are executed:\n",
    "    \n",
    "                        - The 11th statement sets the variable `found` to `True`\n",
    "        \n",
    "        - The 12th statement is an if statement that checks if `not found` \n",
    "\n",
    "        - If that is the case, the following statements are executed:\n",
    "        \n",
    "            - The tuple `c` created in statement 7 is added to the `c_set` set\n",
    "            \n",
    "- The 13th and last statement just displays the `c_set`"
   ]
  },
  {
   "cell_type": "code",
   "execution_count": null,
   "metadata": {},
   "outputs": [],
   "source": []
  },
  {
   "cell_type": "code",
   "execution_count": 34,
   "metadata": {},
   "outputs": [
    {
     "name": "stdout",
     "output_type": "stream",
     "text": [
      "Gene1\n",
      "Gene2\n",
      "Gene3\n",
      "Gene4\n",
      "Gene5\n",
      "Gene6\n"
     ]
    }
   ],
   "source": [
    "# code breakdown\n",
    "\n",
    "network = {'Gene1': ('Gene2',),\n",
    " 'Gene2': ('Gene6',),\n",
    " 'Gene3': ('Gene1', 'Gene5'),\n",
    " 'Gene4': ('Gene2',),\n",
    " 'Gene5': ('Gene1',),\n",
    " 'Gene6': ('Gene1',)}\n",
    "\n",
    "c_set = set()\n",
    "for g1 in network:\n",
    "    print(g1)"
   ]
  },
  {
   "cell_type": "code",
   "execution_count": 35,
   "metadata": {},
   "outputs": [
    {
     "name": "stdout",
     "output_type": "stream",
     "text": [
      "\n",
      "Key Gene1\n",
      "Values:\n",
      "Gene2\n",
      "\n",
      "Key Gene2\n",
      "Values:\n",
      "Gene6\n",
      "\n",
      "Key Gene3\n",
      "Values:\n",
      "Gene1\n",
      "Gene5\n",
      "\n",
      "Key Gene4\n",
      "Values:\n",
      "Gene2\n",
      "\n",
      "Key Gene5\n",
      "Values:\n",
      "Gene1\n",
      "\n",
      "Key Gene6\n",
      "Values:\n",
      "Gene1\n"
     ]
    }
   ],
   "source": [
    "c_set = set()\n",
    "\n",
    "# go through the keys\n",
    "for g1 in network:\n",
    "    print()\n",
    "    print(\"Key\", g1)\n",
    "    print(\"Values:\")\n",
    "    \n",
    "    # go through the values in the tuple for the key g1\n",
    "    for g2 in network[g1]:\n",
    "        print(g2)"
   ]
  },
  {
   "cell_type": "code",
   "execution_count": 36,
   "metadata": {},
   "outputs": [
    {
     "name": "stdout",
     "output_type": "stream",
     "text": [
      "Gene1 Gene2 Gene6\n",
      "Gene2 Gene6 Gene1\n",
      "Gene3 Gene1 Gene2\n",
      "Gene3 Gene5 Gene1\n",
      "Gene4 Gene2 Gene6\n",
      "Gene5 Gene1 Gene2\n",
      "Gene6 Gene1 Gene2\n"
     ]
    }
   ],
   "source": [
    "network = {'Gene1': ('Gene2',),\n",
    " 'Gene2': ('Gene6',),\n",
    " 'Gene3': ('Gene1', 'Gene5'),\n",
    " 'Gene4': ('Gene2',),\n",
    " 'Gene5': ('Gene1',),\n",
    " 'Gene6': ('Gene1',)}\n",
    "\n",
    "c_set = set()\n",
    "# go through the keys\n",
    "for g1 in network:\n",
    "    \n",
    "     # go through the values in the tuple for the key g1   \n",
    "    for g2 in network[g1]:\n",
    "        \n",
    "        # go through the values for the key g2\n",
    "        for g3 in network.get(g2,()):\n",
    "            print(g1,g2,g3)"
   ]
  },
  {
   "cell_type": "code",
   "execution_count": null,
   "metadata": {},
   "outputs": [],
   "source": []
  },
  {
   "cell_type": "markdown",
   "metadata": {},
   "source": [
    "_______"
   ]
  }
 ],
 "metadata": {
  "kernelspec": {
   "display_name": "Python 3 (ipykernel)",
   "language": "python",
   "name": "python3"
  },
  "language_info": {
   "codemirror_mode": {
    "name": "ipython",
    "version": 3
   },
   "file_extension": ".py",
   "mimetype": "text/x-python",
   "name": "python",
   "nbconvert_exporter": "python",
   "pygments_lexer": "ipython3",
   "version": "3.9.12"
  }
 },
 "nbformat": 4,
 "nbformat_minor": 4
}
