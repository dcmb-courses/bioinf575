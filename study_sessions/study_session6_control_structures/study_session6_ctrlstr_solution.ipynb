{
 "cells": [
  {
   "cell_type": "markdown",
   "metadata": {},
   "source": [
    "#### SOLUTION"
   ]
  },
  {
   "cell_type": "markdown",
   "metadata": {},
   "source": [
    "### Study session 6 - Control structures\n",
    "#### BIOINF 575 - Fall 2023\n",
    "\n"
   ]
  },
  {
   "cell_type": "markdown",
   "metadata": {},
   "source": [
    "##### RECAP"
   ]
  },
  {
   "cell_type": "markdown",
   "metadata": {},
   "source": [
    "##### IF - Allows us to execute code selectivelly.\n",
    "\n",
    "```python\n",
    "if [not] <condition>:\n",
    "    <statements>\n",
    "elif <condition>:\n",
    "    <statements>\n",
    "else:\n",
    "    <statements>\n",
    "```\n"
   ]
  },
  {
   "cell_type": "markdown",
   "metadata": {},
   "source": [
    "##### FOR or WHILE - execute code repeatedly without having to repeat the code\n",
    "\n",
    "```python\n",
    "for var in sequence:\n",
    "    statements\n",
    "```\n",
    "\n",
    "A variable, var, is used to go through each element of the iterable we go through.     \n",
    "Iterable:  An object capable of returning its members one at a time.    \n",
    "https://docs.python.org/3/glossary.html    \n",
    "https://docs.python.org/3/library/collections.abc.html?highlight=iterable#collections.abc.Iterable\n"
   ]
  },
  {
   "cell_type": "markdown",
   "metadata": {
    "tags": []
   },
   "source": [
    "##### FUNCTION - block of code that only runs when called and can be reused without having to copy the code\n",
    "\n",
    "```python\n",
    "def function_name(arguments):\n",
    "    <statements>\n",
    "    return result\n",
    "\n",
    "# Call the function:\n",
    "function_name(values)\n",
    "```"
   ]
  },
  {
   "cell_type": "markdown",
   "metadata": {
    "jp-MarkdownHeadingCollapsed": true,
    "tags": []
   },
   "source": [
    "___\n",
    "<b><font color = \"green\">Introductory information</font> <br></b>\n",
    "\n",
    "\"Proteins are the end products of the decoding process that starts with the information in cellular DNA. As workhorses of the cell, proteins compose structural and motor elements in the cell, and they serve as the catalysts for virtually every biochemical reaction that occurs in living things. This incredible array of functions derives from a startlingly simple code that specifies a hugely diverse set of structures.\"\n",
    "\n",
    "\"The building blocks of proteins are amino acids, which are small organic molecules that consist of an alpha (central) carbon atom linked to an amino group, a carboxyl group, a hydrogen atom, and a variable component called a side chain (see below). Within a protein, multiple amino acids are linked together by peptide bonds, thereby forming a long chain.\"\n",
    "\n",
    "\"Proteins are built from a set of only twenty amino acids, each of which has a unique side chain.\"\n",
    "\n",
    "https://www.nature.com/scitable/topicpage/protein-structure-14122136/\n",
    "\n",
    "<img src = \"https://cdn.pixabay.com/photo/2013/07/12/17/38/dna-152136_1280.png\" width = 450>&nbsp;&nbsp;&nbsp;&nbsp;&nbsp;&nbsp;&nbsp;&nbsp;&nbsp;&nbsp;&nbsp;&nbsp;&nbsp;&nbsp;&nbsp;&nbsp;&nbsp;&nbsp;&nbsp;&nbsp;\n",
    "<img src = \"https://sphweb.bumc.bu.edu/otlt/MPH-Modules/PH/DNA-Genetics/Transcription-TranslationDetails.png\" width = 420>\n",
    "\n",
    "\n",
    "https://cdn.pixabay.com/photo/2013/07/12/17/38/dna-152136_1280.png                    \n",
    "https://sphweb.bumc.bu.edu/otlt/MPH-Modules/PH/DNA-Genetics/Transcription-TranslationDetails.png\n",
    "\n",
    "\n",
    "https://ocw.mit.edu/courses/biology/7-01sc-fundamentals-of-biology-fall-2011/molecular-biology/        \n",
    "https://ocw.mit.edu/courses/health-sciences-and-technology/hst-161-molecular-biology-and-genetics-in-modern-medicine-fall-2007/lecture-notes/     \n",
    "https://sphweb.bumc.bu.edu/otlt/MPH-Modules/PH/DNA-Genetics/DNA-Genetics3.html\n",
    "\n",
    "\n",
    "\n"
   ]
  },
  {
   "cell_type": "markdown",
   "metadata": {},
   "source": [
    "________\n",
    "_______"
   ]
  },
  {
   "cell_type": "markdown",
   "metadata": {},
   "source": [
    "<b><font color = \"red\">Exercise</font> <br></b>\n",
    "\n",
    "\n",
    "The dictionary DNA_amino_acids_map contains the information that allows us to translate DNA code into a sequence of amino acids.\n",
    "We want to use the mapping provided in the dictionary to translate the sequences in the second string and create a string of amino acids.\n",
    "- Write a function that translates a DNA_sequence into a peptide (sequence of amino acids)\n",
    "- Apply the function for each of the sequences in our DNA_sequence string\n",
    "\n",
    "\n"
   ]
  },
  {
   "cell_type": "code",
   "execution_count": 1,
   "metadata": {},
   "outputs": [],
   "source": [
    "DNA_amino_acids_map = {'ATA':'I', 'ATC':'I', 'ATT':'I', 'ATG':'M',\n",
    "    'ACA':'T', 'ACC':'T', 'ACG':'T', 'ACT':'T',\n",
    "    'AAC':'N', 'AAT':'N', 'AAA':'K', 'AAG':'K',\n",
    "    'AGC':'S', 'AGT':'S', 'AGA':'R', 'AGG':'R',\n",
    "    'CTA':'L', 'CTC':'L', 'CTG':'L', 'CTT':'L',\n",
    "    'CCA':'P', 'CCC':'P', 'CCG':'P', 'CCT':'P',\n",
    "    'CAC':'H', 'CAT':'H', 'CAA':'Q', 'CAG':'Q',\n",
    "    'CGA':'R', 'CGC':'R', 'CGG':'R', 'CGT':'R',\n",
    "    'GTA':'V', 'GTC':'V', 'GTG':'V', 'GTT':'V',\n",
    "    'GCA':'A', 'GCC':'A', 'GCG':'A', 'GCT':'A',\n",
    "    'GAC':'D', 'GAT':'D', 'GAA':'E', 'GAG':'E',\n",
    "    'GGA':'G', 'GGC':'G', 'GGG':'G', 'GGT':'G',\n",
    "    'TCA':'S', 'TCC':'S', 'TCG':'S', 'TCT':'S',\n",
    "    'TTC':'F', 'TTT':'F', 'TTA':'L', 'TTG':'L',\n",
    "    'TAC':'Y', 'TAT':'Y', 'TAA':'_', 'TAG':'_',\n",
    "    'TGC':'C', 'TGT':'C', 'TGA':'_', 'TGG':'W'}\n",
    "\n",
    "DNA_sequence = \"GCCGCGCGT AGGATGCCTCCGCAA CCCCAGCGTGCT AAA AAACTA CGCGCGTAGGATGCCTCCGCAACCCCAGCGTGT\"\n",
    "\n"
   ]
  },
  {
   "cell_type": "code",
   "execution_count": 2,
   "metadata": {},
   "outputs": [
    {
     "data": {
      "text/plain": [
       "''"
      ]
     },
     "execution_count": 2,
     "metadata": {},
     "output_type": "execute_result"
    }
   ],
   "source": [
    "# PART 1: Write a function that translates a DNA_sequence \n",
    "# into a peptide (sequence of amino acids)\n",
    "\n",
    "\n",
    "# for a sequence = \"AGGATG\" the result should be: \"RM\"\n",
    "# for a sequence = \"AT\" the result should be: \"\"\n",
    "\n",
    "# DEFINE THE FUNCTION\n",
    "\n",
    "# For a given DNA sequence create a list of amino acids then \n",
    "# put them together in a string using str.join()\n",
    "def translate_seq(seq):\n",
    "    amino_acids = [] \n",
    "    ## create the list of amino acids from groups of three nucleotides\n",
    "    peptide = \"\".join(amino_acids)\n",
    "    return peptide\n",
    "\n",
    "\n",
    "# TEST THE FUNCTION\n",
    "\n",
    "sequence = \"AGGATG\"\n",
    "translate_seq(sequence)"
   ]
  },
  {
   "cell_type": "code",
   "execution_count": 3,
   "metadata": {},
   "outputs": [
    {
     "data": {
      "text/plain": [
       "''"
      ]
     },
     "execution_count": 3,
     "metadata": {},
     "output_type": "execute_result"
    }
   ],
   "source": [
    "# another test\n",
    "sequence = \"\"\n",
    "translate_seq(sequence)"
   ]
  },
  {
   "cell_type": "code",
   "execution_count": 4,
   "metadata": {},
   "outputs": [
    {
     "name": "stdout",
     "output_type": "stream",
     "text": [
      "Help on function translate_seq in module __main__:\n",
      "\n",
      "translate_seq(seq)\n",
      "    # For a given DNA sequence create a list of amino acids then \n",
      "    # put them together in a string using str.join()\n",
      "\n"
     ]
    }
   ],
   "source": [
    "# comments right before the function also get included in the help\n",
    "help(translate_seq)"
   ]
  },
  {
   "cell_type": "code",
   "execution_count": 5,
   "metadata": {},
   "outputs": [
    {
     "name": "stdout",
     "output_type": "stream",
     "text": [
      "0 3 AGG R\n",
      "3 6 ATG M\n"
     ]
    },
    {
     "data": {
      "text/plain": [
       "''"
      ]
     },
     "execution_count": 5,
     "metadata": {},
     "output_type": "execute_result"
    }
   ],
   "source": [
    "# DEFINE THE FUNCTION\n",
    "\n",
    "# For a given DNA sequence create a list of amino acids then \n",
    "# put them together in a string using str.join()\n",
    "def translate_seq(seq):\n",
    "    amino_acids = []\n",
    "    ## save the length of the sequence in a variable to know how many iterations to do\n",
    "    n = len(seq)\n",
    "    \n",
    "    ## create the list of amino acids from groups of three nucleotides\n",
    "    ## create a range of indices where to start each group of three nucleotides\n",
    "    ## use a step of three to get the start index each group of three\n",
    "    ## use n-2 as a stop index to ensure we don't have a group of less than three at the end \n",
    "    for i in range(0,n-2,3):\n",
    "        ## print the start and stop indices \n",
    "        ## the current group of of three nucleotides\n",
    "        ## and the corresponding amino acid - retrieved from the dictionary\n",
    "        ## the method get is used to retrieve the amino acid (which is the value in the dictionary)\n",
    "        ## for the key given by the string formed from the three nucleotides.\n",
    "        ## if the key is not found, the empty string \"\" is returned by the get function\n",
    "        print(i, i+3, seq[i:i+3], DNA_amino_acids_map.get(seq[i:i+3], \"\"))\n",
    "\n",
    "    peptide = \"\".join(amino_acids)\n",
    "    return peptide\n",
    "\n",
    "\n",
    "# TEST THE FUNCTION\n",
    "\n",
    "sequence = \"AGGATG\"\n",
    "translate_seq(sequence)"
   ]
  },
  {
   "cell_type": "code",
   "execution_count": 6,
   "metadata": {
    "tags": []
   },
   "outputs": [
    {
     "data": {
      "text/plain": [
       "'RMPPQ'"
      ]
     },
     "execution_count": 6,
     "metadata": {},
     "output_type": "execute_result"
    }
   ],
   "source": [
    "# DEFINE THE FUNCTION\n",
    "\n",
    "# For a given DNA sequence create a list of amino acids then \n",
    "# put them together in a string using str.join()\n",
    "def translate_seq(seq):\n",
    "    amino_acids = []\n",
    "    n = len(seq)\n",
    "    for i in range(0,n-2,3):\n",
    "        ## add the amino acid for each group of three to the list\n",
    "        amino_acids.append(DNA_amino_acids_map.get(seq[i:i+3], \"\"))\n",
    "    peptide = \"\".join(amino_acids)\n",
    "    return peptide\n",
    "\n",
    "\n",
    "# TEST THE FUNCTION\n",
    "\n",
    "sequence = \"AGGATGCCTCCGCAA\"\n",
    "translate_seq(sequence)"
   ]
  },
  {
   "cell_type": "code",
   "execution_count": 7,
   "metadata": {},
   "outputs": [
    {
     "data": {
      "text/plain": [
       "''"
      ]
     },
     "execution_count": 7,
     "metadata": {},
     "output_type": "execute_result"
    }
   ],
   "source": [
    "# another test\n",
    "sequence = \"\"\n",
    "translate_seq(sequence)"
   ]
  },
  {
   "cell_type": "code",
   "execution_count": 8,
   "metadata": {
    "tags": []
   },
   "outputs": [
    {
     "name": "stdout",
     "output_type": "stream",
     "text": [
      "['AAR', 'RMPPQ', 'PQRA', 'K', 'KL', 'RA_DASATPAC']\n"
     ]
    },
    {
     "data": {
      "text/plain": [
       "'AAR RMPPQ PQRA K KL RA_DASATPAC'"
      ]
     },
     "execution_count": 8,
     "metadata": {},
     "output_type": "execute_result"
    }
   ],
   "source": [
    "# PART 2: Apply the function for each of the sequences in our DNA_sequence string\n",
    "\n",
    "## Break the given sequence of DNA sequences in a list of sequences\n",
    "## use the split method and the space or whitespace separator \n",
    "## (whitespace is the default - when no parameter or None is provided)\n",
    "DNA_sequence = \"GCCGCGCGT AGGATGCCTCCGCAA CCCCAGCGTGCT AAA AAACTA CGCGCGTAGGATGCCTCCGCAACCCCAGCGTGT\"\n",
    "\n",
    "DNA_sequence_list = DNA_sequence.split()\n",
    "## put resulting peptides in a list\n",
    "peptide_list = []\n",
    "for sequence in DNA_sequence_list:\n",
    "    peptide_list.append(translate_seq(sequence))\n",
    "\n",
    "print(peptide_list)\n",
    "\n",
    "## put together the list in a string sparatingthe peptides by space:\n",
    "\" \".join(peptide_list)\n"
   ]
  },
  {
   "cell_type": "code",
   "execution_count": 9,
   "metadata": {},
   "outputs": [
    {
     "name": "stdout",
     "output_type": "stream",
     "text": [
      "Help on method_descriptor:\n",
      "\n",
      "split(self, /, sep=None, maxsplit=-1)\n",
      "    Return a list of the words in the string, using sep as the delimiter string.\n",
      "    \n",
      "    sep\n",
      "      The delimiter according which to split the string.\n",
      "      None (the default value) means split according to any whitespace,\n",
      "      and discard empty strings from the result.\n",
      "    maxsplit\n",
      "      Maximum number of splits to do.\n",
      "      -1 (the default value) means no limit.\n",
      "\n"
     ]
    }
   ],
   "source": [
    "help(str.split)"
   ]
  },
  {
   "cell_type": "code",
   "execution_count": null,
   "metadata": {},
   "outputs": [],
   "source": []
  },
  {
   "cell_type": "code",
   "execution_count": null,
   "metadata": {},
   "outputs": [],
   "source": []
  },
  {
   "cell_type": "markdown",
   "metadata": {},
   "source": [
    "___\n",
    "<b><font color = \"red\">Exercise</font> <br></b>\n",
    "\n",
    "\n",
    "Write code that given an INFO key, processes a line from a vcf file and retrieves the value for that key.    \n",
    "The variant file this line was taken/adapted from is in the study session folder `variant_file_short.vcf`.\n",
    "\n",
    "```\n",
    "#CHROM   POS     ID  REF   ALT   QUAL    FILTER   INFO                                                    FORMAT\n",
    "1        237763  .   G     A     6.02    .        DP=2;VDB=0.0261;AF1=1;AC1=2;DP4=0,0,0,2;MQ=20;FQ=-33    GT:PL:GQ\n",
    "```\n",
    "\n"
   ]
  },
  {
   "cell_type": "code",
   "execution_count": 10,
   "metadata": {},
   "outputs": [
    {
     "name": "stdout",
     "output_type": "stream",
     "text": [
      "1\t237763\t.\tG\tA\t6.02\t.\tDP=2;VDB=0.0261;AF1=1;AC1=2;DP4=0,0,0,2;MQ=20;FQ=-33\tGT:PL:GQ\n"
     ]
    }
   ],
   "source": [
    "variant_line = \"1\\t237763\\t.\\tG\\tA\\t6.02\\t.\\tDP=2;VDB=0.0261;AF1=1;AC1=2;DP4=0,0,0,2;MQ=20;FQ=-33\\tGT:PL:GQ\"\n",
    "print(variant_line)"
   ]
  },
  {
   "cell_type": "code",
   "execution_count": null,
   "metadata": {},
   "outputs": [],
   "source": []
  },
  {
   "cell_type": "code",
   "execution_count": 11,
   "metadata": {},
   "outputs": [],
   "source": [
    "# First we split the line by tab or whitespace"
   ]
  },
  {
   "cell_type": "code",
   "execution_count": 12,
   "metadata": {},
   "outputs": [
    {
     "data": {
      "text/plain": [
       "['1',\n",
       " '237763',\n",
       " '.',\n",
       " 'G',\n",
       " 'A',\n",
       " '6.02',\n",
       " '.',\n",
       " 'DP=2;VDB=0.0261;AF1=1;AC1=2;DP4=0,0,0,2;MQ=20;FQ=-33',\n",
       " 'GT:PL:GQ']"
      ]
     },
     "execution_count": 12,
     "metadata": {},
     "output_type": "execute_result"
    }
   ],
   "source": [
    "# a more generic split - split by whitespce\n",
    "\n",
    "var_lst = variant_line.split()\n",
    "var_lst"
   ]
  },
  {
   "cell_type": "code",
   "execution_count": 13,
   "metadata": {},
   "outputs": [
    {
     "data": {
      "text/plain": [
       "['1',\n",
       " '237763',\n",
       " '.',\n",
       " 'G',\n",
       " 'A',\n",
       " '6.02',\n",
       " '.',\n",
       " 'DP=2;VDB=0.0261;AF1=1;AC1=2;DP4=0,0,0,2;MQ=20;FQ=-33',\n",
       " 'GT:PL:GQ']"
      ]
     },
     "execution_count": 13,
     "metadata": {},
     "output_type": "execute_result"
    }
   ],
   "source": [
    "# a more specific split - split by tab - same effect in this case\n",
    "# we typically want to be as specific as possible\n",
    "\n",
    "var_lst = variant_line.split(\"\\t\")\n",
    "var_lst"
   ]
  },
  {
   "cell_type": "code",
   "execution_count": 14,
   "metadata": {},
   "outputs": [
    {
     "data": {
      "text/plain": [
       "{'DP': 2,\n",
       " 'VDB': 0.0261,\n",
       " 'AF1': 1,\n",
       " 'AC1': 2,\n",
       " 'DP4': (0, 0, 0, 2),\n",
       " 'MQ': 20,\n",
       " 'FQ': -33}"
      ]
     },
     "execution_count": 14,
     "metadata": {},
     "output_type": "execute_result"
    }
   ],
   "source": [
    "# We could try to make the info key a dictionary using eval - but the tuple for DP4 is not a tuple\n",
    "# as you see in the following code\n",
    "\n",
    "dict(DP=2,VDB=0.0261,AF1=1,AC1=2,DP4=(0,0,0,2),MQ=20,FQ=-33)"
   ]
  },
  {
   "cell_type": "code",
   "execution_count": 15,
   "metadata": {
    "tags": []
   },
   "outputs": [
    {
     "data": {
      "text/plain": [
       "'DP=2;VDB=0.0261;AF1=1;AC1=2;DP4=0,0,0,2;MQ=20;FQ=-33'"
      ]
     },
     "execution_count": 15,
     "metadata": {},
     "output_type": "execute_result"
    }
   ],
   "source": [
    "# Get the INFO column - use the index\n",
    "\n",
    "info_idx = 7\n",
    "info = var_lst[info_idx]\n",
    "info "
   ]
  },
  {
   "cell_type": "code",
   "execution_count": 16,
   "metadata": {
    "tags": []
   },
   "outputs": [
    {
     "data": {
      "text/plain": [
       "['DP=2', 'VDB=0.0261', 'AF1=1', 'AC1=2', 'DP4=0,0,0,2', 'MQ=20', 'FQ=-33']"
      ]
     },
     "execution_count": 16,
     "metadata": {},
     "output_type": "execute_result"
    }
   ],
   "source": [
    "# break into pairs key=val - split by ;\n",
    "\n",
    "pairs_lst = info.split(\";\")\n",
    "pairs_lst"
   ]
  },
  {
   "cell_type": "code",
   "execution_count": 17,
   "metadata": {},
   "outputs": [
    {
     "data": {
      "text/plain": [
       "{'DP': 2,\n",
       " 'VDB': 0.0261,\n",
       " 'AF1': 1,\n",
       " 'AC1': 2,\n",
       " 'DP4': (0, 0, 0, 2),\n",
       " 'MQ': 20,\n",
       " 'FQ': -33}"
      ]
     },
     "execution_count": 17,
     "metadata": {},
     "output_type": "execute_result"
    }
   ],
   "source": [
    "# go through the list and create a dictionary\n",
    "\n",
    "info_map = {}\n",
    "for pair in pairs_lst:\n",
    "    # split by =, expect 2 elements - unpack in key and value variables\n",
    "    key, value = pair.split(\"=\")\n",
    "    # split returns a list of strings so the key is ok but we need to use \n",
    "    # eval on the value string to make it the intended value - int or tuple\n",
    "    # if it a string though it will look for the variable with that name - be aware\n",
    "    info_map[key] = eval(value)\n",
    "    \n",
    "    \n",
    "#look at the dictionary we built\n",
    "info_map"
   ]
  },
  {
   "cell_type": "code",
   "execution_count": 18,
   "metadata": {},
   "outputs": [
    {
     "data": {
      "text/plain": [
       "2"
      ]
     },
     "execution_count": 18,
     "metadata": {},
     "output_type": "execute_result"
    }
   ],
   "source": [
    "# get the value for a key\n",
    "\n",
    "key = \"DP\"\n",
    "info_map[key]"
   ]
  },
  {
   "cell_type": "code",
   "execution_count": 19,
   "metadata": {},
   "outputs": [
    {
     "name": "stdout",
     "output_type": "stream",
     "text": [
      "1\t237763\t.\tG\tA\t6.02\t.\tDP=2;VDB=0.0261;AF1=1;AC1=2;DP4=0,0,0,2;MQ=20;FQ=-33\tGT:PL:GQ\n",
      "\n",
      "The value for key DP is: 2\n"
     ]
    }
   ],
   "source": [
    "# putting it all together\n",
    "\n",
    "variant_line = \"1\\t237763\\t.\\tG\\tA\\t6.02\\t.\\tDP=2;VDB=0.0261;AF1=1;AC1=2;DP4=0,0,0,2;MQ=20;FQ=-33\\tGT:PL:GQ\"\n",
    "info_idx = 7\n",
    "search_key = \"DP\"\n",
    "\n",
    "var_lst = variant_line.split(\"\\t\")\n",
    "info = var_lst[info_idx]\n",
    "pairs_lst = info.split(\";\")\n",
    "\n",
    "info_map = {}\n",
    "for pair in pairs_lst:\n",
    "    # split by =, expect 2 elements - unpack in key and value variables\n",
    "    key, value = pair.split(\"=\")\n",
    "    # split returns a list of strings so the key is ok but we need to use \n",
    "    # eval on the value string to make it the intended value - int or tuple\n",
    "    # if it a string though it will look for the variable with that name - be aware\n",
    "    info_map[key] = eval(value)\n",
    "    \n",
    "value = info_map[search_key]\n",
    "\n",
    "print(variant_line)\n",
    "print()\n",
    "print(\"The value for key\", search_key, \"is:\", value)"
   ]
  },
  {
   "cell_type": "code",
   "execution_count": null,
   "metadata": {},
   "outputs": [],
   "source": []
  },
  {
   "cell_type": "code",
   "execution_count": null,
   "metadata": {},
   "outputs": [],
   "source": []
  },
  {
   "cell_type": "code",
   "execution_count": null,
   "metadata": {},
   "outputs": [],
   "source": []
  },
  {
   "cell_type": "markdown",
   "metadata": {
    "tags": []
   },
   "source": [
    "___\n",
    "<b><font color = \"red\">Exercise</font> <br><br></b>\n",
    "##### Gene regulatory network\n",
    "\n",
    "\"Formally speaking, a gene regulatory network or genetic regulatory network (GRN) is a collection of DNA segments in a cell which interact with each other (indirectly through their RNA and protein expression products) and with other substances in the cell, thereby governing the rates at which genes in the network are transcribed into mRNA. In general, each mRNA molecule goes on to make a specific protein (or set of proteins).\"  \n",
    "https://link.springer.com/referenceworkentry/10.1007%2F978-1-4419-9863-7_364\n",
    "\n",
    "<img src = \"https://media.springernature.com/original/springer-static/image/prt%3A978-1-4419-9863-7%2F7/MediaObjects/978-1-4419-9863-7_7_Part_Fig1-364_HTML.gif\" width = 200/>\n",
    "\n"
   ]
  },
  {
   "cell_type": "markdown",
   "metadata": {},
   "source": [
    "\n",
    "We have a gene regulatory network represented as a dictionary where the key is a gene from the network above and the value is a tuple of the genes the key gene directly regulates (through orange links only).    \n",
    "\n",
    "- Write a function that uses the dictionary and computes and returns the number of genes that a given gene's expression is regualted by. \n",
    "    - In other words, the function would compute the number of incoming orange edges that the gene has in the above network.<BR><BR>\n",
    "\n",
    "- Test the function for at least three cases.\n",
    "\n",
    "\n"
   ]
  },
  {
   "cell_type": "code",
   "execution_count": 20,
   "metadata": {},
   "outputs": [],
   "source": [
    "network = {'Gene1': ('Gene2',),\n",
    " 'Gene2': ('Gene6',),\n",
    " 'Gene3': ('Gene1', 'Gene5'),\n",
    " 'Gene4': ('Gene2',),\n",
    " 'Gene5': ('Gene1',),\n",
    " 'Gene6': ('Gene1',)}"
   ]
  },
  {
   "cell_type": "code",
   "execution_count": 21,
   "metadata": {},
   "outputs": [
    {
     "data": {
      "text/plain": [
       "{'Gene1': ('Gene2',),\n",
       " 'Gene2': ('Gene6',),\n",
       " 'Gene3': ('Gene1', 'Gene5'),\n",
       " 'Gene4': ('Gene2',),\n",
       " 'Gene5': ('Gene1',),\n",
       " 'Gene6': ('Gene1',)}"
      ]
     },
     "execution_count": 21,
     "metadata": {},
     "output_type": "execute_result"
    }
   ],
   "source": [
    "network"
   ]
  },
  {
   "cell_type": "code",
   "execution_count": null,
   "metadata": {},
   "outputs": [],
   "source": []
  },
  {
   "cell_type": "code",
   "execution_count": 22,
   "metadata": {},
   "outputs": [
    {
     "data": {
      "text/plain": [
       "0"
      ]
     },
     "execution_count": 22,
     "metadata": {},
     "output_type": "execute_result"
    }
   ],
   "source": [
    "# we set up our output to 0, we assume we find no incoming edges\n",
    "def compute_reg_no(gene, biological_network):\n",
    "    reg_no = 0\n",
    "    # here we will compute the number\n",
    "    return reg_no\n",
    "\n",
    "# test the function\n",
    "test_gene = \"Gene1\"\n",
    "compute_reg_no(gene = test_gene, biological_network = network)"
   ]
  },
  {
   "cell_type": "code",
   "execution_count": 23,
   "metadata": {},
   "outputs": [
    {
     "name": "stdout",
     "output_type": "stream",
     "text": [
      "Displaying the key and value:\n",
      "Gene1\n",
      "('Gene2',)\n",
      "\n",
      "Displaying the key and value:\n",
      "Gene2\n",
      "('Gene6',)\n",
      "\n",
      "Displaying the key and value:\n",
      "Gene3\n",
      "('Gene1', 'Gene5')\n",
      "\n",
      "Displaying the key and value:\n",
      "Gene4\n",
      "('Gene2',)\n",
      "\n",
      "Displaying the key and value:\n",
      "Gene5\n",
      "('Gene1',)\n",
      "\n",
      "Displaying the key and value:\n",
      "Gene6\n",
      "('Gene1',)\n",
      "\n"
     ]
    },
    {
     "data": {
      "text/plain": [
       "0"
      ]
     },
     "execution_count": 23,
     "metadata": {},
     "output_type": "execute_result"
    }
   ],
   "source": [
    "# we set up our output to 0, we assume we find no incoming edges\n",
    "# we go through the dictionary items and display the key and value for each item\n",
    "\n",
    "def compute_reg_no(gene, biological_network):\n",
    "    reg_no = 0\n",
    "    # the for loop through items will give us tuples of 2\n",
    "    # we unpack the key and value in the respective variables\n",
    "    for key, value in biological_network.items():\n",
    "        # here we will compute the number\n",
    "        print(\"Displaying the key and value:\")\n",
    "        print(key)\n",
    "        print(value)\n",
    "        print()\n",
    "    return reg_no\n",
    "\n",
    "# test the function\n",
    "test_gene = \"Gene1\"\n",
    "compute_reg_no(gene = test_gene, biological_network = network)"
   ]
  },
  {
   "cell_type": "code",
   "execution_count": 24,
   "metadata": {},
   "outputs": [
    {
     "data": {
      "text/plain": [
       "3"
      ]
     },
     "execution_count": 24,
     "metadata": {},
     "output_type": "execute_result"
    }
   ],
   "source": [
    "# we set up our output to 0, we assume we find no incoming edges\n",
    "# we go through the dictionary items and display the key and value for each item\n",
    "# we check if our gene is among the values for each item because that means it has an incoming edge from the key\n",
    "\n",
    "def compute_reg_no(gene, biological_network):\n",
    "    reg_no = 0\n",
    "    # the for loop through items will give us tuples of 2\n",
    "    # we unpack the key and value in the respective variables\n",
    "    for key, value in biological_network.items():\n",
    "        # here we are computing the number\n",
    "        # we check if our gene is among the gene in the value and \n",
    "        # if it is there means there is an incoming edge from the key so we increase the number \n",
    "        if gene in value:\n",
    "            reg_no = reg_no + 1\n",
    "    return reg_no\n",
    "\n",
    "# test the function\n",
    "test_gene = \"Gene1\"\n",
    "compute_reg_no(gene = test_gene, biological_network = network)"
   ]
  },
  {
   "cell_type": "code",
   "execution_count": 25,
   "metadata": {},
   "outputs": [
    {
     "name": "stdout",
     "output_type": "stream",
     "text": [
      "The number of incoming edges for 'Gene1' is: 3\n",
      "The number of incoming edges for 'Gene2' is: 2\n",
      "The number of incoming edges for 'Gene4' is: 0\n",
      "The number of incoming edges for 'Gene6' is: 1\n"
     ]
    }
   ],
   "source": [
    "## testing the function with more values\n",
    "\n",
    "test_genes = (\"Gene1\", \"Gene2\", \"Gene4\", \"Gene6\")\n",
    "for test_gene in test_genes:\n",
    "    incoming_edges = compute_reg_no(gene = test_gene, biological_network = network)\n",
    "    print(\"The number of incoming edges for '\" + test_gene + \"' is:\", incoming_edges)"
   ]
  },
  {
   "cell_type": "code",
   "execution_count": 26,
   "metadata": {},
   "outputs": [
    {
     "data": {
      "text/plain": [
       "{'Gene1': 3, 'Gene2': 2, 'Gene4': 0, 'Gene6': 1}"
      ]
     },
     "execution_count": 26,
     "metadata": {},
     "output_type": "execute_result"
    }
   ],
   "source": [
    "## Saving the results in a dictionary\n",
    "\n",
    "edge_count = {}\n",
    "\n",
    "test_genes = (\"Gene1\", \"Gene2\", \"Gene4\", \"Gene6\")\n",
    "for test_gene in test_genes:\n",
    "    incoming_edges = compute_reg_no(gene = test_gene, biological_network = network)\n",
    "    edge_count[test_gene] = incoming_edges\n",
    "\n",
    "edge_count"
   ]
  },
  {
   "cell_type": "code",
   "execution_count": null,
   "metadata": {},
   "outputs": [],
   "source": []
  },
  {
   "cell_type": "markdown",
   "metadata": {},
   "source": [
    "___\n",
    "<b><font color = \"red\">Exercise</font> <br><br></b>\n",
    "\n",
    "Explain the following code:\n",
    "\n"
   ]
  },
  {
   "cell_type": "code",
   "execution_count": 27,
   "metadata": {},
   "outputs": [
    {
     "name": "stdout",
     "output_type": "stream",
     "text": [
      "ATGATGCCACAAATG\n"
     ]
    }
   ],
   "source": [
    "amino_acid_code = { \n",
    "    \"P\": (\"CCA\", \"CCC\", \"CCT\", \"CCG\"),\n",
    "    \"Q\": (\"CAA\", \"CAG\"),\n",
    "    \"M\": (\"ATG\",)\n",
    "}\n",
    "\n",
    "p = \"MMPQM\"\n",
    "x = set()\n",
    "s = \"\"\n",
    "for aa in p:\n",
    "    s = s + amino_acid_code.get(aa,(\"\",))[0]\n",
    "print(s)"
   ]
  },
  {
   "cell_type": "markdown",
   "metadata": {},
   "source": [
    "### _________ \n",
    "\n",
    "Overall, the code takes the sequence of amino acids \"MMPQM\" and tries to go back to the DNA sequence that coded for it.\n",
    "The correspondance is not unique as multiple codons can code for the same amino acid, and this code take the first codon in the given dictionary that codes for the respective amino acid.\n",
    "\n",
    "\n",
    "The first statement stores in the variable amino_acid_code a dictionary object where the keys are amino acids (P, Q and M) and the values are tuples with codons that code for that amino acid.\n",
    "\n",
    "The second statement stores in the variable p the string \"MMPQM\" - a sequence of amino acids.\n",
    "\n",
    "The third statement stores in x an empty set (set()).\n",
    "\n",
    "The fourth statement stores in s an empty string (\"\").\n",
    "\n",
    "The fifth statement uses a for loop to go through each letter/ amino acid in the string/peptide stored in variable p.\n",
    "For each amino acid, the variable s is added/concatenated with the first element (codon) from the sequence of values (tuple of codons) found in the dictionary for the given amino acid.\n",
    "It uses the get function to get the value (tuple of codons) for the key (amino acid), and if the key is not found a tuple with an empty string is retrieved, that tuple is denoted by: (\"\",).\n",
    "The first elemnet from the resulted tuple is selected using 0-based indexing [0].\n",
    "\n",
    "The sixth statement displays yhe value computed in the variable s using the print function.\n",
    "The s variable contains a string object that contains the DNA sequence that can code for the \"MMPQM\" peptide.\n",
    "\n"
   ]
  },
  {
   "cell_type": "code",
   "execution_count": null,
   "metadata": {},
   "outputs": [],
   "source": []
  },
  {
   "cell_type": "code",
   "execution_count": 28,
   "metadata": {},
   "outputs": [
    {
     "name": "stdout",
     "output_type": "stream",
     "text": [
      "('ATG',)\n",
      "('ATG',)\n",
      "('CCA', 'CCC', 'CCT', 'CCG')\n",
      "('CAA', 'CAG')\n",
      "('ATG',)\n"
     ]
    }
   ],
   "source": [
    "# code breakdown\n",
    "\n",
    "amino_acid_code = { \n",
    "    \"P\": (\"CCA\", \"CCC\", \"CCT\", \"CCG\"),\n",
    "    \"Q\": (\"CAA\", \"CAG\"),\n",
    "    \"M\": (\"ATG\",)\n",
    "}\n",
    "\n",
    "p = \"MMPQM\"\n",
    "x = set()\n",
    "s = \"\"\n",
    "\n",
    "# get the value for the key equal to each character (amino acid) in p (the peptide)\n",
    "for aa in p:\n",
    "    print(amino_acid_code.get(aa))\n"
   ]
  },
  {
   "cell_type": "code",
   "execution_count": 29,
   "metadata": {},
   "outputs": [
    {
     "name": "stdout",
     "output_type": "stream",
     "text": [
      "('ATG',)\n",
      "('ATG',)\n",
      "('CCA', 'CCC', 'CCT', 'CCG')\n",
      "('CAA', 'CAG')\n",
      "('ATG',)\n",
      "('',)\n"
     ]
    }
   ],
   "source": [
    "amino_acid_code = { \n",
    "    \"P\": (\"CCA\", \"CCC\", \"CCT\", \"CCG\"),\n",
    "    \"Q\": (\"CAA\", \"CAG\"),\n",
    "    \"M\": (\"ATG\",)\n",
    "}\n",
    "\n",
    "p = \"MMPQMS\"\n",
    "x = set()\n",
    "s = \"\"\n",
    "\n",
    "# get the value for the key equal to each character in p (the peptide)\n",
    "# if the amino acid is not a key in the dictionary then return a tuple with an empty string\n",
    "# I added S to p to test this\n",
    "for aa in p:\n",
    "    print(amino_acid_code.get(aa,(\"\",)))\n"
   ]
  },
  {
   "cell_type": "code",
   "execution_count": 30,
   "metadata": {},
   "outputs": [
    {
     "name": "stdout",
     "output_type": "stream",
     "text": [
      "ATG\n",
      "ATG\n",
      "CCA\n",
      "CAA\n",
      "ATG\n",
      "\n"
     ]
    }
   ],
   "source": [
    "amino_acid_code = { \n",
    "    \"P\": (\"CCA\", \"CCC\", \"CCT\", \"CCG\"),\n",
    "    \"Q\": (\"CAA\", \"CAG\"),\n",
    "    \"M\": (\"ATG\",)\n",
    "}\n",
    "\n",
    "p = \"MMPQMS\"\n",
    "x = set()\n",
    "s = \"\"\n",
    "\n",
    "# get the value for the key equal to each character in p (the peptide)\n",
    "# if the amino acid is not a key in the dictionary then return a tuple with an empty string\n",
    "# I added S to p to test this\n",
    "# now we use [0] to take the first element (codon) from the tuple that we retrieved for that amino acid\n",
    "for aa in p:\n",
    "    print(amino_acid_code.get(aa,(\"\",))[0])\n",
    "\n"
   ]
  },
  {
   "cell_type": "code",
   "execution_count": 31,
   "metadata": {},
   "outputs": [
    {
     "name": "stdout",
     "output_type": "stream",
     "text": [
      "ATG\n",
      "ATGATG\n",
      "ATGATGCCA\n",
      "ATGATGCCACAA\n",
      "ATGATGCCACAAATG\n",
      "ATGATGCCACAAATG\n"
     ]
    }
   ],
   "source": [
    "amino_acid_code = { \n",
    "    \"P\": (\"CCA\", \"CCC\", \"CCT\", \"CCG\"),\n",
    "    \"Q\": (\"CAA\", \"CAG\"),\n",
    "    \"M\": (\"ATG\",)\n",
    "}\n",
    "\n",
    "p = \"MMPQMS\"\n",
    "x = set()\n",
    "s = \"\"\n",
    "\n",
    "# get the value for the key equal to each character in p (the peptide)\n",
    "# if the amino acid is not a key in the dictionary then return a tuple with an empty string\n",
    "# I added S to p to test this\n",
    "# we use [0] to take the first element (codon) from the tuple that we retrieved for that amino acid\n",
    "# now we put/concatenate all those codons in a string s and display it as it is being built in the for loop\n",
    "for aa in p:\n",
    "    s = s + amino_acid_code.get(aa,(\"\",))[0]\n",
    "    print(s)\n",
    "\n",
    "\n"
   ]
  },
  {
   "cell_type": "code",
   "execution_count": 32,
   "metadata": {},
   "outputs": [
    {
     "name": "stdout",
     "output_type": "stream",
     "text": [
      "ATGATGCCACAAATG\n"
     ]
    }
   ],
   "source": [
    "amino_acid_code = { \n",
    "    \"P\": (\"CCA\", \"CCC\", \"CCT\", \"CCG\"),\n",
    "    \"Q\": (\"CAA\", \"CAG\"),\n",
    "    \"M\": (\"ATG\",)\n",
    "}\n",
    "\n",
    "p = \"MMPQMS\"\n",
    "x = set()\n",
    "s = \"\"\n",
    "\n",
    "# get the value for the key equal to each character in p (the peptide)\n",
    "# if the amino acid is not a key in the dictionary then return a tuple with an empty string\n",
    "# I added S to p to test this\n",
    "# we use [0] to take the first element (codon) from the tuple that we retrieved for that amino acid\n",
    "# we put/concatenate all those codons in a string s \n",
    "# now we display the string s only after the for loop\n",
    "for aa in p:\n",
    "    s = s + amino_acid_code.get(aa,(\"\",))[0]\n",
    "    \n",
    "print(s)\n",
    "\n",
    "\n",
    "\n"
   ]
  },
  {
   "cell_type": "code",
   "execution_count": null,
   "metadata": {},
   "outputs": [],
   "source": []
  },
  {
   "cell_type": "markdown",
   "metadata": {},
   "source": [
    "___\n",
    "<b><font color = \"red\">Exercise</font> <br><br></b>\n",
    "\n",
    "Explain the following code:\n",
    "\n",
    "```python\n",
    "amino_acid_code = { \n",
    "    \"P\": (\"CCA\", \"CCC\", \"CCT\", \"CCG\"),\n",
    "    \"Q\": (\"CAA\", \"CAG\"),\n",
    "    \"M\": (\"ATG\",)\n",
    "}\n",
    "\n",
    "\n",
    "x = set()\n",
    "for value in amino_acid_code.values():\n",
    "    for codon in value:\n",
    "        if \"U\" in codon:\n",
    "            codon = codon.replace(\"U\",\"T\")\n",
    "            x.add(codon[:2])\n",
    "print(x)\n",
    "\n",
    "\n",
    "```\n"
   ]
  },
  {
   "cell_type": "code",
   "execution_count": 33,
   "metadata": {},
   "outputs": [],
   "source": [
    "#___________________________\n",
    "# I am explaining gthe code in comments in each cell\n"
   ]
  },
  {
   "cell_type": "code",
   "execution_count": 34,
   "metadata": {},
   "outputs": [],
   "source": [
    "# set amino_acids_code to a dictionary with the key being the one letter \n",
    "# abbreviation for the amino acids and the value is a tuple of codons.\n",
    "\n",
    "amino_acid_code = { \n",
    "    \"P\": (\"CCA\", \"CCC\", \"CCT\", \"CCG\"),\n",
    "    \"Q\": (\"CAA\", \"CAG\"),\n",
    "    \"M\": (\"ATG\",)\n",
    "}\n",
    "\n",
    "\n"
   ]
  },
  {
   "cell_type": "code",
   "execution_count": 35,
   "metadata": {},
   "outputs": [
    {
     "data": {
      "text/plain": [
       "{'P': ('CCA', 'CCC', 'CCT', 'CCG'), 'Q': ('CAA', 'CAG'), 'M': ('ATG',)}"
      ]
     },
     "execution_count": 35,
     "metadata": {},
     "output_type": "execute_result"
    }
   ],
   "source": [
    "amino_acid_code"
   ]
  },
  {
   "cell_type": "code",
   "execution_count": 36,
   "metadata": {},
   "outputs": [],
   "source": [
    "# set the variable x to an ampty set\n",
    "\n",
    "x = set()\n"
   ]
  },
  {
   "cell_type": "code",
   "execution_count": 37,
   "metadata": {},
   "outputs": [
    {
     "data": {
      "text/plain": [
       "set()"
      ]
     },
     "execution_count": 37,
     "metadata": {},
     "output_type": "execute_result"
    }
   ],
   "source": [
    "x"
   ]
  },
  {
   "cell_type": "code",
   "execution_count": 38,
   "metadata": {},
   "outputs": [
    {
     "data": {
      "text/plain": [
       "dict_values([('CCA', 'CCC', 'CCT', 'CCG'), ('CAA', 'CAG'), ('ATG',)])"
      ]
     },
     "execution_count": 38,
     "metadata": {},
     "output_type": "execute_result"
    }
   ],
   "source": [
    "## returns a list of the dictionary values \n",
    "\n",
    "amino_acid_code.values()"
   ]
  },
  {
   "cell_type": "code",
   "execution_count": 39,
   "metadata": {},
   "outputs": [
    {
     "name": "stdout",
     "output_type": "stream",
     "text": [
      "('CCA', 'CCC', 'CCT', 'CCG')\n",
      "CCA\n",
      "CCC\n",
      "CCT\n",
      "CCG\n",
      "('CAA', 'CAG')\n",
      "CAA\n",
      "CAG\n",
      "('ATG',)\n",
      "ATG\n"
     ]
    }
   ],
   "source": [
    "# we go to each value in dictionary, which are tuples \n",
    "# then we go through each of the elements in the tuple\n",
    "# these elements are strings of three nucleotides = codons\n",
    "\n",
    "for value in amino_acid_code.values():\n",
    "    print(value)\n",
    "    for codon in value:\n",
    "        print(codon)\n",
    "        \n",
    "        "
   ]
  },
  {
   "cell_type": "code",
   "execution_count": 40,
   "metadata": {},
   "outputs": [
    {
     "name": "stdout",
     "output_type": "stream",
     "text": [
      "ACT\n"
     ]
    }
   ],
   "source": [
    "### check in \"U\", uracil is in codon\n",
    "### if it is then replace U with T in the codon\n",
    "\n",
    "codon = \"ACU\"\n",
    "if \"U\" in codon:\n",
    "        codon = codon.replace(\"U\",\"T\")\n",
    "        print(codon)"
   ]
  },
  {
   "cell_type": "code",
   "execution_count": 41,
   "metadata": {},
   "outputs": [
    {
     "name": "stdout",
     "output_type": "stream",
     "text": [
      "set()\n"
     ]
    }
   ],
   "source": [
    "# if U is in codon then add to the set x the string formed by the firast two letters \n",
    "\n",
    "# So x will contain the string formed by the first two nucleotides in the codons that contain U\n",
    "# Lastly, we print x\n",
    "\n",
    "# There is nothing added to the set because none of the codons contains U\n",
    "\n",
    "x = set()\n",
    "for value in amino_acid_code.values():\n",
    "    for codon in value:\n",
    "        if \"U\" in codon:\n",
    "            codon = codon.replace(\"U\",\"T\")\n",
    "            x.add(codon[:2])\n",
    "print(x)\n",
    "\n"
   ]
  },
  {
   "cell_type": "code",
   "execution_count": null,
   "metadata": {},
   "outputs": [],
   "source": []
  },
  {
   "cell_type": "code",
   "execution_count": 42,
   "metadata": {},
   "outputs": [
    {
     "name": "stdout",
     "output_type": "stream",
     "text": [
      "{'AU', 'CC'}\n"
     ]
    }
   ],
   "source": [
    "# We can switch checking for T and replacing it with U if found\n",
    "\n",
    "xx = set()\n",
    "for value in amino_acid_code.values():\n",
    "    for codon in value:\n",
    "        if \"T\" in codon:\n",
    "            codon = codon.replace(\"T\",\"U\")\n",
    "            xx.add(codon[:2])\n",
    "print(xx)"
   ]
  },
  {
   "cell_type": "code",
   "execution_count": 43,
   "metadata": {},
   "outputs": [],
   "source": [
    "#==============================================="
   ]
  },
  {
   "cell_type": "code",
   "execution_count": null,
   "metadata": {},
   "outputs": [],
   "source": []
  },
  {
   "cell_type": "code",
   "execution_count": null,
   "metadata": {},
   "outputs": [],
   "source": []
  },
  {
   "cell_type": "code",
   "execution_count": null,
   "metadata": {},
   "outputs": [],
   "source": []
  },
  {
   "cell_type": "code",
   "execution_count": 44,
   "metadata": {},
   "outputs": [],
   "source": [
    "amino_acid_code = { \n",
    "    \"P\": (\"CCA\", \"CCC\", \"CCT\", \"CCG\"),\n",
    "    \"Q\": (\"CAA\", \"CAG\"),\n",
    "    \"M\": (\"ATG\",)\n",
    "}"
   ]
  },
  {
   "cell_type": "code",
   "execution_count": 45,
   "metadata": {},
   "outputs": [
    {
     "name": "stdout",
     "output_type": "stream",
     "text": [
      "('P', ('CCA', 'CCC', 'CCT', 'CCG'))\n",
      "('Q', ('CAA', 'CAG'))\n",
      "('M', ('ATG',))\n"
     ]
    }
   ],
   "source": [
    "# extra exmaple of for loop with the dictionary items\n",
    "# each item is a tuple of 2\n",
    "\n",
    "for item in amino_acid_code.items():\n",
    "    print(item)\n"
   ]
  },
  {
   "cell_type": "code",
   "execution_count": 46,
   "metadata": {},
   "outputs": [
    {
     "name": "stdout",
     "output_type": "stream",
     "text": [
      "P ('CCA', 'CCC', 'CCT', 'CCG')\n",
      "Q ('CAA', 'CAG')\n",
      "M ('ATG',)\n"
     ]
    }
   ],
   "source": [
    "# unpack the tuple of 2 in key and value\n",
    "\n",
    "for key,value in amino_acid_code.items():\n",
    "    print(key, value)\n"
   ]
  },
  {
   "cell_type": "markdown",
   "metadata": {},
   "source": [
    "_______"
   ]
  },
  {
   "cell_type": "markdown",
   "metadata": {},
   "source": [
    "_______"
   ]
  }
 ],
 "metadata": {
  "kernelspec": {
   "display_name": "Python 3 (ipykernel)",
   "language": "python",
   "name": "python3"
  },
  "language_info": {
   "codemirror_mode": {
    "name": "ipython",
    "version": 3
   },
   "file_extension": ".py",
   "mimetype": "text/x-python",
   "name": "python",
   "nbconvert_exporter": "python",
   "pygments_lexer": "ipython3",
   "version": "3.9.12"
  }
 },
 "nbformat": 4,
 "nbformat_minor": 4
}
