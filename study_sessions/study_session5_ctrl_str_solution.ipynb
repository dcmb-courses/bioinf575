{
 "cells": [
  {
   "cell_type": "markdown",
   "metadata": {},
   "source": [
    "## Study session 5 - Data types and control structures\n",
    "### BIOINF 575 - Fall 2021"
   ]
  },
  {
   "cell_type": "markdown",
   "metadata": {},
   "source": [
    "#### DATATYPES RECAP\n",
    "\n",
    "```\n",
    " STRINGS:      \"\" or    '' or   \"\"\"\"\"\" or   ''''''\n",
    " LISTS:        []\n",
    " TUPLES:       ()\n",
    " DICTIONARIES: {}, the item structure is  key:value\n",
    " SETS:         {}, the item structure is value\n",
    "```\n",
    "\n"
   ]
  },
  {
   "cell_type": "markdown",
   "metadata": {},
   "source": [
    "```python\n",
    "if [not] <condition>:\n",
    "    <statements>\n",
    "elif <condition>:\n",
    "    <statements>\n",
    "else:\n",
    "    <statements>\n",
    "```\n",
    "\n",
    "Allows us to execute code selectivelly."
   ]
  },
  {
   "cell_type": "markdown",
   "metadata": {},
   "source": [
    "```python\n",
    "for var in sequence:\n",
    "    statements\n",
    "```\n",
    "\n",
    "A variable, var, is used to go through each element of the iterable we go through.     \n",
    "Iterable:  An object capable of returning its members one at a time.    \n",
    "https://docs.python.org/3/glossary.html    \n",
    "https://docs.python.org/3/library/collections.abc.html?highlight=iterable#collections.abc.Iterable\n"
   ]
  },
  {
   "cell_type": "markdown",
   "metadata": {
    "jp-MarkdownHeadingCollapsed": true,
    "tags": []
   },
   "source": [
    "___\n",
    "<b><font color = \"red\">Exercise</font> <br></b>\n",
    "\n",
    "\"Proteins are the end products of the decoding process that starts with the information in cellular DNA. As workhorses of the cell, proteins compose structural and motor elements in the cell, and they serve as the catalysts for virtually every biochemical reaction that occurs in living things. This incredible array of functions derives from a startlingly simple code that specifies a hugely diverse set of structures.\"\n",
    "\n",
    "\"The building blocks of proteins are amino acids, which are small organic molecules that consist of an alpha (central) carbon atom linked to an amino group, a carboxyl group, a hydrogen atom, and a variable component called a side chain (see below). Within a protein, multiple amino acids are linked together by peptide bonds, thereby forming a long chain.\"\n",
    "\n",
    "\"Proteins are built from a set of only twenty amino acids, each of which has a unique side chain.\"\n",
    "\n",
    "https://www.nature.com/scitable/topicpage/protein-structure-14122136/\n",
    "\n",
    "<img src = \"https://cdn.pixabay.com/photo/2013/07/12/17/38/dna-152136_1280.png\" width = 420><img src = \"https://media.snl.no/media/149515/standard_DNA-RNA-protein__1_.png\" width = 500>\n",
    "\n",
    "\n",
    "https://cdn.pixabay.com/photo/2013/07/12/17/38/dna-152136_1280.png &nbsp;&nbsp;&nbsp;&nbsp;&nbsp;     https://media.snl.no/media/149515/standard_DNA-RNA-protein__1_.png\n",
    "\n",
    "\n",
    "https://ocw.mit.edu/courses/biology/7-01sc-fundamentals-of-biology-fall-2011/molecular-biology/\n",
    "https://ocw.mit.edu/courses/health-sciences-and-technology/hst-161-molecular-biology-and-genetics-in-modern-medicine-fall-2007/lecture-notes/\n",
    "\n",
    "\n",
    "\n",
    "The following string contains the information that allows us to translate DNA code into a sequence of amino acids.\n",
    "\n",
    "```python\n",
    "code = \"'ATA':'I', 'ATC':'I', 'ATT':'I', 'ATG':'M',\\\n",
    "    'ACA':'T', 'ACC':'T', 'ACG':'T', 'ACT':'T',\\\n",
    "    'AAC':'N', 'AAT':'N', 'AAA':'K', 'AAG':'K',\\\n",
    "    'AGC':'S', 'AGT':'S', 'AGA':'R', 'AGG':'R',\\\n",
    "    'CTA':'L', 'CTC':'L', 'CTG':'L', 'CTT':'L',\\\n",
    "    'CCA':'P', 'CCC':'P', 'CCG':'P', 'CCT':'P',\\\n",
    "    'CAC':'H', 'CAT':'H', 'CAA':'Q', 'CAG':'Q',\\\n",
    "    'CGA':'R', 'CGC':'R', 'CGG':'R', 'CGT':'R',\\\n",
    "    'GTA':'V', 'GTC':'V', 'GTG':'V', 'GTT':'V',\\\n",
    "    'GCA':'A', 'GCC':'A', 'GCG':'A', 'GCT':'A',\\\n",
    "    'GAC':'D', 'GAT':'D', 'GAA':'E', 'GAG':'E',\\\n",
    "    'GGA':'G', 'GGC':'G', 'GGG':'G', 'GGT':'G',\\\n",
    "    'TCA':'S', 'TCC':'S', 'TCG':'S', 'TCT':'S',\\\n",
    "    'TTC':'F', 'TTT':'F', 'TTA':'L', 'TTG':'L',\\\n",
    "    'TAC':'Y', 'TAT':'Y', 'TAA':'_', 'TAG':'_',\\\n",
    "    'TGC':'C', 'TGT':'C', 'TGA':'_', 'TGG':'W'\"\n",
    "\n",
    "\n",
    "\n",
    "```\n",
    "\n",
    "The following string contains multiple DNA sequences:\n",
    "\n",
    "```python\n",
    "DNA_sequence = \"GCCGCGCGT AGGATGCCTCCGCAA CCCCAGCGTGCT AAA AAACTA CGCGCGTAGGATGCCTCCGCAACCCCAGCGTGT\"\n",
    "```\n",
    "\n",
    "- Use the mapping provided in the first string to translate the sequences in the second string and create a string of amino acids.\n",
    "\n"
   ]
  },
  {
   "cell_type": "code",
   "execution_count": 1,
   "metadata": {},
   "outputs": [],
   "source": [
    "# What we want to do is use the information in the two strings we have \n",
    "# and translate the DNA sequence is a peptide sequence:\n",
    "\n",
    "# \"GCCGCGCGT AGGATGCCTCCGCAA ...\" becomes \"AAR RMPPQ ...\"\n",
    "\n",
    "\n"
   ]
  },
  {
   "cell_type": "code",
   "execution_count": 2,
   "metadata": {},
   "outputs": [
    {
     "data": {
      "text/plain": [
       "\"'ATA':'I', 'ATC':'I', 'ATT':'I', 'ATG':'M',    'ACA':'T', 'ACC':'T', 'ACG':'T', 'ACT':'T',    'AAC':'N', 'AAT':'N', 'AAA':'K', 'AAG':'K',    'AGC':'S', 'AGT':'S', 'AGA':'R', 'AGG':'R',    'CTA':'L', 'CTC':'L', 'CTG':'L', 'CTT':'L',    'CCA':'P', 'CCC':'P', 'CCG':'P', 'CCT':'P',    'CAC':'H', 'CAT':'H', 'CAA':'Q', 'CAG':'Q',    'CGA':'R', 'CGC':'R', 'CGG':'R', 'CGT':'R',    'GTA':'V', 'GTC':'V', 'GTG':'V', 'GTT':'V',    'GCA':'A', 'GCC':'A', 'GCG':'A', 'GCT':'A',    'GAC':'D', 'GAT':'D', 'GAA':'E', 'GAG':'E',    'GGA':'G', 'GGC':'G', 'GGG':'G', 'GGT':'G',    'TCA':'S', 'TCC':'S', 'TCG':'S', 'TCT':'S',    'TTC':'F', 'TTT':'F', 'TTA':'L', 'TTG':'L',    'TAC':'Y', 'TAT':'Y', 'TAA':'_', 'TAG':'_',    'TGC':'C', 'TGT':'C', 'TGA':'_', 'TGG':'W'\""
      ]
     },
     "execution_count": 2,
     "metadata": {},
     "output_type": "execute_result"
    }
   ],
   "source": [
    "# this is a dictionary representation but in a string\n",
    "\n",
    "code = \"'ATA':'I', 'ATC':'I', 'ATT':'I', 'ATG':'M',\\\n",
    "    'ACA':'T', 'ACC':'T', 'ACG':'T', 'ACT':'T',\\\n",
    "    'AAC':'N', 'AAT':'N', 'AAA':'K', 'AAG':'K',\\\n",
    "    'AGC':'S', 'AGT':'S', 'AGA':'R', 'AGG':'R',\\\n",
    "    'CTA':'L', 'CTC':'L', 'CTG':'L', 'CTT':'L',\\\n",
    "    'CCA':'P', 'CCC':'P', 'CCG':'P', 'CCT':'P',\\\n",
    "    'CAC':'H', 'CAT':'H', 'CAA':'Q', 'CAG':'Q',\\\n",
    "    'CGA':'R', 'CGC':'R', 'CGG':'R', 'CGT':'R',\\\n",
    "    'GTA':'V', 'GTC':'V', 'GTG':'V', 'GTT':'V',\\\n",
    "    'GCA':'A', 'GCC':'A', 'GCG':'A', 'GCT':'A',\\\n",
    "    'GAC':'D', 'GAT':'D', 'GAA':'E', 'GAG':'E',\\\n",
    "    'GGA':'G', 'GGC':'G', 'GGG':'G', 'GGT':'G',\\\n",
    "    'TCA':'S', 'TCC':'S', 'TCG':'S', 'TCT':'S',\\\n",
    "    'TTC':'F', 'TTT':'F', 'TTA':'L', 'TTG':'L',\\\n",
    "    'TAC':'Y', 'TAT':'Y', 'TAA':'_', 'TAG':'_',\\\n",
    "    'TGC':'C', 'TGT':'C', 'TGA':'_', 'TGG':'W'\"\n",
    "\n",
    "code"
   ]
  },
  {
   "cell_type": "code",
   "execution_count": 3,
   "metadata": {},
   "outputs": [
    {
     "data": {
      "text/plain": [
       "{'ATA': 'I',\n",
       " 'ATC': 'I',\n",
       " 'ATT': 'I',\n",
       " 'ATG': 'M',\n",
       " 'ACA': 'T',\n",
       " 'ACC': 'T',\n",
       " 'ACG': 'T',\n",
       " 'ACT': 'T',\n",
       " 'AAC': 'N',\n",
       " 'AAT': 'N',\n",
       " 'AAA': 'K',\n",
       " 'AAG': 'K',\n",
       " 'AGC': 'S',\n",
       " 'AGT': 'S',\n",
       " 'AGA': 'R',\n",
       " 'AGG': 'R',\n",
       " 'CTA': 'L',\n",
       " 'CTC': 'L',\n",
       " 'CTG': 'L',\n",
       " 'CTT': 'L',\n",
       " 'CCA': 'P',\n",
       " 'CCC': 'P',\n",
       " 'CCG': 'P',\n",
       " 'CCT': 'P',\n",
       " 'CAC': 'H',\n",
       " 'CAT': 'H',\n",
       " 'CAA': 'Q',\n",
       " 'CAG': 'Q',\n",
       " 'CGA': 'R',\n",
       " 'CGC': 'R',\n",
       " 'CGG': 'R',\n",
       " 'CGT': 'R',\n",
       " 'GTA': 'V',\n",
       " 'GTC': 'V',\n",
       " 'GTG': 'V',\n",
       " 'GTT': 'V',\n",
       " 'GCA': 'A',\n",
       " 'GCC': 'A',\n",
       " 'GCG': 'A',\n",
       " 'GCT': 'A',\n",
       " 'GAC': 'D',\n",
       " 'GAT': 'D',\n",
       " 'GAA': 'E',\n",
       " 'GAG': 'E',\n",
       " 'GGA': 'G',\n",
       " 'GGC': 'G',\n",
       " 'GGG': 'G',\n",
       " 'GGT': 'G',\n",
       " 'TCA': 'S',\n",
       " 'TCC': 'S',\n",
       " 'TCG': 'S',\n",
       " 'TCT': 'S',\n",
       " 'TTC': 'F',\n",
       " 'TTT': 'F',\n",
       " 'TTA': 'L',\n",
       " 'TTG': 'L',\n",
       " 'TAC': 'Y',\n",
       " 'TAT': 'Y',\n",
       " 'TAA': '_',\n",
       " 'TAG': '_',\n",
       " 'TGC': 'C',\n",
       " 'TGT': 'C',\n",
       " 'TGA': '_',\n",
       " 'TGG': 'W'}"
      ]
     },
     "execution_count": 3,
     "metadata": {},
     "output_type": "execute_result"
    }
   ],
   "source": [
    "# To make it a dictionary, we have to remove extra characters such as quotes and spaces \n",
    "# so we can break the string into dictionary items once they are like this: 'ATA:I,ATC:I'.\n",
    "# The replace function allows us to remove substrings.\n",
    "# We then split the string into items by the comma delimiter, using the split function.\n",
    "# We the go through the resulting list of items that are sting containing the pair key-value.\n",
    "# In the for loop we split each item by \":\" and unpack the resulting list into the key and value variables.\n",
    "# We then add the pair to the dictionary using dictionary indexing by key and assigning the value to it.\n",
    "\n",
    "items_list = code.replace(\"'\", \"\").replace(\" \", \"\").split(\",\")\n",
    "code_mapping = {}\n",
    "for item in items_list:\n",
    "    key, value = item.split(\":\")\n",
    "    code_mapping[key] = value\n",
    "\n",
    "code_mapping"
   ]
  },
  {
   "cell_type": "code",
   "execution_count": null,
   "metadata": {},
   "outputs": [],
   "source": []
  },
  {
   "cell_type": "code",
   "execution_count": null,
   "metadata": {},
   "outputs": [],
   "source": []
  },
  {
   "cell_type": "code",
   "execution_count": 4,
   "metadata": {},
   "outputs": [
    {
     "data": {
      "text/plain": [
       "'GCCGCGCGT AGGATGCCTCCGCAA CCCCAGCGTGCT AAA AAACTA CGCGCGTAGGATGCCTCCGCAACCCCAGCGTGT'"
      ]
     },
     "execution_count": 4,
     "metadata": {},
     "output_type": "execute_result"
    }
   ],
   "source": [
    "# the sequence provided for this exercise\n",
    "\n",
    "DNA_sequence = \"GCCGCGCGT AGGATGCCTCCGCAA CCCCAGCGTGCT AAA AAACTA CGCGCGTAGGATGCCTCCGCAACCCCAGCGTGT\"\n",
    "DNA_sequence"
   ]
  },
  {
   "cell_type": "code",
   "execution_count": 5,
   "metadata": {},
   "outputs": [],
   "source": [
    "# we split the string by space to get the individual sequences in a list\n",
    "# then we go through the list and foe each sequence go through it 3 characters at a time.\n",
    "# We use the range function with a step of 3.\n",
    "# We collect each amino acids computed for a codon (3-nucleotide sequence) in a list.\n",
    "# The list is a mutable type optimized to process modifications, so for that reason \n",
    "# we use a list and not a string or tuple.\n",
    "# We add a space, \" \", to our list after we process a sequence to be able to create peptides \n",
    "# from the individual sequences in DNA_sequence\n",
    "# Once we have out list of amino acids we put it together in a string using the join str method.\n",
    "# We translate a codon into an amino acid using the dictionary where the codon is the key and \n",
    "# it is used to retrieve the corresponding amino acid using the get function rahter than indezing \n",
    "# to not raise an error if the key is not found.\n",
    "\n",
    "amino_acids = []\n",
    "for seq in DNA_sequence.split():\n",
    "    n = len(seq)\n",
    "    for i in range(0,n,3):\n",
    "        amino_acids.append(code_mapping.get(seq[i:i+3], \"\"))\n",
    "    amino_acids.append(\" \")\n",
    "translated_DNA = \"\".join(amino_acids).strip() # we add an extra space at the end and we can use strip to remove it"
   ]
  },
  {
   "cell_type": "code",
   "execution_count": 6,
   "metadata": {},
   "outputs": [
    {
     "data": {
      "text/plain": [
       "'AAR RMPPQ PQRA K KL RA_DASATPAC'"
      ]
     },
     "execution_count": 6,
     "metadata": {},
     "output_type": "execute_result"
    }
   ],
   "source": [
    "translated_DNA"
   ]
  },
  {
   "cell_type": "code",
   "execution_count": null,
   "metadata": {},
   "outputs": [],
   "source": []
  },
  {
   "cell_type": "code",
   "execution_count": null,
   "metadata": {},
   "outputs": [],
   "source": []
  },
  {
   "cell_type": "code",
   "execution_count": null,
   "metadata": {},
   "outputs": [],
   "source": []
  },
  {
   "cell_type": "markdown",
   "metadata": {},
   "source": [
    "_____\n",
    "\n",
    "<b><font color = \"red\">Exercise</font> <br></b>\n",
    "\n",
    "- Take the last peptide from the amino acids string created at the previous exercise and create a set of all 2 amino acids sequences from the peptide\n",
    "- Add the following 2 sequences to your set {\"MN\", \"AL\"}"
   ]
  },
  {
   "cell_type": "code",
   "execution_count": 7,
   "metadata": {},
   "outputs": [
    {
     "data": {
      "text/plain": [
       "'AAR RMPPQ PQRA K KL RA_DASATPAC'"
      ]
     },
     "execution_count": 7,
     "metadata": {},
     "output_type": "execute_result"
    }
   ],
   "source": [
    "translated_DNA"
   ]
  },
  {
   "cell_type": "code",
   "execution_count": 8,
   "metadata": {},
   "outputs": [
    {
     "data": {
      "text/plain": [
       "'RA_DASATPAC'"
      ]
     },
     "execution_count": 8,
     "metadata": {},
     "output_type": "execute_result"
    }
   ],
   "source": [
    "# We split the stirng by space and take the last item in the list\n",
    "\n",
    "peptide = translated_DNA.split(\" \")[-1]\n",
    "peptide"
   ]
  },
  {
   "cell_type": "code",
   "execution_count": 9,
   "metadata": {},
   "outputs": [
    {
     "data": {
      "text/plain": [
       "'RA_DASATPAC'"
      ]
     },
     "execution_count": 9,
     "metadata": {},
     "output_type": "execute_result"
    }
   ],
   "source": [
    "# the same result can be. obtained by searching for the last index of space in the peptide and then using the position to subset\n",
    "\n",
    "peptide = translated_DNA[translated_DNA.rindex(\" \")+1:]\n",
    "peptide"
   ]
  },
  {
   "cell_type": "code",
   "execution_count": 10,
   "metadata": {},
   "outputs": [
    {
     "data": {
      "text/plain": [
       "{'AC', 'AS', 'AT', 'A_', 'C', 'DA', 'PA', 'RA', 'SA', 'TP', '_D'}"
      ]
     },
     "execution_count": 10,
     "metadata": {},
     "output_type": "execute_result"
    }
   ],
   "source": [
    "# go through the peptide and take every substring of size 2 using indexing\n",
    "\n",
    "test_set = set()\n",
    "n = len(peptide)\n",
    "for i in range(n):\n",
    "    test_set.add(peptide[i: i + 2])\n",
    "    \n",
    "test_set"
   ]
  },
  {
   "cell_type": "code",
   "execution_count": 11,
   "metadata": {},
   "outputs": [],
   "source": [
    "test_set.update({\"MN\", \"AL\"})"
   ]
  },
  {
   "cell_type": "code",
   "execution_count": 12,
   "metadata": {},
   "outputs": [
    {
     "data": {
      "text/plain": [
       "{'AC', 'AL', 'AS', 'AT', 'A_', 'C', 'DA', 'MN', 'PA', 'RA', 'SA', 'TP', '_D'}"
      ]
     },
     "execution_count": 12,
     "metadata": {},
     "output_type": "execute_result"
    }
   ],
   "source": [
    "test_set"
   ]
  },
  {
   "cell_type": "code",
   "execution_count": null,
   "metadata": {},
   "outputs": [],
   "source": []
  },
  {
   "cell_type": "code",
   "execution_count": 13,
   "metadata": {},
   "outputs": [
    {
     "data": {
      "text/plain": [
       "{'A', 'C', 'D', 'P', 'S', 'T'}"
      ]
     },
     "execution_count": 13,
     "metadata": {},
     "output_type": "execute_result"
    }
   ],
   "source": [
    "set(\"DASATPAC\")"
   ]
  },
  {
   "cell_type": "code",
   "execution_count": null,
   "metadata": {},
   "outputs": [],
   "source": []
  },
  {
   "cell_type": "markdown",
   "metadata": {},
   "source": [
    "___\n",
    "<b><font color = \"red\">Exercise</font> <br><br></b>\n",
    "\n",
    "Explain the following code:\n",
    "\n",
    "```python\n",
    "amino_acid_code = { \n",
    "    \"P\": (\"CCA\", \"CCC\", \"CCT\", \"CCG\"),\n",
    "    \"Q\": (\"CAA\", \"CAG\"),\n",
    "    \"M\": (\"ATG\",)\n",
    "}\n",
    "\n",
    "\n",
    "x = set()\n",
    "for value in amino_acid_code.values():\n",
    "    for codon in value:\n",
    "        if \"U\" in codon:\n",
    "            codon = codon.replace(\"U\",\"T\")\n",
    "            x.add(codon[:2])\n",
    "print(x)\n",
    "\n",
    "\n",
    "```\n"
   ]
  },
  {
   "cell_type": "code",
   "execution_count": 14,
   "metadata": {},
   "outputs": [],
   "source": [
    "#___________________________\n",
    "# I am explaining gthe code in comments in each cell\n"
   ]
  },
  {
   "cell_type": "code",
   "execution_count": 15,
   "metadata": {},
   "outputs": [],
   "source": [
    "# set amino_acids_code to a dictionary with the key being the one letter \n",
    "# abbreviation for the amino acids and the value is a tuple of codons.\n",
    "\n",
    "amino_acid_code = { \n",
    "    \"P\": (\"CCA\", \"CCC\", \"CCT\", \"CCG\"),\n",
    "    \"Q\": (\"CAA\", \"CAG\"),\n",
    "    \"M\": (\"ATG\",)\n",
    "}\n",
    "\n",
    "\n"
   ]
  },
  {
   "cell_type": "code",
   "execution_count": 16,
   "metadata": {},
   "outputs": [
    {
     "data": {
      "text/plain": [
       "{'P': ('CCA', 'CCC', 'CCT', 'CCG'), 'Q': ('CAA', 'CAG'), 'M': ('ATG',)}"
      ]
     },
     "execution_count": 16,
     "metadata": {},
     "output_type": "execute_result"
    }
   ],
   "source": [
    "amino_acid_code"
   ]
  },
  {
   "cell_type": "code",
   "execution_count": 17,
   "metadata": {},
   "outputs": [],
   "source": [
    "# set the variable x to an ampty set\n",
    "\n",
    "x = set()\n"
   ]
  },
  {
   "cell_type": "code",
   "execution_count": 18,
   "metadata": {},
   "outputs": [
    {
     "data": {
      "text/plain": [
       "set()"
      ]
     },
     "execution_count": 18,
     "metadata": {},
     "output_type": "execute_result"
    }
   ],
   "source": [
    "x"
   ]
  },
  {
   "cell_type": "code",
   "execution_count": 19,
   "metadata": {},
   "outputs": [
    {
     "data": {
      "text/plain": [
       "dict_values([('CCA', 'CCC', 'CCT', 'CCG'), ('CAA', 'CAG'), ('ATG',)])"
      ]
     },
     "execution_count": 19,
     "metadata": {},
     "output_type": "execute_result"
    }
   ],
   "source": [
    "## returns a list of the dictionary values \n",
    "\n",
    "amino_acid_code.values()"
   ]
  },
  {
   "cell_type": "code",
   "execution_count": 20,
   "metadata": {},
   "outputs": [
    {
     "name": "stdout",
     "output_type": "stream",
     "text": [
      "('CCA', 'CCC', 'CCT', 'CCG')\n",
      "CCA\n",
      "CCC\n",
      "CCT\n",
      "CCG\n",
      "('CAA', 'CAG')\n",
      "CAA\n",
      "CAG\n",
      "('ATG',)\n",
      "ATG\n"
     ]
    }
   ],
   "source": [
    "# we go to each value in dictionary, which are tuples \n",
    "# then we go through each of the elements in the tuple\n",
    "# these elements are strings of three nucleotides = codons\n",
    "\n",
    "for value in amino_acid_code.values():\n",
    "    print(value)\n",
    "    for codon in value:\n",
    "        print(codon)\n",
    "        \n",
    "        "
   ]
  },
  {
   "cell_type": "code",
   "execution_count": 21,
   "metadata": {},
   "outputs": [
    {
     "name": "stdout",
     "output_type": "stream",
     "text": [
      "ACT\n"
     ]
    }
   ],
   "source": [
    "### check in \"U\", uracil is in codon\n",
    "### if it is then replace U with T in the codon\n",
    "\n",
    "codon = \"ACU\"\n",
    "if \"U\" in codon:\n",
    "        codon = codon.replace(\"U\",\"T\")\n",
    "        print(codon)"
   ]
  },
  {
   "cell_type": "code",
   "execution_count": 22,
   "metadata": {},
   "outputs": [
    {
     "name": "stdout",
     "output_type": "stream",
     "text": [
      "set()\n"
     ]
    }
   ],
   "source": [
    "# if U is in codon then add to the set x the string formed by the firast two letters \n",
    "\n",
    "# So x will contain the string formed by the first two nucleotides in the codons that contain U\n",
    "# Lastly, we print x\n",
    "\n",
    "# There is nothing added to the set because none of the codons contains U\n",
    "\n",
    "x = set()\n",
    "for value in amino_acid_code.values():\n",
    "    for codon in value:\n",
    "        if \"U\" in codon:\n",
    "            codon = codon.replace(\"U\",\"T\")\n",
    "            x.add(codon[:2])\n",
    "print(x)\n",
    "\n"
   ]
  },
  {
   "cell_type": "code",
   "execution_count": null,
   "metadata": {},
   "outputs": [],
   "source": []
  },
  {
   "cell_type": "code",
   "execution_count": 23,
   "metadata": {},
   "outputs": [
    {
     "name": "stdout",
     "output_type": "stream",
     "text": [
      "{'CC', 'AU'}\n"
     ]
    }
   ],
   "source": [
    "# We can switch checking for T and replacing it with U if found\n",
    "\n",
    "xx = set()\n",
    "for value in amino_acid_code.values():\n",
    "    for codon in value:\n",
    "        if \"T\" in codon:\n",
    "            codon = codon.replace(\"T\",\"U\")\n",
    "            xx.add(codon[:2])\n",
    "print(xx)"
   ]
  },
  {
   "cell_type": "code",
   "execution_count": 24,
   "metadata": {},
   "outputs": [],
   "source": [
    "#==============================================="
   ]
  },
  {
   "cell_type": "code",
   "execution_count": null,
   "metadata": {},
   "outputs": [],
   "source": []
  },
  {
   "cell_type": "code",
   "execution_count": null,
   "metadata": {},
   "outputs": [],
   "source": []
  },
  {
   "cell_type": "code",
   "execution_count": null,
   "metadata": {},
   "outputs": [],
   "source": []
  },
  {
   "cell_type": "code",
   "execution_count": 25,
   "metadata": {},
   "outputs": [],
   "source": [
    "amino_acid_code = { \n",
    "    \"P\": (\"CCA\", \"CCC\", \"CCT\", \"CCG\"),\n",
    "    \"Q\": (\"CAA\", \"CAG\"),\n",
    "    \"M\": (\"ATG\",)\n",
    "}"
   ]
  },
  {
   "cell_type": "code",
   "execution_count": 26,
   "metadata": {},
   "outputs": [
    {
     "name": "stdout",
     "output_type": "stream",
     "text": [
      "('P', ('CCA', 'CCC', 'CCT', 'CCG'))\n",
      "('Q', ('CAA', 'CAG'))\n",
      "('M', ('ATG',))\n"
     ]
    }
   ],
   "source": [
    "# extra exmaple of for loop with the dictionary items\n",
    "# each item is a tuple of 2\n",
    "\n",
    "for item in amino_acid_code.items():\n",
    "    print(item)\n"
   ]
  },
  {
   "cell_type": "code",
   "execution_count": 27,
   "metadata": {},
   "outputs": [
    {
     "name": "stdout",
     "output_type": "stream",
     "text": [
      "P ('CCA', 'CCC', 'CCT', 'CCG')\n",
      "Q ('CAA', 'CAG')\n",
      "M ('ATG',)\n"
     ]
    }
   ],
   "source": [
    "# unpack the tuple of 2 in key and value\n",
    "\n",
    "for key,value in amino_acid_code.items():\n",
    "    print(key, value)\n"
   ]
  },
  {
   "cell_type": "markdown",
   "metadata": {},
   "source": [
    "_______"
   ]
  }
 ],
 "metadata": {
  "kernelspec": {
   "display_name": "Python 3 (ipykernel)",
   "language": "python",
   "name": "python3"
  },
  "language_info": {
   "codemirror_mode": {
    "name": "ipython",
    "version": 3
   },
   "file_extension": ".py",
   "mimetype": "text/x-python",
   "name": "python",
   "nbconvert_exporter": "python",
   "pygments_lexer": "ipython3",
   "version": "3.8.10"
  }
 },
 "nbformat": 4,
 "nbformat_minor": 4
}
