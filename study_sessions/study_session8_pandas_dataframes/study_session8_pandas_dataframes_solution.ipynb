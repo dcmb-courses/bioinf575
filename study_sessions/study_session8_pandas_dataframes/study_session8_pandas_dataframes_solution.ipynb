{
 "cells": [
  {
   "cell_type": "markdown",
   "metadata": {},
   "source": [
    "### Study session 8 - pandas DataFrames \n",
    "#### Explore object  attributes and methods\n",
    "#### BIOINF 575 - Fall 2021\n",
    "\n",
    "#### SOLUTION"
   ]
  },
  {
   "cell_type": "markdown",
   "metadata": {},
   "source": [
    "##### RECAP"
   ]
  },
  {
   "cell_type": "markdown",
   "metadata": {},
   "source": [
    "<img src = \"https://media.geeksforgeeks.org/wp-content/uploads/finallpandas.png\" width = 550/>\n",
    "\n",
    "https://www.geeksforgeeks.org/python-pandas-dataframe/"
   ]
  },
  {
   "cell_type": "markdown",
   "metadata": {},
   "source": [
    "#### How does pandas work?"
   ]
  },
  {
   "cell_type": "markdown",
   "metadata": {},
   "source": [
    "Pandas is built off of [Numpy](http://www.numpy.org/), and therefore leverages Numpy's C-level speed for its data analysis."
   ]
  },
  {
   "cell_type": "markdown",
   "metadata": {},
   "source": [
    "* Numpy can only make data structures of a single type.\n",
    "* Pandas can use many types. \n",
    "* Think of a table, where each column can be whatever type you want it to be, so long as every item in the column is that same type."
   ]
  },
  {
   "cell_type": "markdown",
   "metadata": {},
   "source": [
    "#### `pd.DataFrame`"
   ]
  },
  {
   "cell_type": "markdown",
   "metadata": {},
   "source": [
    "**Multi-dimensional** labeled data structure with columns of *potentially* different types"
   ]
  },
  {
   "cell_type": "markdown",
   "metadata": {},
   "source": [
    "```python\n",
    "# Initialization Syntax\n",
    "df = pd.DataFrame(data, index, columns, dtype)\n",
    "```"
   ]
  },
  {
   "cell_type": "markdown",
   "metadata": {},
   "source": [
    "* **`data`** : what is going inside the DataFrame (numpy ndarray (structured or homogeneous), dict, or DataFrame)\n",
    "* **`index`** : row identifiers (doesn't have to be unique--think foreign key. Defaults to row number)\n",
    "* **`columns`** : column identifiers\n",
    "* **`dtype`** : numpy/python based data types"
   ]
  },
  {
   "cell_type": "markdown",
   "metadata": {},
   "source": [
    "Attributes\n",
    "\n",
    "['T',\n",
    " 'at',\n",
    " 'axes',\n",
    " 'columns',\n",
    " 'dtypes',\n",
    " 'empty',\n",
    " 'ftypes',\n",
    " 'iat',\n",
    " 'iloc',\n",
    " 'index',\n",
    " 'ix',\n",
    " 'loc',\n",
    " 'ndim',\n",
    " 'plot',\n",
    " 'shape',\n",
    " 'size',\n",
    " 'style',\n",
    " 'timetuple',\n",
    " 'values']"
   ]
  },
  {
   "cell_type": "markdown",
   "metadata": {},
   "source": [
    "_____\n",
    "\n",
    "<b><font color = \"red\">Exercise</font> <br></b>\n",
    "\n",
    "Read the data from the file `expression_data.txt` into a pandas data frame, the data file has comment lines that start with \"#\".\n",
    "The group labels are as follows:\n",
    "```python\n",
    "    group = [\"disease\", \"healthy\", \"disease\", \"disease\", \"healthy\",\n",
    "             \"healthy\", \"healthy\", \"disease\", \"disease\", \"disease\"]\n",
    "```\n",
    "  \n",
    "\n",
    "Select the genes that have a p-value < 10% on a t-test between the expression in disease and the expression in healthy.  \n",
    "The t-test is implemented in the scipy library in the stats module (you can use `from scipy import stats`).   \n",
    "https://docs.scipy.org/doc/scipy/reference/generated/scipy.stats.ttest_ind.html    \n",
    "Keep in mind these are multiple statistical test we are doing so we should correct for multiple comparisons before intepreting/ reading too much into the results.    \n",
    "https://www.statsmodels.org/dev/generated/statsmodels.stats.multitest.multipletests.html   \n"
   ]
  },
  {
   "cell_type": "code",
   "execution_count": 1,
   "metadata": {},
   "outputs": [],
   "source": [
    "# Write your solution here\n"
   ]
  },
  {
   "cell_type": "code",
   "execution_count": 2,
   "metadata": {
    "tags": []
   },
   "outputs": [],
   "source": [
    "# import the numpy and pandas libraries to have access to the functionality that it provides\n",
    "# also import the stats module from the scipy package, we could also use: import scipy.stats\n",
    "\n",
    "import numpy as np\n",
    "import pandas as pd\n",
    "from scipy import stats #or  import scipy.stats"
   ]
  },
  {
   "cell_type": "code",
   "execution_count": 3,
   "metadata": {},
   "outputs": [
    {
     "data": {
      "text/html": [
       "<div>\n",
       "<style scoped>\n",
       "    .dataframe tbody tr th:only-of-type {\n",
       "        vertical-align: middle;\n",
       "    }\n",
       "\n",
       "    .dataframe tbody tr th {\n",
       "        vertical-align: top;\n",
       "    }\n",
       "\n",
       "    .dataframe thead th {\n",
       "        text-align: right;\n",
       "    }\n",
       "</style>\n",
       "<table border=\"1\" class=\"dataframe\">\n",
       "  <thead>\n",
       "    <tr style=\"text-align: right;\">\n",
       "      <th></th>\n",
       "      <th>Sample1</th>\n",
       "      <th>Sample2</th>\n",
       "      <th>Sample3</th>\n",
       "      <th>Sample4</th>\n",
       "      <th>Sample5</th>\n",
       "      <th>Sample6</th>\n",
       "      <th>Sample7</th>\n",
       "      <th>Sample8</th>\n",
       "      <th>Sample9</th>\n",
       "      <th>Sample10</th>\n",
       "    </tr>\n",
       "  </thead>\n",
       "  <tbody>\n",
       "    <tr>\n",
       "      <th>Gene1</th>\n",
       "      <td>76.85</td>\n",
       "      <td>29.53</td>\n",
       "      <td>7.57</td>\n",
       "      <td>92.21</td>\n",
       "      <td>41.48</td>\n",
       "      <td>7.67</td>\n",
       "      <td>60.84</td>\n",
       "      <td>75.98</td>\n",
       "      <td>66.33</td>\n",
       "      <td>84.45</td>\n",
       "    </tr>\n",
       "    <tr>\n",
       "      <th>Gene2</th>\n",
       "      <td>39.45</td>\n",
       "      <td>85.04</td>\n",
       "      <td>77.22</td>\n",
       "      <td>93.47</td>\n",
       "      <td>39.17</td>\n",
       "      <td>98.00</td>\n",
       "      <td>40.12</td>\n",
       "      <td>63.34</td>\n",
       "      <td>70.06</td>\n",
       "      <td>68.69</td>\n",
       "    </tr>\n",
       "    <tr>\n",
       "      <th>Gene3</th>\n",
       "      <td>47.17</td>\n",
       "      <td>44.99</td>\n",
       "      <td>8.43</td>\n",
       "      <td>48.17</td>\n",
       "      <td>57.99</td>\n",
       "      <td>42.98</td>\n",
       "      <td>39.36</td>\n",
       "      <td>0.91</td>\n",
       "      <td>10.89</td>\n",
       "      <td>1.53</td>\n",
       "    </tr>\n",
       "    <tr>\n",
       "      <th>Gene4</th>\n",
       "      <td>0.60</td>\n",
       "      <td>29.85</td>\n",
       "      <td>93.68</td>\n",
       "      <td>99.83</td>\n",
       "      <td>59.33</td>\n",
       "      <td>66.58</td>\n",
       "      <td>97.36</td>\n",
       "      <td>61.73</td>\n",
       "      <td>38.13</td>\n",
       "      <td>84.76</td>\n",
       "    </tr>\n",
       "    <tr>\n",
       "      <th>Gene5</th>\n",
       "      <td>75.00</td>\n",
       "      <td>25.52</td>\n",
       "      <td>18.22</td>\n",
       "      <td>72.14</td>\n",
       "      <td>59.03</td>\n",
       "      <td>40.48</td>\n",
       "      <td>77.92</td>\n",
       "      <td>71.82</td>\n",
       "      <td>89.36</td>\n",
       "      <td>61.75</td>\n",
       "    </tr>\n",
       "    <tr>\n",
       "      <th>...</th>\n",
       "      <td>...</td>\n",
       "      <td>...</td>\n",
       "      <td>...</td>\n",
       "      <td>...</td>\n",
       "      <td>...</td>\n",
       "      <td>...</td>\n",
       "      <td>...</td>\n",
       "      <td>...</td>\n",
       "      <td>...</td>\n",
       "      <td>...</td>\n",
       "    </tr>\n",
       "    <tr>\n",
       "      <th>Gene96</th>\n",
       "      <td>58.32</td>\n",
       "      <td>88.38</td>\n",
       "      <td>10.11</td>\n",
       "      <td>96.15</td>\n",
       "      <td>32.61</td>\n",
       "      <td>73.66</td>\n",
       "      <td>30.21</td>\n",
       "      <td>90.02</td>\n",
       "      <td>95.41</td>\n",
       "      <td>13.99</td>\n",
       "    </tr>\n",
       "    <tr>\n",
       "      <th>Gene97</th>\n",
       "      <td>23.25</td>\n",
       "      <td>77.78</td>\n",
       "      <td>89.51</td>\n",
       "      <td>53.73</td>\n",
       "      <td>21.62</td>\n",
       "      <td>2.21</td>\n",
       "      <td>37.44</td>\n",
       "      <td>47.71</td>\n",
       "      <td>44.60</td>\n",
       "      <td>8.36</td>\n",
       "    </tr>\n",
       "    <tr>\n",
       "      <th>Gene98</th>\n",
       "      <td>12.13</td>\n",
       "      <td>85.86</td>\n",
       "      <td>69.77</td>\n",
       "      <td>75.48</td>\n",
       "      <td>35.44</td>\n",
       "      <td>87.63</td>\n",
       "      <td>2.03</td>\n",
       "      <td>42.35</td>\n",
       "      <td>96.95</td>\n",
       "      <td>94.42</td>\n",
       "    </tr>\n",
       "    <tr>\n",
       "      <th>Gene99</th>\n",
       "      <td>19.27</td>\n",
       "      <td>25.05</td>\n",
       "      <td>63.26</td>\n",
       "      <td>85.38</td>\n",
       "      <td>75.40</td>\n",
       "      <td>40.22</td>\n",
       "      <td>19.66</td>\n",
       "      <td>77.41</td>\n",
       "      <td>9.74</td>\n",
       "      <td>47.95</td>\n",
       "    </tr>\n",
       "    <tr>\n",
       "      <th>Gene100</th>\n",
       "      <td>36.99</td>\n",
       "      <td>76.11</td>\n",
       "      <td>94.44</td>\n",
       "      <td>69.70</td>\n",
       "      <td>87.45</td>\n",
       "      <td>7.54</td>\n",
       "      <td>69.17</td>\n",
       "      <td>62.93</td>\n",
       "      <td>46.33</td>\n",
       "      <td>77.64</td>\n",
       "    </tr>\n",
       "  </tbody>\n",
       "</table>\n",
       "<p>100 rows × 10 columns</p>\n",
       "</div>"
      ],
      "text/plain": [
       "         Sample1  Sample2  Sample3  Sample4  Sample5  Sample6  Sample7  \\\n",
       "Gene1      76.85    29.53     7.57    92.21    41.48     7.67    60.84   \n",
       "Gene2      39.45    85.04    77.22    93.47    39.17    98.00    40.12   \n",
       "Gene3      47.17    44.99     8.43    48.17    57.99    42.98    39.36   \n",
       "Gene4       0.60    29.85    93.68    99.83    59.33    66.58    97.36   \n",
       "Gene5      75.00    25.52    18.22    72.14    59.03    40.48    77.92   \n",
       "...          ...      ...      ...      ...      ...      ...      ...   \n",
       "Gene96     58.32    88.38    10.11    96.15    32.61    73.66    30.21   \n",
       "Gene97     23.25    77.78    89.51    53.73    21.62     2.21    37.44   \n",
       "Gene98     12.13    85.86    69.77    75.48    35.44    87.63     2.03   \n",
       "Gene99     19.27    25.05    63.26    85.38    75.40    40.22    19.66   \n",
       "Gene100    36.99    76.11    94.44    69.70    87.45     7.54    69.17   \n",
       "\n",
       "         Sample8  Sample9  Sample10  \n",
       "Gene1      75.98    66.33     84.45  \n",
       "Gene2      63.34    70.06     68.69  \n",
       "Gene3       0.91    10.89      1.53  \n",
       "Gene4      61.73    38.13     84.76  \n",
       "Gene5      71.82    89.36     61.75  \n",
       "...          ...      ...       ...  \n",
       "Gene96     90.02    95.41     13.99  \n",
       "Gene97     47.71    44.60      8.36  \n",
       "Gene98     42.35    96.95     94.42  \n",
       "Gene99     77.41     9.74     47.95  \n",
       "Gene100    62.93    46.33     77.64  \n",
       "\n",
       "[100 rows x 10 columns]"
      ]
     },
     "execution_count": 3,
     "metadata": {},
     "output_type": "execute_result"
    }
   ],
   "source": [
    "# read the data\n",
    "# we will use the pandas read_csv function\n",
    "# we can ignore comment lines setting up the comment attribute to \"#\" \n",
    "# the comment argument is set to the character that a comment line starts with \n",
    "# in this case \"#\", so comment = \"#\"\n",
    "# we can set the sep argument to the character used to separate the line elements \n",
    "# elements in a line/row are separated by tab, \\t, so we set up sep = \"\\t\"\n",
    "\n",
    "expr_data = pd.read_csv(\"expression_data.txt\", comment = \"#\", sep = \"\\t\")\n",
    "expr_data"
   ]
  },
  {
   "cell_type": "code",
   "execution_count": 4,
   "metadata": {},
   "outputs": [],
   "source": [
    "# explore the ttest_ind function\n",
    "\n",
    "# help(stats.ttest_ind)\n"
   ]
  },
  {
   "cell_type": "markdown",
   "metadata": {},
   "source": [
    "```\n",
    "ttest_ind(a, b, axis=0, equal_var=True, nan_policy='propagate', permutations=None, random_state=None, alternative='two-sided', trim=0)\n",
    "    Calculate the T-test for the means of *two independent* samples of scores.\n",
    "    \n",
    "    This is a two-sided test for the null hypothesis that 2 independent samples\n",
    "    have identical average (expected) values. This test assumes that the\n",
    "    populations have identical variances by default.\n",
    "    \n",
    "    Parameters\n",
    "    ----------\n",
    "    a, b : array_like\n",
    "        The arrays must have the same shape, except in the dimension\n",
    "        corresponding to `axis` (the first, by default).\n",
    "    axis : int or None, optional\n",
    "        Axis along which to compute test. If None, compute over the whole\n",
    "        arrays, `a`, and `b`.\n",
    "        \n",
    " ... ... ...\n",
    "    >>> from scipy import stats\n",
    "    >>> rng = np.random.default_rng()\n",
    "    \n",
    "    Test with sample with identical means:\n",
    "    \n",
    "    >>> rvs1 = stats.norm.rvs(loc=5, scale=10, size=500, random_state=rng)\n",
    "    >>> rvs2 = stats.norm.rvs(loc=5, scale=10, size=500, random_state=rng)\n",
    "    >>> stats.ttest_ind(rvs1, rvs2)\n",
    "    Ttest_indResult(statistic=-0.4390847099199348, pvalue=0.6606952038870015)\n",
    "    >>> stats.ttest_ind(rvs1, rvs2, equal_var=False)\n",
    "    Ttest_indResult(statistic=-0.4390847099199348, pvalue=0.6606952553131064)\n",
    "    \n",
    "```"
   ]
  },
  {
   "cell_type": "code",
   "execution_count": 5,
   "metadata": {},
   "outputs": [
    {
     "data": {
      "text/plain": [
       "Ttest_indResult(statistic=-2.529822128134704, pvalue=0.06467689395635302)"
      ]
     },
     "execution_count": 5,
     "metadata": {},
     "output_type": "execute_result"
    }
   ],
   "source": [
    "# test the funtion with some made-up data\n",
    "# a, b : array_like\n",
    "# we use a list and tuple\n",
    "\n",
    "stats.ttest_ind(a = [1,2,3], b = (3,5,6))"
   ]
  },
  {
   "cell_type": "code",
   "execution_count": 6,
   "metadata": {},
   "outputs": [
    {
     "data": {
      "text/plain": [
       "-2.529822128134704"
      ]
     },
     "execution_count": 6,
     "metadata": {},
     "output_type": "execute_result"
    }
   ],
   "source": [
    "# save ttest result into a variable\n",
    "# the result looks like a tuple and is an instance of (derived from) tuple \n",
    "# so we can index\n",
    "\n",
    "res = stats.ttest_ind(a = [1,2,3], b = (3,5,6))\n",
    "res[0]"
   ]
  },
  {
   "cell_type": "code",
   "execution_count": 7,
   "metadata": {},
   "outputs": [
    {
     "data": {
      "text/plain": [
       "True"
      ]
     },
     "execution_count": 7,
     "metadata": {},
     "output_type": "execute_result"
    }
   ],
   "source": [
    "isinstance(res,tuple)"
   ]
  },
  {
   "cell_type": "code",
   "execution_count": 8,
   "metadata": {},
   "outputs": [
    {
     "data": {
      "text/plain": [
       "scipy.stats.stats.Ttest_indResult"
      ]
     },
     "execution_count": 8,
     "metadata": {},
     "output_type": "execute_result"
    }
   ],
   "source": [
    "# look at the type\n",
    "type(res)"
   ]
  },
  {
   "cell_type": "code",
   "execution_count": 9,
   "metadata": {},
   "outputs": [],
   "source": [
    "# look what the object can do\n",
    "# same as a tuple -- count and inxed\n",
    "\n",
    "# dir(res)"
   ]
  },
  {
   "cell_type": "markdown",
   "metadata": {},
   "source": [
    "```\n",
    "[ ...\n",
    " 'count',\n",
    " 'index',\n",
    " 'pvalue',\n",
    " 'statistic']\n",
    "```"
   ]
  },
  {
   "cell_type": "code",
   "execution_count": 10,
   "metadata": {},
   "outputs": [
    {
     "data": {
      "text/plain": [
       "-2.529822128134704"
      ]
     },
     "execution_count": 10,
     "metadata": {},
     "output_type": "execute_result"
    }
   ],
   "source": [
    "# it also has 2 extra attributes: statistic (t-statistic) and pvalue\n",
    "\n",
    "res.statistic"
   ]
  },
  {
   "cell_type": "code",
   "execution_count": 11,
   "metadata": {},
   "outputs": [
    {
     "data": {
      "text/plain": [
       "0.06467689395635302"
      ]
     },
     "execution_count": 11,
     "metadata": {},
     "output_type": "execute_result"
    }
   ],
   "source": [
    "res.pvalue"
   ]
  },
  {
   "cell_type": "code",
   "execution_count": 12,
   "metadata": {},
   "outputs": [
    {
     "name": "stdout",
     "output_type": "stream",
     "text": [
      "matrix 1\n",
      "[[1 2 3]\n",
      " [4 5 6]]\n",
      "matrix 2\n",
      "[[ 5  6  7]\n",
      " [ 8  9 10]]\n"
     ]
    }
   ],
   "source": [
    "# could we also apply this between two matrices (2x3 arrays)?\n",
    "m1 = np.arange(1,7).reshape(2,3)\n",
    "m2 = np.arange(5,11).reshape(2,3)\n",
    "print(\"matrix 1\")\n",
    "print(m1)\n",
    "print(\"matrix 2\") \n",
    "print(m2)\n"
   ]
  },
  {
   "cell_type": "code",
   "execution_count": 13,
   "metadata": {},
   "outputs": [
    {
     "data": {
      "text/plain": [
       "Ttest_indResult(statistic=array([-1.88561808, -1.88561808, -1.88561808]), pvalue=array([0.2, 0.2, 0.2]))"
      ]
     },
     "execution_count": 13,
     "metadata": {},
     "output_type": "execute_result"
    }
   ],
   "source": [
    "# run/call the function with the 2 matrices\n",
    "# we get 3 statistics and 3 p-values =>\n",
    "# the test is applied between the respective columns\n",
    "# this is expected since the first axis, 0, is used by default \n",
    "\n",
    "stats.ttest_ind(a = m1, b = m2)"
   ]
  },
  {
   "cell_type": "code",
   "execution_count": 14,
   "metadata": {},
   "outputs": [
    {
     "data": {
      "text/plain": [
       "Ttest_indResult(statistic=array([-4.89897949, -4.89897949]), pvalue=array([0.00804989, 0.00804989]))"
      ]
     },
     "execution_count": 14,
     "metadata": {},
     "output_type": "execute_result"
    }
   ],
   "source": [
    "# call the function to apply the test between the respective rows\n",
    "# set the axis argument, use axis = 1\n",
    "\n",
    "stats.ttest_ind(a = m1, b = m2, axis = 1)"
   ]
  },
  {
   "cell_type": "code",
   "execution_count": 15,
   "metadata": {},
   "outputs": [
    {
     "data": {
      "text/plain": [
       "Ttest_indResult(statistic=-4.898979485566356, pvalue=0.00804989310083772)"
      ]
     },
     "execution_count": 15,
     "metadata": {},
     "output_type": "execute_result"
    }
   ],
   "source": [
    "# to double check \n",
    "# we do the test between the first row from each matrix\n",
    "# we should get the first statistic and the first p-value\n",
    "# from the  two present in the previous result\n",
    "\n",
    "stats.ttest_ind(a = [1,2,3], b = [5,6,7])"
   ]
  },
  {
   "cell_type": "code",
   "execution_count": null,
   "metadata": {},
   "outputs": [],
   "source": []
  },
  {
   "cell_type": "code",
   "execution_count": 16,
   "metadata": {},
   "outputs": [],
   "source": [
    "# now that we know that we can apply the test between matrices\n",
    "# we should create a matrix for healthy and one for disease\n",
    "# we use the group variable to separate the groups\n",
    "\n",
    "# set up the group variable\n",
    "group = [\"disease\", \"healthy\", \"disease\", \"disease\", \"healthy\",\n",
    "         \"healthy\", \"healthy\", \"disease\", \"disease\", \"disease\"]"
   ]
  },
  {
   "cell_type": "code",
   "execution_count": 17,
   "metadata": {},
   "outputs": [
    {
     "data": {
      "text/plain": [
       "False"
      ]
     },
     "execution_count": 17,
     "metadata": {},
     "output_type": "execute_result"
    }
   ],
   "source": [
    "# we cannot do vectorized operations on lists\n",
    "# the == will compare the list with the string\n",
    "\n",
    "group == \"healthy\""
   ]
  },
  {
   "cell_type": "code",
   "execution_count": 18,
   "metadata": {},
   "outputs": [
    {
     "data": {
      "text/plain": [
       "array([False,  True, False, False,  True,  True,  True, False, False,\n",
       "       False])"
      ]
     },
     "execution_count": 18,
     "metadata": {},
     "output_type": "execute_result"
    }
   ],
   "source": [
    "# We can make the list an array and use the == to create a \n",
    "# logical array that can be used to subset the columns of our data\n",
    "\n",
    "group_array = np.array(group)\n",
    "group_array == \"healthy\""
   ]
  },
  {
   "cell_type": "code",
   "execution_count": 19,
   "metadata": {},
   "outputs": [
    {
     "name": "stdout",
     "output_type": "stream",
     "text": [
      "expression in healthy\n",
      "         Sample2  Sample5  Sample6  Sample7\n",
      "Gene1      29.53    41.48     7.67    60.84\n",
      "Gene2      85.04    39.17    98.00    40.12\n",
      "Gene3      44.99    57.99    42.98    39.36\n",
      "Gene4      29.85    59.33    66.58    97.36\n",
      "Gene5      25.52    59.03    40.48    77.92\n",
      "...          ...      ...      ...      ...\n",
      "Gene96     88.38    32.61    73.66    30.21\n",
      "Gene97     77.78    21.62     2.21    37.44\n",
      "Gene98     85.86    35.44    87.63     2.03\n",
      "Gene99     25.05    75.40    40.22    19.66\n",
      "Gene100    76.11    87.45     7.54    69.17\n",
      "\n",
      "[100 rows x 4 columns]\n",
      "expression in disease\n",
      "         Sample1  Sample3  Sample4  Sample8  Sample9  Sample10\n",
      "Gene1      76.85     7.57    92.21    75.98    66.33     84.45\n",
      "Gene2      39.45    77.22    93.47    63.34    70.06     68.69\n",
      "Gene3      47.17     8.43    48.17     0.91    10.89      1.53\n",
      "Gene4       0.60    93.68    99.83    61.73    38.13     84.76\n",
      "Gene5      75.00    18.22    72.14    71.82    89.36     61.75\n",
      "...          ...      ...      ...      ...      ...       ...\n",
      "Gene96     58.32    10.11    96.15    90.02    95.41     13.99\n",
      "Gene97     23.25    89.51    53.73    47.71    44.60      8.36\n",
      "Gene98     12.13    69.77    75.48    42.35    96.95     94.42\n",
      "Gene99     19.27    63.26    85.38    77.41     9.74     47.95\n",
      "Gene100    36.99    94.44    69.70    62.93    46.33     77.64\n",
      "\n",
      "[100 rows x 6 columns]\n"
     ]
    }
   ],
   "source": [
    "# we use conitional subsetting of the columns for a dataframe \n",
    "# .loc[:,condititon]\n",
    "\n",
    "healthy_expr = expr_data.loc[:, group_array == \"healthy\"]\n",
    "disease_expr = expr_data.loc[:, group_array == \"disease\"]\n",
    "\n",
    "print(\"expression in healthy\")\n",
    "print(healthy_expr)\n",
    "print(\"expression in disease\")\n",
    "print(disease_expr)"
   ]
  },
  {
   "cell_type": "code",
   "execution_count": 20,
   "metadata": {},
   "outputs": [
    {
     "data": {
      "text/plain": [
       "Ttest_indResult(statistic=array([-1.80965493e+00, -2.07501694e-01,  2.28218525e+00,  7.08438304e-03,\n",
       "       -9.09162018e-01,  6.71033778e-01, -4.15915283e-01, -3.54609668e-01,\n",
       "        9.71890532e-02,  4.24880859e-01,  7.63571680e-01, -6.65329349e-01,\n",
       "       -5.13004620e-01, -2.16298068e+00, -2.66593067e-01,  4.52822199e-01,\n",
       "        6.64448319e-01, -9.25013168e-02, -5.05433002e-01,  4.33735296e-01,\n",
       "        1.13809456e-01, -2.59114704e-02,  1.59213354e+00, -1.77758599e+00,\n",
       "        1.45282203e+00,  3.89949100e-01,  9.71961632e-01, -5.92065312e-01,\n",
       "       -1.91904083e+00,  7.14815222e-01,  1.48824407e+00, -1.10217102e+00,\n",
       "        7.94001166e-01,  1.42410294e+00, -9.66744557e-01, -1.45044000e-01,\n",
       "        2.83559690e+00,  2.98114568e-01, -3.20359206e-02, -1.89389565e+00,\n",
       "        3.76696588e-01,  2.51563706e+00, -3.36438018e+00,  1.08330328e+00,\n",
       "        8.05587009e-01,  1.18753005e+00,  1.19676421e+00,  1.11480007e+00,\n",
       "       -6.53005252e-02,  6.14577467e-01,  1.65503937e-01,  5.15135640e-01,\n",
       "        2.68958125e-01, -2.89155191e-01,  1.15772762e+00,  2.77260522e+00,\n",
       "       -9.73806712e-01,  1.98646742e-03, -1.46880301e+00,  8.80720744e-01,\n",
       "       -2.03944236e+00,  1.18300102e+00,  1.02536271e+00, -2.16616314e+00,\n",
       "        3.71596548e-01, -9.49799007e-01, -2.31957191e-01, -1.53340433e+00,\n",
       "       -4.27411138e-01, -1.57911096e+00, -6.38918442e-02,  1.48344081e+00,\n",
       "       -1.07179486e+00, -3.47836466e-01, -4.06396384e-01,  1.17143344e+00,\n",
       "       -2.49417618e-01, -3.43835767e+00,  1.05858061e+00,  1.43246904e+00,\n",
       "       -2.00235320e-01, -1.40526443e+00,  1.37089156e+00,  5.76925685e-01,\n",
       "        9.77255740e-01, -7.30522031e-01, -1.90677131e-01,  4.71028415e-01,\n",
       "        8.98349557e-01, -1.93643910e-01,  3.03433700e-01,  5.16194940e-01,\n",
       "        1.16711540e+00,  2.65112778e-01, -5.96337880e-01, -1.89101638e-01,\n",
       "       -5.12503129e-01, -5.31794999e-01, -5.60392161e-01, -2.59705476e-01]), pvalue=array([0.10794759, 0.84080278, 0.05189402, 0.994521  , 0.38983254,\n",
       "       0.52109846, 0.68840501, 0.73204816, 0.92496704, 0.68212044,\n",
       "       0.46704155, 0.52455373, 0.62181016, 0.06249845, 0.7965253 ,\n",
       "       0.66270496, 0.52508864, 0.92857424, 0.62688299, 0.67593957,\n",
       "       0.91219319, 0.97996264, 0.1500197 , 0.11336718, 0.18434204,\n",
       "       0.70675078, 0.35953628, 0.57015689, 0.09125042, 0.49505075,\n",
       "       0.17500708, 0.30243795, 0.45010296, 0.19223106, 0.36198418,\n",
       "       0.88826383, 0.02196024, 0.77321152, 0.97522825, 0.09485537,\n",
       "       0.71619419, 0.03605295, 0.00986746, 0.31024064, 0.4437643 ,\n",
       "       0.26907914, 0.26565758, 0.29730296, 0.94953705, 0.55590548,\n",
       "       0.87265328, 0.62038627, 0.79476816, 0.77981433, 0.28036894,\n",
       "       0.02419917, 0.35867353, 0.99846367, 0.18007715, 0.40415048,\n",
       "       0.07573936, 0.27077048, 0.33519414, 0.06218927, 0.71984236,\n",
       "       0.37002126, 0.82239467, 0.16371823, 0.68035153, 0.15296423,\n",
       "       0.95062396, 0.17624777, 0.31507743, 0.73693796, 0.69510573,\n",
       "       0.27512984, 0.80932239, 0.00884519, 0.320704  , 0.1899028 ,\n",
       "       0.84629304, 0.19756565, 0.20763293, 0.5798573 , 0.35706497,\n",
       "       0.48591171, 0.8535285 , 0.65019731, 0.39523185, 0.85128106,\n",
       "       0.7693007 , 0.61967911, 0.27677175, 0.79762572, 0.56743614,\n",
       "       0.85472258, 0.62214549, 0.60931394, 0.59055581, 0.8016495 ]))"
      ]
     },
     "execution_count": 20,
     "metadata": {},
     "output_type": "execute_result"
    }
   ],
   "source": [
    "# call the ttest_ind function for the 2 matrices to compute \n",
    "# the t-test between the respective rows\n",
    "# the two rows to not need to have the same number of elements (4 vs 6)\n",
    "\n",
    "stats.ttest_ind(healthy_expr,disease_expr,1)"
   ]
  },
  {
   "cell_type": "code",
   "execution_count": 21,
   "metadata": {},
   "outputs": [
    {
     "data": {
      "text/plain": [
       "array([0.10794759, 0.84080278, 0.05189402, 0.994521  , 0.38983254,\n",
       "       0.52109846, 0.68840501, 0.73204816, 0.92496704, 0.68212044,\n",
       "       0.46704155, 0.52455373, 0.62181016, 0.06249845, 0.7965253 ,\n",
       "       0.66270496, 0.52508864, 0.92857424, 0.62688299, 0.67593957,\n",
       "       0.91219319, 0.97996264, 0.1500197 , 0.11336718, 0.18434204,\n",
       "       0.70675078, 0.35953628, 0.57015689, 0.09125042, 0.49505075,\n",
       "       0.17500708, 0.30243795, 0.45010296, 0.19223106, 0.36198418,\n",
       "       0.88826383, 0.02196024, 0.77321152, 0.97522825, 0.09485537,\n",
       "       0.71619419, 0.03605295, 0.00986746, 0.31024064, 0.4437643 ,\n",
       "       0.26907914, 0.26565758, 0.29730296, 0.94953705, 0.55590548,\n",
       "       0.87265328, 0.62038627, 0.79476816, 0.77981433, 0.28036894,\n",
       "       0.02419917, 0.35867353, 0.99846367, 0.18007715, 0.40415048,\n",
       "       0.07573936, 0.27077048, 0.33519414, 0.06218927, 0.71984236,\n",
       "       0.37002126, 0.82239467, 0.16371823, 0.68035153, 0.15296423,\n",
       "       0.95062396, 0.17624777, 0.31507743, 0.73693796, 0.69510573,\n",
       "       0.27512984, 0.80932239, 0.00884519, 0.320704  , 0.1899028 ,\n",
       "       0.84629304, 0.19756565, 0.20763293, 0.5798573 , 0.35706497,\n",
       "       0.48591171, 0.8535285 , 0.65019731, 0.39523185, 0.85128106,\n",
       "       0.7693007 , 0.61967911, 0.27677175, 0.79762572, 0.56743614,\n",
       "       0.85472258, 0.62214549, 0.60931394, 0.59055581, 0.8016495 ])"
      ]
     },
     "execution_count": 21,
     "metadata": {},
     "output_type": "execute_result"
    }
   ],
   "source": [
    "# we only need the pvalues\n",
    "ttest_pvalues = stats.ttest_ind(healthy_expr,disease_expr,1).pvalue\n",
    "ttest_pvalues"
   ]
  },
  {
   "cell_type": "code",
   "execution_count": 22,
   "metadata": {},
   "outputs": [
    {
     "data": {
      "text/plain": [
       "Gene1      0.107948\n",
       "Gene2      0.840803\n",
       "Gene3      0.051894\n",
       "Gene4      0.994521\n",
       "Gene5      0.389833\n",
       "             ...   \n",
       "Gene96     0.854723\n",
       "Gene97     0.622145\n",
       "Gene98     0.609314\n",
       "Gene99     0.590556\n",
       "Gene100    0.801649\n",
       "Length: 100, dtype: float64"
      ]
     },
     "execution_count": 22,
     "metadata": {},
     "output_type": "execute_result"
    }
   ],
   "source": [
    "# we create a pandas Series to have the p-values and the gene symbols together\n",
    "# the gene symbols are available as the rowlabels (index) for the expr_data dataframe\n",
    "\n",
    "gene_pvals = pd.Series(data = ttest_pvalues, index = expr_data.index)\n",
    "gene_pvals"
   ]
  },
  {
   "cell_type": "code",
   "execution_count": 23,
   "metadata": {},
   "outputs": [
    {
     "data": {
      "text/plain": [
       "Gene3     0.051894\n",
       "Gene14    0.062498\n",
       "Gene29    0.091250\n",
       "Gene37    0.021960\n",
       "Gene40    0.094855\n",
       "Gene42    0.036053\n",
       "Gene43    0.009867\n",
       "Gene56    0.024199\n",
       "Gene61    0.075739\n",
       "Gene64    0.062189\n",
       "Gene78    0.008845\n",
       "dtype: float64"
      ]
     },
     "execution_count": 23,
     "metadata": {},
     "output_type": "execute_result"
    }
   ],
   "source": [
    "# Select the genes that have a p-value < 10% on a t-test between the expression in disease and the expression in healthy.\n",
    "# Conditional subsetting of the series\n",
    "\n",
    "gene_pvals[gene_pvals < 0.1]"
   ]
  },
  {
   "cell_type": "code",
   "execution_count": 24,
   "metadata": {},
   "outputs": [
    {
     "data": {
      "text/plain": [
       "numpy.ndarray"
      ]
     },
     "execution_count": 24,
     "metadata": {},
     "output_type": "execute_result"
    }
   ],
   "source": [
    "type(group_array)"
   ]
  },
  {
   "cell_type": "code",
   "execution_count": 25,
   "metadata": {},
   "outputs": [
    {
     "data": {
      "text/plain": [
       "array(['disease', 'healthy'], dtype='<U7')"
      ]
     },
     "execution_count": 25,
     "metadata": {},
     "output_type": "execute_result"
    }
   ],
   "source": [
    "# get the array of unique elements from a given array\n",
    "np.unique(group_array)"
   ]
  },
  {
   "cell_type": "code",
   "execution_count": 26,
   "metadata": {},
   "outputs": [
    {
     "data": {
      "text/plain": [
       "0.6613276773863003"
      ]
     },
     "execution_count": 26,
     "metadata": {},
     "output_type": "execute_result"
    }
   ],
   "source": [
    "# alternative solution - using a function to get a p-value for a row in the expr_data dataframe\n",
    "\n",
    "def run_ttest(gene_expr, group_vec):\n",
    "    '''\n",
    "    Computes the p-value of a t-test between the labels of two groups.\n",
    "    Args:\n",
    "    gene_expr (): the expression of a gene in the samples from the two groups\n",
    "    '''\n",
    "    gr_unique = np.unique(group_vec)\n",
    "    # print(gr_unique[0])\n",
    "    x = gene_expr[group_vec == gr_unique[0]]\n",
    "    # print(x)\n",
    "    y = gene_expr[group_vec == gr_unique[1]]\n",
    "    #print(y)\n",
    "    return stats.ttest_ind(x, y).pvalue\n",
    "\n",
    "# test the function with some test data\n",
    "run_ttest(np.array([2,3,4,5,7, 4,3,6,4,8]), group_array)  \n",
    "\n"
   ]
  },
  {
   "cell_type": "code",
   "execution_count": 27,
   "metadata": {},
   "outputs": [
    {
     "data": {
      "text/plain": [
       "Gene1      0.107948\n",
       "Gene2      0.840803\n",
       "Gene3      0.051894\n",
       "Gene4      0.994521\n",
       "Gene5      0.389833\n",
       "             ...   \n",
       "Gene96     0.854723\n",
       "Gene97     0.622145\n",
       "Gene98     0.609314\n",
       "Gene99     0.590556\n",
       "Gene100    0.801649\n",
       "Length: 100, dtype: float64"
      ]
     },
     "execution_count": 27,
     "metadata": {},
     "output_type": "execute_result"
    }
   ],
   "source": [
    "# Apply the function to each row of the dataframe\n",
    "# call the funtion giving each row one by one as an argument (first argument) and collecting the results in a series\n",
    "# other arguments can be passed to the applied function by using the name of the argument and providing a value\n",
    "# e.g.: group_vec = group_array\n",
    "\n",
    "pv = expr_data.apply(run_ttest, axis = 1, group_vec = group_array)\n",
    "pv"
   ]
  },
  {
   "cell_type": "code",
   "execution_count": 28,
   "metadata": {
    "tags": []
   },
   "outputs": [],
   "source": [
    "# help(expr_data.apply)"
   ]
  },
  {
   "cell_type": "markdown",
   "metadata": {},
   "source": [
    "```\n",
    "Help on method apply in module pandas.core.frame:\n",
    "\n",
    "apply(func: 'AggFuncType', axis: 'Axis' = 0, raw: 'bool' = False, result_type=None, args=(), **kwargs) method of pandas.core.frame.DataFrame instance\n",
    "    Apply a function along an axis of the DataFrame.\n",
    "    \n",
    "    Objects passed to the function are Series objects whose index is\n",
    "    either the DataFrame's index (``axis=0``) or the DataFrame's columns\n",
    "    (``axis=1``). By default (``result_type=None``), the final return type\n",
    "    is inferred from the return type of the applied function. Otherwise,\n",
    "    it depends on the `result_type` argument.\n",
    "    \n",
    "    Parameters\n",
    "    ----------\n",
    "    func : function\n",
    "        Function to apply to each column or row.\n",
    "    axis : {0 or 'index', 1 or 'columns'}, default 0\n",
    "        Axis along which the function is applied:\n",
    "    \n",
    "        * 0 or 'index': apply function to each column.\n",
    "        * 1 or 'columns': apply function to each row.\n",
    "        \n",
    "... ... ...\n",
    "\n",
    "   Examples\n",
    "    --------\n",
    "    >>> df = pd.DataFrame([[4, 9]] * 3, columns=['A', 'B'])\n",
    "    >>> df\n",
    "       A  B\n",
    "    0  4  9\n",
    "    1  4  9\n",
    "    2  4  9\n",
    "    \n",
    "    Using a numpy universal function (in this case the same as\n",
    "    ``np.sqrt(df)``):\n",
    "    \n",
    "    >>> df.apply(np.sqrt)\n",
    "         A    B\n",
    "    0  2.0  3.0\n",
    "    1  2.0  3.0\n",
    "    2  2.0  3.0\n",
    "    \n",
    "    Using a reducing function on either axis\n",
    "    \n",
    "    >>> df.apply(np.sum, axis=0)\n",
    "    A    12\n",
    "    B    27\n",
    "    dtype: int64\n",
    "    \n",
    "    >>> df.apply(np.sum, axis=1)\n",
    "    0    13\n",
    "    1    13\n",
    "    2    13\n",
    "    dtype: int64\n",
    "\n",
    "```"
   ]
  },
  {
   "cell_type": "code",
   "execution_count": 29,
   "metadata": {},
   "outputs": [
    {
     "data": {
      "text/plain": [
       "Gene3     0.051894\n",
       "Gene14    0.062498\n",
       "Gene29    0.091250\n",
       "Gene37    0.021960\n",
       "Gene40    0.094855\n",
       "Gene42    0.036053\n",
       "Gene43    0.009867\n",
       "Gene56    0.024199\n",
       "Gene61    0.075739\n",
       "Gene64    0.062189\n",
       "Gene78    0.008845\n",
       "dtype: float64"
      ]
     },
     "execution_count": 29,
     "metadata": {},
     "output_type": "execute_result"
    }
   ],
   "source": [
    "# Select the genes that have a p-value < 10% on a t-test between the expression in disease and the expression in healthy.\n",
    "# Conditional subsetting of the series\n",
    "\n",
    "pv[pv < 0.1]"
   ]
  },
  {
   "cell_type": "code",
   "execution_count": null,
   "metadata": {},
   "outputs": [],
   "source": []
  },
  {
   "cell_type": "markdown",
   "metadata": {
    "tags": []
   },
   "source": [
    "___\n",
    "\n",
    "<b> <font color = \"red\">Exercise</font></b>\n",
    "\n",
    "Select the GO (gene ontology) terms for the genes that have a p-value < 10%.   \n",
    "Gene ontology terms tell us what biological processes, molecular functions, and cellular components the genes are associated with.     \n",
    "http://geneontology.org/docs/ontology-documentation/   \n",
    "\n",
    "The file `gene_go.txt` contains that association.   \n",
    "Note: look for the `.isin' method for a pd.Series.\n"
   ]
  },
  {
   "cell_type": "code",
   "execution_count": 30,
   "metadata": {},
   "outputs": [],
   "source": [
    "# Write your solution here\n",
    "\n"
   ]
  },
  {
   "cell_type": "code",
   "execution_count": 31,
   "metadata": {},
   "outputs": [
    {
     "data": {
      "text/plain": [
       "Gene3     0.051894\n",
       "Gene14    0.062498\n",
       "Gene29    0.091250\n",
       "Gene37    0.021960\n",
       "Gene40    0.094855\n",
       "Gene42    0.036053\n",
       "Gene43    0.009867\n",
       "Gene56    0.024199\n",
       "Gene61    0.075739\n",
       "Gene64    0.062189\n",
       "Gene78    0.008845\n",
       "dtype: float64"
      ]
     },
     "execution_count": 31,
     "metadata": {},
     "output_type": "execute_result"
    }
   ],
   "source": [
    "# Select the genes that have a p-value < 10% on a t-test between the expression in disease and the expression in healthy.\n",
    "pv[pv < 0.1]"
   ]
  },
  {
   "cell_type": "code",
   "execution_count": 32,
   "metadata": {},
   "outputs": [
    {
     "data": {
      "text/plain": [
       "Index(['Gene3', 'Gene14', 'Gene29', 'Gene37', 'Gene40', 'Gene42', 'Gene43',\n",
       "       'Gene56', 'Gene61', 'Gene64', 'Gene78'],\n",
       "      dtype='object')"
      ]
     },
     "execution_count": 32,
     "metadata": {},
     "output_type": "execute_result"
    }
   ],
   "source": [
    "# Get only the gene symbols - the index\n",
    "\n",
    "selected_genes = pv[pv < 0.1].index\n",
    "selected_genes"
   ]
  },
  {
   "cell_type": "code",
   "execution_count": 33,
   "metadata": {},
   "outputs": [
    {
     "data": {
      "text/html": [
       "<div>\n",
       "<style scoped>\n",
       "    .dataframe tbody tr th:only-of-type {\n",
       "        vertical-align: middle;\n",
       "    }\n",
       "\n",
       "    .dataframe tbody tr th {\n",
       "        vertical-align: top;\n",
       "    }\n",
       "\n",
       "    .dataframe thead th {\n",
       "        text-align: right;\n",
       "    }\n",
       "</style>\n",
       "<table border=\"1\" class=\"dataframe\">\n",
       "  <thead>\n",
       "    <tr style=\"text-align: right;\">\n",
       "      <th></th>\n",
       "      <th>Gene</th>\n",
       "      <th>GO</th>\n",
       "    </tr>\n",
       "  </thead>\n",
       "  <tbody>\n",
       "    <tr>\n",
       "      <th>0</th>\n",
       "      <td>Gene3</td>\n",
       "      <td>GO66</td>\n",
       "    </tr>\n",
       "    <tr>\n",
       "      <th>1</th>\n",
       "      <td>Gene22</td>\n",
       "      <td>GO250</td>\n",
       "    </tr>\n",
       "    <tr>\n",
       "      <th>2</th>\n",
       "      <td>Gene74</td>\n",
       "      <td>GO233</td>\n",
       "    </tr>\n",
       "    <tr>\n",
       "      <th>3</th>\n",
       "      <td>Gene91</td>\n",
       "      <td>GO489</td>\n",
       "    </tr>\n",
       "    <tr>\n",
       "      <th>4</th>\n",
       "      <td>Gene99</td>\n",
       "      <td>GO88</td>\n",
       "    </tr>\n",
       "    <tr>\n",
       "      <th>...</th>\n",
       "      <td>...</td>\n",
       "      <td>...</td>\n",
       "    </tr>\n",
       "    <tr>\n",
       "      <th>95</th>\n",
       "      <td>Gene65</td>\n",
       "      <td>GO161</td>\n",
       "    </tr>\n",
       "    <tr>\n",
       "      <th>96</th>\n",
       "      <td>Gene25</td>\n",
       "      <td>GO102</td>\n",
       "    </tr>\n",
       "    <tr>\n",
       "      <th>97</th>\n",
       "      <td>Gene100</td>\n",
       "      <td>GO473</td>\n",
       "    </tr>\n",
       "    <tr>\n",
       "      <th>98</th>\n",
       "      <td>Gene68</td>\n",
       "      <td>GO188</td>\n",
       "    </tr>\n",
       "    <tr>\n",
       "      <th>99</th>\n",
       "      <td>Gene88</td>\n",
       "      <td>GO326</td>\n",
       "    </tr>\n",
       "  </tbody>\n",
       "</table>\n",
       "<p>100 rows × 2 columns</p>\n",
       "</div>"
      ],
      "text/plain": [
       "       Gene     GO\n",
       "0     Gene3   GO66\n",
       "1    Gene22  GO250\n",
       "2    Gene74  GO233\n",
       "3    Gene91  GO489\n",
       "4    Gene99   GO88\n",
       "..      ...    ...\n",
       "95   Gene65  GO161\n",
       "96   Gene25  GO102\n",
       "97  Gene100  GO473\n",
       "98   Gene68  GO188\n",
       "99   Gene88  GO326\n",
       "\n",
       "[100 rows x 2 columns]"
      ]
     },
     "execution_count": 33,
     "metadata": {},
     "output_type": "execute_result"
    }
   ],
   "source": [
    "# read the data from the file\n",
    "# index_col=0 allows usto setup the first (index 0) column, in the file as the row lables (dataframe index)\n",
    "\n",
    "gene_go = pd.read_csv(\"gene_go.txt\", index_col=0)\n",
    "gene_go"
   ]
  },
  {
   "cell_type": "code",
   "execution_count": 34,
   "metadata": {},
   "outputs": [
    {
     "data": {
      "text/plain": [
       "0       Gene3\n",
       "1      Gene22\n",
       "2      Gene74\n",
       "3      Gene91\n",
       "4      Gene99\n",
       "       ...   \n",
       "95     Gene65\n",
       "96     Gene25\n",
       "97    Gene100\n",
       "98     Gene68\n",
       "99     Gene88\n",
       "Name: Gene, Length: 100, dtype: object"
      ]
     },
     "execution_count": 34,
     "metadata": {},
     "output_type": "execute_result"
    }
   ],
   "source": [
    "# Get the Gene column from the dataframe  \n",
    "gene_go.Gene"
   ]
  },
  {
   "cell_type": "code",
   "execution_count": 35,
   "metadata": {},
   "outputs": [
    {
     "data": {
      "text/plain": [
       "0      True\n",
       "1     False\n",
       "2     False\n",
       "3     False\n",
       "4     False\n",
       "      ...  \n",
       "95    False\n",
       "96    False\n",
       "97    False\n",
       "98    False\n",
       "99    False\n",
       "Name: Gene, Length: 100, dtype: bool"
      ]
     },
     "execution_count": 35,
     "metadata": {},
     "output_type": "execute_result"
    }
   ],
   "source": [
    "# for a pandas Series we can use the isin method to check if each \n",
    "# of the elements of the Series is in a specific iterable\n",
    "# it results in a logical Series with True or False for each of the \n",
    "# elements in the series\n",
    "\n",
    "gene_go.Gene.isin(selected_genes)"
   ]
  },
  {
   "cell_type": "code",
   "execution_count": 36,
   "metadata": {},
   "outputs": [
    {
     "data": {
      "text/html": [
       "<div>\n",
       "<style scoped>\n",
       "    .dataframe tbody tr th:only-of-type {\n",
       "        vertical-align: middle;\n",
       "    }\n",
       "\n",
       "    .dataframe tbody tr th {\n",
       "        vertical-align: top;\n",
       "    }\n",
       "\n",
       "    .dataframe thead th {\n",
       "        text-align: right;\n",
       "    }\n",
       "</style>\n",
       "<table border=\"1\" class=\"dataframe\">\n",
       "  <thead>\n",
       "    <tr style=\"text-align: right;\">\n",
       "      <th></th>\n",
       "      <th>Gene</th>\n",
       "      <th>GO</th>\n",
       "    </tr>\n",
       "  </thead>\n",
       "  <tbody>\n",
       "    <tr>\n",
       "      <th>0</th>\n",
       "      <td>Gene3</td>\n",
       "      <td>GO66</td>\n",
       "    </tr>\n",
       "    <tr>\n",
       "      <th>20</th>\n",
       "      <td>Gene43</td>\n",
       "      <td>GO218</td>\n",
       "    </tr>\n",
       "    <tr>\n",
       "      <th>21</th>\n",
       "      <td>Gene42</td>\n",
       "      <td>GO334</td>\n",
       "    </tr>\n",
       "    <tr>\n",
       "      <th>24</th>\n",
       "      <td>Gene64</td>\n",
       "      <td>GO40</td>\n",
       "    </tr>\n",
       "    <tr>\n",
       "      <th>36</th>\n",
       "      <td>Gene29</td>\n",
       "      <td>GO429</td>\n",
       "    </tr>\n",
       "    <tr>\n",
       "      <th>37</th>\n",
       "      <td>Gene78</td>\n",
       "      <td>GO56</td>\n",
       "    </tr>\n",
       "    <tr>\n",
       "      <th>47</th>\n",
       "      <td>Gene40</td>\n",
       "      <td>GO400</td>\n",
       "    </tr>\n",
       "    <tr>\n",
       "      <th>57</th>\n",
       "      <td>Gene56</td>\n",
       "      <td>GO162</td>\n",
       "    </tr>\n",
       "    <tr>\n",
       "      <th>58</th>\n",
       "      <td>Gene61</td>\n",
       "      <td>GO237</td>\n",
       "    </tr>\n",
       "    <tr>\n",
       "      <th>67</th>\n",
       "      <td>Gene37</td>\n",
       "      <td>GO345</td>\n",
       "    </tr>\n",
       "    <tr>\n",
       "      <th>69</th>\n",
       "      <td>Gene14</td>\n",
       "      <td>GO264</td>\n",
       "    </tr>\n",
       "  </tbody>\n",
       "</table>\n",
       "</div>"
      ],
      "text/plain": [
       "      Gene     GO\n",
       "0    Gene3   GO66\n",
       "20  Gene43  GO218\n",
       "21  Gene42  GO334\n",
       "24  Gene64   GO40\n",
       "36  Gene29  GO429\n",
       "37  Gene78   GO56\n",
       "47  Gene40  GO400\n",
       "57  Gene56  GO162\n",
       "58  Gene61  GO237\n",
       "67  Gene37  GO345\n",
       "69  Gene14  GO264"
      ]
     },
     "execution_count": 36,
     "metadata": {},
     "output_type": "execute_result"
    }
   ],
   "source": [
    "# We use conditional subsetting to get from our gene_go dataframe \n",
    "# only the rows that meet the condition\n",
    "# only the rows where the logical Series has a value of True\n",
    "\n",
    "gene_go[gene_go.Gene.isin(selected_genes)] "
   ]
  },
  {
   "cell_type": "code",
   "execution_count": 37,
   "metadata": {},
   "outputs": [
    {
     "data": {
      "text/plain": [
       "0      GO66\n",
       "20    GO218\n",
       "21    GO334\n",
       "24     GO40\n",
       "36    GO429\n",
       "37     GO56\n",
       "47    GO400\n",
       "57    GO162\n",
       "58    GO237\n",
       "67    GO345\n",
       "69    GO264\n",
       "Name: GO, dtype: object"
      ]
     },
     "execution_count": 37,
     "metadata": {},
     "output_type": "execute_result"
    }
   ],
   "source": [
    "# we can also look at only the GO column\n",
    "\n",
    "gene_go.GO[gene_go.Gene.isin(selected_genes)] # or  \n",
    "gene_go[gene_go.Gene.isin(selected_genes)].GO\n"
   ]
  },
  {
   "cell_type": "code",
   "execution_count": null,
   "metadata": {},
   "outputs": [],
   "source": []
  },
  {
   "cell_type": "code",
   "execution_count": null,
   "metadata": {},
   "outputs": [],
   "source": []
  },
  {
   "cell_type": "code",
   "execution_count": null,
   "metadata": {},
   "outputs": [],
   "source": []
  },
  {
   "cell_type": "markdown",
   "metadata": {},
   "source": [
    "_______\n",
    "### <font color = \"red\">Exercise</font> \n",
    "\n",
    "Explain what the following code does and describe how it computes the result it displays:\n"
   ]
  },
  {
   "cell_type": "code",
   "execution_count": 38,
   "metadata": {},
   "outputs": [
    {
     "name": "stdout",
     "output_type": "stream",
     "text": [
      "gene BRCA2 percentage 52.666666666666664\n",
      "gene EGFR percentage 67.33333333333333\n",
      "gene TP53 percentage 43.333333333333336\n",
      "gene TNF percentage 57.166666666666664\n"
     ]
    }
   ],
   "source": [
    "def compute_perc(seq):\n",
    "    return 100*(seq.count(\"C\")+seq.count(\"G\"))/len(seq)\n",
    "\n",
    "def process_text(text):\n",
    "    res = 0\n",
    "    gene = \"\"\n",
    "    if text != None:\n",
    "        gene, promoter_seq = text.split()\n",
    "        res = compute_perc(promoter_seq)\n",
    "    return gene, res\n",
    "        \n",
    "        \n",
    "file_name = \"gene_promoter_sequence.txt\"       \n",
    "with open(file = file_name, mode = \"r\") as promoter_seq_file:\n",
    "    for line in promoter_seq_file:\n",
    "        res = process_text(line)\n",
    "        print(\"gene\", res[0], \"percentage\", res[1])\n"
   ]
  },
  {
   "cell_type": "code",
   "execution_count": 39,
   "metadata": {},
   "outputs": [],
   "source": [
    "## Write your code description here\n",
    "\n"
   ]
  },
  {
   "cell_type": "markdown",
   "metadata": {},
   "source": [
    "- The function compute_perc computes the GC content (percentage of G and C bases) for a given sequence (seq)\n",
    "    - it uses the function count for a string (the sequence) to count the number of \"C\" occurences and does the same for \"G\" occurences then it adds them up and divides them by the sequence length (computed using the len function) and multiplies the ratio by 100\n",
    "    - returns the computed percentage\n",
    "    \n",
    "    \n",
    "- The function process_text processes a given string, it assumes the string contains a gene symbol and a sequence separated by a whitespace (e.g. tab, \\t) and it computes the GC content for the sequence and returns a tuple with the gene and the GC content\n",
    "    - it initializes a res variable with 0 and a gene variable with an empty string\n",
    "    - it checks if the given text is None\n",
    "        - if it is not, \n",
    "            - it splits the text by whitespace and unpacks the resulting list into a gene and a promoter sequence\n",
    "            - it uses compute_perc function to compute the GC content for the sequence (promoter_seq) and assigns the resulting value to the res variable\n",
    "            - returns a tuple of the gene and the GC content stored in the res variable\n",
    "            \n",
    "            \n",
    "- The code in the last part of the cell assigns to a variable file_name the text: \"gene_promoter_sequence.txt\" \n",
    "    - it then uses the with operator and the open function to open the file for writing (\"w\")\n",
    "    - uses a for loop to go through the lines in the file and for each line\n",
    "        - it uses the process text funtion to compute the tuple of gene symbol and GC content and assigns it to the variable res\n",
    "        - it prints the text \"gene \\<gene symbol> percentage \\<GC content>\" using indexing on the tuple stored in res\n",
    "            "
   ]
  },
  {
   "cell_type": "code",
   "execution_count": null,
   "metadata": {},
   "outputs": [],
   "source": []
  },
  {
   "cell_type": "code",
   "execution_count": null,
   "metadata": {},
   "outputs": [],
   "source": []
  }
 ],
 "metadata": {
  "kernelspec": {
   "display_name": "Python 3 (ipykernel)",
   "language": "python",
   "name": "python3"
  },
  "language_info": {
   "codemirror_mode": {
    "name": "ipython",
    "version": 3
   },
   "file_extension": ".py",
   "mimetype": "text/x-python",
   "name": "python",
   "nbconvert_exporter": "python",
   "pygments_lexer": "ipython3",
   "version": "3.8.10"
  }
 },
 "nbformat": 4,
 "nbformat_minor": 4
}
