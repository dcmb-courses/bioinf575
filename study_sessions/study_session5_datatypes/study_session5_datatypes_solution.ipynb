{
 "cells": [
  {
   "cell_type": "markdown",
   "metadata": {},
   "source": [
    "### SOLUTION"
   ]
  },
  {
   "cell_type": "markdown",
   "metadata": {},
   "source": [
    "## Study session 5 - Data types \n",
    "### BIOINF 575 - Fall 2023"
   ]
  },
  {
   "cell_type": "markdown",
   "metadata": {},
   "source": [
    "#### DATATYPES RECAP\n",
    "\n",
    "```\n",
    " STRINGS:      \"\" or    '' or   \"\"\"\"\"\" or   ''''''\n",
    " LISTS:        []\n",
    " TUPLES:       ()\n",
    " DICTIONARIES: {}, the item structure is  key:value\n",
    " SETS:         {}, the item structure is value\n",
    "```\n",
    "\n"
   ]
  },
  {
   "cell_type": "markdown",
   "metadata": {
    "jp-MarkdownHeadingCollapsed": true,
    "tags": []
   },
   "source": [
    "___\n",
    "<b><font color = \"red\">Exercise</font> <br></b>\n",
    "\n",
    "\"Proteins are the end products of the decoding process that starts with the information in cellular DNA. As workhorses of the cell, proteins compose structural and motor elements in the cell, and they serve as the catalysts for virtually every biochemical reaction that occurs in living things. This incredible array of functions derives from a startlingly simple code that specifies a hugely diverse set of structures.\"\n",
    "\n",
    "\"The building blocks of proteins are amino acids, which are small organic molecules that consist of an alpha (central) carbon atom linked to an amino group, a carboxyl group, a hydrogen atom, and a variable component called a side chain (see below). Within a protein, multiple amino acids are linked together by peptide bonds, thereby forming a long chain.\"\n",
    "\n",
    "\"Proteins are built from a set of only twenty amino acids, each of which has a unique side chain.\"\n",
    "\n",
    "https://www.nature.com/scitable/topicpage/protein-structure-14122136/\n",
    "\n",
    "<img src = \"https://cdn.pixabay.com/photo/2013/07/12/17/38/dna-152136_1280.png\" width = 450>&nbsp;&nbsp;&nbsp;&nbsp;&nbsp;&nbsp;&nbsp;&nbsp;&nbsp;&nbsp;&nbsp;&nbsp;&nbsp;&nbsp;&nbsp;&nbsp;&nbsp;&nbsp;&nbsp;&nbsp;\n",
    "<img src = \"https://sphweb.bumc.bu.edu/otlt/MPH-Modules/PH/DNA-Genetics/Transcription-TranslationDetails.png\" width = 420>\n",
    "\n",
    "\n",
    "https://cdn.pixabay.com/photo/2013/07/12/17/38/dna-152136_1280.png &nbsp;&nbsp;&nbsp;&nbsp;&nbsp;     https://sphweb.bumc.bu.edu/otlt/MPH-Modules/PH/DNA-Genetics/Transcription-TranslationDetails.png\n",
    "\n",
    "\n",
    "https://ocw.mit.edu/courses/biology/7-01sc-fundamentals-of-biology-fall-2011/molecular-biology/\n",
    "https://ocw.mit.edu/courses/health-sciences-and-technology/hst-161-molecular-biology-and-genetics-in-modern-medicine-fall-2007/lecture-notes/     \n",
    "https://sphweb.bumc.bu.edu/otlt/MPH-Modules/PH/DNA-Genetics/DNA-Genetics3.html\n",
    "\n",
    "\n",
    "The following string contains the information that allows us to translate DNA code into a sequence of amino acids.\n",
    "\n",
    "```python\n",
    "code = \"'ATA':'I', 'ATC':'I', 'ATT':'I', 'ATG':'M',\\\n",
    "    'ACA':'T', 'ACC':'T', 'ACG':'T', 'ACT':'T',\\\n",
    "    'AAC':'N', 'AAT':'N', 'AAA':'K', 'AAG':'K',\\\n",
    "    'AGC':'S', 'AGT':'S', 'AGA':'R', 'AGG':'R',\\\n",
    "    'CTA':'L', 'CTC':'L', 'CTG':'L', 'CTT':'L',\\\n",
    "    'CCA':'P', 'CCC':'P', 'CCG':'P', 'CCT':'P',\\\n",
    "    'CAC':'H', 'CAT':'H', 'CAA':'Q', 'CAG':'Q',\\\n",
    "    'CGA':'R', 'CGC':'R', 'CGG':'R', 'CGT':'R',\\\n",
    "    'GTA':'V', 'GTC':'V', 'GTG':'V', 'GTT':'V',\\\n",
    "    'GCA':'A', 'GCC':'A', 'GCG':'A', 'GCT':'A',\\\n",
    "    'GAC':'D', 'GAT':'D', 'GAA':'E', 'GAG':'E',\\\n",
    "    'GGA':'G', 'GGC':'G', 'GGG':'G', 'GGT':'G',\\\n",
    "    'TCA':'S', 'TCC':'S', 'TCG':'S', 'TCT':'S',\\\n",
    "    'TTC':'F', 'TTT':'F', 'TTA':'L', 'TTG':'L',\\\n",
    "    'TAC':'Y', 'TAT':'Y', 'TAA':'_', 'TAG':'_',\\\n",
    "    'TGC':'C', 'TGT':'C', 'TGA':'_', 'TGG':'W'\"\n",
    "\n",
    "\n",
    "\n",
    "```\n",
    "\n",
    "The following string contains multiple DNA sequences:\n",
    "\n",
    "```python\n",
    "DNA_sequence = \"GCCCGGCGTAAAAAT\"\n",
    "```\n",
    "\n",
    "- Use the mapping provided in the first string (`code`) to translate the sequence in the second string (`DNA_sequence`) and create a string of amino acids.\n",
    "\n"
   ]
  },
  {
   "cell_type": "code",
   "execution_count": 1,
   "metadata": {
    "tags": []
   },
   "outputs": [],
   "source": [
    "# Write your solution here\n",
    "\n",
    "# What we want to do is use the information in the two strings we have \n",
    "# and translate the DNA sequence is a peptide sequence:\n",
    "\n",
    "# \"GCCCGGCGT...\" becomes \"ARR...\"\n",
    "\n",
    "\n"
   ]
  },
  {
   "cell_type": "code",
   "execution_count": 2,
   "metadata": {},
   "outputs": [],
   "source": [
    "# this looks like a dictionary representation but in a string\n",
    "\n",
    "code = \"'ATA':'I', 'ATC':'I', 'ATT':'I', 'ATG':'M',\\\n",
    "    'ACA':'T', 'ACC':'T', 'ACG':'T', 'ACT':'T',\\\n",
    "    'AAC':'N', 'AAT':'N', 'AAA':'K', 'AAG':'K',\\\n",
    "    'AGC':'S', 'AGT':'S', 'AGA':'R', 'AGG':'R',\\\n",
    "    'CTA':'L', 'CTC':'L', 'CTG':'L', 'CTT':'L',\\\n",
    "    'CCA':'P', 'CCC':'P', 'CCG':'P', 'CCT':'P',\\\n",
    "    'CAC':'H', 'CAT':'H', 'CAA':'Q', 'CAG':'Q',\\\n",
    "    'CGA':'R', 'CGC':'R', 'CGG':'R', 'CGT':'R',\\\n",
    "    'GTA':'V', 'GTC':'V', 'GTG':'V', 'GTT':'V',\\\n",
    "    'GCA':'A', 'GCC':'A', 'GCG':'A', 'GCT':'A',\\\n",
    "    'GAC':'D', 'GAT':'D', 'GAA':'E', 'GAG':'E',\\\n",
    "    'GGA':'G', 'GGC':'G', 'GGG':'G', 'GGT':'G',\\\n",
    "    'TCA':'S', 'TCC':'S', 'TCG':'S', 'TCT':'S',\\\n",
    "    'TTC':'F', 'TTT':'F', 'TTA':'L', 'TTG':'L',\\\n",
    "    'TAC':'Y', 'TAT':'Y', 'TAA':'_', 'TAG':'_',\\\n",
    "    'TGC':'C', 'TGT':'C', 'TGA':'_', 'TGG':'W'\"\n"
   ]
  },
  {
   "cell_type": "code",
   "execution_count": 3,
   "metadata": {},
   "outputs": [
    {
     "data": {
      "text/plain": [
       "{'ATA': 'I',\n",
       " 'ATC': 'I',\n",
       " 'ATT': 'I',\n",
       " 'ATG': 'M',\n",
       " 'ACA': 'T',\n",
       " 'ACC': 'T',\n",
       " 'ACG': 'T',\n",
       " 'ACT': 'T',\n",
       " 'AAC': 'N',\n",
       " 'AAT': 'N',\n",
       " 'AAA': 'K',\n",
       " 'AAG': 'K',\n",
       " 'AGC': 'S',\n",
       " 'AGT': 'S',\n",
       " 'AGA': 'R',\n",
       " 'AGG': 'R',\n",
       " 'CTA': 'L',\n",
       " 'CTC': 'L',\n",
       " 'CTG': 'L',\n",
       " 'CTT': 'L',\n",
       " 'CCA': 'P',\n",
       " 'CCC': 'P',\n",
       " 'CCG': 'P',\n",
       " 'CCT': 'P',\n",
       " 'CAC': 'H',\n",
       " 'CAT': 'H',\n",
       " 'CAA': 'Q',\n",
       " 'CAG': 'Q',\n",
       " 'CGA': 'R',\n",
       " 'CGC': 'R',\n",
       " 'CGG': 'R',\n",
       " 'CGT': 'R',\n",
       " 'GTA': 'V',\n",
       " 'GTC': 'V',\n",
       " 'GTG': 'V',\n",
       " 'GTT': 'V',\n",
       " 'GCA': 'A',\n",
       " 'GCC': 'A',\n",
       " 'GCG': 'A',\n",
       " 'GCT': 'A',\n",
       " 'GAC': 'D',\n",
       " 'GAT': 'D',\n",
       " 'GAA': 'E',\n",
       " 'GAG': 'E',\n",
       " 'GGA': 'G',\n",
       " 'GGC': 'G',\n",
       " 'GGG': 'G',\n",
       " 'GGT': 'G',\n",
       " 'TCA': 'S',\n",
       " 'TCC': 'S',\n",
       " 'TCG': 'S',\n",
       " 'TCT': 'S',\n",
       " 'TTC': 'F',\n",
       " 'TTT': 'F',\n",
       " 'TTA': 'L',\n",
       " 'TTG': 'L',\n",
       " 'TAC': 'Y',\n",
       " 'TAT': 'Y',\n",
       " 'TAA': '_',\n",
       " 'TAG': '_',\n",
       " 'TGC': 'C',\n",
       " 'TGT': 'C',\n",
       " 'TGA': '_',\n",
       " 'TGG': 'W'}"
      ]
     },
     "execution_count": 3,
     "metadata": {},
     "output_type": "execute_result"
    }
   ],
   "source": [
    "# we can use eval to set it up as a dictionary\n",
    "\n",
    "codons_dict = eval(\"{\" + code + \"}\")\n",
    "codons_dict"
   ]
  },
  {
   "cell_type": "code",
   "execution_count": 4,
   "metadata": {},
   "outputs": [
    {
     "data": {
      "text/plain": [
       "['ATA:I', 'ATC:I', 'TTT']"
      ]
     },
     "execution_count": 4,
     "metadata": {},
     "output_type": "execute_result"
    }
   ],
   "source": [
    "# THE HARD WAY\n",
    "# we can do a lot of string manipulation to remove quotes and spaces \n",
    "# and get this in the right format for the dict function by\n",
    "# making a tuple from each pair of two elements\n",
    "\n",
    "# this code removes quotes and speaces and then splits by comma to create a list of strings\n",
    "# these strings will be dict items\n",
    "items_list = \"'ATA':'I', 'ATC':'I', 'TTT'\".replace(\"'\", \"\").replace(\" \", \"\").split(\",\")\n",
    "items_list\n"
   ]
  },
  {
   "cell_type": "code",
   "execution_count": 5,
   "metadata": {},
   "outputs": [
    {
     "data": {
      "text/plain": [
       "'ATA:I'"
      ]
     },
     "execution_count": 5,
     "metadata": {},
     "output_type": "execute_result"
    }
   ],
   "source": [
    "items_list[0]"
   ]
  },
  {
   "cell_type": "code",
   "execution_count": 6,
   "metadata": {},
   "outputs": [
    {
     "data": {
      "text/plain": [
       "['ATA', 'I']"
      ]
     },
     "execution_count": 6,
     "metadata": {},
     "output_type": "execute_result"
    }
   ],
   "source": [
    "# break the string item into key and value\n",
    "\n",
    "items_list[0].split(\":\")"
   ]
  },
  {
   "cell_type": "code",
   "execution_count": 7,
   "metadata": {},
   "outputs": [
    {
     "data": {
      "text/plain": [
       "('ATA', 'I')"
      ]
     },
     "execution_count": 7,
     "metadata": {},
     "output_type": "execute_result"
    }
   ],
   "source": [
    "# make the item list a tuple\n",
    "# dict items are also represented as tuples\n",
    "\n",
    "tuple(items_list[0].split(\":\"))"
   ]
  },
  {
   "cell_type": "code",
   "execution_count": 8,
   "metadata": {},
   "outputs": [
    {
     "data": {
      "text/plain": [
       "[('ATA', 'I')]"
      ]
     },
     "execution_count": 8,
     "metadata": {},
     "output_type": "execute_result"
    }
   ],
   "source": [
    "# put the item in a list for the dict function\n",
    "\n",
    "[tuple(items_list[0].split(\":\"))]"
   ]
  },
  {
   "cell_type": "code",
   "execution_count": 9,
   "metadata": {},
   "outputs": [
    {
     "data": {
      "text/plain": [
       "{'ATA': 'I'}"
      ]
     },
     "execution_count": 9,
     "metadata": {},
     "output_type": "execute_result"
    }
   ],
   "source": [
    "# apply the dict function to the list to get a dictionary\n",
    "\n",
    "code_dict = dict([tuple(items_list[0].split(\":\"))])\n",
    "code_dict"
   ]
  },
  {
   "cell_type": "code",
   "execution_count": 10,
   "metadata": {},
   "outputs": [],
   "source": [
    "# you would have to do this for each item --- the first solution using the eval function is much less tedious"
   ]
  },
  {
   "cell_type": "code",
   "execution_count": null,
   "metadata": {},
   "outputs": [],
   "source": []
  },
  {
   "cell_type": "code",
   "execution_count": 11,
   "metadata": {},
   "outputs": [],
   "source": [
    "### now that we have the dictionary, we can translate the sequence\n",
    "# (we will use the dictionary built with eval: codons_dict)"
   ]
  },
  {
   "cell_type": "code",
   "execution_count": 12,
   "metadata": {},
   "outputs": [
    {
     "data": {
      "text/plain": [
       "'GCCCGGCGTAAAAAT'"
      ]
     },
     "execution_count": 12,
     "metadata": {},
     "output_type": "execute_result"
    }
   ],
   "source": [
    "# the sequence provided for this exercise\n",
    "\n",
    "DNA_sequence = \"GCCCGGCGTAAAAAT\"\n",
    "DNA_sequence"
   ]
  },
  {
   "cell_type": "code",
   "execution_count": 13,
   "metadata": {},
   "outputs": [
    {
     "data": {
      "text/plain": [
       "[]"
      ]
     },
     "execution_count": 13,
     "metadata": {},
     "output_type": "execute_result"
    }
   ],
   "source": [
    "# we prepare a list where we add each amino acid \n",
    "# we use a list because we need a structure where we can add each amino acid as it is translated\n",
    "\n",
    "aa_list = []\n",
    "aa_list"
   ]
  },
  {
   "cell_type": "code",
   "execution_count": 14,
   "metadata": {},
   "outputs": [
    {
     "data": {
      "text/plain": [
       "'GCC'"
      ]
     },
     "execution_count": 14,
     "metadata": {},
     "output_type": "execute_result"
    }
   ],
   "source": [
    "# get the first codon - first three characters of the sequence\n",
    "\n",
    "codon = DNA_sequence[:3]\n",
    "codon"
   ]
  },
  {
   "cell_type": "code",
   "execution_count": 15,
   "metadata": {},
   "outputs": [
    {
     "data": {
      "text/plain": [
       "'A'"
      ]
     },
     "execution_count": 15,
     "metadata": {},
     "output_type": "execute_result"
    }
   ],
   "source": [
    "# translate the first codon\n",
    "\n",
    "aa = codons_dict[codon]\n",
    "aa"
   ]
  },
  {
   "cell_type": "code",
   "execution_count": 16,
   "metadata": {},
   "outputs": [],
   "source": [
    "# add first codon to the list\n",
    "\n",
    "aa_list.append(aa)"
   ]
  },
  {
   "cell_type": "code",
   "execution_count": 17,
   "metadata": {},
   "outputs": [
    {
     "data": {
      "text/plain": [
       "['A']"
      ]
     },
     "execution_count": 17,
     "metadata": {},
     "output_type": "execute_result"
    }
   ],
   "source": [
    "aa_list"
   ]
  },
  {
   "cell_type": "code",
   "execution_count": 18,
   "metadata": {},
   "outputs": [],
   "source": [
    "# you can do it all in one with the following code but it is not as clear as the above code\n",
    "# aa_list.append(codons_dict[DNA_sequence[:3]])\n",
    "# aa_list"
   ]
  },
  {
   "cell_type": "code",
   "execution_count": 19,
   "metadata": {},
   "outputs": [],
   "source": [
    "# you may want to remove the last element if you uncommented and ran the code in the cell above\n",
    "# aa_list.pop()"
   ]
  },
  {
   "cell_type": "code",
   "execution_count": 20,
   "metadata": {},
   "outputs": [
    {
     "data": {
      "text/plain": [
       "['A']"
      ]
     },
     "execution_count": 20,
     "metadata": {},
     "output_type": "execute_result"
    }
   ],
   "source": [
    "aa_list"
   ]
  },
  {
   "cell_type": "code",
   "execution_count": 21,
   "metadata": {},
   "outputs": [],
   "source": [
    "# do the same for the rest of the codons\n",
    "\n",
    "codon = DNA_sequence[3:6]\n",
    "aa = codons_dict[codon]\n",
    "aa_list.append(aa)\n",
    "\n",
    "codon = DNA_sequence[6:9]\n",
    "aa = codons_dict[codon]\n",
    "aa_list.append(aa)\n",
    "\n",
    "codon = DNA_sequence[9:12]\n",
    "aa = codons_dict[codon]\n",
    "aa_list.append(aa)\n",
    "\n",
    "codon = DNA_sequence[12:]\n",
    "aa = codons_dict[codon]\n",
    "aa_list.append(aa)\n"
   ]
  },
  {
   "cell_type": "code",
   "execution_count": 22,
   "metadata": {},
   "outputs": [
    {
     "data": {
      "text/plain": [
       "['A', 'R', 'R', 'K', 'N']"
      ]
     },
     "execution_count": 22,
     "metadata": {},
     "output_type": "execute_result"
    }
   ],
   "source": [
    "aa_list"
   ]
  },
  {
   "cell_type": "code",
   "execution_count": 23,
   "metadata": {},
   "outputs": [
    {
     "data": {
      "text/plain": [
       "'ARRKN'"
      ]
     },
     "execution_count": 23,
     "metadata": {},
     "output_type": "execute_result"
    }
   ],
   "source": [
    "# put the list elements together in a string \n",
    "\n",
    "translated_peptide = \"\".join(aa_list)\n",
    "translated_peptide"
   ]
  },
  {
   "cell_type": "code",
   "execution_count": null,
   "metadata": {},
   "outputs": [],
   "source": []
  },
  {
   "cell_type": "markdown",
   "metadata": {},
   "source": [
    "_____\n",
    "\n",
    "<b><font color = \"red\">Exercise</font> <br></b>\n",
    "\n",
    "The following dictionary gives us the mapping between 3 genes and the biological processes they are associated with.\n",
    "\n",
    "- Write code that creates the set of all biological processes for BRCA1 and BRCA2 genes are involved \n",
    "- Write code that gives a True/False answer to the question, are any of these genes involved in transcriptional biological processes?\n",
    "- Write code that checks if a given gene and a given process are associated\n",
    "- Write code that adds the biological process \"mitophagy\" to the BRCA2 set\n",
    "\n"
   ]
  },
  {
   "cell_type": "code",
   "execution_count": 24,
   "metadata": {},
   "outputs": [
    {
     "data": {
      "text/plain": [
       "{'TP53': {'DNA repair',\n",
       "  'apoptosis',\n",
       "  'cell senescence',\n",
       "  'cell-cycle arrest',\n",
       "  'metabolic adaptations'},\n",
       " 'BRCA1': {'DNA repair',\n",
       "  'cell cycle regulation',\n",
       "  'chromatin remodeling',\n",
       "  'transcriptional activation'},\n",
       " 'BRCA2': {'DNA repair',\n",
       "  'stabilization of replication fork',\n",
       "  'transcriptional and cell cycle regulation'}}"
      ]
     },
     "execution_count": 24,
     "metadata": {},
     "output_type": "execute_result"
    }
   ],
   "source": [
    "gene_bp = { \"TP53\": {\"apoptosis\", \"cell senescence\", \"cell-cycle arrest\", \"DNA repair\", \"metabolic adaptations\"},\n",
    "          \"BRCA1\": {\"DNA repair\", \"transcriptional activation\", \"cell cycle regulation\", \"chromatin remodeling\"},\n",
    "          \"BRCA2\": {\"transcriptional and cell cycle regulation\", \"DNA repair\", \"stabilization of replication fork\"}}\n",
    "gene_bp"
   ]
  },
  {
   "cell_type": "code",
   "execution_count": 25,
   "metadata": {},
   "outputs": [],
   "source": [
    "# Write your solution here:\n",
    "\n",
    "\n"
   ]
  },
  {
   "cell_type": "code",
   "execution_count": 26,
   "metadata": {},
   "outputs": [
    {
     "data": {
      "text/plain": [
       "{'DNA repair',\n",
       " 'cell cycle regulation',\n",
       " 'chromatin remodeling',\n",
       " 'stabilization of replication fork',\n",
       " 'transcriptional activation',\n",
       " 'transcriptional and cell cycle regulation'}"
      ]
     },
     "execution_count": 26,
     "metadata": {},
     "output_type": "execute_result"
    }
   ],
   "source": [
    "# Write code that creates the set of all biological processes for BRCA1 and BRCA2 genes are involved\n",
    "# The values in our dictionary are sets so we extract the values using indexing by key \n",
    "# and use the union set operation to put all values together in a results set\n",
    "\n",
    "val_BRCA1 = gene_bp[\"BRCA1\"]\n",
    "val_BRCA2 = gene_bp[\"BRCA2\"]\n",
    "\n",
    "all_BRCA_bps = val_BRCA1.union(val_BRCA2)\n",
    "all_BRCA_bps"
   ]
  },
  {
   "cell_type": "code",
   "execution_count": 27,
   "metadata": {},
   "outputs": [
    {
     "data": {
      "text/plain": [
       "True"
      ]
     },
     "execution_count": 27,
     "metadata": {},
     "output_type": "execute_result"
    }
   ],
   "source": [
    "# Write code that gives a True/False answer to the question: \n",
    "# Are any of these genes involved in transcriptional biological processes?\n",
    "# We need to chack if any of the dictionary values contain the text \"transcriptional\"\n",
    "# That sounds like something a string merhod can handle\n",
    "# So we make the dictionary or dictionary values a string \n",
    "# and see if the text \"transcriptional\" is in that string\n",
    "\n",
    "\"transcriptional\" in str(gene_bp)"
   ]
  },
  {
   "cell_type": "code",
   "execution_count": 28,
   "metadata": {},
   "outputs": [
    {
     "data": {
      "text/plain": [
       "True"
      ]
     },
     "execution_count": 28,
     "metadata": {},
     "output_type": "execute_result"
    }
   ],
   "source": [
    "\"transcriptional\" in str(gene_bp.values())"
   ]
  },
  {
   "cell_type": "code",
   "execution_count": 29,
   "metadata": {},
   "outputs": [
    {
     "data": {
      "text/plain": [
       "True"
      ]
     },
     "execution_count": 29,
     "metadata": {},
     "output_type": "execute_result"
    }
   ],
   "source": [
    "# Write code that checks if a given gene and a given process are associated\n",
    "# We check if the given process is in the set for the given gene\n",
    "\n",
    "gene = \"BRCA2\"\n",
    "process = \"DNA repair\"\n",
    "\n",
    "process in gene_bp[gene]"
   ]
  },
  {
   "cell_type": "code",
   "execution_count": 30,
   "metadata": {},
   "outputs": [],
   "source": [
    "# if the gene is not a key in the dictionary we get an error\n",
    "# if we use the get method without a sequence type as default we get an error\n",
    "# the in operator does not work with None\n",
    "\n",
    "\n",
    "gene = \"BRCA22\"\n",
    "process = \"DNA repair\"\n",
    "\n",
    "# process in gene_bp[gene]\n",
    "# process in gene_bp.get(gene)"
   ]
  },
  {
   "cell_type": "code",
   "execution_count": 31,
   "metadata": {},
   "outputs": [
    {
     "data": {
      "text/plain": [
       "False"
      ]
     },
     "execution_count": 31,
     "metadata": {},
     "output_type": "execute_result"
    }
   ],
   "source": [
    "# if the gene is not a key in the dictionary we get an error\n",
    "# if we use the get method with  a sequence type as default we get an answer\n",
    "# we should use the same type as the values in the dictionary - a set\n",
    "\n",
    "\n",
    "gene = \"BRCA22\"\n",
    "process = \"DNA repair\"\n",
    "\n",
    "process in gene_bp.get(gene, set())"
   ]
  },
  {
   "cell_type": "code",
   "execution_count": 32,
   "metadata": {},
   "outputs": [
    {
     "data": {
      "text/plain": [
       "True"
      ]
     },
     "execution_count": 32,
     "metadata": {},
     "output_type": "execute_result"
    }
   ],
   "source": [
    "# more tests\n",
    "\n",
    "gene = \"BRCA1\"\n",
    "process = \"DNA repair\"\n",
    "\n",
    "process in gene_bp.get(gene, set())"
   ]
  },
  {
   "cell_type": "code",
   "execution_count": 33,
   "metadata": {},
   "outputs": [
    {
     "data": {
      "text/plain": [
       "False"
      ]
     },
     "execution_count": 33,
     "metadata": {},
     "output_type": "execute_result"
    }
   ],
   "source": [
    "# more tests\n",
    "\n",
    "gene = \"BRCA2\"\n",
    "process = \"mitophagy\"\n",
    "\n",
    "process in gene_bp.get(gene, set())"
   ]
  },
  {
   "cell_type": "code",
   "execution_count": 34,
   "metadata": {},
   "outputs": [
    {
     "data": {
      "text/plain": [
       "True"
      ]
     },
     "execution_count": 34,
     "metadata": {},
     "output_type": "execute_result"
    }
   ],
   "source": [
    "# more tests\n",
    "\n",
    "gene = \"BRCA2\"\n",
    "process = \"DNA repair\"\n",
    "\n",
    "process in gene_bp.get(gene, set())"
   ]
  },
  {
   "cell_type": "code",
   "execution_count": 35,
   "metadata": {},
   "outputs": [
    {
     "data": {
      "text/plain": [
       "{'DNA repair',\n",
       " 'stabilization of replication fork',\n",
       " 'transcriptional and cell cycle regulation'}"
      ]
     },
     "execution_count": 35,
     "metadata": {},
     "output_type": "execute_result"
    }
   ],
   "source": [
    "# Write code that adds the biological process \"mitophagy\" to the BRCA2 set\n",
    "# First, we should retrieve the value for the key BRCA2, then add the element to the set\n",
    "\n",
    "# If we want to make the code more generic then we can make this work for any given gene and biological process \n",
    "# we need to account that the gene might not be already there, but is for you to do on your own\n",
    "\n",
    "gene = \"BRCA2\"\n",
    "\n",
    "# get the set for BRCA2 - index by key or get\n",
    "value_set = gene_bp[\"BRCA2\"] \n",
    "value_set\n"
   ]
  },
  {
   "cell_type": "code",
   "execution_count": 36,
   "metadata": {},
   "outputs": [],
   "source": [
    "# check the dictionary"
   ]
  },
  {
   "cell_type": "code",
   "execution_count": 37,
   "metadata": {},
   "outputs": [
    {
     "data": {
      "text/plain": [
       "{'TP53': {'DNA repair',\n",
       "  'apoptosis',\n",
       "  'cell senescence',\n",
       "  'cell-cycle arrest',\n",
       "  'metabolic adaptations'},\n",
       " 'BRCA1': {'DNA repair',\n",
       "  'cell cycle regulation',\n",
       "  'chromatin remodeling',\n",
       "  'transcriptional activation'},\n",
       " 'BRCA2': {'DNA repair',\n",
       "  'mitophagy',\n",
       "  'stabilization of replication fork',\n",
       "  'transcriptional and cell cycle regulation'}}"
      ]
     },
     "execution_count": 37,
     "metadata": {},
     "output_type": "execute_result"
    }
   ],
   "source": [
    "# all code together\n",
    "\n",
    "gene = \"BRCA2\"\n",
    "\n",
    "value_set = gene_bp[\"BRCA2\"]\n",
    "# add the value to the set\n",
    "value_set.add(\"mitophagy\")\n",
    "\n",
    "# check the dictionary - the set is changed - sets are mutable objects\n",
    "# the set in the dictionary and the one in the variable value_set are the same one\n",
    "# they point to the same location in memory where the set values are stored\n",
    "\n",
    "gene_bp"
   ]
  },
  {
   "cell_type": "code",
   "execution_count": null,
   "metadata": {},
   "outputs": [],
   "source": []
  },
  {
   "cell_type": "markdown",
   "metadata": {},
   "source": [
    "_____\n",
    "\n",
    "<b><font color = \"red\">Exercise</font> <br></b>\n",
    "\n",
    "- Take the following dictionary and create another dictionary where the keys are the same but the value is the number of transcripts that code for that gene"
   ]
  },
  {
   "cell_type": "code",
   "execution_count": 38,
   "metadata": {},
   "outputs": [],
   "source": [
    "gene_transcripts_map = { \n",
    "    \"Gene1\": (\"AACGTTACCCCCTTAAGGT\", \"AACGTTACAAGGT\", \"GTTACCCCCTTAAGGT\", \"ACCCCCTTAA\"),\n",
    "    \"Gene2\": (\"TACTGGGGGGGATACCCTAGTACCC\", \"TACGGGGGATACCCTAGTA\"),\n",
    "    \"Gene3\": (\"GTTTTAGCAAAGC\",)\n",
    "}"
   ]
  },
  {
   "cell_type": "code",
   "execution_count": 39,
   "metadata": {},
   "outputs": [],
   "source": [
    "# Write your solution here:\n",
    "\n",
    "\n"
   ]
  },
  {
   "cell_type": "code",
   "execution_count": 40,
   "metadata": {},
   "outputs": [],
   "source": [
    "# we need to access the items - and we need to access them by index\n",
    "# we need a sequence to do that so we can get the dictionaly items and set them up in a sequence type structure\n",
    "\n",
    "# the following line of code will give an error the dict_items object is not subscribable\n",
    "\n",
    "# gene_transcripts_map.items()[0]\n",
    "\n",
    "\n"
   ]
  },
  {
   "cell_type": "code",
   "execution_count": 41,
   "metadata": {},
   "outputs": [
    {
     "data": {
      "text/plain": [
       "[('Gene1',\n",
       "  ('AACGTTACCCCCTTAAGGT', 'AACGTTACAAGGT', 'GTTACCCCCTTAAGGT', 'ACCCCCTTAA')),\n",
       " ('Gene2', ('TACTGGGGGGGATACCCTAGTACCC', 'TACGGGGGATACCCTAGTA')),\n",
       " ('Gene3', ('GTTTTAGCAAAGC',))]"
      ]
     },
     "execution_count": 41,
     "metadata": {},
     "output_type": "execute_result"
    }
   ],
   "source": [
    "# we can make it a list using the list function\n",
    "\n",
    "items_list = list(gene_transcripts_map.items())\n",
    "items_list"
   ]
  },
  {
   "cell_type": "code",
   "execution_count": 42,
   "metadata": {},
   "outputs": [
    {
     "data": {
      "text/plain": [
       "('Gene1',\n",
       " ('AACGTTACCCCCTTAAGGT', 'AACGTTACAAGGT', 'GTTACCCCCTTAAGGT', 'ACCCCCTTAA'))"
      ]
     },
     "execution_count": 42,
     "metadata": {},
     "output_type": "execute_result"
    }
   ],
   "source": [
    "items_list[0]"
   ]
  },
  {
   "cell_type": "code",
   "execution_count": 43,
   "metadata": {},
   "outputs": [
    {
     "data": {
      "text/plain": [
       "(('Gene1',\n",
       "  ('AACGTTACCCCCTTAAGGT', 'AACGTTACAAGGT', 'GTTACCCCCTTAAGGT', 'ACCCCCTTAA')),\n",
       " ('Gene2', ('TACTGGGGGGGATACCCTAGTACCC', 'TACGGGGGATACCCTAGTA')),\n",
       " ('Gene3', ('GTTTTAGCAAAGC',)))"
      ]
     },
     "execution_count": 43,
     "metadata": {},
     "output_type": "execute_result"
    }
   ],
   "source": [
    "# but they never change so a tuple will be more appropriate - list would be ok for this purpose though\n",
    "\n",
    "items_tuple = tuple(gene_transcripts_map.items())\n",
    "items_tuple\n"
   ]
  },
  {
   "cell_type": "code",
   "execution_count": 44,
   "metadata": {},
   "outputs": [
    {
     "data": {
      "text/plain": [
       "('Gene1',\n",
       " ('AACGTTACCCCCTTAAGGT', 'AACGTTACAAGGT', 'GTTACCCCCTTAAGGT', 'ACCCCCTTAA'))"
      ]
     },
     "execution_count": 44,
     "metadata": {},
     "output_type": "execute_result"
    }
   ],
   "source": [
    "items_tuple[0]"
   ]
  },
  {
   "cell_type": "code",
   "execution_count": 45,
   "metadata": {},
   "outputs": [
    {
     "data": {
      "text/plain": [
       "{}"
      ]
     },
     "execution_count": 45,
     "metadata": {},
     "output_type": "execute_result"
    }
   ],
   "source": [
    "# now that we can access elements lets set up an empty dictionary where we will add items\n",
    "\n",
    "transcript_count = {}\n",
    "transcript_count"
   ]
  },
  {
   "cell_type": "code",
   "execution_count": 46,
   "metadata": {},
   "outputs": [
    {
     "data": {
      "text/plain": [
       "{'Gene1': 4}"
      ]
     },
     "execution_count": 46,
     "metadata": {},
     "output_type": "execute_result"
    }
   ],
   "source": [
    "# let's build and add the first item\n",
    "# ('Gene1', ('AACGTTACCCCCTTAAGGT', 'AACGTTACAAGGT', 'GTTACCCCCTTAAGGT', 'ACCCCCTTAA'))\n",
    "# we get the key from the first element in the first tuple in the items_tuple\n",
    "# we get the value by counting the elements second element in the first tuple (which is by chance - a tuple)\n",
    "\n",
    "item = items_tuple[0]\n",
    "key = item[0]\n",
    "value = len(item[1])\n",
    "transcript_count[key] = value\n",
    "\n",
    "transcript_count"
   ]
  },
  {
   "cell_type": "code",
   "execution_count": 47,
   "metadata": {},
   "outputs": [
    {
     "data": {
      "text/plain": [
       "(('Gene1',\n",
       "  ('AACGTTACCCCCTTAAGGT', 'AACGTTACAAGGT', 'GTTACCCCCTTAAGGT', 'ACCCCCTTAA')),\n",
       " ('Gene2', ('TACTGGGGGGGATACCCTAGTACCC', 'TACGGGGGATACCCTAGTA')),\n",
       " ('Gene3', ('GTTTTAGCAAAGC',)))"
      ]
     },
     "execution_count": 47,
     "metadata": {},
     "output_type": "execute_result"
    }
   ],
   "source": [
    "# we do the same for the other 2 items - just changing the index in the items_tuple\n",
    "\n",
    "items_tuple"
   ]
  },
  {
   "cell_type": "code",
   "execution_count": 48,
   "metadata": {},
   "outputs": [
    {
     "data": {
      "text/plain": [
       "{'Gene1': 4, 'Gene2': 2}"
      ]
     },
     "execution_count": 48,
     "metadata": {},
     "output_type": "execute_result"
    }
   ],
   "source": [
    "item = items_tuple[1]\n",
    "key = item[0]\n",
    "value = len(item[1])\n",
    "transcript_count[key] = value\n",
    "\n",
    "transcript_count"
   ]
  },
  {
   "cell_type": "code",
   "execution_count": 49,
   "metadata": {},
   "outputs": [
    {
     "data": {
      "text/plain": [
       "{'Gene1': 4, 'Gene2': 2, 'Gene3': 1}"
      ]
     },
     "execution_count": 49,
     "metadata": {},
     "output_type": "execute_result"
    }
   ],
   "source": [
    "item = items_tuple[2]\n",
    "key = item[0]\n",
    "value = len(item[1])\n",
    "transcript_count[key] = value\n",
    "\n",
    "transcript_count"
   ]
  },
  {
   "cell_type": "code",
   "execution_count": 50,
   "metadata": {},
   "outputs": [
    {
     "data": {
      "text/plain": [
       "{'Gene1': 4, 'Gene2': 2, 'Gene3': 1}"
      ]
     },
     "execution_count": 50,
     "metadata": {},
     "output_type": "execute_result"
    }
   ],
   "source": [
    "# dictionary complete:\n",
    "\n",
    "transcript_count"
   ]
  },
  {
   "cell_type": "code",
   "execution_count": null,
   "metadata": {},
   "outputs": [],
   "source": []
  },
  {
   "cell_type": "code",
   "execution_count": null,
   "metadata": {},
   "outputs": [],
   "source": []
  },
  {
   "cell_type": "markdown",
   "metadata": {},
   "source": [
    "___\n",
    "<b><font color = \"red\">Exercise</font> <br><br></b>\n",
    "\n",
    "Explain the following code:\n"
   ]
  },
  {
   "cell_type": "code",
   "execution_count": 51,
   "metadata": {},
   "outputs": [
    {
     "name": "stdout",
     "output_type": "stream",
     "text": [
      "{0, 1, 2, 4}\n"
     ]
    }
   ],
   "source": [
    "amino_acid_code = { \n",
    "    \"G\": (\"GGA\", \"GGC\", \"GGT\", \"GGT\", \"_GC\"),\n",
    "    \"R\": (\"CGA\", \"CGC\", \"CGG\", \"CGT\"),\n",
    "    \"M\": (\"ATG\",)\n",
    "}\n",
    "\n",
    "\n",
    "x = set()\n",
    "nc_group = \"GC\"\n",
    "count_G = \" \".join(amino_acid_code[\"G\"]).count(nc_group)\n",
    "x.add(count_G)\n",
    "count_R = \" \".join(amino_acid_code[\"R\"]).count(nc_group)\n",
    "x.add(count_R)\n",
    "count_M = \" \".join(amino_acid_code[\"M\"]).count(nc_group)\n",
    "x.add(count_M)\n",
    "count_A = \" \".join(amino_acid_code.get(\"A\", (\"GCA\", \"GCC\", \"GCG\", \"GCT\"))).count(nc_group)\n",
    "x.add(count_A)\n",
    "print(x)"
   ]
  },
  {
   "cell_type": "code",
   "execution_count": 52,
   "metadata": {},
   "outputs": [],
   "source": [
    "# Write your solution here:\n",
    "\n",
    "\n"
   ]
  },
  {
   "cell_type": "code",
   "execution_count": null,
   "metadata": {},
   "outputs": [],
   "source": []
  },
  {
   "cell_type": "code",
   "execution_count": 53,
   "metadata": {},
   "outputs": [],
   "source": [
    "#___________________________\n",
    "# I am explaining the code in comments in each cell\n"
   ]
  },
  {
   "cell_type": "code",
   "execution_count": 54,
   "metadata": {},
   "outputs": [],
   "source": [
    "# set the variable amino_acid_code to the dictionary \n",
    "# with keys as the 1-letter abbreviation and \n",
    "# the values tuples of three letter strings (codons)\n",
    "\n",
    "amino_acid_code = { \n",
    "    \"G\": (\"GGA\", \"GGC\", \"GGT\", \"GGT\", \"_GC\"),\n",
    "    \"R\": (\"CGA\", \"CGC\", \"CGG\", \"CGT\"),\n",
    "    \"M\": (\"ATG\",)\n",
    "}"
   ]
  },
  {
   "cell_type": "code",
   "execution_count": 55,
   "metadata": {},
   "outputs": [
    {
     "data": {
      "text/plain": [
       "set()"
      ]
     },
     "execution_count": 55,
     "metadata": {},
     "output_type": "execute_result"
    }
   ],
   "source": [
    "# sets the variable x to an empty set\n",
    "\n",
    "x = set()\n",
    "x"
   ]
  },
  {
   "cell_type": "code",
   "execution_count": 56,
   "metadata": {},
   "outputs": [
    {
     "data": {
      "text/plain": [
       "'GC'"
      ]
     },
     "execution_count": 56,
     "metadata": {},
     "output_type": "execute_result"
    }
   ],
   "source": [
    "# sets the variable nc_group to to the string \"GC\"\n",
    "\n",
    "nc_group = \"GC\"\n",
    "nc_group"
   ]
  },
  {
   "cell_type": "code",
   "execution_count": 57,
   "metadata": {},
   "outputs": [
    {
     "data": {
      "text/plain": [
       "2"
      ]
     },
     "execution_count": 57,
     "metadata": {},
     "output_type": "execute_result"
    }
   ],
   "source": [
    "# counts the occurence of the nc_group (\"GC\") in the \n",
    "# concatenatenation (using space as separator) of \n",
    "# all the tuple elements from the value tuple for key \"G\"\n",
    "\n",
    "count_G = \" \".join(amino_acid_code[\"G\"]).count(nc_group)\n",
    "count_G"
   ]
  },
  {
   "cell_type": "code",
   "execution_count": 58,
   "metadata": {},
   "outputs": [
    {
     "data": {
      "text/plain": [
       "{2}"
      ]
     },
     "execution_count": 58,
     "metadata": {},
     "output_type": "execute_result"
    }
   ],
   "source": [
    "# adds the value from the variable count_G to the set\n",
    "# count_G is a number \n",
    "\n",
    "x.add(count_G)\n",
    "x"
   ]
  },
  {
   "cell_type": "code",
   "execution_count": 59,
   "metadata": {},
   "outputs": [
    {
     "data": {
      "text/plain": [
       "1"
      ]
     },
     "execution_count": 59,
     "metadata": {},
     "output_type": "execute_result"
    }
   ],
   "source": [
    "# counts the occurence of the nc_group (\"GC\") in the \n",
    "# concatenatenation (using space as separator) of \n",
    "# all the tuple elements from the value tuple for key \"R\"\n",
    "\n",
    "count_R = \" \".join(amino_acid_code[\"R\"]).count(nc_group)\n",
    "count_R"
   ]
  },
  {
   "cell_type": "code",
   "execution_count": 60,
   "metadata": {},
   "outputs": [
    {
     "data": {
      "text/plain": [
       "{1, 2}"
      ]
     },
     "execution_count": 60,
     "metadata": {},
     "output_type": "execute_result"
    }
   ],
   "source": [
    "# adds the value from the variable count_R to the set\n",
    "# count_R is a number \n",
    "\n",
    "x.add(count_R)\n",
    "x"
   ]
  },
  {
   "cell_type": "code",
   "execution_count": 61,
   "metadata": {},
   "outputs": [
    {
     "data": {
      "text/plain": [
       "0"
      ]
     },
     "execution_count": 61,
     "metadata": {},
     "output_type": "execute_result"
    }
   ],
   "source": [
    "# counts the occurence of the nc_group (\"GC\") in the \n",
    "# concatenatenation (using space as separator) of \n",
    "# all the tuple elements from the value tuple for key \"M\"\n",
    "\n",
    "count_M = \" \".join(amino_acid_code[\"M\"]).count(nc_group)\n",
    "count_M"
   ]
  },
  {
   "cell_type": "code",
   "execution_count": 62,
   "metadata": {},
   "outputs": [
    {
     "data": {
      "text/plain": [
       "{0, 1, 2}"
      ]
     },
     "execution_count": 62,
     "metadata": {},
     "output_type": "execute_result"
    }
   ],
   "source": [
    "# adds the value from the variable count_M to the set\n",
    "# count_M is a number \n",
    "\n",
    "x.add(count_M)\n",
    "x"
   ]
  },
  {
   "cell_type": "code",
   "execution_count": 63,
   "metadata": {},
   "outputs": [
    {
     "data": {
      "text/plain": [
       "4"
      ]
     },
     "execution_count": 63,
     "metadata": {},
     "output_type": "execute_result"
    }
   ],
   "source": [
    "# counts the occurence of the nc_group (\"GC\") in the \n",
    "# concatenatenation (using space as separator) of \n",
    "# all the tuple elements from the value tuple for key \"A\"\n",
    "# key \"A\" is not in the dictionary so the default value from the get method is used\n",
    "# the tuple of 4 (\"GCA\", \"GCC\", \"GCG\", \"GCT\")\n",
    "\n",
    "count_A = \" \".join(amino_acid_code.get(\"A\", (\"GCA\", \"GCC\", \"GCG\", \"GCT\"))).count(nc_group)\n",
    "count_A"
   ]
  },
  {
   "cell_type": "code",
   "execution_count": 64,
   "metadata": {},
   "outputs": [
    {
     "data": {
      "text/plain": [
       "{0, 1, 2, 4}"
      ]
     },
     "execution_count": 64,
     "metadata": {},
     "output_type": "execute_result"
    }
   ],
   "source": [
    "# adds the value from the variable count_A to the set\n",
    "# count_A is a number \n",
    "\n",
    "x.add(count_A)\n",
    "x"
   ]
  },
  {
   "cell_type": "code",
   "execution_count": 65,
   "metadata": {},
   "outputs": [
    {
     "name": "stdout",
     "output_type": "stream",
     "text": [
      "{0, 1, 2, 4}\n"
     ]
    }
   ],
   "source": [
    "# displays/prints set elements - the string representation of the set\n",
    "\n",
    "print(x)"
   ]
  },
  {
   "cell_type": "code",
   "execution_count": null,
   "metadata": {},
   "outputs": [],
   "source": []
  },
  {
   "cell_type": "markdown",
   "metadata": {},
   "source": [
    "_____\n",
    "\n",
    "<b><font color = \"red\">Exercise</font> <br></b>\n",
    "\n",
    "- Extract the sequence from the following text and check if it can code for Tryptophan.\n",
    "    - The sequence is at the end of a sentence and should be found after the text \"sequence is : \". \n",
    "- Extract the sequence length from the following text and check if it is the same as the length of the sequence you extracted.\n",
    "    - The sequence length is at the end of a sentence and should be found after the text \"sequence length is : \". \n",
    "- Extract the number of pubmed articles from the following text.\n",
    "    - The the number of pubmed articles should be found between the text \"pubmed returned \" and \" results\". \n",
    "\n",
    "\n",
    "\n",
    "\n",
    "```python\n",
    "\n",
    "text = \"We are analyzing the DNA sequence of the SRY gene. Which is potentially the shortest gene. The sequence is: AGAAGTGAGTTTTGGATAGTAAAATAAGTTTCGAACTCTGGCACCTTTCAATTTTGTCGCACTCTCCTTGTTTTTGACAATGCAATCATATGCTTCTGCTATGTTAAGCGTATTCAACAGCGATGATTACAGTCCAGCTGTGCAAGAGAATATTCCCGCTCTCCGGAGAAGCTCTTCCTTCCTTTGCACTGAAAGCTGTAACTCTAAGTATCAGTGTGAAACGGGAGAAAACAGTAAAGGCAACGTCCAGGATAGAGTGAAGCGACCCATGAACGCATTCATCGTGTGGTCTCGCGATCAGAGGCGCAAGATGGCTCTAGAGAATCCCAGAATGCGAAACTCAGAGATCAGCAAGCAGCTGGGATACCAGTGGAAAATGCTTACTGAAGCCGAAAAATGGCCATTCTTCCAGGAGGCACAGAAATTACAGGCCATGCACAGAGAGAAATACCCGAATTATAAGTATCGACCTCGTCGGAAGGCGAAGATGCTGCCGAAGAATTGCAGTTTGCTTCCCGCAGATCCCGCTTCGGTACTCTGCAGCGAAGTGCAACTGGACAACAGGTTGTACAGGGATGACTGTACGAAAGCCACACACTCAAGAATGGAGCACCAGCTAGGCCACTTACCGCCCATCAACGCAGCCAGCTCACCGCAGCAACGGGACCGCTACAGCCACTGGACAAAGCTGTAGGACAATCGGGTAACATTGGCTACAAAGACCTACCTAGATGCTCCTTTTTACGATAACTTACAGCCCTCACTTTCTTATGTTTAGTTTCAATATTGTTTTCTTTTCTCTGGCTAATAAAGGCCTTATTCATTTCA. The sequence length is: 828. The search by 'sry gene' in pubmed returned 204 results. We only checked the abstracts to be searched.\"\n",
    "```"
   ]
  },
  {
   "cell_type": "code",
   "execution_count": 66,
   "metadata": {},
   "outputs": [
    {
     "data": {
      "text/plain": [
       "\"We are analyzing the DNA sequence of the SRY gene. Which is potentially the shortest gene. The sequence is: AGAAGTGAGTTTTGGATAGTAAAATAAGTTTCGAACTCTGGCACCTTTCAATTTTGTCGCACTCTCCTTGTTTTTGACAATGCAATCATATGCTTCTGCTATGTTAAGCGTATTCAACAGCGATGATTACAGTCCAGCTGTGCAAGAGAATATTCCCGCTCTCCGGAGAAGCTCTTCCTTCCTTTGCACTGAAAGCTGTAACTCTAAGTATCAGTGTGAAACGGGAGAAAACAGTAAAGGCAACGTCCAGGATAGAGTGAAGCGACCCATGAACGCATTCATCGTGTGGTCTCGCGATCAGAGGCGCAAGATGGCTCTAGAGAATCCCAGAATGCGAAACTCAGAGATCAGCAAGCAGCTGGGATACCAGTGGAAAATGCTTACTGAAGCCGAAAAATGGCCATTCTTCCAGGAGGCACAGAAATTACAGGCCATGCACAGAGAGAAATACCCGAATTATAAGTATCGACCTCGTCGGAAGGCGAAGATGCTGCCGAAGAATTGCAGTTTGCTTCCCGCAGATCCCGCTTCGGTACTCTGCAGCGAAGTGCAACTGGACAACAGGTTGTACAGGGATGACTGTACGAAAGCCACACACTCAAGAATGGAGCACCAGCTAGGCCACTTACCGCCCATCAACGCAGCCAGCTCACCGCAGCAACGGGACCGCTACAGCCACTGGACAAAGCTGTAGGACAATCGGGTAACATTGGCTACAAAGACCTACCTAGATGCTCCTTTTTACGATAACTTACAGCCCTCACTTTCTTATGTTTAGTTTCAATATTGTTTTCTTTTCTCTGGCTAATAAAGGCCTTATTCATTTCA. The sequence length is: 828. The search by 'sry gene' in pubmed returned 204 results. We only checked the abstracts to be searched.\""
      ]
     },
     "execution_count": 66,
     "metadata": {},
     "output_type": "execute_result"
    }
   ],
   "source": [
    "text = \"We are analyzing the DNA sequence of the SRY gene. Which is potentially the shortest gene. The sequence is: AGAAGTGAGTTTTGGATAGTAAAATAAGTTTCGAACTCTGGCACCTTTCAATTTTGTCGCACTCTCCTTGTTTTTGACAATGCAATCATATGCTTCTGCTATGTTAAGCGTATTCAACAGCGATGATTACAGTCCAGCTGTGCAAGAGAATATTCCCGCTCTCCGGAGAAGCTCTTCCTTCCTTTGCACTGAAAGCTGTAACTCTAAGTATCAGTGTGAAACGGGAGAAAACAGTAAAGGCAACGTCCAGGATAGAGTGAAGCGACCCATGAACGCATTCATCGTGTGGTCTCGCGATCAGAGGCGCAAGATGGCTCTAGAGAATCCCAGAATGCGAAACTCAGAGATCAGCAAGCAGCTGGGATACCAGTGGAAAATGCTTACTGAAGCCGAAAAATGGCCATTCTTCCAGGAGGCACAGAAATTACAGGCCATGCACAGAGAGAAATACCCGAATTATAAGTATCGACCTCGTCGGAAGGCGAAGATGCTGCCGAAGAATTGCAGTTTGCTTCCCGCAGATCCCGCTTCGGTACTCTGCAGCGAAGTGCAACTGGACAACAGGTTGTACAGGGATGACTGTACGAAAGCCACACACTCAAGAATGGAGCACCAGCTAGGCCACTTACCGCCCATCAACGCAGCCAGCTCACCGCAGCAACGGGACCGCTACAGCCACTGGACAAAGCTGTAGGACAATCGGGTAACATTGGCTACAAAGACCTACCTAGATGCTCCTTTTTACGATAACTTACAGCCCTCACTTTCTTATGTTTAGTTTCAATATTGTTTTCTTTTCTCTGGCTAATAAAGGCCTTATTCATTTCA. The sequence length is: 828. The search by 'sry gene' in pubmed returned 204 results. We only checked the abstracts to be searched.\"\n",
    "\n",
    "text"
   ]
  },
  {
   "cell_type": "code",
   "execution_count": 67,
   "metadata": {},
   "outputs": [],
   "source": [
    "# Write your solution here:\n",
    "\n",
    "\n"
   ]
  },
  {
   "cell_type": "code",
   "execution_count": 68,
   "metadata": {},
   "outputs": [
    {
     "data": {
      "text/plain": [
       "95"
      ]
     },
     "execution_count": 68,
     "metadata": {},
     "output_type": "execute_result"
    }
   ],
   "source": [
    "# to extract the sequence we need to identify where it starts and ends \n",
    "# to be able to use subsetting to retrieve exactly the sequence text\n",
    "\n",
    "# first, we need to find the index of the text before the sequeence\n",
    "\n",
    "text_before = \"sequence is: \"\n",
    "index_tb = text.find(text_before)\n",
    "index_tb\n"
   ]
  },
  {
   "cell_type": "code",
   "execution_count": 69,
   "metadata": {},
   "outputs": [
    {
     "data": {
      "text/plain": [
       "108"
      ]
     },
     "execution_count": 69,
     "metadata": {},
     "output_type": "execute_result"
    }
   ],
   "source": [
    "# the start index needs to account for the length of the text \"sequence is: \"\n",
    "\n",
    "start_index = index_tb + len(text_before)\n",
    "start_index"
   ]
  },
  {
   "cell_type": "code",
   "execution_count": 70,
   "metadata": {},
   "outputs": [
    {
     "data": {
      "text/plain": [
       "936"
      ]
     },
     "execution_count": 70,
     "metadata": {},
     "output_type": "execute_result"
    }
   ],
   "source": [
    "# now, we compute the end index \n",
    "# since the sequence is at the end on a sentence we will look for \".\"\n",
    "# we start looking from where we found the text before \n",
    "# the stop index will be exactly the index of the \".\"\n",
    "\n",
    "text_after = \".\"\n",
    "index_ta = text.find(text_after, index_tb)\n",
    "stop_index = index_ta \n",
    "stop_index"
   ]
  },
  {
   "cell_type": "code",
   "execution_count": 71,
   "metadata": {},
   "outputs": [
    {
     "data": {
      "text/plain": [
       "'AGAAGTGAGTTTTGGATAGTAAAATAAGTTTCGAACTCTGGCACCTTTCAATTTTGTCGCACTCTCCTTGTTTTTGACAATGCAATCATATGCTTCTGCTATGTTAAGCGTATTCAACAGCGATGATTACAGTCCAGCTGTGCAAGAGAATATTCCCGCTCTCCGGAGAAGCTCTTCCTTCCTTTGCACTGAAAGCTGTAACTCTAAGTATCAGTGTGAAACGGGAGAAAACAGTAAAGGCAACGTCCAGGATAGAGTGAAGCGACCCATGAACGCATTCATCGTGTGGTCTCGCGATCAGAGGCGCAAGATGGCTCTAGAGAATCCCAGAATGCGAAACTCAGAGATCAGCAAGCAGCTGGGATACCAGTGGAAAATGCTTACTGAAGCCGAAAAATGGCCATTCTTCCAGGAGGCACAGAAATTACAGGCCATGCACAGAGAGAAATACCCGAATTATAAGTATCGACCTCGTCGGAAGGCGAAGATGCTGCCGAAGAATTGCAGTTTGCTTCCCGCAGATCCCGCTTCGGTACTCTGCAGCGAAGTGCAACTGGACAACAGGTTGTACAGGGATGACTGTACGAAAGCCACACACTCAAGAATGGAGCACCAGCTAGGCCACTTACCGCCCATCAACGCAGCCAGCTCACCGCAGCAACGGGACCGCTACAGCCACTGGACAAAGCTGTAGGACAATCGGGTAACATTGGCTACAAAGACCTACCTAGATGCTCCTTTTTACGATAACTTACAGCCCTCACTTTCTTATGTTTAGTTTCAATATTGTTTTCTTTTCTCTGGCTAATAAAGGCCTTATTCATTTCA'"
      ]
     },
     "execution_count": 71,
     "metadata": {},
     "output_type": "execute_result"
    }
   ],
   "source": [
    "# We subset to get the sequence\n",
    "\n",
    "extracted_text = text[start_index:stop_index]\n",
    "seq = extracted_text\n",
    "seq "
   ]
  },
  {
   "cell_type": "code",
   "execution_count": 72,
   "metadata": {},
   "outputs": [
    {
     "data": {
      "text/plain": [
       "828"
      ]
     },
     "execution_count": 72,
     "metadata": {},
     "output_type": "execute_result"
    }
   ],
   "source": [
    "# we apply the same approach for the length\n",
    "\n",
    "text_before = \"sequence length is: \"\n",
    "index_tb = text.find(text_before)\n",
    "\n",
    "start_index = index_tb + len(text_before)\n",
    "\n",
    "text_after = \".\"\n",
    "index_ta = text.find(text_after, index_tb)\n",
    "stop_index = index_ta \n",
    "\n",
    "extracted_text = text[start_index:stop_index]\n",
    "\n",
    "# we extracted a string\n",
    "# length should be a whole number so we make it int\n",
    "seq_len = int(extracted_text)\n",
    "seq_len\n"
   ]
  },
  {
   "cell_type": "code",
   "execution_count": 73,
   "metadata": {},
   "outputs": [
    {
     "data": {
      "text/plain": [
       "True"
      ]
     },
     "execution_count": 73,
     "metadata": {},
     "output_type": "execute_result"
    }
   ],
   "source": [
    "# check to see if it matches the actual length of the extracted seq\n",
    "len(seq) == seq_len\n"
   ]
  },
  {
   "cell_type": "code",
   "execution_count": 74,
   "metadata": {},
   "outputs": [
    {
     "data": {
      "text/plain": [
       "204"
      ]
     },
     "execution_count": 74,
     "metadata": {},
     "output_type": "execute_result"
    }
   ],
   "source": [
    "# we apply the same approach for the number of articles\n",
    "\n",
    "text_before = \"pubmed returned \"\n",
    "index_tb = text.find(text_before)\n",
    "\n",
    "start_index = index_tb + len(text_before)\n",
    "\n",
    "text_after = \" results\"\n",
    "index_ta = text.find(text_after, index_tb)\n",
    "stop_index = index_ta \n",
    "\n",
    "extracted_text = text[start_index:stop_index]\n",
    "\n",
    "# we extracted a string\n",
    "# this should be a whole number so we make it int\n",
    "articles_number = int(extracted_text)\n",
    "articles_number\n",
    "\n"
   ]
  },
  {
   "cell_type": "code",
   "execution_count": null,
   "metadata": {},
   "outputs": [],
   "source": []
  },
  {
   "cell_type": "code",
   "execution_count": null,
   "metadata": {},
   "outputs": [],
   "source": []
  },
  {
   "cell_type": "code",
   "execution_count": 75,
   "metadata": {},
   "outputs": [],
   "source": [
    "#==============================================="
   ]
  },
  {
   "cell_type": "code",
   "execution_count": null,
   "metadata": {},
   "outputs": [],
   "source": []
  },
  {
   "cell_type": "code",
   "execution_count": null,
   "metadata": {},
   "outputs": [],
   "source": []
  },
  {
   "cell_type": "code",
   "execution_count": null,
   "metadata": {},
   "outputs": [],
   "source": []
  },
  {
   "cell_type": "markdown",
   "metadata": {},
   "source": [
    "_______"
   ]
  }
 ],
 "metadata": {
  "kernelspec": {
   "display_name": "Python 3 (ipykernel)",
   "language": "python",
   "name": "python3"
  },
  "language_info": {
   "codemirror_mode": {
    "name": "ipython",
    "version": 3
   },
   "file_extension": ".py",
   "mimetype": "text/x-python",
   "name": "python",
   "nbconvert_exporter": "python",
   "pygments_lexer": "ipython3",
   "version": "3.9.12"
  }
 },
 "nbformat": 4,
 "nbformat_minor": 4
}
