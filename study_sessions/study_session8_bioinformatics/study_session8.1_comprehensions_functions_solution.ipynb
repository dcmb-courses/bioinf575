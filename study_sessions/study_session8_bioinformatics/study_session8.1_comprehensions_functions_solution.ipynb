{
 "cells": [
  {
   "cell_type": "markdown",
   "metadata": {},
   "source": [
    "#### SOLUTIONS"
   ]
  },
  {
   "cell_type": "markdown",
   "metadata": {},
   "source": [
    "### Study session 8.1 - comprehensions, generators \n",
    "#### BIOINF 575 - Fall 2023\n"
   ]
  },
  {
   "cell_type": "markdown",
   "metadata": {},
   "source": [
    "_____\n",
    "#### Function Definition - creating the function"
   ]
  },
  {
   "cell_type": "markdown",
   "metadata": {},
   "source": [
    "```python\n",
    "def function_name(arg1, arg2, darg=None):\n",
    "    # instructions to compute result\n",
    "    return result\n",
    "```"
   ]
  },
  {
   "cell_type": "markdown",
   "metadata": {},
   "source": [
    "#### Function Call - running the function"
   ]
  },
  {
   "cell_type": "markdown",
   "metadata": {},
   "source": [
    "```python\n",
    "function_result = function_name(val1, val2, dval)\n",
    "```"
   ]
  },
  {
   "cell_type": "markdown",
   "metadata": {},
   "source": [
    "#### Comprehensions\n",
    "\n",
    "```python\n",
    "# list comprehension\n",
    "[expression for element in sequence if condition]\n",
    "\n",
    "```\n",
    "\n",
    "\n",
    "\n",
    "<img src = \"https://4.bp.blogspot.com/-uRPZqKbIGwQ/XRtgWhC6qqI/AAAAAAAAH0w/--oGnwKsnpo00GwQgH2gV3RPwHwK8uONgCLcBGAs/s1600/comprehension.PNG\" width = 400/>\n",
    "\n",
    "https://4.bp.blogspot.com/-uRPZqKbIGwQ/XRtgWhC6qqI/AAAAAAAAH0w/--oGnwKsnpo00GwQgH2gV3RPwHwK8uONgCLcBGAs/s1600/comprehension.PNG"
   ]
  },
  {
   "cell_type": "markdown",
   "metadata": {},
   "source": [
    "____\n",
    "#### Gene regulatory network\n",
    "\n",
    "\"Formally speaking, a gene regulatory network or genetic regulatory network (GRN) is a collection of DNA segments in a cell which interact with each other (indirectly through their RNA and protein expression products) and with other substances in the cell, thereby governing the rates at which genes in the network are transcribed into mRNA. In general, each mRNA molecule goes on to make a specific protein (or set of proteins).\"  \n",
    "https://link.springer.com/referenceworkentry/10.1007%2F978-1-4419-9863-7_364\n",
    "\n",
    "https://www.ncbi.nlm.nih.gov/books/NBK26806/  \n",
    "https://www.ncbi.nlm.nih.gov/books/NBK21050/  \n",
    "https://www.ncbi.nlm.nih.gov/books/NBK26872/   \n",
    "https://www.sciencedirect.com/topics/biochemistry-genetics-and-molecular-biology/gene-repression   \n",
    "https://www.cell.com/cell/pdf/S0092-8674(18)30106-5.pdf   \n",
    "https://medlineplus.gov/genetics/understanding/howgeneswork/geneonoff/   \n",
    "\n",
    "<img src = \"https://media.springernature.com/original/springer-static/image/prt%3A978-1-4419-9863-7%2F7/MediaObjects/978-1-4419-9863-7_7_Part_Fig1-364_HTML.gif\" width = 200/>\n",
    "\n"
   ]
  },
  {
   "cell_type": "markdown",
   "metadata": {},
   "source": [
    "_____\n",
    "\n",
    "\n",
    "The `network` dictionary represents the above network where genes that activate other genes are keys and values are sets of the genes they directly activate (orange arrow from the key gene to the gene in the tuple that is the value). \n",
    "\n",
    "\n",
    "The `repressed_genes` list contains genes that have an incoming repression regulatory interaction (blue edge with the dot on the gene) from another gene (e.g. Gene2 is repressed by Gene5 so Gene2 should be in this list)\n",
    "- we do not include self-regulation (blue edges that start from and come bach to the same gene)\n"
   ]
  },
  {
   "cell_type": "code",
   "execution_count": 20,
   "metadata": {},
   "outputs": [],
   "source": [
    "network = {'Gene1': ('Gene2',),\n",
    " 'Gene2': ('Gene6',),\n",
    " 'Gene3': ('Gene1', 'Gene5'),\n",
    " 'Gene4': ('Gene2',),\n",
    " 'Gene5': ('Gene1',),\n",
    " 'Gene6': ('Gene1',)}"
   ]
  },
  {
   "cell_type": "code",
   "execution_count": 21,
   "metadata": {},
   "outputs": [
    {
     "data": {
      "text/plain": [
       "['Gene2', 'Gene3', 'Gene6']"
      ]
     },
     "execution_count": 21,
     "metadata": {},
     "output_type": "execute_result"
    }
   ],
   "source": [
    "repressed_genes = [\"Gene2\", \"Gene3\", \"Gene6\"]\n",
    "repressed_genes"
   ]
  },
  {
   "cell_type": "code",
   "execution_count": null,
   "metadata": {},
   "outputs": [],
   "source": []
  },
  {
   "cell_type": "markdown",
   "metadata": {},
   "source": [
    "### <font color = \"red\">Exercise</font>\n",
    "\n",
    "- Write a function that, for a given gene, uses the dictionary and the list mentioned above and computes a <b>list of the genes that the given gene directly activates</b> (there is an orange arrow form the given gene to the gene it directly activates) <b>and that are not also being repressed by another gene</b>.\n",
    "    - Test the function for at least three cases.\n",
    "\n",
    "\n"
   ]
  },
  {
   "cell_type": "code",
   "execution_count": 22,
   "metadata": {},
   "outputs": [],
   "source": [
    "#compute_directly_activated_gene_list_with_no_repression\n",
    "def compute_diract_gene(regulator_gene, network_dictionary = network, rep_genes = repressed_genes):\n",
    "    '''\n",
    "    Compute directly activated gene list with no repression for a given gene using \n",
    "    the network dictionary and the repressed list genes.\n",
    "    regulator_gene (str): the gene we compute the list of directly activated gene list\n",
    "    reg_network (dict): dictionary representing a regulatory network where the genes that activate other genes are keys \n",
    "                        and values are tuples of the genes they directly activate \n",
    "    rep_genes (list): list with genes that have a repression regulatory interaction (blue edge) from another gene\n",
    "    returns (list) list of the genes that the given gene directly activates \n",
    "                   and that are not also being repressed by another gene\n",
    "    '''\n",
    "    diract_gene_list = []\n",
    "    for diract_gene in network_dictionary.get(regulator_gene,()):\n",
    "        if not diract_gene in repressed_genes:\n",
    "            diract_gene_list.append(diract_gene)\n",
    "    return diract_gene_list"
   ]
  },
  {
   "cell_type": "code",
   "execution_count": 23,
   "metadata": {},
   "outputs": [],
   "source": [
    "#compute_directly_activated_gene_list_with_no_repression\n",
    "def compute_diract_gene(regulator_gene, network_dictionary = network, rep_genes = repressed_genes):\n",
    "    '''\n",
    "    Compute directly activated gene list with no repression for a given gene using \n",
    "    the network dictionary and the repressed list genes.\n",
    "    regulator_gene (str): the gene we compute the list of directly activated gene list\n",
    "    reg_network (dict): dictionary representing a regulatory network where the genes that activate other genes are keys \n",
    "                        and values are tuples of the genes they directly activate \n",
    "    rep_genes (list): list with genes that have a repression regulatory interaction (blue edge) from another gene\n",
    "    returns (list) list of the genes that the given gene directly activates \n",
    "                   and that are not also being repressed by another gene\n",
    "    '''\n",
    "    diract_gene_list = []\n",
    "    for diract_gene in network_dictionary.get(regulator_gene,()):\n",
    "        if not diract_gene in repressed_genes:\n",
    "            diract_gene_list.append(diract_gene)\n",
    "    return diract_gene_list"
   ]
  },
  {
   "cell_type": "code",
   "execution_count": 24,
   "metadata": {},
   "outputs": [],
   "source": [
    "#compute_directly_activated_gene_list_with_no_repression\n",
    "def compute_diract_gene(regulator_gene, network_dictionary = network, rep_genes = repressed_genes):\n",
    "    '''\n",
    "    Compute directly activated gene list with no repression for a given gene using \n",
    "    the network dictionary and the repressed list genes.\n",
    "    regulator_gene (str): the gene we compute the list of directly activated gene list\n",
    "    reg_network (dict): dictionary representing a regulatory network where the genes that activate other genes are keys \n",
    "                        and values are tuples of the genes they directly activate \n",
    "    rep_genes (list): list with genes that have a repression regulatory interaction (blue edge) from another gene\n",
    "    returns (list) list of the genes that the given gene directly activates \n",
    "                   and that are not also being repressed by another gene\n",
    "    '''\n",
    "    diract_gene_list = list(filter(lambda diract_gene: not diract_gene in repressed_genes, \n",
    "                                   network_dictionary.get(regulator_gene,())))\n",
    "    return diract_gene_list"
   ]
  },
  {
   "cell_type": "code",
   "execution_count": 25,
   "metadata": {},
   "outputs": [],
   "source": [
    "#compute_directly_activated_gene_list_with_no_repression\n",
    "def compute_diract_gene(regulator_gene, network_dictionary = network, rep_genes = repressed_genes):\n",
    "    '''\n",
    "    Compute directly activated gene list with no repression for a given gene using \n",
    "    the network dictionary and the repressed list genes.\n",
    "    regulator_gene (str): the gene we compute the list of directly activated gene list\n",
    "    reg_network (dict): dictionary representing a regulatory network where the genes that activate other genes are keys \n",
    "                        and values are tuples of the genes they directly activate \n",
    "    rep_genes (list): list with genes that have a repression regulatory interaction (blue edge) from another gene\n",
    "    returns (list) list of the genes that the given gene directly activates \n",
    "                   and that are not also being repressed by another gene\n",
    "    '''\n",
    "    diract_gene_list = list(set(network_dictionary.get(regulator_gene,())).difference(set(repressed_genes)))\n",
    "    return diract_gene_list"
   ]
  },
  {
   "cell_type": "code",
   "execution_count": 26,
   "metadata": {},
   "outputs": [
    {
     "name": "stdout",
     "output_type": "stream",
     "text": [
      "Help on function compute_diract_gene in module __main__:\n",
      "\n",
      "compute_diract_gene(regulator_gene, network_dictionary={'Gene1': ('Gene2',), 'Gene2': ('Gene6',), 'Gene3': ('Gene1', 'Gene5'), 'Gene4': ('Gene2',), 'Gene5': ('Gene1',), 'Gene6': ('Gene1',)}, rep_genes=['Gene2', 'Gene3', 'Gene6'])\n",
      "    Compute directly activated gene list with no repression for a given gene using \n",
      "    the network dictionary and the repressed list genes.\n",
      "    regulator_gene (str): the gene we compute the list of directly activated gene list\n",
      "    reg_network (dict): dictionary representing a regulatory network where the genes that activate other genes are keys \n",
      "                        and values are tuples of the genes they directly activate \n",
      "    rep_genes (list): list with genes that have a repression regulatory interaction (blue edge) from another gene\n",
      "    returns (list) list of the genes that the given gene directly activates \n",
      "                   and that are not also being repressed by another gene\n",
      "\n"
     ]
    }
   ],
   "source": [
    "help(compute_diract_gene)"
   ]
  },
  {
   "cell_type": "code",
   "execution_count": 27,
   "metadata": {},
   "outputs": [
    {
     "name": "stdout",
     "output_type": "stream",
     "text": [
      "Help on function compute_diract_gene in module __main__:\n",
      "\n",
      "compute_diract_gene(regulator_gene, network_dictionary={'Gene1': ('Gene2',), 'Gene2': ('Gene6',), 'Gene3': ('Gene1', 'Gene5'), 'Gene4': ('Gene2',), 'Gene5': ('Gene1',), 'Gene6': ('Gene1',)}, rep_genes=['Gene2', 'Gene3', 'Gene6'])\n",
      "    Compute directly activated gene list with no repression for a given gene using \n",
      "    the network dictionary and the repressed list genes.\n",
      "    regulator_gene (str): the gene we compute the list of directly activated gene list\n",
      "    reg_network (dict): dictionary representing a regulatory network where the genes that activate other genes are keys \n",
      "                        and values are tuples of the genes they directly activate \n",
      "    rep_genes (list): list with genes that have a repression regulatory interaction (blue edge) from another gene\n",
      "    returns (list) list of the genes that the given gene directly activates \n",
      "                   and that are not also being repressed by another gene\n",
      "\n"
     ]
    }
   ],
   "source": [
    "help(compute_diract_gene)"
   ]
  },
  {
   "cell_type": "code",
   "execution_count": 28,
   "metadata": {},
   "outputs": [
    {
     "data": {
      "text/plain": [
       "['Gene5', 'Gene1']"
      ]
     },
     "execution_count": 28,
     "metadata": {},
     "output_type": "execute_result"
    }
   ],
   "source": [
    "compute_diract_gene(\"Gene3\")"
   ]
  },
  {
   "cell_type": "code",
   "execution_count": 29,
   "metadata": {},
   "outputs": [
    {
     "data": {
      "text/plain": [
       "[]"
      ]
     },
     "execution_count": 29,
     "metadata": {},
     "output_type": "execute_result"
    }
   ],
   "source": [
    "compute_diract_gene(\"Gene2\")"
   ]
  },
  {
   "cell_type": "code",
   "execution_count": 30,
   "metadata": {},
   "outputs": [
    {
     "data": {
      "text/plain": [
       "['Gene1']"
      ]
     },
     "execution_count": 30,
     "metadata": {},
     "output_type": "execute_result"
    }
   ],
   "source": [
    "compute_diract_gene(\"Gene6\")"
   ]
  },
  {
   "cell_type": "code",
   "execution_count": null,
   "metadata": {},
   "outputs": [],
   "source": []
  },
  {
   "cell_type": "code",
   "execution_count": null,
   "metadata": {},
   "outputs": [],
   "source": []
  },
  {
   "cell_type": "markdown",
   "metadata": {},
   "source": [
    "### <font color = \"red\">Exercise</font>\n",
    "\n",
    "- Use the map function and apply the function above to the following 3 genes (\"Gene2\", \"Gene3\", \"Gene5\") \n",
    "\n",
    "\n",
    "\n"
   ]
  },
  {
   "cell_type": "code",
   "execution_count": 31,
   "metadata": {},
   "outputs": [
    {
     "data": {
      "text/plain": [
       "[[], ['Gene5', 'Gene1'], ['Gene1']]"
      ]
     },
     "execution_count": 31,
     "metadata": {},
     "output_type": "execute_result"
    }
   ],
   "source": [
    "# set the 3 genes in a tuple or other iterable structure\n",
    "test_genes = (\"Gene2\", \"Gene3\", \"Gene5\")\n",
    "# if we have default values in compute_diract_gene for the rest of the parameters other than the gene\n",
    "# just call the map function wuth the compute_diract_gene genes and the test_genes tuple\n",
    "diract_genes_lists = list(map(compute_diract_gene, test_genes))\n",
    "diract_genes_lists"
   ]
  },
  {
   "cell_type": "code",
   "execution_count": 32,
   "metadata": {},
   "outputs": [
    {
     "data": {
      "text/plain": [
       "[[], ['Gene5', 'Gene1'], ['Gene1']]"
      ]
     },
     "execution_count": 32,
     "metadata": {},
     "output_type": "execute_result"
    }
   ],
   "source": [
    "# otherwise a lambda function can be used to have only one prameter \n",
    "# and set up the correct value for the rest of the parameters \n",
    "diract_genes_lists = list(map(lambda gene: compute_diract_gene(gene, network, repressed_genes) , test_genes))\n",
    "diract_genes_lists\n"
   ]
  },
  {
   "cell_type": "code",
   "execution_count": null,
   "metadata": {},
   "outputs": [],
   "source": []
  },
  {
   "cell_type": "markdown",
   "metadata": {},
   "source": [
    "### <font color = \"red\">Exercise</font>\n",
    "\n",
    "- Use the map function to make the lists in the result above sets\n",
    "\n",
    "\n",
    "\n"
   ]
  },
  {
   "cell_type": "code",
   "execution_count": 33,
   "metadata": {},
   "outputs": [
    {
     "data": {
      "text/plain": [
       "[set(), {'Gene1', 'Gene5'}, {'Gene1'}]"
      ]
     },
     "execution_count": 33,
     "metadata": {},
     "output_type": "execute_result"
    }
   ],
   "source": [
    "# simply use the map function with the set function and the \n",
    "# list computed at the previous exercise as parameters\n",
    "diract_genes_sets = list(map(set,diract_genes_lists))\n",
    "diract_genes_sets"
   ]
  },
  {
   "cell_type": "code",
   "execution_count": null,
   "metadata": {},
   "outputs": [],
   "source": []
  },
  {
   "cell_type": "markdown",
   "metadata": {},
   "source": [
    "### <font color = \"red\">Exercise</font>\n",
    "\n",
    "- Use the functools.reduce function to create a list with the elements of all these lists\n",
    "\n",
    "\n",
    "\n"
   ]
  },
  {
   "cell_type": "code",
   "execution_count": 34,
   "metadata": {},
   "outputs": [
    {
     "data": {
      "text/plain": [
       "{'Gene1', 'Gene5'}"
      ]
     },
     "execution_count": 34,
     "metadata": {},
     "output_type": "execute_result"
    }
   ],
   "source": [
    "# we can use the reduce function with the set.union function and \n",
    "# the result from the previous exercise as parameters\n",
    "\n",
    "from functools import reduce\n",
    "reduce(set.union, diract_genes_sets)\n"
   ]
  },
  {
   "cell_type": "code",
   "execution_count": null,
   "metadata": {},
   "outputs": [],
   "source": []
  },
  {
   "cell_type": "markdown",
   "metadata": {},
   "source": [
    "### <font color = \"red\">Exercise</font>\n",
    "\n",
    "- Use the map function to compute how many genes each each of the three test genes  directly activates\n",
    "\n",
    "\n",
    "\n"
   ]
  },
  {
   "cell_type": "code",
   "execution_count": null,
   "metadata": {},
   "outputs": [],
   "source": [
    "test_genes = (\"Gene2\", \"Gene3\", \"Gene5\")\n"
   ]
  },
  {
   "cell_type": "code",
   "execution_count": 35,
   "metadata": {},
   "outputs": [
    {
     "data": {
      "text/plain": [
       "{'Gene1': ('Gene2',),\n",
       " 'Gene2': ('Gene6',),\n",
       " 'Gene3': ('Gene1', 'Gene5'),\n",
       " 'Gene4': ('Gene2',),\n",
       " 'Gene5': ('Gene1',),\n",
       " 'Gene6': ('Gene1',)}"
      ]
     },
     "execution_count": 35,
     "metadata": {},
     "output_type": "execute_result"
    }
   ],
   "source": [
    "network"
   ]
  },
  {
   "cell_type": "code",
   "execution_count": 36,
   "metadata": {},
   "outputs": [
    {
     "data": {
      "text/plain": [
       "[1, 2, 1]"
      ]
     },
     "execution_count": 36,
     "metadata": {},
     "output_type": "execute_result"
    }
   ],
   "source": [
    "# we use map to appy a function that compute the number of gene each a test gene activates\n",
    "# however to compute that number we need to get the value from the network dictionary \n",
    "# using the test gene as a key and take the length of that tuple\n",
    "\n",
    "diract_counts = list(map(lambda x: len(network[x]), test_genes))\n",
    "diract_counts"
   ]
  },
  {
   "cell_type": "code",
   "execution_count": null,
   "metadata": {},
   "outputs": [],
   "source": []
  },
  {
   "cell_type": "code",
   "execution_count": null,
   "metadata": {},
   "outputs": [],
   "source": []
  },
  {
   "cell_type": "markdown",
   "metadata": {},
   "source": [
    "### <font color = \"red\">Exercise</font>\n",
    "\n",
    "- Use the zip function with the (\"Gene2\", \"Gene3\", \"Gene5\") and the results from previous exercise to create a dictionary with the genes being the key and the number of genes they directly activate being the values\n",
    "\n",
    "\n",
    "\n"
   ]
  },
  {
   "cell_type": "code",
   "execution_count": 37,
   "metadata": {},
   "outputs": [
    {
     "data": {
      "text/plain": [
       "{'Gene2': 1, 'Gene3': 2, 'Gene5': 1}"
      ]
     },
     "execution_count": 37,
     "metadata": {},
     "output_type": "execute_result"
    }
   ],
   "source": [
    "# call the function dict on the result of zip on the test_genes tuple and \n",
    "# te list computed at the previous exercise\n",
    "\n",
    "diract_counts_dict = dict(zip(test_genes,diract_counts))\n",
    "diract_counts_dict"
   ]
  },
  {
   "cell_type": "code",
   "execution_count": null,
   "metadata": {},
   "outputs": [],
   "source": []
  },
  {
   "cell_type": "markdown",
   "metadata": {},
   "source": [
    "### <font color = \"red\">Exercise</font>\n",
    "\n",
    "- Use the filter function to remove from this dictionary genes that activate less than 2 genes \n",
    "\n",
    "\n",
    "\n"
   ]
  },
  {
   "cell_type": "code",
   "execution_count": 39,
   "metadata": {},
   "outputs": [
    {
     "data": {
      "text/plain": [
       "{'Gene3': 2}"
      ]
     },
     "execution_count": 39,
     "metadata": {},
     "output_type": "execute_result"
    }
   ],
   "source": [
    "# we use on the result on calling fiter with a lambda function and the dictionary items\n",
    "# a dictionary item is a tuple and the function should check if the value is >= 2\n",
    "# the value is the second element (index 1) in the tuple \n",
    "# it is a simple expression so we write a lambda function that takes an item and implements the condition\n",
    "\n",
    "dict(filter(lambda item: item[1] >= 2, diract_counts_dict.items()))"
   ]
  },
  {
   "cell_type": "code",
   "execution_count": null,
   "metadata": {},
   "outputs": [],
   "source": []
  },
  {
   "cell_type": "code",
   "execution_count": null,
   "metadata": {},
   "outputs": [],
   "source": []
  },
  {
   "cell_type": "markdown",
   "metadata": {},
   "source": [
    "### <font color = \"red\">Exercise</font>\n",
    "\n",
    "- Write a comprehension that would give the list of factors for a number - list of numbers it is divisible by\n",
    "\n",
    "\n",
    "\n"
   ]
  },
  {
   "cell_type": "code",
   "execution_count": 3,
   "metadata": {},
   "outputs": [
    {
     "data": {
      "text/plain": [
       "[1, 5, 7, 35]"
      ]
     },
     "execution_count": 3,
     "metadata": {},
     "output_type": "execute_result"
    }
   ],
   "source": [
    "n = 35\n",
    "\n",
    "# go through all numbers from 1 to n ( generate those numbers using range)\n",
    "# if the given number is divisible by one of these numbers add it to the result\n",
    "[i for i in range(1, n+1) if n % i == 0]"
   ]
  },
  {
   "cell_type": "code",
   "execution_count": 7,
   "metadata": {},
   "outputs": [
    {
     "data": {
      "text/plain": [
       "[1, 5, 7, 35]"
      ]
     },
     "execution_count": 7,
     "metadata": {},
     "output_type": "execute_result"
    }
   ],
   "source": [
    "# we just need to check half of the numbers, \n",
    "# the rest would be too large for n to be divisible by them\n",
    "# we need to add n to the result - n divides by n\n",
    "\n",
    "[i for i in range(1, n//2) if n % i == 0] + [n]"
   ]
  },
  {
   "cell_type": "code",
   "execution_count": null,
   "metadata": {},
   "outputs": [],
   "source": []
  },
  {
   "cell_type": "markdown",
   "metadata": {},
   "source": [
    "### <font color = \"red\">Exercise</font>\n",
    "\n",
    "- Write a comprehension that would flip the values and keys in a dictionary, and collapse them into a set if we have duplicates\n",
    "\n",
    "\n",
    "\n"
   ]
  },
  {
   "cell_type": "markdown",
   "metadata": {},
   "source": [
    "https://pycon2018.trey.io"
   ]
  },
  {
   "cell_type": "code",
   "execution_count": 3,
   "metadata": {},
   "outputs": [],
   "source": [
    "codon_aa_map = {'ATA':'I', 'ATC':'I', 'ATT':'I', 'ATG':'M',\n",
    "    'ACA':'T', 'ACC':'T', 'ACG':'T', 'ACT':'T',\n",
    "    'AAC':'N', 'AAT':'N', 'AAA':'K', 'AAG':'K',\n",
    "    'AGC':'S', 'AGT':'S', 'AGA':'R', 'AGG':'R',\n",
    "    'CTA':'L', 'CTC':'L', 'CTG':'L', 'CTT':'L',\n",
    "    'CCA':'P', 'CCC':'P', 'CCG':'P', 'CCT':'P',\n",
    "    'CAC':'H', 'CAT':'H', 'CAA':'Q', 'CAG':'Q',\n",
    "    'CGA':'R', 'CGC':'R', 'CGG':'R', 'CGT':'R',\n",
    "    'GTA':'V', 'GTC':'V', 'GTG':'V', 'GTT':'V',\n",
    "    'GCA':'A', 'GCC':'A', 'GCG':'A', 'GCT':'A',\n",
    "    'GAC':'D', 'GAT':'D', 'GAA':'E', 'GAG':'E',\n",
    "    'GGA':'G', 'GGC':'G', 'GGG':'G', 'GGT':'G',\n",
    "    'TCA':'S', 'TCC':'S', 'TCG':'S', 'TCT':'S',\n",
    "    'TTC':'F', 'TTT':'F', 'TTA':'L', 'TTG':'L',\n",
    "    'TAC':'Y', 'TAT':'Y', 'TAA':'_', 'TAG':'_',\n",
    "    'TGC':'C', 'TGT':'C', 'TGA':'_', 'TGG':'W'}"
   ]
  },
  {
   "cell_type": "code",
   "execution_count": 5,
   "metadata": {},
   "outputs": [
    {
     "data": {
      "text/plain": [
       "{'I': 'ATT',\n",
       " 'M': 'ATG',\n",
       " 'T': 'ACT',\n",
       " 'N': 'AAT',\n",
       " 'K': 'AAG',\n",
       " 'S': 'TCT',\n",
       " 'R': 'CGT',\n",
       " 'L': 'TTG',\n",
       " 'P': 'CCT',\n",
       " 'H': 'CAT',\n",
       " 'Q': 'CAG',\n",
       " 'V': 'GTT',\n",
       " 'A': 'GCT',\n",
       " 'D': 'GAT',\n",
       " 'E': 'GAG',\n",
       " 'G': 'GGT',\n",
       " 'F': 'TTT',\n",
       " 'Y': 'TAT',\n",
       " '_': 'TGA',\n",
       " 'C': 'TGT',\n",
       " 'W': 'TGG'}"
      ]
     },
     "execution_count": 5,
     "metadata": {},
     "output_type": "execute_result"
    }
   ],
   "source": [
    "# use a dictionary comprehension build going through \n",
    "# the items of the initial dictionary codon_aa_map\n",
    "# then just flip the key and value in the output\n",
    "\n",
    "# this will keep only one value for the in the new dictionary \n",
    "# even if multiple codons code for the same amino acid\n",
    "\n",
    "{value: key for key, value in codon_aa_map.items()}"
   ]
  },
  {
   "cell_type": "code",
   "execution_count": 7,
   "metadata": {},
   "outputs": [
    {
     "data": {
      "text/plain": [
       "{'I': {'ATA', 'ATC', 'ATT'},\n",
       " 'M': {'ATG'},\n",
       " 'T': {'ACA', 'ACC', 'ACG', 'ACT'},\n",
       " 'N': {'AAC', 'AAT'},\n",
       " 'K': {'AAA', 'AAG'},\n",
       " 'S': {'AGC', 'AGT', 'TCA', 'TCC', 'TCG', 'TCT'},\n",
       " 'R': {'AGA', 'AGG', 'CGA', 'CGC', 'CGG', 'CGT'},\n",
       " 'L': {'CTA', 'CTC', 'CTG', 'CTT', 'TTA', 'TTG'},\n",
       " 'P': {'CCA', 'CCC', 'CCG', 'CCT'},\n",
       " 'H': {'CAC', 'CAT'},\n",
       " 'Q': {'CAA', 'CAG'},\n",
       " 'V': {'GTA', 'GTC', 'GTG', 'GTT'},\n",
       " 'A': {'GCA', 'GCC', 'GCG', 'GCT'},\n",
       " 'D': {'GAC', 'GAT'},\n",
       " 'E': {'GAA', 'GAG'},\n",
       " 'G': {'GGA', 'GGC', 'GGG', 'GGT'},\n",
       " 'F': {'TTC', 'TTT'},\n",
       " 'Y': {'TAC', 'TAT'},\n",
       " '_': {'TAA', 'TAG', 'TGA'},\n",
       " 'C': {'TGC', 'TGT'},\n",
       " 'W': {'TGG'}}"
      ]
     },
     "execution_count": 7,
     "metadata": {},
     "output_type": "execute_result"
    }
   ],
   "source": [
    "# we need to combine a dictionary comprehension with a set comprehension\n",
    "# the dictionary comprehension takes each amino acid /value from the initial dictionary codon_aa_map\n",
    "# and uses a set comprehension to build a set of codons for that specific amino acid /value\n",
    "# we use a predicate (if expression) to ensure we only retrieve the codons for the specific amino acid\n",
    "\n",
    "\n",
    "{val: {key for key, v in codon_aa_map.items() if val == v} for val in codon_aa_map.values()}"
   ]
  },
  {
   "cell_type": "code",
   "execution_count": 41,
   "metadata": {},
   "outputs": [
    {
     "data": {
      "text/plain": [
       "{'I': {'ATA', 'ATC', 'ATT'},\n",
       " 'M': {'ATG'},\n",
       " 'T': {'ACA', 'ACC', 'ACG', 'ACT'},\n",
       " 'N': {'AAC', 'AAT'},\n",
       " 'K': {'AAA', 'AAG'},\n",
       " 'S': {'AGC', 'AGT', 'TCA', 'TCC', 'TCG', 'TCT'},\n",
       " 'R': {'AGA', 'AGG', 'CGA', 'CGC', 'CGG', 'CGT'},\n",
       " 'L': {'CTA', 'CTC', 'CTG', 'CTT', 'TTA', 'TTG'},\n",
       " 'P': {'CCA', 'CCC', 'CCG', 'CCT'},\n",
       " 'H': {'CAC', 'CAT'},\n",
       " 'Q': {'CAA', 'CAG'},\n",
       " 'V': {'GTA', 'GTC', 'GTG', 'GTT'},\n",
       " 'A': {'GCA', 'GCC', 'GCG', 'GCT'},\n",
       " 'D': {'GAC', 'GAT'},\n",
       " 'E': {'GAA', 'GAG'},\n",
       " 'G': {'GGA', 'GGC', 'GGG', 'GGT'},\n",
       " 'F': {'TTC', 'TTT'},\n",
       " 'Y': {'TAC', 'TAT'},\n",
       " '_': {'TAA', 'TAG', 'TGA'},\n",
       " 'C': {'TGC', 'TGT'},\n",
       " 'W': {'TGG'}}"
      ]
     },
     "execution_count": 41,
     "metadata": {},
     "output_type": "execute_result"
    }
   ],
   "source": [
    "# another way to do the same thing with a for loop\n",
    "\n",
    "aa_codon_map = {}\n",
    "for key, value in codon_aa_map.items():\n",
    "    aa_codon_map.setdefault(value, set()).add(key)\n",
    "aa_codon_map"
   ]
  },
  {
   "cell_type": "code",
   "execution_count": 44,
   "metadata": {},
   "outputs": [
    {
     "data": {
      "text/plain": [
       "\u001b[0;31mSignature:\u001b[0m \u001b[0mdict\u001b[0m\u001b[0;34m.\u001b[0m\u001b[0msetdefault\u001b[0m\u001b[0;34m(\u001b[0m\u001b[0mself\u001b[0m\u001b[0;34m,\u001b[0m \u001b[0mkey\u001b[0m\u001b[0;34m,\u001b[0m \u001b[0mdefault\u001b[0m\u001b[0;34m=\u001b[0m\u001b[0;32mNone\u001b[0m\u001b[0;34m,\u001b[0m \u001b[0;34m/\u001b[0m\u001b[0;34m)\u001b[0m\u001b[0;34m\u001b[0m\u001b[0;34m\u001b[0m\u001b[0m\n",
       "\u001b[0;31mDocstring:\u001b[0m\n",
       "Insert key with a value of default if key is not in the dictionary.\n",
       "\n",
       "Return the value for key if key is in the dictionary, else default.\n",
       "\u001b[0;31mType:\u001b[0m      method_descriptor\n"
      ]
     },
     "metadata": {},
     "output_type": "display_data"
    }
   ],
   "source": [
    "# set default is a very versatile function \n",
    "# it combines dict.get with dd[key] = value in one single function\n",
    "\n",
    "dict.setdefault?"
   ]
  },
  {
   "cell_type": "code",
   "execution_count": null,
   "metadata": {},
   "outputs": [],
   "source": []
  },
  {
   "cell_type": "code",
   "execution_count": null,
   "metadata": {},
   "outputs": [],
   "source": []
  },
  {
   "cell_type": "markdown",
   "metadata": {},
   "source": [
    "### <font color = \"red\">Exercise</font>\n",
    "\n",
    "- Write a generator that computes all combinations of 3 nuclotides.\n",
    "\n",
    "\n",
    "\n"
   ]
  },
  {
   "cell_type": "code",
   "execution_count": 145,
   "metadata": {},
   "outputs": [],
   "source": [
    "# create groups of 3 nucleotides - order matters and we allow duplicates\n",
    "# for loops to get each of the three nucleotides is the best approach\n",
    "# then we yied\n",
    "def tri_nc_gen():\n",
    "    nucleotides = \"ACGT\"\n",
    "    for nc1 in nucleotides:\n",
    "        for nc2 in nucleotides:\n",
    "            for nc3 in nucleotides:\n",
    "                yield nc1 + nc2 +nc3"
   ]
  },
  {
   "cell_type": "code",
   "execution_count": 153,
   "metadata": {},
   "outputs": [
    {
     "name": "stdout",
     "output_type": "stream",
     "text": [
      "Help on function tri_nc_gen in module __main__:\n",
      "\n",
      "tri_nc_gen()\n",
      "    # create groups of 3 nucleotides - order matters and allow duplications\n",
      "    # for loops to get each of the three nucleotides is the best approach\n",
      "    # then we yied\n",
      "\n"
     ]
    }
   ],
   "source": [
    "# help \n",
    "help(tri_nc_gen)"
   ]
  },
  {
   "cell_type": "code",
   "execution_count": 146,
   "metadata": {},
   "outputs": [
    {
     "data": {
      "text/plain": [
       "<generator object tri_nc_gen at 0x7f80682eb120>"
      ]
     },
     "execution_count": 146,
     "metadata": {},
     "output_type": "execute_result"
    }
   ],
   "source": [
    "tri_peptides = tri_nc_gen()\n",
    "x"
   ]
  },
  {
   "cell_type": "code",
   "execution_count": 154,
   "metadata": {},
   "outputs": [
    {
     "name": "stdout",
     "output_type": "stream",
     "text": [
      "Help on generator object:\n",
      "\n",
      "tri_nc_gen = class generator(object)\n",
      " |  Methods defined here:\n",
      " |  \n",
      " |  __del__(...)\n",
      " |  \n",
      " |  __getattribute__(self, name, /)\n",
      " |      Return getattr(self, name).\n",
      " |  \n",
      " |  __iter__(self, /)\n",
      " |      Implement iter(self).\n",
      " |  \n",
      " |  __next__(self, /)\n",
      " |      Implement next(self).\n",
      " |  \n",
      " |  __repr__(self, /)\n",
      " |      Return repr(self).\n",
      " |  \n",
      " |  close(...)\n",
      " |      close() -> raise GeneratorExit inside generator.\n",
      " |  \n",
      " |  send(...)\n",
      " |      send(arg) -> send 'arg' into generator,\n",
      " |      return next yielded value or raise StopIteration.\n",
      " |  \n",
      " |  throw(...)\n",
      " |      throw(typ[,val[,tb]]) -> raise exception in generator,\n",
      " |      return next yielded value or raise StopIteration.\n",
      " |  \n",
      " |  ----------------------------------------------------------------------\n",
      " |  Data descriptors defined here:\n",
      " |  \n",
      " |  gi_code\n",
      " |  \n",
      " |  gi_frame\n",
      " |  \n",
      " |  gi_running\n",
      " |  \n",
      " |  gi_yieldfrom\n",
      " |      object being iterated by yield from, or None\n",
      "\n"
     ]
    }
   ],
   "source": [
    "help(tri_peptides)"
   ]
  },
  {
   "cell_type": "code",
   "execution_count": 147,
   "metadata": {},
   "outputs": [
    {
     "data": {
      "text/plain": [
       "'AAA'"
      ]
     },
     "execution_count": 147,
     "metadata": {},
     "output_type": "execute_result"
    }
   ],
   "source": [
    "next(tri_peptides)"
   ]
  },
  {
   "cell_type": "code",
   "execution_count": 148,
   "metadata": {},
   "outputs": [
    {
     "data": {
      "text/plain": [
       "<generator object tri_nc_gen at 0x7f80889b9430>"
      ]
     },
     "execution_count": 148,
     "metadata": {},
     "output_type": "execute_result"
    }
   ],
   "source": [
    "tri_peptides"
   ]
  },
  {
   "cell_type": "code",
   "execution_count": 149,
   "metadata": {},
   "outputs": [
    {
     "data": {
      "text/plain": [
       "'AAC'"
      ]
     },
     "execution_count": 149,
     "metadata": {},
     "output_type": "execute_result"
    }
   ],
   "source": [
    "next(tri_peptides)"
   ]
  },
  {
   "cell_type": "code",
   "execution_count": 150,
   "metadata": {},
   "outputs": [
    {
     "data": {
      "text/plain": [
       "'AAG'"
      ]
     },
     "execution_count": 150,
     "metadata": {},
     "output_type": "execute_result"
    }
   ],
   "source": [
    "next(tri_peptides)"
   ]
  },
  {
   "cell_type": "code",
   "execution_count": 151,
   "metadata": {},
   "outputs": [
    {
     "data": {
      "text/plain": [
       "['AAA',\n",
       " 'AAC',\n",
       " 'AAG',\n",
       " 'AAT',\n",
       " 'ACA',\n",
       " 'ACC',\n",
       " 'ACG',\n",
       " 'ACT',\n",
       " 'AGA',\n",
       " 'AGC',\n",
       " 'AGG',\n",
       " 'AGT',\n",
       " 'ATA',\n",
       " 'ATC',\n",
       " 'ATG',\n",
       " 'ATT',\n",
       " 'CAA',\n",
       " 'CAC',\n",
       " 'CAG',\n",
       " 'CAT',\n",
       " 'CCA',\n",
       " 'CCC',\n",
       " 'CCG',\n",
       " 'CCT',\n",
       " 'CGA',\n",
       " 'CGC',\n",
       " 'CGG',\n",
       " 'CGT',\n",
       " 'CTA',\n",
       " 'CTC',\n",
       " 'CTG',\n",
       " 'CTT',\n",
       " 'GAA',\n",
       " 'GAC',\n",
       " 'GAG',\n",
       " 'GAT',\n",
       " 'GCA',\n",
       " 'GCC',\n",
       " 'GCG',\n",
       " 'GCT',\n",
       " 'GGA',\n",
       " 'GGC',\n",
       " 'GGG',\n",
       " 'GGT',\n",
       " 'GTA',\n",
       " 'GTC',\n",
       " 'GTG',\n",
       " 'GTT',\n",
       " 'TAA',\n",
       " 'TAC',\n",
       " 'TAG',\n",
       " 'TAT',\n",
       " 'TCA',\n",
       " 'TCC',\n",
       " 'TCG',\n",
       " 'TCT',\n",
       " 'TGA',\n",
       " 'TGC',\n",
       " 'TGG',\n",
       " 'TGT',\n",
       " 'TTA',\n",
       " 'TTC',\n",
       " 'TTG',\n",
       " 'TTT']"
      ]
     },
     "execution_count": 151,
     "metadata": {},
     "output_type": "execute_result"
    }
   ],
   "source": [
    "# recreate generator and list all elements\n",
    "list(tri_nc_gen())"
   ]
  },
  {
   "cell_type": "code",
   "execution_count": null,
   "metadata": {},
   "outputs": [],
   "source": []
  }
 ],
 "metadata": {
  "kernelspec": {
   "display_name": "Python 3 (ipykernel)",
   "language": "python",
   "name": "python3"
  },
  "language_info": {
   "codemirror_mode": {
    "name": "ipython",
    "version": 3
   },
   "file_extension": ".py",
   "mimetype": "text/x-python",
   "name": "python",
   "nbconvert_exporter": "python",
   "pygments_lexer": "ipython3",
   "version": "3.9.12"
  }
 },
 "nbformat": 4,
 "nbformat_minor": 4
}
