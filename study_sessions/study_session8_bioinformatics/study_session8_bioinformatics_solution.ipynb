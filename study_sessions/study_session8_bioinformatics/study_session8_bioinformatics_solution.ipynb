{
 "cells": [
  {
   "cell_type": "markdown",
   "metadata": {},
   "source": [
    "#### SOLUTIONS"
   ]
  },
  {
   "cell_type": "markdown",
   "metadata": {
    "tags": []
   },
   "source": [
    "### Study session 8 - simply bioinformatics\n",
    "- Use data and control structures\n",
    "- Explore object attributes and methods\n",
    "- Use pandas, dataframes and explore new libraries\n",
    "\n",
    "#### BIOINF 575 - Fall 2023\n",
    "\n"
   ]
  },
  {
   "cell_type": "markdown",
   "metadata": {
    "tags": []
   },
   "source": [
    "\n",
    "____\n",
    "\n",
    "\n",
    "#### Read alignment analysis   \n",
    "We have the genome data/sequence for an organism and the sequence alingnment data for a (biological) sample from that organism.   \n",
    "We want to count how many reads align at each position in the genome.  \n",
    "This computation could be expanded further into the computation for creating a vcf file. \n",
    "\n",
    "\n",
    "\n",
    "\n"
   ]
  },
  {
   "cell_type": "markdown",
   "metadata": {},
   "source": [
    "_____\n",
    "\n",
    "#### <font color = \"red\">Exercise</font>\n",
    "\n",
    "\n",
    "<b>Initialize the genome counts list</b>   \n",
    "\n",
    "- Create a fasta file, `genome_example.fa`, that contains a first line with the genome description that starts with \">\" and then 3 lines with 5 random nucleotides.\n",
    "- Read the data from the the fasta file `genome_example.fa` and create/initialize a list for the genome.     \n",
    "    - Create a list where we have the value 0 for each nucleotide in the genome.\n"
   ]
  },
  {
   "cell_type": "code",
   "execution_count": 1,
   "metadata": {},
   "outputs": [],
   "source": [
    "## Write your solution here\n",
    "\n",
    "\n",
    "\n",
    "\n",
    "\n",
    "\n"
   ]
  },
  {
   "cell_type": "code",
   "execution_count": 2,
   "metadata": {},
   "outputs": [],
   "source": [
    "file_name = \"genome_example.fa\"\n",
    "with open(file_name, \"w\") as genome_file:\n",
    "    genome_file.write(\"> This the description of the test genome used for an exercise \\n\")\n",
    "    genome_file.write(\"CCAGT\\n\")\n",
    "    genome_file.write(\"GATCA\\n\")\n",
    "    genome_file.write(\"TTTAA\\n\")"
   ]
  },
  {
   "cell_type": "code",
   "execution_count": 3,
   "metadata": {},
   "outputs": [
    {
     "name": "stdout",
     "output_type": "stream",
     "text": [
      "> This the description of the test genome used for an exercise \n",
      "\n"
     ]
    }
   ],
   "source": [
    "# open the file and read the information line by line\n",
    "# where we have nucleotides ( ACGT or N = any) \n",
    "# we add a 0 in the genome positions list\n",
    "# because we do not have any reads aligning there yet\n",
    "\n",
    "file_name = \"genome_example.fa\"\n",
    "with open(file_name) as genome_file:\n",
    "    for line in genome_file:\n",
    "        print(line)\n",
    "        break # stop to see what we have on the first line\n",
    "    "
   ]
  },
  {
   "cell_type": "code",
   "execution_count": 4,
   "metadata": {},
   "outputs": [
    {
     "name": "stdout",
     "output_type": "stream",
     "text": [
      "CCAGT\n",
      "\n"
     ]
    }
   ],
   "source": [
    "# the first line has some genime information and \n",
    "# no nucleotides so I can ignore it\n",
    "# either read it and move on\n",
    "# or check for lines that do not start with >\n",
    "\n",
    "\n",
    "file_name = \"genome_example.fa\"\n",
    "with open(file_name) as genome_file:\n",
    "    genome_file.readline() # read and ignore the first line\n",
    "    for line in genome_file:\n",
    "        print(line)\n",
    "        break # stop to see what we have on the first line of nucleotides\n"
   ]
  },
  {
   "cell_type": "code",
   "execution_count": 5,
   "metadata": {},
   "outputs": [
    {
     "name": "stdout",
     "output_type": "stream",
     "text": [
      "CCAGT\n",
      "\n"
     ]
    }
   ],
   "source": [
    "# or check for lines that do not start with >\n",
    "\n",
    "file_name = \"genome_example.fa\"\n",
    "with open(file_name) as genome_file:\n",
    "    for line in genome_file:\n",
    "        if not line.startswith(\">\"):\n",
    "            print(line)\n",
    "            break # stop to see what we have on the first line of nucleotides\n",
    "\n"
   ]
  },
  {
   "cell_type": "code",
   "execution_count": 6,
   "metadata": {},
   "outputs": [],
   "source": [
    "# create empty list of positions\n",
    "genome_pos = [] \n",
    "\n",
    "file_name = \"genome_example.fa\"\n",
    "with open(file_name) as genome_file:\n",
    "    # read and ignore the first line because it does not have nucleotides\n",
    "    genome_file.readline()\n",
    "    for line in genome_file:\n",
    "        # go through each nucleotide one at a time, \n",
    "        # strip new line at the end of the line\n",
    "        for nc in line.strip():\n",
    "            # add a 0 for each nucleotide\n",
    "            genome_pos.append(0)\n",
    "        # stop to see what we have on the first line of nucleotides\n",
    "        # break "
   ]
  },
  {
   "cell_type": "code",
   "execution_count": 7,
   "metadata": {},
   "outputs": [
    {
     "name": "stdout",
     "output_type": "stream",
     "text": [
      "list/genome size: 15\n",
      "[0, 0, 0, 0, 0, 0, 0, 0, 0, 0, 0, 0, 0, 0, 0]\n"
     ]
    }
   ],
   "source": [
    "print(\"list/genome size:\" , len(genome_pos))\n",
    "print(genome_pos[:150])"
   ]
  },
  {
   "cell_type": "code",
   "execution_count": null,
   "metadata": {},
   "outputs": [],
   "source": []
  },
  {
   "cell_type": "markdown",
   "metadata": {
    "tags": []
   },
   "source": [
    "___\n",
    "\n",
    "#### <font color = \"red\">Exercise</font>\n",
    "\n",
    "\n",
    "<b>Count the number of reads that align at each position in the genome.</b>    \n",
    "\n",
    "For a given read sequence and position increase by 1 the values in the `genome_pos` list where this read aligned.\n",
    "- The read aligned at positions sarting with the read alignment position (it is 0-based and it is provided for each read), and spans as many positions as many characters the read sequence has.\n",
    "- Example: For a read ACT that aligned at poistion 4 (0-based) we would need to increase by 1 the values at indices 4,5, and 6 in the `genome_pos` list.\n"
   ]
  },
  {
   "cell_type": "markdown",
   "metadata": {},
   "source": [
    "```\n",
    "# lets align to a genome of. size 10 a read of 3 nucleotides starting at pos (0-based) 4:\n",
    "read.seq ACT\n",
    "read.pos 4\n",
    "genome_pos  0 0 0 0 0 0 0 0 0 0    # number of reads that align at. each position\n",
    "\n",
    "____\n",
    "read      :         A C T\n",
    "genome_pos: 0 0 0 0 1 1 1 0 0 0 0 \n",
    "index     : 0 1 2 3 4 5 6 7 8 9 10\n",
    "_____________\n",
    "\n",
    "# lets align to a genome of size 10 another read of 3 nucleotides starting at pos (0-based) 5:\n",
    "read.seq CAC\n",
    "read.pos 5\n",
    "____\n",
    "read      :         A C T\n",
    "read1     :           C A C\n",
    "genome_pos: 0 0 0 0 1 2 2 1 0 0 0\n",
    "index     : 0 1 2 3 4 5 6 7 8 9 10\n",
    "```"
   ]
  },
  {
   "cell_type": "code",
   "execution_count": 8,
   "metadata": {},
   "outputs": [],
   "source": [
    "# Let's say our genome has 15 positions:\n",
    "\n",
    "genome_pos = [0, 0, 0, 0, 0, 0, 0, 0, 0, 0, 0, 0, 0, 0, 0]\n"
   ]
  },
  {
   "cell_type": "code",
   "execution_count": 9,
   "metadata": {},
   "outputs": [],
   "source": [
    "# Align the following reads:\n",
    "# Each tuple of two contains \n",
    "#    the 0-based index where the read aligned and \n",
    "#    the read sequence\n",
    "\n",
    "reads = ((4,\"ACT\"), (5, \"CAT\"), (3, \"AAA\"), (6, \"TAC\"), (1,\"AGA\"))"
   ]
  },
  {
   "cell_type": "code",
   "execution_count": 10,
   "metadata": {},
   "outputs": [],
   "source": [
    "#### 012345678901234\n",
    "####     ACT\n",
    "####      CAT\n",
    "####    AAA\n",
    "####       TAC\n",
    "####  AGA"
   ]
  },
  {
   "cell_type": "code",
   "execution_count": 11,
   "metadata": {},
   "outputs": [],
   "source": [
    "## Write your solution here\n",
    "\n",
    "\n",
    "\n",
    "\n",
    "\n",
    "\n"
   ]
  },
  {
   "cell_type": "code",
   "execution_count": 12,
   "metadata": {},
   "outputs": [
    {
     "name": "stdout",
     "output_type": "stream",
     "text": [
      "(4, 'ACT')\n",
      "(5, 'CAT')\n",
      "(3, 'AAA')\n",
      "(6, 'TAC')\n",
      "(1, 'AGA')\n"
     ]
    }
   ],
   "source": [
    "# go through the reads one by one \n",
    "for read_tup in reads:\n",
    "    print(read_tup)"
   ]
  },
  {
   "cell_type": "code",
   "execution_count": 13,
   "metadata": {},
   "outputs": [
    {
     "name": "stdout",
     "output_type": "stream",
     "text": [
      "4 ACT\n",
      "5 CAT\n",
      "3 AAA\n",
      "6 TAC\n",
      "1 AGA\n"
     ]
    }
   ],
   "source": [
    "# go through the reads one by one \n",
    "# unpacking the tuple of 2 in read pos and seq\n",
    "for read_pos, read_seq in reads:\n",
    "    print(read_pos, read_seq)"
   ]
  },
  {
   "cell_type": "code",
   "execution_count": 14,
   "metadata": {},
   "outputs": [
    {
     "name": "stdout",
     "output_type": "stream",
     "text": [
      "4 ACT\n",
      "Aligned at position: 4 , nucleotide: A\n",
      "Aligned at position: 5 , nucleotide: C\n",
      "Aligned at position: 6 , nucleotide: T\n",
      "5 CAT\n",
      "Aligned at position: 5 , nucleotide: C\n",
      "Aligned at position: 6 , nucleotide: A\n",
      "Aligned at position: 7 , nucleotide: T\n",
      "3 AAA\n",
      "Aligned at position: 3 , nucleotide: A\n",
      "Aligned at position: 4 , nucleotide: A\n",
      "Aligned at position: 5 , nucleotide: A\n",
      "6 TAC\n",
      "Aligned at position: 6 , nucleotide: T\n",
      "Aligned at position: 7 , nucleotide: A\n",
      "Aligned at position: 8 , nucleotide: C\n",
      "1 AGA\n",
      "Aligned at position: 1 , nucleotide: A\n",
      "Aligned at position: 2 , nucleotide: G\n",
      "Aligned at position: 3 , nucleotide: A\n"
     ]
    }
   ],
   "source": [
    "# go through the reads one by one \n",
    "# unpacking the tuple of 2 in read pos and seq\n",
    "for read_pos, read_seq in reads:\n",
    "    print(read_pos, read_seq)\n",
    "    # go through each nucleotide in the read sequence \n",
    "    # and add 1 at the right position in the genome\n",
    "    # that is: read_pos + position of nucleotide in sequence\n",
    "    for nc_pos, nc in enumerate(read_seq):\n",
    "        g_idx = read_pos + nc_pos\n",
    "        print(\"Aligned at position:\", g_idx, \", nucleotide:\", nc)\n",
    "        \n",
    "        "
   ]
  },
  {
   "cell_type": "code",
   "execution_count": 15,
   "metadata": {},
   "outputs": [
    {
     "data": {
      "text/plain": [
       "[0, 0, 0, 0, 0, 0, 0, 0, 0, 0, 0, 0, 0, 0, 0]"
      ]
     },
     "execution_count": 15,
     "metadata": {},
     "output_type": "execute_result"
    }
   ],
   "source": [
    "# Nothing happened yet with the actual genome poistions\n",
    "# still empty\n",
    "\n",
    "genome_pos"
   ]
  },
  {
   "cell_type": "code",
   "execution_count": 16,
   "metadata": {},
   "outputs": [],
   "source": [
    "# might need to reset the positions \n",
    "# if we run the following cell too many times\n",
    "genome_pos = [0, 0, 0, 0, 0, 0, 0, 0, 0, 0, 0, 0, 0, 0, 0]"
   ]
  },
  {
   "cell_type": "code",
   "execution_count": 17,
   "metadata": {},
   "outputs": [
    {
     "name": "stdout",
     "output_type": "stream",
     "text": [
      "\n",
      "4 ACT\n",
      "Aligned at position: 4 , nucleotide: A\n",
      "Aligned at position: 5 , nucleotide: C\n",
      "Aligned at position: 6 , nucleotide: T\n",
      "\n",
      "5 CAT\n",
      "Aligned at position: 5 , nucleotide: C\n",
      "Aligned at position: 6 , nucleotide: A\n",
      "Aligned at position: 7 , nucleotide: T\n",
      "\n",
      "3 AAA\n",
      "Aligned at position: 3 , nucleotide: A\n",
      "Aligned at position: 4 , nucleotide: A\n",
      "Aligned at position: 5 , nucleotide: A\n",
      "\n",
      "6 TAC\n",
      "Aligned at position: 6 , nucleotide: T\n",
      "Aligned at position: 7 , nucleotide: A\n",
      "Aligned at position: 8 , nucleotide: C\n",
      "\n",
      "1 AGA\n",
      "Aligned at position: 1 , nucleotide: A\n",
      "Aligned at position: 2 , nucleotide: G\n",
      "Aligned at position: 3 , nucleotide: A\n",
      "\n",
      "Count of aligned reads:\n"
     ]
    },
    {
     "data": {
      "text/plain": [
       "[0, 1, 1, 2, 2, 3, 3, 2, 1, 0, 0, 0, 0, 0, 0]"
      ]
     },
     "execution_count": 17,
     "metadata": {},
     "output_type": "execute_result"
    }
   ],
   "source": [
    "# go through the reads one by one \n",
    "# unpacking the tuple of 2 in read pos and seq\n",
    "for read_pos, read_seq in reads:\n",
    "    print()\n",
    "    print(read_pos, read_seq)\n",
    "    # go through each nucleotide in the read sequence \n",
    "    # and add 1 at the right position in the genome\n",
    "    # that is: read_pos + position of nucleotide in sequence\n",
    "    for nc_pos, nc in enumerate(read_seq):\n",
    "        g_idx = read_pos + nc_pos\n",
    "        print(\"Aligned at position:\", g_idx, \", nucleotide:\", nc)\n",
    "        # actually add 1 to the value at the g_idx since we aligned a read there\n",
    "        genome_pos[g_idx] = genome_pos[g_idx] + 1\n",
    "\n",
    "print()\n",
    "print(\"Count of aligned reads:\")\n",
    "genome_pos"
   ]
  },
  {
   "cell_type": "code",
   "execution_count": null,
   "metadata": {},
   "outputs": [],
   "source": []
  },
  {
   "cell_type": "code",
   "execution_count": null,
   "metadata": {},
   "outputs": [],
   "source": []
  },
  {
   "cell_type": "code",
   "execution_count": null,
   "metadata": {},
   "outputs": [],
   "source": []
  },
  {
   "cell_type": "markdown",
   "metadata": {
    "tags": []
   },
   "source": [
    "___\n",
    "\n",
    "#### <font color = \"red\">Exercise</font>\n",
    "\n",
    "\n",
    "<b>Count the number of reads that align at each position in the genome.</b>  \n",
    "<b>Read data from a bam file</b>\n",
    "\n",
    "For a given read sequence and position increase by 1 the values in the `genome_pos` list where this read aligned.\n",
    "\n",
    "Read the data from the alignment file `sample.bam` using the bamnostic library one read at a time.\n",
    "\n",
    "https://github.com/betteridiot/bamnostic"
   ]
  },
  {
   "cell_type": "markdown",
   "metadata": {
    "tags": []
   },
   "source": [
    "#### To install the bamnostic package open a terminal and run:\n",
    "```bash\n",
    "pip install bamnostic\n",
    "```\n",
    "##### It is one of the install options provided in the documentation\n",
    "\n",
    "https://github.com/betteridiot/bamnostic\n",
    "\n",
    "If it does not work try another option\n",
    "\n",
    "There are 4 methods of installation available (choose one):\n",
    "\n",
    "Option 1: Through the conda package manager (Anaconda Cloud)\n",
    "\n",
    "```bash\n",
    "# first, add the conda-forge channel to your conda build\n",
    "conda config --add channels conda-forge\n",
    "\n",
    "# now bamnostic is available for install\n",
    "conda install bamnostic\n",
    "```\n",
    "\n",
    "Package documentation available at:\n",
    "https://bamnostic.readthedocs.io/en/latest/"
   ]
  },
  {
   "cell_type": "code",
   "execution_count": 18,
   "metadata": {},
   "outputs": [],
   "source": [
    "# import the bamnostic functionality\n",
    "# this will give an error if the package was not installed\n",
    "# so install the package before running this\n",
    "\n",
    "import bamnostic as bs"
   ]
  },
  {
   "cell_type": "code",
   "execution_count": 19,
   "metadata": {},
   "outputs": [
    {
     "name": "stdout",
     "output_type": "stream",
     "text": [
      "EAS56_57:6:190:289:82\t69\tchr1\t100\t0\t*\t=\t100\t0\tCTCAAGGTTGTTGCAAGGGGGTCTATGTGAACAAA\t<<<7<<<;<<<<<<<<8;;<7;4<;<;;;;;94<;\tMF:C:192\n"
     ]
    }
   ],
   "source": [
    "# Loading your BAM file (Note: CRAM format are not supported at this time)\n",
    "# Bamnostic comes with an example BAM (and respective BAI) file just to play around with the output. \n",
    "# This example file is made availble through bamnostic.example_bam, which is a just a string path to the BAM file within the package.\n",
    "\n",
    "bam = bs.AlignmentFile(bs.example_bam, 'rb')\n",
    "\n",
    "# the result of the AlignmentFile function is a generator that gives us the aligned reads from the bam file one by one.\n",
    "first_read = next(bam)\n",
    "print(first_read)"
   ]
  },
  {
   "cell_type": "code",
   "execution_count": 20,
   "metadata": {},
   "outputs": [
    {
     "data": {
      "text/plain": [
       "99"
      ]
     },
     "execution_count": 20,
     "metadata": {},
     "output_type": "execute_result"
    }
   ],
   "source": [
    "# display the position where the read aligned\n",
    "# the number right after chr1 (chromosome 1) in the result above\n",
    "first_read.pos"
   ]
  },
  {
   "cell_type": "code",
   "execution_count": 21,
   "metadata": {},
   "outputs": [
    {
     "data": {
      "text/plain": [
       "'CTCAAGGTTGTTGCAAGGGGGTCTATGTGAACAAA'"
      ]
     },
     "execution_count": 21,
     "metadata": {},
     "output_type": "execute_result"
    }
   ],
   "source": [
    "# display the read sequence\n",
    "first_read.seq"
   ]
  },
  {
   "cell_type": "code",
   "execution_count": 22,
   "metadata": {
    "tags": []
   },
   "outputs": [],
   "source": [
    "# do not forget to close the file\n",
    "bam.close()"
   ]
  },
  {
   "cell_type": "code",
   "execution_count": 23,
   "metadata": {},
   "outputs": [],
   "source": [
    "## Write your solution here\n",
    "\n",
    "\n",
    "\n",
    "\n",
    "\n",
    "\n"
   ]
  },
  {
   "cell_type": "code",
   "execution_count": 24,
   "metadata": {},
   "outputs": [
    {
     "name": "stdout",
     "output_type": "stream",
     "text": [
      "EAS54_65:4:137:319:642\t137\tchr1\t1\t99\t3M\t*\t0\t0\tACC\t<<<\tAq:C:41\tH0:C:0\tH1:C:1\tMF:C:18\tNM:C:2\tUQ:C:9\n",
      "\n",
      "EAS139_11:8:38:842:395\t73\tchr1\t2\t77\t3M\t*\t0\t0\tTAG\t<<<\tAq:C:77\tH0:C:1\tH1:C:0\tMF:C:32\tNM:C:0\tUQ:C:0\n",
      "\n",
      "EAS54_71:4:252:428:683\t137\tchr1\t2\t99\t3M\t*\t0\t0\tAAT\t<<<\tAq:C:69\tH0:C:1\tH1:C:0\tMF:C:18\tNM:C:0\tUQ:C:0\n",
      "\n",
      "EAS51_64:6:213:54:878\t137\tchr1\t3\t99\t3M\t*\t0\t0\tGCG\t<<<\tAq:C:69\tH0:C:1\tH1:C:0\tMF:C:18\tNM:C:1\tUQ:C:4\n",
      "\n"
     ]
    }
   ],
   "source": [
    "# now let's use the sample.bam\n",
    "# the.bai file is an index file that allows us to easily access the reads\n",
    "# there are usually millions of reads\n",
    "# this sample file only has 5\n",
    "\n",
    "sample_filename = \"sample.bam\"\n",
    "# we can open the file using the AlignmentFile function from the bamnostic package\n",
    "# it will retrive the reads just like the open function retrieves lines in a text file\n",
    "# see the sample.sam - it is the text format equivalent of the binary .bam file\n",
    "# the information in the sam file is similar to what you see in the output here\n",
    "with bs.AlignmentFile(sample_filename) as sample_bam:\n",
    "    for read in sample_bam:\n",
    "        print(read)\n",
    "        print()"
   ]
  },
  {
   "cell_type": "code",
   "execution_count": 25,
   "metadata": {},
   "outputs": [
    {
     "name": "stdout",
     "output_type": "stream",
     "text": [
      "0\n",
      "ACC\n",
      "\n",
      "1\n",
      "TAG\n",
      "\n",
      "1\n",
      "AAT\n",
      "\n",
      "2\n",
      "GCG\n",
      "\n"
     ]
    }
   ],
   "source": [
    "sample_filename = \"sample.bam\"\n",
    "# we can open the file using the AlignmentFile function from the bamnostic package\n",
    "# it will retrive the reads just like the open function retrieves lines in a text file\n",
    "# see the sample.sam - it is the text format equivalent of the binary .bam file\n",
    "# the information in the sam file is similar to what you see in the output here\n",
    "with bs.AlignmentFile(sample_filename) as sample_bam:\n",
    "    for read in sample_bam:\n",
    "        # print the read position and sequence\n",
    "        print(read.pos)\n",
    "        print(read.seq)\n",
    "        print()"
   ]
  },
  {
   "cell_type": "code",
   "execution_count": 26,
   "metadata": {},
   "outputs": [
    {
     "data": {
      "text/plain": [
       "[0, 1, 1, 2, 2, 3, 3, 2, 1, 0, 0, 0, 0, 0, 0]"
      ]
     },
     "execution_count": 26,
     "metadata": {},
     "output_type": "execute_result"
    }
   ],
   "source": [
    "# just in case we need to reset the genome positions\n",
    "# genome_pos = [0, 1, 1, 2, 2, 3, 3, 2, 1, 0, 0, 0, 0, 0, 0]\n",
    "genome_pos"
   ]
  },
  {
   "cell_type": "code",
   "execution_count": 27,
   "metadata": {},
   "outputs": [
    {
     "name": "stdout",
     "output_type": "stream",
     "text": [
      "before adding sample.bam reads\n",
      "[0, 1, 1, 2, 2, 3, 3, 2, 1, 0, 0, 0, 0, 0, 0]\n",
      "\n",
      "0 ACC\n",
      "Aligned at position: 0 , nucleotide: A\n",
      "[1, 1, 1, 2, 2, 3, 3, 2, 1, 0, 0, 0, 0, 0, 0]\n",
      "Aligned at position: 1 , nucleotide: C\n",
      "[1, 2, 1, 2, 2, 3, 3, 2, 1, 0, 0, 0, 0, 0, 0]\n",
      "Aligned at position: 2 , nucleotide: C\n",
      "[1, 2, 2, 2, 2, 3, 3, 2, 1, 0, 0, 0, 0, 0, 0]\n",
      "\n",
      "1 TAG\n",
      "Aligned at position: 1 , nucleotide: T\n",
      "[1, 3, 2, 2, 2, 3, 3, 2, 1, 0, 0, 0, 0, 0, 0]\n",
      "Aligned at position: 2 , nucleotide: A\n",
      "[1, 3, 3, 2, 2, 3, 3, 2, 1, 0, 0, 0, 0, 0, 0]\n",
      "Aligned at position: 3 , nucleotide: G\n",
      "[1, 3, 3, 3, 2, 3, 3, 2, 1, 0, 0, 0, 0, 0, 0]\n",
      "\n",
      "1 AAT\n",
      "Aligned at position: 1 , nucleotide: A\n",
      "[1, 4, 3, 3, 2, 3, 3, 2, 1, 0, 0, 0, 0, 0, 0]\n",
      "Aligned at position: 2 , nucleotide: A\n",
      "[1, 4, 4, 3, 2, 3, 3, 2, 1, 0, 0, 0, 0, 0, 0]\n",
      "Aligned at position: 3 , nucleotide: T\n",
      "[1, 4, 4, 4, 2, 3, 3, 2, 1, 0, 0, 0, 0, 0, 0]\n",
      "\n",
      "2 GCG\n",
      "Aligned at position: 2 , nucleotide: G\n",
      "[1, 4, 5, 4, 2, 3, 3, 2, 1, 0, 0, 0, 0, 0, 0]\n",
      "Aligned at position: 3 , nucleotide: C\n",
      "[1, 4, 5, 5, 2, 3, 3, 2, 1, 0, 0, 0, 0, 0, 0]\n",
      "Aligned at position: 4 , nucleotide: G\n",
      "[1, 4, 5, 5, 3, 3, 3, 2, 1, 0, 0, 0, 0, 0, 0]\n",
      "\n",
      "after adding sample.bam reads\n",
      "[1, 4, 5, 5, 3, 3, 3, 2, 1, 0, 0, 0, 0, 0, 0]\n"
     ]
    }
   ],
   "source": [
    "#### Increase the counts where these reads aligned\n",
    "\n",
    "print(\"before adding sample.bam reads\")\n",
    "print(genome_pos)\n",
    "print()\n",
    "\n",
    "sample_filename = \"sample.bam\"\n",
    "# we can open the file using the AlignmentFile function from the bamnostic package\n",
    "# it will retrive the reads just like the open function retrieves lines in a text file\n",
    "# see the sample.sam - it is the text format equivalent of the binary .bam file\n",
    "# the information in the sam file is similar to what you see in the output here\n",
    "with bs.AlignmentFile(sample_filename) as sample_bam:\n",
    "    for read in sample_bam:\n",
    "        print(read.pos, read.seq)\n",
    "        for nc_pos, nc in enumerate(read.seq):\n",
    "            g_idx = read.pos + nc_pos\n",
    "            print(\"Aligned at position:\", g_idx, \", nucleotide:\", nc)\n",
    "            # actually add 1 to the value at the g_idx since we aligned a read there\n",
    "            genome_pos[g_idx] = genome_pos[g_idx] + 1\n",
    "            print(genome_pos)\n",
    "        print()\n",
    "\n",
    "print(\"after adding sample.bam reads\")\n",
    "print(genome_pos)"
   ]
  },
  {
   "cell_type": "code",
   "execution_count": null,
   "metadata": {},
   "outputs": [],
   "source": []
  },
  {
   "cell_type": "code",
   "execution_count": 28,
   "metadata": {},
   "outputs": [
    {
     "name": "stdout",
     "output_type": "stream",
     "text": [
      "0 ACC\n",
      "1 TAG\n",
      "1 AAT\n"
     ]
    }
   ],
   "source": [
    "# if you have a large file that you do not want to go through\n",
    "# stop after a number of steps n\n",
    "\n",
    "n = 3\n",
    "\n",
    "sample_filename = \"sample.bam\"\n",
    "# we can open the file using the AlignmentFile function from the bamnostic package\n",
    "# it will retrive the reads just like the open function retrieves lines in a text file\n",
    "# see the sample.sam - it is the text format equivalent of the binary .bam file\n",
    "# the information in the sam file is similar to what you see in the output here\n",
    "steps = 0\n",
    "with bs.AlignmentFile(sample_filename) as sample_bam:\n",
    "    for read in sample_bam:\n",
    "        print(read.pos, read.seq)\n",
    "        \n",
    "        steps = steps + 1\n",
    "        if steps == n:\n",
    "            break\n",
    "\n"
   ]
  },
  {
   "cell_type": "code",
   "execution_count": null,
   "metadata": {},
   "outputs": [],
   "source": []
  },
  {
   "cell_type": "markdown",
   "metadata": {
    "tags": []
   },
   "source": [
    "___\n",
    "\n",
    "#### <font color = \"red\">Exercise</font>\n",
    "\n",
    "<b>Tally the nucleotides from a set of reads into a list of counters</b>    \n",
    "\n",
    "- We will have a list of 5 reads with 3 nucleotides each - we disregard the alignement position or we can  assume that all reads aligned at index 0\n",
    "- Create a list of 5 counters and tally the nucleotides occuring on the first position of the read, second position of the read and third position of the read\n",
    "- The Counter is a dictionary-like object type available in the collections module that allows for quick counts of the data. Keys are elements we want to count and values are the frequency.\n",
    "    - import the Counter functionality from the collections module\n"
   ]
  },
  {
   "cell_type": "code",
   "execution_count": 29,
   "metadata": {},
   "outputs": [],
   "source": [
    "reads = [\"ACG\", \"ACT\", \"AGT\", \"AAT\", \"ACC\"]"
   ]
  },
  {
   "cell_type": "code",
   "execution_count": 30,
   "metadata": {},
   "outputs": [],
   "source": [
    "# import the counter functionality\n",
    "\n",
    "from collections import Counter"
   ]
  },
  {
   "cell_type": "code",
   "execution_count": 31,
   "metadata": {},
   "outputs": [
    {
     "data": {
      "text/plain": [
       "Counter({'A': 1, 'C': 2, 'G': 1, 'T': 4})"
      ]
     },
     "execution_count": 31,
     "metadata": {},
     "output_type": "execute_result"
    }
   ],
   "source": [
    "# test to see if the Counter functionality was properly imported\n",
    "# create a Counter\n",
    "\n",
    "## It will count how many of each characthers you have\n",
    "Counter(\"ACCGTTTT\")"
   ]
  },
  {
   "cell_type": "code",
   "execution_count": 32,
   "metadata": {},
   "outputs": [
    {
     "data": {
      "text/plain": [
       "Counter()"
      ]
     },
     "execution_count": 32,
     "metadata": {},
     "output_type": "execute_result"
    }
   ],
   "source": [
    "# Create an empty counter\n",
    "\n",
    "c = Counter()\n",
    "c"
   ]
  },
  {
   "cell_type": "code",
   "execution_count": 33,
   "metadata": {},
   "outputs": [
    {
     "data": {
      "text/plain": [
       "Counter({'A': 1})"
      ]
     },
     "execution_count": 33,
     "metadata": {},
     "output_type": "execute_result"
    }
   ],
   "source": [
    "# update the counter\n",
    "# add an element to the counter\n",
    "# if you run this multiple time you will have multiple A's in the Counter\n",
    "\n",
    "c.update(\"A\")\n",
    "c"
   ]
  },
  {
   "cell_type": "code",
   "execution_count": 34,
   "metadata": {},
   "outputs": [
    {
     "data": {
      "text/plain": [
       "Counter({'A': 1, 'C': 1})"
      ]
     },
     "execution_count": 34,
     "metadata": {},
     "output_type": "execute_result"
    }
   ],
   "source": [
    "# add a C to the counter\n",
    "c.update(\"C\")\n",
    "c"
   ]
  },
  {
   "cell_type": "code",
   "execution_count": 35,
   "metadata": {},
   "outputs": [
    {
     "data": {
      "text/plain": [
       "Counter({'A': 1, 'C': 2})"
      ]
     },
     "execution_count": 35,
     "metadata": {},
     "output_type": "execute_result"
    }
   ],
   "source": [
    "# add another C to the counter\n",
    "c.update(\"C\")\n",
    "c"
   ]
  },
  {
   "cell_type": "code",
   "execution_count": 36,
   "metadata": {
    "tags": []
   },
   "outputs": [
    {
     "data": {
      "text/plain": [
       "['ACG', 'ACT', 'AGT', 'AAT', 'ACC']"
      ]
     },
     "execution_count": 36,
     "metadata": {},
     "output_type": "execute_result"
    }
   ],
   "source": [
    "# now let's get back to our problem\n",
    "reads"
   ]
  },
  {
   "cell_type": "code",
   "execution_count": 37,
   "metadata": {},
   "outputs": [],
   "source": [
    "## Write your solution here\n",
    "\n",
    "\n",
    "\n",
    "\n",
    "\n",
    "\n"
   ]
  },
  {
   "cell_type": "code",
   "execution_count": 38,
   "metadata": {},
   "outputs": [
    {
     "data": {
      "text/plain": [
       "[Counter(), Counter(), Counter()]"
      ]
     },
     "execution_count": 38,
     "metadata": {},
     "output_type": "execute_result"
    }
   ],
   "source": [
    "# now that we know how a Counter works\n",
    "# we will create a list of them, as many as the length of our reads\n",
    "\n",
    "# start with an empty list where we will add the counters\n",
    "read_counters = []\n",
    "\n",
    "# compute the number of counters we need\n",
    "# this will be the length of the read so we take the length of the first read\n",
    "counters_no = len(reads[0])\n",
    "\n",
    "# go through a range of numbers 0-length of read to add a counter to the list for each read nucleotide\n",
    "for i in range(counters_no):\n",
    "    read_counters.append(Counter())\n",
    "    \n",
    "# look at our list of counters\n",
    "read_counters"
   ]
  },
  {
   "cell_type": "code",
   "execution_count": 39,
   "metadata": {},
   "outputs": [
    {
     "data": {
      "text/plain": [
       "[Counter({'A': 5}),\n",
       " Counter({'C': 3, 'G': 1, 'A': 1}),\n",
       " Counter({'G': 1, 'T': 3, 'C': 1})]"
      ]
     },
     "execution_count": 39,
     "metadata": {},
     "output_type": "execute_result"
    }
   ],
   "source": [
    "# now we count nucleotides \n",
    "\n",
    "# go through the reads one by one\n",
    "for read_seq in reads:\n",
    "    \n",
    "    # go through each nucleotide in the current read, we need the index as well so we use enumerate\n",
    "    for i,nc in enumerate(read_seq):\n",
    "        \n",
    "        # get the counter from the counter list at the same position the nucleotide is in the read\n",
    "        c = read_counters[i]\n",
    "        \n",
    "        # add the nucleotide to the counter by updating the counter\n",
    "        c.update(nc)\n",
    "        \n",
    "# look at our list of counters\n",
    "# we should have the counts there now\n",
    "read_counters  "
   ]
  },
  {
   "cell_type": "code",
   "execution_count": 40,
   "metadata": {},
   "outputs": [
    {
     "data": {
      "text/plain": [
       "['ACG', 'ACT', 'AGT', 'AAT', 'ACC']"
      ]
     },
     "execution_count": 40,
     "metadata": {},
     "output_type": "execute_result"
    }
   ],
   "source": [
    "# look at the reads list to see if the counts are correct\n",
    "# at the first position in the read we have only A for all 5 reads \n",
    "# so the first counter in the list (read_counters) resulted from the cell above \n",
    "# should have only the key A with a value of 5\n",
    "\n",
    "reads"
   ]
  },
  {
   "cell_type": "code",
   "execution_count": null,
   "metadata": {},
   "outputs": [],
   "source": []
  },
  {
   "cell_type": "code",
   "execution_count": null,
   "metadata": {},
   "outputs": [],
   "source": []
  },
  {
   "cell_type": "markdown",
   "metadata": {
    "tags": []
   },
   "source": [
    "___\n",
    "\n",
    "#### <font color = \"red\">Exercise</font>\n",
    "\n",
    "\n",
    "<b> Roundworm length comparison - simulated data </b>\n",
    "\n",
    "We have measured two roundworms in 10 different day within 2 months and stored in the following dictionary.   \n",
    "Retrieve the measurement information when the difference in lengths between the two worms is less than 3.    \n",
    "Retrieve the result as a list with tuples of two: the measurement number/index and the difference in length.    \n"
   ]
  },
  {
   "cell_type": "code",
   "execution_count": 41,
   "metadata": {},
   "outputs": [],
   "source": [
    "worms_lengths = { \n",
    "    \"worm1\": [{\"length\": 47},\n",
    "              {\"length\": 54},\n",
    "              {\"length\": 55},\n",
    "              {\"length\": 67},\n",
    "              {\"length\": 68},\n",
    "              {\"length\": 68},\n",
    "              {\"length\": 70},\n",
    "              {\"length\": 72},\n",
    "              {\"length\": 72},\n",
    "              {\"length\": 75}],\n",
    "    \n",
    "    \"worm2\": [{\"length\": 42},\n",
    "              {\"length\": 53},\n",
    "              {\"length\": 55},\n",
    "              {\"length\": 62},\n",
    "              {\"length\": 64},\n",
    "              {\"length\": 67},\n",
    "              {\"length\": 70},\n",
    "              {\"length\": 70},\n",
    "              {\"length\": 70},\n",
    "              {\"length\": 71}]\n",
    "}"
   ]
  },
  {
   "cell_type": "code",
   "execution_count": 42,
   "metadata": {},
   "outputs": [],
   "source": [
    "## Write your solution here\n",
    "\n",
    "\n",
    "\n",
    "\n",
    "\n",
    "\n"
   ]
  },
  {
   "cell_type": "code",
   "execution_count": 43,
   "metadata": {},
   "outputs": [
    {
     "name": "stdout",
     "output_type": "stream",
     "text": [
      "47 42 5\n",
      "54 53 1\n",
      "55 55 0\n",
      "67 62 5\n",
      "68 64 4\n",
      "68 67 1\n",
      "70 70 0\n",
      "72 70 2\n",
      "72 70 2\n",
      "75 71 4\n"
     ]
    },
    {
     "data": {
      "text/plain": [
       "[(0, 5), (3, 5), (4, 4), (9, 4)]"
      ]
     },
     "execution_count": 43,
     "metadata": {},
     "output_type": "execute_result"
    }
   ],
   "source": [
    "# create an empty list to store the results in\n",
    "res = []\n",
    "\n",
    "# get the list for the worm1 key from the dictionary\n",
    "w1lst = worms_lengths[\"worm1\"]\n",
    "\n",
    "# get the list for the worm2 key from the dictionary\n",
    "w2lst = worms_lengths[\"worm2\"]\n",
    "\n",
    "# go through the elements/dictionaries of the list for worm1 one at the time\n",
    "# we need to get the matching element for the worm2 list so we use enumerate\n",
    "for i,val in enumerate(w1lst):\n",
    "    \n",
    "    # get the value for the length key from the current dictionary from the worm1 list\n",
    "    w1len = val[\"length\"]\n",
    "    \n",
    "    # get the value for the length key from the matching dictionary from the worm2 list\n",
    "    # to get the matching dictionary form the worm2 list we use the index from the enumerate\n",
    "    w2len = w2lst[i][\"length\"]\n",
    "    \n",
    "    # compute the difference in lengths and take the absolute value\n",
    "    # we need the absolute value to compare with the threshold of 3\n",
    "    ldiff = abs(w1len - w2len)\n",
    "    \n",
    "    # print the length and the difference in lengths for the current measurement for the two worms\n",
    "    # NOTE: if the lists are large this may freeze the notebook because it will try to print too much\n",
    "    print(w1len, w2len, ldiff)\n",
    "    \n",
    "    # if the absolute value of the difference in lengths is more than 3 we have a change\n",
    "    if ldiff > 3:\n",
    "        # add a tuple with the position and the difference to the results list\n",
    "        res.append((i, ldiff))\n",
    "\n",
    "# check the result \n",
    "res"
   ]
  },
  {
   "cell_type": "code",
   "execution_count": null,
   "metadata": {},
   "outputs": [],
   "source": []
  },
  {
   "cell_type": "code",
   "execution_count": null,
   "metadata": {},
   "outputs": [],
   "source": []
  },
  {
   "cell_type": "code",
   "execution_count": null,
   "metadata": {},
   "outputs": [],
   "source": []
  },
  {
   "cell_type": "markdown",
   "metadata": {},
   "source": [
    "___\n",
    "\n",
    "#### <font color = \"red\">Exercise</font>\n",
    "\n",
    "\n",
    "<b> Combination of sequences with the best GC count </b>\n",
    "\n",
    "We have a list with 5 sequences.    \n",
    "- Identify the combination of 2 sequences with the best GC content (order does not matter).\n",
    "    - Combination of seq1 = \"AAA\" and seq2 = \"CCC\" would be \"AAACCC\"\n",
    "    - The order does not matter means that if we combine seq1 with seq2 or seq2 with seq1 the GC content is still the same\n",
    "    - retieve the result as a tuple of seq1 seq 2 combination and GC count (as percentage = number between 0 and 100)"
   ]
  },
  {
   "cell_type": "code",
   "execution_count": 44,
   "metadata": {},
   "outputs": [],
   "source": [
    "sequences = [\"AACGTCCCAG\", \"AACATG\", \"GTTCCCGTTAC\", \"AAACGTTA\", \"ATAACGTAA\"]"
   ]
  },
  {
   "cell_type": "code",
   "execution_count": 45,
   "metadata": {},
   "outputs": [],
   "source": [
    "## Write your solution here\n",
    "\n",
    "\n",
    "\n",
    "\n",
    "\n",
    "\n"
   ]
  },
  {
   "cell_type": "code",
   "execution_count": 46,
   "metadata": {},
   "outputs": [
    {
     "name": "stdout",
     "output_type": "stream",
     "text": [
      "AACGTCCCAG AACGTCCCAG\n",
      "AACGTCCCAG AACATG\n",
      "AACGTCCCAG GTTCCCGTTAC\n",
      "AACGTCCCAG AAACGTTA\n",
      "AACGTCCCAG ATAACGTAA\n",
      "AACATG AACGTCCCAG\n",
      "AACATG AACATG\n",
      "AACATG GTTCCCGTTAC\n",
      "AACATG AAACGTTA\n",
      "AACATG ATAACGTAA\n",
      "GTTCCCGTTAC AACGTCCCAG\n",
      "GTTCCCGTTAC AACATG\n",
      "GTTCCCGTTAC GTTCCCGTTAC\n",
      "GTTCCCGTTAC AAACGTTA\n",
      "GTTCCCGTTAC ATAACGTAA\n",
      "AAACGTTA AACGTCCCAG\n",
      "AAACGTTA AACATG\n",
      "AAACGTTA GTTCCCGTTAC\n",
      "AAACGTTA AAACGTTA\n",
      "AAACGTTA ATAACGTAA\n",
      "ATAACGTAA AACGTCCCAG\n",
      "ATAACGTAA AACATG\n",
      "ATAACGTAA GTTCCCGTTAC\n",
      "ATAACGTAA AAACGTTA\n",
      "ATAACGTAA ATAACGTAA\n"
     ]
    }
   ],
   "source": [
    "# to construct the combination of 2 sequences we can use two for loops\n",
    "# similar to when we constructed all tri-peptides - all combinations of 3 nucleotides\n",
    "\n",
    "for seq1 in sequences:\n",
    "    for seq2 in sequences:\n",
    "        print(seq1, seq2)"
   ]
  },
  {
   "cell_type": "code",
   "execution_count": 47,
   "metadata": {},
   "outputs": [
    {
     "name": "stdout",
     "output_type": "stream",
     "text": [
      "0 0\n",
      "0 1\n",
      "0 2\n",
      "0 3\n",
      "0 4\n",
      "1 0\n",
      "1 1\n",
      "1 2\n",
      "1 3\n",
      "1 4\n",
      "2 0\n",
      "2 1\n",
      "2 2\n",
      "2 3\n",
      "2 4\n",
      "3 0\n",
      "3 1\n",
      "3 2\n",
      "3 3\n",
      "3 4\n",
      "4 0\n",
      "4 1\n",
      "4 2\n",
      "4 3\n",
      "4 4\n"
     ]
    }
   ],
   "source": [
    "# if we only need the indices we get the length and use range\n",
    "n = len(sequences)\n",
    "for idx1 in range(n):\n",
    "    for idx2 in range(n):\n",
    "        print(idx1, idx2)"
   ]
  },
  {
   "cell_type": "code",
   "execution_count": 48,
   "metadata": {},
   "outputs": [
    {
     "name": "stdout",
     "output_type": "stream",
     "text": [
      "0 0\n",
      "AACGTCCCAG AACGTCCCAG\n",
      "0 1\n",
      "AACGTCCCAG AACATG\n",
      "0 2\n",
      "AACGTCCCAG GTTCCCGTTAC\n",
      "0 3\n",
      "AACGTCCCAG AAACGTTA\n",
      "0 4\n",
      "AACGTCCCAG ATAACGTAA\n",
      "1 0\n",
      "AACATG AACGTCCCAG\n",
      "1 1\n",
      "AACATG AACATG\n",
      "1 2\n",
      "AACATG GTTCCCGTTAC\n",
      "1 3\n",
      "AACATG AAACGTTA\n",
      "1 4\n",
      "AACATG ATAACGTAA\n",
      "2 0\n",
      "GTTCCCGTTAC AACGTCCCAG\n",
      "2 1\n",
      "GTTCCCGTTAC AACATG\n",
      "2 2\n",
      "GTTCCCGTTAC GTTCCCGTTAC\n",
      "2 3\n",
      "GTTCCCGTTAC AAACGTTA\n",
      "2 4\n",
      "GTTCCCGTTAC ATAACGTAA\n",
      "3 0\n",
      "AAACGTTA AACGTCCCAG\n",
      "3 1\n",
      "AAACGTTA AACATG\n",
      "3 2\n",
      "AAACGTTA GTTCCCGTTAC\n",
      "3 3\n",
      "AAACGTTA AAACGTTA\n",
      "3 4\n",
      "AAACGTTA ATAACGTAA\n",
      "4 0\n",
      "ATAACGTAA AACGTCCCAG\n",
      "4 1\n",
      "ATAACGTAA AACATG\n",
      "4 2\n",
      "ATAACGTAA GTTCCCGTTAC\n",
      "4 3\n",
      "ATAACGTAA AAACGTTA\n",
      "4 4\n",
      "ATAACGTAA ATAACGTAA\n"
     ]
    }
   ],
   "source": [
    "# if we need the sequence and indices can use enumerate\n",
    "for idx1, seq1 in enumerate(sequences):\n",
    "    for idx2, seq2 in enumerate(sequences):\n",
    "        print(idx1, idx2)\n",
    "        print(seq1, seq2)"
   ]
  },
  {
   "cell_type": "code",
   "execution_count": 49,
   "metadata": {},
   "outputs": [
    {
     "name": "stdout",
     "output_type": "stream",
     "text": [
      "0 1\n",
      "0 2\n",
      "0 3\n",
      "0 4\n",
      "1 2\n",
      "1 3\n",
      "1 4\n",
      "2 3\n",
      "2 4\n",
      "3 4\n"
     ]
    }
   ],
   "source": [
    "# we do not want combinations of indicies that are the same  \n",
    "# also the second index should always be higher so we do not have \n",
    "# \"AAA\"+\"CCC\" and \"CCC\"+\"AAA\" one of them is enough\n",
    "# we can achieve that if we only take higher indices in the second for loop \n",
    "# so the second range should start from idx1 + 1\n",
    "\n",
    "n = len(sequences)\n",
    "for idx1 in range(n):\n",
    "    for idx2 in range(idx1 + 1, n):\n",
    "        print(idx1, idx2)"
   ]
  },
  {
   "cell_type": "code",
   "execution_count": 50,
   "metadata": {},
   "outputs": [
    {
     "name": "stdout",
     "output_type": "stream",
     "text": [
      "0 1\n",
      "AACGTCCCAG AACATG\n",
      "0 2\n",
      "AACGTCCCAG GTTCCCGTTAC\n",
      "0 3\n",
      "AACGTCCCAG AAACGTTA\n",
      "0 4\n",
      "AACGTCCCAG ATAACGTAA\n",
      "1 2\n",
      "AACATG GTTCCCGTTAC\n",
      "1 3\n",
      "AACATG AAACGTTA\n",
      "1 4\n",
      "AACATG ATAACGTAA\n",
      "2 3\n",
      "GTTCCCGTTAC AAACGTTA\n",
      "2 4\n",
      "GTTCCCGTTAC ATAACGTAA\n",
      "3 4\n",
      "AAACGTTA ATAACGTAA\n"
     ]
    }
   ],
   "source": [
    "# now let's combine the sequences \n",
    "# we use + to do string concatenation\n",
    "# we put a space just to know what is going on at this step\n",
    "\n",
    "n = len(sequences)\n",
    "for idx1 in range(n):\n",
    "    for idx2 in range(idx1 + 1, n):\n",
    "        print(idx1, idx2)\n",
    "        print(sequences[idx1] + \" \" +  sequences[idx2])"
   ]
  },
  {
   "cell_type": "code",
   "execution_count": 51,
   "metadata": {},
   "outputs": [
    {
     "name": "stdout",
     "output_type": "stream",
     "text": [
      "AACGTCCCAG AACATG AACGTCCCAGAACATG 50.0\n",
      "AACGTCCCAG GTTCCCGTTAC AACGTCCCAGGTTCCCGTTAC 57.142857142857146\n",
      "AACGTCCCAG AAACGTTA AACGTCCCAGAAACGTTA 44.44444444444444\n",
      "AACGTCCCAG ATAACGTAA AACGTCCCAGATAACGTAA 42.10526315789474\n",
      "AACATG GTTCCCGTTAC AACATGGTTCCCGTTAC 47.05882352941177\n",
      "AACATG AAACGTTA AACATGAAACGTTA 28.571428571428573\n",
      "AACATG ATAACGTAA AACATGATAACGTAA 26.666666666666668\n",
      "GTTCCCGTTAC AAACGTTA GTTCCCGTTACAAACGTTA 42.10526315789474\n",
      "GTTCCCGTTAC ATAACGTAA GTTCCCGTTACATAACGTAA 40.0\n",
      "AAACGTTA ATAACGTAA AAACGTTAATAACGTAA 23.529411764705884\n"
     ]
    }
   ],
   "source": [
    "# now let's compute the GC content\n",
    "# and print all required elements seq1, seq2, combination and GC content\n",
    "\n",
    "n = len(sequences)\n",
    "for idx1 in range(n):\n",
    "    for idx2 in range(idx1 + 1, n):\n",
    "        seq1 = sequences[idx1] \n",
    "        seq2 = sequences[idx2]\n",
    "        comb_seq = seq1 + seq2\n",
    "        GC = 100 * (comb_seq.count(\"C\") + comb_seq.count(\"G\"))/len(comb_seq)\n",
    "        print(seq1, seq2, comb_seq, GC)"
   ]
  },
  {
   "cell_type": "code",
   "execution_count": 52,
   "metadata": {},
   "outputs": [
    {
     "data": {
      "text/plain": [
       "('AACGTCCCAG', 'GTTCCCGTTAC', 'AACGTCCCAGGTTCCCGTTAC', 57.142857142857146)"
      ]
     },
     "execution_count": 52,
     "metadata": {},
     "output_type": "execute_result"
    }
   ],
   "source": [
    "# now we find the max GC\n",
    "# start with a low max and then we check each GC and keep track of the current GC max\n",
    "# we also keep track of the other elements we want to return: seq1, seq2, combination\n",
    "\n",
    "\n",
    "n = len(sequences)\n",
    "max_GC = -1 # low and impossible CG\n",
    "best_comb_tup = (\"\",\"\",\"\", max_GC) # prepare the tuple we want to retrieve\n",
    "\n",
    "for idx1 in range(n):\n",
    "    for idx2 in range(idx1 + 1, n):\n",
    "        seq1 = sequences[idx1] \n",
    "        seq2 = sequences[idx2]\n",
    "        comb_seq = seq1 + seq2\n",
    "        GC = 100 * (comb_seq.count(\"C\") + comb_seq.count(\"G\"))/len(comb_seq)\n",
    "        # comapre the newly computed GC with the current max_GC and if higher \n",
    "        # it is the new current max_GC \n",
    "        # we also keep track of the result we want to retrieve\n",
    "        if GC > max_GC:\n",
    "            max_GC = GC\n",
    "            best_comb_tup = (seq1, seq2, comb_seq, max_GC)\n",
    "            \n",
    "best_comb_tup\n"
   ]
  },
  {
   "cell_type": "code",
   "execution_count": null,
   "metadata": {},
   "outputs": [],
   "source": []
  },
  {
   "cell_type": "code",
   "execution_count": null,
   "metadata": {},
   "outputs": [],
   "source": []
  },
  {
   "cell_type": "code",
   "execution_count": null,
   "metadata": {},
   "outputs": [],
   "source": []
  }
 ],
 "metadata": {
  "kernelspec": {
   "display_name": "Python 3 (ipykernel)",
   "language": "python",
   "name": "python3"
  },
  "language_info": {
   "codemirror_mode": {
    "name": "ipython",
    "version": 3
   },
   "file_extension": ".py",
   "mimetype": "text/x-python",
   "name": "python",
   "nbconvert_exporter": "python",
   "pygments_lexer": "ipython3",
   "version": "3.9.12"
  }
 },
 "nbformat": 4,
 "nbformat_minor": 4
}
