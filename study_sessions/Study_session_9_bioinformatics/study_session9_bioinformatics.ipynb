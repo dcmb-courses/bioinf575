{
 "cells": [
  {
   "cell_type": "markdown",
   "metadata": {
    "tags": []
   },
   "source": [
    "### Study session 9 - simply bioinformatics\n",
    "- Use data and control structures\n",
    "- Explore object attributes and methods\n",
    "- Use pandas, dataframes and explore new libraries\n",
    "\n",
    "#### BIOINF 575 - Fall 2022\n",
    "\n"
   ]
  },
  {
   "cell_type": "markdown",
   "metadata": {
    "tags": []
   },
   "source": [
    "\n",
    "____\n",
    "\n",
    "\n",
    "#### Read alignment analysis   \n",
    "We have the genome data/sequence for an organism and the sequence alingnment data for a (biological) sample from that organism.   \n",
    "We want to count how many reads align at each position in the genome.  \n",
    "This computation could be expanded further into the computation for creating a vcf file. \n",
    "\n",
    "\n",
    "\n",
    "\n"
   ]
  },
  {
   "cell_type": "markdown",
   "metadata": {},
   "source": [
    "_____\n",
    "\n",
    "#### <font color = \"red\">Exercise</font>\n",
    "\n",
    "\n",
    "<b>Initialize the genome counts list</b>   \n",
    "\n",
    "- Create a fasta file, `genome_example.fa`, that contains a first line with the genome description (*> this is a test genome file*) and then 3 lines with 5 random nucleotides.\n",
    "- Read the data from the the fasta file `genome_example.fa` and create/initialize a list for the genome positions.     \n",
    "    - Create a list where we have the value 0 for each nucleotide in the genome.\n"
   ]
  },
  {
   "cell_type": "code",
   "execution_count": 1,
   "metadata": {},
   "outputs": [],
   "source": [
    "## Write your solution here\n",
    "\n",
    "\n",
    "\n",
    "\n",
    "\n",
    "\n"
   ]
  },
  {
   "cell_type": "code",
   "execution_count": null,
   "metadata": {},
   "outputs": [],
   "source": []
  },
  {
   "cell_type": "markdown",
   "metadata": {
    "tags": []
   },
   "source": [
    "___\n",
    "\n",
    "#### <font color = \"red\">Exercise</font>\n",
    "\n",
    "\n",
    "<b>Count the number of reads that align at each position in the genome.</b>    \n",
    "\n",
    "For a given read sequence and position increase by 1 the values in the `genome_pos` list where this read aligned.\n",
    "- The read aligned at positions sarting with the read alignment position (it is 0-based and it is provided for each read), and spans as many positions as many characters the read sequence has.\n",
    "- Example: For a read ACT that aligned at poistion 4 (0-based) we would need to increase by 1 the values at indices 4,5, and 6 in the `genome_pos` list.\n"
   ]
  },
  {
   "cell_type": "markdown",
   "metadata": {},
   "source": [
    "```\n",
    "# lets align to a genome of. size 10 a read of 3 nucleotides starting at pos (0-based) 4:\n",
    "read.seq ACT\n",
    "read.pos 4\n",
    "genome_pos  0 0 0 0 0 0 0 0 0 0    # number of reads that align at. each position\n",
    "\n",
    "____\n",
    "read      :         A C T\n",
    "genome_pos: 0 0 0 0 1 1 1 0 0 0 0 \n",
    "index     : 0 1 2 3 4 5 6 7 8 9 10\n",
    "_____________\n",
    "\n",
    "# lets align to a genome of size 10 another read of 3 nucleotides starting at pos (0-based) 5:\n",
    "read.seq CAC\n",
    "read.pos 5\n",
    "____\n",
    "read      :         A C T\n",
    "read1     :           C A C\n",
    "genome_pos: 0 0 0 0 1 2 2 1 0 0 0\n",
    "index     : 0 1 2 3 4 5 6 7 8 9 10\n",
    "```"
   ]
  },
  {
   "cell_type": "code",
   "execution_count": 8,
   "metadata": {},
   "outputs": [],
   "source": [
    "# Let's say our genome has 15 positions:\n",
    "\n",
    "genome_pos = [0, 0, 0, 0, 0, 0, 0, 0, 0, 0, 0, 0, 0, 0, 0]\n"
   ]
  },
  {
   "cell_type": "code",
   "execution_count": 9,
   "metadata": {},
   "outputs": [],
   "source": [
    "# Align the following reads:\n",
    "# Each tuple of two contains \n",
    "#    the 0-based index where the read aligned and \n",
    "#    the read sequence\n",
    "\n",
    "reads = ((4,\"ACT\"), (5, \"CAT\"), (3, \"AAA\"), (6, \"TAC\"), (1,\"AGA\"))"
   ]
  },
  {
   "cell_type": "code",
   "execution_count": 10,
   "metadata": {},
   "outputs": [],
   "source": [
    "#### 012345678901234\n",
    "####     ACT\n",
    "####      CAT\n",
    "####    AAA\n",
    "####       TAC\n",
    "####  AGA"
   ]
  },
  {
   "cell_type": "code",
   "execution_count": 11,
   "metadata": {},
   "outputs": [],
   "source": [
    "## Write your solution here\n",
    "\n",
    "\n",
    "\n",
    "\n",
    "\n",
    "\n"
   ]
  },
  {
   "cell_type": "code",
   "execution_count": null,
   "metadata": {},
   "outputs": [],
   "source": []
  },
  {
   "cell_type": "code",
   "execution_count": null,
   "metadata": {},
   "outputs": [],
   "source": []
  },
  {
   "cell_type": "code",
   "execution_count": null,
   "metadata": {},
   "outputs": [],
   "source": []
  },
  {
   "cell_type": "markdown",
   "metadata": {
    "tags": []
   },
   "source": [
    "___\n",
    "\n",
    "#### <font color = \"red\">Exercise</font>\n",
    "\n",
    "\n",
    "<b>Count the number of reads that align at each position in the genome.</b>  \n",
    "<b>Read data from a bam file</b>\n",
    "\n",
    "For a given read sequence and position increase by 1 the values in the `genome_pos` list where this read aligned.\n",
    "\n",
    "Read the data from the alignment file `sample.bam` using the bamnostic library one read at a time.\n",
    "\n",
    "https://github.com/betteridiot/bamnostic"
   ]
  },
  {
   "cell_type": "markdown",
   "metadata": {
    "tags": []
   },
   "source": [
    "#### To install the bamnostic package open a terminal and run:\n",
    "```bash\n",
    "pip install bamnostic\n",
    "```\n",
    "##### It is one of the install options provided in the documentation\n",
    "\n",
    "https://github.com/betteridiot/bamnostic\n",
    "\n",
    "If it does not work try another option\n",
    "\n",
    "There are 4 methods of installation available (choose one):\n",
    "\n",
    "Option 1: Through the conda package manager (Anaconda Cloud)\n",
    "\n",
    "```bash\n",
    "# first, add the conda-forge channel to your conda build\n",
    "conda config --add channels conda-forge\n",
    "\n",
    "# now bamnostic is available for install\n",
    "conda install bamnostic\n",
    "```\n",
    "\n",
    "Package documentation available at:\n",
    "https://bamnostic.readthedocs.io/en/latest/"
   ]
  },
  {
   "cell_type": "code",
   "execution_count": 18,
   "metadata": {},
   "outputs": [],
   "source": [
    "# import the bamnostic functionality\n",
    "# this will give an error if the package was not installed\n",
    "# so install the package before running this\n",
    "\n",
    "import bamnostic as bs"
   ]
  },
  {
   "cell_type": "code",
   "execution_count": 19,
   "metadata": {},
   "outputs": [
    {
     "name": "stdout",
     "output_type": "stream",
     "text": [
      "EAS56_57:6:190:289:82\t69\tchr1\t100\t0\t*\t=\t100\t0\tCTCAAGGTTGTTGCAAGGGGGTCTATGTGAACAAA\t<<<7<<<;<<<<<<<<8;;<7;4<;<;;;;;94<;\tMF:C:192\n"
     ]
    }
   ],
   "source": [
    "# Loading your BAM file (Note: CRAM format are not supported at this time)\n",
    "# Bamnostic comes with an example BAM (and respective BAI) file just to play around with the output. \n",
    "# This example file is made availble through bamnostic.example_bam, which is a just a string path to the BAM file within the package.\n",
    "\n",
    "bam = bs.AlignmentFile(bs.example_bam, 'rb')\n",
    "\n",
    "# the result of the AlignmentFile function is a generator that gives us the aligned reads from the bam file one by one.\n",
    "first_read = next(bam)\n",
    "print(first_read)"
   ]
  },
  {
   "cell_type": "code",
   "execution_count": 20,
   "metadata": {},
   "outputs": [
    {
     "data": {
      "text/plain": [
       "99"
      ]
     },
     "execution_count": 20,
     "metadata": {},
     "output_type": "execute_result"
    }
   ],
   "source": [
    "# display the position where the read aligned\n",
    "# the number right after chr1 (chromosome 1) in the result above\n",
    "first_read.pos"
   ]
  },
  {
   "cell_type": "code",
   "execution_count": 21,
   "metadata": {},
   "outputs": [
    {
     "data": {
      "text/plain": [
       "'CTCAAGGTTGTTGCAAGGGGGTCTATGTGAACAAA'"
      ]
     },
     "execution_count": 21,
     "metadata": {},
     "output_type": "execute_result"
    }
   ],
   "source": [
    "# display the read sequence\n",
    "first_read.seq"
   ]
  },
  {
   "cell_type": "code",
   "execution_count": 22,
   "metadata": {
    "tags": []
   },
   "outputs": [],
   "source": [
    "# do not forget to close the file\n",
    "bam.close()"
   ]
  },
  {
   "cell_type": "code",
   "execution_count": 23,
   "metadata": {},
   "outputs": [],
   "source": [
    "## Write your solution here\n",
    "\n",
    "\n",
    "\n",
    "\n",
    "\n",
    "\n"
   ]
  },
  {
   "cell_type": "code",
   "execution_count": null,
   "metadata": {},
   "outputs": [],
   "source": []
  },
  {
   "cell_type": "code",
   "execution_count": null,
   "metadata": {},
   "outputs": [],
   "source": []
  },
  {
   "cell_type": "markdown",
   "metadata": {
    "tags": []
   },
   "source": [
    "___\n",
    "\n",
    "#### <font color = \"red\">Exercise</font>\n",
    "\n",
    "<b>Tally the nucleotides from a set of reads into a list of counters</b>    \n",
    "\n",
    "- We will have a list of 5 reads with 3 nucleotides each - we disregard the alignement position or we can  assume that all reads aligned at index 0\n",
    "- Create a list of 5 counters and tally the nucleotides occuring on the first position of the read, second position of the read and third position of the read\n",
    "- The Counter is a dictionary-like object type available in the collections module that allows for quick counts of the data. Keys are elements we want to count and values are the frequency.\n",
    "    - import the Counter functionality from the collections module\n"
   ]
  },
  {
   "cell_type": "code",
   "execution_count": 29,
   "metadata": {},
   "outputs": [],
   "source": [
    "reads = [\"ACG\", \"ACT\", \"AGT\", \"AAT\", \"ACC\"]"
   ]
  },
  {
   "cell_type": "code",
   "execution_count": 30,
   "metadata": {},
   "outputs": [],
   "source": [
    "# import the counter functionality\n",
    "\n",
    "from collections import Counter"
   ]
  },
  {
   "cell_type": "code",
   "execution_count": 31,
   "metadata": {},
   "outputs": [
    {
     "data": {
      "text/plain": [
       "Counter({'A': 1, 'C': 2, 'G': 1, 'T': 4})"
      ]
     },
     "execution_count": 31,
     "metadata": {},
     "output_type": "execute_result"
    }
   ],
   "source": [
    "# test to see if the Counter functionality was properly imported\n",
    "# create a Counter\n",
    "\n",
    "## It will count how many of each characthers you have\n",
    "Counter(\"ACCGTTTT\")"
   ]
  },
  {
   "cell_type": "code",
   "execution_count": 32,
   "metadata": {},
   "outputs": [
    {
     "data": {
      "text/plain": [
       "Counter()"
      ]
     },
     "execution_count": 32,
     "metadata": {},
     "output_type": "execute_result"
    }
   ],
   "source": [
    "# Create an empty counter\n",
    "\n",
    "c = Counter()\n",
    "c"
   ]
  },
  {
   "cell_type": "code",
   "execution_count": 33,
   "metadata": {},
   "outputs": [
    {
     "data": {
      "text/plain": [
       "Counter({'A': 1})"
      ]
     },
     "execution_count": 33,
     "metadata": {},
     "output_type": "execute_result"
    }
   ],
   "source": [
    "# update the counter\n",
    "# add an element to the counter\n",
    "# if you run this multiple time you will have multiple A's in the Counter\n",
    "\n",
    "c.update(\"A\")\n",
    "c"
   ]
  },
  {
   "cell_type": "code",
   "execution_count": 34,
   "metadata": {},
   "outputs": [
    {
     "data": {
      "text/plain": [
       "Counter({'A': 1, 'C': 1})"
      ]
     },
     "execution_count": 34,
     "metadata": {},
     "output_type": "execute_result"
    }
   ],
   "source": [
    "# add a C to the counter\n",
    "c.update(\"C\")\n",
    "c"
   ]
  },
  {
   "cell_type": "code",
   "execution_count": 35,
   "metadata": {},
   "outputs": [
    {
     "data": {
      "text/plain": [
       "Counter({'A': 1, 'C': 2})"
      ]
     },
     "execution_count": 35,
     "metadata": {},
     "output_type": "execute_result"
    }
   ],
   "source": [
    "# add another C to the counter\n",
    "c.update(\"C\")\n",
    "c"
   ]
  },
  {
   "cell_type": "code",
   "execution_count": 36,
   "metadata": {
    "tags": []
   },
   "outputs": [
    {
     "data": {
      "text/plain": [
       "['ACG', 'ACT', 'AGT', 'AAT', 'ACC']"
      ]
     },
     "execution_count": 36,
     "metadata": {},
     "output_type": "execute_result"
    }
   ],
   "source": [
    "# now let's get back to our problem\n",
    "reads"
   ]
  },
  {
   "cell_type": "code",
   "execution_count": 37,
   "metadata": {},
   "outputs": [],
   "source": [
    "## Write your solution here\n",
    "\n",
    "\n",
    "\n",
    "\n",
    "\n",
    "\n"
   ]
  },
  {
   "cell_type": "code",
   "execution_count": null,
   "metadata": {},
   "outputs": [],
   "source": []
  },
  {
   "cell_type": "code",
   "execution_count": null,
   "metadata": {},
   "outputs": [],
   "source": []
  },
  {
   "cell_type": "markdown",
   "metadata": {},
   "source": [
    "___\n",
    "\n",
    "#### <font color = \"red\">Exercise</font>\n",
    "\n",
    "\n",
    "<b> Roundworm length comparison - simulated data </b>\n",
    "\n",
    "We have measured two roundworms in 10 different day within 2 months and stored in the following dictionary.   \n",
    "Retrieve the measurement information when the difference in lengths between the two worms is less than 3.    \n",
    "Retrieve the result as a list with tuples of two: the measurement number/index and the difference in length.    \n"
   ]
  },
  {
   "cell_type": "code",
   "execution_count": 41,
   "metadata": {},
   "outputs": [],
   "source": [
    "worms_lengths = { \n",
    "    \"worm1\": [{\"length\": 47},\n",
    "              {\"length\": 54},\n",
    "              {\"length\": 55},\n",
    "              {\"length\": 67},\n",
    "              {\"length\": 68},\n",
    "              {\"length\": 68},\n",
    "              {\"length\": 70},\n",
    "              {\"length\": 72},\n",
    "              {\"length\": 72},\n",
    "              {\"length\": 75}],\n",
    "    \n",
    "    \"worm2\": [{\"length\": 42},\n",
    "              {\"length\": 53},\n",
    "              {\"length\": 55},\n",
    "              {\"length\": 62},\n",
    "              {\"length\": 64},\n",
    "              {\"length\": 67},\n",
    "              {\"length\": 70},\n",
    "              {\"length\": 70},\n",
    "              {\"length\": 70},\n",
    "              {\"length\": 71}]\n",
    "}"
   ]
  },
  {
   "cell_type": "code",
   "execution_count": 42,
   "metadata": {},
   "outputs": [],
   "source": [
    "## Write your solution here\n",
    "\n",
    "\n",
    "\n",
    "\n",
    "\n",
    "\n"
   ]
  },
  {
   "cell_type": "code",
   "execution_count": null,
   "metadata": {},
   "outputs": [],
   "source": []
  },
  {
   "cell_type": "code",
   "execution_count": null,
   "metadata": {},
   "outputs": [],
   "source": []
  },
  {
   "cell_type": "code",
   "execution_count": null,
   "metadata": {},
   "outputs": [],
   "source": []
  },
  {
   "cell_type": "markdown",
   "metadata": {},
   "source": [
    "___\n",
    "___\n",
    "\n",
    "\n",
    "#### The worm genomic features file \n",
    "You will do a quick exploration of the data in the the GFF3 file for the C. elegans genome. The GFF3 file is `Caenorhabditis_elegans.WBcel235.91.gff3` and we worked with it in class during `Session 13`.\n",
    "The gff format is described here:      \n",
    "https://github.com/The-Sequence-Ontology/Specifications/blob/master/gff3.md.<br> \n",
    "\n",
    "After the comment and header lines (marked by \"#\"), a line in a GFF3 file (row of a table) is composed of 9 tab-delimited fields (columns). The first 8 are called features. These are all atomic (consist of only one element), so they get put into a dictionary features with no problems. You will need to define a key and you will have to generate those integers as you read the file in and add data to the dictionary.\n",
    "\n",
    "The ninth field will pose more of a problem. It consists of tag-value pairs. **The tag-value pairs are separated by a semi-colon, \";\". The the tag and value in a pair are  separated by equal signs, \"=\", and the values may consist of mulitiple, comma, \",\", separated entries.** Also, any value may be encoded as html-safe encoding. Caution: the encoded characters may be the same as those used to separate the components of the attributes field. To get rid of the encoding (these are  pairs of characters or digits preceded by the % sign), use the unquote() function from urllib.parse (`from urllib.parse import unquote`). Just be careful of when you use it - do it at the wrong time and you will mess up the parsing of attributes.\n",
    "\n",
    "From the definition of the GFF3 we have these fields\n",
    "\n",
    "Each line contains the following information for a genomic features:  `seqid, source, type, start, end, score, strand, phase, attributes`.\n",
    "\n",
    "\n",
    "The attributes column contains the following information: ;-separated pairs of tag=value, where the values may consist of mulitiple, comma, \",\", separated entries.\n",
    "\n",
    "\n"
   ]
  },
  {
   "cell_type": "markdown",
   "metadata": {},
   "source": [
    "____\n",
    "\n",
    "####  <font color = \"red\">Exercise</font>\n",
    "\n",
    "<b> Count short genomic features </b>\n",
    "- Open the `worm_genomic_features.csv` and check the format.\n",
    "    - It contains the data for 1000 genomic features and the first 4 columns from the gff file: `type, start, end`\n",
    "- There is code below that reads the data from the `worm_genomic_features.csv` and sets it up into a numpy array `features_arr` - we read it into a dataframe but to have an example relevant for the homework we use the array of values.\n",
    "- Count how many genomic features we have with a length < 5000\n",
    "\n",
    "\n"
   ]
  },
  {
   "cell_type": "code",
   "execution_count": 44,
   "metadata": {},
   "outputs": [],
   "source": [
    "# import the pandas and numpy functionality \n",
    "\n",
    "import pandas as pd\n",
    "import numpy as np"
   ]
  },
  {
   "cell_type": "code",
   "execution_count": 45,
   "metadata": {},
   "outputs": [
    {
     "data": {
      "text/html": [
       "<div>\n",
       "<style scoped>\n",
       "    .dataframe tbody tr th:only-of-type {\n",
       "        vertical-align: middle;\n",
       "    }\n",
       "\n",
       "    .dataframe tbody tr th {\n",
       "        vertical-align: top;\n",
       "    }\n",
       "\n",
       "    .dataframe thead th {\n",
       "        text-align: right;\n",
       "    }\n",
       "</style>\n",
       "<table border=\"1\" class=\"dataframe\">\n",
       "  <thead>\n",
       "    <tr style=\"text-align: right;\">\n",
       "      <th></th>\n",
       "      <th>0</th>\n",
       "      <th>1</th>\n",
       "      <th>2</th>\n",
       "    </tr>\n",
       "  </thead>\n",
       "  <tbody>\n",
       "    <tr>\n",
       "      <th>0</th>\n",
       "      <td>chromosome</td>\n",
       "      <td>1</td>\n",
       "      <td>15072434</td>\n",
       "    </tr>\n",
       "    <tr>\n",
       "      <th>1</th>\n",
       "      <td>ncRNA_gene</td>\n",
       "      <td>3747</td>\n",
       "      <td>3909</td>\n",
       "    </tr>\n",
       "    <tr>\n",
       "      <th>2</th>\n",
       "      <td>snoRNA</td>\n",
       "      <td>3747</td>\n",
       "      <td>3909</td>\n",
       "    </tr>\n",
       "    <tr>\n",
       "      <th>3</th>\n",
       "      <td>exon</td>\n",
       "      <td>3747</td>\n",
       "      <td>3909</td>\n",
       "    </tr>\n",
       "    <tr>\n",
       "      <th>4</th>\n",
       "      <td>gene</td>\n",
       "      <td>4116</td>\n",
       "      <td>10230</td>\n",
       "    </tr>\n",
       "    <tr>\n",
       "      <th>...</th>\n",
       "      <td>...</td>\n",
       "      <td>...</td>\n",
       "      <td>...</td>\n",
       "    </tr>\n",
       "    <tr>\n",
       "      <th>995</th>\n",
       "      <td>exon</td>\n",
       "      <td>152956</td>\n",
       "      <td>153345</td>\n",
       "    </tr>\n",
       "    <tr>\n",
       "      <th>996</th>\n",
       "      <td>CDS</td>\n",
       "      <td>152956</td>\n",
       "      <td>153345</td>\n",
       "    </tr>\n",
       "    <tr>\n",
       "      <th>997</th>\n",
       "      <td>exon</td>\n",
       "      <td>153395</td>\n",
       "      <td>153553</td>\n",
       "    </tr>\n",
       "    <tr>\n",
       "      <th>998</th>\n",
       "      <td>CDS</td>\n",
       "      <td>153395</td>\n",
       "      <td>153553</td>\n",
       "    </tr>\n",
       "    <tr>\n",
       "      <th>999</th>\n",
       "      <td>exon</td>\n",
       "      <td>153603</td>\n",
       "      <td>153680</td>\n",
       "    </tr>\n",
       "  </tbody>\n",
       "</table>\n",
       "<p>1000 rows × 3 columns</p>\n",
       "</div>"
      ],
      "text/plain": [
       "              0       1         2\n",
       "0    chromosome       1  15072434\n",
       "1    ncRNA_gene    3747      3909\n",
       "2        snoRNA    3747      3909\n",
       "3          exon    3747      3909\n",
       "4          gene    4116     10230\n",
       "..          ...     ...       ...\n",
       "995        exon  152956    153345\n",
       "996         CDS  152956    153345\n",
       "997        exon  153395    153553\n",
       "998         CDS  153395    153553\n",
       "999        exon  153603    153680\n",
       "\n",
       "[1000 rows x 3 columns]"
      ]
     },
     "execution_count": 45,
     "metadata": {},
     "output_type": "execute_result"
    }
   ],
   "source": [
    "# read the data from the file \n",
    "\n",
    "file_name = \"worm_genomic_features.csv\"\n",
    "\n",
    "# save the column names in a variable\n",
    "col_names = np.array([\"type\",\"start\",\"end\"])\n",
    "\n",
    "# read the data into a dataframe\n",
    "features_df = pd.read_csv(file_name, header = None)\n",
    "\n",
    "# get only the array of values\n",
    "features_arr = features_df.values\n",
    "\n",
    "# look at the dataframe\n",
    "features_df"
   ]
  },
  {
   "cell_type": "code",
   "execution_count": 46,
   "metadata": {},
   "outputs": [
    {
     "data": {
      "text/plain": [
       "array([['chromosome', 1, 15072434],\n",
       "       ['ncRNA_gene', 3747, 3909],\n",
       "       ['snoRNA', 3747, 3909],\n",
       "       ...,\n",
       "       ['exon', 153395, 153553],\n",
       "       ['CDS', 153395, 153553],\n",
       "       ['exon', 153603, 153680]], dtype=object)"
      ]
     },
     "execution_count": 46,
     "metadata": {},
     "output_type": "execute_result"
    }
   ],
   "source": [
    "# look at the array\n",
    "features_arr"
   ]
  },
  {
   "cell_type": "code",
   "execution_count": 47,
   "metadata": {},
   "outputs": [],
   "source": [
    "## Write your solution here\n",
    "\n",
    "\n",
    "\n",
    "\n",
    "\n",
    "\n"
   ]
  },
  {
   "cell_type": "code",
   "execution_count": null,
   "metadata": {},
   "outputs": [],
   "source": []
  },
  {
   "cell_type": "code",
   "execution_count": null,
   "metadata": {},
   "outputs": [],
   "source": []
  },
  {
   "cell_type": "code",
   "execution_count": null,
   "metadata": {},
   "outputs": [],
   "source": []
  },
  {
   "cell_type": "markdown",
   "metadata": {},
   "source": [
    "___\n",
    "\n",
    "#### <font color = \"red\">Exercise</font>\n",
    "\n",
    "\n",
    "<b> Combination of sequences with the best GC count </b>\n",
    "\n",
    "We have a list with 5 sequences.    \n",
    "- Identify the combination of 2 sequences with the best GC content (order does not matter).\n",
    "    - Combination of seq1 = \"AAA\" and seq2 = \"CCC\" would be \"AAACCC\"\n",
    "    - The order does not matter means that if we combine seq1 with seq2 or seq2 with seq1 the GC content is still the same\n",
    "    - retieve the result as a tuple of seq1 seq 2 combination and GC count (as percentage = number between 0 and 100)"
   ]
  },
  {
   "cell_type": "code",
   "execution_count": 59,
   "metadata": {},
   "outputs": [],
   "source": [
    "sequences = [\"AACGTCCCAG\", \"AACATG\", \"GTTCCCGTTAC\", \"AAACGTTA\", \"ATAACGTAA\"]"
   ]
  },
  {
   "cell_type": "code",
   "execution_count": 60,
   "metadata": {},
   "outputs": [],
   "source": [
    "## Write your solution here\n",
    "\n",
    "\n",
    "\n",
    "\n",
    "\n",
    "\n"
   ]
  },
  {
   "cell_type": "code",
   "execution_count": null,
   "metadata": {},
   "outputs": [],
   "source": []
  },
  {
   "cell_type": "code",
   "execution_count": null,
   "metadata": {},
   "outputs": [],
   "source": []
  }
 ],
 "metadata": {
  "kernelspec": {
   "display_name": "Python 3 (ipykernel)",
   "language": "python",
   "name": "python3"
  },
  "language_info": {
   "codemirror_mode": {
    "name": "ipython",
    "version": 3
   },
   "file_extension": ".py",
   "mimetype": "text/x-python",
   "name": "python",
   "nbconvert_exporter": "python",
   "pygments_lexer": "ipython3",
   "version": "3.9.12"
  }
 },
 "nbformat": 4,
 "nbformat_minor": 4
}
