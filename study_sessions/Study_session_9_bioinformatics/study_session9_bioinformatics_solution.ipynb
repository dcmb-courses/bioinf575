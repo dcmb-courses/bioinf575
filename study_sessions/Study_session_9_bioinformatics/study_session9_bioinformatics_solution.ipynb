{
 "cells": [
  {
   "cell_type": "markdown",
   "metadata": {},
   "source": [
    "#### SOLUTIONS"
   ]
  },
  {
   "cell_type": "markdown",
   "metadata": {
    "tags": []
   },
   "source": [
    "### Study session 9 - simply bioinformatics\n",
    "- Use data and control structures\n",
    "- Explore object attributes and methods\n",
    "- Use pandas, dataframes and explore new libraries\n",
    "\n",
    "#### BIOINF 575 - Fall 2022\n",
    "\n"
   ]
  },
  {
   "cell_type": "markdown",
   "metadata": {
    "tags": []
   },
   "source": [
    "\n",
    "____\n",
    "\n",
    "\n",
    "#### Read alignment analysis   \n",
    "We have the genome data/sequence for an organism and the sequence alingnment data for a (biological) sample from that organism.   \n",
    "We want to count how many reads align at each position in the genome.  \n",
    "This computation could be expanded further into the computation for creating a vcf file. \n",
    "\n",
    "\n",
    "\n",
    "\n"
   ]
  },
  {
   "cell_type": "markdown",
   "metadata": {},
   "source": [
    "_____\n",
    "\n",
    "#### <font color = \"red\">Exercise</font>\n",
    "\n",
    "\n",
    "<b>Initialize the genome counts list</b>   \n",
    "\n",
    "- Create a fasta file, `genome_example.fa`, that contains a first line with the genome description that starts with \">\" and then 3 lines with 5 random nucleotides.\n",
    "- Read the data from the the fasta file `genome_example.fa` and create/initialize a list for the genome.     \n",
    "    - Create a list where we have the value 0 for each nucleotide in the genome.\n"
   ]
  },
  {
   "cell_type": "code",
   "execution_count": 1,
   "metadata": {},
   "outputs": [],
   "source": [
    "## Write your solution here\n",
    "\n",
    "\n",
    "\n",
    "\n",
    "\n",
    "\n"
   ]
  },
  {
   "cell_type": "code",
   "execution_count": 2,
   "metadata": {},
   "outputs": [],
   "source": [
    "file_name = \"genome_example.fa\"\n",
    "with open(file_name, \"w\") as genome_file:\n",
    "    genome_file.write(\"> This the description of the test genome used for an exercise \\n\")\n",
    "    genome_file.write(\"CCAGT\\n\")\n",
    "    genome_file.write(\"GATCA\\n\")\n",
    "    genome_file.write(\"TTTAA\\n\")"
   ]
  },
  {
   "cell_type": "code",
   "execution_count": 3,
   "metadata": {},
   "outputs": [
    {
     "name": "stdout",
     "output_type": "stream",
     "text": [
      "> This the description of the test genome used for an exercise \n",
      "\n"
     ]
    }
   ],
   "source": [
    "# open the file and read the information line by line\n",
    "# where we have nucleotides ( ACGT or N = any) \n",
    "# we add a 0 in the genome positions list\n",
    "# because we do not have any reads aligning there yet\n",
    "\n",
    "file_name = \"genome_example.fa\"\n",
    "with open(file_name) as genome_file:\n",
    "    for line in genome_file:\n",
    "        print(line)\n",
    "        break # stop to see what we have on the first line\n",
    "    "
   ]
  },
  {
   "cell_type": "code",
   "execution_count": 4,
   "metadata": {},
   "outputs": [
    {
     "name": "stdout",
     "output_type": "stream",
     "text": [
      "CCAGT\n",
      "\n"
     ]
    }
   ],
   "source": [
    "# the first line has some genime information and \n",
    "# no nucleotides so I can ignore it\n",
    "# either read it and move on\n",
    "# or check for lines that do not start with >\n",
    "\n",
    "\n",
    "file_name = \"genome_example.fa\"\n",
    "with open(file_name) as genome_file:\n",
    "    genome_file.readline() # read and ignore the first line\n",
    "    for line in genome_file:\n",
    "        print(line)\n",
    "        break # stop to see what we have on the first line of nucleotides\n"
   ]
  },
  {
   "cell_type": "code",
   "execution_count": 5,
   "metadata": {},
   "outputs": [
    {
     "name": "stdout",
     "output_type": "stream",
     "text": [
      "CCAGT\n",
      "\n"
     ]
    }
   ],
   "source": [
    "# or check for lines that do not start with >\n",
    "\n",
    "file_name = \"genome_example.fa\"\n",
    "with open(file_name) as genome_file:\n",
    "    for line in genome_file:\n",
    "        if not line.startswith(\">\"):\n",
    "            print(line)\n",
    "            break # stop to see what we have on the first line of nucleotides\n",
    "\n"
   ]
  },
  {
   "cell_type": "code",
   "execution_count": 6,
   "metadata": {},
   "outputs": [],
   "source": [
    "# create empty list of positions\n",
    "genome_pos = [] \n",
    "\n",
    "file_name = \"genome_example.fa\"\n",
    "with open(file_name) as genome_file:\n",
    "    # read and ignore the first line because it does not have nucleotides\n",
    "    genome_file.readline()\n",
    "    for line in genome_file:\n",
    "        # go through each nucleotide one at a time, \n",
    "        # strip new line at the end of the line\n",
    "        for nc in line.strip():\n",
    "            # add a 0 for each nucleotide\n",
    "            genome_pos.append(0)\n",
    "        # stop to see what we have on the first line of nucleotides\n",
    "        # break "
   ]
  },
  {
   "cell_type": "code",
   "execution_count": 7,
   "metadata": {},
   "outputs": [
    {
     "name": "stdout",
     "output_type": "stream",
     "text": [
      "list/genome size: 15\n",
      "[0, 0, 0, 0, 0, 0, 0, 0, 0, 0, 0, 0, 0, 0, 0]\n"
     ]
    }
   ],
   "source": [
    "print(\"list/genome size:\" , len(genome_pos))\n",
    "print(genome_pos[:150])"
   ]
  },
  {
   "cell_type": "code",
   "execution_count": null,
   "metadata": {},
   "outputs": [],
   "source": []
  },
  {
   "cell_type": "markdown",
   "metadata": {
    "tags": []
   },
   "source": [
    "___\n",
    "\n",
    "#### <font color = \"red\">Exercise</font>\n",
    "\n",
    "\n",
    "<b>Count the number of reads that align at each position in the genome.</b>    \n",
    "\n",
    "For a given read sequence and position increase by 1 the values in the `genome_pos` list where this read aligned.\n",
    "- The read aligned at positions sarting with the read alignment position (it is 0-based and it is provided for each read), and spans as many positions as many characters the read sequence has.\n",
    "- Example: For a read ACT that aligned at poistion 4 (0-based) we would need to increase by 1 the values at indices 4,5, and 6 in the `genome_pos` list.\n"
   ]
  },
  {
   "cell_type": "markdown",
   "metadata": {},
   "source": [
    "```\n",
    "# lets align to a genome of. size 10 a read of 3 nucleotides starting at pos (0-based) 4:\n",
    "read.seq ACT\n",
    "read.pos 4\n",
    "genome_pos  0 0 0 0 0 0 0 0 0 0    # number of reads that align at. each position\n",
    "\n",
    "____\n",
    "read      :         A C T\n",
    "genome_pos: 0 0 0 0 1 1 1 0 0 0 0 \n",
    "index     : 0 1 2 3 4 5 6 7 8 9 10\n",
    "_____________\n",
    "\n",
    "# lets align to a genome of size 10 another read of 3 nucleotides starting at pos (0-based) 5:\n",
    "read.seq CAC\n",
    "read.pos 5\n",
    "____\n",
    "read      :         A C T\n",
    "read1     :           C A C\n",
    "genome_pos: 0 0 0 0 1 2 2 1 0 0 0\n",
    "index     : 0 1 2 3 4 5 6 7 8 9 10\n",
    "```"
   ]
  },
  {
   "cell_type": "code",
   "execution_count": 8,
   "metadata": {},
   "outputs": [],
   "source": [
    "# Let's say our genome has 15 positions:\n",
    "\n",
    "genome_pos = [0, 0, 0, 0, 0, 0, 0, 0, 0, 0, 0, 0, 0, 0, 0]\n"
   ]
  },
  {
   "cell_type": "code",
   "execution_count": 9,
   "metadata": {},
   "outputs": [],
   "source": [
    "# Align the following reads:\n",
    "# Each tuple of two contains \n",
    "#    the 0-based index where the read aligned and \n",
    "#    the read sequence\n",
    "\n",
    "reads = ((4,\"ACT\"), (5, \"CAT\"), (3, \"AAA\"), (6, \"TAC\"), (1,\"AGA\"))"
   ]
  },
  {
   "cell_type": "code",
   "execution_count": 10,
   "metadata": {},
   "outputs": [],
   "source": [
    "#### 012345678901234\n",
    "####     ACT\n",
    "####      CAT\n",
    "####    AAA\n",
    "####       TAC\n",
    "####  AGA"
   ]
  },
  {
   "cell_type": "code",
   "execution_count": 11,
   "metadata": {},
   "outputs": [],
   "source": [
    "## Write your solution here\n",
    "\n",
    "\n",
    "\n",
    "\n",
    "\n",
    "\n"
   ]
  },
  {
   "cell_type": "code",
   "execution_count": 12,
   "metadata": {},
   "outputs": [
    {
     "name": "stdout",
     "output_type": "stream",
     "text": [
      "(4, 'ACT')\n",
      "(5, 'CAT')\n",
      "(3, 'AAA')\n",
      "(6, 'TAC')\n",
      "(1, 'AGA')\n"
     ]
    }
   ],
   "source": [
    "# go through the reads one by one \n",
    "for read_tup in reads:\n",
    "    print(read_tup)"
   ]
  },
  {
   "cell_type": "code",
   "execution_count": 13,
   "metadata": {},
   "outputs": [
    {
     "name": "stdout",
     "output_type": "stream",
     "text": [
      "4 ACT\n",
      "5 CAT\n",
      "3 AAA\n",
      "6 TAC\n",
      "1 AGA\n"
     ]
    }
   ],
   "source": [
    "# go through the reads one by one \n",
    "# unpacking the tuple of 2 in read pos and seq\n",
    "for read_pos, read_seq in reads:\n",
    "    print(read_pos, read_seq)"
   ]
  },
  {
   "cell_type": "code",
   "execution_count": 14,
   "metadata": {},
   "outputs": [
    {
     "name": "stdout",
     "output_type": "stream",
     "text": [
      "4 ACT\n",
      "Aligned at position: 4 , nucleotide: A\n",
      "Aligned at position: 5 , nucleotide: C\n",
      "Aligned at position: 6 , nucleotide: T\n",
      "5 CAT\n",
      "Aligned at position: 5 , nucleotide: C\n",
      "Aligned at position: 6 , nucleotide: A\n",
      "Aligned at position: 7 , nucleotide: T\n",
      "3 AAA\n",
      "Aligned at position: 3 , nucleotide: A\n",
      "Aligned at position: 4 , nucleotide: A\n",
      "Aligned at position: 5 , nucleotide: A\n",
      "6 TAC\n",
      "Aligned at position: 6 , nucleotide: T\n",
      "Aligned at position: 7 , nucleotide: A\n",
      "Aligned at position: 8 , nucleotide: C\n",
      "1 AGA\n",
      "Aligned at position: 1 , nucleotide: A\n",
      "Aligned at position: 2 , nucleotide: G\n",
      "Aligned at position: 3 , nucleotide: A\n"
     ]
    }
   ],
   "source": [
    "# go through the reads one by one \n",
    "# unpacking the tuple of 2 in read pos and seq\n",
    "for read_pos, read_seq in reads:\n",
    "    print(read_pos, read_seq)\n",
    "    # go through each nucleotide in the read sequence \n",
    "    # and add 1 at the right position in the genome\n",
    "    # that is: read_pos + position of nucleotide in sequence\n",
    "    for nc_pos, nc in enumerate(read_seq):\n",
    "        g_idx = read_pos + nc_pos\n",
    "        print(\"Aligned at position:\", g_idx, \", nucleotide:\", nc)\n",
    "        \n",
    "        "
   ]
  },
  {
   "cell_type": "code",
   "execution_count": 15,
   "metadata": {},
   "outputs": [
    {
     "data": {
      "text/plain": [
       "[0, 0, 0, 0, 0, 0, 0, 0, 0, 0, 0, 0, 0, 0, 0]"
      ]
     },
     "execution_count": 15,
     "metadata": {},
     "output_type": "execute_result"
    }
   ],
   "source": [
    "# Nothing happened yet with the actual genome poistions\n",
    "# still empty\n",
    "\n",
    "genome_pos"
   ]
  },
  {
   "cell_type": "code",
   "execution_count": 16,
   "metadata": {},
   "outputs": [],
   "source": [
    "# might need to reset the positions \n",
    "# if we run the following cell too many times\n",
    "genome_pos = [0, 0, 0, 0, 0, 0, 0, 0, 0, 0, 0, 0, 0, 0, 0]"
   ]
  },
  {
   "cell_type": "code",
   "execution_count": 17,
   "metadata": {},
   "outputs": [
    {
     "name": "stdout",
     "output_type": "stream",
     "text": [
      "\n",
      "4 ACT\n",
      "Aligned at position: 4 , nucleotide: A\n",
      "Aligned at position: 5 , nucleotide: C\n",
      "Aligned at position: 6 , nucleotide: T\n",
      "\n",
      "5 CAT\n",
      "Aligned at position: 5 , nucleotide: C\n",
      "Aligned at position: 6 , nucleotide: A\n",
      "Aligned at position: 7 , nucleotide: T\n",
      "\n",
      "3 AAA\n",
      "Aligned at position: 3 , nucleotide: A\n",
      "Aligned at position: 4 , nucleotide: A\n",
      "Aligned at position: 5 , nucleotide: A\n",
      "\n",
      "6 TAC\n",
      "Aligned at position: 6 , nucleotide: T\n",
      "Aligned at position: 7 , nucleotide: A\n",
      "Aligned at position: 8 , nucleotide: C\n",
      "\n",
      "1 AGA\n",
      "Aligned at position: 1 , nucleotide: A\n",
      "Aligned at position: 2 , nucleotide: G\n",
      "Aligned at position: 3 , nucleotide: A\n",
      "\n",
      "Count of aligned reads:\n"
     ]
    },
    {
     "data": {
      "text/plain": [
       "[0, 1, 1, 2, 2, 3, 3, 2, 1, 0, 0, 0, 0, 0, 0]"
      ]
     },
     "execution_count": 17,
     "metadata": {},
     "output_type": "execute_result"
    }
   ],
   "source": [
    "# go through the reads one by one \n",
    "# unpacking the tuple of 2 in read pos and seq\n",
    "for read_pos, read_seq in reads:\n",
    "    print()\n",
    "    print(read_pos, read_seq)\n",
    "    # go through each nucleotide in the read sequence \n",
    "    # and add 1 at the right position in the genome\n",
    "    # that is: read_pos + position of nucleotide in sequence\n",
    "    for nc_pos, nc in enumerate(read_seq):\n",
    "        g_idx = read_pos + nc_pos\n",
    "        print(\"Aligned at position:\", g_idx, \", nucleotide:\", nc)\n",
    "        # actually add 1 to the value at the g_idx since we aligned a read there\n",
    "        genome_pos[g_idx] = genome_pos[g_idx] + 1\n",
    "\n",
    "print()\n",
    "print(\"Count of aligned reads:\")\n",
    "genome_pos"
   ]
  },
  {
   "cell_type": "code",
   "execution_count": null,
   "metadata": {},
   "outputs": [],
   "source": []
  },
  {
   "cell_type": "code",
   "execution_count": null,
   "metadata": {},
   "outputs": [],
   "source": []
  },
  {
   "cell_type": "code",
   "execution_count": null,
   "metadata": {},
   "outputs": [],
   "source": []
  },
  {
   "cell_type": "markdown",
   "metadata": {
    "tags": []
   },
   "source": [
    "___\n",
    "\n",
    "#### <font color = \"red\">Exercise</font>\n",
    "\n",
    "\n",
    "<b>Count the number of reads that align at each position in the genome.</b>  \n",
    "<b>Read data from a bam file</b>\n",
    "\n",
    "For a given read sequence and position increase by 1 the values in the `genome_pos` list where this read aligned.\n",
    "\n",
    "Read the data from the alignment file `sample.bam` using the bamnostic library one read at a time.\n",
    "\n",
    "https://github.com/betteridiot/bamnostic"
   ]
  },
  {
   "cell_type": "markdown",
   "metadata": {
    "tags": []
   },
   "source": [
    "#### To install the bamnostic package open a terminal and run:\n",
    "```bash\n",
    "pip install bamnostic\n",
    "```\n",
    "##### It is one of the install options provided in the documentation\n",
    "\n",
    "https://github.com/betteridiot/bamnostic\n",
    "\n",
    "If it does not work try another option\n",
    "\n",
    "There are 4 methods of installation available (choose one):\n",
    "\n",
    "Option 1: Through the conda package manager (Anaconda Cloud)\n",
    "\n",
    "```bash\n",
    "# first, add the conda-forge channel to your conda build\n",
    "conda config --add channels conda-forge\n",
    "\n",
    "# now bamnostic is available for install\n",
    "conda install bamnostic\n",
    "```\n",
    "\n",
    "Package documentation available at:\n",
    "https://bamnostic.readthedocs.io/en/latest/"
   ]
  },
  {
   "cell_type": "code",
   "execution_count": 18,
   "metadata": {},
   "outputs": [],
   "source": [
    "# import the bamnostic functionality\n",
    "# this will give an error if the package was not installed\n",
    "# so install the package before running this\n",
    "\n",
    "import bamnostic as bs"
   ]
  },
  {
   "cell_type": "code",
   "execution_count": 19,
   "metadata": {},
   "outputs": [
    {
     "name": "stdout",
     "output_type": "stream",
     "text": [
      "EAS56_57:6:190:289:82\t69\tchr1\t100\t0\t*\t=\t100\t0\tCTCAAGGTTGTTGCAAGGGGGTCTATGTGAACAAA\t<<<7<<<;<<<<<<<<8;;<7;4<;<;;;;;94<;\tMF:C:192\n"
     ]
    }
   ],
   "source": [
    "# Loading your BAM file (Note: CRAM format are not supported at this time)\n",
    "# Bamnostic comes with an example BAM (and respective BAI) file just to play around with the output. \n",
    "# This example file is made availble through bamnostic.example_bam, which is a just a string path to the BAM file within the package.\n",
    "\n",
    "bam = bs.AlignmentFile(bs.example_bam, 'rb')\n",
    "\n",
    "# the result of the AlignmentFile function is a generator that gives us the aligned reads from the bam file one by one.\n",
    "first_read = next(bam)\n",
    "print(first_read)"
   ]
  },
  {
   "cell_type": "code",
   "execution_count": 20,
   "metadata": {},
   "outputs": [
    {
     "data": {
      "text/plain": [
       "99"
      ]
     },
     "execution_count": 20,
     "metadata": {},
     "output_type": "execute_result"
    }
   ],
   "source": [
    "# display the position where the read aligned\n",
    "# the number right after chr1 (chromosome 1) in the result above\n",
    "first_read.pos"
   ]
  },
  {
   "cell_type": "code",
   "execution_count": 21,
   "metadata": {},
   "outputs": [
    {
     "data": {
      "text/plain": [
       "'CTCAAGGTTGTTGCAAGGGGGTCTATGTGAACAAA'"
      ]
     },
     "execution_count": 21,
     "metadata": {},
     "output_type": "execute_result"
    }
   ],
   "source": [
    "# display the read sequence\n",
    "first_read.seq"
   ]
  },
  {
   "cell_type": "code",
   "execution_count": 22,
   "metadata": {
    "tags": []
   },
   "outputs": [],
   "source": [
    "# do not forget to close the file\n",
    "bam.close()"
   ]
  },
  {
   "cell_type": "code",
   "execution_count": 23,
   "metadata": {},
   "outputs": [],
   "source": [
    "## Write your solution here\n",
    "\n",
    "\n",
    "\n",
    "\n",
    "\n",
    "\n"
   ]
  },
  {
   "cell_type": "code",
   "execution_count": 24,
   "metadata": {},
   "outputs": [
    {
     "name": "stdout",
     "output_type": "stream",
     "text": [
      "EAS54_65:4:137:319:642\t137\tchr1\t1\t99\t3M\t*\t0\t0\tACC\t<<<\tAq:C:41\tH0:C:0\tH1:C:1\tMF:C:18\tNM:C:2\tUQ:C:9\n",
      "\n",
      "EAS139_11:8:38:842:395\t73\tchr1\t2\t77\t3M\t*\t0\t0\tTAG\t<<<\tAq:C:77\tH0:C:1\tH1:C:0\tMF:C:32\tNM:C:0\tUQ:C:0\n",
      "\n",
      "EAS54_71:4:252:428:683\t137\tchr1\t2\t99\t3M\t*\t0\t0\tAAT\t<<<\tAq:C:69\tH0:C:1\tH1:C:0\tMF:C:18\tNM:C:0\tUQ:C:0\n",
      "\n",
      "EAS51_64:6:213:54:878\t137\tchr1\t3\t99\t3M\t*\t0\t0\tGCG\t<<<\tAq:C:69\tH0:C:1\tH1:C:0\tMF:C:18\tNM:C:1\tUQ:C:4\n",
      "\n"
     ]
    }
   ],
   "source": [
    "# now let's use the sample.bam\n",
    "# the.bai file is an index file that allows us to easily access the reads\n",
    "# there are usually millions of reads\n",
    "# this sample file only has 5\n",
    "\n",
    "sample_filename = \"sample.bam\"\n",
    "# we can open the file using the AlignmentFile function from the bamnostic package\n",
    "# it will retrive the reads just like the open function retrieves lines in a text file\n",
    "# see the sample.sam - it is the text format equivalent of the binary .bam file\n",
    "# the information in the sam file is similar to what you see in the output here\n",
    "with bs.AlignmentFile(sample_filename) as sample_bam:\n",
    "    for read in sample_bam:\n",
    "        print(read)\n",
    "        print()"
   ]
  },
  {
   "cell_type": "code",
   "execution_count": 25,
   "metadata": {},
   "outputs": [
    {
     "name": "stdout",
     "output_type": "stream",
     "text": [
      "0\n",
      "ACC\n",
      "\n",
      "1\n",
      "TAG\n",
      "\n",
      "1\n",
      "AAT\n",
      "\n",
      "2\n",
      "GCG\n",
      "\n"
     ]
    }
   ],
   "source": [
    "sample_filename = \"sample.bam\"\n",
    "# we can open the file using the AlignmentFile function from the bamnostic package\n",
    "# it will retrive the reads just like the open function retrieves lines in a text file\n",
    "# see the sample.sam - it is the text format equivalent of the binary .bam file\n",
    "# the information in the sam file is similar to what you see in the output here\n",
    "with bs.AlignmentFile(sample_filename) as sample_bam:\n",
    "    for read in sample_bam:\n",
    "        # print the read position and sequence\n",
    "        print(read.pos)\n",
    "        print(read.seq)\n",
    "        print()"
   ]
  },
  {
   "cell_type": "code",
   "execution_count": 26,
   "metadata": {},
   "outputs": [
    {
     "data": {
      "text/plain": [
       "[0, 1, 1, 2, 2, 3, 3, 2, 1, 0, 0, 0, 0, 0, 0]"
      ]
     },
     "execution_count": 26,
     "metadata": {},
     "output_type": "execute_result"
    }
   ],
   "source": [
    "# just in case we need to reset the genome positions\n",
    "# genome_pos = [0, 1, 1, 2, 2, 3, 3, 2, 1, 0, 0, 0, 0, 0, 0]\n",
    "genome_pos"
   ]
  },
  {
   "cell_type": "code",
   "execution_count": 27,
   "metadata": {},
   "outputs": [
    {
     "name": "stdout",
     "output_type": "stream",
     "text": [
      "before adding sample.bam reads\n",
      "[0, 1, 1, 2, 2, 3, 3, 2, 1, 0, 0, 0, 0, 0, 0]\n",
      "\n",
      "0 ACC\n",
      "Aligned at position: 0 , nucleotide: A\n",
      "[1, 1, 1, 2, 2, 3, 3, 2, 1, 0, 0, 0, 0, 0, 0]\n",
      "Aligned at position: 1 , nucleotide: C\n",
      "[1, 2, 1, 2, 2, 3, 3, 2, 1, 0, 0, 0, 0, 0, 0]\n",
      "Aligned at position: 2 , nucleotide: C\n",
      "[1, 2, 2, 2, 2, 3, 3, 2, 1, 0, 0, 0, 0, 0, 0]\n",
      "\n",
      "1 TAG\n",
      "Aligned at position: 1 , nucleotide: T\n",
      "[1, 3, 2, 2, 2, 3, 3, 2, 1, 0, 0, 0, 0, 0, 0]\n",
      "Aligned at position: 2 , nucleotide: A\n",
      "[1, 3, 3, 2, 2, 3, 3, 2, 1, 0, 0, 0, 0, 0, 0]\n",
      "Aligned at position: 3 , nucleotide: G\n",
      "[1, 3, 3, 3, 2, 3, 3, 2, 1, 0, 0, 0, 0, 0, 0]\n",
      "\n",
      "1 AAT\n",
      "Aligned at position: 1 , nucleotide: A\n",
      "[1, 4, 3, 3, 2, 3, 3, 2, 1, 0, 0, 0, 0, 0, 0]\n",
      "Aligned at position: 2 , nucleotide: A\n",
      "[1, 4, 4, 3, 2, 3, 3, 2, 1, 0, 0, 0, 0, 0, 0]\n",
      "Aligned at position: 3 , nucleotide: T\n",
      "[1, 4, 4, 4, 2, 3, 3, 2, 1, 0, 0, 0, 0, 0, 0]\n",
      "\n",
      "2 GCG\n",
      "Aligned at position: 2 , nucleotide: G\n",
      "[1, 4, 5, 4, 2, 3, 3, 2, 1, 0, 0, 0, 0, 0, 0]\n",
      "Aligned at position: 3 , nucleotide: C\n",
      "[1, 4, 5, 5, 2, 3, 3, 2, 1, 0, 0, 0, 0, 0, 0]\n",
      "Aligned at position: 4 , nucleotide: G\n",
      "[1, 4, 5, 5, 3, 3, 3, 2, 1, 0, 0, 0, 0, 0, 0]\n",
      "\n",
      "after adding sample.bam reads\n",
      "[1, 4, 5, 5, 3, 3, 3, 2, 1, 0, 0, 0, 0, 0, 0]\n"
     ]
    }
   ],
   "source": [
    "#### Increase the counts where these reads aligned\n",
    "\n",
    "print(\"before adding sample.bam reads\")\n",
    "print(genome_pos)\n",
    "print()\n",
    "\n",
    "sample_filename = \"sample.bam\"\n",
    "# we can open the file using the AlignmentFile function from the bamnostic package\n",
    "# it will retrive the reads just like the open function retrieves lines in a text file\n",
    "# see the sample.sam - it is the text format equivalent of the binary .bam file\n",
    "# the information in the sam file is similar to what you see in the output here\n",
    "with bs.AlignmentFile(sample_filename) as sample_bam:\n",
    "    for read in sample_bam:\n",
    "        print(read.pos, read.seq)\n",
    "        for nc_pos, nc in enumerate(read.seq):\n",
    "            g_idx = read.pos + nc_pos\n",
    "            print(\"Aligned at position:\", g_idx, \", nucleotide:\", nc)\n",
    "            # actually add 1 to the value at the g_idx since we aligned a read there\n",
    "            genome_pos[g_idx] = genome_pos[g_idx] + 1\n",
    "            print(genome_pos)\n",
    "        print()\n",
    "\n",
    "print(\"after adding sample.bam reads\")\n",
    "print(genome_pos)"
   ]
  },
  {
   "cell_type": "code",
   "execution_count": null,
   "metadata": {},
   "outputs": [],
   "source": []
  },
  {
   "cell_type": "code",
   "execution_count": 28,
   "metadata": {},
   "outputs": [
    {
     "name": "stdout",
     "output_type": "stream",
     "text": [
      "0 ACC\n",
      "1 TAG\n",
      "1 AAT\n"
     ]
    }
   ],
   "source": [
    "# if you have a large file that you do not want to go through\n",
    "# stop after a number of steps n\n",
    "\n",
    "n = 3\n",
    "\n",
    "sample_filename = \"sample.bam\"\n",
    "# we can open the file using the AlignmentFile function from the bamnostic package\n",
    "# it will retrive the reads just like the open function retrieves lines in a text file\n",
    "# see the sample.sam - it is the text format equivalent of the binary .bam file\n",
    "# the information in the sam file is similar to what you see in the output here\n",
    "steps = 0\n",
    "with bs.AlignmentFile(sample_filename) as sample_bam:\n",
    "    for read in sample_bam:\n",
    "        print(read.pos, read.seq)\n",
    "        \n",
    "        steps = steps + 1\n",
    "        if steps == n:\n",
    "            break\n",
    "\n"
   ]
  },
  {
   "cell_type": "code",
   "execution_count": null,
   "metadata": {},
   "outputs": [],
   "source": []
  },
  {
   "cell_type": "markdown",
   "metadata": {
    "tags": []
   },
   "source": [
    "___\n",
    "\n",
    "#### <font color = \"red\">Exercise</font>\n",
    "\n",
    "<b>Tally the nucleotides from a set of reads into a list of counters</b>    \n",
    "\n",
    "- We will have a list of 5 reads with 3 nucleotides each - we disregard the alignement position or we can  assume that all reads aligned at index 0\n",
    "- Create a list of 5 counters and tally the nucleotides occuring on the first position of the read, second position of the read and third position of the read\n",
    "- The Counter is a dictionary-like object type available in the collections module that allows for quick counts of the data. Keys are elements we want to count and values are the frequency.\n",
    "    - import the Counter functionality from the collections module\n"
   ]
  },
  {
   "cell_type": "code",
   "execution_count": 29,
   "metadata": {},
   "outputs": [],
   "source": [
    "reads = [\"ACG\", \"ACT\", \"AGT\", \"AAT\", \"ACC\"]"
   ]
  },
  {
   "cell_type": "code",
   "execution_count": 30,
   "metadata": {},
   "outputs": [],
   "source": [
    "# import the counter functionality\n",
    "\n",
    "from collections import Counter"
   ]
  },
  {
   "cell_type": "code",
   "execution_count": 31,
   "metadata": {},
   "outputs": [
    {
     "data": {
      "text/plain": [
       "Counter({'A': 1, 'C': 2, 'G': 1, 'T': 4})"
      ]
     },
     "execution_count": 31,
     "metadata": {},
     "output_type": "execute_result"
    }
   ],
   "source": [
    "# test to see if the Counter functionality was properly imported\n",
    "# create a Counter\n",
    "\n",
    "## It will count how many of each characthers you have\n",
    "Counter(\"ACCGTTTT\")"
   ]
  },
  {
   "cell_type": "code",
   "execution_count": 32,
   "metadata": {},
   "outputs": [
    {
     "data": {
      "text/plain": [
       "Counter()"
      ]
     },
     "execution_count": 32,
     "metadata": {},
     "output_type": "execute_result"
    }
   ],
   "source": [
    "# Create an empty counter\n",
    "\n",
    "c = Counter()\n",
    "c"
   ]
  },
  {
   "cell_type": "code",
   "execution_count": 33,
   "metadata": {},
   "outputs": [
    {
     "data": {
      "text/plain": [
       "Counter({'A': 1})"
      ]
     },
     "execution_count": 33,
     "metadata": {},
     "output_type": "execute_result"
    }
   ],
   "source": [
    "# update the counter\n",
    "# add an element to the counter\n",
    "# if you run this multiple time you will have multiple A's in the Counter\n",
    "\n",
    "c.update(\"A\")\n",
    "c"
   ]
  },
  {
   "cell_type": "code",
   "execution_count": 34,
   "metadata": {},
   "outputs": [
    {
     "data": {
      "text/plain": [
       "Counter({'A': 1, 'C': 1})"
      ]
     },
     "execution_count": 34,
     "metadata": {},
     "output_type": "execute_result"
    }
   ],
   "source": [
    "# add a C to the counter\n",
    "c.update(\"C\")\n",
    "c"
   ]
  },
  {
   "cell_type": "code",
   "execution_count": 35,
   "metadata": {},
   "outputs": [
    {
     "data": {
      "text/plain": [
       "Counter({'A': 1, 'C': 2})"
      ]
     },
     "execution_count": 35,
     "metadata": {},
     "output_type": "execute_result"
    }
   ],
   "source": [
    "# add another C to the counter\n",
    "c.update(\"C\")\n",
    "c"
   ]
  },
  {
   "cell_type": "code",
   "execution_count": 36,
   "metadata": {
    "tags": []
   },
   "outputs": [
    {
     "data": {
      "text/plain": [
       "['ACG', 'ACT', 'AGT', 'AAT', 'ACC']"
      ]
     },
     "execution_count": 36,
     "metadata": {},
     "output_type": "execute_result"
    }
   ],
   "source": [
    "# now let's get back to our problem\n",
    "reads"
   ]
  },
  {
   "cell_type": "code",
   "execution_count": 37,
   "metadata": {},
   "outputs": [],
   "source": [
    "## Write your solution here\n",
    "\n",
    "\n",
    "\n",
    "\n",
    "\n",
    "\n"
   ]
  },
  {
   "cell_type": "code",
   "execution_count": 38,
   "metadata": {},
   "outputs": [
    {
     "data": {
      "text/plain": [
       "[Counter(), Counter(), Counter()]"
      ]
     },
     "execution_count": 38,
     "metadata": {},
     "output_type": "execute_result"
    }
   ],
   "source": [
    "# now that we know how a Counter works\n",
    "# we will create a list of them, as many as the length of our reads\n",
    "\n",
    "# start with an empty list where we will add the counters\n",
    "read_counters = []\n",
    "\n",
    "# compute the number of counters we need\n",
    "# this will be the length of the read so we take the length of the first read\n",
    "counters_no = len(reads[0])\n",
    "\n",
    "# go through a range of numbers 0-length of read to add a counter to the list for each read nucleotide\n",
    "for i in range(counters_no):\n",
    "    read_counters.append(Counter())\n",
    "    \n",
    "# look at our list of counters\n",
    "read_counters"
   ]
  },
  {
   "cell_type": "code",
   "execution_count": 39,
   "metadata": {},
   "outputs": [
    {
     "data": {
      "text/plain": [
       "[Counter({'A': 5}),\n",
       " Counter({'C': 3, 'G': 1, 'A': 1}),\n",
       " Counter({'G': 1, 'T': 3, 'C': 1})]"
      ]
     },
     "execution_count": 39,
     "metadata": {},
     "output_type": "execute_result"
    }
   ],
   "source": [
    "# now we count nucleotides \n",
    "\n",
    "# go through the reads one by one\n",
    "for read_seq in reads:\n",
    "    \n",
    "    # go through each nucleotide in the current read, we need the index as well so we use enumerate\n",
    "    for i,nc in enumerate(read_seq):\n",
    "        \n",
    "        # get the counter from the counter list at the same position the nucleotide is in the read\n",
    "        c = read_counters[i]\n",
    "        \n",
    "        # add the nucleotide to the counter by updating the counter\n",
    "        c.update(nc)\n",
    "        \n",
    "# look at our list of counters\n",
    "# we should have the counts there now\n",
    "read_counters  "
   ]
  },
  {
   "cell_type": "code",
   "execution_count": 40,
   "metadata": {},
   "outputs": [
    {
     "data": {
      "text/plain": [
       "['ACG', 'ACT', 'AGT', 'AAT', 'ACC']"
      ]
     },
     "execution_count": 40,
     "metadata": {},
     "output_type": "execute_result"
    }
   ],
   "source": [
    "# look at the reads list to see if the counts are correct\n",
    "# at the first position in the read we have only A for all 5 reads \n",
    "# so the first counter in the list (read_counters) resulted from the cell above \n",
    "# should have only the key A with a value of 5\n",
    "\n",
    "reads"
   ]
  },
  {
   "cell_type": "code",
   "execution_count": null,
   "metadata": {},
   "outputs": [],
   "source": []
  },
  {
   "cell_type": "code",
   "execution_count": null,
   "metadata": {},
   "outputs": [],
   "source": []
  },
  {
   "cell_type": "markdown",
   "metadata": {},
   "source": [
    "___\n",
    "\n",
    "#### <font color = \"red\">Exercise</font>\n",
    "\n",
    "\n",
    "<b> Roundworm length comparison - simulated data </b>\n",
    "\n",
    "We have measured two roundworms in 10 different day within 2 months and stored in the following dictionary.   \n",
    "Retrieve the measurement information when the difference in lengths between the two worms is less than 3.    \n",
    "Retrieve the result as a list with tuples of two: the measurement number/index and the difference in length.    \n"
   ]
  },
  {
   "cell_type": "code",
   "execution_count": 41,
   "metadata": {},
   "outputs": [],
   "source": [
    "worms_lengths = { \n",
    "    \"worm1\": [{\"length\": 47},\n",
    "              {\"length\": 54},\n",
    "              {\"length\": 55},\n",
    "              {\"length\": 67},\n",
    "              {\"length\": 68},\n",
    "              {\"length\": 68},\n",
    "              {\"length\": 70},\n",
    "              {\"length\": 72},\n",
    "              {\"length\": 72},\n",
    "              {\"length\": 75}],\n",
    "    \n",
    "    \"worm2\": [{\"length\": 42},\n",
    "              {\"length\": 53},\n",
    "              {\"length\": 55},\n",
    "              {\"length\": 62},\n",
    "              {\"length\": 64},\n",
    "              {\"length\": 67},\n",
    "              {\"length\": 70},\n",
    "              {\"length\": 70},\n",
    "              {\"length\": 70},\n",
    "              {\"length\": 71}]\n",
    "}"
   ]
  },
  {
   "cell_type": "code",
   "execution_count": 42,
   "metadata": {},
   "outputs": [],
   "source": [
    "## Write your solution here\n",
    "\n",
    "\n",
    "\n",
    "\n",
    "\n",
    "\n"
   ]
  },
  {
   "cell_type": "code",
   "execution_count": 43,
   "metadata": {},
   "outputs": [
    {
     "name": "stdout",
     "output_type": "stream",
     "text": [
      "47 42 5\n",
      "54 53 1\n",
      "55 55 0\n",
      "67 62 5\n",
      "68 64 4\n",
      "68 67 1\n",
      "70 70 0\n",
      "72 70 2\n",
      "72 70 2\n",
      "75 71 4\n"
     ]
    },
    {
     "data": {
      "text/plain": [
       "[(0, 5), (3, 5), (4, 4), (9, 4)]"
      ]
     },
     "execution_count": 43,
     "metadata": {},
     "output_type": "execute_result"
    }
   ],
   "source": [
    "# create an empty list to store the results in\n",
    "res = []\n",
    "\n",
    "# get the list for the worm1 key from the dictionary\n",
    "w1lst = worms_lengths[\"worm1\"]\n",
    "\n",
    "# get the list for the worm2 key from the dictionary\n",
    "w2lst = worms_lengths[\"worm2\"]\n",
    "\n",
    "# go through the elements/dictionaries of the list for worm1 one at the time\n",
    "# we need to get the matching element for the worm2 list so we use enumerate\n",
    "for i,val in enumerate(w1lst):\n",
    "    \n",
    "    # get the value for the length key from the current dictionary from the worm1 list\n",
    "    w1len = val[\"length\"]\n",
    "    \n",
    "    # get the value for the length key from the matching dictionary from the worm2 list\n",
    "    # to get the matching dictionary form the worm2 list we use the index from the enumerate\n",
    "    w2len = w2lst[i][\"length\"]\n",
    "    \n",
    "    # compute the difference in lengths and take the absolute value\n",
    "    # we need the absolute value to compare with the threshold of 3\n",
    "    ldiff = abs(w1len - w2len)\n",
    "    \n",
    "    # print the length and the difference in lengths for the current measurement for the two worms\n",
    "    # NOTE: if the lists are large this may freeze the notebook because it will try to print too much\n",
    "    print(w1len, w2len, ldiff)\n",
    "    \n",
    "    # if the absolute value of the difference in lengths is more than 3 we have a change\n",
    "    if ldiff > 3:\n",
    "        # add a tuple with the position and the difference to the results list\n",
    "        res.append((i, ldiff))\n",
    "\n",
    "# check the result \n",
    "res"
   ]
  },
  {
   "cell_type": "code",
   "execution_count": null,
   "metadata": {},
   "outputs": [],
   "source": []
  },
  {
   "cell_type": "code",
   "execution_count": null,
   "metadata": {},
   "outputs": [],
   "source": []
  },
  {
   "cell_type": "code",
   "execution_count": null,
   "metadata": {},
   "outputs": [],
   "source": []
  },
  {
   "cell_type": "markdown",
   "metadata": {},
   "source": [
    "___\n",
    "___\n",
    "\n",
    "\n",
    "#### The worm genomic features file \n",
    "You will do a quick exploration of the data in the the GFF3 file for the C. elegans genome. The GFF3 file is `Caenorhabditis_elegans.WBcel235.91.gff3` and we worked with it in class during `Session 13`.\n",
    "The gff format is described here:      \n",
    "https://github.com/The-Sequence-Ontology/Specifications/blob/master/gff3.md.<br> \n",
    "\n",
    "After the comment and header lines (marked by \"#\"), a line in a GFF3 file (row of a table) is composed of 9 tab-delimited fields (columns). The first 8 are called features. These are all atomic (consist of only one element), so they get put into a dictionary features with no problems. You will need to define a key and you will have to generate those integers as you read the file in and add data to the dictionary.\n",
    "\n",
    "The ninth field will pose more of a problem. It consists of tag-value pairs. **The tag-value pairs are separated by a semi-colon, \";\". The the tag and value in a pair are  separated by equal signs, \"=\", and the values may consist of mulitiple, comma, \",\", separated entries.** Also, any value may be encoded as html-safe encoding. Caution: the encoded characters may be the same as those used to separate the components of the attributes field. To get rid of the encoding (these are  pairs of characters or digits preceded by the % sign), use the unquote() function from urllib.parse (`from urllib.parse import unquote`). Just be careful of when you use it - do it at the wrong time and you will mess up the parsing of attributes.\n",
    "\n",
    "From the definition of the GFF3 we have these fields\n",
    "\n",
    "Each line contains the following information for a genomic features:  `seqid, source, type, start, end, score, strand, phase, attributes`.\n",
    "\n",
    "\n",
    "The attributes column contains the following information: ;-separated pairs of tag=value, where the values may consist of mulitiple, comma, \",\", separated entries.\n",
    "\n",
    "\n"
   ]
  },
  {
   "cell_type": "markdown",
   "metadata": {},
   "source": [
    "____\n",
    "\n",
    "####  <font color = \"red\">Exercise</font>\n",
    "\n",
    "<b> Count short genomic features </b>\n",
    "- Open the `worm_genomic_features.csv` and check the format.\n",
    "    - It contains the data for 1000 genomic features and the first 4 columns from the gff file: `type, start, end`\n",
    "- There is code below that reads the data from the `worm_genomic_features.csv` and sets it up into a numpy array `features_arr` - we read it into a dataframe but to have an example relevant for the homework we use the array of values.\n",
    "- Count how many genomic features we have with a length < 5000\n",
    "\n",
    "\n"
   ]
  },
  {
   "cell_type": "code",
   "execution_count": 44,
   "metadata": {},
   "outputs": [],
   "source": [
    "# import the pandas and numpy functionality \n",
    "\n",
    "import pandas as pd\n",
    "import numpy as np"
   ]
  },
  {
   "cell_type": "code",
   "execution_count": 45,
   "metadata": {},
   "outputs": [
    {
     "data": {
      "text/html": [
       "<div>\n",
       "<style scoped>\n",
       "    .dataframe tbody tr th:only-of-type {\n",
       "        vertical-align: middle;\n",
       "    }\n",
       "\n",
       "    .dataframe tbody tr th {\n",
       "        vertical-align: top;\n",
       "    }\n",
       "\n",
       "    .dataframe thead th {\n",
       "        text-align: right;\n",
       "    }\n",
       "</style>\n",
       "<table border=\"1\" class=\"dataframe\">\n",
       "  <thead>\n",
       "    <tr style=\"text-align: right;\">\n",
       "      <th></th>\n",
       "      <th>0</th>\n",
       "      <th>1</th>\n",
       "      <th>2</th>\n",
       "    </tr>\n",
       "  </thead>\n",
       "  <tbody>\n",
       "    <tr>\n",
       "      <th>0</th>\n",
       "      <td>chromosome</td>\n",
       "      <td>1</td>\n",
       "      <td>15072434</td>\n",
       "    </tr>\n",
       "    <tr>\n",
       "      <th>1</th>\n",
       "      <td>ncRNA_gene</td>\n",
       "      <td>3747</td>\n",
       "      <td>3909</td>\n",
       "    </tr>\n",
       "    <tr>\n",
       "      <th>2</th>\n",
       "      <td>snoRNA</td>\n",
       "      <td>3747</td>\n",
       "      <td>3909</td>\n",
       "    </tr>\n",
       "    <tr>\n",
       "      <th>3</th>\n",
       "      <td>exon</td>\n",
       "      <td>3747</td>\n",
       "      <td>3909</td>\n",
       "    </tr>\n",
       "    <tr>\n",
       "      <th>4</th>\n",
       "      <td>gene</td>\n",
       "      <td>4116</td>\n",
       "      <td>10230</td>\n",
       "    </tr>\n",
       "    <tr>\n",
       "      <th>...</th>\n",
       "      <td>...</td>\n",
       "      <td>...</td>\n",
       "      <td>...</td>\n",
       "    </tr>\n",
       "    <tr>\n",
       "      <th>995</th>\n",
       "      <td>exon</td>\n",
       "      <td>152956</td>\n",
       "      <td>153345</td>\n",
       "    </tr>\n",
       "    <tr>\n",
       "      <th>996</th>\n",
       "      <td>CDS</td>\n",
       "      <td>152956</td>\n",
       "      <td>153345</td>\n",
       "    </tr>\n",
       "    <tr>\n",
       "      <th>997</th>\n",
       "      <td>exon</td>\n",
       "      <td>153395</td>\n",
       "      <td>153553</td>\n",
       "    </tr>\n",
       "    <tr>\n",
       "      <th>998</th>\n",
       "      <td>CDS</td>\n",
       "      <td>153395</td>\n",
       "      <td>153553</td>\n",
       "    </tr>\n",
       "    <tr>\n",
       "      <th>999</th>\n",
       "      <td>exon</td>\n",
       "      <td>153603</td>\n",
       "      <td>153680</td>\n",
       "    </tr>\n",
       "  </tbody>\n",
       "</table>\n",
       "<p>1000 rows × 3 columns</p>\n",
       "</div>"
      ],
      "text/plain": [
       "              0       1         2\n",
       "0    chromosome       1  15072434\n",
       "1    ncRNA_gene    3747      3909\n",
       "2        snoRNA    3747      3909\n",
       "3          exon    3747      3909\n",
       "4          gene    4116     10230\n",
       "..          ...     ...       ...\n",
       "995        exon  152956    153345\n",
       "996         CDS  152956    153345\n",
       "997        exon  153395    153553\n",
       "998         CDS  153395    153553\n",
       "999        exon  153603    153680\n",
       "\n",
       "[1000 rows x 3 columns]"
      ]
     },
     "execution_count": 45,
     "metadata": {},
     "output_type": "execute_result"
    }
   ],
   "source": [
    "# read the data from the file \n",
    "\n",
    "file_name = \"worm_genomic_features.csv\"\n",
    "\n",
    "# save the column names in a variable\n",
    "col_names = np.array([\"type\",\"start\",\"end\"])\n",
    "\n",
    "# read the data into a dataframe\n",
    "features_df = pd.read_csv(file_name, header = None)\n",
    "\n",
    "# get only the array of values\n",
    "features_arr = features_df.values\n",
    "\n",
    "# look at the dataframe\n",
    "features_df"
   ]
  },
  {
   "cell_type": "code",
   "execution_count": 46,
   "metadata": {},
   "outputs": [
    {
     "data": {
      "text/plain": [
       "array([['chromosome', 1, 15072434],\n",
       "       ['ncRNA_gene', 3747, 3909],\n",
       "       ['snoRNA', 3747, 3909],\n",
       "       ...,\n",
       "       ['exon', 153395, 153553],\n",
       "       ['CDS', 153395, 153553],\n",
       "       ['exon', 153603, 153680]], dtype=object)"
      ]
     },
     "execution_count": 46,
     "metadata": {},
     "output_type": "execute_result"
    }
   ],
   "source": [
    "# look at the array\n",
    "features_arr"
   ]
  },
  {
   "cell_type": "code",
   "execution_count": 47,
   "metadata": {},
   "outputs": [],
   "source": [
    "## Write your solution here\n",
    "\n",
    "\n",
    "\n",
    "\n",
    "\n",
    "\n"
   ]
  },
  {
   "cell_type": "code",
   "execution_count": 48,
   "metadata": {},
   "outputs": [
    {
     "data": {
      "text/plain": [
       "array([False,  True, False])"
      ]
     },
     "execution_count": 48,
     "metadata": {},
     "output_type": "execute_result"
    }
   ],
   "source": [
    "# numpy arrays only use indices to subset \n",
    "# we need to know which column index to use to get the start column \n",
    "\n",
    "# we need to to get the index where col_names has the value start start\n",
    "col_names == \"start\""
   ]
  },
  {
   "cell_type": "code",
   "execution_count": 49,
   "metadata": {},
   "outputs": [
    {
     "data": {
      "text/plain": [
       "(array([1]),)"
      ]
     },
     "execution_count": 49,
     "metadata": {},
     "output_type": "execute_result"
    }
   ],
   "source": [
    "# np.where will use a logical array and \n",
    "# retrieve a tuple with an array of indices where the logical array has True values\n",
    "# the tuple will contain as many arrays as many dimensions the logical array has\n",
    "# in this case this is a tuple with 1 array\n",
    "\n",
    "np.where(col_names == \"start\")"
   ]
  },
  {
   "cell_type": "code",
   "execution_count": 50,
   "metadata": {},
   "outputs": [
    {
     "data": {
      "text/plain": [
       "array([1])"
      ]
     },
     "execution_count": 50,
     "metadata": {},
     "output_type": "execute_result"
    }
   ],
   "source": [
    "# to get the indices array we index by 0\n",
    "# [0] to get thefirst element\n",
    "\n",
    "np.where(col_names == \"start\")[0]"
   ]
  },
  {
   "cell_type": "code",
   "execution_count": 51,
   "metadata": {},
   "outputs": [
    {
     "data": {
      "text/plain": [
       "1"
      ]
     },
     "execution_count": 51,
     "metadata": {},
     "output_type": "execute_result"
    }
   ],
   "source": [
    "# to get the first element in the array we index by 0 again\n",
    "# we save this in a variable because we will use it later \n",
    "# to get the start values fron the features array\n",
    "\n",
    "idx_start = np.where(col_names == \"start\")[0][0]\n",
    "idx_start"
   ]
  },
  {
   "cell_type": "code",
   "execution_count": 52,
   "metadata": {},
   "outputs": [
    {
     "data": {
      "text/plain": [
       "2"
      ]
     },
     "execution_count": 52,
     "metadata": {},
     "output_type": "execute_result"
    }
   ],
   "source": [
    "# we do rhe same for the end column\n",
    "\n",
    "idx_end = np.where(col_names == \"end\")[0][0]\n",
    "idx_end"
   ]
  },
  {
   "cell_type": "code",
   "execution_count": 53,
   "metadata": {},
   "outputs": [
    {
     "data": {
      "text/plain": [
       "array([1, 3747, 3747, 3747, 4116, 4116, 4116, 4116, 4221, 5195, 5195,\n",
       "       6037, 6037, 9727, 9727, 10095, 10095, 10149, 11495, 11495, 11495,\n",
       "       11495, 11618, 11618, 11641, 14951, 14951, 16473, 16473, 16702,\n",
       "       16702, 11495, 11495, 11495, 11618, 11618, 11641, 14951, 14951,\n",
       "       16473, 16473, 16586, 11499, 11499, 11499, 11618, 11618, 11641,\n",
       "       14951, 14951, 16473, 16473, 16586, 11505, 11505, 11505, 11623,\n",
       "       11623, 11641, 14951, 14951, 16473, 16473, 16586, 11618, 11618,\n",
       "       11618, 11641, 14951, 14951, 16473, 16473, 16586, 11623, 11623,\n",
       "       11623, 14950, 14950, 15103, 16473, 16473, 16586, 17487, 17487,\n",
       "       17487, 17487, 17911, 18006, 18006, 19015, 19015, 20271, 20271,\n",
       "       20848, 20848, 21013, 21013, 24651, 24651, 24929, 24929, 25273,\n",
       "       25273, 26371, 26371, 26590, 26590, 26733, 26733, 26779, 17497,\n",
       "       17497, 17497, 17911, 18006, 18006, 19015, 19015, 20271, 20271,\n",
       "       20848, 20848, 21013, 21013, 21128, 24651, 24651, 17497, 17497,\n",
       "       17497, 17911, 18006, 18006, 19015, 19015, 20271, 20271, 20848,\n",
       "       20848, 21013, 21013, 24651, 24651, 24929, 24929, 25273, 25273,\n",
       "       26371, 26371, 26590, 26590, 17497, 17497, 17497, 17911, 18006,\n",
       "       18006, 19015, 19015, 20271, 20271, 20848, 20848, 21013, 21013,\n",
       "       24651, 24651, 24929, 24929, 25273, 25273, 26371, 26371, 26590,\n",
       "       26590, 26733, 26733, 26779, 22882, 22882, 22882, 27591, 27591,\n",
       "       27591, 27591, 28280, 29100, 29100, 29769, 29769, 31769, 31769,\n",
       "       32412, 32412, 32483, 31523, 31523, 31523, 32415, 32415, 32415,\n",
       "       43733, 43733, 43733, 43733, 44030, 44030, 44281, 44281, 44372,\n",
       "       44372, 44521, 44521, 47467, 47467, 47467, 47467, 47472, 47696,\n",
       "       47696, 48348, 48348, 49251, 49251, 49417, 49919, 49919, 49919,\n",
       "       49919, 49921, 50815, 50815, 52283, 52283, 52466, 52466, 53266,\n",
       "       53266, 53391, 53391, 53944, 53944, 54361, 52292, 52292, 52292,\n",
       "       52370, 52466, 52466, 53266, 53266, 53391, 53391, 53944, 53944,\n",
       "       55293, 55293, 55293, 55293, 55337, 55890, 55890, 56124, 56124,\n",
       "       56537, 56537, 56872, 56872, 57257, 57257, 59045, 59045, 61236,\n",
       "       61236, 62774, 62774, 63797, 63797, 63904, 63904, 64018, 64018,\n",
       "       64022, 71425, 71425, 71425, 71425, 71847, 71847, 72511, 72511,\n",
       "       72647, 72647, 72941, 72941, 73605, 73605, 74625, 74625, 75171,\n",
       "       75171, 75951, 75951, 76949, 76949, 77713, 77713, 79313, 79313,\n",
       "       80306, 80306, 80345, 80814, 80814, 71425, 71425, 71425, 71847,\n",
       "       71847, 72511, 72511, 72647, 72647, 72941, 72941, 73605, 73605,\n",
       "       74625, 74625, 75171, 75171, 75951, 75951, 76949, 76949, 77713,\n",
       "       77713, 79313, 79313, 80306, 80306, 80345, 71845, 71845, 71845,\n",
       "       72511, 72511, 72647, 72647, 72649, 72941, 72941, 73605, 73605,\n",
       "       74625, 74625, 75171, 75171, 75951, 75951, 76949, 76949, 77713,\n",
       "       77713, 79313, 79313, 80306, 80306, 80345, 71845, 71845, 71845,\n",
       "       72511, 72511, 72647, 72647, 72941, 72941, 73605, 73605, 74625,\n",
       "       74625, 75171, 75171, 75951, 75951, 76949, 76949, 77713, 77713,\n",
       "       79313, 79313, 79355, 80306, 80306, 80345, 72511, 72511, 72511,\n",
       "       72647, 72647, 72649, 72941, 72941, 73605, 73605, 74625, 74625,\n",
       "       75171, 75171, 75951, 75951, 76949, 76949, 77713, 77713, 79313,\n",
       "       79313, 80306, 80306, 80345, 80814, 80814, 81193, 81193, 81193,\n",
       "       81193, 81234, 81885, 81885, 82016, 82016, 82586, 82586, 83181,\n",
       "       83181, 84190, 84190, 84388, 84388, 84614, 84614, 84836, 84836,\n",
       "       86824, 86824, 87034, 87034, 87520, 87520, 88268, 88268, 88566,\n",
       "       88566, 89372, 89372, 90419, 90419, 90608, 81193, 81193, 81193,\n",
       "       81234, 81885, 81885, 82016, 82016, 82586, 82586, 83181, 83181,\n",
       "       84190, 84190, 84388, 84388, 84614, 84614, 84836, 84836, 86824,\n",
       "       86824, 87034, 87034, 87520, 87520, 88268, 88268, 88566, 88566,\n",
       "       89372, 89372, 90419, 90419, 90608, 90822, 90822, 90968, 90968,\n",
       "       81203, 81203, 81203, 81234, 81885, 81885, 82016, 82016, 82586,\n",
       "       82586, 83181, 83181, 84190, 84190, 84388, 84388, 84614, 84614,\n",
       "       84836, 84836, 86824, 86824, 87034, 87034, 87520, 87520, 88268,\n",
       "       88268, 88566, 88566, 89372, 89372, 90419, 90419, 90608, 90822,\n",
       "       90822, 90968, 90968, 86826, 86826, 86826, 86841, 87034, 87034,\n",
       "       87520, 87520, 88268, 88268, 88566, 88566, 89372, 89372, 90419,\n",
       "       90419, 90608, 86826, 86826, 86826, 86841, 87034, 87034, 87520,\n",
       "       87520, 88268, 88268, 88566, 88566, 89372, 89372, 90419, 90419,\n",
       "       90608, 90822, 90822, 90968, 90968, 89480, 89480, 89480, 90419,\n",
       "       90419, 90608, 84991, 84991, 84991, 84991, 85052, 85441, 85441,\n",
       "       86097, 86097, 86285, 91380, 91380, 91380, 91380, 91409, 92523,\n",
       "       92523, 92649, 91404, 91404, 91404, 91409, 92523, 92523, 92649,\n",
       "       91404, 91404, 91404, 91409, 92523, 92523, 92649, 93024, 93024,\n",
       "       93024, 93024, 93092, 93182, 93182, 93609, 93609, 94064, 94064,\n",
       "       94269, 94269, 94622, 94622, 94715, 94828, 94828, 94828, 94828,\n",
       "       94864, 94976, 94976, 95237, 95237, 95313, 96544, 96544, 96544,\n",
       "       96544, 96826, 97600, 97600, 98295, 98295, 99629, 99629, 100139,\n",
       "       100139, 100395, 100395, 101505, 101505, 102448, 102448, 104440,\n",
       "       104440, 105436, 105436, 106016, 106016, 106689, 106689, 107356,\n",
       "       107356, 107596, 107596, 108162, 96544, 96544, 96544, 96826, 97600,\n",
       "       97600, 98295, 98295, 99629, 99629, 100139, 100139, 100395, 100395,\n",
       "       101505, 101505, 102448, 102448, 104440, 104440, 105436, 105436,\n",
       "       106016, 106016, 106689, 106689, 107356, 107356, 107596, 107596,\n",
       "       108162, 108670, 108670, 108670, 108670, 109265, 109492, 109492,\n",
       "       109835, 109835, 110005, 110005, 110045, 108670, 108670, 108670,\n",
       "       109265, 109492, 109492, 109835, 109835, 110005, 110005, 110045,\n",
       "       110551, 110551, 110551, 110576, 110576, 110576, 111038, 111038,\n",
       "       111038, 111038, 111055, 111161, 111161, 111510, 111510, 111755,\n",
       "       111755, 112019, 112019, 112228, 111038, 111038, 111038, 111055,\n",
       "       111161, 111161, 111510, 111510, 111755, 111755, 112019, 112019,\n",
       "       112228, 111038, 111038, 111038, 111055, 111161, 111161, 111510,\n",
       "       111510, 111755, 111755, 112019, 112019, 112228, 112412, 112412,\n",
       "       111287, 111287, 111287, 111292, 111292, 111292, 112285, 112285,\n",
       "       112285, 112285, 112365, 112527, 112527, 112700, 112700, 113239,\n",
       "       113239, 113426, 113426, 113596, 113596, 113662, 113239, 113239,\n",
       "       113239, 113314, 113426, 113426, 113596, 113596, 113662, 113807,\n",
       "       113807, 113807, 113807, 114085, 114085, 114544, 114544, 114682,\n",
       "       115656, 115656, 115656, 115739, 115739, 115739, 115739, 116432,\n",
       "       116432, 116719, 116719, 117086, 117086, 117402, 116462, 116462,\n",
       "       116462, 116719, 116719, 117086, 117086, 117402, 118109, 118109,\n",
       "       118109, 118109, 118553, 118553, 119571, 119571, 119946, 119946,\n",
       "       120242, 120242, 120488, 120488, 120763, 120763, 127297, 127297,\n",
       "       127297, 127297, 127385, 127385, 128697, 128697, 128945, 128945,\n",
       "       129176, 129176, 132103, 132103, 132612, 132612, 133414, 133414,\n",
       "       133583, 128697, 128697, 128697, 128698, 128945, 128945, 129167,\n",
       "       129167, 132103, 132103, 132612, 132612, 133414, 133414, 133583,\n",
       "       129165, 129165, 129165, 132103, 132103, 132262, 132612, 132612,\n",
       "       133414, 133414, 133583, 132101, 132101, 132101, 132262, 132612,\n",
       "       132612, 133414, 133414, 133583, 134337, 134337, 134337, 134337,\n",
       "       134354, 134506, 134506, 135549, 135549, 136235, 136235, 137209,\n",
       "       137209, 137845, 137845, 137845, 137845, 138017, 138017, 138193,\n",
       "       138193, 138393, 138393, 138829, 138829, 139080, 139080, 139378,\n",
       "       139378, 139769, 139769, 140136, 140136, 140371, 140371, 140554,\n",
       "       140554, 140916, 140916, 141681, 141681, 141900, 141900, 142067,\n",
       "       142067, 142278, 142278, 142547, 142547, 142729, 142729, 143007,\n",
       "       143007, 144265, 144265, 144440, 144440, 146486, 146486, 146486,\n",
       "       146486, 146623, 146793, 146793, 147054, 147054, 147784, 147784,\n",
       "       148099, 148099, 149060, 149060, 149303, 149303, 149520, 149520,\n",
       "       150391, 150391, 150734, 150734, 151227, 151227, 151461, 151461,\n",
       "       152069, 152069, 152407, 152407, 152706, 152706, 152956, 152956,\n",
       "       153395, 153395, 153603], dtype=object)"
      ]
     },
     "execution_count": 53,
     "metadata": {},
     "output_type": "execute_result"
    }
   ],
   "source": [
    "# now we get the start values\n",
    "# we get all rows and the column with index idx_start from features array\n",
    "\n",
    "start_values = features_arr[:,idx_start]\n",
    "start_values"
   ]
  },
  {
   "cell_type": "code",
   "execution_count": 54,
   "metadata": {},
   "outputs": [
    {
     "data": {
      "text/plain": [
       "array([15072434, 3909, 3909, 3909, 10230, 10230, 4220, 4358, 4358, 5296,\n",
       "       5296, 6327, 6327, 9846, 9846, 10148, 10230, 10230, 16837, 16793,\n",
       "       11561, 11561, 11640, 11689, 11689, 15160, 15160, 16585, 16585,\n",
       "       16793, 16793, 16837, 11561, 11561, 11640, 11689, 11689, 15160,\n",
       "       15160, 16585, 16837, 16837, 16837, 11557, 11557, 11640, 11689,\n",
       "       11689, 15160, 15160, 16585, 16837, 16837, 16837, 11561, 11561,\n",
       "       11640, 11689, 11689, 15160, 15160, 16585, 16837, 16837, 16837,\n",
       "       11640, 11689, 11689, 15160, 15160, 16585, 16837, 16837, 16837,\n",
       "       11686, 11686, 15102, 15160, 15160, 16585, 16837, 16837, 26781,\n",
       "       26781, 17910, 17958, 17958, 18115, 18115, 19241, 19241, 20478,\n",
       "       20478, 20964, 20964, 21139, 21139, 24845, 24845, 25090, 25090,\n",
       "       25472, 25472, 26524, 26524, 26690, 26690, 26778, 26781, 26781,\n",
       "       24796, 17910, 17958, 17958, 18115, 18115, 19241, 19241, 20478,\n",
       "       20478, 20964, 20964, 21127, 21136, 21136, 24796, 24796, 26643,\n",
       "       17910, 17958, 17958, 18115, 18115, 19241, 19241, 20478, 20478,\n",
       "       20964, 20964, 21139, 21139, 24845, 24845, 25090, 25090, 25472,\n",
       "       25472, 26524, 26524, 26643, 26643, 26781, 17910, 17958, 17958,\n",
       "       18115, 18115, 19241, 19241, 20478, 20478, 20964, 20964, 21139,\n",
       "       21139, 24845, 24845, 25090, 25090, 25472, 25472, 26524, 26524,\n",
       "       26681, 26681, 26778, 26781, 26781, 23600, 23600, 23600, 32544,\n",
       "       32544, 28279, 28405, 28405, 29367, 29367, 30424, 30424, 32072,\n",
       "       32072, 32482, 32544, 32544, 31543, 31543, 31543, 32435, 32435,\n",
       "       32435, 44677, 44677, 43961, 43961, 44234, 44234, 44324, 44324,\n",
       "       44468, 44468, 44677, 44677, 49857, 49857, 47471, 47610, 47610,\n",
       "       47858, 47858, 48530, 48530, 49416, 49857, 49857, 54426, 54426,\n",
       "       49920, 50016, 50016, 51030, 51030, 52410, 52410, 52572, 52572,\n",
       "       53337, 53337, 53695, 53695, 54360, 54426, 54426, 54360, 52369,\n",
       "       52410, 52410, 52572, 52572, 53337, 53337, 53695, 53695, 54360,\n",
       "       54360, 64066, 64066, 55336, 55450, 55450, 56047, 56047, 56293,\n",
       "       56293, 56687, 56687, 57053, 57053, 57625, 57625, 60236, 60236,\n",
       "       62051, 62051, 62974, 62974, 63856, 63856, 63972, 63972, 64021,\n",
       "       64066, 64066, 81071, 81063, 71511, 71511, 71932, 71932, 72590,\n",
       "       72590, 72897, 72897, 73017, 73017, 73766, 73766, 74808, 74808,\n",
       "       75490, 75490, 76112, 76112, 77153, 77153, 77799, 77799, 79447,\n",
       "       79447, 80344, 80561, 80561, 81063, 81063, 81071, 71511, 71511,\n",
       "       71932, 71932, 72590, 72590, 72897, 72897, 73017, 73017, 73766,\n",
       "       73766, 74808, 74808, 75490, 75490, 76112, 76112, 77153, 77153,\n",
       "       77799, 77799, 79447, 79447, 80344, 81071, 81071, 80633, 71932,\n",
       "       71932, 72590, 72590, 72648, 72897, 72897, 73017, 73017, 73766,\n",
       "       73766, 74808, 74808, 75490, 75490, 76112, 76112, 77153, 77153,\n",
       "       77799, 77799, 79447, 79447, 80344, 80633, 80633, 80633, 71932,\n",
       "       71932, 72590, 72590, 72897, 72897, 73017, 73017, 73766, 73766,\n",
       "       74808, 74808, 75490, 75490, 76112, 76112, 77153, 77153, 77799,\n",
       "       77799, 79354, 79447, 79447, 80344, 80633, 80633, 81063, 72590,\n",
       "       72590, 72648, 72897, 72897, 73017, 73017, 73766, 73766, 74808,\n",
       "       74808, 75490, 75490, 76112, 76112, 77153, 77153, 77799, 77799,\n",
       "       79447, 79447, 80344, 80561, 80561, 81063, 81063, 91020, 90957,\n",
       "       81233, 81272, 81272, 81963, 81963, 82137, 82137, 82676, 82676,\n",
       "       83420, 83420, 84313, 84313, 84567, 84567, 84738, 84738, 84985,\n",
       "       84985, 86904, 86904, 87223, 87223, 87734, 87734, 88500, 88500,\n",
       "       88706, 88706, 89584, 89584, 90607, 90957, 90957, 91020, 81233,\n",
       "       81272, 81272, 81963, 81963, 82137, 82137, 82676, 82676, 83420,\n",
       "       83420, 84313, 84313, 84567, 84567, 84738, 84738, 84985, 84985,\n",
       "       86904, 86904, 87223, 87223, 87734, 87734, 88500, 88500, 88706,\n",
       "       88706, 89584, 89584, 90607, 90792, 90792, 90872, 90872, 91020,\n",
       "       91020, 91020, 81233, 81272, 81272, 81963, 81963, 82137, 82137,\n",
       "       82676, 82676, 83420, 83420, 84313, 84313, 84567, 84567, 84738,\n",
       "       84738, 84985, 84985, 86904, 86904, 87223, 87223, 87734, 87734,\n",
       "       88500, 88500, 88706, 88706, 89584, 89584, 90607, 90792, 90792,\n",
       "       90872, 90872, 91020, 91020, 90957, 86840, 86904, 86904, 87223,\n",
       "       87223, 87734, 87734, 88500, 88500, 88706, 88706, 89584, 89584,\n",
       "       90607, 90957, 90957, 91020, 86840, 86904, 86904, 87223, 87223,\n",
       "       87734, 87734, 88500, 88500, 88706, 88706, 89584, 89584, 90607,\n",
       "       90792, 90792, 90872, 90872, 91020, 91020, 90957, 89584, 89584,\n",
       "       90607, 90957, 90957, 86293, 86293, 85051, 85354, 85354, 85621,\n",
       "       85621, 86284, 86293, 86293, 92877, 92720, 91408, 91594, 91594,\n",
       "       92648, 92720, 92720, 92720, 91408, 91594, 91594, 92648, 92720,\n",
       "       92720, 92877, 91408, 91594, 91594, 92648, 92877, 92877, 94884,\n",
       "       94884, 93091, 93136, 93136, 93556, 93556, 94015, 94015, 94208,\n",
       "       94208, 94568, 94568, 94714, 94884, 94884, 95367, 95367, 94863,\n",
       "       94929, 94929, 95118, 95118, 95312, 95367, 95367, 108223, 108223,\n",
       "       96825, 96992, 96992, 97960, 97960, 99058, 99058, 99789, 99789,\n",
       "       100323, 100323, 100625, 100625, 101733, 101733, 103216, 103216,\n",
       "       104713, 104713, 105621, 105621, 106334, 106334, 106819, 106819,\n",
       "       107548, 107548, 108161, 108223, 108223, 108223, 96825, 96992,\n",
       "       96992, 97960, 97960, 99058, 99058, 99789, 99789, 100338, 100338,\n",
       "       100625, 100625, 101733, 101733, 103216, 103216, 104713, 104713,\n",
       "       105621, 105621, 106334, 106334, 106819, 106819, 107548, 107548,\n",
       "       108161, 108223, 108223, 110107, 110057, 109264, 109446, 109446,\n",
       "       109783, 109783, 109956, 109956, 110044, 110057, 110057, 110107,\n",
       "       109264, 109446, 109446, 109783, 109783, 109956, 109956, 110044,\n",
       "       110107, 110107, 110771, 110771, 110771, 110724, 110724, 110724,\n",
       "       112417, 112272, 111054, 111065, 111065, 111260, 111260, 111707,\n",
       "       111707, 111971, 111971, 112227, 112272, 112272, 112295, 111054,\n",
       "       111065, 111065, 111260, 111260, 111707, 111707, 111971, 111971,\n",
       "       112227, 112295, 112295, 112417, 111054, 111065, 111065, 111260,\n",
       "       111260, 111707, 111707, 111971, 111971, 112227, 112267, 112267,\n",
       "       112417, 112417, 111436, 111436, 111436, 111425, 111425, 111425,\n",
       "       113721, 113672, 112364, 112481, 112481, 112652, 112652, 112903,\n",
       "       112903, 113382, 113382, 113527, 113527, 113661, 113672, 113672,\n",
       "       113721, 113313, 113382, 113382, 113527, 113527, 113661, 113721,\n",
       "       113721, 114704, 114704, 113863, 113863, 114423, 114423, 114681,\n",
       "       114704, 114704, 115676, 115676, 115676, 117438, 117438, 115915,\n",
       "       115915, 116666, 116666, 116974, 116974, 117401, 117438, 117438,\n",
       "       117438, 116666, 116666, 116974, 116974, 117401, 117438, 117438,\n",
       "       120870, 120870, 118208, 118208, 118953, 118953, 119900, 119900,\n",
       "       120185, 120185, 120378, 120378, 120710, 120710, 120870, 120870,\n",
       "       134065, 134065, 127336, 127336, 127436, 127436, 128896, 128896,\n",
       "       129124, 129124, 129333, 129333, 132553, 132553, 132693, 132693,\n",
       "       133582, 134065, 134065, 134065, 128697, 128896, 128896, 129124,\n",
       "       129124, 129333, 129333, 132553, 132553, 132693, 132693, 133582,\n",
       "       134065, 134065, 134065, 129333, 129333, 132261, 132553, 132553,\n",
       "       132693, 132693, 133582, 134065, 134065, 134065, 132261, 132553,\n",
       "       132553, 132693, 132693, 133582, 134065, 134065, 137282, 137282,\n",
       "       134353, 134428, 134428, 134581, 134581, 135898, 135898, 136712,\n",
       "       136712, 137282, 137282, 144565, 144565, 137886, 137886, 138143,\n",
       "       138143, 138351, 138351, 138782, 138782, 139032, 139032, 139331,\n",
       "       139331, 139669, 139669, 139982, 139982, 140292, 140292, 140496,\n",
       "       140496, 140870, 140870, 141213, 141213, 141854, 141854, 142023,\n",
       "       142023, 142230, 142230, 142477, 142477, 142671, 142671, 142939,\n",
       "       142939, 143684, 143684, 144396, 144396, 144565, 144565, 154850,\n",
       "       154850, 146622, 146748, 146748, 146924, 146924, 147731, 147731,\n",
       "       147994, 147994, 148223, 148223, 149259, 149259, 149472, 149472,\n",
       "       149817, 149817, 150688, 150688, 151182, 151182, 151383, 151383,\n",
       "       151674, 151674, 152360, 152360, 152658, 152658, 152909, 152909,\n",
       "       153345, 153345, 153553, 153553, 153680], dtype=object)"
      ]
     },
     "execution_count": 54,
     "metadata": {},
     "output_type": "execute_result"
    }
   ],
   "source": [
    "# we do the same for end\n",
    "\n",
    "end_values = features_arr[:,idx_end]\n",
    "end_values"
   ]
  },
  {
   "cell_type": "code",
   "execution_count": 55,
   "metadata": {},
   "outputs": [
    {
     "data": {
      "text/plain": [
       "array([15072433, 162, 162, 162, 6114, 6114, 104, 242, 137, 101, 101, 290,\n",
       "       290, 119, 119, 53, 135, 81, 5342, 5298, 66, 66, 22, 71, 48, 209,\n",
       "       209, 112, 112, 91, 91, 5342, 66, 66, 22, 71, 48, 209, 209, 112,\n",
       "       364, 251, 5338, 58, 58, 22, 71, 48, 209, 209, 112, 364, 251, 5332,\n",
       "       56, 56, 17, 66, 48, 209, 209, 112, 364, 251, 5219, 22, 71, 48, 209,\n",
       "       209, 112, 364, 251, 5214, 63, 63, 152, 210, 57, 112, 364, 251,\n",
       "       9294, 9294, 423, 471, 47, 109, 109, 226, 226, 207, 207, 116, 116,\n",
       "       126, 126, 194, 194, 161, 161, 199, 199, 153, 153, 100, 100, 45, 48,\n",
       "       2, 7299, 413, 461, 47, 109, 109, 226, 226, 207, 207, 116, 116, 114,\n",
       "       123, 8, 145, 145, 9146, 413, 461, 47, 109, 109, 226, 226, 207, 207,\n",
       "       116, 116, 126, 126, 194, 194, 161, 161, 199, 199, 153, 153, 53, 53,\n",
       "       9284, 413, 461, 47, 109, 109, 226, 226, 207, 207, 116, 116, 126,\n",
       "       126, 194, 194, 161, 161, 199, 199, 153, 153, 91, 91, 45, 48, 2,\n",
       "       718, 718, 718, 4953, 4953, 688, 814, 125, 267, 267, 655, 655, 303,\n",
       "       303, 70, 132, 61, 20, 20, 20, 20, 20, 20, 944, 944, 228, 228, 204,\n",
       "       204, 43, 43, 96, 96, 156, 156, 2390, 2390, 4, 143, 138, 162, 162,\n",
       "       182, 182, 165, 606, 440, 4507, 4507, 1, 97, 95, 215, 215, 127, 127,\n",
       "       106, 106, 71, 71, 304, 304, 416, 482, 65, 2068, 77, 118, 40, 106,\n",
       "       106, 71, 71, 304, 304, 416, 416, 8773, 8773, 43, 157, 113, 157,\n",
       "       157, 169, 169, 150, 150, 181, 181, 368, 368, 1191, 1191, 815, 815,\n",
       "       200, 200, 59, 59, 68, 68, 3, 48, 44, 9646, 9638, 86, 86, 85, 85,\n",
       "       79, 79, 250, 250, 76, 76, 161, 161, 183, 183, 319, 319, 161, 161,\n",
       "       204, 204, 86, 86, 134, 134, 38, 255, 216, 249, 249, 9646, 86, 86,\n",
       "       85, 85, 79, 79, 250, 250, 76, 76, 161, 161, 183, 183, 319, 319,\n",
       "       161, 161, 204, 204, 86, 86, 134, 134, 38, 765, 726, 8788, 87, 87,\n",
       "       79, 79, 1, 250, 248, 76, 76, 161, 161, 183, 183, 319, 319, 161,\n",
       "       161, 204, 204, 86, 86, 134, 134, 38, 327, 288, 8788, 87, 87, 79,\n",
       "       79, 250, 250, 76, 76, 161, 161, 183, 183, 319, 319, 161, 161, 204,\n",
       "       204, 86, 86, 41, 134, 92, 38, 327, 288, 8552, 79, 79, 1, 250, 248,\n",
       "       76, 76, 161, 161, 183, 183, 319, 319, 161, 161, 204, 204, 86, 86,\n",
       "       134, 134, 38, 255, 216, 249, 249, 9827, 9764, 40, 79, 38, 78, 78,\n",
       "       121, 121, 90, 90, 239, 239, 123, 123, 179, 179, 124, 124, 149, 149,\n",
       "       80, 80, 189, 189, 214, 214, 232, 232, 140, 140, 212, 212, 188, 538,\n",
       "       349, 9827, 40, 79, 38, 78, 78, 121, 121, 90, 90, 239, 239, 123,\n",
       "       123, 179, 179, 124, 124, 149, 149, 80, 80, 189, 189, 214, 214, 232,\n",
       "       232, 140, 140, 212, 212, 188, 373, 184, 50, 50, 52, 52, 9817, 30,\n",
       "       69, 38, 78, 78, 121, 121, 90, 90, 239, 239, 123, 123, 179, 179,\n",
       "       124, 124, 149, 149, 80, 80, 189, 189, 214, 214, 232, 232, 140, 140,\n",
       "       212, 212, 188, 373, 184, 50, 50, 52, 52, 4131, 14, 78, 63, 189,\n",
       "       189, 214, 214, 232, 232, 140, 140, 212, 212, 188, 538, 349, 4194,\n",
       "       14, 78, 63, 189, 189, 214, 214, 232, 232, 140, 140, 212, 212, 188,\n",
       "       373, 184, 50, 50, 52, 52, 1477, 104, 104, 188, 538, 349, 1302,\n",
       "       1302, 60, 363, 302, 180, 180, 187, 196, 8, 1497, 1340, 28, 214,\n",
       "       185, 125, 197, 71, 1316, 4, 190, 185, 125, 197, 71, 1473, 4, 190,\n",
       "       185, 125, 354, 228, 1860, 1860, 67, 112, 44, 374, 374, 406, 406,\n",
       "       144, 144, 299, 299, 92, 262, 169, 539, 539, 35, 101, 65, 142, 142,\n",
       "       75, 130, 54, 11679, 11679, 281, 448, 166, 360, 360, 763, 763, 160,\n",
       "       160, 184, 184, 230, 230, 228, 228, 768, 768, 273, 273, 185, 185,\n",
       "       318, 318, 130, 130, 192, 192, 565, 627, 61, 11679, 281, 448, 166,\n",
       "       360, 360, 763, 763, 160, 160, 199, 199, 230, 230, 228, 228, 768,\n",
       "       768, 273, 273, 185, 185, 318, 318, 130, 130, 192, 192, 565, 627,\n",
       "       61, 1437, 1387, 594, 776, 181, 291, 291, 121, 121, 39, 52, 12,\n",
       "       1437, 594, 776, 181, 291, 291, 121, 121, 39, 102, 62, 220, 220,\n",
       "       220, 148, 148, 148, 1379, 1234, 16, 27, 10, 99, 99, 197, 197, 216,\n",
       "       216, 208, 253, 44, 1257, 16, 27, 10, 99, 99, 197, 197, 216, 216,\n",
       "       208, 276, 67, 1379, 16, 27, 10, 99, 99, 197, 197, 216, 216, 208,\n",
       "       248, 39, 5, 5, 149, 149, 149, 133, 133, 133, 1436, 1387, 79, 196,\n",
       "       116, 125, 125, 203, 203, 143, 143, 101, 101, 65, 76, 10, 482, 74,\n",
       "       143, 68, 101, 101, 65, 125, 59, 897, 897, 56, 56, 338, 338, 137,\n",
       "       160, 22, 20, 20, 20, 1699, 1699, 176, 176, 234, 234, 255, 255, 315,\n",
       "       352, 36, 976, 204, 204, 255, 255, 315, 352, 36, 2761, 2761, 99, 99,\n",
       "       400, 400, 329, 329, 239, 239, 136, 136, 222, 222, 107, 107, 6768,\n",
       "       6768, 39, 39, 51, 51, 199, 199, 179, 179, 157, 157, 450, 450, 81,\n",
       "       81, 168, 651, 482, 5368, 0, 199, 198, 179, 179, 166, 166, 450, 450,\n",
       "       81, 81, 168, 651, 482, 4900, 168, 168, 158, 450, 291, 81, 81, 168,\n",
       "       651, 482, 1964, 160, 452, 291, 81, 81, 168, 651, 482, 2945, 2945,\n",
       "       16, 91, 74, 75, 75, 349, 349, 477, 477, 73, 73, 6720, 6720, 41, 41,\n",
       "       126, 126, 158, 158, 389, 389, 203, 203, 251, 251, 291, 291, 213,\n",
       "       213, 156, 156, 125, 125, 316, 316, 297, 297, 173, 173, 123, 123,\n",
       "       163, 163, 199, 199, 124, 124, 210, 210, 677, 677, 131, 131, 125,\n",
       "       125, 8364, 8364, 136, 262, 125, 131, 131, 677, 677, 210, 210, 124,\n",
       "       124, 199, 199, 169, 169, 297, 297, 297, 297, 448, 448, 156, 156,\n",
       "       213, 213, 291, 291, 251, 251, 203, 203, 389, 389, 158, 158, 77],\n",
       "      dtype=object)"
      ]
     },
     "execution_count": 55,
     "metadata": {},
     "output_type": "execute_result"
    }
   ],
   "source": [
    "# we then do the difference end - start to get the length\n",
    "\n",
    "feat_len = end_values - start_values\n",
    "feat_len"
   ]
  },
  {
   "cell_type": "code",
   "execution_count": 56,
   "metadata": {},
   "outputs": [
    {
     "data": {
      "text/plain": [
       "array([False,  True,  True,  True, False, False,  True,  True,  True,\n",
       "        True,  True,  True,  True,  True,  True,  True,  True,  True,\n",
       "       False, False,  True,  True,  True,  True,  True,  True,  True,\n",
       "        True,  True,  True,  True, False,  True,  True,  True,  True,\n",
       "        True,  True,  True,  True,  True,  True, False,  True,  True,\n",
       "        True,  True,  True,  True,  True,  True,  True,  True, False,\n",
       "        True,  True,  True,  True,  True,  True,  True,  True,  True,\n",
       "        True, False,  True,  True,  True,  True,  True,  True,  True,\n",
       "        True, False,  True,  True,  True,  True,  True,  True,  True,\n",
       "        True, False, False,  True,  True,  True,  True,  True,  True,\n",
       "        True,  True,  True,  True,  True,  True,  True,  True,  True,\n",
       "        True,  True,  True,  True,  True,  True,  True,  True,  True,\n",
       "        True,  True, False,  True,  True,  True,  True,  True,  True,\n",
       "        True,  True,  True,  True,  True,  True,  True,  True,  True,\n",
       "        True, False,  True,  True,  True,  True,  True,  True,  True,\n",
       "        True,  True,  True,  True,  True,  True,  True,  True,  True,\n",
       "        True,  True,  True,  True,  True,  True,  True, False,  True,\n",
       "        True,  True,  True,  True,  True,  True,  True,  True,  True,\n",
       "        True,  True,  True,  True,  True,  True,  True,  True,  True,\n",
       "        True,  True,  True,  True,  True,  True,  True,  True,  True,\n",
       "        True,  True,  True,  True,  True,  True,  True,  True,  True,\n",
       "        True,  True,  True,  True,  True,  True,  True,  True,  True,\n",
       "        True,  True,  True,  True,  True,  True,  True,  True,  True,\n",
       "        True,  True,  True,  True,  True,  True,  True,  True,  True,\n",
       "        True,  True,  True,  True,  True,  True,  True,  True,  True,\n",
       "        True,  True,  True,  True,  True,  True,  True,  True,  True,\n",
       "        True,  True,  True,  True,  True,  True,  True,  True,  True,\n",
       "        True,  True,  True,  True,  True,  True,  True,  True,  True,\n",
       "        True,  True,  True, False, False,  True,  True,  True,  True,\n",
       "        True,  True,  True,  True,  True,  True,  True,  True,  True,\n",
       "        True,  True,  True,  True,  True,  True,  True,  True,  True,\n",
       "        True,  True,  True,  True, False, False,  True,  True,  True,\n",
       "        True,  True,  True,  True,  True,  True,  True,  True,  True,\n",
       "        True,  True,  True,  True,  True,  True,  True,  True,  True,\n",
       "        True,  True,  True,  True,  True,  True,  True,  True, False,\n",
       "        True,  True,  True,  True,  True,  True,  True,  True,  True,\n",
       "        True,  True,  True,  True,  True,  True,  True,  True,  True,\n",
       "        True,  True,  True,  True,  True,  True,  True,  True,  True,\n",
       "       False,  True,  True,  True,  True,  True,  True,  True,  True,\n",
       "        True,  True,  True,  True,  True,  True,  True,  True,  True,\n",
       "        True,  True,  True,  True,  True,  True,  True,  True,  True,\n",
       "       False,  True,  True,  True,  True,  True,  True,  True,  True,\n",
       "        True,  True,  True,  True,  True,  True,  True,  True,  True,\n",
       "        True,  True,  True,  True,  True,  True,  True,  True,  True,\n",
       "       False,  True,  True,  True,  True,  True,  True,  True,  True,\n",
       "        True,  True,  True,  True,  True,  True,  True,  True,  True,\n",
       "        True,  True,  True,  True,  True,  True,  True,  True,  True,\n",
       "       False, False,  True,  True,  True,  True,  True,  True,  True,\n",
       "        True,  True,  True,  True,  True,  True,  True,  True,  True,\n",
       "        True,  True,  True,  True,  True,  True,  True,  True,  True,\n",
       "        True,  True,  True,  True,  True,  True,  True,  True,  True,\n",
       "       False,  True,  True,  True,  True,  True,  True,  True,  True,\n",
       "        True,  True,  True,  True,  True,  True,  True,  True,  True,\n",
       "        True,  True,  True,  True,  True,  True,  True,  True,  True,\n",
       "        True,  True,  True,  True,  True,  True,  True,  True,  True,\n",
       "        True,  True,  True, False,  True,  True,  True,  True,  True,\n",
       "        True,  True,  True,  True,  True,  True,  True,  True,  True,\n",
       "        True,  True,  True,  True,  True,  True,  True,  True,  True,\n",
       "        True,  True,  True,  True,  True,  True,  True,  True,  True,\n",
       "        True,  True,  True,  True,  True,  True,  True,  True,  True,\n",
       "        True,  True,  True,  True,  True,  True,  True,  True,  True,\n",
       "        True,  True,  True,  True,  True,  True,  True,  True,  True,\n",
       "        True,  True,  True,  True,  True,  True,  True,  True,  True,\n",
       "        True,  True,  True,  True,  True,  True,  True,  True,  True,\n",
       "        True,  True,  True,  True,  True,  True,  True,  True,  True,\n",
       "        True,  True,  True,  True,  True,  True,  True,  True,  True,\n",
       "        True,  True,  True,  True,  True,  True,  True,  True,  True,\n",
       "        True,  True,  True,  True,  True,  True,  True,  True,  True,\n",
       "        True,  True,  True,  True,  True,  True,  True,  True,  True,\n",
       "        True,  True,  True,  True,  True,  True,  True,  True,  True,\n",
       "        True,  True,  True,  True,  True,  True,  True,  True,  True,\n",
       "       False, False,  True,  True,  True,  True,  True,  True,  True,\n",
       "        True,  True,  True,  True,  True,  True,  True,  True,  True,\n",
       "        True,  True,  True,  True,  True,  True,  True,  True,  True,\n",
       "        True,  True,  True,  True,  True, False,  True,  True,  True,\n",
       "        True,  True,  True,  True,  True,  True,  True,  True,  True,\n",
       "        True,  True,  True,  True,  True,  True,  True,  True,  True,\n",
       "        True,  True,  True,  True,  True,  True,  True,  True,  True,\n",
       "        True,  True,  True,  True,  True,  True,  True,  True,  True,\n",
       "        True,  True,  True,  True,  True,  True,  True,  True,  True,\n",
       "        True,  True,  True,  True,  True,  True,  True,  True,  True,\n",
       "        True,  True,  True,  True,  True,  True,  True,  True,  True,\n",
       "        True,  True,  True,  True,  True,  True,  True,  True,  True,\n",
       "        True,  True,  True,  True,  True,  True,  True,  True,  True,\n",
       "        True,  True,  True,  True,  True,  True,  True,  True,  True,\n",
       "        True,  True,  True,  True,  True,  True,  True,  True,  True,\n",
       "        True,  True,  True,  True,  True,  True,  True,  True,  True,\n",
       "        True,  True,  True,  True,  True,  True,  True,  True,  True,\n",
       "        True,  True,  True,  True,  True,  True,  True,  True,  True,\n",
       "        True,  True,  True,  True,  True,  True,  True,  True,  True,\n",
       "        True,  True,  True,  True,  True,  True,  True,  True,  True,\n",
       "        True,  True,  True,  True,  True,  True,  True,  True,  True,\n",
       "        True,  True,  True,  True,  True,  True,  True,  True,  True,\n",
       "        True,  True,  True,  True,  True,  True,  True,  True,  True,\n",
       "        True,  True,  True,  True,  True, False, False,  True,  True,\n",
       "        True,  True,  True,  True,  True,  True,  True,  True,  True,\n",
       "        True,  True,  True,  True,  True,  True, False,  True,  True,\n",
       "        True,  True,  True,  True,  True,  True,  True,  True,  True,\n",
       "        True,  True,  True,  True,  True,  True,  True,  True,  True,\n",
       "        True,  True,  True,  True,  True,  True,  True,  True,  True,\n",
       "        True,  True,  True,  True,  True,  True,  True,  True,  True,\n",
       "        True,  True,  True,  True,  True,  True,  True,  True,  True,\n",
       "       False, False,  True,  True,  True,  True,  True,  True,  True,\n",
       "        True,  True,  True,  True,  True,  True,  True,  True,  True,\n",
       "        True,  True,  True,  True,  True,  True,  True,  True,  True,\n",
       "        True,  True,  True,  True,  True,  True,  True,  True,  True,\n",
       "        True,  True,  True,  True,  True,  True,  True,  True, False,\n",
       "       False,  True,  True,  True,  True,  True,  True,  True,  True,\n",
       "        True,  True,  True,  True,  True,  True,  True,  True,  True,\n",
       "        True,  True,  True,  True,  True,  True,  True,  True,  True,\n",
       "        True,  True,  True,  True,  True,  True,  True,  True,  True,\n",
       "        True])"
      ]
     },
     "execution_count": 56,
     "metadata": {},
     "output_type": "execute_result"
    }
   ],
   "source": [
    "# then we check for lengths < 5000\n",
    "\n",
    "feat_len < 5000"
   ]
  },
  {
   "cell_type": "code",
   "execution_count": 57,
   "metadata": {},
   "outputs": [
    {
     "data": {
      "text/plain": [
       "963"
      ]
     },
     "execution_count": 57,
     "metadata": {},
     "output_type": "execute_result"
    }
   ],
   "source": [
    "# to count how many features with length < 5000 we have we can do the sum\n",
    "# of the logical array resulted from the condition above\n",
    "\n",
    "sum(feat_len < 5000)"
   ]
  },
  {
   "cell_type": "code",
   "execution_count": null,
   "metadata": {},
   "outputs": [],
   "source": []
  },
  {
   "cell_type": "code",
   "execution_count": 58,
   "metadata": {},
   "outputs": [
    {
     "data": {
      "text/plain": [
       "963"
      ]
     },
     "execution_count": 58,
     "metadata": {},
     "output_type": "execute_result"
    }
   ],
   "source": [
    "### now here is all the code together\n",
    "\n",
    "idx_start = np.where(col_names == \"start\")[0][0]\n",
    "idx_end = np.where(col_names == \"end\")[0][0]\n",
    "\n",
    "start_values = features_arr[:,idx_start]\n",
    "end_values = features_arr[:,idx_end]\n",
    "feat_len = end_values - start_values\n",
    "short_feat_count = sum(feat_len < 5000)\n",
    "\n",
    "short_feat_count"
   ]
  },
  {
   "cell_type": "code",
   "execution_count": null,
   "metadata": {},
   "outputs": [],
   "source": []
  },
  {
   "cell_type": "markdown",
   "metadata": {},
   "source": [
    "___\n",
    "\n",
    "#### <font color = \"red\">Exercise</font>\n",
    "\n",
    "\n",
    "<b> Combination of sequences with the best GC count </b>\n",
    "\n",
    "We have a list with 5 sequences.    \n",
    "- Identify the combination of 2 sequences with the best GC content (order does not matter).\n",
    "    - Combination of seq1 = \"AAA\" and seq2 = \"CCC\" would be \"AAACCC\"\n",
    "    - The order does not matter means that if we combine seq1 with seq2 or seq2 with seq1 the GC content is still the same\n",
    "    - retieve the result as a tuple of seq1 seq 2 combination and GC count (as percentage = number between 0 and 100)"
   ]
  },
  {
   "cell_type": "code",
   "execution_count": 59,
   "metadata": {},
   "outputs": [],
   "source": [
    "sequences = [\"AACGTCCCAG\", \"AACATG\", \"GTTCCCGTTAC\", \"AAACGTTA\", \"ATAACGTAA\"]"
   ]
  },
  {
   "cell_type": "code",
   "execution_count": 60,
   "metadata": {},
   "outputs": [],
   "source": [
    "## Write your solution here\n",
    "\n",
    "\n",
    "\n",
    "\n",
    "\n",
    "\n"
   ]
  },
  {
   "cell_type": "code",
   "execution_count": 61,
   "metadata": {},
   "outputs": [
    {
     "name": "stdout",
     "output_type": "stream",
     "text": [
      "AACGTCCCAG AACGTCCCAG\n",
      "AACGTCCCAG AACATG\n",
      "AACGTCCCAG GTTCCCGTTAC\n",
      "AACGTCCCAG AAACGTTA\n",
      "AACGTCCCAG ATAACGTAA\n",
      "AACATG AACGTCCCAG\n",
      "AACATG AACATG\n",
      "AACATG GTTCCCGTTAC\n",
      "AACATG AAACGTTA\n",
      "AACATG ATAACGTAA\n",
      "GTTCCCGTTAC AACGTCCCAG\n",
      "GTTCCCGTTAC AACATG\n",
      "GTTCCCGTTAC GTTCCCGTTAC\n",
      "GTTCCCGTTAC AAACGTTA\n",
      "GTTCCCGTTAC ATAACGTAA\n",
      "AAACGTTA AACGTCCCAG\n",
      "AAACGTTA AACATG\n",
      "AAACGTTA GTTCCCGTTAC\n",
      "AAACGTTA AAACGTTA\n",
      "AAACGTTA ATAACGTAA\n",
      "ATAACGTAA AACGTCCCAG\n",
      "ATAACGTAA AACATG\n",
      "ATAACGTAA GTTCCCGTTAC\n",
      "ATAACGTAA AAACGTTA\n",
      "ATAACGTAA ATAACGTAA\n"
     ]
    }
   ],
   "source": [
    "# to construct the combination of 2 sequences we can use two for loops\n",
    "# similar to when we constructed all tri-peptides - all combinations of 3 nucleotides\n",
    "\n",
    "for seq1 in sequences:\n",
    "    for seq2 in sequences:\n",
    "        print(seq1, seq2)"
   ]
  },
  {
   "cell_type": "code",
   "execution_count": 62,
   "metadata": {},
   "outputs": [
    {
     "name": "stdout",
     "output_type": "stream",
     "text": [
      "0 0\n",
      "0 1\n",
      "0 2\n",
      "0 3\n",
      "0 4\n",
      "1 0\n",
      "1 1\n",
      "1 2\n",
      "1 3\n",
      "1 4\n",
      "2 0\n",
      "2 1\n",
      "2 2\n",
      "2 3\n",
      "2 4\n",
      "3 0\n",
      "3 1\n",
      "3 2\n",
      "3 3\n",
      "3 4\n",
      "4 0\n",
      "4 1\n",
      "4 2\n",
      "4 3\n",
      "4 4\n"
     ]
    }
   ],
   "source": [
    "# if we only need the indices we get the length and use range\n",
    "n = len(sequences)\n",
    "for idx1 in range(n):\n",
    "    for idx2 in range(n):\n",
    "        print(idx1, idx2)"
   ]
  },
  {
   "cell_type": "code",
   "execution_count": 63,
   "metadata": {},
   "outputs": [
    {
     "name": "stdout",
     "output_type": "stream",
     "text": [
      "0 0\n",
      "AACGTCCCAG AACGTCCCAG\n",
      "0 1\n",
      "AACGTCCCAG AACATG\n",
      "0 2\n",
      "AACGTCCCAG GTTCCCGTTAC\n",
      "0 3\n",
      "AACGTCCCAG AAACGTTA\n",
      "0 4\n",
      "AACGTCCCAG ATAACGTAA\n",
      "1 0\n",
      "AACATG AACGTCCCAG\n",
      "1 1\n",
      "AACATG AACATG\n",
      "1 2\n",
      "AACATG GTTCCCGTTAC\n",
      "1 3\n",
      "AACATG AAACGTTA\n",
      "1 4\n",
      "AACATG ATAACGTAA\n",
      "2 0\n",
      "GTTCCCGTTAC AACGTCCCAG\n",
      "2 1\n",
      "GTTCCCGTTAC AACATG\n",
      "2 2\n",
      "GTTCCCGTTAC GTTCCCGTTAC\n",
      "2 3\n",
      "GTTCCCGTTAC AAACGTTA\n",
      "2 4\n",
      "GTTCCCGTTAC ATAACGTAA\n",
      "3 0\n",
      "AAACGTTA AACGTCCCAG\n",
      "3 1\n",
      "AAACGTTA AACATG\n",
      "3 2\n",
      "AAACGTTA GTTCCCGTTAC\n",
      "3 3\n",
      "AAACGTTA AAACGTTA\n",
      "3 4\n",
      "AAACGTTA ATAACGTAA\n",
      "4 0\n",
      "ATAACGTAA AACGTCCCAG\n",
      "4 1\n",
      "ATAACGTAA AACATG\n",
      "4 2\n",
      "ATAACGTAA GTTCCCGTTAC\n",
      "4 3\n",
      "ATAACGTAA AAACGTTA\n",
      "4 4\n",
      "ATAACGTAA ATAACGTAA\n"
     ]
    }
   ],
   "source": [
    "# if we need the sequence and indices can use enumerate\n",
    "for idx1, seq1 in enumerate(sequences):\n",
    "    for idx2, seq2 in enumerate(sequences):\n",
    "        print(idx1, idx2)\n",
    "        print(seq1, seq2)"
   ]
  },
  {
   "cell_type": "code",
   "execution_count": 64,
   "metadata": {},
   "outputs": [
    {
     "name": "stdout",
     "output_type": "stream",
     "text": [
      "0 1\n",
      "0 2\n",
      "0 3\n",
      "0 4\n",
      "1 2\n",
      "1 3\n",
      "1 4\n",
      "2 3\n",
      "2 4\n",
      "3 4\n"
     ]
    }
   ],
   "source": [
    "# we do not want combinations of indicies that are the same  \n",
    "# also the second index should always be higher so we do not have \n",
    "# \"AAA\"+\"CCC\" and \"CCC\"+\"AAA\" one of them is enough\n",
    "# we can achieve that if we only take higher indices in the second for loop \n",
    "# so the second range should start from idx1 + 1\n",
    "\n",
    "n = len(sequences)\n",
    "for idx1 in range(n):\n",
    "    for idx2 in range(idx1 + 1, n):\n",
    "        print(idx1, idx2)"
   ]
  },
  {
   "cell_type": "code",
   "execution_count": 65,
   "metadata": {},
   "outputs": [
    {
     "name": "stdout",
     "output_type": "stream",
     "text": [
      "0 1\n",
      "AACGTCCCAG AACATG\n",
      "0 2\n",
      "AACGTCCCAG GTTCCCGTTAC\n",
      "0 3\n",
      "AACGTCCCAG AAACGTTA\n",
      "0 4\n",
      "AACGTCCCAG ATAACGTAA\n",
      "1 2\n",
      "AACATG GTTCCCGTTAC\n",
      "1 3\n",
      "AACATG AAACGTTA\n",
      "1 4\n",
      "AACATG ATAACGTAA\n",
      "2 3\n",
      "GTTCCCGTTAC AAACGTTA\n",
      "2 4\n",
      "GTTCCCGTTAC ATAACGTAA\n",
      "3 4\n",
      "AAACGTTA ATAACGTAA\n"
     ]
    }
   ],
   "source": [
    "# now let's combine the sequences \n",
    "# we use + to do string concatenation\n",
    "# we put a space just to know what is going on at this step\n",
    "\n",
    "n = len(sequences)\n",
    "for idx1 in range(n):\n",
    "    for idx2 in range(idx1 + 1, n):\n",
    "        print(idx1, idx2)\n",
    "        print(sequences[idx1] + \" \" +  sequences[idx2])"
   ]
  },
  {
   "cell_type": "code",
   "execution_count": 66,
   "metadata": {},
   "outputs": [
    {
     "name": "stdout",
     "output_type": "stream",
     "text": [
      "AACGTCCCAG AACATG AACGTCCCAGAACATG 50.0\n",
      "AACGTCCCAG GTTCCCGTTAC AACGTCCCAGGTTCCCGTTAC 57.142857142857146\n",
      "AACGTCCCAG AAACGTTA AACGTCCCAGAAACGTTA 44.44444444444444\n",
      "AACGTCCCAG ATAACGTAA AACGTCCCAGATAACGTAA 42.10526315789474\n",
      "AACATG GTTCCCGTTAC AACATGGTTCCCGTTAC 47.05882352941177\n",
      "AACATG AAACGTTA AACATGAAACGTTA 28.571428571428573\n",
      "AACATG ATAACGTAA AACATGATAACGTAA 26.666666666666668\n",
      "GTTCCCGTTAC AAACGTTA GTTCCCGTTACAAACGTTA 42.10526315789474\n",
      "GTTCCCGTTAC ATAACGTAA GTTCCCGTTACATAACGTAA 40.0\n",
      "AAACGTTA ATAACGTAA AAACGTTAATAACGTAA 23.529411764705884\n"
     ]
    }
   ],
   "source": [
    "# now let's compute the GC content\n",
    "# and print all required elements seq1, seq2, combination and GC content\n",
    "\n",
    "n = len(sequences)\n",
    "for idx1 in range(n):\n",
    "    for idx2 in range(idx1 + 1, n):\n",
    "        seq1 = sequences[idx1] \n",
    "        seq2 = sequences[idx2]\n",
    "        comb_seq = seq1 + seq2\n",
    "        GC = 100 * (comb_seq.count(\"C\") + comb_seq.count(\"G\"))/len(comb_seq)\n",
    "        print(seq1, seq2, comb_seq, GC)"
   ]
  },
  {
   "cell_type": "code",
   "execution_count": 67,
   "metadata": {},
   "outputs": [
    {
     "data": {
      "text/plain": [
       "('AACGTCCCAG', 'GTTCCCGTTAC', 'AACGTCCCAGGTTCCCGTTAC', 57.142857142857146)"
      ]
     },
     "execution_count": 67,
     "metadata": {},
     "output_type": "execute_result"
    }
   ],
   "source": [
    "# now we find the max GC\n",
    "# start with a low max and then we check each GC and keep track of the current GC max\n",
    "# we also keep track of the other elements we want to return: seq1, seq2, combination\n",
    "\n",
    "\n",
    "n = len(sequences)\n",
    "max_GC = -1 # low and impossible CG\n",
    "best_comb_tup = (\"\",\"\",\"\", max_GC) # prepare the tuple we want to retrieve\n",
    "\n",
    "for idx1 in range(n):\n",
    "    for idx2 in range(idx1 + 1, n):\n",
    "        seq1 = sequences[idx1] \n",
    "        seq2 = sequences[idx2]\n",
    "        comb_seq = seq1 + seq2\n",
    "        GC = 100 * (comb_seq.count(\"C\") + comb_seq.count(\"G\"))/len(comb_seq)\n",
    "        # comapre the newly computed GC with the current max_GC and if higher \n",
    "        # it is the new current max_GC \n",
    "        # we also keep track of the result we want to retrieve\n",
    "        if GC > max_GC:\n",
    "            max_GC = GC\n",
    "            best_comb_tup = (seq1, seq2, comb_seq, max_GC)\n",
    "            \n",
    "best_comb_tup\n"
   ]
  },
  {
   "cell_type": "code",
   "execution_count": null,
   "metadata": {},
   "outputs": [],
   "source": []
  },
  {
   "cell_type": "code",
   "execution_count": null,
   "metadata": {},
   "outputs": [],
   "source": []
  },
  {
   "cell_type": "code",
   "execution_count": null,
   "metadata": {},
   "outputs": [],
   "source": []
  }
 ],
 "metadata": {
  "kernelspec": {
   "display_name": "Python 3 (ipykernel)",
   "language": "python",
   "name": "python3"
  },
  "language_info": {
   "codemirror_mode": {
    "name": "ipython",
    "version": 3
   },
   "file_extension": ".py",
   "mimetype": "text/x-python",
   "name": "python",
   "nbconvert_exporter": "python",
   "pygments_lexer": "ipython3",
   "version": "3.9.12"
  }
 },
 "nbformat": 4,
 "nbformat_minor": 4
}
